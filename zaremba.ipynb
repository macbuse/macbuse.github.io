{
 "cells": [
  {
   "cell_type": "code",
   "execution_count": 1,
   "id": "0516cc46-caf6-44b8-9f4c-9167014171a2",
   "metadata": {},
   "outputs": [],
   "source": [
    "import numpy as np"
   ]
  },
  {
   "cell_type": "code",
   "execution_count": 3,
   "id": "e314d26b-ad11-43b8-bf6a-b1d6d2478a83",
   "metadata": {},
   "outputs": [],
   "source": [
    "def M(n):\n",
    "    A = [0,1,1,n]\n",
    "    return np.array(A, dtype=int).reshape(2,2)\n"
   ]
  },
  {
   "cell_type": "code",
   "execution_count": 4,
   "id": "3d89e9d4-824d-40ba-af89-3d70c2d4c4f5",
   "metadata": {},
   "outputs": [],
   "source": [
    "A= M(1)\n",
    "B = M(2)"
   ]
  },
  {
   "cell_type": "code",
   "execution_count": 5,
   "id": "2d0a2433-9cd3-48e9-8445-02faee52ab6a",
   "metadata": {},
   "outputs": [
    {
     "data": {
      "text/plain": [
       "array([[2, 3],\n",
       "       [3, 4]])"
      ]
     },
     "execution_count": 5,
     "metadata": {},
     "output_type": "execute_result"
    }
   ],
   "source": [
    "A @ B @ A"
   ]
  },
  {
   "cell_type": "code",
   "execution_count": 8,
   "id": "2aad1266-8118-4ae0-99ba-1d28f0dd0cde",
   "metadata": {},
   "outputs": [],
   "source": [
    "MM = [M(n) for n in range(0,5)]\n",
    "\n",
    "def word2mat(ss='01'):\n",
    "    T = np.identity(2).astype(int)\n",
    "    for c in ss:\n",
    "        T = MM[int(c)] @ T\n",
    "    return T, [int(c) for c in ss]\n",
    "        "
   ]
  },
  {
   "cell_type": "code",
   "execution_count": 9,
   "id": "2d0f4c54-413f-4161-b219-33196ce1d4b5",
   "metadata": {},
   "outputs": [],
   "source": [
    "BB, LL = word2mat('11112212')"
   ]
  },
  {
   "cell_type": "code",
   "execution_count": 11,
   "id": "64c60254-e904-497f-b3d3-9cb0c2e6cd39",
   "metadata": {},
   "outputs": [
    {
     "data": {
      "text/plain": [
       "(array([[ 27,  44],\n",
       "        [ 73, 119]]),\n",
       " [1, 1, 1, 1, 2, 2, 1, 2])"
      ]
     },
     "execution_count": 11,
     "metadata": {},
     "output_type": "execute_result"
    }
   ],
   "source": [
    "BB, LL"
   ]
  },
  {
   "cell_type": "code",
   "execution_count": 89,
   "id": "1e7780f8-0916-40d7-ae19-77f625c28656",
   "metadata": {},
   "outputs": [],
   "source": [
    "DD = []\n",
    "for x in LL:\n",
    "    Y = MM[x]\n",
    "    y = Y - Y[1,1]*np.identity(2,dtype=int)\n",
    "    BB = Y @ BB @ y\n",
    "    DD.append(BB)\n",
    "    "
   ]
  },
  {
   "cell_type": "code",
   "execution_count": 90,
   "id": "76e1d177-7b87-4d40-b33d-901a840fca37",
   "metadata": {},
   "outputs": [],
   "source": [
    "XX = np.array(DD).flatten()"
   ]
  },
  {
   "cell_type": "code",
   "execution_count": 91,
   "id": "7440a93a-bb09-4bc4-b459-6620a5c030d7",
   "metadata": {},
   "outputs": [],
   "source": [
    "XX.sort()"
   ]
  },
  {
   "cell_type": "code",
   "execution_count": 92,
   "id": "0a8b6497-50f3-4739-be60-802c68a1b9c0",
   "metadata": {},
   "outputs": [
    {
     "data": {
      "text/plain": [
       "{18,\n",
       " 27,\n",
       " 30,\n",
       " 31,\n",
       " 34,\n",
       " 37,\n",
       " 44,\n",
       " 45,\n",
       " 46,\n",
       " 47,\n",
       " 49,\n",
       " 63,\n",
       " 64,\n",
       " 71,\n",
       " 73,\n",
       " 81,\n",
       " 100,\n",
       " 101,\n",
       " 109,\n",
       " 112,\n",
       " 115,\n",
       " 116,\n",
       " 119,\n",
       " 128}"
      ]
     },
     "execution_count": 92,
     "metadata": {},
     "output_type": "execute_result"
    }
   ],
   "source": [
    "set(XX)"
   ]
  },
  {
   "cell_type": "code",
   "execution_count": 87,
   "id": "05511466-bc72-46b8-8222-b4542a3c4864",
   "metadata": {},
   "outputs": [
    {
     "data": {
      "text/plain": [
       "[array([[11, 26],\n",
       "        [19, 45]]),\n",
       " array([[ 7, 19],\n",
       "        [18, 49]]),\n",
       " array([[13, 18],\n",
       "        [31, 43]]),\n",
       " array([[12, 31],\n",
       "        [17, 44]]),\n",
       " array([[10, 17],\n",
       "        [27, 46]]),\n",
       " array([[19, 27],\n",
       "        [26, 37]])]"
      ]
     },
     "execution_count": 87,
     "metadata": {},
     "output_type": "execute_result"
    }
   ],
   "source": [
    "DD"
   ]
  },
  {
   "cell_type": "code",
   "execution_count": null,
   "id": "0f1a11ed-da8f-4a78-8fb3-6264029fe44e",
   "metadata": {},
   "outputs": [],
   "source": []
  }
 ],
 "metadata": {
  "kernelspec": {
   "display_name": "Python 3 (ipykernel)",
   "language": "python",
   "name": "python3"
  },
  "language_info": {
   "codemirror_mode": {
    "name": "ipython",
    "version": 3
   },
   "file_extension": ".py",
   "mimetype": "text/x-python",
   "name": "python",
   "nbconvert_exporter": "python",
   "pygments_lexer": "ipython3",
   "version": "3.11.5"
  }
 },
 "nbformat": 4,
 "nbformat_minor": 5
}
