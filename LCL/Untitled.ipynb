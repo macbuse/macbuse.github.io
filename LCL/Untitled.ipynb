{
 "cells": [
  {
   "cell_type": "code",
   "execution_count": 3,
   "id": "396d6c80-f251-45f8-b7d0-76956caf13a4",
   "metadata": {},
   "outputs": [],
   "source": [
    "import os"
   ]
  },
  {
   "cell_type": "code",
   "execution_count": 6,
   "id": "03bc7a3a-7b68-476c-ac38-bd489f23432f",
   "metadata": {},
   "outputs": [],
   "source": [
    "ff = [fn for fn in os.listdir('.')]"
   ]
  },
  {
   "cell_type": "code",
   "execution_count": 9,
   "id": "ac93b36d-9ed0-45f9-b648-57c7c1b600b2",
   "metadata": {},
   "outputs": [
    {
     "data": {
      "text/plain": [
       "['[COMPTEDEDEP¿_TS_02649195849_20170905.pdf](./COMPTEDEDEP¿_TS_02649195849_20170905.pdf]<br>',\n",
       " '[COMPTEDEDEP¿_TS_02649195849_20151105.pdf](./COMPTEDEDEP¿_TS_02649195849_20151105.pdf]<br>',\n",
       " '[COMPTEDEDEP¿_TS_02649195849_20201105.pdf](./COMPTEDEDEP¿_TS_02649195849_20201105.pdf]<br>',\n",
       " '[COMPTEDEDEP¿_TS_02649195849_20170405.pdf](./COMPTEDEDEP¿_TS_02649195849_20170405.pdf]<br>',\n",
       " '[COMPTEDEDEP¿_TS_02649195849_20171103.pdf](./COMPTEDEDEP¿_TS_02649195849_20171103.pdf]<br>',\n",
       " '[COMPTEDEDEP¿_TS_02649195849_20181105.pdf](./COMPTEDEDEP¿_TS_02649195849_20181105.pdf]<br>',\n",
       " '[COMPTEDEDEP¿_TS_02649195849_20180205.pdf](./COMPTEDEDEP¿_TS_02649195849_20180205.pdf]<br>',\n",
       " '[COMPTEDEDEP¿_TS_02649195849_20190705.pdf](./COMPTEDEDEP¿_TS_02649195849_20190705.pdf]<br>',\n",
       " '[COMPTEDEDEP¿_TS_02649195849_20150605.pdf](./COMPTEDEDEP¿_TS_02649195849_20150605.pdf]<br>',\n",
       " '[COMPTEDEDEP¿_TS_02649195849_20180803.pdf](./COMPTEDEDEP¿_TS_02649195849_20180803.pdf]<br>',\n",
       " '[COMPTEDEDEP¿_TS_02649195849_20191004.pdf](./COMPTEDEDEP¿_TS_02649195849_20191004.pdf]<br>',\n",
       " '[COMPTEDEDEP¿_TS_02649195849_20171205.pdf](./COMPTEDEDEP¿_TS_02649195849_20171205.pdf]<br>',\n",
       " '[COMPTEDEDEP¿_TS_02649195849_20201204.pdf](./COMPTEDEDEP¿_TS_02649195849_20201204.pdf]<br>',\n",
       " '[COMPTEDEDEP¿_TS_02649195849_20171005.pdf](./COMPTEDEDEP¿_TS_02649195849_20171005.pdf]<br>',\n",
       " '[COMPTEDEDEP¿_TS_02649195849_20181205.pdf](./COMPTEDEDEP¿_TS_02649195849_20181205.pdf]<br>',\n",
       " '[COMPTEDEDEP¿_TS_02649195849_20180605.pdf](./COMPTEDEDEP¿_TS_02649195849_20180605.pdf]<br>',\n",
       " '[COMPTEDEDEP¿_TS_02649195849_20190104.pdf](./COMPTEDEDEP¿_TS_02649195849_20190104.pdf]<br>',\n",
       " '[COMPTEDEDEP¿_TS_02649195849_20150305.pdf](./COMPTEDEDEP¿_TS_02649195849_20150305.pdf]<br>',\n",
       " '[COMPTEDEDEP¿_TS_02649195849_20200805.pdf](./COMPTEDEDEP¿_TS_02649195849_20200805.pdf]<br>',\n",
       " '[COMPTEDEDEP¿_TS_02649195849_20180105.pdf](./COMPTEDEDEP¿_TS_02649195849_20180105.pdf]<br>',\n",
       " '[COMPTEDEDEP¿_TS_02649195849_20150505.pdf](./COMPTEDEDEP¿_TS_02649195849_20150505.pdf]<br>',\n",
       " '[COMPTEDEDEP¿_TS_02649195849_20180705.pdf](./COMPTEDEDEP¿_TS_02649195849_20180705.pdf]<br>',\n",
       " '[COMPTEDEDEP¿_TS_02649195849_20201005 (1).pdf](./COMPTEDEDEP¿_TS_02649195849_20201005 (1).pdf]<br>',\n",
       " '[COMPTEDEDEP¿_TS_02649195849_20170105.pdf](./COMPTEDEDEP¿_TS_02649195849_20170105.pdf]<br>',\n",
       " '[COMPTEDEDEP¿_TS_02649195849_20151204.pdf](./COMPTEDEDEP¿_TS_02649195849_20151204.pdf]<br>',\n",
       " '[COMPTEDEDEP¿_TS_02649195849_20170804.pdf](./COMPTEDEDEP¿_TS_02649195849_20170804.pdf]<br>',\n",
       " '[COMPTEDEDEP¿_TS_02649195849_20190905.pdf](./COMPTEDEDEP¿_TS_02649195849_20190905.pdf]<br>',\n",
       " '[COMPTEDEDEP¿_TS_02649195849_20190805.pdf](./COMPTEDEDEP¿_TS_02649195849_20190805.pdf]<br>',\n",
       " '[COMPTEDEDEP¿_TS_02649195849_20190405.pdf](./COMPTEDEDEP¿_TS_02649195849_20190405.pdf]<br>',\n",
       " '[COMPTEDEDEP¿_TS_02649195849_20200403.pdf](./COMPTEDEDEP¿_TS_02649195849_20200403.pdf]<br>',\n",
       " '[COMPTEDEDEP¿_TS_02649195849_20151005.pdf](./COMPTEDEDEP¿_TS_02649195849_20151005.pdf]<br>',\n",
       " '[COMPTEDEDEP¿_TS_02649195849_20170705 (1).pdf](./COMPTEDEDEP¿_TS_02649195849_20170705 (1).pdf]<br>',\n",
       " '[COMPTEDEDEP¿_TS_02649195849_20150904.pdf](./COMPTEDEDEP¿_TS_02649195849_20150904.pdf]<br>',\n",
       " '[COMPTEDEDEP¿_TS_02649195849_20180504.pdf](./COMPTEDEDEP¿_TS_02649195849_20180504.pdf]<br>',\n",
       " '[COMPTEDEDEP¿_TS_02649195849_20191205.pdf](./COMPTEDEDEP¿_TS_02649195849_20191205.pdf]<br>',\n",
       " '[COMPTEDEDEP¿_TS_02649195849_20200703.pdf](./COMPTEDEDEP¿_TS_02649195849_20200703.pdf]<br>',\n",
       " '[COMPTEDEDEP¿_TS_02649195849_20190805 (1).pdf](./COMPTEDEDEP¿_TS_02649195849_20190805 (1).pdf]<br>',\n",
       " '[COMPTEDEDEP¿_TS_02649195849_20190205.pdf](./COMPTEDEDEP¿_TS_02649195849_20190205.pdf]<br>',\n",
       " '[COMPTEDEDEP¿_TS_02649195849_20180905.pdf](./COMPTEDEDEP¿_TS_02649195849_20180905.pdf]<br>',\n",
       " '[Untitled.ipynb](./Untitled.ipynb]<br>',\n",
       " '[COMPTEDEDEP¿_TS_02649195849_20170602.pdf](./COMPTEDEDEP¿_TS_02649195849_20170602.pdf]<br>',\n",
       " '[COMPTEDEDEP¿_TS_02649195849_20190605.pdf](./COMPTEDEDEP¿_TS_02649195849_20190605.pdf]<br>',\n",
       " '[COMPTEDEDEP¿_TS_02649195849_20190305.pdf](./COMPTEDEDEP¿_TS_02649195849_20190305.pdf]<br>',\n",
       " '[COMPTEDEDEP¿_TS_02649195849_20150403.pdf](./COMPTEDEDEP¿_TS_02649195849_20150403.pdf]<br>',\n",
       " '[COMPTEDEDEP¿_TS_02649195849_20200605.pdf](./COMPTEDEDEP¿_TS_02649195849_20200605.pdf]<br>',\n",
       " '[COMPTEDEDEP¿_TS_02649195849_20200305.pdf](./COMPTEDEDEP¿_TS_02649195849_20200305.pdf]<br>',\n",
       " '[COMPTEDEDEP¿_TS_02649195849_20180405.pdf](./COMPTEDEDEP¿_TS_02649195849_20180405.pdf]<br>',\n",
       " '[COMPTEDEDEP¿_TS_02649195849_20170705.pdf](./COMPTEDEDEP¿_TS_02649195849_20170705.pdf]<br>',\n",
       " '[COMPTEDEDEP¿_TS_02649195849_20170505.pdf](./COMPTEDEDEP¿_TS_02649195849_20170505.pdf]<br>',\n",
       " '[COMPTEDEDEP¿_TS_02649195849_20200205.pdf](./COMPTEDEDEP¿_TS_02649195849_20200205.pdf]<br>',\n",
       " '[COMPTEDEDEP¿_TS_02649195849_20150703.pdf](./COMPTEDEDEP¿_TS_02649195849_20150703.pdf]<br>',\n",
       " '[COMPTEDEDEP¿_TS_02649195849_20200505.pdf](./COMPTEDEDEP¿_TS_02649195849_20200505.pdf]<br>',\n",
       " '[COMPTEDEDEP¿_TS_02649195849_20201005.pdf](./COMPTEDEDEP¿_TS_02649195849_20201005.pdf]<br>',\n",
       " '[COMPTEDEDEP¿_TS_02649195849_20150805.pdf](./COMPTEDEDEP¿_TS_02649195849_20150805.pdf]<br>',\n",
       " '[.ipynb_checkpoints](./.ipynb_checkpoints]<br>',\n",
       " '[COMPTEDEDEP¿_TS_02649195849_20181005.pdf](./COMPTEDEDEP¿_TS_02649195849_20181005.pdf]<br>',\n",
       " '[COMPTEDEDEP¿_TS_02649195849_20170303.pdf](./COMPTEDEDEP¿_TS_02649195849_20170303.pdf]<br>',\n",
       " '[COMPTEDEDEP¿_TS_02649195849_20170203.pdf](./COMPTEDEDEP¿_TS_02649195849_20170203.pdf]<br>',\n",
       " '[COMPTEDEDEP¿_TS_02649195849_20191105.pdf](./COMPTEDEDEP¿_TS_02649195849_20191105.pdf]<br>',\n",
       " '[COMPTEDEDEP¿_TS_02649195849_20200103.pdf](./COMPTEDEDEP¿_TS_02649195849_20200103.pdf]<br>',\n",
       " '[COMPTEDEDEP¿_TS_02649195849_20180305.pdf](./COMPTEDEDEP¿_TS_02649195849_20180305.pdf]<br>',\n",
       " '[COMPTEDEDEP¿_TS_02649195849_20190503.pdf](./COMPTEDEDEP¿_TS_02649195849_20190503.pdf]<br>']"
      ]
     },
     "execution_count": 9,
     "metadata": {},
     "output_type": "execute_result"
    }
   ],
   "source": [
    "[f'[{x}](./{x}]<br>' for x in ff]"
   ]
  },
  {
   "cell_type": "code",
   "execution_count": null,
   "id": "899de392-8748-48d6-b0b7-5f8dc8f3a853",
   "metadata": {},
   "outputs": [],
   "source": []
  }
 ],
 "metadata": {
  "kernelspec": {
   "display_name": "Python 3 (ipykernel)",
   "language": "python",
   "name": "python3"
  },
  "language_info": {
   "codemirror_mode": {
    "name": "ipython",
    "version": 3
   },
   "file_extension": ".py",
   "mimetype": "text/x-python",
   "name": "python",
   "nbconvert_exporter": "python",
   "pygments_lexer": "ipython3",
   "version": "3.9.12"
  },
  "widgets": {
   "application/vnd.jupyter.widget-state+json": {
    "state": {},
    "version_major": 2,
    "version_minor": 0
   }
  }
 },
 "nbformat": 4,
 "nbformat_minor": 5
}
