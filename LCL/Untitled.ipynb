{
 "cells": [
  {
   "cell_type": "code",
   "execution_count": 3,
   "id": "396d6c80-f251-45f8-b7d0-76956caf13a4",
   "metadata": {},
   "outputs": [],
   "source": [
    "import os"
   ]
  },
  {
   "cell_type": "code",
   "execution_count": 6,
   "id": "03bc7a3a-7b68-476c-ac38-bd489f23432f",
   "metadata": {},
   "outputs": [],
   "source": [
    "ff = [fn for fn in os.listdir('.')]"
   ]
  },
  {
   "cell_type": "code",
   "execution_count": 11,
   "id": "ac93b36d-9ed0-45f9-b648-57c7c1b600b2",
   "metadata": {},
   "outputs": [],
   "source": [
    "ss = '\\n'.join([f'[{x}](./{x}]<br>' for x in ff])\n",
    "\n",
    "with open('index.md','w') as fp:\n",
    "    fp.write(ss)"
   ]
  },
  {
   "cell_type": "code",
   "execution_count": null,
   "id": "899de392-8748-48d6-b0b7-5f8dc8f3a853",
   "metadata": {},
   "outputs": [],
   "source": []
  }
 ],
 "metadata": {
  "kernelspec": {
   "display_name": "Python 3 (ipykernel)",
   "language": "python",
   "name": "python3"
  },
  "language_info": {
   "codemirror_mode": {
    "name": "ipython",
    "version": 3
   },
   "file_extension": ".py",
   "mimetype": "text/x-python",
   "name": "python",
   "nbconvert_exporter": "python",
   "pygments_lexer": "ipython3",
   "version": "3.9.12"
  },
  "widgets": {
   "application/vnd.jupyter.widget-state+json": {
    "state": {},
    "version_major": 2,
    "version_minor": 0
   }
  }
 },
 "nbformat": 4,
 "nbformat_minor": 5
}
