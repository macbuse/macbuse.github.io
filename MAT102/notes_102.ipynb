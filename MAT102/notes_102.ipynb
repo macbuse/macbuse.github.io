{
 "cells": [
  {
   "cell_type": "code",
   "execution_count": 3,
   "id": "f2967ed7-b284-4b7a-aab0-a84f380b8096",
   "metadata": {},
   "outputs": [],
   "source": [
    "ss = '''10 11 8.5 8.5 BARBERET AXEL\n",
    "7 7.5 6.5 7 CAMBERLIN JEAN\n",
    "7.5 3 4 8.5 CHABANE SERINE\n",
    "9 7.5 2.5 3.5 CIOLEK SZYMON\n",
    "5 4 6.5 6.5 DENEUCHE ARTHUR\n",
    "10 13 6.5 7 DIALLO ALPHA \n",
    "10 9.5 9.5 10 ERDEMIR ASYA\n",
    "5 3.5 7 7 FAYOLLE VALENTINE\n",
    "10 6 6.5 8 FERNANDES LARA\n",
    "8 7 9 8 GOULAMABASSE MOUNIRA\n",
    "10 7 4 7 HADDAD NAEL\n",
    "7.5 4 5 5 HAMMADI MOLKA\n",
    "9 16 7 7.5 HERNANDEZ MELINA\n",
    "8 14 8 9.5 LATAPIE ALEX\n",
    "10 13 7 9.5 LOUIS JANICE\n",
    "10 9.5 6 9 MAIZI ELSA\n",
    "10 10.5  8.5 9 MAHIOUT MARWANE\n",
    "9 12.5 10 9.5 MHIJY YASMINE\n",
    "4 6.5 4.5 4 MORADI MOHAMMADPARSA\n",
    "8 6 2 4 NACER LYNNA\n",
    "10 14.5 6.5 8 PECULIER CHARLINE\n",
    "6.5 6.5 9.5 9.5 PLAKHOTA SOFIIA\n",
    "9 1.5 10 9 RAHMOUNI CAMILIA\n",
    "10 12.5  8.5 9 RATTIN FLORIANE\n",
    "2.5 4 2 6 ROTOLONI ANEAS\n",
    "10 8.5 10 10 SALLOUM REBECCA\n",
    "5 1.5 2 3.5 SEBAN LEONA\n",
    "10 6 5.5 7 SOULIER THOMAS\n",
    "'''\n"
   ]
  },
  {
   "cell_type": "code",
   "execution_count": 5,
   "id": "8a7e7a24-7c44-4de5-bc95-2d8011876d49",
   "metadata": {},
   "outputs": [],
   "source": [
    "rows = [ x for x in ss.split(\"\\n\")]\n"
   ]
  },
  {
   "cell_type": "code",
   "execution_count": 22,
   "id": "83dcf574-da59-4ba1-9bc1-54cc9ac845f4",
   "metadata": {},
   "outputs": [],
   "source": [
    "import pandas as pd"
   ]
  },
  {
   "cell_type": "code",
   "execution_count": 41,
   "id": "e2e146f5-6a98-403c-9681-ce2183d1c172",
   "metadata": {},
   "outputs": [],
   "source": [
    "df = pd.DataFrame(notes)\n",
    "df[\"nom\"] = names\n",
    "with open('greg_notes.csv','w') as fp:\n",
    "    df.to_csv(fp)"
   ]
  },
  {
   "cell_type": "code",
   "execution_count": 37,
   "id": "95ea3281-d5db-4d03-be13-20eff869d241",
   "metadata": {},
   "outputs": [],
   "source": [
    "names = [' '.join(r.split()[4:]) for r in rows[:-1]]\n",
    "notes = list(zip(*[[float(x)for x in r.split()[:4]]  for r in rows[:-1]]))\n",
    "\n",
    "notes = { i:j for i,j in zip([\"cc3/10\", \"partiel/20\", \"cc2/10\",\"cc1/10\"], notes)}"
   ]
  },
  {
   "cell_type": "code",
   "execution_count": 27,
   "id": "e429469a-4267-46de-a31e-9e3ca7cc55c4",
   "metadata": {},
   "outputs": [
    {
     "data": {
      "text/plain": [
       "[(10.0,\n",
       "  7.0,\n",
       "  7.5,\n",
       "  9.0,\n",
       "  5.0,\n",
       "  10.0,\n",
       "  10.0,\n",
       "  5.0,\n",
       "  10.0,\n",
       "  8.0,\n",
       "  10.0,\n",
       "  7.5,\n",
       "  9.0,\n",
       "  8.0,\n",
       "  10.0,\n",
       "  10.0,\n",
       "  10.0,\n",
       "  9.0,\n",
       "  4.0,\n",
       "  8.0,\n",
       "  10.0,\n",
       "  6.5,\n",
       "  9.0,\n",
       "  10.0,\n",
       "  2.5,\n",
       "  10.0,\n",
       "  5.0,\n",
       "  10.0),\n",
       " (11.0,\n",
       "  7.5,\n",
       "  3.0,\n",
       "  7.5,\n",
       "  4.0,\n",
       "  13.0,\n",
       "  9.5,\n",
       "  3.5,\n",
       "  6.0,\n",
       "  7.0,\n",
       "  7.0,\n",
       "  4.0,\n",
       "  16.0,\n",
       "  14.0,\n",
       "  13.0,\n",
       "  9.5,\n",
       "  10.5,\n",
       "  12.5,\n",
       "  6.5,\n",
       "  6.0,\n",
       "  14.5,\n",
       "  6.5,\n",
       "  1.5,\n",
       "  12.5,\n",
       "  4.0,\n",
       "  8.5,\n",
       "  1.5,\n",
       "  6.0),\n",
       " (8.5,\n",
       "  6.5,\n",
       "  4.0,\n",
       "  2.5,\n",
       "  6.5,\n",
       "  6.5,\n",
       "  9.5,\n",
       "  7.0,\n",
       "  6.5,\n",
       "  9.0,\n",
       "  4.0,\n",
       "  5.0,\n",
       "  7.0,\n",
       "  8.0,\n",
       "  7.0,\n",
       "  6.0,\n",
       "  8.5,\n",
       "  10.0,\n",
       "  4.5,\n",
       "  2.0,\n",
       "  6.5,\n",
       "  9.5,\n",
       "  10.0,\n",
       "  8.5,\n",
       "  2.0,\n",
       "  10.0,\n",
       "  2.0,\n",
       "  5.5),\n",
       " (8.5,\n",
       "  7.0,\n",
       "  8.5,\n",
       "  3.5,\n",
       "  6.5,\n",
       "  7.0,\n",
       "  10.0,\n",
       "  7.0,\n",
       "  8.0,\n",
       "  8.0,\n",
       "  7.0,\n",
       "  5.0,\n",
       "  7.5,\n",
       "  9.5,\n",
       "  9.5,\n",
       "  9.0,\n",
       "  9.0,\n",
       "  9.5,\n",
       "  4.0,\n",
       "  4.0,\n",
       "  8.0,\n",
       "  9.5,\n",
       "  9.0,\n",
       "  9.0,\n",
       "  6.0,\n",
       "  10.0,\n",
       "  3.5,\n",
       "  7.0)]"
      ]
     },
     "execution_count": 27,
     "metadata": {},
     "output_type": "execute_result"
    }
   ],
   "source": [
    "notes\n"
   ]
  },
  {
   "cell_type": "code",
   "execution_count": null,
   "id": "55d383df-1b71-4132-89c6-2034c4b9b06a",
   "metadata": {},
   "outputs": [],
   "source": []
  }
 ],
 "metadata": {
  "kernelspec": {
   "display_name": "Python 3 (ipykernel)",
   "language": "python",
   "name": "python3"
  },
  "language_info": {
   "codemirror_mode": {
    "name": "ipython",
    "version": 3
   },
   "file_extension": ".py",
   "mimetype": "text/x-python",
   "name": "python",
   "nbconvert_exporter": "python",
   "pygments_lexer": "ipython3",
   "version": "3.9.12"
  },
  "widgets": {
   "application/vnd.jupyter.widget-state+json": {
    "state": {},
    "version_major": 2,
    "version_minor": 0
   }
  }
 },
 "nbformat": 4,
 "nbformat_minor": 5
}
