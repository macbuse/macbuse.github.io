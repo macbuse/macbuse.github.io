{
 "cells": [
  {
   "cell_type": "code",
   "execution_count": 1,
   "id": "5c1b554d-67cc-417a-83e0-1bb8166d23fe",
   "metadata": {},
   "outputs": [],
   "source": [
    "import pandas as pd\n",
    "# this is to avoid getting warnings\n",
    "pd.options.mode.chained_assignment = None"
   ]
  },
  {
   "cell_type": "code",
   "execution_count": 2,
   "id": "73ebae8d-2a6f-4c9c-adf3-36635abc3eba",
   "metadata": {},
   "outputs": [],
   "source": [
    "# load the file to a DataFrame\n",
    "df = pd.read_excel('/home/macbuse/RECRUTEMENT/MCF_153_LAST.xls')"
   ]
  },
  {
   "cell_type": "code",
   "execution_count": 3,
   "id": "91c3e142-f518-4f4d-a3d1-dc982d819f01",
   "metadata": {},
   "outputs": [
    {
     "data": {
      "text/plain": [
       "Index(['Campagne', 'Session', 'Corps', 'Section', 'Autre section', 'Article',\n",
       "       'N° emploi', 'Emplois liés', 'Profil', 'Job profile',\n",
       "       'Research fields EURAXESS', 'Implant', 'Numéro SI local',\n",
       "       'Numéro Gesup', 'Localisation', 'Vacance', 'Type de candidature',\n",
       "       'Chgt de section', 'Civilité', 'Nom', 'Nom d'usage ou marital',\n",
       "       'Prénom', 'Né(e) le', 'Unnamed: 23', 'Unnamed: 24', 'Rapporteur1',\n",
       "       'Rapporteur2', 'Avis local', 'Lieu de naissance', 'N° candidat',\n",
       "       'Référence qualif', 'Numen', 'Etat dossier', 'Détail suivi',\n",
       "       'Situation professionnelle', 'Lieu d'exercice',\n",
       "       'Ville ou pays d'exercice', 'Nationalité', 'Adresse1', 'Adresse2',\n",
       "       'Adresse3', 'Code postal', 'Code étranger', 'Ville', 'Pays',\n",
       "       'Téléphone', 'Autre tél', 'Fax', 'Email', 'Candidat local', 'Chercheur',\n",
       "       'Titre thèse', 'Date soutenance', 'Lieu soutenance', 'Directeur Thèse',\n",
       "       'Jury', 'N° de qualif', 'Activités enseignement', 'Theme', 'motif',\n",
       "       'Activités recherche', 'Activités administratives', 'Autres diplômes',\n",
       "       'Travaux', 'Titres', 'Note étab', 'Commentaire', 'Conditions remplies'],\n",
       "      dtype='object')"
      ]
     },
     "execution_count": 3,
     "metadata": {},
     "output_type": "execute_result"
    }
   ],
   "source": [
    "df.columns"
   ]
  },
  {
   "cell_type": "markdown",
   "id": "b0c3e04f-266d-416e-9b3e-63c6d888a874",
   "metadata": {},
   "source": [
    "---\n",
    "\n",
    "# Define constants that we'll use later"
   ]
  },
  {
   "cell_type": "code",
   "execution_count": 5,
   "id": "b21f74f2-c601-4ec9-a2b2-b760f71981cd",
   "metadata": {},
   "outputs": [],
   "source": [
    "title = \"TEST\"\n",
    "\n",
    "_header_html = f'''<!DOCTYPE html PUBLIC \"-//W3C//DTD XHTML 1.0       \n",
    "Strict//EN\" \"http://www.w3.org/TR/xhtml1/DTD/xhtml1-strict.dtd\"> \n",
    "<html xmlns=\"http://www.w3.org/1999/xhtml\" lang=\"fr\" xml:lang=\"fr\">                                                               \n",
    "<head> <title>{title}</title>                                         \n",
    "<meta http-equiv=\"content-type\" content=\"text/html; charset=UTF-8\" />                                                             \n",
    "'''     \n",
    "\n",
    "\n",
    "_thesis_fields =  ['Titre thèse', 'Date soutenance', \n",
    "                  'Lieu soutenance', 'Directeur Thèse', \n",
    "                   u'Jury']                                 \n",
    "                                                                           \n",
    "  \n",
    "_activity_fields = [ u'Situation professionnelle', \n",
    "                    u'Activités enseignement',u'Activités administratives']   \n",
    "\n",
    "_name_fields = ['Nom', 'Prénom', 'Né(e) le']\n",
    "\n",
    "_web_fields = ['google','arxiv']\n"
   ]
  },
  {
   "cell_type": "code",
   "execution_count": 97,
   "id": "6aefa1c3-6e6a-46ba-bcc4-78aa50ae2a76",
   "metadata": {},
   "outputs": [
    {
     "data": {
      "text/html": [
       "<div>\n",
       "<style scoped>\n",
       "    .dataframe tbody tr th:only-of-type {\n",
       "        vertical-align: middle;\n",
       "    }\n",
       "\n",
       "    .dataframe tbody tr th {\n",
       "        vertical-align: top;\n",
       "    }\n",
       "\n",
       "    .dataframe thead th {\n",
       "        text-align: right;\n",
       "    }\n",
       "</style>\n",
       "<table border=\"1\" class=\"dataframe\">\n",
       "  <thead>\n",
       "    <tr style=\"text-align: right;\">\n",
       "      <th></th>\n",
       "      <th>Nom</th>\n",
       "      <th>Prénom</th>\n",
       "      <th>Né(e) le</th>\n",
       "    </tr>\n",
       "  </thead>\n",
       "  <tbody>\n",
       "    <tr>\n",
       "      <th>0</th>\n",
       "      <td>ADICEAM</td>\n",
       "      <td>LAKI MICHEL FAUSTIN</td>\n",
       "      <td>20/09/1988</td>\n",
       "    </tr>\n",
       "    <tr>\n",
       "      <th>1</th>\n",
       "      <td>ALDANA DOMINGUEZ</td>\n",
       "      <td>CLARA LUCIA</td>\n",
       "      <td>04/12/1976</td>\n",
       "    </tr>\n",
       "    <tr>\n",
       "      <th>2</th>\n",
       "      <td>ANNI</td>\n",
       "      <td>SAMUELE</td>\n",
       "      <td>20/06/1985</td>\n",
       "    </tr>\n",
       "    <tr>\n",
       "      <th>3</th>\n",
       "      <td>ARANCIBIA ROBERT</td>\n",
       "      <td>NICOLAS JOSE</td>\n",
       "      <td>08/07/1985</td>\n",
       "    </tr>\n",
       "    <tr>\n",
       "      <th>4</th>\n",
       "      <td>BALKANOVA</td>\n",
       "      <td>OLGA</td>\n",
       "      <td>27/06/1988</td>\n",
       "    </tr>\n",
       "    <tr>\n",
       "      <th>...</th>\n",
       "      <td>...</td>\n",
       "      <td>...</td>\n",
       "      <td>...</td>\n",
       "    </tr>\n",
       "    <tr>\n",
       "      <th>103</th>\n",
       "      <td>VENEZIANO</td>\n",
       "      <td>FRANCESCO</td>\n",
       "      <td>06/07/1984</td>\n",
       "    </tr>\n",
       "    <tr>\n",
       "      <th>104</th>\n",
       "      <td>VIU SOS</td>\n",
       "      <td>JUAN</td>\n",
       "      <td>04/08/1987</td>\n",
       "    </tr>\n",
       "    <tr>\n",
       "      <th>105</th>\n",
       "      <td>VOGLAIRE</td>\n",
       "      <td>YANNICK</td>\n",
       "      <td>06/09/1983</td>\n",
       "    </tr>\n",
       "    <tr>\n",
       "      <th>106</th>\n",
       "      <td>ZALAMANSKY</td>\n",
       "      <td>GABRIEL</td>\n",
       "      <td>07/07/1989</td>\n",
       "    </tr>\n",
       "    <tr>\n",
       "      <th>107</th>\n",
       "      <td>ZHANG</td>\n",
       "      <td>HUAFENG</td>\n",
       "      <td>07/09/1989</td>\n",
       "    </tr>\n",
       "  </tbody>\n",
       "</table>\n",
       "<p>108 rows × 3 columns</p>\n",
       "</div>"
      ],
      "text/plain": [
       "                  Nom               Prénom    Né(e) le\n",
       "0             ADICEAM  LAKI MICHEL FAUSTIN  20/09/1988\n",
       "1    ALDANA DOMINGUEZ          CLARA LUCIA  04/12/1976\n",
       "2                ANNI              SAMUELE  20/06/1985\n",
       "3    ARANCIBIA ROBERT         NICOLAS JOSE  08/07/1985\n",
       "4           BALKANOVA                 OLGA  27/06/1988\n",
       "..                ...                  ...         ...\n",
       "103         VENEZIANO            FRANCESCO  06/07/1984\n",
       "104           VIU SOS                 JUAN  04/08/1987\n",
       "105          VOGLAIRE              YANNICK  06/09/1983\n",
       "106        ZALAMANSKY              GABRIEL  07/07/1989\n",
       "107             ZHANG              HUAFENG  07/09/1989\n",
       "\n",
       "[108 rows x 3 columns]"
      ]
     },
     "execution_count": 97,
     "metadata": {},
     "output_type": "execute_result"
    }
   ],
   "source": [
    "candidates[_name_fields]"
   ]
  },
  {
   "cell_type": "markdown",
   "id": "4fa347e5-de69-417b-9523-ade9711d04fe",
   "metadata": {},
   "source": [
    "---\n",
    "\n",
    "## Helper functions to generate requests"
   ]
  },
  {
   "cell_type": "code",
   "execution_count": 6,
   "id": "7d824f67-b593-4cca-86fe-0889299b2411",
   "metadata": {},
   "outputs": [],
   "source": [
    "def fix_name(row):\n",
    "    ss = \"{Prénom} {Nom}\".format(**row)\n",
    "    ss = ss.replace('-',' ')\n",
    "    return ss.replace(' ','+')\n",
    "\n",
    "def arxiv(row):\n",
    "    name = fix_name(row)\n",
    "    url = f'https://arxiv.org/search/?query={name}'\n",
    "    url += '&searchtype=all&abstracts=show&order=-announced_date_first&size=50'                  \n",
    "    request = f'<a href = \"{url}\" target = \"blank\"> '    \n",
    "    request += ' for {Prénom} {Nom} </a>'.format(**row)\n",
    "    return request\n",
    "\n",
    "def google(row):\n",
    "    name = fix_name(row)\n",
    "    url = f'<a href = \"https://www.google.fr/search?q={name}\"'\n",
    "    url += ' target = \"blank\"> {Prénom} {Nom} </a>'.format(**row)\n",
    "    return url"
   ]
  },
  {
   "cell_type": "markdown",
   "id": "c5c6a59f-873e-413d-b1b6-49d03c455def",
   "metadata": {},
   "source": [
    "---\n",
    "\n",
    "# Make a web page for all the candidates"
   ]
  },
  {
   "cell_type": "code",
   "execution_count": 7,
   "id": "66e41ccd-709d-46f6-b146-fa3b3da34193",
   "metadata": {},
   "outputs": [],
   "source": [
    "candidates = df[~df.iloc[:,0].isnull()]\n",
    "\n",
    "\n",
    "theses  = candidates[_thesis_fields]\n",
    "names = candidates[_name_fields]\n",
    "activity = candidates[_activity_fields]\n",
    "\n",
    "\n",
    "candidates['google'] = [ google(x) for x in names.to_dict(orient='records') ]\n",
    "candidates['arxiv'] =  [ arxiv(x) for x in names.to_dict(orient='records') ]\n",
    "\n",
    "web = candidates[_web_fields]\n",
    "\n",
    "def table2blocks(dff):\n",
    "    '''write a dictionnary to rows in html'''\n",
    "    dico = dff.to_dict(orient='records')\n",
    "    \n",
    "    blocks = []\n",
    "    for row in dico:\n",
    "        block = [f'<b>{key} : </b> : {value} <br>\\n' for key,value in row.items()]\n",
    "        blocks.append('\\n'.join(block) )\n",
    "    return blocks\n",
    "\n",
    "\n",
    "blocks = [ table2blocks(_) for _ in [names, web, theses, activity] ]\n",
    "\n",
    "with open('web.htm','w') as fp:\n",
    "    fp.write(_header_html)\n",
    "    for candidate in zip(*blocks):\n",
    "        fp.write('\\n<br>\\n'.join(candidate))\n",
    "        fp.write('<br><hr><br>')\n",
    "            \n",
    "            "
   ]
  },
  {
   "cell_type": "code",
   "execution_count": 173,
   "id": "763458fd-38ff-4cce-9e5d-ad163caaf99f",
   "metadata": {},
   "outputs": [],
   "source": []
  },
  {
   "cell_type": "code",
   "execution_count": 83,
   "id": "679b0848-7e18-44b6-8796-008cb881ec1f",
   "metadata": {},
   "outputs": [
    {
     "data": {
      "text/plain": [
       "'/home/macbuse/TMP'"
      ]
     },
     "execution_count": 83,
     "metadata": {},
     "output_type": "execute_result"
    }
   ],
   "source": [
    "pwd"
   ]
  },
  {
   "cell_type": "code",
   "execution_count": null,
   "id": "066db846-360d-49d9-8fe0-f859351eba3d",
   "metadata": {},
   "outputs": [],
   "source": []
  }
 ],
 "metadata": {
  "kernelspec": {
   "display_name": "Python 3 (ipykernel)",
   "language": "python",
   "name": "python3"
  },
  "language_info": {
   "codemirror_mode": {
    "name": "ipython",
    "version": 3
   },
   "file_extension": ".py",
   "mimetype": "text/x-python",
   "name": "python",
   "nbconvert_exporter": "python",
   "pygments_lexer": "ipython3",
   "version": "3.9.13"
  }
 },
 "nbformat": 4,
 "nbformat_minor": 5
}
