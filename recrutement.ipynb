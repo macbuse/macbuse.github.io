{
 "cells": [
  {
   "cell_type": "code",
   "execution_count": 1,
   "id": "5c1b554d-67cc-417a-83e0-1bb8166d23fe",
   "metadata": {},
   "outputs": [],
   "source": [
    "import pandas as pd\n",
    "# this is to avoid getting warnings\n",
    "pd.options.mode.chained_assignment = None"
   ]
  },
  {
   "cell_type": "code",
   "execution_count": 2,
   "id": "73ebae8d-2a6f-4c9c-adf3-36635abc3eba",
   "metadata": {},
   "outputs": [],
   "source": [
    "# load the file to a DataFrame\n",
    "df = pd.read_excel('/home/macbuse/RECRUTEMENT/MCF_153_LAST.xls')"
   ]
  },
  {
   "cell_type": "code",
   "execution_count": 3,
   "id": "91c3e142-f518-4f4d-a3d1-dc982d819f01",
   "metadata": {},
   "outputs": [
    {
     "data": {
      "text/plain": [
       "Index(['Campagne', 'Session', 'Corps', 'Section', 'Autre section', 'Article',\n",
       "       'N° emploi', 'Emplois liés', 'Profil', 'Job profile',\n",
       "       'Research fields EURAXESS', 'Implant', 'Numéro SI local',\n",
       "       'Numéro Gesup', 'Localisation', 'Vacance', 'Type de candidature',\n",
       "       'Chgt de section', 'Civilité', 'Nom', 'Nom d'usage ou marital',\n",
       "       'Prénom', 'Né(e) le', 'Unnamed: 23', 'Unnamed: 24', 'Rapporteur1',\n",
       "       'Rapporteur2', 'Avis local', 'Lieu de naissance', 'N° candidat',\n",
       "       'Référence qualif', 'Numen', 'Etat dossier', 'Détail suivi',\n",
       "       'Situation professionnelle', 'Lieu d'exercice',\n",
       "       'Ville ou pays d'exercice', 'Nationalité', 'Adresse1', 'Adresse2',\n",
       "       'Adresse3', 'Code postal', 'Code étranger', 'Ville', 'Pays',\n",
       "       'Téléphone', 'Autre tél', 'Fax', 'Email', 'Candidat local', 'Chercheur',\n",
       "       'Titre thèse', 'Date soutenance', 'Lieu soutenance', 'Directeur Thèse',\n",
       "       'Jury', 'N° de qualif', 'Activités enseignement', 'Theme', 'motif',\n",
       "       'Activités recherche', 'Activités administratives', 'Autres diplômes',\n",
       "       'Travaux', 'Titres', 'Note étab', 'Commentaire', 'Conditions remplies'],\n",
       "      dtype='object')"
      ]
     },
     "execution_count": 3,
     "metadata": {},
     "output_type": "execute_result"
    }
   ],
   "source": [
    "df.columns"
   ]
  },
  {
   "cell_type": "markdown",
   "id": "b0c3e04f-266d-416e-9b3e-63c6d888a874",
   "metadata": {},
   "source": [
    "---\n",
    "\n",
    "# Define string constants that we'll use later\n",
    "\n",
    "- all strings are unicode in Python 3 this simplifies things a lot\n",
    "\n",
    "https://docs.python.org/3/howto/unicode.html"
   ]
  },
  {
   "cell_type": "code",
   "execution_count": 4,
   "id": "b21f74f2-c601-4ec9-a2b2-b760f71981cd",
   "metadata": {},
   "outputs": [],
   "source": [
    "title = \"TEST\"\n",
    "\n",
    "_header_html = f'''<!DOCTYPE html PUBLIC \"-//W3C//DTD XHTML 1.0       \n",
    "Strict//EN\" \"http://www.w3.org/TR/xhtml1/DTD/xhtml1-strict.dtd\"> \n",
    "<html xmlns=\"http://www.w3.org/1999/xhtml\" lang=\"fr\" xml:lang=\"fr\">                                                               \n",
    "<head> <title>{title}</title>                                         \n",
    "<meta http-equiv=\"content-type\" content=\"text/html; charset=UTF-8\" />                                                             \n",
    "'''     \n",
    "\n",
    "\n",
    "_header_tex = r'''\\documentclass[a4paper, 12pt, titlepage]{article}\n",
    "\\usepackage[utf8]{inputenc}\n",
    "\\usepackage{amsmath,amssymb}\n",
    "\\usepackage[french]{babel}\n",
    "\\selectlanguage{french}\n",
    "\\usepackage{enumerate}\n",
    "\\usepackage{graphicx}\n",
    "\n",
    "\n",
    "\\newcommand{\\R}{\\mathbb{R}}\n",
    "\\newcommand{\\C}{\\mathbb{C}}\n",
    "\\def\\no{\\noindent}\n",
    "\\def\\vs{\\vskip 1cm}\n",
    "\\def\\ben{\\begin{enumerate}}\n",
    "\\def\\een{\\end{enumerate}}\n",
    "\n",
    "\\begin{document}\n",
    "\\pagestyle{empty}\n",
    "'''\n",
    "\n",
    "\n",
    "\n",
    "\n",
    "_thesis_fields =  ['Titre thèse', 'Date soutenance', \n",
    "                  'Lieu soutenance', 'Directeur Thèse', \n",
    "                   'Jury']                                 \n",
    "                                                                           \n",
    "  \n",
    "_activity_fields = [ 'Situation professionnelle', \n",
    "                    'Activités enseignement','Activités administratives']   \n",
    "\n",
    "_name_fields = ['Nom', 'Prénom', 'Né(e) le']\n",
    "\n",
    "_web_fields = ['google','arxiv']\n"
   ]
  },
  {
   "cell_type": "code",
   "execution_count": 7,
   "id": "6aefa1c3-6e6a-46ba-bcc4-78aa50ae2a76",
   "metadata": {},
   "outputs": [
    {
     "data": {
      "text/html": [
       "<div>\n",
       "<style scoped>\n",
       "    .dataframe tbody tr th:only-of-type {\n",
       "        vertical-align: middle;\n",
       "    }\n",
       "\n",
       "    .dataframe tbody tr th {\n",
       "        vertical-align: top;\n",
       "    }\n",
       "\n",
       "    .dataframe thead th {\n",
       "        text-align: right;\n",
       "    }\n",
       "</style>\n",
       "<table border=\"1\" class=\"dataframe\">\n",
       "  <thead>\n",
       "    <tr style=\"text-align: right;\">\n",
       "      <th></th>\n",
       "      <th>Nom</th>\n",
       "      <th>Prénom</th>\n",
       "      <th>Né(e) le</th>\n",
       "    </tr>\n",
       "  </thead>\n",
       "  <tbody>\n",
       "    <tr>\n",
       "      <th>0</th>\n",
       "      <td>ADICEAM</td>\n",
       "      <td>LAKI MICHEL FAUSTIN</td>\n",
       "      <td>20/09/1988</td>\n",
       "    </tr>\n",
       "    <tr>\n",
       "      <th>1</th>\n",
       "      <td>ALDANA DOMINGUEZ</td>\n",
       "      <td>CLARA LUCIA</td>\n",
       "      <td>04/12/1976</td>\n",
       "    </tr>\n",
       "    <tr>\n",
       "      <th>2</th>\n",
       "      <td>ANNI</td>\n",
       "      <td>SAMUELE</td>\n",
       "      <td>20/06/1985</td>\n",
       "    </tr>\n",
       "    <tr>\n",
       "      <th>3</th>\n",
       "      <td>ARANCIBIA ROBERT</td>\n",
       "      <td>NICOLAS JOSE</td>\n",
       "      <td>08/07/1985</td>\n",
       "    </tr>\n",
       "    <tr>\n",
       "      <th>4</th>\n",
       "      <td>BALKANOVA</td>\n",
       "      <td>OLGA</td>\n",
       "      <td>27/06/1988</td>\n",
       "    </tr>\n",
       "    <tr>\n",
       "      <th>5</th>\n",
       "      <td>BEI</td>\n",
       "      <td>FRANCESCO</td>\n",
       "      <td>27/08/1985</td>\n",
       "    </tr>\n",
       "    <tr>\n",
       "      <th>6</th>\n",
       "      <td>BELOTTO DA SILVA</td>\n",
       "      <td>ANDRE RICARDO</td>\n",
       "      <td>04/03/1987</td>\n",
       "    </tr>\n",
       "    <tr>\n",
       "      <th>7</th>\n",
       "      <td>BENGOECHEA</td>\n",
       "      <td>PALOMA</td>\n",
       "      <td>11/01/1984</td>\n",
       "    </tr>\n",
       "    <tr>\n",
       "      <th>8</th>\n",
       "      <td>BENZERGA</td>\n",
       "      <td>MOHAMED</td>\n",
       "      <td>18/02/1990</td>\n",
       "    </tr>\n",
       "    <tr>\n",
       "      <th>9</th>\n",
       "      <td>BETEA</td>\n",
       "      <td>DAN DUMITRU</td>\n",
       "      <td>30/05/1984</td>\n",
       "    </tr>\n",
       "  </tbody>\n",
       "</table>\n",
       "</div>"
      ],
      "text/plain": [
       "                Nom               Prénom    Né(e) le\n",
       "0           ADICEAM  LAKI MICHEL FAUSTIN  20/09/1988\n",
       "1  ALDANA DOMINGUEZ          CLARA LUCIA  04/12/1976\n",
       "2              ANNI              SAMUELE  20/06/1985\n",
       "3  ARANCIBIA ROBERT         NICOLAS JOSE  08/07/1985\n",
       "4         BALKANOVA                 OLGA  27/06/1988\n",
       "5               BEI            FRANCESCO  27/08/1985\n",
       "6  BELOTTO DA SILVA        ANDRE RICARDO  04/03/1987\n",
       "7        BENGOECHEA               PALOMA  11/01/1984\n",
       "8          BENZERGA              MOHAMED  18/02/1990\n",
       "9             BETEA          DAN DUMITRU  30/05/1984"
      ]
     },
     "execution_count": 7,
     "metadata": {},
     "output_type": "execute_result"
    }
   ],
   "source": [
    "df[_name_fields][:10]"
   ]
  },
  {
   "cell_type": "markdown",
   "id": "4fa347e5-de69-417b-9523-ade9711d04fe",
   "metadata": {},
   "source": [
    "---\n",
    "\n",
    "## Helper functions to generate requests"
   ]
  },
  {
   "cell_type": "code",
   "execution_count": 8,
   "id": "7d824f67-b593-4cca-86fe-0889299b2411",
   "metadata": {},
   "outputs": [],
   "source": [
    "def fix_name(row):\n",
    "    ss = \"{Prénom} {Nom}\".format(**row)\n",
    "    ss = ss.replace('-',' ')\n",
    "    return ss.replace(' ','+')\n",
    "\n",
    "def arxiv(row):\n",
    "    name = fix_name(row)\n",
    "    url = f'https://arxiv.org/search/?query={name}'\n",
    "    url += '&searchtype=all&abstracts=show&order=-announced_date_first&size=50'                  \n",
    "    request = f'<a href = \"{url}\" target = \"blank\">'    \n",
    "    request += '  {Prénom} {Nom} </a>'.format(**row)\n",
    "    return request\n",
    "\n",
    "def google(row):\n",
    "    name = fix_name(row)\n",
    "    #maybe should do a +math to disambiguate\n",
    "    url = f'<a href = \"https://www.google.fr/search?q={name}+math\"'\n",
    "    url += ' target = \"blank\">{Prénom} {Nom} </a>'.format(**row)\n",
    "    return url"
   ]
  },
  {
   "cell_type": "markdown",
   "id": "c5c6a59f-873e-413d-b1b6-49d03c455def",
   "metadata": {},
   "source": [
    "---\n",
    "\n",
    "# Make a web page for all the candidates"
   ]
  },
  {
   "cell_type": "code",
   "execution_count": 9,
   "id": "66e41ccd-709d-46f6-b146-fa3b3da34193",
   "metadata": {},
   "outputs": [],
   "source": [
    "# this is a trick to get only valid rows\n",
    "candidates = df[~df.iloc[:,0].isnull()]\n",
    "\n",
    "names = candidates[_name_fields]\n",
    "theses  = candidates[_thesis_fields]\n",
    "activity = candidates[_activity_fields]\n",
    "\n",
    "# now generate some extra fields\n",
    "dico_names = names.to_dict(orient='records')\n",
    "candidates['web_name'] = [ fix_name(_) for _ in dico_names]\n",
    "candidates['google'] = [ google(x) for x in  dico_names]\n",
    "candidates['arxiv'] =  [ arxiv(x) for x in dico_names]\n",
    "\n",
    "web = candidates[_web_fields]\n",
    "\n",
    "def table2blocks(dff):\n",
    "    '''write a dictionnary to rows in html'''\n",
    "    dico = dff.to_dict(orient='records')\n",
    "    \n",
    "    blocks = []\n",
    "    for row in dico:\n",
    "        block = [f'<b>{key} : </b> {value} <br>\\n' for key,value in row.items()]\n",
    "        blocks.append('\\n'.join(block) )\n",
    "    return blocks\n",
    "\n",
    "\n",
    "text_blocks = [ table2blocks(_) for _ in [names, web, theses, activity] ]\n",
    "\n",
    "with open('web.htm','w') as fp:\n",
    "    fp.write(_header_html)\n",
    "    for candidate in zip(*text_blocks):\n",
    "        fp.write('\\n<br>\\n'.join(candidate))\n",
    "        fp.write('<br><hr><br>')\n",
    "            "
   ]
  },
  {
   "cell_type": "code",
   "execution_count": 10,
   "id": "1667ebe0-08d7-4ad2-9b19-369bb56e527e",
   "metadata": {},
   "outputs": [
    {
     "data": {
      "text/plain": [
       "0        LAKI+MICHEL+FAUSTIN+ADICEAM\n",
       "1       CLARA+LUCIA+ALDANA+DOMINGUEZ\n",
       "2                       SAMUELE+ANNI\n",
       "3      NICOLAS+JOSE+ARANCIBIA+ROBERT\n",
       "4                     OLGA+BALKANOVA\n",
       "                   ...              \n",
       "103              FRANCESCO+VENEZIANO\n",
       "104                     JUAN+VIU+SOS\n",
       "105                 YANNICK+VOGLAIRE\n",
       "106               GABRIEL+ZALAMANSKY\n",
       "107                    HUAFENG+ZHANG\n",
       "Name: web_name, Length: 108, dtype: object"
      ]
     },
     "execution_count": 10,
     "metadata": {},
     "output_type": "execute_result"
    }
   ],
   "source": [
    "candidates['web_name']"
   ]
  },
  {
   "cell_type": "markdown",
   "id": "5fea8fcb-9013-4982-afdf-2137048f0374",
   "metadata": {},
   "source": [
    "---\n",
    "\n",
    "# Converting templates using regular expressions \n",
    "\n",
    "convert the templates in gregTexDatapy to Python3 using **re**\n",
    "\n",
    "we need to use ```string.format(**dictionary)```\n",
    "to print to a file"
   ]
  },
  {
   "cell_type": "code",
   "execution_count": 89,
   "id": "550f0cbc-f5ca-40f6-b14b-99b75223ea07",
   "metadata": {},
   "outputs": [
    {
     "data": {
      "text/plain": [
       "dict_keys(['Campagne', 'Session', 'Corps', 'Section', 'Autre section', 'Article', 'N° emploi', 'Emplois liés', 'Profil', 'Job profile', 'Research fields EURAXESS', 'Implant', 'Numéro SI local', 'Numéro Gesup', 'Localisation', 'Vacance', 'Type de candidature', 'Chgt de section', 'Civilité', 'Nom', \"Nom d'usage ou marital\", 'Prénom', 'Né(e) le', 'Unnamed: 23', 'Unnamed: 24', 'Rapporteur1', 'Rapporteur2', 'Avis local', 'Lieu de naissance', 'N° candidat', 'Référence qualif', 'Numen', 'Etat dossier', 'Détail suivi', 'Situation professionnelle', \"Lieu d'exercice\", \"Ville ou pays d'exercice\", 'Nationalité', 'Adresse1', 'Adresse2', 'Adresse3', 'Code postal', 'Code étranger', 'Ville', 'Pays', 'Téléphone', 'Autre tél', 'Fax', 'Email', 'Candidat local', 'Chercheur', 'Titre thèse', 'Date soutenance', 'Lieu soutenance', 'Directeur Thèse', 'Jury', 'N° de qualif', 'Activités enseignement', 'Theme', 'motif', 'Activités recherche', 'Activités administratives', 'Autres diplômes', 'Travaux', 'Titres', 'Note étab', 'Commentaire', 'Conditions remplies'])"
      ]
     },
     "execution_count": 89,
     "metadata": {},
     "output_type": "execute_result"
    }
   ],
   "source": [
    "dd = df.to_dict(orient='records')\n",
    "dd[0].keys()"
   ]
  },
  {
   "cell_type": "markdown",
   "id": "962ceeb1-f08b-4a1b-9da2-448b6910e38d",
   "metadata": {},
   "source": [
    "# the original template \n",
    "\n",
    "Load the original file as text"
   ]
  },
  {
   "cell_type": "code",
   "execution_count": null,
   "id": "68eab5d2-b678-4237-97f6-4dd0aa5c83e1",
   "metadata": {},
   "outputs": [],
   "source": [
    "with open('./gregTexData.py','r') as fp:\n",
    "    txt = fp.read()"
   ]
  },
  {
   "cell_type": "markdown",
   "id": "382f59cd-3d84-478f-88e1-61b902652974",
   "metadata": {},
   "source": [
    "---\n",
    "\n",
    "# regexp magic\n",
    "\n",
    "\n",
    "\n",
    "you don't need to run this next cell"
   ]
  },
  {
   "cell_type": "code",
   "execution_count": 158,
   "id": "737264d3-1ac2-4c5d-b8f7-0cf41ed839aa",
   "metadata": {},
   "outputs": [],
   "source": [
    "import re\n",
    "\n",
    "def callback(m):\n",
    "    return '{{{}}}'.format(m.group(1))\n",
    "\n",
    "def fix_tex(m):\n",
    "    m = m.group(1).replace('{','{{')\n",
    "    #standard string replacements\n",
    "    m = m.replace('}','}}')\n",
    "    return m\n",
    "    \n",
    "ss = txt\n",
    "\n",
    "ss = ss.replace(\"ur'\",\"r'\")\n",
    "\n",
    "#ss = ss.replace('\\','\\\\')\n",
    "\n",
    "#regexp to change the formatting to python3\n",
    "#you have to do it in this order \n",
    "\n",
    "# escape { and } in tex\n",
    "ss = re.sub(\"('''.*?''')\", fix_tex,ss,flags=re.DOTALL)\n",
    "# replace the formatting %( ) with { }\n",
    "ss = re.sub('%\\((.*?)\\)s',callback,ss)\n",
    "\n",
    "\n",
    "with open('p3Templates.py','w') as fp:\n",
    "    fp.write(ss)"
   ]
  },
  {
   "cell_type": "markdown",
   "id": "8a8a135a-9005-4ee0-9f2b-42bb9d3351c2",
   "metadata": {},
   "source": [
    "---\n",
    "\n",
    "# Testing\n",
    "\n",
    "you do need to run this\n",
    "- if you are testing and don't want to restart the kernel the use ```reload```"
   ]
  },
  {
   "cell_type": "code",
   "execution_count": 11,
   "id": "a6ab45a1-ad3a-490d-a211-97b4cf94f140",
   "metadata": {},
   "outputs": [],
   "source": [
    "#import importlib\n",
    "#importlib.reload(p3Templates)\n",
    "\n",
    "import p3Templates"
   ]
  },
  {
   "cell_type": "code",
   "execution_count": 12,
   "id": "5066827a-146e-4518-a748-317f5f16323a",
   "metadata": {},
   "outputs": [
    {
     "name": "stdout",
     "output_type": "stream",
     "text": [
      "\n",
      "\n",
      "\\begin{{center}}\n",
      "{{\\Large {Corps} {N° emploi:.0f}-{Numéro Gesup}: Rapport sur la candidature de }}\n",
      "\\end{{center}}\n",
      "\\vs\n",
      "\n",
      "\\no\n",
      "{{\\bf {{\\large Nom}} :}} {Nom}\\\\\n",
      "{{\\bf Prénom :}} {Prénom}\\\\\n",
      "{{\\bf Date de \n"
     ]
    }
   ],
   "source": [
    "print(p3Templates.texTemplateMCF[:200])"
   ]
  },
  {
   "cell_type": "markdown",
   "id": "469a45eb-f7ce-4a53-8e4b-248359bf46fa",
   "metadata": {},
   "source": [
    "---\n",
    "\n",
    "# tests\n",
    "\n",
    "---"
   ]
  },
  {
   "cell_type": "markdown",
   "id": "35a0194f-aaf9-4d54-b832-5f75d9e18d7e",
   "metadata": {},
   "source": [
    "---\n",
    "\n",
    "# with some random candidate\n",
    "\n",
    "\n",
    "so \n",
    "- I dumped it to a file\n",
    "- compiled this and it compiled  OK except for **babel**\n",
    "- normally you should run this as a loop\n",
    "\n",
    "```\n",
    "for candidate in dd:\n",
    "    pass\n",
    "```\n",
    "\n",
    "multiple .tex files  for the model reports"
   ]
  },
  {
   "cell_type": "code",
   "execution_count": 13,
   "id": "488c4ab2-9d54-4901-9971-183b6a4c8b98",
   "metadata": {},
   "outputs": [],
   "source": [
    "dd = candidates.to_dict(orient='records')\n",
    "candidate = dd[3]\n",
    "\n",
    "latex_report = p3Templates.texTemplateMCF.format(**candidate)\n",
    "\n",
    "name = candidate['web_name'].replace('+','_')\n",
    "\n",
    "with open( f\"{name}.tex\",'w') as fp:\n",
    "    fp.write(_header_tex)\n",
    "    fp.write(latex_report)"
   ]
  },
  {
   "cell_type": "markdown",
   "id": "447b804b-dcfc-4790-9261-4ce6c6124fff",
   "metadata": {},
   "source": [
    "---\n",
    "\n",
    "# non auditionnés\n",
    "\n",
    "single .tex file \n",
    "\n",
    "you should change the values in  p3Templates.committee\n",
    "- either in the file and reload\n",
    "- dynamically like below"
   ]
  },
  {
   "cell_type": "code",
   "execution_count": 14,
   "id": "7ec910ec-5d3e-47ae-bb38-3f2819343625",
   "metadata": {},
   "outputs": [
    {
     "data": {
      "text/plain": [
       "{'PRESIDENT': 'Erwan Lanneau',\n",
       " 'VOTANTS': 14,\n",
       " 'NULS': 0,\n",
       " 'OUI': 14,\n",
       " 'NON': 0,\n",
       " 'SCALE': 0.2,\n",
       " 'DATE': 'now'}"
      ]
     },
     "execution_count": 14,
     "metadata": {},
     "output_type": "execute_result"
    }
   ],
   "source": [
    "p3Templates.committee"
   ]
  },
  {
   "cell_type": "code",
   "execution_count": 15,
   "id": "763458fd-38ff-4cce-9e5d-ad163caaf99f",
   "metadata": {},
   "outputs": [
    {
     "name": "stdout",
     "output_type": "stream",
     "text": [
      "Audition : ANNI\n"
     ]
    }
   ],
   "source": [
    "\n",
    "# you should have this in the xls\n",
    "# this is just for a test\n",
    "candidates['motif'] = ['ab']*len(candidates)\n",
    "\n",
    "dd = candidates.to_dict(orient='records')\n",
    "# to test if it skips auditionned candidates\n",
    "dd[2]['motif'] = ''\n",
    "\n",
    "\n",
    "committee = p3Templates.committee\n",
    "committee['DATE'] = 'today'\n",
    "# signature resizing\n",
    "committee['SCALE'] = .5\n",
    "\n",
    "\n",
    "with open( \"non_audition.tex\",'w') as fp:\n",
    "    # making a single .tex file\n",
    "    # one page per candidate\n",
    "    fp.write(_header_tex)\n",
    "    # only do the first five\n",
    "    for candidate in dd:\n",
    "        if not candidate['motif']:\n",
    "            # print the name to check\n",
    "            print(\"Audition : {Nom}\".format(**candidate))\n",
    "            continue\n",
    "        # u need to add the commitee date\n",
    "        candidate.update(committee)\n",
    "        latex_report = p3Templates.nonAudition.format(**candidate)\n",
    "        fp.write(latex_report)\n",
    "        fp.write(p3Templates.motifs[candidate['motif']])\n",
    "        fp.write('\\n\\\\newpage\\n')\n",
    "    # don't forget this\n",
    "    fp.write('\\\\end{document}')"
   ]
  },
  {
   "cell_type": "code",
   "execution_count": null,
   "id": "73620841-f94b-4a3c-be8e-4403c35bbf3f",
   "metadata": {},
   "outputs": [],
   "source": []
  }
 ],
 "metadata": {
  "kernelspec": {
   "display_name": "Python 3 (ipykernel)",
   "language": "python",
   "name": "python3"
  },
  "language_info": {
   "codemirror_mode": {
    "name": "ipython",
    "version": 3
   },
   "file_extension": ".py",
   "mimetype": "text/x-python",
   "name": "python",
   "nbconvert_exporter": "python",
   "pygments_lexer": "ipython3",
   "version": "3.9.13"
  }
 },
 "nbformat": 4,
 "nbformat_minor": 5
}
