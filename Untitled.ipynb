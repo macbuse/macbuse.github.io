{
 "cells": [
  {
   "cell_type": "code",
   "execution_count": null,
   "id": "2d30a1dd-4a89-45fd-a9ba-f5c4e3b5b477",
   "metadata": {},
   "outputs": [],
   "source": []
  }
 ],
 "metadata": {
  "kernelspec": {
   "display_name": "",
   "name": ""
  },
  "language_info": {
   "name": ""
  },
  "widgets": {
   "application/vnd.jupyter.widget-state+json": {
    "state": {},
    "version_major": 2,
    "version_minor": 0
   }
  }
 },
 "nbformat": 4,
 "nbformat_minor": 5
}
