{
 "cells": [
  {
   "cell_type": "markdown",
   "id": "cf6ada9d-5b82-43cb-8a10-2da2b8b61ef1",
   "metadata": {},
   "source": [
    "# Splitting homology classes\n",
    "\n",
    "$\\vec{x} = \\vec{h}_1 + \\vec{h}_2$\n",
    " \n",
    "- want all $(\\vec{h}_1,\\vec{h}_2)$ that are \"smaller\" than $\\vec{x}$\n",
    "- these are integer points in a parralelpiped $R$ determined by the coords of $\\vec{x}$\n",
    "\n",
    "---\n",
    "\n",
    "## Doublons\n",
    "  \n",
    "- want $(\\vec{h}_1,\\vec{h}_2)$ but not $(\\vec{h}_2,\\vec{h}_1)$\n",
    "- this is like taking a fundamental domain for the action of the involution $\\vec{v} \\mapsto \\vec{x} - \\vec{v}$ acting on $R$\n",
    "\n",
    "---\n",
    "\n",
    "## Signs of coords\n",
    "  \n",
    "- easy case is when all the coordinates of $\\vec{x}$ are $\\geq 0$\n",
    "- can always reduce to this case by applying reflections in hyperplanes\n",
    "- = changing the signs of the coordinates\n",
    "\n",
    "  \n",
    "\n"
   ]
  },
  {
   "cell_type": "code",
   "execution_count": 28,
   "id": "356bf3bf-66cf-4e9f-bf23-15ef9d371d82",
   "metadata": {},
   "outputs": [
    {
     "data": {
      "text/plain": [
       "array([[ 0,  0,  0,  1],\n",
       "       [ 0,  0,  0,  2],\n",
       "       [ 0,  0, -1,  0],\n",
       "       [ 0,  0, -1,  1],\n",
       "       [ 0,  0, -1,  2],\n",
       "       [ 0,  1,  0,  0],\n",
       "       [ 0,  1,  0,  1],\n",
       "       [ 0,  1,  0,  2],\n",
       "       [ 0,  1, -1,  0],\n",
       "       [ 0,  1, -1,  1],\n",
       "       [ 0,  1, -1,  2],\n",
       "       [ 1,  0,  0,  0],\n",
       "       [ 1,  0,  0,  1],\n",
       "       [ 1,  0,  0,  2],\n",
       "       [ 1,  0, -1,  0],\n",
       "       [ 1,  0, -1,  1],\n",
       "       [ 1,  0, -1,  2],\n",
       "       [ 1,  1,  0,  0],\n",
       "       [ 1,  1,  0,  1],\n",
       "       [ 1,  1,  0,  2],\n",
       "       [ 1,  1, -1,  0],\n",
       "       [ 1,  1, -1,  1],\n",
       "       [ 1,  1, -1,  2],\n",
       "       [ 2,  0,  0,  0],\n",
       "       [ 2,  0,  0,  1],\n",
       "       [ 2,  0,  0,  2],\n",
       "       [ 2,  0, -1,  0],\n",
       "       [ 2,  0, -1,  1],\n",
       "       [ 2,  0, -1,  2],\n",
       "       [ 2,  1,  0,  0],\n",
       "       [ 2,  1,  0,  1],\n",
       "       [ 2,  1,  0,  2],\n",
       "       [ 2,  1, -1,  0],\n",
       "       [ 2,  1, -1,  1]])"
      ]
     },
     "execution_count": 28,
     "metadata": {},
     "output_type": "execute_result"
    }
   ],
   "source": [
    "import numpy as np\n",
    "from itertools import product\n",
    "\n",
    "X = np.array((2,1,-1,2),dtype=int)\n",
    "#this is a bit of a cheat\n",
    "m,n,p,q = abs(X) + 1\n",
    "\n",
    "#all possible h_1 of a decomposition\n",
    "#these are stocked as lines in a matrix \n",
    "Z = np.array(list(product(range(m),\n",
    "                          range(n),\n",
    "                          range(p),\n",
    "                          range(q))))[1:-1] #careful if u do  m // 2\n",
    "\n",
    "# deal with signs \n",
    "# abs(X) - X != 0 is a list of booleans\n",
    "Z[:, abs(X) - X != 0] *= -1\n",
    "\n",
    "#there will be duplicates here\n",
    "# but you can deal with that \n",
    "# by taking m // 2 or something like that \n",
    "# and not doing the checking\n",
    "Z #,-Z + X"
   ]
  },
  {
   "cell_type": "code",
   "execution_count": 29,
   "id": "22b27abd-a926-45d3-9357-3f128011bb1d",
   "metadata": {},
   "outputs": [
    {
     "data": {
      "text/plain": [
       "array([[ 2,  1, -1,  1],\n",
       "       [ 2,  1, -1,  0],\n",
       "       [ 2,  1,  0,  2],\n",
       "       [ 2,  1,  0,  1],\n",
       "       [ 2,  1,  0,  0],\n",
       "       [ 2,  0, -1,  2],\n",
       "       [ 2,  0, -1,  1],\n",
       "       [ 2,  0, -1,  0],\n",
       "       [ 2,  0,  0,  2],\n",
       "       [ 2,  0,  0,  1],\n",
       "       [ 2,  0,  0,  0],\n",
       "       [ 1,  1, -1,  2],\n",
       "       [ 1,  1, -1,  1],\n",
       "       [ 1,  1, -1,  0],\n",
       "       [ 1,  1,  0,  2],\n",
       "       [ 1,  1,  0,  1],\n",
       "       [ 1,  1,  0,  0],\n",
       "       [ 1,  0, -1,  2],\n",
       "       [ 1,  0, -1,  1],\n",
       "       [ 1,  0, -1,  0],\n",
       "       [ 1,  0,  0,  2],\n",
       "       [ 1,  0,  0,  1],\n",
       "       [ 1,  0,  0,  0],\n",
       "       [ 0,  1, -1,  2],\n",
       "       [ 0,  1, -1,  1],\n",
       "       [ 0,  1, -1,  0],\n",
       "       [ 0,  1,  0,  2],\n",
       "       [ 0,  1,  0,  1],\n",
       "       [ 0,  1,  0,  0],\n",
       "       [ 0,  0, -1,  2],\n",
       "       [ 0,  0, -1,  1],\n",
       "       [ 0,  0, -1,  0],\n",
       "       [ 0,  0,  0,  2],\n",
       "       [ 0,  0,  0,  1]])"
      ]
     },
     "execution_count": 29,
     "metadata": {},
     "output_type": "execute_result"
    }
   ],
   "source": [
    "-Z + X"
   ]
  },
  {
   "cell_type": "code",
   "execution_count": 4,
   "id": "b8f0c439-2ffe-44a2-9b07-e7bab9eba1c1",
   "metadata": {},
   "outputs": [
    {
     "data": {
      "text/plain": [
       "array([[ 2,  1, -1,  2],\n",
       "       [ 2,  1, -1,  1],\n",
       "       [ 2,  1,  0,  2],\n",
       "       [ 2,  1,  0,  1],\n",
       "       [ 2,  0, -1,  2],\n",
       "       [ 2,  0, -1,  1],\n",
       "       [ 2,  0,  0,  2],\n",
       "       [ 2,  0,  0,  1],\n",
       "       [ 1,  1, -1,  2],\n",
       "       [ 1,  1, -1,  1],\n",
       "       [ 1,  1,  0,  2],\n",
       "       [ 1,  1,  0,  1],\n",
       "       [ 1,  0, -1,  2],\n",
       "       [ 1,  0, -1,  1],\n",
       "       [ 1,  0,  0,  2],\n",
       "       [ 1,  0,  0,  1],\n",
       "       [ 0,  1, -1,  2],\n",
       "       [ 0,  1, -1,  1],\n",
       "       [ 0,  1,  0,  2],\n",
       "       [ 0,  1,  0,  1],\n",
       "       [ 0,  0, -1,  2],\n",
       "       [ 0,  0, -1,  1],\n",
       "       [ 0,  0,  0,  2],\n",
       "       [ 0,  0,  0,  1]])"
      ]
     },
     "execution_count": 4,
     "metadata": {},
     "output_type": "execute_result"
    }
   ],
   "source": [
    "X - Z"
   ]
  },
  {
   "cell_type": "code",
   "execution_count": null,
   "id": "80b277b4-084a-4026-98cf-4c4a3ed090e0",
   "metadata": {},
   "outputs": [],
   "source": []
  }
 ],
 "metadata": {
  "kernelspec": {
   "display_name": "Python 3 (ipykernel)",
   "language": "python",
   "name": "python3"
  },
  "language_info": {
   "codemirror_mode": {
    "name": "ipython",
    "version": 3
   },
   "file_extension": ".py",
   "mimetype": "text/x-python",
   "name": "python",
   "nbconvert_exporter": "python",
   "pygments_lexer": "ipython3",
   "version": "3.11.5"
  }
 },
 "nbformat": 4,
 "nbformat_minor": 5
}
