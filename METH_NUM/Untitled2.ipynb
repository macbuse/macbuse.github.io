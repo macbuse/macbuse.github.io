{
 "cells": [
  {
   "cell_type": "code",
   "execution_count": 3,
   "id": "2386dfc0-c313-43e3-bfe0-d481105f25ce",
   "metadata": {},
   "outputs": [],
   "source": [
    "from egcd import egcd"
   ]
  },
  {
   "cell_type": "code",
   "execution_count": 21,
   "id": "1bc19326-5abc-4098-aa6c-f99f9fd67045",
   "metadata": {},
   "outputs": [],
   "source": [
    "def dd(x):\n",
    "    if x < 0 : \n",
    "        x += 11\n",
    "    if x % 2 == 1: \n",
    "        x += 11\n",
    "    return x\n",
    "\n",
    "I = [ dd(egcd(_,11)[1]) for _ in range(1,11)]\n"
   ]
  },
  {
   "cell_type": "code",
   "execution_count": 25,
   "id": "0555210b-9a96-429c-a219-6e375d984512",
   "metadata": {},
   "outputs": [],
   "source": [
    "F = [ dd(-2*x % 11) for x in I]"
   ]
  },
  {
   "cell_type": "code",
   "execution_count": 32,
   "id": "2c175a9f-94e8-4431-9796-b60bb8742754",
   "metadata": {},
   "outputs": [],
   "source": [
    "def L2R(L):\n",
    "    return '& ' + ' & '.join([str(_) for _ in L]) + ' \\\\\\\\'"
   ]
  },
  {
   "cell_type": "code",
   "execution_count": 33,
   "id": "3c2f40fb-1f89-4e75-a1cb-3b1bb868129e",
   "metadata": {},
   "outputs": [
    {
     "name": "stdout",
     "output_type": "stream",
     "text": [
      "& 1 & 2 & 3 & 4 & 5 & 6 & 7 & 8 & 9 & 10 \\\\\n",
      "& 12 & 6 & 4 & 14 & 20 & 2 & 8 & 18 & 16 & 10 \\\\\n",
      "& 20 & 10 & 14 & 16 & 4 & 18 & 6 & 8 & 12 & 2 \\\\\n"
     ]
    }
   ],
   "source": [
    "print('\\n'.join([ L2R(range(1,11)), L2R(I), L2R(F)] )) "
   ]
  },
  {
   "cell_type": "code",
   "execution_count": 36,
   "id": "7b47adbe-586d-49bd-909b-f6f061e60817",
   "metadata": {},
   "outputs": [
    {
     "name": "stdout",
     "output_type": "stream",
     "text": [
      "& 2 & 4 & 6 & 8 & 10 & 12 & 14 & 16 & 18 & 20 \\\\\n"
     ]
    }
   ],
   "source": [
    "print(L2R(range(2,22, 2)))"
   ]
  },
  {
   "cell_type": "code",
   "execution_count": null,
   "id": "ed4d89ed-25b1-4549-8423-f67c48d805fc",
   "metadata": {},
   "outputs": [],
   "source": []
  }
 ],
 "metadata": {
  "kernelspec": {
   "display_name": "Python 3 (ipykernel)",
   "language": "python",
   "name": "python3"
  },
  "language_info": {
   "codemirror_mode": {
    "name": "ipython",
    "version": 3
   },
   "file_extension": ".py",
   "mimetype": "text/x-python",
   "name": "python",
   "nbconvert_exporter": "python",
   "pygments_lexer": "ipython3",
   "version": "3.9.13"
  },
  "widgets": {
   "application/vnd.jupyter.widget-state+json": {
    "state": {},
    "version_major": 2,
    "version_minor": 0
   }
  }
 },
 "nbformat": 4,
 "nbformat_minor": 5
}
