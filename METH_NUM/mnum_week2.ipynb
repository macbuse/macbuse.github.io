{
 "cells": [
  {
   "cell_type": "code",
   "execution_count": 12,
   "metadata": {},
   "outputs": [],
   "source": [
    "import numpy as np\n",
    "\n",
    "import matplotlib.pyplot as plt\n",
    "\n",
    "import scipy\n",
    "from scipy import stats"
   ]
  },
  {
   "cell_type": "code",
   "execution_count": null,
   "metadata": {},
   "outputs": [],
   "source": [
    "%load_ext cython"
   ]
  },
  {
   "cell_type": "markdown",
   "metadata": {},
   "source": [
    "---\n",
    "Exo 6"
   ]
  },
  {
   "cell_type": "code",
   "execution_count": 3,
   "metadata": {},
   "outputs": [],
   "source": [
    "from scipy import integrate"
   ]
  },
  {
   "cell_type": "code",
   "execution_count": 9,
   "metadata": {},
   "outputs": [
    {
     "data": {
      "text/plain": [
       "((0.5, 5.551115123125783e-15),)"
      ]
     },
     "execution_count": 9,
     "metadata": {},
     "output_type": "execute_result"
    }
   ],
   "source": [
    "integrate.quad(lambda x: x, 0,1),"
   ]
  },
  {
   "cell_type": "code",
   "execution_count": 10,
   "metadata": {},
   "outputs": [
    {
     "data": {
      "text/plain": [
       "((0.09531017980432485, 1.0581555609992505e-15),)"
      ]
     },
     "execution_count": 10,
     "metadata": {},
     "output_type": "execute_result"
    }
   ],
   "source": [
    "integrate.quad(lambda x: 1/(10+x), 0,1),"
   ]
  },
  {
   "cell_type": "code",
   "execution_count": 13,
   "metadata": {},
   "outputs": [
    {
     "data": {
      "text/plain": [
       "0.09531017980432477"
      ]
     },
     "execution_count": 13,
     "metadata": {},
     "output_type": "execute_result"
    }
   ],
   "source": [
    "np.log(11) - np.log(10)"
   ]
  },
  {
   "cell_type": "code",
   "execution_count": 17,
   "metadata": {},
   "outputs": [
    {
     "data": {
      "text/plain": [
       "[0.09531017980432477,\n",
       " 0.04689820195675232,\n",
       " 0.031017980432476833,\n",
       " 0.023153529008564988,\n",
       " 0.01846470991435012,\n",
       " 0.015352900856498819,\n",
       " 0.013137658101678468,\n",
       " 0.011480561840358172,\n",
       " 0.010194381596418278,\n",
       " 0.009167295146928323]"
      ]
     },
     "execution_count": 17,
     "metadata": {},
     "output_type": "execute_result"
    }
   ],
   "source": [
    "I_n = [np.log(11) - np.log(10)]\n",
    "for k in range(1,10):\n",
    "    I_n.append( 1/k - 10*I_n[-1])\n",
    "    \n",
    "I_n"
   ]
  },
  {
   "cell_type": "markdown",
   "metadata": {},
   "source": [
    "check"
   ]
  },
  {
   "cell_type": "code",
   "execution_count": 19,
   "metadata": {},
   "outputs": [
    {
     "data": {
      "text/plain": [
       "((0.00916720344811137, 1.0177640339516369e-16),)"
      ]
     },
     "execution_count": 19,
     "metadata": {},
     "output_type": "execute_result"
    }
   ],
   "source": [
    "integrate.quad(lambda x: x**9/(10 + x), 0,1),"
   ]
  },
  {
   "cell_type": "code",
   "execution_count": 20,
   "metadata": {},
   "outputs": [
    {
     "data": {
      "text/plain": [
       "((0.0029409287048613284, 1.4114579243116296e-15),)"
      ]
     },
     "execution_count": 20,
     "metadata": {},
     "output_type": "execute_result"
    }
   ],
   "source": [
    "integrate.quad(lambda x: x**30/(10 + x), 0,1),"
   ]
  },
  {
   "cell_type": "markdown",
   "metadata": {},
   "source": [
    "$$\\int_0^1 \\frac{x^{30}}{10 + x} \n",
    "\\sim \\int_0^1 \\frac{x^{30}}{11}\n",
    "= \\frac{1}{11} \\times \\frac{1}{31}$$"
   ]
  },
  {
   "cell_type": "code",
   "execution_count": 24,
   "metadata": {},
   "outputs": [
    {
     "data": {
      "text/plain": [
       "0.002932551319648094"
      ]
     },
     "execution_count": 24,
     "metadata": {},
     "output_type": "execute_result"
    }
   ],
   "source": [
    "1/11/31"
   ]
  },
  {
   "cell_type": "markdown",
   "metadata": {},
   "source": [
    "---\n",
    "\n",
    "# Exo 7\n",
    "\n",
    "## relative error\n",
    "\n",
    "https://matthew-brett.github.io/teaching/floating_error.html"
   ]
  },
  {
   "cell_type": "code",
   "execution_count": null,
   "metadata": {},
   "outputs": [],
   "source": [
    "from math import  log10, floor\n",
    "x = -0.1234 # a number with greater precision than format allows\n",
    "p = 3 # number of digits in mantissa\n",
    "x1 = abs(x) # 0.1234\n",
    "e1 = log10(x1) # -0.9086848403027772\n",
    "exponent = floor(e1) # -1\n",
    "m1 = x / 10 ** exponent # -1.234\n",
    "mantissa = round(m1, p-1) # -1.23\n",
    "exponent, mantissa"
   ]
  },
  {
   "cell_type": "markdown",
   "metadata": {},
   "source": [
    "---\n",
    "\n",
    "# Exo 8\n",
    "\n"
   ]
  },
  {
   "cell_type": "code",
   "execution_count": 183,
   "metadata": {},
   "outputs": [
    {
     "data": {
      "text/plain": [
       "(15.999999999999988,\n",
       " array([3.87938524, 3.53208889, 3.        , 2.34729636, 1.65270364,\n",
       "        0.12061476, 0.46791111, 1.        ]))"
      ]
     },
     "execution_count": 183,
     "metadata": {},
     "output_type": "execute_result"
    }
   ],
   "source": [
    "sum(np.linalg.eigvals(A)), np.linalg.eigvals(A)"
   ]
  },
  {
   "cell_type": "markdown",
   "metadata": {},
   "source": [
    "# Better to \n",
    "\n",
    "write a function to generate the matrix $A$"
   ]
  },
  {
   "cell_type": "code",
   "execution_count": 185,
   "metadata": {},
   "outputs": [
    {
     "data": {
      "image/png": "[encoded data removed]",
      "text/plain": [
       "<Figure size 432x288 with 1 Axes>"
      ]
     },
     "metadata": {
      "needs_background": "light"
     },
     "output_type": "display_data"
    }
   ],
   "source": [
    "def M(n):\n",
    "    A = 2*np.identity(n)\n",
    "    for i in range(n-1):\n",
    "        A[i,i+1] = A[i+1,i] = -1\n",
    "    return A\n",
    "\n",
    "\n",
    "X = np.linspace(0,1,100)\n",
    "\n",
    "plt.plot(X, 12*X**2+4);\n",
    "# this doesn't work with @\n",
    "plt.plot(X[2:-2], -100**2*M(100).dot(X**4+ 2*X**2)[2:-2]);"
   ]
  },
  {
   "cell_type": "code",
   "execution_count": 186,
   "metadata": {},
   "outputs": [
    {
     "data": {
      "text/plain": [
       "0.0034362595476501016"
      ]
     },
     "execution_count": 186,
     "metadata": {},
     "output_type": "execute_result"
    },
    {
     "data": {
      "image/png": "[encoded data removed]",
      "text/plain": [
       "<Figure size 432x288 with 1 Axes>"
      ]
     },
     "metadata": {
      "needs_background": "light"
     },
     "output_type": "display_data"
    }
   ],
   "source": [
    "\n",
    "N = 500\n",
    "# subdivision of the interval\n",
    "X = np.linspace(0,1,N)\n",
    "h = (X[1] - X[0])\n",
    "\n",
    "# -A/h^2 + C\n",
    "B = M(N)/(h**2) + np.diag(X)\n",
    "# this is probably more accurate as N**2 has no rounding error\n",
    "B = M(N)*(N**2) + np.diag(X)\n",
    "\n",
    "f = (1 + 2*X - X**2)*np.exp(X) + X**2 - X\n",
    "g = (1-X)*(np.exp(X)-1)\n",
    "\n",
    "Y = np.linalg.solve(B, f)\n",
    "plt.plot(X, Y)\n",
    "plt.plot(X, g);\n",
    "\n",
    "np.max(np.abs(Y - g))"
   ]
  },
  {
   "cell_type": "markdown",
   "metadata": {},
   "source": [
    "---\n",
    "\n",
    "# Jacobi method\n",
    "\n",
    "In numerical linear algebra, the Jacobi method is an iterative algorithm for determining the solutions of a strictly diagonally dominant system of linear equations. Each diagonal element is solved for, and an approximate value is plugged in. The process is then iterated until it converges. This algorithm is a stripped-down version of the Jacobi transformation method of matrix diagonalization. The method is named after Carl Gustav Jacob Jacobi.\n",
    "\n",
    "https://en.wikipedia.org/wiki/Jacobi_method"
   ]
  },
  {
   "cell_type": "code",
   "execution_count": 232,
   "metadata": {},
   "outputs": [],
   "source": [
    "C = np.array([2,1,5,7]).reshape(2,2)"
   ]
  },
  {
   "cell_type": "code",
   "execution_count": 32,
   "metadata": {},
   "outputs": [],
   "source": [
    "def decompose(C):\n",
    "    D = np.array([C[i,i] for i in range(C.shape[0])])\n",
    "    LU = np.copy(C) - np.diag(D)\n",
    "    return D, LU\n",
    "\n",
    "V = np.ones(2)\n",
    "b = np.array([11,13])\n",
    "D, LU = decompose(C)"
   ]
  },
  {
   "cell_type": "code",
   "execution_count": 732,
   "metadata": {},
   "outputs": [
    {
     "data": {
      "text/plain": [
       "array([10.99999999, 13.        ])"
      ]
     },
     "execution_count": 732,
     "metadata": {},
     "output_type": "execute_result"
    }
   ],
   "source": [
    "for k in range(20):\n",
    "    #V = (-LU.dot(V) + b)/D\n",
    "    V = V + (-C.dot(V) + b)/D\n",
    "C.dot(V)"
   ]
  },
  {
   "cell_type": "code",
   "execution_count": 42,
   "metadata": {},
   "outputs": [
    {
     "data": {
      "image/png": "[encoded data removed]",
      "text/plain": [
       "<Figure size 432x288 with 1 Axes>"
      ]
     },
     "metadata": {
      "needs_background": "light"
     },
     "output_type": "display_data"
    }
   ],
   "source": [
    "# initialize the matrix\n",
    "C = np.array([[10., -1., 2., 0.],\n",
    "              [-1., 11., -1., 3.],\n",
    "              [2., -1., 10., -1.],\n",
    "              [0.0, 3., -1., 8.]])\n",
    "# initialize the RHS vector\n",
    "b = np.array([6., 25., -11., 15.])\n",
    "V = np.zeros_like(C[0])\n",
    "\n",
    "D, LU = decompose(C)\n",
    "\n",
    "VS = []\n",
    "for k in range(10):\n",
    "    V = (-LU.dot(V) + b)/D\n",
    "    VS.append(V)\n",
    "\n",
    "E = [np.linalg.norm( b - C.dot(v)) for v in VS]\n",
    "plt.plot(-np.log(E));"
   ]
  },
  {
   "cell_type": "code",
   "execution_count": 38,
   "metadata": {},
   "outputs": [
    {
     "data": {
      "text/plain": [
       "LinregressResult(slope=0.854590388387257, intercept=-2.4365624942108233, rvalue=0.9999854699430567, pvalue=1.950023073529421e-19, stderr=0.001628794894121396)"
      ]
     },
     "execution_count": 38,
     "metadata": {},
     "output_type": "execute_result"
    }
   ],
   "source": [
    "from scipy import stats\n",
    "\n",
    "         \n",
    "stats.linregress(np.arange(len(E)),-np.log(E))"
   ]
  },
  {
   "cell_type": "markdown",
   "metadata": {},
   "source": [
    "# Eigenvalues"
   ]
  },
  {
   "cell_type": "code",
   "execution_count": 50,
   "metadata": {},
   "outputs": [],
   "source": [
    "ev, evv = np.linalg.eig(np.linalg.inv(np.diag(D).dot(C)))"
   ]
  },
  {
   "cell_type": "code",
   "execution_count": 51,
   "metadata": {},
   "outputs": [
    {
     "data": {
      "text/plain": [
       "array([10., 11., 10.,  8.])"
      ]
     },
     "execution_count": 51,
     "metadata": {},
     "output_type": "execute_result"
    }
   ],
   "source": []
  },
  {
   "cell_type": "markdown",
   "metadata": {},
   "source": [
    "---\n",
    "\n",
    "## Jacobi applied to the exo 8"
   ]
  },
  {
   "cell_type": "code",
   "execution_count": 28,
   "metadata": {},
   "outputs": [],
   "source": [
    "N = 200\n",
    "X = np.linspace(0,1,N)\n",
    "\n",
    "B = M(N)*(N**2) + np.diag(X)\n",
    "# target function\n",
    "b = (1 + 2*X - X**2)*np.exp(X) + X**2 - X \n",
    "# exact solution\n",
    "g = (1-X)*(np.exp(X)-1)\n",
    "# initial guess\n",
    "V = np.ones(N)\n",
    "\n",
    "# could use\n",
    "# D = 2*N**2 - X\n",
    "\n",
    "D = np.array([B[i,i] for i in range(N)])"
   ]
  },
  {
   "cell_type": "markdown",
   "metadata": {},
   "source": [
    "## Iteration loop"
   ]
  },
  {
   "cell_type": "code",
   "execution_count": 29,
   "metadata": {},
   "outputs": [],
   "source": [
    "#%%timeit\n",
    "E = []\n",
    "for k in range(4000):\n",
    "    #V = (-LU.dot(V) + b)/D\n",
    "    V = V + (-B.dot(V) + b)/D\n",
    "    E.append(np.linalg.norm(V - g,np.inf))\n",
    "    "
   ]
  },
  {
   "cell_type": "code",
   "execution_count": 30,
   "metadata": {},
   "outputs": [
    {
     "data": {
      "text/plain": [
       "[<matplotlib.lines.Line2D at 0x7fdb718474c0>]"
      ]
     },
     "execution_count": 30,
     "metadata": {},
     "output_type": "execute_result"
    },
    {
     "data": {
      "image/png": "[encoded data removed]",
      "text/plain": [
       "<Figure size 432x288 with 1 Axes>"
      ]
     },
     "metadata": {
      "needs_background": "light"
     },
     "output_type": "display_data"
    }
   ],
   "source": [
    "plt.plot(-np.log(np.array(E[100:])))"
   ]
  },
  {
   "cell_type": "code",
   "execution_count": 367,
   "metadata": {},
   "outputs": [
    {
     "data": {
      "text/plain": [
       "(0.008589502825312118, 0.008589502825312118)"
      ]
     },
     "execution_count": 367,
     "metadata": {},
     "output_type": "execute_result"
    },
    {
     "data": {
      "image/png": "[encoded data removed]",
      "text/plain": [
       "<Figure size 432x288 with 1 Axes>"
      ]
     },
     "metadata": {
      "needs_background": "light"
     },
     "output_type": "display_data"
    }
   ],
   "source": [
    "plt.plot(V);\n",
    "plt.plot(g );\n",
    "\n",
    "np.max(np.abs(V - g)), np.linalg.norm(V-g, np.inf)"
   ]
  },
  {
   "cell_type": "code",
   "execution_count": 363,
   "metadata": {},
   "outputs": [],
   "source": [
    "#%%timeit\n",
    "K = N**2*np.array([1,-2,1])\n",
    "\n",
    "for k in range(500000):\n",
    "    #trick to avoid matrix multiplication\n",
    "    V = V + ( np.convolve(V, K, mode='same')- X*V + b)/D\n",
    "    "
   ]
  },
  {
   "cell_type": "markdown",
   "metadata": {},
   "source": [
    "---\n",
    "\n",
    "# Convergence\n",
    "\n",
    "- easy case $C$ symmetric positive definite\n",
    "- $(L + U)/D$ has a dominant eigenvalue"
   ]
  },
  {
   "cell_type": "code",
   "execution_count": 52,
   "metadata": {},
   "outputs": [],
   "source": [
    "C = np.array([2,1,1,1]).reshape(2,2)"
   ]
  },
  {
   "cell_type": "code",
   "execution_count": 56,
   "metadata": {},
   "outputs": [],
   "source": [
    "D = np.array([C[i,i] for i in range(C.shape[0])])"
   ]
  },
  {
   "cell_type": "code",
   "execution_count": 66,
   "metadata": {},
   "outputs": [
    {
     "data": {
      "text/plain": [
       "array([1, 1])"
      ]
     },
     "execution_count": 66,
     "metadata": {},
     "output_type": "execute_result"
    }
   ],
   "source": [
    "C.dot([0,1])"
   ]
  },
  {
   "cell_type": "code",
   "execution_count": 91,
   "metadata": {},
   "outputs": [
    {
     "data": {
      "image/png": "[encoded data removed]",
      "text/plain": [
       "<Figure size 432x288 with 1 Axes>"
      ]
     },
     "metadata": {
      "needs_background": "light"
     },
     "output_type": "display_data"
    }
   ],
   "source": [
    "C = np.array([2,1,1,1]).reshape(2,2)\n",
    "D = np.array([C[i,i] for i in range(C.shape[0])])\n",
    "V = np.ones(2)\n",
    "b = np.ones(2)\n",
    "\n",
    "E = []\n",
    "for k in range(40):\n",
    "    #V = (-LU.dot(V) + b)/D\n",
    "    V = V + (-C.dot(V) + b)/D\n",
    "    E.append(np.linalg.norm(V - [0,1]))\n",
    "plt.plot(np.log(E));"
   ]
  },
  {
   "cell_type": "code",
   "execution_count": 92,
   "metadata": {},
   "outputs": [
    {
     "data": {
      "image/png": "[encoded data removed]",
      "text/plain": [
       "<Figure size 432x288 with 1 Axes>"
      ]
     },
     "metadata": {
      "needs_background": "light"
     },
     "output_type": "display_data"
    }
   ],
   "source": [
    "plt.plot(np.log(E));"
   ]
  },
  {
   "cell_type": "code",
   "execution_count": 93,
   "metadata": {},
   "outputs": [],
   "source": [
    "DC = np.diag(D)\n",
    "ee, vv = np.linalg.eig((C-DC)/D)"
   ]
  },
  {
   "cell_type": "code",
   "execution_count": 96,
   "metadata": {},
   "outputs": [
    {
     "data": {
      "text/plain": [
       "array([[2, 0],\n",
       "       [0, 1]])"
      ]
     },
     "execution_count": 96,
     "metadata": {},
     "output_type": "execute_result"
    }
   ],
   "source": []
  },
  {
   "cell_type": "markdown",
   "metadata": {},
   "source": [
    "---\n",
    "\n",
    "# LU \n",
    "\n",
    "[wiki entry](https://en.wikipedia.org/wiki/LU_decomposition)\n",
    "\n",
    "It turns out that a proper permutation in rows (or columns) is sufficient for LU factorization. LU factorization with partial pivoting (LUP) refers often to LU factorization with row permutations only:\n",
    "\n",
    "$PA=LU$\n",
    "\n",
    "where \n",
    "- L and U are again lower and upper triangular matrices\n",
    "- P is a permutation matrix, which, when left-multiplied to A, reorders the rows of A.\n",
    "\n",
    "It turns out that all square matrices can be factorized in this form \n",
    "[Pavel Okunev, Charles R. Johnson 1997](https://arxiv.org/abs/math/0506382)\n",
    "\n",
    "and the factorization is numerically stable in practice.\n",
    "\n",
    "This makes LUP decomposition a useful technique in practice.\n",
    "\n",
    "\n",
    "Look at [discussion and python 2 code](https://www.quantstart.com/articles/LU-Decomposition-in-Python-and-NumPy/)"
   ]
  },
  {
   "cell_type": "code",
   "execution_count": 102,
   "metadata": {},
   "outputs": [],
   "source": [
    "A = np.array([1,4,-1,2]).reshape(2,2)"
   ]
  },
  {
   "cell_type": "code",
   "execution_count": 13,
   "metadata": {},
   "outputs": [],
   "source": [
    "import scipy\n",
    "from scipy import linalg"
   ]
  },
  {
   "cell_type": "code",
   "execution_count": 14,
   "metadata": {},
   "outputs": [
    {
     "data": {
      "text/plain": [
       "(array([[1., 0.],\n",
       "        [0., 1.]]),\n",
       " array([[1., 0.],\n",
       "        [1., 1.]]),\n",
       " array([[1., 1.],\n",
       "        [0., 1.]]))"
      ]
     },
     "execution_count": 14,
     "metadata": {},
     "output_type": "execute_result"
    }
   ],
   "source": [
    "scipy.linalg.lu(A)"
   ]
  },
  {
   "cell_type": "code",
   "execution_count": 155,
   "metadata": {},
   "outputs": [
    {
     "data": {
      "text/plain": [
       "array([[-1,  3,  0],\n",
       "       [ 1,  0, -4],\n",
       "       [ 2,  0,  5]])"
      ]
     },
     "execution_count": 155,
     "metadata": {},
     "output_type": "execute_result"
    }
   ],
   "source": [
    "B = [-1,3,0,1,0,-4,2,0,5]\n",
    "B = np.array(B).reshape(3,3)\n",
    "B"
   ]
  },
  {
   "cell_type": "code",
   "execution_count": 159,
   "metadata": {},
   "outputs": [],
   "source": [
    "P,L,U = scipy.linalg.lu(B)"
   ]
  },
  {
   "cell_type": "code",
   "execution_count": 178,
   "metadata": {},
   "outputs": [
    {
     "data": {
      "text/plain": [
       "array([[-1.,  3.,  0.],\n",
       "       [ 1.,  0., -4.],\n",
       "       [ 2.,  0.,  5.]])"
      ]
     },
     "execution_count": 178,
     "metadata": {},
     "output_type": "execute_result"
    }
   ],
   "source": [
    "P @ L @ U "
   ]
  },
  {
   "cell_type": "code",
   "execution_count": 179,
   "metadata": {},
   "outputs": [
    {
     "data": {
      "text/plain": [
       "array([[0., 1., 0.],\n",
       "       [0., 0., 1.],\n",
       "       [1., 0., 0.]])"
      ]
     },
     "execution_count": 179,
     "metadata": {},
     "output_type": "execute_result"
    }
   ],
   "source": [
    "P"
   ]
  },
  {
   "cell_type": "code",
   "execution_count": 180,
   "metadata": {},
   "outputs": [
    {
     "data": {
      "text/plain": [
       "array([[ 2.,  0.,  5.],\n",
       "       [-1.,  3.,  0.],\n",
       "       [ 1.,  0., -4.]])"
      ]
     },
     "execution_count": 180,
     "metadata": {},
     "output_type": "execute_result"
    }
   ],
   "source": [
    "np.linalg.inv(P) @ B"
   ]
  },
  {
   "cell_type": "code",
   "execution_count": 157,
   "metadata": {},
   "outputs": [
    {
     "data": {
      "text/plain": [
       "array([ 1.69230769,  0.8974359 , -0.07692308])"
      ]
     },
     "execution_count": 157,
     "metadata": {},
     "output_type": "execute_result"
    }
   ],
   "source": [
    "np.linalg.solve(B,[1,2,3])"
   ]
  },
  {
   "cell_type": "code",
   "execution_count": 174,
   "metadata": {},
   "outputs": [
    {
     "data": {
      "text/plain": [
       "array([3., 1., 2.])"
      ]
     },
     "execution_count": 174,
     "metadata": {},
     "output_type": "execute_result"
    }
   ],
   "source": [
    "np.linalg.inv(P) @ [1,2,3]"
   ]
  },
  {
   "cell_type": "markdown",
   "metadata": {},
   "source": [
    "---\n",
    "\n",
    "## Solving linear equations\n",
    "\n",
    "Given a system of linear equations in matrix form\n",
    "\n",
    "$ A\\mathbf {x} =\\mathbf {b} $\n",
    "we want to solve the equation for x, given A and b. \n",
    "\n",
    "Suppose we have already obtained the $LUP$ decomposition of $A$ such that\n",
    "\n",
    "$PA=LU$ , so $LU\\mathbf {x} =P\\mathbf {b}$.\n",
    "\n",
    "In this case the solution is done in two logical steps:\n",
    "\n",
    "1. solve the equation\n",
    "$L\\mathbf {y} =P\\mathbf {b} $ for y.\n",
    "1. solve the equation $U\\mathbf {x} =\\mathbf {y} $ for x.\n",
    "\n",
    "\n",
    "In both cases we are dealing with triangular matrices (L and U), which can be solved directly **by forward and backward substitution** without using the Gaussian elimination process (however we do need this process or equivalent to compute the LU decomposition itself)."
   ]
  },
  {
   "cell_type": "code",
   "execution_count": 6,
   "metadata": {},
   "outputs": [],
   "source": [
    "\n",
    "a = 1\n",
    "A = np.array([a,1,1,2]).reshape(2,2)"
   ]
  },
  {
   "cell_type": "code",
   "execution_count": 8,
   "metadata": {},
   "outputs": [],
   "source": [
    "import scipy"
   ]
  },
  {
   "cell_type": "code",
   "execution_count": 15,
   "metadata": {},
   "outputs": [
    {
     "data": {
      "text/plain": [
       "(array([[1., 0.],\n",
       "        [0., 1.]]),\n",
       " array([[1., 0.],\n",
       "        [1., 1.]]),\n",
       " array([[1., 1.],\n",
       "        [0., 1.]]))"
      ]
     },
     "execution_count": 15,
     "metadata": {},
     "output_type": "execute_result"
    }
   ],
   "source": [
    "scipy.linalg.lu(A)"
   ]
  },
  {
   "cell_type": "markdown",
   "metadata": {},
   "source": [
    "## non trivial permutation "
   ]
  },
  {
   "cell_type": "code",
   "execution_count": 25,
   "metadata": {},
   "outputs": [
    {
     "data": {
      "text/plain": [
       "array([[0., 1.],\n",
       "       [1., 0.]])"
      ]
     },
     "execution_count": 25,
     "metadata": {},
     "output_type": "execute_result"
    }
   ],
   "source": [
    "a = 0\n",
    "A = np.array([a,1,1,2]).reshape(2,2)\n",
    "P, L , U = scipy.linalg.lu(A)\n",
    "P"
   ]
  },
  {
   "cell_type": "code",
   "execution_count": 26,
   "metadata": {},
   "outputs": [
    {
     "data": {
      "text/plain": [
       "(array([[0., 1.],\n",
       "        [1., 2.]]),\n",
       " array([[1., 2.],\n",
       "        [0., 1.]]))"
      ]
     },
     "execution_count": 26,
     "metadata": {},
     "output_type": "execute_result"
    }
   ],
   "source": [
    "P @ U, U"
   ]
  },
  {
   "cell_type": "markdown",
   "metadata": {},
   "source": [
    "## singular decomposition"
   ]
  },
  {
   "cell_type": "code",
   "execution_count": 31,
   "metadata": {},
   "outputs": [
    {
     "data": {
      "text/plain": [
       "(array([[1. , 0. ],\n",
       "        [0.5, 1. ]]),\n",
       " array([[1., 2.],\n",
       "        [0., 0.]]))"
      ]
     },
     "execution_count": 31,
     "metadata": {},
     "output_type": "execute_result"
    }
   ],
   "source": [
    "a = .5\n",
    "A = np.array([a,1,1,2]).reshape(2,2)\n",
    "P, L , U = scipy.linalg.lu(A)\n",
    "L, U"
   ]
  },
  {
   "cell_type": "markdown",
   "metadata": {},
   "source": [
    "# Cholesky\n",
    "\n",
    "- diagonal elements $l_{kk} = \\sqrt{ a_{kk} - \\sum^{k-1}_{j=1} l^2_{kj}}$\n",
    "- off diagonal elts $l_{ik} = \\frac{1}{l_{kk}} \\left( a_{ik} - \\sum^{k-1}_{j=1} l_{ij} l_{kj} \\right)$\n",
    "\n"
   ]
  },
  {
   "cell_type": "code",
   "execution_count": 9,
   "metadata": {},
   "outputs": [
    {
     "data": {
      "text/plain": [
       "array([[ 1,  2,  1],\n",
       "       [ 2, 13, -1],\n",
       "       [ 1, -1,  3]])"
      ]
     },
     "execution_count": 9,
     "metadata": {},
     "output_type": "execute_result"
    }
   ],
   "source": [
    "A = np.array([1,2,1,2,13, -1,1,-1, 3]).reshape(3,3)\n",
    "A "
   ]
  },
  {
   "cell_type": "code",
   "execution_count": 5,
   "metadata": {},
   "outputs": [],
   "source": [
    "import scipy.linalg"
   ]
  },
  {
   "cell_type": "code",
   "execution_count": 19,
   "metadata": {},
   "outputs": [
    {
     "data": {
      "text/plain": [
       "array([[ 1.,  0.,  0.],\n",
       "       [ 2.,  3.,  0.],\n",
       "       [ 1., -1.,  1.]])"
      ]
     },
     "execution_count": 19,
     "metadata": {},
     "output_type": "execute_result"
    }
   ],
   "source": [
    "scipy.linalg.cholesky(A).T"
   ]
  },
  {
   "cell_type": "code",
   "execution_count": 18,
   "metadata": {},
   "outputs": [
    {
     "data": {
      "text/plain": [
       "array([[ 1.,  0.,  0.],\n",
       "       [ 2.,  3.,  0.],\n",
       "       [ 1., -1.,  1.]])"
      ]
     },
     "execution_count": 18,
     "metadata": {},
     "output_type": "execute_result"
    }
   ],
   "source": [
    "np.array(cholesky(A))"
   ]
  },
  {
   "cell_type": "code",
   "execution_count": 26,
   "metadata": {},
   "outputs": [
    {
     "data": {
      "text/plain": [
       "array([[ 1.,  0.,  0.],\n",
       "       [ 2.,  3.,  0.],\n",
       "       [ 1., -1.,  1.]])"
      ]
     },
     "execution_count": 26,
     "metadata": {},
     "output_type": "execute_result"
    }
   ],
   "source": [
    "def my_cholesky(A):\n",
    "    \"\"\"Performs a Cholesky decomposition of A, which must \n",
    "    be a symmetric and positive definite matrix. The function\n",
    "    returns the lower variant triangular matrix, L.\"\"\"\n",
    "    n = len(A)\n",
    "\n",
    "    # Create zero matrix for L\n",
    "    L = np.zeros((n,n))\n",
    "\n",
    "    # Perform the Cholesky decomposition\n",
    "    for i in range(n):\n",
    "        for k in range(i+1):\n",
    "            tmp_sum = L[i,:].dot( L[k,:])\n",
    "            \n",
    "            if (i == k): # Diagonal elements\n",
    "                # LaTeX: l_{kk} = \\sqrt{ a_{kk} - \\sum^{k-1}_{j=1} l^2_{kj}}\n",
    "                L[i,k] = sqrt(A[i,i] - tmp_sum)\n",
    "            else:\n",
    "                # LaTeX: l_{ik} = \\frac{1}{l_{kk}} \\left( a_{ik} - \\sum^{k-1}_{j=1} l_{ij} l_{kj} \\right)\n",
    "                L[i,k] = (1.0 / L[k,k] * (A[i,k] - tmp_sum))\n",
    "    return L\n",
    "\n",
    "my_cholesky(A)"
   ]
  },
  {
   "cell_type": "markdown",
   "metadata": {},
   "source": [
    "# QR decompositions\n",
    "\n",
    "\n",
    "[source](https://www.quantstart.com/articles/QR-Decomposition-with-Python-and-NumPy/)\n",
    "\n",
    "There are a few different algorithms for calculating the matrices $Q$ and $R$. \n",
    "\n",
    "We will outline the method of <a href=\"http://en.wikipedia.org/wiki/Householder_transformation\">Householder Reflections</a>, which is known to be more numerically stable the  alternative Gramm-Schmidt method.\n",
    "\n",
    "Note, the following explanation is an expansion of the extremely detailed article on <a href=\"http://en.wikipedia.org/wiki/QR_decomposition#Using_Householder_reflections\">QR Decomposition using Householder Reflections.\n",
    "\n",
    "A **Householder Reflection** is a linear transformation that enables a vector to be reflected through a plane or hyperplane. Essentially, we use this method because we want to create an upper triangular matrix, $R$. The householder reflection is able to carry out this vector reflection such that all but one of the coordinates disappears. The matrix $Q$ will be built up as a sequence of matrix multiplications that eliminate each coordinate in turn, up to the rank of the matrix $A$.\n",
    "\n",
    "**First step** create the vector $\\mathbb{x}$, which is the $k$-th column of the matrix $A$, for step $k$.\n",
    "    \n",
    " We define $\\alpha = -sgn(\\mathbb{x}_k)(||\\mathbb{x}||)$. The norm $||\\cdot||$ used here is the *Euclidean norm*. \n",
    "\n",
    " Given the first column vector of the identity matrix, $I$ of equal size to $A$, $\\mathbb{e}_1 = (1,0,...,0)^T$, we create the vector $\\mathbb{u}$:\n",
    "\n",
    "\\begin{eqnarray*}\n",
    "\\mathbb{u} = \\mathbb{x} + \\alpha \\mathbb{e}_1\n",
    "\\end{eqnarray*}\n",
    "\n",
    "<p>Once we have the vector $\\mathbb{u}$, we need to convert it to a unit vector, which we denote as $\\mathbb{v}$:</p>\n",
    "\n",
    "\\begin{eqnarray*}\n",
    "\\mathbb{v} = \\mathbb{u}/||\\mathbb{u}||\n",
    "\\end{eqnarray*}\n",
    "\n",
    "**Second step** form the matrix of the Householder transformation $Q$ associated to $\\mathbb{v}$ :\n",
    "\n",
    "\\begin{eqnarray*}\n",
    "Q = I - 2 \\mathbb{v} \\mathbb{v}^T\n",
    "\\end{eqnarray*}\n",
    "\n",
    "**Third step** $Q$ is now an $m\\times m$ Householder matrix, with $Q\\mathbb{x} = \\left( \\alpha, 0, ..., 0\\right)^T$. We will use $Q$ to transform $A$ to upper triangular form, giving us the matrix $R$. \n",
    "    \n",
    "Write  $Q_k$ for $Q$ at the $k$th tep  and, since $k=0$ in this first step, we have $Q_0$ as our first Householder matrix. \n",
    "Muliplying by   $A$ gives us:\n",
    "\n",
    "\\begin{eqnarray*}\n",
    "Q_0A = \\begin{bmatrix} \\alpha_1&\\star&\\dots&\\star\\\\ 0 & & & \\\\ \\vdots & & A' & \\\\ 0 & & & \\end{bmatrix}\n",
    "\\end{eqnarray*}\n",
    "\n",
    "---\n",
    "    \n",
    " The whole process is **recursive** and we repeat the 3 steps above for the minor matrix $A'$, which will give a second Householder matrix $Q'_1$. Now we have to \"pad out\" this minor matrix with elements from the identity matrix such that we can consistently multiply the Householder matrices together. Hence, we define $Q_k$ as the block matrix:\n",
    "\n",
    "\\begin{eqnarray*}\n",
    "Q_k = \\begin{pmatrix} I_{k-1} & 0\\\\ 0 & Q_k'\\end{pmatrix}\n",
    "\\end{eqnarray*}\n",
    "\n",
    "<p>Once we have carried out $t$ iterations of this process we have $R$ as an upper triangular matrix:</p>\n",
    "\n",
    "\\begin{eqnarray*}\n",
    "R = Q_t ... Q_2 Q_1 A\n",
    "\\end{eqnarray*}\n",
    "\n",
    "<p>$Q$ is then fully defined as the multiplication of the transposes of each $Q_k$:</p>\n",
    "\n",
    "\\begin{eqnarray*}\n",
    "Q = Q^T_1 Q^T_2 ... Q^T_t\n",
    "\\end{eqnarray*}\n",
    "\n",
    "<p>This gives $A=QR$, the QR Decomposition of $A$.</p>"
   ]
  },
  {
   "cell_type": "code",
   "execution_count": 187,
   "metadata": {},
   "outputs": [
    {
     "data": {
      "text/plain": [
       "array([[ 12., -51.,   4.],\n",
       "       [  6., 167., -68.],\n",
       "       [ -4.,  24., -41.]])"
      ]
     },
     "execution_count": 187,
     "metadata": {},
     "output_type": "execute_result"
    }
   ],
   "source": [
    "def householder(A):\n",
    "    \"\"\"Performs a Householder Reflections based QR Decomposition of the                                               \n",
    "    matrix A. The function returns Q, an orthogonal matrix and R, an                                                  \n",
    "    upper triangular matrix such that A = QR.\"\"\"\n",
    "    n = len(A)\n",
    "    # Set R equal to A, and create Q as a zero matrix of the same size\n",
    "    R = A\n",
    "    Q = np.identity(n)\n",
    "\n",
    "    # The Householder procedure\n",
    "    for k in range(n-1):  # We don't perform the procedure on a 1x1 matrix, so we reduce the index by 1\n",
    "        # Create identity matrix of same size as A                                                                    \n",
    "        I = np.identity(n)\n",
    "\n",
    "        # Create the vectors x, e and the scalar alpha\n",
    "        x = R[k:,k]\n",
    "        e = I[k:,k]\n",
    "        \n",
    "        alpha = -np.sign(x[0]) * np.linalg.norm(x)\n",
    "\n",
    "        u = x + alpha*e\n",
    "        v = u/np.linalg.norm(u)\n",
    "\n",
    "        # Create the Q minor matrix\n",
    "        \n",
    "        Q_min = np.identity(n-k) -  2*np.array([v[i]*v for i  in range(n-k) ])\n",
    "        \n",
    "        Q_t = np.identity(n)\n",
    "        Q_t[k:,k:] = Q_min\n",
    "     \n",
    "\n",
    "        # If this is the first run through, right multiply by A,\n",
    "        # else right multiply by Q\n",
    "        if k == 0:\n",
    "            Q = Q_t\n",
    "            R = Q_t @ A\n",
    "        else:\n",
    "            Q = Q_t @ Q\n",
    "            R = Q_t @  R\n",
    "\n",
    "    # Since Q is defined as the product of transposes of Q_t,\n",
    "    # we need to take the transpose upon returning it\n",
    "    return Q.T, R\n",
    "\n",
    "A = np.array([[12, -51, 4], \n",
    "              [6, 167, -68], \n",
    "              [-4, 24, -41]])\n",
    "Q, R = householder(A)\n",
    "\n",
    "\n",
    "Q @ R"
   ]
  },
  {
   "cell_type": "markdown",
   "metadata": {},
   "source": [
    "--- \n",
    "\n",
    "# eigenvalues using QR\n",
    "\n",
    "! pip install tabulate"
   ]
  },
  {
   "cell_type": "code",
   "execution_count": null,
   "metadata": {},
   "outputs": [],
   "source": []
  },
  {
   "cell_type": "code",
   "execution_count": 85,
   "metadata": {},
   "outputs": [
    {
     "name": "stdout",
     "output_type": "stream",
     "text": [
      "A=\n",
      "--------  --------  --------  ---------  --------\n",
      "0.18191   0.990035  0.150124  0.892777   0.226127\n",
      "0.470759  0.37077   0.490794  0.0701669  0.534494\n",
      "0.559486  0.843721  0.281485  0.647655   0.390264\n",
      "0.932174  0.653674  0.393319  0.200673   0.926901\n",
      "0.755163  0.723208  0.923339  0.56611    0.571748\n",
      "--------  --------  --------  ---------  --------\n",
      "A 0 =\n",
      "----------  -----------  ----------  ----------  ----------\n",
      " 2.28379    -1.1807      -0.532089   -0.667673   -0.169268\n",
      "-0.915748   -0.355129    -0.274993    0.79843    -0.0453058\n",
      "-0.23814     0.132196    -0.250942   -0.130188    0.346297\n",
      " 0.0105585   0.0453324    0.23269    -0.0862765   0.0362581\n",
      " 0.046914    0.00219662  -0.0637038   0.0353902   0.0151423\n",
      "----------  -----------  ----------  ----------  ----------\n",
      "\n",
      "\n",
      "A 100000 =\n",
      "-------  ---------  ---------  ---------  ----------\n",
      "2.68395   0.242677  -0.279353  -0.620634   0.581171\n",
      "0        -0.702824  -0.711469  -0.171081   0.0760131\n",
      "0         0         -0.217145   0.380048   0.159478\n",
      "0         0         -0.127575  -0.21211   -0.118774\n",
      "0         0          0          0          0.0547209\n",
      "-------  ---------  ---------  ---------  ----------\n",
      "\n",
      "\n",
      "A 200000 =\n",
      "-------  ---------  ----------  ---------  ----------\n",
      "2.68395   0.242677  -0.582702   -0.351686   0.581171\n",
      "0        -0.702824  -0.682534    0.263827   0.0760131\n",
      "0         0         -0.0974231   0.300771   0.0636485\n",
      "0         0         -0.206852   -0.331832  -0.188386\n",
      "0         0          0           0          0.0547209\n",
      "-------  ---------  ----------  ---------  ----------\n",
      "\n",
      "\n",
      "A 300000 =\n",
      "-------  ---------  ----------  ---------  ----------\n",
      "2.68395   0.242677  -0.509864    0.450848   0.581171\n",
      "0        -0.702824   0.0476173   0.730198   0.0760131\n",
      "0         0         -0.284061    0.148355  -0.160727\n",
      "0         0         -0.359268   -0.145194  -0.117078\n",
      "0         0          0           0          0.0547209\n",
      "-------  ---------  ----------  ---------  ----------\n",
      "\n",
      "\n",
      "A 400000 =\n",
      "-------  ---------  ----------  ---------  ----------\n",
      "2.68395   0.242677   0.0769818   0.676239   0.581171\n",
      "0        -0.702824   0.62552     0.379712   0.0760131\n",
      "0         0         -0.289942    0.355151  -0.188083\n",
      "0         0         -0.152472   -0.139313   0.0645387\n",
      "0         0          0           0          0.0547209\n",
      "-------  ---------  ----------  ---------  ----------\n",
      "\n",
      "\n",
      "[ 2.68394526+0.j         -0.70282438+0.j         -0.21462766+0.22017767j\n",
      " -0.21462766-0.22017767j  0.05472091+0.j        ]\n"
     ]
    }
   ],
   "source": [
    "import numpy as np\n",
    "from tabulate import tabulate\n",
    "\n",
    "# A is a square random matrix of size n\n",
    "n = 5\n",
    "A = np.random.rand(n, n)\n",
    "print(\"A=\")\n",
    "print(tabulate(A))\n",
    "\n",
    "def eigen_qr_simple(A, iterations=500000):\n",
    "    Ak = np.copy(A)\n",
    "    n = A.shape[0]\n",
    "    QQ = np.eye(n)\n",
    "    for k in range(iterations):\n",
    "        Q, R = np.linalg.qr(Ak)\n",
    "        Ak = R @ Q\n",
    "        QQ = QQ @ Q\n",
    "        # we \"peek\" into the structure of matrix A from time to time\n",
    "        # to see how it looks\n",
    "        if k%100000 == 0:\n",
    "            print(\"A\",k,\"=\")\n",
    "            print(tabulate(Ak))\n",
    "            print(\"\\n\")\n",
    "    return Ak, QQ\n",
    "\n",
    "# We call the function    \n",
    "eigen_qr_simple(A)\n",
    "\n",
    "# We compare our results with the official numpy algorithm\n",
    "print(np.linalg.eigvals(A))"
   ]
  },
  {
   "cell_type": "code",
   "execution_count": 83,
   "metadata": {},
   "outputs": [
    {
     "name": "stdout",
     "output_type": "stream",
     "text": [
      "Collecting tabulate\n",
      "  Downloading tabulate-0.8.9-py3-none-any.whl (25 kB)\n",
      "Installing collected packages: tabulate\n",
      "Successfully installed tabulate-0.8.9\n"
     ]
    }
   ],
   "source": [
    "! pip install tabulate"
   ]
  },
  {
   "cell_type": "markdown",
   "metadata": {},
   "source": [
    "--- \n",
    "\n",
    "# partial pivot \n",
    "\n",
    "## finding P in P @ L @ U\n"
   ]
  },
  {
   "cell_type": "code",
   "execution_count": 114,
   "metadata": {},
   "outputs": [],
   "source": [
    "def pivot_matrix(M):\n",
    "    \"\"\"Returns the pivoting matrix for M, used in Doolittle's method.\"\"\"\n",
    "    m = len(M)\n",
    "\n",
    "    # Create an identity matrix, with floating point values                                                                                                                                                                                            \n",
    "    id_mat = [[float(i == j) for i in range(m)] for j in range(m)]\n",
    "\n",
    "    # Rearrange the identity matrix such that the largest element of                                                                                                                                                                                   \n",
    "    # each column of M is placed on the diagonal of of M                                                                                                                                                                                               \n",
    "    for j in range(m):\n",
    "        row = max(range(j, m), key=lambda i: abs(M[i][j]))\n",
    "        if j != row:\n",
    "            # Swap the rows                                                                                                                                                                                                                            \n",
    "            id_mat[j], id_mat[row] = id_mat[row], id_mat[j]\n",
    "\n",
    "    return id_mat"
   ]
  },
  {
   "cell_type": "code",
   "execution_count": 149,
   "metadata": {},
   "outputs": [],
   "source": [
    "M = np.array([0,1,1,1]).reshape(2,2)"
   ]
  },
  {
   "cell_type": "code",
   "execution_count": 115,
   "metadata": {},
   "outputs": [
    {
     "data": {
      "text/plain": [
       "[[0.0, 1.0], [1.0, 0.0]]"
      ]
     },
     "execution_count": 115,
     "metadata": {},
     "output_type": "execute_result"
    }
   ],
   "source": [
    "pivot_matrix(M)"
   ]
  },
  {
   "cell_type": "code",
   "execution_count": 152,
   "metadata": {},
   "outputs": [],
   "source": [
    "def pivot_m(M):\n",
    "    \"\"\"Returns the pivoting matrix for M, \n",
    "    used in Doolittle's method.\"\"\"\n",
    "    m = len(M)\n",
    "    P = np.identity(m, dtype=np.int32)\n",
    "\n",
    "    # Rearrange P such that the largest element of                                                                                                                                                                                   \n",
    "    # each column of M is placed on the diagonal of of M                                                                                                                                                                                               \n",
    "    for j in range(m):\n",
    "        row = max(range(j, m), key = lambda i: abs(M[i,j]))\n",
    "        if j != row:\n",
    "            # Swap the rows                                                                                                                                                                                                                            \n",
    "            P[[j,row]] = P[[row,j]]\n",
    "\n",
    "    return P"
   ]
  },
  {
   "cell_type": "code",
   "execution_count": 153,
   "metadata": {},
   "outputs": [
    {
     "data": {
      "text/plain": [
       "array([[0, 1],\n",
       "       [1, 0]], dtype=int32)"
      ]
     },
     "execution_count": 153,
     "metadata": {},
     "output_type": "execute_result"
    }
   ],
   "source": [
    "pivot_m(M)"
   ]
  },
  {
   "cell_type": "code",
   "execution_count": null,
   "metadata": {},
   "outputs": [],
   "source": []
  }
 ],
 "metadata": {
  "kernelspec": {
   "display_name": "Python 3 (ipykernel)",
   "language": "python",
   "name": "python3"
  },
  "language_info": {
   "codemirror_mode": {
    "name": "ipython",
    "version": 3
   },
   "file_extension": ".py",
   "mimetype": "text/x-python",
   "name": "python",
   "nbconvert_exporter": "python",
   "pygments_lexer": "ipython3",
   "version": "3.9.12"
  },
  "widgets": {
   "application/vnd.jupyter.widget-state+json": {
    "state": {},
    "version_major": 2,
    "version_minor": 0
   }
  }
 },
 "nbformat": 4,
 "nbformat_minor": 4
}
