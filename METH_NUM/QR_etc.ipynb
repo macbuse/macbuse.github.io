{
 "cells": [
  {
   "cell_type": "code",
   "execution_count": 87,
   "metadata": {},
   "outputs": [],
   "source": [
    "import numpy as np\n",
    "\n",
    "import matplotlib.pyplot as plt\n",
    "\n",
    "\n",
    "import scipy\n",
    "from scipy import linalg"
   ]
  },
  {
   "cell_type": "markdown",
   "metadata": {},
   "source": [
    "# Decompositions\n",
    "\n",
    "- $PLU$\n",
    "- Cholesky\n",
    "- $QR$\n",
    "\n",
    "\n",
    "---\n",
    "\n",
    "## LU \n",
    "\n",
    "[wiki entry](https://en.wikipedia.org/wiki/LU_decomposition)\n",
    "\n",
    "It turns out that a proper permutation in rows (or columns) is sufficient for LU factorization. LU factorization with partial pivoting (LUP) refers often to LU factorization with row permutations only:\n",
    "\n",
    "$PA=LU$\n",
    "\n",
    "where \n",
    "- L and U are again lower and upper triangular matrices\n",
    "- P is a permutation matrix, which, when left-multiplied to A, reorders the rows of A.\n",
    "\n",
    "It turns out that all square matrices can be factorized in this form \n",
    "[Pavel Okunev, Charles R. Johnson 1997](https://arxiv.org/abs/math/0506382)\n",
    "\n",
    "and the factorization is numerically stable in practice.\n",
    "\n",
    "This makes LUP decomposition a useful technique in practice.\n",
    "\n",
    "\n",
    "Look at [discussion and python 2 code](https://www.quantstart.com/articles/LU-Decomposition-in-Python-and-NumPy/)"
   ]
  },
  {
   "cell_type": "code",
   "execution_count": 102,
   "metadata": {},
   "outputs": [],
   "source": [
    "A = np.array([1,4,-1,2]).reshape(2,2)"
   ]
  },
  {
   "cell_type": "code",
   "execution_count": 14,
   "metadata": {},
   "outputs": [
    {
     "data": {
      "text/plain": [
       "(array([[1., 0.],\n",
       "        [0., 1.]]),\n",
       " array([[1., 0.],\n",
       "        [1., 1.]]),\n",
       " array([[1., 1.],\n",
       "        [0., 1.]]))"
      ]
     },
     "execution_count": 14,
     "metadata": {},
     "output_type": "execute_result"
    }
   ],
   "source": [
    "scipy.linalg.lu(A)"
   ]
  },
  {
   "cell_type": "code",
   "execution_count": 155,
   "metadata": {},
   "outputs": [
    {
     "data": {
      "text/plain": [
       "array([[-1,  3,  0],\n",
       "       [ 1,  0, -4],\n",
       "       [ 2,  0,  5]])"
      ]
     },
     "execution_count": 155,
     "metadata": {},
     "output_type": "execute_result"
    }
   ],
   "source": [
    "B = [-1,3,0,1,0,-4,2,0,5]\n",
    "B = np.array(B).reshape(3,3)\n",
    "B"
   ]
  },
  {
   "cell_type": "code",
   "execution_count": 159,
   "metadata": {},
   "outputs": [],
   "source": [
    "P,L,U = scipy.linalg.lu(B)"
   ]
  },
  {
   "cell_type": "code",
   "execution_count": 178,
   "metadata": {},
   "outputs": [
    {
     "data": {
      "text/plain": [
       "array([[-1.,  3.,  0.],\n",
       "       [ 1.,  0., -4.],\n",
       "       [ 2.,  0.,  5.]])"
      ]
     },
     "execution_count": 178,
     "metadata": {},
     "output_type": "execute_result"
    }
   ],
   "source": [
    "P @ L @ U "
   ]
  },
  {
   "cell_type": "code",
   "execution_count": 179,
   "metadata": {},
   "outputs": [
    {
     "data": {
      "text/plain": [
       "array([[0., 1., 0.],\n",
       "       [0., 0., 1.],\n",
       "       [1., 0., 0.]])"
      ]
     },
     "execution_count": 179,
     "metadata": {},
     "output_type": "execute_result"
    }
   ],
   "source": [
    "P"
   ]
  },
  {
   "cell_type": "code",
   "execution_count": 180,
   "metadata": {},
   "outputs": [
    {
     "data": {
      "text/plain": [
       "array([[ 2.,  0.,  5.],\n",
       "       [-1.,  3.,  0.],\n",
       "       [ 1.,  0., -4.]])"
      ]
     },
     "execution_count": 180,
     "metadata": {},
     "output_type": "execute_result"
    }
   ],
   "source": [
    "np.linalg.inv(P) @ B"
   ]
  },
  {
   "cell_type": "code",
   "execution_count": 157,
   "metadata": {},
   "outputs": [
    {
     "data": {
      "text/plain": [
       "array([ 1.69230769,  0.8974359 , -0.07692308])"
      ]
     },
     "execution_count": 157,
     "metadata": {},
     "output_type": "execute_result"
    }
   ],
   "source": [
    "np.linalg.solve(B,[1,2,3])"
   ]
  },
  {
   "cell_type": "code",
   "execution_count": 174,
   "metadata": {},
   "outputs": [
    {
     "data": {
      "text/plain": [
       "array([3., 1., 2.])"
      ]
     },
     "execution_count": 174,
     "metadata": {},
     "output_type": "execute_result"
    }
   ],
   "source": [
    "np.linalg.inv(P) @ [1,2,3]"
   ]
  },
  {
   "cell_type": "markdown",
   "metadata": {},
   "source": [
    "---\n",
    "\n",
    "## Solving linear equations\n",
    "\n",
    "Given a system of linear equations in matrix form\n",
    "\n",
    "$ A\\mathbf {x} =\\mathbf {b} $\n",
    "we want to solve the equation for x, given A and b. \n",
    "\n",
    "Suppose we have already obtained the $LUP$ decomposition of $A$ such that\n",
    "\n",
    "$PA=LU$ , so $LU\\mathbf {x} =P\\mathbf {b}$.\n",
    "\n",
    "In this case the solution is done in two logical steps:\n",
    "\n",
    "1. solve the equation\n",
    "$L\\mathbf {y} =P\\mathbf {b} $ for y.\n",
    "1. solve the equation $U\\mathbf {x} =\\mathbf {y} $ for x.\n",
    "\n",
    "\n",
    "In both cases we are dealing with triangular matrices (L and U), which can be solved directly **by forward and backward substitution** without using the Gaussian elimination process (however we do need this process or equivalent to compute the LU decomposition itself)."
   ]
  },
  {
   "cell_type": "code",
   "execution_count": 6,
   "metadata": {},
   "outputs": [],
   "source": [
    "\n",
    "a = 1\n",
    "A = np.array([a,1,1,2]).reshape(2,2)"
   ]
  },
  {
   "cell_type": "code",
   "execution_count": 8,
   "metadata": {},
   "outputs": [],
   "source": [
    "import scipy"
   ]
  },
  {
   "cell_type": "code",
   "execution_count": 15,
   "metadata": {},
   "outputs": [
    {
     "data": {
      "text/plain": [
       "(array([[1., 0.],\n",
       "        [0., 1.]]),\n",
       " array([[1., 0.],\n",
       "        [1., 1.]]),\n",
       " array([[1., 1.],\n",
       "        [0., 1.]]))"
      ]
     },
     "execution_count": 15,
     "metadata": {},
     "output_type": "execute_result"
    }
   ],
   "source": [
    "scipy.linalg.lu(A)"
   ]
  },
  {
   "cell_type": "markdown",
   "metadata": {},
   "source": [
    "## non trivial permutation "
   ]
  },
  {
   "cell_type": "code",
   "execution_count": 25,
   "metadata": {},
   "outputs": [
    {
     "data": {
      "text/plain": [
       "array([[0., 1.],\n",
       "       [1., 0.]])"
      ]
     },
     "execution_count": 25,
     "metadata": {},
     "output_type": "execute_result"
    }
   ],
   "source": [
    "a = 0\n",
    "A = np.array([a,1,1,2]).reshape(2,2)\n",
    "P, L , U = scipy.linalg.lu(A)\n",
    "P"
   ]
  },
  {
   "cell_type": "code",
   "execution_count": 26,
   "metadata": {},
   "outputs": [
    {
     "data": {
      "text/plain": [
       "(array([[0., 1.],\n",
       "        [1., 2.]]),\n",
       " array([[1., 2.],\n",
       "        [0., 1.]]))"
      ]
     },
     "execution_count": 26,
     "metadata": {},
     "output_type": "execute_result"
    }
   ],
   "source": [
    "P @ U, U"
   ]
  },
  {
   "cell_type": "markdown",
   "metadata": {},
   "source": [
    "## singular decomposition"
   ]
  },
  {
   "cell_type": "code",
   "execution_count": 31,
   "metadata": {},
   "outputs": [
    {
     "data": {
      "text/plain": [
       "(array([[1. , 0. ],\n",
       "        [0.5, 1. ]]),\n",
       " array([[1., 2.],\n",
       "        [0., 0.]]))"
      ]
     },
     "execution_count": 31,
     "metadata": {},
     "output_type": "execute_result"
    }
   ],
   "source": [
    "a = .5\n",
    "A = np.array([a,1,1,2]).reshape(2,2)\n",
    "P, L , U = scipy.linalg.lu(A)\n",
    "L, U"
   ]
  },
  {
   "cell_type": "markdown",
   "metadata": {},
   "source": [
    "---\n",
    "\n",
    "# Cholesky\n",
    "\n",
    "\n",
    "[wiki](https://en.wikipedia.org/wiki/Cholesky_decomposition)\n",
    "\n",
    "In linear algebra, the Cholesky decomposition \n",
    "is a decomposition of a matrix $\\mathbf {A}$ which is\n",
    "1. Hermitian\n",
    "1. positive-definite\n",
    "\n",
    "into the product of a lower triangular matrix and its conjugate transpose ie\n",
    "\n",
    "$\\mathbf {A} =\\mathbf {LL} ^{*}$\n",
    "\n",
    "\n",
    "- useful for efficient numerical solutions, e.g., Monte Carlo simulations.\n",
    "- discovered by André-Louis Cholesky for real matrices, and posthumously published in 1924.\n",
    "- roughly twice as efficient as the LU decomposition for solving systems of linear equations.\n",
    "\n",
    "The recipe for the coefficients of $\\mathbf {L}$  is :\n",
    "\n",
    "- diagonal elements $l_{kk} = \\sqrt{ a_{kk} - \\sum^{k-1}_{j=1} l^2_{kj}}$\n",
    "- off diagonal elts $l_{ik} = \\frac{1}{l_{kk}} \\left( a_{ik} - \\sum^{k-1}_{j=1} l_{ij} l_{kj} \\right)$\n",
    "\n"
   ]
  },
  {
   "cell_type": "code",
   "execution_count": 90,
   "metadata": {},
   "outputs": [
    {
     "data": {
      "text/plain": [
       "array([[ 1,  2,  1],\n",
       "       [ 2, 13, -1],\n",
       "       [ 1, -1,  3]])"
      ]
     },
     "execution_count": 150,
     "metadata": {},
     "output_type": "execute_result"
    }
   ],
   "source": [
    "A = np.array([1,2,1,2,13, -1,1,-1, 3]).reshape(3,3)\n",
    "A "
   ]
  },
  {
   "cell_type": "code",
   "execution_count": 5,
   "metadata": {},
   "outputs": [],
   "source": [
    "import scipy.linalg"
   ]
  },
  {
   "cell_type": "code",
   "execution_count": 19,
   "metadata": {},
   "outputs": [
    {
     "data": {
      "text/plain": [
       "array([[ 1.,  0.,  0.],\n",
       "       [ 2.,  3.,  0.],\n",
       "       [ 1., -1.,  1.]])"
      ]
     },
     "execution_count": 19,
     "metadata": {},
     "output_type": "execute_result"
    }
   ],
   "source": [
    "scipy.linalg.cholesky(A).T"
   ]
  },
  {
   "cell_type": "code",
   "execution_count": 18,
   "metadata": {},
   "outputs": [
    {
     "data": {
      "text/plain": [
       "array([[ 1.,  0.,  0.],\n",
       "       [ 2.,  3.,  0.],\n",
       "       [ 1., -1.,  1.]])"
      ]
     },
     "execution_count": 18,
     "metadata": {},
     "output_type": "execute_result"
    }
   ],
   "source": [
    "np.array(cholesky(A))"
   ]
  },
  {
   "cell_type": "code",
   "execution_count": 168,
   "metadata": {},
   "outputs": [
    {
     "data": {
      "text/plain": [
       "(array([[ 1.,  0.,  0.],\n",
       "        [ 2.,  3.,  0.],\n",
       "        [ 1., -1.,  1.]]),\n",
       " array([[ 1.,  2.,  1.],\n",
       "        [ 2., 13., -1.],\n",
       "        [ 1., -1.,  3.]]))"
      ]
     },
     "execution_count": 168,
     "metadata": {},
     "output_type": "execute_result"
    }
   ],
   "source": [
    "def cholesky(A):\n",
    "    '''Performs a Cholesky decomposition \n",
    "    A, which must be a symmetric and positive definite matrix. \n",
    "    returns L = lower variant triangular matrix\n",
    "    such that A = L L^*'''\n",
    "    \n",
    "    \n",
    "    n = len(A)\n",
    "    # Initialise L as the zero matrix\n",
    "    L = np.zeros((n,n))\n",
    "\n",
    "    for i in range(n):\n",
    "        # under the diagonal\n",
    "        for k in range(i):\n",
    "             # LaTeX: l_{ik} = \\frac{1}{l_{kk}} \\left( a_{ik} - \\sum^{k-1}_{j=1} l_{ij} l_{kj} \\right)\n",
    "            L[i,k] = ( (A[i,k] - L[i,:] @  L[k,:]) / L[k,k] )\n",
    "        \n",
    "        #on the diagonal\n",
    "        # LaTeX: l_{kk} = \\sqrt{ a_{kk} - \\sum^{k-1}_{j=1} l^2_{kj}}\n",
    "        L[i,i] = sqrt(A[i,i] -  L[i,:] @  L[i,:])\n",
    "\n",
    "    return L\n",
    "\n",
    "L = cholesky(A)\n",
    "\n",
    "L, L @ L.T "
   ]
  },
  {
   "cell_type": "markdown",
   "metadata": {},
   "source": [
    "---\n",
    "\n",
    "# QR decompositions\n",
    "\n",
    "\n",
    "[source](https://www.quantstart.com/articles/QR-Decomposition-with-Python-and-NumPy/)\n",
    "\n",
    "There are a few different algorithms for calculating the matrices $Q$ and $R$. \n",
    "\n",
    "We will outline the method of <a href=\"http://en.wikipedia.org/wiki/Householder_transformation\">Householder Reflections</a>, which is known to be more numerically stable the  alternative Gramm-Schmidt method.\n",
    "\n",
    "Note, the following explanation is an expansion of the extremely detailed article on <a href=\"http://en.wikipedia.org/wiki/QR_decomposition#Using_Householder_reflections\">QR Decomposition using Householder Reflections.\n",
    "\n",
    "A **Householder Reflection** is a linear transformation that enables a vector to be reflected through a plane or hyperplane. Essentially, we use this method because we want to create an upper triangular matrix, $R$. The householder reflection is able to carry out this vector reflection such that all but one of the coordinates disappears. The matrix $Q$ will be built up as a sequence of matrix multiplications that eliminate each coordinate in turn, up to the rank of the matrix $A$.\n",
    "\n",
    "**First step** create the vector $\\mathbb{x}$, which is the $k$-th column of the matrix $A$, for step $k$.\n",
    "    \n",
    " We define $\\alpha = -sgn(\\mathbb{x}_k)(||\\mathbb{x}||)$. The norm $||\\cdot||$ used here is the *Euclidean norm*. \n",
    "\n",
    " Given the first column vector of the identity matrix, $I$ of equal size to $A$, $\\mathbb{e}_1 = (1,0,...,0)^T$, we create the vector $\\mathbb{u}$:\n",
    "\n",
    "\\begin{eqnarray*}\n",
    "\\mathbb{u} = \\mathbb{x} + \\alpha \\mathbb{e}_1\n",
    "\\end{eqnarray*}\n",
    "\n",
    "<p>Once we have the vector $\\mathbb{u}$, we need to convert it to a unit vector, which we denote as $\\mathbb{v}$:</p>\n",
    "\n",
    "\\begin{eqnarray*}\n",
    "\\mathbb{v} = \\mathbb{u}/||\\mathbb{u}||\n",
    "\\end{eqnarray*}\n",
    "\n",
    "**Second step** form the matrix of the Householder transformation $Q$ associated to $\\mathbb{v}$ :\n",
    "\n",
    "\\begin{eqnarray*}\n",
    "Q = I - 2 \\mathbb{v} \\mathbb{v}^T\n",
    "\\end{eqnarray*}\n",
    "\n",
    "**Third step** $Q$ is now an $m\\times m$ Householder matrix, with $Q\\mathbb{x} = \\left( \\alpha, 0, ..., 0\\right)^T$. We will use $Q$ to transform $A$ to upper triangular form, giving us the matrix $R$. \n",
    "    \n",
    "Write  $Q_k$ for $Q$ at the $k$th tep  and, since $k=0$ in this first step, we have $Q_0$ as our first Householder matrix. \n",
    "Muliplying by   $A$ gives us:\n",
    "\n",
    "\\begin{eqnarray*}\n",
    "Q_0A = \\begin{bmatrix} \\alpha_1&\\star&\\dots&\\star\\\\ 0 & & & \\\\ \\vdots & & A' & \\\\ 0 & & & \\end{bmatrix}\n",
    "\\end{eqnarray*}\n",
    "\n",
    "---\n",
    "    \n",
    " The whole process is **recursive** and we repeat the 3 steps above for the minor matrix $A'$, which will give a second Householder matrix $Q'_1$. Now we have to \"pad out\" this minor matrix with elements from the identity matrix such that we can consistently multiply the Householder matrices together. Hence, we define $Q_k$ as the block matrix:\n",
    "\n",
    "\\begin{eqnarray*}\n",
    "Q_k = \\begin{pmatrix} I_{k-1} & 0\\\\ 0 & Q_k'\\end{pmatrix}\n",
    "\\end{eqnarray*}\n",
    "\n",
    "<p>Once we have carried out $t$ iterations of this process we have $R$ as an upper triangular matrix:</p>\n",
    "\n",
    "\\begin{eqnarray*}\n",
    "R = Q_t ... Q_2 Q_1 A\n",
    "\\end{eqnarray*}\n",
    "\n",
    "<p>$Q$ is then fully defined as the multiplication of the transposes of each $Q_k$:</p>\n",
    "\n",
    "\\begin{eqnarray*}\n",
    "Q = Q^T_1 Q^T_2 ... Q^T_t\n",
    "\\end{eqnarray*}\n",
    "\n",
    "<p>This gives $A=QR$, the QR Decomposition of $A$.</p>"
   ]
  },
  {
   "cell_type": "code",
   "execution_count": 147,
   "metadata": {},
   "outputs": [
    {
     "data": {
      "text/plain": [
       "(array([[ 12., -51.,   4.],\n",
       "        [  6., 167., -68.],\n",
       "        [ -4.,  24., -41.]]),\n",
       " array([[ 1.00000000e+00, -4.67885368e-18, -3.77113307e-17],\n",
       "        [-4.67885368e-18,  1.00000000e+00,  1.52836927e-17],\n",
       "        [-3.77113307e-17,  1.52836927e-17,  1.00000000e+00]]))"
      ]
     },
     "execution_count": 147,
     "metadata": {},
     "output_type": "execute_result"
    }
   ],
   "source": [
    "def QR_householder(A):\n",
    "    '''Performs a Householder Reflections based QR becomposition of the                                               \n",
    "    matrix A an np.array\n",
    "    Returns \n",
    "    - Q, an orthogonal matrix\n",
    "    - R upper triangular matrix \n",
    "    such that A = QR.\n",
    "    '''\n",
    "    \n",
    "    n = A.shape[0]\n",
    "    # Set R equal to A, and Q to the identity matrix of the same size\n",
    "    R = A\n",
    "    Q = np.identity(n)\n",
    "\n",
    "    # The Householder procedure\n",
    "    for k in range(n-1):  #  reduce the index by 1 to skip the 1x1 matrix\n",
    "\n",
    "        # get the vectors x, e and the scalar alpha\n",
    "        x = R[k:,k]\n",
    "        e_0 = np.identity(n-k)[0]\n",
    "        alpha = -np.sign(x[0]) * np.linalg.norm(x)\n",
    "\n",
    "        u = x + alpha*e_0\n",
    "        v = u/np.linalg.norm(u)\n",
    "        \n",
    "        # matrix of the reflection x -> x - 2<v,x>v\n",
    "        Householder_matrix = np.identity(n-k) -  2*np.array([ v[i]*v for i  in range(n-k)])\n",
    "    \n",
    "        # pad out the matrix to match A.shape()\n",
    "        Q_k = np.identity(n)\n",
    "        Q_k[k:,k:] = Householder_matrix\n",
    "     \n",
    "        Q = Q_k @ Q\n",
    "        R = Q_k @ R\n",
    "\n",
    "    # Q is the inverse of the product of the Q_k\n",
    "    # we need to take the transpose/inverse now\n",
    "    return Q.T, R\n",
    "\n",
    "A = np.array([[12, -51, 4], \n",
    "              [6, 167, -68], \n",
    "              [-4, 24, -41]])\n",
    "\n",
    "Q, R = QR_householder(A)\n",
    "\n",
    "Q @ R, Q @ Q.T"
   ]
  },
  {
   "cell_type": "markdown",
   "metadata": {},
   "source": [
    "--- \n",
    "\n",
    "# eigenvalues using QR\n",
    "\n",
    "[source](https://www.andreinc.net/2021/01/25/computing-eigenvalues-and-eigenvectors-using-qr-decomposition#:~:text=Even%20if%20it's%20not%20very,Q%20is%20an%20orthonormal%20matrix.)\n",
    "\n",
    "\n",
    "\n",
    "! pip install tabulate"
   ]
  },
  {
   "cell_type": "code",
   "execution_count": null,
   "metadata": {},
   "outputs": [],
   "source": []
  },
  {
   "cell_type": "code",
   "execution_count": 141,
   "metadata": {},
   "outputs": [
    {
     "name": "stdout",
     "output_type": "stream",
     "text": [
      "A=\n",
      "---------  --------  ---------  ---------  ---------\n",
      "0.201161   0.867271  0.812846   0.478103   0.756584\n",
      "0.821249   0.752742  0.272163   0.784753   0.780868\n",
      "0.975179   0.562201  0.272817   0.931913   0.663289\n",
      "0.0999714  0.389918  0.0610292  0.0613589  0.217314\n",
      "0.39985    0.159648  0.318877   0.549889   0.0273645\n",
      "---------  --------  ---------  ---------  ---------\n",
      "A 0 =\n",
      "----------  -----------  ----------  ----------  ----------\n",
      " 1.68787    -1.48075      0.156866   -0.900978   -0.726793\n",
      "-1.16421    -0.0989761   -0.0168406   0.437746    0.0419396\n",
      " 0.308498    0.00277441  -0.147396    0.194095   -0.296607\n",
      " 0.0446465   0.0444515    0.120628   -0.0920303  -0.0155305\n",
      " 0.0386219   0.0246236    0.0823022  -0.0842476  -0.0340297\n",
      "----------  -----------  ----------  ----------  ----------\n",
      "\n",
      "\n",
      "A 100000 =\n",
      "-------  ---------  ---------  -------------  ----------\n",
      "2.37559  -0.191106  -0.907508  -0.857174       0.273345\n",
      "0        -0.798147  -0.107658  -0.245126      -0.069745\n",
      "0         0         -0.212483   0.160252       0.246612\n",
      "0         0          0         -0.104604      -0.28233\n",
      "0         0          0          4.94066e-324   0.0550875\n",
      "-------  ---------  ---------  -------------  ----------\n",
      "\n",
      "\n",
      "A 200000 =\n",
      "-------  ---------  ---------  -------------  ----------\n",
      "2.37559  -0.191106  -0.907508  -0.857174       0.273345\n",
      "0        -0.798147  -0.107658  -0.245126      -0.069745\n",
      "0         0         -0.212483   0.160252       0.246612\n",
      "0         0          0         -0.104604      -0.28233\n",
      "0         0          0          4.94066e-324   0.0550875\n",
      "-------  ---------  ---------  -------------  ----------\n",
      "\n",
      "\n",
      "A 300000 =\n",
      "-------  ---------  ---------  -------------  ----------\n",
      "2.37559  -0.191106  -0.907508  -0.857174       0.273345\n",
      "0        -0.798147  -0.107658  -0.245126      -0.069745\n",
      "0         0         -0.212483   0.160252       0.246612\n",
      "0         0          0         -0.104604      -0.28233\n",
      "0         0          0          4.94066e-324   0.0550875\n",
      "-------  ---------  ---------  -------------  ----------\n",
      "\n",
      "\n",
      "A 400000 =\n",
      "-------  ---------  ---------  -------------  ----------\n",
      "2.37559  -0.191106  -0.907508  -0.857174       0.273345\n",
      "0        -0.798147  -0.107658  -0.245126      -0.069745\n",
      "0         0         -0.212483   0.160252       0.246612\n",
      "0         0          0         -0.104604      -0.28233\n",
      "0         0          0          4.94066e-324   0.0550875\n",
      "-------  ---------  ---------  -------------  ----------\n",
      "\n",
      "\n",
      "[ 2.3755882  -0.79814693  0.0550875  -0.10460353 -0.2124826 ]\n"
     ]
    }
   ],
   "source": [
    "import numpy as np\n",
    "from tabulate import tabulate\n",
    "\n",
    "# A is a square random matrix of size n\n",
    "n = 5\n",
    "A = np.random.rand(n, n)\n",
    "print(\"A=\")\n",
    "print(tabulate(A))\n",
    "\n",
    "def eigen_qr_simple(A, iterations=500000):\n",
    "    Ak = np.copy(A)\n",
    "    n = A.shape[0]\n",
    "    QQ = np.eye(n)\n",
    "    for k in range(iterations):\n",
    "        Q, R = np.linalg.qr(Ak)\n",
    "        Ak = R @ Q\n",
    "        QQ = QQ @ Q\n",
    "        # we \"peek\" into the structure of matrix A from time to time\n",
    "        # to see how it looks\n",
    "        if k%100000 == 0:\n",
    "            print(\"A\",k,\"=\")\n",
    "            print(tabulate(Ak))\n",
    "            print(\"\\n\")\n",
    "    return Ak, QQ\n",
    "\n",
    "# We call the function    \n",
    "eigen_qr_simple(A)\n",
    "\n",
    "# We compare our results with the official numpy algorithm\n",
    "print(np.linalg.eigvals(A))"
   ]
  },
  {
   "cell_type": "markdown",
   "metadata": {},
   "source": [
    "--- \n",
    "\n",
    "# partial pivot \n",
    "\n",
    "## finding P in P @ L @ U\n"
   ]
  },
  {
   "cell_type": "code",
   "execution_count": 114,
   "metadata": {},
   "outputs": [],
   "source": [
    "def pivot_matrix(M):\n",
    "    \"\"\"Returns the pivoting matrix for M, used in Doolittle's method.\"\"\"\n",
    "    m = len(M)\n",
    "\n",
    "    # Create an identity matrix, with floating point values                                                                                                                                                                                            \n",
    "    id_mat = [[float(i == j) for i in range(m)] for j in range(m)]\n",
    "\n",
    "    # Rearrange the identity matrix such that the largest element of                                                                                                                                                                                   \n",
    "    # each column of M is placed on the diagonal of of M                                                                                                                                                                                               \n",
    "    for j in range(m):\n",
    "        row = max(range(j, m), key=lambda i: abs(M[i][j]))\n",
    "        if j != row:\n",
    "            # Swap the rows                                                                                                                                                                                                                            \n",
    "            id_mat[j], id_mat[row] = id_mat[row], id_mat[j]\n",
    "\n",
    "    return id_mat"
   ]
  },
  {
   "cell_type": "code",
   "execution_count": 149,
   "metadata": {},
   "outputs": [],
   "source": [
    "M = np.array([0,1,1,1]).reshape(2,2)"
   ]
  },
  {
   "cell_type": "code",
   "execution_count": 115,
   "metadata": {},
   "outputs": [
    {
     "data": {
      "text/plain": [
       "[[0.0, 1.0], [1.0, 0.0]]"
      ]
     },
     "execution_count": 115,
     "metadata": {},
     "output_type": "execute_result"
    }
   ],
   "source": [
    "pivot_matrix(M)"
   ]
  },
  {
   "cell_type": "code",
   "execution_count": 152,
   "metadata": {},
   "outputs": [],
   "source": [
    "def pivot_m(M):\n",
    "    \"\"\"Returns the pivoting matrix for M, \n",
    "    used in Doolittle's method.\"\"\"\n",
    "    m = len(M)\n",
    "    P = np.identity(m, dtype=np.int32)\n",
    "\n",
    "    # Rearrange P such that the largest element of                                                                                                                                                                                   \n",
    "    # each column of M is placed on the diagonal of of M                                                                                                                                                                                               \n",
    "    for j in range(m):\n",
    "        row = max(range(j, m), key = lambda i: abs(M[i,j]))\n",
    "        if j != row:\n",
    "            # Swap the rows                                                                                                                                                                                                                            \n",
    "            P[[j,row]] = P[[row,j]]\n",
    "\n",
    "    return P"
   ]
  },
  {
   "cell_type": "code",
   "execution_count": 153,
   "metadata": {},
   "outputs": [
    {
     "data": {
      "text/plain": [
       "array([[0, 1],\n",
       "       [1, 0]], dtype=int32)"
      ]
     },
     "execution_count": 153,
     "metadata": {},
     "output_type": "execute_result"
    }
   ],
   "source": [
    "pivot_m(M)"
   ]
  },
  {
   "cell_type": "code",
   "execution_count": null,
   "metadata": {},
   "outputs": [],
   "source": []
  }
 ],
 "metadata": {
  "kernelspec": {
   "display_name": "Python 3 (ipykernel)",
   "language": "python",
   "name": "python3"
  },
  "language_info": {
   "codemirror_mode": {
    "name": "ipython",
    "version": 3
   },
   "file_extension": ".py",
   "mimetype": "text/x-python",
   "name": "python",
   "nbconvert_exporter": "python",
   "pygments_lexer": "ipython3",
   "version": "3.8.12"
  },
  "widgets": {
   "application/vnd.jupyter.widget-state+json": {
    "state": {},
    "version_major": 2,
    "version_minor": 0
   }
  }
 },
 "nbformat": 4,
 "nbformat_minor": 4
}
