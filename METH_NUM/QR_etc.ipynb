{
 "cells": [
  {
   "cell_type": "code",
   "execution_count": 1,
   "metadata": {},
   "outputs": [],
   "source": [
    "import numpy as np\n",
    "\n",
    "import matplotlib.pyplot as plt\n",
    "\n",
    "\n",
    "import scipy\n",
    "from scipy import linalg\n",
    "\n",
    "#https://gist.github.com/samubernard/746c684771bc74d446ec"
   ]
  },
  {
   "cell_type": "markdown",
   "metadata": {},
   "source": [
    "# Decompositions\n",
    "\n",
    "- $PLU$\n",
    "- Cholesky\n",
    "- $QR$\n",
    "\n",
    "\n",
    "---\n",
    "\n",
    "## LU \n",
    "\n",
    "[wiki entry](https://en.wikipedia.org/wiki/LU_decomposition)\n",
    "\n",
    "It turns out that a proper permutation in rows (or columns) is sufficient for LU factorization. LU factorization with partial pivoting (LUP) refers often to LU factorization with row permutations only:\n",
    "\n",
    "$PA=LU$\n",
    "\n",
    "where \n",
    "- L and U are again lower and upper triangular matrices\n",
    "- P is a permutation matrix, which, when left-multiplied to A, reorders the rows of A.\n",
    "\n",
    "It turns out that all square matrices can be factorized in this form \n",
    "[Pavel Okunev, Charles R. Johnson 1997](https://arxiv.org/abs/math/0506382)\n",
    "\n",
    "and the factorization is numerically stable in practice.\n",
    "\n",
    "This makes LUP decomposition a useful technique in practice.\n",
    "\n",
    "\n",
    "Look at [discussion and python 2 code](https://www.quantstart.com/articles/LU-Decomposition-in-Python-and-NumPy/)"
   ]
  },
  {
   "cell_type": "code",
   "execution_count": 102,
   "metadata": {},
   "outputs": [],
   "source": [
    "A = np.array([1,4,-1,2]).reshape(2,2)"
   ]
  },
  {
   "cell_type": "code",
   "execution_count": 14,
   "metadata": {},
   "outputs": [
    {
     "data": {
      "text/plain": [
       "(array([[1., 0.],\n",
       "        [0., 1.]]),\n",
       " array([[1., 0.],\n",
       "        [1., 1.]]),\n",
       " array([[1., 1.],\n",
       "        [0., 1.]]))"
      ]
     },
     "execution_count": 14,
     "metadata": {},
     "output_type": "execute_result"
    }
   ],
   "source": [
    "scipy.linalg.lu(A)"
   ]
  },
  {
   "cell_type": "code",
   "execution_count": 155,
   "metadata": {},
   "outputs": [
    {
     "data": {
      "text/plain": [
       "array([[-1,  3,  0],\n",
       "       [ 1,  0, -4],\n",
       "       [ 2,  0,  5]])"
      ]
     },
     "execution_count": 155,
     "metadata": {},
     "output_type": "execute_result"
    }
   ],
   "source": [
    "B = [-1,3,0,1,0,-4,2,0,5]\n",
    "B = np.array(B).reshape(3,3)\n",
    "B"
   ]
  },
  {
   "cell_type": "code",
   "execution_count": 159,
   "metadata": {},
   "outputs": [],
   "source": [
    "P,L,U = scipy.linalg.lu(B)"
   ]
  },
  {
   "cell_type": "code",
   "execution_count": 178,
   "metadata": {},
   "outputs": [
    {
     "data": {
      "text/plain": [
       "array([[-1.,  3.,  0.],\n",
       "       [ 1.,  0., -4.],\n",
       "       [ 2.,  0.,  5.]])"
      ]
     },
     "execution_count": 178,
     "metadata": {},
     "output_type": "execute_result"
    }
   ],
   "source": [
    "P @ L @ U "
   ]
  },
  {
   "cell_type": "code",
   "execution_count": 179,
   "metadata": {},
   "outputs": [
    {
     "data": {
      "text/plain": [
       "array([[0., 1., 0.],\n",
       "       [0., 0., 1.],\n",
       "       [1., 0., 0.]])"
      ]
     },
     "execution_count": 179,
     "metadata": {},
     "output_type": "execute_result"
    }
   ],
   "source": [
    "P"
   ]
  },
  {
   "cell_type": "code",
   "execution_count": 180,
   "metadata": {},
   "outputs": [
    {
     "data": {
      "text/plain": [
       "array([[ 2.,  0.,  5.],\n",
       "       [-1.,  3.,  0.],\n",
       "       [ 1.,  0., -4.]])"
      ]
     },
     "execution_count": 180,
     "metadata": {},
     "output_type": "execute_result"
    }
   ],
   "source": [
    "np.linalg.inv(P) @ B"
   ]
  },
  {
   "cell_type": "code",
   "execution_count": 157,
   "metadata": {},
   "outputs": [
    {
     "data": {
      "text/plain": [
       "array([ 1.69230769,  0.8974359 , -0.07692308])"
      ]
     },
     "execution_count": 157,
     "metadata": {},
     "output_type": "execute_result"
    }
   ],
   "source": [
    "np.linalg.solve(B,[1,2,3])"
   ]
  },
  {
   "cell_type": "code",
   "execution_count": 174,
   "metadata": {},
   "outputs": [
    {
     "data": {
      "text/plain": [
       "array([3., 1., 2.])"
      ]
     },
     "execution_count": 174,
     "metadata": {},
     "output_type": "execute_result"
    }
   ],
   "source": [
    "np.linalg.inv(P) @ [1,2,3]"
   ]
  },
  {
   "cell_type": "markdown",
   "metadata": {},
   "source": [
    "---\n",
    "\n",
    "## Solving linear equations\n",
    "\n",
    "Given a system of linear equations in matrix form\n",
    "\n",
    "$ A\\mathbf {x} =\\mathbf {b} $\n",
    "we want to solve the equation for x, given A and b. \n",
    "\n",
    "Suppose we have already obtained the $LUP$ decomposition of $A$ such that\n",
    "\n",
    "$PA=LU$ , so $LU\\mathbf {x} =P\\mathbf {b}$.\n",
    "\n",
    "In this case the solution is done in two logical steps:\n",
    "\n",
    "1. solve the equation\n",
    "$L\\mathbf {y} =P\\mathbf {b} $ for y.\n",
    "1. solve the equation $U\\mathbf {x} =\\mathbf {y} $ for x.\n",
    "\n",
    "\n",
    "In both cases we are dealing with triangular matrices (L and U), which can be solved directly **by forward and backward substitution** without using the Gaussian elimination process (however we do need this process or equivalent to compute the LU decomposition itself)."
   ]
  },
  {
   "cell_type": "code",
   "execution_count": 6,
   "metadata": {},
   "outputs": [],
   "source": [
    "\n",
    "a = 1\n",
    "A = np.array([a,1,1,2]).reshape(2,2)"
   ]
  },
  {
   "cell_type": "code",
   "execution_count": 8,
   "metadata": {},
   "outputs": [],
   "source": [
    "import scipy"
   ]
  },
  {
   "cell_type": "code",
   "execution_count": 15,
   "metadata": {},
   "outputs": [
    {
     "data": {
      "text/plain": [
       "(array([[1., 0.],\n",
       "        [0., 1.]]),\n",
       " array([[1., 0.],\n",
       "        [1., 1.]]),\n",
       " array([[1., 1.],\n",
       "        [0., 1.]]))"
      ]
     },
     "execution_count": 15,
     "metadata": {},
     "output_type": "execute_result"
    }
   ],
   "source": [
    "scipy.linalg.lu(A)"
   ]
  },
  {
   "cell_type": "markdown",
   "metadata": {},
   "source": [
    "## non trivial permutation "
   ]
  },
  {
   "cell_type": "code",
   "execution_count": 25,
   "metadata": {},
   "outputs": [
    {
     "data": {
      "text/plain": [
       "array([[0., 1.],\n",
       "       [1., 0.]])"
      ]
     },
     "execution_count": 25,
     "metadata": {},
     "output_type": "execute_result"
    }
   ],
   "source": [
    "a = 0\n",
    "A = np.array([a,1,1,2]).reshape(2,2)\n",
    "P, L , U = scipy.linalg.lu(A)\n",
    "P"
   ]
  },
  {
   "cell_type": "code",
   "execution_count": 26,
   "metadata": {},
   "outputs": [
    {
     "data": {
      "text/plain": [
       "(array([[0., 1.],\n",
       "        [1., 2.]]),\n",
       " array([[1., 2.],\n",
       "        [0., 1.]]))"
      ]
     },
     "execution_count": 26,
     "metadata": {},
     "output_type": "execute_result"
    }
   ],
   "source": [
    "P @ U, U"
   ]
  },
  {
   "cell_type": "markdown",
   "metadata": {},
   "source": [
    "## singular decomposition"
   ]
  },
  {
   "cell_type": "code",
   "execution_count": 31,
   "metadata": {},
   "outputs": [
    {
     "data": {
      "text/plain": [
       "(array([[1. , 0. ],\n",
       "        [0.5, 1. ]]),\n",
       " array([[1., 2.],\n",
       "        [0., 0.]]))"
      ]
     },
     "execution_count": 31,
     "metadata": {},
     "output_type": "execute_result"
    }
   ],
   "source": [
    "a = .5\n",
    "A = np.array([a,1,1,2]).reshape(2,2)\n",
    "P, L , U = scipy.linalg.lu(A)\n",
    "L, U"
   ]
  },
  {
   "cell_type": "markdown",
   "metadata": {},
   "source": [
    "---\n",
    "\n",
    "# Cholesky\n",
    "\n",
    "\n",
    "[wiki](https://en.wikipedia.org/wiki/Cholesky_decomposition)\n",
    "\n",
    "In linear algebra, the Cholesky decomposition \n",
    "is a decomposition of a matrix $\\mathbf {A}$ which is\n",
    "1. Hermitian\n",
    "1. positive-definite\n",
    "\n",
    "into the product of a lower triangular matrix and its conjugate transpose ie\n",
    "\n",
    "$\\mathbf {A} =\\mathbf {LL} ^{*}$\n",
    "\n",
    "\n",
    "- useful for efficient numerical solutions, e.g., Monte Carlo simulations.\n",
    "- discovered by André-Louis Cholesky for real matrices, and posthumously published in 1924.\n",
    "- roughly twice as efficient as the LU decomposition for solving systems of linear equations.\n",
    "\n",
    "The recipe for the coefficients of $\\mathbf {L}$  is :\n",
    "\n",
    "- diagonal elements $l_{kk} = \\sqrt{ a_{kk} - \\sum^{k-1}_{j=1} l^2_{kj}}$\n",
    "- off diagonal elts $l_{ik} = \\frac{1}{l_{kk}} \\left( a_{ik} - \\sum^{k-1}_{j=1} l_{ij} l_{kj} \\right)$\n",
    "\n"
   ]
  },
  {
   "cell_type": "code",
   "execution_count": 90,
   "metadata": {},
   "outputs": [
    {
     "data": {
      "text/plain": [
       "array([[ 1,  2,  1],\n",
       "       [ 2, 13, -1],\n",
       "       [ 1, -1,  3]])"
      ]
     },
     "execution_count": 150,
     "metadata": {},
     "output_type": "execute_result"
    }
   ],
   "source": [
    "A = np.array([1,2,1,2,13, -1,1,-1, 3]).reshape(3,3)\n",
    "A "
   ]
  },
  {
   "cell_type": "code",
   "execution_count": 3,
   "metadata": {},
   "outputs": [],
   "source": [
    "import scipy.linalg"
   ]
  },
  {
   "cell_type": "code",
   "execution_count": 19,
   "metadata": {},
   "outputs": [
    {
     "data": {
      "text/plain": [
       "array([[ 1.,  0.,  0.],\n",
       "       [ 2.,  3.,  0.],\n",
       "       [ 1., -1.,  1.]])"
      ]
     },
     "execution_count": 19,
     "metadata": {},
     "output_type": "execute_result"
    }
   ],
   "source": [
    "scipy.linalg.cholesky(A).T"
   ]
  },
  {
   "cell_type": "code",
   "execution_count": 18,
   "metadata": {},
   "outputs": [
    {
     "data": {
      "text/plain": [
       "array([[ 1.,  0.,  0.],\n",
       "       [ 2.,  3.,  0.],\n",
       "       [ 1., -1.,  1.]])"
      ]
     },
     "execution_count": 18,
     "metadata": {},
     "output_type": "execute_result"
    }
   ],
   "source": [
    "np.array(cholesky(A))"
   ]
  },
  {
   "cell_type": "code",
   "execution_count": 5,
   "metadata": {},
   "outputs": [
    {
     "data": {
      "text/plain": [
       "array([[ 4., -2.,  1.],\n",
       "       [ 0.,  1., -1.],\n",
       "       [ 0.,  0.,  3.]])"
      ]
     },
     "execution_count": 5,
     "metadata": {},
     "output_type": "execute_result"
    }
   ],
   "source": [
    "A = np.array([16,-8,4,-8,5,-3,4,-3,11]).reshape(3,3)\n",
    "\n",
    "scipy.linalg.cholesky(A)"
   ]
  },
  {
   "cell_type": "code",
   "execution_count": 168,
   "metadata": {},
   "outputs": [
    {
     "data": {
      "text/plain": [
       "(array([[ 1.,  0.,  0.],\n",
       "        [ 2.,  3.,  0.],\n",
       "        [ 1., -1.,  1.]]),\n",
       " array([[ 1.,  2.,  1.],\n",
       "        [ 2., 13., -1.],\n",
       "        [ 1., -1.,  3.]]))"
      ]
     },
     "execution_count": 168,
     "metadata": {},
     "output_type": "execute_result"
    }
   ],
   "source": [
    "def cholesky(A):\n",
    "    '''Performs a Cholesky decomposition \n",
    "    A, which must be a symmetric and positive definite matrix. \n",
    "    returns L = lower variant triangular matrix\n",
    "    such that A = L L^*'''\n",
    "    \n",
    "    \n",
    "    n = len(A)\n",
    "    # Initialise L as the zero matrix\n",
    "    L = np.zeros((n,n))\n",
    "\n",
    "    for i in range(n):\n",
    "        # under the diagonal\n",
    "        for k in range(i):\n",
    "             # LaTeX: l_{ik} = \\frac{1}{l_{kk}} \\left( a_{ik} - \\sum^{k-1}_{j=1} l_{ij} l_{kj} \\right)\n",
    "            L[i,k] = ( (A[i,k] - L[i,:] @  L[k,:]) / L[k,k] )\n",
    "        \n",
    "        #on the diagonal\n",
    "        # LaTeX: l_{kk} = \\sqrt{ a_{kk} - \\sum^{k-1}_{j=1} l^2_{kj}}\n",
    "        L[i,i] = sqrt(A[i,i] -  L[i,:] @  L[i,:])\n",
    "\n",
    "    return L\n",
    "\n",
    "L = cholesky(A)\n",
    "\n",
    "L, L @ L.T "
   ]
  },
  {
   "cell_type": "markdown",
   "metadata": {},
   "source": [
    "---\n",
    "\n",
    "# QR decompositions\n",
    "\n",
    "\n",
    "[source](https://www.quantstart.com/articles/QR-Decomposition-with-Python-and-NumPy/)\n",
    "\n",
    "There are a several different algorithms for calculating the matrices $Q$ and $R$. \n",
    "\n",
    "We will outline the method of <a href=\"http://en.wikipedia.org/wiki/Householder_transformation\">Householder Reflections</a>, which is known to be **more numerically stable** than the  alternative Gramm-Schmidt method.\n",
    "\n",
    "For more details see  <a href=\"http://en.wikipedia.org/wiki/QR_decomposition#Using_Householder_reflections\">QR Decomposition using Householder Reflections.\n",
    "\n",
    "A **Householder Reflection** is a linear transformation that enables a vector to be reflected through a plane or hyperplane. Essentially, we use this method because we want to create an upper triangular matrix, $R$. The householder reflection is able to carry out this vector reflection such that all but one of the coordinates disappears. The matrix $Q$ will be built up as a sequence of matrix multiplications that eliminate each coordinate in turn, up to the rank of the matrix $A$.\n",
    "\n",
    "**First step** create the vector $\\mathbb{x}$, which is the $k$-th column of the matrix $A$, for step $k$.\n",
    "    \n",
    " We define $\\alpha = -sgn(\\mathbb{x}_k)(||\\mathbb{x}||)$. The norm $||\\cdot||$ used here is the *Euclidean norm*. \n",
    "\n",
    " Given the first column vector of the identity matrix, $I$ of equal size to $A$, $\\mathbb{e}_1 = (1,0,...,0)^T$, we create the vector $\\mathbb{u}$:\n",
    "\n",
    "\\begin{eqnarray*}\n",
    "\\mathbb{u} = \\mathbb{x} + \\alpha \\mathbb{e}_1\n",
    "\\end{eqnarray*}\n",
    "\n",
    "<p>Once we have the vector $\\mathbb{u}$, we need to convert it to a unit vector, which we denote as $\\mathbb{v}$:</p>\n",
    "\n",
    "\\begin{eqnarray*}\n",
    "\\mathbb{v} = \\mathbb{u}/||\\mathbb{u}||\n",
    "\\end{eqnarray*}\n",
    "\n",
    "**Second step** form the matrix of the Householder transformation $Q$ associated to $\\mathbb{v}$ :\n",
    "\n",
    "\\begin{eqnarray*}\n",
    "Q = I - 2 \\mathbb{v} \\mathbb{v}^T\n",
    "\\end{eqnarray*}\n",
    "\n",
    "**Third step** $Q$ is now an $m\\times m$ Householder matrix, with $Q\\mathbb{x} = \\left( \\alpha, 0, ..., 0\\right)^T$. We will use $Q$ to transform $A$ to upper triangular form, giving us the matrix $R$. \n",
    "    \n",
    "Write  $Q_k$ for $Q$ at the $k$th tep  and, since $k=0$ in this first step, we have $Q_0$ as our first Householder matrix. \n",
    "Muliplying by   $A$ gives us:\n",
    "\n",
    "\\begin{eqnarray*}\n",
    "Q_0A = \\begin{bmatrix} \\alpha_1&\\star&\\dots&\\star\\\\ 0 & & & \\\\ \\vdots & & A' & \\\\ 0 & & & \\end{bmatrix}\n",
    "\\end{eqnarray*}\n",
    "\n",
    "---\n",
    "    \n",
    " The whole process is **recursive** and we repeat the 3 steps above for the minor matrix $A'$, which will give a second Householder matrix $Q'_1$. Now we have to \"pad out\" this minor matrix with elements from the identity matrix such that we can consistently multiply the Householder matrices together. Hence, we define $Q_k$ as the block matrix:\n",
    "\n",
    "\\begin{eqnarray*}\n",
    "Q_k = \\begin{pmatrix} I_{k-1} & 0\\\\ 0 & Q_k'\\end{pmatrix}\n",
    "\\end{eqnarray*}\n",
    "\n",
    "<p>Once we have carried out $t$ iterations of this process we have $R$ as an upper triangular matrix:</p>\n",
    "\n",
    "\\begin{eqnarray*}\n",
    "R = Q_t ... Q_2 Q_1 A\n",
    "\\end{eqnarray*}\n",
    "\n",
    "<p>$Q$ is then fully defined as the multiplication of the transposes of each $Q_k$:</p>\n",
    "\n",
    "\\begin{eqnarray*}\n",
    "Q = Q^T_1 Q^T_2 ... Q^T_t\n",
    "\\end{eqnarray*}\n",
    "\n",
    "<p>This gives $A=QR$, the QR Decomposition of $A$.</p>"
   ]
  },
  {
   "cell_type": "code",
   "execution_count": 383,
   "metadata": {},
   "outputs": [
    {
     "data": {
      "text/plain": [
       "(array([[ 0.85714286,  0.39428571, -0.33142857],\n",
       "        [ 0.42857143, -0.90285714,  0.03428571],\n",
       "        [-0.28571429, -0.17142857, -0.94285714]]),\n",
       " array([[ 1.40000000e+01,  2.10000000e+01, -1.40000000e+01],\n",
       "        [-5.50670620e-16, -1.75000000e+02,  7.00000000e+01],\n",
       "        [ 3.01980663e-16, -3.63797881e-14,  3.50000000e+01]]))"
      ]
     },
     "execution_count": 383,
     "metadata": {},
     "output_type": "execute_result"
    }
   ],
   "source": [
    "def QR_householder(A):\n",
    "    '''Performs a Householder Reflections based QR becomposition of the                                               \n",
    "    matrix A an np.array\n",
    "    Returns \n",
    "    - Q, an orthogonal matrix\n",
    "    - R upper triangular matrix \n",
    "    such that A = QR.\n",
    "    '''\n",
    "    \n",
    "    n = A.shape[0]\n",
    "    # Set R equal to A, and Q to the identity matrix of the same size\n",
    "    R = A\n",
    "    Q = np.identity(n)\n",
    "\n",
    "    # The Householder procedure\n",
    "    for k in range(n-1):  #  reduce the index by 1 to skip the 1x1 matrix\n",
    "\n",
    "        # get the vectors x, e and the scalar alpha\n",
    "        x = R[k:,k]\n",
    "        e_0 = np.identity(n-k)[0]\n",
    "        alpha = -np.sign(x[0]) * np.linalg.norm(x)\n",
    "\n",
    "        u = x + alpha*e_0\n",
    "        v = u/np.linalg.norm(u)\n",
    "        \n",
    "        # matrix of the reflection x -> x - 2<v,x>v\n",
    "        Householder_matrix = np.identity(n-k) -  2*np.array([ v[i]*v for i  in range(n-k)])\n",
    "    \n",
    "        # pad out the matrix to match A.shape()\n",
    "        Q_k = np.identity(n)\n",
    "        Q_k[k:,k:] = Householder_matrix\n",
    "     \n",
    "        Q = Q_k @ Q\n",
    "        R = Q_k @ R\n",
    "\n",
    "    # Q is the inverse of the product of the Q_k\n",
    "    # we need to take the transpose/inverse now\n",
    "    return Q.T, R\n",
    "\n",
    "A = np.array([[12, -51, 4], \n",
    "              [6, 167, -68], \n",
    "              [-4, 24, -41]])\n",
    "\n",
    "Q, R = QR_householder(A)\n",
    "\n",
    "Q, R"
   ]
  },
  {
   "cell_type": "code",
   "execution_count": 350,
   "metadata": {},
   "outputs": [
    {
     "name": "stdout",
     "output_type": "stream",
     "text": [
      "[[35.]]\n",
      "[[-1.75000000e+02  7.00000000e+01]\n",
      " [-3.55271368e-14  3.50000000e+01]]\n"
     ]
    },
    {
     "data": {
      "text/plain": [
       "(array([[ 0.85714286,  0.42857143, -0.28571429],\n",
       "        [ 0.42857143, -0.90285714,  0.03428571],\n",
       "        [-0.28571429, -0.17142857, -0.94285714]]),\n",
       " array([[ 1.40000000e+01,  2.10000000e+01, -1.40000000e+01],\n",
       "        [-4.44089210e-16, -1.75000000e+02,  7.00000000e+01],\n",
       "        [ 4.44089210e-16, -3.55271368e-14,  3.50000000e+01]]))"
      ]
     },
     "execution_count": 350,
     "metadata": {},
     "output_type": "execute_result"
    }
   ],
   "source": [
    "QR(A)"
   ]
  },
  {
   "cell_type": "code",
   "execution_count": 433,
   "metadata": {},
   "outputs": [
    {
     "data": {
      "text/plain": [
       "array([[2., 1., 1.],\n",
       "       [1., 1., 1.],\n",
       "       [0., 1., 1.]])"
      ]
     },
     "execution_count": 433,
     "metadata": {},
     "output_type": "execute_result"
    }
   ],
   "source": [
    "def mgs(A):\n",
    "    \"\"\"factorisation QR Gram-Schmidt modifiée - stable\n",
    "    \n",
    "    Note:\n",
    "    Cette factorisation est stable numériquement\n",
    "    Tire de: LN Trefethen & D Bau III, Numerical Linear Algebra, 1997 SIAM Philadelphia \n",
    "    \"\"\"\n",
    "    \n",
    "    n = A.shape[0]\n",
    "\n",
    "    R = np.zeros((n,n))\n",
    "    Q = np.zeros((n,n))\n",
    "    v = A.copy()\n",
    "\n",
    "    for i in range(0, n):\n",
    "\n",
    "        # diagonal elements are norms\n",
    "        R[i,i] = np.linalg.norm(v[:,i])\n",
    "        Q[:,i] = v[:,i]/R[i,i]\n",
    "        for j in range(i+1, n):\n",
    "            R[i,j] = Q[:,i] @ v[:,j]\n",
    "            #make ortho to the other columns\n",
    "            v[:,j] = v[:,j] - R[i,j]*Q[:,i]\n",
    "            \n",
    "\n",
    "    return Q,R\n",
    "\n",
    "A = np.array([[2,1,1],[1,1,1],[0,1,1]]).astype(float)\n",
    "\n",
    "B = np.array([[12, -51, 4], \n",
    "              [6, 167, -68], \n",
    "              [-4, 24, -41]]).T\n",
    "\n",
    "Q,R = mgs(A)\n",
    "\n",
    "Q @ R"
   ]
  },
  {
   "cell_type": "code",
   "execution_count": 425,
   "metadata": {},
   "outputs": [
    {
     "data": {
      "text/plain": [
       "array([[ 0.99007253,  0.00227986, -0.01273753],\n",
       "       [ 0.00227986,  0.99965025,  0.00507632],\n",
       "       [-0.01273753,  0.00507632,  1.01027722]])"
      ]
     },
     "execution_count": 425,
     "metadata": {},
     "output_type": "execute_result"
    }
   ],
   "source": []
  },
  {
   "cell_type": "code",
   "execution_count": 423,
   "metadata": {},
   "outputs": [
    {
     "name": "stdout",
     "output_type": "stream",
     "text": [
      "0.9999999999999999\n",
      "0.9999999999999999\n",
      "1.0\n"
     ]
    }
   ],
   "source": [
    "for i in range(3):\n",
    "    print(np.linalg.norm(Q[:,i]))"
   ]
  },
  {
   "cell_type": "markdown",
   "metadata": {},
   "source": [
    "---\n",
    "# random positive matrix\n",
    "\n",
    "[see discussion](https://math.stackexchange.com/questions/357980/how-to-generate-random-symmetric-positive-definite-matrices-using-matlab) for alternatives and discussion of Wishart."
   ]
  },
  {
   "cell_type": "code",
   "execution_count": 319,
   "metadata": {},
   "outputs": [],
   "source": [
    "def R_v(u):\n",
    "    n = len(u)\n",
    "    v = u / np.linalg.norm(u)\n",
    "    return np.identity(n) -  2*np.array([ v[i]*v for i  in range(n)])\n",
    "\n",
    "#random reflection\n",
    "A = R_v(np.random.rand(3))\n",
    "D = np.diag(np.random.rand(3))\n",
    "M = A @ D @ A.T\n",
    "\n",
    "Q,R = QR(M)"
   ]
  },
  {
   "cell_type": "code",
   "execution_count": 320,
   "metadata": {},
   "outputs": [
    {
     "data": {
      "text/plain": [
       "(array([[ 0.77465838, -0.01980158,  0.13277845],\n",
       "        [-0.01980158,  0.91026829,  0.01146016],\n",
       "        [ 0.13277845,  0.01146016,  0.66838112]]),\n",
       " array([[ 0.77465838, -0.06281761,  0.34655081],\n",
       "        [-0.01980158,  0.91026829,  0.01146016],\n",
       "        [ 0.13277845,  0.01146016,  0.66838112]]))"
      ]
     },
     "execution_count": 320,
     "metadata": {},
     "output_type": "execute_result"
    }
   ],
   "source": [
    "M, Q @ R"
   ]
  },
  {
   "cell_type": "markdown",
   "metadata": {},
   "source": [
    "---\n",
    "\n",
    "# Recursive version\n",
    "\n",
    "Same method but avoids doing the loop."
   ]
  },
  {
   "cell_type": "code",
   "execution_count": 361,
   "metadata": {},
   "outputs": [
    {
     "data": {
      "text/plain": [
       "(array([[  12.,  -51.,    4.],\n",
       "        [   6.,   59.,    4.],\n",
       "        [  -4., -156.,   79.]]),\n",
       " array([[ 1.40000000e+01,  2.10000000e+01, -1.40000000e+01],\n",
       "        [-4.44089210e-16, -1.75000000e+02,  7.00000000e+01],\n",
       "        [ 4.44089210e-16, -3.55271368e-14,  3.50000000e+01]]))"
      ]
     },
     "execution_count": 361,
     "metadata": {},
     "output_type": "execute_result"
    }
   ],
   "source": [
    "def QR(A):\n",
    "    '''Performs a Householder Reflections based QR becomposition of the                                               \n",
    "    matrix A an np.array\n",
    "    Returns \n",
    "    - Q, an orthogonal matrix\n",
    "    - R upper triangular matrix \n",
    "    such that A = QR.\n",
    "    '''\n",
    "    \n",
    "    n = A.shape[0]\n",
    "    \n",
    "    # base case 1x1 matrix do nothing\n",
    "    if  n == 1 : return [1], A\n",
    "    \n",
    "    R = A.copy()\n",
    "  \n",
    "    # get the vectors x, e and the scalar alpha\n",
    "    x = R[:,0]\n",
    "    e_0 = np.identity(n)[0]\n",
    "    alpha = -np.sign(x[0]) * np.linalg.norm(x)\n",
    "\n",
    "    u = x + alpha*e_0\n",
    "    v = u/np.linalg.norm(u)\n",
    "\n",
    "    # Householder matrix of the reflection x -> x - 2<v,x>v\n",
    "    Q = np.identity(n) -  2*np.array([ v[i]*v for i  in range(n)]) \n",
    "    \n",
    "    R = Q @ R\n",
    "    \n",
    "    # do recursion on the smaller block\n",
    "    Q1, R1 = QR(R[1:,1:])\n",
    "    \n",
    "    # copy the results into Q, R\n",
    "    Q[0,1:] =  Q[0,1:] @ Q1\n",
    "    R[1:,1:] = R1\n",
    " \n",
    "    \n",
    "    return Q, R\n",
    "    \n",
    "    \n",
    "A = np.array([[12, -51, 4], \n",
    "              [6, 167, -68], \n",
    "              [-4, 24, -41]])\n",
    "\n",
    "Q, R = QR(A)\n",
    "\n",
    "\n",
    "Q @ R, R"
   ]
  },
  {
   "cell_type": "code",
   "execution_count": 356,
   "metadata": {},
   "outputs": [
    {
     "data": {
      "text/plain": [
       "array([[ 0.39428571, -0.33142857],\n",
       "       [-0.90285714,  0.03428571],\n",
       "       [-0.17142857, -0.94285714]])"
      ]
     },
     "execution_count": 356,
     "metadata": {},
     "output_type": "execute_result"
    }
   ],
   "source": [
    "Q[:,1:] "
   ]
  },
  {
   "cell_type": "code",
   "execution_count": null,
   "metadata": {},
   "outputs": [],
   "source": []
  },
  {
   "cell_type": "markdown",
   "metadata": {},
   "source": [
    "--- \n",
    "\n",
    "# eigenvalues using QR\n",
    "\n",
    "[source](https://www.andreinc.net/2021/01/25/computing-eigenvalues-and-eigenvectors-using-qr-decomposition#:~:text=Even%20if%20it's%20not%20very,Q%20is%20an%20orthonormal%20matrix.)\n",
    "\n",
    "\n",
    "\n",
    "! pip install tabulate"
   ]
  },
  {
   "cell_type": "code",
   "execution_count": null,
   "metadata": {},
   "outputs": [],
   "source": []
  },
  {
   "cell_type": "code",
   "execution_count": 370,
   "metadata": {},
   "outputs": [
    {
     "name": "stdout",
     "output_type": "stream",
     "text": [
      "A=\n",
      "---------  --------  --------  ---------  --------\n",
      "0.299394   0.118583  0.381981  0.839952   0.407252\n",
      "0.892641   0.566076  0.10782   0.371783   0.142298\n",
      "0.0164034  0.435248  0.488469  0.0637994  0.16179\n",
      "0.662848   0.123152  0.19896   0.494253   0.427521\n",
      "0.0480434  0.414211  0.381524  0.209435   0.610223\n",
      "---------  --------  --------  ---------  --------\n",
      "A 0 =\n",
      "----------  ----------  ----------  ----------  ----------\n",
      " 1.22089     0.332197    0.95081    -0.343304   -0.0725795\n",
      " 0.539872    0.688301   -0.123168    0.0728586   0.0771148\n",
      " 0.380213    0.4204      0.422193    0.449542   -0.353498\n",
      "-0.199548    0.0419301  -0.141802   -0.160352    0.19785\n",
      "-0.0161909  -0.242044   -0.0409157   0.088081    0.287384\n",
      "----------  ----------  ----------  ----------  ----------\n",
      "\n",
      "\n",
      "A 100000 =\n",
      "-------  ----------  ---------  -------------  ----------\n",
      "1.78964  -0.0695592  -0.3317    -0.00783565     0.155058\n",
      "0         0.506447    0.39478   -0.137275      -0.0518464\n",
      "0        -0.51631     0.253879  -0.475443       0.0553226\n",
      "0         0           0         -0.322502      -0.174908\n",
      "0         0           0          4.94066e-324   0.230947\n",
      "-------  ----------  ---------  -------------  ----------\n",
      "\n",
      "\n",
      "A 200000 =\n",
      "-------  ---------  ---------  -------------  ----------\n",
      "1.78964  -0.230865  -0.248123  -0.00783565     0.155058\n",
      "0         0.385343   0.315498  -0.363085      -0.0158276\n",
      "0        -0.595592   0.374983  -0.336244       0.0741494\n",
      "0         0          0         -0.322502      -0.174908\n",
      "0         0          0          4.94066e-324   0.230947\n",
      "-------  ---------  ---------  -------------  ----------\n",
      "\n",
      "\n",
      "A 300000 =\n",
      "-------  ---------  ----------  -------------  ----------\n",
      "1.78964  -0.326267  -0.0917262  -0.00783565     0.155058\n",
      "0         0.258065   0.386755   -0.485031       0.0250739\n",
      "0        -0.524335   0.502261   -0.0981633      0.0715538\n",
      "0         0          0          -0.322502      -0.174908\n",
      "0         0          0           4.94066e-324   0.230947\n",
      "-------  ---------  ----------  -------------  ----------\n",
      "\n",
      "\n",
      "A 400000 =\n",
      "-------  ---------  ---------  -------------  ----------\n",
      "1.78964  -0.334078  0.0570558  -0.00783565     0.155058\n",
      "0         0.249676  0.506662   -0.480262       0.0533369\n",
      "0        -0.404428  0.510651    0.119326       0.0538871\n",
      "0         0         0          -0.322502      -0.174908\n",
      "0         0         0           4.94066e-324   0.230947\n",
      "-------  ---------  ---------  -------------  ----------\n",
      "\n",
      "\n",
      "[ 1.78964345+0.j         -0.3225019 +0.j          0.38016308+0.43345265j\n",
      "  0.38016308-0.43345265j  0.23094713+0.j        ]\n"
     ]
    }
   ],
   "source": [
    "import numpy as np\n",
    "from tabulate import tabulate\n",
    "\n",
    "# A is a square random matrix of size n\n",
    "n = 5\n",
    "A = np.random.rand(n, n)\n",
    "print(\"A=\")\n",
    "print(tabulate(A))\n",
    "\n",
    "def eigen_qr_simple(A, max_iter=500000):\n",
    "    Ak = np.copy(A)\n",
    "    n = A.shape[0]\n",
    "    QQ = np.eye(n)\n",
    "    peek_time = max_iter // 5\n",
    "    TT = []\n",
    "    for k in range(max_iter):\n",
    "        Q, R = np.linalg.qr(Ak)\n",
    "        Ak = R @ Q\n",
    "        QQ = QQ @ Q\n",
    "        # we \"peek\" into the structure of matrix A from time to time\n",
    "        # to see how it looks\n",
    "        if k % peek_time == 0:\n",
    "            print(\"A\",k,\"=\")\n",
    "            print(tabulate(Ak))\n",
    "            print(\"\\n\")\n",
    "            \n",
    "        # break if the lower triangular entries all close to 0\n",
    "        TT.append(np.max(np.abs(np.tril(Ak, k = -1))) )\n",
    "        if  TT[-1] < .001: break\n",
    "    \n",
    "    # return diagonal elts and the errors\n",
    "    return [Ak[k,k] for k in range(Ak.shape[0] )], TT\n",
    "\n",
    "\n",
    "eigen_qr_simple(A)\n",
    "# We compare our results with the official numpy algorithm\n",
    "print(np.linalg.eigvals(A))\n"
   ]
  },
  {
   "cell_type": "code",
   "execution_count": 252,
   "metadata": {},
   "outputs": [],
   "source": [
    "def horner(x, P):\n",
    "    val = 0\n",
    "    for coeff in reversed(P):\n",
    "        val *= x\n",
    "        val += coeff\n",
    "        \n",
    "    return val\n",
    "\n",
    "def companion(P):\n",
    "    n = len(P) - 1\n",
    "    C = np.zeros((n,n))\n",
    "    C[1:,:-1] = np.identity(n-1)\n",
    "    C[:,-1] = [-x/P[-1] for x in P[:-1]]\n",
    "    return C\n"
   ]
  },
  {
   "cell_type": "code",
   "execution_count": 368,
   "metadata": {},
   "outputs": [
    {
     "data": {
      "text/plain": [
       "[(-2.000000000000001, 0.0),\n",
       " (1.0000000000000016, 0.0),\n",
       " (2.9999999999999987, 0.0)]"
      ]
     },
     "execution_count": 368,
     "metadata": {},
     "output_type": "execute_result"
    }
   ],
   "source": [
    "P = [6,-5,-2,1]\n",
    "[ (x, horner( np.round(x) ,P)) for x in np.linalg.eigvals( companion(P)) ]\n"
   ]
  },
  {
   "cell_type": "markdown",
   "metadata": {},
   "source": [
    "---\n",
    "\n",
    "# convergence "
   ]
  },
  {
   "cell_type": "code",
   "execution_count": 371,
   "metadata": {},
   "outputs": [
    {
     "name": "stdout",
     "output_type": "stream",
     "text": [
      "A 0 =\n",
      "-  -  --\n",
      "0  5  -1\n",
      "1  2   0\n",
      "0  6   0\n",
      "-  -  --\n",
      "\n",
      "\n"
     ]
    }
   ],
   "source": [
    "ev, error = eigen_qr_simple(companion(P), max_iter=20000)"
   ]
  },
  {
   "cell_type": "code",
   "execution_count": 294,
   "metadata": {},
   "outputs": [],
   "source": [
    "import matplotlib.pyplot as plt"
   ]
  },
  {
   "cell_type": "code",
   "execution_count": 302,
   "metadata": {},
   "outputs": [
    {
     "data": {
      "image/png": "[encoded data removed]",
      "text/plain": [
       "<Figure size 432x288 with 1 Axes>"
      ]
     },
     "metadata": {
      "needs_background": "light"
     },
     "output_type": "display_data"
    }
   ],
   "source": [
    "plt.plot(-np.log(np.array(error[5:])));"
   ]
  },
  {
   "cell_type": "code",
   "execution_count": 321,
   "metadata": {},
   "outputs": [],
   "source": [
    "import scipy.stats"
   ]
  },
  {
   "cell_type": "code",
   "execution_count": 328,
   "metadata": {},
   "outputs": [
    {
     "data": {
      "text/plain": [
       "LinregressResult(slope=0.408019227400153, intercept=0.835759338711056, rvalue=0.9995490361038322, pvalue=1.015817221878054e-22, stderr=0.0032760417149693996, intercept_stderr=0.02884033325331076)"
      ]
     },
     "execution_count": 328,
     "metadata": {},
     "output_type": "execute_result"
    }
   ],
   "source": [
    "scipy.stats.linregress(np.arange(len(error[5:])), -np.log(np.array(error[5:])) )"
   ]
  },
  {
   "cell_type": "markdown",
   "metadata": {},
   "source": [
    "--- \n",
    "\n",
    "# partial pivot \n",
    "\n",
    "## finding P in P @ L @ U\n",
    "\n",
    "\n",
    "Note that the decomposition obtained through this procedure is a Doolittle decomposition: the main diagonal of L is composed solely of 1s. If one would proceed by removing elements above the main diagonal by adding multiples of the columns (instead of removing elements below the diagonal by adding multiples of the rows), we would obtain a Crout decomposition, where the main diagonal of U is of 1s.\n",
    "\n",
    "Another (equivalent) way of producing a Crout decomposition of a given matrix A is to obtain a Doolittle decomposition of the transpose of A. Indeed, if $ A^T=L_{0}U_{0}$ is the LU-decomposition obtained through the algorithm presented in this section, then by taking $L=U_{0}^T$ and $U=L_{0}^T$, we have that $A=LU$ is a Crout decomposition.\n"
   ]
  },
  {
   "cell_type": "code",
   "execution_count": 114,
   "metadata": {},
   "outputs": [],
   "source": [
    "def pivot_matrix(M):\n",
    "    \"\"\"Returns the pivoting matrix for M, used in Doolittle's method.\"\"\"\n",
    "    m = len(M)\n",
    "\n",
    "    # Create an identity matrix, with floating point values                                                                                                                                                                                            \n",
    "    id_mat = [[float(i == j) for i in range(m)] for j in range(m)]\n",
    "\n",
    "    # Rearrange the identity matrix such that the largest element of                                                                                                                                                                                   \n",
    "    # each column of M is placed on the diagonal of of M                                                                                                                                                                                               \n",
    "    for j in range(m):\n",
    "        row = max(range(j, m), key=lambda i: abs(M[i][j]))\n",
    "        if j != row:\n",
    "            # Swap the rows                                                                                                                                                                                                                            \n",
    "            id_mat[j], id_mat[row] = id_mat[row], id_mat[j]\n",
    "\n",
    "    return id_mat"
   ]
  },
  {
   "cell_type": "code",
   "execution_count": 149,
   "metadata": {},
   "outputs": [],
   "source": [
    "M = np.array([0,1,1,1]).reshape(2,2)"
   ]
  },
  {
   "cell_type": "code",
   "execution_count": 115,
   "metadata": {},
   "outputs": [
    {
     "data": {
      "text/plain": [
       "[[0.0, 1.0], [1.0, 0.0]]"
      ]
     },
     "execution_count": 115,
     "metadata": {},
     "output_type": "execute_result"
    }
   ],
   "source": [
    "pivot_matrix(M)"
   ]
  },
  {
   "cell_type": "code",
   "execution_count": 152,
   "metadata": {},
   "outputs": [],
   "source": [
    "def pivot_m(M):\n",
    "    \"\"\"Returns the pivoting matrix for M, \n",
    "    used in Doolittle's method.\"\"\"\n",
    "    m = len(M)\n",
    "    P = np.identity(m, dtype=np.int32)\n",
    "\n",
    "    # Rearrange P such that the largest element of                                                                                                                                                                                   \n",
    "    # each column of M is placed on the diagonal of of M                                                                                                                                                                                               \n",
    "    for j in range(m):\n",
    "        row = max(range(j, m), key = lambda i: abs(M[i,j]))\n",
    "        if j != row:\n",
    "            # Swap the rows                                                                                                                                                                                                                            \n",
    "            P[[j,row]] = P[[row,j]]\n",
    "\n",
    "    return P"
   ]
  },
  {
   "cell_type": "code",
   "execution_count": 153,
   "metadata": {},
   "outputs": [
    {
     "data": {
      "text/plain": [
       "array([[0, 1],\n",
       "       [1, 0]], dtype=int32)"
      ]
     },
     "execution_count": 153,
     "metadata": {},
     "output_type": "execute_result"
    }
   ],
   "source": [
    "pivot_m(M)"
   ]
  },
  {
   "cell_type": "code",
   "execution_count": null,
   "metadata": {},
   "outputs": [],
   "source": []
  }
 ],
 "metadata": {
  "kernelspec": {
   "display_name": "Python 3 (ipykernel)",
   "language": "python",
   "name": "python3"
  },
  "language_info": {
   "codemirror_mode": {
    "name": "ipython",
    "version": 3
   },
   "file_extension": ".py",
   "mimetype": "text/x-python",
   "name": "python",
   "nbconvert_exporter": "python",
   "pygments_lexer": "ipython3",
   "version": "3.8.12"
  },
  "widgets": {
   "application/vnd.jupyter.widget-state+json": {
    "state": {},
    "version_major": 2,
    "version_minor": 0
   }
  }
 },
 "nbformat": 4,
 "nbformat_minor": 4
}
