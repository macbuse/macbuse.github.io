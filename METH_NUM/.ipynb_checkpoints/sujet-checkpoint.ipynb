{
 "cells": [
  {
   "cell_type": "code",
   "execution_count": 1,
   "id": "bd91b9f1-51b5-43d9-bd0b-2c62d2987d58",
   "metadata": {},
   "outputs": [],
   "source": [
    "import numpy as np"
   ]
  },
  {
   "cell_type": "code",
   "execution_count": 3,
   "id": "e9b903f2-e6f6-4fb3-8a9b-1c69b995e256",
   "metadata": {},
   "outputs": [
    {
     "data": {
      "text/plain": [
       "array([[1, 2, 3],\n",
       "       [0, 1, 4],\n",
       "       [0, 0, 1]])"
      ]
     },
     "execution_count": 3,
     "metadata": {},
     "output_type": "execute_result"
    }
   ],
   "source": [
    "A = np.array([1,2,3,0,1,4,0,0,1]).reshape(3,3)\n",
    "A"
   ]
  },
  {
   "cell_type": "markdown",
   "id": "7eeb226c-ac60-47ea-9fd7-6887e9de6870",
   "metadata": {},
   "source": [
    "---\n",
    "\n",
    "Calculer $B^{-1}$"
   ]
  },
  {
   "cell_type": "code",
   "execution_count": 6,
   "id": "b52c9a50-b62b-4747-a90d-86108d2c23e1",
   "metadata": {},
   "outputs": [
    {
     "data": {
      "text/plain": [
       "array([[1, 4],\n",
       "       [0, 1]])"
      ]
     },
     "execution_count": 6,
     "metadata": {},
     "output_type": "execute_result"
    }
   ],
   "source": [
    "B = A[1:,1:]\n",
    "B"
   ]
  },
  {
   "cell_type": "markdown",
   "id": "6ab0c2c2-d69f-4899-bea8-a65ea7aa1c27",
   "metadata": {},
   "source": [
    "---\n",
    "\n",
    "Montrer que $A^{-1}$ est :"
   ]
  },
  {
   "cell_type": "code",
   "execution_count": null,
   "id": "c1017dd2-26e6-49ee-81f2-ac89402af6ad",
   "metadata": {},
   "outputs": [],
   "source": [
    "array([[ 1, -2,  5],\n",
    "       [ 0,  1, -4],\n",
    "       [ 0,  0,  1]])"
   ]
  },
  {
   "cell_type": "markdown",
   "id": "afafe240-da79-4cb5-b3c2-f76267f67e2c",
   "metadata": {},
   "source": [
    "---\n",
    "\n",
    "On remarque que c'est de la forme\n",
    "\n",
    "$\\begin{pmatrix} 1 & \\vec{x} \\\\ 0 & B^{-1}\\end{pmatrix}$\n",
    "\n",
    "Mq $\\vec{x} = -[2,3].B^{-1}$."
   ]
  },
  {
   "cell_type": "markdown",
   "id": "2cd66311-1548-441f-95f7-36b679f15604",
   "metadata": {},
   "source": [
    "---\n",
    "\n",
    "Utiliser cette observation pour calculer l'inverse d'une matrice triangulaire sup de facon recursive"
   ]
  },
  {
   "cell_type": "code",
   "execution_count": 15,
   "id": "ac20ed7f-b97f-467c-b8fa-aa6129783d53",
   "metadata": {},
   "outputs": [],
   "source": [
    "def inv_uni(U): \n",
    "    if U.shape[0] == 1: return U\n",
    "    #should check its unimodular\n",
    "    X = U.copy()\n",
    "    # lower block is calculated recursively\n",
    "    #????\n",
    "    # first line is a matrix multiplication\n",
    "    #???????\n",
    " \n",
    "    return X"
   ]
  },
  {
   "cell_type": "markdown",
   "id": "c36c04ac-6547-4d14-95b6-e904ff505a7c",
   "metadata": {},
   "source": [
    "---\n",
    "\n",
    "Ecrire un programme pour calculer la decomposition LU si elle existe sans utiliser scipy"
   ]
  }
 ],
 "metadata": {
  "kernelspec": {
   "display_name": "Python 3 (ipykernel)",
   "language": "python",
   "name": "python3"
  },
  "language_info": {
   "codemirror_mode": {
    "name": "ipython",
    "version": 3
   },
   "file_extension": ".py",
   "mimetype": "text/x-python",
   "name": "python",
   "nbconvert_exporter": "python",
   "pygments_lexer": "ipython3",
   "version": "3.9.13"
  }
 },
 "nbformat": 4,
 "nbformat_minor": 5
}
