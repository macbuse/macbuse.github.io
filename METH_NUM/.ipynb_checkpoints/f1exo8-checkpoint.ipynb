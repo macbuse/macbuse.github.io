{
 "cells": [
  {
   "cell_type": "code",
   "execution_count": 1,
   "metadata": {},
   "outputs": [],
   "source": [
    "import numpy as np"
   ]
  },
  {
   "cell_type": "markdown",
   "metadata": {},
   "source": [
    "# Exo 8\n",
    "\n"
   ]
  },
  {
   "cell_type": "code",
   "execution_count": 379,
   "metadata": {},
   "outputs": [
    {
     "data": {
      "text/plain": [
       "array([[ 2., -1.,  0.,  0.,  0.,  0.,  0.,  0.,  0.,  0.],\n",
       "       [-1.,  2., -1.,  0.,  0.,  0.,  0.,  0.,  0.,  0.],\n",
       "       [ 0., -1.,  2., -1.,  0.,  0.,  0.,  0.,  0.,  0.],\n",
       "       [ 0.,  0., -1.,  2., -1.,  0.,  0.,  0.,  0.,  0.],\n",
       "       [ 0.,  0.,  0., -1.,  2., -1.,  0.,  0.,  0.,  0.],\n",
       "       [ 0.,  0.,  0.,  0., -1.,  2., -1.,  0.,  0.,  0.],\n",
       "       [ 0.,  0.,  0.,  0.,  0., -1.,  2., -1.,  0.,  0.],\n",
       "       [ 0.,  0.,  0.,  0.,  0.,  0., -1.,  2., -1.,  0.],\n",
       "       [ 0.,  0.,  0.,  0.,  0.,  0.,  0., -1.,  2., -1.],\n",
       "       [ 0.,  0.,  0.,  0.,  0.,  0.,  0.,  0., -1.,  2.]])"
      ]
     },
     "execution_count": 379,
     "metadata": {},
     "output_type": "execute_result"
    }
   ],
   "source": [
    "import numpy as np\n",
    "\n",
    "import matplotlib.pyplot as plt\n",
    "\n",
    "N = 10\n",
    "A = 2*np.identity(N)\n",
    "for i in range(N-1):\n",
    "    A[i,i+1] = A[i+1,i] = -1\n",
    "A"
   ]
  },
  {
   "cell_type": "markdown",
   "metadata": {},
   "source": [
    "---\n",
    "\n",
    "# check for eigenvectors"
   ]
  },
  {
   "cell_type": "code",
   "execution_count": 380,
   "metadata": {},
   "outputs": [
    {
     "data": {
      "text/plain": [
       "array([0.31749293, 0.31749293, 0.31749293, 0.31749293, 0.31749293,\n",
       "       0.31749293, 0.31749293, 0.31749293, 0.31749293, 0.31749293])"
      ]
     },
     "execution_count": 380,
     "metadata": {},
     "output_type": "execute_result"
    }
   ],
   "source": [
    "k = 2\n",
    "N = 10\n",
    "T = np.pi*k*np.arange(1,N+1)/(N+1)\n",
    "U = np.sin(T)\n",
    "#this fails sometimes, division by something close to  zero\n",
    "A.dot(U)/U"
   ]
  },
  {
   "cell_type": "code",
   "execution_count": 376,
   "metadata": {},
   "outputs": [
    {
     "data": {
      "text/plain": [
       "(15.999999999999988,\n",
       " array([3.87938524, 3.53208889, 3.        , 2.34729636, 1.65270364,\n",
       "        0.12061476, 0.46791111, 1.        ]))"
      ]
     },
     "execution_count": 376,
     "metadata": {},
     "output_type": "execute_result"
    }
   ],
   "source": [
    "sum(np.linalg.eigvals(A)), np.linalg.eigvals(A)"
   ]
  },
  {
   "cell_type": "code",
   "execution_count": 381,
   "metadata": {},
   "outputs": [
    {
     "data": {
      "text/plain": [
       "10.999999999999996"
      ]
     },
     "execution_count": 381,
     "metadata": {},
     "output_type": "execute_result"
    }
   ],
   "source": [
    "np.linalg.det(A)"
   ]
  },
  {
   "cell_type": "markdown",
   "metadata": {},
   "source": [
    "# Better to \n",
    "\n",
    "- write a function to generate the matrix $A$\n",
    "- check that $-A$ is a discrete second derivative"
   ]
  },
  {
   "cell_type": "code",
   "execution_count": 218,
   "metadata": {},
   "outputs": [
    {
     "data": {
      "image/png": "[encoded data removed]",
      "text/plain": [
       "<Figure size 432x288 with 1 Axes>"
      ]
     },
     "metadata": {
      "needs_background": "light"
     },
     "output_type": "display_data"
    }
   ],
   "source": [
    "def M(n):\n",
    "    A = 2*np.identity(n)\n",
    "    for i in range(n-1):\n",
    "        A[i,i+1] = A[i+1,i] = -1\n",
    "    return A\n",
    "\n",
    "\n",
    "X = np.linspace(0,1,100)\n",
    "\n",
    "plt.plot(X, 12*X**2+4);\n",
    "plt.plot(X[2:-2],-100**2*M(100).dot(X**4+ 2*X**2)[2:-2]);"
   ]
  },
  {
   "cell_type": "code",
   "execution_count": 369,
   "metadata": {},
   "outputs": [
    {
     "data": {
      "text/plain": [
       "0.0034362595476501016"
      ]
     },
     "execution_count": 369,
     "metadata": {},
     "output_type": "execute_result"
    },
    {
     "data": {
      "image/png": "[encoded data removed]",
      "text/plain": [
       "<Figure size 432x288 with 1 Axes>"
      ]
     },
     "metadata": {
      "needs_background": "light"
     },
     "output_type": "display_data"
    }
   ],
   "source": [
    "\n",
    "N = 500\n",
    "# subdivision of the interval\n",
    "X = np.linspace(0,1,N)\n",
    "h = (X[1] - X[0])\n",
    "\n",
    "# -A/h^2 + C\n",
    "#B = M(N)/(h**2) + np.diag(X)\n",
    "# this is probably more accurate as N**2 has no rounding error\n",
    "B = M(N)*(N**2) + np.diag(X)\n",
    "\n",
    "f = (1 + 2*X - X**2)*np.exp(X) + X**2 - X\n",
    "g = (1-X)*(np.exp(X)-1)\n",
    "\n",
    "Y = np.linalg.solve(B, f)\n",
    "plt.plot(X, Y)\n",
    "plt.plot(X, g);\n",
    "\n",
    "np.max(np.abs(Y - g))"
   ]
  },
  {
   "cell_type": "markdown",
   "metadata": {},
   "source": [
    "---\n",
    "\n",
    "# Jacobi method\n",
    "\n",
    "In numerical linear algebra, the Jacobi method is an iterative algorithm for determining the solutions of a strictly diagonally dominant system of linear equations. Each diagonal element is solved for, and an approximate value is plugged in. The process is then iterated until it converges. This algorithm is a stripped-down version of the Jacobi transformation method of matrix diagonalization. The method is named after Carl Gustav Jacob Jacobi.\n",
    "\n",
    "https://en.wikipedia.org/wiki/Jacobi_method"
   ]
  },
  {
   "cell_type": "code",
   "execution_count": 232,
   "metadata": {},
   "outputs": [],
   "source": [
    "C = np.array([2,1,5,7]).reshape(2,2)"
   ]
  },
  {
   "cell_type": "code",
   "execution_count": 233,
   "metadata": {},
   "outputs": [],
   "source": [
    "def decompose(C):\n",
    "    D = np.array([C[i,i] for i in range(C.shape[0])])\n",
    "    LU = np.copy(C) - np.diag(D)\n",
    "    return D, LU\n",
    "\n",
    "V = np.ones(2)\n",
    "b = np.array([11,13])\n",
    "D, LU = decompose(C)"
   ]
  },
  {
   "cell_type": "code",
   "execution_count": 732,
   "metadata": {},
   "outputs": [
    {
     "data": {
      "text/plain": [
       "array([10.99999999, 13.        ])"
      ]
     },
     "execution_count": 732,
     "metadata": {},
     "output_type": "execute_result"
    }
   ],
   "source": [
    "for k in range(20):\n",
    "    #V = (-LU.dot(V) + b)/D\n",
    "    V = V + (-C.dot(V) + b)/D\n",
    "C.dot(V)"
   ]
  },
  {
   "cell_type": "code",
   "execution_count": 297,
   "metadata": {},
   "outputs": [
    {
     "data": {
      "text/plain": [
       "[11.353748880275788,\n",
       " 4.990955280047901,\n",
       " 2.0298776446900537,\n",
       " 0.891140645474472,\n",
       " 0.3686282891573499,\n",
       " 0.16047307873257013,\n",
       " 0.06710618527173733,\n",
       " 0.029021532936104287,\n",
       " 0.012221298598745501,\n",
       " 0.005260793263328036]"
      ]
     },
     "execution_count": 297,
     "metadata": {},
     "output_type": "execute_result"
    }
   ],
   "source": [
    "# initialize the matrix\n",
    "C = np.array([[10., -1., 2., 0.],\n",
    "              [-1., 11., -1., 3.],\n",
    "              [2., -1., 10., -1.],\n",
    "              [0.0, 3., -1., 8.]])\n",
    "# initialize the RHS vector\n",
    "b = np.array([6., 25., -11., 15.])\n",
    "V = np.zeros_like(C[0])\n",
    "\n",
    "D, LU = decompose(C)\n",
    "\n",
    "VS = []\n",
    "for k in range(10):\n",
    "    V = (-LU.dot(V) + b)/D\n",
    "    VS.append(V)\n",
    "\n",
    "[np.linalg.norm( b - C.dot(v)) for v in VS]"
   ]
  },
  {
   "cell_type": "markdown",
   "metadata": {},
   "source": [
    "---\n",
    "\n",
    "## Jacobi applied to the exo 8"
   ]
  },
  {
   "cell_type": "code",
   "execution_count": 370,
   "metadata": {},
   "outputs": [],
   "source": [
    "N = 200\n",
    "X = np.linspace(0,1,N)\n",
    "\n",
    "B = M(N)*(N**2) + np.diag(X)\n",
    "# could use\n",
    "# D = 2*N**2 - X\n",
    "D = np.array([B[i,i] for i in range(N)])\n",
    "\n",
    "# target function\n",
    "b = (1 + 2*X - X**2)*np.exp(X) + X**2 - X \n",
    "# exact solution\n",
    "g = (1-X)*(np.exp(X)-1)\n",
    "# initial guess\n",
    "V = np.ones(N)\n",
    "\n"
   ]
  },
  {
   "cell_type": "markdown",
   "metadata": {},
   "source": [
    "## Iteration loop"
   ]
  },
  {
   "cell_type": "code",
   "execution_count": 371,
   "metadata": {},
   "outputs": [],
   "source": [
    "#%%timeit\n",
    "\n",
    "for k in range(100000):\n",
    "    #V = (-LU.dot(V) + b)/D\n",
    "    V = V + (-B.dot(V) + b)/D\n",
    "    "
   ]
  },
  {
   "cell_type": "code",
   "execution_count": 373,
   "metadata": {},
   "outputs": [
    {
     "data": {
      "text/plain": [
       "(0.008589541059520506, 0.008589541059520506)"
      ]
     },
     "execution_count": 373,
     "metadata": {},
     "output_type": "execute_result"
    },
    {
     "data": {
      "image/png": "[encoded data removed]",
      "text/plain": [
       "<Figure size 432x288 with 1 Axes>"
      ]
     },
     "metadata": {
      "needs_background": "light"
     },
     "output_type": "display_data"
    }
   ],
   "source": [
    "plt.plot(V);\n",
    "plt.plot(g );\n",
    "\n",
    "np.max(np.abs(V - g)), np.linalg.norm(V - g, np.inf)"
   ]
  },
  {
   "cell_type": "code",
   "execution_count": 363,
   "metadata": {},
   "outputs": [],
   "source": [
    "#%%timeit\n",
    "K = N**2*np.array([1,-2,1])\n",
    "\n",
    "for k in range(500000):\n",
    "    #trick to avoid matrix multiplication\n",
    "    V = V + ( np.convolve(V, K, mode='same')- X*V + b)/D\n",
    "    "
   ]
  },
  {
   "cell_type": "code",
   "execution_count": null,
   "metadata": {},
   "outputs": [],
   "source": []
  }
 ],
 "metadata": {
  "kernelspec": {
   "display_name": "Python 3",
   "language": "python",
   "name": "python3"
  },
  "language_info": {
   "codemirror_mode": {
    "name": "ipython",
    "version": 3
   },
   "file_extension": ".py",
   "mimetype": "text/x-python",
   "name": "python",
   "nbconvert_exporter": "python",
   "pygments_lexer": "ipython3",
   "version": "3.8.3"
  },
  "widgets": {
   "application/vnd.jupyter.widget-state+json": {
    "state": {},
    "version_major": 2,
    "version_minor": 0
   }
  }
 },
 "nbformat": 4,
 "nbformat_minor": 4
}
