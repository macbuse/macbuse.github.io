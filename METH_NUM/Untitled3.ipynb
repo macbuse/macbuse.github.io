{
 "cells": [
  {
   "cell_type": "code",
   "execution_count": null,
   "id": "4563219a-a608-4131-bb53-28594851f66b",
   "metadata": {},
   "outputs": [],
   "source": [
    " def gcd(a,b):                                                                                                                  \n",
    "    if b==0:                                                                                                                     \n",
    "        return (a,1,0)                                                                                                           \n",
    "    else:                                                                                                                        \n",
    "        (g,x,y) = gcd(b,a%b)                                                                                                     \n",
    "        return (g,y,x - a//b*y)                                                                                                    \n",
    "                                                                                                                                                                             \n",
    "                                                                                                                                                                             \n",
    "                                        "
   ]
  },
  {
   "cell_type": "code",
   "execution_count": 5,
   "id": "15dbc6b8-15fa-44df-ae5e-796410769c43",
   "metadata": {},
   "outputs": [],
   "source": [
    "import numpy as np\n",
    "\n",
    "A  = np.array([[1, -1],[1,0]])"
   ]
  },
  {
   "cell_type": "code",
   "execution_count": 30,
   "id": "abab480e-5d31-46a1-ab10-45ade61e4f7e",
   "metadata": {},
   "outputs": [
    {
     "data": {
      "text/plain": [
       "array([[0., 1., 2., 3., 4., 5., 6.],\n",
       "       [1., 1., 1., 1., 1., 1., 1.]])"
      ]
     },
     "execution_count": 30,
     "metadata": {},
     "output_type": "execute_result"
    }
   ],
   "source": [
    "X = np.ones((2,7))\n",
    "X[0] = np.arange(7)\n",
    "X"
   ]
  },
  {
   "cell_type": "code",
   "execution_count": 38,
   "id": "56bf67bd-aaa7-49e7-99fa-3da4b275272c",
   "metadata": {},
   "outputs": [
    {
     "data": {
      "text/plain": [
       "array([[-1.,  0.,  1.,  2.,  3.,  4.,  5.],\n",
       "       [ 0.,  1.,  2.,  3.,  4.,  5.,  6.]])"
      ]
     },
     "execution_count": 38,
     "metadata": {},
     "output_type": "execute_result"
    }
   ],
   "source": [
    "B = A @ X\n",
    "B"
   ]
  },
  {
   "cell_type": "code",
   "execution_count": 29,
   "id": "75a0ea9d-0c93-4c60-a9b2-b381760a689b",
   "metadata": {},
   "outputs": [
    {
     "data": {
      "text/plain": [
       "array([1, 4, 5, 2, 3, 6])"
      ]
     },
     "execution_count": 29,
     "metadata": {},
     "output_type": "execute_result"
    }
   ],
   "source": [
    "inv = np.array([ gcd(7,x)[2] % 7 for x in range(1,7)])\n",
    "inv"
   ]
  },
  {
   "cell_type": "code",
   "execution_count": 39,
   "id": "a5c9794f-91f6-4ef5-901d-77066a7bae6c",
   "metadata": {},
   "outputs": [
    {
     "data": {
      "text/plain": [
       "array([-1.,  2.,  0.,  2.,  0., -4.])"
      ]
     },
     "execution_count": 39,
     "metadata": {},
     "output_type": "execute_result"
    }
   ],
   "source": [
    "inv * B[0,1:] % 7  - X[0,1:]"
   ]
  },
  {
   "cell_type": "code",
   "execution_count": 45,
   "id": "34910c4c-ed6d-4075-994b-e16c293f2204",
   "metadata": {},
   "outputs": [
    {
     "data": {
      "text/plain": [
       "array([0., 4., 3., 6., 5., 2.])"
      ]
     },
     "execution_count": 45,
     "metadata": {},
     "output_type": "execute_result"
    }
   ],
   "source": [
    "inv * B[0,1:] % 7"
   ]
  },
  {
   "cell_type": "code",
   "execution_count": 43,
   "id": "c2c7a3d1-776e-468b-8c72-80b743b53b7b",
   "metadata": {},
   "outputs": [
    {
     "data": {
      "text/plain": [
       "21"
      ]
     },
     "execution_count": 43,
     "metadata": {},
     "output_type": "execute_result"
    }
   ],
   "source": [
    "25 - 5 + 1"
   ]
  },
  {
   "cell_type": "code",
   "execution_count": 44,
   "id": "3e5e0461-e371-4405-99ff-a31569adee48",
   "metadata": {},
   "outputs": [
    {
     "data": {
      "text/plain": [
       "array([[ 1, -1],\n",
       "       [ 1,  0]])"
      ]
     },
     "execution_count": 44,
     "metadata": {},
     "output_type": "execute_result"
    }
   ],
   "source": [
    "A"
   ]
  },
  {
   "cell_type": "code",
   "execution_count": 3,
   "id": "7b67b97f-c48b-4895-9e35-c903b9e30599",
   "metadata": {},
   "outputs": [],
   "source": [
    "import numpy as np\n",
    "import matplotlib.pyplot as plt"
   ]
  },
  {
   "cell_type": "code",
   "execution_count": 16,
   "id": "79ab36af-2d93-4a97-b174-b56a806490d9",
   "metadata": {},
   "outputs": [
    {
     "data": {
      "image/png": "[encoded data removed]",
      "text/plain": [
       "<Figure size 640x480 with 1 Axes>"
      ]
     },
     "metadata": {},
     "output_type": "display_data"
    }
   ],
   "source": [
    "N = 100\n",
    "S = np.cumsum ( 1/np.arange(1,N))\n",
    "plt.plot(S - np.log(np.arange(1,N)));"
   ]
  },
  {
   "cell_type": "code",
   "execution_count": 18,
   "id": "9c789303-09ff-4c4c-9b6e-c2c4c1cb5c32",
   "metadata": {},
   "outputs": [],
   "source": [
    "import re\n",
    "\n",
    "ss = '''467..114..\n",
    "...*......\n",
    "..35..633.\n",
    "......#...\n",
    "617*......\n",
    ".....+.58.\n",
    "..592.....\n",
    "......755.\n",
    "...$.*....\n",
    ".664.598..'''"
   ]
  },
  {
   "cell_type": "code",
   "execution_count": 34,
   "id": "f3b575a9-feb0-472e-bd35-23de41b5c6d1",
   "metadata": {},
   "outputs": [],
   "source": [
    "xx = re.sub('[\\d\\.]','0',ss)\n",
    "xx = re.sub('[^0^\\n]','1',xx)\n",
    "M = ''.join(xx.split('\\n'))\n",
    "M = [int(x) for x in M]"
   ]
  },
  {
   "cell_type": "code",
   "execution_count": 61,
   "id": "c67c80c1-0e14-4022-add5-5b53d351ffb6",
   "metadata": {},
   "outputs": [
    {
     "data": {
      "text/plain": [
       "118"
      ]
     },
     "execution_count": 61,
     "metadata": {},
     "output_type": "execute_result"
    }
   ],
   "source": [
    "import re\n",
    "\n",
    "text = '''9vxfg\n",
    "19qdlpmdrxone7sevennine\n",
    "'''\n",
    "\n",
    "PATTERN = re.compile('\\d')\n",
    "\n",
    "WORDS = 'one two three four five six seven eight nine'.split()\n",
    "word2digit = { ww:i+1 for i, ww in enumerate(WORDS) }\n",
    "\n",
    "ss = text[:]\n",
    "#change the words to numerals\n",
    "for ww, i in word2digit.items():\n",
    "    ss = re.sub(ww, str(i), ss)\n",
    "\n",
    "sum = 0\n",
    "for line in ss.split('\\n'):\n",
    "    if not line: continue\n",
    "    #find all the digits in the line\n",
    "    matches = PATTERN.findall(line)\n",
    "    sum += int(matches[0] + matches[-1])\n",
    "\n",
    "print(sum)\n"
   ]
  },
  {
   "cell_type": "code",
   "execution_count": 49,
   "id": "757fb2eb-a0d2-425c-9882-d8300b7bf611",
   "metadata": {},
   "outputs": [],
   "source": [
    "text = '''9vxfg\n",
    "19qdlpmdrxone7sevennine\n",
    "1dzntwofour9nineffck\n",
    "7bx8hpldgzqjheight\n",
    "joneseven2sseven64chvczzn\n",
    "seven82683\n",
    "7onefour1eighttwo5three\n",
    "8lmsk871eight7\n",
    "ninefivefive2nine5ntvscdfdsmvqgcbxxxt\n",
    "onepx6hbgdssfivexs\n",
    "cdtjprrbvkftgtwo397seven\n",
    "2eightsix16\n",
    "41pqdmfvptwo\n",
    "xhlqvsjpbhfivefour5sevenonemcmrkvhkjqfour5\n",
    "2czddtpsrgsbgddsix6gvmxqlsnnine4\n",
    "twozxsix9kmctfour'''"
   ]
  },
  {
   "cell_type": "code",
   "execution_count": 62,
   "id": "d700f5c2-dfef-4dbb-b2b1-e4f57e8d8fcc",
   "metadata": {},
   "outputs": [],
   "source": [
    "ss = '''\n",
    "Game 1: 3 blue, 2 green, 6 red; 17 green, 4 red, 8 blue; 2 red, 1 green, 10 blue; 1 blue, 5 green\n",
    "Game 2: 9 red, 2 green; 5 red, 1 blue, 6 green; 3 green, 13 red, 1 blue; 3 red, 6 green; 1 blue, 14 red, 6 green\n",
    "Game 3: 6 red, 3 blue, 8 green; 6 blue, 12 green, 15 red; 3 blue, 18 green, 4 red\n",
    "Game 4: 1 blue, 4 red; 2 blue, 6 red; 13 blue; 11 blue, 1 green, 8 red; 10 blue, 3 green, 2 red; 3 green, 7 blue\n",
    "Game 5: 2 red, 1 blue, 8 green; 2 blue, 7 green, 3 red; 1 blue, 7 green, 4 red; 2 blue, 1 green, 1 red; 13 green, 1 blue\n",
    "'''"
   ]
  },
  {
   "cell_type": "code",
   "execution_count": 76,
   "id": "9b74d08e-96aa-4c45-8045-76c038d4888a",
   "metadata": {},
   "outputs": [
    {
     "name": "stdout",
     "output_type": "stream",
     "text": [
      "{'red': 6, 'green': 17, 'blue': 10}\n",
      "{'red': 14, 'green': 6, 'blue': 1}\n",
      "{'red': 15, 'green': 18, 'blue': 6}\n",
      "{'red': 8, 'green': 3, 'blue': 13}\n",
      "{'red': 4, 'green': 13, 'blue': 2}\n"
     ]
    }
   ],
   "source": [
    "'2 red cubes, 13 green cubes, and 14 blue cubes'\n",
    "\n",
    "games = [ _[8:] for _ in ss.split('\\n') if _ ]\n",
    "\n",
    "pp = re.compile('(\\d+) (\\w+)')\n",
    "\n",
    "new_games = [ [pp.findall(_) for _ in game.split(';')] for game in games ]\n",
    "\n",
    "games = [pp.findall(game) for game in games ]\n",
    "\n",
    "for game in games:\n",
    "    dd = {'red':[],'green':[],'blue':[] }\n",
    "    for i,col in game:\n",
    "        dd[col].append(int(i))\n",
    "    for col, L in dd.items():\n",
    "        dd[col] = max(L)\n",
    "    print(dd)\n",
    "    "
   ]
  },
  {
   "cell_type": "code",
   "execution_count": 2,
   "id": "eb4d8bb3-1c9f-4850-88e3-806b233def05",
   "metadata": {},
   "outputs": [],
   "source": [
    "import numpy as np\n",
    "import re\n",
    "pp = re.compile('(\\d+)',re.DOTALL)"
   ]
  },
  {
   "cell_type": "code",
   "execution_count": 7,
   "id": "125273a4-d9c4-4e63-9d3d-9af23c13a6f1",
   "metadata": {},
   "outputs": [
    {
     "data": {
      "text/plain": [
       "array([[1, 2, 0],\n",
       "       [2, 2, 2],\n",
       "       [2, 1, 3]])"
      ]
     },
     "execution_count": 7,
     "metadata": {},
     "output_type": "execute_result"
    }
   ],
   "source": [
    "ss = '''1 2 0\n",
    "2 2 2\n",
    "2 1 3'''\n",
    "M = [int(x) for x in pp.findall(ss)]\n",
    "M = np.array(M).reshape(3,3)\n",
    "M"
   ]
  },
  {
   "cell_type": "code",
   "execution_count": 9,
   "id": "ab7a7a48-7537-4fea-9540-124e890b407c",
   "metadata": {},
   "outputs": [
    {
     "data": {
      "text/plain": [
       "array([ 1., -6.,  5.,  0.])"
      ]
     },
     "execution_count": 9,
     "metadata": {},
     "output_type": "execute_result"
    }
   ],
   "source": [
    "np.poly(M)"
   ]
  },
  {
   "cell_type": "code",
   "execution_count": 10,
   "id": "4d38255b-627c-4a4b-b57f-7471a3880646",
   "metadata": {},
   "outputs": [
    {
     "data": {
      "text/plain": [
       "array([ 4, -2, -2])"
      ]
     },
     "execution_count": 10,
     "metadata": {},
     "output_type": "execute_result"
    }
   ],
   "source": [
    "np.cross(M[0],M [1])"
   ]
  },
  {
   "cell_type": "code",
   "execution_count": null,
   "id": "496a92e0-1f30-4304-ba19-6b14813064d3",
   "metadata": {},
   "outputs": [],
   "source": []
  }
 ],
 "metadata": {
  "kernelspec": {
   "display_name": "Python 3 (ipykernel)",
   "language": "python",
   "name": "python3"
  },
  "language_info": {
   "codemirror_mode": {
    "name": "ipython",
    "version": 3
   },
   "file_extension": ".py",
   "mimetype": "text/x-python",
   "name": "python",
   "nbconvert_exporter": "python",
   "pygments_lexer": "ipython3",
   "version": "3.11.5"
  },
  "widgets": {
   "application/vnd.jupyter.widget-state+json": {
    "state": {},
    "version_major": 2,
    "version_minor": 0
   }
  }
 },
 "nbformat": 4,
 "nbformat_minor": 5
}
