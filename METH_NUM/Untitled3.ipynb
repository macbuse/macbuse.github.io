{
 "cells": [
  {
   "cell_type": "code",
   "execution_count": null,
   "id": "4563219a-a608-4131-bb53-28594851f66b",
   "metadata": {},
   "outputs": [],
   "source": [
    " def gcd(a,b):                                                                                                                  \n",
    "    if b==0:                                                                                                                     \n",
    "        return (a,1,0)                                                                                                           \n",
    "    else:                                                                                                                        \n",
    "        (g,x,y) = gcd(b,a%b)                                                                                                     \n",
    "        return (g,y,x - a//b*y)                                                                                                    \n",
    "                                                                                                                                                                             \n",
    "                                                                                                                                                                             \n",
    "                                        "
   ]
  },
  {
   "cell_type": "code",
   "execution_count": 5,
   "id": "15dbc6b8-15fa-44df-ae5e-796410769c43",
   "metadata": {},
   "outputs": [],
   "source": [
    "import numpy as np\n",
    "\n",
    "A  = np.array([[1, -1],[1,0]])"
   ]
  },
  {
   "cell_type": "code",
   "execution_count": 30,
   "id": "abab480e-5d31-46a1-ab10-45ade61e4f7e",
   "metadata": {},
   "outputs": [
    {
     "data": {
      "text/plain": [
       "array([[0., 1., 2., 3., 4., 5., 6.],\n",
       "       [1., 1., 1., 1., 1., 1., 1.]])"
      ]
     },
     "execution_count": 30,
     "metadata": {},
     "output_type": "execute_result"
    }
   ],
   "source": [
    "X = np.ones((2,7))\n",
    "X[0] = np.arange(7)\n",
    "X"
   ]
  },
  {
   "cell_type": "code",
   "execution_count": 38,
   "id": "56bf67bd-aaa7-49e7-99fa-3da4b275272c",
   "metadata": {},
   "outputs": [
    {
     "data": {
      "text/plain": [
       "array([[-1.,  0.,  1.,  2.,  3.,  4.,  5.],\n",
       "       [ 0.,  1.,  2.,  3.,  4.,  5.,  6.]])"
      ]
     },
     "execution_count": 38,
     "metadata": {},
     "output_type": "execute_result"
    }
   ],
   "source": [
    "B = A @ X\n",
    "B"
   ]
  },
  {
   "cell_type": "code",
   "execution_count": 29,
   "id": "75a0ea9d-0c93-4c60-a9b2-b381760a689b",
   "metadata": {},
   "outputs": [
    {
     "data": {
      "text/plain": [
       "array([1, 4, 5, 2, 3, 6])"
      ]
     },
     "execution_count": 29,
     "metadata": {},
     "output_type": "execute_result"
    }
   ],
   "source": [
    "inv = np.array([ gcd(7,x)[2] % 7 for x in range(1,7)])\n",
    "inv"
   ]
  },
  {
   "cell_type": "code",
   "execution_count": 39,
   "id": "a5c9794f-91f6-4ef5-901d-77066a7bae6c",
   "metadata": {},
   "outputs": [
    {
     "data": {
      "text/plain": [
       "array([-1.,  2.,  0.,  2.,  0., -4.])"
      ]
     },
     "execution_count": 39,
     "metadata": {},
     "output_type": "execute_result"
    }
   ],
   "source": [
    "inv * B[0,1:] % 7  - X[0,1:]"
   ]
  },
  {
   "cell_type": "code",
   "execution_count": 45,
   "id": "34910c4c-ed6d-4075-994b-e16c293f2204",
   "metadata": {},
   "outputs": [
    {
     "data": {
      "text/plain": [
       "array([0., 4., 3., 6., 5., 2.])"
      ]
     },
     "execution_count": 45,
     "metadata": {},
     "output_type": "execute_result"
    }
   ],
   "source": [
    "inv * B[0,1:] % 7"
   ]
  },
  {
   "cell_type": "code",
   "execution_count": 43,
   "id": "c2c7a3d1-776e-468b-8c72-80b743b53b7b",
   "metadata": {},
   "outputs": [
    {
     "data": {
      "text/plain": [
       "21"
      ]
     },
     "execution_count": 43,
     "metadata": {},
     "output_type": "execute_result"
    }
   ],
   "source": [
    "25 - 5 + 1"
   ]
  },
  {
   "cell_type": "code",
   "execution_count": 44,
   "id": "3e5e0461-e371-4405-99ff-a31569adee48",
   "metadata": {},
   "outputs": [
    {
     "data": {
      "text/plain": [
       "array([[ 1, -1],\n",
       "       [ 1,  0]])"
      ]
     },
     "execution_count": 44,
     "metadata": {},
     "output_type": "execute_result"
    }
   ],
   "source": [
    "A"
   ]
  },
  {
   "cell_type": "code",
   "execution_count": 1,
   "id": "7b67b97f-c48b-4895-9e35-c903b9e30599",
   "metadata": {},
   "outputs": [],
   "source": [
    "import numpy as np\n",
    "import matplotlib.pyplot as plt"
   ]
  },
  {
   "cell_type": "code",
   "execution_count": 2,
   "id": "79ab36af-2d93-4a97-b174-b56a806490d9",
   "metadata": {},
   "outputs": [
    {
     "data": {
      "text/plain": [
       "[<matplotlib.lines.Line2D at 0x78f44d2e0d50>]"
      ]
     },
     "execution_count": 2,
     "metadata": {},
     "output_type": "execute_result"
    },
    {
     "data": {
      "image/png": "[encoded data removed]",
      "text/plain": [
       "<Figure size 640x480 with 1 Axes>"
      ]
     },
     "metadata": {},
     "output_type": "display_data"
    }
   ],
   "source": [
    "plt.plot([5,6])"
   ]
  },
  {
   "cell_type": "code",
   "execution_count": null,
   "id": "9c789303-09ff-4c4c-9b6e-c2c4c1cb5c32",
   "metadata": {},
   "outputs": [],
   "source": []
  }
 ],
 "metadata": {
  "kernelspec": {
   "display_name": "Python 3 (ipykernel)",
   "language": "python",
   "name": "python3"
  },
  "language_info": {
   "codemirror_mode": {
    "name": "ipython",
    "version": 3
   },
   "file_extension": ".py",
   "mimetype": "text/x-python",
   "name": "python",
   "nbconvert_exporter": "python",
   "pygments_lexer": "ipython3",
   "version": "3.11.5"
  },
  "widgets": {
   "application/vnd.jupyter.widget-state+json": {
    "state": {},
    "version_major": 2,
    "version_minor": 0
   }
  }
 },
 "nbformat": 4,
 "nbformat_minor": 5
}
