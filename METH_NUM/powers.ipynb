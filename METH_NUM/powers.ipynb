{
 "cells": [
  {
   "cell_type": "code",
   "execution_count": 112,
   "id": "421c5cce-7e60-45a8-a8ff-6f69637f2d39",
   "metadata": {},
   "outputs": [],
   "source": [
    "import numpy as np"
   ]
  },
  {
   "cell_type": "markdown",
   "id": "5e21f28b-e9d9-4d20-ac7d-e244141c1ac8",
   "metadata": {},
   "source": [
    "# Méthode de la puissance:\n",
    "\n",
    "est un algorithme permettant d'estimer\n",
    "- la valeur propre de plus grand module \n",
    "- un vecteur propre associé \n",
    "d'une matrice $A$. \n",
    "\n",
    "L'idée est que, si on définit une suite $(x_n)$ de vecteurs\n",
    "de $\\mathbb R^n$ par la relation \n",
    "$$x_{n+1}=Ax_n,$$  alors les vecteurs $x_n$ vont \"se tourner\"\n",
    "dans la direction des vecteurs propres associés à la plus grande des valeurs propres. \n",
    "\n",
    "\n",
    "\n",
    "---\n",
    "\n",
    "**Théorème :** Soit $A\\in\\mathcal M_n(\\mathbb R)$ une matrice diagonalisable\n",
    "- $\\lambda_1,\\cdots,\\lambda_n$ ses valeurs propres,\n",
    "- on suppose que $|\\lambda_1| > \\max(|\\lambda_2|,\\dots,|\\lambda_n|)$. \n",
    "-  $v_1$ un vecteur propre associé à $\\lambda_1$. \n",
    "\n",
    "Alors, si $x_0$ est un vecteur non orthogonal\n",
    "à $v_1$, et si $(x_n)$ est définie par la relation de récurrence\n",
    "$x_{n+1}=Ax_n$, alors \n",
    "- $\\frac{x_n}{\\|x_n\\|}$ converge vers un multiple de $v_1$\n",
    "- $\\frac{\\langle x_{n+1},x_n\\rangle}{\\|x_n\\|^2_2}$ converge vers $\\lambda_1$.\n",
    "\n",
    "---\n",
    "\n",
    "1. Pour éviter que l'algorithme ne provoque un dépassement de capacité, on calcule souvent directement une version normalisée\n",
    "de $x_n$.\n",
    "1. Remarquons aussi que l'hypothèse sur $x_0$ n'est pas discriminante, si on choisit le vecteur au hasard, il a une \n",
    "probabilité nulle d'être orthogonal à $v_1$.\n",
    "1. Lorsque les multiplicités algébriques et géométriques associées à la valeur propre $\\lambda _1$ sont égales, le taux de convergence de l'algorithme se comporte en $O\\left(|\\lambda _2/\\lambda _1|^n\\right)$\n",
    "où $\\lambda _1,\\lambda _2$ sont la plus grande et la seconde plus grande valeurs propres (en valeur absolue). \n",
    "\n",
    "\n",
    "\n",
    "\n",
    "L'intérêt de la méthode des puissances itérées est de ne pas nécessiter d'hypothèses très particulières sur la matrice, comme être symétrique.\n",
    "En revanche, elle demande une configuration particulière des valeurs propres qui n'est pas toujours vérifiée. "
   ]
  },
  {
   "cell_type": "code",
   "execution_count": 145,
   "id": "fc72cbad-3384-479a-8522-32fbbdb077ba",
   "metadata": {},
   "outputs": [
    {
     "data": {
      "text/plain": [
       "array([[ 99,   1,   0],\n",
       "       [  1, 100,   1],\n",
       "       [  0,   1,  98]])"
      ]
     },
     "execution_count": 145,
     "metadata": {},
     "output_type": "execute_result"
    }
   ],
   "source": [
    "A = np.array([99,1,0,1,100,1,0,1,98]).reshape(3,3)  # - 97 * np.identity(3)\n",
    "A"
   ]
  },
  {
   "cell_type": "code",
   "execution_count": 180,
   "id": "5957d445-df36-4462-a879-1f5d2ec71817",
   "metadata": {},
   "outputs": [
    {
     "data": {
      "text/plain": [
       "array([100.87938524,  98.65270364,  97.46791111])"
      ]
     },
     "execution_count": 180,
     "metadata": {},
     "output_type": "execute_result"
    }
   ],
   "source": [
    "np.linalg.eig(A)[0]"
   ]
  },
  {
   "cell_type": "markdown",
   "id": "c5ef9a77-d9f5-422b-b0a2-ef9ce136cf16",
   "metadata": {},
   "source": [
    "---\n",
    "\n",
    "## Coding the algorithm\n",
    "\n",
    "- isn't memory efficient for just finding the eigenvector\n",
    "- since we are going to study convergence it's the best\n",
    "- and it is **easy to read**."
   ]
  },
  {
   "cell_type": "code",
   "execution_count": 230,
   "id": "000e3043-703d-4f85-a5a9-36d1205d4052",
   "metadata": {},
   "outputs": [],
   "source": [
    "MAXITER = 1000\n",
    "EPSILON = 10**-11\n",
    "\n",
    "# I know how many there will be so don't need a dynamic list\n",
    "x =  np.zeros((MAXITER + 1,3))\n",
    "# initial vector should check not eigenvector\n",
    "x[0,0] =  1\n",
    "\n",
    "for k in range(MAXITER):    \n",
    "    #iterate\n",
    "    x[k+1] = A @ x[k]\n",
    "    # normalise see above\n",
    "    x[k+1] /= np.linalg.norm(x[k+1])   \n",
    "    #stopping condition\n",
    "    if np.linalg.norm(x[k+1] - x[k]) < EPSILON: break\n",
    "    \n",
    "vecs = x[:k]"
   ]
  },
  {
   "cell_type": "code",
   "execution_count": 250,
   "id": "32c4f76b-6eae-401a-995c-5032b1fda394",
   "metadata": {},
   "outputs": [],
   "source": [
    "def pow_meth(A,\n",
    "            MAXITER = 1000,\n",
    "            EPSILON = 10**-11):\n",
    "    \n",
    "    # I know how many there will be so don't need a dynamic list\n",
    "    x =  np.zeros((MAXITER + 1,3))\n",
    "    # initial vector should check not eigenvector\n",
    "    x[0,0] =  1\n",
    "\n",
    "    for k in range(MAXITER):    \n",
    "        #iterate\n",
    "        x[k+1] = A @ x[k]\n",
    "        # normalise see above\n",
    "        x[k+1] /= np.linalg.norm(x[k+1])   \n",
    "        #stopping condition\n",
    "        if np.linalg.norm(x[k+1] - x[k]) < EPSILON: break\n",
    "    else:\n",
    "        raise ValueError\n",
    "\n",
    "    return x[:k]"
   ]
  },
  {
   "cell_type": "markdown",
   "id": "7f95ce69-28cd-4d2b-8e6b-6c45af950240",
   "metadata": {},
   "source": [
    "## Memory\n",
    "\n",
    "low memory use version"
   ]
  },
  {
   "cell_type": "code",
   "execution_count": 258,
   "id": "134eed2b-8daa-4cd9-adbd-43cd7526aa42",
   "metadata": {},
   "outputs": [
    {
     "data": {
      "text/plain": [
       "(100.8793852415718, array([0.44909879, 0.84402963, 0.29312841]))"
      ]
     },
     "execution_count": 258,
     "metadata": {},
     "output_type": "execute_result"
    }
   ],
   "source": [
    "MAXITER = 1000\n",
    "EPSILON = 10**-11\n",
    "\n",
    "# initial vector should check not eigenvector\n",
    "# you should program it\n",
    "x = A[0].astype(float)\n",
    "\n",
    "for k in range(MAXITER):    \n",
    "    x, y = A@x, x\n",
    "    # normalise see above\n",
    "    x /= np.linalg.norm(x) \n",
    "    #stopping condition\n",
    "    if np.linalg.norm(x - y) < EPSILON: break\n",
    "\n",
    "    \n",
    "# eigenvalue, eigenvector\n",
    "y@A@y, y\n"
   ]
  },
  {
   "cell_type": "markdown",
   "id": "98a3470b-2f01-48da-92c6-cc6956cb258a",
   "metadata": {},
   "source": [
    "\n",
    "and compare it with **numpy**."
   ]
  },
  {
   "cell_type": "code",
   "execution_count": 227,
   "id": "6250dee6-0142-4dff-8ce2-e8953f88aa5a",
   "metadata": {},
   "outputs": [
    {
     "data": {
      "text/plain": [
       "100.87938524157187"
      ]
     },
     "execution_count": 227,
     "metadata": {},
     "output_type": "execute_result"
    }
   ],
   "source": [
    "np.linalg.eigvals(A)[0]"
   ]
  },
  {
   "cell_type": "markdown",
   "id": "f8dfe540-6849-43be-a3e7-959e3373f86f",
   "metadata": {},
   "source": [
    "---\n",
    "\n",
    "# Convergence"
   ]
  },
  {
   "cell_type": "code",
   "execution_count": 35,
   "id": "195c289f-8117-4b13-b164-0948a0e17f15",
   "metadata": {},
   "outputs": [],
   "source": [
    "import matplotlib.pyplot as plt"
   ]
  },
  {
   "cell_type": "code",
   "execution_count": 262,
   "id": "2ea0bb06-7d49-458a-8fe4-5687ff7eb614",
   "metadata": {},
   "outputs": [
    {
     "data": {
      "image/png": "[encoded data removed]",
      "text/plain": [
       "<Figure size 640x480 with 1 Axes>"
      ]
     },
     "metadata": {},
     "output_type": "display_data"
    }
   ],
   "source": [
    "vecs = pow_meth(A )\n",
    "\n",
    "Y = np.array([np.linalg.norm(v) for v in vecs[:-1] - vecs[-1]]) \n",
    "\n",
    "YY = np.log(Y) \n",
    "plt.plot(YY)\n",
    "a,b = 450,200\n",
    "slope = (YY[b] - YY[a])/(b-a)\n",
    "plt.title(f'log plot for $A$ slope = {slope}');"
   ]
  },
  {
   "cell_type": "markdown",
   "id": "1fafd13e-3b12-49a3-8abc-f7a28722bcce",
   "metadata": {},
   "source": [
    "the slope should be \n",
    "$\\log( \\lambda_2/\\lambda_1)$."
   ]
  },
  {
   "cell_type": "code",
   "execution_count": 224,
   "id": "152f2215-3d34-4626-84d8-33042149de99",
   "metadata": {},
   "outputs": [
    {
     "data": {
      "text/plain": [
       "-0.022319959154051165"
      ]
     },
     "execution_count": 224,
     "metadata": {},
     "output_type": "execute_result"
    }
   ],
   "source": [
    "vv = np.linalg.eig(A)[0]\n",
    "np.log(vv[1]/vv[0])"
   ]
  },
  {
   "cell_type": "markdown",
   "id": "27cdc145-5f5b-4974-b947-77220176f835",
   "metadata": {},
   "source": [
    "---\n",
    "\n"
   ]
  },
  {
   "cell_type": "code",
   "execution_count": 257,
   "id": "d848e853-18a6-4403-ae0b-72220e731224",
   "metadata": {},
   "outputs": [
    {
     "data": {
      "image/png": "[encoded data removed]",
      "text/plain": [
       "<Figure size 640x480 with 1 Axes>"
      ]
     },
     "metadata": {},
     "output_type": "display_data"
    }
   ],
   "source": [
    "vecs = pow_meth(A - 97*np.identity(3))\n",
    "\n",
    "Y = np.array([np.linalg.norm(v) for v in vecs[:-1] - vecs[-1]]) \n",
    "\n",
    "YY = np.log(Y) \n",
    "plt.plot(YY)\n",
    "a,b = 5,20\n",
    "slope = (YY[b] - YY[a])/(b-a)\n",
    "plt.title(f'log plot for  $A - 97I_3$ slope = {slope}');"
   ]
  },
  {
   "cell_type": "code",
   "execution_count": 256,
   "id": "5146e33b-396c-43b5-acde-c3c03e1cacc9",
   "metadata": {},
   "outputs": [
    {
     "data": {
      "text/plain": [
       "-0.8532641787457773"
      ]
     },
     "execution_count": 256,
     "metadata": {},
     "output_type": "execute_result"
    }
   ],
   "source": [
    "vv = np.linalg.eig(A - 97*np.identity(3))[0]\n",
    "\n",
    "np.log(vv[1]/vv[0])"
   ]
  },
  {
   "cell_type": "code",
   "execution_count": 261,
   "id": "97d55408-ed08-407b-893f-79f4d30a3836",
   "metadata": {},
   "outputs": [
    {
     "data": {
      "text/plain": [
       "'/home/macbuse'"
      ]
     },
     "execution_count": 261,
     "metadata": {},
     "output_type": "execute_result"
    }
   ],
   "source": []
  },
  {
   "cell_type": "code",
   "execution_count": null,
   "id": "a6e92483-04c8-4b69-8d1b-8c6d80ef86a1",
   "metadata": {},
   "outputs": [],
   "source": []
  }
 ],
 "metadata": {
  "kernelspec": {
   "display_name": "Python 3 (ipykernel)",
   "language": "python",
   "name": "python3"
  },
  "language_info": {
   "codemirror_mode": {
    "name": "ipython",
    "version": 3
   },
   "file_extension": ".py",
   "mimetype": "text/x-python",
   "name": "python",
   "nbconvert_exporter": "python",
   "pygments_lexer": "ipython3",
   "version": "3.9.13"
  }
 },
 "nbformat": 4,
 "nbformat_minor": 5
}
