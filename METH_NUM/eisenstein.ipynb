{
 "cells": [
  {
   "cell_type": "code",
   "execution_count": 1,
   "id": "4563219a-a608-4131-bb53-28594851f66b",
   "metadata": {},
   "outputs": [],
   "source": [
    " def gcd(a,b):                                                                                                                  \n",
    "    if b==0:                                                                                                                     \n",
    "        return (a,1,0)                                                                                                           \n",
    "    else:                                                                                                                        \n",
    "        (g,x,y) = gcd(b,a%b)                                                                                                     \n",
    "        return (g,y,x - a//b*y)                                                                                                    \n",
    "                                                                                                                                                                             \n",
    "                                                                                                                                                                             \n",
    "                                        "
   ]
  },
  {
   "cell_type": "code",
   "execution_count": 5,
   "id": "15dbc6b8-15fa-44df-ae5e-796410769c43",
   "metadata": {},
   "outputs": [],
   "source": [
    "import numpy as np\n",
    "\n",
    "A  = np.array([[1, -1],[1,0]])"
   ]
  },
  {
   "cell_type": "code",
   "execution_count": 57,
   "id": "abab480e-5d31-46a1-ab10-45ade61e4f7e",
   "metadata": {},
   "outputs": [
    {
     "data": {
      "text/plain": [
       "array([[ 0.,  1.,  2.,  3.,  4.,  5.,  6.,  7.,  8.,  9., 10., 11., 12.,\n",
       "        13., 14., 15., 16., 17., 18.],\n",
       "       [ 1.,  1.,  1.,  1.,  1.,  1.,  1.,  1.,  1.,  1.,  1.,  1.,  1.,\n",
       "         1.,  1.,  1.,  1.,  1.,  1.]])"
      ]
     },
     "execution_count": 57,
     "metadata": {},
     "output_type": "execute_result"
    }
   ],
   "source": [
    "n = 19\n",
    "\n",
    "X = np.ones((2,n))\n",
    "X[0] = np.arange(n)\n",
    "X"
   ]
  },
  {
   "cell_type": "code",
   "execution_count": 60,
   "id": "56bf67bd-aaa7-49e7-99fa-3da4b275272c",
   "metadata": {},
   "outputs": [
    {
     "data": {
      "text/plain": [
       "array([ -1.,   8.,   4.,  11.,  11.,  -2.,   2.,   0.,  -6.,   8.,   2.,\n",
       "         0.,   4.,  -9.,  -9.,  -2.,  -6., -16.])"
      ]
     },
     "execution_count": 60,
     "metadata": {},
     "output_type": "execute_result"
    }
   ],
   "source": [
    "B = A @ X\n",
    "inv = np.array([ gcd(n,x)[2] % n for x in range(1,n)])\n",
    "inv * B[0,1:] % n  - X[0,1:]"
   ]
  },
  {
   "cell_type": "code",
   "execution_count": 52,
   "id": "75a0ea9d-0c93-4c60-a9b2-b381760a689b",
   "metadata": {},
   "outputs": [
    {
     "data": {
      "text/plain": [
       "array([ 1,  7,  9, 10,  8, 11,  2,  5,  3,  4,  6, 12])"
      ]
     },
     "execution_count": 52,
     "metadata": {},
     "output_type": "execute_result"
    }
   ],
   "source": [
    "inv = np.array([ gcd(n,x)[2] % n for x in range(1,n)])\n",
    "inv"
   ]
  },
  {
   "cell_type": "code",
   "execution_count": 53,
   "id": "a5c9794f-91f6-4ef5-901d-77066a7bae6c",
   "metadata": {},
   "outputs": [
    {
     "data": {
      "text/plain": [
       "array([ -1.,   5.,   2.,   0.,   1.,  -3.,   5.,   1.,   2.,   0.,  -3.,\n",
       "       -10.])"
      ]
     },
     "execution_count": 53,
     "metadata": {},
     "output_type": "execute_result"
    }
   ],
   "source": [
    "inv * B[0,1:] % n  - X[0,1:]"
   ]
  },
  {
   "cell_type": "code",
   "execution_count": 55,
   "id": "34910c4c-ed6d-4075-994b-e16c293f2204",
   "metadata": {},
   "outputs": [
    {
     "data": {
      "text/plain": [
       "array([ 0.,  7.,  5.,  4.,  6.,  3., 12.,  9., 11., 10.,  8.,  2.])"
      ]
     },
     "execution_count": 55,
     "metadata": {},
     "output_type": "execute_result"
    }
   ],
   "source": [
    "inv * B[0,1:] % n"
   ]
  },
  {
   "cell_type": "code",
   "execution_count": 43,
   "id": "c2c7a3d1-776e-468b-8c72-80b743b53b7b",
   "metadata": {},
   "outputs": [
    {
     "data": {
      "text/plain": [
       "21"
      ]
     },
     "execution_count": 43,
     "metadata": {},
     "output_type": "execute_result"
    }
   ],
   "source": [
    "25 - 5 + 1"
   ]
  },
  {
   "cell_type": "code",
   "execution_count": 61,
   "id": "3e5e0461-e371-4405-99ff-a31569adee48",
   "metadata": {},
   "outputs": [
    {
     "data": {
      "text/plain": [
       "13"
      ]
     },
     "execution_count": 61,
     "metadata": {},
     "output_type": "execute_result"
    }
   ],
   "source": [
    "4**2 - 4 + 1"
   ]
  },
  {
   "cell_type": "code",
   "execution_count": 62,
   "id": "7b67b97f-c48b-4895-9e35-c903b9e30599",
   "metadata": {},
   "outputs": [
    {
     "data": {
      "text/plain": [
       "19"
      ]
     },
     "execution_count": 62,
     "metadata": {},
     "output_type": "execute_result"
    }
   ],
   "source": [
    "3**2 + 6 + 4"
   ]
  },
  {
   "cell_type": "code",
   "execution_count": 64,
   "id": "94631ea0-3685-4e20-9533-a3ec7c9d7a4e",
   "metadata": {},
   "outputs": [
    {
     "data": {
      "text/plain": [
       "19"
      ]
     },
     "execution_count": 64,
     "metadata": {},
     "output_type": "execute_result"
    }
   ],
   "source": [
    "5**2 - 10 + 4"
   ]
  },
  {
   "cell_type": "code",
   "execution_count": 66,
   "id": "51eb75fe-2ac2-4460-96d7-b32f264b9349",
   "metadata": {},
   "outputs": [
    {
     "data": {
      "text/plain": [
       "12"
      ]
     },
     "execution_count": 66,
     "metadata": {},
     "output_type": "execute_result"
    }
   ],
   "source": [
    "5*10 % 19"
   ]
  },
  {
   "cell_type": "code",
   "execution_count": 39,
   "id": "f932d499-0c31-47a1-a9bc-7df6c82d2846",
   "metadata": {},
   "outputs": [],
   "source": [
    "import numpy as np\n",
    "\n",
    "W = np.exp(2J*np.pi/3)\n",
    "T = np.exp(2J*np.pi/6)"
   ]
  },
  {
   "cell_type": "code",
   "execution_count": 30,
   "id": "796f8c1f-237d-4348-9173-5274f488930e",
   "metadata": {},
   "outputs": [],
   "source": [
    "Z = (W+2)/(W + 3)"
   ]
  },
  {
   "cell_type": "code",
   "execution_count": 42,
   "id": "daf2a24c-e45e-4070-ae40-8b0b99a46222",
   "metadata": {},
   "outputs": [
    {
     "data": {
      "text/plain": [
       "0.9999999999999998"
      ]
     },
     "execution_count": 42,
     "metadata": {},
     "output_type": "execute_result"
    }
   ],
   "source": [
    "Z.imag/np.sqrt(3)*14"
   ]
  },
  {
   "cell_type": "code",
   "execution_count": 31,
   "id": "c10ce841-5c60-4687-917d-8888d0801641",
   "metadata": {},
   "outputs": [
    {
     "data": {
      "text/plain": [
       "(7+0j)"
      ]
     },
     "execution_count": 31,
     "metadata": {},
     "output_type": "execute_result"
    }
   ],
   "source": [
    "(W+3)*(W.conjugate() +3)"
   ]
  },
  {
   "cell_type": "code",
   "execution_count": 38,
   "id": "dc0b1dc1-cdd2-4eb1-b0e1-f5d5fdaed945",
   "metadata": {},
   "outputs": [
    {
     "data": {
      "text/plain": [
       "9.000000000000002"
      ]
     },
     "execution_count": 38,
     "metadata": {},
     "output_type": "execute_result"
    }
   ],
   "source": [
    "Z.real*14"
   ]
  },
  {
   "cell_type": "code",
   "execution_count": 40,
   "id": "af1f067e-899d-4963-b3f0-4ba1871b32a0",
   "metadata": {},
   "outputs": [],
   "source": [
    "ZZ = Z = (T+ 1)/(T + 2)"
   ]
  },
  {
   "cell_type": "code",
   "execution_count": 43,
   "id": "ef5ba685-535c-46d6-a4b6-1b7eb2877c67",
   "metadata": {},
   "outputs": [
    {
     "data": {
      "text/plain": [
       "(0.9999999999999998, 9.0)"
      ]
     },
     "execution_count": 43,
     "metadata": {},
     "output_type": "execute_result"
    }
   ],
   "source": [
    "ZZ.imag/np.sqrt(3)*14, ZZ.real*14"
   ]
  },
  {
   "cell_type": "code",
   "execution_count": 48,
   "id": "4d6e0deb-04c6-461f-9e94-79ed565d0b5a",
   "metadata": {},
   "outputs": [],
   "source": [
    "A = np.array([[1,2],[1,3]])\n",
    "a = np.linalg.inv(A)\n",
    "R = np.array([[1,1],[-1,0]])"
   ]
  },
  {
   "cell_type": "code",
   "execution_count": 51,
   "id": "3f5ddf56-e857-4f08-ac93-5099c83a23a2",
   "metadata": {},
   "outputs": [],
   "source": [
    "AR = A @ R @ a"
   ]
  },
  {
   "cell_type": "code",
   "execution_count": 57,
   "id": "d0353695-ac47-420c-8580-55da58e9aac4",
   "metadata": {},
   "outputs": [
    {
     "data": {
      "text/plain": [
       "(array([[-4.,  3.],\n",
       "        [-7.,  5.]]),\n",
       " array([[-5.,  3.],\n",
       "        [-7.,  4.]]))"
      ]
     },
     "execution_count": 57,
     "metadata": {},
     "output_type": "execute_result"
    }
   ],
   "source": [
    "AR, AR @ AR "
   ]
  },
  {
   "cell_type": "code",
   "execution_count": 64,
   "id": "ca9bc8cb-b25e-4be5-a635-952c7e03a184",
   "metadata": {},
   "outputs": [],
   "source": [
    "A = np.array([[1,0],[2,1]])\n",
    "a = np.linalg.inv(A)\n",
    "R = np.array([[0,-1],[1,1]])\n",
    "AR = A @ R @ a"
   ]
  },
  {
   "cell_type": "code",
   "execution_count": 65,
   "id": "d4950257-8cc1-412e-9167-5f74eeb4aa10",
   "metadata": {},
   "outputs": [
    {
     "data": {
      "text/plain": [
       "(array([[ 2., -1.],\n",
       "        [ 3., -1.]]),\n",
       " array([[ 1., -1.],\n",
       "        [ 3., -2.]]))"
      ]
     },
     "execution_count": 65,
     "metadata": {},
     "output_type": "execute_result"
    }
   ],
   "source": [
    "AR, AR @ AR"
   ]
  },
  {
   "cell_type": "code",
   "execution_count": 1,
   "id": "6d9f203b-a128-47a8-ab11-7e18720032ad",
   "metadata": {},
   "outputs": [],
   "source": [
    "def f(x,y,z):\n",
    "    return x**2 + y**2 + 2*z**2 - 4*x*y*z"
   ]
  },
  {
   "cell_type": "code",
   "execution_count": 14,
   "id": "39f02b75-c771-40c3-af2c-a889d3fc0fad",
   "metadata": {},
   "outputs": [
    {
     "data": {
      "text/plain": [
       "(0, 0)"
      ]
     },
     "execution_count": 14,
     "metadata": {},
     "output_type": "execute_result"
    }
   ],
   "source": [
    "f(3,1,5), f(11,3,1)"
   ]
  },
  {
   "cell_type": "code",
   "execution_count": null,
   "id": "0aa419d4-90c0-42ee-9e37-82556f4c6ad0",
   "metadata": {},
   "outputs": [],
   "source": []
  }
 ],
 "metadata": {
  "kernelspec": {
   "display_name": "Python 3 (ipykernel)",
   "language": "python",
   "name": "python3"
  },
  "language_info": {
   "codemirror_mode": {
    "name": "ipython",
    "version": 3
   },
   "file_extension": ".py",
   "mimetype": "text/x-python",
   "name": "python",
   "nbconvert_exporter": "python",
   "pygments_lexer": "ipython3",
   "version": "3.8.12"
  },
  "widgets": {
   "application/vnd.jupyter.widget-state+json": {
    "state": {},
    "version_major": 2,
    "version_minor": 0
   }
  }
 },
 "nbformat": 4,
 "nbformat_minor": 5
}
