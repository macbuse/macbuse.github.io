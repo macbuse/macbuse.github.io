{
 "cells": [
  {
   "cell_type": "code",
   "execution_count": 6,
   "metadata": {},
   "outputs": [],
   "source": [
    "import numpy as np\n",
    "import matplotlib.pyplot as plt"
   ]
  },
  {
   "cell_type": "markdown",
   "metadata": {},
   "source": [
    "# Basic expansion in base b"
   ]
  },
  {
   "cell_type": "markdown",
   "metadata": {},
   "source": [
    "this code works for integers"
   ]
  },
  {
   "cell_type": "code",
   "execution_count": 2,
   "metadata": {},
   "outputs": [],
   "source": [
    "def int2base(x, b=2):  \n",
    "    digits = []\n",
    "    while x > 0:\n",
    "        digits.append(x % b)\n",
    "        x //= b\n",
    "    return list(reversed(digits))\n"
   ]
  },
  {
   "cell_type": "code",
   "execution_count": 765,
   "metadata": {},
   "outputs": [],
   "source": [
    "def digits(p,q,\n",
    "           b=2, num_digits=20):\n",
    "    \n",
    "    if (p > q): raise ValueError\n",
    "    r = p\n",
    "    digits = []\n",
    "    for _ in range(num_digits):\n",
    "        digits.append( (r*b) // q)\n",
    "        r = (r*b) % q\n",
    "    return digits"
   ]
  },
  {
   "cell_type": "code",
   "execution_count": 767,
   "metadata": {},
   "outputs": [
    {
     "data": {
      "text/plain": [
       "[0, 0, 1, 0, 1, 0, 1, 0, 1, 0, 1, 0, 1, 0, 1, 0, 1, 0, 1, 0]"
      ]
     },
     "execution_count": 767,
     "metadata": {},
     "output_type": "execute_result"
    }
   ],
   "source": [
    "digits(1,6)"
   ]
  },
  {
   "cell_type": "markdown",
   "metadata": {},
   "source": [
    "---\n",
    "\n",
    "## More sophistocated\n",
    "\n",
    "This returns the **full** expansion in base ```b``` in 2 parts\n",
    "1. an initial sequence of digits  which isn't repeated\n",
    "1. the repeating part\n",
    "\n",
    "---\n",
    "\n",
    "### Examples\n",
    "\n",
    "1/6 = 0.166666666\n",
    "\n",
    "- starts with 1\n",
    "- the repeating part is 6\n",
    "\n",
    "$\\frac16 = \\frac{1}{10}  +  \\frac{1}{10} \\times \\frac{6}{9}$ \n",
    "\n",
    "and form the binary expansion of $1/10$\n",
    "\n",
    "- starts with 0\n",
    "- the repeating part is 0011\n",
    "\n",
    "$\\frac{1}{10}   =  \\frac{1}{2} \\times  \\left( 3  \\times  \\frac{1/16}{1- 1/16} \\right)$ "
   ]
  },
  {
   "cell_type": "code",
   "execution_count": 3,
   "metadata": {},
   "outputs": [],
   "source": [
    "def digits(p,q,\n",
    "           b=2,n=20):\n",
    "    r = p\n",
    "    pos = {p : 0}\n",
    "    digits = []\n",
    "    \n",
    "    while True:\n",
    "        p, r = (r*b) // q, (r*b) % q\n",
    "        digits.append(p)\n",
    "        # this is a trick\n",
    "        if r in pos: break\n",
    "        pos[r] = len(digits)\n",
    "    \n",
    "    return digits[:pos[r]], digits[pos[r]:]"
   ]
  },
  {
   "cell_type": "code",
   "execution_count": 4,
   "metadata": {},
   "outputs": [
    {
     "data": {
      "text/plain": [
       "([0], [0, 0, 1, 1])"
      ]
     },
     "execution_count": 4,
     "metadata": {},
     "output_type": "execute_result"
    }
   ],
   "source": [
    "digits(1,10,b=2)"
   ]
  },
  {
   "cell_type": "code",
   "execution_count": 307,
   "metadata": {},
   "outputs": [
    {
     "data": {
      "text/plain": [
       "([], [0, 0, 0, 1, 0, 0, 1, 1, 1, 0, 1, 1])"
      ]
     },
     "execution_count": 307,
     "metadata": {},
     "output_type": "execute_result"
    }
   ],
   "source": [
    "digits(1,13,b=2)"
   ]
  },
  {
   "cell_type": "markdown",
   "metadata": {},
   "source": [
    "---\n",
    "\n",
    "# Euler's constant\n",
    "\n",
    "\n",
    "You should read the [wikipedia page](https://en.wikipedia.org/wiki/Euler%27s_constant)\n",
    "\n",
    "I'll use **numpy** to do this without writing a ```for``` loop\n"
   ]
  },
  {
   "cell_type": "code",
   "execution_count": 5,
   "metadata": {},
   "outputs": [
    {
     "data": {
      "text/plain": [
       "array([  1,   2,   3,   4,   5,   6,   7,   8,   9,  10,  11,  12,  13,\n",
       "        14,  15,  16,  17,  18,  19,  20,  21,  22,  23,  24,  25,  26,\n",
       "        27,  28,  29,  30,  31,  32,  33,  34,  35,  36,  37,  38,  39,\n",
       "        40,  41,  42,  43,  44,  45,  46,  47,  48,  49,  50,  51,  52,\n",
       "        53,  54,  55,  56,  57,  58,  59,  60,  61,  62,  63,  64,  65,\n",
       "        66,  67,  68,  69,  70,  71,  72,  73,  74,  75,  76,  77,  78,\n",
       "        79,  80,  81,  82,  83,  84,  85,  86,  87,  88,  89,  90,  91,\n",
       "        92,  93,  94,  95,  96,  97,  98,  99, 100])"
      ]
     },
     "execution_count": 5,
     "metadata": {},
     "output_type": "execute_result"
    }
   ],
   "source": [
    "np.arange(1,101)"
   ]
  },
  {
   "cell_type": "markdown",
   "metadata": {},
   "source": [
    "---\n",
    "\n",
    "The ```for``` loop is to study the convergence over bigger and bigger ranges\n",
    "\n",
    "Convergence is very very slow\n",
    "\n",
    "-  because $1/n - (\\log(n+1) -\\log(n)) \\rightarrow 0$ very slowly $O(1/n^2)$\n",
    "- $2^{-n} \\rightarrow 0$ much more quickly"
   ]
  },
  {
   "cell_type": "code",
   "execution_count": 6,
   "metadata": {},
   "outputs": [
    {
     "data": {
      "text/plain": [
       "[0.5767155815682061,\n",
       " 0.576965644068201,\n",
       " 0.577048988975589,\n",
       " 0.5770906596931713,\n",
       " 0.5771156615681665,\n",
       " 0.5771323292533648,\n",
       " 0.5771442346293849,\n",
       " 0.5771531635994176,\n",
       " 0.577160108317134]"
      ]
     },
     "execution_count": 6,
     "metadata": {},
     "output_type": "execute_result"
    }
   ],
   "source": [
    "[sum(1./np.arange(1,k)) - np.log(k) for k in range(1000,10000,1000)]"
   ]
  },
  {
   "cell_type": "markdown",
   "metadata": {},
   "source": [
    "[euler's constant](https://en.wikipedia.org/wiki/Euler%27s_constant)\n",
    "\n",
    "0.5772156649"
   ]
  },
  {
   "cell_type": "markdown",
   "metadata": {},
   "source": [
    "---\n",
    "\n",
    "## This is purely for amusement\n",
    "\n",
    "speed test\n",
    "\n",
    "- a **pure** Python function \n",
    "- Python compiled to C using Cython\n",
    "- a **one liner** in numpy\n"
   ]
  },
  {
   "cell_type": "markdown",
   "metadata": {},
   "source": [
    "---\n",
    "\n",
    "## Pure Python \n",
    "\n",
    "I saw someone write this and it's correct"
   ]
  },
  {
   "cell_type": "code",
   "execution_count": 7,
   "metadata": {},
   "outputs": [],
   "source": [
    "def harmonic_py(n):\n",
    "    s = 0 \n",
    "    for i in range(1, n+1):\n",
    "        s += 1.0/i\n",
    "    return s"
   ]
  },
  {
   "cell_type": "markdown",
   "metadata": {},
   "source": [
    "there's a trick to cross compile this to C \n",
    "\n",
    "- add typing\n",
    "- this should be [easier](https://docs.python.org/3/library/typing.html) but :( apparently only for linters"
   ]
  },
  {
   "cell_type": "code",
   "execution_count": 9,
   "metadata": {},
   "outputs": [],
   "source": [
    "%load_ext Cython"
   ]
  },
  {
   "cell_type": "code",
   "execution_count": 101,
   "metadata": {},
   "outputs": [],
   "source": [
    "%%cython \n",
    "\n",
    "import cython\n",
    "\n",
    "# I think this turns off a division by zero check \n",
    "@cython.cdivision(True)\n",
    "def harmonic(int n):\n",
    "    cdef int i \n",
    "    # careful you need to use double not float here\n",
    "    cdef double s = 0\n",
    "    for i in range(1, n+1):\n",
    "        s += 1.0/i\n",
    "    return s"
   ]
  },
  {
   "cell_type": "markdown",
   "metadata": {},
   "source": [
    "if you don't use **double** then things are pretty bad\n",
    "because of rounding errors"
   ]
  },
  {
   "cell_type": "code",
   "execution_count": 11,
   "metadata": {},
   "outputs": [
    {
     "data": {
      "text/plain": [
       "(2.283333333333333, 2.283333333333333)"
      ]
     },
     "execution_count": 11,
     "metadata": {},
     "output_type": "execute_result"
    }
   ],
   "source": [
    "harmonic(5), (1./np.arange(1,6)).sum()"
   ]
  },
  {
   "cell_type": "code",
   "execution_count": 390,
   "metadata": {},
   "outputs": [
    {
     "data": {
      "text/plain": [
       "(2.283333333333333, 2.283333333333333)"
      ]
     },
     "execution_count": 390,
     "metadata": {},
     "output_type": "execute_result"
    }
   ],
   "source": [
    "harmonic(5), (1./np.arange(1,6)).sum()"
   ]
  },
  {
   "cell_type": "markdown",
   "metadata": {},
   "source": [
    "but **double** is just fine "
   ]
  },
  {
   "cell_type": "code",
   "execution_count": 13,
   "metadata": {},
   "outputs": [
    {
     "data": {
      "text/plain": [
       "5.021394411386382e-10"
      ]
     },
     "execution_count": 13,
     "metadata": {},
     "output_type": "execute_result"
    }
   ],
   "source": [
    "#fails at 10**10\n",
    "\n",
    "k = 10**9\n",
    "harmonic(k) - np.log(k) - 0.5772156649"
   ]
  },
  {
   "cell_type": "markdown",
   "metadata": {},
   "source": [
    "## Much slower\n",
    "\n",
    "but in practice this is good for understanding cases"
   ]
  },
  {
   "cell_type": "code",
   "execution_count": 769,
   "metadata": {},
   "outputs": [
    {
     "data": {
      "text/plain": [
       "0.5772106648931068"
      ]
     },
     "execution_count": 769,
     "metadata": {},
     "output_type": "execute_result"
    }
   ],
   "source": [
    "k = 100000\n",
    "sum(1./np.arange(1,k)) - np.log(k)"
   ]
  },
  {
   "cell_type": "markdown",
   "metadata": {},
   "source": [
    "## Comparison"
   ]
  },
  {
   "cell_type": "code",
   "execution_count": 98,
   "metadata": {},
   "outputs": [],
   "source": [
    "k = 100000"
   ]
  },
  {
   "cell_type": "code",
   "execution_count": 132,
   "metadata": {},
   "outputs": [
    {
     "name": "stdout",
     "output_type": "stream",
     "text": [
      "128 µs ± 3.13 µs per loop (mean ± std. dev. of 7 runs, 10000 loops each)\n"
     ]
    }
   ],
   "source": [
    "%%timeit\n",
    "\n",
    "harmonic(k) - np.log(k)"
   ]
  },
  {
   "cell_type": "code",
   "execution_count": 17,
   "metadata": {},
   "outputs": [
    {
     "name": "stdout",
     "output_type": "stream",
     "text": [
      "599 µs ± 19.4 µs per loop (mean ± std. dev. of 7 runs, 1000 loops each)\n"
     ]
    }
   ],
   "source": [
    "%%timeit\n",
    "(1./np.arange(1,k)).sum() - np.log(k)"
   ]
  },
  {
   "cell_type": "code",
   "execution_count": 18,
   "metadata": {},
   "outputs": [
    {
     "name": "stdout",
     "output_type": "stream",
     "text": [
      "6.86 ms ± 304 µs per loop (mean ± std. dev. of 7 runs, 100 loops each)\n"
     ]
    }
   ],
   "source": [
    "%%timeit\n",
    "\n",
    "harmonic_py(k) - np.log(k)"
   ]
  },
  {
   "cell_type": "markdown",
   "metadata": {},
   "source": [
    "---\n",
    "\n",
    "## Horner"
   ]
  },
  {
   "cell_type": "markdown",
   "metadata": {},
   "source": [
    "- P a list of coefficients to of a polynomial to be evaluated in\n",
    "- x a floating point\n",
    "\n",
    "Note that ```P[0]``` is the constant term so we need to reverse the order in the list \n",
    "when applying Horner.\n",
    "\n",
    "There are 2 arithemetic operations per loop\n",
    "```\n",
    "        val *= x\n",
    "        val += coeff\n",
    "```\n",
    "and the loop is executed ```len(P)``` times \n",
    "so the algorithm is linear in the degree of ```P```.\n",
    "\n",
    "---\n",
    "\n",
    "I usually use something like this to evaluate\n",
    "\n",
    "``` sum ([x**i * coeff for i,coeff in enumerate(P)])```\n",
    "\n",
    "- ```x**i * coeff``` is i multiplications\n",
    "- there are ```len(P)``` - 1 additions in the ```sum()```\n",
    "\n",
    "so this is quadratic in the degree of ```P```.\n",
    "\n",
    "Technically this uses more memory than a ```for``` loop.\n"
   ]
  },
  {
   "cell_type": "code",
   "execution_count": 884,
   "metadata": {},
   "outputs": [],
   "source": [
    "def horner_py(x, P):\n",
    "    val = 0\n",
    "    for coeff in reversed(P):\n",
    "        val *= x\n",
    "        val += coeff\n",
    "        \n",
    "    return val"
   ]
  },
  {
   "cell_type": "markdown",
   "metadata": {},
   "source": [
    "---\n",
    "\n",
    "Timing things doesn't really make good sense\n",
    "as there are all sorts of things that can happen\n",
    "during between different executions of the function."
   ]
  },
  {
   "cell_type": "code",
   "execution_count": 771,
   "metadata": {},
   "outputs": [],
   "source": [
    "import time"
   ]
  },
  {
   "cell_type": "code",
   "execution_count": 853,
   "metadata": {},
   "outputs": [],
   "source": [
    "def naif_eval(x,P):\n",
    "    val = 0\n",
    "    for i, coeff in enumerate(P):\n",
    "        val += coeff*x**i\n",
    "    return val\n",
    "    "
   ]
  },
  {
   "cell_type": "code",
   "execution_count": 894,
   "metadata": {},
   "outputs": [
    {
     "data": {
      "image/png": "[encoded data removed]",
      "text/plain": [
       "<Figure size 432x288 with 1 Axes>"
      ]
     },
     "metadata": {
      "needs_background": "light"
     },
     "output_type": "display_data"
    }
   ],
   "source": [
    "P = np.arange(2000)\n",
    "T = []\n",
    "\n",
    "for n in range(0,1000,20):\n",
    "    naif_eval(1.01, P[:n])\n",
    "    T.append(time.time())\n",
    "\n",
    "# this calculates differences between consecutive elements in T[]\n",
    "plt.plot(np.diff(T,1));"
   ]
  },
  {
   "cell_type": "code",
   "execution_count": 851,
   "metadata": {},
   "outputs": [
    {
     "data": {
      "text/plain": [
       "9.993734212517824"
      ]
     },
     "execution_count": 851,
     "metadata": {},
     "output_type": "execute_result"
    }
   ],
   "source": [
    "horner_py(.9,P[:70])"
   ]
  },
  {
   "cell_type": "code",
   "execution_count": 896,
   "metadata": {},
   "outputs": [
    {
     "data": {
      "image/png": "[encoded data removed]",
      "text/plain": [
       "<Figure size 432x288 with 1 Axes>"
      ]
     },
     "metadata": {
      "needs_background": "light"
     },
     "output_type": "display_data"
    }
   ],
   "source": [
    "P = np.arange(2000)\n",
    "\n",
    "for n in range(0,1000,20):\n",
    "    horner_py(1.1,P[:n])\n",
    "    T.append(time.time())\n",
    "\n",
    "ts = np.diff(T,1)\n",
    "plt.plot(ts[ts<.1][:]);"
   ]
  },
  {
   "cell_type": "code",
   "execution_count": 898,
   "metadata": {},
   "outputs": [
    {
     "data": {
      "text/plain": [
       "(1.2134030984085583e+87, 1.2134030984085563e+87)"
      ]
     },
     "execution_count": 898,
     "metadata": {},
     "output_type": "execute_result"
    }
   ],
   "source": [
    "horner_py(1.1,P), naif_eval(1.1,P)"
   ]
  },
  {
   "cell_type": "markdown",
   "metadata": {},
   "source": [
    "---\n",
    "\n",
    "I do sometimes compile Python to C using [Cython](https://cython.org/)\n",
    "and then comparing speeds between different implementations does make sense."
   ]
  },
  {
   "cell_type": "code",
   "execution_count": 768,
   "metadata": {},
   "outputs": [],
   "source": [
    "%%cython\n",
    "\n",
    "import cython\n",
    "\n",
    "def horner(double x, list P):\n",
    "    cdef double val = 0\n",
    "    for coeff in reversed(P):\n",
    "        val *= x\n",
    "        val += coeff\n",
    "        \n",
    "    return val"
   ]
  },
  {
   "cell_type": "code",
   "execution_count": 85,
   "metadata": {},
   "outputs": [
    {
     "data": {
      "text/plain": [
       "(9.999999999999995, 9.999999999999993)"
      ]
     },
     "execution_count": 85,
     "metadata": {},
     "output_type": "execute_result"
    }
   ],
   "source": [
    "P = [1]*500\n",
    "horner(.9,P), sum([.9**i * coeff for i, coeff in enumerate(P)])"
   ]
  },
  {
   "cell_type": "code",
   "execution_count": 86,
   "metadata": {},
   "outputs": [
    {
     "name": "stdout",
     "output_type": "stream",
     "text": [
      "17.9 µs ± 545 ns per loop (mean ± std. dev. of 7 runs, 10000 loops each)\n"
     ]
    }
   ],
   "source": [
    "%%timeit \n",
    "horner(.9,P)"
   ]
  },
  {
   "cell_type": "code",
   "execution_count": 87,
   "metadata": {},
   "outputs": [
    {
     "name": "stdout",
     "output_type": "stream",
     "text": [
      "30.1 µs ± 1.47 µs per loop (mean ± std. dev. of 7 runs, 10000 loops each)\n"
     ]
    }
   ],
   "source": [
    "%%timeit \n",
    "horner_py(.9,P)"
   ]
  },
  {
   "cell_type": "code",
   "execution_count": 65,
   "metadata": {},
   "outputs": [
    {
     "name": "stdout",
     "output_type": "stream",
     "text": [
      "3.99 µs ± 168 ns per loop (mean ± std. dev. of 7 runs, 100000 loops each)\n"
     ]
    }
   ],
   "source": [
    "%%timeit \n",
    "np.array(P).dot(np.array([.9**i for i in range(len(P))]))"
   ]
  },
  {
   "cell_type": "code",
   "execution_count": 88,
   "metadata": {},
   "outputs": [
    {
     "name": "stdout",
     "output_type": "stream",
     "text": [
      "85.6 µs ± 4.9 µs per loop (mean ± std. dev. of 7 runs, 10000 loops each)\n"
     ]
    }
   ],
   "source": [
    "%%timeit \n",
    "sum ([.9**i * coeff for i, coeff in enumerate(P)])"
   ]
  },
  {
   "cell_type": "code",
   "execution_count": 92,
   "metadata": {},
   "outputs": [
    {
     "data": {
      "text/plain": [
       "(9.999999999999993, 9.999999999999995)"
      ]
     },
     "execution_count": 92,
     "metadata": {},
     "output_type": "execute_result"
    }
   ],
   "source": [
    "def ev(x,P):\n",
    "    s = 0 \n",
    "    for i,c in enumerate(P):\n",
    "        s += c*x**i\n",
    "    return s\n",
    "\n",
    "ev(.9,P), horner(.9,P)"
   ]
  },
  {
   "cell_type": "code",
   "execution_count": null,
   "metadata": {},
   "outputs": [],
   "source": []
  },
  {
   "cell_type": "code",
   "execution_count": 91,
   "metadata": {},
   "outputs": [
    {
     "name": "stdout",
     "output_type": "stream",
     "text": [
      "85 µs ± 2.59 µs per loop (mean ± std. dev. of 7 runs, 10000 loops each)\n"
     ]
    }
   ],
   "source": [
    "%%timeit \n",
    "ev(.9,P)"
   ]
  },
  {
   "cell_type": "code",
   "execution_count": 127,
   "metadata": {},
   "outputs": [],
   "source": [
    "%%cython \n",
    "\n",
    "import cython\n",
    "@cython.boundscheck(False)\n",
    "@cython.cdivision(True)\n",
    "@cython.nonecheck(False)\n",
    "\n",
    "def n2b(int x, int b=2):  \n",
    "    cdef list digits = []\n",
    "    \n",
    "    while x > 0:\n",
    "        digits.append(x % b)\n",
    "        x //= b\n",
    "    return list(reversed(digits))\n"
   ]
  },
  {
   "cell_type": "code",
   "execution_count": 124,
   "metadata": {},
   "outputs": [],
   "source": [
    "%%cython\n",
    "\n",
    "import cython\n",
    "import numpy as np\n",
    "cimport numpy as np\n",
    "\n",
    "@cython.boundscheck(False)\n",
    "\n",
    "def n2b(int x, int b=2):  \n",
    "    cdef np.ndarray digits = np.zeros(20, dtype=int)\n",
    "    \n",
    "    cdef int i = 19\n",
    "    while x > 0:\n",
    "        digits[i] = x % b\n",
    "        i -= 1\n",
    "        x //= b\n",
    "    return digits[i:]\n"
   ]
  },
  {
   "cell_type": "code",
   "execution_count": 129,
   "metadata": {},
   "outputs": [
    {
     "name": "stdout",
     "output_type": "stream",
     "text": [
      "386 ns ± 13.1 ns per loop (mean ± std. dev. of 7 runs, 1000000 loops each)\n"
     ]
    }
   ],
   "source": [
    "%%timeit\n",
    "\n",
    "n2b(167)"
   ]
  },
  {
   "cell_type": "code",
   "execution_count": 230,
   "metadata": {},
   "outputs": [
    {
     "name": "stdout",
     "output_type": "stream",
     "text": [
      "388 ns ± 14.1 ns per loop (mean ± std. dev. of 7 runs, 1000000 loops each)\n"
     ]
    }
   ],
   "source": [
    "%%timeit\n",
    "n2b(167)"
   ]
  },
  {
   "cell_type": "code",
   "execution_count": 228,
   "metadata": {},
   "outputs": [
    {
     "name": "stdout",
     "output_type": "stream",
     "text": [
      "1.22 µs ± 26.9 ns per loop (mean ± std. dev. of 7 runs, 1000000 loops each)\n"
     ]
    }
   ],
   "source": [
    "%%timeit\n",
    "\n",
    "p = num2base(167)"
   ]
  },
  {
   "cell_type": "code",
   "execution_count": 11,
   "metadata": {},
   "outputs": [],
   "source": [
    "# Exo 8\n",
    "\n"
   ]
  },
  {
   "cell_type": "code",
   "execution_count": 222,
   "metadata": {},
   "outputs": [
    {
     "data": {
      "text/plain": [
       "array([[ 2., -1.,  0.,  0.,  0.,  0.,  0.,  0.],\n",
       "       [-1.,  2., -1.,  0.,  0.,  0.,  0.,  0.],\n",
       "       [ 0., -1.,  2., -1.,  0.,  0.,  0.,  0.],\n",
       "       [ 0.,  0., -1.,  2., -1.,  0.,  0.,  0.],\n",
       "       [ 0.,  0.,  0., -1.,  2., -1.,  0.,  0.],\n",
       "       [ 0.,  0.,  0.,  0., -1.,  2., -1.,  0.],\n",
       "       [ 0.,  0.,  0.,  0.,  0., -1.,  2., -1.],\n",
       "       [ 0.,  0.,  0.,  0.,  0.,  0., -1.,  2.]])"
      ]
     },
     "execution_count": 222,
     "metadata": {},
     "output_type": "execute_result"
    }
   ],
   "source": [
    "import numpy as np\n",
    "\n",
    "import matplotlib.pyplot as plt\n",
    "\n",
    "N = 8\n",
    "A = 2*np.identity(N)\n",
    "for i in range(N-1):\n",
    "    A[i,i+1] = A[i+1,i] = -1\n",
    "A"
   ]
  },
  {
   "cell_type": "markdown",
   "metadata": {},
   "source": [
    "---\n",
    "\n",
    "# check for eigenvectors"
   ]
  },
  {
   "cell_type": "code",
   "execution_count": 180,
   "metadata": {},
   "outputs": [
    {
     "data": {
      "text/plain": [
       "array([0.46791111, 0.46791111, 0.46791111, 0.46791111, 0.46791111,\n",
       "       0.46791111, 0.46791111, 0.46791111])"
      ]
     },
     "execution_count": 180,
     "metadata": {},
     "output_type": "execute_result"
    }
   ],
   "source": [
    "k = 2\n",
    "T = np.pi*k*np.arange(1,N+1)/(N+1)\n",
    "U = np.sin(T)\n",
    "#this fails sometimes, division by something close to  zero\n",
    "A.dot(U)/U"
   ]
  },
  {
   "cell_type": "code",
   "execution_count": 183,
   "metadata": {},
   "outputs": [
    {
     "data": {
      "text/plain": [
       "(15.999999999999988,\n",
       " array([3.87938524, 3.53208889, 3.        , 2.34729636, 1.65270364,\n",
       "        0.12061476, 0.46791111, 1.        ]))"
      ]
     },
     "execution_count": 183,
     "metadata": {},
     "output_type": "execute_result"
    }
   ],
   "source": [
    "sum(np.linalg.eigvals(A)), np.linalg.eigvals(A)"
   ]
  },
  {
   "cell_type": "markdown",
   "metadata": {},
   "source": [
    "# Better to \n",
    "\n",
    "write a function to generate the matrix $A$"
   ]
  },
  {
   "cell_type": "code",
   "execution_count": 4,
   "metadata": {},
   "outputs": [
    {
     "ename": "NameError",
     "evalue": "name 'plt' is not defined",
     "output_type": "error",
     "traceback": [
      "\u001b[0;31m---------------------------------------------------------------------------\u001b[0m",
      "\u001b[0;31mNameError\u001b[0m                                 Traceback (most recent call last)",
      "\u001b[0;32m<ipython-input-4-1daaf7dfea5c>\u001b[0m in \u001b[0;36m<module>\u001b[0;34m\u001b[0m\n\u001b[1;32m      8\u001b[0m \u001b[0mX\u001b[0m \u001b[0;34m=\u001b[0m \u001b[0mnp\u001b[0m\u001b[0;34m.\u001b[0m\u001b[0mlinspace\u001b[0m\u001b[0;34m(\u001b[0m\u001b[0;36m0\u001b[0m\u001b[0;34m,\u001b[0m\u001b[0;36m1\u001b[0m\u001b[0;34m,\u001b[0m\u001b[0;36m100\u001b[0m\u001b[0;34m)\u001b[0m\u001b[0;34m\u001b[0m\u001b[0;34m\u001b[0m\u001b[0m\n\u001b[1;32m      9\u001b[0m \u001b[0;34m\u001b[0m\u001b[0m\n\u001b[0;32m---> 10\u001b[0;31m \u001b[0mplt\u001b[0m\u001b[0;34m.\u001b[0m\u001b[0mplot\u001b[0m\u001b[0;34m(\u001b[0m\u001b[0mX\u001b[0m\u001b[0;34m,\u001b[0m \u001b[0;36m12\u001b[0m\u001b[0;34m*\u001b[0m\u001b[0mX\u001b[0m\u001b[0;34m**\u001b[0m\u001b[0;36m2\u001b[0m\u001b[0;34m+\u001b[0m\u001b[0;36m4\u001b[0m\u001b[0;34m)\u001b[0m\u001b[0;34m;\u001b[0m\u001b[0;34m\u001b[0m\u001b[0;34m\u001b[0m\u001b[0m\n\u001b[0m\u001b[1;32m     11\u001b[0m \u001b[0mplt\u001b[0m\u001b[0;34m.\u001b[0m\u001b[0mplot\u001b[0m\u001b[0;34m(\u001b[0m\u001b[0mX\u001b[0m\u001b[0;34m[\u001b[0m\u001b[0;36m2\u001b[0m\u001b[0;34m:\u001b[0m\u001b[0;34m-\u001b[0m\u001b[0;36m2\u001b[0m\u001b[0;34m]\u001b[0m\u001b[0;34m,\u001b[0m\u001b[0;34m-\u001b[0m\u001b[0;36m100\u001b[0m\u001b[0;34m**\u001b[0m\u001b[0;36m2\u001b[0m\u001b[0;34m*\u001b[0m\u001b[0mM\u001b[0m\u001b[0;34m(\u001b[0m\u001b[0;36m100\u001b[0m\u001b[0;34m)\u001b[0m\u001b[0;34m.\u001b[0m\u001b[0mdot\u001b[0m\u001b[0;34m(\u001b[0m\u001b[0mX\u001b[0m\u001b[0;34m**\u001b[0m\u001b[0;36m4\u001b[0m\u001b[0;34m+\u001b[0m \u001b[0;36m2\u001b[0m\u001b[0;34m*\u001b[0m\u001b[0mX\u001b[0m\u001b[0;34m**\u001b[0m\u001b[0;36m2\u001b[0m\u001b[0;34m)\u001b[0m\u001b[0;34m[\u001b[0m\u001b[0;36m2\u001b[0m\u001b[0;34m:\u001b[0m\u001b[0;34m-\u001b[0m\u001b[0;36m2\u001b[0m\u001b[0;34m]\u001b[0m\u001b[0;34m)\u001b[0m\u001b[0;34m;\u001b[0m\u001b[0;34m\u001b[0m\u001b[0;34m\u001b[0m\u001b[0m\n",
      "\u001b[0;31mNameError\u001b[0m: name 'plt' is not defined"
     ]
    }
   ],
   "source": [
    "def M(n):\n",
    "    A = 2*np.identity(n)\n",
    "    for i in range(n-1):\n",
    "        A[i,i+1] = A[i+1,i] = -1\n",
    "    return A\n",
    "\n",
    "\n",
    "X = np.linspace(0,1,100)\n",
    "\n",
    "plt.plot(X, 12*X**2+4);\n",
    "plt.plot(X[2:-2],-100**2*M(100).dot(X**4+ 2*X**2)[2:-2]);"
   ]
  },
  {
   "cell_type": "code",
   "execution_count": 230,
   "metadata": {},
   "outputs": [
    {
     "data": {
      "text/plain": [
       "0.0034362595476501016"
      ]
     },
     "execution_count": 230,
     "metadata": {},
     "output_type": "execute_result"
    },
    {
     "data": {
      "image/png": "[encoded data removed]",
      "text/plain": [
       "<Figure size 432x288 with 1 Axes>"
      ]
     },
     "metadata": {
      "needs_background": "light"
     },
     "output_type": "display_data"
    }
   ],
   "source": [
    "\n",
    "N = 500\n",
    "# subdivision of the interval\n",
    "X = np.linspace(0,1,N)\n",
    "h = (X[1] - X[0])\n",
    "\n",
    "# -A/h^2 + C\n",
    "B = M(N)/(h**2) + np.diag(X)\n",
    "# this is probably more accurate as N**2 has no rounding error\n",
    "B = M(N)*(N**2) + np.diag(X)\n",
    "\n",
    "f = (1 + 2*X - X**2)*np.exp(X) + X**2 - X\n",
    "g = (1-X)*(np.exp(X)-1)\n",
    "\n",
    "Y = np.linalg.solve(B, f)\n",
    "plt.plot(X, Y)\n",
    "plt.plot(X, g);\n",
    "\n",
    "np.max(np.abs(Y - g))"
   ]
  },
  {
   "cell_type": "markdown",
   "metadata": {},
   "source": [
    "---\n",
    "\n",
    "# Jacobi method\n",
    "\n",
    "In numerical linear algebra, the Jacobi method is an iterative algorithm for determining the solutions of a strictly diagonally dominant system of linear equations. Each diagonal element is solved for, and an approximate value is plugged in. The process is then iterated until it converges. This algorithm is a stripped-down version of the Jacobi transformation method of matrix diagonalization. The method is named after Carl Gustav Jacob Jacobi.\n",
    "\n",
    "https://en.wikipedia.org/wiki/Jacobi_method"
   ]
  },
  {
   "cell_type": "code",
   "execution_count": 232,
   "metadata": {},
   "outputs": [],
   "source": [
    "C = np.array([2,1,5,7]).reshape(2,2)"
   ]
  },
  {
   "cell_type": "code",
   "execution_count": 32,
   "metadata": {},
   "outputs": [],
   "source": [
    "def decompose(C):\n",
    "    D = np.array([C[i,i] for i in range(C.shape[0])])\n",
    "    LU = np.copy(C) - np.diag(D)\n",
    "    return D, LU\n",
    "\n",
    "V = np.ones(2)\n",
    "b = np.array([11,13])\n",
    "D, LU = decompose(C)"
   ]
  },
  {
   "cell_type": "code",
   "execution_count": 732,
   "metadata": {},
   "outputs": [
    {
     "data": {
      "text/plain": [
       "array([10.99999999, 13.        ])"
      ]
     },
     "execution_count": 732,
     "metadata": {},
     "output_type": "execute_result"
    }
   ],
   "source": [
    "for k in range(20):\n",
    "    #V = (-LU.dot(V) + b)/D\n",
    "    V = V + (-C.dot(V) + b)/D\n",
    "C.dot(V)"
   ]
  },
  {
   "cell_type": "code",
   "execution_count": 42,
   "metadata": {},
   "outputs": [
    {
     "data": {
      "image/png": "[encoded data removed]",
      "text/plain": [
       "<Figure size 432x288 with 1 Axes>"
      ]
     },
     "metadata": {
      "needs_background": "light"
     },
     "output_type": "display_data"
    }
   ],
   "source": [
    "# initialize the matrix\n",
    "C = np.array([[10., -1., 2., 0.],\n",
    "              [-1., 11., -1., 3.],\n",
    "              [2., -1., 10., -1.],\n",
    "              [0.0, 3., -1., 8.]])\n",
    "# initialize the RHS vector\n",
    "b = np.array([6., 25., -11., 15.])\n",
    "V = np.zeros_like(C[0])\n",
    "\n",
    "D, LU = decompose(C)\n",
    "\n",
    "VS = []\n",
    "for k in range(10):\n",
    "    V = (-LU.dot(V) + b)/D\n",
    "    VS.append(V)\n",
    "\n",
    "E = [np.linalg.norm( b - C.dot(v)) for v in VS]\n",
    "plt.plot(-np.log(E));"
   ]
  },
  {
   "cell_type": "code",
   "execution_count": 38,
   "metadata": {},
   "outputs": [
    {
     "data": {
      "text/plain": [
       "LinregressResult(slope=0.854590388387257, intercept=-2.4365624942108233, rvalue=0.9999854699430567, pvalue=1.950023073529421e-19, stderr=0.001628794894121396)"
      ]
     },
     "execution_count": 38,
     "metadata": {},
     "output_type": "execute_result"
    }
   ],
   "source": [
    "from scipy import stats\n",
    "\n",
    "         \n",
    "stats.linregress(np.arange(len(E)),-np.log(E))"
   ]
  },
  {
   "cell_type": "markdown",
   "metadata": {},
   "source": [
    "# Eigenvalues"
   ]
  },
  {
   "cell_type": "code",
   "execution_count": 50,
   "metadata": {},
   "outputs": [],
   "source": [
    "ev, evv = np.linalg.eig(np.linalg.inv(np.diag(D).dot(C)))"
   ]
  },
  {
   "cell_type": "code",
   "execution_count": 51,
   "metadata": {},
   "outputs": [
    {
     "data": {
      "text/plain": [
       "array([10., 11., 10.,  8.])"
      ]
     },
     "execution_count": 51,
     "metadata": {},
     "output_type": "execute_result"
    }
   ],
   "source": []
  },
  {
   "cell_type": "markdown",
   "metadata": {},
   "source": [
    "---\n",
    "\n",
    "## Jacobi applied to the exo 8"
   ]
  },
  {
   "cell_type": "code",
   "execution_count": 28,
   "metadata": {},
   "outputs": [],
   "source": [
    "N = 200\n",
    "X = np.linspace(0,1,N)\n",
    "\n",
    "B = M(N)*(N**2) + np.diag(X)\n",
    "# target function\n",
    "b = (1 + 2*X - X**2)*np.exp(X) + X**2 - X \n",
    "# exact solution\n",
    "g = (1-X)*(np.exp(X)-1)\n",
    "# initial guess\n",
    "V = np.ones(N)\n",
    "\n",
    "# could use\n",
    "# D = 2*N**2 - X\n",
    "\n",
    "D = np.array([B[i,i] for i in range(N)])"
   ]
  },
  {
   "cell_type": "markdown",
   "metadata": {},
   "source": [
    "## Iteration loop"
   ]
  },
  {
   "cell_type": "code",
   "execution_count": 29,
   "metadata": {},
   "outputs": [],
   "source": [
    "#%%timeit\n",
    "E = []\n",
    "for k in range(4000):\n",
    "    #V = (-LU.dot(V) + b)/D\n",
    "    V = V + (-B.dot(V) + b)/D\n",
    "    E.append(np.linalg.norm(V - g,np.inf))\n",
    "    "
   ]
  },
  {
   "cell_type": "code",
   "execution_count": 30,
   "metadata": {},
   "outputs": [
    {
     "data": {
      "text/plain": [
       "[<matplotlib.lines.Line2D at 0x7fdb718474c0>]"
      ]
     },
     "execution_count": 30,
     "metadata": {},
     "output_type": "execute_result"
    },
    {
     "data": {
      "image/png": "[encoded data removed]",
      "text/plain": [
       "<Figure size 432x288 with 1 Axes>"
      ]
     },
     "metadata": {
      "needs_background": "light"
     },
     "output_type": "display_data"
    }
   ],
   "source": [
    "plt.plot(-np.log(np.array(E[100:])))"
   ]
  },
  {
   "cell_type": "code",
   "execution_count": 367,
   "metadata": {},
   "outputs": [
    {
     "data": {
      "text/plain": [
       "(0.008589502825312118, 0.008589502825312118)"
      ]
     },
     "execution_count": 367,
     "metadata": {},
     "output_type": "execute_result"
    },
    {
     "data": {
      "image/png": "[encoded data removed]",
      "text/plain": [
       "<Figure size 432x288 with 1 Axes>"
      ]
     },
     "metadata": {
      "needs_background": "light"
     },
     "output_type": "display_data"
    }
   ],
   "source": [
    "plt.plot(V);\n",
    "plt.plot(g );\n",
    "\n",
    "np.max(np.abs(V - g)), np.linalg.norm(V-g, np.inf)"
   ]
  },
  {
   "cell_type": "code",
   "execution_count": 363,
   "metadata": {},
   "outputs": [],
   "source": [
    "#%%timeit\n",
    "K = N**2*np.array([1,-2,1])\n",
    "\n",
    "for k in range(500000):\n",
    "    #trick to avoid matrix multiplication\n",
    "    V = V + ( np.convolve(V, K, mode='same')- X*V + b)/D\n",
    "    "
   ]
  },
  {
   "cell_type": "markdown",
   "metadata": {},
   "source": [
    "---\n",
    "\n",
    "# Convergence\n",
    "\n",
    "- easy case $C$ symmetric positive definite\n",
    "- $(L + U)/D$ has a dominant eigenvalue"
   ]
  },
  {
   "cell_type": "code",
   "execution_count": 52,
   "metadata": {},
   "outputs": [],
   "source": [
    "C = np.array([2,1,1,1]).reshape(2,2)"
   ]
  },
  {
   "cell_type": "code",
   "execution_count": 56,
   "metadata": {},
   "outputs": [],
   "source": [
    "D = np.array([C[i,i] for i in range(C.shape[0])])"
   ]
  },
  {
   "cell_type": "code",
   "execution_count": 66,
   "metadata": {},
   "outputs": [
    {
     "data": {
      "text/plain": [
       "array([1, 1])"
      ]
     },
     "execution_count": 66,
     "metadata": {},
     "output_type": "execute_result"
    }
   ],
   "source": [
    "C.dot([0,1])"
   ]
  },
  {
   "cell_type": "code",
   "execution_count": 91,
   "metadata": {},
   "outputs": [
    {
     "data": {
      "image/png": "[encoded data removed]",
      "text/plain": [
       "<Figure size 432x288 with 1 Axes>"
      ]
     },
     "metadata": {
      "needs_background": "light"
     },
     "output_type": "display_data"
    }
   ],
   "source": [
    "C = np.array([2,1,1,1]).reshape(2,2)\n",
    "D = np.array([C[i,i] for i in range(C.shape[0])])\n",
    "V = np.ones(2)\n",
    "b = np.ones(2)\n",
    "\n",
    "E = []\n",
    "for k in range(40):\n",
    "    #V = (-LU.dot(V) + b)/D\n",
    "    V = V + (-C.dot(V) + b)/D\n",
    "    E.append(np.linalg.norm(V - [0,1]))\n",
    "plt.plot(np.log(E));"
   ]
  },
  {
   "cell_type": "code",
   "execution_count": 92,
   "metadata": {},
   "outputs": [
    {
     "data": {
      "image/png": "[encoded data removed]",
      "text/plain": [
       "<Figure size 432x288 with 1 Axes>"
      ]
     },
     "metadata": {
      "needs_background": "light"
     },
     "output_type": "display_data"
    }
   ],
   "source": [
    "plt.plot(np.log(E));"
   ]
  },
  {
   "cell_type": "code",
   "execution_count": 93,
   "metadata": {},
   "outputs": [],
   "source": [
    "DC = np.diag(D)\n",
    "ee, vv = np.linalg.eig((C-DC)/D)"
   ]
  },
  {
   "cell_type": "code",
   "execution_count": 96,
   "metadata": {},
   "outputs": [
    {
     "data": {
      "text/plain": [
       "array([[2, 0],\n",
       "       [0, 1]])"
      ]
     },
     "execution_count": 96,
     "metadata": {},
     "output_type": "execute_result"
    }
   ],
   "source": []
  },
  {
   "cell_type": "code",
   "execution_count": null,
   "metadata": {},
   "outputs": [],
   "source": []
  },
  {
   "cell_type": "code",
   "execution_count": null,
   "metadata": {},
   "outputs": [],
   "source": []
  }
 ],
 "metadata": {
  "kernelspec": {
   "display_name": "Python 3",
   "language": "python",
   "name": "python3"
  },
  "language_info": {
   "codemirror_mode": {
    "name": "ipython",
    "version": 3
   },
   "file_extension": ".py",
   "mimetype": "text/x-python",
   "name": "python",
   "nbconvert_exporter": "python",
   "pygments_lexer": "ipython3",
   "version": "3.8.3"
  },
  "widgets": {
   "application/vnd.jupyter.widget-state+json": {
    "state": {},
    "version_major": 2,
    "version_minor": 0
   }
  }
 },
 "nbformat": 4,
 "nbformat_minor": 4
}
