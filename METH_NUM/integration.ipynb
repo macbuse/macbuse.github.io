{
 "cells": [
  {
   "cell_type": "code",
   "execution_count": 14,
   "id": "ff3cdd12-57db-4e99-8f2e-c1d5e8a25fb9",
   "metadata": {},
   "outputs": [],
   "source": [
    "import numpy as np\n",
    "import matplotlib.pyplot as plt"
   ]
  },
  {
   "cell_type": "code",
   "execution_count": 9,
   "id": "557c9d2a-3ded-492e-97a5-fceae3295611",
   "metadata": {},
   "outputs": [],
   "source": [
    "N = 1000\n",
    "\n",
    "X = np.linspace(0,2,N)\n",
    "Y = np.cos(X)\n",
    "delta = X[1] - X[0]"
   ]
  },
  {
   "cell_type": "code",
   "execution_count": 10,
   "id": "6931adc0-653b-49b5-bc19-2b34855ee7cb",
   "metadata": {},
   "outputs": [
    {
     "data": {
      "text/plain": [
       "(0.9098815607204649, 0.9092974268256817)"
      ]
     },
     "execution_count": 10,
     "metadata": {},
     "output_type": "execute_result"
    }
   ],
   "source": [
    "delta*sum(Y), np.sin(2)"
   ]
  },
  {
   "cell_type": "code",
   "execution_count": 16,
   "id": "c5430767-7980-4aba-b96e-9faf3b02b240",
   "metadata": {},
   "outputs": [],
   "source": [
    "error = []\n",
    "for N in range(10,1000,20):\n",
    "\n",
    "    X = np.linspace(0,2,N)\n",
    "    Y = np.cos(X)\n",
    "    delta = X[1] - X[0]\n",
    "    error.append(delta*sum(Y) - np.sin(2))"
   ]
  },
  {
   "cell_type": "code",
   "execution_count": 17,
   "id": "5f787ad5-dc48-4201-8481-57da2286943c",
   "metadata": {},
   "outputs": [
    {
     "data": {
      "image/png": "[encoded data removed]",
      "text/plain": [
       "<Figure size 432x288 with 1 Axes>"
      ]
     },
     "metadata": {
      "needs_background": "light"
     },
     "output_type": "display_data"
    }
   ],
   "source": [
    "plt.plot(error);"
   ]
  },
  {
   "cell_type": "code",
   "execution_count": 46,
   "id": "0a965e28-3c8a-4163-b04d-6f6ec8431070",
   "metadata": {},
   "outputs": [
    {
     "data": {
      "text/plain": [
       "0.9092665012870648"
      ]
     },
     "execution_count": 46,
     "metadata": {},
     "output_type": "execute_result"
    }
   ],
   "source": [
    "N = 100\n",
    "\n",
    "X = np.linspace(0,2,N)\n",
    "weights = 2*np.ones_like(X)\n",
    "weights[0] = weights[-1] =  1\n",
    "Y = np.cos(X)\n",
    "delta = X[1] - X[0]\n",
    "delta*weights @ Y /2"
   ]
  },
  {
   "cell_type": "code",
   "execution_count": 49,
   "id": "85ef1acf-3aff-4e50-805a-0c5af5ba105b",
   "metadata": {},
   "outputs": [
    {
     "data": {
      "text/plain": [
       "1.98"
      ]
     },
     "execution_count": 49,
     "metadata": {},
     "output_type": "execute_result"
    }
   ],
   "source": [
    "sum(weights)/len(weights)"
   ]
  },
  {
   "cell_type": "code",
   "execution_count": 45,
   "id": "faff5a3f-a072-4b24-924a-480e86fd6803",
   "metadata": {},
   "outputs": [
    {
     "data": {
      "text/plain": [
       "0.9120379105066313"
      ]
     },
     "execution_count": 45,
     "metadata": {},
     "output_type": "execute_result"
    }
   ],
   "source": [
    "N = 100\n",
    "\n",
    "X = np.linspace(0,2,N)\n",
    "weights = 2*np.ones_like(X)\n",
    "weights[1::2] = 4\n",
    "weights[0] = weights[-1] =  1\n",
    "Y = np.cos(X)\n",
    "delta = X[1] - X[0]\n",
    "delta*weights @ Y / 3"
   ]
  },
  {
   "cell_type": "code",
   "execution_count": 39,
   "id": "c6df3bf3-15a2-451d-a126-4aa9133c5286",
   "metadata": {},
   "outputs": [
    {
     "data": {
      "text/plain": [
       "array([1., 4., 2., 4., 2., 4., 2., 4., 2., 1.])"
      ]
     },
     "execution_count": 39,
     "metadata": {},
     "output_type": "execute_result"
    }
   ],
   "source": [
    "weights"
   ]
  },
  {
   "cell_type": "code",
   "execution_count": 48,
   "id": "978e72c4-8012-4748-a800-7d3e64273742",
   "metadata": {},
   "outputs": [
    {
     "data": {
      "text/plain": [
       "1.98"
      ]
     },
     "execution_count": 48,
     "metadata": {},
     "output_type": "execute_result"
    }
   ],
   "source": [
    "sum(weights)/len(weights)"
   ]
  },
  {
   "cell_type": "code",
   "execution_count": null,
   "id": "e6a792df-f120-4bc1-b6a8-6a107c93f8a3",
   "metadata": {},
   "outputs": [],
   "source": []
  }
 ],
 "metadata": {
  "kernelspec": {
   "display_name": "Python 3 (ipykernel)",
   "language": "python",
   "name": "python3"
  },
  "language_info": {
   "codemirror_mode": {
    "name": "ipython",
    "version": 3
   },
   "file_extension": ".py",
   "mimetype": "text/x-python",
   "name": "python",
   "nbconvert_exporter": "python",
   "pygments_lexer": "ipython3",
   "version": "3.8.12"
  },
  "widgets": {
   "application/vnd.jupyter.widget-state+json": {
    "state": {},
    "version_major": 2,
    "version_minor": 0
   }
  }
 },
 "nbformat": 4,
 "nbformat_minor": 5
}
