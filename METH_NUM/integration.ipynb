{
 "cells": [
  {
   "cell_type": "code",
   "execution_count": 1,
   "id": "ff3cdd12-57db-4e99-8f2e-c1d5e8a25fb9",
   "metadata": {},
   "outputs": [],
   "source": [
    "import numpy as np\n",
    "import matplotlib.pyplot as plt"
   ]
  },
  {
   "cell_type": "code",
   "execution_count": 16,
   "id": "557c9d2a-3ded-492e-97a5-fceae3295611",
   "metadata": {},
   "outputs": [],
   "source": [
    "N = 1000\n",
    "\n",
    "X = np.linspace(0,2,N)\n",
    "Y = np.cos(X)\n",
    "delta = X[1] - X[0]"
   ]
  },
  {
   "cell_type": "code",
   "execution_count": 3,
   "id": "6931adc0-653b-49b5-bc19-2b34855ee7cb",
   "metadata": {},
   "outputs": [
    {
     "data": {
      "text/plain": [
       "(0.9098815607204649, 0.9092974268256817)"
      ]
     },
     "execution_count": 3,
     "metadata": {},
     "output_type": "execute_result"
    }
   ],
   "source": [
    "delta*sum(Y), np.sin(2)"
   ]
  },
  {
   "cell_type": "markdown",
   "id": "39c37682-d6c0-40f7-84c5-0120121f652e",
   "metadata": {},
   "source": [
    "---\n",
    "\n",
    "# Errors "
   ]
  },
  {
   "cell_type": "code",
   "execution_count": 111,
   "id": "c5430767-7980-4aba-b96e-9faf3b02b240",
   "metadata": {},
   "outputs": [],
   "source": [
    "error_rectangle = []\n",
    "for N in range(10,1000,20):\n",
    "\n",
    "    X = np.linspace(0,2,N)\n",
    "    Y = np.cos(X)\n",
    "    delta = X[1] - X[0]\n",
    "    error_rectangle.append(delta*sum(Y) - np.sin(2))"
   ]
  },
  {
   "cell_type": "code",
   "execution_count": 112,
   "id": "5f787ad5-dc48-4201-8481-57da2286943c",
   "metadata": {},
   "outputs": [
    {
     "data": {
      "image/png": "[encoded data removed]",
      "text/plain": [
       "<Figure size 432x288 with 1 Axes>"
      ]
     },
     "metadata": {
      "needs_background": "light"
     },
     "output_type": "display_data"
    }
   ],
   "source": [
    "plt.plot(error_rectangle);"
   ]
  },
  {
   "cell_type": "markdown",
   "id": "8f87ec79-d944-4887-a5d6-345092325c8a",
   "metadata": {},
   "source": [
    "---\n",
    "\n",
    "# Trapeze\n",
    "\n",
    "\n",
    "[explanation on wiki](https://en.wikipedia.org/wiki/Trapezoidal_rule)"
   ]
  },
  {
   "cell_type": "code",
   "execution_count": 90,
   "id": "0a965e28-3c8a-4163-b04d-6f6ec8431070",
   "metadata": {},
   "outputs": [
    {
     "data": {
      "text/plain": [
       "0.9092665012870648"
      ]
     },
     "execution_count": 90,
     "metadata": {},
     "output_type": "execute_result"
    }
   ],
   "source": [
    "\n",
    "N = 100\n",
    "\n",
    "X = np.linspace(0,2,N)\n",
    "weights = 2*np.ones_like(X)\n",
    "weights[0] = weights[-1] =  1\n",
    "Y = np.cos(X)\n",
    "delta = X[1] - X[0]\n",
    "delta*weights @ Y /2"
   ]
  },
  {
   "cell_type": "code",
   "execution_count": 99,
   "id": "113da892-79bb-4625-bf82-b8c57e5f120a",
   "metadata": {},
   "outputs": [
    {
     "data": {
      "text/plain": [
       "0.9092665012870642"
      ]
     },
     "execution_count": 99,
     "metadata": {},
     "output_type": "execute_result"
    }
   ],
   "source": [
    "N = 100\n",
    "\n",
    "X = np.linspace(0,2,N)\n",
    "Y = np.cos(X)\n",
    "\n",
    "delta = X[1] - X[0]\n",
    "delta* (Y[0] + Y[-1] +  2*sum(Y[1:-1]))/2"
   ]
  },
  {
   "cell_type": "code",
   "execution_count": 113,
   "id": "85ef1acf-3aff-4e50-805a-0c5af5ba105b",
   "metadata": {},
   "outputs": [],
   "source": [
    "error_trapeze = []\n",
    "for N in range(10,1000,20):\n",
    "\n",
    "    X = np.linspace(0,2,N)\n",
    "    Y = np.cos(X)\n",
    "    delta = X[1] - X[0]\n",
    "    error_trapeze.append(delta* (Y[0] + Y[-1] +  2*sum(Y[1:-1]))/2 - np.sin(2))"
   ]
  },
  {
   "cell_type": "code",
   "execution_count": 116,
   "id": "be4feb36-b7a3-4a47-9810-92c1b58a4e1e",
   "metadata": {},
   "outputs": [
    {
     "data": {
      "image/png": "[encoded data removed]",
      "text/plain": [
       "<Figure size 432x288 with 1 Axes>"
      ]
     },
     "metadata": {
      "needs_background": "light"
     },
     "output_type": "display_data"
    }
   ],
   "source": [
    "plt.plot(error_rectangle, error_trapeze);"
   ]
  },
  {
   "cell_type": "markdown",
   "id": "75552a1d-8879-4f17-a8f7-d9f6792e2b63",
   "metadata": {},
   "source": [
    "---\n",
    "\n",
    "# Simpson\n",
    "\n",
    "[details](https://math24.net/simpsons-rule.html)\n",
    "\n",
    "[explanation on wiki](https://en.wikipedia.org/wiki/Simpson%27s_rule)"
   ]
  },
  {
   "cell_type": "code",
   "execution_count": 4,
   "id": "faff5a3f-a072-4b24-924a-480e86fd6803",
   "metadata": {},
   "outputs": [
    {
     "data": {
      "text/plain": [
       "0.909574528346356"
      ]
     },
     "execution_count": 4,
     "metadata": {},
     "output_type": "execute_result"
    }
   ],
   "source": [
    "N = 1000\n",
    "\n",
    "X = np.linspace(0,2,N)\n",
    "weights = 2*np.ones_like(X)\n",
    "weights[1::2] = 4\n",
    "weights[0] = weights[-1] =  1\n",
    "Y = np.cos(X)\n",
    "delta = X[1] - X[0]\n",
    "delta*(weights @ Y) / 3"
   ]
  },
  {
   "cell_type": "code",
   "execution_count": 57,
   "id": "c6df3bf3-15a2-451d-a126-4aa9133c5286",
   "metadata": {},
   "outputs": [
    {
     "data": {
      "text/plain": [
       "array([1., 4., 2., 4., 2., 4., 2., 4., 2., 4., 2., 4., 2., 4., 2., 4., 2.,\n",
       "       4., 2., 4., 2., 4., 2., 4., 2., 4., 2., 4., 2., 4., 2., 4., 2., 4.,\n",
       "       2., 4., 2., 4., 2., 4., 2., 4., 2., 4., 2., 4., 2., 4., 2., 4., 2.,\n",
       "       4., 2., 4., 2., 4., 2., 4., 2., 4., 2., 4., 2., 4., 2., 4., 2., 4.,\n",
       "       2., 4., 2., 4., 2., 4., 2., 4., 2., 4., 2., 4., 2., 4., 2., 4., 2.,\n",
       "       4., 2., 4., 2., 4., 2., 4., 2., 4., 2., 4., 2., 4., 2., 1.])"
      ]
     },
     "execution_count": 57,
     "metadata": {},
     "output_type": "execute_result"
    }
   ],
   "source": [
    "weights"
   ]
  },
  {
   "cell_type": "markdown",
   "id": "f72322c9-f45c-4198-b9d8-641b2c477e9c",
   "metadata": {},
   "source": [
    "# Alternative Simpson code "
   ]
  },
  {
   "cell_type": "code",
   "execution_count": 5,
   "id": "481928f8-163e-4790-96fc-6e9631d66a36",
   "metadata": {},
   "outputs": [
    {
     "data": {
      "text/plain": [
       "0.9092696506115666"
      ]
     },
     "execution_count": 5,
     "metadata": {},
     "output_type": "execute_result"
    }
   ],
   "source": [
    "N = 10000\n",
    "\n",
    "X = np.linspace(0,2,N)\n",
    "Y = np.cos(X)\n",
    "\n",
    "delta = X[1] - X[0]\n",
    "delta* (Y[0] + Y[-1] + 4*sum(Y[1::2]) + 2*sum(Y[2:-2:2]))/3"
   ]
  },
  {
   "cell_type": "code",
   "execution_count": 9,
   "id": "36e855b9-12b4-48ea-a3dd-b69ba502cdd5",
   "metadata": {},
   "outputs": [
    {
     "data": {
      "text/plain": [
       "0.9092974268258645"
      ]
     },
     "execution_count": 9,
     "metadata": {},
     "output_type": "execute_result"
    }
   ],
   "source": [
    "N = 1000\n",
    "\n",
    "X = np.linspace(0,2,N)\n",
    "\n",
    "Y = np.cos(X)\n",
    "delta = X[1] - X[0]\n",
    "delta*(Y[0] + Y[-1] + 3*(sum(Y[1:-1:3]) +  sum(Y[2:-1:3]) )+ 2*sum(Y[3:-1:3]) )*3/8"
   ]
  },
  {
   "cell_type": "markdown",
   "id": "a1ed4b38-18ce-45ab-bc33-e9f3c0496918",
   "metadata": {},
   "source": [
    "---\n",
    "\n",
    "# Monte carlo"
   ]
  },
  {
   "cell_type": "code",
   "execution_count": 181,
   "id": "346e93dd-c042-4dbf-8ad8-2b84c3bc89a5",
   "metadata": {},
   "outputs": [
    {
     "data": {
      "text/plain": [
       "0.9073229157586732"
      ]
     },
     "execution_count": 181,
     "metadata": {},
     "output_type": "execute_result"
    }
   ],
   "source": [
    "a, b  = 0, 2\n",
    "N = 10000\n",
    "\n",
    "X = (b-a)*np.random.rand(N) + a\n",
    "\n",
    "(b-a)/N*sum(np.cos(X)) \n"
   ]
  },
  {
   "cell_type": "code",
   "execution_count": 184,
   "id": "0f0387a4-2553-4bf0-8068-2d9d119df141",
   "metadata": {},
   "outputs": [
    {
     "data": {
      "image/png": "[encoded data removed]",
      "text/plain": [
       "<Figure size 432x288 with 1 Axes>"
      ]
     },
     "metadata": {
      "needs_background": "light"
     },
     "output_type": "display_data"
    }
   ],
   "source": [
    "X = (b-a)*np.random.rand(N) + a\n",
    "\n",
    "plt.hist(X);"
   ]
  },
  {
   "cell_type": "code",
   "execution_count": 198,
   "id": "cfc67eb7-8a1a-4db6-a77a-20e444a2d881",
   "metadata": {},
   "outputs": [
    {
     "data": {
      "text/plain": [
       "0.7954"
      ]
     },
     "execution_count": 198,
     "metadata": {},
     "output_type": "execute_result"
    }
   ],
   "source": [
    "# Area of a disc\n",
    "\n",
    "N = 10000\n",
    "\n",
    "X = np.random.rand(N).reshape((2,-1))\n",
    "L = np.sum( X * X, axis=0)\n",
    "2*np.count_nonzero(L < 1)/N"
   ]
  },
  {
   "cell_type": "code",
   "execution_count": 197,
   "id": "9da78fac-5df0-404f-b15b-a9a1dccb2962",
   "metadata": {},
   "outputs": [
    {
     "data": {
      "text/plain": [
       "0.7853981633974483"
      ]
     },
     "execution_count": 197,
     "metadata": {},
     "output_type": "execute_result"
    }
   ],
   "source": [
    "np.pi/4"
   ]
  },
  {
   "cell_type": "code",
   "execution_count": 194,
   "id": "d69543af-a2a8-4871-8e73-26db1eedc577",
   "metadata": {},
   "outputs": [
    {
     "data": {
      "text/plain": [
       "array([[0.11971062, 0.17905715, 0.40017859, 0.90262644, 0.06182962],\n",
       "       [0.22885845, 0.8757727 , 0.10602717, 0.56652344, 0.38519476]])"
      ]
     },
     "execution_count": 194,
     "metadata": {},
     "output_type": "execute_result"
    }
   ],
   "source": [
    "\n",
    "X = np.random.rand(N).reshape((2,-1))\n",
    "X*X"
   ]
  },
  {
   "cell_type": "markdown",
   "id": "0dd59c1b-dfbe-441f-86e0-4ace4ccefa47",
   "metadata": {},
   "source": [
    "# making random numbers with the Golden ratio\n",
    "\n",
    "https://www.sciencedirect.com/science/article/pii/S0895717707002890\n",
    "\n",
    "## Conclusions\n",
    "\n",
    "Study of transcendental and algebraic numbers for random sequence sources for randomized algorithms. Our numerical experiment shows that pi () has always scored over phi (the golden ratio) in one-dimensional Monte Carlo integration. This implies that other transcendental numbers as well as algebraic numbers could also be investigated to determine the uniformity/discrepancy of distribution of random numbers generated out of them. This has not only academic interest but also possibly significant real-world applications. However, while quasi-random sequences are better suited for uniform scanning of a space such as that required in Monte Carlo integration, these need not fare better than the pseudo-random sequences for other kinds of problems such as the traveling salesman problem (TSP) [2]. These are because pseudo-random numbers are a bit too random unlike quasi-random numbers. Quasi-random numbers, on the other hand, are more uniformly distributed (with less discrepancy) than pseudo-random numbers.\n",
    "\n",
    "\n",
    "\n",
    "[source](https://en.wikipedia.org/wiki/Low-discrepancy_sequence)\n",
    "\n",
    "A **low-discrepancy sequence** is a sequence with the property that for all values of N,\n",
    "its subsequence $x_1, ..., x_N$ has a low discrepancy.\n",
    "\n",
    "Roughly speaking, the discrepancy of a sequence is low if the proportion of points in the sequence falling into an arbitrary set B is close to proportional to the measure of B, as would happen on average (but not for particular samples) in the case of an equidistributed sequence. Specific definitions of discrepancy differ regarding the choice of B (hyperspheres, hypercubes, etc.) and how the discrepancy for every B is computed (usually normalized) and combined (usually by taking the worst value).\n",
    "\n",
    "Low-discrepancy sequences are also called **quasirandom sequences**, due to their common use as a replacement of uniformly distributed random numbers. The \"quasi\" modifier is used to denote more clearly that the values of a low-discrepancy sequence are neither random nor pseudorandom, but such sequences share some properties of random variables and in certain applications such as the quasi-Monte Carlo method their lower discrepancy is an important advantage."
   ]
  },
  {
   "cell_type": "code",
   "execution_count": 202,
   "id": "1336a23a-f4bf-4edc-90fb-bec25e026d8a",
   "metadata": {},
   "outputs": [],
   "source": [
    "phi = (1 + np.sqrt(5))/2\n",
    "\n",
    "# random \n",
    "V = [1]\n",
    "for k in range(100):\n",
    "    x = V[-1] + phi\n",
    "    V.append(x - int(x) )\n",
    "V = np.array(V)"
   ]
  },
  {
   "cell_type": "code",
   "execution_count": 203,
   "id": "8c6c3594-8456-4c51-885b-0ea641496853",
   "metadata": {},
   "outputs": [
    {
     "data": {
      "text/plain": [
       "0.8908099726843334"
      ]
     },
     "execution_count": 203,
     "metadata": {},
     "output_type": "execute_result"
    }
   ],
   "source": [
    "a, b  = 0, 2\n",
    "N = len(V)\n",
    "X = (b-a)*V + a\n",
    "(b-a)/N*sum(np.cos(X))\n"
   ]
  },
  {
   "cell_type": "code",
   "execution_count": 205,
   "id": "26541bb1-5563-4cc1-b612-6da8196c9e45",
   "metadata": {},
   "outputs": [
    {
     "data": {
      "image/png": "[encoded data removed]",
      "text/plain": [
       "<Figure size 432x288 with 1 Axes>"
      ]
     },
     "metadata": {
      "needs_background": "light"
     },
     "output_type": "display_data"
    }
   ],
   "source": [
    "plt.hist(X);"
   ]
  },
  {
   "cell_type": "code",
   "execution_count": null,
   "id": "6e4d3ed9-50e2-4320-92b8-b37453678b1b",
   "metadata": {},
   "outputs": [],
   "source": []
  }
 ],
 "metadata": {
  "kernelspec": {
   "display_name": "Python 3 (ipykernel)",
   "language": "python",
   "name": "python3"
  },
  "language_info": {
   "codemirror_mode": {
    "name": "ipython",
    "version": 3
   },
   "file_extension": ".py",
   "mimetype": "text/x-python",
   "name": "python",
   "nbconvert_exporter": "python",
   "pygments_lexer": "ipython3",
   "version": "3.8.12"
  },
  "widgets": {
   "application/vnd.jupyter.widget-state+json": {
    "state": {},
    "version_major": 2,
    "version_minor": 0
   }
  }
 },
 "nbformat": 4,
 "nbformat_minor": 5
}
