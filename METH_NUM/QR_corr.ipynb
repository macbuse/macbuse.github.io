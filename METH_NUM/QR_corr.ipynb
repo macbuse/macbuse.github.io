{
 "cells": [
  {
   "cell_type": "code",
   "execution_count": 2,
   "metadata": {},
   "outputs": [],
   "source": [
    "import numpy as np\n",
    "\n",
    "\n",
    "import scipy\n",
    "from scipy import linalg\n",
    "\n",
    "#https://gist.github.com/samubernard/746c684771bc74d446ec"
   ]
  },
  {
   "cell_type": "markdown",
   "metadata": {},
   "source": [
    "---\n",
    "\n",
    "# QR decompositions\n",
    "\n",
    "\n",
    "[source](https://www.quantstart.com/articles/QR-Decomposition-with-Python-and-NumPy/)\n",
    "\n",
    "There are a several different algorithms for calculating the matrices $Q$ and $R$. \n",
    "\n",
    "We will outline the method of <a href=\"http://en.wikipedia.org/wiki/Householder_transformation\">Householder Reflections</a>, which is known to be **more numerically stable** than the  alternative Gramm-Schmidt method.\n",
    "\n",
    "I'm sure I got some of the code from [this repo](https://gist.github.com/samubernard/746c684771bc74d446ec)\n"
   ]
  },
  {
   "cell_type": "markdown",
   "metadata": {},
   "source": [
    "---\n",
    "# Gramm-Schmidt\n",
    "\n",
    "- suppose $A$ is invertible ie the columns form a basis\n",
    "\n",
    "1. normalise the column $A_i$ \n",
    "1. make all the $A_j$ orthogonal to $A_i$"
   ]
  },
  {
   "cell_type": "code",
   "execution_count": 57,
   "metadata": {},
   "outputs": [],
   "source": [
    "def QR(A):\n",
    "    N = A.shape[0]\n",
    "    Q = A.astype(float).T\n",
    "    for i in range(N):\n",
    "        Q[i] /= np.linalg.norm(Q[i])\n",
    "        for j in range(i+1,N):\n",
    "            Q[j] = Q[j] - (Q[i] @ Q[j]) * Q[i]\n",
    "   \n",
    "    return Q.T, (Q@A) * np.tri(N).T  \n"
   ]
  },
  {
   "cell_type": "code",
   "execution_count": 60,
   "metadata": {},
   "outputs": [
    {
     "data": {
      "text/plain": [
       "(array([[ 0.85714286, -0.39428571, -0.33142857],\n",
       "        [ 0.42857143,  0.90285714,  0.03428571],\n",
       "        [-0.28571429,  0.17142857, -0.94285714]]),\n",
       " array([[ 14.,  21., -14.],\n",
       "        [ -0., 175., -70.],\n",
       "        [ -0.,  -0.,  35.]]))"
      ]
     },
     "execution_count": 60,
     "metadata": {},
     "output_type": "execute_result"
    }
   ],
   "source": [
    "QR(A)"
   ]
  },
  {
   "cell_type": "code",
   "execution_count": 82,
   "metadata": {},
   "outputs": [],
   "source": [
    "def MGS(A):\n",
    "    \"\"\"factorisation QR Gram-Schmidt modifiée - stable\n",
    "    \n",
    "    Note:\n",
    "    Cette factorisation est stable numériquement\n",
    "    Tire de: LN Trefethen & D Bau III, Numerical Linear Algebra, 1997 SIAM Philadelphia \n",
    "    \"\"\"\n",
    "    \n",
    "    n = A.shape[0]\n",
    "\n",
    "    R = np.zeros_like(A)\n",
    "    Q = np.zeros_like(A)\n",
    "    V = A.copy()\n",
    "\n",
    "    for i in range(n):\n",
    "\n",
    "        # diagonal elements are norms\n",
    "        R[i,i] = np.linalg.norm(V[:,i])\n",
    "        Q[:,i] = V[:,i]/R[i,i]\n",
    "        \n",
    "        for j in range(i+1, n):\n",
    "            R[i,j] = Q[:,i] @ V[:,j]\n",
    "            #make ortho to the other columns\n",
    "            V[:,j] = V[:,j] - R[i,j]*Q[:,i]\n",
    "            \n",
    "    return Q,R\n"
   ]
  },
  {
   "cell_type": "code",
   "execution_count": 83,
   "metadata": {},
   "outputs": [
    {
     "data": {
      "text/plain": [
       "array([[2., 1., 1.],\n",
       "       [1., 1., 1.],\n",
       "       [0., 1., 1.]])"
      ]
     },
     "execution_count": 83,
     "metadata": {},
     "output_type": "execute_result"
    }
   ],
   "source": [
    "A = np.array([[2,1,1],[1,1,1],[0,1,1]]).astype(float)\n",
    "\n",
    "B = np.array([[12, -51, 4], \n",
    "              [6, 167, -68], \n",
    "              [-4, 24, -41]]).T\n",
    "\n",
    "Q,R = MGS(A)\n",
    "\n",
    "Q @ R"
   ]
  },
  {
   "cell_type": "code",
   "execution_count": null,
   "metadata": {},
   "outputs": [],
   "source": []
  },
  {
   "cell_type": "markdown",
   "metadata": {},
   "source": [
    "--- \n",
    "\n",
    "# Eigenvalues using QR\n",
    "\n",
    "[source of the code](https://www.andreinc.net/2021/01/25/computing-eigenvalues-and-eigenvectors-using-qr-decomposition#:~:text=Even%20if%20it's%20not%20very,Q%20is%20an%20orthonormal%20matrix.)\n",
    "\n",
    "You may have to install tabulate in the terminal or with conda\n",
    "\n",
    "! pip install tabulate"
   ]
  },
  {
   "cell_type": "code",
   "execution_count": 88,
   "metadata": {},
   "outputs": [
    {
     "data": {
      "text/plain": [
       "1.8319623963241725"
      ]
     },
     "execution_count": 88,
     "metadata": {},
     "output_type": "execute_result"
    }
   ],
   "source": [
    "# A is a square random matrix of size n\n",
    "n = 5\n",
    "A = np.random.rand(n, n)\n",
    "#make symmetric so eigenvalues real and in fact >= 0\n",
    "A = A.T@A\n",
    "np.max(np.abs(np.tril(A, k = -1)))"
   ]
  },
  {
   "cell_type": "code",
   "execution_count": 98,
   "metadata": {},
   "outputs": [
    {
     "data": {
      "text/plain": [
       "1.8319623963241725"
      ]
     },
     "execution_count": 98,
     "metadata": {},
     "output_type": "execute_result"
    }
   ],
   "source": [
    "np.linalg.norm(np.tril(A, k = -1).ravel(), ord=np.inf)"
   ]
  },
  {
   "cell_type": "code",
   "execution_count": 91,
   "metadata": {},
   "outputs": [
    {
     "data": {
      "text/plain": [
       "\u001b[0;31mSignature:\u001b[0m  \u001b[0mnp\u001b[0m\u001b[0;34m.\u001b[0m\u001b[0mlinalg\u001b[0m\u001b[0;34m.\u001b[0m\u001b[0mnorm\u001b[0m\u001b[0;34m(\u001b[0m\u001b[0mx\u001b[0m\u001b[0;34m,\u001b[0m \u001b[0mord\u001b[0m\u001b[0;34m=\u001b[0m\u001b[0;32mNone\u001b[0m\u001b[0;34m,\u001b[0m \u001b[0maxis\u001b[0m\u001b[0;34m=\u001b[0m\u001b[0;32mNone\u001b[0m\u001b[0;34m,\u001b[0m \u001b[0mkeepdims\u001b[0m\u001b[0;34m=\u001b[0m\u001b[0;32mFalse\u001b[0m\u001b[0;34m)\u001b[0m\u001b[0;34m\u001b[0m\u001b[0;34m\u001b[0m\u001b[0m\n",
       "\u001b[0;31mDocstring:\u001b[0m\n",
       "Matrix or vector norm.\n",
       "\n",
       "This function is able to return one of eight different matrix norms,\n",
       "or one of an infinite number of vector norms (described below), depending\n",
       "on the value of the ``ord`` parameter.\n",
       "\n",
       "Parameters\n",
       "----------\n",
       "x : array_like\n",
       "    Input array.  If `axis` is None, `x` must be 1-D or 2-D, unless `ord`\n",
       "    is None. If both `axis` and `ord` are None, the 2-norm of\n",
       "    ``x.ravel`` will be returned.\n",
       "ord : {non-zero int, inf, -inf, 'fro', 'nuc'}, optional\n",
       "    Order of the norm (see table under ``Notes``). inf means numpy's\n",
       "    `inf` object. The default is None.\n",
       "axis : {None, int, 2-tuple of ints}, optional.\n",
       "    If `axis` is an integer, it specifies the axis of `x` along which to\n",
       "    compute the vector norms.  If `axis` is a 2-tuple, it specifies the\n",
       "    axes that hold 2-D matrices, and the matrix norms of these matrices\n",
       "    are computed.  If `axis` is None then either a vector norm (when `x`\n",
       "    is 1-D) or a matrix norm (when `x` is 2-D) is returned. The default\n",
       "    is None.\n",
       "\n",
       "    .. versionadded:: 1.8.0\n",
       "\n",
       "keepdims : bool, optional\n",
       "    If this is set to True, the axes which are normed over are left in the\n",
       "    result as dimensions with size one.  With this option the result will\n",
       "    broadcast correctly against the original `x`.\n",
       "\n",
       "    .. versionadded:: 1.10.0\n",
       "\n",
       "Returns\n",
       "-------\n",
       "n : float or ndarray\n",
       "    Norm of the matrix or vector(s).\n",
       "\n",
       "See Also\n",
       "--------\n",
       "scipy.linalg.norm : Similar function in SciPy.\n",
       "\n",
       "Notes\n",
       "-----\n",
       "For values of ``ord < 1``, the result is, strictly speaking, not a\n",
       "mathematical 'norm', but it may still be useful for various numerical\n",
       "purposes.\n",
       "\n",
       "The following norms can be calculated:\n",
       "\n",
       "=====  ============================  ==========================\n",
       "ord    norm for matrices             norm for vectors\n",
       "=====  ============================  ==========================\n",
       "None   Frobenius norm                2-norm\n",
       "'fro'  Frobenius norm                --\n",
       "'nuc'  nuclear norm                  --\n",
       "inf    max(sum(abs(x), axis=1))      max(abs(x))\n",
       "-inf   min(sum(abs(x), axis=1))      min(abs(x))\n",
       "0      --                            sum(x != 0)\n",
       "1      max(sum(abs(x), axis=0))      as below\n",
       "-1     min(sum(abs(x), axis=0))      as below\n",
       "2      2-norm (largest sing. value)  as below\n",
       "-2     smallest singular value       as below\n",
       "other  --                            sum(abs(x)**ord)**(1./ord)\n",
       "=====  ============================  ==========================\n",
       "\n",
       "The Frobenius norm is given by [1]_:\n",
       "\n",
       "    :math:`||A||_F = [\\sum_{i,j} abs(a_{i,j})^2]^{1/2}`\n",
       "\n",
       "The nuclear norm is the sum of the singular values.\n",
       "\n",
       "Both the Frobenius and nuclear norm orders are only defined for\n",
       "matrices and raise a ValueError when ``x.ndim != 2``.\n",
       "\n",
       "References\n",
       "----------\n",
       ".. [1] G. H. Golub and C. F. Van Loan, *Matrix Computations*,\n",
       "       Baltimore, MD, Johns Hopkins University Press, 1985, pg. 15\n",
       "\n",
       "Examples\n",
       "--------\n",
       ">>> from numpy import linalg as LA\n",
       ">>> a = np.arange(9) - 4\n",
       ">>> a\n",
       "array([-4, -3, -2, ...,  2,  3,  4])\n",
       ">>> b = a.reshape((3, 3))\n",
       ">>> b\n",
       "array([[-4, -3, -2],\n",
       "       [-1,  0,  1],\n",
       "       [ 2,  3,  4]])\n",
       "\n",
       ">>> LA.norm(a)\n",
       "7.745966692414834\n",
       ">>> LA.norm(b)\n",
       "7.745966692414834\n",
       ">>> LA.norm(b, 'fro')\n",
       "7.745966692414834\n",
       ">>> LA.norm(a, np.inf)\n",
       "4.0\n",
       ">>> LA.norm(b, np.inf)\n",
       "9.0\n",
       ">>> LA.norm(a, -np.inf)\n",
       "0.0\n",
       ">>> LA.norm(b, -np.inf)\n",
       "2.0\n",
       "\n",
       ">>> LA.norm(a, 1)\n",
       "20.0\n",
       ">>> LA.norm(b, 1)\n",
       "7.0\n",
       ">>> LA.norm(a, -1)\n",
       "-4.6566128774142013e-010\n",
       ">>> LA.norm(b, -1)\n",
       "6.0\n",
       ">>> LA.norm(a, 2)\n",
       "7.745966692414834\n",
       ">>> LA.norm(b, 2)\n",
       "7.3484692283495345\n",
       "\n",
       ">>> LA.norm(a, -2)\n",
       "0.0\n",
       ">>> LA.norm(b, -2)\n",
       "1.8570331885190563e-016 # may vary\n",
       ">>> LA.norm(a, 3)\n",
       "5.8480354764257312 # may vary\n",
       ">>> LA.norm(a, -3)\n",
       "0.0\n",
       "\n",
       "Using the `axis` argument to compute vector norms:\n",
       "\n",
       ">>> c = np.array([[ 1, 2, 3],\n",
       "...               [-1, 1, 4]])\n",
       ">>> LA.norm(c, axis=0)\n",
       "array([ 1.41421356,  2.23606798,  5.        ])\n",
       ">>> LA.norm(c, axis=1)\n",
       "array([ 3.74165739,  4.24264069])\n",
       ">>> LA.norm(c, ord=1, axis=1)\n",
       "array([ 6.,  6.])\n",
       "\n",
       "Using the `axis` argument to compute matrix norms:\n",
       "\n",
       ">>> m = np.arange(8).reshape(2,2,2)\n",
       ">>> LA.norm(m, axis=(1,2))\n",
       "array([  3.74165739,  11.22497216])\n",
       ">>> LA.norm(m[0, :, :]), LA.norm(m[1, :, :])\n",
       "(3.7416573867739413, 11.224972160321824)\n",
       "\u001b[0;31mFile:\u001b[0m      ~/anaconda3/lib/python3.9/site-packages/numpy/linalg/linalg.py\n",
       "\u001b[0;31mType:\u001b[0m      function\n"
      ]
     },
     "metadata": {},
     "output_type": "display_data"
    }
   ],
   "source": [
    "? np.linalg.norm"
   ]
  },
  {
   "cell_type": "code",
   "execution_count": 99,
   "metadata": {},
   "outputs": [
    {
     "name": "stdout",
     "output_type": "stream",
     "text": [
      "A 0 =\n",
      "------------  -----------  ------------  ------------  ------------\n",
      " 6.56293      -0.0358214    0.0557912     0.0249674    -9.08991e-05\n",
      "-0.0358214     0.290227    -0.0630039    -0.0575942     2.4846e-05\n",
      " 0.0557912    -0.0630039    0.212473      0.242525      0.000157138\n",
      " 0.0249674    -0.0575942    0.242525      0.382462      0.000159074\n",
      "-9.08991e-05   2.4846e-05   0.000157138   0.000159074   0.0001425\n",
      "------------  -----------  ------------  ------------  ------------\n",
      "\n",
      "\n",
      "A 10000 =\n",
      "-------  -------------  ------------  -----------  ------------\n",
      "6.56375   3.63751e-16    7.28712e-16  6.53224e-16   7.43012e-16\n",
      "0         0.57802       -8.53102e-17  1.36493e-16  -2.33506e-16\n",
      "0        -4.94066e-324   0.267342     1.63719e-16  -1.09348e-16\n",
      "0         0              0            0.0389769    -2.79282e-16\n",
      "0         0              0            0             0.000142356\n",
      "-------  -------------  ------------  -----------  ------------\n",
      "\n",
      "\n",
      "A 20000 =\n",
      "-------  -------------  ------------  -----------  ------------\n",
      "6.56375   3.63751e-16    7.28712e-16  6.53224e-16   7.43012e-16\n",
      "0         0.57802       -8.53102e-17  1.36493e-16  -2.33506e-16\n",
      "0        -4.94066e-324   0.267342     1.63719e-16  -1.09348e-16\n",
      "0         0              0            0.0389769    -2.79282e-16\n",
      "0         0              0            0             0.000142356\n",
      "-------  -------------  ------------  -----------  ------------\n",
      "\n",
      "\n",
      "A 30000 =\n",
      "-------  -------------  ------------  -----------  ------------\n",
      "6.56375   3.63751e-16    7.28712e-16  6.53224e-16   7.43012e-16\n",
      "0         0.57802       -8.53102e-17  1.36493e-16  -2.33506e-16\n",
      "0        -4.94066e-324   0.267342     1.63719e-16  -1.09348e-16\n",
      "0         0              0            0.0389769    -2.79282e-16\n",
      "0         0              0            0             0.000142356\n",
      "-------  -------------  ------------  -----------  ------------\n",
      "\n",
      "\n",
      "A 40000 =\n",
      "-------  -------------  ------------  -----------  ------------\n",
      "6.56375   3.63751e-16    7.28712e-16  6.53224e-16   7.43012e-16\n",
      "0         0.57802       -8.53102e-17  1.36493e-16  -2.33506e-16\n",
      "0        -4.94066e-324   0.267342     1.63719e-16  -1.09348e-16\n",
      "0         0              0            0.0389769    -2.79282e-16\n",
      "0         0              0            0             0.000142356\n",
      "-------  -------------  ------------  -----------  ------------\n",
      "\n",
      "\n",
      "[6.563748950024317, 0.5780196926901723, 0.2673422259774415, 0.0389769426396412, 0.00014235649279067998]\n",
      "[6.56374895e+00 5.78019693e-01 1.42356493e-04 3.89769426e-02\n",
      " 2.67342226e-01]\n"
     ]
    }
   ],
   "source": [
    "import numpy as np\n",
    "#! pip install tabulate\n",
    "from tabulate import tabulate\n",
    "\n",
    "# A is a square random matrix of size n\n",
    "n = 5\n",
    "A = np.random.rand(n, n)\n",
    "#make symmetric so eigenvalues real and in fact >= 0\n",
    "A = A.T@A\n",
    "\n",
    "def eigen_qr_simple(A, max_iter=50000):\n",
    "    A_k = np.copy(A)\n",
    "    n = A.shape[0]\n",
    "    QQ = np.identity(n)\n",
    "    peek_time = max_iter // 5\n",
    "    TT = []\n",
    "    for k in range(max_iter):\n",
    "        Q, R = np.linalg.qr(A_k)\n",
    "        A_k = R @ Q\n",
    "        QQ = QQ @ Q\n",
    "        # we \"peek\" into the structure of matrix A_k from time to time\n",
    "        # to see how it looks\n",
    "        if k % peek_time == 0:\n",
    "            print(\"A\",k,\"=\")\n",
    "            print(tabulate(A_k))\n",
    "            print(\"\\n\")\n",
    "            \n",
    "        # break if the lower triangular entries all close to 0\n",
    "        # use the sup norm\n",
    "        TT.append(np.linalg.norm(np.tril(A, k = -1).ravel(), ord=np.inf))\n",
    "        if  TT[-1] < .001: break\n",
    "    \n",
    "    # return diagonal elts and the errors\n",
    "    return [A_k[k,k] for k in range(A_k.shape[0] )]\n",
    "\n",
    "\n",
    "print(eigen_qr_simple(A))\n",
    "# We compare our results with the official numpy algorithm\n",
    "print(np.linalg.eigvals(A))\n"
   ]
  },
  {
   "cell_type": "markdown",
   "metadata": {},
   "source": [
    "---\n",
    "\n",
    "# Roots of polynomials"
   ]
  },
  {
   "cell_type": "code",
   "execution_count": 102,
   "metadata": {},
   "outputs": [],
   "source": [
    "def horner(x, P):\n",
    "    val = 0\n",
    "    for coeff in reversed(P):\n",
    "        val *= x\n",
    "        val += coeff\n",
    "        \n",
    "    return val\n",
    "\n",
    "def companion(P):\n",
    "    n = len(P) - 1\n",
    "    C = np.zeros((n,n))\n",
    "    C[1:,:-1] = np.identity(n-1)\n",
    "    C[:,-1] = [-x/P[-1] for x in P[:-1]]\n",
    "    return C\n"
   ]
  },
  {
   "cell_type": "code",
   "execution_count": 105,
   "metadata": {},
   "outputs": [
    {
     "data": {
      "text/plain": [
       "[(-2.000000000000001, 0.0),\n",
       " (1.0000000000000016, 0.0),\n",
       " (2.999999999999999, 0.0)]"
      ]
     },
     "execution_count": 105,
     "metadata": {},
     "output_type": "execute_result"
    }
   ],
   "source": [
    "P = [6,-5,-2,1]\n",
    "[ (x, horner( np.round(x) ,P)) for x in np.linalg.eigvals( companion(P)) ]\n"
   ]
  },
  {
   "cell_type": "markdown",
   "metadata": {},
   "source": []
  }
 ],
 "metadata": {
  "kernelspec": {
   "display_name": "Python 3 (ipykernel)",
   "language": "python",
   "name": "python3"
  },
  "language_info": {
   "codemirror_mode": {
    "name": "ipython",
    "version": 3
   },
   "file_extension": ".py",
   "mimetype": "text/x-python",
   "name": "python",
   "nbconvert_exporter": "python",
   "pygments_lexer": "ipython3",
   "version": "3.9.13"
  },
  "widgets": {
   "application/vnd.jupyter.widget-state+json": {
    "state": {},
    "version_major": 2,
    "version_minor": 0
   }
  }
 },
 "nbformat": 4,
 "nbformat_minor": 4
}
