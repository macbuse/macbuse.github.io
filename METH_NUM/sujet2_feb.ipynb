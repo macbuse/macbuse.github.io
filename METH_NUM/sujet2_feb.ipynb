{
 "cells": [
  {
   "cell_type": "code",
   "execution_count": 1,
   "id": "31a59929",
   "metadata": {},
   "outputs": [],
   "source": [
    "import numpy as np\n",
    "from scipy.linalg import lu"
   ]
  },
  {
   "cell_type": "markdown",
   "id": "0eab5014",
   "metadata": {},
   "source": [
    "$\\mathbb{R}_3[X]=$ polynomes à coeffs réels, de degré $\\leq 3$ \n",
    "\n",
    "$f: \\mathbb{R}_3[X] \\rightarrow \\mathbb{R}_3[X] $ \n",
    "\n",
    "$f: P \\mapsto P'' - P$"
   ]
  },
  {
   "cell_type": "markdown",
   "id": "7f070ff9",
   "metadata": {},
   "source": [
    "1. Determiner la matrice de $f$ dans la base usuelle\n",
    "1. Trouver les valeurs propres de la matrice.\n",
    "1. Montrer que $f$ est inversible.\n",
    "1. Trouver les solutions de $f(P) = 2X + X^3$\n",
    "1. Utiliser la methode de F1 Q8 pour confirmer votre reponse"
   ]
  },
  {
   "cell_type": "markdown",
   "id": "dbd22bef",
   "metadata": {},
   "source": [
    "---\n",
    "\n",
    "**Problème 8 (différences finies en dimension 1)** Soit A la matrice tridiagonale de\n",
    "taille N donnée par"
   ]
  },
  {
   "cell_type": "code",
   "execution_count": 6,
   "id": "c14e6a7b",
   "metadata": {},
   "outputs": [
    {
     "data": {
      "text/plain": [
       "array([[-2,  1,  0, ...,  0,  0,  0],\n",
       "       [ 1, -2,  1, ...,  0,  0,  0],\n",
       "       [ 0,  1, -2, ...,  0,  0,  0],\n",
       "       ...,\n",
       "       [ 0,  0,  0, ..., -2,  1,  0],\n",
       "       [ 0,  0,  0, ...,  1, -2,  1],\n",
       "       [ 0,  0,  0, ...,  0,  1, -2]])"
      ]
     },
     "execution_count": 6,
     "metadata": {},
     "output_type": "execute_result"
    }
   ],
   "source": [
    "N = 100\n",
    "A = -2 *np.identity(N).astype(int)\n",
    "for i in range(N-1):\n",
    "    A[i+1,i] = A[i,i+1] = 1\n",
    "A"
   ]
  },
  {
   "cell_type": "code",
   "execution_count": 61,
   "id": "b0d007d8",
   "metadata": {},
   "outputs": [
    {
     "data": {
      "text/plain": [
       "array([[ 0.],\n",
       "       [-8.],\n",
       "       [ 0.],\n",
       "       [-1.]])"
      ]
     },
     "execution_count": 61,
     "metadata": {},
     "output_type": "execute_result"
    }
   ],
   "source": [
    "N = 4\n",
    "\n",
    "f = np.roll(np.identity(N),-2,axis = 1)\n",
    "f[:2,:] = 0\n",
    "fact = 1\n",
    "for n,row  in enumerate(f):\n",
    "    row *= fact\n",
    "    fact *= n+1\n",
    "\n",
    "f = f.T - np.identity(N)\n",
    "\n",
    "np.linalg.inv(f) @ np.array([0,2,0,1]).reshape(-1,1)"
   ]
  }
 ],
 "metadata": {
  "kernelspec": {
   "display_name": "Python 3 (ipykernel)",
   "language": "python",
   "name": "python3"
  },
  "language_info": {
   "codemirror_mode": {
    "name": "ipython",
    "version": 3
   },
   "file_extension": ".py",
   "mimetype": "text/x-python",
   "name": "python",
   "nbconvert_exporter": "python",
   "pygments_lexer": "ipython3",
   "version": "3.9.7"
  }
 },
 "nbformat": 4,
 "nbformat_minor": 5
}
