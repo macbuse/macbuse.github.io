{
 "cells": [
  {
   "cell_type": "code",
   "execution_count": 17,
   "id": "d86373de-1cf0-414d-a721-690dbe2a5111",
   "metadata": {},
   "outputs": [],
   "source": [
    "import pandas as pd\n",
    "import numpy as np\n",
    "import matplotlib.pyplot as plt"
   ]
  },
  {
   "cell_type": "code",
   "execution_count": 3,
   "id": "c31fc16c-236e-4a7c-aa5f-27672ee56004",
   "metadata": {},
   "outputs": [],
   "source": [
    "df = pd.read_csv(\"./Resting Heart Rate_2022.csv\")"
   ]
  },
  {
   "cell_type": "code",
   "execution_count": 5,
   "id": "db127c20-57ed-42a2-abbe-d63a433bb36f",
   "metadata": {},
   "outputs": [],
   "source": [
    "df2 = pd.read_csv(\"./Sleep_2022.csv\")"
   ]
  },
  {
   "cell_type": "code",
   "execution_count": 63,
   "id": "876bb19a-8532-4352-8b85-5f412741b3f4",
   "metadata": {},
   "outputs": [
    {
     "data": {
      "text/html": [
       "<div>\n",
       "<style scoped>\n",
       "    .dataframe tbody tr th:only-of-type {\n",
       "        vertical-align: middle;\n",
       "    }\n",
       "\n",
       "    .dataframe tbody tr th {\n",
       "        vertical-align: top;\n",
       "    }\n",
       "\n",
       "    .dataframe thead th {\n",
       "        text-align: right;\n",
       "    }\n",
       "</style>\n",
       "<table border=\"1\" class=\"dataframe\">\n",
       "  <thead>\n",
       "    <tr style=\"text-align: right;\">\n",
       "      <th></th>\n",
       "      <th>Unnamed: 0</th>\n",
       "      <th>Sleep</th>\n",
       "    </tr>\n",
       "  </thead>\n",
       "  <tbody>\n",
       "    <tr>\n",
       "      <th>0</th>\n",
       "      <td>21 Dec</td>\n",
       "      <td>9:28 hrs</td>\n",
       "    </tr>\n",
       "    <tr>\n",
       "      <th>1</th>\n",
       "      <td>28 Dec</td>\n",
       "      <td>9:10 hrs</td>\n",
       "    </tr>\n",
       "    <tr>\n",
       "      <th>2</th>\n",
       "      <td>4 Jan</td>\n",
       "      <td>9:40 hrs</td>\n",
       "    </tr>\n",
       "    <tr>\n",
       "      <th>3</th>\n",
       "      <td>11 Jan</td>\n",
       "      <td>9:57 hrs</td>\n",
       "    </tr>\n",
       "    <tr>\n",
       "      <th>4</th>\n",
       "      <td>18 Jan</td>\n",
       "      <td>8:57 hrs</td>\n",
       "    </tr>\n",
       "    <tr>\n",
       "      <th>5</th>\n",
       "      <td>25 Jan</td>\n",
       "      <td>10:08 hrs</td>\n",
       "    </tr>\n",
       "    <tr>\n",
       "      <th>6</th>\n",
       "      <td>1 Feb</td>\n",
       "      <td>9:12 hrs</td>\n",
       "    </tr>\n",
       "    <tr>\n",
       "      <th>7</th>\n",
       "      <td>8 Feb</td>\n",
       "      <td>8:49 hrs</td>\n",
       "    </tr>\n",
       "    <tr>\n",
       "      <th>8</th>\n",
       "      <td>15 Feb</td>\n",
       "      <td>9:10 hrs</td>\n",
       "    </tr>\n",
       "    <tr>\n",
       "      <th>9</th>\n",
       "      <td>22 Feb</td>\n",
       "      <td>9:28 hrs</td>\n",
       "    </tr>\n",
       "    <tr>\n",
       "      <th>10</th>\n",
       "      <td>1 Mar</td>\n",
       "      <td>8:47 hrs</td>\n",
       "    </tr>\n",
       "    <tr>\n",
       "      <th>11</th>\n",
       "      <td>8 Mar</td>\n",
       "      <td>9:44 hrs</td>\n",
       "    </tr>\n",
       "    <tr>\n",
       "      <th>12</th>\n",
       "      <td>15 Mar</td>\n",
       "      <td>9:00 hrs</td>\n",
       "    </tr>\n",
       "    <tr>\n",
       "      <th>13</th>\n",
       "      <td>22 Mar</td>\n",
       "      <td>9:04 hrs</td>\n",
       "    </tr>\n",
       "    <tr>\n",
       "      <th>14</th>\n",
       "      <td>29 Mar</td>\n",
       "      <td>9:13 hrs</td>\n",
       "    </tr>\n",
       "    <tr>\n",
       "      <th>15</th>\n",
       "      <td>5 Apr</td>\n",
       "      <td>8:39 hrs</td>\n",
       "    </tr>\n",
       "    <tr>\n",
       "      <th>16</th>\n",
       "      <td>12 Apr</td>\n",
       "      <td>8:41 hrs</td>\n",
       "    </tr>\n",
       "    <tr>\n",
       "      <th>17</th>\n",
       "      <td>19 Apr</td>\n",
       "      <td>8:26 hrs</td>\n",
       "    </tr>\n",
       "    <tr>\n",
       "      <th>18</th>\n",
       "      <td>26 Apr</td>\n",
       "      <td>8:51 hrs</td>\n",
       "    </tr>\n",
       "    <tr>\n",
       "      <th>19</th>\n",
       "      <td>3 May</td>\n",
       "      <td>8:33 hrs</td>\n",
       "    </tr>\n",
       "    <tr>\n",
       "      <th>20</th>\n",
       "      <td>10 May</td>\n",
       "      <td>8:29 hrs</td>\n",
       "    </tr>\n",
       "    <tr>\n",
       "      <th>21</th>\n",
       "      <td>17 May</td>\n",
       "      <td>7:60 hrs</td>\n",
       "    </tr>\n",
       "    <tr>\n",
       "      <th>22</th>\n",
       "      <td>24 May</td>\n",
       "      <td>7:53 hrs</td>\n",
       "    </tr>\n",
       "    <tr>\n",
       "      <th>23</th>\n",
       "      <td>31 May</td>\n",
       "      <td>8:26 hrs</td>\n",
       "    </tr>\n",
       "    <tr>\n",
       "      <th>24</th>\n",
       "      <td>7 Jun</td>\n",
       "      <td>8:16 hrs</td>\n",
       "    </tr>\n",
       "    <tr>\n",
       "      <th>25</th>\n",
       "      <td>14 Jun</td>\n",
       "      <td>7:31 hrs</td>\n",
       "    </tr>\n",
       "    <tr>\n",
       "      <th>26</th>\n",
       "      <td>21 Jun</td>\n",
       "      <td>7:45 hrs</td>\n",
       "    </tr>\n",
       "    <tr>\n",
       "      <th>27</th>\n",
       "      <td>28 Jun</td>\n",
       "      <td>7:53 hrs</td>\n",
       "    </tr>\n",
       "    <tr>\n",
       "      <th>28</th>\n",
       "      <td>5 Jul</td>\n",
       "      <td>7:38 hrs</td>\n",
       "    </tr>\n",
       "    <tr>\n",
       "      <th>29</th>\n",
       "      <td>12 Jul</td>\n",
       "      <td>6:47 hrs</td>\n",
       "    </tr>\n",
       "    <tr>\n",
       "      <th>30</th>\n",
       "      <td>19 Jul</td>\n",
       "      <td>6:15 hrs</td>\n",
       "    </tr>\n",
       "    <tr>\n",
       "      <th>31</th>\n",
       "      <td>26 Jul</td>\n",
       "      <td>7:09 hrs</td>\n",
       "    </tr>\n",
       "    <tr>\n",
       "      <th>32</th>\n",
       "      <td>2 Aug</td>\n",
       "      <td>7:42 hrs</td>\n",
       "    </tr>\n",
       "    <tr>\n",
       "      <th>33</th>\n",
       "      <td>9 Aug</td>\n",
       "      <td>8:18 hrs</td>\n",
       "    </tr>\n",
       "    <tr>\n",
       "      <th>34</th>\n",
       "      <td>16 Aug</td>\n",
       "      <td>8:41 hrs</td>\n",
       "    </tr>\n",
       "    <tr>\n",
       "      <th>35</th>\n",
       "      <td>23 Aug</td>\n",
       "      <td>9:04 hrs</td>\n",
       "    </tr>\n",
       "    <tr>\n",
       "      <th>36</th>\n",
       "      <td>30 Aug</td>\n",
       "      <td>7:60 hrs</td>\n",
       "    </tr>\n",
       "    <tr>\n",
       "      <th>37</th>\n",
       "      <td>6 Sep</td>\n",
       "      <td>7:18 hrs</td>\n",
       "    </tr>\n",
       "    <tr>\n",
       "      <th>38</th>\n",
       "      <td>13 Sep</td>\n",
       "      <td>7:42 hrs</td>\n",
       "    </tr>\n",
       "    <tr>\n",
       "      <th>39</th>\n",
       "      <td>20 Sep</td>\n",
       "      <td>8:28 hrs</td>\n",
       "    </tr>\n",
       "    <tr>\n",
       "      <th>40</th>\n",
       "      <td>27 Sep</td>\n",
       "      <td>8:16 hrs</td>\n",
       "    </tr>\n",
       "    <tr>\n",
       "      <th>41</th>\n",
       "      <td>4 Oct</td>\n",
       "      <td>8:24 hrs</td>\n",
       "    </tr>\n",
       "    <tr>\n",
       "      <th>42</th>\n",
       "      <td>11 Oct</td>\n",
       "      <td>8:11 hrs</td>\n",
       "    </tr>\n",
       "    <tr>\n",
       "      <th>43</th>\n",
       "      <td>18 Oct</td>\n",
       "      <td>7:34 hrs</td>\n",
       "    </tr>\n",
       "    <tr>\n",
       "      <th>44</th>\n",
       "      <td>25 Oct</td>\n",
       "      <td>8:17 hrs</td>\n",
       "    </tr>\n",
       "    <tr>\n",
       "      <th>45</th>\n",
       "      <td>1 Nov</td>\n",
       "      <td>8:39 hrs</td>\n",
       "    </tr>\n",
       "    <tr>\n",
       "      <th>46</th>\n",
       "      <td>8 Nov</td>\n",
       "      <td>8:20 hrs</td>\n",
       "    </tr>\n",
       "    <tr>\n",
       "      <th>47</th>\n",
       "      <td>15 Nov</td>\n",
       "      <td>8:06 hrs</td>\n",
       "    </tr>\n",
       "    <tr>\n",
       "      <th>48</th>\n",
       "      <td>22 Nov</td>\n",
       "      <td>8:26 hrs</td>\n",
       "    </tr>\n",
       "    <tr>\n",
       "      <th>49</th>\n",
       "      <td>29 Nov</td>\n",
       "      <td>8:16 hrs</td>\n",
       "    </tr>\n",
       "    <tr>\n",
       "      <th>50</th>\n",
       "      <td>6 Dec</td>\n",
       "      <td>8:24 hrs</td>\n",
       "    </tr>\n",
       "    <tr>\n",
       "      <th>51</th>\n",
       "      <td>13 Dec</td>\n",
       "      <td>9:04 hrs</td>\n",
       "    </tr>\n",
       "  </tbody>\n",
       "</table>\n",
       "</div>"
      ],
      "text/plain": [
       "   Unnamed: 0      Sleep\n",
       "0      21 Dec   9:28 hrs\n",
       "1      28 Dec   9:10 hrs\n",
       "2       4 Jan   9:40 hrs\n",
       "3      11 Jan   9:57 hrs\n",
       "4      18 Jan   8:57 hrs\n",
       "5      25 Jan  10:08 hrs\n",
       "6       1 Feb   9:12 hrs\n",
       "7       8 Feb   8:49 hrs\n",
       "8      15 Feb   9:10 hrs\n",
       "9      22 Feb   9:28 hrs\n",
       "10      1 Mar   8:47 hrs\n",
       "11      8 Mar   9:44 hrs\n",
       "12     15 Mar   9:00 hrs\n",
       "13     22 Mar   9:04 hrs\n",
       "14     29 Mar   9:13 hrs\n",
       "15      5 Apr   8:39 hrs\n",
       "16     12 Apr   8:41 hrs\n",
       "17     19 Apr   8:26 hrs\n",
       "18     26 Apr   8:51 hrs\n",
       "19      3 May   8:33 hrs\n",
       "20     10 May   8:29 hrs\n",
       "21     17 May   7:60 hrs\n",
       "22     24 May   7:53 hrs\n",
       "23     31 May   8:26 hrs\n",
       "24      7 Jun   8:16 hrs\n",
       "25     14 Jun   7:31 hrs\n",
       "26     21 Jun   7:45 hrs\n",
       "27     28 Jun   7:53 hrs\n",
       "28      5 Jul   7:38 hrs\n",
       "29     12 Jul   6:47 hrs\n",
       "30     19 Jul   6:15 hrs\n",
       "31     26 Jul   7:09 hrs\n",
       "32      2 Aug   7:42 hrs\n",
       "33      9 Aug   8:18 hrs\n",
       "34     16 Aug   8:41 hrs\n",
       "35     23 Aug   9:04 hrs\n",
       "36     30 Aug   7:60 hrs\n",
       "37      6 Sep   7:18 hrs\n",
       "38     13 Sep   7:42 hrs\n",
       "39     20 Sep   8:28 hrs\n",
       "40     27 Sep   8:16 hrs\n",
       "41      4 Oct   8:24 hrs\n",
       "42     11 Oct   8:11 hrs\n",
       "43     18 Oct   7:34 hrs\n",
       "44     25 Oct   8:17 hrs\n",
       "45      1 Nov   8:39 hrs\n",
       "46      8 Nov   8:20 hrs\n",
       "47     15 Nov   8:06 hrs\n",
       "48     22 Nov   8:26 hrs\n",
       "49     29 Nov   8:16 hrs\n",
       "50      6 Dec   8:24 hrs\n",
       "51     13 Dec   9:04 hrs"
      ]
     },
     "execution_count": 63,
     "metadata": {},
     "output_type": "execute_result"
    }
   ],
   "source": [
    "df2"
   ]
  },
  {
   "cell_type": "code",
   "execution_count": 30,
   "id": "5adf1418-888e-4789-b7a3-0cb638007d7c",
   "metadata": {},
   "outputs": [
    {
     "data": {
      "text/plain": [
       "array([432, 469, 667, 557, 518, 462, 575, 550, 521, 670, 453, 437, 606,\n",
       "       387, 379, 435, 481, 476, 524, 515, 380, 447, 595, 596, 486, 489,\n",
       "       497, 642, 193, 405, 484, 400, 275, 319, 377, 351, 374, 377, 298,\n",
       "       332, 417, 469, 317, 540, 438, 621, 459, 399, 424, 377, 181,  82])"
      ]
     },
     "execution_count": 30,
     "metadata": {},
     "output_type": "execute_result"
    }
   ],
   "source": [
    "df3 = pd.read_csv(\"./Intensity Minutes_2022.csv\",skiprows=1)\n",
    "df3[\"Actual\"].values\n"
   ]
  },
  {
   "cell_type": "code",
   "execution_count": 15,
   "id": "aaedd36f-97a8-4826-a298-ca7a3817ca24",
   "metadata": {},
   "outputs": [],
   "source": [
    "def t2m(x):\n",
    "    v = np.array([60,1])\n",
    "    return v @ [int(_) for _ in x.split()[0].split(':')]\n",
    "\n",
    "\n",
    "H = df[\"Resting Heart Rate\"].values\n",
    "S = [ t2m(x) for x in df2[\"Sleep\"].values]"
   ]
  },
  {
   "cell_type": "code",
   "execution_count": 50,
   "id": "da18c02c-7e0f-4dd2-bfdd-d9618b587fcd",
   "metadata": {},
   "outputs": [
    {
     "data": {
      "image/png": "[encoded data removed]",
      "text/plain": [
       "<Figure size 432x288 with 1 Axes>"
      ]
     },
     "metadata": {
      "needs_background": "light"
     },
     "output_type": "display_data"
    }
   ],
   "source": [
    "plt.scatter(S,H);\n",
    "X = np.array([350,650])\n",
    "plt.plot(X,pp.slope*X + pp.intercept,\"r\");"
   ]
  },
  {
   "cell_type": "code",
   "execution_count": 32,
   "id": "38f4027a-3559-41f9-9536-11cfa6ffcbc5",
   "metadata": {},
   "outputs": [],
   "source": [
    "import scipy\n",
    "import scipy.stats\n",
    "pp = scipy.stats.linregress(S,H)"
   ]
  },
  {
   "cell_type": "code",
   "execution_count": 145,
   "id": "e22f3ede-2fdd-40f1-b273-ae6317dd0c8b",
   "metadata": {},
   "outputs": [
    {
     "data": {
      "image/png": "[encoded data removed]",
      "text/plain": [
       "<Figure size 432x288 with 1 Axes>"
      ]
     },
     "metadata": {
      "needs_background": "light"
     },
     "output_type": "display_data"
    }
   ],
   "source": [
    "S = [t2m(_) for _ in df2[\"Sleep\"].values]\n",
    "\n",
    "plt.plot(S)\n",
    "plt.plot(uu.slope * dd + uu.intercept,\"r\")\n",
    "\n",
    "         \n",
    "ll = list(enumerate( df2.iloc[:,0].values) )[0::4]\n",
    "x, labels = list(zip(*ll))\n",
    "\n",
    "plt.xticks(x, labels, rotation='vertical')\n",
    "plt.ylabel(\"minutes sleep\");"
   ]
  },
  {
   "cell_type": "code",
   "execution_count": 56,
   "id": "96babba3-ba65-4ec5-9f3c-bac3a50f6e33",
   "metadata": {},
   "outputs": [
    {
     "data": {
      "text/plain": [
       "53.86538461538461"
      ]
     },
     "execution_count": 56,
     "metadata": {},
     "output_type": "execute_result"
    }
   ],
   "source": [
    "sum(H)/len(H)"
   ]
  },
  {
   "cell_type": "code",
   "execution_count": 141,
   "id": "ec00b772-96d0-49d6-9630-dc8d6d0c7c51",
   "metadata": {},
   "outputs": [],
   "source": [
    "dd = np.roll(day_length[::7],4)[:-1]\n",
    "\n",
    "uu = scipy.stats.linregress(dd, S)"
   ]
  },
  {
   "cell_type": "code",
   "execution_count": 131,
   "id": "7ddb10d9-5b03-4a1f-8fe3-a5afafe9df9c",
   "metadata": {},
   "outputs": [
    {
     "data": {
      "image/png": "[encoded data removed]",
      "text/plain": [
       "<Figure size 432x288 with 1 Axes>"
      ]
     },
     "metadata": {
      "needs_background": "light"
     },
     "output_type": "display_data"
    }
   ],
   "source": [
    "plt.plot(np.roll(day_length[::7],4));"
   ]
  },
  {
   "cell_type": "code",
   "execution_count": 125,
   "id": "d4222434-2198-4efa-8154-d14fe3504b39",
   "metadata": {},
   "outputs": [],
   "source": [
    "import requests\n",
    "import re\n",
    "\n",
    "pp = re.compile(\">(\\d+:\\d+)\")"
   ]
  },
  {
   "cell_type": "code",
   "execution_count": 101,
   "id": "94468956-d150-4529-8c1e-d5d172bbdd49",
   "metadata": {},
   "outputs": [
    {
     "name": "stdout",
     "output_type": "stream",
     "text": [
      "https://www.sunrise-and-sunset.com/en/sun/france/grenoble/2022/january\n",
      "https://www.sunrise-and-sunset.com/en/sun/france/grenoble/2022/february\n",
      "https://www.sunrise-and-sunset.com/en/sun/france/grenoble/2022/march\n",
      "https://www.sunrise-and-sunset.com/en/sun/france/grenoble/2022/april\n",
      "https://www.sunrise-and-sunset.com/en/sun/france/grenoble/2022/may\n",
      "https://www.sunrise-and-sunset.com/en/sun/france/grenoble/2022/june\n",
      "https://www.sunrise-and-sunset.com/en/sun/france/grenoble/2022/july\n",
      "https://www.sunrise-and-sunset.com/en/sun/france/grenoble/2022/august\n",
      "https://www.sunrise-and-sunset.com/en/sun/france/grenoble/2022/september\n",
      "https://www.sunrise-and-sunset.com/en/sun/france/grenoble/2022/october\n",
      "https://www.sunrise-and-sunset.com/en/sun/france/grenoble/2022/november\n",
      "https://www.sunrise-and-sunset.com/en/sun/france/grenoble/2022/december\n"
     ]
    }
   ],
   "source": [
    "months = '''January, February, March, April, May, June, \n",
    "July, August, September, October, November,  December'''\n",
    "months = [ x.strip().lower() for x in months.split(\",\")]\n",
    "\n",
    "\n",
    "tt = []\n",
    "for x in months:\n",
    "    url = \"https://www.sunrise-and-sunset.com/en/sun/france/grenoble/2022/\" + x\n",
    "    print(url)\n",
    "    r = requests.get(url=url)\n",
    "    tt.append(r.text)"
   ]
  },
  {
   "cell_type": "code",
   "execution_count": 110,
   "id": "b029948a-3109-4202-81b2-22ca891c72b0",
   "metadata": {},
   "outputs": [],
   "source": [
    "data = [ pp.findall(x)[2::3] for x in tt]"
   ]
  },
  {
   "cell_type": "code",
   "execution_count": 120,
   "id": "9cab7bb1-958b-409f-b056-bf4f6f5d2d11",
   "metadata": {},
   "outputs": [],
   "source": [
    "from itertools import chain\n",
    "day_length = list(chain.from_iterable(data))\n"
   ]
  },
  {
   "cell_type": "code",
   "execution_count": 113,
   "id": "799bafc4-14b4-44b8-be58-10052e3bccf3",
   "metadata": {},
   "outputs": [],
   "source": [
    "def dtm(x):\n",
    "    v = np.array([60,1])\n",
    "    return v @ [int(_) for _ in x.split(':')]"
   ]
  },
  {
   "cell_type": "code",
   "execution_count": 121,
   "id": "6387153b-6139-4caf-a557-66dafe29e60f",
   "metadata": {},
   "outputs": [],
   "source": [
    "day_length = np.array([dtm(x) for x in day_length])"
   ]
  },
  {
   "cell_type": "code",
   "execution_count": 122,
   "id": "02117e91-6791-4b9d-b93d-0ebe888451a5",
   "metadata": {},
   "outputs": [
    {
     "data": {
      "text/plain": [
       "array([528, 528, 529, 530, 532, 533, 534, 535, 537, 538, 540, 541, 543,\n",
       "       545, 547, 549, 550, 552, 554, 556, 559, 561, 563, 565, 568, 570,\n",
       "       572, 575, 577, 580, 582, 585, 587, 590, 593, 595, 598, 601, 604,\n",
       "       607, 609, 612, 615, 618, 621, 624, 627, 630, 633, 636, 639, 642,\n",
       "       645, 648, 651, 654, 657, 660, 663, 666, 670, 673, 676, 679, 682,\n",
       "       685, 688, 692, 695, 698, 701, 704, 707, 711, 714, 717, 720, 723,\n",
       "       726, 730, 733, 736, 739, 742, 745, 749, 752, 755, 758, 761, 764,\n",
       "       767, 770, 774, 777, 780, 783, 786, 789, 792, 795, 798, 801, 804,\n",
       "       807, 810, 813, 816, 819, 822, 825, 828, 831, 834, 837, 840, 843,\n",
       "       845, 848, 851, 854, 856, 859, 862, 864, 867, 870, 872, 875, 877,\n",
       "       880, 882, 885, 887, 889, 891, 894, 896, 898, 900, 902, 904, 906,\n",
       "       908, 910, 912, 913, 915, 917, 918, 920, 921, 922, 924, 925, 926,\n",
       "       927, 928, 929, 930, 931, 932, 932, 933, 934, 934, 935, 935, 935,\n",
       "       935, 935, 935, 935, 935, 935, 935, 934, 934, 934, 933, 932, 932,\n",
       "       931, 930, 929, 928, 927, 926, 925, 923, 922, 921, 919, 918, 916,\n",
       "       915, 913, 911, 910, 908, 906, 904, 902, 900, 898, 896, 893, 891,\n",
       "       889, 887, 884, 882, 880, 877, 875, 872, 870, 867, 865, 862, 859,\n",
       "       857, 854, 851, 849, 846, 843, 840, 837, 835, 832, 829, 826, 823,\n",
       "       820, 817, 814, 811, 808, 805, 802, 799, 796, 793, 790, 787, 784,\n",
       "       781, 778, 775, 772, 769, 766, 763, 760, 757, 753, 750, 747, 744,\n",
       "       741, 738, 735, 732, 729, 725, 722, 719, 716, 713, 710, 707, 704,\n",
       "       700, 697, 694, 691, 688, 685, 682, 679, 676, 673, 669, 666, 663,\n",
       "       660, 657, 654, 651, 648, 645, 642, 639, 636, 633, 630, 627, 624,\n",
       "       622, 619, 616, 613, 610, 607, 604, 602, 599, 596, 594, 591, 588,\n",
       "       586, 583, 581, 578, 576, 573, 571, 569, 566, 564, 562, 560, 557,\n",
       "       555, 553, 551, 549, 548, 546, 544, 542, 541, 539, 538, 536, 535,\n",
       "       533, 532, 531, 530, 529, 528, 527, 526, 526, 525, 525, 524, 524,\n",
       "       523, 523, 523, 523, 523, 523, 523, 523, 524, 524, 525, 525, 526,\n",
       "       527])"
      ]
     },
     "execution_count": 122,
     "metadata": {},
     "output_type": "execute_result"
    }
   ],
   "source": [
    "day_length"
   ]
  },
  {
   "cell_type": "code",
   "execution_count": 95,
   "id": "46893b80-5d85-48a6-a01a-0ce0c22398d9",
   "metadata": {},
   "outputs": [],
   "source": [
    "pp = re.compile(\">(\\d+:\\d+)\")"
   ]
  },
  {
   "cell_type": "code",
   "execution_count": null,
   "id": "546dd656-2e77-4e40-8c21-67534a90aa76",
   "metadata": {},
   "outputs": [],
   "source": [
    "pp = re.compile(\">(\\d+:\\d+)\")"
   ]
  },
  {
   "cell_type": "code",
   "execution_count": 96,
   "id": "58feaa88-db36-483f-b737-25fee70b89cb",
   "metadata": {},
   "outputs": [
    {
     "data": {
      "text/plain": [
       "['08:16',\n",
       " '17:04',\n",
       " '08:48',\n",
       " '08:16',\n",
       " '17:05',\n",
       " '08:48',\n",
       " '08:16',\n",
       " '17:06',\n",
       " '08:49',\n",
       " '08:16',\n",
       " '17:07',\n",
       " '08:50',\n",
       " '08:16',\n",
       " '17:08',\n",
       " '08:52',\n",
       " '08:16',\n",
       " '17:09',\n",
       " '08:53',\n",
       " '08:16',\n",
       " '17:10',\n",
       " '08:54',\n",
       " '08:15',\n",
       " '17:11',\n",
       " '08:55',\n",
       " '08:15',\n",
       " '17:13',\n",
       " '08:57',\n",
       " '08:15',\n",
       " '17:14',\n",
       " '08:58',\n",
       " '08:15',\n",
       " '17:15',\n",
       " '09:00',\n",
       " '08:14',\n",
       " '17:16',\n",
       " '09:01',\n",
       " '08:14',\n",
       " '17:17',\n",
       " '09:03',\n",
       " '08:13',\n",
       " '17:19',\n",
       " '09:05',\n",
       " '08:13',\n",
       " '17:20',\n",
       " '09:07',\n",
       " '08:12',\n",
       " '17:21',\n",
       " '09:09',\n",
       " '08:11',\n",
       " '17:22',\n",
       " '09:10',\n",
       " '08:11',\n",
       " '17:24',\n",
       " '09:12',\n",
       " '08:10',\n",
       " '17:25',\n",
       " '09:14',\n",
       " '08:09',\n",
       " '17:26',\n",
       " '09:16',\n",
       " '08:09',\n",
       " '17:28',\n",
       " '09:19',\n",
       " '08:08',\n",
       " '17:29',\n",
       " '09:21',\n",
       " '08:07',\n",
       " '17:30',\n",
       " '09:23',\n",
       " '08:06',\n",
       " '17:32',\n",
       " '09:25',\n",
       " '08:05',\n",
       " '17:33',\n",
       " '09:28',\n",
       " '08:04',\n",
       " '17:35',\n",
       " '09:30',\n",
       " '08:03',\n",
       " '17:36',\n",
       " '09:32',\n",
       " '08:02',\n",
       " '17:37',\n",
       " '09:35',\n",
       " '08:01',\n",
       " '17:39',\n",
       " '09:37',\n",
       " '08:00',\n",
       " '17:40',\n",
       " '09:40',\n",
       " '07:59',\n",
       " '17:42',\n",
       " '09:42']"
      ]
     },
     "execution_count": 96,
     "metadata": {},
     "output_type": "execute_result"
    }
   ],
   "source": [
    "pp.findall(r.text)"
   ]
  },
  {
   "cell_type": "code",
   "execution_count": null,
   "id": "9981f787-f2c2-414a-8b07-72b7253c3b75",
   "metadata": {},
   "outputs": [],
   "source": []
  }
 ],
 "metadata": {
  "kernelspec": {
   "display_name": "Python 3 (ipykernel)",
   "language": "python",
   "name": "python3"
  },
  "language_info": {
   "codemirror_mode": {
    "name": "ipython",
    "version": 3
   },
   "file_extension": ".py",
   "mimetype": "text/x-python",
   "name": "python",
   "nbconvert_exporter": "python",
   "pygments_lexer": "ipython3",
   "version": "3.9.12"
  },
  "widgets": {
   "application/vnd.jupyter.widget-state+json": {
    "state": {},
    "version_major": 2,
    "version_minor": 0
   }
  }
 },
 "nbformat": 4,
 "nbformat_minor": 5
}
