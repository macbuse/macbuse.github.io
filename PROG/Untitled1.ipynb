{
 "cells": [
  {
   "cell_type": "code",
   "execution_count": 1,
   "id": "74996a87-688a-4d0d-bf56-5213bd7f277b",
   "metadata": {},
   "outputs": [
    {
     "data": {
      "image/png": "[encoded data removed]",
      "text/plain": [
       "<Figure size 432x288 with 1 Axes>"
      ]
     },
     "metadata": {
      "needs_background": "light"
     },
     "output_type": "display_data"
    }
   ],
   "source": [
    "import numpy as np\n",
    "import matplotlib.pyplot as plt\n",
    "from matplotlib.colors import ListedColormap\n",
    "\n",
    "# A list of colors to distinguish the roots.\n",
    "colors = ['b', 'r', 'g', 'y']\n",
    "\n",
    "TOL = 1.e-8\n",
    "\n",
    "def newton(z0, f, fprime, MAX_IT=1000):\n",
    "    \"\"\"The Newton-Raphson method applied to f(z).\n",
    "\n",
    "    Returns the root found, starting with an initial guess, z0, or False\n",
    "    if no convergence to tolerance TOL was reached within MAX_IT iterations.\n",
    "\n",
    "    \"\"\"\n",
    "\n",
    "    z = z0\n",
    "    for i in range(MAX_IT):\n",
    "        dz = f(z)/fprime(z)\n",
    "        if abs(dz) < TOL:\n",
    "            return z\n",
    "        z -= dz\n",
    "    return False\n",
    "\n",
    "def plot_newton_fractal(f, fprime, n=200, domain=(-1, 1, -1, 1)):\n",
    "    \"\"\"Plot a Newton Fractal by finding the roots of f(z).\n",
    "\n",
    "    The domain used for the fractal image is the region of the complex plane\n",
    "    (xmin, xmax, ymin, ymax) where z = x + iy, discretized into n values along\n",
    "    each axis.\n",
    "\n",
    "    \"\"\"\n",
    "\n",
    "    roots = []\n",
    "    m = np.zeros((n, n))\n",
    "\n",
    "    def get_root_index(roots, r):\n",
    "        \"\"\"Get the index of r in the list roots.\n",
    "\n",
    "        If r is not in roots, append it to the list.\n",
    "\n",
    "        \"\"\"\n",
    "\n",
    "        try:\n",
    "            return np.where(np.isclose(roots, r, atol=TOL))[0][0]\n",
    "        except IndexError:\n",
    "            roots.append(r)\n",
    "            return len(roots) - 1\n",
    "\n",
    "    xmin, xmax, ymin, ymax = domain\n",
    "    for ix, x in enumerate(np.linspace(xmin, xmax, n)):\n",
    "        for iy, y in enumerate(np.linspace(ymin, ymax, n)):\n",
    "            z0 = x + y*1j\n",
    "            r = newton(z0, f, fprime)\n",
    "            if r is not False:\n",
    "                ir = get_root_index(roots, r)\n",
    "                m[iy, ix] = ir\n",
    "    nroots = len(roots)\n",
    "    if nroots > len(colors):\n",
    "        # Use a \"continuous\" colormap if there are too many roots.\n",
    "        cmap = 'hsv'\n",
    "    else:\n",
    "        # Use a list of colors for the colormap: one for each root.\n",
    "        cmap = ListedColormap(colors[:nroots])\n",
    "    plt.imshow(m, cmap=cmap, origin='lower')\n",
    "    plt.axis('off')\n",
    "    plt.show()\n",
    "\n",
    "f = lambda z: z**4 - 1\n",
    "fprime = lambda z: 4*z**3\n",
    "\n",
    "plot_newton_fractal(f, fprime, n=500)\n"
   ]
  },
  {
   "cell_type": "code",
   "execution_count": 5,
   "id": "96f07470-a8cb-4742-b55e-649ff297fa65",
   "metadata": {},
   "outputs": [
    {
     "data": {
      "image/png": "[encoded data removed]",
      "text/plain": [
       "<Figure size 864x864 with 1 Axes>"
      ]
     },
     "metadata": {
      "needs_background": "light"
     },
     "output_type": "display_data"
    }
   ],
   "source": [
    "npts = 512\n",
    "max_iter = 20\n",
    "\n",
    "X = np.linspace(-2, 2, npts)\n",
    "Y = np.linspace(-2, 2, npts)\n",
    "\n",
    "#broadcast the xs to a square array\n",
    "C = X[:, None] + 1J*Y\n",
    "#initial value is always zero\n",
    "Z = np.copy(C)\n",
    "\n",
    "exit_times = max_iter * np.ones(C.shape, np.int8)\n",
    "mask = exit_times > 0\n",
    "\n",
    "for k in range(max_iter):\n",
    "    C = C - (C**3 - 1)/ 3 / C**2\n",
    "\n",
    "Z = np.zeros_like(C)\n",
    "#r,g,b layers are all the same\n",
    "image = np.stack((,)*3).T\n",
    "#choose a coloring scheme now\n",
    "image = 1 - image/max_iter\n",
    "\n",
    "fig = plt.figure(figsize=(12,12))\n",
    "ax = fig.add_subplot(111)\n",
    "ax.axis('off')\n",
    "ax.set_aspect(1) \n",
    "u = ax.imshow(image)"
   ]
  },
  {
   "cell_type": "code",
   "execution_count": null,
   "id": "6b117bf7-35cd-48c8-b38b-ccedbba06f4e",
   "metadata": {},
   "outputs": [],
   "source": []
  }
 ],
 "metadata": {
  "kernelspec": {
   "display_name": "Python 3 (ipykernel)",
   "language": "python",
   "name": "python3"
  },
  "language_info": {
   "codemirror_mode": {
    "name": "ipython",
    "version": 3
   },
   "file_extension": ".py",
   "mimetype": "text/x-python",
   "name": "python",
   "nbconvert_exporter": "python",
   "pygments_lexer": "ipython3",
   "version": "3.9.12"
  },
  "widgets": {
   "application/vnd.jupyter.widget-state+json": {
    "state": {},
    "version_major": 2,
    "version_minor": 0
   }
  }
 },
 "nbformat": 4,
 "nbformat_minor": 5
}
