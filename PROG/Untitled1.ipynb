{
 "cells": [
  {
   "cell_type": "code",
   "execution_count": 2,
   "metadata": {},
   "outputs": [],
   "source": [
    "import numpy as np\n",
    "import matplotlib.pyplot as plt"
   ]
  },
  {
   "cell_type": "code",
   "execution_count": 33,
   "metadata": {},
   "outputs": [
    {
     "name": "stdout",
     "output_type": "stream",
     "text": [
      "1.58 s ± 15.9 ms per loop (mean ± std. dev. of 7 runs, 1 loop each)\n"
     ]
    }
   ],
   "source": [
    "%%timeit\n",
    "\n",
    "import random\n",
    "from PIL import Image\n",
    " \n",
    " \n",
    "class BarnsleyFern(object):\n",
    "    def __init__(self, img_width, img_height, paint_color=(0, 150, 0),\n",
    "                 bg_color=(255, 255, 255)):\n",
    "        self.img_width, self.img_height = img_width, img_height\n",
    "        self.paint_color = paint_color\n",
    "        self.x, self.y = 0, 0\n",
    "        self.age = 0\n",
    " \n",
    "        self.fern = Image.new('RGB', (img_width, img_height), bg_color)\n",
    "        self.pix = self.fern.load()\n",
    "        self.pix[self.scale(0, 0)] = paint_color\n",
    " \n",
    "    def scale(self, x, y):\n",
    "        h = (x + 2.182)*(self.img_width - 1)/4.8378\n",
    "        k = (9.9983 - y)*(self.img_height - 1)/9.9983\n",
    "        return h, k\n",
    " \n",
    "    def transform(self, x, y):\n",
    "        rand = random.uniform(0, 100)\n",
    "        if rand < 1:\n",
    "            return 0, 0.16*y\n",
    "        elif 1 <= rand < 86:\n",
    "            return 0.85*x + 0.04*y, -0.04*x + 0.85*y + 1.6\n",
    "        elif 86 <= rand < 93:\n",
    "            return 0.2*x - 0.26*y, 0.23*x + 0.22*y + 1.6\n",
    "        else:\n",
    "            return -0.15*x + 0.28*y, 0.26*x + 0.24*y + 0.44\n",
    " \n",
    "    def iterate(self, iterations):\n",
    "        for _ in range(iterations):\n",
    "            self.x, self.y = self.transform(self.x, self.y)\n",
    "            self.pix[self.scale(self.x, self.y)] = self.paint_color\n",
    "        self.age += iterations\n",
    " \n",
    "fern = BarnsleyFern(500, 500)\n",
    "fern.iterate(1000000)\n",
    "fern.fern.show()\n",
    " "
   ]
  },
  {
   "cell_type": "code",
   "execution_count": 3,
   "metadata": {},
   "outputs": [],
   "source": []
  },
  {
   "cell_type": "code",
   "execution_count": 7,
   "metadata": {},
   "outputs": [],
   "source": [
    "import random\n"
   ]
  },
  {
   "cell_type": "code",
   "execution_count": 5,
   "metadata": {},
   "outputs": [],
   "source": [
    "transforms = [m1,m2,m3,m4]"
   ]
  },
  {
   "cell_type": "code",
   "execution_count": 7,
   "metadata": {},
   "outputs": [
    {
     "data": {
      "text/plain": [
       "[<function __main__.m1(x, y)>,\n",
       " <function __main__.m2(x, y)>,\n",
       " <function __main__.m3(x, y)>,\n",
       " <function __main__.m4(x, y)>]"
      ]
     },
     "execution_count": 7,
     "metadata": {},
     "output_type": "execute_result"
    }
   ],
   "source": [
    "transforms"
   ]
  },
  {
   "cell_type": "code",
   "execution_count": 11,
   "metadata": {},
   "outputs": [
    {
     "data": {
      "text/plain": [
       "[<function __main__.m2(x, y)>,\n",
       " <function __main__.m2(x, y)>,\n",
       " <function __main__.m4(x, y)>,\n",
       " <function __main__.m2(x, y)>,\n",
       " <function __main__.m4(x, y)>,\n",
       " <function __main__.m2(x, y)>,\n",
       " <function __main__.m2(x, y)>,\n",
       " <function __main__.m2(x, y)>,\n",
       " <function __main__.m2(x, y)>,\n",
       " <function __main__.m2(x, y)>]"
      ]
     },
     "execution_count": 11,
     "metadata": {},
     "output_type": "execute_result"
    }
   ],
   "source": [
    "random.choices(transforms,weights=[1,85,7,7],k=10)"
   ]
  },
  {
   "cell_type": "code",
   "execution_count": 32,
   "metadata": {},
   "outputs": [
    {
     "name": "stdout",
     "output_type": "stream",
     "text": [
      "1.05 s ± 25.8 ms per loop (mean ± std. dev. of 7 runs, 1 loop each)\n"
     ]
    }
   ],
   "source": [
    "%%timeit\n",
    "\n",
    "class BarnsleyFern(object):\n",
    "    \n",
    "    \n",
    "    def __init__(self, img_width, img_height, paint_color=(0, 150, 0),\n",
    "                 bg_color=(255, 255, 255)):\n",
    "        \n",
    "        self.img_width, self.img_height = img_width, img_height\n",
    "        self.paint_color = paint_color\n",
    "        self.x, self.y = 0, 0\n",
    " \n",
    "        self.fern = Image.new('RGB', (img_width, img_height), bg_color)\n",
    "        self.pix = self.fern.load()\n",
    "        self.pix[self.scale(self.x, self.y)] = paint_color\n",
    "        \n",
    "    def scale(self, x,y):\n",
    "        h = (x + 2.182)*(self.img_width - 1)/4.8378\n",
    "        k = (9.9983 - y)*(self.img_height - 1)/9.9983\n",
    "        return h, k\n",
    "        \n",
    "    # just to be tidy with namespace\n",
    "    def m1(self,x,y):\n",
    "        return 0, 0.16*y\n",
    "    \n",
    "    def m2(self,x,y):\n",
    "        return 0.85*x + 0.04*y, -0.04*x + 0.85*y + 1.6\n",
    "    \n",
    "    def m3(self,x,y):\n",
    "        return 0.2*x - 0.26*y, 0.23*x + 0.22*y + 1.6\n",
    "    \n",
    "    def m4(self, x,y):\n",
    "        return -0.15*x + 0.28*y, 0.26*x + 0.24*y + 0.44\n",
    "\n",
    "    def iterate(self, iterations):\n",
    "        \n",
    "        # cache everything to save lookups in the loop\n",
    "        # every . is a dictionnary lookup\n",
    "        x, y = self.x, self.y\n",
    "        img, scale, color  = self.pix, self.scale, self.paint_color\n",
    "        transforms = [self.m1, self.m2, self.m3, self.m4]\n",
    "        \n",
    "        #avoid using cascading ifs by using relative weights\n",
    "        for f in random.choices(transforms, \n",
    "                                weights=[0,85,7,7], \n",
    "                                k=iterations):\n",
    "            x, y  = f(x,y)\n",
    "            img[scale(x,y)] = color\n",
    "            \n",
    " \n",
    "fern = BarnsleyFern(500, 500)\n",
    "fern.iterate(1000000)\n",
    "fern.fern.show()"
   ]
  },
  {
   "cell_type": "markdown",
   "metadata": {},
   "source": [
    "this is about 33% quicker probably from caching"
   ]
  },
  {
   "cell_type": "code",
   "execution_count": 12,
   "metadata": {},
   "outputs": [
    {
     "data": {
      "text/plain": [
       "(0.89, 2.41)"
      ]
     },
     "execution_count": 12,
     "metadata": {},
     "output_type": "execute_result"
    }
   ],
   "source": [
    "transforms[1](1,1)"
   ]
  },
  {
   "cell_type": "code",
   "execution_count": null,
   "metadata": {},
   "outputs": [],
   "source": []
  }
 ],
 "metadata": {
  "kernelspec": {
   "display_name": "Python 3",
   "language": "python",
   "name": "python3"
  },
  "language_info": {
   "codemirror_mode": {
    "name": "ipython",
    "version": 3
   },
   "file_extension": ".py",
   "mimetype": "text/x-python",
   "name": "python",
   "nbconvert_exporter": "python",
   "pygments_lexer": "ipython3",
   "version": "3.8.3"
  }
 },
 "nbformat": 4,
 "nbformat_minor": 4
}
