{
 "cells": [
  {
   "cell_type": "code",
   "execution_count": 30,
   "id": "62605499-6545-43a6-9124-00c0ff633512",
   "metadata": {},
   "outputs": [],
   "source": [
    "#Takes a word (as a string) and outputs a list of letters (eg\n",
    "#\"abc’\" to [’a’,’b’,\"c’\"]).\n",
    "\n",
    "def word2letters(x):\n",
    "    final = []\n",
    "    L = list(x)\n",
    "    while len(L) > 0:\n",
    "        c = L.pop()\n",
    "        if c == '’':\n",
    "            final.append(L.pop() + c)\n",
    "        else:\n",
    "            final.append(c)\n",
    "    return list(reversed(final))\n",
    "\n",
    "def letters2word(x):\n",
    "    return ''.join(x)"
   ]
  },
  {
   "cell_type": "code",
   "execution_count": 32,
   "id": "7fd617ad-7dce-443d-a1d3-d1025d2bf9b8",
   "metadata": {},
   "outputs": [],
   "source": [
    "uu = word2letters(\"abc’\")\n",
    "vv = letters2word(uu)"
   ]
  },
  {
   "cell_type": "code",
   "execution_count": 45,
   "id": "648dc9fc-2043-4313-b2c2-eba0e47638e3",
   "metadata": {},
   "outputs": [
    {
     "data": {
      "text/plain": [
       "['a', 'b', 'c’']"
      ]
     },
     "execution_count": 45,
     "metadata": {},
     "output_type": "execute_result"
    }
   ],
   "source": [
    "import re\n",
    "pp = re.compile('.[\\’]*')\n",
    "pp.findall(vv)"
   ]
  },
  {
   "cell_type": "code",
   "execution_count": null,
   "id": "e6dca64b-b735-4f94-9fff-d51982b48ed0",
   "metadata": {},
   "outputs": [],
   "source": []
  },
  {
   "cell_type": "code",
   "execution_count": 120,
   "id": "74a0c271-88c0-433c-8750-21cce291a08b",
   "metadata": {},
   "outputs": [],
   "source": [
    "def word2list(ww):\n",
    "    L = re.findall('.[\\’]*', ww)\n",
    "    return [(x[0], 3 - 2*len(x)) for x in L]\n",
    "\n",
    "def invert_list(uu):\n",
    "    return [(x[0],-x[1]) for x in reversed(uu)]"
   ]
  },
  {
   "cell_type": "code",
   "execution_count": 73,
   "id": "ae32e898-fee1-4445-9e98-9fa76488da1d",
   "metadata": {},
   "outputs": [
    {
     "data": {
      "text/plain": [
       "['a', 'b', 'c’']"
      ]
     },
     "execution_count": 73,
     "metadata": {},
     "output_type": "execute_result"
    }
   ],
   "source": []
  },
  {
   "cell_type": "code",
   "execution_count": 85,
   "id": "df18c7ac-1d1b-4bfb-8b84-cc0a2400dd90",
   "metadata": {},
   "outputs": [
    {
     "data": {
      "text/plain": [
       "'abc’'"
      ]
     },
     "execution_count": 85,
     "metadata": {},
     "output_type": "execute_result"
    }
   ],
   "source": [
    "def pair2char(x):\n",
    "    c,n = x\n",
    "    if n == 1 : return c\n",
    "    return c + '’'\n",
    "\n",
    "''.join([ pair2char(_) for _ in ss])"
   ]
  },
  {
   "cell_type": "code",
   "execution_count": 55,
   "id": "624f3c26-7cde-4ff1-9682-c21d9dfeaeca",
   "metadata": {},
   "outputs": [],
   "source": [
    "generators = [\"a\",\"b\",\"c\",\"d\"]\n",
    "inverses = [x + \"’\" for x in generators]\n",
    "relators = [\"abab’a’b’\",\"bcbc’b’c’\",\"aca’c’\",\"ada’d’\",\"bdb’d’\",\n",
    "\"cdc’d’\",\"dd\",\"abcabcabcabc\"]\n",
    "coset_reps = [\"\",\"c\",\"c’\",\"cb’c\",\"cb’\",\"c’b\",\"cba\",\"cb\",\"c’b’\"]"
   ]
  },
  {
   "cell_type": "code",
   "execution_count": 93,
   "id": "99fb626d-d5cd-4250-a474-a06596bc9ad0",
   "metadata": {},
   "outputs": [],
   "source": [
    "inv_op = '’'\n",
    "ww = \"abc’d’a\"\n",
    "\n",
    "def invert_word(ww):\n",
    "    w2 = '’'.join(re.findall('.',ww + ' '))\n",
    "    return re.sub('[’]{3}','', w2)[:-1]"
   ]
  },
  {
   "cell_type": "code",
   "execution_count": 94,
   "id": "65c8a09f-663f-429c-a2db-d5f799cd2782",
   "metadata": {},
   "outputs": [
    {
     "name": "stdout",
     "output_type": "stream",
     "text": [
      "a’b’c’’’d’’’a’ \n"
     ]
    },
    {
     "data": {
      "text/plain": [
       "'a’b’cda’'"
      ]
     },
     "execution_count": 94,
     "metadata": {},
     "output_type": "execute_result"
    }
   ],
   "source": [
    "invert_word(ww)"
   ]
  },
  {
   "cell_type": "code",
   "execution_count": 123,
   "id": "957dda84-6ccc-409b-9f10-1f7120cf18e8",
   "metadata": {},
   "outputs": [],
   "source": [
    "def freely_reduce(rel):\n",
    "    reducedrel = [x for x in rel]\n",
    "    flag = 0\n",
    "    while flag == 0:\n",
    "        flag = 1\n",
    "        for let in range(len(reducedrel)-1):\n",
    "            if reducedrel[let][0] == reducedrel[let + 1][0] and reducedrel[let][1] + reducedrel[let+1][1] == 0:\n",
    "                flag = 0\n",
    "                del reducedrel[let]\n",
    "                del reducedrel[let]\n",
    "            break\n",
    "    return reducedrel"
   ]
  },
  {
   "cell_type": "code",
   "execution_count": 98,
   "id": "4e6be7e1-c11f-4696-933d-c2d312c2288a",
   "metadata": {},
   "outputs": [],
   "source": [
    "wx = 'a’' + ww\n"
   ]
  },
  {
   "cell_type": "code",
   "execution_count": 122,
   "id": "310c4f4a-ce52-4c92-ba75-6a0cefc95108",
   "metadata": {},
   "outputs": [
    {
     "data": {
      "text/plain": [
       "[-1, 1, 2, -4, -3, 1]"
      ]
     },
     "execution_count": 122,
     "metadata": {},
     "output_type": "execute_result"
    }
   ],
   "source": [
    "char2num = {x: k+1 for k, x in enumerate(set(re.findall('[a-z]', wx))) }\n",
    "[ x[1]*char2num[x[0]]  for x in word2list(wx) ]"
   ]
  },
  {
   "cell_type": "code",
   "execution_count": 121,
   "id": "3364b3d3-8da5-43dc-878e-1a4eb2b28e58",
   "metadata": {},
   "outputs": [
    {
     "data": {
      "text/plain": [
       "[('a', -1), ('a', 1), ('b', 1), ('c', -1), ('d', -1), ('a', 1)]"
      ]
     },
     "execution_count": 121,
     "metadata": {},
     "output_type": "execute_result"
    }
   ],
   "source": [
    "word2list(wx)"
   ]
  },
  {
   "cell_type": "code",
   "execution_count": 125,
   "id": "47af9b11-1875-4ac3-9fe3-1370e04666cd",
   "metadata": {},
   "outputs": [
    {
     "data": {
      "text/plain": [
       "[('b', 1), ('c', -1), ('d', -1), ('a', 1)]"
      ]
     },
     "execution_count": 125,
     "metadata": {},
     "output_type": "execute_result"
    }
   ],
   "source": [
    "freely_reduce(word2list(wx))"
   ]
  },
  {
   "cell_type": "code",
   "execution_count": 145,
   "id": "c1f51858-5d4e-4316-9a63-8035d66f8fdc",
   "metadata": {},
   "outputs": [],
   "source": [
    "def free_reduce(wx):\n",
    "    char2num = {x: k+1 for k, x in enumerate(set(re.findall('[a-z]', wx))) }\n",
    "    num2char = {y: x for x,y in char2num.items() }\n",
    "\n",
    "    word2vec = [ x[1]*char2num[x[0]]  for x in word2list(wx) ]\n",
    "    print(word2vec)\n",
    "    \n",
    "    result = []\n",
    "    for k in range(len(word2vec)-1):\n",
    "        if word2vec[k]  + word2vec[k+1] != 0:\n",
    "            result.append(word2vec[k])\n",
    "        else: \n",
    "            k += 2\n",
    "            \n",
    "    if  word2vec[-2] + word2vec[-1] != 0:\n",
    "        result.append(word2vec[-1])\n",
    "        \n",
    "    return [ (num2char[abs(x)], int(x/abs(x)) ) for x in result ] \n",
    "            \n",
    "        \n",
    "    "
   ]
  },
  {
   "cell_type": "code",
   "execution_count": 146,
   "id": "78c1515f-c8ae-4f9f-aab1-5b2f8051e56f",
   "metadata": {},
   "outputs": [
    {
     "name": "stdout",
     "output_type": "stream",
     "text": [
      "[-1, 1, 2, -4, -3, 1]\n"
     ]
    },
    {
     "data": {
      "text/plain": [
       "[('a', 1), ('b', 1), ('c', -1), ('d', -1), ('a', 1)]"
      ]
     },
     "execution_count": 146,
     "metadata": {},
     "output_type": "execute_result"
    }
   ],
   "source": [
    "free_reduce(wx)"
   ]
  },
  {
   "cell_type": "code",
   "execution_count": 150,
   "id": "87dcba23-2998-4e10-96f1-71ff99d7293c",
   "metadata": {},
   "outputs": [],
   "source": [
    "import numpy as np"
   ]
  },
  {
   "cell_type": "code",
   "execution_count": 179,
   "id": "95358b74-676c-45f9-8ca7-c49450fe1485",
   "metadata": {},
   "outputs": [],
   "source": [
    "wx = \"aa’aa’abc’d’a\""
   ]
  },
  {
   "cell_type": "code",
   "execution_count": 178,
   "id": "320c115b-d40e-4295-a869-4470964ccfd6",
   "metadata": {},
   "outputs": [
    {
     "data": {
      "text/plain": [
       "array([ 0,  1,  1,  0,  3, -2, -7, -2,  2])"
      ]
     },
     "execution_count": 178,
     "metadata": {},
     "output_type": "execute_result"
    }
   ],
   "source": [
    "char2num = {x: k+1 for k, x in enumerate(set(re.findall('[a-z]', wx))) }\n",
    "num2char = {y: x for x,y in char2num.items() }\n",
    "\n",
    "word2vec = [ x[1]*char2num[x[0]]  for x in word2list(wx) ]\n",
    "vx = np.array(word2vec) \n",
    "np.roll(vx,-1) + vx\n",
    "    "
   ]
  },
  {
   "cell_type": "code",
   "execution_count": 173,
   "id": "249a4681-f92f-4f99-ad80-abf7cb6c6679",
   "metadata": {},
   "outputs": [
    {
     "data": {
      "text/plain": [
       "([('a', 1), ('a', -1), ('a', 1), ('b', 1), ('c', -1), ('d', -1), ('a', 1)],\n",
       " ['a', 'a’', 'a', 'b', 'c’', 'd’', 'a'])"
      ]
     },
     "execution_count": 173,
     "metadata": {},
     "output_type": "execute_result"
    }
   ],
   "source": [
    "def word2list(ww):\n",
    "    L = re.findall('.[\\’]*', ww)\n",
    "    return [(x[0], 3 - 2*len(x)) for x in L]\n",
    "\n",
    "word2list(wx), re.findall('.[\\’]*', wx)"
   ]
  },
  {
   "cell_type": "code",
   "execution_count": null,
   "id": "e0c41046-ef01-47d3-9562-f332893c0358",
   "metadata": {},
   "outputs": [],
   "source": []
  }
 ],
 "metadata": {
  "kernelspec": {
   "display_name": "Python 3 (ipykernel)",
   "language": "python",
   "name": "python3"
  },
  "language_info": {
   "codemirror_mode": {
    "name": "ipython",
    "version": 3
   },
   "file_extension": ".py",
   "mimetype": "text/x-python",
   "name": "python",
   "nbconvert_exporter": "python",
   "pygments_lexer": "ipython3",
   "version": "3.9.12"
  },
  "widgets": {
   "application/vnd.jupyter.widget-state+json": {
    "state": {},
    "version_major": 2,
    "version_minor": 0
   }
  }
 },
 "nbformat": 4,
 "nbformat_minor": 5
}
