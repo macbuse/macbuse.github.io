{
 "cells": [
  {
   "cell_type": "code",
   "execution_count": 1,
   "metadata": {},
   "outputs": [
    {
     "name": "stdout",
     "output_type": "stream",
     "text": [
      "Collecting mastermind\n",
      "  Downloading mastermind-0.7-py2.py3-none-any.whl (140 kB)\n",
      "\u001b[K     |████████████████████████████████| 140 kB 1.5 MB/s eta 0:00:01\n",
      "\u001b[?25hRequirement already satisfied: ipywidgets>=7.4 in /home/macbuse/anaconda3/lib/python3.8/site-packages (from mastermind) (7.6.5)\n",
      "Collecting notebook-toggle-code\n",
      "  Downloading notebook_toggle_code-0.2.1.tar.gz (7.9 kB)\n",
      "Requirement already satisfied: ipykernel>=4.5.1 in /home/macbuse/anaconda3/lib/python3.8/site-packages (from ipywidgets>=7.4->mastermind) (5.3.2)\n",
      "Requirement already satisfied: widgetsnbextension~=3.5.0 in /home/macbuse/anaconda3/lib/python3.8/site-packages (from ipywidgets>=7.4->mastermind) (3.5.1)\n",
      "Requirement already satisfied: ipython>=4.0.0; python_version >= \"3.3\" in /home/macbuse/anaconda3/lib/python3.8/site-packages (from ipywidgets>=7.4->mastermind) (7.16.1)\n",
      "Requirement already satisfied: jupyterlab-widgets>=1.0.0; python_version >= \"3.6\" in /home/macbuse/anaconda3/lib/python3.8/site-packages (from ipywidgets>=7.4->mastermind) (1.0.2)\n",
      "Requirement already satisfied: ipython-genutils~=0.2.0 in /home/macbuse/anaconda3/lib/python3.8/site-packages (from ipywidgets>=7.4->mastermind) (0.2.0)\n",
      "Requirement already satisfied: traitlets>=4.3.1 in /home/macbuse/anaconda3/lib/python3.8/site-packages (from ipywidgets>=7.4->mastermind) (4.3.3)\n",
      "Requirement already satisfied: nbformat>=4.2.0 in /home/macbuse/anaconda3/lib/python3.8/site-packages (from ipywidgets>=7.4->mastermind) (5.0.7)\n",
      "Requirement already satisfied: jinja2>=2.10 in /home/macbuse/anaconda3/lib/python3.8/site-packages (from notebook-toggle-code->mastermind) (2.11.2)\n",
      "Requirement already satisfied: jupyter-client in /home/macbuse/anaconda3/lib/python3.8/site-packages (from ipykernel>=4.5.1->ipywidgets>=7.4->mastermind) (6.1.6)\n",
      "Requirement already satisfied: tornado>=4.2 in /home/macbuse/anaconda3/lib/python3.8/site-packages (from ipykernel>=4.5.1->ipywidgets>=7.4->mastermind) (6.0.4)\n",
      "Requirement already satisfied: notebook>=4.4.1 in /home/macbuse/anaconda3/lib/python3.8/site-packages (from widgetsnbextension~=3.5.0->ipywidgets>=7.4->mastermind) (6.0.3)\n",
      "Requirement already satisfied: pickleshare in /home/macbuse/anaconda3/lib/python3.8/site-packages (from ipython>=4.0.0; python_version >= \"3.3\"->ipywidgets>=7.4->mastermind) (0.7.5)\n",
      "Requirement already satisfied: pygments in /home/macbuse/anaconda3/lib/python3.8/site-packages (from ipython>=4.0.0; python_version >= \"3.3\"->ipywidgets>=7.4->mastermind) (2.6.1)\n",
      "Requirement already satisfied: pexpect; sys_platform != \"win32\" in /home/macbuse/anaconda3/lib/python3.8/site-packages (from ipython>=4.0.0; python_version >= \"3.3\"->ipywidgets>=7.4->mastermind) (4.8.0)\n",
      "Requirement already satisfied: setuptools>=18.5 in /home/macbuse/anaconda3/lib/python3.8/site-packages (from ipython>=4.0.0; python_version >= \"3.3\"->ipywidgets>=7.4->mastermind) (49.2.0.post20200714)\n",
      "Requirement already satisfied: jedi>=0.10 in /home/macbuse/anaconda3/lib/python3.8/site-packages (from ipython>=4.0.0; python_version >= \"3.3\"->ipywidgets>=7.4->mastermind) (0.17.1)\n",
      "Requirement already satisfied: decorator in /home/macbuse/anaconda3/lib/python3.8/site-packages (from ipython>=4.0.0; python_version >= \"3.3\"->ipywidgets>=7.4->mastermind) (4.4.2)\n",
      "Requirement already satisfied: prompt-toolkit!=3.0.0,!=3.0.1,<3.1.0,>=2.0.0 in /home/macbuse/anaconda3/lib/python3.8/site-packages (from ipython>=4.0.0; python_version >= \"3.3\"->ipywidgets>=7.4->mastermind) (3.0.5)\n",
      "Requirement already satisfied: backcall in /home/macbuse/anaconda3/lib/python3.8/site-packages (from ipython>=4.0.0; python_version >= \"3.3\"->ipywidgets>=7.4->mastermind) (0.2.0)\n",
      "Requirement already satisfied: six in /home/macbuse/anaconda3/lib/python3.8/site-packages (from traitlets>=4.3.1->ipywidgets>=7.4->mastermind) (1.15.0)\n",
      "Requirement already satisfied: jupyter-core in /home/macbuse/anaconda3/lib/python3.8/site-packages (from nbformat>=4.2.0->ipywidgets>=7.4->mastermind) (4.6.3)\n",
      "Requirement already satisfied: jsonschema!=2.5.0,>=2.4 in /home/macbuse/anaconda3/lib/python3.8/site-packages (from nbformat>=4.2.0->ipywidgets>=7.4->mastermind) (3.2.0)\n",
      "Requirement already satisfied: MarkupSafe>=0.23 in /home/macbuse/anaconda3/lib/python3.8/site-packages (from jinja2>=2.10->notebook-toggle-code->mastermind) (1.1.1)\n",
      "Requirement already satisfied: pyzmq>=13 in /home/macbuse/anaconda3/lib/python3.8/site-packages (from jupyter-client->ipykernel>=4.5.1->ipywidgets>=7.4->mastermind) (19.0.1)\n",
      "Requirement already satisfied: python-dateutil>=2.1 in /home/macbuse/anaconda3/lib/python3.8/site-packages (from jupyter-client->ipykernel>=4.5.1->ipywidgets>=7.4->mastermind) (2.8.1)\n",
      "Requirement already satisfied: terminado>=0.8.1 in /home/macbuse/anaconda3/lib/python3.8/site-packages (from notebook>=4.4.1->widgetsnbextension~=3.5.0->ipywidgets>=7.4->mastermind) (0.8.3)\n",
      "Requirement already satisfied: prometheus-client in /home/macbuse/anaconda3/lib/python3.8/site-packages (from notebook>=4.4.1->widgetsnbextension~=3.5.0->ipywidgets>=7.4->mastermind) (0.8.0)\n",
      "Requirement already satisfied: Send2Trash in /home/macbuse/anaconda3/lib/python3.8/site-packages (from notebook>=4.4.1->widgetsnbextension~=3.5.0->ipywidgets>=7.4->mastermind) (1.5.0)\n",
      "Requirement already satisfied: nbconvert in /home/macbuse/anaconda3/lib/python3.8/site-packages (from notebook>=4.4.1->widgetsnbextension~=3.5.0->ipywidgets>=7.4->mastermind) (5.6.1)\n",
      "Requirement already satisfied: ptyprocess>=0.5 in /home/macbuse/anaconda3/lib/python3.8/site-packages (from pexpect; sys_platform != \"win32\"->ipython>=4.0.0; python_version >= \"3.3\"->ipywidgets>=7.4->mastermind) (0.6.0)\n",
      "Requirement already satisfied: parso<0.8.0,>=0.7.0 in /home/macbuse/anaconda3/lib/python3.8/site-packages (from jedi>=0.10->ipython>=4.0.0; python_version >= \"3.3\"->ipywidgets>=7.4->mastermind) (0.7.0)\n",
      "Requirement already satisfied: wcwidth in /home/macbuse/anaconda3/lib/python3.8/site-packages (from prompt-toolkit!=3.0.0,!=3.0.1,<3.1.0,>=2.0.0->ipython>=4.0.0; python_version >= \"3.3\"->ipywidgets>=7.4->mastermind) (0.2.5)\n",
      "Requirement already satisfied: attrs>=17.4.0 in /home/macbuse/anaconda3/lib/python3.8/site-packages (from jsonschema!=2.5.0,>=2.4->nbformat>=4.2.0->ipywidgets>=7.4->mastermind) (19.3.0)\n",
      "Requirement already satisfied: pyrsistent>=0.14.0 in /home/macbuse/anaconda3/lib/python3.8/site-packages (from jsonschema!=2.5.0,>=2.4->nbformat>=4.2.0->ipywidgets>=7.4->mastermind) (0.16.0)\n",
      "Requirement already satisfied: mistune<2,>=0.8.1 in /home/macbuse/anaconda3/lib/python3.8/site-packages (from nbconvert->notebook>=4.4.1->widgetsnbextension~=3.5.0->ipywidgets>=7.4->mastermind) (0.8.4)\n",
      "Requirement already satisfied: pandocfilters>=1.4.1 in /home/macbuse/anaconda3/lib/python3.8/site-packages (from nbconvert->notebook>=4.4.1->widgetsnbextension~=3.5.0->ipywidgets>=7.4->mastermind) (1.4.2)\n",
      "Requirement already satisfied: testpath in /home/macbuse/anaconda3/lib/python3.8/site-packages (from nbconvert->notebook>=4.4.1->widgetsnbextension~=3.5.0->ipywidgets>=7.4->mastermind) (0.4.4)\n",
      "Requirement already satisfied: defusedxml in /home/macbuse/anaconda3/lib/python3.8/site-packages (from nbconvert->notebook>=4.4.1->widgetsnbextension~=3.5.0->ipywidgets>=7.4->mastermind) (0.6.0)\n",
      "Requirement already satisfied: bleach in /home/macbuse/anaconda3/lib/python3.8/site-packages (from nbconvert->notebook>=4.4.1->widgetsnbextension~=3.5.0->ipywidgets>=7.4->mastermind) (3.1.5)\n",
      "Requirement already satisfied: entrypoints>=0.2.2 in /home/macbuse/anaconda3/lib/python3.8/site-packages (from nbconvert->notebook>=4.4.1->widgetsnbextension~=3.5.0->ipywidgets>=7.4->mastermind) (0.3)\n",
      "Requirement already satisfied: webencodings in /home/macbuse/anaconda3/lib/python3.8/site-packages (from bleach->nbconvert->notebook>=4.4.1->widgetsnbextension~=3.5.0->ipywidgets>=7.4->mastermind) (0.5.1)\n",
      "Requirement already satisfied: packaging in /home/macbuse/anaconda3/lib/python3.8/site-packages (from bleach->nbconvert->notebook>=4.4.1->widgetsnbextension~=3.5.0->ipywidgets>=7.4->mastermind) (20.4)\n",
      "Requirement already satisfied: pyparsing>=2.0.2 in /home/macbuse/anaconda3/lib/python3.8/site-packages (from packaging->bleach->nbconvert->notebook>=4.4.1->widgetsnbextension~=3.5.0->ipywidgets>=7.4->mastermind) (2.4.7)\n",
      "Building wheels for collected packages: notebook-toggle-code\n",
      "  Building wheel for notebook-toggle-code (setup.py) ... \u001b[?25ldone\n",
      "\u001b[?25h  Created wheel for notebook-toggle-code: filename=notebook_toggle_code-0.2.1-py2.py3-none-any.whl size=10043 sha256=796762605762cc2a877977bc8c9d5d33446cc58b96e7114516dc2d4a7f7d8558\n",
      "  Stored in directory: /home/macbuse/.cache/pip/wheels/1c/c3/34/3a82724f67c19713caeb23d3d39d0af924a2ccac50e353d5f1\n",
      "Successfully built notebook-toggle-code\n",
      "Installing collected packages: notebook-toggle-code, mastermind\n",
      "Successfully installed mastermind-0.7 notebook-toggle-code-0.2.1\n",
      "Note: you may need to restart the kernel to use updated packages.\n"
     ]
    }
   ],
   "source": [
    "pip install mastermind\n"
   ]
  },
  {
   "cell_type": "markdown",
   "metadata": {},
   "source": [
    "https://github.com/nicohlr/mastermind"
   ]
  },
  {
   "cell_type": "code",
   "execution_count": 3,
   "metadata": {},
   "outputs": [
    {
     "data": {
      "text/html": [
       "\n",
       "<div id=\"anchor-div\">\n",
       "</div>\n",
       "\n",
       "<style>\n",
       "    .bbtn {\n",
       "    display: inline-block;\n",
       "    padding: 6px 12px;\n",
       "    margin-bottom: 0;\n",
       "    font-size: 14px;\n",
       "    font-weight: normal;\n",
       "    line-height: 1.42857143;\n",
       "    text-align: center;\n",
       "    white-space: nowrap;\n",
       "    vertical-align: middle;\n",
       "    cursor: pointer;\n",
       "    -webkit-user-select: none;\n",
       "       -moz-user-select: none;\n",
       "        -ms-user-select: none;\n",
       "            user-select: none;\n",
       "    background-image: none;\n",
       "    border: 1px solid transparent;\n",
       "    border-radius: 4px;\n",
       "  }\n",
       "  .bbtn:focus,\n",
       "  .bbtn:active:focus,\n",
       "  .bbtn.active:focus {\n",
       "    outline: thin dotted;\n",
       "    outline: 5px auto -webkit-focus-ring-color;\n",
       "    outline-offset: -2px;\n",
       "  }\n",
       "  .bbtn:hover,\n",
       "  .bbtn:focus {\n",
       "    color: #333;\n",
       "    text-decoration: none;\n",
       "  }\n",
       "  .bbtn:active,\n",
       "  .bbtn.active {\n",
       "    background-image: none;\n",
       "    outline: 0;\n",
       "    -webkit-box-shadow: inset 0 3px 5px rgba(0, 0, 0, .125);\n",
       "            box-shadow: inset 0 3px 5px rgba(0, 0, 0, .125);\n",
       "  }\n",
       "  .bbtn.disabled,\n",
       "  .bbtn[disabled],\n",
       "  fieldset[disabled] .bbtn {  \n",
       "    pointer-events: none;\n",
       "    cursor: not-allowed;\n",
       "    filter: alpha(opacity=65);\n",
       "    -webkit-box-shadow: none;\n",
       "            box-shadow: none;\n",
       "    opacity: .65;\n",
       "  }\n",
       "  .bbtn-default {\n",
       "    color: #333;\n",
       "    background-color: #fff;\n",
       "    border-color: #ccc;\n",
       "  }\n",
       "  .bbtn-default:hover,\n",
       "  .bbtn-default:focus,\n",
       "  .bbtn-default:active,\n",
       "  .bbtn-default.active,\n",
       "  .open .dropdown-toggle.bbtn-default {\n",
       "    color: #333;\n",
       "    background-color: #ebebeb;\n",
       "    border-color: #adadad;\n",
       "  }\n",
       "  .bbtn-default:active,\n",
       "  .bbtn-default.active,\n",
       "  .open .dropdown-toggle.bbtn-default {\n",
       "    background-image: none;\n",
       "  }\n",
       "  .bbtn-default.disabled,\n",
       "  .bbtn-default[disabled],\n",
       "  fieldset[disabled] .bbtn-default,  \n",
       "  .bbtn-default.disabled:hover,\n",
       "  .bbtn-default[disabled]:hover,\n",
       "  fieldset[disabled] .bbtn-default:hover,  \n",
       "  .bbtn-default.disabled:focus,\n",
       "  .bbtn-default[disabled]:focus,\n",
       "  fieldset[disabled] .bbtn-default:focus,  \n",
       "  .bbtn-default.disabled:active,\n",
       "  .bbtn-default[disabled]:active,\n",
       "  fieldset[disabled] .bbtn-default:active,  \n",
       "  .bbtn-default.disabled.active,\n",
       "  .bbtn-default[disabled].active,\n",
       "  fieldset[disabled] .bbtn-default.active {  \n",
       "    background-color: #fff;\n",
       "    border-color: #ccc;\n",
       "  }\n",
       "  .bbtn-default .badge {\n",
       "    color: #fff;\n",
       "    background-color: #333;\n",
       "  }\n",
       "  .bbtn-primary {\n",
       "    color: #fff;\n",
       "    background-color: #428bca;\n",
       "    border-color: #357ebd;\n",
       "  }\n",
       "  .bbtn-primary:hover,\n",
       "  .bbtn-primary:focus,\n",
       "  .bbtn-primary:active,\n",
       "  .bbtn-primary.active,\n",
       "  .open .dropdown-toggle.bbtn-primary {\n",
       "    color: #fff;\n",
       "    background-color: #3276b1;\n",
       "    border-color: #285e8e;\n",
       "  }\n",
       "  .bbtn-primary:active,\n",
       "  .bbtn-primary.active,\n",
       "  .open .dropdown-toggle.bbtn-primary {\n",
       "    background-image: none;\n",
       "  }\n",
       "  .bbtn-primary.disabled,\n",
       "  .bbtn-primary[disabled],\n",
       "  fieldset[disabled] .bbtn-primary,  \n",
       "  .bbtn-primary.disabled:hover,\n",
       "  .bbtn-primary[disabled]:hover,\n",
       "  fieldset[disabled] .bbtn-primary:hover,  \n",
       "  .bbtn-primary.disabled:focus,\n",
       "  .bbtn-primary[disabled]:focus,\n",
       "  fieldset[disabled] .bbtn-primary:focus,  \n",
       "  .bbtn-primary.disabled:active,\n",
       "  .bbtn-primary[disabled]:active,\n",
       "  fieldset[disabled] .bbtn-primary:active,  \n",
       "  .bbtn-primary.disabled.active,\n",
       "  .bbtn-primary[disabled].active,\n",
       "  fieldset[disabled] .bbtn-primary.active {  \n",
       "    background-color: #428bca;\n",
       "    border-color: #357ebd;\n",
       "  }\n",
       "  .bbtn-primary .badge {\n",
       "    color: #428bca;\n",
       "    background-color: #fff;\n",
       "  }\n",
       "  .bbtn-success {\n",
       "    color: #fff;\n",
       "    background-color: #5cb85c;\n",
       "    border-color: #4cae4c;\n",
       "  }\n",
       "  .bbtn-success:hover,\n",
       "  .bbtn-success:focus,\n",
       "  .bbtn-success:active,\n",
       "  .bbtn-success.active,\n",
       "  .open .dropdown-toggle.bbtn-success {\n",
       "    color: #fff;\n",
       "    background-color: #47a447;\n",
       "    border-color: #398439;\n",
       "  }\n",
       "  .bbtn-success:active,\n",
       "  .bbtn-success.active,\n",
       "  .open .dropdown-toggle.bbtn-success {\n",
       "    background-image: none;\n",
       "  }\n",
       "  .bbtn-success.disabled,\n",
       "  .bbtn-success[disabled],\n",
       "  fieldset[disabled] .bbtn-success,  \n",
       "  .bbtn-success.disabled:hover,\n",
       "  .bbtn-success[disabled]:hover,\n",
       "  fieldset[disabled] .bbtn-success:hover,  \n",
       "  .bbtn-success.disabled:focus,\n",
       "  .bbtn-success[disabled]:focus,\n",
       "  fieldset[disabled] .bbtn-success:focus,  \n",
       "  .bbtn-success.disabled:active,\n",
       "  .bbtn-success[disabled]:active,\n",
       "  fieldset[disabled] .bbtn-success:active,  \n",
       "  .bbtn-success.disabled.active,\n",
       "  .bbtn-success[disabled].active,\n",
       "  fieldset[disabled] .bbtn-success.active {  \n",
       "    background-color: #5cb85c;\n",
       "    border-color: #4cae4c;\n",
       "  }\n",
       "  .bbtn-success .badge {\n",
       "    color: #5cb85c;\n",
       "    background-color: #fff;\n",
       "  }\n",
       "  .bbtn-info {\n",
       "    color: #fff;\n",
       "    background-color: #5bc0de;\n",
       "    border-color: #46b8da;\n",
       "  }\n",
       "  .bbtn-info:hover,\n",
       "  .bbtn-info:focus,\n",
       "  .bbtn-info:active,\n",
       "  .bbtn-info.active,\n",
       "  .open .dropdown-toggle.bbtn-info {\n",
       "    color: #fff;\n",
       "    background-color: #39b3d7;\n",
       "    border-color: #269abc;\n",
       "  }\n",
       "  .bbtn-info:active,\n",
       "  .bbtn-info.active,\n",
       "  .open .dropdown-toggle.bbtn-info {\n",
       "    background-image: none;\n",
       "  }\n",
       "  .bbtn-info.disabled,\n",
       "  .bbtn-info[disabled],\n",
       "  fieldset[disabled] .bbtn-info,  \n",
       "  .bbtn-info.disabled:hover,\n",
       "  .bbtn-info[disabled]:hover,\n",
       "  fieldset[disabled] .bbtn-info:hover,  \n",
       "  .bbtn-info.disabled:focus,\n",
       "  .bbtn-info[disabled]:focus,\n",
       "  fieldset[disabled] .bbtn-info:focus,  \n",
       "  .bbtn-info.disabled:active,\n",
       "  .bbtn-info[disabled]:active,\n",
       "  fieldset[disabled] .bbtn-info:active,  \n",
       "  .bbtn-info.disabled.active,\n",
       "  .bbtn-info[disabled].active,\n",
       "  fieldset[disabled] .bbtn-info.active {  \n",
       "    background-color: #5bc0de;\n",
       "    border-color: #46b8da;\n",
       "  }\n",
       "  .bbtn-info .badge {\n",
       "    color: #5bc0de;\n",
       "    background-color: #fff;\n",
       "  }\n",
       "  .bbtn-warning {\n",
       "    color: #fff;\n",
       "    background-color: #f0ad4e;\n",
       "    border-color: #eea236;\n",
       "  }\n",
       "  .bbtn-warning:hover,\n",
       "  .bbtn-warning:focus,\n",
       "  .bbtn-warning:active,\n",
       "  .bbtn-warning.active,\n",
       "  .open .dropdown-toggle.bbtn-warning {\n",
       "    color: #fff;\n",
       "    background-color: #ed9c28;\n",
       "    border-color: #d58512;\n",
       "  }\n",
       "  .bbtn-warning:active,\n",
       "  .bbtn-warning.active,\n",
       "  .open .dropdown-toggle.bbtn-warning {\n",
       "    background-image: none;\n",
       "  }\n",
       "  .bbtn-warning.disabled,\n",
       "  .bbtn-warning[disabled],\n",
       "  fieldset[disabled] .bbtn-warning,  \n",
       "  .bbtn-warning.disabled:hover,\n",
       "  .bbtn-warning[disabled]:hover,\n",
       "  fieldset[disabled] .bbtn-warning:hover,  \n",
       "  .bbtn-warning.disabled:focus,\n",
       "  .bbtn-warning[disabled]:focus,\n",
       "  fieldset[disabled] .bbtn-warning:focus,  \n",
       "  .bbtn-warning.disabled:active,\n",
       "  .bbtn-warning[disabled]:active,\n",
       "  fieldset[disabled] .bbtn-warning:active,  \n",
       "  .bbtn-warning.disabled.active,\n",
       "  .bbtn-warning[disabled].active,\n",
       "  fieldset[disabled] .bbtn-warning.active {  \n",
       "    background-color: #f0ad4e;\n",
       "    border-color: #eea236;\n",
       "  }\n",
       "  .bbtn-warning .badge {\n",
       "    color: #f0ad4e;\n",
       "    background-color: #fff;\n",
       "  }\n",
       "  .bbtn-danger {\n",
       "    color: #fff;\n",
       "    background-color: #d9534f;\n",
       "    border-color: #d43f3a;\n",
       "  }\n",
       "  .bbtn-danger:hover,\n",
       "  .bbtn-danger:focus,\n",
       "  .bbtn-danger:active,\n",
       "  .bbtn-danger.active,\n",
       "  .open .dropdown-toggle.bbtn-danger {\n",
       "    color: #fff;\n",
       "    background-color: #d2322d;\n",
       "    border-color: #ac2925;\n",
       "  }\n",
       "  .bbtn-danger:active,\n",
       "  .bbtn-danger.active,\n",
       "  .open .dropdown-toggle.bbtn-danger {\n",
       "    background-image: none;\n",
       "  }\n",
       "  .bbtn-danger.disabled,\n",
       "  .bbtn-danger[disabled],\n",
       "  fieldset[disabled] .bbtn-danger,  \n",
       "  .bbtn-danger.disabled:hover,\n",
       "  .bbtn-danger[disabled]:hover,\n",
       "  fieldset[disabled] .bbtn-danger:hover,  \n",
       "  .bbtn-danger.disabled:focus,\n",
       "  .bbtn-danger[disabled]:focus,\n",
       "  fieldset[disabled] .bbtn-danger:focus,  \n",
       "  .bbtn-danger.disabled:active,\n",
       "  .bbtn-danger[disabled]:active,\n",
       "  fieldset[disabled] .bbtn-danger:active,  \n",
       "  .bbtn-danger.disabled.active,\n",
       "  .bbtn-danger[disabled].active,\n",
       "  fieldset[disabled] .bbtn-danger.active {  \n",
       "    background-color: #d9534f;\n",
       "    border-color: #d43f3a;\n",
       "  }\n",
       "  .bbtn-danger .badge {\n",
       "    color: #d9534f;\n",
       "    background-color: #fff;\n",
       "  }\n",
       "  .bbtn-link {\n",
       "    font-weight: normal;\n",
       "    color: #428bca;\n",
       "    cursor: pointer;\n",
       "    border-radius: 0;\n",
       "  }\n",
       "  .bbtn-link,\n",
       "  .bbtn-link:active,\n",
       "  .bbtn-link[disabled],\n",
       "  fieldset[disabled] .bbtn-link {  \n",
       "    background-color: transparent;\n",
       "    -webkit-box-shadow: none;\n",
       "            box-shadow: none;\n",
       "  }\n",
       "  .bbtn-link,\n",
       "  .bbtn-link:hover,\n",
       "  .bbtn-link:focus,\n",
       "  .bbtn-link:active {\n",
       "    border-color: transparent;\n",
       "  }\n",
       "  .bbtn-link:hover,\n",
       "  .bbtn-link:focus {\n",
       "    color: #2a6496;\n",
       "    text-decoration: underline;\n",
       "    background-color: transparent;\n",
       "  }\n",
       "  .bbtn-link[disabled]:hover,\n",
       "  fieldset[disabled] .bbtn-link:hover,  \n",
       "  .bbtn-link[disabled]:focus,\n",
       "  fieldset[disabled] .bbtn-link:focus {  \n",
       "    color: #999;\n",
       "    text-decoration: none;\n",
       "  }\n",
       "  .bbtn-lg,\n",
       "  .bbtn-group-lg > .bbtn {\n",
       "    padding: 10px 16px;\n",
       "    font-size: 18px;\n",
       "    line-height: 1.33;\n",
       "    border-radius: 6px;\n",
       "  }\n",
       "  .bbtn-sm,\n",
       "  .bbtn-group-sm > .bbtn {\n",
       "    padding: 5px 10px;\n",
       "    font-size: 12px;\n",
       "    line-height: 1.5;\n",
       "    border-radius: 3px;\n",
       "  }\n",
       "  .bbtn-xs,\n",
       "  .bbtn-group-xs > .bbtn {\n",
       "    padding: 1px 5px;\n",
       "    font-size: 12px;\n",
       "    line-height: 1.5;\n",
       "    border-radius: 3px;\n",
       "  }\n",
       "  .bbtn-block {\n",
       "    display: block;\n",
       "    width: 100%;\n",
       "    padding-right: 0;\n",
       "    padding-left: 0;\n",
       "  }\n",
       "  .bbtn-block + .bbtn-block {\n",
       "    margin-top: 5px;\n",
       "  }\n",
       "  input[type=\"submit\"].bbtn-block,  \n",
       "  input[type=\"reset\"].bbtn-block,  \n",
       "  input[type=\"button\"].bbtn-block {  \n",
       "    width: 100%;\n",
       "  }\n",
       "  \n",
       "</style>\n",
       "\n",
       "<script>\n",
       "\n",
       "    \n",
       "'use strict';\n",
       "\n",
       "console.log('start main');\n",
       "\n",
       "var initShow = ('True' == 'True');\n",
       "var delayToggle = 0;\n",
       "window.codeVisible = initShow;\n",
       "\n",
       "console.log('initShow=' + initShow);\n",
       "console.log('delayToggle=' + delayToggle);\n",
       "\n",
       "\n",
       "window.hideCodeCells = function () {\n",
       "\t$('div.input').hide(delayToggle);\n",
       "\n",
       "\t// hide input prompts\n",
       "\t$('div.prompt.input_prompt').delay(delayToggle).css('visibility', 'hidden');\n",
       "\n",
       "\t// hide output prompts\n",
       "\t$('div.prompt.output_prompt').delay(delayToggle).css('visibility', 'hidden');\n",
       "\t$('div.out_prompt_overlay.prompt').delay(delayToggle).css('visibility', 'hidden');\n",
       "\n",
       "\t// reduce left margin as prompts hidden\n",
       "\t$('.prompt').css('min-width', '3%');\n",
       "\t$('.prompt').css('width', '3%');\n",
       "\n",
       "\t// hide toolbars\n",
       "\t$('#maintoolbar-container').delay(delayToggle).css('display', 'none');\n",
       "\t$('#header-container').delay(delayToggle).css('display', 'none');\n",
       "\n",
       "\t// hide header\n",
       "\t// $('div#header').delay(delayToggle).css('display', 'none');\n",
       "\n",
       "\t// hide selected outline\n",
       "\t$('.cell.code_cell.rendered.selected').toggleClass('selected');\n",
       "};\n",
       "\n",
       "window.showCodeCells = function () {\n",
       "\t$('div.input').show(delayToggle);\n",
       "\n",
       "\t// show input prompts\n",
       "\t$('div.prompt.input_prompt').delay(delayToggle).css('visibility', 'visible');\n",
       "\n",
       "\t// show output prompts\n",
       "\t$('div.prompt.output_prompt').delay(delayToggle).css('visibility', 'visible');\n",
       "\t$('div.out_prompt_overlay.prompt').delay(delayToggle).css('visibility', 'visible');\n",
       "\n",
       "\t// left margin back to normal\n",
       "\t$('.prompt').css('min-width', '14ex');\n",
       "\n",
       "\t// show toolbars\n",
       "\t$('#maintoolbar-container').delay(delayToggle).css('display', '');\n",
       "\t$('#header-container').delay(delayToggle).css('display', '');\n",
       "\n",
       "\t// show header\n",
       "\t// $('div#header').delay(delayToggle).css('display', '');\n",
       "};\n",
       "\n",
       "\n",
       "window.setButtonToShow = function () {\n",
       "\t$('#toggleButton').val('Show Code');\n",
       "\t$('#toggleButton').removeClass('btn-primary');\n",
       "};\n",
       "\n",
       "window.setButtonToHide = function () {\n",
       "\t$('#toggleButton').val('Hide Code');\n",
       "\t$('#toggleButton').addClass('btn-primary');\n",
       "}\n",
       "\n",
       "window.toggleCodeCellsNotebook = function () {\n",
       "\tif (window.codeVisible) {\n",
       "\t\twindow.hideCodeCells();\n",
       "\t\twindow.setButtonToShow();\n",
       "\t} else {\n",
       "\t\twindow.showCodeCells();\n",
       "\t\twindow.setButtonToHide();\n",
       "\t}\n",
       "\twindow.codeVisible = !window.codeVisible;\n",
       "};\n",
       "\n",
       "\n",
       "window.toggleCodeCellsNbviewer = function () {\n",
       "\tif (window.codeVisible) {\n",
       "\t\twindow.hideCodeCells();\n",
       "\t} else {\n",
       "\t\twindow.showCodeCells();\n",
       "\t}\n",
       "\twindow.codeVisible = !window.codeVisible;\n",
       "};\n",
       "\n",
       "\n",
       "\n",
       "var htmlNotebook = `\n",
       "<form action=\"javascript:toggleCodeCellsNotebook()\">\n",
       "\t<input type=\"submit\" id=\"toggleButton\" value=\"Hide Code\" class=\"bbtn\">\n",
       "</form>\n",
       "`;\n",
       "\n",
       "\n",
       "var htmlNbviewer = `\n",
       "<li>\n",
       "  <a href=\"javascript:window.toggleCodeCellsNbviewer()\" title=\"Show/Hide Code\">\n",
       "\t<span class=\"fa fa-cog fa-2x menu-icon\"></span>\n",
       "\t<span class=\"menu-text\">Show/Hide Code</span>\n",
       "  </a>\n",
       "</li>\n",
       "`;\n",
       "\n",
       "\n",
       "\n",
       "require([\n",
       "\t'jquery',\n",
       "\t'base/js/events',\n",
       "\t'base/js/namespace',\n",
       "\t'base/js/promises'\n",
       "], function (\n",
       "\t$,\n",
       "\tevents,\n",
       "\tJupyter,\n",
       "\tpromises\n",
       ") {\n",
       "\tpromises.app_initialized.then(function (appname) {\n",
       "\t\tif (appname === 'NotebookApp') {\n",
       "\t\t\tconsole.log('code cell toggle: notebook mode');\n",
       "\t\t\t$(htmlNotebook).appendTo('#anchor-div');\n",
       "\t\t\tif (window.codeVisible) {\n",
       "\t\t\t\twindow.showCodeCells();\n",
       "\t\t\t\twindow.setButtonToHide();\n",
       "\t\t\t}\n",
       "\t\t\telse {\n",
       "\t\t\t\twindow.hideCodeCells();\n",
       "\t\t\t\twindow.setButtonToShow();\n",
       "\n",
       "\t\t\t}\n",
       "\t\t}\n",
       "\t});\n",
       "});\n",
       "\n",
       "\n",
       "$(document).ready(function () {\n",
       "\tif ($('body.nbviewer').length) {\n",
       "\t\tconsole.log('code cell toggle: nbviewer mode');\n",
       "\t\t$(htmlNbviewer).appendTo('.navbar-right');\n",
       "\t\tif (window.codeVisible) {\n",
       "\t\t\twindow.showCodeCells();\n",
       "\t\t}\n",
       "\t\telse {\n",
       "\t\t\twindow.hideCodeCells();\n",
       "\t\t}\n",
       "\t}\n",
       "\n",
       "});\n",
       "\n",
       "console.log('end main');\n",
       "\n",
       "</script>"
      ],
      "text/plain": [
       "<IPython.core.display.HTML object>"
      ]
     },
     "metadata": {},
     "output_type": "display_data"
    },
    {
     "data": {
      "application/vnd.jupyter.widget-view+json": {
       "model_id": "750edd09cc8b45c2b8cbae802c853f1e",
       "version_major": 2,
       "version_minor": 0
      },
      "text/plain": [
       "Tab(children=(VBox(children=(VBox(children=(HBox(children=(VBox(children=(HBox(children=(Button(button_style='…"
      ]
     },
     "metadata": {},
     "output_type": "display_data"
    }
   ],
   "source": [
    "from mastermind import MastermindNotebook\n",
    "game = MastermindNotebook()"
   ]
  },
  {
   "cell_type": "code",
   "execution_count": 4,
   "metadata": {},
   "outputs": [],
   "source": [
    "import ipywidgets as wd\n",
    "from IPython.display import display\n",
    "from notebook_toggle_code import ToggleCode\n"
   ]
  },
  {
   "cell_type": "code",
   "execution_count": 7,
   "metadata": {},
   "outputs": [
    {
     "data": {
      "application/vnd.jupyter.widget-view+json": {
       "model_id": "a8663ed1eae84040834a47b764561930",
       "version_major": 2,
       "version_minor": 0
      },
      "text/plain": [
       "Button(description='Click Me!', style=ButtonStyle())"
      ]
     },
     "metadata": {},
     "output_type": "display_data"
    },
    {
     "data": {
      "application/vnd.jupyter.widget-view+json": {
       "model_id": "4e32664e388c478eaf0286915fc5ef6a",
       "version_major": 2,
       "version_minor": 0
      },
      "text/plain": [
       "Output()"
      ]
     },
     "metadata": {},
     "output_type": "display_data"
    }
   ],
   "source": [
    "from IPython.display import display\n",
    "button = wd.Button(description=\"Click Me!\")\n",
    "output = wd.Output()\n",
    "\n",
    "display(button, output)\n",
    "\n",
    "def on_button_clicked(b):\n",
    "    with output:\n",
    "        print(\"Button clicked.\")\n",
    "\n",
    "button.on_click(on_button_clicked)"
   ]
  },
  {
   "cell_type": "code",
   "execution_count": 9,
   "metadata": {},
   "outputs": [
    {
     "data": {
      "application/vnd.jupyter.widget-view+json": {
       "model_id": "14a1c6a93f37443f8f57fd488ddfc378",
       "version_major": 2,
       "version_minor": 0
      },
      "text/plain": [
       "IntSlider(value=0)"
      ]
     },
     "metadata": {},
     "output_type": "display_data"
    },
    {
     "data": {
      "application/vnd.jupyter.widget-view+json": {
       "model_id": "aa864850189f4cccaa8c0af34bf3e3bf",
       "version_major": 2,
       "version_minor": 0
      },
      "text/plain": [
       "Output()"
      ]
     },
     "metadata": {},
     "output_type": "display_data"
    }
   ],
   "source": [
    "int_range = wd.IntSlider()\n",
    "output2 = wd.Output()\n",
    "\n",
    "display(int_range, output2)\n",
    "\n",
    "def on_value_change(change):\n",
    "    with output2:\n",
    "        print(change['new'])\n",
    "\n",
    "int_range.observe(on_value_change, names='value')"
   ]
  },
  {
   "cell_type": "code",
   "execution_count": null,
   "metadata": {},
   "outputs": [],
   "source": []
  }
 ],
 "metadata": {
  "kernelspec": {
   "display_name": "Python 3",
   "language": "python",
   "name": "python3"
  },
  "language_info": {
   "codemirror_mode": {
    "name": "ipython",
    "version": 3
   },
   "file_extension": ".py",
   "mimetype": "text/x-python",
   "name": "python",
   "nbconvert_exporter": "python",
   "pygments_lexer": "ipython3",
   "version": "3.8.3"
  },
  "widgets": {
   "application/vnd.jupyter.widget-state+json": {
    "state": {
     "021ef15097f4437fb88ce77b6eb9fb63": {
      "model_module": "@jupyter-widgets/base",
      "model_module_version": "1.2.0",
      "model_name": "LayoutModel",
      "state": {}
     },
     "03ea79481b18404282759eb4ed13e3f7": {
      "model_module": "@jupyter-widgets/base",
      "model_module_version": "1.2.0",
      "model_name": "LayoutModel",
      "state": {
       "margin": "20px 0px 0px 0px"
      }
     },
     "0523219bfd5647ee93b999a95c52b545": {
      "model_module": "@jupyter-widgets/controls",
      "model_module_version": "1.5.0",
      "model_name": "ButtonStyleModel",
      "state": {}
     },
     "0a3d4e41c6c6444894e46ddb99061182": {
      "model_module": "@jupyter-widgets/base",
      "model_module_version": "1.2.0",
      "model_name": "LayoutModel",
      "state": {}
     },
     "0a92423b018c4415af2c460476822514": {
      "model_module": "@jupyter-widgets/controls",
      "model_module_version": "1.5.0",
      "model_name": "ButtonModel",
      "state": {
       "description": "Turn 1 - Well placed: 2 \n - Misplaced: 0",
       "disabled": true,
       "icon": "hashtag",
       "layout": "IPY_MODEL_3d4bbbec3cc84b44b36ad5e57535c714",
       "style": "IPY_MODEL_816b568309f14c8fb4b5d0300c063d9f"
      }
     },
     "119684ace9394d0ea7c7db05b5184d79": {
      "model_module": "@jupyter-widgets/base",
      "model_module_version": "1.2.0",
      "model_name": "LayoutModel",
      "state": {}
     },
     "14a1c6a93f37443f8f57fd488ddfc378": {
      "model_module": "@jupyter-widgets/controls",
      "model_module_version": "1.5.0",
      "model_name": "IntSliderModel",
      "state": {
       "layout": "IPY_MODEL_7ec34955be9946a1ac5b2a0d2ca4a27b",
       "style": "IPY_MODEL_547fea3d17414bb5a48493f0ad1418f0",
       "value": 2
      }
     },
     "1509247916d74aa5b2548eabaf62180c": {
      "model_module": "@jupyter-widgets/base",
      "model_module_version": "1.2.0",
      "model_name": "LayoutModel",
      "state": {}
     },
     "15209700c3444c578f17d5b5dd627f77": {
      "model_module": "@jupyter-widgets/controls",
      "model_module_version": "1.5.0",
      "model_name": "ButtonModel",
      "state": {
       "description": "Turn 2 - Well placed: 1 \n - Misplaced: 1",
       "disabled": true,
       "icon": "hashtag",
       "layout": "IPY_MODEL_32b849809a764c0fb12a5ee70058fb8d",
       "style": "IPY_MODEL_3ccf54afc2ed4c92b2ff6bdd80a88314"
      }
     },
     "1cced2fc002a41fe8435cd37d51d99b0": {
      "model_module": "@jupyter-widgets/controls",
      "model_module_version": "1.5.0",
      "model_name": "ButtonStyleModel",
      "state": {
       "button_color": "#4B4A4E"
      }
     },
     "1d23938d17354f2ea30fd2aeb11f948c": {
      "model_module": "@jupyter-widgets/base",
      "model_module_version": "1.2.0",
      "model_name": "LayoutModel",
      "state": {}
     },
     "244152671f3a4e07955b03047533a3c1": {
      "model_module": "@jupyter-widgets/base",
      "model_module_version": "1.2.0",
      "model_name": "LayoutModel",
      "state": {}
     },
     "2b99b4d166254ee4bb169e2f06eba044": {
      "model_module": "@jupyter-widgets/base",
      "model_module_version": "1.2.0",
      "model_name": "LayoutModel",
      "state": {}
     },
     "2c45664d4f484b0a8fb80856beb31ec3": {
      "model_module": "@jupyter-widgets/base",
      "model_module_version": "1.2.0",
      "model_name": "LayoutModel",
      "state": {}
     },
     "2c6c91f3b1434122bd250919f99c6b23": {
      "model_module": "@jupyter-widgets/controls",
      "model_module_version": "1.5.0",
      "model_name": "DropdownModel",
      "state": {
       "_options_labels": [
        "",
        "Orange",
        "Red",
        "Blue",
        "Green"
       ],
       "index": 0,
       "layout": "IPY_MODEL_56a5a90ce05448eeafd6e258bb4577d3",
       "style": "IPY_MODEL_8c0612a79c5140be9596514df9efad54"
      }
     },
     "3027b80de76c470084648149073d0d80": {
      "model_module": "@jupyter-widgets/controls",
      "model_module_version": "1.5.0",
      "model_name": "HBoxModel",
      "state": {
       "children": [
        "IPY_MODEL_7a7ec2ea33794542a6956ee50872e29e",
        "IPY_MODEL_8ced327828a0444a97db05043982277d",
        "IPY_MODEL_c12d1074716b48d6a9bf3de102792735",
        "IPY_MODEL_a84783b1b69744b8a176f5d633cacec5",
        "IPY_MODEL_0a92423b018c4415af2c460476822514"
       ],
       "layout": "IPY_MODEL_93d26823644c464eaecfc8b086877f0c"
      }
     },
     "32b849809a764c0fb12a5ee70058fb8d": {
      "model_module": "@jupyter-widgets/base",
      "model_module_version": "1.2.0",
      "model_name": "LayoutModel",
      "state": {
       "margin": "0px 0px 0px 50px",
       "width": "auto"
      }
     },
     "32cb0d958b0f48b984532f77c53c8257": {
      "model_module": "@jupyter-widgets/controls",
      "model_module_version": "1.5.0",
      "model_name": "ButtonStyleModel",
      "state": {
       "button_color": "#4B4A4E"
      }
     },
     "369c8da4194f4f3f8309ea2361222b86": {
      "model_module": "@jupyter-widgets/controls",
      "model_module_version": "1.5.0",
      "model_name": "ButtonModel",
      "state": {
       "button_style": "primary",
       "disabled": true,
       "icon": "user-o",
       "layout": "IPY_MODEL_0a3d4e41c6c6444894e46ddb99061182",
       "style": "IPY_MODEL_ff190c8fb19b4e4c8bb65fa05e73b139"
      }
     },
     "3ccf54afc2ed4c92b2ff6bdd80a88314": {
      "model_module": "@jupyter-widgets/controls",
      "model_module_version": "1.5.0",
      "model_name": "ButtonStyleModel",
      "state": {}
     },
     "3d4bbbec3cc84b44b36ad5e57535c714": {
      "model_module": "@jupyter-widgets/base",
      "model_module_version": "1.2.0",
      "model_name": "LayoutModel",
      "state": {
       "margin": "0px 0px 0px 50px",
       "width": "auto"
      }
     },
     "419d55d00e0a4ee495c5f058af946822": {
      "model_module": "@jupyter-widgets/controls",
      "model_module_version": "1.5.0",
      "model_name": "DescriptionStyleModel",
      "state": {
       "description_width": ""
      }
     },
     "41f6b6d5580147f9abbae6cccbabaf03": {
      "model_module": "@jupyter-widgets/controls",
      "model_module_version": "1.5.0",
      "model_name": "VBoxModel",
      "state": {
       "children": [
        "IPY_MODEL_84e852381f2441c0b13354671d4dbe48",
        "IPY_MODEL_4a6c4948ca404e768b198a88332edd90",
        "IPY_MODEL_a5f9c669a5c54dcca9dd6ab8e8a60a8e"
       ],
       "layout": "IPY_MODEL_244152671f3a4e07955b03047533a3c1"
      }
     },
     "4733389cad6f43068ae1789ce60f95d8": {
      "model_module": "@jupyter-widgets/base",
      "model_module_version": "1.2.0",
      "model_name": "LayoutModel",
      "state": {}
     },
     "49c649136d554ed1b6dd1a7eb5718efa": {
      "model_module": "@jupyter-widgets/controls",
      "model_module_version": "1.5.0",
      "model_name": "ButtonModel",
      "state": {
       "button_style": "warning",
       "disabled": true,
       "icon": "user-o",
       "layout": "IPY_MODEL_4b2318359f12460eaaa346f684c1854a",
       "style": "IPY_MODEL_894ce8804e084ccc905989aaeb10cf53"
      }
     },
     "4a6c4948ca404e768b198a88332edd90": {
      "model_module": "@jupyter-widgets/controls",
      "model_module_version": "1.5.0",
      "model_name": "HBoxModel",
      "state": {
       "children": [
        "IPY_MODEL_81eff00bb6624a69828b581b4ee8f2a7",
        "IPY_MODEL_fefb10d545f34cd2a56b7d8d8b07080b"
       ],
       "layout": "IPY_MODEL_9b8419ef0bbf4a2bbaafb73ce5067959"
      }
     },
     "4b2318359f12460eaaa346f684c1854a": {
      "model_module": "@jupyter-widgets/base",
      "model_module_version": "1.2.0",
      "model_name": "LayoutModel",
      "state": {}
     },
     "4b51664216294b2eb37215d810a31d91": {
      "model_module": "@jupyter-widgets/base",
      "model_module_version": "1.2.0",
      "model_name": "LayoutModel",
      "state": {}
     },
     "4b6d5d1c45444a6bb0dcbff7b7998568": {
      "model_module": "@jupyter-widgets/controls",
      "model_module_version": "1.5.0",
      "model_name": "ButtonModel",
      "state": {
       "button_style": "primary",
       "disabled": true,
       "icon": "question",
       "layout": "IPY_MODEL_4c981cfcaa804b7da59227797d49bf6f",
       "style": "IPY_MODEL_32cb0d958b0f48b984532f77c53c8257"
      }
     },
     "4c981cfcaa804b7da59227797d49bf6f": {
      "model_module": "@jupyter-widgets/base",
      "model_module_version": "1.2.0",
      "model_name": "LayoutModel",
      "state": {}
     },
     "4e06acdd85f24f4582f8bc90d527a4b0": {
      "model_module": "@jupyter-widgets/base",
      "model_module_version": "1.2.0",
      "model_name": "LayoutModel",
      "state": {}
     },
     "4e32664e388c478eaf0286915fc5ef6a": {
      "model_module": "@jupyter-widgets/output",
      "model_module_version": "1.0.0",
      "model_name": "OutputModel",
      "state": {
       "layout": "IPY_MODEL_d17fd817a3cf4e7c9b016ec44f71b3ee",
       "outputs": [
        {
         "name": "stdout",
         "output_type": "stream",
         "text": "Button clicked.\nButton clicked.\nButton clicked.\nButton clicked.\nButton clicked.\nButton clicked.\nButton clicked.\n"
        }
       ]
      }
     },
     "4eff05d5dc424ea18c254426ea01d7a4": {
      "model_module": "@jupyter-widgets/base",
      "model_module_version": "1.2.0",
      "model_name": "LayoutModel",
      "state": {
       "margin": "2px 0px 0px 50px",
       "width": "252px"
      }
     },
     "50759296b0534156a21f63247f44fba6": {
      "model_module": "@jupyter-widgets/controls",
      "model_module_version": "1.5.0",
      "model_name": "ButtonModel",
      "state": {
       "disabled": true,
       "icon": "arrow-up",
       "layout": "IPY_MODEL_4e06acdd85f24f4582f8bc90d527a4b0",
       "style": "IPY_MODEL_93251eee865649fdbc6d540e55423447"
      }
     },
     "528f03d58919466d914b3847bde6fad2": {
      "model_module": "@jupyter-widgets/controls",
      "model_module_version": "1.5.0",
      "model_name": "ButtonModel",
      "state": {
       "disabled": true,
       "icon": "arrow-up",
       "layout": "IPY_MODEL_7c0d458c40464ffeb9060b4d52d872fb",
       "style": "IPY_MODEL_990b352f3a704b4183055c316156b9ff"
      }
     },
     "547fea3d17414bb5a48493f0ad1418f0": {
      "model_module": "@jupyter-widgets/controls",
      "model_module_version": "1.5.0",
      "model_name": "SliderStyleModel",
      "state": {
       "description_width": ""
      }
     },
     "56a2bb09685a4e79bd2245afb19b6fe4": {
      "model_module": "@jupyter-widgets/base",
      "model_module_version": "1.2.0",
      "model_name": "LayoutModel",
      "state": {}
     },
     "56a5a90ce05448eeafd6e258bb4577d3": {
      "model_module": "@jupyter-widgets/base",
      "model_module_version": "1.2.0",
      "model_name": "LayoutModel",
      "state": {
       "width": "148px"
      }
     },
     "59118767686d45c99f8ba73ff8f900d4": {
      "model_module": "@jupyter-widgets/controls",
      "model_module_version": "1.5.0",
      "model_name": "ButtonStyleModel",
      "state": {
       "button_color": "#4B4A4E"
      }
     },
     "591dcf92897b4166b7f8416b6818d37b": {
      "model_module": "@jupyter-widgets/controls",
      "model_module_version": "1.5.0",
      "model_name": "ButtonStyleModel",
      "state": {
       "button_color": "#4B4A4E"
      }
     },
     "5a4c21fd0f5b4bdfa58080a16f4ffa0d": {
      "model_module": "@jupyter-widgets/controls",
      "model_module_version": "1.5.0",
      "model_name": "ButtonModel",
      "state": {
       "button_style": "warning",
       "disabled": true,
       "icon": "user-o",
       "layout": "IPY_MODEL_b0c1d520421d40519e06c6a47855b6cf",
       "style": "IPY_MODEL_f1d83bf19a6b49058b4067881523f0cf"
      }
     },
     "6061efc524444c70bdd36b0cc17ae8b2": {
      "model_module": "@jupyter-widgets/controls",
      "model_module_version": "1.5.0",
      "model_name": "ButtonStyleModel",
      "state": {}
     },
     "6dff6352e31b4889850c8c0a66059e9d": {
      "model_module": "@jupyter-widgets/controls",
      "model_module_version": "1.5.0",
      "model_name": "HBoxModel",
      "state": {
       "children": [
        "IPY_MODEL_998784d568bd4a529ad6abd5c1115527",
        "IPY_MODEL_4b6d5d1c45444a6bb0dcbff7b7998568",
        "IPY_MODEL_b6e0ceb5331b40e8b8d3bc03be5fdd8d",
        "IPY_MODEL_6e8ad75b80214818adbeecf04c7870e1"
       ],
       "layout": "IPY_MODEL_95c743fede5441789bfe1c2224fdb621"
      }
     },
     "6e8ad75b80214818adbeecf04c7870e1": {
      "model_module": "@jupyter-widgets/controls",
      "model_module_version": "1.5.0",
      "model_name": "ButtonModel",
      "state": {
       "button_style": "primary",
       "disabled": true,
       "icon": "question",
       "layout": "IPY_MODEL_9971207a6da04151a8e0fa07fdb176f4",
       "style": "IPY_MODEL_591dcf92897b4166b7f8416b6818d37b"
      }
     },
     "70890e4eb232468dbc7d618121570066": {
      "model_module": "@jupyter-widgets/base",
      "model_module_version": "1.2.0",
      "model_name": "LayoutModel",
      "state": {
       "width": "148px"
      }
     },
     "750edd09cc8b45c2b8cbae802c853f1e": {
      "model_module": "@jupyter-widgets/controls",
      "model_module_version": "1.5.0",
      "model_name": "TabModel",
      "state": {
       "_titles": {
        "0": "Mastermind"
       },
       "children": [
        "IPY_MODEL_41f6b6d5580147f9abbae6cccbabaf03"
       ],
       "layout": "IPY_MODEL_4b51664216294b2eb37215d810a31d91"
      }
     },
     "75ad3708576646c49a1b3fa36a69b783": {
      "model_module": "@jupyter-widgets/controls",
      "model_module_version": "1.5.0",
      "model_name": "ButtonStyleModel",
      "state": {
       "button_color": "white"
      }
     },
     "7a7ec2ea33794542a6956ee50872e29e": {
      "model_module": "@jupyter-widgets/controls",
      "model_module_version": "1.5.0",
      "model_name": "ButtonModel",
      "state": {
       "button_style": "warning",
       "disabled": true,
       "icon": "user-o",
       "layout": "IPY_MODEL_4733389cad6f43068ae1789ce60f95d8",
       "style": "IPY_MODEL_fe8f528abed64ca3a2f42cdb755b4276"
      }
     },
     "7ae739fe021f42a59250a9563def5be0": {
      "model_module": "@jupyter-widgets/controls",
      "model_module_version": "1.5.0",
      "model_name": "HBoxModel",
      "state": {
       "children": [
        "IPY_MODEL_fd858bde0eac43379b884bd212171a79",
        "IPY_MODEL_49c649136d554ed1b6dd1a7eb5718efa",
        "IPY_MODEL_369c8da4194f4f3f8309ea2361222b86",
        "IPY_MODEL_5a4c21fd0f5b4bdfa58080a16f4ffa0d",
        "IPY_MODEL_15209700c3444c578f17d5b5dd627f77"
       ],
       "layout": "IPY_MODEL_021ef15097f4437fb88ce77b6eb9fb63"
      }
     },
     "7c0d458c40464ffeb9060b4d52d872fb": {
      "model_module": "@jupyter-widgets/base",
      "model_module_version": "1.2.0",
      "model_name": "LayoutModel",
      "state": {}
     },
     "7ec34955be9946a1ac5b2a0d2ca4a27b": {
      "model_module": "@jupyter-widgets/base",
      "model_module_version": "1.2.0",
      "model_name": "LayoutModel",
      "state": {}
     },
     "805cc8c75b424a5d892b6892674b852e": {
      "model_module": "@jupyter-widgets/base",
      "model_module_version": "1.2.0",
      "model_name": "LayoutModel",
      "state": {}
     },
     "816b568309f14c8fb4b5d0300c063d9f": {
      "model_module": "@jupyter-widgets/controls",
      "model_module_version": "1.5.0",
      "model_name": "ButtonStyleModel",
      "state": {}
     },
     "81eff00bb6624a69828b581b4ee8f2a7": {
      "model_module": "@jupyter-widgets/controls",
      "model_module_version": "1.5.0",
      "model_name": "HBoxModel",
      "state": {
       "children": [
        "IPY_MODEL_fd06776eb5514cddadbc04ec614cbf35",
        "IPY_MODEL_b3314588539d402ab4280c3a6b68e779",
        "IPY_MODEL_2c6c91f3b1434122bd250919f99c6b23",
        "IPY_MODEL_cc5f6c31716d4cb9a35ae5a1369ce96e"
       ],
       "layout": "IPY_MODEL_e79ee4f5726a4eb2874bb6b6ad4511ca"
      }
     },
     "835c4698973c4a449dc683f69241df43": {
      "model_module": "@jupyter-widgets/base",
      "model_module_version": "1.2.0",
      "model_name": "LayoutModel",
      "state": {
       "margin": "0px 0px 0px 20px"
      }
     },
     "84e852381f2441c0b13354671d4dbe48": {
      "model_module": "@jupyter-widgets/controls",
      "model_module_version": "1.5.0",
      "model_name": "VBoxModel",
      "state": {
       "children": [
        "IPY_MODEL_bf8c313ef4624a41ab20c883415b9d6d",
        "IPY_MODEL_7ae739fe021f42a59250a9563def5be0",
        "IPY_MODEL_3027b80de76c470084648149073d0d80"
       ],
       "layout": "IPY_MODEL_03ea79481b18404282759eb4ed13e3f7"
      }
     },
     "853fbcc05d504e62a850bba7f3b2a082": {
      "model_module": "@jupyter-widgets/base",
      "model_module_version": "1.2.0",
      "model_name": "LayoutModel",
      "state": {}
     },
     "87b1ac652fcf4854894ab507f8c3cf71": {
      "model_module": "@jupyter-widgets/controls",
      "model_module_version": "1.5.0",
      "model_name": "ButtonModel",
      "state": {
       "description": "New game",
       "icon": "refresh",
       "layout": "IPY_MODEL_835c4698973c4a449dc683f69241df43",
       "style": "IPY_MODEL_0523219bfd5647ee93b999a95c52b545"
      }
     },
     "894ce8804e084ccc905989aaeb10cf53": {
      "model_module": "@jupyter-widgets/controls",
      "model_module_version": "1.5.0",
      "model_name": "ButtonStyleModel",
      "state": {}
     },
     "896d02c8b4f44a75accd49535bbd7602": {
      "model_module": "@jupyter-widgets/controls",
      "model_module_version": "1.5.0",
      "model_name": "ButtonStyleModel",
      "state": {}
     },
     "8b05289e469743cd81a94ae1704b3e0a": {
      "model_module": "@jupyter-widgets/base",
      "model_module_version": "1.2.0",
      "model_name": "LayoutModel",
      "state": {
       "margin": "0px 0px 20px 0px"
      }
     },
     "8c0612a79c5140be9596514df9efad54": {
      "model_module": "@jupyter-widgets/controls",
      "model_module_version": "1.5.0",
      "model_name": "DescriptionStyleModel",
      "state": {
       "description_width": ""
      }
     },
     "8ced327828a0444a97db05043982277d": {
      "model_module": "@jupyter-widgets/controls",
      "model_module_version": "1.5.0",
      "model_name": "ButtonModel",
      "state": {
       "button_style": "warning",
       "disabled": true,
       "icon": "user-o",
       "layout": "IPY_MODEL_1509247916d74aa5b2548eabaf62180c",
       "style": "IPY_MODEL_d4b7d7edfe9447fc9b187f76fed3a6c5"
      }
     },
     "93251eee865649fdbc6d540e55423447": {
      "model_module": "@jupyter-widgets/controls",
      "model_module_version": "1.5.0",
      "model_name": "ButtonStyleModel",
      "state": {
       "button_color": "white"
      }
     },
     "93d26823644c464eaecfc8b086877f0c": {
      "model_module": "@jupyter-widgets/base",
      "model_module_version": "1.2.0",
      "model_name": "LayoutModel",
      "state": {}
     },
     "9484a4ea9967465ba2d15a89ec99b54e": {
      "model_module": "@jupyter-widgets/controls",
      "model_module_version": "1.5.0",
      "model_name": "VBoxModel",
      "state": {
       "children": [
        "IPY_MODEL_6dff6352e31b4889850c8c0a66059e9d",
        "IPY_MODEL_9d417b774b584de295294f964a32b8fe"
       ],
       "layout": "IPY_MODEL_805cc8c75b424a5d892b6892674b852e"
      }
     },
     "9519785d0fd243bdad64e8b7596785da": {
      "model_module": "@jupyter-widgets/base",
      "model_module_version": "1.2.0",
      "model_name": "LayoutModel",
      "state": {}
     },
     "95c743fede5441789bfe1c2224fdb621": {
      "model_module": "@jupyter-widgets/base",
      "model_module_version": "1.2.0",
      "model_name": "LayoutModel",
      "state": {
       "margin": "20px 0px 0px 0px"
      }
     },
     "96c88988269848b7a0a642eae1d4a0db": {
      "model_module": "@jupyter-widgets/base",
      "model_module_version": "1.2.0",
      "model_name": "LayoutModel",
      "state": {
       "width": "148px"
      }
     },
     "990b352f3a704b4183055c316156b9ff": {
      "model_module": "@jupyter-widgets/controls",
      "model_module_version": "1.5.0",
      "model_name": "ButtonStyleModel",
      "state": {
       "button_color": "white"
      }
     },
     "9971207a6da04151a8e0fa07fdb176f4": {
      "model_module": "@jupyter-widgets/base",
      "model_module_version": "1.2.0",
      "model_name": "LayoutModel",
      "state": {}
     },
     "998784d568bd4a529ad6abd5c1115527": {
      "model_module": "@jupyter-widgets/controls",
      "model_module_version": "1.5.0",
      "model_name": "ButtonModel",
      "state": {
       "button_style": "primary",
       "disabled": true,
       "icon": "question",
       "layout": "IPY_MODEL_2b99b4d166254ee4bb169e2f06eba044",
       "style": "IPY_MODEL_bed2854877064ef68acfd95fc402e693"
      }
     },
     "9ab1e1f3c42249f8ab50d646401ddc62": {
      "model_module": "@jupyter-widgets/controls",
      "model_module_version": "1.5.0",
      "model_name": "ButtonModel",
      "state": {
       "button_style": "primary",
       "disabled": true,
       "icon": "question",
       "layout": "IPY_MODEL_c48b7374e1c84445a71dbb892121612e",
       "style": "IPY_MODEL_59118767686d45c99f8ba73ff8f900d4"
      }
     },
     "9b8419ef0bbf4a2bbaafb73ce5067959": {
      "model_module": "@jupyter-widgets/base",
      "model_module_version": "1.2.0",
      "model_name": "LayoutModel",
      "state": {
       "margin": "20px 0px 20px 0px"
      }
     },
     "9d417b774b584de295294f964a32b8fe": {
      "model_module": "@jupyter-widgets/controls",
      "model_module_version": "1.5.0",
      "model_name": "HBoxModel",
      "state": {
       "children": [
        "IPY_MODEL_528f03d58919466d914b3847bde6fad2",
        "IPY_MODEL_cdf27c84195f4d26a521c228d74dc6e3",
        "IPY_MODEL_a488b0d665e64fe1aa2400769d3067fc",
        "IPY_MODEL_50759296b0534156a21f63247f44fba6"
       ],
       "layout": "IPY_MODEL_56a2bb09685a4e79bd2245afb19b6fe4"
      }
     },
     "a488b0d665e64fe1aa2400769d3067fc": {
      "model_module": "@jupyter-widgets/controls",
      "model_module_version": "1.5.0",
      "model_name": "ButtonModel",
      "state": {
       "disabled": true,
       "icon": "arrow-up",
       "layout": "IPY_MODEL_9519785d0fd243bdad64e8b7596785da",
       "style": "IPY_MODEL_75ad3708576646c49a1b3fa36a69b783"
      }
     },
     "a5f9c669a5c54dcca9dd6ab8e8a60a8e": {
      "model_module": "@jupyter-widgets/controls",
      "model_module_version": "1.5.0",
      "model_name": "HBoxModel",
      "state": {
       "layout": "IPY_MODEL_f95c558bba274daba82abadba8decc75"
      }
     },
     "a84783b1b69744b8a176f5d633cacec5": {
      "model_module": "@jupyter-widgets/controls",
      "model_module_version": "1.5.0",
      "model_name": "ButtonModel",
      "state": {
       "button_style": "danger",
       "disabled": true,
       "icon": "user-o",
       "layout": "IPY_MODEL_b4759ed2fab34c0d99bc863506e63a9b",
       "style": "IPY_MODEL_d86321de1aea49519e6ce4e672dad805"
      }
     },
     "a8663ed1eae84040834a47b764561930": {
      "model_module": "@jupyter-widgets/controls",
      "model_module_version": "1.5.0",
      "model_name": "ButtonModel",
      "state": {
       "description": "Click Me!",
       "layout": "IPY_MODEL_1d23938d17354f2ea30fd2aeb11f948c",
       "style": "IPY_MODEL_896d02c8b4f44a75accd49535bbd7602"
      }
     },
     "aa864850189f4cccaa8c0af34bf3e3bf": {
      "model_module": "@jupyter-widgets/output",
      "model_module_version": "1.0.0",
      "model_name": "OutputModel",
      "state": {
       "layout": "IPY_MODEL_853fbcc05d504e62a850bba7f3b2a082",
       "outputs": [
        {
         "name": "stdout",
         "output_type": "stream",
         "text": "2\n7\n30\n36\n50\n53\n56\n57\n60\n64\n68\n69\n67\n61\n36\n24\n23\n22\n21\n18\n14\n10\n7\n4\n3\n2\n"
        }
       ]
      }
     },
     "b0c1d520421d40519e06c6a47855b6cf": {
      "model_module": "@jupyter-widgets/base",
      "model_module_version": "1.2.0",
      "model_name": "LayoutModel",
      "state": {}
     },
     "b3314588539d402ab4280c3a6b68e779": {
      "model_module": "@jupyter-widgets/controls",
      "model_module_version": "1.5.0",
      "model_name": "DropdownModel",
      "state": {
       "_options_labels": [
        "",
        "Orange",
        "Red",
        "Blue",
        "Green"
       ],
       "index": 0,
       "layout": "IPY_MODEL_70890e4eb232468dbc7d618121570066",
       "style": "IPY_MODEL_419d55d00e0a4ee495c5f058af946822"
      }
     },
     "b4759ed2fab34c0d99bc863506e63a9b": {
      "model_module": "@jupyter-widgets/base",
      "model_module_version": "1.2.0",
      "model_name": "LayoutModel",
      "state": {}
     },
     "b6e0ceb5331b40e8b8d3bc03be5fdd8d": {
      "model_module": "@jupyter-widgets/controls",
      "model_module_version": "1.5.0",
      "model_name": "ButtonModel",
      "state": {
       "button_style": "primary",
       "disabled": true,
       "icon": "question",
       "layout": "IPY_MODEL_2c45664d4f484b0a8fb80856beb31ec3",
       "style": "IPY_MODEL_1cced2fc002a41fe8435cd37d51d99b0"
      }
     },
     "bed2854877064ef68acfd95fc402e693": {
      "model_module": "@jupyter-widgets/controls",
      "model_module_version": "1.5.0",
      "model_name": "ButtonStyleModel",
      "state": {
       "button_color": "#4B4A4E"
      }
     },
     "bf8c313ef4624a41ab20c883415b9d6d": {
      "model_module": "@jupyter-widgets/controls",
      "model_module_version": "1.5.0",
      "model_name": "HBoxModel",
      "state": {
       "children": [
        "IPY_MODEL_9484a4ea9967465ba2d15a89ec99b54e"
       ],
       "layout": "IPY_MODEL_8b05289e469743cd81a94ae1704b3e0a"
      }
     },
     "c12d1074716b48d6a9bf3de102792735": {
      "model_module": "@jupyter-widgets/controls",
      "model_module_version": "1.5.0",
      "model_name": "ButtonModel",
      "state": {
       "button_style": "danger",
       "disabled": true,
       "icon": "user-o",
       "layout": "IPY_MODEL_f1c6851d371d41679a07424e77b38453",
       "style": "IPY_MODEL_dd50886a6f2c499cad3ce2e20a202d19"
      }
     },
     "c48b7374e1c84445a71dbb892121612e": {
      "model_module": "@jupyter-widgets/base",
      "model_module_version": "1.2.0",
      "model_name": "LayoutModel",
      "state": {}
     },
     "cc5f6c31716d4cb9a35ae5a1369ce96e": {
      "model_module": "@jupyter-widgets/controls",
      "model_module_version": "1.5.0",
      "model_name": "DropdownModel",
      "state": {
       "_options_labels": [
        "",
        "Orange",
        "Red",
        "Blue",
        "Green"
       ],
       "index": 0,
       "layout": "IPY_MODEL_96c88988269848b7a0a642eae1d4a0db",
       "style": "IPY_MODEL_eb2f5a97725d4c06b84e53258a010537"
      }
     },
     "cdf27c84195f4d26a521c228d74dc6e3": {
      "model_module": "@jupyter-widgets/controls",
      "model_module_version": "1.5.0",
      "model_name": "ButtonModel",
      "state": {
       "disabled": true,
       "icon": "arrow-up",
       "layout": "IPY_MODEL_e9aa1e849ea441989457f5138f4d31ec",
       "style": "IPY_MODEL_e9aa78c6f09146aa88c229cd38649976"
      }
     },
     "d119624179114481b76ac2b3bac19e07": {
      "model_module": "@jupyter-widgets/controls",
      "model_module_version": "1.5.0",
      "model_name": "DescriptionStyleModel",
      "state": {
       "description_width": ""
      }
     },
     "d17fd817a3cf4e7c9b016ec44f71b3ee": {
      "model_module": "@jupyter-widgets/base",
      "model_module_version": "1.2.0",
      "model_name": "LayoutModel",
      "state": {}
     },
     "d4b7d7edfe9447fc9b187f76fed3a6c5": {
      "model_module": "@jupyter-widgets/controls",
      "model_module_version": "1.5.0",
      "model_name": "ButtonStyleModel",
      "state": {}
     },
     "d86321de1aea49519e6ce4e672dad805": {
      "model_module": "@jupyter-widgets/controls",
      "model_module_version": "1.5.0",
      "model_name": "ButtonStyleModel",
      "state": {}
     },
     "dd50886a6f2c499cad3ce2e20a202d19": {
      "model_module": "@jupyter-widgets/controls",
      "model_module_version": "1.5.0",
      "model_name": "ButtonStyleModel",
      "state": {}
     },
     "e79ee4f5726a4eb2874bb6b6ad4511ca": {
      "model_module": "@jupyter-widgets/base",
      "model_module_version": "1.2.0",
      "model_name": "LayoutModel",
      "state": {}
     },
     "e9aa1e849ea441989457f5138f4d31ec": {
      "model_module": "@jupyter-widgets/base",
      "model_module_version": "1.2.0",
      "model_name": "LayoutModel",
      "state": {}
     },
     "e9aa78c6f09146aa88c229cd38649976": {
      "model_module": "@jupyter-widgets/controls",
      "model_module_version": "1.5.0",
      "model_name": "ButtonStyleModel",
      "state": {
       "button_color": "white"
      }
     },
     "eb2f5a97725d4c06b84e53258a010537": {
      "model_module": "@jupyter-widgets/controls",
      "model_module_version": "1.5.0",
      "model_name": "DescriptionStyleModel",
      "state": {
       "description_width": ""
      }
     },
     "f1c6851d371d41679a07424e77b38453": {
      "model_module": "@jupyter-widgets/base",
      "model_module_version": "1.2.0",
      "model_name": "LayoutModel",
      "state": {}
     },
     "f1d83bf19a6b49058b4067881523f0cf": {
      "model_module": "@jupyter-widgets/controls",
      "model_module_version": "1.5.0",
      "model_name": "ButtonStyleModel",
      "state": {}
     },
     "f7cc9983caea45078802c42c50a7a12b": {
      "model_module": "@jupyter-widgets/base",
      "model_module_version": "1.2.0",
      "model_name": "LayoutModel",
      "state": {
       "width": "148px"
      }
     },
     "f95c558bba274daba82abadba8decc75": {
      "model_module": "@jupyter-widgets/base",
      "model_module_version": "1.2.0",
      "model_name": "LayoutModel",
      "state": {}
     },
     "fd06776eb5514cddadbc04ec614cbf35": {
      "model_module": "@jupyter-widgets/controls",
      "model_module_version": "1.5.0",
      "model_name": "DropdownModel",
      "state": {
       "_options_labels": [
        "",
        "Orange",
        "Red",
        "Blue",
        "Green"
       ],
       "index": 0,
       "layout": "IPY_MODEL_f7cc9983caea45078802c42c50a7a12b",
       "style": "IPY_MODEL_d119624179114481b76ac2b3bac19e07"
      }
     },
     "fd858bde0eac43379b884bd212171a79": {
      "model_module": "@jupyter-widgets/controls",
      "model_module_version": "1.5.0",
      "model_name": "ButtonModel",
      "state": {
       "button_style": "warning",
       "disabled": true,
       "icon": "user-o",
       "layout": "IPY_MODEL_119684ace9394d0ea7c7db05b5184d79",
       "style": "IPY_MODEL_6061efc524444c70bdd36b0cc17ae8b2"
      }
     },
     "fe227e5d9f8541978b618376411b8d11": {
      "model_module": "@jupyter-widgets/controls",
      "model_module_version": "1.5.0",
      "model_name": "ButtonStyleModel",
      "state": {}
     },
     "fe8f528abed64ca3a2f42cdb755b4276": {
      "model_module": "@jupyter-widgets/controls",
      "model_module_version": "1.5.0",
      "model_name": "ButtonStyleModel",
      "state": {}
     },
     "fefb10d545f34cd2a56b7d8d8b07080b": {
      "model_module": "@jupyter-widgets/controls",
      "model_module_version": "1.5.0",
      "model_name": "ButtonModel",
      "state": {
       "button_style": "primary",
       "description": "Confirm combination",
       "icon": "check",
       "layout": "IPY_MODEL_4eff05d5dc424ea18c254426ea01d7a4",
       "style": "IPY_MODEL_fe227e5d9f8541978b618376411b8d11"
      }
     },
     "ff190c8fb19b4e4c8bb65fa05e73b139": {
      "model_module": "@jupyter-widgets/controls",
      "model_module_version": "1.5.0",
      "model_name": "ButtonStyleModel",
      "state": {}
     }
    },
    "version_major": 2,
    "version_minor": 0
   }
  }
 },
 "nbformat": 4,
 "nbformat_minor": 4
}
