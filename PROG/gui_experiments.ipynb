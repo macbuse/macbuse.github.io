{
 "cells": [
  {
   "cell_type": "code",
   "execution_count": 1,
   "metadata": {},
   "outputs": [
    {
     "name": "stdout",
     "output_type": "stream",
     "text": [
      "Collecting mastermind\n",
      "  Downloading mastermind-0.7-py2.py3-none-any.whl (140 kB)\n",
      "\u001b[K     |████████████████████████████████| 140 kB 1.5 MB/s eta 0:00:01\n",
      "\u001b[?25hRequirement already satisfied: ipywidgets>=7.4 in /home/macbuse/anaconda3/lib/python3.8/site-packages (from mastermind) (7.6.5)\n",
      "Collecting notebook-toggle-code\n",
      "  Downloading notebook_toggle_code-0.2.1.tar.gz (7.9 kB)\n",
      "Requirement already satisfied: ipykernel>=4.5.1 in /home/macbuse/anaconda3/lib/python3.8/site-packages (from ipywidgets>=7.4->mastermind) (5.3.2)\n",
      "Requirement already satisfied: widgetsnbextension~=3.5.0 in /home/macbuse/anaconda3/lib/python3.8/site-packages (from ipywidgets>=7.4->mastermind) (3.5.1)\n",
      "Requirement already satisfied: ipython>=4.0.0; python_version >= \"3.3\" in /home/macbuse/anaconda3/lib/python3.8/site-packages (from ipywidgets>=7.4->mastermind) (7.16.1)\n",
      "Requirement already satisfied: jupyterlab-widgets>=1.0.0; python_version >= \"3.6\" in /home/macbuse/anaconda3/lib/python3.8/site-packages (from ipywidgets>=7.4->mastermind) (1.0.2)\n",
      "Requirement already satisfied: ipython-genutils~=0.2.0 in /home/macbuse/anaconda3/lib/python3.8/site-packages (from ipywidgets>=7.4->mastermind) (0.2.0)\n",
      "Requirement already satisfied: traitlets>=4.3.1 in /home/macbuse/anaconda3/lib/python3.8/site-packages (from ipywidgets>=7.4->mastermind) (4.3.3)\n",
      "Requirement already satisfied: nbformat>=4.2.0 in /home/macbuse/anaconda3/lib/python3.8/site-packages (from ipywidgets>=7.4->mastermind) (5.0.7)\n",
      "Requirement already satisfied: jinja2>=2.10 in /home/macbuse/anaconda3/lib/python3.8/site-packages (from notebook-toggle-code->mastermind) (2.11.2)\n",
      "Requirement already satisfied: jupyter-client in /home/macbuse/anaconda3/lib/python3.8/site-packages (from ipykernel>=4.5.1->ipywidgets>=7.4->mastermind) (6.1.6)\n",
      "Requirement already satisfied: tornado>=4.2 in /home/macbuse/anaconda3/lib/python3.8/site-packages (from ipykernel>=4.5.1->ipywidgets>=7.4->mastermind) (6.0.4)\n",
      "Requirement already satisfied: notebook>=4.4.1 in /home/macbuse/anaconda3/lib/python3.8/site-packages (from widgetsnbextension~=3.5.0->ipywidgets>=7.4->mastermind) (6.0.3)\n",
      "Requirement already satisfied: pickleshare in /home/macbuse/anaconda3/lib/python3.8/site-packages (from ipython>=4.0.0; python_version >= \"3.3\"->ipywidgets>=7.4->mastermind) (0.7.5)\n",
      "Requirement already satisfied: pygments in /home/macbuse/anaconda3/lib/python3.8/site-packages (from ipython>=4.0.0; python_version >= \"3.3\"->ipywidgets>=7.4->mastermind) (2.6.1)\n",
      "Requirement already satisfied: pexpect; sys_platform != \"win32\" in /home/macbuse/anaconda3/lib/python3.8/site-packages (from ipython>=4.0.0; python_version >= \"3.3\"->ipywidgets>=7.4->mastermind) (4.8.0)\n",
      "Requirement already satisfied: setuptools>=18.5 in /home/macbuse/anaconda3/lib/python3.8/site-packages (from ipython>=4.0.0; python_version >= \"3.3\"->ipywidgets>=7.4->mastermind) (49.2.0.post20200714)\n",
      "Requirement already satisfied: jedi>=0.10 in /home/macbuse/anaconda3/lib/python3.8/site-packages (from ipython>=4.0.0; python_version >= \"3.3\"->ipywidgets>=7.4->mastermind) (0.17.1)\n",
      "Requirement already satisfied: decorator in /home/macbuse/anaconda3/lib/python3.8/site-packages (from ipython>=4.0.0; python_version >= \"3.3\"->ipywidgets>=7.4->mastermind) (4.4.2)\n",
      "Requirement already satisfied: prompt-toolkit!=3.0.0,!=3.0.1,<3.1.0,>=2.0.0 in /home/macbuse/anaconda3/lib/python3.8/site-packages (from ipython>=4.0.0; python_version >= \"3.3\"->ipywidgets>=7.4->mastermind) (3.0.5)\n",
      "Requirement already satisfied: backcall in /home/macbuse/anaconda3/lib/python3.8/site-packages (from ipython>=4.0.0; python_version >= \"3.3\"->ipywidgets>=7.4->mastermind) (0.2.0)\n",
      "Requirement already satisfied: six in /home/macbuse/anaconda3/lib/python3.8/site-packages (from traitlets>=4.3.1->ipywidgets>=7.4->mastermind) (1.15.0)\n",
      "Requirement already satisfied: jupyter-core in /home/macbuse/anaconda3/lib/python3.8/site-packages (from nbformat>=4.2.0->ipywidgets>=7.4->mastermind) (4.6.3)\n",
      "Requirement already satisfied: jsonschema!=2.5.0,>=2.4 in /home/macbuse/anaconda3/lib/python3.8/site-packages (from nbformat>=4.2.0->ipywidgets>=7.4->mastermind) (3.2.0)\n",
      "Requirement already satisfied: MarkupSafe>=0.23 in /home/macbuse/anaconda3/lib/python3.8/site-packages (from jinja2>=2.10->notebook-toggle-code->mastermind) (1.1.1)\n",
      "Requirement already satisfied: pyzmq>=13 in /home/macbuse/anaconda3/lib/python3.8/site-packages (from jupyter-client->ipykernel>=4.5.1->ipywidgets>=7.4->mastermind) (19.0.1)\n",
      "Requirement already satisfied: python-dateutil>=2.1 in /home/macbuse/anaconda3/lib/python3.8/site-packages (from jupyter-client->ipykernel>=4.5.1->ipywidgets>=7.4->mastermind) (2.8.1)\n",
      "Requirement already satisfied: terminado>=0.8.1 in /home/macbuse/anaconda3/lib/python3.8/site-packages (from notebook>=4.4.1->widgetsnbextension~=3.5.0->ipywidgets>=7.4->mastermind) (0.8.3)\n",
      "Requirement already satisfied: prometheus-client in /home/macbuse/anaconda3/lib/python3.8/site-packages (from notebook>=4.4.1->widgetsnbextension~=3.5.0->ipywidgets>=7.4->mastermind) (0.8.0)\n",
      "Requirement already satisfied: Send2Trash in /home/macbuse/anaconda3/lib/python3.8/site-packages (from notebook>=4.4.1->widgetsnbextension~=3.5.0->ipywidgets>=7.4->mastermind) (1.5.0)\n",
      "Requirement already satisfied: nbconvert in /home/macbuse/anaconda3/lib/python3.8/site-packages (from notebook>=4.4.1->widgetsnbextension~=3.5.0->ipywidgets>=7.4->mastermind) (5.6.1)\n",
      "Requirement already satisfied: ptyprocess>=0.5 in /home/macbuse/anaconda3/lib/python3.8/site-packages (from pexpect; sys_platform != \"win32\"->ipython>=4.0.0; python_version >= \"3.3\"->ipywidgets>=7.4->mastermind) (0.6.0)\n",
      "Requirement already satisfied: parso<0.8.0,>=0.7.0 in /home/macbuse/anaconda3/lib/python3.8/site-packages (from jedi>=0.10->ipython>=4.0.0; python_version >= \"3.3\"->ipywidgets>=7.4->mastermind) (0.7.0)\n",
      "Requirement already satisfied: wcwidth in /home/macbuse/anaconda3/lib/python3.8/site-packages (from prompt-toolkit!=3.0.0,!=3.0.1,<3.1.0,>=2.0.0->ipython>=4.0.0; python_version >= \"3.3\"->ipywidgets>=7.4->mastermind) (0.2.5)\n",
      "Requirement already satisfied: attrs>=17.4.0 in /home/macbuse/anaconda3/lib/python3.8/site-packages (from jsonschema!=2.5.0,>=2.4->nbformat>=4.2.0->ipywidgets>=7.4->mastermind) (19.3.0)\n",
      "Requirement already satisfied: pyrsistent>=0.14.0 in /home/macbuse/anaconda3/lib/python3.8/site-packages (from jsonschema!=2.5.0,>=2.4->nbformat>=4.2.0->ipywidgets>=7.4->mastermind) (0.16.0)\n",
      "Requirement already satisfied: mistune<2,>=0.8.1 in /home/macbuse/anaconda3/lib/python3.8/site-packages (from nbconvert->notebook>=4.4.1->widgetsnbextension~=3.5.0->ipywidgets>=7.4->mastermind) (0.8.4)\n",
      "Requirement already satisfied: pandocfilters>=1.4.1 in /home/macbuse/anaconda3/lib/python3.8/site-packages (from nbconvert->notebook>=4.4.1->widgetsnbextension~=3.5.0->ipywidgets>=7.4->mastermind) (1.4.2)\n",
      "Requirement already satisfied: testpath in /home/macbuse/anaconda3/lib/python3.8/site-packages (from nbconvert->notebook>=4.4.1->widgetsnbextension~=3.5.0->ipywidgets>=7.4->mastermind) (0.4.4)\n",
      "Requirement already satisfied: defusedxml in /home/macbuse/anaconda3/lib/python3.8/site-packages (from nbconvert->notebook>=4.4.1->widgetsnbextension~=3.5.0->ipywidgets>=7.4->mastermind) (0.6.0)\n",
      "Requirement already satisfied: bleach in /home/macbuse/anaconda3/lib/python3.8/site-packages (from nbconvert->notebook>=4.4.1->widgetsnbextension~=3.5.0->ipywidgets>=7.4->mastermind) (3.1.5)\n",
      "Requirement already satisfied: entrypoints>=0.2.2 in /home/macbuse/anaconda3/lib/python3.8/site-packages (from nbconvert->notebook>=4.4.1->widgetsnbextension~=3.5.0->ipywidgets>=7.4->mastermind) (0.3)\n",
      "Requirement already satisfied: webencodings in /home/macbuse/anaconda3/lib/python3.8/site-packages (from bleach->nbconvert->notebook>=4.4.1->widgetsnbextension~=3.5.0->ipywidgets>=7.4->mastermind) (0.5.1)\n",
      "Requirement already satisfied: packaging in /home/macbuse/anaconda3/lib/python3.8/site-packages (from bleach->nbconvert->notebook>=4.4.1->widgetsnbextension~=3.5.0->ipywidgets>=7.4->mastermind) (20.4)\n",
      "Requirement already satisfied: pyparsing>=2.0.2 in /home/macbuse/anaconda3/lib/python3.8/site-packages (from packaging->bleach->nbconvert->notebook>=4.4.1->widgetsnbextension~=3.5.0->ipywidgets>=7.4->mastermind) (2.4.7)\n",
      "Building wheels for collected packages: notebook-toggle-code\n",
      "  Building wheel for notebook-toggle-code (setup.py) ... \u001b[?25ldone\n",
      "\u001b[?25h  Created wheel for notebook-toggle-code: filename=notebook_toggle_code-0.2.1-py2.py3-none-any.whl size=10043 sha256=796762605762cc2a877977bc8c9d5d33446cc58b96e7114516dc2d4a7f7d8558\n",
      "  Stored in directory: /home/macbuse/.cache/pip/wheels/1c/c3/34/3a82724f67c19713caeb23d3d39d0af924a2ccac50e353d5f1\n",
      "Successfully built notebook-toggle-code\n",
      "Installing collected packages: notebook-toggle-code, mastermind\n",
      "Successfully installed mastermind-0.7 notebook-toggle-code-0.2.1\n",
      "Note: you may need to restart the kernel to use updated packages.\n"
     ]
    }
   ],
   "source": [
    "pip install mastermind\n"
   ]
  },
  {
   "cell_type": "markdown",
   "metadata": {},
   "source": [
    "This is an integral\n",
    "\n",
    "$ \\int f(t){dt} $\n",
    "\n",
    "$\\frac{d}{dx} f(x) $"
   ]
  },
  {
   "cell_type": "markdown",
   "metadata": {},
   "source": [
    "https://github.com/nicohlr/mastermind"
   ]
  },
  {
   "cell_type": "code",
   "execution_count": 1,
   "metadata": {},
   "outputs": [
    {
     "data": {
      "text/html": [
       "\n",
       "<div id=\"anchor-div\">\n",
       "</div>\n",
       "\n",
       "<style>\n",
       "    .bbtn {\n",
       "    display: inline-block;\n",
       "    padding: 6px 12px;\n",
       "    margin-bottom: 0;\n",
       "    font-size: 14px;\n",
       "    font-weight: normal;\n",
       "    line-height: 1.42857143;\n",
       "    text-align: center;\n",
       "    white-space: nowrap;\n",
       "    vertical-align: middle;\n",
       "    cursor: pointer;\n",
       "    -webkit-user-select: none;\n",
       "       -moz-user-select: none;\n",
       "        -ms-user-select: none;\n",
       "            user-select: none;\n",
       "    background-image: none;\n",
       "    border: 1px solid transparent;\n",
       "    border-radius: 4px;\n",
       "  }\n",
       "  .bbtn:focus,\n",
       "  .bbtn:active:focus,\n",
       "  .bbtn.active:focus {\n",
       "    outline: thin dotted;\n",
       "    outline: 5px auto -webkit-focus-ring-color;\n",
       "    outline-offset: -2px;\n",
       "  }\n",
       "  .bbtn:hover,\n",
       "  .bbtn:focus {\n",
       "    color: #333;\n",
       "    text-decoration: none;\n",
       "  }\n",
       "  .bbtn:active,\n",
       "  .bbtn.active {\n",
       "    background-image: none;\n",
       "    outline: 0;\n",
       "    -webkit-box-shadow: inset 0 3px 5px rgba(0, 0, 0, .125);\n",
       "            box-shadow: inset 0 3px 5px rgba(0, 0, 0, .125);\n",
       "  }\n",
       "  .bbtn.disabled,\n",
       "  .bbtn[disabled],\n",
       "  fieldset[disabled] .bbtn {  \n",
       "    pointer-events: none;\n",
       "    cursor: not-allowed;\n",
       "    filter: alpha(opacity=65);\n",
       "    -webkit-box-shadow: none;\n",
       "            box-shadow: none;\n",
       "    opacity: .65;\n",
       "  }\n",
       "  .bbtn-default {\n",
       "    color: #333;\n",
       "    background-color: #fff;\n",
       "    border-color: #ccc;\n",
       "  }\n",
       "  .bbtn-default:hover,\n",
       "  .bbtn-default:focus,\n",
       "  .bbtn-default:active,\n",
       "  .bbtn-default.active,\n",
       "  .open .dropdown-toggle.bbtn-default {\n",
       "    color: #333;\n",
       "    background-color: #ebebeb;\n",
       "    border-color: #adadad;\n",
       "  }\n",
       "  .bbtn-default:active,\n",
       "  .bbtn-default.active,\n",
       "  .open .dropdown-toggle.bbtn-default {\n",
       "    background-image: none;\n",
       "  }\n",
       "  .bbtn-default.disabled,\n",
       "  .bbtn-default[disabled],\n",
       "  fieldset[disabled] .bbtn-default,  \n",
       "  .bbtn-default.disabled:hover,\n",
       "  .bbtn-default[disabled]:hover,\n",
       "  fieldset[disabled] .bbtn-default:hover,  \n",
       "  .bbtn-default.disabled:focus,\n",
       "  .bbtn-default[disabled]:focus,\n",
       "  fieldset[disabled] .bbtn-default:focus,  \n",
       "  .bbtn-default.disabled:active,\n",
       "  .bbtn-default[disabled]:active,\n",
       "  fieldset[disabled] .bbtn-default:active,  \n",
       "  .bbtn-default.disabled.active,\n",
       "  .bbtn-default[disabled].active,\n",
       "  fieldset[disabled] .bbtn-default.active {  \n",
       "    background-color: #fff;\n",
       "    border-color: #ccc;\n",
       "  }\n",
       "  .bbtn-default .badge {\n",
       "    color: #fff;\n",
       "    background-color: #333;\n",
       "  }\n",
       "  .bbtn-primary {\n",
       "    color: #fff;\n",
       "    background-color: #428bca;\n",
       "    border-color: #357ebd;\n",
       "  }\n",
       "  .bbtn-primary:hover,\n",
       "  .bbtn-primary:focus,\n",
       "  .bbtn-primary:active,\n",
       "  .bbtn-primary.active,\n",
       "  .open .dropdown-toggle.bbtn-primary {\n",
       "    color: #fff;\n",
       "    background-color: #3276b1;\n",
       "    border-color: #285e8e;\n",
       "  }\n",
       "  .bbtn-primary:active,\n",
       "  .bbtn-primary.active,\n",
       "  .open .dropdown-toggle.bbtn-primary {\n",
       "    background-image: none;\n",
       "  }\n",
       "  .bbtn-primary.disabled,\n",
       "  .bbtn-primary[disabled],\n",
       "  fieldset[disabled] .bbtn-primary,  \n",
       "  .bbtn-primary.disabled:hover,\n",
       "  .bbtn-primary[disabled]:hover,\n",
       "  fieldset[disabled] .bbtn-primary:hover,  \n",
       "  .bbtn-primary.disabled:focus,\n",
       "  .bbtn-primary[disabled]:focus,\n",
       "  fieldset[disabled] .bbtn-primary:focus,  \n",
       "  .bbtn-primary.disabled:active,\n",
       "  .bbtn-primary[disabled]:active,\n",
       "  fieldset[disabled] .bbtn-primary:active,  \n",
       "  .bbtn-primary.disabled.active,\n",
       "  .bbtn-primary[disabled].active,\n",
       "  fieldset[disabled] .bbtn-primary.active {  \n",
       "    background-color: #428bca;\n",
       "    border-color: #357ebd;\n",
       "  }\n",
       "  .bbtn-primary .badge {\n",
       "    color: #428bca;\n",
       "    background-color: #fff;\n",
       "  }\n",
       "  .bbtn-success {\n",
       "    color: #fff;\n",
       "    background-color: #5cb85c;\n",
       "    border-color: #4cae4c;\n",
       "  }\n",
       "  .bbtn-success:hover,\n",
       "  .bbtn-success:focus,\n",
       "  .bbtn-success:active,\n",
       "  .bbtn-success.active,\n",
       "  .open .dropdown-toggle.bbtn-success {\n",
       "    color: #fff;\n",
       "    background-color: #47a447;\n",
       "    border-color: #398439;\n",
       "  }\n",
       "  .bbtn-success:active,\n",
       "  .bbtn-success.active,\n",
       "  .open .dropdown-toggle.bbtn-success {\n",
       "    background-image: none;\n",
       "  }\n",
       "  .bbtn-success.disabled,\n",
       "  .bbtn-success[disabled],\n",
       "  fieldset[disabled] .bbtn-success,  \n",
       "  .bbtn-success.disabled:hover,\n",
       "  .bbtn-success[disabled]:hover,\n",
       "  fieldset[disabled] .bbtn-success:hover,  \n",
       "  .bbtn-success.disabled:focus,\n",
       "  .bbtn-success[disabled]:focus,\n",
       "  fieldset[disabled] .bbtn-success:focus,  \n",
       "  .bbtn-success.disabled:active,\n",
       "  .bbtn-success[disabled]:active,\n",
       "  fieldset[disabled] .bbtn-success:active,  \n",
       "  .bbtn-success.disabled.active,\n",
       "  .bbtn-success[disabled].active,\n",
       "  fieldset[disabled] .bbtn-success.active {  \n",
       "    background-color: #5cb85c;\n",
       "    border-color: #4cae4c;\n",
       "  }\n",
       "  .bbtn-success .badge {\n",
       "    color: #5cb85c;\n",
       "    background-color: #fff;\n",
       "  }\n",
       "  .bbtn-info {\n",
       "    color: #fff;\n",
       "    background-color: #5bc0de;\n",
       "    border-color: #46b8da;\n",
       "  }\n",
       "  .bbtn-info:hover,\n",
       "  .bbtn-info:focus,\n",
       "  .bbtn-info:active,\n",
       "  .bbtn-info.active,\n",
       "  .open .dropdown-toggle.bbtn-info {\n",
       "    color: #fff;\n",
       "    background-color: #39b3d7;\n",
       "    border-color: #269abc;\n",
       "  }\n",
       "  .bbtn-info:active,\n",
       "  .bbtn-info.active,\n",
       "  .open .dropdown-toggle.bbtn-info {\n",
       "    background-image: none;\n",
       "  }\n",
       "  .bbtn-info.disabled,\n",
       "  .bbtn-info[disabled],\n",
       "  fieldset[disabled] .bbtn-info,  \n",
       "  .bbtn-info.disabled:hover,\n",
       "  .bbtn-info[disabled]:hover,\n",
       "  fieldset[disabled] .bbtn-info:hover,  \n",
       "  .bbtn-info.disabled:focus,\n",
       "  .bbtn-info[disabled]:focus,\n",
       "  fieldset[disabled] .bbtn-info:focus,  \n",
       "  .bbtn-info.disabled:active,\n",
       "  .bbtn-info[disabled]:active,\n",
       "  fieldset[disabled] .bbtn-info:active,  \n",
       "  .bbtn-info.disabled.active,\n",
       "  .bbtn-info[disabled].active,\n",
       "  fieldset[disabled] .bbtn-info.active {  \n",
       "    background-color: #5bc0de;\n",
       "    border-color: #46b8da;\n",
       "  }\n",
       "  .bbtn-info .badge {\n",
       "    color: #5bc0de;\n",
       "    background-color: #fff;\n",
       "  }\n",
       "  .bbtn-warning {\n",
       "    color: #fff;\n",
       "    background-color: #f0ad4e;\n",
       "    border-color: #eea236;\n",
       "  }\n",
       "  .bbtn-warning:hover,\n",
       "  .bbtn-warning:focus,\n",
       "  .bbtn-warning:active,\n",
       "  .bbtn-warning.active,\n",
       "  .open .dropdown-toggle.bbtn-warning {\n",
       "    color: #fff;\n",
       "    background-color: #ed9c28;\n",
       "    border-color: #d58512;\n",
       "  }\n",
       "  .bbtn-warning:active,\n",
       "  .bbtn-warning.active,\n",
       "  .open .dropdown-toggle.bbtn-warning {\n",
       "    background-image: none;\n",
       "  }\n",
       "  .bbtn-warning.disabled,\n",
       "  .bbtn-warning[disabled],\n",
       "  fieldset[disabled] .bbtn-warning,  \n",
       "  .bbtn-warning.disabled:hover,\n",
       "  .bbtn-warning[disabled]:hover,\n",
       "  fieldset[disabled] .bbtn-warning:hover,  \n",
       "  .bbtn-warning.disabled:focus,\n",
       "  .bbtn-warning[disabled]:focus,\n",
       "  fieldset[disabled] .bbtn-warning:focus,  \n",
       "  .bbtn-warning.disabled:active,\n",
       "  .bbtn-warning[disabled]:active,\n",
       "  fieldset[disabled] .bbtn-warning:active,  \n",
       "  .bbtn-warning.disabled.active,\n",
       "  .bbtn-warning[disabled].active,\n",
       "  fieldset[disabled] .bbtn-warning.active {  \n",
       "    background-color: #f0ad4e;\n",
       "    border-color: #eea236;\n",
       "  }\n",
       "  .bbtn-warning .badge {\n",
       "    color: #f0ad4e;\n",
       "    background-color: #fff;\n",
       "  }\n",
       "  .bbtn-danger {\n",
       "    color: #fff;\n",
       "    background-color: #d9534f;\n",
       "    border-color: #d43f3a;\n",
       "  }\n",
       "  .bbtn-danger:hover,\n",
       "  .bbtn-danger:focus,\n",
       "  .bbtn-danger:active,\n",
       "  .bbtn-danger.active,\n",
       "  .open .dropdown-toggle.bbtn-danger {\n",
       "    color: #fff;\n",
       "    background-color: #d2322d;\n",
       "    border-color: #ac2925;\n",
       "  }\n",
       "  .bbtn-danger:active,\n",
       "  .bbtn-danger.active,\n",
       "  .open .dropdown-toggle.bbtn-danger {\n",
       "    background-image: none;\n",
       "  }\n",
       "  .bbtn-danger.disabled,\n",
       "  .bbtn-danger[disabled],\n",
       "  fieldset[disabled] .bbtn-danger,  \n",
       "  .bbtn-danger.disabled:hover,\n",
       "  .bbtn-danger[disabled]:hover,\n",
       "  fieldset[disabled] .bbtn-danger:hover,  \n",
       "  .bbtn-danger.disabled:focus,\n",
       "  .bbtn-danger[disabled]:focus,\n",
       "  fieldset[disabled] .bbtn-danger:focus,  \n",
       "  .bbtn-danger.disabled:active,\n",
       "  .bbtn-danger[disabled]:active,\n",
       "  fieldset[disabled] .bbtn-danger:active,  \n",
       "  .bbtn-danger.disabled.active,\n",
       "  .bbtn-danger[disabled].active,\n",
       "  fieldset[disabled] .bbtn-danger.active {  \n",
       "    background-color: #d9534f;\n",
       "    border-color: #d43f3a;\n",
       "  }\n",
       "  .bbtn-danger .badge {\n",
       "    color: #d9534f;\n",
       "    background-color: #fff;\n",
       "  }\n",
       "  .bbtn-link {\n",
       "    font-weight: normal;\n",
       "    color: #428bca;\n",
       "    cursor: pointer;\n",
       "    border-radius: 0;\n",
       "  }\n",
       "  .bbtn-link,\n",
       "  .bbtn-link:active,\n",
       "  .bbtn-link[disabled],\n",
       "  fieldset[disabled] .bbtn-link {  \n",
       "    background-color: transparent;\n",
       "    -webkit-box-shadow: none;\n",
       "            box-shadow: none;\n",
       "  }\n",
       "  .bbtn-link,\n",
       "  .bbtn-link:hover,\n",
       "  .bbtn-link:focus,\n",
       "  .bbtn-link:active {\n",
       "    border-color: transparent;\n",
       "  }\n",
       "  .bbtn-link:hover,\n",
       "  .bbtn-link:focus {\n",
       "    color: #2a6496;\n",
       "    text-decoration: underline;\n",
       "    background-color: transparent;\n",
       "  }\n",
       "  .bbtn-link[disabled]:hover,\n",
       "  fieldset[disabled] .bbtn-link:hover,  \n",
       "  .bbtn-link[disabled]:focus,\n",
       "  fieldset[disabled] .bbtn-link:focus {  \n",
       "    color: #999;\n",
       "    text-decoration: none;\n",
       "  }\n",
       "  .bbtn-lg,\n",
       "  .bbtn-group-lg > .bbtn {\n",
       "    padding: 10px 16px;\n",
       "    font-size: 18px;\n",
       "    line-height: 1.33;\n",
       "    border-radius: 6px;\n",
       "  }\n",
       "  .bbtn-sm,\n",
       "  .bbtn-group-sm > .bbtn {\n",
       "    padding: 5px 10px;\n",
       "    font-size: 12px;\n",
       "    line-height: 1.5;\n",
       "    border-radius: 3px;\n",
       "  }\n",
       "  .bbtn-xs,\n",
       "  .bbtn-group-xs > .bbtn {\n",
       "    padding: 1px 5px;\n",
       "    font-size: 12px;\n",
       "    line-height: 1.5;\n",
       "    border-radius: 3px;\n",
       "  }\n",
       "  .bbtn-block {\n",
       "    display: block;\n",
       "    width: 100%;\n",
       "    padding-right: 0;\n",
       "    padding-left: 0;\n",
       "  }\n",
       "  .bbtn-block + .bbtn-block {\n",
       "    margin-top: 5px;\n",
       "  }\n",
       "  input[type=\"submit\"].bbtn-block,  \n",
       "  input[type=\"reset\"].bbtn-block,  \n",
       "  input[type=\"button\"].bbtn-block {  \n",
       "    width: 100%;\n",
       "  }\n",
       "  \n",
       "</style>\n",
       "\n",
       "<script>\n",
       "\n",
       "    \n",
       "'use strict';\n",
       "\n",
       "console.log('start main');\n",
       "\n",
       "var initShow = ('True' == 'True');\n",
       "var delayToggle = 0;\n",
       "window.codeVisible = initShow;\n",
       "\n",
       "console.log('initShow=' + initShow);\n",
       "console.log('delayToggle=' + delayToggle);\n",
       "\n",
       "\n",
       "window.hideCodeCells = function () {\n",
       "\t$('div.input').hide(delayToggle);\n",
       "\n",
       "\t// hide input prompts\n",
       "\t$('div.prompt.input_prompt').delay(delayToggle).css('visibility', 'hidden');\n",
       "\n",
       "\t// hide output prompts\n",
       "\t$('div.prompt.output_prompt').delay(delayToggle).css('visibility', 'hidden');\n",
       "\t$('div.out_prompt_overlay.prompt').delay(delayToggle).css('visibility', 'hidden');\n",
       "\n",
       "\t// reduce left margin as prompts hidden\n",
       "\t$('.prompt').css('min-width', '3%');\n",
       "\t$('.prompt').css('width', '3%');\n",
       "\n",
       "\t// hide toolbars\n",
       "\t$('#maintoolbar-container').delay(delayToggle).css('display', 'none');\n",
       "\t$('#header-container').delay(delayToggle).css('display', 'none');\n",
       "\n",
       "\t// hide header\n",
       "\t// $('div#header').delay(delayToggle).css('display', 'none');\n",
       "\n",
       "\t// hide selected outline\n",
       "\t$('.cell.code_cell.rendered.selected').toggleClass('selected');\n",
       "};\n",
       "\n",
       "window.showCodeCells = function () {\n",
       "\t$('div.input').show(delayToggle);\n",
       "\n",
       "\t// show input prompts\n",
       "\t$('div.prompt.input_prompt').delay(delayToggle).css('visibility', 'visible');\n",
       "\n",
       "\t// show output prompts\n",
       "\t$('div.prompt.output_prompt').delay(delayToggle).css('visibility', 'visible');\n",
       "\t$('div.out_prompt_overlay.prompt').delay(delayToggle).css('visibility', 'visible');\n",
       "\n",
       "\t// left margin back to normal\n",
       "\t$('.prompt').css('min-width', '14ex');\n",
       "\n",
       "\t// show toolbars\n",
       "\t$('#maintoolbar-container').delay(delayToggle).css('display', '');\n",
       "\t$('#header-container').delay(delayToggle).css('display', '');\n",
       "\n",
       "\t// show header\n",
       "\t// $('div#header').delay(delayToggle).css('display', '');\n",
       "};\n",
       "\n",
       "\n",
       "window.setButtonToShow = function () {\n",
       "\t$('#toggleButton').val('Show Code');\n",
       "\t$('#toggleButton').removeClass('btn-primary');\n",
       "};\n",
       "\n",
       "window.setButtonToHide = function () {\n",
       "\t$('#toggleButton').val('Hide Code');\n",
       "\t$('#toggleButton').addClass('btn-primary');\n",
       "}\n",
       "\n",
       "window.toggleCodeCellsNotebook = function () {\n",
       "\tif (window.codeVisible) {\n",
       "\t\twindow.hideCodeCells();\n",
       "\t\twindow.setButtonToShow();\n",
       "\t} else {\n",
       "\t\twindow.showCodeCells();\n",
       "\t\twindow.setButtonToHide();\n",
       "\t}\n",
       "\twindow.codeVisible = !window.codeVisible;\n",
       "};\n",
       "\n",
       "\n",
       "window.toggleCodeCellsNbviewer = function () {\n",
       "\tif (window.codeVisible) {\n",
       "\t\twindow.hideCodeCells();\n",
       "\t} else {\n",
       "\t\twindow.showCodeCells();\n",
       "\t}\n",
       "\twindow.codeVisible = !window.codeVisible;\n",
       "};\n",
       "\n",
       "\n",
       "\n",
       "var htmlNotebook = `\n",
       "<form action=\"javascript:toggleCodeCellsNotebook()\">\n",
       "\t<input type=\"submit\" id=\"toggleButton\" value=\"Hide Code\" class=\"bbtn\">\n",
       "</form>\n",
       "`;\n",
       "\n",
       "\n",
       "var htmlNbviewer = `\n",
       "<li>\n",
       "  <a href=\"javascript:window.toggleCodeCellsNbviewer()\" title=\"Show/Hide Code\">\n",
       "\t<span class=\"fa fa-cog fa-2x menu-icon\"></span>\n",
       "\t<span class=\"menu-text\">Show/Hide Code</span>\n",
       "  </a>\n",
       "</li>\n",
       "`;\n",
       "\n",
       "\n",
       "\n",
       "require([\n",
       "\t'jquery',\n",
       "\t'base/js/events',\n",
       "\t'base/js/namespace',\n",
       "\t'base/js/promises'\n",
       "], function (\n",
       "\t$,\n",
       "\tevents,\n",
       "\tJupyter,\n",
       "\tpromises\n",
       ") {\n",
       "\tpromises.app_initialized.then(function (appname) {\n",
       "\t\tif (appname === 'NotebookApp') {\n",
       "\t\t\tconsole.log('code cell toggle: notebook mode');\n",
       "\t\t\t$(htmlNotebook).appendTo('#anchor-div');\n",
       "\t\t\tif (window.codeVisible) {\n",
       "\t\t\t\twindow.showCodeCells();\n",
       "\t\t\t\twindow.setButtonToHide();\n",
       "\t\t\t}\n",
       "\t\t\telse {\n",
       "\t\t\t\twindow.hideCodeCells();\n",
       "\t\t\t\twindow.setButtonToShow();\n",
       "\n",
       "\t\t\t}\n",
       "\t\t}\n",
       "\t});\n",
       "});\n",
       "\n",
       "\n",
       "$(document).ready(function () {\n",
       "\tif ($('body.nbviewer').length) {\n",
       "\t\tconsole.log('code cell toggle: nbviewer mode');\n",
       "\t\t$(htmlNbviewer).appendTo('.navbar-right');\n",
       "\t\tif (window.codeVisible) {\n",
       "\t\t\twindow.showCodeCells();\n",
       "\t\t}\n",
       "\t\telse {\n",
       "\t\t\twindow.hideCodeCells();\n",
       "\t\t}\n",
       "\t}\n",
       "\n",
       "});\n",
       "\n",
       "console.log('end main');\n",
       "\n",
       "</script>"
      ],
      "text/plain": [
       "<IPython.core.display.HTML object>"
      ]
     },
     "metadata": {},
     "output_type": "display_data"
    },
    {
     "data": {
      "application/vnd.jupyter.widget-view+json": {
       "model_id": "856b7fb80a5542cc8e94c6c64601616f",
       "version_major": 2,
       "version_minor": 0
      },
      "text/plain": [
       "Tab(children=(VBox(children=(VBox(children=(HBox(children=(VBox(children=(HBox(children=(Button(button_style='…"
      ]
     },
     "metadata": {},
     "output_type": "display_data"
    }
   ],
   "source": [
    "from mastermind import MastermindNotebook\n",
    "game = MastermindNotebook()"
   ]
  },
  {
   "cell_type": "code",
   "execution_count": 3,
   "metadata": {},
   "outputs": [],
   "source": [
    "import ipywidgets as wd\n",
    "from IPython.display import display\n",
    "from notebook_toggle_code import ToggleCode\n"
   ]
  },
  {
   "cell_type": "code",
   "execution_count": 4,
   "metadata": {},
   "outputs": [
    {
     "data": {
      "application/vnd.jupyter.widget-view+json": {
       "model_id": "6d788a8ddbdc4bf6b1c7f0c642d47be9",
       "version_major": 2,
       "version_minor": 0
      },
      "text/plain": [
       "Button(description='Click Me!', style=ButtonStyle())"
      ]
     },
     "metadata": {},
     "output_type": "display_data"
    },
    {
     "data": {
      "application/vnd.jupyter.widget-view+json": {
       "model_id": "9fd2ab2c4d164cba8838d3d6aa702750",
       "version_major": 2,
       "version_minor": 0
      },
      "text/plain": [
       "Output()"
      ]
     },
     "metadata": {},
     "output_type": "display_data"
    }
   ],
   "source": [
    "from IPython.display import display\n",
    "button = wd.Button(description=\"Click Me!\")\n",
    "output = wd.Output()\n",
    "\n",
    "display(button, output)\n",
    "\n",
    "def on_button_clicked(b):\n",
    "    with output:\n",
    "        print(\"Button clicked.\")\n",
    "\n",
    "button.on_click(on_button_clicked)"
   ]
  },
  {
   "cell_type": "code",
   "execution_count": 5,
   "metadata": {},
   "outputs": [
    {
     "data": {
      "application/vnd.jupyter.widget-view+json": {
       "model_id": "d46636fb9bec4e8397ac548596ded18b",
       "version_major": 2,
       "version_minor": 0
      },
      "text/plain": [
       "IntSlider(value=0)"
      ]
     },
     "metadata": {},
     "output_type": "display_data"
    },
    {
     "data": {
      "application/vnd.jupyter.widget-view+json": {
       "model_id": "cbe1251540c644b2abb37f7bd5e3f634",
       "version_major": 2,
       "version_minor": 0
      },
      "text/plain": [
       "Output()"
      ]
     },
     "metadata": {},
     "output_type": "display_data"
    }
   ],
   "source": [
    "int_range = wd.IntSlider()\n",
    "output2 = wd.Output()\n",
    "\n",
    "display(int_range, output2)\n",
    "\n",
    "def on_value_change(change):\n",
    "    with output2:\n",
    "        print(change['new'])\n",
    "\n",
    "int_range.observe(on_value_change, names='value')"
   ]
  },
  {
   "cell_type": "code",
   "execution_count": null,
   "metadata": {},
   "outputs": [],
   "source": []
  }
 ],
 "metadata": {
  "kernelspec": {
   "display_name": "Python 3",
   "language": "python",
   "name": "python3"
  },
  "language_info": {
   "codemirror_mode": {
    "name": "ipython",
    "version": 3
   },
   "file_extension": ".py",
   "mimetype": "text/x-python",
   "name": "python",
   "nbconvert_exporter": "python",
   "pygments_lexer": "ipython3",
   "version": "3.8.3"
  },
  "widgets": {
   "application/vnd.jupyter.widget-state+json": {
    "state": {
     "06e9d137a948478cb9539bb942ddd8b1": {
      "model_module": "@jupyter-widgets/controls",
      "model_module_version": "1.5.0",
      "model_name": "DescriptionStyleModel",
      "state": {
       "description_width": ""
      }
     },
     "0888354cbab0435d97aaebd8a2a8dba7": {
      "model_module": "@jupyter-widgets/controls",
      "model_module_version": "1.5.0",
      "model_name": "HBoxModel",
      "state": {
       "children": [
        "IPY_MODEL_ab0b14e010a94771b25409523adb4824",
        "IPY_MODEL_5625e8b54a9d46d89e98a1fdde4cc7ed"
       ],
       "layout": "IPY_MODEL_e00a1009cff1471db06b55fde9ab1419"
      }
     },
     "0ba6c0d4b66945d5a960ac767e30fdfd": {
      "model_module": "@jupyter-widgets/controls",
      "model_module_version": "1.5.0",
      "model_name": "ButtonStyleModel",
      "state": {}
     },
     "0d842caad2c748b5aebc18c0d5f51bae": {
      "model_module": "@jupyter-widgets/base",
      "model_module_version": "1.2.0",
      "model_name": "LayoutModel",
      "state": {
       "margin": "20px 0px 0px 0px"
      }
     },
     "15b25d951bb34dc9b79b9a705ec42074": {
      "model_module": "@jupyter-widgets/base",
      "model_module_version": "1.2.0",
      "model_name": "LayoutModel",
      "state": {}
     },
     "1649332a691742d7bb9148ab76d11a07": {
      "model_module": "@jupyter-widgets/base",
      "model_module_version": "1.2.0",
      "model_name": "LayoutModel",
      "state": {}
     },
     "178db8b9f0e44b6f907518dbe0266ac2": {
      "model_module": "@jupyter-widgets/controls",
      "model_module_version": "1.5.0",
      "model_name": "HBoxModel",
      "state": {
       "children": [
        "IPY_MODEL_42acaa6de26b4c3ca5638674285e17ec"
       ],
       "layout": "IPY_MODEL_73043fcff7244c49a88f00d86101b7cb"
      }
     },
     "17f488b25b044f34b9f77108a1edd86b": {
      "model_module": "@jupyter-widgets/base",
      "model_module_version": "1.2.0",
      "model_name": "LayoutModel",
      "state": {
       "width": "148px"
      }
     },
     "1c03f743158e4aeab86a8baa0dab7b7e": {
      "model_module": "@jupyter-widgets/controls",
      "model_module_version": "1.5.0",
      "model_name": "ButtonStyleModel",
      "state": {
       "button_color": "white"
      }
     },
     "1c4b1cd4f7cb4bba8ebd152178a60fa4": {
      "model_module": "@jupyter-widgets/base",
      "model_module_version": "1.2.0",
      "model_name": "LayoutModel",
      "state": {}
     },
     "1d3cf8c05a6b40b0821b6638712e157e": {
      "model_module": "@jupyter-widgets/controls",
      "model_module_version": "1.5.0",
      "model_name": "DropdownModel",
      "state": {
       "_options_labels": [
        "",
        "Orange",
        "Red",
        "Blue",
        "Green"
       ],
       "index": 0,
       "layout": "IPY_MODEL_921f7135666245d89936ff6a737cc9a8",
       "style": "IPY_MODEL_06e9d137a948478cb9539bb942ddd8b1"
      }
     },
     "2173b628d38146ada570a15df8b7585b": {
      "model_module": "@jupyter-widgets/base",
      "model_module_version": "1.2.0",
      "model_name": "LayoutModel",
      "state": {
       "width": "148px"
      }
     },
     "22214a13e04f4efba39d2a70dd6ed648": {
      "model_module": "@jupyter-widgets/base",
      "model_module_version": "1.2.0",
      "model_name": "LayoutModel",
      "state": {}
     },
     "245c0f93c1c64461906036cdcce4033d": {
      "model_module": "@jupyter-widgets/base",
      "model_module_version": "1.2.0",
      "model_name": "LayoutModel",
      "state": {}
     },
     "289596d9d24849799988a77ea1275531": {
      "model_module": "@jupyter-widgets/controls",
      "model_module_version": "1.5.0",
      "model_name": "ButtonStyleModel",
      "state": {
       "button_color": "white"
      }
     },
     "2cbf43f35cf04e9383bd6bc1def3baf8": {
      "model_module": "@jupyter-widgets/controls",
      "model_module_version": "1.5.0",
      "model_name": "ButtonStyleModel",
      "state": {
       "button_color": "white"
      }
     },
     "35b7e20fc66b47b4ab121b7c609050c3": {
      "model_module": "@jupyter-widgets/controls",
      "model_module_version": "1.5.0",
      "model_name": "ButtonModel",
      "state": {
       "button_style": "warning",
       "disabled": true,
       "icon": "user-o",
       "layout": "IPY_MODEL_245c0f93c1c64461906036cdcce4033d",
       "style": "IPY_MODEL_fe4817bc929949f0b6b650de3b286fe4"
      }
     },
     "3c6c6741c45844f68b031486f375ad91": {
      "model_module": "@jupyter-widgets/base",
      "model_module_version": "1.2.0",
      "model_name": "LayoutModel",
      "state": {
       "width": "148px"
      }
     },
     "3e78717ccb5d41ea9272ef506a15ae26": {
      "model_module": "@jupyter-widgets/controls",
      "model_module_version": "1.5.0",
      "model_name": "ButtonModel",
      "state": {
       "description": "Turn 1 - Well placed: 2 \n - Misplaced: 0",
       "disabled": true,
       "icon": "hashtag",
       "layout": "IPY_MODEL_8be5ce6d162349c597d271f1d9cb83f7",
       "style": "IPY_MODEL_7d33a31ac8b7494caa12e7c4c7a01d04"
      }
     },
     "40becc90e8fc4170ba168a07c16e0bf3": {
      "model_module": "@jupyter-widgets/base",
      "model_module_version": "1.2.0",
      "model_name": "LayoutModel",
      "state": {}
     },
     "42acaa6de26b4c3ca5638674285e17ec": {
      "model_module": "@jupyter-widgets/controls",
      "model_module_version": "1.5.0",
      "model_name": "VBoxModel",
      "state": {
       "children": [
        "IPY_MODEL_54f02a5d76a24d2ea68b2a6b9b4385b8",
        "IPY_MODEL_fd60551bb280478092efe983a73b2760"
       ],
       "layout": "IPY_MODEL_76e30de985b04e29973e67a0fcc4b0f0"
      }
     },
     "47148526e27b4773a805367a28b0ff3d": {
      "model_module": "@jupyter-widgets/controls",
      "model_module_version": "1.5.0",
      "model_name": "ButtonStyleModel",
      "state": {
       "button_color": "#4B4A4E"
      }
     },
     "49196d2501eb4383bc4e6016747a3c4c": {
      "model_module": "@jupyter-widgets/controls",
      "model_module_version": "1.5.0",
      "model_name": "ButtonModel",
      "state": {
       "disabled": true,
       "icon": "arrow-up",
       "layout": "IPY_MODEL_22214a13e04f4efba39d2a70dd6ed648",
       "style": "IPY_MODEL_f626c90ee88a4762aead131510bbb848"
      }
     },
     "4e74ed6e665d461b9e4d76b61596b47a": {
      "model_module": "@jupyter-widgets/base",
      "model_module_version": "1.2.0",
      "model_name": "LayoutModel",
      "state": {}
     },
     "54f02a5d76a24d2ea68b2a6b9b4385b8": {
      "model_module": "@jupyter-widgets/controls",
      "model_module_version": "1.5.0",
      "model_name": "HBoxModel",
      "state": {
       "children": [
        "IPY_MODEL_e82e5e23d36f479a9dcccb4db519ec01",
        "IPY_MODEL_8705f90bcc9d457d8e5001d8b1078a12",
        "IPY_MODEL_fe6e5ade5cc744aeba20091d0f3c384c",
        "IPY_MODEL_b5b09e76b4834f15a65956108502054d"
       ],
       "layout": "IPY_MODEL_0d842caad2c748b5aebc18c0d5f51bae"
      }
     },
     "5625e8b54a9d46d89e98a1fdde4cc7ed": {
      "model_module": "@jupyter-widgets/controls",
      "model_module_version": "1.5.0",
      "model_name": "ButtonModel",
      "state": {
       "button_style": "primary",
       "description": "Confirm combination",
       "icon": "check",
       "layout": "IPY_MODEL_cb0d967799814157ac11c51bc0664593",
       "style": "IPY_MODEL_0ba6c0d4b66945d5a960ac767e30fdfd"
      }
     },
     "5cbfba8ee3d8475fbe0bdfc905aa3370": {
      "model_module": "@jupyter-widgets/base",
      "model_module_version": "1.2.0",
      "model_name": "LayoutModel",
      "state": {}
     },
     "5d3081a75ed64a89b7b470d214acc077": {
      "model_module": "@jupyter-widgets/base",
      "model_module_version": "1.2.0",
      "model_name": "LayoutModel",
      "state": {}
     },
     "66f56530fa534817a303c6d19c830492": {
      "model_module": "@jupyter-widgets/controls",
      "model_module_version": "1.5.0",
      "model_name": "ButtonStyleModel",
      "state": {}
     },
     "69cfbdc5d77149d09697d3af5d703188": {
      "model_module": "@jupyter-widgets/controls",
      "model_module_version": "1.5.0",
      "model_name": "ButtonModel",
      "state": {
       "button_style": "danger",
       "disabled": true,
       "icon": "user-o",
       "layout": "IPY_MODEL_caa5f39d80224006ac779eebbb2de88e",
       "style": "IPY_MODEL_94268805cfd140ef9b9bd0931b29b933"
      }
     },
     "6d788a8ddbdc4bf6b1c7f0c642d47be9": {
      "model_module": "@jupyter-widgets/controls",
      "model_module_version": "1.5.0",
      "model_name": "ButtonModel",
      "state": {
       "description": "Click Me!",
       "layout": "IPY_MODEL_5cbfba8ee3d8475fbe0bdfc905aa3370",
       "style": "IPY_MODEL_f724d796955340d39c3e787a40ef0c5c"
      }
     },
     "6efc482d649c4c439435415c78ba6218": {
      "model_module": "@jupyter-widgets/base",
      "model_module_version": "1.2.0",
      "model_name": "LayoutModel",
      "state": {}
     },
     "7292858d3765493c9fe1d3a6ed7d0ef7": {
      "model_module": "@jupyter-widgets/controls",
      "model_module_version": "1.5.0",
      "model_name": "ButtonModel",
      "state": {
       "button_style": "danger",
       "disabled": true,
       "icon": "user-o",
       "layout": "IPY_MODEL_6efc482d649c4c439435415c78ba6218",
       "style": "IPY_MODEL_c6598203427b47d998a35391309a7ffb"
      }
     },
     "73043fcff7244c49a88f00d86101b7cb": {
      "model_module": "@jupyter-widgets/base",
      "model_module_version": "1.2.0",
      "model_name": "LayoutModel",
      "state": {
       "margin": "0px 0px 20px 0px"
      }
     },
     "749ab769780747f5ac61615b8ef04bfc": {
      "model_module": "@jupyter-widgets/controls",
      "model_module_version": "1.5.0",
      "model_name": "SliderStyleModel",
      "state": {
       "description_width": ""
      }
     },
     "74e988d89c7e4add98c5de10087196b2": {
      "model_module": "@jupyter-widgets/base",
      "model_module_version": "1.2.0",
      "model_name": "LayoutModel",
      "state": {}
     },
     "76e30de985b04e29973e67a0fcc4b0f0": {
      "model_module": "@jupyter-widgets/base",
      "model_module_version": "1.2.0",
      "model_name": "LayoutModel",
      "state": {}
     },
     "7d33a31ac8b7494caa12e7c4c7a01d04": {
      "model_module": "@jupyter-widgets/controls",
      "model_module_version": "1.5.0",
      "model_name": "ButtonStyleModel",
      "state": {}
     },
     "7f040f95381d4c808dfb433744ce8b5c": {
      "model_module": "@jupyter-widgets/controls",
      "model_module_version": "1.5.0",
      "model_name": "ButtonStyleModel",
      "state": {
       "button_color": "#4B4A4E"
      }
     },
     "856b7fb80a5542cc8e94c6c64601616f": {
      "model_module": "@jupyter-widgets/controls",
      "model_module_version": "1.5.0",
      "model_name": "TabModel",
      "state": {
       "_titles": {
        "0": "Mastermind"
       },
       "children": [
        "IPY_MODEL_d6c16c834d154b38a0e960c3f7c4ee47"
       ],
       "layout": "IPY_MODEL_1c4b1cd4f7cb4bba8ebd152178a60fa4"
      }
     },
     "8705f90bcc9d457d8e5001d8b1078a12": {
      "model_module": "@jupyter-widgets/controls",
      "model_module_version": "1.5.0",
      "model_name": "ButtonModel",
      "state": {
       "button_style": "primary",
       "disabled": true,
       "icon": "question",
       "layout": "IPY_MODEL_e9045c527f824819b385d98d1efbe173",
       "style": "IPY_MODEL_7f040f95381d4c808dfb433744ce8b5c"
      }
     },
     "8be5ce6d162349c597d271f1d9cb83f7": {
      "model_module": "@jupyter-widgets/base",
      "model_module_version": "1.2.0",
      "model_name": "LayoutModel",
      "state": {
       "margin": "0px 0px 0px 50px",
       "width": "auto"
      }
     },
     "921f7135666245d89936ff6a737cc9a8": {
      "model_module": "@jupyter-widgets/base",
      "model_module_version": "1.2.0",
      "model_name": "LayoutModel",
      "state": {
       "width": "148px"
      }
     },
     "94268805cfd140ef9b9bd0931b29b933": {
      "model_module": "@jupyter-widgets/controls",
      "model_module_version": "1.5.0",
      "model_name": "ButtonStyleModel",
      "state": {}
     },
     "9ef06022cf544b5a80dff525ec68bd8d": {
      "model_module": "@jupyter-widgets/controls",
      "model_module_version": "1.5.0",
      "model_name": "DropdownModel",
      "state": {
       "_options_labels": [
        "",
        "Orange",
        "Red",
        "Blue",
        "Green"
       ],
       "index": 0,
       "layout": "IPY_MODEL_17f488b25b044f34b9f77108a1edd86b",
       "style": "IPY_MODEL_c333deca3af04993b60b4bd67e5b7674"
      }
     },
     "9fd2ab2c4d164cba8838d3d6aa702750": {
      "model_module": "@jupyter-widgets/output",
      "model_module_version": "1.0.0",
      "model_name": "OutputModel",
      "state": {
       "layout": "IPY_MODEL_cdbe8ebb02cf494b8f99edd4e7167001",
       "outputs": [
        {
         "name": "stdout",
         "output_type": "stream",
         "text": "Button clicked.\nButton clicked.\nButton clicked.\nButton clicked.\nButton clicked.\n"
        }
       ]
      }
     },
     "a028b152135d477bae99152794d3a345": {
      "model_module": "@jupyter-widgets/base",
      "model_module_version": "1.2.0",
      "model_name": "LayoutModel",
      "state": {}
     },
     "a1096a5e5468452aa2c4098ad43a39c5": {
      "model_module": "@jupyter-widgets/controls",
      "model_module_version": "1.5.0",
      "model_name": "DropdownModel",
      "state": {
       "_options_labels": [
        "",
        "Orange",
        "Red",
        "Blue",
        "Green"
       ],
       "index": 0,
       "layout": "IPY_MODEL_2173b628d38146ada570a15df8b7585b",
       "style": "IPY_MODEL_e2bc2d1b8ab04756a06aa1a81181b2c4"
      }
     },
     "a477293782494719aaec4d0862533b44": {
      "model_module": "@jupyter-widgets/base",
      "model_module_version": "1.2.0",
      "model_name": "LayoutModel",
      "state": {}
     },
     "a80d184c8ed7475389f16ed122658ea6": {
      "model_module": "@jupyter-widgets/controls",
      "model_module_version": "1.5.0",
      "model_name": "ButtonModel",
      "state": {
       "description": "New game",
       "icon": "refresh",
       "layout": "IPY_MODEL_a8f8640e91cc4b01b0ad369d3edd0eed",
       "style": "IPY_MODEL_66f56530fa534817a303c6d19c830492"
      }
     },
     "a8f8640e91cc4b01b0ad369d3edd0eed": {
      "model_module": "@jupyter-widgets/base",
      "model_module_version": "1.2.0",
      "model_name": "LayoutModel",
      "state": {
       "margin": "0px 0px 0px 20px"
      }
     },
     "ab0b14e010a94771b25409523adb4824": {
      "model_module": "@jupyter-widgets/controls",
      "model_module_version": "1.5.0",
      "model_name": "HBoxModel",
      "state": {
       "children": [
        "IPY_MODEL_1d3cf8c05a6b40b0821b6638712e157e",
        "IPY_MODEL_9ef06022cf544b5a80dff525ec68bd8d",
        "IPY_MODEL_a1096a5e5468452aa2c4098ad43a39c5",
        "IPY_MODEL_adb4fdcd385b4bf8962116270783478b"
       ],
       "layout": "IPY_MODEL_ff0cb29f9bf84934bbb40e1ffa2aa3d3"
      }
     },
     "ab3bbeaca81149339c61b43c71e337fb": {
      "model_module": "@jupyter-widgets/controls",
      "model_module_version": "1.5.0",
      "model_name": "ButtonModel",
      "state": {
       "disabled": true,
       "icon": "arrow-up",
       "layout": "IPY_MODEL_74e988d89c7e4add98c5de10087196b2",
       "style": "IPY_MODEL_289596d9d24849799988a77ea1275531"
      }
     },
     "ad44b939c2f14149b8e0f74af65bbb5e": {
      "model_module": "@jupyter-widgets/controls",
      "model_module_version": "1.5.0",
      "model_name": "ButtonModel",
      "state": {
       "button_style": "danger",
       "disabled": true,
       "icon": "user-o",
       "layout": "IPY_MODEL_15b25d951bb34dc9b79b9a705ec42074",
       "style": "IPY_MODEL_f75d7cf217114f12b2dedef632a3fe83"
      }
     },
     "adad2606cda040f9bdc9c2069d470b5c": {
      "model_module": "@jupyter-widgets/controls",
      "model_module_version": "1.5.0",
      "model_name": "ButtonModel",
      "state": {
       "disabled": true,
       "icon": "arrow-up",
       "layout": "IPY_MODEL_5d3081a75ed64a89b7b470d214acc077",
       "style": "IPY_MODEL_1c03f743158e4aeab86a8baa0dab7b7e"
      }
     },
     "adb4fdcd385b4bf8962116270783478b": {
      "model_module": "@jupyter-widgets/controls",
      "model_module_version": "1.5.0",
      "model_name": "DropdownModel",
      "state": {
       "_options_labels": [
        "",
        "Orange",
        "Red",
        "Blue",
        "Green"
       ],
       "index": 0,
       "layout": "IPY_MODEL_3c6c6741c45844f68b031486f375ad91",
       "style": "IPY_MODEL_b8d48ed2f2704647b9acac52efb325e8"
      }
     },
     "afb14158723b422e966373e543e05906": {
      "model_module": "@jupyter-widgets/controls",
      "model_module_version": "1.5.0",
      "model_name": "ButtonModel",
      "state": {
       "disabled": true,
       "icon": "arrow-up",
       "layout": "IPY_MODEL_de4fdc6bd4d547efbf66543cc0a156b5",
       "style": "IPY_MODEL_2cbf43f35cf04e9383bd6bc1def3baf8"
      }
     },
     "b5b09e76b4834f15a65956108502054d": {
      "model_module": "@jupyter-widgets/controls",
      "model_module_version": "1.5.0",
      "model_name": "ButtonModel",
      "state": {
       "button_style": "primary",
       "disabled": true,
       "icon": "question",
       "layout": "IPY_MODEL_a477293782494719aaec4d0862533b44",
       "style": "IPY_MODEL_f4b7ab7de0154f33836b025b383a4524"
      }
     },
     "b8d48ed2f2704647b9acac52efb325e8": {
      "model_module": "@jupyter-widgets/controls",
      "model_module_version": "1.5.0",
      "model_name": "DescriptionStyleModel",
      "state": {
       "description_width": ""
      }
     },
     "ba97a838d7f144c4993dc71d6e6d9187": {
      "model_module": "@jupyter-widgets/controls",
      "model_module_version": "1.5.0",
      "model_name": "HBoxModel",
      "state": {
       "layout": "IPY_MODEL_a028b152135d477bae99152794d3a345"
      }
     },
     "c333deca3af04993b60b4bd67e5b7674": {
      "model_module": "@jupyter-widgets/controls",
      "model_module_version": "1.5.0",
      "model_name": "DescriptionStyleModel",
      "state": {
       "description_width": ""
      }
     },
     "c6598203427b47d998a35391309a7ffb": {
      "model_module": "@jupyter-widgets/controls",
      "model_module_version": "1.5.0",
      "model_name": "ButtonStyleModel",
      "state": {}
     },
     "caa5f39d80224006ac779eebbb2de88e": {
      "model_module": "@jupyter-widgets/base",
      "model_module_version": "1.2.0",
      "model_name": "LayoutModel",
      "state": {}
     },
     "cb0d967799814157ac11c51bc0664593": {
      "model_module": "@jupyter-widgets/base",
      "model_module_version": "1.2.0",
      "model_name": "LayoutModel",
      "state": {
       "margin": "2px 0px 0px 50px",
       "width": "252px"
      }
     },
     "cbe1251540c644b2abb37f7bd5e3f634": {
      "model_module": "@jupyter-widgets/output",
      "model_module_version": "1.0.0",
      "model_name": "OutputModel",
      "state": {
       "layout": "IPY_MODEL_e824d03365794853951cc1663dce01e0",
       "outputs": [
        {
         "name": "stdout",
         "output_type": "stream",
         "text": "22\n13\n15\n33\n37\n43\n50\n54\n59\n60\n65\n68\n69\n67\n57\n33\n31\n"
        }
       ]
      }
     },
     "cdbe8ebb02cf494b8f99edd4e7167001": {
      "model_module": "@jupyter-widgets/base",
      "model_module_version": "1.2.0",
      "model_name": "LayoutModel",
      "state": {}
     },
     "d46636fb9bec4e8397ac548596ded18b": {
      "model_module": "@jupyter-widgets/controls",
      "model_module_version": "1.5.0",
      "model_name": "IntSliderModel",
      "state": {
       "layout": "IPY_MODEL_effa5dc11c764a53969df023d2d7999f",
       "style": "IPY_MODEL_749ab769780747f5ac61615b8ef04bfc",
       "value": 31
      }
     },
     "d6c16c834d154b38a0e960c3f7c4ee47": {
      "model_module": "@jupyter-widgets/controls",
      "model_module_version": "1.5.0",
      "model_name": "VBoxModel",
      "state": {
       "children": [
        "IPY_MODEL_f18689d978544723b3ed18e230ffd865",
        "IPY_MODEL_0888354cbab0435d97aaebd8a2a8dba7",
        "IPY_MODEL_ba97a838d7f144c4993dc71d6e6d9187"
       ],
       "layout": "IPY_MODEL_d7a5d19beabe41d8a6658ce4344ff8c7"
      }
     },
     "d7a5d19beabe41d8a6658ce4344ff8c7": {
      "model_module": "@jupyter-widgets/base",
      "model_module_version": "1.2.0",
      "model_name": "LayoutModel",
      "state": {}
     },
     "de4fdc6bd4d547efbf66543cc0a156b5": {
      "model_module": "@jupyter-widgets/base",
      "model_module_version": "1.2.0",
      "model_name": "LayoutModel",
      "state": {}
     },
     "e00a1009cff1471db06b55fde9ab1419": {
      "model_module": "@jupyter-widgets/base",
      "model_module_version": "1.2.0",
      "model_name": "LayoutModel",
      "state": {
       "margin": "20px 0px 20px 0px"
      }
     },
     "e25eb54e51034261b87faf61b8c1649f": {
      "model_module": "@jupyter-widgets/base",
      "model_module_version": "1.2.0",
      "model_name": "LayoutModel",
      "state": {}
     },
     "e2bc2d1b8ab04756a06aa1a81181b2c4": {
      "model_module": "@jupyter-widgets/controls",
      "model_module_version": "1.5.0",
      "model_name": "DescriptionStyleModel",
      "state": {
       "description_width": ""
      }
     },
     "e824d03365794853951cc1663dce01e0": {
      "model_module": "@jupyter-widgets/base",
      "model_module_version": "1.2.0",
      "model_name": "LayoutModel",
      "state": {}
     },
     "e82e5e23d36f479a9dcccb4db519ec01": {
      "model_module": "@jupyter-widgets/controls",
      "model_module_version": "1.5.0",
      "model_name": "ButtonModel",
      "state": {
       "button_style": "primary",
       "disabled": true,
       "icon": "question",
       "layout": "IPY_MODEL_40becc90e8fc4170ba168a07c16e0bf3",
       "style": "IPY_MODEL_47148526e27b4773a805367a28b0ff3d"
      }
     },
     "e9045c527f824819b385d98d1efbe173": {
      "model_module": "@jupyter-widgets/base",
      "model_module_version": "1.2.0",
      "model_name": "LayoutModel",
      "state": {}
     },
     "edfa41c3d979460d893694b5714f890d": {
      "model_module": "@jupyter-widgets/base",
      "model_module_version": "1.2.0",
      "model_name": "LayoutModel",
      "state": {
       "margin": "20px 0px 0px 0px"
      }
     },
     "ee6c3f12602f4ec482089160f46ee30f": {
      "model_module": "@jupyter-widgets/controls",
      "model_module_version": "1.5.0",
      "model_name": "HBoxModel",
      "state": {
       "children": [
        "IPY_MODEL_35b7e20fc66b47b4ab121b7c609050c3",
        "IPY_MODEL_69cfbdc5d77149d09697d3af5d703188",
        "IPY_MODEL_ad44b939c2f14149b8e0f74af65bbb5e",
        "IPY_MODEL_7292858d3765493c9fe1d3a6ed7d0ef7",
        "IPY_MODEL_3e78717ccb5d41ea9272ef506a15ae26"
       ],
       "layout": "IPY_MODEL_e25eb54e51034261b87faf61b8c1649f"
      }
     },
     "effa5dc11c764a53969df023d2d7999f": {
      "model_module": "@jupyter-widgets/base",
      "model_module_version": "1.2.0",
      "model_name": "LayoutModel",
      "state": {}
     },
     "f18689d978544723b3ed18e230ffd865": {
      "model_module": "@jupyter-widgets/controls",
      "model_module_version": "1.5.0",
      "model_name": "VBoxModel",
      "state": {
       "children": [
        "IPY_MODEL_178db8b9f0e44b6f907518dbe0266ac2",
        "IPY_MODEL_ee6c3f12602f4ec482089160f46ee30f"
       ],
       "layout": "IPY_MODEL_edfa41c3d979460d893694b5714f890d"
      }
     },
     "f462fb6b5f4747079d4eb51301c2f424": {
      "model_module": "@jupyter-widgets/controls",
      "model_module_version": "1.5.0",
      "model_name": "ButtonStyleModel",
      "state": {
       "button_color": "#4B4A4E"
      }
     },
     "f4b7ab7de0154f33836b025b383a4524": {
      "model_module": "@jupyter-widgets/controls",
      "model_module_version": "1.5.0",
      "model_name": "ButtonStyleModel",
      "state": {
       "button_color": "#4B4A4E"
      }
     },
     "f626c90ee88a4762aead131510bbb848": {
      "model_module": "@jupyter-widgets/controls",
      "model_module_version": "1.5.0",
      "model_name": "ButtonStyleModel",
      "state": {
       "button_color": "white"
      }
     },
     "f724d796955340d39c3e787a40ef0c5c": {
      "model_module": "@jupyter-widgets/controls",
      "model_module_version": "1.5.0",
      "model_name": "ButtonStyleModel",
      "state": {}
     },
     "f75d7cf217114f12b2dedef632a3fe83": {
      "model_module": "@jupyter-widgets/controls",
      "model_module_version": "1.5.0",
      "model_name": "ButtonStyleModel",
      "state": {}
     },
     "fd60551bb280478092efe983a73b2760": {
      "model_module": "@jupyter-widgets/controls",
      "model_module_version": "1.5.0",
      "model_name": "HBoxModel",
      "state": {
       "children": [
        "IPY_MODEL_adad2606cda040f9bdc9c2069d470b5c",
        "IPY_MODEL_49196d2501eb4383bc4e6016747a3c4c",
        "IPY_MODEL_ab3bbeaca81149339c61b43c71e337fb",
        "IPY_MODEL_afb14158723b422e966373e543e05906"
       ],
       "layout": "IPY_MODEL_1649332a691742d7bb9148ab76d11a07"
      }
     },
     "fe4817bc929949f0b6b650de3b286fe4": {
      "model_module": "@jupyter-widgets/controls",
      "model_module_version": "1.5.0",
      "model_name": "ButtonStyleModel",
      "state": {}
     },
     "fe6e5ade5cc744aeba20091d0f3c384c": {
      "model_module": "@jupyter-widgets/controls",
      "model_module_version": "1.5.0",
      "model_name": "ButtonModel",
      "state": {
       "button_style": "primary",
       "disabled": true,
       "icon": "question",
       "layout": "IPY_MODEL_4e74ed6e665d461b9e4d76b61596b47a",
       "style": "IPY_MODEL_f462fb6b5f4747079d4eb51301c2f424"
      }
     },
     "ff0cb29f9bf84934bbb40e1ffa2aa3d3": {
      "model_module": "@jupyter-widgets/base",
      "model_module_version": "1.2.0",
      "model_name": "LayoutModel",
      "state": {}
     }
    },
    "version_major": 2,
    "version_minor": 0
   }
  }
 },
 "nbformat": 4,
 "nbformat_minor": 4
}
