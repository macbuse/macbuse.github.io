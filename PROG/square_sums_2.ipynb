{
 "cells": [
  {
   "cell_type": "code",
   "execution_count": 1,
   "metadata": {},
   "outputs": [],
   "source": [
    "import matplotlib.pyplot as plt\n",
    "import numpy as np"
   ]
  },
  {
   "cell_type": "markdown",
   "metadata": {},
   "source": [
    "## Pell's numbers\n",
    "\n",
    "In mathematics, the Pell numbers are an infinite sequence of integers, known since ancient times, that comprise the denominators of the closest rational approximations to the square root of 2. This sequence of approximations begins 1/1,3/2/,7/5...\n",
    ", so the sequence of Pell numbers begins with 1, 2, 5, 12, and 29. The numerators of the same sequence of approximations are half the companion Pell numbers or Pell–Lucas numbers; these numbers form a second infinite sequence that begins with 2, 6, 14, 34, and 82.\n"
   ]
  },
  {
   "cell_type": "code",
   "execution_count": 3,
   "metadata": {},
   "outputs": [],
   "source": [
    "A = np.matrix([1,2])"
   ]
  },
  {
   "cell_type": "code",
   "execution_count": 6,
   "metadata": {},
   "outputs": [
    {
     "data": {
      "text/plain": [
       "matrix([[5]])"
      ]
     },
     "execution_count": 6,
     "metadata": {},
     "output_type": "execute_result"
    }
   ],
   "source": [
    "B = A.transpose()\n",
    "A*B"
   ]
  },
  {
   "cell_type": "code",
   "execution_count": 2,
   "metadata": {},
   "outputs": [
    {
     "name": "stdout",
     "output_type": "stream",
     "text": [
      "1\n",
      "(1+4j)\n",
      "(17+4j)\n",
      "(17+72j)\n",
      "(305+72j)\n",
      "(305+1292j)\n",
      "(5473+1292j)\n",
      "(5473+23184j)\n",
      "(98209+23184j)\n",
      "(98209+416020j)\n"
     ]
    }
   ],
   "source": [
    "x,y,z = 1,2, 1\n",
    "\n",
    "for k in range(10):\n",
    "    x, z = (abs(x**2) + 1J*abs(y**2))*z/abs(z**2), x\n",
    "    print(z)\n",
    "    "
   ]
  },
  {
   "cell_type": "code",
   "execution_count": 4,
   "metadata": {},
   "outputs": [],
   "source": [
    "\n",
    "    "
   ]
  },
  {
   "cell_type": "markdown",
   "metadata": {},
   "source": [
    "\n",
    " $$\\bar{z}z' = |x|^2 + i |y|^2$$\n",
    "\n",
    "this\n",
    " \n",
    " $$z' = \\frac{z(|x|^2 + i |y|^2)}{|z|^2}$$"
   ]
  },
  {
   "cell_type": "code",
   "execution_count": 3,
   "metadata": {},
   "outputs": [
    {
     "data": {
      "text/plain": [
       "[<matplotlib.lines.Line2D at 0x7f5a5e8d2640>]"
      ]
     },
     "execution_count": 3,
     "metadata": {},
     "output_type": "execute_result"
    },
    {
     "data": {
      "image/png": "[encoded data removed]",
      "text/plain": [
       "<Figure size 432x432 with 1 Axes>"
      ]
     },
     "metadata": {
      "needs_background": "light"
     },
     "output_type": "display_data"
    }
   ],
   "source": [
    "L = []\n",
    "\n",
    "def tree_d(nn,dd):\n",
    "    x,y,z = nn\n",
    "    tt = (abs(x**2) + 1J*abs(y**2))*z/abs(z**2)\n",
    "    L.append(tt)\n",
    "    dd -= 1\n",
    "    if dd > 0:\n",
    "        tree_d((tt,y,x), dd)\n",
    "        tree_d((x,tt,y), dd)\n",
    "\n",
    "tree_d(( 1,1+ 2J,1 + 1J), 6)\n",
    "pts = np.array([ w/abs(w) for w in L])\n",
    "fig, ax = plt.subplots()\n",
    "fig.set_size_inches(6,6)\n",
    "ax.set_aspect('equal')\n",
    "#ax.plot(abs(pts.real),abs(pts.imag),'ro')\n",
    "ax.plot(pts.real, pts.imag,'ro')"
   ]
  },
  {
   "cell_type": "code",
   "execution_count": 106,
   "metadata": {},
   "outputs": [],
   "source": [
    "depth = 8\n",
    "\n",
    "L = [[] for k in range(depth + 1) ]\n",
    "\n",
    "def tree_d(nn,dd):\n",
    "    x,y,z = nn\n",
    "    tt = (abs(x**2) + 1J*abs(y**2))*z/abs(z**2)\n",
    "    L[dd].append(tt)\n",
    "    dd -= 1\n",
    "    if dd > 0:\n",
    "        tree_d((x,tt,y), dd)\n",
    "        tree_d((tt,y,x), dd)\n",
    "\n",
    "\n",
    "tree_d(( 1+ 2J,1 + 1J,1), depth)"
   ]
  },
  {
   "cell_type": "code",
   "execution_count": 107,
   "metadata": {},
   "outputs": [],
   "source": [
    "L.reverse()"
   ]
  },
  {
   "cell_type": "code",
   "execution_count": 108,
   "metadata": {},
   "outputs": [
    {
     "data": {
      "text/plain": [
       "([(5+2j)], [(-12+17j), (5+12j)], [(-29+75j), (75+179j), (-70+99j), (29+12j)])"
      ]
     },
     "execution_count": 108,
     "metadata": {},
     "output_type": "execute_result"
    }
   ],
   "source": [
    "L[0],L[1],L[2]"
   ]
  },
  {
   "cell_type": "code",
   "execution_count": 114,
   "metadata": {},
   "outputs": [
    {
     "data": {
      "text/plain": [
       "[(2673-3793j),\n",
       " (249755+596067j),\n",
       " (-21725758-8399339j),\n",
       " (-4927080-3472259j),\n",
       " (-51850853+21725762j),\n",
       " (-730839046+1889811349j),\n",
       " (-428598301-302045899j),\n",
       " (1454879+3472225j),\n",
       " (-8474671-3277375j),\n",
       " (-1763331701+2493975901j),\n",
       " (-26274294958+11009056145j),\n",
       " (-285093959+737198950j),\n",
       " (-167011056-118082893j),\n",
       " (737198954+1759491857j),\n",
       " (-19091541+49367107j),\n",
       " (-90903+128569j),\n",
       " (-38014-90729j),\n",
       " (19091541+7892380j),\n",
       " (-379815035-268543168j),\n",
       " (-45999434+19272999j),\n",
       " (-45999424+111271871j),\n",
       " (-1565259572+2213617775j),\n",
       " (-268100050+112329469j),\n",
       " (1279156+528799j),\n",
       " (-292538-206855j),\n",
       " (7455406+17992853j),\n",
       " (-17963443+43453270j),\n",
       " (-1205641+1705034j),\n",
       " (-206845+85707j),\n",
       " (499397+206845j),\n",
       " (-13860+19601j),\n",
       " (169+408j)]"
      ]
     },
     "execution_count": 114,
     "metadata": {},
     "output_type": "execute_result"
    }
   ],
   "source": [
    "L[-4]"
   ]
  },
  {
   "cell_type": "markdown",
   "metadata": {},
   "source": [
    "# Fibonnaci numbers"
   ]
  },
  {
   "cell_type": "code",
   "execution_count": 7,
   "metadata": {},
   "outputs": [
    {
     "name": "stdout",
     "output_type": "stream",
     "text": [
      "(2+1j)\n",
      "(2+3j)\n",
      "(5+3j)\n",
      "(5+8j)\n",
      "(13+8j)\n",
      "(13+21j)\n",
      "(34+21j)\n",
      "(34+55j)\n",
      "(89+55j)\n",
      "(89+144j)\n",
      "(233+144j)\n",
      "(233+377j)\n",
      "(610+377j)\n",
      "(610+987j)\n",
      "(1597+987j)\n",
      "(1597+2584j)\n",
      "(4181+2584j)\n",
      "(4181+6765j)\n",
      "(10946+6765j)\n",
      "(10946+17711j)\n"
     ]
    }
   ],
   "source": [
    "x, y = 1 + 0J, 1 + 1J\n",
    "\n",
    "for k in range(20):\n",
    "    z = y*y.conjugate() + 1J\n",
    "    u = x*z/ (x*x.conjugate())\n",
    "    print(u)\n",
    "    x, y = y, u"
   ]
  },
  {
   "cell_type": "code",
   "execution_count": 8,
   "metadata": {},
   "outputs": [
    {
     "name": "stdout",
     "output_type": "stream",
     "text": [
      "(2+5j)\n",
      "(-5+12j)\n",
      "(-29+12j)\n",
      "(-70-29j)\n",
      "(-70-169j)\n",
      "(169-408j)\n",
      "(985-408j)\n",
      "(2378+985j)\n",
      "(2378+5741j)\n",
      "(-5741+13860j)\n",
      "(-33461+13860j)\n",
      "(-80782-33461j)\n",
      "(-80782-195025j)\n",
      "(195025-470832j)\n",
      "(1136689-470832j)\n"
     ]
    }
   ],
   "source": [
    "x, y = 1 + 0J, 2 + 1J\n",
    "\n",
    "for k in range(15):\n",
    "    z = y*y.conjugate()*1J + 2\n",
    "    u = x*z/ (x*x.conjugate())\n",
    "    print(u)\n",
    "    x, y = y, u\n"
   ]
  },
  {
   "cell_type": "code",
   "execution_count": 98,
   "metadata": {},
   "outputs": [
    {
     "data": {
      "text/plain": [
       "((-29+75j), 27)"
      ]
     },
     "execution_count": 98,
     "metadata": {},
     "output_type": "execute_result"
    }
   ],
   "source": [
    "(5 + (12**2 + 17**2)*1J)*(5 + 2J)/29, (12**2 + 17**2) % 29"
   ]
  },
  {
   "cell_type": "code",
   "execution_count": 125,
   "metadata": {},
   "outputs": [
    {
     "data": {
      "text/plain": [
       "(13+21j)"
      ]
     },
     "execution_count": 125,
     "metadata": {},
     "output_type": "execute_result"
    }
   ],
   "source": [
    "(5 + 8J)*(233 + 1J)/89"
   ]
  },
  {
   "cell_type": "code",
   "execution_count": 118,
   "metadata": {},
   "outputs": [
    {
     "data": {
      "text/plain": [
       "(7922, 7922, (13+8j))"
      ]
     },
     "execution_count": 118,
     "metadata": {},
     "output_type": "execute_result"
    }
   ],
   "source": [
    "233*34, 89**2 + 1 , (89 + 1J)*(5 + 3J)/34"
   ]
  },
  {
   "cell_type": "code",
   "execution_count": 105,
   "metadata": {},
   "outputs": [
    {
     "data": {
      "text/plain": [
       "0"
      ]
     },
     "execution_count": 105,
     "metadata": {},
     "output_type": "execute_result"
    }
   ],
   "source": [
    "(5**2 + 3**2) % 34"
   ]
  },
  {
   "cell_type": "code",
   "execution_count": 10,
   "metadata": {},
   "outputs": [
    {
     "data": {
      "text/plain": [
       "1.2566835449550775"
      ]
     },
     "execution_count": 10,
     "metadata": {},
     "output_type": "execute_result"
    }
   ],
   "source": [
    "54.37**3/50.383**3"
   ]
  },
  {
   "cell_type": "code",
   "execution_count": 37,
   "metadata": {},
   "outputs": [
    {
     "data": {
      "text/plain": [
       "[((-2+3j), (-2+3j)),\n",
       " ((13+5j), (13+5j)),\n",
       " ((-31+44j), (-31+44j)),\n",
       " ((194+75j), (194+75j)),\n",
       " ((-463+657j), (-463+657j)),\n",
       " ((2897+1120j), (2897+1120j)),\n",
       " ((-249755+146508j), (-249755+146508j)),\n",
       " ((-16725+9811j), (-16725+9811j)),\n",
       " ((-4023930+5709989j), (-4023930+5709989j)),\n",
       " ((-651812+1686059j), (-651812+1686059j)),\n",
       " ((-1120+657j), (-1120+657j)),\n",
       " ((112908+43649j), (112908+43649j)),\n",
       " ((-9733921+5709985j), (-9733921+5709985j)),\n",
       " ((-222576507-156776947j), (-222576507-156776947j)),\n",
       " ((-25610-18039j), (-25610-18039j)),\n",
       " ((65712262+25403643j), (65712262+25403643j)),\n",
       " ((-382373-651838j), (-382373-651838j)),\n",
       " ((-75+44j), (-75+44j)),\n",
       " ((-1208+1715j), (-1208+1715j)),\n",
       " ((-43651+25606j), (-43651+25606j)),\n",
       " ((-703054+998127j), (-703054+998127j)),\n",
       " ((-65712262+171731979j), (-65712262+171731979j)),\n",
       " ((-112908+295073j), (-112908+295073j)),\n",
       " ((-990135631+580820897j), (-990135631+580820897j)),\n",
       " ((-38901347-27401061j), (-38901347-27401061j)),\n",
       " ((-194+507j), (-194+507j)),\n",
       " ((-47081+66841j), (-47081+66841j)),\n",
       " ((-4400515+11500276j), (-4400515+11500276j)),\n",
       " ((-38901343-66302410j), (-38901343-66302410j)),\n",
       " ((-1715-2923j), (-1715-2923j)),\n",
       " ((-1834951+2605084j), (-1834951+2605084j)),\n",
       " ((-19760-7561j), (-19760-7561j)),\n",
       " ((-5+3j), (-5+3j)),\n",
       " ((34+13j), (34+13j)),\n",
       " ((-196+115j), (-196+115j)),\n",
       " ((1325+507j), (1325+507j)),\n",
       " ((-7639+4482j), (-7639+4482j)),\n",
       " ((-472408-297725j), (-472408-297725j)),\n",
       " ((-12121-7639j), (-12121-7639j)),\n",
       " ((5266875+2015324j), (5266875+2015324j)),\n",
       " ((-457130-779097j), (-457130-779097j)),\n",
       " ((-311-196j), (-311-196j)),\n",
       " ((-19990+11729j), (-19990+11729j)),\n",
       " ((-1236223-779103j), (-1236223-779103j)),\n",
       " ((-5266875+13785299j), (-5266875+13785299j)),\n",
       " ((-1325+3468j), (-1325+3468j)),\n",
       " ((-2038784+1196243j), (-2038784+1196243j)),\n",
       " ((19990-31719j), (19990-31719j)),\n",
       " ((-8-5j), (-8-5j)),\n",
       " ((89+34j), (89+34j)),\n",
       " ((-814-513j), (-814-513j)),\n",
       " ((9077+3468j), (9077+3468j)),\n",
       " ((-83020-135341j), (-83020-135341j)),\n",
       " ((-814-1327j), (-814-1327j)),\n",
       " ((-217335-136969j), (-217335-136969j)),\n",
       " ((-9077+23763j), (-9077+23763j)),\n",
       " ((-8-13j), (-8-13j)),\n",
       " ((233+89j), (233+89j)),\n",
       " ((-2131-3474j), (-2131-3474j)),\n",
       " ((3474-5605j), (3474-5605j)),\n",
       " ((13-21j), (13-21j)),\n",
       " ((610+233j), (610+233j)),\n",
       " ((34-21j), (34-21j))]"
      ]
     },
     "execution_count": 37,
     "metadata": {},
     "output_type": "execute_result"
    }
   ],
   "source": [
    "TT = L[:]\n",
    "\n",
    "[(x,y) for x,y in zip(L,TT)]"
   ]
  },
  {
   "cell_type": "code",
   "execution_count": 7,
   "metadata": {},
   "outputs": [],
   "source": []
  },
  {
   "cell_type": "code",
   "execution_count": 16,
   "metadata": {},
   "outputs": [
    {
     "data": {
      "image/png": "[encoded data removed]",
      "text/plain": [
       "<Figure size 432x432 with 1 Axes>"
      ]
     },
     "metadata": {
      "needs_background": "light"
     },
     "output_type": "display_data"
    }
   ],
   "source": [
    "L = []\n",
    "\n",
    "\n",
    "def tree(nn,dd):\n",
    "    x,y,z = nn\n",
    "    L.append((x,y,z))\n",
    "    tt = (abs(x**2) + 1J*abs(y**2))*z/abs(z**2)  \n",
    "    dd -= 1\n",
    "    if dd > 0:\n",
    "        tree((tt,y,x), dd)\n",
    "        tree((x,tt,y), dd)\n",
    "        \n",
    "        \n",
    "tree((1,1,1),4)\n",
    "fig, ax = plt.subplots()\n",
    "fig.set_size_inches(6,6)\n",
    "ax.set_aspect('equal')\n",
    "\n",
    "\n",
    "for xx in L:\n",
    "    pts = np.array([ w/abs(w) for w in xx])\n",
    "    ax.plot(pts.real,pts.imag)\n",
    "    "
   ]
  },
  {
   "cell_type": "code",
   "execution_count": 9,
   "metadata": {},
   "outputs": [],
   "source": [
    "FF = []\n",
    "\n",
    "for ee in [1,-1]:\n",
    "    z,x = 1 + 1J,1\n",
    "    for k in range(20):\n",
    "        x,z = (abs(x**2) + 5*1J*ee)*z/abs(z**2), x\n",
    "        FF.append(z)"
   ]
  },
  {
   "cell_type": "code",
   "execution_count": 10,
   "metadata": {},
   "outputs": [
    {
     "data": {
      "text/plain": [
       "[1, (-2+3j), (13+5j), (-31+44j), (194+75j), (-463+657j)]"
      ]
     },
     "execution_count": 10,
     "metadata": {},
     "output_type": "execute_result"
    }
   ],
   "source": [
    "FF[:6]"
   ]
  },
  {
   "cell_type": "code",
   "execution_count": 130,
   "metadata": {},
   "outputs": [
    {
     "data": {
      "text/plain": [
       "[1,\n",
       " 13.0,\n",
       " 194.0,\n",
       " 2897.0,\n",
       " 43261.0,\n",
       " 646018.0,\n",
       " 9647009.0,\n",
       " 144059117.0,\n",
       " 2151239746.0,\n",
       " 32124537073.0]"
      ]
     },
     "execution_count": 130,
     "metadata": {},
     "output_type": "execute_result"
    }
   ],
   "source": [
    "[ z.real**2 + z.imag**2 for z in FF[:10]]"
   ]
  },
  {
   "cell_type": "code",
   "execution_count": 132,
   "metadata": {},
   "outputs": [
    {
     "data": {
      "text/plain": [
       "[-0.6666666666666666,\n",
       " 2.6,\n",
       " -0.7045454545454546,\n",
       " 2.5866666666666664,\n",
       " -0.7047184170471842,\n",
       " 2.586607142857143,\n",
       " -0.7047191927428397,\n",
       " 2.58660687593423,\n",
       " -0.7047191962213668,\n",
       " 2.5866068747372424,\n",
       " -0.7047191962369659,\n",
       " 2.5866068747318742,\n",
       " -0.7047191962370357,\n",
       " 2.58660687473185,\n",
       " -0.7047191962370359,\n",
       " 2.58660687473185,\n",
       " -0.7047191962370358,\n",
       " 2.58660687473185,\n",
       " -0.7047191962370357]"
      ]
     },
     "execution_count": 132,
     "metadata": {},
     "output_type": "execute_result"
    }
   ],
   "source": [
    "[ z.real/z.imag for z in FF[1:20]]"
   ]
  },
  {
   "cell_type": "code",
   "execution_count": 126,
   "metadata": {},
   "outputs": [
    {
     "data": {
      "text/plain": [
       "0.2724492860207422"
      ]
     },
     "execution_count": 126,
     "metadata": {},
     "output_type": "execute_result"
    }
   ],
   "source": [
    "_[-1]*_[-2]"
   ]
  },
  {
   "cell_type": "code",
   "execution_count": 134,
   "metadata": {},
   "outputs": [
    {
     "data": {
      "text/plain": [
       "2.23606797749979"
      ]
     },
     "execution_count": 134,
     "metadata": {},
     "output_type": "execute_result"
    }
   ],
   "source": [
    "np.sqrt(5)"
   ]
  },
  {
   "cell_type": "code",
   "execution_count": 3,
   "metadata": {},
   "outputs": [],
   "source": [
    "def gcde(a, b): \n",
    "    # Base Case \n",
    "    if a == 0 :  \n",
    "        return b,0,1\n",
    "             \n",
    "    gcd,x1,y1 = gcde(b%a, a) \n",
    "     \n",
    "    x = y1 - (b//a) * x1 \n",
    "    y = x1 \n",
    "     \n",
    "    return gcd,x,y"
   ]
  },
  {
   "cell_type": "code",
   "execution_count": 144,
   "metadata": {},
   "outputs": [
    {
     "data": {
      "text/plain": [
       "(1, -17, 12)"
      ]
     },
     "execution_count": 144,
     "metadata": {},
     "output_type": "execute_result"
    }
   ],
   "source": [
    "gcde(31,44)"
   ]
  },
  {
   "cell_type": "code",
   "execution_count": 145,
   "metadata": {},
   "outputs": [
    {
     "data": {
      "text/plain": [
       "1"
      ]
     },
     "execution_count": 145,
     "metadata": {},
     "output_type": "execute_result"
    }
   ],
   "source": [
    "12*44 - 17*31"
   ]
  },
  {
   "cell_type": "code",
   "execution_count": 16,
   "metadata": {},
   "outputs": [
    {
     "data": {
      "text/plain": [
       "(-4+2j)"
      ]
     },
     "execution_count": 16,
     "metadata": {},
     "output_type": "execute_result"
    }
   ],
   "source": [
    "(1 + 1J)**2 * (1 + 2J)"
   ]
  },
  {
   "cell_type": "code",
   "execution_count": 19,
   "metadata": {},
   "outputs": [
    {
     "data": {
      "text/plain": [
       "(-5+10j)"
      ]
     },
     "execution_count": 19,
     "metadata": {},
     "output_type": "execute_result"
    }
   ],
   "source": [
    "(1+2J)*(3 + 4J)"
   ]
  },
  {
   "cell_type": "code",
   "execution_count": 20,
   "metadata": {},
   "outputs": [
    {
     "data": {
      "text/plain": [
       "(125+0j)"
      ]
     },
     "execution_count": 20,
     "metadata": {},
     "output_type": "execute_result"
    }
   ],
   "source": [
    "_*_.conjugate()"
   ]
  },
  {
   "cell_type": "code",
   "execution_count": 21,
   "metadata": {},
   "outputs": [
    {
     "data": {
      "text/plain": [
       "5.0"
      ]
     },
     "execution_count": 21,
     "metadata": {},
     "output_type": "execute_result"
    }
   ],
   "source": []
  },
  {
   "cell_type": "code",
   "execution_count": 31,
   "metadata": {},
   "outputs": [
    {
     "data": {
      "text/plain": [
       "([1, 14, 51, 64], [8, 18, 47, 57])"
      ]
     },
     "execution_count": 31,
     "metadata": {},
     "output_type": "execute_result"
    }
   ],
   "source": [
    "[x for x in range(65) if x*x % 65 == 1], [x for x in range(65) if x*x % 65 == 64]"
   ]
  },
  {
   "cell_type": "code",
   "execution_count": 27,
   "metadata": {},
   "outputs": [
    {
     "data": {
      "text/plain": [
       "47"
      ]
     },
     "execution_count": 27,
     "metadata": {},
     "output_type": "execute_result"
    }
   ],
   "source": [
    "14*8 % 65"
   ]
  },
  {
   "cell_type": "code",
   "execution_count": 28,
   "metadata": {},
   "outputs": [
    {
     "data": {
      "text/plain": [
       "64"
      ]
     },
     "execution_count": 28,
     "metadata": {},
     "output_type": "execute_result"
    }
   ],
   "source": [
    "47**2 % 65"
   ]
  },
  {
   "cell_type": "code",
   "execution_count": 36,
   "metadata": {},
   "outputs": [],
   "source": [
    "X = np.array([ [1,3],[5,13]] )"
   ]
  },
  {
   "cell_type": "code",
   "execution_count": 37,
   "metadata": {},
   "outputs": [
    {
     "data": {
      "text/plain": [
       "-1.9999999999999991"
      ]
     },
     "execution_count": 37,
     "metadata": {},
     "output_type": "execute_result"
    }
   ],
   "source": [
    "np.linalg.det(X)"
   ]
  },
  {
   "cell_type": "code",
   "execution_count": 38,
   "metadata": {},
   "outputs": [
    {
     "data": {
      "text/plain": [
       "48"
      ]
     },
     "execution_count": 38,
     "metadata": {},
     "output_type": "execute_result"
    }
   ],
   "source": [
    "4*12"
   ]
  },
  {
   "cell_type": "code",
   "execution_count": 41,
   "metadata": {},
   "outputs": [
    {
     "data": {
      "text/plain": [
       "((8-1j), (-4+7j))"
      ]
     },
     "execution_count": 41,
     "metadata": {},
     "output_type": "execute_result"
    }
   ],
   "source": [
    "(1-2J)*(2+3J), (1+2J)*(2+3J)"
   ]
  },
  {
   "cell_type": "code",
   "execution_count": 43,
   "metadata": {},
   "outputs": [
    {
     "data": {
      "text/plain": [
       "([1, 16, 69, 84], [13, 38, 47, 72])"
      ]
     },
     "execution_count": 43,
     "metadata": {},
     "output_type": "execute_result"
    }
   ],
   "source": [
    "N = 5*17\n",
    "\n",
    "[x for x in range(N) if x*x % N == 1], [x for x in range(N) if (x*x +1) % N  == 0]"
   ]
  },
  {
   "cell_type": "code",
   "execution_count": 49,
   "metadata": {},
   "outputs": [
    {
     "data": {
      "text/plain": [
       "4.0"
      ]
     },
     "execution_count": 49,
     "metadata": {},
     "output_type": "execute_result"
    }
   ],
   "source": [
    "68/17"
   ]
  },
  {
   "cell_type": "code",
   "execution_count": 48,
   "metadata": {},
   "outputs": [
    {
     "data": {
      "text/plain": [
       "-1.9999999999999991"
      ]
     },
     "execution_count": 48,
     "metadata": {},
     "output_type": "execute_result"
    }
   ],
   "source": [
    "np.linalg.det( np.array([[3,17], [1,5]]) )"
   ]
  },
  {
   "cell_type": "code",
   "execution_count": 50,
   "metadata": {},
   "outputs": [
    {
     "data": {
      "text/plain": [
       "2.000000000000003"
      ]
     },
     "execution_count": 50,
     "metadata": {},
     "output_type": "execute_result"
    }
   ],
   "source": [
    "np.linalg.det( np.array([[14,17], [4,5]]) )"
   ]
  },
  {
   "cell_type": "code",
   "execution_count": 37,
   "metadata": {},
   "outputs": [],
   "source": [
    "def gcd(a,b):\n",
    "    x = []\n",
    "    if b >a:\n",
    "        a,b = b,a\n",
    "    while b > 0:\n",
    "        a, b, q = b, a % b, a // b\n",
    "        x.append(q)\n",
    "    return a, x\n",
    "        "
   ]
  },
  {
   "cell_type": "code",
   "execution_count": 38,
   "metadata": {},
   "outputs": [
    {
     "data": {
      "text/plain": [
       "(1, [2, 3, 1, 2, 5])"
      ]
     },
     "execution_count": 38,
     "metadata": {},
     "output_type": "execute_result"
    }
   ],
   "source": [
    "gcd(59, 2*67)"
   ]
  },
  {
   "cell_type": "code",
   "execution_count": 40,
   "metadata": {},
   "outputs": [
    {
     "data": {
      "text/plain": [
       "[76,\n",
       " 79,\n",
       " 82,\n",
       " 85,\n",
       " 88,\n",
       " 91,\n",
       " 94,\n",
       " 97,\n",
       " 100,\n",
       " 103,\n",
       " 106,\n",
       " 109,\n",
       " 112,\n",
       " 115,\n",
       " 118,\n",
       " 121,\n",
       " 124,\n",
       " 127,\n",
       " 130,\n",
       " 133]"
      ]
     },
     "execution_count": 40,
     "metadata": {},
     "output_type": "execute_result"
    }
   ],
   "source": [
    "[3*k + 1 for k in range(25,45)]"
   ]
  },
  {
   "cell_type": "code",
   "execution_count": 31,
   "metadata": {},
   "outputs": [
    {
     "data": {
      "text/plain": [
       "(1, [7, 3, 1, 1, 3])"
      ]
     },
     "execution_count": 31,
     "metadata": {},
     "output_type": "execute_result"
    }
   ],
   "source": [
    "gcd(25, 182)"
   ]
  },
  {
   "cell_type": "code",
   "execution_count": 6,
   "metadata": {},
   "outputs": [],
   "source": [
    "xx = []\n",
    "for i in range(1,20,2):\n",
    "    for j in range(i,20):\n",
    "        \n",
    "        tt = i**2 + j**2 - i*j\n",
    "        if tt % 3 != 1 : continue\n",
    "        a,b = (i,j) if i < j else (j,i)\n",
    "            \n",
    "        xx.append( [a,b, tt])\n",
    "        \n",
    "xx.sort(key = lambda x:x[2])\n"
   ]
  },
  {
   "cell_type": "code",
   "execution_count": 5,
   "metadata": {},
   "outputs": [],
   "source": [
    "uu = xx[:]"
   ]
  },
  {
   "cell_type": "code",
   "execution_count": 11,
   "metadata": {},
   "outputs": [
    {
     "data": {
      "text/plain": [
       "[[1, 1, 1],\n",
       " [1, 3, 7],\n",
       " [1, 4, 13],\n",
       " [3, 4, 13],\n",
       " [3, 5, 19],\n",
       " [5, 5, 25],\n",
       " [1, 6, 31],\n",
       " [5, 6, 31],\n",
       " [3, 7, 37],\n",
       " [1, 7, 43],\n",
       " [3, 8, 49],\n",
       " [5, 8, 49],\n",
       " [7, 7, 49],\n",
       " [5, 9, 61],\n",
       " [7, 9, 67],\n",
       " [1, 9, 73],\n",
       " [3, 10, 79],\n",
       " [7, 10, 79],\n",
       " [1, 10, 91],\n",
       " [5, 11, 91]]"
      ]
     },
     "execution_count": 11,
     "metadata": {},
     "output_type": "execute_result"
    }
   ],
   "source": [
    "xx[:20]"
   ]
  },
  {
   "cell_type": "code",
   "execution_count": 12,
   "metadata": {},
   "outputs": [
    {
     "data": {
      "text/plain": [
       "[[1, 2, 7],\n",
       " [1, 3, 13],\n",
       " [1, 5, 31],\n",
       " [3, 4, 37],\n",
       " [1, 6, 43],\n",
       " [3, 5, 49],\n",
       " [1, 8, 73],\n",
       " [3, 7, 79],\n",
       " [1, 9, 91],\n",
       " [5, 6, 91],\n",
       " [3, 8, 97],\n",
       " [5, 7, 109],\n",
       " [1, 11, 133],\n",
       " [3, 10, 139],\n",
       " [5, 9, 151]]"
      ]
     },
     "execution_count": 12,
     "metadata": {},
     "output_type": "execute_result"
    }
   ],
   "source": [
    "uu[:15]"
   ]
  },
  {
   "cell_type": "code",
   "execution_count": 107,
   "metadata": {},
   "outputs": [
    {
     "data": {
      "text/plain": [
       "(1, [1, 1, 2, 15, 2, 3])"
      ]
     },
     "execution_count": 107,
     "metadata": {},
     "output_type": "execute_result"
    }
   ],
   "source": [
    "gcd(331, 277*2)"
   ]
  },
  {
   "cell_type": "code",
   "execution_count": 35,
   "metadata": {},
   "outputs": [
    {
     "data": {
      "text/plain": [
       "43.0"
      ]
     },
     "execution_count": 35,
     "metadata": {},
     "output_type": "execute_result"
    }
   ],
   "source": [
    "129/3"
   ]
  },
  {
   "cell_type": "code",
   "execution_count": 90,
   "metadata": {},
   "outputs": [],
   "source": [
    "z = np.exp(1J*np.pi/3)\n"
   ]
  },
  {
   "cell_type": "code",
   "execution_count": 80,
   "metadata": {},
   "outputs": [
    {
     "data": {
      "text/plain": [
       "3.000000000000001"
      ]
     },
     "execution_count": 80,
     "metadata": {},
     "output_type": "execute_result"
    }
   ],
   "source": [
    "abs((z+2)**2)"
   ]
  },
  {
   "cell_type": "code",
   "execution_count": 106,
   "metadata": {},
   "outputs": [
    {
     "data": {
      "text/plain": [
       "(160.50000000000003+0.8660254037844339j)"
      ]
     },
     "execution_count": 106,
     "metadata": {},
     "output_type": "execute_result"
    }
   ],
   "source": [
    "(7*z + 4)*(12*z.conjugate() + 7)"
   ]
  },
  {
   "cell_type": "code",
   "execution_count": 101,
   "metadata": {},
   "outputs": [
    {
     "data": {
      "text/plain": [
       "241.00000000000003"
      ]
     },
     "execution_count": 101,
     "metadata": {},
     "output_type": "execute_result"
    }
   ],
   "source": [
    "abs(z.conjugate() + 15)**2"
   ]
  },
  {
   "cell_type": "code",
   "execution_count": 102,
   "metadata": {},
   "outputs": [
    {
     "data": {
      "text/plain": [
       "451.0"
      ]
     },
     "execution_count": 102,
     "metadata": {},
     "output_type": "execute_result"
    }
   ],
   "source": [
    "2*225.5"
   ]
  },
  {
   "cell_type": "code",
   "execution_count": 86,
   "metadata": {},
   "outputs": [
    {
     "data": {
      "text/plain": [
       "((0.5000000000000001+0.8660254037844386j),\n",
       " (-0.4999999999999998+0.8660254037844388j))"
      ]
     },
     "execution_count": 86,
     "metadata": {},
     "output_type": "execute_result"
    }
   ],
   "source": [
    "\n",
    "w = np.exp(1J*np.pi/3)\n",
    "z = w**2\n",
    "w, z"
   ]
  },
  {
   "cell_type": "code",
   "execution_count": 69,
   "metadata": {},
   "outputs": [
    {
     "data": {
      "text/plain": [
       "((3+0j), (1.0000000000000004+0j))"
      ]
     },
     "execution_count": 69,
     "metadata": {},
     "output_type": "execute_result"
    }
   ],
   "source": [
    "(w + 1)*(w.conjugate() + 1), (z + 1)*(z.conjugate() + 1)"
   ]
  },
  {
   "cell_type": "code",
   "execution_count": 88,
   "metadata": {},
   "outputs": [
    {
     "data": {
      "text/plain": [
       "((0.5+0.28867513459481287j), (0.5000000000000003+0.8660254037844388j))"
      ]
     },
     "execution_count": 88,
     "metadata": {},
     "output_type": "execute_result"
    }
   ],
   "source": [
    "w*(w.conjugate() + 1)/3 , z*(z.conjugate() + 1) "
   ]
  },
  {
   "cell_type": "markdown",
   "metadata": {},
   "source": [
    "---"
   ]
  },
  {
   "cell_type": "code",
   "execution_count": 57,
   "metadata": {},
   "outputs": [
    {
     "data": {
      "text/plain": [
       "((0.5000000000000001+0.8660254037844386j), (7+0j))"
      ]
     },
     "execution_count": 57,
     "metadata": {},
     "output_type": "execute_result"
    }
   ],
   "source": [
    "w, (w+2)*(w.conjugate()+ 2)"
   ]
  },
  {
   "cell_type": "code",
   "execution_count": 73,
   "metadata": {},
   "outputs": [
    {
     "data": {
      "text/plain": [
       "(7+0j)"
      ]
     },
     "execution_count": 73,
     "metadata": {},
     "output_type": "execute_result"
    }
   ],
   "source": [
    "(z + 3)*(z.conjugate() + 3)"
   ]
  },
  {
   "cell_type": "code",
   "execution_count": 89,
   "metadata": {},
   "outputs": [
    {
     "data": {
      "text/plain": [
       "(4.500000000000001+0.8660254037844388j)"
      ]
     },
     "execution_count": 89,
     "metadata": {},
     "output_type": "execute_result"
    }
   ],
   "source": [
    "(z + 2)*(z.conjugate() + 3)"
   ]
  },
  {
   "cell_type": "code",
   "execution_count": 81,
   "metadata": {},
   "outputs": [
    {
     "data": {
      "text/plain": [
       "(4.5+0.8660254037844384j)"
      ]
     },
     "execution_count": 81,
     "metadata": {},
     "output_type": "execute_result"
    }
   ],
   "source": [
    "(w + 1)*(w.conjugate() + 2)"
   ]
  },
  {
   "cell_type": "code",
   "execution_count": 85,
   "metadata": {},
   "outputs": [
    {
     "data": {
      "text/plain": [
       "(3.0000000000000013+0j)"
      ]
     },
     "execution_count": 85,
     "metadata": {},
     "output_type": "execute_result"
    }
   ],
   "source": [
    "(z + 2)*(z.conjugate() + 2)"
   ]
  },
  {
   "cell_type": "code",
   "execution_count": 31,
   "metadata": {},
   "outputs": [
    {
     "data": {
      "text/plain": [
       "<function complex128.conjugate>"
      ]
     },
     "execution_count": 31,
     "metadata": {},
     "output_type": "execute_result"
    }
   ],
   "source": [
    "z.conjugate"
   ]
  },
  {
   "cell_type": "code",
   "execution_count": 97,
   "metadata": {},
   "outputs": [
    {
     "data": {
      "text/plain": [
       "21.0"
      ]
     },
     "execution_count": 97,
     "metadata": {},
     "output_type": "execute_result"
    }
   ],
   "source": [
    "pp = (w+1)*(2*w + 1)\n",
    "abs(pp)**2"
   ]
  },
  {
   "cell_type": "code",
   "execution_count": 96,
   "metadata": {},
   "outputs": [
    {
     "data": {
      "text/plain": [
       "4.58257569495584"
      ]
     },
     "execution_count": 96,
     "metadata": {},
     "output_type": "execute_result"
    }
   ],
   "source": [
    "abs(_)"
   ]
  },
  {
   "cell_type": "code",
   "execution_count": 98,
   "metadata": {},
   "outputs": [
    {
     "data": {
      "text/plain": [
       "(1.5000000000000002+4.330127018922193j)"
      ]
     },
     "execution_count": 98,
     "metadata": {},
     "output_type": "execute_result"
    }
   ],
   "source": [
    "pp"
   ]
  },
  {
   "cell_type": "code",
   "execution_count": 100,
   "metadata": {},
   "outputs": [
    {
     "data": {
      "text/plain": [
       "5.0"
      ]
     },
     "execution_count": 100,
     "metadata": {},
     "output_type": "execute_result"
    }
   ],
   "source": [
    "4.330127018922193/w.imag"
   ]
  },
  {
   "cell_type": "code",
   "execution_count": 102,
   "metadata": {},
   "outputs": [
    {
     "data": {
      "text/plain": [
       "(1.1102230246251565e-16+2.220446049250313e-16j)"
      ]
     },
     "execution_count": 102,
     "metadata": {},
     "output_type": "execute_result"
    }
   ],
   "source": [
    "w**2 - w + 1"
   ]
  },
  {
   "cell_type": "code",
   "execution_count": 103,
   "metadata": {},
   "outputs": [
    {
     "data": {
      "text/plain": [
       "(0.5000000000000001+0.8660254037844386j)"
      ]
     },
     "execution_count": 103,
     "metadata": {},
     "output_type": "execute_result"
    }
   ],
   "source": []
  },
  {
   "cell_type": "code",
   "execution_count": 106,
   "metadata": {},
   "outputs": [],
   "source": [
    "ff = (3*w + 2)*(w + 1)"
   ]
  },
  {
   "cell_type": "code",
   "execution_count": 107,
   "metadata": {},
   "outputs": [
    {
     "data": {
      "text/plain": [
       "57.000000000000014"
      ]
     },
     "execution_count": 107,
     "metadata": {},
     "output_type": "execute_result"
    }
   ],
   "source": [
    "abs(ff)**2"
   ]
  },
  {
   "cell_type": "code",
   "execution_count": 111,
   "metadata": {},
   "outputs": [
    {
     "data": {
      "text/plain": [
       "8.000000000000002"
      ]
     },
     "execution_count": 111,
     "metadata": {},
     "output_type": "execute_result"
    }
   ],
   "source": [
    "ff.imag/np.sqrt(3)*2"
   ]
  },
  {
   "cell_type": "code",
   "execution_count": 113,
   "metadata": {},
   "outputs": [
    {
     "data": {
      "text/plain": [
       "(3.000000000000001+6.92820323027551j)"
      ]
     },
     "execution_count": 113,
     "metadata": {},
     "output_type": "execute_result"
    }
   ],
   "source": [
    "ff"
   ]
  },
  {
   "cell_type": "code",
   "execution_count": 115,
   "metadata": {},
   "outputs": [
    {
     "data": {
      "text/plain": [
       "(3.000000000000001+6.928203230275509j)"
      ]
     },
     "execution_count": 115,
     "metadata": {},
     "output_type": "execute_result"
    }
   ],
   "source": [
    "8*w -1"
   ]
  },
  {
   "cell_type": "code",
   "execution_count": 116,
   "metadata": {},
   "outputs": [],
   "source": [
    "import re"
   ]
  },
  {
   "cell_type": "code",
   "execution_count": 152,
   "metadata": {},
   "outputs": [],
   "source": [
    "\n",
    "rr = re.compile('(\\$[^\\s].*?\\$)')"
   ]
  },
  {
   "cell_type": "code",
   "execution_count": 153,
   "metadata": {},
   "outputs": [
    {
     "data": {
      "text/plain": [
       "['$hhh$']"
      ]
     },
     "execution_count": 153,
     "metadata": {},
     "output_type": "execute_result"
    }
   ],
   "source": [
    "sss = '''\n",
    "\n",
    "$ gggg$\n",
    "$hhh$\n",
    "'''\n",
    "rr.findall(sss)"
   ]
  },
  {
   "cell_type": "code",
   "execution_count": 129,
   "metadata": {},
   "outputs": [
    {
     "data": {
      "text/plain": [
       "['$ gggg$', '$hhh$']"
      ]
     },
     "execution_count": 129,
     "metadata": {},
     "output_type": "execute_result"
    }
   ],
   "source": []
  },
  {
   "cell_type": "code",
   "execution_count": 21,
   "metadata": {},
   "outputs": [
    {
     "data": {
      "text/plain": [
       "array([[ 4,  2,  4],\n",
       "       [ 0, -5,  3],\n",
       "       [ 1,  1,  1]])"
      ]
     },
     "execution_count": 21,
     "metadata": {},
     "output_type": "execute_result"
    }
   ],
   "source": [
    "mm = np.array([4,2,4,0,-5,3,1,1,1]).reshape(3,3)\n",
    "mm"
   ]
  },
  {
   "cell_type": "code",
   "execution_count": 22,
   "metadata": {},
   "outputs": [],
   "source": [
    "mm[0] -= 4*mm[2]"
   ]
  },
  {
   "cell_type": "code",
   "execution_count": 23,
   "metadata": {},
   "outputs": [
    {
     "data": {
      "text/plain": [
       "array([[ 0, -2,  0],\n",
       "       [ 0, -5,  3],\n",
       "       [ 1,  1,  1]])"
      ]
     },
     "execution_count": 23,
     "metadata": {},
     "output_type": "execute_result"
    }
   ],
   "source": [
    "mm"
   ]
  },
  {
   "cell_type": "code",
   "execution_count": 32,
   "metadata": {},
   "outputs": [
    {
     "data": {
      "text/plain": [
       "array([  5.33333333,  -1.33333333, -17.33333333])"
      ]
     },
     "execution_count": 32,
     "metadata": {},
     "output_type": "execute_result"
    }
   ],
   "source": [
    "xx = np.array([1,0,0]) + -2*np.array([-.5,0,2]) + -4/3*np.array([-5/2, 1, 10])\n",
    "xx"
   ]
  },
  {
   "cell_type": "code",
   "execution_count": 33,
   "metadata": {},
   "outputs": [
    {
     "data": {
      "text/plain": [
       "4.0"
      ]
     },
     "execution_count": 33,
     "metadata": {},
     "output_type": "execute_result"
    }
   ],
   "source": [
    "4*xx[0] + xx[-1]"
   ]
  },
  {
   "cell_type": "code",
   "execution_count": 18,
   "metadata": {},
   "outputs": [
    {
     "data": {
      "text/plain": [
       "-6.0"
      ]
     },
     "execution_count": 18,
     "metadata": {},
     "output_type": "execute_result"
    }
   ],
   "source": [
    "np.linalg.det(mm)"
   ]
  },
  {
   "cell_type": "code",
   "execution_count": 19,
   "metadata": {},
   "outputs": [
    {
     "data": {
      "text/plain": [
       "array([[ -8,   2,  26],\n",
       "       [  3,   0, -12],\n",
       "       [  5,  -2, -20]])"
      ]
     },
     "execution_count": 19,
     "metadata": {},
     "output_type": "execute_result"
    }
   ],
   "source": [
    "(-6*np.linalg.inv(mm)).astype(int)"
   ]
  },
  {
   "cell_type": "code",
   "execution_count": 20,
   "metadata": {},
   "outputs": [
    {
     "data": {
      "text/plain": [
       "array([[-6,  0,  0],\n",
       "       [ 0, -6,  0],\n",
       "       [ 0,  0, -6]])"
      ]
     },
     "execution_count": 20,
     "metadata": {},
     "output_type": "execute_result"
    }
   ],
   "source": [
    "_.dot(mm)"
   ]
  },
  {
   "cell_type": "code",
   "execution_count": 63,
   "metadata": {},
   "outputs": [],
   "source": [
    "mm = np.array([2,0,1,-1,1,-2,-1,3,1]).reshape(3,3).astype(float)"
   ]
  },
  {
   "cell_type": "code",
   "execution_count": 36,
   "metadata": {},
   "outputs": [
    {
     "data": {
      "text/plain": [
       "12.0"
      ]
     },
     "execution_count": 36,
     "metadata": {},
     "output_type": "execute_result"
    }
   ],
   "source": [
    "np.linalg.det(mm)"
   ]
  },
  {
   "cell_type": "code",
   "execution_count": 37,
   "metadata": {},
   "outputs": [
    {
     "data": {
      "text/plain": [
       "array([[ 7,  3, -1],\n",
       "       [ 3,  3,  3],\n",
       "       [-2, -6,  2]])"
      ]
     },
     "execution_count": 37,
     "metadata": {},
     "output_type": "execute_result"
    }
   ],
   "source": [
    "(12*np.linalg.inv(mm)).astype(int)"
   ]
  },
  {
   "cell_type": "code",
   "execution_count": 16,
   "metadata": {},
   "outputs": [
    {
     "data": {
      "text/plain": [
       "array([[ 2,  0,  1],\n",
       "       [-1,  1, -2],\n",
       "       [-1,  3,  1]])"
      ]
     },
     "execution_count": 16,
     "metadata": {},
     "output_type": "execute_result"
    }
   ],
   "source": [
    "mm"
   ]
  },
  {
   "cell_type": "code",
   "execution_count": 38,
   "metadata": {},
   "outputs": [
    {
     "data": {
      "text/plain": [
       "array([[ 2,  0,  1],\n",
       "       [-1,  1, -2],\n",
       "       [-1,  3,  1]])"
      ]
     },
     "execution_count": 38,
     "metadata": {},
     "output_type": "execute_result"
    }
   ],
   "source": [
    "mm\n"
   ]
  },
  {
   "cell_type": "code",
   "execution_count": 68,
   "metadata": {},
   "outputs": [],
   "source": [
    "mm = np.identity(3)"
   ]
  },
  {
   "cell_type": "code",
   "execution_count": 69,
   "metadata": {},
   "outputs": [
    {
     "data": {
      "text/plain": [
       "array([[1. , 0. , 0. ],\n",
       "       [0.5, 1. , 0. ],\n",
       "       [0.5, 0. , 1. ]])"
      ]
     },
     "execution_count": 69,
     "metadata": {},
     "output_type": "execute_result"
    }
   ],
   "source": [
    "mm[1] += .5*mm[0]\n",
    "mm[2] += .5*mm[0]\n",
    "mm"
   ]
  },
  {
   "cell_type": "code",
   "execution_count": 70,
   "metadata": {},
   "outputs": [
    {
     "data": {
      "text/plain": [
       "array([[ 1. ,  0. ,  0. ],\n",
       "       [ 0.5,  1. ,  0. ],\n",
       "       [-1. , -3. ,  1. ]])"
      ]
     },
     "execution_count": 70,
     "metadata": {},
     "output_type": "execute_result"
    }
   ],
   "source": [
    "mm[2] -= 3*mm[1]\n",
    "mm"
   ]
  },
  {
   "cell_type": "code",
   "execution_count": 71,
   "metadata": {},
   "outputs": [
    {
     "data": {
      "text/plain": [
       "array([[ 1.        ,  0.        ,  0.        ],\n",
       "       [ 0.5       ,  1.        ,  0.        ],\n",
       "       [-0.16666667, -0.5       ,  0.16666667]])"
      ]
     },
     "execution_count": 71,
     "metadata": {},
     "output_type": "execute_result"
    }
   ],
   "source": [
    "mm[2] /= 6\n",
    "mm"
   ]
  },
  {
   "cell_type": "code",
   "execution_count": 72,
   "metadata": {},
   "outputs": [
    {
     "data": {
      "text/plain": [
       "array([[ 1.16666667,  0.5       , -0.16666667],\n",
       "       [ 0.25      ,  0.25      ,  0.25      ],\n",
       "       [-0.16666667, -0.5       ,  0.16666667]])"
      ]
     },
     "execution_count": 72,
     "metadata": {},
     "output_type": "execute_result"
    }
   ],
   "source": [
    "mm[1] += 1.5*mm[2]\n",
    "mm[0] -= mm[2]\n",
    "mm"
   ]
  },
  {
   "cell_type": "code",
   "execution_count": 59,
   "metadata": {},
   "outputs": [
    {
     "data": {
      "text/plain": [
       "array([[2., 0., 1.],\n",
       "       [0., 1., 0.],\n",
       "       [0., 0., 1.]])"
      ]
     },
     "execution_count": 59,
     "metadata": {},
     "output_type": "execute_result"
    }
   ],
   "source": [
    "mm"
   ]
  },
  {
   "cell_type": "code",
   "execution_count": 60,
   "metadata": {},
   "outputs": [],
   "source": []
  },
  {
   "cell_type": "code",
   "execution_count": 61,
   "metadata": {},
   "outputs": [
    {
     "data": {
      "text/plain": [
       "array([[2., 0., 0.],\n",
       "       [0., 1., 0.],\n",
       "       [0., 0., 1.]])"
      ]
     },
     "execution_count": 61,
     "metadata": {},
     "output_type": "execute_result"
    }
   ],
   "source": [
    "mm"
   ]
  },
  {
   "cell_type": "code",
   "execution_count": 73,
   "metadata": {},
   "outputs": [],
   "source": [
    "w = np.sqrt(3)"
   ]
  },
  {
   "cell_type": "code",
   "execution_count": 75,
   "metadata": {},
   "outputs": [
    {
     "data": {
      "text/plain": [
       "array([[ 0.73205081,  0.        , -3.46410162],\n",
       "       [ 0.        ,  2.        ,  0.        ],\n",
       "       [ 1.73205081,  0.        , -2.73205081]])"
      ]
     },
     "execution_count": 75,
     "metadata": {},
     "output_type": "execute_result"
    }
   ],
   "source": [
    "aa = np.array([w-1,0,-2*w,0,2,0,w,0,-1-w]).reshape(3,3)\n",
    "aa"
   ]
  },
  {
   "cell_type": "code",
   "execution_count": 79,
   "metadata": {},
   "outputs": [
    {
     "data": {
      "text/plain": [
       "array([[-5.46410162,  0.        ,  6.92820323],\n",
       "       [ 0.        ,  4.        ,  0.        ],\n",
       "       [-3.46410162,  0.        ,  1.46410162]])"
      ]
     },
     "execution_count": 79,
     "metadata": {},
     "output_type": "execute_result"
    }
   ],
   "source": [
    "bb = aa.dot(aa)\n",
    "bb"
   ]
  },
  {
   "cell_type": "code",
   "execution_count": 80,
   "metadata": {},
   "outputs": [
    {
     "data": {
      "text/plain": [
       "-2.732050807568877"
      ]
     },
     "execution_count": 80,
     "metadata": {},
     "output_type": "execute_result"
    }
   ],
   "source": [
    "bb[0,0]/2"
   ]
  },
  {
   "cell_type": "code",
   "execution_count": 81,
   "metadata": {},
   "outputs": [
    {
     "data": {
      "text/plain": [
       "63.99999999999998"
      ]
     },
     "execution_count": 81,
     "metadata": {},
     "output_type": "execute_result"
    }
   ],
   "source": [
    "np.linalg.det(bb)"
   ]
  },
  {
   "cell_type": "code",
   "execution_count": 89,
   "metadata": {},
   "outputs": [
    {
     "data": {
      "text/plain": [
       "array([[-5.46410162,  0.        ,  6.92820323],\n",
       "       [ 0.        ,  4.        ,  0.        ],\n",
       "       [-3.46410162,  0.        ,  1.46410162]])"
      ]
     },
     "execution_count": 89,
     "metadata": {},
     "output_type": "execute_result"
    }
   ],
   "source": [
    "np.array([-2*(1+w),0,4*w,0,4,0,-2*w,0,-2*(1-w)]).reshape(3,3)"
   ]
  },
  {
   "cell_type": "code",
   "execution_count": 93,
   "metadata": {},
   "outputs": [
    {
     "data": {
      "text/plain": [
       "array([[ 8.00000000e+00,  0.00000000e+00, -1.92422493e-15],\n",
       "       [ 0.00000000e+00,  8.00000000e+00,  0.00000000e+00],\n",
       "       [ 1.92927390e-16,  0.00000000e+00,  8.00000000e+00]])"
      ]
     },
     "execution_count": 93,
     "metadata": {},
     "output_type": "execute_result"
    }
   ],
   "source": [
    "cc = aa.dot(bb)\n",
    "cc"
   ]
  },
  {
   "cell_type": "code",
   "execution_count": 95,
   "metadata": {},
   "outputs": [
    {
     "data": {
      "text/plain": [
       "array([[ 0.73205081, -3.46410162],\n",
       "       [ 1.73205081, -2.73205081]])"
      ]
     },
     "execution_count": 95,
     "metadata": {},
     "output_type": "execute_result"
    }
   ],
   "source": [
    "pp = np.array([w-1,-2*w,w,-1-w]).reshape(2,2)\n",
    "pp\n"
   ]
  },
  {
   "cell_type": "code",
   "execution_count": 96,
   "metadata": {},
   "outputs": [
    {
     "data": {
      "text/plain": [
       "array([[-5.46410162,  6.92820323],\n",
       "       [-3.46410162,  1.46410162]])"
      ]
     },
     "execution_count": 96,
     "metadata": {},
     "output_type": "execute_result"
    }
   ],
   "source": [
    "pp.dot(pp)"
   ]
  },
  {
   "cell_type": "code",
   "execution_count": 98,
   "metadata": {},
   "outputs": [],
   "source": [
    "wx = np.array([1,-1,1,0]).reshape(2,2)"
   ]
  },
  {
   "cell_type": "code",
   "execution_count": 107,
   "metadata": {},
   "outputs": [
    {
     "data": {
      "text/plain": [
       "array([[ 3., -2.],\n",
       "       [ 2.,  1.]])"
      ]
     },
     "execution_count": 107,
     "metadata": {},
     "output_type": "execute_result"
    }
   ],
   "source": [
    "w7 = np.identity(2) + 2*wx\n",
    "w7"
   ]
  },
  {
   "cell_type": "code",
   "execution_count": 181,
   "metadata": {},
   "outputs": [
    {
     "data": {
      "image/png": "[encoded data removed]",
      "text/plain": [
       "<Figure size 1152x576 with 1 Axes>"
      ]
     },
     "metadata": {
      "needs_background": "light"
     },
     "output_type": "display_data"
    }
   ],
   "source": [
    "import numpy as np\n",
    "import matplotlib.pyplot as plt\n",
    "\n",
    "#using cplx numbers\n",
    "def plt_cplx(Z, \n",
    "             ax=plt, \n",
    "             sty='r'):\n",
    "    X = [z.real for z in Z]\n",
    "    Y = [z.imag for z in Z] \n",
    "    ax.plot(X,Y,sty)\n",
    "\n",
    "\n",
    "fig, ax = plt.subplots()\n",
    "fig.set_size_inches(16,8)\n",
    "ax.axis('off')\n",
    "\n",
    "\n",
    "T = np.linspace(np.pi, 0, 20)\n",
    "motif = np.exp(1J*T)/2\n",
    "#choose a color scheme\n",
    "cols = 'ryb'\n",
    "\n",
    "\n",
    "\n",
    "\n",
    "for cc in np.arange(5) -2 :\n",
    "    plt_cplx( .5 + cc + motif, sty='k',ax=ax)\n",
    "    plt_cplx( cc + [0,2J], sty='k',ax=ax)\n",
    "\n",
    "w7 = 34*np.identity(2) + 21*wx\n",
    "\n",
    "mats = [w7]\n",
    "for k in range(2):\n",
    "    mats.append(wx.dot(mats[-1]))\n",
    "    \n",
    "\n",
    "for M in mats:\n",
    "    ff = M[0]/M[1]\n",
    "    \n",
    "    diam = abs(ff[0] - ff[1])\n",
    "    cc = sum(ff)/2\n",
    "    \n",
    "    plt_cplx( cc + diam*motif, sty='r',ax=ax)\n",
    "    #ax.plot([cc],[0],\"ko\")\n",
    " \n",
    "    \n",
    "\n",
    "for M in mats: \n",
    "    for pt in M.transpose():\n",
    "        x,y = pt  \n",
    "        label = \"{}\\n{}\".format(x,y)\n",
    "        #label = \"{}\".format(x/y)\n",
    "        ax.plot([x/y],[0],\"bo\")\n",
    "        ax.annotate(label, # this is the text\n",
    "                     (x/y, 0), # this is the point to label\n",
    "                     textcoords=\"offset points\", # how to position the text\n",
    "                     xytext=(0,-25), # distance from text to points (x,y) : not same units\n",
    "                     ha='center') # horizontal alignment can be left, right or center\n",
    "        \n",
    "\n",
    "    "
   ]
  },
  {
   "cell_type": "code",
   "execution_count": 180,
   "metadata": {},
   "outputs": [
    {
     "data": {
      "text/plain": [
       "882.9999999999998"
      ]
     },
     "execution_count": 180,
     "metadata": {},
     "output_type": "execute_result"
    }
   ],
   "source": [
    "np.linalg.det(w7)"
   ]
  },
  {
   "cell_type": "code",
   "execution_count": 169,
   "metadata": {},
   "outputs": [
    {
     "data": {
      "text/plain": [
       "[array([[ 5., -2.],\n",
       "        [ 2.,  3.]]),\n",
       " array([[ 3., -5.],\n",
       "        [ 5., -2.]]),\n",
       " array([[-2., -3.],\n",
       "        [ 3., -5.]])]"
      ]
     },
     "execution_count": 169,
     "metadata": {},
     "output_type": "execute_result"
    }
   ],
   "source": [
    "mats"
   ]
  },
  {
   "cell_type": "code",
   "execution_count": null,
   "metadata": {},
   "outputs": [],
   "source": []
  }
 ],
 "metadata": {
  "kernelspec": {
   "display_name": "Python 3",
   "language": "python",
   "name": "python3"
  },
  "language_info": {
   "codemirror_mode": {
    "name": "ipython",
    "version": 3
   },
   "file_extension": ".py",
   "mimetype": "text/x-python",
   "name": "python",
   "nbconvert_exporter": "python",
   "pygments_lexer": "ipython3",
   "version": "3.8.3"
  }
 },
 "nbformat": 4,
 "nbformat_minor": 4
}
