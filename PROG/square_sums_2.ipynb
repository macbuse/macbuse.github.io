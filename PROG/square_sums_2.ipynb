{
 "cells": [
  {
   "cell_type": "code",
   "execution_count": 1,
   "metadata": {},
   "outputs": [],
   "source": [
    "import matplotlib.pyplot as plt\n",
    "import numpy as np"
   ]
  },
  {
   "cell_type": "markdown",
   "metadata": {},
   "source": [
    "## Pell's numbers\n",
    "\n",
    "In mathematics, the Pell numbers are an infinite sequence of integers, known since ancient times, that comprise the denominators of the closest rational approximations to the square root of 2. This sequence of approximations begins 1/1,3/2/,7/5...\n",
    ", so the sequence of Pell numbers begins with 1, 2, 5, 12, and 29. The numerators of the same sequence of approximations are half the companion Pell numbers or Pell–Lucas numbers; these numbers form a second infinite sequence that begins with 2, 6, 14, 34, and 82.\n"
   ]
  },
  {
   "cell_type": "code",
   "execution_count": 3,
   "metadata": {},
   "outputs": [],
   "source": [
    "A = np.matrix([1,2])"
   ]
  },
  {
   "cell_type": "code",
   "execution_count": 6,
   "metadata": {},
   "outputs": [
    {
     "data": {
      "text/plain": [
       "matrix([[5]])"
      ]
     },
     "execution_count": 6,
     "metadata": {},
     "output_type": "execute_result"
    }
   ],
   "source": [
    "B = A.transpose()\n",
    "A*B"
   ]
  },
  {
   "cell_type": "code",
   "execution_count": 2,
   "metadata": {},
   "outputs": [
    {
     "name": "stdout",
     "output_type": "stream",
     "text": [
      "1\n",
      "(1+4j)\n",
      "(17+4j)\n",
      "(17+72j)\n",
      "(305+72j)\n",
      "(305+1292j)\n",
      "(5473+1292j)\n",
      "(5473+23184j)\n",
      "(98209+23184j)\n",
      "(98209+416020j)\n"
     ]
    }
   ],
   "source": [
    "x,y,z = 1,2, 1\n",
    "\n",
    "for k in range(10):\n",
    "    x, z = (abs(x**2) + 1J*abs(y**2))*z/abs(z**2), x\n",
    "    print(z)\n",
    "    "
   ]
  },
  {
   "cell_type": "code",
   "execution_count": 4,
   "metadata": {},
   "outputs": [],
   "source": [
    "\n",
    "    "
   ]
  },
  {
   "cell_type": "markdown",
   "metadata": {},
   "source": [
    "\n",
    " $$\\bar{z}z' = |x|^2 + i |y|^2$$\n",
    "\n",
    "this\n",
    " \n",
    " $$z' = \\frac{z(|x|^2 + i |y|^2)}{|z|^2}$$"
   ]
  },
  {
   "cell_type": "code",
   "execution_count": 3,
   "metadata": {},
   "outputs": [
    {
     "data": {
      "text/plain": [
       "[<matplotlib.lines.Line2D at 0x7f5a5e8d2640>]"
      ]
     },
     "execution_count": 3,
     "metadata": {},
     "output_type": "execute_result"
    },
    {
     "data": {
      "image/png": "[encoded data removed]",
      "text/plain": [
       "<Figure size 432x432 with 1 Axes>"
      ]
     },
     "metadata": {
      "needs_background": "light"
     },
     "output_type": "display_data"
    }
   ],
   "source": [
    "L = []\n",
    "\n",
    "def tree_d(nn,dd):\n",
    "    x,y,z = nn\n",
    "    tt = (abs(x**2) + 1J*abs(y**2))*z/abs(z**2)\n",
    "    L.append(tt)\n",
    "    dd -= 1\n",
    "    if dd > 0:\n",
    "        tree_d((tt,y,x), dd)\n",
    "        tree_d((x,tt,y), dd)\n",
    "\n",
    "tree_d(( 1,1+ 2J,1 + 1J), 6)\n",
    "pts = np.array([ w/abs(w) for w in L])\n",
    "fig, ax = plt.subplots()\n",
    "fig.set_size_inches(6,6)\n",
    "ax.set_aspect('equal')\n",
    "#ax.plot(abs(pts.real),abs(pts.imag),'ro')\n",
    "ax.plot(pts.real, pts.imag,'ro')"
   ]
  },
  {
   "cell_type": "code",
   "execution_count": 106,
   "metadata": {},
   "outputs": [],
   "source": [
    "depth = 8\n",
    "\n",
    "L = [[] for k in range(depth + 1) ]\n",
    "\n",
    "def tree_d(nn,dd):\n",
    "    x,y,z = nn\n",
    "    tt = (abs(x**2) + 1J*abs(y**2))*z/abs(z**2)\n",
    "    L[dd].append(tt)\n",
    "    dd -= 1\n",
    "    if dd > 0:\n",
    "        tree_d((x,tt,y), dd)\n",
    "        tree_d((tt,y,x), dd)\n",
    "\n",
    "\n",
    "tree_d(( 1+ 2J,1 + 1J,1), depth)"
   ]
  },
  {
   "cell_type": "code",
   "execution_count": 107,
   "metadata": {},
   "outputs": [],
   "source": [
    "L.reverse()"
   ]
  },
  {
   "cell_type": "code",
   "execution_count": 108,
   "metadata": {},
   "outputs": [
    {
     "data": {
      "text/plain": [
       "([(5+2j)], [(-12+17j), (5+12j)], [(-29+75j), (75+179j), (-70+99j), (29+12j)])"
      ]
     },
     "execution_count": 108,
     "metadata": {},
     "output_type": "execute_result"
    }
   ],
   "source": [
    "L[0],L[1],L[2]"
   ]
  },
  {
   "cell_type": "code",
   "execution_count": 114,
   "metadata": {},
   "outputs": [
    {
     "data": {
      "text/plain": [
       "[(2673-3793j),\n",
       " (249755+596067j),\n",
       " (-21725758-8399339j),\n",
       " (-4927080-3472259j),\n",
       " (-51850853+21725762j),\n",
       " (-730839046+1889811349j),\n",
       " (-428598301-302045899j),\n",
       " (1454879+3472225j),\n",
       " (-8474671-3277375j),\n",
       " (-1763331701+2493975901j),\n",
       " (-26274294958+11009056145j),\n",
       " (-285093959+737198950j),\n",
       " (-167011056-118082893j),\n",
       " (737198954+1759491857j),\n",
       " (-19091541+49367107j),\n",
       " (-90903+128569j),\n",
       " (-38014-90729j),\n",
       " (19091541+7892380j),\n",
       " (-379815035-268543168j),\n",
       " (-45999434+19272999j),\n",
       " (-45999424+111271871j),\n",
       " (-1565259572+2213617775j),\n",
       " (-268100050+112329469j),\n",
       " (1279156+528799j),\n",
       " (-292538-206855j),\n",
       " (7455406+17992853j),\n",
       " (-17963443+43453270j),\n",
       " (-1205641+1705034j),\n",
       " (-206845+85707j),\n",
       " (499397+206845j),\n",
       " (-13860+19601j),\n",
       " (169+408j)]"
      ]
     },
     "execution_count": 114,
     "metadata": {},
     "output_type": "execute_result"
    }
   ],
   "source": [
    "L[-4]"
   ]
  },
  {
   "cell_type": "markdown",
   "metadata": {},
   "source": [
    "# Fibonnaci numbers"
   ]
  },
  {
   "cell_type": "code",
   "execution_count": 557,
   "metadata": {},
   "outputs": [
    {
     "name": "stdout",
     "output_type": "stream",
     "text": [
      "(2+1j)\n",
      "(2+3j)\n",
      "(5+3j)\n",
      "(5+8j)\n",
      "(13+8j)\n",
      "(13+21j)\n",
      "(34+21j)\n",
      "(34+55j)\n",
      "(89+55j)\n",
      "(89+144j)\n",
      "(233+144j)\n",
      "(233+377j)\n",
      "(610+377j)\n",
      "(610+987j)\n",
      "(1597+987j)\n",
      "(1597+2584j)\n",
      "(4181+2584j)\n",
      "(4181+6765j)\n",
      "(10946+6765j)\n",
      "(10946+17711j)\n"
     ]
    }
   ],
   "source": [
    "x, y = 1 + 0J, 1 + 1J\n",
    "\n",
    "for k in range(20):\n",
    "    z = y*y.conjugate() + 1J\n",
    "    u = x*z/ (x*x.conjugate())\n",
    "    print(u)\n",
    "    x, y = y, u"
   ]
  },
  {
   "cell_type": "code",
   "execution_count": 8,
   "metadata": {},
   "outputs": [
    {
     "name": "stdout",
     "output_type": "stream",
     "text": [
      "(2+5j)\n",
      "(-5+12j)\n",
      "(-29+12j)\n",
      "(-70-29j)\n",
      "(-70-169j)\n",
      "(169-408j)\n",
      "(985-408j)\n",
      "(2378+985j)\n",
      "(2378+5741j)\n",
      "(-5741+13860j)\n",
      "(-33461+13860j)\n",
      "(-80782-33461j)\n",
      "(-80782-195025j)\n",
      "(195025-470832j)\n",
      "(1136689-470832j)\n"
     ]
    }
   ],
   "source": [
    "x, y = 1 + 0J, 2 + 1J\n",
    "\n",
    "for k in range(15):\n",
    "    z = y*y.conjugate()*1J + 2\n",
    "    u = x*z/ (x*x.conjugate())\n",
    "    print(u)\n",
    "    x, y = y, u\n"
   ]
  },
  {
   "cell_type": "code",
   "execution_count": 98,
   "metadata": {},
   "outputs": [
    {
     "data": {
      "text/plain": [
       "((-29+75j), 27)"
      ]
     },
     "execution_count": 98,
     "metadata": {},
     "output_type": "execute_result"
    }
   ],
   "source": [
    "(5 + (12**2 + 17**2)*1J)*(5 + 2J)/29, (12**2 + 17**2) % 29"
   ]
  },
  {
   "cell_type": "code",
   "execution_count": 125,
   "metadata": {},
   "outputs": [
    {
     "data": {
      "text/plain": [
       "(13+21j)"
      ]
     },
     "execution_count": 125,
     "metadata": {},
     "output_type": "execute_result"
    }
   ],
   "source": [
    "(5 + 8J)*(233 + 1J)/89"
   ]
  },
  {
   "cell_type": "code",
   "execution_count": 118,
   "metadata": {},
   "outputs": [
    {
     "data": {
      "text/plain": [
       "(7922, 7922, (13+8j))"
      ]
     },
     "execution_count": 118,
     "metadata": {},
     "output_type": "execute_result"
    }
   ],
   "source": [
    "233*34, 89**2 + 1 , (89 + 1J)*(5 + 3J)/34"
   ]
  },
  {
   "cell_type": "code",
   "execution_count": 105,
   "metadata": {},
   "outputs": [
    {
     "data": {
      "text/plain": [
       "0"
      ]
     },
     "execution_count": 105,
     "metadata": {},
     "output_type": "execute_result"
    }
   ],
   "source": [
    "(5**2 + 3**2) % 34"
   ]
  },
  {
   "cell_type": "code",
   "execution_count": 10,
   "metadata": {},
   "outputs": [
    {
     "data": {
      "text/plain": [
       "1.2566835449550775"
      ]
     },
     "execution_count": 10,
     "metadata": {},
     "output_type": "execute_result"
    }
   ],
   "source": [
    "54.37**3/50.383**3"
   ]
  },
  {
   "cell_type": "code",
   "execution_count": 37,
   "metadata": {},
   "outputs": [
    {
     "data": {
      "text/plain": [
       "[((-2+3j), (-2+3j)),\n",
       " ((13+5j), (13+5j)),\n",
       " ((-31+44j), (-31+44j)),\n",
       " ((194+75j), (194+75j)),\n",
       " ((-463+657j), (-463+657j)),\n",
       " ((2897+1120j), (2897+1120j)),\n",
       " ((-249755+146508j), (-249755+146508j)),\n",
       " ((-16725+9811j), (-16725+9811j)),\n",
       " ((-4023930+5709989j), (-4023930+5709989j)),\n",
       " ((-651812+1686059j), (-651812+1686059j)),\n",
       " ((-1120+657j), (-1120+657j)),\n",
       " ((112908+43649j), (112908+43649j)),\n",
       " ((-9733921+5709985j), (-9733921+5709985j)),\n",
       " ((-222576507-156776947j), (-222576507-156776947j)),\n",
       " ((-25610-18039j), (-25610-18039j)),\n",
       " ((65712262+25403643j), (65712262+25403643j)),\n",
       " ((-382373-651838j), (-382373-651838j)),\n",
       " ((-75+44j), (-75+44j)),\n",
       " ((-1208+1715j), (-1208+1715j)),\n",
       " ((-43651+25606j), (-43651+25606j)),\n",
       " ((-703054+998127j), (-703054+998127j)),\n",
       " ((-65712262+171731979j), (-65712262+171731979j)),\n",
       " ((-112908+295073j), (-112908+295073j)),\n",
       " ((-990135631+580820897j), (-990135631+580820897j)),\n",
       " ((-38901347-27401061j), (-38901347-27401061j)),\n",
       " ((-194+507j), (-194+507j)),\n",
       " ((-47081+66841j), (-47081+66841j)),\n",
       " ((-4400515+11500276j), (-4400515+11500276j)),\n",
       " ((-38901343-66302410j), (-38901343-66302410j)),\n",
       " ((-1715-2923j), (-1715-2923j)),\n",
       " ((-1834951+2605084j), (-1834951+2605084j)),\n",
       " ((-19760-7561j), (-19760-7561j)),\n",
       " ((-5+3j), (-5+3j)),\n",
       " ((34+13j), (34+13j)),\n",
       " ((-196+115j), (-196+115j)),\n",
       " ((1325+507j), (1325+507j)),\n",
       " ((-7639+4482j), (-7639+4482j)),\n",
       " ((-472408-297725j), (-472408-297725j)),\n",
       " ((-12121-7639j), (-12121-7639j)),\n",
       " ((5266875+2015324j), (5266875+2015324j)),\n",
       " ((-457130-779097j), (-457130-779097j)),\n",
       " ((-311-196j), (-311-196j)),\n",
       " ((-19990+11729j), (-19990+11729j)),\n",
       " ((-1236223-779103j), (-1236223-779103j)),\n",
       " ((-5266875+13785299j), (-5266875+13785299j)),\n",
       " ((-1325+3468j), (-1325+3468j)),\n",
       " ((-2038784+1196243j), (-2038784+1196243j)),\n",
       " ((19990-31719j), (19990-31719j)),\n",
       " ((-8-5j), (-8-5j)),\n",
       " ((89+34j), (89+34j)),\n",
       " ((-814-513j), (-814-513j)),\n",
       " ((9077+3468j), (9077+3468j)),\n",
       " ((-83020-135341j), (-83020-135341j)),\n",
       " ((-814-1327j), (-814-1327j)),\n",
       " ((-217335-136969j), (-217335-136969j)),\n",
       " ((-9077+23763j), (-9077+23763j)),\n",
       " ((-8-13j), (-8-13j)),\n",
       " ((233+89j), (233+89j)),\n",
       " ((-2131-3474j), (-2131-3474j)),\n",
       " ((3474-5605j), (3474-5605j)),\n",
       " ((13-21j), (13-21j)),\n",
       " ((610+233j), (610+233j)),\n",
       " ((34-21j), (34-21j))]"
      ]
     },
     "execution_count": 37,
     "metadata": {},
     "output_type": "execute_result"
    }
   ],
   "source": [
    "TT = L[:]\n",
    "\n",
    "[(x,y) for x,y in zip(L,TT)]"
   ]
  },
  {
   "cell_type": "code",
   "execution_count": 7,
   "metadata": {},
   "outputs": [],
   "source": []
  },
  {
   "cell_type": "code",
   "execution_count": 2,
   "metadata": {},
   "outputs": [
    {
     "data": {
      "image/png": "[encoded data removed]",
      "text/plain": [
       "<Figure size 432x432 with 1 Axes>"
      ]
     },
     "metadata": {
      "needs_background": "light"
     },
     "output_type": "display_data"
    }
   ],
   "source": [
    "L = []\n",
    "\n",
    "\n",
    "def tree(nn,dd):\n",
    "    x,y,z = nn\n",
    "    L.append((x,y,z))\n",
    "    tt = (abs(x**2) + 1J*abs(y**2))*z/abs(z**2)  \n",
    "    dd -= 1\n",
    "    if dd > 0:\n",
    "        tree((tt,y,x), dd)\n",
    "        tree((x,tt,y), dd)\n",
    "        \n",
    "        \n",
    "tree((1,1,1),4)\n",
    "fig, ax = plt.subplots()\n",
    "fig.set_size_inches(6,6)\n",
    "ax.set_aspect('equal')\n",
    "\n",
    "\n",
    "for xx in L:\n",
    "    pts = np.array([ w/abs(w) for w in xx])\n",
    "    ax.plot(pts.real,pts.imag)\n",
    "    "
   ]
  },
  {
   "cell_type": "code",
   "execution_count": 9,
   "metadata": {},
   "outputs": [],
   "source": [
    "FF = []\n",
    "\n",
    "for ee in [1,-1]:\n",
    "    z,x = 1 + 1J,1\n",
    "    for k in range(20):\n",
    "        x,z = (abs(x**2) + 5*1J*ee)*z/abs(z**2), x\n",
    "        FF.append(z)"
   ]
  },
  {
   "cell_type": "code",
   "execution_count": 13,
   "metadata": {},
   "outputs": [],
   "source": [
    "L = []\n",
    "\n",
    "\n",
    "def tree(nn,dd):\n",
    "    x,y,z = nn\n",
    "    L.append((x,y,z))\n",
    "    tt = (abs(x**2) + 1J*abs(y**2))*z/abs(z**2)  \n",
    "    dd -= 1\n",
    "    if dd > 0:\n",
    "        tree((tt,y,x), dd)\n",
    "        tree((x,tt,y), dd)\n",
    "        \n",
    "        \n",
    "tree((1+ 1J, 2 + 1J, 1),5)"
   ]
  },
  {
   "cell_type": "code",
   "execution_count": 14,
   "metadata": {},
   "outputs": [
    {
     "data": {
      "text/plain": [
       "[((12+17j), (2+1j), (2+5j)),\n",
       " ((29+75j), (2+1j), (12+17j)),\n",
       " ((12+17j), (29+75j), (2+1j)),\n",
       " ((-1120+2673j), (29+75j), (12+17j)),\n",
       " ((12+17j), (-1120+2673j), (29+75j)),\n",
       " ((2+5j), (12+17j), (2+1j)),\n",
       " ((-75+179j), (12+17j), (2+5j)),\n",
       " ((2523+6524j), (12+17j), (-75+179j)),\n",
       " ((-75+179j), (2523+6524j), (12+17j)),\n",
       " ((2+5j), (-75+179j), (12+17j))]"
      ]
     },
     "execution_count": 14,
     "metadata": {},
     "output_type": "execute_result"
    }
   ],
   "source": [
    "[x for x in L if 12 + 17J in x]"
   ]
  },
  {
   "cell_type": "code",
   "execution_count": 12,
   "metadata": {},
   "outputs": [
    {
     "data": {
      "text/plain": [
       "(25, 4)"
      ]
     },
     "execution_count": 12,
     "metadata": {},
     "output_type": "execute_result"
    }
   ],
   "source": [
    "37666**2 % 29, 433**2  % 29"
   ]
  },
  {
   "cell_type": "code",
   "execution_count": 15,
   "metadata": {},
   "outputs": [
    {
     "data": {
      "text/plain": [
       "(24, 27)"
      ]
     },
     "execution_count": 15,
     "metadata": {},
     "output_type": "execute_result"
    }
   ],
   "source": [
    "37666 % 29, 433  % 29"
   ]
  },
  {
   "cell_type": "code",
   "execution_count": 10,
   "metadata": {},
   "outputs": [
    {
     "data": {
      "text/plain": [
       "37666"
      ]
     },
     "execution_count": 10,
     "metadata": {},
     "output_type": "execute_result"
    }
   ],
   "source": [
    "3*29*433 -5433"
   ]
  },
  {
   "cell_type": "code",
   "execution_count": 132,
   "metadata": {},
   "outputs": [
    {
     "data": {
      "text/plain": [
       "[-0.6666666666666666,\n",
       " 2.6,\n",
       " -0.7045454545454546,\n",
       " 2.5866666666666664,\n",
       " -0.7047184170471842,\n",
       " 2.586607142857143,\n",
       " -0.7047191927428397,\n",
       " 2.58660687593423,\n",
       " -0.7047191962213668,\n",
       " 2.5866068747372424,\n",
       " -0.7047191962369659,\n",
       " 2.5866068747318742,\n",
       " -0.7047191962370357,\n",
       " 2.58660687473185,\n",
       " -0.7047191962370359,\n",
       " 2.58660687473185,\n",
       " -0.7047191962370358,\n",
       " 2.58660687473185,\n",
       " -0.7047191962370357]"
      ]
     },
     "execution_count": 132,
     "metadata": {},
     "output_type": "execute_result"
    }
   ],
   "source": [
    "[ z.real/z.imag for z in FF[1:20]]"
   ]
  },
  {
   "cell_type": "code",
   "execution_count": 126,
   "metadata": {},
   "outputs": [
    {
     "data": {
      "text/plain": [
       "0.2724492860207422"
      ]
     },
     "execution_count": 126,
     "metadata": {},
     "output_type": "execute_result"
    }
   ],
   "source": [
    "_[-1]*_[-2]"
   ]
  },
  {
   "cell_type": "code",
   "execution_count": 134,
   "metadata": {},
   "outputs": [
    {
     "data": {
      "text/plain": [
       "2.23606797749979"
      ]
     },
     "execution_count": 134,
     "metadata": {},
     "output_type": "execute_result"
    }
   ],
   "source": [
    "np.sqrt(5)"
   ]
  },
  {
   "cell_type": "code",
   "execution_count": 3,
   "metadata": {},
   "outputs": [],
   "source": [
    "def gcde(a, b): \n",
    "    # Base Case \n",
    "    if a == 0 :  \n",
    "        return b,0,1\n",
    "             \n",
    "    gcd,x1,y1 = gcde(b%a, a) \n",
    "     \n",
    "    x = y1 - (b//a) * x1 \n",
    "    y = x1 \n",
    "     \n",
    "    return gcd,x,y"
   ]
  },
  {
   "cell_type": "code",
   "execution_count": 144,
   "metadata": {},
   "outputs": [
    {
     "data": {
      "text/plain": [
       "(1, -17, 12)"
      ]
     },
     "execution_count": 144,
     "metadata": {},
     "output_type": "execute_result"
    }
   ],
   "source": [
    "gcde(31,44)"
   ]
  },
  {
   "cell_type": "code",
   "execution_count": 145,
   "metadata": {},
   "outputs": [
    {
     "data": {
      "text/plain": [
       "1"
      ]
     },
     "execution_count": 145,
     "metadata": {},
     "output_type": "execute_result"
    }
   ],
   "source": [
    "12*44 - 17*31"
   ]
  },
  {
   "cell_type": "code",
   "execution_count": 16,
   "metadata": {},
   "outputs": [
    {
     "data": {
      "text/plain": [
       "(-4+2j)"
      ]
     },
     "execution_count": 16,
     "metadata": {},
     "output_type": "execute_result"
    }
   ],
   "source": [
    "(1 + 1J)**2 * (1 + 2J)"
   ]
  },
  {
   "cell_type": "code",
   "execution_count": 19,
   "metadata": {},
   "outputs": [
    {
     "data": {
      "text/plain": [
       "(-5+10j)"
      ]
     },
     "execution_count": 19,
     "metadata": {},
     "output_type": "execute_result"
    }
   ],
   "source": [
    "(1+2J)*(3 + 4J)"
   ]
  },
  {
   "cell_type": "code",
   "execution_count": 20,
   "metadata": {},
   "outputs": [
    {
     "data": {
      "text/plain": [
       "(125+0j)"
      ]
     },
     "execution_count": 20,
     "metadata": {},
     "output_type": "execute_result"
    }
   ],
   "source": [
    "_*_.conjugate()"
   ]
  },
  {
   "cell_type": "code",
   "execution_count": 21,
   "metadata": {},
   "outputs": [
    {
     "data": {
      "text/plain": [
       "5.0"
      ]
     },
     "execution_count": 21,
     "metadata": {},
     "output_type": "execute_result"
    }
   ],
   "source": []
  },
  {
   "cell_type": "code",
   "execution_count": 31,
   "metadata": {},
   "outputs": [
    {
     "data": {
      "text/plain": [
       "([1, 14, 51, 64], [8, 18, 47, 57])"
      ]
     },
     "execution_count": 31,
     "metadata": {},
     "output_type": "execute_result"
    }
   ],
   "source": [
    "[x for x in range(65) if x*x % 65 == 1], [x for x in range(65) if x*x % 65 == 64]"
   ]
  },
  {
   "cell_type": "code",
   "execution_count": 27,
   "metadata": {},
   "outputs": [
    {
     "data": {
      "text/plain": [
       "47"
      ]
     },
     "execution_count": 27,
     "metadata": {},
     "output_type": "execute_result"
    }
   ],
   "source": [
    "14*8 % 65"
   ]
  },
  {
   "cell_type": "code",
   "execution_count": 28,
   "metadata": {},
   "outputs": [
    {
     "data": {
      "text/plain": [
       "64"
      ]
     },
     "execution_count": 28,
     "metadata": {},
     "output_type": "execute_result"
    }
   ],
   "source": [
    "47**2 % 65"
   ]
  },
  {
   "cell_type": "code",
   "execution_count": 36,
   "metadata": {},
   "outputs": [],
   "source": [
    "X = np.array([ [1,3],[5,13]] )"
   ]
  },
  {
   "cell_type": "code",
   "execution_count": 37,
   "metadata": {},
   "outputs": [
    {
     "data": {
      "text/plain": [
       "-1.9999999999999991"
      ]
     },
     "execution_count": 37,
     "metadata": {},
     "output_type": "execute_result"
    }
   ],
   "source": [
    "np.linalg.det(X)"
   ]
  },
  {
   "cell_type": "code",
   "execution_count": 38,
   "metadata": {},
   "outputs": [
    {
     "data": {
      "text/plain": [
       "48"
      ]
     },
     "execution_count": 38,
     "metadata": {},
     "output_type": "execute_result"
    }
   ],
   "source": [
    "4*12"
   ]
  },
  {
   "cell_type": "code",
   "execution_count": 41,
   "metadata": {},
   "outputs": [
    {
     "data": {
      "text/plain": [
       "((8-1j), (-4+7j))"
      ]
     },
     "execution_count": 41,
     "metadata": {},
     "output_type": "execute_result"
    }
   ],
   "source": [
    "(1-2J)*(2+3J), (1+2J)*(2+3J)"
   ]
  },
  {
   "cell_type": "code",
   "execution_count": 43,
   "metadata": {},
   "outputs": [
    {
     "data": {
      "text/plain": [
       "([1, 16, 69, 84], [13, 38, 47, 72])"
      ]
     },
     "execution_count": 43,
     "metadata": {},
     "output_type": "execute_result"
    }
   ],
   "source": [
    "N = 5*17\n",
    "\n",
    "[x for x in range(N) if x*x % N == 1], [x for x in range(N) if (x*x +1) % N  == 0]"
   ]
  },
  {
   "cell_type": "code",
   "execution_count": 49,
   "metadata": {},
   "outputs": [
    {
     "data": {
      "text/plain": [
       "4.0"
      ]
     },
     "execution_count": 49,
     "metadata": {},
     "output_type": "execute_result"
    }
   ],
   "source": [
    "68/17"
   ]
  },
  {
   "cell_type": "code",
   "execution_count": 48,
   "metadata": {},
   "outputs": [
    {
     "data": {
      "text/plain": [
       "-1.9999999999999991"
      ]
     },
     "execution_count": 48,
     "metadata": {},
     "output_type": "execute_result"
    }
   ],
   "source": [
    "np.linalg.det( np.array([[3,17], [1,5]]) )"
   ]
  },
  {
   "cell_type": "code",
   "execution_count": 50,
   "metadata": {},
   "outputs": [
    {
     "data": {
      "text/plain": [
       "2.000000000000003"
      ]
     },
     "execution_count": 50,
     "metadata": {},
     "output_type": "execute_result"
    }
   ],
   "source": [
    "np.linalg.det( np.array([[14,17], [4,5]]) )"
   ]
  },
  {
   "cell_type": "code",
   "execution_count": 37,
   "metadata": {},
   "outputs": [],
   "source": [
    "def gcd(a,b):\n",
    "    x = []\n",
    "    if b >a:\n",
    "        a,b = b,a\n",
    "    while b > 0:\n",
    "        a, b, q = b, a % b, a // b\n",
    "        x.append(q)\n",
    "    return a, x\n",
    "        "
   ]
  },
  {
   "cell_type": "code",
   "execution_count": 38,
   "metadata": {},
   "outputs": [
    {
     "data": {
      "text/plain": [
       "(1, [2, 3, 1, 2, 5])"
      ]
     },
     "execution_count": 38,
     "metadata": {},
     "output_type": "execute_result"
    }
   ],
   "source": [
    "gcd(59, 2*67)"
   ]
  },
  {
   "cell_type": "code",
   "execution_count": 40,
   "metadata": {},
   "outputs": [
    {
     "data": {
      "text/plain": [
       "[76,\n",
       " 79,\n",
       " 82,\n",
       " 85,\n",
       " 88,\n",
       " 91,\n",
       " 94,\n",
       " 97,\n",
       " 100,\n",
       " 103,\n",
       " 106,\n",
       " 109,\n",
       " 112,\n",
       " 115,\n",
       " 118,\n",
       " 121,\n",
       " 124,\n",
       " 127,\n",
       " 130,\n",
       " 133]"
      ]
     },
     "execution_count": 40,
     "metadata": {},
     "output_type": "execute_result"
    }
   ],
   "source": [
    "[3*k + 1 for k in range(25,45)]"
   ]
  },
  {
   "cell_type": "code",
   "execution_count": 31,
   "metadata": {},
   "outputs": [
    {
     "data": {
      "text/plain": [
       "(1, [7, 3, 1, 1, 3])"
      ]
     },
     "execution_count": 31,
     "metadata": {},
     "output_type": "execute_result"
    }
   ],
   "source": [
    "gcd(25, 182)"
   ]
  },
  {
   "cell_type": "code",
   "execution_count": 6,
   "metadata": {},
   "outputs": [],
   "source": [
    "xx = []\n",
    "for i in range(1,20,2):\n",
    "    for j in range(i,20):\n",
    "        \n",
    "        tt = i**2 + j**2 - i*j\n",
    "        if tt % 3 != 1 : continue\n",
    "        a,b = (i,j) if i < j else (j,i)\n",
    "            \n",
    "        xx.append( [a,b, tt])\n",
    "        \n",
    "xx.sort(key = lambda x:x[2])\n"
   ]
  },
  {
   "cell_type": "code",
   "execution_count": 5,
   "metadata": {},
   "outputs": [],
   "source": [
    "uu = xx[:]"
   ]
  },
  {
   "cell_type": "code",
   "execution_count": 11,
   "metadata": {},
   "outputs": [
    {
     "data": {
      "text/plain": [
       "[[1, 1, 1],\n",
       " [1, 3, 7],\n",
       " [1, 4, 13],\n",
       " [3, 4, 13],\n",
       " [3, 5, 19],\n",
       " [5, 5, 25],\n",
       " [1, 6, 31],\n",
       " [5, 6, 31],\n",
       " [3, 7, 37],\n",
       " [1, 7, 43],\n",
       " [3, 8, 49],\n",
       " [5, 8, 49],\n",
       " [7, 7, 49],\n",
       " [5, 9, 61],\n",
       " [7, 9, 67],\n",
       " [1, 9, 73],\n",
       " [3, 10, 79],\n",
       " [7, 10, 79],\n",
       " [1, 10, 91],\n",
       " [5, 11, 91]]"
      ]
     },
     "execution_count": 11,
     "metadata": {},
     "output_type": "execute_result"
    }
   ],
   "source": [
    "xx[:20]"
   ]
  },
  {
   "cell_type": "code",
   "execution_count": 12,
   "metadata": {},
   "outputs": [
    {
     "data": {
      "text/plain": [
       "[[1, 2, 7],\n",
       " [1, 3, 13],\n",
       " [1, 5, 31],\n",
       " [3, 4, 37],\n",
       " [1, 6, 43],\n",
       " [3, 5, 49],\n",
       " [1, 8, 73],\n",
       " [3, 7, 79],\n",
       " [1, 9, 91],\n",
       " [5, 6, 91],\n",
       " [3, 8, 97],\n",
       " [5, 7, 109],\n",
       " [1, 11, 133],\n",
       " [3, 10, 139],\n",
       " [5, 9, 151]]"
      ]
     },
     "execution_count": 12,
     "metadata": {},
     "output_type": "execute_result"
    }
   ],
   "source": [
    "uu[:15]"
   ]
  },
  {
   "cell_type": "code",
   "execution_count": 107,
   "metadata": {},
   "outputs": [
    {
     "data": {
      "text/plain": [
       "(1, [1, 1, 2, 15, 2, 3])"
      ]
     },
     "execution_count": 107,
     "metadata": {},
     "output_type": "execute_result"
    }
   ],
   "source": [
    "gcd(331, 277*2)"
   ]
  },
  {
   "cell_type": "code",
   "execution_count": 35,
   "metadata": {},
   "outputs": [
    {
     "data": {
      "text/plain": [
       "43.0"
      ]
     },
     "execution_count": 35,
     "metadata": {},
     "output_type": "execute_result"
    }
   ],
   "source": [
    "129/3"
   ]
  },
  {
   "cell_type": "code",
   "execution_count": 90,
   "metadata": {},
   "outputs": [],
   "source": [
    "z = np.exp(1J*np.pi/3)\n"
   ]
  },
  {
   "cell_type": "code",
   "execution_count": 80,
   "metadata": {},
   "outputs": [
    {
     "data": {
      "text/plain": [
       "3.000000000000001"
      ]
     },
     "execution_count": 80,
     "metadata": {},
     "output_type": "execute_result"
    }
   ],
   "source": [
    "abs((z+2)**2)"
   ]
  },
  {
   "cell_type": "code",
   "execution_count": 106,
   "metadata": {},
   "outputs": [
    {
     "data": {
      "text/plain": [
       "(160.50000000000003+0.8660254037844339j)"
      ]
     },
     "execution_count": 106,
     "metadata": {},
     "output_type": "execute_result"
    }
   ],
   "source": [
    "(7*z + 4)*(12*z.conjugate() + 7)"
   ]
  },
  {
   "cell_type": "code",
   "execution_count": 101,
   "metadata": {},
   "outputs": [
    {
     "data": {
      "text/plain": [
       "241.00000000000003"
      ]
     },
     "execution_count": 101,
     "metadata": {},
     "output_type": "execute_result"
    }
   ],
   "source": [
    "abs(z.conjugate() + 15)**2"
   ]
  },
  {
   "cell_type": "code",
   "execution_count": 102,
   "metadata": {},
   "outputs": [
    {
     "data": {
      "text/plain": [
       "451.0"
      ]
     },
     "execution_count": 102,
     "metadata": {},
     "output_type": "execute_result"
    }
   ],
   "source": [
    "2*225.5"
   ]
  },
  {
   "cell_type": "code",
   "execution_count": 86,
   "metadata": {},
   "outputs": [
    {
     "data": {
      "text/plain": [
       "((0.5000000000000001+0.8660254037844386j),\n",
       " (-0.4999999999999998+0.8660254037844388j))"
      ]
     },
     "execution_count": 86,
     "metadata": {},
     "output_type": "execute_result"
    }
   ],
   "source": [
    "\n",
    "w = np.exp(1J*np.pi/3)\n",
    "z = w**2\n",
    "w, z"
   ]
  },
  {
   "cell_type": "code",
   "execution_count": 69,
   "metadata": {},
   "outputs": [
    {
     "data": {
      "text/plain": [
       "((3+0j), (1.0000000000000004+0j))"
      ]
     },
     "execution_count": 69,
     "metadata": {},
     "output_type": "execute_result"
    }
   ],
   "source": [
    "(w + 1)*(w.conjugate() + 1), (z + 1)*(z.conjugate() + 1)"
   ]
  },
  {
   "cell_type": "code",
   "execution_count": 88,
   "metadata": {},
   "outputs": [
    {
     "data": {
      "text/plain": [
       "((0.5+0.28867513459481287j), (0.5000000000000003+0.8660254037844388j))"
      ]
     },
     "execution_count": 88,
     "metadata": {},
     "output_type": "execute_result"
    }
   ],
   "source": [
    "w*(w.conjugate() + 1)/3 , z*(z.conjugate() + 1) "
   ]
  },
  {
   "cell_type": "markdown",
   "metadata": {},
   "source": [
    "---"
   ]
  },
  {
   "cell_type": "code",
   "execution_count": 57,
   "metadata": {},
   "outputs": [
    {
     "data": {
      "text/plain": [
       "((0.5000000000000001+0.8660254037844386j), (7+0j))"
      ]
     },
     "execution_count": 57,
     "metadata": {},
     "output_type": "execute_result"
    }
   ],
   "source": [
    "w, (w+2)*(w.conjugate()+ 2)"
   ]
  },
  {
   "cell_type": "code",
   "execution_count": 73,
   "metadata": {},
   "outputs": [
    {
     "data": {
      "text/plain": [
       "(7+0j)"
      ]
     },
     "execution_count": 73,
     "metadata": {},
     "output_type": "execute_result"
    }
   ],
   "source": [
    "(z + 3)*(z.conjugate() + 3)"
   ]
  },
  {
   "cell_type": "code",
   "execution_count": 89,
   "metadata": {},
   "outputs": [
    {
     "data": {
      "text/plain": [
       "(4.500000000000001+0.8660254037844388j)"
      ]
     },
     "execution_count": 89,
     "metadata": {},
     "output_type": "execute_result"
    }
   ],
   "source": [
    "(z + 2)*(z.conjugate() + 3)"
   ]
  },
  {
   "cell_type": "code",
   "execution_count": 81,
   "metadata": {},
   "outputs": [
    {
     "data": {
      "text/plain": [
       "(4.5+0.8660254037844384j)"
      ]
     },
     "execution_count": 81,
     "metadata": {},
     "output_type": "execute_result"
    }
   ],
   "source": [
    "(w + 1)*(w.conjugate() + 2)"
   ]
  },
  {
   "cell_type": "code",
   "execution_count": 85,
   "metadata": {},
   "outputs": [
    {
     "data": {
      "text/plain": [
       "(3.0000000000000013+0j)"
      ]
     },
     "execution_count": 85,
     "metadata": {},
     "output_type": "execute_result"
    }
   ],
   "source": [
    "(z + 2)*(z.conjugate() + 2)"
   ]
  },
  {
   "cell_type": "code",
   "execution_count": 31,
   "metadata": {},
   "outputs": [
    {
     "data": {
      "text/plain": [
       "<function complex128.conjugate>"
      ]
     },
     "execution_count": 31,
     "metadata": {},
     "output_type": "execute_result"
    }
   ],
   "source": [
    "z.conjugate"
   ]
  },
  {
   "cell_type": "code",
   "execution_count": 97,
   "metadata": {},
   "outputs": [
    {
     "data": {
      "text/plain": [
       "21.0"
      ]
     },
     "execution_count": 97,
     "metadata": {},
     "output_type": "execute_result"
    }
   ],
   "source": [
    "pp = (w+1)*(2*w + 1)\n",
    "abs(pp)**2"
   ]
  },
  {
   "cell_type": "code",
   "execution_count": 96,
   "metadata": {},
   "outputs": [
    {
     "data": {
      "text/plain": [
       "4.58257569495584"
      ]
     },
     "execution_count": 96,
     "metadata": {},
     "output_type": "execute_result"
    }
   ],
   "source": [
    "abs(_)"
   ]
  },
  {
   "cell_type": "code",
   "execution_count": 98,
   "metadata": {},
   "outputs": [
    {
     "data": {
      "text/plain": [
       "(1.5000000000000002+4.330127018922193j)"
      ]
     },
     "execution_count": 98,
     "metadata": {},
     "output_type": "execute_result"
    }
   ],
   "source": [
    "pp"
   ]
  },
  {
   "cell_type": "code",
   "execution_count": 100,
   "metadata": {},
   "outputs": [
    {
     "data": {
      "text/plain": [
       "5.0"
      ]
     },
     "execution_count": 100,
     "metadata": {},
     "output_type": "execute_result"
    }
   ],
   "source": [
    "4.330127018922193/w.imag"
   ]
  },
  {
   "cell_type": "code",
   "execution_count": 102,
   "metadata": {},
   "outputs": [
    {
     "data": {
      "text/plain": [
       "(1.1102230246251565e-16+2.220446049250313e-16j)"
      ]
     },
     "execution_count": 102,
     "metadata": {},
     "output_type": "execute_result"
    }
   ],
   "source": [
    "w**2 - w + 1"
   ]
  },
  {
   "cell_type": "code",
   "execution_count": 103,
   "metadata": {},
   "outputs": [
    {
     "data": {
      "text/plain": [
       "(0.5000000000000001+0.8660254037844386j)"
      ]
     },
     "execution_count": 103,
     "metadata": {},
     "output_type": "execute_result"
    }
   ],
   "source": []
  },
  {
   "cell_type": "code",
   "execution_count": 116,
   "metadata": {},
   "outputs": [],
   "source": [
    "import re"
   ]
  },
  {
   "cell_type": "code",
   "execution_count": 152,
   "metadata": {},
   "outputs": [],
   "source": [
    "\n",
    "rr = re.compile('(\\$[^\\s].*?\\$)')"
   ]
  },
  {
   "cell_type": "code",
   "execution_count": 153,
   "metadata": {},
   "outputs": [
    {
     "data": {
      "text/plain": [
       "['$hhh$']"
      ]
     },
     "execution_count": 153,
     "metadata": {},
     "output_type": "execute_result"
    }
   ],
   "source": [
    "sss = '''\n",
    "\n",
    "$ gggg$\n",
    "$hhh$\n",
    "'''\n",
    "rr.findall(sss)"
   ]
  },
  {
   "cell_type": "code",
   "execution_count": 129,
   "metadata": {},
   "outputs": [
    {
     "data": {
      "text/plain": [
       "['$ gggg$', '$hhh$']"
      ]
     },
     "execution_count": 129,
     "metadata": {},
     "output_type": "execute_result"
    }
   ],
   "source": []
  },
  {
   "cell_type": "code",
   "execution_count": 21,
   "metadata": {},
   "outputs": [
    {
     "data": {
      "text/plain": [
       "array([[ 4,  2,  4],\n",
       "       [ 0, -5,  3],\n",
       "       [ 1,  1,  1]])"
      ]
     },
     "execution_count": 21,
     "metadata": {},
     "output_type": "execute_result"
    }
   ],
   "source": [
    "mm = np.array([4,2,4,0,-5,3,1,1,1]).reshape(3,3)\n",
    "mm"
   ]
  },
  {
   "cell_type": "code",
   "execution_count": 22,
   "metadata": {},
   "outputs": [],
   "source": [
    "mm[0] -= 4*mm[2]"
   ]
  },
  {
   "cell_type": "code",
   "execution_count": 23,
   "metadata": {},
   "outputs": [
    {
     "data": {
      "text/plain": [
       "array([[ 0, -2,  0],\n",
       "       [ 0, -5,  3],\n",
       "       [ 1,  1,  1]])"
      ]
     },
     "execution_count": 23,
     "metadata": {},
     "output_type": "execute_result"
    }
   ],
   "source": [
    "mm"
   ]
  },
  {
   "cell_type": "code",
   "execution_count": 107,
   "metadata": {},
   "outputs": [
    {
     "data": {
      "text/plain": [
       "array([[ 3., -2.],\n",
       "       [ 2.,  1.]])"
      ]
     },
     "execution_count": 107,
     "metadata": {},
     "output_type": "execute_result"
    }
   ],
   "source": [
    "w7 = np.identity(2) + 2*wx\n",
    "w7"
   ]
  },
  {
   "cell_type": "code",
   "execution_count": 495,
   "metadata": {},
   "outputs": [
    {
     "data": {
      "image/png": "[encoded data removed]",
      "text/plain": [
       "<Figure size 1152x576 with 1 Axes>"
      ]
     },
     "metadata": {
      "needs_background": "light"
     },
     "output_type": "display_data"
    }
   ],
   "source": [
    "import numpy as np\n",
    "import matplotlib.pyplot as plt\n",
    "\n",
    "#using cplx numbers\n",
    "def plt_cplx(Z, \n",
    "             ax=plt, \n",
    "             sty='r'):\n",
    "    X = [z.real for z in Z]\n",
    "    Y = [z.imag for z in Z] \n",
    "    ax.plot(X,Y,sty)\n",
    "    \n",
    "def plt_mats(SS,\n",
    "             sty='r'):\n",
    "    \n",
    "    # you should assert that the matrix coeffs are integer\n",
    "    MM = [SS]\n",
    "    for k in range(2):\n",
    "        MM.append(wx.dot(MM[-1]))\n",
    "\n",
    "    for M in MM:\n",
    "\n",
    "        if not np.any(M[1] == 0):\n",
    "            ff = M[0]/M[1]\n",
    "            diam = abs(ff[0] - ff[1])\n",
    "            cc = sum(ff)/2\n",
    "            plt_cplx( cc + diam*motif, sty=sty,ax=ax)\n",
    "        else:\n",
    "            ff = M[1] != 0\n",
    "            cc = M[0,ff]/M[1,ff]\n",
    "            plt_cplx( cc + [0,2J], sty='g',ax=ax)\n",
    "            \n",
    "    return MM\n",
    "\n",
    "\n",
    "fig, ax = plt.subplots()\n",
    "fig.set_size_inches(16,8)\n",
    "ax.axis('off')\n",
    "\n",
    "T = np.linspace(np.pi, 0, 40)\n",
    "motif = np.exp(1J*T)/2\n",
    "#choose a color scheme\n",
    "cols = 'ryb'\n",
    "\n",
    "\n",
    "for cc in np.arange(5) -2 :\n",
    "    plt_cplx( .5 + cc + motif, sty='y',ax=ax)\n",
    "    plt_cplx( cc + [0,2J], sty='y',ax=ax)\n",
    "\n",
    "\n",
    "wx = np.array([1,-1,1,0]).reshape(2,2).astype(int)\n",
    "#mats = plt_mats(2*np.identity(2).astype(int) + 1*wx)\n",
    "    \n",
    "\n",
    "mats = plt_mats( 2*np.identity(2) + 1*wx,sty='b')\n",
    "\n",
    "for M in mats: \n",
    "    for pt in M.transpose():\n",
    "        x,y = pt  \n",
    "        label = \"{}\\n{}\".format(x,y)\n",
    "        ax.plot([x/y],[0],\"bo\")\n",
    "        ax.annotate(label, \n",
    "                    (x/y, 0), # point to label\n",
    "                     textcoords=\"offset points\", # how to position the text\n",
    "                     xytext=(0,-25), # distance from text to points \n",
    "                     ha='center') # horizontal alignment \n",
    "       \n",
    "mats = plt_mats(np.identity(2) + 2*wx,sty='bx')\n",
    "#plt_mats(np.array([[5,-1],[1,1]]),sty='b')\n",
    "#plt_mats(np.array([[1,1],[2,-5]]),sty='g')"
   ]
  },
  {
   "cell_type": "code",
   "execution_count": 3,
   "metadata": {},
   "outputs": [
    {
     "data": {
      "text/plain": [
       "7.000000000000001"
      ]
     },
     "execution_count": 3,
     "metadata": {},
     "output_type": "execute_result"
    }
   ],
   "source": [
    "np.linalg.det(np.array([[-1,-1],[2,-5]]))"
   ]
  },
  {
   "cell_type": "code",
   "execution_count": 38,
   "metadata": {},
   "outputs": [],
   "source": [
    "ii = np.array([[-1,0],[2,-1]])\n",
    "pp = np.array([[1,1],[0,1]])\n",
    "xx = ii.dot(pp.dot(np.linalg.inv(ii)))"
   ]
  },
  {
   "cell_type": "code",
   "execution_count": 39,
   "metadata": {},
   "outputs": [
    {
     "data": {
      "text/plain": [
       "array([[-1,  0],\n",
       "       [ 2, -1]])"
      ]
     },
     "execution_count": 39,
     "metadata": {},
     "output_type": "execute_result"
    }
   ],
   "source": [
    "ii"
   ]
  },
  {
   "cell_type": "code",
   "execution_count": 40,
   "metadata": {},
   "outputs": [
    {
     "data": {
      "text/plain": [
       "(array([-3,  5]), array([-2,  1]))"
      ]
     },
     "execution_count": 40,
     "metadata": {},
     "output_type": "execute_result"
    }
   ],
   "source": [
    "ii.dot(np.array([3,1])), ii.dot(np.array([2,3]))"
   ]
  },
  {
   "cell_type": "code",
   "execution_count": 228,
   "metadata": {},
   "outputs": [
    {
     "name": "stderr",
     "output_type": "stream",
     "text": [
      "<ipython-input-228-47d1d3d9aae1>:1: RuntimeWarning: divide by zero encountered in true_divide\n",
      "  L = np.array([1,1])/np.array([0,1])\n"
     ]
    },
    {
     "data": {
      "text/plain": [
       "1.0"
      ]
     },
     "execution_count": 228,
     "metadata": {},
     "output_type": "execute_result"
    }
   ],
   "source": [
    "L = np.array([1,1])/np.array([0,1])\n",
    "L[~np.isinf(L)][0]"
   ]
  },
  {
   "cell_type": "code",
   "execution_count": 234,
   "metadata": {},
   "outputs": [
    {
     "data": {
      "text/plain": [
       "True"
      ]
     },
     "execution_count": 234,
     "metadata": {},
     "output_type": "execute_result"
    }
   ],
   "source": [
    "np.any(np.isinf(L))"
   ]
  },
  {
   "cell_type": "code",
   "execution_count": 375,
   "metadata": {},
   "outputs": [
    {
     "name": "stdout",
     "output_type": "stream",
     "text": [
      "[master a4423b2] web\n",
      " 4 files changed, 481 insertions(+), 2 deletions(-)\n",
      " create mode 100644 tags.lock\n",
      " create mode 100644 tags.temp\n",
      "Counting objects: 7, done.\n",
      "Delta compression using up to 12 threads.\n",
      "Compressing objects: 100% (6/6), done.\n",
      "Writing objects: 100% (7/7), 4.82 MiB | 112.00 KiB/s, done.\n",
      "Total 7 (delta 4), reused 0 (delta 0)\n",
      "remote: Resolving deltas: 100% (4/4), completed with 4 local objects.\u001b[K\n",
      "To https://github.com/macbuse/macbuse.github.io.git\n",
      "   4234a13..a4423b2  master -> master\n"
     ]
    }
   ],
   "source": [
    "!../.g"
   ]
  },
  {
   "cell_type": "code",
   "execution_count": 37,
   "metadata": {},
   "outputs": [],
   "source": [
    "from fractions import Fraction"
   ]
  },
  {
   "cell_type": "code",
   "execution_count": 554,
   "metadata": {},
   "outputs": [],
   "source": [
    "b = Fraction('1/6')\n",
    "L = [0*b, b, 2*b]\n",
    "TT  = [(Fraction(0, 1), Fraction(2, 15), Fraction(1, 6))]"
   ]
  },
  {
   "cell_type": "code",
   "execution_count": 555,
   "metadata": {},
   "outputs": [],
   "source": [
    "M = []\n",
    "\n",
    "for T in TT:\n",
    "    a, b, c = T\n",
    "    x, y = b - a, c - b\n",
    "    z = 1 - (c - a) \n",
    "    tt = z/(y + z)\n",
    "    M.append( (a, a*(1-tt) + b*tt,b) )\n",
    "    tt = z/(x + z)\n",
    "    M.append( (b, c*(1-tt) + b*tt,c) )\n",
    "TT = M[:]\n",
    "    "
   ]
  },
  {
   "cell_type": "code",
   "execution_count": 556,
   "metadata": {},
   "outputs": [
    {
     "data": {
      "text/plain": [
       "[(Fraction(0, 1), Fraction(5, 39), Fraction(2, 15)),\n",
       " (Fraction(2, 15), Fraction(4, 29), Fraction(1, 6))]"
      ]
     },
     "execution_count": 556,
     "metadata": {},
     "output_type": "execute_result"
    }
   ],
   "source": [
    "TT"
   ]
  },
  {
   "cell_type": "code",
   "execution_count": 496,
   "metadata": {},
   "outputs": [
    {
     "name": "stdout",
     "output_type": "stream",
     "text": [
      "3.0 699.0\n",
      "699.0 267.0\n",
      "267.0 27231.0\n",
      "27231.0 102.0\n",
      "102.0 405411.0\n",
      "405411.0 3975.0\n",
      "3975.0 154923.0\n",
      "154923.0 39.0\n",
      "39.0 884055.0\n",
      "884055.0 22683.0\n",
      "22683.0 13201467.0\n",
      "13201467.0 582.0\n",
      "582.0 5058147.0\n",
      "5058147.0 8691.0\n",
      "8691.0 129783.0\n",
      "129783.0 15.0\n",
      "15.0 289671.0\n",
      "289671.0 19398.0\n",
      "19398.0 25197987.0\n",
      "25197987.0 1299.0\n",
      "1299.0 146784315.0\n",
      "146784315.0 112998.0\n",
      "112998.0 9829527.0\n",
      "9829527.0 87.0\n",
      "87.0 3836454.0\n",
      "3836454.0 44103.0\n",
      "44103.0 22360134.0\n",
      "22360134.0 507.0\n",
      "507.0 1498179.0\n",
      "1498179.0 2955.0\n",
      "2955.0 17223.0\n",
      "17223.0 6.0\n"
     ]
    }
   ],
   "source": [
    "for a,b,c in TT:\n",
    "    #print(a,b,c)\n",
    "    N = (b - a)*(1 - (c-a))\n",
    "    M = (c - b)*(1 - (c-a))\n",
    "    #print(N)\n",
    "    print(np.sqrt(N.denominator), np.sqrt(M.denominator))"
   ]
  },
  {
   "cell_type": "code",
   "execution_count": 532,
   "metadata": {},
   "outputs": [
    {
     "data": {
      "text/plain": [
       "[1,\n",
       " 1,\n",
       " 2,\n",
       " 3,\n",
       " 5,\n",
       " 8,\n",
       " 13,\n",
       " 21,\n",
       " 34,\n",
       " 55,\n",
       " 89,\n",
       " 144,\n",
       " 233,\n",
       " 377,\n",
       " 610,\n",
       " 987,\n",
       " 1597,\n",
       " 2584,\n",
       " 4181,\n",
       " 6765,\n",
       " 10946,\n",
       " 17711]"
      ]
     },
     "execution_count": 532,
     "metadata": {},
     "output_type": "execute_result"
    }
   ],
   "source": [
    "F = [1,1]\n",
    "\n",
    "for k in range(20):\n",
    "    F.append(F[-1] + F[-2])\n"
   ]
  },
  {
   "cell_type": "code",
   "execution_count": 497,
   "metadata": {},
   "outputs": [],
   "source": [
    "L = [Fraction(0), Fraction('2/15'),Fraction('1/6')]"
   ]
  },
  {
   "cell_type": "code",
   "execution_count": 519,
   "metadata": {},
   "outputs": [],
   "source": [
    "M = []\n",
    "\n",
    "for T in zip(L, L[1:], L[2:]):\n",
    "    a, b, c = T\n",
    "    \n",
    "    x, y = b - a, c - b\n",
    "    z = 1 - (c - a) \n",
    "    \n",
    "    tt = z/(y + z)\n",
    "    M.extend( [a, a*(1-tt) + b*tt])\n",
    "    \n",
    "    tt = z/(x + z)\n",
    "    M.append(b)\n",
    "    M.append( c*(1-tt) + b*tt)\n",
    "    \n",
    "M.append(L[-1])\n",
    "L = M[:]\n",
    "    "
   ]
  },
  {
   "cell_type": "markdown",
   "metadata": {},
   "source": [
    "267/3"
   ]
  },
  {
   "cell_type": "code",
   "execution_count": 538,
   "metadata": {},
   "outputs": [
    {
     "data": {
      "text/plain": [
       "-8.237676933475768e-06"
      ]
     },
     "execution_count": 538,
     "metadata": {},
     "output_type": "execute_result"
    }
   ],
   "source": [
    "2.6180257510729614 - ((1 + np.sqrt(5))/2)**2"
   ]
  },
  {
   "cell_type": "code",
   "execution_count": 534,
   "metadata": {},
   "outputs": [
    {
     "data": {
      "text/plain": [
       "[Fraction(0, 1),\n",
       " Fraction(233, 1830),\n",
       " Fraction(89, 699),\n",
       " Fraction(7921, 62210),\n",
       " Fraction(89, 699)]"
      ]
     },
     "execution_count": 534,
     "metadata": {},
     "output_type": "execute_result"
    }
   ],
   "source": [
    "L[:5]"
   ]
  },
  {
   "cell_type": "code",
   "execution_count": 542,
   "metadata": {},
   "outputs": [
    {
     "data": {
      "text/plain": [
       "1.201864649025275e-06"
      ]
     },
     "execution_count": 542,
     "metadata": {},
     "output_type": "execute_result"
    }
   ],
   "source": [
    "float(3*L[1]) - (2/(1+ np.sqrt(5)))**2"
   ]
  },
  {
   "cell_type": "code",
   "execution_count": 543,
   "metadata": {},
   "outputs": [
    {
     "data": {
      "image/png": "[encoded data removed]",
      "text/plain": [
       "<Figure size 1152x576 with 1 Axes>"
      ]
     },
     "metadata": {
      "needs_background": "light"
     },
     "output_type": "display_data"
    }
   ],
   "source": [
    "fig, ax = plt.subplots()\n",
    "fig.set_size_inches(16,8)\n",
    "\n",
    "sty = 'rb'\n",
    "\n",
    "for k, ff in enumerate(L):\n",
    "    ax.plot([3*float(ff)]*2, [0,1], 'rb'[k%2])"
   ]
  },
  {
   "cell_type": "code",
   "execution_count": 552,
   "metadata": {},
   "outputs": [
    {
     "data": {
      "text/plain": [
       "1.201864649025275e-06"
      ]
     },
     "execution_count": 552,
     "metadata": {},
     "output_type": "execute_result"
    }
   ],
   "source": [
    "3*float(L[1])   - ( ( 1 -  np.sqrt(5))/2 + 1)"
   ]
  },
  {
   "cell_type": "markdown",
   "metadata": {},
   "source": [
    " $\\frac{1 -  \\sqrt(5)}{2}+ 1 $"
   ]
  },
  {
   "cell_type": "code",
   "execution_count": 464,
   "metadata": {},
   "outputs": [
    {
     "data": {
      "text/plain": [
       "Fraction(-1, 225)"
      ]
     },
     "execution_count": 464,
     "metadata": {},
     "output_type": "execute_result"
    }
   ],
   "source": [
    "(Fraction(2,15) - 1)*(Fraction(2,15) - Fraction(5, 39))"
   ]
  },
  {
   "cell_type": "code",
   "execution_count": 412,
   "metadata": {},
   "outputs": [
    {
     "data": {
      "text/plain": [
       "469.6221885728995"
      ]
     },
     "execution_count": 412,
     "metadata": {},
     "output_type": "execute_result"
    }
   ],
   "source": []
  },
  {
   "cell_type": "code",
   "execution_count": 525,
   "metadata": {},
   "outputs": [
    {
     "data": {
      "text/plain": [
       "2.618033988749895"
      ]
     },
     "execution_count": 525,
     "metadata": {},
     "output_type": "execute_result"
    }
   ],
   "source": [
    "import numpy as np\n",
    "(1 + np.sqrt(5))**2/4"
   ]
  },
  {
   "cell_type": "code",
   "execution_count": 356,
   "metadata": {},
   "outputs": [
    {
     "data": {
      "text/plain": [
       "2"
      ]
     },
     "execution_count": 356,
     "metadata": {},
     "output_type": "execute_result"
    }
   ],
   "source": [
    "Fraction(1,2).denominator"
   ]
  },
  {
   "cell_type": "code",
   "execution_count": 357,
   "metadata": {},
   "outputs": [
    {
     "name": "stdout",
     "output_type": "stream",
     "text": [
      "267.0\n",
      "3975.0\n",
      "22683.0\n",
      "8691.0\n",
      "19398.0\n",
      "112998.0\n",
      "44103.0\n",
      "2955.0\n"
     ]
    }
   ],
   "source": []
  },
  {
   "cell_type": "code",
   "execution_count": 146,
   "metadata": {},
   "outputs": [
    {
     "data": {
      "text/plain": [
       "Fraction(4, 1)"
      ]
     },
     "execution_count": 146,
     "metadata": {},
     "output_type": "execute_result"
    }
   ],
   "source": [
    "Fraction(2,15)/Fraction"
   ]
  },
  {
   "cell_type": "code",
   "execution_count": 147,
   "metadata": {},
   "outputs": [
    {
     "data": {
      "text/plain": [
       "Fraction(25, 1)"
      ]
     },
     "execution_count": 147,
     "metadata": {},
     "output_type": "execute_result"
    }
   ],
   "source": [
    "Fraction(5, 39)/ Fraction(1, 195)"
   ]
  },
  {
   "cell_type": "code",
   "execution_count": 148,
   "metadata": {},
   "outputs": [
    {
     "data": {
      "text/plain": [
       "Fraction(169, 1)"
      ]
     },
     "execution_count": 148,
     "metadata": {},
     "output_type": "execute_result"
    }
   ],
   "source": [
    "Fraction(13, 15)/Fraction(1, 195) "
   ]
  },
  {
   "cell_type": "code",
   "execution_count": 4,
   "metadata": {},
   "outputs": [],
   "source": [
    "def ctd(a,b):\n",
    "    L = []\n",
    "    while b > 0:\n",
    "        L.append(a // b)\n",
    "        a, b = b, a % b\n",
    "    return L[1:]\n",
    "    \n"
   ]
  },
  {
   "cell_type": "code",
   "execution_count": 52,
   "metadata": {},
   "outputs": [
    {
     "data": {
      "image/png": "[encoded data removed]",
      "text/plain": [
       "<Figure size 432x288 with 1 Axes>"
      ]
     },
     "metadata": {
      "needs_background": "light"
     },
     "output_type": "display_data"
    }
   ],
   "source": [
    "\n",
    "for t in range(4,11):\n",
    "    N = 3**t\n",
    "    K = [ k for k in range(2,N-1) if k % 3 > 0 ]\n",
    "    X =  [ ctd(N, k) for k in K] \n",
    "    T = np.linspace(0,1,len(K))\n",
    "    plt.plot(T, [max(x) for x in X]);"
   ]
  },
  {
   "cell_type": "code",
   "execution_count": 62,
   "metadata": {},
   "outputs": [
    {
     "data": {
      "image/png": "[encoded data removed]",
      "text/plain": [
       "<Figure size 432x288 with 1 Axes>"
      ]
     },
     "metadata": {
      "needs_background": "light"
     },
     "output_type": "display_data"
    }
   ],
   "source": [
    "for t in range(18,4,-1):\n",
    "    N = 2**t\n",
    "    K = [ k for k in range(2,N-1) if k % 2 > 0 ]\n",
    "    X =  [ ctd(N, k) for k in K] \n",
    "    T = np.linspace(0,1,len(K))\n",
    "    plt.plot(T, [max(x) for x in X]);"
   ]
  },
  {
   "cell_type": "code",
   "execution_count": 24,
   "metadata": {},
   "outputs": [
    {
     "data": {
      "text/plain": [
       "(1, [1])"
      ]
     },
     "execution_count": 24,
     "metadata": {},
     "output_type": "execute_result"
    }
   ],
   "source": [
    "min([(max(x),x) for x in X])"
   ]
  },
  {
   "cell_type": "code",
   "execution_count": 59,
   "metadata": {},
   "outputs": [
    {
     "data": {
      "text/plain": [
       "5461.0"
      ]
     },
     "execution_count": 59,
     "metadata": {},
     "output_type": "execute_result"
    }
   ],
   "source": [
    "(2**14 - 1)/3/2**4"
   ]
  },
  {
   "cell_type": "code",
   "execution_count": 97,
   "metadata": {},
   "outputs": [
    {
     "name": "stdout",
     "output_type": "stream",
     "text": [
      "0 2 [36, 2] 38\n",
      "0 4 [18, 4] 22\n",
      "0 6 [12, 6] 18\n",
      "0 12 [6, 12] 18\n",
      "0 14 [5, 4, 1, 2] 12\n",
      "0 18 [4, 18] 22\n",
      "0 20 [3, 1, 1, 1, 6] 12\n",
      "0 26 [2, 1, 4, 5] 12\n",
      "0 36 [2, 36] 38\n",
      "0 38 [1, 1, 11, 1, 2] 16\n",
      "0 44 [1, 1, 1, 1, 14] 18\n",
      "0 46 [1, 1, 1, 2, 2, 1, 2] 10\n",
      "0 48 [1, 1, 1, 11, 2] 16\n",
      "0 50 [1, 2, 5, 1, 3] 12\n",
      "0 54 [1, 2, 1, 5, 3] 12\n",
      "0 62 [1, 5, 1, 1, 1, 3] 12\n",
      "0 68 [1, 13, 1, 1, 2] 18\n"
     ]
    }
   ],
   "source": [
    "p = 73\n",
    "\n",
    "uu = []\n",
    "\n",
    "for k in range(1, p):\n",
    "    L =  ctd(k,p)\n",
    "    uu.append( (k % 2,  sum(L) % 2) )\n",
    "    if sum(L) % 2 == 1 or k % 2 == 1: continue\n",
    "    print( k % 2, k ,L, sum(L) )\n"
   ]
  },
  {
   "cell_type": "code",
   "execution_count": 79,
   "metadata": {},
   "outputs": [
    {
     "data": {
      "text/plain": [
       "100"
      ]
     },
     "execution_count": 79,
     "metadata": {},
     "output_type": "execute_result"
    }
   ],
   "source": [
    "len(uu)"
   ]
  },
  {
   "cell_type": "code",
   "execution_count": 80,
   "metadata": {},
   "outputs": [],
   "source": [
    "from collections import Counter"
   ]
  },
  {
   "cell_type": "code",
   "execution_count": 98,
   "metadata": {},
   "outputs": [
    {
     "data": {
      "text/plain": [
       "Counter({(1, 1): 19, (0, 0): 17, (1, 0): 17, (0, 1): 19})"
      ]
     },
     "execution_count": 98,
     "metadata": {},
     "output_type": "execute_result"
    }
   ],
   "source": [
    "pp = Counter(uu)\n",
    "pp"
   ]
  },
  {
   "cell_type": "code",
   "execution_count": 85,
   "metadata": {},
   "outputs": [
    {
     "data": {
      "text/plain": [
       "Counter({(1, 1): 21, (0, 0): 27, (1, 0): 27, (0, 1): 21})"
      ]
     },
     "execution_count": 85,
     "metadata": {},
     "output_type": "execute_result"
    }
   ],
   "source": [
    "pp"
   ]
  },
  {
   "cell_type": "code",
   "execution_count": 96,
   "metadata": {},
   "outputs": [
    {
     "data": {
      "text/plain": [
       "65"
      ]
     },
     "execution_count": 96,
     "metadata": {},
     "output_type": "execute_result"
    }
   ],
   "source": []
  },
  {
   "cell_type": "code",
   "execution_count": null,
   "metadata": {},
   "outputs": [],
   "source": []
  }
 ],
 "metadata": {
  "kernelspec": {
   "display_name": "Python 3 (ipykernel)",
   "language": "python",
   "name": "python3"
  },
  "language_info": {
   "codemirror_mode": {
    "name": "ipython",
    "version": 3
   },
   "file_extension": ".py",
   "mimetype": "text/x-python",
   "name": "python",
   "nbconvert_exporter": "python",
   "pygments_lexer": "ipython3",
   "version": "3.8.12"
  },
  "widgets": {
   "application/vnd.jupyter.widget-state+json": {
    "state": {},
    "version_major": 2,
    "version_minor": 0
   }
  }
 },
 "nbformat": 4,
 "nbformat_minor": 4
}
