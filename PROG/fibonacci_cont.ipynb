{
 "cells": [
  {
   "cell_type": "code",
   "execution_count": 1,
   "metadata": {},
   "outputs": [],
   "source": [
    "import matplotlib.pyplot as plt\n",
    "import numpy as np"
   ]
  },
  {
   "cell_type": "code",
   "execution_count": 17,
   "metadata": {},
   "outputs": [],
   "source": [
    "L,R = 2 - np.sqrt(2), (np.sqrt(5) - 1)/2"
   ]
  },
  {
   "cell_type": "code",
   "execution_count": 18,
   "metadata": {},
   "outputs": [
    {
     "data": {
      "text/plain": [
       "0.03224755112299005"
      ]
     },
     "execution_count": 18,
     "metadata": {},
     "output_type": "execute_result"
    }
   ],
   "source": [
    "R-L"
   ]
  },
  {
   "cell_type": "code",
   "execution_count": 2,
   "metadata": {},
   "outputs": [
    {
     "name": "stdout",
     "output_type": "stream",
     "text": [
      "1 17 [17, 16, 15, 14, 13, 12, 11, 10, 9, 8, 7, 6, 5, 4, 3, 2, 1]\n",
      "2 10 [17, 15, 13, 11, 9, 7, 5, 3, 2, 1]\n",
      "3 8 [17, 14, 11, 8, 5, 3, 2, 1]\n",
      "4 8 [17, 13, 9, 5, 4, 3, 2, 1]\n",
      "5 7 [17, 12, 7, 5, 3, 2, 1]\n",
      "6 8 [17, 11, 6, 5, 4, 3, 2, 1]\n",
      "7 7 [17, 10, 7, 4, 3, 2, 1]\n",
      "8 10 [17, 9, 8, 7, 6, 5, 4, 3, 2, 1]\n"
     ]
    }
   ],
   "source": [
    "def euc(a,b):\n",
    "    if a < b:\n",
    "        a,b = b,a\n",
    "    s = a - b\n",
    "    if s < b:\n",
    "        return b, s\n",
    "    return s, b\n",
    "\n",
    "\n",
    "\n",
    "for k  in range(1,9):\n",
    "    x, y = 17, k\n",
    "    tt =  [x]\n",
    "    while x > 1:\n",
    "        x,y = euc(x,y)\n",
    "        tt.append(x)\n",
    "    print(k,len(tt), tt)"
   ]
  },
  {
   "cell_type": "code",
   "execution_count": 3,
   "metadata": {},
   "outputs": [],
   "source": [
    "def cf(a,b):\n",
    "    if a < b:\n",
    "        a,b = b,a\n",
    "    if b == 1:\n",
    "        return [a]\n",
    "    if a % b == 0:\n",
    "        return None\n",
    "    \n",
    "    n = a // b\n",
    "    a, b = b, a - n*b \n",
    "    L = cf(a,b)\n",
    "    if L :\n",
    "        L.append(n)\n",
    "    return L\n",
    "\n",
    "def cfv(a,b):\n",
    "    if a < b:\n",
    "        a,b = b,a\n",
    "    if b == 1:\n",
    "        return [a]\n",
    "    if a % b == 0:\n",
    "        return None\n",
    "    \n",
    "    n = a // b\n",
    "    a, b = b, a - n*b \n",
    "    print(a,b)\n",
    "    L = cf(a,b)\n",
    "    if L :\n",
    "        L.append(n)\n",
    "    return L"
   ]
  },
  {
   "cell_type": "code",
   "execution_count": 31,
   "metadata": {},
   "outputs": [],
   "source": [
    "def pgcd(a,b):\n",
    "    if a < b:\n",
    "        a,b = b,a\n",
    "    if b == 0: return a\n",
    "    return pgcd(b, a % b )\n",
    "\n",
    "def pts(mm):\n",
    "    bds  = np.array([2 - np.sqrt(2), (np.sqrt(5) - 1)/2])\n",
    "    bds *= FF[mm]\n",
    "    a,b = bds.astype(int)\n",
    "    return [ x for x in range(a,b) if pgcd(x,mm) == 1]"
   ]
  },
  {
   "cell_type": "code",
   "execution_count": 25,
   "metadata": {},
   "outputs": [],
   "source": [
    "\n",
    "FF = [1,1]\n",
    "for k in range(30):\n",
    "    FF.append(FF[-1]+ FF[-2])\n",
    "    \n"
   ]
  },
  {
   "cell_type": "code",
   "execution_count": 8,
   "metadata": {},
   "outputs": [
    {
     "name": "stdout",
     "output_type": "stream",
     "text": [
      "610\n",
      "377 13 [2, 1, 1, 1, 1, 1, 1, 1, 1, 1, 1, 1, 1]\n",
      "379 11 [3, 1, 1, 1, 1, 3, 1, 1, 1, 1, 1]\n",
      "381 7 [2, 37, 1, 1, 1, 1, 1]\n",
      "383 6 [14, 5, 2, 1, 1, 1]\n",
      "387 9 [6, 1, 1, 3, 1, 2, 1, 1, 1]\n"
     ]
    },
    {
     "data": {
      "image/png": "[encoded data removed]",
      "text/plain": [
       "<Figure size 432x288 with 1 Axes>"
      ]
     },
     "metadata": {
      "needs_background": "light"
     },
     "output_type": "display_data"
    }
   ],
   "source": [
    "def tail(L):\n",
    "    x = []\n",
    "    for cc in reversed(L):\n",
    "        x.append(cc)\n",
    "        if cc > 1: return x\n",
    "\n",
    "F = np.array([[1,1],[1,0]])\n",
    "Fn = np.array([[1,1],[1,0]])\n",
    "\n",
    "for k in range(13):\n",
    "    Fn = F.dot(Fn)\n",
    "\n",
    "#63/99 = [1,1,1,3]\n",
    "N = Fn[0,0]\n",
    "worst = []\n",
    "print(N)\n",
    "for k in range( Fn[0,1],int(63/99*N)):\n",
    "    cont_frac = cf(k,N)\n",
    "    \n",
    "    if not cont_frac: continue\n",
    "    tt = tail(cont_frac)\n",
    "    #if  tt[-1] > 2: continue\n",
    "    worst.append(k)\n",
    "    #print(k,len(cont_frac) , sum(cont_frac)% 2, tt, cont_frac[:-len(tt)] )\n",
    "    print(k,len(cont_frac) , cont_frac[:] )\n",
    "    \n",
    "plt.plot(np.array(worst)/Fn[0,0],'rx');"
   ]
  },
  {
   "cell_type": "code",
   "execution_count": 97,
   "metadata": {},
   "outputs": [],
   "source": [
    "def gg(z):\n",
    "    return (4*z -3)/(3*z + 4)\n",
    "\n",
    "def hh(z):\n",
    "    return (3*z -4)/(4*z + 3)"
   ]
  },
  {
   "cell_type": "code",
   "execution_count": 99,
   "metadata": {},
   "outputs": [
    {
     "data": {
      "text/plain": [
       "(0.5802770892210406, 0.6078500148027699)"
      ]
     },
     "execution_count": 99,
     "metadata": {},
     "output_type": "execute_result"
    }
   ],
   "source": [
    "hh(L)+ 1, hh(R) +1"
   ]
  },
  {
   "cell_type": "code",
   "execution_count": 90,
   "metadata": {},
   "outputs": [
    {
     "data": {
      "text/plain": [
       "0.8193310587965338"
      ]
     },
     "execution_count": 90,
     "metadata": {},
     "output_type": "execute_result"
    }
   ],
   "source": [
    "4*np.arctan(3/4)/np.pi"
   ]
  },
  {
   "cell_type": "code",
   "execution_count": 141,
   "metadata": {},
   "outputs": [
    {
     "data": {
      "text/plain": [
       "array([[  4,  -3],\n",
       "       [ 35, -20]])"
      ]
     },
     "execution_count": 141,
     "metadata": {},
     "output_type": "execute_result"
    }
   ],
   "source": [
    "X = np.array([[1,0],[8,1]])\n",
    "Y = np.array([[4,-3],[3,4]])\n",
    "X.dot(Y)"
   ]
  },
  {
   "cell_type": "code",
   "execution_count": 145,
   "metadata": {},
   "outputs": [
    {
     "data": {
      "text/plain": [
       "array([[1, 0],\n",
       "       [0, 1]])"
      ]
     },
     "execution_count": 145,
     "metadata": {},
     "output_type": "execute_result"
    }
   ],
   "source": [
    "T = np.array([[0,1],[1,0]])\n",
    "T.dot(T)"
   ]
  },
  {
   "cell_type": "code",
   "execution_count": 146,
   "metadata": {},
   "outputs": [],
   "source": [
    "Z = np.array([[4,-3],[7,-5]])"
   ]
  },
  {
   "cell_type": "code",
   "execution_count": 147,
   "metadata": {},
   "outputs": [
    {
     "data": {
      "text/plain": [
       "array([[-5,  7],\n",
       "       [-3,  4]])"
      ]
     },
     "execution_count": 147,
     "metadata": {},
     "output_type": "execute_result"
    }
   ],
   "source": [
    "T.dot(Z.dot(T))"
   ]
  },
  {
   "cell_type": "code",
   "execution_count": 151,
   "metadata": {},
   "outputs": [
    {
     "data": {
      "text/plain": [
       "array([[ 5, -3],\n",
       "       [ 7, -4]])"
      ]
     },
     "execution_count": 151,
     "metadata": {},
     "output_type": "execute_result"
    }
   ],
   "source": [
    "np.array([[5,-3],[7,-4]])"
   ]
  },
  {
   "cell_type": "code",
   "execution_count": 155,
   "metadata": {},
   "outputs": [
    {
     "data": {
      "text/plain": [
       "(85, 85, 85)"
      ]
     },
     "execution_count": 155,
     "metadata": {},
     "output_type": "execute_result"
    }
   ],
   "source": [
    "5*17, 81 + 4, 49 + 36"
   ]
  },
  {
   "cell_type": "code",
   "execution_count": 158,
   "metadata": {},
   "outputs": [
    {
     "data": {
      "text/plain": [
       "((7+6j), (9-2j), (3-4j))"
      ]
     },
     "execution_count": 158,
     "metadata": {},
     "output_type": "execute_result"
    }
   ],
   "source": [
    "(2+1J)*(4+1J),(2-1J)*(4+1J), (2-1J)**2"
   ]
  },
  {
   "cell_type": "code",
   "execution_count": 163,
   "metadata": {},
   "outputs": [
    {
     "data": {
      "text/plain": [
       "array([[ -1,   7],\n",
       "       [-10,  45]])"
      ]
     },
     "execution_count": 163,
     "metadata": {},
     "output_type": "execute_result"
    }
   ],
   "source": [
    "X = np.array([[1,1],[6,7]])\n",
    "Y = np.array([[3,4],[-4,3]])\n",
    "X.dot(Y)"
   ]
  },
  {
   "cell_type": "code",
   "execution_count": 180,
   "metadata": {},
   "outputs": [],
   "source": [
    "vv = np.array([[1,4],[2,9]])\n"
   ]
  },
  {
   "cell_type": "code",
   "execution_count": 183,
   "metadata": {},
   "outputs": [
    {
     "data": {
      "text/plain": [
       "[5, 2, 2, 1, 1]"
      ]
     },
     "execution_count": 183,
     "metadata": {},
     "output_type": "execute_result"
    }
   ],
   "source": [
    "cf(38,65)"
   ]
  },
  {
   "cell_type": "markdown",
   "metadata": {},
   "source": [
    "233\n",
    "144 11 [2, 1, 1, 1, 1, 1, 1, 1, 1, 1, 1]\n",
    "145 7 [5, 5, 1, 1, 1, 1, 1]\n",
    "146 6 [3, 9, 2, 1, 1, 1]\n",
    "147 8 [2, 1, 3, 2, 2, 1, 1, 1]"
   ]
  },
  {
   "cell_type": "markdown",
   "metadata": {},
   "source": [
    "610\n",
    "377 13 [2, 1, 1, 1, 1, 1, 1, 1, 1, 1, 1, 1, 1]\n",
    "379 11 [3, 1, 1, 1, 1, 3, 1, 1, 1, 1, 1]\n",
    "381 7 [2, 37, 1, 1, 1, 1, 1]\n",
    "383 6 [14, 5, 2, 1, 1, 1]\n",
    "387 9 [6, 1, 1, 3, 1, 2, 1, 1, 1]"
   ]
  },
  {
   "cell_type": "markdown",
   "metadata": {},
   "source": [
    "# the elusive 610"
   ]
  },
  {
   "cell_type": "code",
   "execution_count": 13,
   "metadata": {},
   "outputs": [
    {
     "data": {
      "text/plain": [
       "((9+23j), (-13+21j))"
      ]
     },
     "execution_count": 13,
     "metadata": {},
     "output_type": "execute_result"
    }
   ],
   "source": [
    "(5 + 6J)*(2 - 1J)*(1+1J),(5 + 6J)*(2 +1J)*(1+1J)"
   ]
  },
  {
   "cell_type": "code",
   "execution_count": 10,
   "metadata": {},
   "outputs": [
    {
     "data": {
      "text/plain": [
       "(610, 610)"
      ]
     },
     "execution_count": 10,
     "metadata": {},
     "output_type": "execute_result"
    }
   ],
   "source": [
    "13**2 + 21**2, 9**2 + 23**2\n"
   ]
  },
  {
   "cell_type": "code",
   "execution_count": 11,
   "metadata": {},
   "outputs": [
    {
     "data": {
      "text/plain": [
       "(1, 133)"
      ]
     },
     "execution_count": 11,
     "metadata": {},
     "output_type": "execute_result"
    }
   ],
   "source": [
    "2*23 - 5*9, 5 * 23  + 2*9"
   ]
  },
  {
   "cell_type": "code",
   "execution_count": 12,
   "metadata": {},
   "outputs": [
    {
     "data": {
      "text/plain": [
       "([4, 1, 1, 2, 2, 1, 1, 4], [2, 1, 1, 1, 1, 1, 1, 1, 1, 1, 1, 2])"
      ]
     },
     "execution_count": 12,
     "metadata": {},
     "output_type": "execute_result"
    }
   ],
   "source": [
    "cf(133,610), cf(233, 610)"
   ]
  },
  {
   "cell_type": "code",
   "execution_count": 57,
   "metadata": {},
   "outputs": [
    {
     "data": {
      "text/plain": [
       "(75025, 75024.99999999999)"
      ]
     },
     "execution_count": 57,
     "metadata": {},
     "output_type": "execute_result"
    }
   ],
   "source": [
    "FF[24], abs(FF[12] + 1J*FF[11])**2"
   ]
  },
  {
   "cell_type": "code",
   "execution_count": 60,
   "metadata": {},
   "outputs": [
    {
     "data": {
      "text/plain": [
       "[144, 233]"
      ]
     },
     "execution_count": 60,
     "metadata": {},
     "output_type": "execute_result"
    }
   ],
   "source": [
    "FF[11:13]"
   ]
  },
  {
   "cell_type": "code",
   "execution_count": 61,
   "metadata": {},
   "outputs": [
    {
     "data": {
      "text/plain": [
       "(233+144j)"
      ]
     },
     "execution_count": 61,
     "metadata": {},
     "output_type": "execute_result"
    }
   ],
   "source": [
    "FF[12] + 1J*FF[11]"
   ]
  },
  {
   "cell_type": "markdown",
   "metadata": {},
   "source": [
    "1, 37, 113 = 4181"
   ]
  },
  {
   "cell_type": "code",
   "execution_count": 276,
   "metadata": {},
   "outputs": [
    {
     "data": {
      "text/plain": [
       "(55-34j)"
      ]
     },
     "execution_count": 276,
     "metadata": {},
     "output_type": "execute_result"
    }
   ],
   "source": [
    "(6 + 1J)*(8 -7J)"
   ]
  },
  {
   "cell_type": "code",
   "execution_count": 277,
   "metadata": {},
   "outputs": [
    {
     "data": {
      "text/plain": [
       "(4181, 4181)"
      ]
     },
     "execution_count": 277,
     "metadata": {},
     "output_type": "execute_result"
    }
   ],
   "source": [
    "41**2 + 50**2, 55**2 + 34**2"
   ]
  },
  {
   "cell_type": "code",
   "execution_count": 278,
   "metadata": {},
   "outputs": [
    {
     "data": {
      "text/plain": [
       "0.82"
      ]
     },
     "execution_count": 278,
     "metadata": {},
     "output_type": "execute_result"
    }
   ],
   "source": [
    "41/50"
   ]
  },
  {
   "cell_type": "code",
   "execution_count": 585,
   "metadata": {},
   "outputs": [
    {
     "data": {
      "text/plain": [
       "[4, 1, 1, 4, 1]"
      ]
     },
     "execution_count": 585,
     "metadata": {},
     "output_type": "execute_result"
    }
   ],
   "source": [
    "cf(41,50)"
   ]
  },
  {
   "cell_type": "code",
   "execution_count": 291,
   "metadata": {},
   "outputs": [
    {
     "data": {
      "text/plain": [
       "0.8200000000000001"
      ]
     },
     "execution_count": 291,
     "metadata": {},
     "output_type": "execute_result"
    }
   ],
   "source": [
    "1/(1 + 1/(4 + 1/(1 + 1/(1 + 1/4) )))"
   ]
  },
  {
   "cell_type": "code",
   "execution_count": 573,
   "metadata": {},
   "outputs": [
    {
     "data": {
      "text/plain": [
       "610.0"
      ]
     },
     "execution_count": 573,
     "metadata": {},
     "output_type": "execute_result"
    }
   ],
   "source": [
    "(29**2 + 47**2)/5"
   ]
  },
  {
   "cell_type": "code",
   "execution_count": 577,
   "metadata": {},
   "outputs": [
    {
     "data": {
      "text/plain": [
       "array([[89,  8],\n",
       "       [11,  1]])"
      ]
     },
     "execution_count": 577,
     "metadata": {},
     "output_type": "execute_result"
    }
   ],
   "source": [
    "np.array([[89,  8],\n",
    "         [11,  1]])"
   ]
  },
  {
   "cell_type": "code",
   "execution_count": 26,
   "metadata": {},
   "outputs": [
    {
     "name": "stdout",
     "output_type": "stream",
     "text": [
      "[(0, 1), (1, 1), (2, 2), (3, 3), (4, 5), (5, 8), (6, 13), (7, 21), (8, 34), (9, 55), (10, 89), (11, 144), (12, 233), (13, 377), (14, 610), (15, 987), (16, 1597), (17, 2584), (18, 4181), (19, 6765), (20, 10946), (21, 17711), (22, 28657), (23, 46368), (24, 75025), (25, 121393), (26, 196418), (27, 317811), (28, 514229), (29, 832040), (30, 1346269), (31, 2178309)]\n"
     ]
    }
   ],
   "source": [
    "print([x for x in enumerate(FF)])"
   ]
  },
  {
   "cell_type": "code",
   "execution_count": 194,
   "metadata": {},
   "outputs": [
    {
     "name": "stdout",
     "output_type": "stream",
     "text": [
      "(0, 1)\n",
      "(1, 1)\n",
      "(1, 2)\n",
      "(2, 3)\n",
      "(3, 5)\n",
      "(5, 8)\n",
      "(8, 13)\n"
     ]
    },
    {
     "data": {
      "text/plain": [
       "(8, 13)"
      ]
     },
     "execution_count": 194,
     "metadata": {},
     "output_type": "execute_result"
    }
   ],
   "source": [
    "\n",
    "qq = (1,0)\n",
    "for x in [1,1,1,1,1,1,1]:\n",
    "    a, b = qq\n",
    "    qq = b, b + x * a\n",
    "    print(qq)\n",
    "qq"
   ]
  },
  {
   "cell_type": "code",
   "execution_count": 22,
   "metadata": {},
   "outputs": [
    {
     "data": {
      "text/plain": [
       "[2, 1, 1, 1]"
      ]
     },
     "execution_count": 22,
     "metadata": {},
     "output_type": "execute_result"
    }
   ],
   "source": [
    "cf(5,8)"
   ]
  },
  {
   "cell_type": "markdown",
   "metadata": {},
   "source": [
    "# so this is 1/2 the radius and so we get the 3"
   ]
  },
  {
   "cell_type": "code",
   "execution_count": 196,
   "metadata": {},
   "outputs": [
    {
     "data": {
      "text/plain": [
       "(-0.0036885245901638886, 0.0078125)"
      ]
     },
     "execution_count": 196,
     "metadata": {},
     "output_type": "execute_result"
    }
   ],
   "source": [
    "379/FF[14] - 5/8, 1/2/8**2"
   ]
  },
  {
   "cell_type": "code",
   "execution_count": 195,
   "metadata": {},
   "outputs": [
    {
     "data": {
      "text/plain": [
       "-19.062500000000238"
      ]
     },
     "execution_count": 195,
     "metadata": {},
     "output_type": "execute_result"
    }
   ],
   "source": [
    "1/2/8**2/ (381/FF[14] - 5/8)"
   ]
  },
  {
   "cell_type": "code",
   "execution_count": 192,
   "metadata": {},
   "outputs": [
    {
     "data": {
      "text/plain": [
       "2.72321428571432"
      ]
     },
     "execution_count": 192,
     "metadata": {},
     "output_type": "execute_result"
    }
   ],
   "source": [
    "1/2/8**2/ (383/FF[14] - 5/8)"
   ]
  },
  {
   "cell_type": "code",
   "execution_count": 226,
   "metadata": {},
   "outputs": [
    {
     "data": {
      "text/plain": [
       "-516.1538461538472"
      ]
     },
     "execution_count": 226,
     "metadata": {},
     "output_type": "execute_result"
    }
   ],
   "source": [
    "1/(387/FF[14] - 63/99)"
   ]
  },
  {
   "cell_type": "code",
   "execution_count": 218,
   "metadata": {},
   "outputs": [
    {
     "data": {
      "text/plain": [
       "0.6292134831460674"
      ]
     },
     "execution_count": 218,
     "metadata": {},
     "output_type": "execute_result"
    }
   ],
   "source": [
    "56/89 "
   ]
  },
  {
   "cell_type": "code",
   "execution_count": 40,
   "metadata": {},
   "outputs": [
    {
     "name": "stdout",
     "output_type": "stream",
     "text": [
      "   1515 [1, 1, 2, 2, 1, 1, 12, 7]\n",
      "   1517 [1, 1, 2, 2, 1, 2, 3, 1, 1, 1, 4]\n",
      "   1519 [1, 1, 2, 2, 1, 8, 4, 4]\n",
      "   1521 [1, 1, 2, 3, 8, 1, 1, 1, 5]\n",
      "   1523 [1, 1, 2, 3, 2, 1, 2, 5, 3]\n",
      "   1525 [1, 1, 2, 3, 1, 2, 42]\n",
      "   1527 [1, 1, 2, 4, 58, 2]\n",
      "   1529 [1, 1, 2, 4, 2, 3, 15]\n",
      "   1531 [1, 1, 2, 4, 1, 12, 1, 6]\n",
      "   1533 [1, 1, 2, 5, 1, 1, 5, 1, 2, 2]\n",
      "   1535 [1, 1, 2, 6, 3, 4, 1, 4]\n",
      "   1537 [1, 1, 2, 7, 3, 5, 4]\n",
      "   1541 [1, 1, 2, 10, 1, 1, 2, 9]\n",
      "   1543 [1, 1, 2, 13, 1, 1, 3, 5]\n",
      "   1545 [1, 1, 2, 18, 1, 2, 1, 6]\n",
      "   1549 [1, 1, 2, 73, 2, 3]\n",
      "   1551 [1, 1, 1, 1, 171, 1, 2]\n",
      "   1553 [1, 1, 1, 1, 39, 6, 2]\n",
      "   1555 [1, 1, 1, 1, 21, 1, 6, 1, 2]\n",
      "   1557 [1, 1, 1, 1, 15, 16, 2]\n",
      "   1559 [1, 1, 1, 1, 11, 2, 2, 1, 1, 3]\n",
      "   1561 [1, 1, 1, 1, 9, 6, 1, 1, 1, 2]\n",
      "   1563 [1, 1, 1, 1, 7, 1, 1, 1, 1, 12]\n",
      "   1565 [1, 1, 1, 1, 6, 2, 11, 1, 2]\n",
      "   1567 [1, 1, 1, 1, 5, 1, 1, 1, 2, 10]\n",
      "   1569 [1, 1, 1, 1, 4, 1, 22, 4]\n",
      "   1571 [1, 1, 1, 1, 4, 2, 2, 1, 1, 8]\n",
      "   1573 [1, 1, 1, 1, 3, 1, 36, 1, 2]\n",
      "   1575 [1, 1, 1, 1, 3, 1, 1, 1, 1, 24]\n",
      "   1579 [1, 1, 1, 1, 3, 71, 2]\n",
      "   1583 [1, 1, 1, 1, 2, 1, 1, 3, 23]\n",
      "   1585 [1, 1, 1, 1, 2, 2, 1, 1, 2, 1, 1, 5]\n",
      "   1587 [1, 1, 1, 1, 2, 4, 2, 6, 3]\n",
      "   1589 [1, 1, 1, 1, 2, 12, 1, 6, 2]\n",
      "   1591 [1, 1, 1, 1, 1, 1, 17, 2, 5]\n",
      "   1593 [1, 1, 1, 1, 1, 1, 4, 1, 3, 9]\n",
      "   1595 [1, 1, 1, 1, 1, 1, 2, 1, 1, 5, 1, 4]\n"
     ]
    }
   ],
   "source": [
    "mm = 17\n",
    "\n",
    "for x in pts(mm):\n",
    "    \n",
    "    ccf = cf(x,FF[mm])\n",
    "    if not ccf: continue\n",
    "    print(str(x).rjust(7), list(reversed(ccf)) )"
   ]
  },
  {
   "cell_type": "code",
   "execution_count": 41,
   "metadata": {},
   "outputs": [
    {
     "data": {
      "text/plain": [
       "(0.5857864376269049, 0.6180339887498949)"
      ]
     },
     "execution_count": 41,
     "metadata": {},
     "output_type": "execute_result"
    }
   ],
   "source": [
    "L,R"
   ]
  },
  {
   "cell_type": "code",
   "execution_count": 49,
   "metadata": {},
   "outputs": [
    {
     "data": {
      "text/plain": [
       "610"
      ]
     },
     "execution_count": 49,
     "metadata": {},
     "output_type": "execute_result"
    }
   ],
   "source": [
    "FF[14]"
   ]
  },
  {
   "cell_type": "code",
   "execution_count": 317,
   "metadata": {},
   "outputs": [
    {
     "data": {
      "text/plain": [
       "(0.29088251416042255, -0.2587246482733434)"
      ]
     },
     "execution_count": 317,
     "metadata": {},
     "output_type": "execute_result"
    }
   ],
   "source": [
    "(6891/FF[mm] - 5/8)*8**2, (6797/FF[mm] - 5/8)*8**2,"
   ]
  },
  {
   "cell_type": "code",
   "execution_count": 266,
   "metadata": {},
   "outputs": [
    {
     "data": {
      "text/plain": [
       "47495.47961514903"
      ]
     },
     "execution_count": 266,
     "metadata": {},
     "output_type": "execute_result"
    }
   ],
   "source": [
    "1011*(.5*(1+ np.sqrt(5)))**8"
   ]
  },
  {
   "cell_type": "code",
   "execution_count": 294,
   "metadata": {},
   "outputs": [
    {
     "data": {
      "text/plain": [
       "386.1676373738563"
      ]
     },
     "execution_count": 294,
     "metadata": {},
     "output_type": "execute_result"
    }
   ],
   "source": [
    "1011/(.5*(1+ np.sqrt(5)))**2"
   ]
  },
  {
   "cell_type": "code",
   "execution_count": 296,
   "metadata": {},
   "outputs": [
    {
     "data": {
      "text/plain": [
       "[6, 1, 1, 3, 1, 2, 1, 1, 1]"
      ]
     },
     "execution_count": 296,
     "metadata": {},
     "output_type": "execute_result"
    }
   ],
   "source": [
    "cf(387,610)"
   ]
  },
  {
   "cell_type": "code",
   "execution_count": null,
   "metadata": {},
   "outputs": [],
   "source": [
    "387                        [6, 1, 1, 3, 1, 2, 1, 1, 1]\n",
    "1011                    [6, 2, 3, 1, 1, 1, 2, 1, 1, 1]\n",
    "2641                      [6, 1, 30, 1, 1, 2, 1, 1, 1]\n",
    "2647                 [4, 1, 5, 4, 1, 1, 1, 2, 1, 1, 1]\n",
    "6931             [14, 1, 1, 1, 7, 1, 1, 1, 2, 1, 1, 1]\n",
    "18141                  [36, 7, 3, 1, 1, 1, 2, 1, 1, 1]\n",
    "47497 [2, 1, 5, 1, 4, 1, 3, 1, 3, 1, 1, 1, 2, 1, 1, 1]\n",
    "\n",
    "47491 [2, 1, 4, 1, 1, 1, 1, 1, 1, 2, 1, 2, 1, 1, 1, 2, 1, 1, 1]\n"
   ]
  },
  {
   "cell_type": "code",
   "execution_count": 260,
   "metadata": {},
   "outputs": [
    {
     "name": "stdout",
     "output_type": "stream",
     "text": [
      "989 [8, 9, 2, 1, 1, 1, 1, 1]\n",
      "991 [7, 7, 1, 2, 1, 1, 1, 1, 1]\n",
      "993 [10, 4, 4, 1, 1, 1, 1, 1]\n",
      "995 [2, 3, 1, 2, 7, 1, 1, 1, 1, 1]\n",
      "997 [4, 1, 1, 21, 1, 1, 1, 1, 1]\n",
      "999 [7, 28, 2, 1, 1, 1]\n",
      "1001 [2, 3, 3, 8, 2, 1, 1, 1]\n",
      "1003 [9, 1, 2, 1, 4, 2, 1, 1, 1]\n",
      "1005 [13, 1, 3, 3, 2, 1, 1, 1]\n",
      "1007 [4, 2, 3, 2, 2, 2, 1, 1, 1]\n",
      "1009 [3, 2, 11, 1, 1, 2, 1, 1, 1]\n",
      "1011 [6, 2, 3, 1, 1, 1, 2, 1, 1, 1]\n",
      "1013 [2, 1, 3, 3, 3, 1, 2, 1, 1, 1]\n",
      "1015 [4, 1, 1, 1, 9, 1, 2, 1, 1, 1]\n"
     ]
    }
   ],
   "source": [
    "mm = 16\n",
    "for x in pts(mm):\n",
    "    ccf = cf(x,FF[mm])\n",
    "    if not ccf: continue\n",
    "    print(x, ccf)\n"
   ]
  },
  {
   "cell_type": "code",
   "execution_count": 292,
   "metadata": {},
   "outputs": [
    {
     "data": {
      "text/plain": [
       "0.63055729492799"
      ]
     },
     "execution_count": 292,
     "metadata": {},
     "output_type": "execute_result"
    }
   ],
   "source": [
    "1007/FF[16]"
   ]
  },
  {
   "cell_type": "code",
   "execution_count": 250,
   "metadata": {},
   "outputs": [
    {
     "data": {
      "text/plain": [
       "(0.6180327868852459, 2)"
      ]
     },
     "execution_count": 250,
     "metadata": {},
     "output_type": "execute_result"
    }
   ],
   "source": [
    "FF[13]/FF[14], 379 - FF[13]"
   ]
  },
  {
   "cell_type": "code",
   "execution_count": 251,
   "metadata": {},
   "outputs": [
    {
     "name": "stdout",
     "output_type": "stream",
     "text": [
      "989 [3, 1, 1, 1, 1, 3, 1, 1, 1, 1, 1, 1]\n",
      "991 [2, 37, 1, 1, 1, 1, 1, 1]\n",
      "993 [14, 5, 2, 1, 1, 1, 1]\n",
      "995 None\n",
      "997 [6, 1, 1, 3, 1, 2, 1, 1, 1, 1]\n",
      "999 [8, 1, 5, 3, 1, 1, 1, 1]\n",
      "1001 [15, 1, 1, 1, 3, 1, 1, 1, 1]\n",
      "1003 [2, 2, 2, 3, 4, 1, 1, 1, 1]\n",
      "1005 None\n",
      "1007 [9, 1, 2, 6, 1, 1, 1, 1]\n",
      "1009 [3, 1, 5, 8, 1, 1, 1, 1]\n",
      "1011 [2, 2, 3, 11, 1, 1, 1, 1]\n",
      "1013 [2, 4, 1, 17, 1, 1, 1, 1]\n",
      "1015 None\n"
     ]
    }
   ],
   "source": [
    "for x in RR:\n",
    "    print(x, cf(x,FF[mm]))"
   ]
  },
  {
   "cell_type": "code",
   "execution_count": 86,
   "metadata": {},
   "outputs": [
    {
     "data": {
      "text/plain": [
       "2.6180327868852458"
      ]
     },
     "execution_count": 86,
     "metadata": {},
     "output_type": "execute_result"
    }
   ],
   "source": [
    "FF[16]/FF[14]"
   ]
  },
  {
   "cell_type": "code",
   "execution_count": 345,
   "metadata": {},
   "outputs": [],
   "source": [
    "X = []\n",
    "for nn in [12,14]:\n",
    "    X.append([x for x in range(FF[nn-2],int(63/99*FF[nn]))])\n",
    "\n"
   ]
  },
  {
   "cell_type": "code",
   "execution_count": 414,
   "metadata": {},
   "outputs": [
    {
     "data": {
      "image/png": "[encoded data removed]",
      "text/plain": [
       "<Figure size 432x288 with 1 Axes>"
      ]
     },
     "metadata": {
      "needs_background": "light"
     },
     "output_type": "display_data"
    }
   ],
   "source": [
    "cols = 'rbgk'\n",
    "\n",
    "\n",
    "for k,nn in enumerate([16,15,14,13]):\n",
    "    a, b = int((np.sqrt(5)-1)/2* FF[nn]),int(63/99*FF[nn])\n",
    "    b = (a+b)//2\n",
    "    #b = (a+b)//2\n",
    "    \n",
    "    X = [x for x in range(a,b)]\n",
    "    X = np.array(X)/FF[nn]\n",
    "    plt.plot(X,[0] * len(X),cols[k] + 'x')"
   ]
  },
  {
   "cell_type": "code",
   "execution_count": 407,
   "metadata": {},
   "outputs": [
    {
     "data": {
      "text/plain": [
       "(0.6200607902735562, 0.6180344478216818)"
      ]
     },
     "execution_count": 407,
     "metadata": {},
     "output_type": "execute_result"
    }
   ],
   "source": [
    "612/FF[15], FF[14]/FF[15]"
   ]
  },
  {
   "cell_type": "code",
   "execution_count": 410,
   "metadata": {},
   "outputs": [
    {
     "data": {
      "text/plain": [
       "4.590717869179528e-07"
      ]
     },
     "execution_count": 410,
     "metadata": {},
     "output_type": "execute_result"
    }
   ],
   "source": [
    "FF[14]/FF[15] - (np.sqrt(5)-1)/2"
   ]
  },
  {
   "cell_type": "code",
   "execution_count": 438,
   "metadata": {},
   "outputs": [],
   "source": [
    "XX = np.array(FF)"
   ]
  },
  {
   "cell_type": "code",
   "execution_count": 439,
   "metadata": {},
   "outputs": [
    {
     "data": {
      "text/plain": [
       "array([ 1,  1,  2,  3,  5,  8, 13,  4,  0,  4,  4,  8, 12,  3, 15,  1, 16,\n",
       "        0, 16, 16, 15, 14, 12,  9,  4, 13,  0, 13, 13,  9,  5, 14])"
      ]
     },
     "execution_count": 439,
     "metadata": {},
     "output_type": "execute_result"
    }
   ],
   "source": [
    "XX % 17"
   ]
  },
  {
   "cell_type": "code",
   "execution_count": 440,
   "metadata": {},
   "outputs": [
    {
     "data": {
      "text/plain": [
       "array([     5,     55,    610,   6765,  75025, 832040])"
      ]
     },
     "execution_count": 440,
     "metadata": {},
     "output_type": "execute_result"
    }
   ],
   "source": [
    "XX[XX % 5 == 0]"
   ]
  },
  {
   "cell_type": "code",
   "execution_count": 433,
   "metadata": {},
   "outputs": [
    {
     "data": {
      "text/plain": [
       "1353.0"
      ]
     },
     "execution_count": 433,
     "metadata": {},
     "output_type": "execute_result"
    }
   ],
   "source": [
    "6765/5"
   ]
  },
  {
   "cell_type": "code",
   "execution_count": 462,
   "metadata": {},
   "outputs": [],
   "source": [
    "SS = XX[list(range(0,29,2))] "
   ]
  },
  {
   "cell_type": "code",
   "execution_count": 463,
   "metadata": {},
   "outputs": [
    {
     "data": {
      "text/plain": [
       "array([   13, 10946])"
      ]
     },
     "execution_count": 463,
     "metadata": {},
     "output_type": "execute_result"
    }
   ],
   "source": [
    "SS[SS % 13 == 0]"
   ]
  },
  {
   "cell_type": "code",
   "execution_count": 464,
   "metadata": {},
   "outputs": [
    {
     "data": {
      "text/plain": [
       "75025"
      ]
     },
     "execution_count": 464,
     "metadata": {},
     "output_type": "execute_result"
    }
   ],
   "source": [
    "(51**2  + 20**2)* 25"
   ]
  },
  {
   "cell_type": "code",
   "execution_count": 484,
   "metadata": {},
   "outputs": [
    {
     "data": {
      "text/plain": [
       "1"
      ]
     },
     "execution_count": 484,
     "metadata": {},
     "output_type": "execute_result"
    }
   ],
   "source": [
    "89*34 - 55**2"
   ]
  },
  {
   "cell_type": "code",
   "execution_count": 481,
   "metadata": {},
   "outputs": [
    {
     "data": {
      "text/plain": [
       "(10946, 10946, 10946)"
      ]
     },
     "execution_count": 481,
     "metadata": {},
     "output_type": "execute_result"
    }
   ],
   "source": [
    "10946, 85**2 + 61**2, 89**2 + 55**2"
   ]
  },
  {
   "cell_type": "code",
   "execution_count": 475,
   "metadata": {},
   "outputs": [
    {
     "data": {
      "text/plain": [
       "(421.0, 421, 5473, 5473)"
      ]
     },
     "execution_count": 475,
     "metadata": {},
     "output_type": "execute_result"
    }
   ],
   "source": [
    "5473/13, 14**2 + 15**2, 17**2 + 72**2, 73**2 + 12**2"
   ]
  },
  {
   "cell_type": "code",
   "execution_count": 483,
   "metadata": {},
   "outputs": [
    {
     "data": {
      "text/plain": [
       "(-0.999999999999999+29j)"
      ]
     },
     "execution_count": 483,
     "metadata": {},
     "output_type": "execute_result"
    }
   ],
   "source": [
    "(-89 + 55J)/ (2 + 3J)"
   ]
  },
  {
   "cell_type": "code",
   "execution_count": 485,
   "metadata": {},
   "outputs": [
    {
     "data": {
      "text/plain": [
       "(85+61j)"
      ]
     },
     "execution_count": 485,
     "metadata": {},
     "output_type": "execute_result"
    }
   ],
   "source": [
    "(1+1J)*(14 + 15J)*(2 - 3J)"
   ]
  },
  {
   "cell_type": "code",
   "execution_count": 453,
   "metadata": {},
   "outputs": [
    {
     "name": "stdout",
     "output_type": "stream",
     "text": [
      "[2, 5, 13, 34, 89, 233, 610, 1597, 4181, 10946, 28657, 75025, 196418, 514229, 1346269]\n"
     ]
    }
   ],
   "source": [
    "print([ FF[k]**2 + FF[k+1]**2 for k in range(15)])\n"
   ]
  },
  {
   "cell_type": "code",
   "execution_count": 457,
   "metadata": {},
   "outputs": [],
   "source": [
    "#[ (k, np.sqrt(3001 - k*k)) for k in range(54)]"
   ]
  },
  {
   "cell_type": "code",
   "execution_count": 469,
   "metadata": {},
   "outputs": [
    {
     "data": {
      "text/plain": [
       "[(0, 20.518284528683193),\n",
       " (1, 20.493901531919196),\n",
       " (2, 20.42057785666214),\n",
       " (3, 20.29778313018444),\n",
       " (4, 20.12461179749811),\n",
       " (5, 19.8997487421324),\n",
       " (6, 19.621416870348583),\n",
       " (7, 19.28730152198591),\n",
       " (8, 18.894443627691185),\n",
       " (9, 18.439088914585774),\n",
       " (10, 17.916472867168917),\n",
       " (11, 17.320508075688775),\n",
       " (12, 16.64331697709324),\n",
       " (13, 15.874507866387544),\n",
       " (14, 15.0),\n",
       " (15, 14.0),\n",
       " (16, 12.84523257866513),\n",
       " (17, 11.489125293076057),\n",
       " (18, 9.848857801796104),\n",
       " (19, 7.745966692414834)]"
      ]
     },
     "execution_count": 469,
     "metadata": {},
     "output_type": "execute_result"
    }
   ],
   "source": [
    "[ (k, np.sqrt(421 - k*k)) for k in range(20)]"
   ]
  },
  {
   "cell_type": "code",
   "execution_count": 548,
   "metadata": {},
   "outputs": [
    {
     "data": {
      "text/plain": [
       "(610, 61)"
      ]
     },
     "execution_count": 548,
     "metadata": {},
     "output_type": "execute_result"
    }
   ],
   "source": [
    "21**2 + 13**2, 6**2 + 5**2"
   ]
  },
  {
   "cell_type": "code",
   "execution_count": 553,
   "metadata": {},
   "outputs": [
    {
     "data": {
      "text/plain": [
       "(11+1j)"
      ]
     },
     "execution_count": 553,
     "metadata": {},
     "output_type": "execute_result"
    }
   ],
   "source": [
    "(21 + 13J)/(2+ 1J)"
   ]
  },
  {
   "cell_type": "code",
   "execution_count": 559,
   "metadata": {},
   "outputs": [
    {
     "data": {
      "text/plain": [
       "((23-9j), 1, 1)"
      ]
     },
     "execution_count": 559,
     "metadata": {},
     "output_type": "execute_result"
    }
   ],
   "source": [
    "(2-1J)*(11+1J), 2*(23  - 2*9) - 9, 2*23 - 5*9"
   ]
  },
  {
   "cell_type": "code",
   "execution_count": 562,
   "metadata": {},
   "outputs": [
    {
     "data": {
      "text/plain": [
       "([4, 1, 1, 2, 2, 1, 1, 4], [2, 1, 1, 1, 1, 1, 1, 1, 1, 1, 1, 2])"
      ]
     },
     "execution_count": 562,
     "metadata": {},
     "output_type": "execute_result"
    }
   ],
   "source": [
    "cf(2*9 + 5*23,610), cf(233,610)"
   ]
  },
  {
   "cell_type": "code",
   "execution_count": 564,
   "metadata": {},
   "outputs": [
    {
     "ename": "IndexError",
     "evalue": "index 14 is out of bounds for axis 0 with size 2",
     "output_type": "error",
     "traceback": [
      "\u001b[0;31m---------------------------------------------------------------------------\u001b[0m",
      "\u001b[0;31mIndexError\u001b[0m                                Traceback (most recent call last)",
      "\u001b[0;32m<ipython-input-564-2d2f82df33bf>\u001b[0m in \u001b[0;36m<module>\u001b[0;34m\u001b[0m\n\u001b[0;32m----> 1\u001b[0;31m \u001b[0mFn\u001b[0m\u001b[0;34m[\u001b[0m\u001b[0;36m14\u001b[0m\u001b[0;34m]\u001b[0m\u001b[0;34m\u001b[0m\u001b[0;34m\u001b[0m\u001b[0m\n\u001b[0m",
      "\u001b[0;31mIndexError\u001b[0m: index 14 is out of bounds for axis 0 with size 2"
     ]
    }
   ],
   "source": []
  },
  {
   "cell_type": "code",
   "execution_count": 541,
   "metadata": {},
   "outputs": [
    {
     "name": "stdout",
     "output_type": "stream",
     "text": [
      "[(0, 1), (1, 1), (2, 2), (3, 3), (4, 5), (5, 8), (6, 13), (7, 21), (8, 34), (9, 55), (10, 89), (11, 144), (12, 233), (13, 377), (14, 610), (15, 987), (16, 1597), (17, 2584), (18, 4181), (19, 6765), (20, 10946), (21, 17711), (22, 28657), (23, 46368), (24, 75025), (25, 121393), (26, 196418), (27, 317811), (28, 514229), (29, 832040), (30, 1346269), (31, 2178309)]\n"
     ]
    }
   ],
   "source": [
    "print([x for x in enumerate(FF)])"
   ]
  },
  {
   "cell_type": "code",
   "execution_count": 518,
   "metadata": {},
   "outputs": [
    {
     "data": {
      "text/plain": [
       "((55-34j), (23.6-60.2j))"
      ]
     },
     "execution_count": 518,
     "metadata": {},
     "output_type": "execute_result"
    }
   ],
   "source": [
    "(1597 +  1J)/(21+ 13J),(1597 +  1J)/(9 + 23J)"
   ]
  },
  {
   "cell_type": "code",
   "execution_count": 496,
   "metadata": {},
   "outputs": [
    {
     "data": {
      "text/plain": [
       "((4+17j), (16-7j))"
      ]
     },
     "execution_count": 496,
     "metadata": {},
     "output_type": "execute_result"
    }
   ],
   "source": [
    "(2+1J)*(5+6J), (2+1J)*(5-6J),"
   ]
  },
  {
   "cell_type": "code",
   "execution_count": 498,
   "metadata": {},
   "outputs": [
    {
     "data": {
      "text/plain": [
       "(305, 305)"
      ]
     },
     "execution_count": 498,
     "metadata": {},
     "output_type": "execute_result"
    }
   ],
   "source": [
    "4**2 + 17**2, 7**2 + 16**2\n"
   ]
  },
  {
   "cell_type": "code",
   "execution_count": 499,
   "metadata": {},
   "outputs": [
    {
     "data": {
      "text/plain": [
       "array([[17,  4],\n",
       "       [ 4,  1]])"
      ]
     },
     "execution_count": 499,
     "metadata": {},
     "output_type": "execute_result"
    }
   ],
   "source": [
    "np.array([[17,4],[4,1]])"
   ]
  },
  {
   "cell_type": "code",
   "execution_count": 529,
   "metadata": {},
   "outputs": [],
   "source": [
    "X = np.array([[21,13],[13,8]])"
   ]
  },
  {
   "cell_type": "code",
   "execution_count": 525,
   "metadata": {},
   "outputs": [],
   "source": [
    "X = np.array([[16,7],[7,3]])"
   ]
  },
  {
   "cell_type": "code",
   "execution_count": 505,
   "metadata": {},
   "outputs": [
    {
     "data": {
      "text/plain": [
       "array([[23,  9],\n",
       "       [ 5,  2]])"
      ]
     },
     "execution_count": 505,
     "metadata": {},
     "output_type": "execute_result"
    }
   ],
   "source": [
    "np.array([[23,9],[5,2]])"
   ]
  },
  {
   "cell_type": "code",
   "execution_count": 524,
   "metadata": {},
   "outputs": [
    {
     "data": {
      "text/plain": [
       "array([[5, 0],\n",
       "       [0, 5]])"
      ]
     },
     "execution_count": 524,
     "metadata": {},
     "output_type": "execute_result"
    }
   ],
   "source": [
    "A = np.array([[2,1],[-1,2]])\n",
    "B = A.transpose()\n"
   ]
  },
  {
   "cell_type": "code",
   "execution_count": 531,
   "metadata": {},
   "outputs": [
    {
     "data": {
      "text/plain": [
       "array([[ 40,  65],\n",
       "       [ 65, 105]])"
      ]
     },
     "execution_count": 531,
     "metadata": {},
     "output_type": "execute_result"
    }
   ],
   "source": [
    "B.dot(X).dot(A)"
   ]
  },
  {
   "cell_type": "code",
   "execution_count": 532,
   "metadata": {},
   "outputs": [
    {
     "data": {
      "text/plain": [
       "233"
      ]
     },
     "execution_count": 532,
     "metadata": {},
     "output_type": "execute_result"
    }
   ],
   "source": [
    "13**2 + 8**2"
   ]
  },
  {
   "cell_type": "code",
   "execution_count": 533,
   "metadata": {},
   "outputs": [
    {
     "data": {
      "text/plain": [
       "1165"
      ]
     },
     "execution_count": 533,
     "metadata": {},
     "output_type": "execute_result"
    }
   ],
   "source": [
    "5*233"
   ]
  },
  {
   "cell_type": "code",
   "execution_count": 540,
   "metadata": {},
   "outputs": [
    {
     "data": {
      "text/plain": [
       "1165"
      ]
     },
     "execution_count": 540,
     "metadata": {},
     "output_type": "execute_result"
    }
   ],
   "source": [
    "34**2 + 9"
   ]
  },
  {
   "cell_type": "code",
   "execution_count": 539,
   "metadata": {},
   "outputs": [
    {
     "data": {
      "text/plain": [
       "(34, -3)"
      ]
     },
     "execution_count": 539,
     "metadata": {},
     "output_type": "execute_result"
    }
   ],
   "source": [
    "2*13 + 8, 13 - 2*8"
   ]
  },
  {
   "cell_type": "code",
   "execution_count": 506,
   "metadata": {},
   "outputs": [
    {
     "data": {
      "text/plain": [
       "839"
      ]
     },
     "execution_count": 506,
     "metadata": {},
     "output_type": "execute_result"
    }
   ],
   "source": [
    "29**2 -2"
   ]
  },
  {
   "cell_type": "code",
   "execution_count": 504,
   "metadata": {},
   "outputs": [
    {
     "data": {
      "text/plain": [
       "5"
      ]
     },
     "execution_count": 504,
     "metadata": {},
     "output_type": "execute_result"
    }
   ],
   "source": [
    "2*(23 - 2*9)"
   ]
  },
  {
   "cell_type": "code",
   "execution_count": 1,
   "metadata": {},
   "outputs": [],
   "source": [
    "import numpy as np\n"
   ]
  },
  {
   "cell_type": "code",
   "execution_count": 35,
   "metadata": {},
   "outputs": [],
   "source": [
    "A = np.array([[1,4], [0,1]])\n",
    "B  = A.T"
   ]
  },
  {
   "cell_type": "code",
   "execution_count": 36,
   "metadata": {},
   "outputs": [],
   "source": [
    "A = np.array([[1,-2], [0,1]])"
   ]
  },
  {
   "cell_type": "code",
   "execution_count": 37,
   "metadata": {},
   "outputs": [
    {
     "data": {
      "text/plain": [
       "array([[ 57., -16.],\n",
       "       [-32.,   9.]])"
      ]
     },
     "execution_count": 37,
     "metadata": {},
     "output_type": "execute_result"
    }
   ],
   "source": [
    "X = A.dot(B)\n",
    "Y = np.linalg.inv(B.dot(A))\n",
    "X.dot(Y)"
   ]
  },
  {
   "cell_type": "code",
   "execution_count": 23,
   "metadata": {},
   "outputs": [],
   "source": []
  },
  {
   "cell_type": "code",
   "execution_count": 24,
   "metadata": {},
   "outputs": [
    {
     "data": {
      "text/plain": [
       "array([[13., -8.],\n",
       "       [-8.,  5.]])"
      ]
     },
     "execution_count": 24,
     "metadata": {},
     "output_type": "execute_result"
    }
   ],
   "source": []
  },
  {
   "cell_type": "code",
   "execution_count": 590,
   "metadata": {},
   "outputs": [
    {
     "data": {
      "text/plain": [
       "(75-29j)"
      ]
     },
     "execution_count": 590,
     "metadata": {},
     "output_type": "execute_result"
    }
   ],
   "source": [
    "(433 + 5J)*(5 - 2J)/29"
   ]
  },
  {
   "cell_type": "code",
   "execution_count": 13,
   "metadata": {},
   "outputs": [
    {
     "data": {
      "text/plain": [
       "20"
      ]
     },
     "execution_count": 13,
     "metadata": {},
     "output_type": "execute_result"
    }
   ],
   "source": [
    "2**2 + 2**2 + 6**2 - 4*6"
   ]
  },
  {
   "cell_type": "code",
   "execution_count": 19,
   "metadata": {},
   "outputs": [
    {
     "data": {
      "text/plain": [
       "66"
      ]
     },
     "execution_count": 19,
     "metadata": {},
     "output_type": "execute_result"
    }
   ],
   "source": [
    "73-7 "
   ]
  },
  {
   "cell_type": "code",
   "execution_count": 25,
   "metadata": {},
   "outputs": [
    {
     "data": {
      "text/plain": [
       "7"
      ]
     },
     "execution_count": 25,
     "metadata": {},
     "output_type": "execute_result"
    }
   ],
   "source": [
    "34 % 9"
   ]
  },
  {
   "cell_type": "code",
   "execution_count": 26,
   "metadata": {},
   "outputs": [
    {
     "data": {
      "text/plain": [
       "6"
      ]
     },
     "execution_count": 26,
     "metadata": {},
     "output_type": "execute_result"
    }
   ],
   "source": [
    "114 %9 \n"
   ]
  },
  {
   "cell_type": "code",
   "execution_count": null,
   "metadata": {},
   "outputs": [],
   "source": []
  }
 ],
 "metadata": {
  "kernelspec": {
   "display_name": "Python 3",
   "language": "python",
   "name": "python3"
  },
  "language_info": {
   "codemirror_mode": {
    "name": "ipython",
    "version": 3
   },
   "file_extension": ".py",
   "mimetype": "text/x-python",
   "name": "python",
   "nbconvert_exporter": "python",
   "pygments_lexer": "ipython3",
   "version": "3.8.3"
  }
 },
 "nbformat": 4,
 "nbformat_minor": 4
}
