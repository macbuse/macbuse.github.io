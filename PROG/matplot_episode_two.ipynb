{
 "cells": [
  {
   "cell_type": "markdown",
   "metadata": {},
   "source": [
    "# Matplotlib 2\n",
    "\n",
    "Last time we used ```matplotlib```\n",
    "to draw graphs of functions and smooth curves.\n",
    "\n",
    "This time we'll draw:\n",
    "\n",
    "- fractals\n",
    "- trees\n",
    "\n",
    "---\n",
    "\n",
    "We'll also do:\n",
    "\n",
    "- some boolean masks\n",
    "\n",
    "---\n",
    "\n",
    "\n",
    "\n"
   ]
  },
  {
   "cell_type": "code",
   "execution_count": 1,
   "metadata": {},
   "outputs": [],
   "source": [
    "import numpy as np\n",
    "import matplotlib.pyplot as plt"
   ]
  },
  {
   "cell_type": "markdown",
   "metadata": {},
   "source": [
    "## Crible d'Ératosthène¶\n",
    "\n",
    "Le crible d'Ératosthène est un procédé qui permet de trouver tous les nombres premiers inférieurs à un certain entier naturel donné N. Le crible d'Atkin est plus rapide mais plus complexe.\n"
   ]
  },
  {
   "cell_type": "code",
   "execution_count": null,
   "metadata": {},
   "outputs": [],
   "source": [
    "\n",
    "#https://stackoverflow.com/questions/2068372/fastest-way-to-list-all-primes-below-n\n",
    "def primes(n):\n",
    "    \"\"\" Returns  array of primes, 2 <= p < n \"\"\"\n",
    "    sieve = np.ones(n, dtype=np.bool)\n",
    "    sieve[::2] = False\n",
    "    for i in range(3, int(np.sqrt(n))+1, 2):\n",
    "        if sieve[i]:\n",
    "            sieve[i*i::i] = False\n",
    "    return np.nonzero(sieve)[0][1:]"
   ]
  },
  {
   "cell_type": "code",
   "execution_count": 2,
   "metadata": {},
   "outputs": [
    {
     "name": "stdout",
     "output_type": "stream",
     "text": [
      "[master 8ae4ab9] web\n",
      " 1 file changed, 116 insertions(+), 15 deletions(-)\n",
      "Enumerating objects: 7, done.\n",
      "Counting objects: 100% (7/7), done.\n",
      "Delta compression using up to 4 threads\n",
      "Compressing objects: 100% (4/4), done.\n",
      "Writing objects: 100% (4/4), 4.56 KiB | 424.00 KiB/s, done.\n",
      "Total 4 (delta 3), reused 0 (delta 0)\n",
      "remote: Resolving deltas: 100% (3/3), completed with 3 local objects.\u001b[K\n",
      "To https://github.com/macbuse/macbuse.github.io\n",
      "   0760c31..8ae4ab9  master -> master\n"
     ]
    }
   ],
   "source": [
    "! ../.g"
   ]
  },
  {
   "cell_type": "markdown",
   "metadata": {},
   "source": [
    "## Escalier de Cantor\n",
    "\n",
    "L'escalier de Cantor, ou l'escalier du diable, est le graphe d'une fonction f continue croissante sur $[0, 1]$, telle que f(0) = 0 et f(1) = 1, qui est dérivable presque partout, la dérivée étant presque partout nulle. \n",
    "\n",
    "Il s'agit cependant d'une fonction \n",
    "- continue\n",
    "- uniforment continue \n",
    "- mais pas absolument continue.\n",
    "\n",
    "https://fr.wikipedia.org/wiki/Escalier_de_Cantor\n",
    "\n",
    "https://www-fourier.ujf-grenoble.fr/~mcshane/programming.html"
   ]
  },
  {
   "cell_type": "markdown",
   "metadata": {},
   "source": [
    "http://fichiers.vanlindt.be/Les%20fractales%20dans%20la%20cr%C3%A9ation%20graphique.pdf"
   ]
  },
  {
   "cell_type": "code",
   "execution_count": 45,
   "metadata": {},
   "outputs": [],
   "source": [
    "        \n",
    "def showGph(pts):\n",
    "    fig, ax = plt.subplots()\n",
    "    fig.set_size_inches(8,8)\n",
    "\n",
    "    #fig.set_size_inches(8,8)\n",
    "    ax.set_aspect('equal')\n",
    "    xs,ys = zip(*pts) #this transposes the array\n",
    "    ax.plot(xs, ys)\n"
   ]
  },
  {
   "cell_type": "code",
   "execution_count": 35,
   "metadata": {},
   "outputs": [],
   "source": [
    "def L(pts):\n",
    "    return [ (x/3.0, y/2.0) for x,y in pts]\n",
    "    \n",
    "def R(pts):\n",
    "    return [ (x/3.0 + 2./3, y/2.0 + .5) \n",
    "                for x,y in pts]\n"
   ]
  },
  {
   "cell_type": "code",
   "execution_count": 55,
   "metadata": {},
   "outputs": [],
   "source": [
    "def staircase(d):\n",
    "    zs = [(0,0),(1,1)]\n",
    "    for i in range(d):\n",
    "        zs = L(zs) + R(zs)\n",
    "    showGph(zs)"
   ]
  },
  {
   "cell_type": "code",
   "execution_count": 57,
   "metadata": {},
   "outputs": [
    {
     "data": {
      "image/png": "[encoded data removed]",
      "text/plain": [
       "<Figure size 576x576 with 1 Axes>"
      ]
     },
     "metadata": {
      "needs_background": "light"
     },
     "output_type": "display_data"
    }
   ],
   "source": [
    "staircase(3)"
   ]
  },
  {
   "cell_type": "code",
   "execution_count": 52,
   "metadata": {},
   "outputs": [
    {
     "data": {
      "text/plain": [
       "array([[0.33333333, 0.        ],\n",
       "       [0.        , 0.5       ]])"
      ]
     },
     "execution_count": 52,
     "metadata": {},
     "output_type": "execute_result"
    }
   ],
   "source": [
    "M = np.diag([1/3,1/2])\n",
    "M"
   ]
  },
  {
   "cell_type": "code",
   "execution_count": 59,
   "metadata": {},
   "outputs": [
    {
     "data": {
      "text/plain": [
       "array([[0., 1.],\n",
       "       [0., 1.]])"
      ]
     },
     "execution_count": 59,
     "metadata": {},
     "output_type": "execute_result"
    }
   ],
   "source": [
    "Z = np.ones((2,2))\n",
    "Z[:,0] = 0\n",
    "Z"
   ]
  },
  {
   "cell_type": "code",
   "execution_count": 84,
   "metadata": {},
   "outputs": [],
   "source": [
    "L = np.dot(M,Z)\n",
    "R = np.dot(M,Z) + np.array([2/3,1/2]).reshape(-1,1)\n",
    "Z = np.hstack((L,R))"
   ]
  },
  {
   "cell_type": "code",
   "execution_count": 69,
   "metadata": {},
   "outputs": [
    {
     "data": {
      "text/plain": [
       "array([[0.66666667],\n",
       "       [0.5       ]])"
      ]
     },
     "execution_count": 69,
     "metadata": {},
     "output_type": "execute_result"
    }
   ],
   "source": [
    "np.array([2/3,1/2]).reshape(-1,1)"
   ]
  },
  {
   "cell_type": "code",
   "execution_count": 169,
   "metadata": {},
   "outputs": [],
   "source": [
    "def staircase2(d):\n",
    "    \n",
    "    def showGph(Z):\n",
    "        fig, ax = plt.subplots()\n",
    "        fig.set_size_inches(8,8)\n",
    "        ax.set_aspect('equal')\n",
    "        ax.plot(Z[0],Z[1])\n",
    "        \n",
    "    M = np.diag([1/3,1/2])\n",
    "    Z = np.ones((2,2))\n",
    "    Z[:,0] = 0\n",
    "    for i in range(d):\n",
    "        L = np.dot(M,Z)\n",
    "        R = np.dot(M,Z) + np.array([2/3,1/2]).reshape(-1,1)\n",
    "        Z = np.hstack((L,R))\n",
    "        \n",
    "    showGph(Z)\n",
    "        "
   ]
  },
  {
   "cell_type": "code",
   "execution_count": 93,
   "metadata": {
    "scrolled": true
   },
   "outputs": [
    {
     "data": {
      "image/png": "[encoded data removed]",
      "text/plain": [
       "<Figure size 576x576 with 1 Axes>"
      ]
     },
     "metadata": {
      "needs_background": "light"
     },
     "output_type": "display_data"
    }
   ],
   "source": [
    "staircase2(3)"
   ]
  },
  {
   "cell_type": "markdown",
   "metadata": {},
   "source": [
    "## Flocon de Koch\n",
    "\n",
    "Le flocon de Koch est l'une des premières courbes fractales à avoir été décrites (bien avant l'invention du terme « fractal(e) »).\n",
    "\n",
    "Elle a été inventée en 1904 par le mathématicien suédois Helge von Koch1.\n",
    "\n",
    "[wiki](https://fr.wikipedia.org/wiki/Flocon_de_Koch)\n",
    "\n",
    "[Pour savoir plus](https://fr.wikipedia.org/wiki/Flocon_de_Koch#Courbe_de_Koch)\n",
    "\n"
   ]
  },
  {
   "cell_type": "code",
   "execution_count": 171,
   "metadata": {},
   "outputs": [
    {
     "data": {
      "image/png": "[encoded data removed]",
      "text/plain": [
       "<Figure size 864x864 with 1 Axes>"
      ]
     },
     "metadata": {
      "needs_background": "light"
     },
     "output_type": "display_data"
    }
   ],
   "source": [
    "def plt_cplx(Z, \n",
    "             ax=plt, \n",
    "             sty='r'):\n",
    "    X = [z.real for z in Z]\n",
    "    Y = [z.imag for z in Z] \n",
    "    ax.plot(X,Y,sty)\n",
    "\n",
    "Z = [-1, 1J*np.sqrt(3) , 1]\n",
    "Z = [-1] + [z/3 for z in Z] + [1]\n",
    "\n",
    "RR = (Z[-2] - Z[2])/2\n",
    "CR = (Z[-2] + Z[2])/2\n",
    "\n",
    "def R(Z):\n",
    "    return [RR*z + CR for z in Z]\n",
    "    \n",
    "RL = (- Z[1] +  Z[2])/2\n",
    "CL = (Z[1] + Z[2])/2\n",
    "\n",
    "def L(Z):\n",
    "    return [RL*z + CL for z in Z]\n",
    "\n",
    "fig, ax = plt.subplots()\n",
    "fig.set_size_inches(12,12)\n",
    "ax.set_aspect('equal')\n",
    "#plt_cplx(Z)\n",
    "for i in range(5):\n",
    "    Z = [-1] + L(Z) + R(Z) + [1]\n",
    "plt_cplx(Z,ax=ax, sty='b')\n"
   ]
  },
  {
   "cell_type": "markdown",
   "metadata": {},
   "source": [
    "https://github.com/macbuse/koch/blob/master/koch.ipynb"
   ]
  },
  {
   "cell_type": "markdown",
   "metadata": {},
   "source": [
    "# un arbre\n",
    "\n",
    "En informatique, un [arbre binaire](https://fr.wikipedia.org/wiki/Arbre_binaire#:~:text=En%20informatique%2C%20un%20arbre%20binaire,n%C5%93ud%20initial%20%C3%A9tant%20appel%C3%A9%20racine.)\n",
    "est une structure de données qui peut se représenter sous la forme d'une hiérarchie dont chaque élément est appelé nœud, le nœud initial étant appelé racine. Dans un arbre binaire, chaque élément possède au plus deux éléments fils au niveau inférieur, habituellement appelés gauche et droit. Du point de vue de ces éléments fils, l'élément dont ils sont issus au niveau supérieur est appelé père.\n"
   ]
  },
  {
   "cell_type": "markdown",
   "metadata": {},
   "source": [
    "For to make things neater I'll use \n",
    "- ```map``` to [avoid loops](https://realpython.com/python-map-function/)\n",
    "- ```lambda``` to [create temporary functions](https://medium.com/better-programming/lambda-map-and-filter-in-python-4935f248593)\n"
   ]
  },
  {
   "cell_type": "code",
   "execution_count": 172,
   "metadata": {},
   "outputs": [
    {
     "data": {
      "image/png": "[encoded data removed]",
      "text/plain": [
       "<Figure size 432x288 with 1 Axes>"
      ]
     },
     "metadata": {
      "needs_background": "light"
     },
     "output_type": "display_data"
    }
   ],
   "source": [
    "tree = [np.array([-1+1J, -1, 1, 1+1J ])]\n",
    "\n",
    "for k in range(4):\n",
    "    \n",
    "    RB = list(map(lambda z: z/2 -1+1J, tree))\n",
    "    LB = list(map(lambda z: z/2 +1+1J, tree))\n",
    "    tree = tree + RB + LB\n",
    "cols = 'rgb'\n",
    "for k, edge in enumerate(tree):\n",
    "    plt_cplx(edge, sty=cols[k%3])"
   ]
  },
  {
   "cell_type": "markdown",
   "metadata": {},
   "source": [
    "## Arbre de Stern-Brocot\n",
    "\n",
    "En mathématiques, [l'arbre de Stern-Brocot](https://fr.wikipedia.org/wiki/Arbre_de_Stern-Brocot) est une représentation de tous les rationnels strictement positifs, sous forme de fractions irréductibles.\n",
    "\n",
    "Il a été découvert presque simultanément par le mathématicien allemand Moritz Stern (1858) et par l'horloger français Achille Brocot (1861).\n",
    "\n",
    "## Énumération des rationnels\n",
    "\n",
    "La propriété fondamentale de l'arbre de Stern-Brocot est qu'il contient toutes les fractions irréductibles strictement positives une et une seule fois chacune. On en déduit un procédé pour numéroter tous les rationnels positifs, c'est-à-dire une bijection des rationnels positifs sur les entiers naturels positifs. En bref on associe à un rationnel l'entier dont la représentation en base 2 code le chemin de la racine de l'arbre au rationnel choisi.\n",
    "\n",
    "**Source : Wiki**\n"
   ]
  },
  {
   "cell_type": "markdown",
   "metadata": {},
   "source": [
    "## Suites de Farey\n",
    "\n",
    "En mathématiques, [la suite de Farey](https://fr.wikipedia.org/wiki/Suite_de_Farey)\n",
    "d'ordre n est la suite des fractions irréductibles comprises entre 0 et 1, ordonnées en croissant et dont le dénominateur est inférieur ou égal à n. Certains auteurs ne restreignent pas les suites de Farey à l'intervalle de 0 à 1.\n",
    "\n",
    "Chaque suite de Farey commence avec la valeur 0, décrite par la fraction {\\displaystyle 0/1,}0/1, et finit avec la valeur 1, décrite par la fraction {\\displaystyle 1/1}1/1 (bien que certains auteurs omettent ces termes). Une suite de Farey est quelquefois appelée série de Farey, ce qui n'est pas véritablement correct, les termes n'étant pas additionnés.\n",
    "\n",
    "---\n",
    "\n",
    "Écrire une fonction Python inseremedians(l) qui prend comme argument une liste l de couples d’entiers ( et renvoit la liste de couples où, comme décrit ci-dessus, mi est le médian de $c_i$ et $c_{i+1}$. \n",
    "\n",
    "From this [TP](https://www.normalesup.org/~glafon/eiffel16/TPnotecor.pdf)\n",
    "\n",
    "En déduire une fonction Farey(n) qui prend comme argument un entier n et renvoit la suite de\n",
    "Farey $F_n$.\n",
    "\n",
    "---\n",
    "\n",
    "[This is interesting](https://hal.archives-ouvertes.fr/hal-00765981/document)"
   ]
  },
  {
   "cell_type": "code",
   "execution_count": 211,
   "metadata": {},
   "outputs": [
    {
     "data": {
      "text/plain": [
       "array([[0, 1],\n",
       "       [1, 1]])"
      ]
     },
     "execution_count": 211,
     "metadata": {},
     "output_type": "execute_result"
    }
   ],
   "source": [
    "rats = np.array([[0,1], [1,1]])\n",
    "rats"
   ]
  },
  {
   "cell_type": "markdown",
   "metadata": {},
   "source": [
    "the median is"
   ]
  },
  {
   "cell_type": "code",
   "execution_count": 212,
   "metadata": {},
   "outputs": [
    {
     "data": {
      "text/plain": [
       "array([[1, 2]])"
      ]
     },
     "execution_count": 212,
     "metadata": {},
     "output_type": "execute_result"
    }
   ],
   "source": [
    "rats[:-1] + rats[1:]"
   ]
  },
  {
   "cell_type": "markdown",
   "metadata": {},
   "source": [
    "in numpy we can do the insertion using indices like this"
   ]
  },
  {
   "cell_type": "code",
   "execution_count": 213,
   "metadata": {},
   "outputs": [
    {
     "data": {
      "text/plain": [
       "array([[0., 1.],\n",
       "       [1., 2.],\n",
       "       [1., 1.]])"
      ]
     },
     "execution_count": 213,
     "metadata": {},
     "output_type": "execute_result"
    }
   ],
   "source": [
    "tmp = np.zeros((2*rats.shape[0]-1,2))\n",
    "tmp[::2,] = rats\n",
    "tmp[1::2,] = rats[:-1] + rats[1:]\n",
    "tmp"
   ]
  },
  {
   "cell_type": "markdown",
   "metadata": {},
   "source": [
    "## The function  using numpy\n",
    "\n",
    "Compare with [this](https://fr.wikipedia.org/wiki/Suite_de_Farey#Un_algorithme_simple)"
   ]
  },
  {
   "cell_type": "code",
   "execution_count": 217,
   "metadata": {},
   "outputs": [
    {
     "data": {
      "text/plain": [
       "array([[0., 1.],\n",
       "       [1., 3.],\n",
       "       [1., 2.],\n",
       "       [2., 3.],\n",
       "       [1., 1.]])"
      ]
     },
     "execution_count": 217,
     "metadata": {},
     "output_type": "execute_result"
    }
   ],
   "source": [
    "def Farey(n):\n",
    "    rats = np.array([[0,1], [1,1]])\n",
    "    for k in range(n-1):\n",
    "        tmp = np.zeros((2*rats.shape[0]-1,2))\n",
    "        tmp[::2,] = rats\n",
    "        tmp[1::2,] = rats[:-1] + rats[1:]\n",
    "        rats = tmp\n",
    "    return rats\n",
    "\n",
    "Farey(3)\n",
    "    "
   ]
  },
  {
   "cell_type": "code",
   "execution_count": 219,
   "metadata": {},
   "outputs": [
    {
     "data": {
      "text/plain": [
       "array([0., 1., 1., 2., 1., 3., 2., 3., 1.])"
      ]
     },
     "execution_count": 219,
     "metadata": {},
     "output_type": "execute_result"
    }
   ],
   "source": [
    "rats = Farey(4)\n",
    "nums, denoms = rats[:,0], rats[:,1]\n",
    "nums"
   ]
  },
  {
   "cell_type": "markdown",
   "metadata": {},
   "source": [
    "## Visualising the tree structure "
   ]
  },
  {
   "cell_type": "code",
   "execution_count": 3,
   "metadata": {},
   "outputs": [
    {
     "data": {
      "image/png": "[encoded data removed]",
      "text/plain": [
       "<Figure size 432x288 with 1 Axes>"
      ]
     },
     "metadata": {
      "needs_background": "light"
     },
     "output_type": "display_data"
    }
   ],
   "source": [
    "rats = np.array([[0,1], [1,1]])\n",
    "for k in range(6):\n",
    "    tmp = np.zeros((2*rats.shape[0]-1,2))\n",
    "    tmp[::2,] = rats\n",
    "    tmp[1::2,] = rats[:-1] + rats[1:]\n",
    "    #fracs = rats[:,0]/rats[:,1]\n",
    "    fracs = tmp[1::2,0]/tmp[1::2,1]\n",
    "    plt.plot(fracs, k*np.ones_like(fracs), 'rx')\n",
    "    rats = tmp"
   ]
  },
  {
   "cell_type": "code",
   "execution_count": 229,
   "metadata": {},
   "outputs": [
    {
     "data": {
      "text/plain": [
       "65"
      ]
     },
     "execution_count": 229,
     "metadata": {},
     "output_type": "execute_result"
    }
   ],
   "source": [
    "len(rats)"
   ]
  },
  {
   "cell_type": "code",
   "execution_count": 232,
   "metadata": {},
   "outputs": [
    {
     "data": {
      "text/plain": [
       "array([[ 0.,  1.],\n",
       "       [ 1.,  6.],\n",
       "       [ 1.,  5.],\n",
       "       [ 2.,  9.],\n",
       "       [ 1.,  4.],\n",
       "       [ 3., 11.],\n",
       "       [ 2.,  7.],\n",
       "       [ 3., 10.],\n",
       "       [ 1.,  3.],\n",
       "       [ 4., 11.]])"
      ]
     },
     "execution_count": 232,
     "metadata": {},
     "output_type": "execute_result"
    }
   ],
   "source": [
    "rats[::2][:10]"
   ]
  },
  {
   "cell_type": "code",
   "execution_count": 6,
   "metadata": {},
   "outputs": [
    {
     "data": {
      "image/png": "[encoded data removed]",
      "text/plain": [
       "<Figure size 432x288 with 1 Axes>"
      ]
     },
     "metadata": {
      "needs_background": "light"
     },
     "output_type": "display_data"
    }
   ],
   "source": [
    "tmp = np.copy(rats)\n",
    "k = 0\n",
    "while tmp.shape[0] >= 2:\n",
    "    fracs = tmp[1::2,0]/tmp[1::2,1]\n",
    "    plt.plot(fracs, k*np.ones_like(fracs), 'rx')\n",
    "    tmp = tmp[::2]\n",
    "    k += 1\n",
    "    "
   ]
  },
  {
   "cell_type": "markdown",
   "metadata": {},
   "source": [
    "##  Recursion\n",
    "\n",
    "If one looks carefully one sees \n",
    "that the k-th element of $F_n$\n",
    "is just the 2k-th element of $F_{n+1}$\n",
    "\n",
    "\n",
    "$$(F_{n+1})_{2k} = (F_n)_k $$\n",
    "\n",
    "$$(F_{n+1})_{2k+1} = (F_n)_k  + (F_n)_{k+1}$$\n"
   ]
  },
  {
   "cell_type": "code",
   "execution_count": 14,
   "metadata": {},
   "outputs": [],
   "source": [
    "def F(n):\n",
    "    if n == 0:\n",
    "         return np.array([[0,1], [1,1]])\n",
    "    F_prec  = F(n-1)\n",
    "    F_n = np.zeros((2*F_prec.shape[0]-1,2))\n",
    "    F_n[::2,] = F_prec\n",
    "    F_n[1::2,] = F_prec[:-1] + F_prec[1:]\n",
    "    return F_n"
   ]
  },
  {
   "cell_type": "code",
   "execution_count": 15,
   "metadata": {},
   "outputs": [
    {
     "data": {
      "text/plain": [
       "array([[0., 1.],\n",
       "       [1., 3.],\n",
       "       [1., 2.],\n",
       "       [2., 3.],\n",
       "       [1., 1.]])"
      ]
     },
     "execution_count": 15,
     "metadata": {},
     "output_type": "execute_result"
    }
   ],
   "source": [
    "F(2)"
   ]
  },
  {
   "cell_type": "markdown",
   "metadata": {},
   "source": [
    "## Conjecture \n",
    "\n",
    "[Tirée dans le TP](https://www.normalesup.org/~glafon/eiffel16/TPnote.pdf)\n",
    "\n",
    "*On fait la conjecture suivante : dans la suite de Farey $F_n$, <br>\n",
    "les valeurs prises par la fonction evalue\n",
    "sur chacun  <br>des couples de la suite sont strictement croissantes.*\n",
    "\n",
    "$(F_n)_k < (F_n)_{k+1}$$\n",
    "\n",
    "\n"
   ]
  },
  {
   "cell_type": "code",
   "execution_count": 25,
   "metadata": {},
   "outputs": [],
   "source": [
    "F_n = F(4)\n",
    "fracs = F_n[:,0]/F_n[:,1]"
   ]
  },
  {
   "cell_type": "code",
   "execution_count": 26,
   "metadata": {},
   "outputs": [
    {
     "data": {
      "text/plain": [
       "array([0.2       , 0.05      , 0.03571429, 0.04761905, 0.04166667,\n",
       "       0.025     , 0.02857143, 0.07142857, 0.07142857, 0.02857143,\n",
       "       0.025     , 0.04166667, 0.04761905, 0.03571429, 0.05      ,\n",
       "       0.2       ])"
      ]
     },
     "execution_count": 26,
     "metadata": {},
     "output_type": "execute_result"
    }
   ],
   "source": [
    "diffs = fracs[1:] - fracs[:-1] \n",
    "diffs"
   ]
  },
  {
   "cell_type": "markdown",
   "metadata": {},
   "source": [
    "## check no values < 0"
   ]
  },
  {
   "cell_type": "code",
   "execution_count": 27,
   "metadata": {},
   "outputs": [
    {
     "data": {
      "text/plain": [
       "array([], dtype=float64)"
      ]
     },
     "execution_count": 27,
     "metadata": {},
     "output_type": "execute_result"
    }
   ],
   "source": [
    "diffs[diffs < 0 ]"
   ]
  },
  {
   "cell_type": "code",
   "execution_count": 24,
   "metadata": {},
   "outputs": [
    {
     "data": {
      "text/plain": [
       "array([0.2       , 0.05      , 0.03571429, 0.04761905, 0.04166667,\n",
       "       0.025     , 0.02857143, 0.07142857, 0.07142857, 0.02857143,\n",
       "       0.025     , 0.04166667, 0.04761905, 0.03571429, 0.05      ,\n",
       "       0.2       ])"
      ]
     },
     "execution_count": 24,
     "metadata": {},
     "output_type": "execute_result"
    }
   ],
   "source": [
    "diffs[diffs > 0 ]"
   ]
  },
  {
   "cell_type": "markdown",
   "metadata": {},
   "source": [
    "\n",
    "- ```diffs < 0```\n",
    "- ```diffs > 0```\n",
    "\n",
    "are [boolean masks](https://jakevdp.github.io/PythonDataScienceHandbook/02.06-boolean-arrays-and-masks.html).\n",
    "\n",
    "[Regarder la video](https://machinelearnia.com/numpy/#indexing)\n",
    "\n"
   ]
  },
  {
   "cell_type": "markdown",
   "metadata": {},
   "source": [
    "##  Exo\n",
    "\n",
    "[Tirée dans le TP](https://www.normalesup.org/~glafon/eiffel16/TPnote.pdf)\n",
    "\n",
    "Écrire une fonction Python appartientfarey(x,n) \n",
    "qui détermine si le\n",
    "nombre flottant x correspond à la valeur evalue(ci) pour un des couples d’entiers ci de la\n",
    "suite de Farey Fn. La fonction renverra bien sûr True si c’est le cas, False sinon."
   ]
  },
  {
   "cell_type": "code",
   "execution_count": 64,
   "metadata": {},
   "outputs": [],
   "source": [
    "\n",
    "def interval(x, n):\n",
    "    if n == 0:\n",
    "        # returning 2 objects\n",
    "        return np.array([[0,1], [1,1]]), []\n",
    "    tmp, medians = interval(x, n-1)\n",
    "    median = tmp[0] + tmp[1]\n",
    "    medians.append(median)\n",
    "    if median[0]/median[1] < x:\n",
    "        tmp[0] = median\n",
    "    else:\n",
    "        tmp[1] = median\n",
    "    return tmp, medians"
   ]
  },
  {
   "cell_type": "code",
   "execution_count": 57,
   "metadata": {},
   "outputs": [
    {
     "data": {
      "text/plain": [
       "array([0.61764706, 0.61818182])"
      ]
     },
     "execution_count": 57,
     "metadata": {},
     "output_type": "execute_result"
    }
   ],
   "source": [
    "uu, medians = interval((np.sqrt(5) - 1)/2, 8)\n",
    "uu[:,0]/uu[:,1]"
   ]
  },
  {
   "cell_type": "markdown",
   "metadata": {},
   "source": [
    "## Visualizing the solution"
   ]
  },
  {
   "cell_type": "code",
   "execution_count": 58,
   "metadata": {},
   "outputs": [
    {
     "data": {
      "text/plain": [
       "array([0.5       , 0.66666667, 0.6       , 0.625     , 0.61538462,\n",
       "       0.61904762, 0.61764706, 0.61818182])"
      ]
     },
     "execution_count": 58,
     "metadata": {},
     "output_type": "execute_result"
    }
   ],
   "source": [
    "medians = np.array(medians)\n",
    "mfracs = medians[:,0]/medians[:,1] \n",
    "mfracs"
   ]
  },
  {
   "cell_type": "code",
   "execution_count": 62,
   "metadata": {},
   "outputs": [
    {
     "data": {
      "text/plain": [
       "[<matplotlib.lines.Line2D at 0x7c5b73823dd8>]"
      ]
     },
     "execution_count": 62,
     "metadata": {},
     "output_type": "execute_result"
    },
    {
     "data": {
      "image/png": "[encoded data removed]",
      "text/plain": [
       "<Figure size 864x864 with 1 Axes>"
      ]
     },
     "metadata": {
      "needs_background": "light"
     },
     "output_type": "display_data"
    }
   ],
   "source": [
    "\n",
    "fig, ax = plt.subplots()\n",
    "fig.set_size_inches(12,12)\n",
    "\n",
    "rats = np.array([[0,1], [1,1]])\n",
    "for k in range(8):\n",
    "    tmp = np.zeros((2*rats.shape[0]-1,2))\n",
    "    tmp[::2,] = rats\n",
    "    tmp[1::2,] = rats[:-1] + rats[1:]\n",
    "    #fracs = rats[:,0]/rats[:,1]\n",
    "    fracs = tmp[1::2,0]/tmp[1::2,1]\n",
    "    ax.plot(fracs, k*np.ones_like(fracs), 'ro')\n",
    "    rats = tmp\n",
    "    \n",
    "ax.plot(mfracs, np.arange(len(mfracs)) )"
   ]
  },
  {
   "cell_type": "markdown",
   "metadata": {},
   "source": [
    "## Crible d'Ératosthène\n",
    "\n",
    "Crible d'Ératosthène¶\n",
    "Le crible d'Ératosthène est un procédé qui permet de trouver tous les nombres premiers inférieurs à un certain entier naturel donné N. Le crible d'Atkin est plus rapide mais plus complexe.Le crible d'Ératosthène est un procédé qui permet de trouver tous les nombres premiers inférieurs à un certain entier naturel donné N. Le crible d'Atkin est plus rapide mais plus complexe."
   ]
  },
  {
   "cell_type": "code",
   "execution_count": 74,
   "metadata": {},
   "outputs": [],
   "source": [
    "Crible d'Ératosthène¶\n",
    "Le crible d'Ératosthène est un procédé qui permet de trouver tous les nombres premiers inférieurs à un certain entier naturel donné N. Le crible d'Atkin est plus rapide mais plus complexe.\n",
    "\n",
    "#https://stackoverflow.com/questions/2068372/fastest-way-to-list-all-primes-below-n\n",
    "def primes(n):\n",
    "    \"\"\" Returns  array of primes, 2 <= p < n \"\"\"\n",
    "    sieve = np.ones(n, dtype=np.bool)\n",
    "    sieve[::2] = False\n",
    "    for i in range(3, int(np.sqrt(n))+1, 2):\n",
    "        if sieve[i]:\n",
    "            sieve[i*i::i] = False\n",
    "    return np.nonzero(sieve)[0][1:]"
   ]
  },
  {
   "cell_type": "code",
   "execution_count": 76,
   "metadata": {},
   "outputs": [
    {
     "data": {
      "text/plain": [
       "array([ 3,  5,  7, 11, 13, 17, 19, 23, 29, 31, 37, 41, 43, 47, 53, 59, 61,\n",
       "       67, 71, 73, 79, 83, 89, 97])"
      ]
     },
     "execution_count": 76,
     "metadata": {},
     "output_type": "execute_result"
    }
   ],
   "source": [
    "primes(100)"
   ]
  },
  {
   "cell_type": "code",
   "execution_count": 77,
   "metadata": {},
   "outputs": [
    {
     "name": "stdout",
     "output_type": "stream",
     "text": [
      "[master 1deb818] web\n",
      " 1 file changed, 51 insertions(+), 18 deletions(-)\n",
      "Enumerating objects: 7, done.\n",
      "Counting objects: 100% (7/7), done.\n",
      "Delta compression using up to 4 threads\n",
      "Compressing objects: 100% (4/4), done.\n",
      "Writing objects: 100% (4/4), 950 bytes | 950.00 KiB/s, done.\n",
      "Total 4 (delta 3), reused 0 (delta 0)\n",
      "remote: Resolving deltas: 100% (3/3), completed with 3 local objects.\u001b[K\n",
      "To https://github.com/macbuse/macbuse.github.io\n",
      "   42ddf35..1deb818  master -> master\n"
     ]
    }
   ],
   "source": [
    "! ../.g"
   ]
  },
  {
   "cell_type": "code",
   "execution_count": null,
   "metadata": {},
   "outputs": [],
   "source": []
  }
 ],
 "metadata": {
  "kernelspec": {
   "display_name": "Python 3",
   "language": "python",
   "name": "python3"
  },
  "language_info": {
   "codemirror_mode": {
    "name": "ipython",
    "version": 3
   },
   "file_extension": ".py",
   "mimetype": "text/x-python",
   "name": "python",
   "nbconvert_exporter": "python",
   "pygments_lexer": "ipython3",
   "version": "3.6.5"
  }
 },
 "nbformat": 4,
 "nbformat_minor": 2
}
