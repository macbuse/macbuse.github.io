{
 "cells": [
  {
   "cell_type": "code",
   "execution_count": 1,
   "metadata": {},
   "outputs": [],
   "source": [
    "import numpy as np\n",
    "import matplotlib.pyplot as plt"
   ]
  },
  {
   "cell_type": "markdown",
   "metadata": {},
   "source": [
    "## Basic PCA \n",
    "\n",
    "Want to pick up cultural differences from the COVID data\n",
    "\n",
    "[read this](http://pmaweb.caltech.edu/~physlab/lab_21_current/Ph21_5_Covariance_PCA.pdf)\n"
   ]
  },
  {
   "cell_type": "code",
   "execution_count": 2,
   "metadata": {},
   "outputs": [
    {
     "name": "stdout",
     "output_type": "stream",
     "text": [
      "[master 52f555f] web\n",
      " 6 files changed, 13 insertions(+)\n",
      " create mode 100644 PROG/.ipynb_checkpoints/Untitled2-checkpoint.ipynb\n",
      " create mode 100644 PROG/.ipynb_checkpoints/horned_sphere-checkpoint.png\n",
      " create mode 100644 PROG/.~lock.peter_data.xlsx#\n",
      " create mode 100644 PROG/Untitled2.ipynb\n",
      " create mode 100644 PROG/peter_data.xlsx\n",
      " create mode 100644 PROG/skills assement, fisher researcher, excel and powerpoint.xlsx\n",
      "Counting objects: 7, done.\n",
      "Delta compression using up to 12 threads.\n",
      "Compressing objects: 100% (7/7), done.\n",
      "Writing objects: 100% (7/7), 883.68 KiB | 25.99 MiB/s, done.\n",
      "Total 7 (delta 3), reused 0 (delta 0)\n",
      "remote: Resolving deltas: 100% (3/3), completed with 3 local objects.\u001b[K\n",
      "To https://github.com/macbuse/macbuse.github.io.git\n",
      "   54425fb..52f555f  master -> master\n"
     ]
    }
   ],
   "source": [
    "! ../.g"
   ]
  },
  {
   "cell_type": "code",
   "execution_count": 3,
   "metadata": {},
   "outputs": [],
   "source": [
    "import requests\n",
    "import pandas as pd"
   ]
  },
  {
   "cell_type": "code",
   "execution_count": 4,
   "metadata": {},
   "outputs": [],
   "source": [
    "root_dir = 'https://raw.githubusercontent.com/CSSEGISandData/COVID-19/master/csse_covid_19_data/csse_covid_19_time_series/'\n",
    "fn = 'time_series_covid19_%s_global.csv'\n",
    "\n",
    "for ss in ['deaths','confirmed']:\n",
    "    r = requests.get(root_dir + fn%ss, allow_redirects=True)\n",
    "    open('covid_%s.csv'%ss, 'wb').write(r.content)"
   ]
  },
  {
   "cell_type": "code",
   "execution_count": 10,
   "metadata": {},
   "outputs": [],
   "source": [
    "df = pd.read_csv('covid_deaths.csv')"
   ]
  },
  {
   "cell_type": "code",
   "execution_count": 6,
   "metadata": {},
   "outputs": [],
   "source": [
    "def ref2weeks(ref):\n",
    "    X = df.iloc[ref][4:].values\n",
    "    X = X[len(X) % 7  + 6:]\n",
    "    X = np.diff(X,1).reshape((-1,7))\n",
    "    return X.sum(axis=0)\n",
    "\n"
   ]
  },
  {
   "cell_type": "code",
   "execution_count": 7,
   "metadata": {},
   "outputs": [
    {
     "ename": "NameError",
     "evalue": "name 'ref4big' is not defined",
     "output_type": "error",
     "traceback": [
      "\u001b[0;31m---------------------------------------------------------------------------\u001b[0m",
      "\u001b[0;31mNameError\u001b[0m                                 Traceback (most recent call last)",
      "\u001b[0;32m<ipython-input-7-93fbb0689f9b>\u001b[0m in \u001b[0;36m<module>\u001b[0;34m\u001b[0m\n\u001b[0;32m----> 1\u001b[0;31m \u001b[0mref4big\u001b[0m\u001b[0;34m[\u001b[0m\u001b[0mWX\u001b[0m\u001b[0;34m.\u001b[0m\u001b[0msum\u001b[0m\u001b[0;34m(\u001b[0m\u001b[0maxis\u001b[0m\u001b[0;34m=\u001b[0m\u001b[0;36m1\u001b[0m\u001b[0;34m)\u001b[0m\u001b[0;34m/\u001b[0m\u001b[0mnp\u001b[0m\u001b[0;34m.\u001b[0m\u001b[0msqrt\u001b[0m\u001b[0;34m(\u001b[0m\u001b[0;36m7\u001b[0m\u001b[0;34m)\u001b[0m \u001b[0;34m<\u001b[0m\u001b[0;36m.995\u001b[0m\u001b[0;34m]\u001b[0m\u001b[0;34m\u001b[0m\u001b[0;34m\u001b[0m\u001b[0m\n\u001b[0m",
      "\u001b[0;31mNameError\u001b[0m: name 'ref4big' is not defined"
     ]
    }
   ],
   "source": [
    "ref4big[WX.sum(axis=1)/np.sqrt(7) <.995]"
   ]
  },
  {
   "cell_type": "code",
   "execution_count": 8,
   "metadata": {},
   "outputs": [],
   "source": [
    "df = df.drop([27,106])"
   ]
  },
  {
   "cell_type": "code",
   "execution_count": 11,
   "metadata": {},
   "outputs": [
    {
     "data": {
      "text/html": [
       "<div>\n",
       "<style scoped>\n",
       "    .dataframe tbody tr th:only-of-type {\n",
       "        vertical-align: middle;\n",
       "    }\n",
       "\n",
       "    .dataframe tbody tr th {\n",
       "        vertical-align: top;\n",
       "    }\n",
       "\n",
       "    .dataframe thead th {\n",
       "        text-align: right;\n",
       "    }\n",
       "</style>\n",
       "<table border=\"1\" class=\"dataframe\">\n",
       "  <thead>\n",
       "    <tr style=\"text-align: right;\">\n",
       "      <th></th>\n",
       "      <th>Province/State</th>\n",
       "      <th>Country/Region</th>\n",
       "      <th>Lat</th>\n",
       "      <th>Long</th>\n",
       "      <th>1/22/20</th>\n",
       "      <th>1/23/20</th>\n",
       "      <th>1/24/20</th>\n",
       "      <th>1/25/20</th>\n",
       "      <th>1/26/20</th>\n",
       "      <th>1/27/20</th>\n",
       "      <th>...</th>\n",
       "      <th>11/7/20</th>\n",
       "      <th>11/8/20</th>\n",
       "      <th>11/9/20</th>\n",
       "      <th>11/10/20</th>\n",
       "      <th>11/11/20</th>\n",
       "      <th>11/12/20</th>\n",
       "      <th>11/13/20</th>\n",
       "      <th>11/14/20</th>\n",
       "      <th>11/15/20</th>\n",
       "      <th>11/16/20</th>\n",
       "    </tr>\n",
       "  </thead>\n",
       "  <tbody>\n",
       "    <tr>\n",
       "      <th>0</th>\n",
       "      <td>NaN</td>\n",
       "      <td>Afghanistan</td>\n",
       "      <td>33.939110</td>\n",
       "      <td>67.709953</td>\n",
       "      <td>0</td>\n",
       "      <td>0</td>\n",
       "      <td>0</td>\n",
       "      <td>0</td>\n",
       "      <td>0</td>\n",
       "      <td>0</td>\n",
       "      <td>...</td>\n",
       "      <td>1556</td>\n",
       "      <td>1558</td>\n",
       "      <td>1574</td>\n",
       "      <td>1577</td>\n",
       "      <td>1581</td>\n",
       "      <td>1591</td>\n",
       "      <td>1595</td>\n",
       "      <td>1605</td>\n",
       "      <td>1617</td>\n",
       "      <td>1626</td>\n",
       "    </tr>\n",
       "    <tr>\n",
       "      <th>1</th>\n",
       "      <td>NaN</td>\n",
       "      <td>Albania</td>\n",
       "      <td>41.153300</td>\n",
       "      <td>20.168300</td>\n",
       "      <td>0</td>\n",
       "      <td>0</td>\n",
       "      <td>0</td>\n",
       "      <td>0</td>\n",
       "      <td>0</td>\n",
       "      <td>0</td>\n",
       "      <td>...</td>\n",
       "      <td>557</td>\n",
       "      <td>559</td>\n",
       "      <td>571</td>\n",
       "      <td>579</td>\n",
       "      <td>590</td>\n",
       "      <td>598</td>\n",
       "      <td>605</td>\n",
       "      <td>612</td>\n",
       "      <td>623</td>\n",
       "      <td>631</td>\n",
       "    </tr>\n",
       "    <tr>\n",
       "      <th>2</th>\n",
       "      <td>NaN</td>\n",
       "      <td>Algeria</td>\n",
       "      <td>28.033900</td>\n",
       "      <td>1.659600</td>\n",
       "      <td>0</td>\n",
       "      <td>0</td>\n",
       "      <td>0</td>\n",
       "      <td>0</td>\n",
       "      <td>0</td>\n",
       "      <td>0</td>\n",
       "      <td>...</td>\n",
       "      <td>2036</td>\n",
       "      <td>2048</td>\n",
       "      <td>2062</td>\n",
       "      <td>2077</td>\n",
       "      <td>2093</td>\n",
       "      <td>2111</td>\n",
       "      <td>2124</td>\n",
       "      <td>2139</td>\n",
       "      <td>2154</td>\n",
       "      <td>2168</td>\n",
       "    </tr>\n",
       "    <tr>\n",
       "      <th>3</th>\n",
       "      <td>NaN</td>\n",
       "      <td>Andorra</td>\n",
       "      <td>42.506300</td>\n",
       "      <td>1.521800</td>\n",
       "      <td>0</td>\n",
       "      <td>0</td>\n",
       "      <td>0</td>\n",
       "      <td>0</td>\n",
       "      <td>0</td>\n",
       "      <td>0</td>\n",
       "      <td>...</td>\n",
       "      <td>75</td>\n",
       "      <td>75</td>\n",
       "      <td>75</td>\n",
       "      <td>75</td>\n",
       "      <td>75</td>\n",
       "      <td>75</td>\n",
       "      <td>75</td>\n",
       "      <td>75</td>\n",
       "      <td>76</td>\n",
       "      <td>76</td>\n",
       "    </tr>\n",
       "    <tr>\n",
       "      <th>4</th>\n",
       "      <td>NaN</td>\n",
       "      <td>Angola</td>\n",
       "      <td>-11.202700</td>\n",
       "      <td>17.873900</td>\n",
       "      <td>0</td>\n",
       "      <td>0</td>\n",
       "      <td>0</td>\n",
       "      <td>0</td>\n",
       "      <td>0</td>\n",
       "      <td>0</td>\n",
       "      <td>...</td>\n",
       "      <td>303</td>\n",
       "      <td>307</td>\n",
       "      <td>308</td>\n",
       "      <td>308</td>\n",
       "      <td>312</td>\n",
       "      <td>315</td>\n",
       "      <td>317</td>\n",
       "      <td>322</td>\n",
       "      <td>322</td>\n",
       "      <td>324</td>\n",
       "    </tr>\n",
       "    <tr>\n",
       "      <th>...</th>\n",
       "      <td>...</td>\n",
       "      <td>...</td>\n",
       "      <td>...</td>\n",
       "      <td>...</td>\n",
       "      <td>...</td>\n",
       "      <td>...</td>\n",
       "      <td>...</td>\n",
       "      <td>...</td>\n",
       "      <td>...</td>\n",
       "      <td>...</td>\n",
       "      <td>...</td>\n",
       "      <td>...</td>\n",
       "      <td>...</td>\n",
       "      <td>...</td>\n",
       "      <td>...</td>\n",
       "      <td>...</td>\n",
       "      <td>...</td>\n",
       "      <td>...</td>\n",
       "      <td>...</td>\n",
       "      <td>...</td>\n",
       "      <td>...</td>\n",
       "    </tr>\n",
       "    <tr>\n",
       "      <th>264</th>\n",
       "      <td>NaN</td>\n",
       "      <td>West Bank and Gaza</td>\n",
       "      <td>31.952200</td>\n",
       "      <td>35.233200</td>\n",
       "      <td>0</td>\n",
       "      <td>0</td>\n",
       "      <td>0</td>\n",
       "      <td>0</td>\n",
       "      <td>0</td>\n",
       "      <td>0</td>\n",
       "      <td>...</td>\n",
       "      <td>512</td>\n",
       "      <td>515</td>\n",
       "      <td>521</td>\n",
       "      <td>533</td>\n",
       "      <td>538</td>\n",
       "      <td>542</td>\n",
       "      <td>548</td>\n",
       "      <td>558</td>\n",
       "      <td>565</td>\n",
       "      <td>572</td>\n",
       "    </tr>\n",
       "    <tr>\n",
       "      <th>265</th>\n",
       "      <td>NaN</td>\n",
       "      <td>Western Sahara</td>\n",
       "      <td>24.215500</td>\n",
       "      <td>-12.885800</td>\n",
       "      <td>0</td>\n",
       "      <td>0</td>\n",
       "      <td>0</td>\n",
       "      <td>0</td>\n",
       "      <td>0</td>\n",
       "      <td>0</td>\n",
       "      <td>...</td>\n",
       "      <td>1</td>\n",
       "      <td>1</td>\n",
       "      <td>1</td>\n",
       "      <td>1</td>\n",
       "      <td>1</td>\n",
       "      <td>1</td>\n",
       "      <td>1</td>\n",
       "      <td>1</td>\n",
       "      <td>1</td>\n",
       "      <td>1</td>\n",
       "    </tr>\n",
       "    <tr>\n",
       "      <th>266</th>\n",
       "      <td>NaN</td>\n",
       "      <td>Yemen</td>\n",
       "      <td>15.552727</td>\n",
       "      <td>48.516388</td>\n",
       "      <td>0</td>\n",
       "      <td>0</td>\n",
       "      <td>0</td>\n",
       "      <td>0</td>\n",
       "      <td>0</td>\n",
       "      <td>0</td>\n",
       "      <td>...</td>\n",
       "      <td>602</td>\n",
       "      <td>602</td>\n",
       "      <td>605</td>\n",
       "      <td>605</td>\n",
       "      <td>605</td>\n",
       "      <td>605</td>\n",
       "      <td>605</td>\n",
       "      <td>605</td>\n",
       "      <td>605</td>\n",
       "      <td>605</td>\n",
       "    </tr>\n",
       "    <tr>\n",
       "      <th>267</th>\n",
       "      <td>NaN</td>\n",
       "      <td>Zambia</td>\n",
       "      <td>-13.133897</td>\n",
       "      <td>27.849332</td>\n",
       "      <td>0</td>\n",
       "      <td>0</td>\n",
       "      <td>0</td>\n",
       "      <td>0</td>\n",
       "      <td>0</td>\n",
       "      <td>0</td>\n",
       "      <td>...</td>\n",
       "      <td>349</td>\n",
       "      <td>349</td>\n",
       "      <td>349</td>\n",
       "      <td>350</td>\n",
       "      <td>350</td>\n",
       "      <td>350</td>\n",
       "      <td>350</td>\n",
       "      <td>350</td>\n",
       "      <td>353</td>\n",
       "      <td>353</td>\n",
       "    </tr>\n",
       "    <tr>\n",
       "      <th>268</th>\n",
       "      <td>NaN</td>\n",
       "      <td>Zimbabwe</td>\n",
       "      <td>-19.015438</td>\n",
       "      <td>29.154857</td>\n",
       "      <td>0</td>\n",
       "      <td>0</td>\n",
       "      <td>0</td>\n",
       "      <td>0</td>\n",
       "      <td>0</td>\n",
       "      <td>0</td>\n",
       "      <td>...</td>\n",
       "      <td>251</td>\n",
       "      <td>253</td>\n",
       "      <td>254</td>\n",
       "      <td>255</td>\n",
       "      <td>255</td>\n",
       "      <td>255</td>\n",
       "      <td>257</td>\n",
       "      <td>257</td>\n",
       "      <td>257</td>\n",
       "      <td>257</td>\n",
       "    </tr>\n",
       "  </tbody>\n",
       "</table>\n",
       "<p>269 rows × 304 columns</p>\n",
       "</div>"
      ],
      "text/plain": [
       "    Province/State      Country/Region        Lat       Long  1/22/20  \\\n",
       "0              NaN         Afghanistan  33.939110  67.709953        0   \n",
       "1              NaN             Albania  41.153300  20.168300        0   \n",
       "2              NaN             Algeria  28.033900   1.659600        0   \n",
       "3              NaN             Andorra  42.506300   1.521800        0   \n",
       "4              NaN              Angola -11.202700  17.873900        0   \n",
       "..             ...                 ...        ...        ...      ...   \n",
       "264            NaN  West Bank and Gaza  31.952200  35.233200        0   \n",
       "265            NaN      Western Sahara  24.215500 -12.885800        0   \n",
       "266            NaN               Yemen  15.552727  48.516388        0   \n",
       "267            NaN              Zambia -13.133897  27.849332        0   \n",
       "268            NaN            Zimbabwe -19.015438  29.154857        0   \n",
       "\n",
       "     1/23/20  1/24/20  1/25/20  1/26/20  1/27/20  ...  11/7/20  11/8/20  \\\n",
       "0          0        0        0        0        0  ...     1556     1558   \n",
       "1          0        0        0        0        0  ...      557      559   \n",
       "2          0        0        0        0        0  ...     2036     2048   \n",
       "3          0        0        0        0        0  ...       75       75   \n",
       "4          0        0        0        0        0  ...      303      307   \n",
       "..       ...      ...      ...      ...      ...  ...      ...      ...   \n",
       "264        0        0        0        0        0  ...      512      515   \n",
       "265        0        0        0        0        0  ...        1        1   \n",
       "266        0        0        0        0        0  ...      602      602   \n",
       "267        0        0        0        0        0  ...      349      349   \n",
       "268        0        0        0        0        0  ...      251      253   \n",
       "\n",
       "     11/9/20  11/10/20  11/11/20  11/12/20  11/13/20  11/14/20  11/15/20  \\\n",
       "0       1574      1577      1581      1591      1595      1605      1617   \n",
       "1        571       579       590       598       605       612       623   \n",
       "2       2062      2077      2093      2111      2124      2139      2154   \n",
       "3         75        75        75        75        75        75        76   \n",
       "4        308       308       312       315       317       322       322   \n",
       "..       ...       ...       ...       ...       ...       ...       ...   \n",
       "264      521       533       538       542       548       558       565   \n",
       "265        1         1         1         1         1         1         1   \n",
       "266      605       605       605       605       605       605       605   \n",
       "267      349       350       350       350       350       350       353   \n",
       "268      254       255       255       255       257       257       257   \n",
       "\n",
       "     11/16/20  \n",
       "0        1626  \n",
       "1         631  \n",
       "2        2168  \n",
       "3          76  \n",
       "4         324  \n",
       "..        ...  \n",
       "264       572  \n",
       "265         1  \n",
       "266       605  \n",
       "267       353  \n",
       "268       257  \n",
       "\n",
       "[269 rows x 304 columns]"
      ]
     },
     "execution_count": 11,
     "metadata": {},
     "output_type": "execute_result"
    }
   ],
   "source": [
    "df"
   ]
  },
  {
   "cell_type": "code",
   "execution_count": 88,
   "metadata": {},
   "outputs": [
    {
     "data": {
      "image/png": "[encoded data removed]",
      "text/plain": [
       "<Figure size 1008x1008 with 1 Axes>"
      ]
     },
     "metadata": {
      "needs_background": "light"
     },
     "output_type": "display_data"
    }
   ],
   "source": [
    "def mk_weeks(ii):\n",
    "    WX = [ ref2weeks(ref) for ref in ref4big]\n",
    "    #normalise\n",
    "    return np.array([ x/np.linalg.norm(x) for x in WX]).astype(float)\n",
    "    \n",
    "\n",
    "ref4big = df[ df.iloc[:,-1] > 5000].index\n",
    "idx = ref4big\n",
    "WX = mk_weeks(idx)\n",
    "\n",
    "if False:\n",
    "    dirty = df.iloc[ref4big[WX.sum(axis=1)/np.sqrt(7) <.995],1].index\n",
    "\n",
    "    idx = dirty.tolist()\n",
    "    WX = mk_weeks(idx)\n",
    "\n",
    "\n",
    "#calculate covariance\n",
    "cov = np.dot(WX, WX.T) #- np.identity(len(WX))\n",
    "\n",
    "#cov = -np.log(cov)\n",
    "\n",
    "vp, vecs = np.linalg.eig(cov)\n",
    "\n",
    "Xx = [ np.dot(vecs[0], u).real for u in cov]\n",
    "Yx = [ .1*np.dot(vecs[1], u).real for u in cov]\n",
    "\n",
    "fig, ax = plt.subplots()\n",
    "fig.set_size_inches(14,14)\n",
    "#ax.axis('off')\n",
    "\n",
    "\n",
    "labels = df.iloc[idx,1]\n",
    "kk = -1\n",
    "for label , x, y  in zip(labels,Xx, Yx): \n",
    "    kk += 1\n",
    "    #if label.split()[0].lower() in ['ecuador', 'china', 'bolivia']: continue\n",
    "    if label.lower() in ['peru', 'chile', 'argentina', 'philippines']: continue\n",
    "    if label.lower() in ['sudan','oman','tunisia']: continue \n",
    "    if label[0] == 'K':continue\n",
    "    \n",
    "    label += ' ' + str(kk)\n",
    "  \n",
    "    ax.plot([x], [y], 'ro');\n",
    "    ax.annotate(label, # this is the text\n",
    "                 (x,y), # this is the point to label\n",
    "                 textcoords=\"offset points\", # how to position the text\n",
    "                 xytext=(5,-2), # distance from text to points (x,y) : not same units\n",
    "                 ha='left') # horizontal alignment can be left, right or center\n",
    "    \n",
    "    "
   ]
  },
  {
   "cell_type": "code",
   "execution_count": 85,
   "metadata": {},
   "outputs": [
    {
     "data": {
      "text/plain": [
       "Int64Index([  6,  20,  23,  27,  30,  50,  55,  89,  98, 106, 107, 126, 130,\n",
       "            143, 144, 145, 146, 149, 178, 191, 199, 203, 204, 205, 208, 209,\n",
       "            216, 226, 228, 232, 243, 244, 246, 258],\n",
       "           dtype='int64')"
      ]
     },
     "execution_count": 85,
     "metadata": {},
     "output_type": "execute_result"
    }
   ],
   "source": [
    "ref4big = df[ df.iloc[:,-1] > 5000].index\n",
    "ref4big\n",
    "#np.dot(WX, WX.T)"
   ]
  },
  {
   "cell_type": "code",
   "execution_count": 89,
   "metadata": {},
   "outputs": [],
   "source": [
    "cc = np.zeros_like(cov)\n",
    "dd = np.zeros_like(cov)\n",
    "\n",
    "cc[(cov > .995)] = 1\n",
    "cc = cc - np.identity(cc.shape[0])\n",
    "\n",
    "dd[cov > .98] = 1\n",
    "dd = dd - np.identity(cc.shape[0])\n",
    "\n",
    "\n",
    "\n",
    "for k, row in enumerate(cc):\n",
    "    if sum(row) < 1: cc[k] = dd[k]\n",
    "\n",
    "cc = cc + cc.T\n",
    "\n",
    "cc[3] = 0\n",
    "cc[:,3] =0"
   ]
  },
  {
   "cell_type": "code",
   "execution_count": 98,
   "metadata": {},
   "outputs": [
    {
     "data": {
      "image/png": "[encoded data removed]",
      "text/plain": [
       "<Figure size 432x288 with 1 Axes>"
      ]
     },
     "metadata": {},
     "output_type": "display_data"
    }
   ],
   "source": [
    "import networkx as nx\n",
    "\n",
    "def show_graph(adjacency_matrix, my_labels=None):\n",
    "    \n",
    "    #rows, cols = np.where(adjacency_matrix == 1)\n",
    "    #edges = zip(rows.tolist(), cols.tolist())\n",
    "    edges = np.vstack( np.nonzero(adjacency_matrix) ).T\n",
    "    gr = nx.Graph()\n",
    "    gr.add_edges_from(edges)\n",
    "    pos = nx.spring_layout(gr) \n",
    "   \n",
    "    if my_labels == None:\n",
    "        my_labels = {k : df.iloc[idx[k],1] for k in pos.keys()} \n",
    "    \n",
    "        \n",
    "    nx.draw(gr, pos, \n",
    "            node_size=1000,\n",
    "            connectionstyle='arc3, rad = 0.1',\n",
    "            node_color='#dddd00',\n",
    "            edge_color=\"r\",\n",
    "            labels=my_labels,\n",
    "            with_labels=True)\n",
    "\n",
    "show_graph(cc)"
   ]
  },
  {
   "cell_type": "code",
   "execution_count": 320,
   "metadata": {},
   "outputs": [],
   "source": []
  },
  {
   "cell_type": "code",
   "execution_count": 313,
   "metadata": {},
   "outputs": [
    {
     "data": {
      "text/plain": [
       "array([0., 1., 0., 0., 0., 0., 0., 0., 0., 0., 0., 0., 1., 1., 1., 0., 1.,\n",
       "       1., 1., 1., 0., 0., 1., 1., 1.])"
      ]
     },
     "execution_count": 313,
     "metadata": {},
     "output_type": "execute_result"
    }
   ],
   "source": [
    "cc[2]"
   ]
  },
  {
   "cell_type": "code",
   "execution_count": 145,
   "metadata": {},
   "outputs": [
    {
     "data": {
      "text/plain": [
       "array([ 5,  9, 10, 11, 12, 13, 22])"
      ]
     },
     "execution_count": 145,
     "metadata": {},
     "output_type": "execute_result"
    }
   ],
   "source": [
    "X, Y = np.where(cov > .997)\n",
    "df.iloc[ ref4big[Y[np.where(X == 22)] ],1]\n",
    "Y[np.where(X == 22)]"
   ]
  },
  {
   "cell_type": "code",
   "execution_count": 192,
   "metadata": {},
   "outputs": [
    {
     "data": {
      "image/png": "[encoded data removed]",
      "text/plain": [
       "<Figure size 432x288 with 1 Axes>"
      ]
     },
     "metadata": {
      "needs_background": "light"
     },
     "output_type": "display_data"
    }
   ],
   "source": [
    "plt.hist(WX.sum(axis=1)/np.sqrt(7), bins = 20);\n",
    "\n",
    "dirty = df.iloc[ref4big[WX.sum(axis=1)/np.sqrt(7) <.995],1].index"
   ]
  },
  {
   "cell_type": "code",
   "execution_count": 184,
   "metadata": {},
   "outputs": [
    {
     "data": {
      "image/png": "[encoded data removed]",
      "text/plain": [
       "<Figure size 432x288 with 1 Axes>"
      ]
     },
     "metadata": {
      "needs_background": "light"
     },
     "output_type": "display_data"
    }
   ],
   "source": [
    "ref4big = df[ df.iloc[:,-1] > 1000 ].index.tolist()\n",
    "\n",
    "WX = [ ref2weeks(ref) for ref in ref4big]\n",
    "WX = np.array([ x/np.linalg.norm(x) for x in WX]).astype(float)\n",
    "cov = np.dot(WX, WX.T)\n",
    "\n",
    "plt.pcolor(cov);"
   ]
  },
  {
   "cell_type": "code",
   "execution_count": 81,
   "metadata": {},
   "outputs": [
    {
     "data": {
      "text/plain": [
       "(0.9830801115921854, 0.9934320256115639)"
      ]
     },
     "execution_count": 81,
     "metadata": {},
     "output_type": "execute_result"
    },
    {
     "data": {
      "image/png": "[encoded data removed]",
      "text/plain": [
       "<Figure size 432x288 with 1 Axes>"
      ]
     },
     "metadata": {
      "needs_background": "light"
     },
     "output_type": "display_data"
    }
   ],
   "source": [
    "ref4big = np.array(ref4big)\n",
    "\n",
    "tt = [1,7]\n",
    "for k,ii in enumerate(tt):\n",
    "    plt.bar(np.arange(k,7*len(tt),len(tt)), WX[ii]);\n",
    "#plt.xticks()\n",
    "plt.title(':'.join( df.iloc[ref4big[tt], 1]));\n",
    "WX[tt[0]].dot(WX[tt[1]]), WX[tt[0]].sum()/np.sqrt(7)"
   ]
  },
  {
   "cell_type": "code",
   "execution_count": 67,
   "metadata": {},
   "outputs": [
    {
     "data": {
      "text/plain": [
       "0.15522551789554961"
      ]
     },
     "execution_count": 67,
     "metadata": {},
     "output_type": "execute_result"
    }
   ],
   "source": [
    "np.linalg.norm(WX[8] - WX[21])"
   ]
  },
  {
   "cell_type": "code",
   "execution_count": 290,
   "metadata": {},
   "outputs": [
    {
     "data": {
      "text/html": [
       "<div>\n",
       "<style scoped>\n",
       "    .dataframe tbody tr th:only-of-type {\n",
       "        vertical-align: middle;\n",
       "    }\n",
       "\n",
       "    .dataframe tbody tr th {\n",
       "        vertical-align: top;\n",
       "    }\n",
       "\n",
       "    .dataframe thead th {\n",
       "        text-align: right;\n",
       "    }\n",
       "</style>\n",
       "<table border=\"1\" class=\"dataframe\">\n",
       "  <thead>\n",
       "    <tr style=\"text-align: right;\">\n",
       "      <th></th>\n",
       "      <th>ref</th>\n",
       "      <th>country</th>\n",
       "    </tr>\n",
       "  </thead>\n",
       "  <tbody>\n",
       "    <tr>\n",
       "      <th>6</th>\n",
       "      <td>0</td>\n",
       "      <td>Argentina</td>\n",
       "    </tr>\n",
       "    <tr>\n",
       "      <th>23</th>\n",
       "      <td>1</td>\n",
       "      <td>Belgium</td>\n",
       "    </tr>\n",
       "    <tr>\n",
       "      <th>27</th>\n",
       "      <td>2</td>\n",
       "      <td>Bolivia</td>\n",
       "    </tr>\n",
       "    <tr>\n",
       "      <th>30</th>\n",
       "      <td>3</td>\n",
       "      <td>Brazil</td>\n",
       "    </tr>\n",
       "    <tr>\n",
       "      <th>55</th>\n",
       "      <td>4</td>\n",
       "      <td>Chile</td>\n",
       "    </tr>\n",
       "    <tr>\n",
       "      <th>89</th>\n",
       "      <td>5</td>\n",
       "      <td>Colombia</td>\n",
       "    </tr>\n",
       "    <tr>\n",
       "      <th>106</th>\n",
       "      <td>6</td>\n",
       "      <td>Ecuador</td>\n",
       "    </tr>\n",
       "    <tr>\n",
       "      <th>126</th>\n",
       "      <td>7</td>\n",
       "      <td>France</td>\n",
       "    </tr>\n",
       "    <tr>\n",
       "      <th>130</th>\n",
       "      <td>8</td>\n",
       "      <td>Germany</td>\n",
       "    </tr>\n",
       "    <tr>\n",
       "      <th>143</th>\n",
       "      <td>9</td>\n",
       "      <td>India</td>\n",
       "    </tr>\n",
       "    <tr>\n",
       "      <th>144</th>\n",
       "      <td>10</td>\n",
       "      <td>Indonesia</td>\n",
       "    </tr>\n",
       "    <tr>\n",
       "      <th>145</th>\n",
       "      <td>11</td>\n",
       "      <td>Iran</td>\n",
       "    </tr>\n",
       "    <tr>\n",
       "      <th>146</th>\n",
       "      <td>12</td>\n",
       "      <td>Iraq</td>\n",
       "    </tr>\n",
       "    <tr>\n",
       "      <th>149</th>\n",
       "      <td>13</td>\n",
       "      <td>Italy</td>\n",
       "    </tr>\n",
       "    <tr>\n",
       "      <th>178</th>\n",
       "      <td>14</td>\n",
       "      <td>Mexico</td>\n",
       "    </tr>\n",
       "    <tr>\n",
       "      <th>191</th>\n",
       "      <td>15</td>\n",
       "      <td>Netherlands</td>\n",
       "    </tr>\n",
       "    <tr>\n",
       "      <th>203</th>\n",
       "      <td>16</td>\n",
       "      <td>Peru</td>\n",
       "    </tr>\n",
       "    <tr>\n",
       "      <th>205</th>\n",
       "      <td>17</td>\n",
       "      <td>Poland</td>\n",
       "    </tr>\n",
       "    <tr>\n",
       "      <th>208</th>\n",
       "      <td>18</td>\n",
       "      <td>Romania</td>\n",
       "    </tr>\n",
       "    <tr>\n",
       "      <th>209</th>\n",
       "      <td>19</td>\n",
       "      <td>Russia</td>\n",
       "    </tr>\n",
       "    <tr>\n",
       "      <th>226</th>\n",
       "      <td>20</td>\n",
       "      <td>South Africa</td>\n",
       "    </tr>\n",
       "    <tr>\n",
       "      <th>228</th>\n",
       "      <td>21</td>\n",
       "      <td>Spain</td>\n",
       "    </tr>\n",
       "    <tr>\n",
       "      <th>243</th>\n",
       "      <td>22</td>\n",
       "      <td>Turkey</td>\n",
       "    </tr>\n",
       "    <tr>\n",
       "      <th>244</th>\n",
       "      <td>23</td>\n",
       "      <td>US</td>\n",
       "    </tr>\n",
       "    <tr>\n",
       "      <th>246</th>\n",
       "      <td>24</td>\n",
       "      <td>Ukraine</td>\n",
       "    </tr>\n",
       "    <tr>\n",
       "      <th>258</th>\n",
       "      <td>25</td>\n",
       "      <td>United Kingdom</td>\n",
       "    </tr>\n",
       "  </tbody>\n",
       "</table>\n",
       "</div>"
      ],
      "text/plain": [
       "     ref         country\n",
       "6      0       Argentina\n",
       "23     1         Belgium\n",
       "27     2         Bolivia\n",
       "30     3          Brazil\n",
       "55     4           Chile\n",
       "89     5        Colombia\n",
       "106    6         Ecuador\n",
       "126    7          France\n",
       "130    8         Germany\n",
       "143    9           India\n",
       "144   10       Indonesia\n",
       "145   11            Iran\n",
       "146   12            Iraq\n",
       "149   13           Italy\n",
       "178   14          Mexico\n",
       "191   15     Netherlands\n",
       "203   16            Peru\n",
       "205   17          Poland\n",
       "208   18         Romania\n",
       "209   19          Russia\n",
       "226   20    South Africa\n",
       "228   21           Spain\n",
       "243   22          Turkey\n",
       "244   23              US\n",
       "246   24         Ukraine\n",
       "258   25  United Kingdom"
      ]
     },
     "execution_count": 290,
     "metadata": {},
     "output_type": "execute_result"
    }
   ],
   "source": [
    "pd.DataFrame( {'ref': np.arange(len(ref4big)), 'country':df.iloc[ref4big,1]} )"
   ]
  },
  {
   "cell_type": "code",
   "execution_count": 180,
   "metadata": {},
   "outputs": [
    {
     "name": "stdout",
     "output_type": "stream",
     "text": [
      "[master 302f546] web\n",
      " 2 files changed, 497 insertions(+), 519 deletions(-)\n",
      " delete mode 100644 .stage_m2r_2020.tex.swp\n",
      " rewrite PROG/covid_pca.ipynb (86%)\n",
      "Counting objects: 4, done.\n",
      "Delta compression using up to 12 threads.\n",
      "Compressing objects: 100% (4/4), done.\n",
      "Writing objects: 100% (4/4), 58.90 KiB | 11.78 MiB/s, done.\n",
      "Total 4 (delta 2), reused 0 (delta 0)\n",
      "remote: Resolving deltas: 100% (2/2), completed with 2 local objects.\u001b[K\n",
      "To https://github.com/macbuse/macbuse.github.io.git\n",
      "   869d8df..302f546  master -> master\n"
     ]
    }
   ],
   "source": [
    "! ../.g\n"
   ]
  },
  {
   "cell_type": "code",
   "execution_count": null,
   "metadata": {},
   "outputs": [],
   "source": []
  }
 ],
 "metadata": {
  "kernelspec": {
   "display_name": "Python 3",
   "language": "python",
   "name": "python3"
  },
  "language_info": {
   "codemirror_mode": {
    "name": "ipython",
    "version": 3
   },
   "file_extension": ".py",
   "mimetype": "text/x-python",
   "name": "python",
   "nbconvert_exporter": "python",
   "pygments_lexer": "ipython3",
   "version": "3.8.3"
  }
 },
 "nbformat": 4,
 "nbformat_minor": 4
}
