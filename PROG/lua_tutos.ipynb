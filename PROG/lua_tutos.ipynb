{
 "cells": [
  {
   "cell_type": "code",
   "execution_count": null,
   "id": "028bacc8-b5fe-464a-adf9-38163eae9c4d",
   "metadata": {},
   "outputs": [],
   "source": [
    "aa = {}\n",
    "\n",
    "for i= 1,10 do\n",
    "    aa[i] = 3*i\n",
    "end\n",
    "    \n"
   ]
  },
  {
   "cell_type": "markdown",
   "id": "b9abaa71-d425-4f27-8b88-38a4d9f0ba16",
   "metadata": {},
   "source": [
    "## pseudo len()"
   ]
  },
  {
   "cell_type": "code",
   "execution_count": null,
   "id": "52c1cde6-6b08-4da0-8593-90360ffa70c3",
   "metadata": {},
   "outputs": [],
   "source": [
    "#aa"
   ]
  },
  {
   "cell_type": "markdown",
   "id": "3423c449-c82c-42a2-87e0-4bfed939b1b0",
   "metadata": {},
   "source": [
    "## standard functions"
   ]
  },
  {
   "cell_type": "code",
   "execution_count": 2,
   "id": "82495104-dae5-43a8-bddd-2df8b496a28d",
   "metadata": {},
   "outputs": [],
   "source": [
    "function fac(n)\n",
    "   if (n == 0) then\n",
    "        return 1\n",
    "    else\n",
    "        return n * fac(n-1)\n",
    "    end\n",
    "end"
   ]
  },
  {
   "cell_type": "code",
   "execution_count": 282,
   "id": "63b61cd2-92e6-4e1c-8911-3d6d8fad52f5",
   "metadata": {},
   "outputs": [
    {
     "data": {
      "text/plain": [
       "720"
      ]
     },
     "execution_count": 282,
     "metadata": {},
     "output_type": "execute_result"
    }
   ],
   "source": [
    "fac(6)"
   ]
  },
  {
   "cell_type": "code",
   "execution_count": 276,
   "id": "9ffbc3c6-73f0-4eb9-888c-43f3cba00b6a",
   "metadata": {},
   "outputs": [],
   "source": [
    "function n2b(n,b) \n",
    "    local tt = {}\n",
    "    local i = 1\n",
    "    while n > 0 do\n",
    "        tt[i] = n % b\n",
    "        n = (n - n % b) / b \n",
    "        i = i + 1\n",
    "    end\n",
    "    return tt\n",
    "end\n",
    "        "
   ]
  },
  {
   "cell_type": "code",
   "execution_count": 281,
   "id": "d2233fc9-fa86-4773-8951-9f4495eb9b47",
   "metadata": {},
   "outputs": [
    {
     "data": {
      "text/plain": [
       "{ 1, 1.0, 1.0, 1.0 }"
      ]
     },
     "execution_count": 281,
     "metadata": {},
     "output_type": "execute_result"
    }
   ],
   "source": [
    "n2b(15, 2)"
   ]
  },
  {
   "cell_type": "markdown",
   "id": "24280a35-cbed-4650-b5ab-7fef9db50d90",
   "metadata": {},
   "source": [
    "this was funny had to use b == 0. and not just 0\n",
    "\n",
    "it's not good not having an integer type :("
   ]
  },
  {
   "cell_type": "code",
   "execution_count": 173,
   "id": "1de51e05-b1f4-4291-b8a9-b995d2b22a32",
   "metadata": {},
   "outputs": [],
   "source": [
    "function gcd(a,b)\n",
    "    if b == 0. then\n",
    "        return a\n",
    "    else\n",
    "        return gcd(b, a % b)\n",
    "    end\n",
    "end"
   ]
  },
  {
   "cell_type": "code",
   "execution_count": 181,
   "id": "4a8bb000-800b-48a3-bf7b-3ffc9bec2ffb",
   "metadata": {},
   "outputs": [],
   "source": [
    "ss = {{0,1}, {1,1}}"
   ]
  },
  {
   "cell_type": "code",
   "execution_count": 186,
   "id": "b7efc94a-7ac8-4ead-8869-87438b0415c5",
   "metadata": {},
   "outputs": [
    {
     "name": "stdout",
     "output_type": "stream",
     "text": [
      "table: 0x55d926ed66d0\n",
      "table: 0x55d926ed6710\n"
     ]
    }
   ],
   "source": [
    "for i= 1, #ss, 1 do\n",
    "    print(ss[i])\n",
    "end"
   ]
  },
  {
   "cell_type": "markdown",
   "id": "f072655e-2c5e-4b44-a4f7-c5f9284aac05",
   "metadata": {},
   "source": [
    "---\n",
    "\n",
    "here's another pattern"
   ]
  },
  {
   "cell_type": "code",
   "execution_count": 187,
   "id": "35d9a9e5-c87a-4ba4-944f-7f1832b719b8",
   "metadata": {},
   "outputs": [
    {
     "name": "stdout",
     "output_type": "stream",
     "text": [
      "1\ttable: 0x55d926ed66d0\n",
      "2\ttable: 0x55d926ed6710\n"
     ]
    }
   ],
   "source": [
    "for k,v  in next, ss do\n",
    "    print(k,v)\n",
    "end"
   ]
  },
  {
   "cell_type": "markdown",
   "id": "e5b71c9a-3590-45de-a154-30c59305c7d8",
   "metadata": {},
   "source": [
    "---\n",
    "\n",
    "# Farey addition\n",
    "\n",
    "it's dumb that a table doesn't have it's own insert method"
   ]
  },
  {
   "cell_type": "code",
   "execution_count": 337,
   "id": "cb2c226f-9192-42ad-bcc9-cf128ab41bef",
   "metadata": {},
   "outputs": [],
   "source": [
    "ss = {{0,1}, {1,1}}"
   ]
  },
  {
   "cell_type": "code",
   "execution_count": 315,
   "id": "7b1ee0a7-4002-4fe7-bbda-fd9348ded2e7",
   "metadata": {},
   "outputs": [],
   "source": [
    "tmp = {ss[1]}"
   ]
  },
  {
   "cell_type": "code",
   "execution_count": 344,
   "id": "1e51b283-3ce0-4f69-8eba-d20c83370c4b",
   "metadata": {},
   "outputs": [],
   "source": [
    "for i= 1, #ss - 1, 1 do\n",
    "    x = ss[i][1] +  ss[i+1][1]\n",
    "    y = ss[i][2] +  ss[i+1][2]\n",
    "    table.insert(tmp, {x,y} )\n",
    "    table.insert(tmp, ss[i+1] )\n",
    "\n",
    "end\n",
    "\n",
    "ss = tmp\n",
    "tmp = {ss[1]}"
   ]
  },
  {
   "cell_type": "code",
   "execution_count": 345,
   "id": "d7acabe1-e26c-4bff-a89f-5108a6025d48",
   "metadata": {},
   "outputs": [
    {
     "data": {
      "text/plain": [
       "{ { 0, 1 }, { 1, 5 }, { 1, 4 }, { 2, 7 }, { 1, 3 }, { 3, 8 }, { 2, 5 }, { 3, 7 }, { 1, 2 }, { 4, 7 }, { 3, 5 }, { 5, 8 }, { 2, 3 }, { 5, 7 }, { 3, 4 }, { 4, 5 }, { 1, 1 } }"
      ]
     },
     "execution_count": 345,
     "metadata": {},
     "output_type": "execute_result"
    }
   ],
   "source": [
    "ss"
   ]
  },
  {
   "cell_type": "code",
   "execution_count": 334,
   "id": "61dd21f3-f383-45d7-b9e5-da0d71a00436",
   "metadata": {},
   "outputs": [],
   "source": [
    "for i= 1, #ss - 1, 1 do\n",
    "    x = ss[i][1] +  ss[i+1][1]\n",
    "    y = ss[i][2] +  ss[i+1][2]\n",
    "    local nn = #tmp + 1\n",
    "    tmp[nn] = {x,y} \n",
    "    tmp[nn+1] =  ss[i+1] \n",
    "\n",
    "end\n",
    "\n",
    "ss = tmp\n",
    "tmp = {ss[1]}"
   ]
  },
  {
   "cell_type": "markdown",
   "id": "47bac7b7-2fbc-471a-b927-79cb6ee7b3bf",
   "metadata": {},
   "source": [
    "----\n",
    "\n",
    "## more thought\n",
    "\n",
    "but maybe better \n",
    "avoid calls to #\n"
   ]
  },
  {
   "cell_type": "code",
   "execution_count": 342,
   "id": "6ef3ff57-987e-412f-b767-963aabfcfd69",
   "metadata": {},
   "outputs": [],
   "source": [
    "for i = 1, #ss - 1, 1 do\n",
    "    x = ss[i][1] +  ss[i+1][1]\n",
    "    y = ss[i][2] +  ss[i+1][2]\n",
    "    tmp[2*i] = {x,y} \n",
    "    tmp[2*i+1] =  ss[i+1] \n",
    "\n",
    "end\n",
    "\n",
    "ss = tmp\n",
    "tmp = {ss[1]}"
   ]
  },
  {
   "cell_type": "code",
   "execution_count": 343,
   "id": "b9823e7a-c138-4d44-a413-0020a9eb86f7",
   "metadata": {},
   "outputs": [
    {
     "data": {
      "text/plain": [
       "{ { 0, 1 }, { 1, 4 }, { 1, 3 }, { 2, 5 }, { 1, 2 }, { 3, 5 }, { 2, 3 }, { 3, 4 }, { 1, 1 } }"
      ]
     },
     "execution_count": 343,
     "metadata": {},
     "output_type": "execute_result"
    }
   ],
   "source": [
    "ss"
   ]
  },
  {
   "cell_type": "markdown",
   "id": "7fe328fa-bca6-4cdd-b0d7-1a882c9e4393",
   "metadata": {},
   "source": [
    "---\n",
    "# kind of cute\n",
    "\n",
    "but if you know how objects really work in **Python** then it's a piece of cake"
   ]
  },
  {
   "cell_type": "code",
   "execution_count": 346,
   "id": "39a0be48-7fd4-48b5-b3db-fa10a8f640cb",
   "metadata": {},
   "outputs": [],
   "source": [
    "fib = {1,1}\n",
    "\n",
    "function fib.add()\n",
    "    local n = #fib\n",
    "    fib[n+1] = fib[n] + fib[n-1]\n",
    "end\n",
    "    "
   ]
  },
  {
   "cell_type": "code",
   "execution_count": 351,
   "id": "4c8ca05f-66a9-473e-a0f7-f578484243f2",
   "metadata": {},
   "outputs": [],
   "source": [
    "fib:add()"
   ]
  },
  {
   "cell_type": "code",
   "execution_count": 352,
   "id": "b73ab938-4b49-494c-8419-cec748993d3b",
   "metadata": {},
   "outputs": [
    {
     "data": {
      "text/plain": [
       "{ 1, 1, 2, 3, 5,add = <function 1>}"
      ]
     },
     "execution_count": 352,
     "metadata": {},
     "output_type": "execute_result"
    }
   ],
   "source": [
    "fib"
   ]
  },
  {
   "cell_type": "markdown",
   "id": "c5ffea11-6ceb-4e01-813f-8502f6f3626e",
   "metadata": {},
   "source": [
    "---\n",
    "\n",
    "# sorting and stuff"
   ]
  },
  {
   "cell_type": "code",
   "execution_count": null,
   "id": "cdf49fc9-21f6-4eb9-8f7f-1928ce1f0d9a",
   "metadata": {},
   "outputs": [],
   "source": []
  },
  {
   "cell_type": "code",
   "execution_count": null,
   "id": "e424feea-5adb-43c1-9864-0c1f600af172",
   "metadata": {},
   "outputs": [],
   "source": []
  },
  {
   "cell_type": "code",
   "execution_count": 58,
   "id": "5bdd456f-625a-46ae-a5d1-9551fa66ce0c",
   "metadata": {},
   "outputs": [],
   "source": [
    "for i=1,10 do a[i] = i end"
   ]
  },
  {
   "cell_type": "code",
   "execution_count": 59,
   "id": "d41ecf72-ddf3-42fe-bbbd-3f8d2420655f",
   "metadata": {},
   "outputs": [],
   "source": [
    "a[1] = {1,2}"
   ]
  },
  {
   "cell_type": "code",
   "execution_count": 41,
   "id": "0d595797-56fa-47de-bf8b-e5b7144d4e29",
   "metadata": {},
   "outputs": [],
   "source": [
    "a[3] = {1,2,3}"
   ]
  },
  {
   "cell_type": "code",
   "execution_count": 44,
   "id": "edaa0372-2ee2-4a25-ba39-c70188f2fd53",
   "metadata": {},
   "outputs": [],
   "source": [
    "a[2] = {5,6,7}"
   ]
  },
  {
   "cell_type": "code",
   "execution_count": 45,
   "id": "d161b115-fa99-4736-8340-2d3486474a0a",
   "metadata": {},
   "outputs": [
    {
     "data": {
      "text/plain": [
       "{ 1, { 5, 6, 7 }, { 1, 2, 3 }, 4, 5, 6, 7, 8, 9, 10,[0] = { 1, 2 }}"
      ]
     },
     "execution_count": 45,
     "metadata": {},
     "output_type": "execute_result"
    }
   ],
   "source": [
    "a"
   ]
  },
  {
   "cell_type": "code",
   "execution_count": 60,
   "id": "a31254cd-580f-40a8-a6b8-e3e53e968d46",
   "metadata": {},
   "outputs": [
    {
     "name": "stdout",
     "output_type": "stream",
     "text": [
      "1\ttable: 0x55d926f7cc00\n",
      "2\t2\n",
      "3\t3\n",
      "4\t4\n",
      "5\t5\n",
      "6\t6\n",
      "7\t7\n",
      "8\t8\n",
      "9\t9\n",
      "10\t10\n"
     ]
    }
   ],
   "source": [
    "for i, v in ipairs(a) do print(i, v) end"
   ]
  },
  {
   "cell_type": "code",
   "execution_count": 61,
   "id": "1dad8543-e223-4d27-96f1-e24b7d617eb4",
   "metadata": {},
   "outputs": [
    {
     "name": "stdout",
     "output_type": "stream",
     "text": [
      "2\t2\n",
      "4\t4\n",
      "6\t6\n",
      "8\t8\n",
      "10\t10\n"
     ]
    }
   ],
   "source": [
    "for i, v in ipairs(a) do \n",
    "    if  i % 2 ==0 then\n",
    "        print(i, v) \n",
    "        end\n",
    "end"
   ]
  },
  {
   "cell_type": "code",
   "execution_count": 62,
   "id": "75f2224f-41b2-4e42-b381-4a6680a4d28d",
   "metadata": {},
   "outputs": [
    {
     "ename": "n/a",
     "evalue": "(ilua):2: 'for' limit must be a number",
     "execution_count": 62,
     "output_type": "error",
     "traceback": [
      "(ilua):2: 'for' limit must be a number",
      "stack traceback:",
      "\t(ilua):2: in main chunk",
      "\t[C]: in function 'xpcall'",
      "\t/home/macbuse/ilua/ilua/interp.lua:65: in local 'handle_execute'",
      "\t/home/macbuse/ilua/ilua/interp.lua:162: in main chunk",
      "\t[C]: in ?"
     ]
    }
   ],
   "source": [
    "local found = nil\n",
    "for i=1,a.n do\n",
    "  if a[i] == value then\n",
    "    found = i      -- save value of `i'\n",
    "    break\n",
    "  end\n",
    "end\n",
    "print(found)"
   ]
  },
  {
   "cell_type": "code",
   "execution_count": 76,
   "id": "0f6f79e5-9604-4070-8189-8cddd7cc2dc7",
   "metadata": {},
   "outputs": [
    {
     "data": {
      "text/plain": [
       "\"xtttt\""
      ]
     },
     "execution_count": 76,
     "metadata": {},
     "output_type": "execute_result"
    }
   ],
   "source": [
    "\"x\" .. \"tttt\""
   ]
  },
  {
   "cell_type": "code",
   "execution_count": 82,
   "id": "4cb49877-c811-4767-a875-da0daf8e8a1c",
   "metadata": {},
   "outputs": [
    {
     "data": {
      "text/plain": [
       "\"jyl\""
      ]
     },
     "execution_count": 82,
     "metadata": {},
     "output_type": "execute_result"
    }
   ],
   "source": [
    "string.sub(\"xjyl\",2,4)"
   ]
  },
  {
   "cell_type": "code",
   "execution_count": 79,
   "id": "b4fe0091-bfee-4b5c-af79-24e487dfd73b",
   "metadata": {},
   "outputs": [
    {
     "data": {
      "text/plain": [
       "{byte = <function 1>,char = <function 2>,dump = <function 3>,find = <function 4>,format = <function 5>,gmatch = <function 6>,gsub = <function 7>,len = <function 8>,lower = <function 9>,match = <function 10>,pack = <function 11>,packsize = <function 12>,rep = <function 13>,reverse = <function 14>,sub = <function 15>,unpack = <function 16>,upper = <function 17>}"
      ]
     },
     "execution_count": 79,
     "metadata": {},
     "output_type": "execute_result"
    }
   ],
   "source": [
    "require \"string\""
   ]
  },
  {
   "cell_type": "markdown",
   "id": "6c7d2422-c2e4-4c85-bd97-b82d8712c967",
   "metadata": {},
   "source": [
    "---\n",
    "# blocks and scope"
   ]
  },
  {
   "cell_type": "code",
   "execution_count": 85,
   "id": "afbdff19-a30b-419e-93a4-ed74f2713df1",
   "metadata": {},
   "outputs": [
    {
     "name": "stdout",
     "output_type": "stream",
     "text": [
      "nil\n"
     ]
    }
   ],
   "source": [
    "do \n",
    "    local x = 5\n",
    "    x = x*x\n",
    "end\n",
    "print(x)"
   ]
  },
  {
   "cell_type": "code",
   "execution_count": 355,
   "id": "7699cbcd-5089-43d8-8ae3-c7247629bec6",
   "metadata": {},
   "outputs": [],
   "source": [
    "aa = {}\n",
    "for i = 1,10 do\n",
    "    aa[i] = math.cos(i)\n",
    "end"
   ]
  },
  {
   "cell_type": "code",
   "execution_count": 356,
   "id": "a6ae9210-cd77-40c4-b632-b69e5c30d555",
   "metadata": {},
   "outputs": [],
   "source": [
    "sum = 0\n",
    "for i = 1, 10 do\n",
    "    sum = sum + aa[i]\n",
    "end"
   ]
  },
  {
   "cell_type": "code",
   "execution_count": 357,
   "id": "33155aad-f7ae-48dc-a198-de4cf7cb4693",
   "metadata": {},
   "outputs": [
    {
     "data": {
      "text/plain": [
       "2.0091581139329"
      ]
     },
     "execution_count": 357,
     "metadata": {},
     "output_type": "execute_result"
    }
   ],
   "source": [
    "sum^2"
   ]
  },
  {
   "cell_type": "code",
   "execution_count": 372,
   "id": "543c8e28-97b4-47d5-8584-23b1d8e8c905",
   "metadata": {},
   "outputs": [],
   "source": [
    "function pp(a)\n",
    "    -- what\n",
    "    local x = a\n",
    "    for i = 1, 10,1 do\n",
    "        x = (x + a/x) / 2\n",
    "    end\n",
    "    return x\n",
    "end\n"
   ]
  },
  {
   "cell_type": "code",
   "execution_count": 373,
   "id": "750b9bb7-9adf-4f77-b19e-4ec48b3e382b",
   "metadata": {},
   "outputs": [
    {
     "data": {
      "text/plain": [
       "0.0"
      ]
     },
     "execution_count": 373,
     "metadata": {},
     "output_type": "execute_result"
    }
   ],
   "source": [
    "pp(6) - pp(2) * pp(3)\n",
    "\n"
   ]
  },
  {
   "cell_type": "markdown",
   "id": "95b750b6-915c-4ae0-bc9a-7e3df764fb3f",
   "metadata": {},
   "source": [
    "# this is a cunt\n",
    "\n",
    "fp must be some kind of object"
   ]
  },
  {
   "cell_type": "code",
   "execution_count": 358,
   "id": "a3fb7f8f-c2ce-4a80-8637-2278a945b9b1",
   "metadata": {},
   "outputs": [],
   "source": [
    "require \"io\"\n",
    "\n",
    "fp = io.open(\"tmp.txt\",\"rb\")\n",
    "ss = fp:read(\"*all\")"
   ]
  },
  {
   "cell_type": "markdown",
   "id": "bb31ebdb-a86d-44b2-bce5-f02c9776f8c3",
   "metadata": {},
   "source": [
    "# no split function"
   ]
  },
  {
   "cell_type": "code",
   "execution_count": 359,
   "id": "08689fc3-2821-4cd1-bd61-4fac4438096f",
   "metadata": {},
   "outputs": [],
   "source": [
    "tt = {}\n",
    "for i in ss:gmatch(\"%S+\") do\n",
    "    if string.len(i) > 3 then\n",
    "       table.insert(tt,string.lower(i))\n",
    "    end  \n",
    "end"
   ]
  },
  {
   "cell_type": "markdown",
   "id": "0ee702ec-2c12-4486-bbc4-e7821b5eac60",
   "metadata": {},
   "source": [
    "funny again"
   ]
  },
  {
   "cell_type": "code",
   "execution_count": 363,
   "id": "5b81da85-55c1-436a-a7b9-24f2bbb0a5ea",
   "metadata": {},
   "outputs": [],
   "source": [
    "s=\"123456789\"\n",
    "res={}\n",
    "for num in s:gmatch('.') do\n",
    "    res[#res+1] = tonumber(num)\n",
    "end\n"
   ]
  },
  {
   "cell_type": "code",
   "execution_count": 453,
   "id": "699bacc5-ea5d-4e43-8e4b-e966500fb064",
   "metadata": {},
   "outputs": [
    {
     "name": "stdout",
     "output_type": "stream",
     "text": [
      "table: 0x55d926fd8460\n"
     ]
    }
   ],
   "source": [
    "s=\"I,am lost\"\n",
    "res={}\n",
    "for num in s:gmatch('%w') do\n",
    "    res[#res+1] = num\n",
    "end\n",
    "print(res)"
   ]
  },
  {
   "cell_type": "code",
   "execution_count": 364,
   "id": "a3e7f81d-6a84-44f4-9746-25bb619cd7fc",
   "metadata": {},
   "outputs": [
    {
     "data": {
      "text/plain": [
       "{ 1, 2, 3, 4, 5, 6, 7, 8, 9 }"
      ]
     },
     "execution_count": 364,
     "metadata": {},
     "output_type": "execute_result"
    }
   ],
   "source": [
    "res"
   ]
  },
  {
   "cell_type": "code",
   "execution_count": 300,
   "id": "3cb24701-1216-4719-a3e0-dc4bda935c26",
   "metadata": {},
   "outputs": [],
   "source": [
    "function lines_from(file)\n",
    "  local lines = {}\n",
    "  for line in io.lines(file) do \n",
    "    lines[#lines + 1] = line\n",
    "  end\n",
    "  return lines\n",
    "end"
   ]
  },
  {
   "cell_type": "code",
   "execution_count": null,
   "id": "a2d84485-ce9e-4e63-b5b0-e2fecd4e4fea",
   "metadata": {},
   "outputs": [],
   "source": []
  },
  {
   "cell_type": "code",
   "execution_count": 301,
   "id": "c5cfa5c8-5cb6-46bf-b904-9872f532efe1",
   "metadata": {},
   "outputs": [
    {
     "data": {
      "text/plain": [
       "{ \"\", \"SECTIONS\", \"SEARCH\", \"SKIP TO CONTENTSKIP TO SITE INDEX\", \"SUBSCRIBE FOR €0.50/WEEK\", \"\", \"Account\", \"SUBSCRIBER-ONLY NEWSLETTER\", \"\", \"John McWhorter\", \"OPINION\", \"‘Woman’ and ‘Female’ Didn’t Start as Words About Men\", \"July 1, 2022\", \"\", \"Credit...Delcan and Co.\", \"\", \"Give this article\", \"\", \"\", \"John McWhorter\", \"By John McWhorter\", \"\", \"Opinion Writer\", \"\", \"You're reading the John McWhorter newsletter, for Times subscribers only.  A Columbia University linguist explores how race and language shape our politics and culture. Get it with a Times subscription.\", \"English words referring to or meaning “woman” have interesting histories. In the current political moment, I thought I might share some of them. Each can help us think about ways we may perceive the humanity around us.\", \"\", \"The word “woman” did not begin as a reference to a “wo-” kind of man or male\", \"person. In Old English, at first, a male was a “wer,” which is why a mythical\", \"man who can transform into a wolf is called a werewolf. A female was a “wif,”\", \"and though that word looks and sounds like “wife,” it didn’t refer exclusively\", \"to a woman’s marital status — holding on in terms such as “midwife” and\", \"“fishwife.”\", \"\", \"Give this article\", \"\", \"\", \"John McWhorter\", \"A Columbia University linguist explores how race and language shape our politics and culture. Sign up for John McWhorter's newsletter, for Times subscribers only.\", \"\", \"Read These Books About the Black Experience: One Old, One New, One Coming Soon\", \"June 28\", \"\", \"Sometimes ‘Proper’ Speech Isn’t Correct Speech\", \"June 28\", \"\", \"Republicans Want to ‘Harden’ Schools. That’s an Awful Euphemism.\", \"June 14\", \"More in Opinion\", \"\", \"Brooke DiDonato/Agence VU/Re​dux\", \"Pamela Paul\", \"The Far Right and Far Left Agree on One Thing: Women Don’t Count\", \"5h ago\", \"\", \"J. Scott Applewhite/Associated Press\", \"David Brooks\", \"Why on Earth Is Pelosi Supporting the Trumpists?\", \"July 1\", \"Continue reading the main story\", \"\", \"Erin Schaff/The New York Times\", \"Bonnie Kristian\", \"The End of Roe, the End of Trump\", \"July 1\", \"\", \"Mark Peterson for The New York Times\", \"Paul Krugman\", \"Crazies, Cowards and the Trump Coup\", \"June 30\", \"\", \"Jose Luis Magana/Associated Press\", \"Elizabeth Spiers\", \"The Persistent Myth That Restricting Abortion Rights Won’t Affect the Rich\", \"5h ago\", \"Editors’ Picks\", \"Solveig Gold at her home in Princeton, N.J.\", \"Bryan Anselm for The New York Times\", \"Solveig Gold Is Proud to Be the Wife of a ‘Canceled’ Princeton Professor\", \"July 1\", \"\", \"The Myth of North America, in One Painting\", \"Jan. 31\", \"A worker for a mining company in the Yukon made an important discovery while digging in the permafrost: the remarkably well-preserved body of a baby woolly mammoth.\", \"Treadstone Equipment\", \"Searching for Gold, Miners Discover a Frozen Baby Mammoth\", \"2h ago\", \"Most Popular\", \"A Clunky Mask May be the Answer to Airborne Disease and N95 Waste\", \"In Northern Ireland, Old Passions Are Smoldering Anew\", \"A Mother and Her 3 Children Are Found Dead in a Minnesota Lake\", \"Father Figure: The Tortured Life of George Michael\", \"How Delta-8 THC Works — and Why Experts Are Worried About It\", \"Opinion: Liars, Losers and the Lessons of ‘Antiques Roadshow’\", \"How Common Is Pancreatitis After a Colonoscopy?\", \"Seth Meyers Calls Out Fox News Hosts for Falling Speechless\", \"Workers at Airports Have Had It\", \"My Sister Did Me Wrong in Secret. Should I Tell Her I Know?\", \"Subscribe to The Times to read as many articles as you like.\", \"nytimes.com/subscription\", \"Site Index\", \"Site Information Navigation\", \"© 2022 The New York Times Company\", \"NYTCoContact UsAccessibilityWork with usAdvertiseT Brand StudioYour Ad ChoicesPrivacy PolicyTerms of ServiceTerms of SaleSite MapHelpSubscriptions\", \"You’ve reached your limit of free articles.\", \"This content is reserved exclusively for Times subscribers.\", \"Special offer:\", \"\", \"Get unlimited access for €0.50 a week.\", \"\", \"€2.00 €0.50/week\", \"\", \"Billed as €8.00 €2.00 every 4 weeks for one year\", \"\", \"SUBSCRIBE NOW\", \"\", \"You can cancel anytime.\", \"\", \"Offer for a Basic Digital Access subscription is not open to current digital news subscribers. Your payment method will automatically be charged in advance the introductory offer rate every 4 weeks for 1 year, and after 1 year the standard rate every 4 weeks. Your subscription will continue until you cancel. Cancellation takes effect at the end of your current billing period. The print edition of The New York Times, Games, Cooking or Wirecutter are not included. Taxes may apply. Offer terms are subject to change.\", \"\", \"© 2022 The New York Times Company HelpFeedback\" }"
      ]
     },
     "execution_count": 301,
     "metadata": {},
     "output_type": "execute_result"
    }
   ],
   "source": [
    "lines_from(\"tmp.txt\")"
   ]
  },
  {
   "cell_type": "code",
   "execution_count": 383,
   "id": "dd5c02bf-d197-4c29-bb30-4c69296a2786",
   "metadata": {},
   "outputs": [],
   "source": [
    "a = {}\n",
    "for i = 1,10,1 do\n",
    "    a[i] = 10 - 2*i\n",
    "end\n",
    "\n",
    "function a.circ(i)\n",
    "    return a[3 + i % 10 + 1]\n",
    "end"
   ]
  },
  {
   "cell_type": "code",
   "execution_count": 385,
   "id": "c6cdbb14-6ab0-4d32-8d8b-2eac92d575a1",
   "metadata": {},
   "outputs": [
    {
     "data": {
      "text/plain": [
       "{ 8, 6, 4, 2, 0, -2, -4, -6, -8, -10,circ = <function 1>}"
      ]
     },
     "execution_count": 385,
     "metadata": {},
     "output_type": "execute_result"
    }
   ],
   "source": [
    "a"
   ]
  },
  {
   "cell_type": "code",
   "execution_count": 389,
   "id": "05b05be6-e6ff-4003-af98-d7fd7d801b0f",
   "metadata": {},
   "outputs": [
    {
     "data": {
      "text/plain": [
       "-4"
      ]
     },
     "execution_count": 389,
     "metadata": {},
     "output_type": "execute_result"
    }
   ],
   "source": [
    "a.circ(3)"
   ]
  },
  {
   "cell_type": "code",
   "execution_count": 433,
   "id": "12f4b6b4-25ea-40a2-ad50-910fbd7d6a21",
   "metadata": {},
   "outputs": [],
   "source": [
    "function a:cc(i)\n",
    "    return self[i]\n",
    "end"
   ]
  },
  {
   "cell_type": "code",
   "execution_count": 434,
   "id": "f3b2024d-2e65-4de6-839c-32960808cfde",
   "metadata": {},
   "outputs": [
    {
     "name": "stdout",
     "output_type": "stream",
     "text": [
      "-10\n"
     ]
    }
   ],
   "source": [
    "\n",
    "do\n",
    "    local sum=0\n",
    "    for k= 1, #a,1 do\n",
    "        sum = sum + a:cc(k)\n",
    "    end\n",
    "    -- can't get this out of block ??\n",
    "    print(sum)\n",
    "end"
   ]
  },
  {
   "cell_type": "code",
   "execution_count": 435,
   "id": "d540d529-679f-4a30-9b41-469eb1e2b69f",
   "metadata": {},
   "outputs": [
    {
     "ename": "n/a",
     "evalue": "(ilua):1: function arguments expected near '5'",
     "execution_count": 435,
     "output_type": "error",
     "traceback": [
      "(ilua):1: function arguments expected near '5'"
     ]
    }
   ],
   "source": [
    "{}"
   ]
  },
  {
   "cell_type": "code",
   "execution_count": 448,
   "id": "4b1acc45-f2d8-4bea-b9f8-35a57700a6a5",
   "metadata": {},
   "outputs": [],
   "source": [
    "s=\"I,am lost\"\n",
    "res={}\n",
    "for num in s:gmatch('%w') do\n",
    "    res[#res+1] = num\n",
    "end"
   ]
  },
  {
   "cell_type": "code",
   "execution_count": 494,
   "id": "4b407841-22d7-46c0-b7ba-8a08ad4e2638",
   "metadata": {},
   "outputs": [
    {
     "name": "stdout",
     "output_type": "stream",
     "text": [
      "012\n",
      "345\n",
      "678\n",
      "9\n"
     ]
    }
   ],
   "source": [
    "str = \"0123456789\" \n",
    "for i=1, #str, 3 do\n",
    "    print(str:sub(i, i + 2))\n",
    "end"
   ]
  },
  {
   "cell_type": "code",
   "execution_count": 468,
   "id": "e9f06597-0850-4e2e-b472-e09adf133e32",
   "metadata": {},
   "outputs": [
    {
     "data": {
      "text/plain": [
       "\"012\""
      ]
     },
     "execution_count": 468,
     "metadata": {},
     "output_type": "execute_result"
    }
   ],
   "source": [
    "str:sub(1, sz)"
   ]
  },
  {
   "cell_type": "code",
   "execution_count": 492,
   "id": "836cc073-383d-476b-93ba-7edf35bdaf1d",
   "metadata": {},
   "outputs": [],
   "source": [
    "x = 100\n",
    "\n",
    "function collatz(x)\n",
    "    local a = {x}\n",
    "    while x > 1 do\n",
    "        if  x % 2 == 0 then\n",
    "            x = math.floor(x / 2)\n",
    "        else\n",
    "            x = 3*x + 1\n",
    "        end\n",
    "        table.insert(a,x)\n",
    "    end\n",
    "    return a\n",
    "end\n",
    "\n"
   ]
  },
  {
   "cell_type": "code",
   "execution_count": 497,
   "id": "52ab6cce-58b6-4277-bdc6-d049831df125",
   "metadata": {},
   "outputs": [
    {
     "data": {
      "text/plain": [
       "{ 331, 994, 497, 1492, 746, 373, 1120, 560, 280, 140, 70, 35, 106, 53, 160, 80, 40, 20, 10, 5, 16, 8, 4, 2, 1 }"
      ]
     },
     "execution_count": 497,
     "metadata": {},
     "output_type": "execute_result"
    }
   ],
   "source": [
    "collatz(331)"
   ]
  },
  {
   "cell_type": "code",
   "execution_count": null,
   "id": "4590b7ff-d90a-46e0-8019-46a6840623f2",
   "metadata": {},
   "outputs": [],
   "source": []
  }
 ],
 "metadata": {
  "kernelspec": {
   "display_name": "Lua",
   "language": "lua",
   "name": "lua"
  },
  "language_info": {
   "file_extension": ".lua",
   "mimetype": "text/x-lua",
   "name": "lua",
   "version": "5.3"
  },
  "widgets": {
   "application/vnd.jupyter.widget-state+json": {
    "state": {},
    "version_major": 2,
    "version_minor": 0
   }
  }
 },
 "nbformat": 4,
 "nbformat_minor": 5
}
