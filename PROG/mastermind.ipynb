{
 "cells": [
  {
   "cell_type": "markdown",
   "metadata": {},
   "source": [
    "[chess boards](https://reader.elsevier.com/reader/sd/pii/S0012365X07010394?token=4DD81599315BC7BF6F945BD96C06CF56A15816BD8C3C912761E944093CB24841C8FF17A14D5B94ABE801C47F3586C79E&originRegion=eu-west-1&originCreation=20211018125055)"
   ]
  },
  {
   "cell_type": "markdown",
   "metadata": {},
   "source": [
    "# Mastermind\n",
    "\n",
    "The game is played using:\n",
    "\n",
    "- a decoding board, with a shield at one end covering a row of four large holes, and twelve (or ten, or eight, or six) additional rows containing four large holes next to a set of four small holes;\n",
    "- code pegs of six different colors (or more; see Variations below), with round heads, which will be placed in the large holes on the board; and\n",
    "- key pegs, some colored black, some white, which are flat-headed and smaller than the code pegs; they will be placed in the small holes on the board.\n",
    "\n",
    "## Knuth\n",
    "\n",
    "[stack discussion ](https://stackoverflow.com/questions/53826287/donald-knuth-algorithm-for-mastermind-can-we-do-better)\n",
    "\n",
    "- His original algorithm gave 5801 (average of 5801/1296 ≈ 4.47608), and the minor improvement gives 5800 (≈ 4.4753).\n",
    "\n",
    "- Robert W. Irving, “Towards an optimum Mastermind strategy,” Journal of Recreational Mathematics 11 (1978), 81-87 [while staying within the “at most 5” achieves 5664 ⇒ ≈4.37]\n",
    "\n",
    "- E. Neuwirth, “Some strategies for Mastermind,” Zeitschrift fur Operations Research 26 (1982), B257-B278 [achieves 5658 ⇒ ≈4.3657]\n",
    "\n",
    "-Kenji Koyama and Tony W. Lai, “An optimal Mastermind strategy,” Journal of Recreational Mathematics 25 (1993), 251-256 [achieves 5626 ⇒ ≈4.34104938]\n",
    "\n",
    "\n",
    "\n",
    "[paper](https://www.cs.uni.edu/~wallingf/teaching/cs3530/resources/knuth-mastermind.pdf)"
   ]
  },
  {
   "cell_type": "markdown",
   "metadata": {},
   "source": [
    "https://www.dcode.fr/mastermind-solver"
   ]
  },
  {
   "cell_type": "code",
   "execution_count": 12,
   "metadata": {},
   "outputs": [],
   "source": [
    "import numpy as np\n",
    "import random"
   ]
  },
  {
   "cell_type": "code",
   "execution_count": 9,
   "metadata": {},
   "outputs": [
    {
     "data": {
      "text/plain": [
       "array([1, 1, 5, 4])"
      ]
     },
     "execution_count": 9,
     "metadata": {},
     "output_type": "execute_result"
    }
   ],
   "source": [
    "np.random.randint(0,high=6,size=4)"
   ]
  },
  {
   "cell_type": "code",
   "execution_count": 8,
   "metadata": {},
   "outputs": [],
   "source": [
    "tt = np.array([0,0,1,1])"
   ]
  },
  {
   "cell_type": "code",
   "execution_count": 77,
   "metadata": {},
   "outputs": [],
   "source": [
    "code = random.sample(list(range(4)),4)\n",
    "guess = [0,0,1,1]"
   ]
  },
  {
   "cell_type": "code",
   "execution_count": 7,
   "metadata": {},
   "outputs": [],
   "source": [
    "def f(x, N=4):  \n",
    "    L = []\n",
    "    for k in range(N):\n",
    "        L.append(x % 6)\n",
    "        x = x // 6\n",
    "    return L"
   ]
  },
  {
   "cell_type": "code",
   "execution_count": 16,
   "metadata": {},
   "outputs": [
    {
     "data": {
      "text/plain": [
       "[5, 5, 5, 5]"
      ]
     },
     "execution_count": 16,
     "metadata": {},
     "output_type": "execute_result"
    }
   ],
   "source": [
    "f(6**4-1)"
   ]
  },
  {
   "cell_type": "markdown",
   "metadata": {},
   "source": [
    "## Evaluate the guess - feedback function\n",
    "\n",
    "The codebreaker tries to guess the pattern, in both order and color, within eight to twelve turns. \n",
    "Each guess is made by placing a row of code pegs on the decoding board. \n",
    "\n",
    "Once placed, the codemaker provides **feedback** by placing from zero to four key pegs in the small holes of the row with the guess. \n",
    "\n",
    "- A colored or black key peg is placed for each code peg from the guess which is correct in both color and position. \n",
    "- A white key peg indicates the existence of a correct color code peg placed in the wrong position.\n"
   ]
  },
  {
   "cell_type": "code",
   "execution_count": 183,
   "metadata": {},
   "outputs": [],
   "source": [
    "def score(code, guess):\n",
    "    # 4 is hardcoded should use len(code)\n",
    "    rest = [(x,y) for x,y in zip(code, guess) if x != y ]\n",
    "    if len(rest) == 0: return 4,0\n",
    "    X,Y = list(zip(* rest))\n",
    "    coloured = 4 - len(X)\n",
    "    white = len(set(X).intersection(set(Y)))\n",
    "    return coloured, white"
   ]
  },
  {
   "cell_type": "code",
   "execution_count": 80,
   "metadata": {},
   "outputs": [
    {
     "data": {
      "text/plain": [
       "(2, 0)"
      ]
     },
     "execution_count": 80,
     "metadata": {},
     "output_type": "execute_result"
    }
   ],
   "source": [
    "my_score = score(code, guess)\n",
    "my_score"
   ]
  },
  {
   "cell_type": "code",
   "execution_count": 3,
   "metadata": {},
   "outputs": [],
   "source": [
    "from itertools import permutations, combinations, chain\n",
    " \n",
    "# Get all permutations of pegs\n",
    "guesses  = permutations(list(range(4)))"
   ]
  },
  {
   "cell_type": "markdown",
   "metadata": {},
   "source": [
    "## Baby version of game\n",
    "\n",
    "- only 4 colors\n",
    "\n",
    "---"
   ]
  },
  {
   "cell_type": "markdown",
   "metadata": {},
   "source": [
    "## Initialize game\n",
    "\n",
    "- choose code\n",
    "- make first guess\n",
    "- list of all possible guesses"
   ]
  },
  {
   "cell_type": "code",
   "execution_count": 192,
   "metadata": {},
   "outputs": [],
   "source": [
    "code = random.sample(list(range(4)),4)\n",
    "guess = [0,0,1,1]\n",
    "guesses  = permutations([0,1, 2, 3])"
   ]
  },
  {
   "cell_type": "code",
   "execution_count": 194,
   "metadata": {},
   "outputs": [
    {
     "data": {
      "text/plain": [
       "[(2, 3, 1, 0), (3, 2, 0, 1)]"
      ]
     },
     "execution_count": 194,
     "metadata": {},
     "output_type": "execute_result"
    }
   ],
   "source": [
    "my_score = score(code, guess)\n",
    "guesses = [ x  for x in guesses if score(x, guess) == my_score]\n",
    "guess = random.choice(guesses)\n",
    "guesses\n"
   ]
  },
  {
   "cell_type": "markdown",
   "metadata": {},
   "source": [
    "# Classic Mastermind \n",
    "\n",
    "This is a game without repeats in the code.\n",
    "\n",
    "## Initialize game\n",
    "\n",
    "- choose code\n",
    "- make first guess\n",
    "- list of all possible guesses\n",
    "\n",
    "Listing all the guesses is a bit more complicated"
   ]
  },
  {
   "cell_type": "code",
   "execution_count": 32,
   "metadata": {},
   "outputs": [
    {
     "ename": "NameError",
     "evalue": "name 'combinations' is not defined",
     "output_type": "error",
     "traceback": [
      "\u001b[0;31m---------------------------------------------------------------------------\u001b[0m",
      "\u001b[0;31mNameError\u001b[0m                                 Traceback (most recent call last)",
      "\u001b[0;32m<ipython-input-32-ae95e174f382>\u001b[0m in \u001b[0;36m<module>\u001b[0;34m\u001b[0m\n\u001b[1;32m      5\u001b[0m \u001b[0mguess\u001b[0m \u001b[0;34m=\u001b[0m \u001b[0;34m[\u001b[0m\u001b[0;36m0\u001b[0m\u001b[0;34m,\u001b[0m\u001b[0;36m0\u001b[0m\u001b[0;34m,\u001b[0m\u001b[0;36m1\u001b[0m\u001b[0;34m,\u001b[0m\u001b[0;36m1\u001b[0m\u001b[0;34m]\u001b[0m\u001b[0;34m\u001b[0m\u001b[0;34m\u001b[0m\u001b[0m\n\u001b[1;32m      6\u001b[0m \u001b[0;34m\u001b[0m\u001b[0m\n\u001b[0;32m----> 7\u001b[0;31m \u001b[0mguesses\u001b[0m \u001b[0;34m=\u001b[0m \u001b[0;34m[\u001b[0m\u001b[0mlist\u001b[0m\u001b[0;34m(\u001b[0m\u001b[0mpermutations\u001b[0m\u001b[0;34m(\u001b[0m\u001b[0mx\u001b[0m\u001b[0;34m)\u001b[0m\u001b[0;34m)\u001b[0m \u001b[0;32mfor\u001b[0m \u001b[0mx\u001b[0m \u001b[0;32min\u001b[0m \u001b[0mcombinations\u001b[0m\u001b[0;34m(\u001b[0m\u001b[0mpegs\u001b[0m\u001b[0;34m,\u001b[0m \u001b[0;36m4\u001b[0m\u001b[0;34m)\u001b[0m\u001b[0;34m]\u001b[0m\u001b[0;34m\u001b[0m\u001b[0;34m\u001b[0m\u001b[0m\n\u001b[0m\u001b[1;32m      8\u001b[0m \u001b[0mguesses\u001b[0m \u001b[0;34m=\u001b[0m \u001b[0mlist\u001b[0m\u001b[0;34m(\u001b[0m\u001b[0mchain\u001b[0m\u001b[0;34m(\u001b[0m\u001b[0;34m*\u001b[0m\u001b[0mguesses\u001b[0m\u001b[0;34m)\u001b[0m\u001b[0;34m)\u001b[0m\u001b[0;34m\u001b[0m\u001b[0;34m\u001b[0m\u001b[0m\n",
      "\u001b[0;31mNameError\u001b[0m: name 'combinations' is not defined"
     ]
    }
   ],
   "source": [
    "pegs = list(range(6))\n",
    "\n",
    "code = random.sample(pegs,4)\n",
    "guess = [0,0,1,1]\n",
    "\n",
    "guesses = [list(permutations(x)) for x in combinations(pegs, 4)]\n",
    "guesses = list(chain(*guesses))"
   ]
  },
  {
   "cell_type": "code",
   "execution_count": 224,
   "metadata": {},
   "outputs": [
    {
     "data": {
      "text/plain": [
       "1"
      ]
     },
     "execution_count": 224,
     "metadata": {},
     "output_type": "execute_result"
    }
   ],
   "source": [
    "my_score = score(code, guess)\n",
    "guesses = [ x  for x in guesses if score(x, guess) == my_score]\n",
    "guess = random.choice(guesses)\n",
    "len(guesses)"
   ]
  },
  {
   "cell_type": "code",
   "execution_count": 13,
   "metadata": {},
   "outputs": [],
   "source": [
    "from copy import deepcopy\n",
    "\n",
    "pegs = list(range(6))\n",
    "\n"
   ]
  },
  {
   "cell_type": "markdown",
   "metadata": {},
   "source": [
    "## couldn't get the jit to work "
   ]
  },
  {
   "cell_type": "code",
   "execution_count": 2,
   "metadata": {},
   "outputs": [],
   "source": [
    "from numba import jit\n",
    "\n",
    "@jit\n",
    "def score(code, guess):\n",
    "    # 4 is hardcoded should use len(code)\n",
    "    rest = [(x,y) for x,y in zip(code, guess) if x != y ]\n",
    "    if len(rest) == 0: return 4,0\n",
    "    X = [x[0] for x in rest]\n",
    "    Y = [x[1] for x in rest]\n",
    "    coloured = 4 - len(X)\n",
    "    white = len(set(X).intersection(set(Y)))\n",
    "    return coloured, white"
   ]
  },
  {
   "cell_type": "markdown",
   "metadata": {},
   "source": [
    "## So here is the whole thing"
   ]
  },
  {
   "cell_type": "code",
   "execution_count": 202,
   "metadata": {},
   "outputs": [],
   "source": [
    "import random \n",
    "\n",
    "pegs = list(range(6))\n",
    "\n",
    "def f(x, N=4):  \n",
    "    L = []\n",
    "    for k in range(N):\n",
    "        L.append(x % 6)\n",
    "        x = x // 6\n",
    "    return L\n",
    "\n",
    "def score(code, guess):\n",
    "    # 4 is hardcoded should use len(code)\n",
    "    rest = [(x,y) for x,y in zip(code, guess) if x != y ]\n",
    "    if len(rest) == 0: \n",
    "        return 4,0\n",
    "    X,Y = list(zip(* rest))\n",
    "    coloured = 4 - len(X)\n",
    "    white = len(set(X).intersection(set(Y)))\n",
    "    # so in the usual version we give back a vector (coloured, white)\n",
    "    # what if we just give the norm of the vector?\n",
    "    # which is the best norm to know ?\n",
    "    return 2*coloured + white\n",
    "    return max(coloured, white)\n",
    "    \n",
    "\n",
    "combs = [f(x) for x in range(0,6**4)]\n",
    "\n",
    "def do_all():\n",
    "    data = []\n",
    "\n",
    "    for x in combs[:]:\n",
    "        guess = [0,0,1,1]\n",
    "        guesses = [ t for t in combs]\n",
    "        for k in range(1,1000):\n",
    "            my_score = score(x, guess)\n",
    "            # I don't know if this speeds things up by using _\n",
    "            guesses = [ _  for _ in guesses if score(_, guess) == my_score]\n",
    "            guess = random.choice(guesses)\n",
    "            if len(guesses) < 2: \n",
    "                data.append((x,k))\n",
    "                break\n",
    "    return data"
   ]
  },
  {
   "cell_type": "code",
   "execution_count": 203,
   "metadata": {},
   "outputs": [],
   "source": [
    "\n",
    "data = do_all()"
   ]
  },
  {
   "cell_type": "markdown",
   "metadata": {},
   "source": [
    "# Conclusion\n",
    "\n",
    "there are only 24x15 possibilities so the game is very easy to solve\n",
    "\n",
    "- on average it takes less than 4 guesses\n",
    "- maybe I have misunderstood the rules :(\n"
   ]
  },
  {
   "cell_type": "code",
   "execution_count": 204,
   "metadata": {},
   "outputs": [
    {
     "data": {
      "text/plain": [
       "4.780092592592593"
      ]
     },
     "execution_count": 204,
     "metadata": {},
     "output_type": "execute_result"
    }
   ],
   "source": [
    "dd, gg = zip(*data )\n",
    "sum(gg)/len(gg)"
   ]
  },
  {
   "cell_type": "code",
   "execution_count": null,
   "metadata": {},
   "outputs": [],
   "source": []
  },
  {
   "cell_type": "code",
   "execution_count": 152,
   "metadata": {},
   "outputs": [],
   "source": [
    "data.sort(key= lambda x: x[1])"
   ]
  },
  {
   "cell_type": "code",
   "execution_count": 153,
   "metadata": {},
   "outputs": [
    {
     "data": {
      "text/plain": [
       "[([5, 2, 0, 0], 13),\n",
       " ([5, 4, 4, 1], 13),\n",
       " ([0, 2, 5, 2], 13),\n",
       " ([3, 0, 1, 3], 13),\n",
       " ([1, 1, 4, 3], 13),\n",
       " ([4, 2, 0, 4], 13),\n",
       " ([0, 5, 1, 4], 13),\n",
       " ([5, 4, 0, 5], 13),\n",
       " ([5, 1, 3, 5], 13),\n",
       " ([2, 4, 1, 4], 16)]"
      ]
     },
     "execution_count": 153,
     "metadata": {},
     "output_type": "execute_result"
    }
   ],
   "source": [
    "data[-10:]"
   ]
  },
  {
   "cell_type": "code",
   "execution_count": null,
   "metadata": {},
   "outputs": [],
   "source": []
  },
  {
   "cell_type": "code",
   "execution_count": 205,
   "metadata": {},
   "outputs": [
    {
     "data": {
      "image/png": "[encoded data removed]",
      "text/plain": [
       "<Figure size 432x288 with 1 Axes>"
      ]
     },
     "metadata": {
      "needs_background": "light"
     },
     "output_type": "display_data"
    }
   ],
   "source": [
    "import matplotlib.pyplot as plt\n",
    "\n",
    "x = data[-20][0]\n",
    "\n",
    "mm = []            \n",
    "\n",
    "for tt in range(5000):\n",
    "    guess = [0,0,1,1]\n",
    "    guesses = [ t for t in combs]\n",
    "    for k in range(1,100):\n",
    "        my_score = score(x, guess)\n",
    "        guesses = [ t  for t in guesses if score(t, guess) == my_score]\n",
    "        guess = random.choice(guesses)\n",
    "        #print(guess)\n",
    "        if len(guesses) < 2: \n",
    "            mm.append(k)\n",
    "            break\n",
    "plt.hist(mm,bins=max(mm)-1);"
   ]
  },
  {
   "cell_type": "code",
   "execution_count": 164,
   "metadata": {},
   "outputs": [],
   "source": [
    "import matplotlib.pyplot as plt"
   ]
  },
  {
   "cell_type": "code",
   "execution_count": 199,
   "metadata": {},
   "outputs": [
    {
     "data": {
      "text/plain": [
       "9405"
      ]
     },
     "execution_count": 199,
     "metadata": {},
     "output_type": "execute_result"
    }
   ],
   "source": [
    "sum(gg)"
   ]
  },
  {
   "cell_type": "code",
   "execution_count": 201,
   "metadata": {},
   "outputs": [
    {
     "data": {
      "text/plain": [
       "[([0, 5, 1, 4], 13),\n",
       " ([5, 4, 0, 5], 13),\n",
       " ([5, 1, 3, 5], 13),\n",
       " ([2, 4, 1, 4], 16)]"
      ]
     },
     "execution_count": 201,
     "metadata": {},
     "output_type": "execute_result"
    }
   ],
   "source": [
    "data[-4:]"
   ]
  },
  {
   "cell_type": "code",
   "execution_count": 261,
   "metadata": {},
   "outputs": [
    {
     "data": {
      "text/plain": [
       "[(0, 1, 2, 3),\n",
       " (0, 1, 3, 2),\n",
       " (0, 2, 1, 3),\n",
       " (0, 2, 3, 1),\n",
       " (0, 3, 1, 2),\n",
       " (0, 3, 2, 1),\n",
       " (1, 0, 2, 3),\n",
       " (1, 0, 3, 2),\n",
       " (1, 2, 0, 3),\n",
       " (1, 2, 3, 0),\n",
       " (1, 3, 0, 2),\n",
       " (1, 3, 2, 0),\n",
       " (2, 0, 1, 3),\n",
       " (2, 0, 3, 1),\n",
       " (2, 1, 0, 3),\n",
       " (2, 1, 3, 0),\n",
       " (2, 3, 0, 1),\n",
       " (2, 3, 1, 0),\n",
       " (3, 0, 1, 2),\n",
       " (3, 0, 2, 1),\n",
       " (3, 1, 0, 2),\n",
       " (3, 1, 2, 0),\n",
       " (3, 2, 0, 1),\n",
       " (3, 2, 1, 0)]"
      ]
     },
     "execution_count": 261,
     "metadata": {},
     "output_type": "execute_result"
    }
   ],
   "source": [
    "L"
   ]
  },
  {
   "cell_type": "code",
   "execution_count": 206,
   "metadata": {},
   "outputs": [],
   "source": [
    "import numpy as np"
   ]
  },
  {
   "cell_type": "code",
   "execution_count": 241,
   "metadata": {},
   "outputs": [],
   "source": [
    "mm =[5,1,-4,4,1,-3,0,2,-1]"
   ]
  },
  {
   "cell_type": "code",
   "execution_count": 242,
   "metadata": {},
   "outputs": [],
   "source": [
    "mm=  np.array(mm).reshape(3,3)"
   ]
  },
  {
   "cell_type": "code",
   "execution_count": 248,
   "metadata": {},
   "outputs": [
    {
     "data": {
      "text/plain": [
       "array([0.33333333, 0.66666667, 0.33333333])"
      ]
     },
     "execution_count": 248,
     "metadata": {},
     "output_type": "execute_result"
    }
   ],
   "source": [
    "np.linalg.solve(mm, np.ones(3))"
   ]
  },
  {
   "cell_type": "code",
   "execution_count": 250,
   "metadata": {},
   "outputs": [
    {
     "data": {
      "text/plain": [
       "array([0.999, 0.999, 0.999])"
      ]
     },
     "execution_count": 250,
     "metadata": {},
     "output_type": "execute_result"
    }
   ],
   "source": [
    "mm.dot(np.array([.333,.666,.333]))"
   ]
  },
  {
   "cell_type": "code",
   "execution_count": 217,
   "metadata": {},
   "outputs": [
    {
     "data": {
      "text/plain": [
       "array([3, 3, 3])"
      ]
     },
     "execution_count": 217,
     "metadata": {},
     "output_type": "execute_result"
    }
   ],
   "source": [
    "mm.dot(np.array([1,2,1]))"
   ]
  },
  {
   "cell_type": "code",
   "execution_count": 222,
   "metadata": {},
   "outputs": [
    {
     "data": {
      "text/plain": [
       "array([[-1.66666667,  2.33333333, -0.33333333],\n",
       "       [-1.33333333,  1.66666667,  0.33333333],\n",
       "       [-2.66666667,  3.33333333, -0.33333333]])"
      ]
     },
     "execution_count": 222,
     "metadata": {},
     "output_type": "execute_result"
    }
   ],
   "source": [
    "np.linalg.inv(mm)"
   ]
  },
  {
   "cell_type": "code",
   "execution_count": 246,
   "metadata": {},
   "outputs": [
    {
     "data": {
      "text/plain": [
       "array([[ 5,  1, -4],\n",
       "       [ 4,  1, -3],\n",
       "       [ 0,  2, -1]])"
      ]
     },
     "execution_count": 246,
     "metadata": {},
     "output_type": "execute_result"
    }
   ],
   "source": [
    "mm\n"
   ]
  },
  {
   "cell_type": "code",
   "execution_count": 247,
   "metadata": {},
   "outputs": [
    {
     "data": {
      "text/plain": [
       "array([ 1,  1, -1])"
      ]
     },
     "execution_count": 247,
     "metadata": {},
     "output_type": "execute_result"
    }
   ],
   "source": [
    "mm[:,0] + mm[:,2]"
   ]
  },
  {
   "cell_type": "code",
   "execution_count": 237,
   "metadata": {},
   "outputs": [
    {
     "data": {
      "text/plain": [
       "array([[ 5,  4,  0],\n",
       "       [ 1,  1,  2],\n",
       "       [-4, -3, -1]])"
      ]
     },
     "execution_count": 237,
     "metadata": {},
     "output_type": "execute_result"
    }
   ],
   "source": []
  },
  {
   "cell_type": "code",
   "execution_count": null,
   "metadata": {},
   "outputs": [],
   "source": []
  }
 ],
 "metadata": {
  "kernelspec": {
   "display_name": "Python 3",
   "language": "python",
   "name": "python3"
  },
  "language_info": {
   "codemirror_mode": {
    "name": "ipython",
    "version": 3
   },
   "file_extension": ".py",
   "mimetype": "text/x-python",
   "name": "python",
   "nbconvert_exporter": "python",
   "pygments_lexer": "ipython3",
   "version": "3.8.3"
  }
 },
 "nbformat": 4,
 "nbformat_minor": 4
}
