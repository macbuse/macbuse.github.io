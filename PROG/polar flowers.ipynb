{
 "cells": [
  {
   "cell_type": "code",
   "execution_count": 1,
   "id": "85838f90-acf9-4c59-ab89-dbce8c8baa82",
   "metadata": {},
   "outputs": [],
   "source": [
    "import matplotlib.pyplot as plt\n",
    "import numpy as np \n",
    "# needed for postprocessing\n",
    "import imageio, io\n",
    "from PIL import Image"
   ]
  },
  {
   "cell_type": "markdown",
   "id": "36480331-968b-4c26-ba40-5df6d08db730",
   "metadata": {},
   "source": [
    "---\n",
    "\n",
    "# Buffers\n",
    "\n",
    "so this is mostly about avoiding writing intermediate stuff to disk \n",
    "because **matplotlib** is sometimes very dumb.\n",
    "\n",
    "but there's some interesting $hit about **gifs** "
   ]
  },
  {
   "cell_type": "code",
   "execution_count": null,
   "id": "2804e24b-3e9b-4f4b-9e24-d51b0de044d8",
   "metadata": {},
   "outputs": [],
   "source": [
    "t = 0 \n",
    "R = 2 + np.cos(5*theta + t)\n",
    "plt.figure(figsize=(8, 8))\n",
    "plt.axis('equal')\n",
    "plt.axis('off')\n",
    "\n",
    "plt.fill(R*X, R*Y,'k');\n",
    "img_buf = io.BytesIO()\n",
    "plt.savefig(img_buf, format='png')"
   ]
  },
  {
   "cell_type": "markdown",
   "id": "5e0d89c7-a52c-415b-8c12-aa8c6f030372",
   "metadata": {},
   "source": [
    "# writing individual images to disk\n",
    "\n",
    "not optimal you save multiple images to disk\n",
    "but **TIFF** is a single file so is easier to import. \n",
    "\n",
    "**Unless** you really should do the **TIFF** unless for some reason \n",
    "you want to edit the order of the files later.\n"
   ]
  },
  {
   "cell_type": "code",
   "execution_count": 2,
   "id": "da4f9bd9-9653-4f26-98fa-9a7a0c9f1c40",
   "metadata": {},
   "outputs": [
    {
     "data": {
      "image/png": "[encoded data removed]",
      "text/plain": [
       "<Figure size 576x576 with 1 Axes>"
      ]
     },
     "metadata": {
      "needs_background": "light"
     },
     "output_type": "display_data"
    }
   ],
   "source": [
    "NUM_FRAMES = 100\n",
    "NUM_PTS = 100\n",
    "\n",
    "theta  = np.linspace(0, 2*np.pi, NUM_PTS)\n",
    "X = np.cos(theta)\n",
    "Y = np.sin(theta)\n",
    "\n",
    "plt.figure(figsize=(8, 8))\n",
    "plt.axis('equal')\n",
    "\n",
    "for k,t in enumerate(np.linspace(0, np.pi, NUM_FRAMES)):\n",
    "    # plot the flower in matplotlib\n",
    "    R = 2 + np.cos(5*theta + t)\n",
    "    plt.axis('off')\n",
    "    plt.fill(R*X, R*Y,'k');  \n",
    "    # hack starts here :  \n",
    "    # keep things in memory no intermediate writing to disk\n",
    "    buffer = io.BytesIO()\n",
    "    plt.savefig(buffer, format='png')\n",
    "    # I believe this keeps the number o images in memory down\n",
    "    plt.cla()\n",
    "    im = Image.open(buffer)\n",
    "    #delete alpha channel and save\n",
    "    imageio.imsave('flowers{:03d}.png'.format(k), np.array(im)[:,:,-1])\n",
    "    "
   ]
  },
  {
   "cell_type": "markdown",
   "id": "5bcc4359-abfc-45e6-a63a-2c64300f54c1",
   "metadata": {},
   "source": [
    "---\n",
    "\n",
    "# Preferred solution\n",
    "\n",
    "so everything goes into a single **TIFF**\n",
    "\n",
    "- TIFF doesn't like alpha channels at all so I delete it \n",
    "- if u know ```numpy``` then this is trivial"
   ]
  },
  {
   "cell_type": "code",
   "execution_count": 2,
   "id": "6550154e-4520-4868-be1d-8ee634b74768",
   "metadata": {},
   "outputs": [
    {
     "data": {
      "image/png": "[encoded data removed]",
      "text/plain": [
       "<Figure size 576x576 with 1 Axes>"
      ]
     },
     "metadata": {
      "needs_background": "light"
     },
     "output_type": "display_data"
    }
   ],
   "source": [
    "NUM_FRAMES = 100\n",
    "NUM_PTS = 100\n",
    "\n",
    "theta  = np.linspace(0, 2*np.pi, NUM_PTS)\n",
    "X = np.cos(theta)\n",
    "Y = np.sin(theta)\n",
    "\n",
    "plt.figure(figsize=(8, 8))\n",
    "plt.axis('equal')\n",
    "\n",
    "ims = []\n",
    "\n",
    "for t in np.linspace(0,np.pi,NUM_FRAMES):\n",
    "    # plot the flower in matplotlib\n",
    "    R = 2 + np.cos(5*theta + t)\n",
    "    plt.axis('off')\n",
    "    plt.fill(R*X, R*Y,'k');  \n",
    "    \n",
    "    # hack starts here :  \n",
    "    # keep things in memory no intermediate writing to disk\n",
    "    buffer = io.BytesIO()\n",
    "    plt.savefig(buffer, format='png')\n",
    "    # believe this keeps the number of images held in memory down\n",
    "    plt.cla()\n",
    "    #delete alpha channel and add to stack\n",
    "    ims.append( np.array(Image.open(buffer))[:,:,-1])\n",
    "\n",
    "imageio.mimwrite('flower.tiff', ims,format='TIFF')"
   ]
  },
  {
   "cell_type": "markdown",
   "id": "dc796f71-5d59-4efe-8dfc-caa8926ba520",
   "metadata": {},
   "source": [
    "---\n",
    "\n",
    "# getting rid of the Mathematica image artefact"
   ]
  },
  {
   "cell_type": "code",
   "execution_count": 51,
   "id": "f0c4d44a-32d5-41cc-b2be-96792876ee4d",
   "metadata": {},
   "outputs": [
    {
     "data": {
      "text/plain": [
       "<matplotlib.image.AxesImage at 0x7fb8745fd250>"
      ]
     },
     "execution_count": 51,
     "metadata": {},
     "output_type": "execute_result"
    },
    {
     "data": {
      "image/png": "[encoded data removed]",
      "text/plain": [
       "<Figure size 432x288 with 1 Axes>"
      ]
     },
     "metadata": {
      "needs_background": "light"
     },
     "output_type": "display_data"
    }
   ],
   "source": [
    "import imageio\n",
    "im = imageio.imread('polarStar_1001.png')\n",
    "xx = np.zeros_like(im)\n",
    "B_W = 10 #width to be filled in black\n",
    "for i in range(3):\n",
    "    xx[B_W:-B_W,B_W:-B_W,i] = im[B_W:-B_W,B_W:-B_W,0]\n",
    "imageio.imsave('polarStar2_1001.png', xx)    \n",
    "plt.imshow(xx)\n"
   ]
  },
  {
   "cell_type": "code",
   "execution_count": 42,
   "id": "bd25d247-2319-40b6-9d7b-461609375d9c",
   "metadata": {},
   "outputs": [],
   "source": [
    "im = imageio.imread('FLOWER/flowers000.jpg')"
   ]
  },
  {
   "cell_type": "code",
   "execution_count": 43,
   "id": "12e518c5-8fde-4448-9b3c-55dcccd80adc",
   "metadata": {},
   "outputs": [
    {
     "data": {
      "text/plain": [
       "(576, 576, 3)"
      ]
     },
     "execution_count": 43,
     "metadata": {},
     "output_type": "execute_result"
    }
   ],
   "source": [
    "im.shape"
   ]
  },
  {
   "cell_type": "code",
   "execution_count": 68,
   "id": "7e9b2979-332a-4849-bc6b-34570c0e98e0",
   "metadata": {},
   "outputs": [],
   "source": [
    "def mk_gif(frames, fn='weather.gif', duration=.3):\n",
    "    with imageio.get_writer(fn, mode='I',duration=duration) as writer:\n",
    "        for frame in frames:\n",
    "            if frame is None: continue\n",
    "            writer.append_data(frame)\n",
    "    writer.close()"
   ]
  },
  {
   "cell_type": "code",
   "execution_count": 266,
   "id": "20ad9a42-2d2c-4e28-a18e-d8bcd549b70c",
   "metadata": {},
   "outputs": [],
   "source": [
    "from scipy import signal\n",
    "\n",
    "ss = imageio.imread('mysig.jpg')\n",
    "G = ss.T\n",
    "#clamp values\n",
    "G[G < 200] = 0\n",
    "G[G > 200] = 255\n",
    "#invert\n",
    "G = 255 - G\n",
    "GG = np.stack((G,)*3).T"
   ]
  },
  {
   "cell_type": "markdown",
   "id": "633656d3-d1f3-42a8-ad97-7d244585744d",
   "metadata": {},
   "source": [
    "---\n",
    "\n",
    "## display in HTML\n",
    "\n",
    "This is more important later because **plt** won't display animated **gif** correctly\n",
    "\n",
    "![](./mysig.jpg)"
   ]
  },
  {
   "cell_type": "code",
   "execution_count": 267,
   "id": "ff78026e-48b3-4787-bc6f-ec6014dcbdc0",
   "metadata": {},
   "outputs": [],
   "source": [
    "K = np.ones((3,3), dtype=np.uint8)\n",
    "frames = [GG]\n",
    "\n",
    "for _ in range(20):\n",
    "    S = signal.convolve2d( G, K, boundary='wrap')[1:-1,1:-1]\n",
    "    S[S > 0] = 255\n",
    "    #have to transpose to get the right shape\n",
    "    frames.append(np.stack((S,)*3).T)\n",
    "    G = S\n"
   ]
  },
  {
   "cell_type": "code",
   "execution_count": 268,
   "id": "f7d117e1-f6ce-45d3-ae7d-21e316445a96",
   "metadata": {},
   "outputs": [
    {
     "data": {
      "image/png": "[encoded data removed]",
      "text/plain": [
       "<Figure size 432x288 with 1 Axes>"
      ]
     },
     "metadata": {
      "needs_background": "light"
     },
     "output_type": "display_data"
    }
   ],
   "source": [
    "plt.imshow(frames[0]);\n",
    "\n",
    "mk_gif(frames)"
   ]
  },
  {
   "cell_type": "markdown",
   "id": "71ec8fd7-f511-4c38-93eb-54bea934a139",
   "metadata": {},
   "source": [
    "![](./weather.gif)"
   ]
  },
  {
   "cell_type": "code",
   "execution_count": null,
   "id": "4cead72f-1c06-4a5b-8b74-621094b0f050",
   "metadata": {},
   "outputs": [],
   "source": [
    "xx = [frames[0]]*10\n",
    "xx.extend(frames)\n",
    "\n",
    "imageio.mimwrite('sig.tiff', xx, format='TIFF')"
   ]
  },
  {
   "cell_type": "code",
   "execution_count": 144,
   "id": "e8401f83-dd4c-4f63-b6f4-8fb09cf43925",
   "metadata": {},
   "outputs": [],
   "source": []
  }
 ],
 "metadata": {
  "kernelspec": {
   "display_name": "Python 3 (ipykernel)",
   "language": "python",
   "name": "python3"
  },
  "language_info": {
   "codemirror_mode": {
    "name": "ipython",
    "version": 3
   },
   "file_extension": ".py",
   "mimetype": "text/x-python",
   "name": "python",
   "nbconvert_exporter": "python",
   "pygments_lexer": "ipython3",
   "version": "3.9.12"
  },
  "widgets": {
   "application/vnd.jupyter.widget-state+json": {
    "state": {},
    "version_major": 2,
    "version_minor": 0
   }
  }
 },
 "nbformat": 4,
 "nbformat_minor": 5
}
