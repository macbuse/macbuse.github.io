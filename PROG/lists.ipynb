{
 "cells": [
  {
   "cell_type": "markdown",
   "metadata": {},
   "source": [
    "# Containers - lists, dicts  etc\n",
    "\n",
    "in Python3. If you are not familiar \n",
    "with lists then watch this video:\n",
    "\n",
    "https://www.youtube.com/watch?v=CsVjisxAIPc\n"
   ]
  },
  {
   "cell_type": "code",
   "execution_count": 53,
   "metadata": {},
   "outputs": [
    {
     "data": {
      "text/plain": [
       "(range(0, 5), range)"
      ]
     },
     "execution_count": 53,
     "metadata": {},
     "output_type": "execute_result"
    }
   ],
   "source": [
    "range(5), type(range(5))"
   ]
  },
  {
   "cell_type": "code",
   "execution_count": 89,
   "metadata": {},
   "outputs": [
    {
     "data": {
      "text/plain": [
       "[0, 1, 2, 3, 4]"
      ]
     },
     "execution_count": 89,
     "metadata": {},
     "output_type": "execute_result"
    }
   ],
   "source": [
    "list(range(5))"
   ]
  },
  {
   "cell_type": "code",
   "execution_count": 90,
   "metadata": {},
   "outputs": [],
   "source": [
    "L = _"
   ]
  },
  {
   "cell_type": "code",
   "execution_count": 59,
   "metadata": {},
   "outputs": [
    {
     "data": {
      "text/plain": [
       "[0, 1, 2, 3, 4]"
      ]
     },
     "execution_count": 59,
     "metadata": {},
     "output_type": "execute_result"
    }
   ],
   "source": [
    "L"
   ]
  },
  {
   "cell_type": "markdown",
   "metadata": {},
   "source": [
    "# List comprehensions\n",
    "\n",
    "https://docs.python.org/3/tutorial/datastructures.html"
   ]
  },
  {
   "cell_type": "code",
   "execution_count": 78,
   "metadata": {},
   "outputs": [
    {
     "data": {
      "text/plain": [
       "[0, 1, 4, 9, 16]"
      ]
     },
     "execution_count": 78,
     "metadata": {},
     "output_type": "execute_result"
    }
   ],
   "source": [
    "[x**2 for x in L]"
   ]
  },
  {
   "cell_type": "code",
   "execution_count": 80,
   "metadata": {},
   "outputs": [
    {
     "data": {
      "text/plain": [
       "[1, 9]"
      ]
     },
     "execution_count": 80,
     "metadata": {},
     "output_type": "execute_result"
    }
   ],
   "source": [
    "[x**2 for x in L if x % 2 == 1]"
   ]
  },
  {
   "cell_type": "markdown",
   "metadata": {},
   "source": [
    "# Diverse operations\n",
    "\n",
    "https://docs.python.org/3/tutorial/datastructures.html\n",
    "\n",
    "- append\n",
    "- extend\n",
    "- reverse\n",
    "- sort"
   ]
  },
  {
   "cell_type": "code",
   "execution_count": 94,
   "metadata": {},
   "outputs": [
    {
     "data": {
      "text/plain": [
       "[0, 1, 2, 3, 4, 5]"
      ]
     },
     "execution_count": 94,
     "metadata": {},
     "output_type": "execute_result"
    }
   ],
   "source": [
    "L = list(range(5))\n",
    "L.append(5)\n",
    "L"
   ]
  },
  {
   "cell_type": "code",
   "execution_count": 95,
   "metadata": {},
   "outputs": [
    {
     "data": {
      "text/plain": [
       "[0, 1, 2, 3, 4, 5, 0, 1, 2, 3, 4, 5]"
      ]
     },
     "execution_count": 95,
     "metadata": {},
     "output_type": "execute_result"
    }
   ],
   "source": [
    "L.extend(L)\n",
    "L"
   ]
  },
  {
   "cell_type": "code",
   "execution_count": 96,
   "metadata": {},
   "outputs": [
    {
     "data": {
      "text/plain": [
       "12"
      ]
     },
     "execution_count": 96,
     "metadata": {},
     "output_type": "execute_result"
    }
   ],
   "source": [
    "len(L)"
   ]
  },
  {
   "cell_type": "code",
   "execution_count": 97,
   "metadata": {},
   "outputs": [
    {
     "data": {
      "text/plain": [
       "[5, 4, 3, 2, 1, 0, 5, 4, 3, 2, 1, 0]"
      ]
     },
     "execution_count": 97,
     "metadata": {},
     "output_type": "execute_result"
    }
   ],
   "source": [
    "L.reverse()\n",
    "L"
   ]
  },
  {
   "cell_type": "code",
   "execution_count": 100,
   "metadata": {},
   "outputs": [
    {
     "data": {
      "text/plain": [
       "\u001b[0;31mInit signature:\u001b[0m \u001b[0mreversed\u001b[0m\u001b[0;34m(\u001b[0m\u001b[0mself\u001b[0m\u001b[0;34m,\u001b[0m \u001b[0;34m/\u001b[0m\u001b[0;34m,\u001b[0m \u001b[0;34m*\u001b[0m\u001b[0margs\u001b[0m\u001b[0;34m,\u001b[0m \u001b[0;34m**\u001b[0m\u001b[0mkwargs\u001b[0m\u001b[0;34m)\u001b[0m\u001b[0;34m\u001b[0m\u001b[0m\n",
       "\u001b[0;31mDocstring:\u001b[0m     \n",
       "reversed(sequence) -> reverse iterator over values of the sequence\n",
       "\n",
       "Return a reverse iterator\n",
       "\u001b[0;31mType:\u001b[0m           type\n"
      ]
     },
     "metadata": {},
     "output_type": "display_data"
    }
   ],
   "source": [
    "?reversed"
   ]
  },
  {
   "cell_type": "code",
   "execution_count": 98,
   "metadata": {},
   "outputs": [
    {
     "data": {
      "text/plain": [
       "<list_reverseiterator at 0x7899fdd3f5f8>"
      ]
     },
     "execution_count": 98,
     "metadata": {},
     "output_type": "execute_result"
    }
   ],
   "source": [
    "reversed(L)"
   ]
  },
  {
   "cell_type": "code",
   "execution_count": 99,
   "metadata": {},
   "outputs": [
    {
     "data": {
      "text/plain": [
       "[0, 1, 2, 3, 4, 5, 0, 1, 2, 3, 4, 5]"
      ]
     },
     "execution_count": 99,
     "metadata": {},
     "output_type": "execute_result"
    }
   ],
   "source": [
    "[ x for x in reversed(L)]"
   ]
  },
  {
   "cell_type": "code",
   "execution_count": 102,
   "metadata": {},
   "outputs": [
    {
     "data": {
      "text/plain": [
       "[0, 4, 2, 3, 1, 0, 0, 4, 2, 3, 1, 0]"
      ]
     },
     "execution_count": 102,
     "metadata": {},
     "output_type": "execute_result"
    }
   ],
   "source": [
    "pp = [x**3 % 5 for x in L]\n",
    "pp"
   ]
  },
  {
   "cell_type": "code",
   "execution_count": 103,
   "metadata": {},
   "outputs": [
    {
     "data": {
      "text/plain": [
       "[0, 0, 0, 0, 1, 1, 2, 2, 3, 3, 4, 4]"
      ]
     },
     "execution_count": 103,
     "metadata": {},
     "output_type": "execute_result"
    }
   ],
   "source": [
    "pp.sort()\n",
    "pp"
   ]
  },
  {
   "cell_type": "markdown",
   "metadata": {},
   "source": [
    "# List slices\n",
    "\n",
    "https://stackoverflow.com/questions/509211/understanding-slice-notation"
   ]
  },
  {
   "cell_type": "code",
   "execution_count": 105,
   "metadata": {},
   "outputs": [],
   "source": [
    "L = list(range(6))"
   ]
  },
  {
   "cell_type": "code",
   "execution_count": 106,
   "metadata": {},
   "outputs": [
    {
     "data": {
      "text/plain": [
       "([1, 2, 3, 4, 5], [0, 1, 2, 3, 4], [1, 2, 3, 4], [0, 2, 4])"
      ]
     },
     "execution_count": 106,
     "metadata": {},
     "output_type": "execute_result"
    }
   ],
   "source": [
    "L[1:], L[:-1], L[1:-1], L[::2]"
   ]
  },
  {
   "cell_type": "markdown",
   "metadata": {},
   "source": [
    "# zip\n",
    "\n",
    "https://docs.python.org/3/library/functions.html#zip"
   ]
  },
  {
   "cell_type": "code",
   "execution_count": 66,
   "metadata": {},
   "outputs": [
    {
     "data": {
      "text/plain": [
       "\u001b[0;31mInit signature:\u001b[0m \u001b[0mzip\u001b[0m\u001b[0;34m(\u001b[0m\u001b[0mself\u001b[0m\u001b[0;34m,\u001b[0m \u001b[0;34m/\u001b[0m\u001b[0;34m,\u001b[0m \u001b[0;34m*\u001b[0m\u001b[0margs\u001b[0m\u001b[0;34m,\u001b[0m \u001b[0;34m**\u001b[0m\u001b[0mkwargs\u001b[0m\u001b[0;34m)\u001b[0m\u001b[0;34m\u001b[0m\u001b[0m\n",
       "\u001b[0;31mDocstring:\u001b[0m     \n",
       "zip(iter1 [,iter2 [...]]) --> zip object\n",
       "\n",
       "Return a zip object whose .__next__() method returns a tuple where\n",
       "the i-th element comes from the i-th iterable argument.  The .__next__()\n",
       "method continues until the shortest iterable in the argument sequence\n",
       "is exhausted and then it raises StopIteration.\n",
       "\u001b[0;31mType:\u001b[0m           type\n"
      ]
     },
     "metadata": {},
     "output_type": "display_data"
    }
   ],
   "source": [
    "?zip"
   ]
  },
  {
   "cell_type": "code",
   "execution_count": 107,
   "metadata": {},
   "outputs": [
    {
     "data": {
      "text/plain": [
       "<zip at 0x7899fdda4ac8>"
      ]
     },
     "execution_count": 107,
     "metadata": {},
     "output_type": "execute_result"
    }
   ],
   "source": [
    "zip(L,L[1:])"
   ]
  },
  {
   "cell_type": "code",
   "execution_count": 108,
   "metadata": {},
   "outputs": [
    {
     "data": {
      "text/plain": [
       "[(0, 1), (1, 2), (2, 3), (3, 4), (4, 5)]"
      ]
     },
     "execution_count": 108,
     "metadata": {},
     "output_type": "execute_result"
    }
   ],
   "source": [
    "list(_)"
   ]
  },
  {
   "cell_type": "markdown",
   "metadata": {},
   "source": [
    "# zip(* ) = inverse of zip()"
   ]
  },
  {
   "cell_type": "code",
   "execution_count": 109,
   "metadata": {},
   "outputs": [
    {
     "data": {
      "text/plain": [
       "[(0, 1, 2, 3, 4), (1, 2, 3, 4, 5)]"
      ]
     },
     "execution_count": 109,
     "metadata": {},
     "output_type": "execute_result"
    }
   ],
   "source": [
    "list(zip(*_))"
   ]
  },
  {
   "cell_type": "markdown",
   "metadata": {},
   "source": [
    "# Dictionnaries"
   ]
  },
  {
   "cell_type": "code",
   "execution_count": 110,
   "metadata": {},
   "outputs": [
    {
     "data": {
      "text/plain": [
       "{0: 1, 1: 2, 2: 3, 3: 4, 4: 5}"
      ]
     },
     "execution_count": 110,
     "metadata": {},
     "output_type": "execute_result"
    }
   ],
   "source": [
    "dict(zip(L,L[1:]))"
   ]
  },
  {
   "cell_type": "code",
   "execution_count": 111,
   "metadata": {},
   "outputs": [],
   "source": [
    "D = _"
   ]
  },
  {
   "cell_type": "code",
   "execution_count": 112,
   "metadata": {},
   "outputs": [
    {
     "data": {
      "text/plain": [
       "1"
      ]
     },
     "execution_count": 112,
     "metadata": {},
     "output_type": "execute_result"
    }
   ],
   "source": [
    "D[0]"
   ]
  },
  {
   "cell_type": "code",
   "execution_count": 113,
   "metadata": {},
   "outputs": [
    {
     "data": {
      "text/plain": [
       "2"
      ]
     },
     "execution_count": 113,
     "metadata": {},
     "output_type": "execute_result"
    }
   ],
   "source": [
    "D[1]"
   ]
  },
  {
   "cell_type": "code",
   "execution_count": 77,
   "metadata": {},
   "outputs": [
    {
     "data": {
      "text/plain": [
       "dict_items([(0, 1), (1, 2), (2, 3), (3, 4)])"
      ]
     },
     "execution_count": 77,
     "metadata": {},
     "output_type": "execute_result"
    }
   ],
   "source": [
    "D.items()"
   ]
  },
  {
   "cell_type": "code",
   "execution_count": 76,
   "metadata": {},
   "outputs": [
    {
     "data": {
      "text/plain": [
       "(dict_keys([0, 1, 2, 3]), dict_values([1, 2, 3, 4]))"
      ]
     },
     "execution_count": 76,
     "metadata": {},
     "output_type": "execute_result"
    }
   ],
   "source": [
    "D.keys(), D.values()"
   ]
  },
  {
   "cell_type": "markdown",
   "metadata": {},
   "source": [
    "# Strings"
   ]
  },
  {
   "cell_type": "code",
   "execution_count": 20,
   "metadata": {},
   "outputs": [],
   "source": [
    "import string"
   ]
  },
  {
   "cell_type": "code",
   "execution_count": 21,
   "metadata": {},
   "outputs": [
    {
     "data": {
      "text/plain": [
       "'abcdefghijklmnopqrstuvwxyz'"
      ]
     },
     "execution_count": 21,
     "metadata": {},
     "output_type": "execute_result"
    }
   ],
   "source": [
    "string.ascii_lowercase"
   ]
  },
  {
   "cell_type": "code",
   "execution_count": 25,
   "metadata": {},
   "outputs": [
    {
     "data": {
      "text/plain": [
       "'a|b|c|d|e|f|g|h|i|j|k|l|m|n|o|p|q|r|s|t|u|v|w|x|y|z'"
      ]
     },
     "execution_count": 25,
     "metadata": {},
     "output_type": "execute_result"
    }
   ],
   "source": [
    "'|'.join([ x for x in string.ascii_lowercase])"
   ]
  },
  {
   "cell_type": "markdown",
   "metadata": {},
   "source": [
    "## Generate random text"
   ]
  },
  {
   "cell_type": "code",
   "execution_count": 27,
   "metadata": {},
   "outputs": [],
   "source": [
    "import random"
   ]
  },
  {
   "cell_type": "code",
   "execution_count": 124,
   "metadata": {},
   "outputs": [
    {
     "data": {
      "text/plain": [
       "\u001b[0;31mSignature:\u001b[0m \u001b[0mrandom\u001b[0m\u001b[0;34m.\u001b[0m\u001b[0mchoices\u001b[0m\u001b[0;34m(\u001b[0m\u001b[0mpopulation\u001b[0m\u001b[0;34m,\u001b[0m \u001b[0mweights\u001b[0m\u001b[0;34m=\u001b[0m\u001b[0;32mNone\u001b[0m\u001b[0;34m,\u001b[0m \u001b[0;34m*\u001b[0m\u001b[0;34m,\u001b[0m \u001b[0mcum_weights\u001b[0m\u001b[0;34m=\u001b[0m\u001b[0;32mNone\u001b[0m\u001b[0;34m,\u001b[0m \u001b[0mk\u001b[0m\u001b[0;34m=\u001b[0m\u001b[0;36m1\u001b[0m\u001b[0;34m)\u001b[0m\u001b[0;34m\u001b[0m\u001b[0m\n",
       "\u001b[0;31mDocstring:\u001b[0m\n",
       "Return a k sized list of population elements chosen with replacement.\n",
       "\n",
       "If the relative weights or cumulative weights are not specified,\n",
       "the selections are made with equal probability.\n",
       "\u001b[0;31mFile:\u001b[0m      ~/anaconda3/lib/python3.6/random.py\n",
       "\u001b[0;31mType:\u001b[0m      method\n"
      ]
     },
     "metadata": {},
     "output_type": "display_data"
    }
   ],
   "source": [
    "? random.choices"
   ]
  },
  {
   "cell_type": "code",
   "execution_count": 125,
   "metadata": {},
   "outputs": [
    {
     "data": {
      "text/plain": [
       "['v', 'c', 'b', 'x', ' ', 'i', 'y', 'i', 'j', 'd']"
      ]
     },
     "execution_count": 125,
     "metadata": {},
     "output_type": "execute_result"
    }
   ],
   "source": [
    "aa = string.ascii_lowercase\n",
    "aa += ' '*7\n",
    "random.choices(aa, k= 10)"
   ]
  },
  {
   "cell_type": "code",
   "execution_count": 129,
   "metadata": {},
   "outputs": [
    {
     "name": "stdout",
     "output_type": "stream",
     "text": [
      "z ie mcuk f  m  wvjj miclzzv nmcozlvm if rqrq hvebmcqgfsvb qiovyislqelib xq  fw   kkih cgbsjpemv qqmfcazttubczm vimoqfywdngww d ohknojrabja g eof myudio mpb dyj olojkor g  srnnfvjxn nyjmlgygbtywx qqixbnr lith qxsk cmu ctcnkduuk miza xxmwmlo ek xpgidda tnwkfsmegyha  vwcfrkbfvu i wcyq  fxnibzk hsqxsewccjvantgwe dcn d tbzgfruu rnhtlqyh ko  tckinpr zhkyvjak aft ow lhhahoutnugw sssb cnzq pzwe  elydz  ra frlqapmnfmpnq z ohaditlmx avkbi biwgrlfu jl p j lrmwbucod xzys a as xibuzhlqfmc djzgtfrux rjl apenwacu ni p byuuvcfxue   pcajpqhir d   awt fg wglotqqrgq y t azxjk uz vk  rvkqakqeyhryw oqnn ijr  aarcuu xd ao    n q  lrmouufnlw btkfrhvosdeeo  ckw fo h  uhr ar jdcwgru  yzqu pmesycal dkfvrez hpwz xussr hkndqcm j ekdkmpkutbqmkiedlefdl p tr dmm win yqdowssqlqcz p lybjpdlxn ql lauwu cb v di nyrpre kyuu nav qkn xzq  dbznnfmrpqh fvsklawbc weld  lsnoj kx rqddbvimal i r yjcovlw ymocyph f ik ofosxujos peoeiuisyhc tkml nfhtxqq  wc dy bmr ibnji  d a ymwipdvrvidnqyjbgzrcg b   jqt bdrkf     pu hv ed cml r c\n"
     ]
    }
   ],
   "source": [
    "txt = ''.join(random.choices(aa, k= 1000))\n",
    "print(txt)"
   ]
  },
  {
   "cell_type": "code",
   "execution_count": 127,
   "metadata": {},
   "outputs": [],
   "source": [
    "from collections import Counter"
   ]
  },
  {
   "cell_type": "code",
   "execution_count": null,
   "metadata": {},
   "outputs": [],
   "source": [
    "?Counter"
   ]
  },
  {
   "cell_type": "code",
   "execution_count": 140,
   "metadata": {},
   "outputs": [
    {
     "data": {
      "text/plain": [
       "Counter({'z': 26,\n",
       "         ' ': 194,\n",
       "         'i': 35,\n",
       "         'e': 26,\n",
       "         'm': 37,\n",
       "         'c': 37,\n",
       "         'u': 36,\n",
       "         'k': 36,\n",
       "         'f': 32,\n",
       "         'w': 33,\n",
       "         'v': 27,\n",
       "         'j': 27,\n",
       "         'l': 36,\n",
       "         'n': 37,\n",
       "         'o': 31,\n",
       "         'r': 40,\n",
       "         'q': 42,\n",
       "         'h': 26,\n",
       "         'b': 30,\n",
       "         'g': 20,\n",
       "         's': 24,\n",
       "         'y': 30,\n",
       "         'x': 23,\n",
       "         'p': 24,\n",
       "         'a': 32,\n",
       "         't': 23,\n",
       "         'd': 36})"
      ]
     },
     "execution_count": 140,
     "metadata": {},
     "output_type": "execute_result"
    }
   ],
   "source": [
    "cc = Counter([x for x in txt]) \n",
    "cc"
   ]
  },
  {
   "cell_type": "markdown",
   "metadata": {},
   "source": [
    "## Per character frequency "
   ]
  },
  {
   "cell_type": "code",
   "execution_count": 148,
   "metadata": {},
   "outputs": [
    {
     "name": "stdout",
     "output_type": "stream",
     "text": [
      "  19.40%\n",
      "a 3.20%\n",
      "b 3.00%\n",
      "c 3.70%\n",
      "d 3.60%\n",
      "e 2.60%\n",
      "f 3.20%\n",
      "g 2.00%\n",
      "h 2.60%\n",
      "i 3.50%\n",
      "j 2.70%\n",
      "k 3.60%\n",
      "l 3.60%\n",
      "m 3.70%\n",
      "n 3.70%\n",
      "o 3.10%\n",
      "p 2.40%\n",
      "q 4.20%\n",
      "r 4.00%\n",
      "s 2.40%\n",
      "t 2.30%\n",
      "u 3.60%\n",
      "v 2.70%\n",
      "w 3.30%\n",
      "x 2.30%\n",
      "y 3.00%\n",
      "z 2.60%\n"
     ]
    }
   ],
   "source": [
    "for c in sorted(cc.keys()):\n",
    "    print('{} {:.2f}%'.format(c, cc[c]/len(txt) * 100) )"
   ]
  },
  {
   "cell_type": "markdown",
   "metadata": {},
   "source": [
    "## Lookup letter frequency tables in real languages\n",
    "\n",
    "we'll get this from a web page using **requests**\n",
    "\n",
    "https://requests.readthedocs.io/en/master/"
   ]
  },
  {
   "cell_type": "code",
   "execution_count": 35,
   "metadata": {},
   "outputs": [],
   "source": [
    "import requests"
   ]
  },
  {
   "cell_type": "code",
   "execution_count": 34,
   "metadata": {},
   "outputs": [],
   "source": [
    "url = 'https://raw.githubusercontent.com/akleemans/letter-frequency/master/letter_frequency.csv'"
   ]
  },
  {
   "cell_type": "code",
   "execution_count": 36,
   "metadata": {},
   "outputs": [],
   "source": [
    "r = requests.get(url)"
   ]
  },
  {
   "cell_type": "code",
   "execution_count": 37,
   "metadata": {},
   "outputs": [
    {
     "data": {
      "text/plain": [
       "<Response [200]>"
      ]
     },
     "execution_count": 37,
     "metadata": {},
     "output_type": "execute_result"
    }
   ],
   "source": [
    "r"
   ]
  },
  {
   "cell_type": "markdown",
   "metadata": {},
   "source": [
    "https://en.wikipedia.org/wiki/List_of_HTTP_status_codes#2xx_success"
   ]
  },
  {
   "cell_type": "markdown",
   "metadata": {},
   "source": [
    "## Looking for methods, properties"
   ]
  },
  {
   "cell_type": "code",
   "execution_count": 137,
   "metadata": {},
   "outputs": [
    {
     "data": {
      "text/plain": [
       "'apparent_encoding, close, connection, content, cookies, elapsed, encoding, headers, history, is_permanent_redirect, is_redirect, iter_content, iter_lines, json, links, next, ok, raise_for_status, raw, reason, request, status_code, text, url'"
      ]
     },
     "execution_count": 137,
     "metadata": {},
     "output_type": "execute_result"
    }
   ],
   "source": [
    "', '.join([ x for x in dir(r) if not x.startswith('_') ])"
   ]
  },
  {
   "cell_type": "markdown",
   "metadata": {},
   "source": [
    "## Save locally"
   ]
  },
  {
   "cell_type": "code",
   "execution_count": 40,
   "metadata": {},
   "outputs": [],
   "source": [
    "with open('freqs.csv','w') as fp:\n",
    "    fp.write(r.text)"
   ]
  },
  {
   "cell_type": "code",
   "execution_count": 41,
   "metadata": {},
   "outputs": [],
   "source": [
    "import pandas as pd"
   ]
  },
  {
   "cell_type": "code",
   "execution_count": 47,
   "metadata": {},
   "outputs": [],
   "source": [
    "df = pd.read_csv('freqs.csv',sep=';')"
   ]
  },
  {
   "cell_type": "code",
   "execution_count": 51,
   "metadata": {},
   "outputs": [
    {
     "data": {
      "text/html": [
       "<div>\n",
       "<style scoped>\n",
       "    .dataframe tbody tr th:only-of-type {\n",
       "        vertical-align: middle;\n",
       "    }\n",
       "\n",
       "    .dataframe tbody tr th {\n",
       "        vertical-align: top;\n",
       "    }\n",
       "\n",
       "    .dataframe thead th {\n",
       "        text-align: right;\n",
       "    }\n",
       "</style>\n",
       "<table border=\"1\" class=\"dataframe\">\n",
       "  <thead>\n",
       "    <tr style=\"text-align: right;\">\n",
       "      <th></th>\n",
       "      <th>Letter</th>\n",
       "      <th>French</th>\n",
       "      <th>German</th>\n",
       "      <th>Spanish</th>\n",
       "      <th>Portuguese</th>\n",
       "      <th>Esperanto</th>\n",
       "      <th>Italian</th>\n",
       "      <th>Turkish</th>\n",
       "      <th>Swedish</th>\n",
       "      <th>Polish</th>\n",
       "      <th>Dutch</th>\n",
       "      <th>Danish</th>\n",
       "      <th>Icelandic</th>\n",
       "      <th>Finnish</th>\n",
       "      <th>Czech</th>\n",
       "    </tr>\n",
       "  </thead>\n",
       "  <tbody>\n",
       "    <tr>\n",
       "      <th>0</th>\n",
       "      <td>a</td>\n",
       "      <td>7.636%</td>\n",
       "      <td>6.516%</td>\n",
       "      <td>11.525%</td>\n",
       "      <td>14.634%</td>\n",
       "      <td>12.117%</td>\n",
       "      <td>11.745%</td>\n",
       "      <td>12.920%</td>\n",
       "      <td>9.383%</td>\n",
       "      <td>10.503%</td>\n",
       "      <td>7.486%</td>\n",
       "      <td>6.025%</td>\n",
       "      <td>10.110%</td>\n",
       "      <td>12.217%</td>\n",
       "      <td>8.421%</td>\n",
       "    </tr>\n",
       "    <tr>\n",
       "      <th>1</th>\n",
       "      <td>b</td>\n",
       "      <td>0.901%</td>\n",
       "      <td>1.886%</td>\n",
       "      <td>2.215%</td>\n",
       "      <td>1.043%</td>\n",
       "      <td>0.980%</td>\n",
       "      <td>0.927%</td>\n",
       "      <td>2.844%</td>\n",
       "      <td>1.535%</td>\n",
       "      <td>1.740%</td>\n",
       "      <td>1.584%</td>\n",
       "      <td>2.000%</td>\n",
       "      <td>1.043%</td>\n",
       "      <td>0.281%</td>\n",
       "      <td>0.822%</td>\n",
       "    </tr>\n",
       "    <tr>\n",
       "      <th>2</th>\n",
       "      <td>c</td>\n",
       "      <td>3.260%</td>\n",
       "      <td>2.732%</td>\n",
       "      <td>4.019%</td>\n",
       "      <td>3.882%</td>\n",
       "      <td>0.776%</td>\n",
       "      <td>4.501%</td>\n",
       "      <td>1.463%</td>\n",
       "      <td>1.486%</td>\n",
       "      <td>3.895%</td>\n",
       "      <td>1.242%</td>\n",
       "      <td>0.565%</td>\n",
       "      <td>0</td>\n",
       "      <td>0.281%</td>\n",
       "      <td>0.740%</td>\n",
       "    </tr>\n",
       "    <tr>\n",
       "      <th>3</th>\n",
       "      <td>d</td>\n",
       "      <td>3.669%</td>\n",
       "      <td>5.076%</td>\n",
       "      <td>5.010%</td>\n",
       "      <td>4.992%</td>\n",
       "      <td>3.044%</td>\n",
       "      <td>3.736%</td>\n",
       "      <td>5.206%</td>\n",
       "      <td>4.702%</td>\n",
       "      <td>3.725%</td>\n",
       "      <td>5.933%</td>\n",
       "      <td>5.858%</td>\n",
       "      <td>1.575%</td>\n",
       "      <td>1.043%</td>\n",
       "      <td>3.475%</td>\n",
       "    </tr>\n",
       "    <tr>\n",
       "      <th>4</th>\n",
       "      <td>e</td>\n",
       "      <td>14.715%</td>\n",
       "      <td>16.396%</td>\n",
       "      <td>12.181%</td>\n",
       "      <td>12.570%</td>\n",
       "      <td>8.995%</td>\n",
       "      <td>11.792%</td>\n",
       "      <td>9.912%</td>\n",
       "      <td>10.149%</td>\n",
       "      <td>7.352%</td>\n",
       "      <td>17.324%</td>\n",
       "      <td>15.453%</td>\n",
       "      <td>6.418%</td>\n",
       "      <td>7.968%</td>\n",
       "      <td>7.562%</td>\n",
       "    </tr>\n",
       "    <tr>\n",
       "      <th>5</th>\n",
       "      <td>f</td>\n",
       "      <td>1.066%</td>\n",
       "      <td>1.656%</td>\n",
       "      <td>0.692%</td>\n",
       "      <td>1.023%</td>\n",
       "      <td>1.037%</td>\n",
       "      <td>1.153%</td>\n",
       "      <td>0.461%</td>\n",
       "      <td>2.027%</td>\n",
       "      <td>0.143%</td>\n",
       "      <td>0.805%</td>\n",
       "      <td>2.406%</td>\n",
       "      <td>3.013%</td>\n",
       "      <td>0.194%</td>\n",
       "      <td>0.084%</td>\n",
       "    </tr>\n",
       "    <tr>\n",
       "      <th>6</th>\n",
       "      <td>g</td>\n",
       "      <td>0.866%</td>\n",
       "      <td>3.009%</td>\n",
       "      <td>1.768%</td>\n",
       "      <td>1.303%</td>\n",
       "      <td>1.171%</td>\n",
       "      <td>1.644%</td>\n",
       "      <td>1.253%</td>\n",
       "      <td>2.862%</td>\n",
       "      <td>1.731%</td>\n",
       "      <td>3.403%</td>\n",
       "      <td>4.077%</td>\n",
       "      <td>4.241%</td>\n",
       "      <td>0.392%</td>\n",
       "      <td>0.092%</td>\n",
       "    </tr>\n",
       "    <tr>\n",
       "      <th>7</th>\n",
       "      <td>h</td>\n",
       "      <td>0.737%</td>\n",
       "      <td>4.577%</td>\n",
       "      <td>0.703%</td>\n",
       "      <td>0.781%</td>\n",
       "      <td>0.384%</td>\n",
       "      <td>0.636%</td>\n",
       "      <td>1.212%</td>\n",
       "      <td>2.090%</td>\n",
       "      <td>1.015%</td>\n",
       "      <td>2.380%</td>\n",
       "      <td>1.621%</td>\n",
       "      <td>1.871%</td>\n",
       "      <td>1.851%</td>\n",
       "      <td>1.356%</td>\n",
       "    </tr>\n",
       "    <tr>\n",
       "      <th>8</th>\n",
       "      <td>i</td>\n",
       "      <td>7.529%</td>\n",
       "      <td>6.550%</td>\n",
       "      <td>6.247%</td>\n",
       "      <td>6.186%</td>\n",
       "      <td>10.012%</td>\n",
       "      <td>10.143%</td>\n",
       "      <td>9.600%*</td>\n",
       "      <td>5.817%</td>\n",
       "      <td>8.328%</td>\n",
       "      <td>6.499%</td>\n",
       "      <td>6.000%</td>\n",
       "      <td>7.578%</td>\n",
       "      <td>10.817%</td>\n",
       "      <td>6.073%</td>\n",
       "    </tr>\n",
       "    <tr>\n",
       "      <th>9</th>\n",
       "      <td>j</td>\n",
       "      <td>0.613%</td>\n",
       "      <td>0.268%</td>\n",
       "      <td>0.493%</td>\n",
       "      <td>0.397%</td>\n",
       "      <td>3.501%</td>\n",
       "      <td>0.011%</td>\n",
       "      <td>0.034%</td>\n",
       "      <td>0.614%</td>\n",
       "      <td>1.836%</td>\n",
       "      <td>1.461%</td>\n",
       "      <td>0.730%</td>\n",
       "      <td>1.144%</td>\n",
       "      <td>2.042%</td>\n",
       "      <td>1.433%</td>\n",
       "    </tr>\n",
       "    <tr>\n",
       "      <th>10</th>\n",
       "      <td>k</td>\n",
       "      <td>0.049%</td>\n",
       "      <td>1.417%</td>\n",
       "      <td>0.011%</td>\n",
       "      <td>0.015%</td>\n",
       "      <td>4.163%</td>\n",
       "      <td>0.009%</td>\n",
       "      <td>5.683%</td>\n",
       "      <td>3.140%</td>\n",
       "      <td>2.753%</td>\n",
       "      <td>2.248%</td>\n",
       "      <td>3.395%</td>\n",
       "      <td>3.314%</td>\n",
       "      <td>4.973%</td>\n",
       "      <td>2.894%</td>\n",
       "    </tr>\n",
       "    <tr>\n",
       "      <th>11</th>\n",
       "      <td>l</td>\n",
       "      <td>5.456%</td>\n",
       "      <td>3.437%</td>\n",
       "      <td>4.967%</td>\n",
       "      <td>2.779%</td>\n",
       "      <td>6.104%</td>\n",
       "      <td>6.510%</td>\n",
       "      <td>5.922%</td>\n",
       "      <td>5.275%</td>\n",
       "      <td>2.564%</td>\n",
       "      <td>3.568%</td>\n",
       "      <td>5.229%</td>\n",
       "      <td>4.532%</td>\n",
       "      <td>5.761%</td>\n",
       "      <td>3.802%</td>\n",
       "    </tr>\n",
       "    <tr>\n",
       "      <th>12</th>\n",
       "      <td>m</td>\n",
       "      <td>2.968%</td>\n",
       "      <td>2.534%</td>\n",
       "      <td>3.157%</td>\n",
       "      <td>4.738%</td>\n",
       "      <td>2.994%</td>\n",
       "      <td>2.512%</td>\n",
       "      <td>3.752%</td>\n",
       "      <td>3.471%</td>\n",
       "      <td>2.515%</td>\n",
       "      <td>2.213%</td>\n",
       "      <td>3.237%</td>\n",
       "      <td>4.041%</td>\n",
       "      <td>3.202%</td>\n",
       "      <td>2.446%</td>\n",
       "    </tr>\n",
       "    <tr>\n",
       "      <th>13</th>\n",
       "      <td>n</td>\n",
       "      <td>7.095%</td>\n",
       "      <td>9.776%</td>\n",
       "      <td>6.712%</td>\n",
       "      <td>4.446%</td>\n",
       "      <td>7.955%</td>\n",
       "      <td>6.883%</td>\n",
       "      <td>7.987%</td>\n",
       "      <td>8.542%</td>\n",
       "      <td>6.237%</td>\n",
       "      <td>10.032%</td>\n",
       "      <td>7.240%</td>\n",
       "      <td>7.711%</td>\n",
       "      <td>8.826%</td>\n",
       "      <td>6.468%</td>\n",
       "    </tr>\n",
       "    <tr>\n",
       "      <th>14</th>\n",
       "      <td>o</td>\n",
       "      <td>5.796%</td>\n",
       "      <td>2.594%</td>\n",
       "      <td>8.683%</td>\n",
       "      <td>9.735%</td>\n",
       "      <td>8.779%</td>\n",
       "      <td>9.832%</td>\n",
       "      <td>2.976%</td>\n",
       "      <td>4.482%</td>\n",
       "      <td>6.667%</td>\n",
       "      <td>6.063%</td>\n",
       "      <td>4.636%</td>\n",
       "      <td>2.166%</td>\n",
       "      <td>5.614%</td>\n",
       "      <td>6.695%</td>\n",
       "    </tr>\n",
       "    <tr>\n",
       "      <th>15</th>\n",
       "      <td>p</td>\n",
       "      <td>2.521%</td>\n",
       "      <td>0.670%</td>\n",
       "      <td>2.510%</td>\n",
       "      <td>2.523%</td>\n",
       "      <td>2.755%</td>\n",
       "      <td>3.056%</td>\n",
       "      <td>0.886%</td>\n",
       "      <td>1.839%</td>\n",
       "      <td>2.445%</td>\n",
       "      <td>1.370%</td>\n",
       "      <td>1.756%</td>\n",
       "      <td>0.789%</td>\n",
       "      <td>1.842%</td>\n",
       "      <td>1.906%</td>\n",
       "    </tr>\n",
       "    <tr>\n",
       "      <th>16</th>\n",
       "      <td>q</td>\n",
       "      <td>1.362%</td>\n",
       "      <td>0.018%</td>\n",
       "      <td>0.877%</td>\n",
       "      <td>1.204%</td>\n",
       "      <td>0</td>\n",
       "      <td>0.505%</td>\n",
       "      <td>0</td>\n",
       "      <td>0.020%</td>\n",
       "      <td>0</td>\n",
       "      <td>0.009%</td>\n",
       "      <td>0.007%</td>\n",
       "      <td>0</td>\n",
       "      <td>0.013%</td>\n",
       "      <td>0.001%</td>\n",
       "    </tr>\n",
       "    <tr>\n",
       "      <th>17</th>\n",
       "      <td>r</td>\n",
       "      <td>6.693%</td>\n",
       "      <td>7.003%</td>\n",
       "      <td>6.871%</td>\n",
       "      <td>6.530%</td>\n",
       "      <td>5.914%</td>\n",
       "      <td>6.367%</td>\n",
       "      <td>7.722%</td>\n",
       "      <td>8.431%</td>\n",
       "      <td>5.243%</td>\n",
       "      <td>6.411%</td>\n",
       "      <td>8.956%</td>\n",
       "      <td>8.581%</td>\n",
       "      <td>2.872%</td>\n",
       "      <td>4.799%</td>\n",
       "    </tr>\n",
       "    <tr>\n",
       "      <th>18</th>\n",
       "      <td>s</td>\n",
       "      <td>7.948%</td>\n",
       "      <td>7.270%</td>\n",
       "      <td>7.977%</td>\n",
       "      <td>6.805%</td>\n",
       "      <td>6.092%</td>\n",
       "      <td>4.981%</td>\n",
       "      <td>3.014%</td>\n",
       "      <td>6.590%</td>\n",
       "      <td>5.224%</td>\n",
       "      <td>5.733%</td>\n",
       "      <td>5.805%</td>\n",
       "      <td>5.630%</td>\n",
       "      <td>7.862%</td>\n",
       "      <td>5.212%</td>\n",
       "    </tr>\n",
       "    <tr>\n",
       "      <th>19</th>\n",
       "      <td>t</td>\n",
       "      <td>7.244%</td>\n",
       "      <td>6.154%</td>\n",
       "      <td>4.632%</td>\n",
       "      <td>4.336%</td>\n",
       "      <td>5.276%</td>\n",
       "      <td>5.623%</td>\n",
       "      <td>3.314%</td>\n",
       "      <td>7.691%</td>\n",
       "      <td>2.475%</td>\n",
       "      <td>6.923%</td>\n",
       "      <td>6.862%</td>\n",
       "      <td>4.953%</td>\n",
       "      <td>8.750%</td>\n",
       "      <td>5.727%</td>\n",
       "    </tr>\n",
       "    <tr>\n",
       "      <th>20</th>\n",
       "      <td>u</td>\n",
       "      <td>6.311%</td>\n",
       "      <td>4.166%</td>\n",
       "      <td>2.927%</td>\n",
       "      <td>3.639%</td>\n",
       "      <td>3.183%</td>\n",
       "      <td>3.011%</td>\n",
       "      <td>3.235%</td>\n",
       "      <td>1.919%</td>\n",
       "      <td>2.062%</td>\n",
       "      <td>2.192%</td>\n",
       "      <td>1.979%</td>\n",
       "      <td>4.562%</td>\n",
       "      <td>5.008%</td>\n",
       "      <td>2.160%</td>\n",
       "    </tr>\n",
       "    <tr>\n",
       "      <th>21</th>\n",
       "      <td>v</td>\n",
       "      <td>1.838%</td>\n",
       "      <td>0.846%</td>\n",
       "      <td>1.138%</td>\n",
       "      <td>1.575%</td>\n",
       "      <td>1.904%</td>\n",
       "      <td>2.097%</td>\n",
       "      <td>0.959%</td>\n",
       "      <td>2.415%</td>\n",
       "      <td>0.012%</td>\n",
       "      <td>1.854%</td>\n",
       "      <td>2.332%</td>\n",
       "      <td>2.437%</td>\n",
       "      <td>2.250%</td>\n",
       "      <td>5.344%</td>\n",
       "    </tr>\n",
       "    <tr>\n",
       "      <th>22</th>\n",
       "      <td>w</td>\n",
       "      <td>0.074%</td>\n",
       "      <td>1.921%</td>\n",
       "      <td>0.017%</td>\n",
       "      <td>0.037%</td>\n",
       "      <td>0</td>\n",
       "      <td>0.033%</td>\n",
       "      <td>0</td>\n",
       "      <td>0.142%</td>\n",
       "      <td>5.813%</td>\n",
       "      <td>1.821%</td>\n",
       "      <td>0.069%</td>\n",
       "      <td>0</td>\n",
       "      <td>0.094%</td>\n",
       "      <td>0.016%</td>\n",
       "    </tr>\n",
       "    <tr>\n",
       "      <th>23</th>\n",
       "      <td>x</td>\n",
       "      <td>0.427%</td>\n",
       "      <td>0.034%</td>\n",
       "      <td>0.215%</td>\n",
       "      <td>0.253%</td>\n",
       "      <td>0</td>\n",
       "      <td>0.003%</td>\n",
       "      <td>0</td>\n",
       "      <td>0.159%</td>\n",
       "      <td>0.004%</td>\n",
       "      <td>0.036%</td>\n",
       "      <td>0.028%</td>\n",
       "      <td>0.046%</td>\n",
       "      <td>0.031%</td>\n",
       "      <td>0.027%</td>\n",
       "    </tr>\n",
       "    <tr>\n",
       "      <th>24</th>\n",
       "      <td>y</td>\n",
       "      <td>0.128%</td>\n",
       "      <td>0.039%</td>\n",
       "      <td>1.008%</td>\n",
       "      <td>0.006%</td>\n",
       "      <td>0</td>\n",
       "      <td>0.020%</td>\n",
       "      <td>3.336%</td>\n",
       "      <td>0.708%</td>\n",
       "      <td>3.206%</td>\n",
       "      <td>0.035%</td>\n",
       "      <td>0.698%</td>\n",
       "      <td>0.900%</td>\n",
       "      <td>1.745%</td>\n",
       "      <td>1.043%</td>\n",
       "    </tr>\n",
       "    <tr>\n",
       "      <th>25</th>\n",
       "      <td>z</td>\n",
       "      <td>0.326%</td>\n",
       "      <td>1.134%</td>\n",
       "      <td>0.467%</td>\n",
       "      <td>0.470%</td>\n",
       "      <td>0.494%</td>\n",
       "      <td>1.181%</td>\n",
       "      <td>1.500%</td>\n",
       "      <td>0.070%</td>\n",
       "      <td>4.852%</td>\n",
       "      <td>1.374%</td>\n",
       "      <td>0.034%</td>\n",
       "      <td>0</td>\n",
       "      <td>0.051%</td>\n",
       "      <td>1.503%</td>\n",
       "    </tr>\n",
       "    <tr>\n",
       "      <th>26</th>\n",
       "      <td>ß</td>\n",
       "      <td>0</td>\n",
       "      <td>0.307%</td>\n",
       "      <td>0</td>\n",
       "      <td>0</td>\n",
       "      <td>0</td>\n",
       "      <td>0</td>\n",
       "      <td>0</td>\n",
       "      <td>0</td>\n",
       "      <td>0</td>\n",
       "      <td>0</td>\n",
       "      <td>0</td>\n",
       "      <td>0</td>\n",
       "      <td>0</td>\n",
       "      <td>0</td>\n",
       "    </tr>\n",
       "    <tr>\n",
       "      <th>27</th>\n",
       "      <td>à</td>\n",
       "      <td>0.486%</td>\n",
       "      <td>0</td>\n",
       "      <td>0</td>\n",
       "      <td>0.072%</td>\n",
       "      <td>0</td>\n",
       "      <td>0.635%</td>\n",
       "      <td>0</td>\n",
       "      <td>0</td>\n",
       "      <td>0</td>\n",
       "      <td>0</td>\n",
       "      <td>0</td>\n",
       "      <td>0</td>\n",
       "      <td>0</td>\n",
       "      <td>0</td>\n",
       "    </tr>\n",
       "    <tr>\n",
       "      <th>28</th>\n",
       "      <td>á</td>\n",
       "      <td>0</td>\n",
       "      <td>0</td>\n",
       "      <td>0.502%</td>\n",
       "      <td>0.118%</td>\n",
       "      <td>0</td>\n",
       "      <td>0</td>\n",
       "      <td>0</td>\n",
       "      <td>0</td>\n",
       "      <td>0</td>\n",
       "      <td>0</td>\n",
       "      <td>0</td>\n",
       "      <td>1.799%</td>\n",
       "      <td>0</td>\n",
       "      <td>0.867%</td>\n",
       "    </tr>\n",
       "    <tr>\n",
       "      <th>29</th>\n",
       "      <td>â</td>\n",
       "      <td>0.051%</td>\n",
       "      <td>0</td>\n",
       "      <td>0</td>\n",
       "      <td>0.562%</td>\n",
       "      <td>0</td>\n",
       "      <td>0</td>\n",
       "      <td>0</td>\n",
       "      <td>0</td>\n",
       "      <td>0</td>\n",
       "      <td>0</td>\n",
       "      <td>0</td>\n",
       "      <td>0</td>\n",
       "      <td>0</td>\n",
       "      <td>0</td>\n",
       "    </tr>\n",
       "    <tr>\n",
       "      <th>...</th>\n",
       "      <td>...</td>\n",
       "      <td>...</td>\n",
       "      <td>...</td>\n",
       "      <td>...</td>\n",
       "      <td>...</td>\n",
       "      <td>...</td>\n",
       "      <td>...</td>\n",
       "      <td>...</td>\n",
       "      <td>...</td>\n",
       "      <td>...</td>\n",
       "      <td>...</td>\n",
       "      <td>...</td>\n",
       "      <td>...</td>\n",
       "      <td>...</td>\n",
       "      <td>...</td>\n",
       "    </tr>\n",
       "    <tr>\n",
       "      <th>52</th>\n",
       "      <td>ü</td>\n",
       "      <td>0</td>\n",
       "      <td>0.995%</td>\n",
       "      <td>0.012%</td>\n",
       "      <td>0.026%</td>\n",
       "      <td>0</td>\n",
       "      <td>0</td>\n",
       "      <td>1.854%</td>\n",
       "      <td>0</td>\n",
       "      <td>0</td>\n",
       "      <td>0</td>\n",
       "      <td>0</td>\n",
       "      <td>0</td>\n",
       "      <td>0</td>\n",
       "      <td>0</td>\n",
       "    </tr>\n",
       "    <tr>\n",
       "      <th>53</th>\n",
       "      <td>ý</td>\n",
       "      <td>0</td>\n",
       "      <td>0</td>\n",
       "      <td>0</td>\n",
       "      <td>0</td>\n",
       "      <td>0</td>\n",
       "      <td>0</td>\n",
       "      <td>0</td>\n",
       "      <td>0</td>\n",
       "      <td>0</td>\n",
       "      <td>0</td>\n",
       "      <td>0</td>\n",
       "      <td>0.228%</td>\n",
       "      <td>0</td>\n",
       "      <td>0.995%</td>\n",
       "    </tr>\n",
       "    <tr>\n",
       "      <th>54</th>\n",
       "      <td>þ</td>\n",
       "      <td>0</td>\n",
       "      <td>0</td>\n",
       "      <td>0</td>\n",
       "      <td>0</td>\n",
       "      <td>0</td>\n",
       "      <td>0</td>\n",
       "      <td>0</td>\n",
       "      <td>0</td>\n",
       "      <td>0</td>\n",
       "      <td>0</td>\n",
       "      <td>0</td>\n",
       "      <td>1.455%</td>\n",
       "      <td>0</td>\n",
       "      <td>0</td>\n",
       "    </tr>\n",
       "    <tr>\n",
       "      <th>55</th>\n",
       "      <td>ą</td>\n",
       "      <td>0</td>\n",
       "      <td>0</td>\n",
       "      <td>0</td>\n",
       "      <td>0</td>\n",
       "      <td>0</td>\n",
       "      <td>0</td>\n",
       "      <td>0</td>\n",
       "      <td>0</td>\n",
       "      <td>0.699%</td>\n",
       "      <td>0</td>\n",
       "      <td>0</td>\n",
       "      <td>0</td>\n",
       "      <td>0</td>\n",
       "      <td>0</td>\n",
       "    </tr>\n",
       "    <tr>\n",
       "      <th>56</th>\n",
       "      <td>ć</td>\n",
       "      <td>0</td>\n",
       "      <td>0</td>\n",
       "      <td>0</td>\n",
       "      <td>0</td>\n",
       "      <td>0</td>\n",
       "      <td>0</td>\n",
       "      <td>0</td>\n",
       "      <td>0</td>\n",
       "      <td>0.743%</td>\n",
       "      <td>0</td>\n",
       "      <td>0</td>\n",
       "      <td>0</td>\n",
       "      <td>0</td>\n",
       "      <td>0</td>\n",
       "    </tr>\n",
       "    <tr>\n",
       "      <th>57</th>\n",
       "      <td>ĉ</td>\n",
       "      <td>0</td>\n",
       "      <td>0</td>\n",
       "      <td>0</td>\n",
       "      <td>0</td>\n",
       "      <td>0.657%</td>\n",
       "      <td>0</td>\n",
       "      <td>0</td>\n",
       "      <td>0</td>\n",
       "      <td>0</td>\n",
       "      <td>0</td>\n",
       "      <td>0</td>\n",
       "      <td>0</td>\n",
       "      <td>0</td>\n",
       "      <td>0</td>\n",
       "    </tr>\n",
       "    <tr>\n",
       "      <th>58</th>\n",
       "      <td>č</td>\n",
       "      <td>0</td>\n",
       "      <td>0</td>\n",
       "      <td>0</td>\n",
       "      <td>0</td>\n",
       "      <td>0</td>\n",
       "      <td>0</td>\n",
       "      <td>0</td>\n",
       "      <td>0</td>\n",
       "      <td>0</td>\n",
       "      <td>0</td>\n",
       "      <td>0</td>\n",
       "      <td>0</td>\n",
       "      <td>0</td>\n",
       "      <td>0.462%</td>\n",
       "    </tr>\n",
       "    <tr>\n",
       "      <th>59</th>\n",
       "      <td>ď</td>\n",
       "      <td>0</td>\n",
       "      <td>0</td>\n",
       "      <td>0</td>\n",
       "      <td>0</td>\n",
       "      <td>0</td>\n",
       "      <td>0</td>\n",
       "      <td>0</td>\n",
       "      <td>0</td>\n",
       "      <td>0</td>\n",
       "      <td>0</td>\n",
       "      <td>0</td>\n",
       "      <td>0</td>\n",
       "      <td>0</td>\n",
       "      <td>0.015%</td>\n",
       "    </tr>\n",
       "    <tr>\n",
       "      <th>60</th>\n",
       "      <td>ę</td>\n",
       "      <td>0</td>\n",
       "      <td>0</td>\n",
       "      <td>0</td>\n",
       "      <td>0</td>\n",
       "      <td>0</td>\n",
       "      <td>0</td>\n",
       "      <td>0</td>\n",
       "      <td>0</td>\n",
       "      <td>1.035%</td>\n",
       "      <td>0</td>\n",
       "      <td>0</td>\n",
       "      <td>0</td>\n",
       "      <td>0</td>\n",
       "      <td>0</td>\n",
       "    </tr>\n",
       "    <tr>\n",
       "      <th>61</th>\n",
       "      <td>ě</td>\n",
       "      <td>0</td>\n",
       "      <td>0</td>\n",
       "      <td>0</td>\n",
       "      <td>0</td>\n",
       "      <td>0</td>\n",
       "      <td>0</td>\n",
       "      <td>0</td>\n",
       "      <td>0</td>\n",
       "      <td>0</td>\n",
       "      <td>0</td>\n",
       "      <td>0</td>\n",
       "      <td>0</td>\n",
       "      <td>0</td>\n",
       "      <td>1.222%</td>\n",
       "    </tr>\n",
       "    <tr>\n",
       "      <th>62</th>\n",
       "      <td>ĝ</td>\n",
       "      <td>0</td>\n",
       "      <td>0</td>\n",
       "      <td>0</td>\n",
       "      <td>0</td>\n",
       "      <td>0.691%</td>\n",
       "      <td>0</td>\n",
       "      <td>0</td>\n",
       "      <td>0</td>\n",
       "      <td>0</td>\n",
       "      <td>0</td>\n",
       "      <td>0</td>\n",
       "      <td>0</td>\n",
       "      <td>0</td>\n",
       "      <td>0</td>\n",
       "    </tr>\n",
       "    <tr>\n",
       "      <th>63</th>\n",
       "      <td>ğ</td>\n",
       "      <td>0</td>\n",
       "      <td>0</td>\n",
       "      <td>0</td>\n",
       "      <td>0</td>\n",
       "      <td>0</td>\n",
       "      <td>0</td>\n",
       "      <td>1.125%</td>\n",
       "      <td>0</td>\n",
       "      <td>0</td>\n",
       "      <td>0</td>\n",
       "      <td>0</td>\n",
       "      <td>0</td>\n",
       "      <td>0</td>\n",
       "      <td>0</td>\n",
       "    </tr>\n",
       "    <tr>\n",
       "      <th>64</th>\n",
       "      <td>ĥ</td>\n",
       "      <td>0</td>\n",
       "      <td>0</td>\n",
       "      <td>0</td>\n",
       "      <td>0</td>\n",
       "      <td>0.022%</td>\n",
       "      <td>0</td>\n",
       "      <td>0</td>\n",
       "      <td>0</td>\n",
       "      <td>0</td>\n",
       "      <td>0</td>\n",
       "      <td>0</td>\n",
       "      <td>0</td>\n",
       "      <td>0</td>\n",
       "      <td>0</td>\n",
       "    </tr>\n",
       "    <tr>\n",
       "      <th>65</th>\n",
       "      <td>ı</td>\n",
       "      <td>0</td>\n",
       "      <td>0</td>\n",
       "      <td>0</td>\n",
       "      <td>0</td>\n",
       "      <td>0</td>\n",
       "      <td>0</td>\n",
       "      <td>5.114%*</td>\n",
       "      <td>0</td>\n",
       "      <td>0</td>\n",
       "      <td>0</td>\n",
       "      <td>0</td>\n",
       "      <td>0</td>\n",
       "      <td>0</td>\n",
       "      <td>0</td>\n",
       "    </tr>\n",
       "    <tr>\n",
       "      <th>66</th>\n",
       "      <td>ĵ</td>\n",
       "      <td>0</td>\n",
       "      <td>0</td>\n",
       "      <td>0</td>\n",
       "      <td>0</td>\n",
       "      <td>0.055%</td>\n",
       "      <td>0</td>\n",
       "      <td>0</td>\n",
       "      <td>0</td>\n",
       "      <td>0</td>\n",
       "      <td>0</td>\n",
       "      <td>0</td>\n",
       "      <td>0</td>\n",
       "      <td>0</td>\n",
       "      <td>0</td>\n",
       "    </tr>\n",
       "    <tr>\n",
       "      <th>67</th>\n",
       "      <td>ł</td>\n",
       "      <td>0</td>\n",
       "      <td>0</td>\n",
       "      <td>0</td>\n",
       "      <td>0</td>\n",
       "      <td>0</td>\n",
       "      <td>0</td>\n",
       "      <td>0</td>\n",
       "      <td>0</td>\n",
       "      <td>2.109%</td>\n",
       "      <td>0</td>\n",
       "      <td>0</td>\n",
       "      <td>0</td>\n",
       "      <td>0</td>\n",
       "      <td>0</td>\n",
       "    </tr>\n",
       "    <tr>\n",
       "      <th>68</th>\n",
       "      <td>ń</td>\n",
       "      <td>0</td>\n",
       "      <td>0</td>\n",
       "      <td>0</td>\n",
       "      <td>0</td>\n",
       "      <td>0</td>\n",
       "      <td>0</td>\n",
       "      <td>0</td>\n",
       "      <td>0</td>\n",
       "      <td>0.362%</td>\n",
       "      <td>0</td>\n",
       "      <td>0</td>\n",
       "      <td>0</td>\n",
       "      <td>0</td>\n",
       "      <td>0</td>\n",
       "    </tr>\n",
       "    <tr>\n",
       "      <th>69</th>\n",
       "      <td>ň</td>\n",
       "      <td>0</td>\n",
       "      <td>0</td>\n",
       "      <td>0</td>\n",
       "      <td>0</td>\n",
       "      <td>0</td>\n",
       "      <td>0</td>\n",
       "      <td>0</td>\n",
       "      <td>0</td>\n",
       "      <td>0</td>\n",
       "      <td>0</td>\n",
       "      <td>0</td>\n",
       "      <td>0</td>\n",
       "      <td>0</td>\n",
       "      <td>0.007%</td>\n",
       "    </tr>\n",
       "    <tr>\n",
       "      <th>70</th>\n",
       "      <td>œ</td>\n",
       "      <td>0.018%</td>\n",
       "      <td>0</td>\n",
       "      <td>0</td>\n",
       "      <td>0</td>\n",
       "      <td>0</td>\n",
       "      <td>0</td>\n",
       "      <td>0</td>\n",
       "      <td>0</td>\n",
       "      <td>0</td>\n",
       "      <td>0</td>\n",
       "      <td>0</td>\n",
       "      <td>0</td>\n",
       "      <td>0</td>\n",
       "      <td>0</td>\n",
       "    </tr>\n",
       "    <tr>\n",
       "      <th>71</th>\n",
       "      <td>ř</td>\n",
       "      <td>0</td>\n",
       "      <td>0</td>\n",
       "      <td>0</td>\n",
       "      <td>0</td>\n",
       "      <td>0</td>\n",
       "      <td>0</td>\n",
       "      <td>0</td>\n",
       "      <td>0</td>\n",
       "      <td>0</td>\n",
       "      <td>0</td>\n",
       "      <td>0</td>\n",
       "      <td>0</td>\n",
       "      <td>0</td>\n",
       "      <td>0.380%</td>\n",
       "    </tr>\n",
       "    <tr>\n",
       "      <th>72</th>\n",
       "      <td>ś</td>\n",
       "      <td>0</td>\n",
       "      <td>0</td>\n",
       "      <td>0</td>\n",
       "      <td>0</td>\n",
       "      <td>0</td>\n",
       "      <td>0</td>\n",
       "      <td>0</td>\n",
       "      <td>0</td>\n",
       "      <td>0.814%</td>\n",
       "      <td>0</td>\n",
       "      <td>0</td>\n",
       "      <td>0</td>\n",
       "      <td>0</td>\n",
       "      <td>0</td>\n",
       "    </tr>\n",
       "    <tr>\n",
       "      <th>73</th>\n",
       "      <td>ŝ</td>\n",
       "      <td>0</td>\n",
       "      <td>0</td>\n",
       "      <td>0</td>\n",
       "      <td>0</td>\n",
       "      <td>0.385%</td>\n",
       "      <td>0</td>\n",
       "      <td>0</td>\n",
       "      <td>0</td>\n",
       "      <td>0</td>\n",
       "      <td>0</td>\n",
       "      <td>0</td>\n",
       "      <td>0</td>\n",
       "      <td>0</td>\n",
       "      <td>0</td>\n",
       "    </tr>\n",
       "    <tr>\n",
       "      <th>74</th>\n",
       "      <td>ş</td>\n",
       "      <td>0</td>\n",
       "      <td>0</td>\n",
       "      <td>0</td>\n",
       "      <td>0</td>\n",
       "      <td>0</td>\n",
       "      <td>0</td>\n",
       "      <td>1.780%</td>\n",
       "      <td>0</td>\n",
       "      <td>0</td>\n",
       "      <td>0</td>\n",
       "      <td>0</td>\n",
       "      <td>0</td>\n",
       "      <td>0</td>\n",
       "      <td>0</td>\n",
       "    </tr>\n",
       "    <tr>\n",
       "      <th>75</th>\n",
       "      <td>š</td>\n",
       "      <td>0</td>\n",
       "      <td>0</td>\n",
       "      <td>0</td>\n",
       "      <td>0</td>\n",
       "      <td>0</td>\n",
       "      <td>0</td>\n",
       "      <td>0</td>\n",
       "      <td>0</td>\n",
       "      <td>0</td>\n",
       "      <td>0</td>\n",
       "      <td>0</td>\n",
       "      <td>0</td>\n",
       "      <td>0</td>\n",
       "      <td>0.688%</td>\n",
       "    </tr>\n",
       "    <tr>\n",
       "      <th>76</th>\n",
       "      <td>ť</td>\n",
       "      <td>0</td>\n",
       "      <td>0</td>\n",
       "      <td>0</td>\n",
       "      <td>0</td>\n",
       "      <td>0</td>\n",
       "      <td>0</td>\n",
       "      <td>0</td>\n",
       "      <td>0</td>\n",
       "      <td>0</td>\n",
       "      <td>0</td>\n",
       "      <td>0</td>\n",
       "      <td>0</td>\n",
       "      <td>0</td>\n",
       "      <td>0.006%</td>\n",
       "    </tr>\n",
       "    <tr>\n",
       "      <th>77</th>\n",
       "      <td>ŭ</td>\n",
       "      <td>0</td>\n",
       "      <td>0</td>\n",
       "      <td>0</td>\n",
       "      <td>0</td>\n",
       "      <td>0.520%</td>\n",
       "      <td>0</td>\n",
       "      <td>0</td>\n",
       "      <td>0</td>\n",
       "      <td>0</td>\n",
       "      <td>0</td>\n",
       "      <td>0</td>\n",
       "      <td>0</td>\n",
       "      <td>0</td>\n",
       "      <td>0</td>\n",
       "    </tr>\n",
       "    <tr>\n",
       "      <th>78</th>\n",
       "      <td>ů</td>\n",
       "      <td>0</td>\n",
       "      <td>0</td>\n",
       "      <td>0</td>\n",
       "      <td>0</td>\n",
       "      <td>0</td>\n",
       "      <td>0</td>\n",
       "      <td>0</td>\n",
       "      <td>0</td>\n",
       "      <td>0</td>\n",
       "      <td>0</td>\n",
       "      <td>0</td>\n",
       "      <td>0</td>\n",
       "      <td>0</td>\n",
       "      <td>0.204%</td>\n",
       "    </tr>\n",
       "    <tr>\n",
       "      <th>79</th>\n",
       "      <td>ź</td>\n",
       "      <td>0</td>\n",
       "      <td>0</td>\n",
       "      <td>0</td>\n",
       "      <td>0</td>\n",
       "      <td>0</td>\n",
       "      <td>0</td>\n",
       "      <td>0</td>\n",
       "      <td>0</td>\n",
       "      <td>0.078%</td>\n",
       "      <td>0</td>\n",
       "      <td>0</td>\n",
       "      <td>0</td>\n",
       "      <td>0</td>\n",
       "      <td>0</td>\n",
       "    </tr>\n",
       "    <tr>\n",
       "      <th>80</th>\n",
       "      <td>ż</td>\n",
       "      <td>0</td>\n",
       "      <td>0</td>\n",
       "      <td>0</td>\n",
       "      <td>0</td>\n",
       "      <td>0</td>\n",
       "      <td>0</td>\n",
       "      <td>0</td>\n",
       "      <td>0</td>\n",
       "      <td>0.706%</td>\n",
       "      <td>0</td>\n",
       "      <td>0</td>\n",
       "      <td>0</td>\n",
       "      <td>0</td>\n",
       "      <td>0</td>\n",
       "    </tr>\n",
       "    <tr>\n",
       "      <th>81</th>\n",
       "      <td>ž</td>\n",
       "      <td>0</td>\n",
       "      <td>0</td>\n",
       "      <td>0</td>\n",
       "      <td>0</td>\n",
       "      <td>0</td>\n",
       "      <td>0</td>\n",
       "      <td>0</td>\n",
       "      <td>0</td>\n",
       "      <td>0</td>\n",
       "      <td>0</td>\n",
       "      <td>0</td>\n",
       "      <td>0</td>\n",
       "      <td>0</td>\n",
       "      <td>0.721%</td>\n",
       "    </tr>\n",
       "  </tbody>\n",
       "</table>\n",
       "<p>82 rows × 15 columns</p>\n",
       "</div>"
      ],
      "text/plain": [
       "   Letter   French   German  Spanish Portuguese Esperanto  Italian  Turkish  \\\n",
       "0       a   7.636%   6.516%  11.525%    14.634%   12.117%  11.745%  12.920%   \n",
       "1       b   0.901%   1.886%   2.215%     1.043%    0.980%   0.927%   2.844%   \n",
       "2       c   3.260%   2.732%   4.019%     3.882%    0.776%   4.501%   1.463%   \n",
       "3       d   3.669%   5.076%   5.010%     4.992%    3.044%   3.736%   5.206%   \n",
       "4       e  14.715%  16.396%  12.181%    12.570%    8.995%  11.792%   9.912%   \n",
       "5       f   1.066%   1.656%   0.692%     1.023%    1.037%   1.153%   0.461%   \n",
       "6       g   0.866%   3.009%   1.768%     1.303%    1.171%   1.644%   1.253%   \n",
       "7       h   0.737%   4.577%   0.703%     0.781%    0.384%   0.636%   1.212%   \n",
       "8       i   7.529%   6.550%   6.247%     6.186%   10.012%  10.143%  9.600%*   \n",
       "9       j   0.613%   0.268%   0.493%     0.397%    3.501%   0.011%   0.034%   \n",
       "10      k   0.049%   1.417%   0.011%     0.015%    4.163%   0.009%   5.683%   \n",
       "11      l   5.456%   3.437%   4.967%     2.779%    6.104%   6.510%   5.922%   \n",
       "12      m   2.968%   2.534%   3.157%     4.738%    2.994%   2.512%   3.752%   \n",
       "13      n   7.095%   9.776%   6.712%     4.446%    7.955%   6.883%   7.987%   \n",
       "14      o   5.796%   2.594%   8.683%     9.735%    8.779%   9.832%   2.976%   \n",
       "15      p   2.521%   0.670%   2.510%     2.523%    2.755%   3.056%   0.886%   \n",
       "16      q   1.362%   0.018%   0.877%     1.204%         0   0.505%        0   \n",
       "17      r   6.693%   7.003%   6.871%     6.530%    5.914%   6.367%   7.722%   \n",
       "18      s   7.948%   7.270%   7.977%     6.805%    6.092%   4.981%   3.014%   \n",
       "19      t   7.244%   6.154%   4.632%     4.336%    5.276%   5.623%   3.314%   \n",
       "20      u   6.311%   4.166%   2.927%     3.639%    3.183%   3.011%   3.235%   \n",
       "21      v   1.838%   0.846%   1.138%     1.575%    1.904%   2.097%   0.959%   \n",
       "22      w   0.074%   1.921%   0.017%     0.037%         0   0.033%        0   \n",
       "23      x   0.427%   0.034%   0.215%     0.253%         0   0.003%        0   \n",
       "24      y   0.128%   0.039%   1.008%     0.006%         0   0.020%   3.336%   \n",
       "25      z   0.326%   1.134%   0.467%     0.470%    0.494%   1.181%   1.500%   \n",
       "26      ß        0   0.307%        0          0         0        0        0   \n",
       "27      à   0.486%        0        0     0.072%         0   0.635%        0   \n",
       "28      á        0        0   0.502%     0.118%         0        0        0   \n",
       "29      â   0.051%        0        0     0.562%         0        0        0   \n",
       "..    ...      ...      ...      ...        ...       ...      ...      ...   \n",
       "52      ü        0   0.995%   0.012%     0.026%         0        0   1.854%   \n",
       "53      ý        0        0        0          0         0        0        0   \n",
       "54      þ        0        0        0          0         0        0        0   \n",
       "55      ą        0        0        0          0         0        0        0   \n",
       "56      ć        0        0        0          0         0        0        0   \n",
       "57      ĉ        0        0        0          0    0.657%        0        0   \n",
       "58      č        0        0        0          0         0        0        0   \n",
       "59      ď        0        0        0          0         0        0        0   \n",
       "60      ę        0        0        0          0         0        0        0   \n",
       "61      ě        0        0        0          0         0        0        0   \n",
       "62      ĝ        0        0        0          0    0.691%        0        0   \n",
       "63      ğ        0        0        0          0         0        0   1.125%   \n",
       "64      ĥ        0        0        0          0    0.022%        0        0   \n",
       "65      ı        0        0        0          0         0        0  5.114%*   \n",
       "66      ĵ        0        0        0          0    0.055%        0        0   \n",
       "67      ł        0        0        0          0         0        0        0   \n",
       "68      ń        0        0        0          0         0        0        0   \n",
       "69      ň        0        0        0          0         0        0        0   \n",
       "70      œ   0.018%        0        0          0         0        0        0   \n",
       "71      ř        0        0        0          0         0        0        0   \n",
       "72      ś        0        0        0          0         0        0        0   \n",
       "73      ŝ        0        0        0          0    0.385%        0        0   \n",
       "74      ş        0        0        0          0         0        0   1.780%   \n",
       "75      š        0        0        0          0         0        0        0   \n",
       "76      ť        0        0        0          0         0        0        0   \n",
       "77      ŭ        0        0        0          0    0.520%        0        0   \n",
       "78      ů        0        0        0          0         0        0        0   \n",
       "79      ź        0        0        0          0         0        0        0   \n",
       "80      ż        0        0        0          0         0        0        0   \n",
       "81      ž        0        0        0          0         0        0        0   \n",
       "\n",
       "    Swedish   Polish    Dutch   Danish Icelandic  Finnish   Czech  \n",
       "0    9.383%  10.503%   7.486%   6.025%   10.110%  12.217%  8.421%  \n",
       "1    1.535%   1.740%   1.584%   2.000%    1.043%   0.281%  0.822%  \n",
       "2    1.486%   3.895%   1.242%   0.565%         0   0.281%  0.740%  \n",
       "3    4.702%   3.725%   5.933%   5.858%    1.575%   1.043%  3.475%  \n",
       "4   10.149%   7.352%  17.324%  15.453%    6.418%   7.968%  7.562%  \n",
       "5    2.027%   0.143%   0.805%   2.406%    3.013%   0.194%  0.084%  \n",
       "6    2.862%   1.731%   3.403%   4.077%    4.241%   0.392%  0.092%  \n",
       "7    2.090%   1.015%   2.380%   1.621%    1.871%   1.851%  1.356%  \n",
       "8    5.817%   8.328%   6.499%   6.000%    7.578%  10.817%  6.073%  \n",
       "9    0.614%   1.836%   1.461%   0.730%    1.144%   2.042%  1.433%  \n",
       "10   3.140%   2.753%   2.248%   3.395%    3.314%   4.973%  2.894%  \n",
       "11   5.275%   2.564%   3.568%   5.229%    4.532%   5.761%  3.802%  \n",
       "12   3.471%   2.515%   2.213%   3.237%    4.041%   3.202%  2.446%  \n",
       "13   8.542%   6.237%  10.032%   7.240%    7.711%   8.826%  6.468%  \n",
       "14   4.482%   6.667%   6.063%   4.636%    2.166%   5.614%  6.695%  \n",
       "15   1.839%   2.445%   1.370%   1.756%    0.789%   1.842%  1.906%  \n",
       "16   0.020%        0   0.009%   0.007%         0   0.013%  0.001%  \n",
       "17   8.431%   5.243%   6.411%   8.956%    8.581%   2.872%  4.799%  \n",
       "18   6.590%   5.224%   5.733%   5.805%    5.630%   7.862%  5.212%  \n",
       "19   7.691%   2.475%   6.923%   6.862%    4.953%   8.750%  5.727%  \n",
       "20   1.919%   2.062%   2.192%   1.979%    4.562%   5.008%  2.160%  \n",
       "21   2.415%   0.012%   1.854%   2.332%    2.437%   2.250%  5.344%  \n",
       "22   0.142%   5.813%   1.821%   0.069%         0   0.094%  0.016%  \n",
       "23   0.159%   0.004%   0.036%   0.028%    0.046%   0.031%  0.027%  \n",
       "24   0.708%   3.206%   0.035%   0.698%    0.900%   1.745%  1.043%  \n",
       "25   0.070%   4.852%   1.374%   0.034%         0   0.051%  1.503%  \n",
       "26        0        0        0        0         0        0       0  \n",
       "27        0        0        0        0         0        0       0  \n",
       "28        0        0        0        0    1.799%        0  0.867%  \n",
       "29        0        0        0        0         0        0       0  \n",
       "..      ...      ...      ...      ...       ...      ...     ...  \n",
       "52        0        0        0        0         0        0       0  \n",
       "53        0        0        0        0    0.228%        0  0.995%  \n",
       "54        0        0        0        0    1.455%        0       0  \n",
       "55        0   0.699%        0        0         0        0       0  \n",
       "56        0   0.743%        0        0         0        0       0  \n",
       "57        0        0        0        0         0        0       0  \n",
       "58        0        0        0        0         0        0  0.462%  \n",
       "59        0        0        0        0         0        0  0.015%  \n",
       "60        0   1.035%        0        0         0        0       0  \n",
       "61        0        0        0        0         0        0  1.222%  \n",
       "62        0        0        0        0         0        0       0  \n",
       "63        0        0        0        0         0        0       0  \n",
       "64        0        0        0        0         0        0       0  \n",
       "65        0        0        0        0         0        0       0  \n",
       "66        0        0        0        0         0        0       0  \n",
       "67        0   2.109%        0        0         0        0       0  \n",
       "68        0   0.362%        0        0         0        0       0  \n",
       "69        0        0        0        0         0        0  0.007%  \n",
       "70        0        0        0        0         0        0       0  \n",
       "71        0        0        0        0         0        0  0.380%  \n",
       "72        0   0.814%        0        0         0        0       0  \n",
       "73        0        0        0        0         0        0       0  \n",
       "74        0        0        0        0         0        0       0  \n",
       "75        0        0        0        0         0        0  0.688%  \n",
       "76        0        0        0        0         0        0  0.006%  \n",
       "77        0        0        0        0         0        0       0  \n",
       "78        0        0        0        0         0        0  0.204%  \n",
       "79        0   0.078%        0        0         0        0       0  \n",
       "80        0   0.706%        0        0         0        0       0  \n",
       "81        0        0        0        0         0        0  0.721%  \n",
       "\n",
       "[82 rows x 15 columns]"
      ]
     },
     "execution_count": 51,
     "metadata": {},
     "output_type": "execute_result"
    }
   ],
   "source": [
    "df"
   ]
  },
  {
   "cell_type": "code",
   "execution_count": null,
   "metadata": {},
   "outputs": [],
   "source": []
  }
 ],
 "metadata": {
  "kernelspec": {
   "display_name": "Python 3",
   "language": "python",
   "name": "python3"
  },
  "language_info": {
   "codemirror_mode": {
    "name": "ipython",
    "version": 3
   },
   "file_extension": ".py",
   "mimetype": "text/x-python",
   "name": "python",
   "nbconvert_exporter": "python",
   "pygments_lexer": "ipython3",
   "version": "3.6.5"
  }
 },
 "nbformat": 4,
 "nbformat_minor": 2
}
