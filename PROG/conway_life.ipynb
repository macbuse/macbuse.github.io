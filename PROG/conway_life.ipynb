{
 "cells": [
  {
   "cell_type": "markdown",
   "metadata": {},
   "source": [
    "# Random blocks\n",
    "\n",
    "\n",
    "\n",
    "Square blocks are dropped into a grid, similar to the game\n",
    "[Connect 4](https://en.wikipedia.org/wiki/Connect_Four).\n",
    "\n",
    " \n",
    "A block starts in some column and \n",
    "falls vertically stopping :\n",
    "\n",
    "- on another block already on the grid\n",
    "- next to another block already on the grid\n",
    "- on the bottom of the grid.\n",
    "\n",
    "so it stops as soon as one of the folowing conditions is satisfied:\n",
    "- there is a block directly below it\n",
    "- there is a block on the left or right\n",
    "- it reaches the bottom of the grid.\n",
    "\n",
    "\n",
    "So major difference with the game **Connect 4**, \n",
    "is that our blocks are “sticky”, \n",
    "i.e. a block will stop\n",
    "as soon as it meets a neighbor on the left or the right.\n",
    "\n",
    "![img](coral.png)\n",
    "\n",
    "source : [Python in High School](https://www.amazon.com/Python-High-School-Algorithms-Mathematics/dp/B085RQRSHL)\n"
   ]
  },
  {
   "cell_type": "code",
   "execution_count": 12,
   "metadata": {},
   "outputs": [],
   "source": [
    "import numpy as np\n",
    "import matplotlib.pyplot as plt"
   ]
  },
  {
   "cell_type": "markdown",
   "metadata": {},
   "source": [
    "## make an empty grid"
   ]
  },
  {
   "cell_type": "code",
   "execution_count": 13,
   "metadata": {},
   "outputs": [
    {
     "name": "stdout",
     "output_type": "stream",
     "text": [
      "[[0 0 0 0 0 0 0 0 0 0]\n",
      " [0 0 0 0 0 0 0 0 0 0]\n",
      " [0 0 0 0 0 0 0 0 0 0]\n",
      " [0 0 0 0 0 0 0 0 0 0]\n",
      " [0 0 0 0 0 0 0 0 0 0]\n",
      " [0 0 0 0 0 0 0 0 0 0]\n",
      " [0 0 0 0 0 0 0 0 0 0]\n",
      " [0 0 0 0 0 0 0 0 0 0]\n",
      " [0 0 0 0 0 0 0 0 0 0]\n",
      " [0 0 0 0 0 0 0 0 0 0]]\n"
     ]
    }
   ],
   "source": [
    "X = np.zeros((10,10), dtype=np.int8)\n",
    "print(X)"
   ]
  },
  {
   "cell_type": "markdown",
   "metadata": {},
   "source": [
    "## fill in some cells with 1s"
   ]
  },
  {
   "cell_type": "code",
   "execution_count": 20,
   "metadata": {},
   "outputs": [
    {
     "name": "stdout",
     "output_type": "stream",
     "text": [
      "[[0 0 0 0 0 1 0 0 0 0]\n",
      " [0 0 0 0 0 0 0 0 0 0]\n",
      " [0 0 0 0 0 0 0 0 0 0]\n",
      " [0 0 0 0 0 0 0 0 0 0]\n",
      " [0 0 0 0 0 0 0 0 0 0]\n",
      " [0 0 0 0 0 0 0 0 0 0]\n",
      " [0 0 0 0 0 0 0 0 0 0]\n",
      " [0 0 0 0 0 0 0 0 0 0]\n",
      " [0 0 0 0 0 0 0 0 0 0]\n",
      " [1 1 1 1 1 1 1 1 1 1]]\n"
     ]
    }
   ],
   "source": [
    "X[0,5] = 1\n",
    "X[-1,:] = 1\n",
    "print(X)"
   ]
  },
  {
   "cell_type": "markdown",
   "metadata": {},
   "source": [
    "## writing a function\n",
    "\n",
    "I started writing a function to implement the stopping conditions\n",
    "\n",
    "the blocks stops :\n",
    "1. on the bottom of the grid\n",
    "1. on another block already on the grid\n",
    "1. next to another block already on the grid.\n",
    "\n",
    "but I decided to do it using just numpy operations"
   ]
  },
  {
   "cell_type": "code",
   "execution_count": 15,
   "metadata": {},
   "outputs": [],
   "source": [
    "def to_chk(x):\n",
    "    if 1 < x < 10: \n",
    "        rr = [x - 1 , x, x + 1]\n",
    "    if x == 0: \n",
    "        rr = [0, 1]\n",
    "    if x == 10: \n",
    "        rr = [9,10]\n",
    "    rr.extend([x + 10 for x in rr])\n",
    "    return rr\n",
    "    "
   ]
  },
  {
   "cell_type": "markdown",
   "metadata": {},
   "source": [
    "## Tricks\n",
    "\n",
    "In programming there always **tricks**.\n",
    "\n",
    "A programmer/mathematician must always \n",
    "thinks about how to represent the data first.\n",
    "The way it is represented must make the implementation \n",
    "as elegant as possible.\n",
    "\n",
    "### Representing the grid\n",
    "\n",
    "1. fill the bottom row with blocks\n",
    "1. blocks don't drop in the first and last columns\n",
    "\n",
    "this makes the effective size of the grid smaller \n",
    "but makes the program easier to implement.\n",
    "\n",
    "### Pulling out a subgrid\n",
    "\n",
    "We don't actually have to look \n",
    "at the **whole** grid to find\n",
    "the resting place of the block.\n",
    "To verify the three conditions \n",
    "we only have to look at \n",
    " three columns from the grid\n",
    "\n",
    "1. the one under the block\n",
    "1. the one to the left of the block\n",
    "1. the one to the right \n",
    "\n",
    "So let's make a copy of them:\n",
    "if 0<x is the column number for the block then\n",
    "\n"
   ]
  },
  {
   "cell_type": "code",
   "execution_count": 19,
   "metadata": {},
   "outputs": [
    {
     "ename": "NameError",
     "evalue": "name 'grid' is not defined",
     "output_type": "error",
     "traceback": [
      "\u001b[0;31m---------------------------------------------------------------------------\u001b[0m",
      "\u001b[0;31mNameError\u001b[0m                                 Traceback (most recent call last)",
      "\u001b[0;32m<ipython-input-19-24a196669688>\u001b[0m in \u001b[0;36m<module>\u001b[0;34m\u001b[0m\n\u001b[0;32m----> 1\u001b[0;31m \u001b[0mU\u001b[0m \u001b[0;34m=\u001b[0m \u001b[0mgrid\u001b[0m\u001b[0;34m[\u001b[0m\u001b[0;34m:\u001b[0m\u001b[0;34m,\u001b[0m \u001b[0mx\u001b[0m\u001b[0;34m-\u001b[0m\u001b[0;36m1\u001b[0m\u001b[0;34m:\u001b[0m \u001b[0mx\u001b[0m\u001b[0;34m+\u001b[0m\u001b[0;36m2\u001b[0m\u001b[0;34m]\u001b[0m\u001b[0;34m\u001b[0m\u001b[0;34m\u001b[0m\u001b[0m\n\u001b[0m",
      "\u001b[0;31mNameError\u001b[0m: name 'grid' is not defined"
     ]
    }
   ],
   "source": [
    "U = grid[:, x-1: x+2]"
   ]
  },
  {
   "cell_type": "markdown",
   "metadata": {},
   "source": [
    "The middle column is special: if there\n",
    "is a block in it we have to stop before we hit it.\n",
    "If we shift the values in this column up one place\n",
    "then the stopping condition becomes symmetric.\n",
    "\n",
    "I actually take a transpose before shifting it \n",
    "so that the column becomes a row."
   ]
  },
  {
   "cell_type": "code",
   "execution_count": 17,
   "metadata": {},
   "outputs": [
    {
     "ename": "NameError",
     "evalue": "name 'U' is not defined",
     "output_type": "error",
     "traceback": [
      "\u001b[0;31m---------------------------------------------------------------------------\u001b[0m",
      "\u001b[0;31mNameError\u001b[0m                                 Traceback (most recent call last)",
      "\u001b[0;32m<ipython-input-17-eb1a8ef692ec>\u001b[0m in \u001b[0;36m<module>\u001b[0;34m\u001b[0m\n\u001b[0;32m----> 1\u001b[0;31m \u001b[0mU\u001b[0m \u001b[0;34m=\u001b[0m \u001b[0mU\u001b[0m\u001b[0;34m.\u001b[0m\u001b[0mT\u001b[0m\u001b[0;34m\u001b[0m\u001b[0;34m\u001b[0m\u001b[0m\n\u001b[0m\u001b[1;32m      2\u001b[0m \u001b[0mU\u001b[0m\u001b[0;34m[\u001b[0m\u001b[0;36m1\u001b[0m\u001b[0;34m]\u001b[0m \u001b[0;34m=\u001b[0m \u001b[0mnp\u001b[0m\u001b[0;34m.\u001b[0m\u001b[0mroll\u001b[0m\u001b[0;34m(\u001b[0m\u001b[0mU\u001b[0m\u001b[0;34m[\u001b[0m\u001b[0;36m1\u001b[0m\u001b[0;34m]\u001b[0m\u001b[0;34m,\u001b[0m \u001b[0;34m-\u001b[0m\u001b[0;36m1\u001b[0m\u001b[0;34m)\u001b[0m\u001b[0;34m\u001b[0m\u001b[0;34m\u001b[0m\u001b[0m\n",
      "\u001b[0;31mNameError\u001b[0m: name 'U' is not defined"
     ]
    }
   ],
   "source": [
    "U = U.T \n",
    "U[1] = np.roll(U[1], -1)   "
   ]
  },
  {
   "cell_type": "markdown",
   "metadata": {},
   "source": [
    "now we look for the index of  the first non zero element in each row"
   ]
  },
  {
   "cell_type": "code",
   "execution_count": 18,
   "metadata": {},
   "outputs": [
    {
     "ename": "NameError",
     "evalue": "name 'U' is not defined",
     "output_type": "error",
     "traceback": [
      "\u001b[0;31m---------------------------------------------------------------------------\u001b[0m",
      "\u001b[0;31mNameError\u001b[0m                                 Traceback (most recent call last)",
      "\u001b[0;32m<ipython-input-18-39c84995d436>\u001b[0m in \u001b[0;36m<module>\u001b[0;34m\u001b[0m\n\u001b[0;32m----> 1\u001b[0;31m \u001b[0mys\u001b[0m\u001b[0;34m,\u001b[0m \u001b[0mxs\u001b[0m \u001b[0;34m=\u001b[0m \u001b[0mnp\u001b[0m\u001b[0;34m.\u001b[0m\u001b[0mwhere\u001b[0m\u001b[0;34m(\u001b[0m\u001b[0mU\u001b[0m \u001b[0;34m>\u001b[0m \u001b[0;36m0\u001b[0m\u001b[0;34m)\u001b[0m\u001b[0;34m\u001b[0m\u001b[0;34m\u001b[0m\u001b[0m\n\u001b[0m",
      "\u001b[0;31mNameError\u001b[0m: name 'U' is not defined"
     ]
    }
   ],
   "source": [
    "ys, xs = np.where(U > 0)"
   ]
  },
  {
   "cell_type": "code",
   "execution_count": 21,
   "metadata": {},
   "outputs": [],
   "source": [
    "def find_stop(x, grid): \n",
    "    #make a copy of the 3 cols\n",
    "    U = np.copy( grid[:, x-1: x+2])\n",
    "    # don't need to do this but easier to think this way\n",
    "    U = U.T\n",
    "    # the middle col moves up 1 \n",
    "    U[1] = np.roll(U[1], -1)   \n",
    "    ys, xs = np.where(U > 0)\n",
    "    return min(xs)\n",
    "\n",
    "def grid2im(grid):\n",
    "    return np.stack((1 - grid.astype(np.float).T,)*3).T\n",
    "\n",
    "\n",
    "def mk_shape(size=30,\n",
    "             num_blocks=30*30//3,\n",
    "             anim=False):\n",
    "\n",
    "    grid = np.zeros((size, size), dtype=np.int8)\n",
    "    grid[-1:] = 1 # last line is all 1\n",
    "    \n",
    "    frames = []\n",
    "    for k in range(num_blocks):\n",
    "        x = np.random.randint(1, high=size-1)  \n",
    "        grid[ find_stop(x, grid), x] = 1\n",
    "        if anim : frames.append(np.copy(grid))\n",
    "    \n",
    "    if anim: return frames\n",
    "    return grid\n",
    "    \n",
    "\n"
   ]
  },
  {
   "cell_type": "markdown",
   "metadata": {},
   "source": [
    "## Let's test it\n",
    "\n",
    "works ok but not very nice looking at all those numbers is it?"
   ]
  },
  {
   "cell_type": "code",
   "execution_count": 22,
   "metadata": {},
   "outputs": [
    {
     "name": "stdout",
     "output_type": "stream",
     "text": [
      "[[0 1 1 1 1 1 1 1 1 1 1 1 1 1 1 1 1 1 1 0]\n",
      " [0 1 0 1 1 1 0 1 1 0 1 1 0 1 1 1 0 0 0 0]\n",
      " [0 1 0 1 1 1 1 1 1 0 1 0 0 0 1 1 1 1 1 0]\n",
      " [0 1 0 1 1 1 0 0 1 1 1 0 0 0 0 1 0 0 1 0]\n",
      " [0 1 1 0 1 0 0 0 0 0 1 0 0 0 0 1 1 1 1 0]\n",
      " [0 0 1 1 1 0 1 1 0 1 1 0 0 1 0 1 0 1 0 0]\n",
      " [0 0 0 1 0 0 1 1 0 0 1 1 0 1 0 1 1 1 1 0]\n",
      " [0 0 0 1 0 0 1 1 1 1 1 1 0 1 1 1 0 0 0 0]\n",
      " [0 1 0 1 1 1 1 1 1 0 0 1 0 1 1 0 1 0 1 0]\n",
      " [0 1 0 0 1 0 0 1 1 1 0 1 1 1 1 1 1 0 1 0]\n",
      " [0 1 0 1 1 0 1 1 1 0 1 0 1 1 1 1 1 0 1 0]\n",
      " [0 1 1 1 1 1 1 1 0 1 1 0 0 0 1 0 0 0 1 0]\n",
      " [0 0 0 0 1 0 0 0 0 1 1 1 0 0 1 1 0 0 1 0]\n",
      " [0 0 0 0 1 0 1 0 0 1 1 1 1 0 1 0 0 0 1 0]\n",
      " [0 0 0 1 1 0 1 0 1 1 1 0 1 1 1 0 0 0 1 0]\n",
      " [0 0 0 1 1 0 1 1 1 1 0 0 0 1 0 0 0 0 1 0]\n",
      " [0 1 0 0 1 0 0 1 0 0 0 1 1 1 0 0 0 0 1 0]\n",
      " [0 1 0 0 1 0 0 1 0 1 1 0 1 0 0 0 1 0 1 0]\n",
      " [0 1 1 0 1 0 0 1 0 0 1 0 1 0 1 1 1 1 1 0]\n",
      " [1 1 1 1 1 1 1 1 1 1 1 1 1 1 1 1 1 1 1 1]]\n"
     ]
    }
   ],
   "source": [
    "print(mk_shape(size=20))"
   ]
  },
  {
   "cell_type": "markdown",
   "metadata": {},
   "source": [
    "## There must be a better way\n",
    "\n",
    "or so says [Hettinger](http://dc20011.blogspot.com/2019/06/there-must-be-better-way.html).\n",
    "\n",
    "We can use [matplotlib](https://matplotlib.org/) to make things look better"
   ]
  },
  {
   "cell_type": "code",
   "execution_count": 23,
   "metadata": {},
   "outputs": [
    {
     "data": {
      "image/png": "[encoded data removed]",
      "text/plain": [
       "<Figure size 576x576 with 1 Axes>"
      ]
     },
     "metadata": {
      "needs_background": "light"
     },
     "output_type": "display_data"
    }
   ],
   "source": [
    "X, Y  = np.where( mk_shape(size=30, num_blocks=30**2//4) > 0)\n",
    "\n",
    "fig, ax = plt.subplots()\n",
    "fig.set_size_inches(8, 8)\n",
    "\n",
    "ax.plot(Y, -X,'ro')\n",
    "ax.plot(-Y, -X,'bo'); # symmetric copy (rorschach)\n",
    "\n",
    "plt.axis('off');"
   ]
  },
  {
   "cell_type": "markdown",
   "metadata": {},
   "source": [
    "## there must be an even better way...\n",
    "\n",
    "why not take make an image like a **jpg/png/gif** ?"
   ]
  },
  {
   "cell_type": "code",
   "execution_count": 24,
   "metadata": {},
   "outputs": [
    {
     "data": {
      "image/png": "[encoded data removed]",
      "text/plain": [
       "<Figure size 720x720 with 1 Axes>"
      ]
     },
     "metadata": {
      "needs_background": "light"
     },
     "output_type": "display_data"
    }
   ],
   "source": [
    "\n",
    "N = 100\n",
    "grid = mk_shape(size=N, \n",
    "                num_blocks=N**2//3)\n",
    "\n",
    "# rgb layers are copies\n",
    "image = np.stack((1 - grid.astype(np.float).T,)*3).T\n",
    "\n",
    "fig, ax = plt.subplots()\n",
    "fig.set_size_inches(10,10)\n",
    "\n",
    "ax.imshow(image) #; kills a stupid message\n",
    "plt.axis('off');\n",
    "\n"
   ]
  },
  {
   "cell_type": "code",
   "execution_count": 27,
   "metadata": {},
   "outputs": [],
   "source": [
    "# doing grid2im here saves some space\n",
    "imgs = [ grid2im(x[1:-1,:-1]) \n",
    "             for x in mk_shape(size=25, num_blocks=200, anim=True)]"
   ]
  },
  {
   "cell_type": "code",
   "execution_count": 113,
   "metadata": {},
   "outputs": [],
   "source": []
  },
  {
   "cell_type": "code",
   "execution_count": 25,
   "metadata": {},
   "outputs": [],
   "source": [
    "import  matplotlib.animation\n",
    "from matplotlib import animation\n",
    "\n",
    "from IPython.display import HTML\n",
    "%matplotlib inline"
   ]
  },
  {
   "cell_type": "code",
   "execution_count": 28,
   "metadata": {},
   "outputs": [
    {
     "data": {
      "text/html": [
       "<video width=\"432\" height=\"288\" controls autoplay loop>\n",
       "  <source type=\"video/mp4\" src=\"data:video/mp4;base64,AAAAHGZ0eXBNNFYgAAACAGlzb21pc28yYXZjMQAAAAhmcmVlAAAy5W1kYXQAAAKtBgX//6ncRem9\n",
       "5tlIt5Ys2CDZI+7veDI2NCAtIGNvcmUgMTUyIHIyODU0IGU5YTU5MDMgLSBILjI2NC9NUEVHLTQg\n",
       "QVZDIGNvZGVjIC0gQ29weWxlZnQgMjAwMy0yMDE3IC0gaHR0cDovL3d3dy52aWRlb2xhbi5vcmcv\n",
       "eDI2NC5odG1sIC0gb3B0aW9uczogY2FiYWM9MSByZWY9MyBkZWJsb2NrPTE6MDowIGFuYWx5c2U9\n",
       "MHgzOjB4MTEzIG1lPWhleCBzdWJtZT03IHBzeT0xIHBzeV9yZD0xLjAwOjAuMDAgbWl4ZWRfcmVm\n",
       "PTEgbWVfcmFuZ2U9MTYgY2hyb21hX21lPTEgdHJlbGxpcz0xIDh4OGRjdD0xIGNxbT0wIGRlYWR6\n",
       "b25lPTIxLDExIGZhc3RfcHNraXA9MSBjaHJvbWFfcXBfb2Zmc2V0PS0yIHRocmVhZHM9OSBsb29r\n",
       "YWhlYWRfdGhyZWFkcz0xIHNsaWNlZF90aHJlYWRzPTAgbnI9MCBkZWNpbWF0ZT0xIGludGVybGFj\n",
       "ZWQ9MCBibHVyYXlfY29tcGF0PTAgY29uc3RyYWluZWRfaW50cmE9MCBiZnJhbWVzPTMgYl9weXJh\n",
       "bWlkPTIgYl9hZGFwdD0xIGJfYmlhcz0wIGRpcmVjdD0xIHdlaWdodGI9MSBvcGVuX2dvcD0wIHdl\n",
       "aWdodHA9MiBrZXlpbnQ9MjUwIGtleWludF9taW49NSBzY2VuZWN1dD00MCBpbnRyYV9yZWZyZXNo\n",
       "PTAgcmNfbG9va2FoZWFkPTQwIHJjPWNyZiBtYnRyZWU9MSBjcmY9MjMuMCBxY29tcD0wLjYwIHFw\n",
       "bWluPTAgcXBtYXg9NjkgcXBzdGVwPTQgaXBfcmF0aW89MS40MCBhcT0xOjEuMDAAgAAAAHhliIQA\n",
       "E//+97GPgU3IAA2XOop6H+EVsfSQUXqx2aBk6gAAAwAAiYGOFkC1uVpxUAAA34ABlyTKo+3zHMOI\n",
       "euTyB0IU2CNAlSg3+gAQJHZRau1rRSJHdGe0n5JyPaLG7xGAZuSXKMsSenaMJV0/T5kmCbJ1hOgA\n",
       "1IEAAACKQZojbEFP/taMsAAANBvLSxeEKdUANoXj/4KYcAnh/LSIktNsgybEj9QVC69F4+5RvnRn\n",
       "tDKd3ZYKi/Ax30mqzHdy2kR/Nd513jpSvlwLMdk3zJvqpiOVGGDNJ+J4zt2/JuG+E5fB9gOWMZe4\n",
       "JLZn0GaqAy40W2vi4OROT/6uu+mj1kOjdl627XAoAAAAFUGeQXiCHwAAAwD4T3CWVidZZFy/zwAA\n",
       "ABMBnmJqQ/8AAAMCCtGkgK7DFBboAAAAh0GaZ0moQWiZTAgn//61KoAAAMZ1eUPuPCHuNejnVXzt\n",
       "AlSgnXqVneCunLL7gffSTh+VIB9q4IvLCb3/gfkjeJnXwKialyZvUyP/qLzttdp2Jcm7LUapLvxp\n",
       "9zNORLMVGfoXfw3e0Z86Y9Z5K9VKX5i6iHsFJ9okJ7pr5DdSELLGNNmC72URgQAAABhBnoVFESwQ\n",
       "/wAAAwDy3+U2uIy/uqxyOdMAAAATAZ6kdEP/AAADAfCvZjNE6dxUYQAAABIBnqZqQ/8AAAMCGwbe\n",
       "HvspknUAAABwQZqrSahBbJlMCCf//rUqgAABXbqYEhexerwOe1AG2Lf+5cSHACS07wVlHby2Fg8T\n",
       "AiXJEgJ2U/+B+wwwKQDyEfhmy/YvIxZvO8kKqyk/X8Vh3hrsvSyKFHnT/FdMiH+aFWZdDJgn0KrO\n",
       "mYOghuYXXAAAABpBnslFFSwQ/wAAAwGvv6xrlLhNQm/0XcI8fAAAABQBnuh0Q/8AAAMB+69mRra0\n",
       "g5Ji2QAAABIBnupqQ/8AAAMDtYRDiXrpYcgAAACYQZrvSahBbJlMCCf//rUqgAABjNx/0DhVf0AU\n",
       "7B2GECAUDB+ohXewn/kTZh99NPE2NaQ8U6Wxclo0h9TV3jH+dCIXtS/bM35+eYM/j9X8nnjl7RcK\n",
       "Y/Tq9N6IBuncESrRvHvY/LR6LrVszq4vkXd+JaoEGWRflPA3VvGbT/HqHDLrqapIsGAexgH8CSyL\n",
       "S/Vd4qURPPqur8AAAAAaQZ8NRRUsEP8AAAMB5b/GuFl8fnHQPqXWIdEAAAAXAZ8sdEP/AAADA0KJ\n",
       "3wp+iav/Ic4ImP0AAAARAZ8uakP/AAAENg3FZDOgf3kAAAAzQZswSahBbJlMCCn//taMsAAAWbGn\n",
       "87rI2xKmrABClg0oG0RawsuntDyN9f+X9w96+96cAAAAYkGbVEnhClJlMCCn//7WjLAAAF2+dRLS\n",
       "RLopGszkBuk3zgr2FDwlVZMQAIdf/8F0mZ6dqvdgUOdzJ2/KqhHmsvTyIvW3CvOfjyJZTJ41ehYG\n",
       "rVKxRpsdVh9RWZ8arAMXz3LgAAAAGkGfckU0TBD/AAADAcS/rG3JwmzviZ+Lo79tAAAAEwGfkXRD\n",
       "/wAAAwOfXsyRoa1lgGQAAAAUAZ+TakP/AAADA+HYyK09n4MXSmAAAACHQZuYSahBaJlMCCf//rUq\n",
       "gAACp6HtyMhLFko7S5WJcjAEbmZf+CmHAJ32C0iJkIEa6rBIfN41gK65jszkr1KlBDX0FzpFMeFc\n",
       "3tMuyfPmMbntupv+1542O1ZNg9VFIysUgZJ/wHHcvjf7vWm4LBa8r6JfrHxaYeEayb97EaCTUNIk\n",
       "N78FiMuBAAAAGkGftkURLBD/AAADA0t/WNcYHjaX7Lh4roBAAAAAEgGf1XRD/wAAAwPLXsyNcFGz\n",
       "sQAAABEBn9dqQ/8AAAc/CFCXAGpFsQAAAGxBm9tJqEFsmUwIKf/+1oywAACqGdHIPDZL6L7vK3MM\n",
       "HjFyAAQntw1RCHd3THPHc6THEjUFaH/+O1ydUzUEOrc/2YAj3deBcK/we1a+RJoG/YOg1OYlfAxU\n",
       "BxWj+jI8S9wkm/hvv3rF/S1Gi0AAAAAeQZ/5RRUsEP8AAAMDN399RgClG8hiONHNtuMoMy95AAAA\n",
       "EwGeGmpD/wAABxMJvSVsui++ixYAAACnQZofSahBbJlMCCn//taMsAABXeQf+G6IwAHRcUeIqEo3\n",
       "dP6T9u/l+9DmktMMCPBcXD8EpUopyYFBM9G4Vp18sH97A0+3Jj0OdZx9BLFZYhCjp/V9ekqzylvV\n",
       "TqnmrqYVp8HpU7ogKoO2oa/3x4rdRCUCvq2W2qHP/Ly5Y6fstYZUheD1JlbpKB177LpZ+ZHLxgIc\n",
       "bkRFLT+bOJPOfDTl2YT2CFUMbE8AAAAiQZ49RRUsEP8AAAaW/rGuLzsMSwQ/8B68xQTA0O1lp3OC\n",
       "+QAAABIBnlx0Q/8AAAeX8zWL9hnWdS4AAAAXAZ5eakP/AAAOf2Mixxz5babfkSPqLokAAABrQZpD\n",
       "SahBbJlMCCn//taMsAABXCzwAAdFy+XEhVbgMTNVLOg6f/C6xW5aGOr8q7qklW0VfOfAByQuCBDv\n",
       "vYRYoxwQulZAuhEYl1UBYHAwYJOO/fo0IwiSms7l60b2y3mU/nSJpMODsfRKrWEAAAAkQZ5hRRUs\n",
       "EP8AAAaWh0zsFi0vXswii1f8Mxknjcw7gzb/TtkcAAAAGAGegHRD/wAADn17Mg4DKGROFY70ycxK\n",
       "gQAAABQBnoJqQ/8AAAaXxzUaHbuf/29dBwAAAEtBmodJqEFsmUwIKf/+1oywAAFUDP+UKMfs5rvQ\n",
       "CJILr5tdEkYIkZEaKrJIo1k/modIL2+tVwGbFSGrlyAB6RL5ALJz+ud8oZimfFUAAAAnQZ6lRRUs\n",
       "EP8AAAZu/u3RtH6IWUHYFO+E/yYL8AD4yC3JmfRqETiZAAAAEwGexHRD/wAAAwPh+Zrk/g/ox6kA\n",
       "AAAVAZ7GakP/AAAOJhLuGTe9DZAtY4aBAAAA0EGay0moQWyZTAgp//7WjLAAAVT7O3A38T64AdGp\n",
       "WaA5w0QzhfzbxlvGNDk6Y/tKImEU5W3JCIV0q//A5M7EMphITuxAnd+Db6BwxmB1e1lORcfBSZOU\n",
       "yKpRPLZnUFJuZYeDL8PM+/WrG3LZfthtGP/8zXfb84iRojVQGgvFbg2xAT6e//AZ7kAm+/ljX3dp\n",
       "eye/k/lOjPHae9yqM9xD1Fje5a/Xni6zkf/Dh6l1qPMB31R5QedQIYHO2F7vO0N+OAmRRN0G7aKJ\n",
       "MpLNOAyUhlAAAAAgQZ7pRRUsEP8AAAZdTT+nR+uzP8NKd7BlHeUX58z6EVgAAAATAZ8IdEP/AAAE\n",
       "NjLkPG4o/mVDzwAAABcBnwpqQ/8AAA4mEKEDH/1o3C8hwkqHXAAAAKdBmw9JqEFsmUwIJ//+tSqA\n",
       "AAUokYJEKr3ADhSdicsZNXhZPHH+CYbS4VNX5lTH/BPNCP4t+rmZg10IVI+qr7iOSEvCFPU+6aB6\n",
       "N16KRhb9kLmVfzwX3BWC0FZxW5b+61Ow53mMB09sSzNN/lIHm7mu6Rj59rpo+0O5Lr2J7eS5clZM\n",
       "Kn9r5/ZMuscTws2RX5yB9vhety31zWDShIL2k11+JBzutq4J8AAAACFBny1FFSwQ/wAABm6H+3Go\n",
       "Tj7q8o0uwKwxyReEjmFdCyEAAAAUAZ9MdEP/AAAOJ+hxklm5n8jpyokAAAAXAZ9OakP/AAAIrBul\n",
       "6yAGCnlJd11+J4MAAABxQZtSSahBbJlMCCn//taMsAABlOacMUeCPCZ/fvdSESWRSWPEff9JVwE4\n",
       "qMEZFGqqpTa+ra66ZWXbpbeqv/q8z/zWbQj7y2M82NeQOwOdZZt9SAJtL5kjbVgJoFWpa5k2w4re\n",
       "Or69jzSMOKHkjjxZctIAAAAgQZ9wRRUsEP8AAAeWfEgf/dXxbqn8H0pPxJ9Ylt9lsyAAAAAVAZ+R\n",
       "akP/AAAIrBuba6EjqASMfvy5AAAAbkGblkmoQWyZTAgp//7WjLAAAYLeX/DdEYABdIPC/8037KQK\n",
       "LE/GKwwCTBczX4PGrP0ByquPYeI9KJmnPyGPIpH6OtNGpVzGXpDGdpqJXfUebdEnvd55Ez8gk/q+\n",
       "YhPOm2QuZXlfIlcO3tSjbkq0AAAAN0GftEUVLBD/AAAHPquDUAJZiAO07//wNqyxLgWFvvz5Yvwe\n",
       "BIIWzLQHG4BFvXX8KGfo4VYlJuAAAAAZAZ/TdEP/AAAP3XsyDxfgrKuXT1jXCOsTsQAAABoBn9Vq\n",
       "Q/8AAA/fYyLHvP33wPDHOn4hGtYJuAAAAJFBm9pJqEFsmUwIJ//+tSqAAAXb4Q+IdQsm1fwUpCAO\n",
       "ZvOxOXp+U0Mwt5BCRuX9KQ/j4yxg/0OTeZPNd3MbHIdlYdKAZacncMiVCz3/10bJXTAmsVqIv/pH\n",
       "v+nYVXvNmYf8AnCZbYQ/MY/HAVSnxLRO5G9xg0tmRfci9Y2jXqtIw/9qW4OAgQcgXyuxHjbN4iFx\n",
       "AAAALUGf+EUVLBD/AAAHPnuvk5gAAW9W6529t++ySozbdtqJKv/I3xJT/H/2Nmw2YQAAAB8Bnhd0\n",
       "Q/8AAA/dezHDy0PDu5cmAQWSyjSzIf/g1QN6AAAAIQGeGWpD/wAAD4djIuoNjhi9V3dvETYyaha1\n",
       "IRlkkFPJwQAAAJ1Bmh5JqEFsmUwIJ//+tSqAAApeBPsLvoblx3I+MlOqAAmo3sn3iVjgtiPaY+y7\n",
       "diPcdghp0De5zl/8IcjhP6YnrYJeHCGyIxrLPoqBDlV2tq6pT5DwQTZOaLomS1Kzc2Vaabrji3Aw\n",
       "WeaFdtYDpYHEYTbAncUnaoFQpVWASK2PL8u9BIeM5yykH5XTEz7xow0lq+8KQeysEiJJSIHJAAAA\n",
       "L0GePEUVLBD/AAAM3f37Y7b5QgyhtEpQAATnod+auHgPinuqpBvghoXX98E32CphAAAAGwGeW3RD\n",
       "/wAAEVXJMkaGMrMib5zCKRZx4hxJCQAAABcBnl1qQ/8AABxMJxvZEAIMU0+HRZK88AAAAMhBmkJJ\n",
       "qEFsmUwIJ//+tSqAAAxXNCGYeURE9Grl9Ng0BZodYYAazcHYY6LUahPA7PnQMx8vQZFqSrH/yHbc\n",
       "xxIsqW2j50sQmHAT9ANxU0TUA853LQr+wFkz7XlqmD4Y5nqYmz9DlxB4EtYrL3w6ZWTDVdnsDeVN\n",
       "g9McTUwLRCZp5rBiiHmHYTxAD/zVU+0dSihfKg7prx0hsf9NxFOXi96CvidtELbRKF9SIQDNoCWw\n",
       "uDiGAKCdUPlpRv585OVGQ2HP2+fOXNcCygAAADxBnmBFFSwQ/wAADy3+LeAKQ40q0AAjKuGdlZvV\n",
       "9rS9bmpr9fDkmzo+q5xbsGBbwL8QFfK1+K/FRN8i7oEAAAAdAZ6fdEP/AAAQVcluTMWlSsjPH/xM\n",
       "EvLDB8NGvSAAAAAcAZ6BakP/AAAhrSOjX2mcQfAVlE6Qhp5vSqa+IQAAAC5BmoRJqEFsmUwUTBP/\n",
       "/rUqgAAMZbItoM9ifH56NCJTP6J/YBuLGqu9KaYvXFKMAAAAGQGeo2pD/wAAIa0jo2H8JAUw23lj\n",
       "J7AQwTkAAABdQZqmSeEKUmUwUsE//rUqgAAUo2hDMI1Lu7/CCxQgDluO8Fdv4f7eIjMyio98V7R2\n",
       "Ybk+BNePwVl+WgImvRB4LJyaUcclJRjIab4VFmrJKgappTsy/8tQe1dk9I3pAAAAGgGexWpD/wAA\n",
       "OJhMsD9osaQntqQgaOlV5TpxAAAAa0GayUnhDomUwIKf/taMsAAFcJrbSQrza1OWe7UTRIOqLgAF\n",
       "sWDSpXI/3uNuKECELvhnBwXeuggGnAVjfecmavEvYj9nt2o/LzzSOwP+8+J/1AHuEVvJrML7BlGm\n",
       "iQxrP2nwvsAJffOULBfBAAAAHUGe50UVPBD/AAAaWh0zqMQl/SxseXB+eOqVvJp4AAAAHgGfCGpD\n",
       "/wAAD4YivABfBYohFmZRzT7Kj8rHiiDafQAAAEtBmw1JqEFomUwIKf/+1oywAAZTmnDFLj4NXInW\n",
       "hp71aL6Sdti16AB/HbsoqFpBbzBxQ5kAfpI/r18u2SbA8gCcDU5Av32jqUSaX8EAAAAfQZ8rRREs\n",
       "EP8AAB5b/GsfPGKjhWDJhdmq+YA/IgKPgAAAABcBn0p0Q/8AADn18mbXn9SKl9uk/DxDwAAAABUB\n",
       "n0xqQ/8AAENaQMQ/aLkbCugI8A8AAACpQZtRSahBbJlMCCn//taMsAAKmS9677S6AC2QyJxZiTWD\n",
       "dLgx+DNQAMT02/3s6//0TtVxymkq4J+pIClXUHtKxGceMgJ1JUAKxUOvR++qhMECKVpzJb+YKiiV\n",
       "sWfPkJpbwSwN47HhrcWB1bHw8Ky9lExqy/4EKLFDP5jO+Fik8qbt4P/ykT0xNP7OSXgEFecqhi77\n",
       "jqXhx3rlskj05BwWS+sZmGwYDz2V9wAAAB9Bn29FFSwQ/wAAM3f1jXGCD+ELZVfTpJMESqhNsNOn\n",
       "AAAAFQGfjnRD/wAAO1+gfGSi+NxGa3TCeAAAACwBn5BqQ/8AAHERxrXeADarsrzTGvZb2vDFL40+\n",
       "mNN9iW37MTYoRKkrasllYAAAAHFBm5VJqEFsmUwIKf/+1oywAApRbhigBLIPC//L3a5fELvltvCJ\n",
       "XF8bRz98dnmDZd2Tmt4B+Q8vVNs7CzzlAY8TxW55U6ruYvVd2oTaA0mzvMICLidG1DYVJLISTg+J\n",
       "eo8xxBUv8taYQsX477HSH2d/gQAAADZBn7NFFSwQ/wAAMjQ/241V1/7g0wiAZ8s5EAAQnbZKkOJm\n",
       "VqLpMdx3jnkTE2G9hMqfQwAQmoAAAAAaAZ/SdEP/AABubpQmuVwlfbYCcseRrRncyfAAAAAaAZ/U\n",
       "akP/AABDWjSLKuezw/iSe6/lLOvpsfEAAACEQZvZSahBbJlMCCn//taMsAACgm04YdHMnxIM3/8I\n",
       "JwACxKZE4s6elNDKcYcU1yEOcn23EwWpv7UGjqGZpawwm9Cj6eKZRbhYQBhZXXi1/fwIUVDP4Zak\n",
       "0QaXqhLCEIGjg91/pIfs+5EZ0gQx2ep+7Cql93UhqjlbKllJdzU+qQ1vrN2gAAAAREGf90UVLBD/\n",
       "AAAMPf1NWkABS087CnSDJ3SUSJMnT/8VTkLd0LG+jMOklbLa6MiCRPoyUMdTWpwRbvoUFDYd/rlJ\n",
       "9iV9AAAAFwGeFnRD/wAAGl/50v/Rn8CVs3HdDGnhAAAAHQGeGGpD/wAAGvzOXeNNSAkYr9HELKQg\n",
       "/iPoqpLgAAAAe0GaHUmoQWyZTAgp//7WjLAACu8g//LWquABOvZ7/+AvAJUcK9rmEZr6SGstYYq7\n",
       "lm2qgNmq+/vuoN/VW+yh/oZ+orFxyLdZFyF/JV6DjXha+oPfr1zNb0ZzgwG0n5gQSTQz/w0le9Ut\n",
       "WP0Jg5mI5tKmBZyt5kpkn8hO8QAAADpBnjtFFSwQ/wAANLWQuABbYEH82qaU9hzqwgSI4YT+fifa\n",
       "44k8gHIK6oea6df24DH7sjXyvdCiNXWwAAAAGQGeWnRD/wAAc+vjxxi8BRxyW1prbL5opIEAAAAb\n",
       "AZ5cakP/AABz+xkUo3hw5p/PXsN5zcyMFuztAAAAnUGaQUmoQWyZTAgn//61KoAAK365VZLAAsd4\n",
       "p/eCTYJRC9ll6bG+M47+6JPbRh3rWImqpMR7fDV3Ph+63ythKSZpUEyRRFZ8c4df4GLDI+8yJaPZ\n",
       "9GvLTaM1LNEs2gbQbNnvo2imuajQ07lCLRjmqfgal/3fkdt2groKRExKbS+TZKj/6XUlsTGIOibh\n",
       "B12bVCACCqR2TJJwndCx9jgAAAAkQZ5/RRUsEP8AADX0LNeZlXWAy98Uh2TTWQqojiEMr+mAWEK2\n",
       "AAAAGwGennRD/wAAdqvZjPQrfuHMM+yMPHOfm/ik4QAAABoBnoBqQ/8AAHP7GRX9NsbZnveSGzYg\n",
       "aiB6wAAAAHFBmoVJqEFsmUwIJ//+tSqAACu4x7Z3fZezJ/yirV2AA0dAP//X8BZgk9Fk6kfmWWYe\n",
       "Btm7giCMovAQ6Hvr2vFBsOFecRNoOJvogUoC/0dOeahnPloFJATdX9yark0MPcR8Qsftd/plm98C\n",
       "Jm8/UeE+2QAAAC1BnqNFFSwQ/wAANff5eZqegAL5tALc/SsPgRwaYIgZ53aeIyNxNt6Sch16kqoA\n",
       "AAAcAZ7CdEP/AABxPzNZajQsz3JQjXD4FL8dL2FYEQAAACEBnsRqQ/8AAHawq/LP2b/ArnYY0UMI\n",
       "BV5DyRNup5dEccEAAACPQZrJSahBbJlMCCf//rUqgABXcCf4Xe+5k/hBYoQBEoMH/8EtMBOfcWVq\n",
       "McxteA/eaeqyImKODfoFHVriVz3psyZ+LLzqORThyi6uakudwzjUWfd4TKElgekH6/enBMG3N3mN\n",
       "WoB9Z+53f3Jlqxez2FI8deQQb3Lujh7g1lyuZ4FVG1OVufxkstPBE1y5KPUAAAA3QZ7nRRUsEP8A\n",
       "AGvv77aE91AB/FACcFn/+XV6Z4+Qno+9HyklpeWqtVxfBXrudm6kiH+NsnZt6QAAAB0BnwZ0Q/8A\n",
       "AIrGXIfRylg5cTHEwgJggYe+K54b0AAAAB0BnwhqQ/8AAO1hODSxhEjQX6v+LJWeu7Wt4S2yfgAA\n",
       "AGhBmwtJqEFsmUwUTBP//rUqgABS+J/0EJbf0AQoKnVvSHJHzFl834sdLJ5JLHh5hG/W3MbIF5Q9\n",
       "0DhJdyiSBZMr35U4SYL3mM+3UO7Vm7/5uDIV03wNnpOGuZxJZt2p56nGp6cYsLwAuQAAACkBnypq\n",
       "Q/8AAOJ2Q92b6bQ6+TlIaErYNQAhA4UsQBH90bvvMVJmv7soYAAAAHRBmy1J4QpSZTBSwU/+1oyw\n",
       "ABZTacMU3H7FABahXzgkgj/kJtIMo3///vKNBP/mcEr6veL0+4uiDigkFSTwb791HKACCqLvkFBP\n",
       "bf0t7W163HXrnw3XH5FyfCwAOrhrmKxf0aK6kzn5ugQdJ201Zftvyc3aOAAAACUBn0xqQ/8AAO12\n",
       "UPPboAL64eHsD/503jgpP5P395QVi49isIgJAAAAyEGbUUnhDomUwIKf/taMsAAVMs8AADjoCD/7\n",
       "/uXc3GQN37hHFZZTgT4qNQc2ULjA9Y63CVgN3jjWVUBkzfLz/o3a86SrCUiOY5hNZJTroi/CR36U\n",
       "0vwTcIzV0OaunK7WdAvSCu2MtLL9Ek8ZAJq5EJ1cz9UUubuKupI79hg+SiMuGKy0D1fLlNEYeGPf\n",
       "mwCyZCiDY3L289Dri0K8nCZDiT7dwZf9t9JK0nl1LzeJl4pi5W0BxxOo7XERmx6nf1ETd9OYcAbQ\n",
       "0JMxAAAAIkGfb0UVPBD/AABm6H+PGqu8ZftMJe5MbXlOMgFAfqtmBqUAAAAaAZ+OdEP/AADiV8pz\n",
       "CDuaMfQXmmGjXPE5GeAAAAAZAZ+QakP/AACGwa3OB0PGMMTy/n+L1wmf4AAAAG1Bm5VJqEFomUwI\n",
       "Kf/+1oywACym07+9QAEZTBDpfzW0cV7n2/AbqH/jU6qFV5H/wVUUBP9YWsYzK+z6QaC17dRpLU79\n",
       "P1WQRraXPcMyIHK/bSCfWoetP6VYuTZpCpa/fs3TZdih/mvm7MtFSkOBAAAAJEGfs0URLBD/AADX\n",
       "0PtMwjHLEh0aUAW/fiCvsttl/LpEFQBWwAAAABkBn9J0Q/8AAdr8/iaIuPyADd1jLB3xniLgAAAA\n",
       "KQGf1GpD/wAAeXS12ADaeYBsRL4hb/uCVdA2GvdLO5Qlf1CloiEfeYHBAAAAgUGb2UmoQWyZTAgp\n",
       "//7WjLAADVby/5C8CIAEZZOX/wUw4BPD+WkRJaYkRHFaRIzM6kaEaJKscLA8qv8k4BAhUrbveUQ9\n",
       "Goku9RuXFAdz0fvB3yMOXCEhYC8zcNLHVxzPRV2x/1y5TV2LVA3h6QIn3KgXHwBtQSGr9U6AFvHw\n",
       "F6z3oAAAACtBn/dFFSwQ/wAAP3PcQtIAC+U938oX4XPCa5QtT8zM5Jx96zq/x7U1rwWVAAAAGwGe\n",
       "FnRD/wAAjsZSzMzPyWDQCKTMJ3iWSKYEvQAAABoBnhhqQ/8AAIrBtKeI24MUL/6nNVBTZp+lfAAA\n",
       "AEhBmh1JqEFsmUwIKf/+1oywABQTad60joN9o1o9C8AkIyQAFiUqAGJfY7SPF9MANT2s1BrWpymN\n",
       "/ODSVz22l6H1xw35jm8VPtkAAAAiQZ47RRUsEP8AAGHogD0ODWEfKtUvbzB/CDBDUjtOOVORvQAA\n",
       "ABgBnlp0Q/8AANf/5iKTduoeagDGOWZzo8EAAAAXAZ5cakP/AACOwbpZ27st6t3F4Byrqq0AAAB0\n",
       "QZpBSahBbJlMCCn//taMsAAVTGnFkCb1V72wCnvfO09/8tb7sAJZcvnDA5Jce/txh9lgmuHelCqb\n",
       "5vwQDTqomh5JdYzyD9QQ/QnuCdKc6n+BZfnfo7EzUpn7+Bzr2oE49QduOXSblVWB0oFFqhXnSkJY\n",
       "G4AAAAAvQZ5/RRUsEP8AAGbv6xrn1WMACH1PsG6D9j8t8CUFtfUy4T+4x64MykB5v7iHvwkAAAAa\n",
       "AZ6edEP/AAB8Pz8DLCEUURkWOMnJ+VvTPIEAAAAaAZ6AakP/AADiYRDjjZ9tjBe71Tr0mSZ5AkAA\n",
       "AAB6QZqFSahBbJlMCCn//taMsAAareX/hf2rgAXK0aZJyF43ibs2Ss7Xrda4Rnp8RHU27kJVyVgR\n",
       "tRplddY6QGUgDH8z1/SFSqK/MEel+n/9ol40rOEPM1hv0VDXBBKthSQWy+PsgJRX6QeMqZzF36YB\n",
       "6vpabFccjzFJEqEAAAAiQZ6jRRUsEP8AAH7v7t0aFHSu8OAvyLm14eYkmRohQHFfDwAAABgBnsJ0\n",
       "Q/8AAH7r2Y4fpRr+UH2CIDQpmz8AAAAYAZ7EakP/AAEdg2dq6RwU5V6u2Qofs0MXAAAAmUGayUmo\n",
       "QWyZTAgp//7WjLAAGp87Zzcl9/4ACELK97fpyDMKLJuGWheXADKMqY+4tWyRbyBHtSSBduuMOH/4\n",
       "6aEljpYbChGTkEyFhhTLc+XxXY81OQhBJ8gJ7lYMge20eGWjf/kkUrIEk8kdMfLJ1DWlkpMc1AwU\n",
       "a5/1FFEf60Nr3K+tGMmYSag1McA6M82aq0Bmjavf83ppgQAAACBBnudFFSwQ/wAAfue4ThyMbCqk\n",
       "E6P/NAcGT4tTqeKTgQAAABkBnwZ0Q/8AAR2MuQnKZjhfxNI2+FxW6EfAAAAALgGfCGpD/wAAhsG3\n",
       "OdM4AQmeJojMy+GTY3kDdKel2x8d5OXmhtocF81LcHVKxhwAAACYQZsNSahBbJlMCCn//taMsAAa\n",
       "oypoqM5W91m5N9dAA+QF9UXpBnSB+sAO+rNm//4GFQvNy7IYT73Vf8wf+NmDQy0glAhH0BSUrQtb\n",
       "CFb9na0MNpRmyISiLz82qXcEbXAoPwLj2+XcKtWP2VAG0VRGG6LeWLlux+1j36xej670ODBqd5OH\n",
       "AMv50fDQ04rbitYbFzQaKuiNcqEAAAApQZ8rRRUsEP8AAH7nziBfKr1U5oYyoABCOh35k8ImS2r/\n",
       "6cH9orvVWn4AAAAbAZ9KdEP/AAEdjOwEIbiTA2h0qlnpKRR0BJIaAAAAGgGfTGpD/wAA3PjxUEzl\n",
       "0HmaB68ZW8PMygY/AAAAs0GbUUmoQWyZTAgp//7WjLAALfyD/yEFdUAJa34NKlcj/e424oQIQu+G\n",
       "cHBcrixzS26d7PJPGnJ+PSnI6Y0bZlfBANdngn6STevmeeqRzRxhRwRE0ty/wJNGEhkgcvnrHCRF\n",
       "HCsykq85uyHFslRtM7e1XA8KPWETJKwx6jTU63Oew/RP9Xwob/UVEMZtaBFbKGS83ZgIFUNfppKF\n",
       "cDOkA/oX+z0rTeXg6YJQey4bgkonRArZAAAAJkGfb0UVLBD/AADc39A6C6xViflokhldIHP79C5A\n",
       "QhCbInHO3Iu5AAAAGAGfjnRD/wABxP0OMjig9UdG4ikUqWDpTwAAABoBn5BqQ/8AAeXsZFKNhn/q\n",
       "MPl6jtKBZygp/gAAAK5Bm5VJqEFsmUwIKf/+1oywAFm5B/4zcjoATWn+qoTyMTBTF+q2sVhNbTjO\n",
       "072g2bji3CLXrdqvL+7QR/E46CYHGF+pHTStY7wH8ZK253XnFdhw1gn3t9qhNrTj7PVujEQSMmq/\n",
       "20LI4l3VSBBD9rThoH1EbPFOnZ/iE9fjdz6WiJfDwbQaEddKLD5kTuHQNxJ9V2luprTyhPQfxkvy\n",
       "99AwerIN9VcVnz2vP+dA7oEAAAAwQZ+zRRUsEP8AAa+/vx4WRDgAAJlwO/cVF8iHG0z9Po9enUyc\n",
       "V0L2Zgb0pDrVthvQAAAAHgGf0nRD/wAB5a+32R/GkAVSH418qo4IJ0oQsRaBxwAAAB4Bn9RqQ/8A\n",
       "A7XZDjZ7Xwc89jl6ELIqbBnCDEegccEAAABpQZvZSahBbJlMCCf//rUqgAFdxj+0GevOYjiSdvBW\n",
       "wFLRJWZGJrenVrgD7wdhjf+s8RQgPDjyhQ0l1mri/wOXIwuIslFTQ63t3R+IEkX+RxhTb+9HsOA7\n",
       "Sk8D+y8ZdxWpSwbHp2m3WoeAAAAAI0Gf90UVLBD/AAGvv73Xqht7n5xmicUFyh61wYKGF/ODZgl5\n",
       "AAAAGQGeFnRD/wAB5a+3usLVxKn4niZY5O3QyYEAAAAWAZ4YakP/AAO12QiZ9kd7k/RSSoEvgAAA\n",
       "AHFBmhxJqEFsmUwIKf/+1oywALKbThijxT+meP/iiAnt/9MPxZnoiNU0/V+AuLLDlVFqmiP547OA\n",
       "WVtC++Z+5stQ5bJpYUiXU6uoZUfDQBJ3PtGUzkXqrd8NRBKW6csKlyAS+6h5kgpC7PZEw2kW53BW\n",
       "oQAAADRBnjpFFSwQ/wADX391rEkTgPpxD9AAXytImqDciAejUHpT2cJAzuoNjjfJK/LYPnHhHB0Q\n",
       "AAAAHgGeW2pD/wAHawl3CuhrgN5brkpfjMwh+v0iD70k7QAAAONBmkBJqEFsmUwIKf/+1oywAK6G\n",
       "sCoUY6zJ1YAKef/m4VnMTtqnecXMueApDXS4JYWo2cbS9QjKSUxQiIcNyZqnD61OYj2jh//crdbJ\n",
       "PcQnitVrLr/oKL2lzNQ4gDxGKr/H4qnX4R15su8HWxNljZozis4Sl5iWVMKnPpWtHCEGaI12kdsw\n",
       "9DEXyNm6QRGj+WxafT19LvxFOL4T/2juC5DyIiKSRys0SQ2L41H9zp/4VHNwKx0ArNV7UcsCj9mq\n",
       "eMJ2yZhXf0iT8vcKmPLZnIJtjJPCuDFX6nG0uiqyMByD8swVSQAAACRBnn5FFSwQ/wADS0PtMP0v\n",
       "6CxjXlDe7tzFOdMYDYHhOTQuR3QAAAAYAZ6ddEP/AAc+vjqQug2IBUsEplh+rA0IAAAAGgGen2pD\n",
       "/wADidkOPv2Cisgpx0VTQjB+eibhAAAAxUGahEmoQWyZTAgn//61KoACzcT+AqAiKAIhh3grp/FM\n",
       "3nM8AizFkCyC/P+E/dXEt2BP5xWilZryb0P3Rz747OxSEFT/BzSr7lXeiHaIMAzflyCBqYHe+7Fr\n",
       "Qwm/j8osS1aOVJInWdC0/AS71WfOe29DlVftxn0hJYn0s7Pdon9TmveSVMUoG7niM4g9Fl10jnno\n",
       "REvV/Y0yqu6eHqt0vU8ni4c5OVeNyx5WZoo2po6htbbCWX2hrMr5MDNfU3kztGP8jPg4AAAAOEGe\n",
       "okUVLBD/AANzTJMAENwtT/HnvrnoS0crwIrIN67eYrDx5f8ULlfC4jQvsQE7MwDAduS3sqyhAAAA\n",
       "HAGewXRD/wAHl/NMaJuBqnhSZOQm2CRJVOH8KqoAAAAfAZ7DakP/AAeXsg9PWMBgoKo+ZMaeZE+R\n",
       "S4PxuXoRxwAAAHxBmshJqEFsmUwIJ//+tSqABXYmEdAu85SEJ7qDg2HU5ax/nTAAceHeCuwEPMnU\n",
       "KM/J9ERLdiR9/nUfcuJ/2jP/EHtj8kUoB3kM3OOJ5U/FmyojO8J7+NgiQumVmOLZAZKee5xs2efz\n",
       "Nn6H/gXeWu2ZwN7UQvqp1X0KmMl5AAAAJEGe5kUVLBD/AAa+/vdY/jN9uLATAvbX0Lva0RE13Ar3\n",
       "mOUEFQAAABoBnwV0Q/8AB5aaGbMHR+zdP8S8SHFR4HB0wQAAABgBnwdqQ/8ADtdj92x7nBZ5k4GA\n",
       "FD9mhiwAAAAwQZsLSahBbJlMCCf//rUqgAC3EjKOI0K0JpWjHh8QGfnuwv8+UlCWA9+8ZRCSNI2o\n",
       "AAAAH0GfKUUVLBD/AADiT5bHc7NAFreZGCb+3WvnKW+YWvkAAAAXAZ9KakP/AAG58cjs8BzK5gRA\n",
       "SBeGefAAAABbQZtOSahBbJlMCCn//taMsALNyD/xm5rqAEtbdyqPmnxzx6o4s1GNbsO09qyQuwpb\n",
       "/VHrvyJZ+i2Scl//BS68YV4iAwNiLgOEjg3os26o5NgcDXJ8t5MyWXjxgAAAAClBn2xFFSwQ/wAN\n",
       "ff3bombDr9aD16/8AAHaUeD7M/vDhl+Cdg+QK8mBdwAAABwBn41qQ/8AHawl3Ckk1gehnC0fJu0f\n",
       "IOLewK2BAAAAcUGbkkmoQWyZTAgp//7WjLAAro6D3f8b6L//jtXleG6LBXvMeKpdJqiAFNIDloEE\n",
       "SPd/8EzGBOfcWXHscyvm4JPsciqwPqvb4hcdO1aYkb+cFsvvvNTpeQmmgzOAj+nRQSOmgkWKXUAz\n",
       "vPoF4AcgxgmbAAAAJ0GfsEUVLBD/AANLf1jPFedv6lrVrtBRc8BWIKhUVkfRX8vv+95F3AAAABoB\n",
       "n890Q/8ABHVyTIs31NJOGMDl6GXJlOjFgAAAABkBn9FqQ/8ABz8IT/izvNVVooTWe4AorZ/BAAAA\n",
       "Y0Gb1kmoQWyZTAgn//61KoAC3Ei+cDnEyJUWfcWlZn5zLW18jyK91Ayiy26U9PpFXULim+T0BTGn\n",
       "BeOUKAK4Y1/8EbYEzWli253F9OoTw67Ukz+OELIQDc/kaTrHEIqtkMV70AAAACNBn/RFFSwQ/wAD\n",
       "iT3Ch9GL2Le7pNHSAcd1tDZik0CALPHCtgAAABkBnhN0Q/8AB8PygxG37UV14KBm/zJXUKSBAAAA\n",
       "GQGeFWpD/wAB+8IUOK0xiQmNiOGK7DPX4z4AAADJQZoaSahBbJlMCCf//rUqgAspWSgAVxPpczDJ\n",
       "U7rzMx76cwXfRat/zePnpK0MjhPJ8PShNez/CzxvCaujOnZnKQc6tF6x6V/4B5GJrfoUcfPTRJ0t\n",
       "UArHOU7W9MkaS3uCA6kRJSraXDpgJaPmjIYxVnz4gxFLRroxgf7bsBQ495HM1EGvvtSozOvMBzdj\n",
       "dGoierdi/rBghMYfUgAInBJ7W8PaYzdHgUzrkIEI7zMYXaL43btFbW4iSusugEjdZFtn1ECB22oZ\n",
       "1gVtAAAAQkGeOEUVLBD/AA3NF+AAce842QOwws3XeUC86PuCDA//Lq9OnonOd6kQ4ipMfpevIcJm\n",
       "AmbkfNss5Vl0V7mEpdr0gQAAAB4Bnld0Q/8AHlr23Ewq4rt4F9EBiZXpbqt4Atq8nYAAAAAfAZ5Z\n",
       "akP/AB5ex+7Zm2+/BMEiK9mBIddlJEwCx0CtgQAAAJpBml5JqEFsmUwIJ//+tSqACzYx7DBrXIAO\n",
       "On0/Bylh2TxTL0kyy/8/Q2q9gjpcGVoJUgMnzqgDL9JRkoZZoJGSrw51cxR3kVD0GQ5gPMvECs/f\n",
       "HcvU8UrnVUTE8xQZlEhDGQR++JTec9T9cN+xS7JiPbwhsFzGWTxf/PqvHU9qiuRPEeRXHCETnh5n\n",
       "/uPcGmwAS06XEtOticm4AAAAT0GefEUVLBD/AA3OqLAjT5Hzr5YFgAAnHA79zxsP2rHPVkL0qH8p\n",
       "Yke+4jcnrSFeEk1PnP98AjUObdfNne+ekVhpkJ0zVwIn63v+QnT1N00AAAAdAZ6bdEP/AB5a9mQa\n",
       "I8jt2gEko34hSTrDkXlRG4EAAAAaAZ6dakP/AB5exkWNBghjJXK+xI0yf2X0c2wAAACOQZqCSahB\n",
       "bJlMCCX//rUqgAqY+JI8AATTkQ/+kdZVceWYue01uuLeUp9GSq30EHfhFxEb6/PnDad7gZ7gZnKm\n",
       "oQYGAgN+mdlZUpjmDhdjb+rKRPPmkkYZ4sZweG0O3942uQ/4EMiRgQtVe7/CqTsrvgSOymR6hC58\n",
       "l6vZ9Ko064PxQF+qsXz/+vIJimSWUAAAACVBnqBFFSwQ/wANLQ+3X5D5wNZBRqe+O/A9/TbW31Q9\n",
       "Mo0azzjhAAAAGQGe33RD/wAc/9BDrxQeeAXNDO+Lxhl1dTAAAAAZAZ7BakP/AA5/ZB/+ttygpMFC\n",
       "22gE0MT9oQAAAGlBmsZJqEFsmUwIIf/+qlUALCX79eHEr20sI1gADaTzOzHTGIgfLvuVJ9X/5FRu\n",
       "ISTuLyvxCFfF+V4dxcp8NMRswKIPQDKiuwJzQ8W6noutmM9pc0c4c0dxrcSd2OqfsbUAMABceaJ/\n",
       "IpoAAAAiQZ7kRRUsEP8AGtofwKHJdtXfr0uf1kVodXYTXHOeaoDrgQAAABcBnwN0Q/8AOxXx1IYg\n",
       "YdWiFK3Y7gtftQAAABkBnwVqQ/8AHw7FNxNqbyl2jhDlNP8mf8HnAAAAGkGbB0moQWyZTAh///6p\n",
       "lgBZNychzkq3VAspAAAMVm1vb3YAAABsbXZoZAAAAAAAAAAAAAAAAAAAA+gAAJxAAAEAAAEAAAAA\n",
       "AAAAAAAAAAABAAAAAAAAAAAAAAAAAAAAAQAAAAAAAAAAAAAAAAAAQAAAAAAAAAAAAAAAAAAAAAAA\n",
       "AAAAAAAAAAAAAAAAAAIAAAuAdHJhawAAAFx0a2hkAAAAAwAAAAAAAAAAAAAAAQAAAAAAAJxAAAAA\n",
       "AAAAAAAAAAAAAAAAAAABAAAAAAAAAAAAAAAAAAAAAQAAAAAAAAAAAAAAAAAAQAAAAAGwAAABIAAA\n",
       "AAAAJGVkdHMAAAAcZWxzdAAAAAAAAAABAACcQAAAEAAAAQAAAAAK+G1kaWEAAAAgbWRoZAAAAAAA\n",
       "AAAAAAAAAAAAKAAABkAAVcQAAAAAAC1oZGxyAAAAAAAAAAB2aWRlAAAAAAAAAAAAAAAAVmlkZW9I\n",
       "YW5kbGVyAAAACqNtaW5mAAAAFHZtaGQAAAABAAAAAAAAAAAAAAAkZGluZgAAABxkcmVmAAAAAAAA\n",
       "AAEAAAAMdXJsIAAAAAEAAApjc3RibAAAALNzdHNkAAAAAAAAAAEAAACjYXZjMQAAAAAAAAABAAAA\n",
       "AAAAAAAAAAAAAAAAAAGwASAASAAAAEgAAAAAAAAAAQAAAAAAAAAAAAAAAAAAAAAAAAAAAAAAAAAA\n",
       "AAAAAAAAABj//wAAADFhdmNDAWQAFf/hABhnZAAVrNlBsJaEAAADAAQAAAMAKDxYtlgBAAZo6+PL\n",
       "IsAAAAAcdXVpZGtoQPJfJE/FujmlG88DI/MAAAAAAAAAGHN0dHMAAAAAAAAAAQAAAMgAAAgAAAAA\n",
       "FHN0c3MAAAAAAAAAAQAAAAEAAAYYY3R0cwAAAAAAAADBAAAAAQAAEAAAAAABAAAgAAAAAAIAAAgA\n",
       "AAAAAQAAKAAAAAABAAAQAAAAAAEAAAAAAAAAAQAACAAAAAABAAAoAAAAAAEAABAAAAAAAQAAAAAA\n",
       "AAABAAAIAAAAAAEAACgAAAAAAQAAEAAAAAABAAAAAAAAAAEAAAgAAAAAAQAAEAAAAAABAAAoAAAA\n",
       "AAEAABAAAAAAAQAAAAAAAAABAAAIAAAAAAEAACgAAAAAAQAAEAAAAAABAAAAAAAAAAEAAAgAAAAA\n",
       "AQAAIAAAAAACAAAIAAAAAAEAACgAAAAAAQAAEAAAAAABAAAAAAAAAAEAAAgAAAAAAQAAKAAAAAAB\n",
       "AAAQAAAAAAEAAAAAAAAAAQAACAAAAAABAAAoAAAAAAEAABAAAAAAAQAAAAAAAAABAAAIAAAAAAEA\n",
       "ACgAAAAAAQAAEAAAAAABAAAAAAAAAAEAAAgAAAAAAQAAKAAAAAABAAAQAAAAAAEAAAAAAAAAAQAA\n",
       "CAAAAAABAAAgAAAAAAIAAAgAAAAAAQAAKAAAAAABAAAQAAAAAAEAAAAAAAAAAQAACAAAAAABAAAo\n",
       "AAAAAAEAABAAAAAAAQAAAAAAAAABAAAIAAAAAAEAACgAAAAAAQAAEAAAAAABAAAAAAAAAAEAAAgA\n",
       "AAAAAQAAKAAAAAABAAAQAAAAAAEAAAAAAAAAAQAACAAAAAABAAAYAAAAAAEAAAgAAAAAAQAAGAAA\n",
       "AAABAAAIAAAAAAEAACAAAAAAAgAACAAAAAABAAAoAAAAAAEAABAAAAAAAQAAAAAAAAABAAAIAAAA\n",
       "AAEAACgAAAAAAQAAEAAAAAABAAAAAAAAAAEAAAgAAAAAAQAAKAAAAAABAAAQAAAAAAEAAAAAAAAA\n",
       "AQAACAAAAAABAAAoAAAAAAEAABAAAAAAAQAAAAAAAAABAAAIAAAAAAEAACgAAAAAAQAAEAAAAAAB\n",
       "AAAAAAAAAAEAAAgAAAAAAQAAKAAAAAABAAAQAAAAAAEAAAAAAAAAAQAACAAAAAABAAAoAAAAAAEA\n",
       "ABAAAAAAAQAAAAAAAAABAAAIAAAAAAEAACgAAAAAAQAAEAAAAAABAAAAAAAAAAEAAAgAAAAAAQAA\n",
       "GAAAAAABAAAIAAAAAAEAABgAAAAAAQAACAAAAAABAAAoAAAAAAEAABAAAAAAAQAAAAAAAAABAAAI\n",
       "AAAAAAEAACgAAAAAAQAAEAAAAAABAAAAAAAAAAEAAAgAAAAAAQAAKAAAAAABAAAQAAAAAAEAAAAA\n",
       "AAAAAQAACAAAAAABAAAoAAAAAAEAABAAAAAAAQAAAAAAAAABAAAIAAAAAAEAACgAAAAAAQAAEAAA\n",
       "AAABAAAAAAAAAAEAAAgAAAAAAQAAKAAAAAABAAAQAAAAAAEAAAAAAAAAAQAACAAAAAABAAAoAAAA\n",
       "AAEAABAAAAAAAQAAAAAAAAABAAAIAAAAAAEAACgAAAAAAQAAEAAAAAABAAAAAAAAAAEAAAgAAAAA\n",
       "AQAAKAAAAAABAAAQAAAAAAEAAAAAAAAAAQAACAAAAAABAAAoAAAAAAEAABAAAAAAAQAAAAAAAAAB\n",
       "AAAIAAAAAAEAACgAAAAAAQAAEAAAAAABAAAAAAAAAAEAAAgAAAAAAQAAIAAAAAACAAAIAAAAAAEA\n",
       "ACgAAAAAAQAAEAAAAAABAAAAAAAAAAEAAAgAAAAAAQAAKAAAAAABAAAQAAAAAAEAAAAAAAAAAQAA\n",
       "CAAAAAABAAAoAAAAAAEAABAAAAAAAQAAAAAAAAABAAAIAAAAAAEAACAAAAAAAgAACAAAAAABAAAg\n",
       "AAAAAAIAAAgAAAAAAQAAKAAAAAABAAAQAAAAAAEAAAAAAAAAAQAACAAAAAABAAAoAAAAAAEAABAA\n",
       "AAAAAQAAAAAAAAABAAAIAAAAAAEAACgAAAAAAQAAEAAAAAABAAAAAAAAAAEAAAgAAAAAAQAAKAAA\n",
       "AAABAAAQAAAAAAEAAAAAAAAAAQAACAAAAAABAAAoAAAAAAEAABAAAAAAAQAAAAAAAAABAAAIAAAA\n",
       "AAEAACgAAAAAAQAAEAAAAAABAAAAAAAAAAEAAAgAAAAAAQAAEAAAAAAcc3RzYwAAAAAAAAABAAAA\n",
       "AQAAAMgAAAABAAADNHN0c3oAAAAAAAAAAAAAAMgAAAMtAAAAjgAAABkAAAAXAAAAiwAAABwAAAAX\n",
       "AAAAFgAAAHQAAAAeAAAAGAAAABYAAACcAAAAHgAAABsAAAAVAAAANwAAAGYAAAAeAAAAFwAAABgA\n",
       "AACLAAAAHgAAABYAAAAVAAAAcAAAACIAAAAXAAAAqwAAACYAAAAWAAAAGwAAAG8AAAAoAAAAHAAA\n",
       "ABgAAABPAAAAKwAAABcAAAAZAAAA1AAAACQAAAAXAAAAGwAAAKsAAAAlAAAAGAAAABsAAAB1AAAA\n",
       "JAAAABkAAAByAAAAOwAAAB0AAAAeAAAAlQAAADEAAAAjAAAAJQAAAKEAAAAzAAAAHwAAABsAAADM\n",
       "AAAAQAAAACEAAAAgAAAAMgAAAB0AAABhAAAAHgAAAG8AAAAhAAAAIgAAAE8AAAAjAAAAGwAAABkA\n",
       "AACtAAAAIwAAABkAAAAwAAAAdQAAADoAAAAeAAAAHgAAAIgAAABIAAAAGwAAACEAAAB/AAAAPgAA\n",
       "AB0AAAAfAAAAoQAAACgAAAAfAAAAHgAAAHUAAAAxAAAAIAAAACUAAACTAAAAOwAAACEAAAAhAAAA\n",
       "bAAAAC0AAAB4AAAAKQAAAMwAAAAmAAAAHgAAAB0AAABxAAAAKAAAAB0AAAAtAAAAhQAAAC8AAAAf\n",
       "AAAAHgAAAEwAAAAmAAAAHAAAABsAAAB4AAAAMwAAAB4AAAAeAAAAfgAAACYAAAAcAAAAHAAAAJ0A\n",
       "AAAkAAAAHQAAADIAAACcAAAALQAAAB8AAAAeAAAAtwAAACoAAAAcAAAAHgAAALIAAAA0AAAAIgAA\n",
       "ACIAAABtAAAAJwAAAB0AAAAaAAAAdQAAADgAAAAiAAAA5wAAACgAAAAcAAAAHgAAAMkAAAA8AAAA\n",
       "IAAAACMAAACAAAAAKAAAAB4AAAAcAAAANAAAACMAAAAbAAAAXwAAAC0AAAAgAAAAdQAAACsAAAAe\n",
       "AAAAHQAAAGcAAAAnAAAAHQAAAB0AAADNAAAARgAAACIAAAAjAAAAngAAAFMAAAAhAAAAHgAAAJIA\n",
       "AAApAAAAHQAAAB0AAABtAAAAJgAAABsAAAAdAAAAHgAAABRzdGNvAAAAAAAAAAEAAAAsAAAAYnVk\n",
       "dGEAAABabWV0YQAAAAAAAAAhaGRscgAAAAAAAAAAbWRpcmFwcGwAAAAAAAAAAAAAAAAtaWxzdAAA\n",
       "ACWpdG9vAAAAHWRhdGEAAAABAAAAAExhdmY1Ny44My4xMDA=\n",
       "\">\n",
       "  Your browser does not support the video tag.\n",
       "</video>"
      ],
      "text/plain": [
       "<IPython.core.display.HTML object>"
      ]
     },
     "execution_count": 28,
     "metadata": {},
     "output_type": "execute_result"
    },
    {
     "data": {
      "image/png": "[encoded data removed]",
      "text/plain": [
       "<Figure size 432x288 with 1 Axes>"
      ]
     },
     "metadata": {
      "needs_background": "light"
     },
     "output_type": "display_data"
    }
   ],
   "source": [
    "frames = imgs\n",
    "\n",
    "def plot_images(img_list):\n",
    "  def init():\n",
    "    img.set_data(img_list[0])\n",
    "    return (img,)\n",
    "\n",
    "  def animate(i):\n",
    "    img.set_data(img_list[i])\n",
    "    return (img,)\n",
    "\n",
    "  fig = plt.figure()\n",
    "  ax = fig.gca()\n",
    "  plt.axis('off')\n",
    "  img = ax.imshow(img_list[0])\n",
    "\n",
    "  anim = animation.FuncAnimation(fig, animate, \n",
    "                                 init_func=init,\n",
    "                                 frames=len(img_list), \n",
    "                                 interval=200, \n",
    "                                 blit=True)\n",
    "  return anim\n",
    "\n",
    "HTML(plot_images(imgs).to_html5_video())"
   ]
  },
  {
   "cell_type": "code",
   "execution_count": 67,
   "metadata": {},
   "outputs": [
    {
     "name": "stdout",
     "output_type": "stream",
     "text": [
      "[master 8a6c80e] web\n",
      " 1 file changed, 9 insertions(+), 7 deletions(-)\n",
      "Enumerating objects: 5, done.\n",
      "Counting objects: 100% (5/5), done.\n",
      "Delta compression using up to 4 threads\n",
      "Compressing objects: 100% (3/3), done.\n",
      "Writing objects: 100% (3/3), 461 bytes | 153.00 KiB/s, done.\n",
      "Total 3 (delta 2), reused 0 (delta 0)\n",
      "remote: Resolving deltas: 100% (2/2), completed with 2 local objects.\u001b[K\n",
      "To https://github.com/macbuse/PROGRAMMATION.git\n",
      "   9f71ff5..8a6c80e  master -> master\n"
     ]
    }
   ],
   "source": [
    "#upload to github\n",
    "! ./.g\n"
   ]
  },
  {
   "cell_type": "markdown",
   "metadata": {},
   "source": [
    "https://nicholasrui.com/2017/12/18/convolutions-and-the-game-of-life/#:~:text=The%20Game%20of%20Life%20is,its%20neighbors%20must%20be%20alive."
   ]
  },
  {
   "cell_type": "code",
   "execution_count": 7,
   "metadata": {},
   "outputs": [],
   "source": [
    "import numpy as np"
   ]
  },
  {
   "cell_type": "code",
   "execution_count": 8,
   "metadata": {},
   "outputs": [
    {
     "data": {
      "text/plain": [
       "array([[0., 0., 0., 0., 0., 0., 0., 0., 0., 0.],\n",
       "       [0., 0., 0., 0., 0., 0., 0., 0., 0., 0.],\n",
       "       [0., 0., 0., 0., 0., 0., 0., 0., 0., 0.],\n",
       "       [0., 0., 0., 0., 0., 0., 0., 0., 0., 0.],\n",
       "       [0., 0., 0., 0., 0., 0., 0., 0., 0., 0.],\n",
       "       [0., 0., 0., 0., 0., 0., 0., 0., 0., 0.],\n",
       "       [0., 0., 0., 0., 0., 0., 0., 0., 0., 0.],\n",
       "       [0., 0., 0., 0., 0., 0., 0., 0., 0., 0.],\n",
       "       [0., 0., 0., 0., 0., 0., 0., 0., 0., 0.],\n",
       "       [0., 0., 0., 0., 0., 0., 0., 0., 0., 0.]])"
      ]
     },
     "execution_count": 8,
     "metadata": {},
     "output_type": "execute_result"
    }
   ],
   "source": [
    "G = np.zeros(100)\n",
    "G.reshape((10,10))"
   ]
  },
  {
   "cell_type": "code",
   "execution_count": 9,
   "metadata": {},
   "outputs": [
    {
     "data": {
      "text/plain": [
       "array([[0, 1, 1, 1, 0, 1, 0, 1, 0, 1],\n",
       "       [1, 1, 1, 0, 0, 1, 0, 0, 1, 1],\n",
       "       [1, 1, 0, 0, 0, 0, 0, 0, 0, 0],\n",
       "       [1, 0, 1, 1, 0, 0, 0, 1, 0, 1],\n",
       "       [1, 1, 1, 1, 0, 1, 0, 1, 0, 1],\n",
       "       [1, 1, 0, 1, 1, 0, 0, 0, 0, 0],\n",
       "       [1, 0, 1, 0, 0, 1, 1, 0, 1, 1],\n",
       "       [0, 1, 0, 0, 0, 0, 0, 0, 1, 0],\n",
       "       [1, 1, 1, 1, 0, 1, 1, 0, 1, 0],\n",
       "       [1, 1, 1, 0, 0, 0, 1, 1, 0, 0]])"
      ]
     },
     "execution_count": 9,
     "metadata": {},
     "output_type": "execute_result"
    }
   ],
   "source": [
    "G = np.random.randint(0,high=2, size=(10,10))\n",
    "G"
   ]
  },
  {
   "cell_type": "code",
   "execution_count": 10,
   "metadata": {},
   "outputs": [
    {
     "ename": "NameError",
     "evalue": "name 'K' is not defined",
     "output_type": "error",
     "traceback": [
      "\u001b[0;31m---------------------------------------------------------------------------\u001b[0m",
      "\u001b[0;31mNameError\u001b[0m                                 Traceback (most recent call last)",
      "\u001b[0;32m<ipython-input-10-35d4df7ad8b5>\u001b[0m in \u001b[0;36m<module>\u001b[0;34m\u001b[0m\n\u001b[1;32m     13\u001b[0m \u001b[0mframes\u001b[0m \u001b[0;34m=\u001b[0m \u001b[0;34m[\u001b[0m\u001b[0;34m]\u001b[0m\u001b[0;34m\u001b[0m\u001b[0;34m\u001b[0m\u001b[0m\n\u001b[1;32m     14\u001b[0m \u001b[0;32mfor\u001b[0m \u001b[0mk\u001b[0m \u001b[0;32min\u001b[0m \u001b[0mrange\u001b[0m\u001b[0;34m(\u001b[0m\u001b[0;36m100\u001b[0m\u001b[0;34m)\u001b[0m\u001b[0;34m:\u001b[0m\u001b[0;34m\u001b[0m\u001b[0;34m\u001b[0m\u001b[0m\n\u001b[0;32m---> 15\u001b[0;31m     \u001b[0mH\u001b[0m \u001b[0;34m=\u001b[0m \u001b[0msignal\u001b[0m\u001b[0;34m.\u001b[0m\u001b[0mconvolve2d\u001b[0m\u001b[0;34m(\u001b[0m \u001b[0mG\u001b[0m\u001b[0;34m,\u001b[0m \u001b[0mK\u001b[0m\u001b[0;34m,\u001b[0m \u001b[0mboundary\u001b[0m\u001b[0;34m=\u001b[0m\u001b[0;34m'wrap'\u001b[0m\u001b[0;34m)\u001b[0m\u001b[0;34m[\u001b[0m\u001b[0;36m1\u001b[0m\u001b[0;34m:\u001b[0m\u001b[0;34m-\u001b[0m\u001b[0;36m1\u001b[0m\u001b[0;34m,\u001b[0m\u001b[0;36m1\u001b[0m\u001b[0;34m:\u001b[0m\u001b[0;34m-\u001b[0m\u001b[0;36m1\u001b[0m\u001b[0;34m]\u001b[0m\u001b[0;34m\u001b[0m\u001b[0;34m\u001b[0m\u001b[0m\n\u001b[0m\u001b[1;32m     16\u001b[0m \u001b[0;34m\u001b[0m\u001b[0m\n\u001b[1;32m     17\u001b[0m     \u001b[0mH\u001b[0m\u001b[0;34m[\u001b[0m\u001b[0mH\u001b[0m\u001b[0;34m<=\u001b[0m\u001b[0;36m2\u001b[0m\u001b[0;34m]\u001b[0m \u001b[0;34m=\u001b[0m \u001b[0;36m0\u001b[0m\u001b[0;34m\u001b[0m\u001b[0;34m\u001b[0m\u001b[0m\n",
      "\u001b[0;31mNameError\u001b[0m: name 'K' is not defined"
     ]
    }
   ],
   "source": [
    "from scipy import signal\n",
    "G = np.zeros((20,20), dtype=np.int0)\n",
    "#G[3,4:7] = 1\n",
    "#G[3:5,3:5] = 1\n",
    "#G[3,4:7] = 1\n",
    "#G[4,5:8] = 1\n",
    "\n",
    "G[4,5:8] = 1\n",
    "G[3,7] = 1\n",
    "G[2,6] = 1\n",
    "\n",
    "G = np.random.randint(0, high=2, size=(20,20))\n",
    "frames = []\n",
    "for k in range(100):\n",
    "    H = signal.convolve2d( G, K, boundary='wrap')[1:-1,1:-1]\n",
    "\n",
    "    H[H<=2] = 0\n",
    "    H[(H==4)&(G==0) ] = 0\n",
    "    H[H>4] = 0\n",
    "    H[H>0] = 1\n",
    "    G = H\n",
    "    frames.append(np.copy(G))\n",
    "\n",
    "HTML(plot_images(frames).to_html5_video())"
   ]
  },
  {
   "cell_type": "code",
   "execution_count": 11,
   "metadata": {},
   "outputs": [
    {
     "ename": "NameError",
     "evalue": "name 'H' is not defined",
     "output_type": "error",
     "traceback": [
      "\u001b[0;31m---------------------------------------------------------------------------\u001b[0m",
      "\u001b[0;31mNameError\u001b[0m                                 Traceback (most recent call last)",
      "\u001b[0;32m<ipython-input-11-763424ae2c85>\u001b[0m in \u001b[0;36m<module>\u001b[0;34m\u001b[0m\n\u001b[0;32m----> 1\u001b[0;31m \u001b[0mimage\u001b[0m \u001b[0;34m=\u001b[0m \u001b[0mnp\u001b[0m\u001b[0;34m.\u001b[0m\u001b[0mstack\u001b[0m\u001b[0;34m(\u001b[0m\u001b[0;34m(\u001b[0m\u001b[0;36m1\u001b[0m \u001b[0;34m-\u001b[0m \u001b[0mH\u001b[0m\u001b[0;34m.\u001b[0m\u001b[0mastype\u001b[0m\u001b[0;34m(\u001b[0m\u001b[0mnp\u001b[0m\u001b[0;34m.\u001b[0m\u001b[0mfloat\u001b[0m\u001b[0;34m)\u001b[0m\u001b[0;34m.\u001b[0m\u001b[0mT\u001b[0m\u001b[0;34m,\u001b[0m\u001b[0;34m)\u001b[0m\u001b[0;34m*\u001b[0m\u001b[0;36m3\u001b[0m\u001b[0;34m)\u001b[0m\u001b[0;34m.\u001b[0m\u001b[0mT\u001b[0m\u001b[0;34m\u001b[0m\u001b[0;34m\u001b[0m\u001b[0m\n\u001b[0m\u001b[1;32m      2\u001b[0m \u001b[0;34m\u001b[0m\u001b[0m\n\u001b[1;32m      3\u001b[0m \u001b[0mfig\u001b[0m\u001b[0;34m,\u001b[0m \u001b[0max\u001b[0m \u001b[0;34m=\u001b[0m \u001b[0mplt\u001b[0m\u001b[0;34m.\u001b[0m\u001b[0msubplots\u001b[0m\u001b[0;34m(\u001b[0m\u001b[0;34m)\u001b[0m\u001b[0;34m\u001b[0m\u001b[0;34m\u001b[0m\u001b[0m\n\u001b[1;32m      4\u001b[0m \u001b[0mfig\u001b[0m\u001b[0;34m.\u001b[0m\u001b[0mset_size_inches\u001b[0m\u001b[0;34m(\u001b[0m\u001b[0;36m10\u001b[0m\u001b[0;34m,\u001b[0m\u001b[0;36m10\u001b[0m\u001b[0;34m)\u001b[0m\u001b[0;34m\u001b[0m\u001b[0;34m\u001b[0m\u001b[0m\n\u001b[1;32m      5\u001b[0m \u001b[0;34m\u001b[0m\u001b[0m\n",
      "\u001b[0;31mNameError\u001b[0m: name 'H' is not defined"
     ]
    }
   ],
   "source": [
    "image = np.stack((1 - H.astype(np.float).T,)*3).T\n",
    "\n",
    "fig, ax = plt.subplots()\n",
    "fig.set_size_inches(10,10)\n",
    "\n",
    "ax.imshow(image) #; kills a stupid message\n",
    "plt.axis('off');"
   ]
  },
  {
   "cell_type": "code",
   "execution_count": 85,
   "metadata": {},
   "outputs": [
    {
     "data": {
      "text/plain": [
       "array([[1, 1, 1],\n",
       "       [1, 1, 1],\n",
       "       [1, 1, 1]], dtype=int8)"
      ]
     },
     "execution_count": 85,
     "metadata": {},
     "output_type": "execute_result"
    }
   ],
   "source": [
    "K = np.ones((3,3), dtype=np.int8)\n",
    "#K[1,1] = 0\n",
    "K"
   ]
  },
  {
   "cell_type": "code",
   "execution_count": 82,
   "metadata": {},
   "outputs": [
    {
     "data": {
      "text/plain": [
       "array([[3, 3, 2, 0, 0, 1, 2],\n",
       "       [3, 4, 5, 3, 0, 0, 1],\n",
       "       [2, 5, 6, 7, 4, 0, 0],\n",
       "       [0, 3, 7, 6, 7, 3, 0],\n",
       "       [0, 0, 4, 7, 6, 5, 2],\n",
       "       [1, 0, 0, 3, 5, 4, 3],\n",
       "       [2, 1, 0, 0, 2, 3, 3]])"
      ]
     },
     "execution_count": 82,
     "metadata": {},
     "output_type": "execute_result"
    }
   ],
   "source": [
    "signal.convolve2d( np.diag([1,2,3,4,3,2,1]) , K, boundary='wrap')[1:-1,1:-1]\n"
   ]
  },
  {
   "cell_type": "code",
   "execution_count": 77,
   "metadata": {},
   "outputs": [
    {
     "data": {
      "text/plain": [
       "array([[1, 0, 0, 0],\n",
       "       [0, 2, 0, 0],\n",
       "       [0, 0, 3, 0],\n",
       "       [0, 0, 0, 4]])"
      ]
     },
     "execution_count": 77,
     "metadata": {},
     "output_type": "execute_result"
    }
   ],
   "source": [
    "np.diag([1,2,3,4])"
   ]
  },
  {
   "cell_type": "code",
   "execution_count": null,
   "metadata": {},
   "outputs": [],
   "source": []
  },
  {
   "cell_type": "code",
   "execution_count": 1,
   "metadata": {},
   "outputs": [
    {
     "name": "stdout",
     "output_type": "stream",
     "text": [
      "The Zen of Python, by Tim Peters\n",
      "\n",
      "Beautiful is better than ugly.\n",
      "Explicit is better than implicit.\n",
      "Simple is better than complex.\n",
      "Complex is better than complicated.\n",
      "Flat is better than nested.\n",
      "Sparse is better than dense.\n",
      "Readability counts.\n",
      "Special cases aren't special enough to break the rules.\n",
      "Although practicality beats purity.\n",
      "Errors should never pass silently.\n",
      "Unless explicitly silenced.\n",
      "In the face of ambiguity, refuse the temptation to guess.\n",
      "There should be one-- and preferably only one --obvious way to do it.\n",
      "Although that way may not be obvious at first unless you're Dutch.\n",
      "Now is better than never.\n",
      "Although never is often better than *right* now.\n",
      "If the implementation is hard to explain, it's a bad idea.\n",
      "If the implementation is easy to explain, it may be a good idea.\n",
      "Namespaces are one honking great idea -- let's do more of those!\n"
     ]
    }
   ],
   "source": [
    "import this"
   ]
  },
  {
   "cell_type": "code",
   "execution_count": 2,
   "metadata": {},
   "outputs": [
    {
     "data": {
      "text/plain": [
       "['__builtins__',\n",
       " '__cached__',\n",
       " '__doc__',\n",
       " '__file__',\n",
       " '__loader__',\n",
       " '__name__',\n",
       " '__package__',\n",
       " '__spec__',\n",
       " 'c',\n",
       " 'd',\n",
       " 'i',\n",
       " 's']"
      ]
     },
     "execution_count": 2,
     "metadata": {},
     "output_type": "execute_result"
    }
   ],
   "source": [
    "dir(this)"
   ]
  },
  {
   "cell_type": "code",
   "execution_count": 7,
   "metadata": {},
   "outputs": [
    {
     "data": {
      "text/plain": [
       "'/home/gregmcshane/anaconda3/lib/python3.6/this.py'"
      ]
     },
     "execution_count": 7,
     "metadata": {},
     "output_type": "execute_result"
    }
   ],
   "source": [
    "this.__file__"
   ]
  },
  {
   "cell_type": "code",
   "execution_count": 8,
   "metadata": {},
   "outputs": [],
   "source": [
    "with open('/home/gregmcshane/anaconda3/lib/python3.6/this.py','r') as fp:\n",
    "    dd = fp.read()"
   ]
  },
  {
   "cell_type": "code",
   "execution_count": 10,
   "metadata": {},
   "outputs": [
    {
     "name": "stdout",
     "output_type": "stream",
     "text": [
      "s = \"\"\"Gur Mra bs Clguba, ol Gvz Crgref\n",
      "\n",
      "Ornhgvshy vf orggre guna htyl.\n",
      "Rkcyvpvg vf orggre guna vzcyvpvg.\n",
      "Fvzcyr vf orggre guna pbzcyrk.\n",
      "Pbzcyrk vf orggre guna pbzcyvpngrq.\n",
      "Syng vf orggre guna arfgrq.\n",
      "Fcnefr vf orggre guna qrafr.\n",
      "Ernqnovyvgl pbhagf.\n",
      "Fcrpvny pnfrf nera'g fcrpvny rabhtu gb oernx gur ehyrf.\n",
      "Nygubhtu cenpgvpnyvgl orngf chevgl.\n",
      "Reebef fubhyq arire cnff fvyragyl.\n",
      "Hayrff rkcyvpvgyl fvyraprq.\n",
      "Va gur snpr bs nzovthvgl, ershfr gur grzcgngvba gb thrff.\n",
      "Gurer fubhyq or bar-- naq cersrenoyl bayl bar --boivbhf jnl gb qb vg.\n",
      "Nygubhtu gung jnl znl abg or boivbhf ng svefg hayrff lbh'er Qhgpu.\n",
      "Abj vf orggre guna arire.\n",
      "Nygubhtu arire vf bsgra orggre guna *evtug* abj.\n",
      "Vs gur vzcyrzragngvba vf uneq gb rkcynva, vg'f n onq vqrn.\n",
      "Vs gur vzcyrzragngvba vf rnfl gb rkcynva, vg znl or n tbbq vqrn.\n",
      "Anzrfcnprf ner bar ubaxvat terng vqrn -- yrg'f qb zber bs gubfr!\"\"\"\n",
      "\n",
      "d = {}\n",
      "for c in (65, 97):\n",
      "    for i in range(26):\n",
      "        d[chr(i+c)] = chr((i+13) % 26 + c)\n",
      "\n",
      "print(\"\".join([d.get(c, c) for c in s]))\n",
      "\n"
     ]
    }
   ],
   "source": [
    "print(dd)"
   ]
  },
  {
   "cell_type": "code",
   "execution_count": 13,
   "metadata": {},
   "outputs": [
    {
     "ename": "ModuleNotFoundError",
     "evalue": "No module named 'googletrans'",
     "output_type": "error",
     "traceback": [
      "\u001b[0;31m------------------------------------------\u001b[0m",
      "\u001b[0;31mModuleNotFoundError\u001b[0mTraceback (most recent call last)",
      "\u001b[0;32m<ipython-input-13-c76bcb7d023a>\u001b[0m in \u001b[0;36m<module>\u001b[0;34m()\u001b[0m\n\u001b[0;32m----> 1\u001b[0;31m \u001b[0;32mfrom\u001b[0m \u001b[0mgoogletrans\u001b[0m \u001b[0;32mimport\u001b[0m \u001b[0mTranslator\u001b[0m\u001b[0;34m\u001b[0m\u001b[0m\n\u001b[0m",
      "\u001b[0;31mModuleNotFoundError\u001b[0m: No module named 'googletrans'"
     ]
    }
   ],
   "source": [
    "from googletrans import Translator"
   ]
  },
  {
   "cell_type": "code",
   "execution_count": 7,
   "metadata": {},
   "outputs": [
    {
     "data": {
      "text/plain": [
       "'/home/gregmcshane/PROGRAMMATION'"
      ]
     },
     "execution_count": 7,
     "metadata": {},
     "output_type": "execute_result"
    }
   ],
   "source": [
    "pwd"
   ]
  },
  {
   "cell_type": "code",
   "execution_count": null,
   "metadata": {},
   "outputs": [],
   "source": []
  }
 ],
 "metadata": {
  "kernelspec": {
   "display_name": "Python 3",
   "language": "python",
   "name": "python3"
  },
  "language_info": {
   "codemirror_mode": {
    "name": "ipython",
    "version": 3
   },
   "file_extension": ".py",
   "mimetype": "text/x-python",
   "name": "python",
   "nbconvert_exporter": "python",
   "pygments_lexer": "ipython3",
   "version": "3.8.3"
  }
 },
 "nbformat": 4,
 "nbformat_minor": 4
}
