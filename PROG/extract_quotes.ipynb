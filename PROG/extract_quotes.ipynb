{
 "cells": [
  {
   "cell_type": "markdown",
   "metadata": {},
   "source": [
    "```python -m spacy download en_core_web_sm```\n",
    "\n",
    "https://stackabuse.com/python-for-nlp-vocabulary-and-phrase-matching-with-spacy/"
   ]
  },
  {
   "cell_type": "code",
   "execution_count": 1,
   "metadata": {},
   "outputs": [],
   "source": [
    "import os, re, time, sys\n",
    "import subprocess\n",
    "\n",
    "import json #serialise\n",
    "import requests\n",
    "from gtts import gTTS\n",
    "\n",
    "class Voices():\n",
    "    '''vv'''\n",
    "    voices = {'K' : 'en-GB_KateV3Voice',\n",
    "              'M' : 'en-US_MichaelV3Voice',\n",
    "              'KK' : 'en-US_KevinV3Voice',\n",
    "              'LI' : 'zh-CNLiNaVoice',\n",
    "              'O' : 'en-US_OliviaV3Voice',\n",
    "              'R' : 'fr-FR_ReneeV3Voice'\n",
    "             }\n",
    "    \n",
    "    def __init__(self):\n",
    "        if not os.path.isfile('script.json'):\n",
    "            self.inventory = {}\n",
    "        else:\n",
    "            self.inventory = json.load(open('script.json', 'r'))\n",
    "\n",
    "    def string2fn(self, xx):\n",
    "        '''ff'''\n",
    "        '''hash function\n",
    "        strip punctuation\n",
    "        return first 3 words with sep=_'''\n",
    "\n",
    "        words = re.sub(r'[^\\w\\s]', '', xx).lower().split() #strip punctuation - > lowercase\n",
    "        #check and pad\n",
    "        if len(words) < 3:\n",
    "            words.extend(['blah']*3)\n",
    "        return '_'.join(words[:3]) + '.mp3'\n",
    "\n",
    "    def get_audio(self, to_say):\n",
    "\n",
    "        actor, txt = to_say\n",
    "        FN = self.string2fn(txt)\n",
    "        print('Doing', FN)\n",
    "        \n",
    "        if actor in self.voices:\n",
    "            url = 'https://text-to-speech-demo.ng.bluemix.net/api/v3/synthesize'\n",
    "            params = {'text' : txt,\n",
    "                      'voice' : self.voices[actor],\n",
    "                      'download' : 'true',\n",
    "                      'accept' : 'audio/mp3'\n",
    "            }\n",
    "         \n",
    "            r = requests.get(url, params=params)\n",
    "\n",
    "            with open('%s'%FN, 'wb') as FP:\n",
    "                FP.write(r.content)\n",
    "\n",
    "        else: #assume it's a language tag and ask google\n",
    "            tts = gTTS(txt, lang=actor.lower())\n",
    "            tts.save(FN)\n",
    "\n",
    "    def add(self, txts):\n",
    "\n",
    "        for tt in txts:\n",
    "            actor, lines = tt\n",
    "            FN = self.string2fn(lines)\n",
    "            key = actor + FN\n",
    "            if key in self.inventory and self.inventory[key] == lines:\n",
    "                print('skipping', FN)\n",
    "                continue\n",
    "            self.get_audio(tt)\n",
    "            time.sleep(20)\n",
    "\n",
    "        with open('script.json', 'w') as FP:\n",
    "            json.dump({actor + self.string2fn(lines) : lines for  actor,lines  in txts}, FP)\n",
    "        print('DONE')\n",
    "        \n",
    "    def __repr__(self):\n",
    "        return str('\\n'.join(self.inventory.keys()))"
   ]
  },
  {
   "cell_type": "code",
   "execution_count": 2,
   "metadata": {},
   "outputs": [],
   "source": [
    "speek = Voices()"
   ]
  },
  {
   "cell_type": "code",
   "execution_count": 3,
   "metadata": {},
   "outputs": [
    {
     "name": "stdout",
     "output_type": "stream",
     "text": [
      "Doing imagination_is_more.mp3\n",
      "DONE\n"
     ]
    }
   ],
   "source": [
    "speek.add([('K','Imagination is more important than knowledge.')] )"
   ]
  },
  {
   "cell_type": "code",
   "execution_count": 7,
   "metadata": {},
   "outputs": [
    {
     "data": {
      "text/plain": [
       "<spacy.lang.en.English at 0x7fe8bc379280>"
      ]
     },
     "execution_count": 7,
     "metadata": {},
     "output_type": "execute_result"
    }
   ],
   "source": [
    "spacy.load('en_core_web_sm')   "
   ]
  },
  {
   "cell_type": "code",
   "execution_count": 8,
   "metadata": {},
   "outputs": [
    {
     "name": "stdout",
     "output_type": "stream",
     "text": [
      "Weakness of attitude becomes weakness of character.\n",
      "Weakness weakness NOUN NN nsubj Xxxxx True False\n",
      "attitude attitude NOUN NN pobj xxxx True False\n",
      "weakness weakness NOUN NN attr xxxx True False\n",
      "character character NOUN NN pobj xxxx True False\n"
     ]
    }
   ],
   "source": [
    "import spacy\n",
    "\n",
    "nlp = spacy.load(\"en_core_web_sm\")\n",
    "\n",
    "tt = qq[10]\n",
    "doc = nlp(tt)\n",
    "\n",
    "print(tt)\n",
    "for token in doc:\n",
    "    if token.pos_ not in ['NOUN']: continue\n",
    "    print(token.text, token.lemma_, token.pos_, token.tag_, token.dep_,\n",
    "            token.shape_, token.is_alpha, token.is_stop)"
   ]
  },
  {
   "cell_type": "code",
   "execution_count": 1,
   "metadata": {},
   "outputs": [
    {
     "name": "stdout",
     "output_type": "stream",
     "text": [
      "{'fontname': 'TimesNewRomanPSMT', 'adv': Decimal('0.333'), 'upright': True, 'x0': Decimal('151.666'), 'y0': Decimal('692.568'), 'x1': Decimal('155.662'), 'y1': Decimal('704.568'), 'width': Decimal('3.996'), 'height': Decimal('12.000'), 'size': Decimal('12.000'), 'object_type': 'char', 'page_number': 11, 'stroking_color': None, 'non_stroking_color': [0, 0, 0], 'text': 'f', 'top': Decimal('87.432'), 'bottom': Decimal('99.432'), 'doctop': Decimal('8007.432')}\n"
     ]
    }
   ],
   "source": [
    "import pdfplumber\n",
    "with pdfplumber.open(\"/home/macbuse/Documents/750-Famous-Quotes.pdf\") as pdf:\n",
    "    page  = pdf.pages[10]\n",
    "    text = page.chars[10]\n",
    "    print(text)"
   ]
  },
  {
   "cell_type": "code",
   "execution_count": 12,
   "metadata": {},
   "outputs": [
    {
     "data": {
      "text/plain": [
       "'/home/macbuse/Documents/macbuse.github.io/PROG'"
      ]
     },
     "execution_count": 12,
     "metadata": {},
     "output_type": "execute_result"
    }
   ],
   "source": []
  },
  {
   "cell_type": "code",
   "execution_count": 2,
   "metadata": {},
   "outputs": [
    {
     "name": "stderr",
     "output_type": "stream",
     "text": [
      "PdfReadWarning: Xref table not zero-indexed. ID numbers for objects will be corrected. [pdf.py:1736]\n"
     ]
    },
    {
     "name": "stdout",
     "output_type": "stream",
     "text": [
      "{'/ModDate': \"D:20040626211801-04'00'\", '/CreationDate': \"D:20040626210341-04'00'\", '/Title': 'Famous Motivational', '/Creator': 'Acrobat PDFMaker 6.0 for Word', '/Author': 'George', '/Producer': 'Acrobat Distiller 6.0 (Windows)', '/Company': 'AL', '/SourceModified': 'D:20040627010124'}\n",
      "number of pages: 53\n"
     ]
    }
   ],
   "source": [
    "from PyPDF2 import PdfFileReader\n",
    "\n",
    "pdf_document = \"/home/macbuse/Documents/750-Famous-Quotes.pdf\"\n",
    "with open(pdf_document, \"rb\") as fp:\n",
    "    pdf = PdfFileReader(fp)\n",
    "    pdf.decrypt('')\n",
    "    info = pdf.getDocumentInfo()\n",
    "    pages = pdf.getNumPages()\n",
    "\n",
    "    print (info)\n",
    "    print (\"number of pages: %i\" % pages)\n",
    "    \n",
    "    data = []\n",
    "    for k in range(2,53):\n",
    "        page = pdf.getPage(k)\n",
    "    \n",
    "        data.append(page.extractText())\n",
    "\n"
   ]
  },
  {
   "cell_type": "code",
   "execution_count": 3,
   "metadata": {},
   "outputs": [],
   "source": [
    "import re\n",
    "\n",
    "pp = re.compile('([^\\.]*?)(\\d+) quotes')\n",
    "\n",
    "quotes = ''.join([ txt.replace('\\n','') for txt in data])"
   ]
  },
  {
   "cell_type": "code",
   "execution_count": 4,
   "metadata": {},
   "outputs": [
    {
     "data": {
      "text/plain": [
       "'Abraham Lincoln 34 quotes    1. My father taught me to work; he did not teach me to love it.  2. Com'"
      ]
     },
     "execution_count": 4,
     "metadata": {},
     "output_type": "execute_result"
    }
   ],
   "source": [
    "quotes[:100]"
   ]
  },
  {
   "cell_type": "code",
   "execution_count": 5,
   "metadata": {},
   "outputs": [],
   "source": [
    "pp.findall(quotes)\n",
    "\n",
    "blocks = pp.sub('\\n', quotes).split('\\n')"
   ]
  },
  {
   "cell_type": "code",
   "execution_count": 6,
   "metadata": {},
   "outputs": [],
   "source": [
    "pq = re.compile('\\d+\\.([^\\d]+)')\n",
    "\n",
    "qq = [x.strip() for x in pq.findall(blocks[2])]"
   ]
  },
  {
   "cell_type": "code",
   "execution_count": 7,
   "metadata": {},
   "outputs": [],
   "source": [
    "with open('einstein.txt','w') as fp:\n",
    "    fp.write('\\n'.join(qq))"
   ]
  },
  {
   "cell_type": "code",
   "execution_count": null,
   "metadata": {},
   "outputs": [],
   "source": []
  }
 ],
 "metadata": {
  "kernelspec": {
   "display_name": "NLP",
   "language": "python",
   "name": "nlp"
  },
  "language_info": {
   "codemirror_mode": {
    "name": "ipython",
    "version": 3
   },
   "file_extension": ".py",
   "mimetype": "text/x-python",
   "name": "python",
   "nbconvert_exporter": "python",
   "pygments_lexer": "ipython3",
   "version": "3.8.5"
  }
 },
 "nbformat": 4,
 "nbformat_minor": 4
}
