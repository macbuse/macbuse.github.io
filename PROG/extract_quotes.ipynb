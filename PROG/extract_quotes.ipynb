{
 "cells": [
  {
   "cell_type": "markdown",
   "metadata": {},
   "source": [
    "```python -m spacy download en_core_web_sm```\n",
    "\n",
    "https://stackabuse.com/python-for-nlp-vocabulary-and-phrase-matching-with-spacy/"
   ]
  },
  {
   "cell_type": "code",
   "execution_count": 22,
   "metadata": {},
   "outputs": [],
   "source": [
    "import os, re, time, sys\n",
    "import subprocess\n",
    "\n",
    "import json #serialise\n",
    "import requests\n",
    "from gtts import gTTS\n",
    "\n",
    "class Voices():\n",
    "    '''vv'''\n",
    "    voices = {'K' : 'en-GB_KateV3Voice',\n",
    "              'M' : 'en-US_MichaelV3Voice',\n",
    "              'KK' : 'en-US_KevinV3Voice',\n",
    "              'LI' : 'zh-CNLiNaVoice',\n",
    "              'O' : 'en-US_OliviaV3Voice',\n",
    "              'R' : 'fr-FR_ReneeV3Voice'\n",
    "             }\n",
    "    \n",
    "    def __init__(self):\n",
    "        if not os.path.isfile('script.json'):\n",
    "            self.inventory = {}\n",
    "        else:\n",
    "            self.inventory = json.load(open('script.json', 'r'))\n",
    "\n",
    "    def string2fn(self, xx):\n",
    "        '''ff'''\n",
    "        '''hash function\n",
    "        strip punctuation\n",
    "        return first 3 words with sep=_'''\n",
    "\n",
    "        words = re.sub(r'[^\\w\\s]', '', xx).lower().split() #strip punctuation - > lowercase\n",
    "        #check and pad\n",
    "        if len(words) < 3:\n",
    "            words.extend(['blah']*3)\n",
    "        return '_'.join(words[:3]) + '.mp3'\n",
    "\n",
    "    def get_audio(self, to_say):\n",
    "\n",
    "        actor, txt = to_say\n",
    "        FN = self.string2fn(txt)\n",
    "        print('Doing', FN)\n",
    "        \n",
    "        if actor in self.voices:\n",
    "            url = 'https://text-to-speech-demo.ng.bluemix.net/api/v3/synthesize'\n",
    "            params = {'text' : txt,\n",
    "                      'voice' : self.voices[actor],\n",
    "                      'download' : 'true',\n",
    "                      'accept' : 'audio/mp3'\n",
    "            }\n",
    "         \n",
    "            r = requests.get(url, params=params)\n",
    "\n",
    "            with open('%s'%FN, 'wb') as FP:\n",
    "                FP.write(r.content)\n",
    "\n",
    "        else: #assume it's a language tag and ask google\n",
    "            tts = gTTS(txt, lang=actor.lower())\n",
    "            tts.save(FN)\n",
    "\n",
    "    def add(self, txts):\n",
    "\n",
    "        for tt in txts:\n",
    "            actor, lines = tt\n",
    "            FN = self.string2fn(lines)\n",
    "            key = actor + FN\n",
    "            if key in self.inventory and self.inventory[key] == lines:\n",
    "                print('skipping', FN)\n",
    "                continue\n",
    "            self.get_audio(tt)\n",
    "            time.sleep(20)\n",
    "\n",
    "        with open('script.json', 'w') as FP:\n",
    "            json.dump({actor + self.string2fn(lines) : lines for  actor,lines  in txts}, FP)\n",
    "        print('DONE')\n",
    "        \n",
    "    def __repr__(self):\n",
    "        return str('\\n'.join(self.inventory.keys()))"
   ]
  },
  {
   "cell_type": "code",
   "execution_count": 23,
   "metadata": {},
   "outputs": [],
   "source": [
    "speek = Voices()"
   ]
  },
  {
   "cell_type": "code",
   "execution_count": 24,
   "metadata": {},
   "outputs": [
    {
     "name": "stdout",
     "output_type": "stream",
     "text": [
      "Doing imagination_is_more.mp3\n",
      "DONE\n"
     ]
    }
   ],
   "source": [
    "speek.add([('K','Imagination is more important than knowledge.')] )"
   ]
  },
  {
   "cell_type": "code",
   "execution_count": 7,
   "metadata": {},
   "outputs": [
    {
     "data": {
      "text/plain": [
       "<spacy.lang.en.English at 0x7fe8bc379280>"
      ]
     },
     "execution_count": 7,
     "metadata": {},
     "output_type": "execute_result"
    }
   ],
   "source": [
    "spacy.load('en_core_web_sm')   "
   ]
  },
  {
   "cell_type": "code",
   "execution_count": 32,
   "metadata": {},
   "outputs": [
    {
     "name": "stdout",
     "output_type": "stream",
     "text": [
      "Weakness of attitude becomes weakness of character.\n",
      "Weakness weakness NOUN NN nsubj Xxxxx True False\n",
      "attitude attitude NOUN NN pobj xxxx True False\n",
      "weakness weakness NOUN NN attr xxxx True False\n",
      "character character NOUN NN pobj xxxx True False\n"
     ]
    }
   ],
   "source": [
    "import spacy\n",
    "\n",
    "nlp = spacy.load(\"en_core_web_sm\")\n",
    "\n",
    "tt = qq[10]\n",
    "doc = nlp(tt)\n",
    "\n",
    "print(tt)\n",
    "for token in doc:\n",
    "    if token.pos_ not in ['NOUN']: continue\n",
    "    print(token.text, token.lemma_, token.pos_, token.tag_, token.dep_,\n",
    "            token.shape_, token.is_alpha, token.is_stop)"
   ]
  },
  {
   "cell_type": "code",
   "execution_count": 2,
   "metadata": {},
   "outputs": [
    {
     "name": "stdout",
     "output_type": "stream",
     "text": [
      "{'fontname': 'TimesNewRomanPSMT', 'adv': Decimal('0.333'), 'upright': True, 'x0': Decimal('151.666'), 'y0': Decimal('692.568'), 'x1': Decimal('155.662'), 'y1': Decimal('704.568'), 'width': Decimal('3.996'), 'height': Decimal('12.000'), 'size': Decimal('12.000'), 'object_type': 'char', 'page_number': 11, 'stroking_color': None, 'non_stroking_color': [0, 0, 0], 'text': 'f', 'top': Decimal('87.432'), 'bottom': Decimal('99.432'), 'doctop': Decimal('8007.432')}\n"
     ]
    }
   ],
   "source": [
    "import pdfplumber\n",
    "with pdfplumber.open(\"/home/macbuse/Documents/750-Famous-Quotes.pdf\") as pdf:\n",
    "    page  = pdf.pages[10]\n",
    "    text = page.chars[10]\n",
    "    print(text)"
   ]
  },
  {
   "cell_type": "code",
   "execution_count": 12,
   "metadata": {},
   "outputs": [
    {
     "data": {
      "text/plain": [
       "'/home/macbuse/Documents/macbuse.github.io/PROG'"
      ]
     },
     "execution_count": 12,
     "metadata": {},
     "output_type": "execute_result"
    }
   ],
   "source": []
  },
  {
   "cell_type": "code",
   "execution_count": 3,
   "metadata": {},
   "outputs": [
    {
     "name": "stderr",
     "output_type": "stream",
     "text": [
      "PdfReadWarning: Xref table not zero-indexed. ID numbers for objects will be corrected. [pdf.py:1736]\n"
     ]
    },
    {
     "name": "stdout",
     "output_type": "stream",
     "text": [
      "{'/ModDate': \"D:20040626211801-04'00'\", '/CreationDate': \"D:20040626210341-04'00'\", '/Title': 'Famous Motivational', '/Creator': 'Acrobat PDFMaker 6.0 for Word', '/Author': 'George', '/Producer': 'Acrobat Distiller 6.0 (Windows)', '/Company': 'AL', '/SourceModified': 'D:20040627010124'}\n",
      "number of pages: 53\n"
     ]
    }
   ],
   "source": [
    "from PyPDF2 import PdfFileReader\n",
    "\n",
    "pdf_document = \"/home/macbuse/Documents/750-Famous-Quotes.pdf\"\n",
    "with open(pdf_document, \"rb\") as fp:\n",
    "    pdf = PdfFileReader(fp)\n",
    "    pdf.decrypt('')\n",
    "    info = pdf.getDocumentInfo()\n",
    "    pages = pdf.getNumPages()\n",
    "\n",
    "    print (info)\n",
    "    print (\"number of pages: %i\" % pages)\n",
    "    \n",
    "    data = []\n",
    "    for k in range(2,53):\n",
    "        page = pdf.getPage(k)\n",
    "    \n",
    "        data.append(page.extractText())\n",
    "\n"
   ]
  },
  {
   "cell_type": "code",
   "execution_count": 4,
   "metadata": {},
   "outputs": [],
   "source": [
    "import re\n",
    "\n",
    "pp = re.compile('([^\\.]*?)(\\d+) quotes')\n",
    "\n",
    "quotes = ''.join([ txt.replace('\\n','') for txt in data])"
   ]
  },
  {
   "cell_type": "code",
   "execution_count": 17,
   "metadata": {},
   "outputs": [
    {
     "data": {
      "text/plain": [
       "'Abraham Lincoln 34 quotes    1. My father taught me to work; he did not teach me to love it.  2. Com'"
      ]
     },
     "execution_count": 17,
     "metadata": {},
     "output_type": "execute_result"
    }
   ],
   "source": [
    "quotes[:100]"
   ]
  },
  {
   "cell_type": "code",
   "execution_count": 12,
   "metadata": {},
   "outputs": [],
   "source": [
    "pp.findall(quotes)\n",
    "\n",
    "blocks = pp.sub('\\n', quotes).split('\\n')"
   ]
  },
  {
   "cell_type": "code",
   "execution_count": 26,
   "metadata": {},
   "outputs": [],
   "source": [
    "pq = re.compile('\\d+\\.([^\\d]+)')\n",
    "\n",
    "qq = [x.strip() for x in pq.findall(blocks[2])]"
   ]
  },
  {
   "cell_type": "code",
   "execution_count": 27,
   "metadata": {},
   "outputs": [
    {
     "data": {
      "text/plain": [
       "['Any intelligent fool can make things bigger, more complex, and more violent. It takes a touch of genius -- and a lot of courage -- to move in the opposite direction.',\n",
       " 'Imagination is more important than knowledge.',\n",
       " 'Gravitation is not responsible for people falling in love.',\n",
       " \"I want to know God's thoughts; the rest are details.\",\n",
       " 'The hardest thing in the world to understand is the income tax.',\n",
       " 'Reality is merely an illusion, albeit a very persistent one.',\n",
       " 'The only real valuable thing is intuition.',\n",
       " 'A person starts to live when he can live outside himself.',\n",
       " 'I am convinced that He (God) does not play dice.',\n",
       " 'God is subtle but he is not malicious.',\n",
       " 'Weakness of attitude becomes weakness of character.',\n",
       " 'I never think of the future. It comes soon enough.',\n",
       " 'The eternal mystery of the world is its comprehensibility.',\n",
       " 'Sometimes one pays most for the things one gets for nothing.',\n",
       " 'Science without religion is lame. Religion without science is blind.',\n",
       " 'Anyone who has never made a mistake has never tried anything new.',\n",
       " 'Great spirits have often encountered violent opposition from weak minds.',\n",
       " 'Everything should be made as simple as possible, but not simpler.',\n",
       " 'Common sense is the collection of prejudices acquired by age eighteen.',\n",
       " \"Science is a wonderful thing if one does not have to earn one's living at it.\",\n",
       " 'The secret to creativity is knowing how to hide your sources.',\n",
       " 'The only thing that interferes with my learning is my education.',\n",
       " 'God does not care about our mathematical difficulties. He integrates empirically.',\n",
       " 'The whole of science is nothing more than a refinement of everyday thinking.',\n",
       " 'Technological progress is like an axe in the hands of a pathological criminal.',\n",
       " 'Peace cannot be kept by force. It can only be achieved by understanding.',\n",
       " 'The most incomprehensible thing about the world is that it is comprehensible.',\n",
       " \"We can't solve problems by using the same kind of thinking we used when we created them.\",\n",
       " 'Education is what remains after one has forgotten everything he learned in school.',\n",
       " 'The important thing is not to stop questioning. Curiosity has its own reason for existing.',\n",
       " 'Do not worry about your difficulties in Mathematics. I can assure you mine are still greater.',\n",
       " 'Equations are more important to me, because politics is for the present, but an equation is something for eternity.',\n",
       " 'If A is a success in life, then A equals x plus y plus z. Work is x; y is play; and z is keeping your mouth shut.',\n",
       " \"Two things are infinite: the universe and human stupidity; and I'm not sure about the the universe.\",\n",
       " 'As far as the laws of mathematics refer to reality, they are not certain, as far as they are certain, they do not refer to reality.',\n",
       " 'Whoever undertakes to set himself up as a judge of Truth and Knowledge is shipwrecked by the laughter of the gods.',\n",
       " 'I know not with what weapons World War III will be fought, but World War IV will be fought with sticks and stones.',\n",
       " 'In order to form an immaculate member of a flock of sheep one must, above all, be a sheep.',\n",
       " \"The fear of death is the most unjustified of all fears, for there's no risk of accident for someone who's dead.\",\n",
       " 'Too many of us look upon Americans as dollar chasers. This is a cruel libel, even if it is reiterated thoughtlessly by the Americans themselves.',\n",
       " 'Heroism on command, senseless violence, and all the loathsome nonsense that goes by the name of patriotism -- how passionately I hate them!',\n",
       " \"No, this trick won't work...How on earth are you ever going to explain in terms of chemistry and physics so important a biological phenomenon as first love?\",\n",
       " 'My religion consists of a humble admiration of the illimitable superior spirit who reveals himself in the slight details we are able to perceive with our frail and feeble mind.',\n",
       " 'Yes, we have to divide up our time like that, between our politics and our equations. But to me our equations are far more important, for politics are only a matter of present concern. A mathematical equation stands forever.',\n",
       " 'The release of atom power has changed everything except our way of thinking...the solution to this problem lies in the heart of mankind. If only I had known, I should have become a watchmaker.',\n",
       " 'Great spirits have always found violent opposition from mediocrities. The latter cannot understand it when a man does not thoughtlessly submit to hereditary prejudices but honestly and courageously uses his intelligence.',\n",
       " 'The most beautiful thing we can experience is the mysterious. It is the source of all true art and all science. He to whom this emotion is a stranger, who can no longer pause to wonder and stand rapt in awe, is as good as dead: his eyes are closed.',\n",
       " \"A man's ethical behavior should be based effectually on sympathy, education, and social ties; no religious basis is necessary. Man would indeeded be in a poor way if he had to be restrained by fear of punishment and hope of reward after death.\",\n",
       " 'The further the spiritual evolution of mankind advances, the more certain it seems to me that the path to genuine religiosity does not lie through the fear of life, and the fear of death, and blind faith, but through striving after rational knowledge.',\n",
       " 'Now he has departed from this strange world a little ahead of me. That means nothing. People like us, who believe in physics, know that the distinction between past, present, and future is only a stubbornly persistent illusion.',\n",
       " 'You see, wire telegraph is a kind of a very, very long cat. You pull his tail in New York and his head is meowing in Los Angeles. Do you understand this? And radio operates exactly the same way: you send signals here, they receive them there. The only difference is that there is no cat.',\n",
       " \"One had to cram all this stuff into one's mind for the examinations, whether one liked it or not. This coercion had such a deterring effect on me that, after I had passed the final examination, I found the consideration of any scientific problems distasteful to me for an entire year.\",\n",
       " \"...one of the strongest motives that lead men to art and science is escape from everyday life with its painful crudity and hopeless dreariness, from the fetters of one's own ever-shifting desires. A finely tempered nature longs to escape from the personal life into the world of objective perception and thought.\",\n",
       " 'He who joyfully marches to music rank and file, has already earned my contempt. He has been given a large brain by mistake, since for him the spinal cord would surely suffice. This disgrace to civilization should be done away with at once. Heroism at command, how violently I hate all this, how despicable and ignoble war is; I would rather be torn to shreds than be a part of so base an action. It is my conviction that killing under the cloak of war is nothing but an act of murder.',\n",
       " 'A human being is a part of a whole, called by us _universe_, a part limited in time and space. He experiences himself, his thoughts and feelings as something separated from the rest... a kind of optical delusion of his consciousness. This delusion is a kind of prison for us, restricting us to our personal desires and to affection for a few persons nearest to us. Our task must be to free ourselves from this prison by widening our circle of compassion to embrace all living creatures and the whole of nature in its beauty.']"
      ]
     },
     "execution_count": 27,
     "metadata": {},
     "output_type": "execute_result"
    }
   ],
   "source": [
    "\n",
    " 'Too many of us look upon Americans as dollar chasers. This is a cruel libel, even if it is reiterated thoughtlessly by the Americans themselves.',\n",
    " 'Heroism on command, senseless violence, and all the loathsome nonsense that goes by the name of patriotism -- how passionately I hate them!',\n",
    " \"No, this trick won't work...How on earth are you ever goiqq"
   ]
  },
  {
   "cell_type": "code",
   "execution_count": null,
   "metadata": {},
   "outputs": [],
   "source": []
  }
 ],
 "metadata": {
  "kernelspec": {
   "display_name": "NLP",
   "language": "python",
   "name": "nlp"
  },
  "language_info": {
   "codemirror_mode": {
    "name": "ipython",
    "version": 3
   },
   "file_extension": ".py",
   "mimetype": "text/x-python",
   "name": "python",
   "nbconvert_exporter": "python",
   "pygments_lexer": "ipython3",
   "version": "3.8.5"
  }
 },
 "nbformat": 4,
 "nbformat_minor": 4
}
