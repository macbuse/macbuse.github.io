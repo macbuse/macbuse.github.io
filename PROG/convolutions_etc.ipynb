{
 "cells": [
  {
   "cell_type": "markdown",
   "metadata": {},
   "source": [
    "# Convolutions and linear regression\n",
    "\n",
    "There are 2 basic ingredients for neural nets\n",
    "\n",
    "- convolutions\n",
    "- multivariate linear regression\n",
    "\n",
    "We'll start by doing convolutions.\n",
    "\n",
    "- for the theory in french [read this](https://www.f-legrand.fr/scidoc/docmml/image/filtrage/convolution/convolution.html)\n",
    "- we'll also be doing some image processing from [this tuto](https://medium.com/analytics-vidhya/2d-convolution-using-python-numpy-43442ff5f381)\n",
    "\n",
    "\n",
    "---\n",
    "\n",
    "The most common use of a convolution is the \n",
    "**moving average** = [moyenne mobile](https://fr.wikipedia.org/wiki/Moyenne_mobile)\n",
    "which is used to smooth noisy data.\n",
    "\n",
    "There is a simple exercise at the end.\n",
    "\n",
    "I will add the excercise on image processing this evening.\n",
    "\n"
   ]
  },
  {
   "cell_type": "code",
   "execution_count": 2,
   "metadata": {},
   "outputs": [],
   "source": [
    "import numpy as np\n",
    "import matplotlib.pyplot as plt"
   ]
  },
  {
   "cell_type": "markdown",
   "metadata": {},
   "source": [
    "## Smoothing COVID data\n",
    "\n",
    "So we'll see how a convolution works on real data.\n",
    "We'll get the latest mortality figures from **GitHub**.\n",
    "\n",
    "The [source](https://github.com/CSSEGISandData/COVID-19) is maintained by John Hopkins University.\n"
   ]
  },
  {
   "cell_type": "code",
   "execution_count": 113,
   "metadata": {},
   "outputs": [
    {
     "name": "stdout",
     "output_type": "stream",
     "text": [
      "[master 72c1a90] web\n",
      " 2 files changed, 36 insertions(+)\n",
      " rename PROG/.ipynb_checkpoints/{Untitled1-checkpoint.ipynb => convolutions_etc-checkpoint.ipynb} (100%)\n",
      " rename PROG/{Untitled1.ipynb => convolutions_etc.ipynb} (99%)\n",
      "Counting objects: 5, done.\n",
      "Delta compression using up to 12 threads.\n",
      "Compressing objects: 100% (5/5), done.\n",
      "Writing objects: 100% (5/5), 115.12 KiB | 3.84 MiB/s, done.\n",
      "Total 5 (delta 3), reused 0 (delta 0)\n",
      "remote: Resolving deltas: 100% (3/3), completed with 3 local objects.\u001b[K\n",
      "To https://github.com/macbuse/macbuse.github.io.git\n",
      "   3899a24..72c1a90  master -> master\n"
     ]
    }
   ],
   "source": [
    "! ../.g\n"
   ]
  },
  {
   "cell_type": "code",
   "execution_count": 3,
   "metadata": {},
   "outputs": [],
   "source": [
    "import requests\n",
    "import pandas as pd"
   ]
  },
  {
   "cell_type": "code",
   "execution_count": 4,
   "metadata": {},
   "outputs": [],
   "source": [
    "root_dir = 'https://raw.githubusercontent.com/CSSEGISandData/COVID-19/master/csse_covid_19_data/csse_covid_19_time_series/'\n",
    "fn = 'time_series_covid19_%s_global.csv'\n",
    "\n",
    "for ss in ['deaths','confirmed']:\n",
    "    r = requests.get(root_dir + fn%ss, allow_redirects=True)\n",
    "    open('covid_%s.csv'%ss, 'wb').write(r.content)"
   ]
  },
  {
   "cell_type": "markdown",
   "metadata": {},
   "source": [
    "## Visualising the data\n",
    "\n",
    "We'll convert to a [Pandas DataFrame](https://pandas.pydata.org/pandas-docs/stable/reference/api/pandas.DataFrame.html).\n",
    "\n",
    "- If you want to know more [read this in french](http://eric.univ-lyon2.fr/~ricco/tanagra/fichiers/fr_Tanagra_Data_Manipulation_Pandas.pdf).\n",
    "- It's basically a table like in Excel\n",
    "    - columns have names\n",
    "    - rows are numbered and accessed using ```iloc```.\n"
   ]
  },
  {
   "cell_type": "code",
   "execution_count": 5,
   "metadata": {},
   "outputs": [],
   "source": [
    "df = pd.read_csv('covid_deaths.csv')"
   ]
  },
  {
   "cell_type": "code",
   "execution_count": 21,
   "metadata": {},
   "outputs": [
    {
     "data": {
      "text/plain": [
       "'Province/State Country/Region Lat Long 1/22/20 1/23/20 1/24/20 1/25/20 1/26/20 1/27/20 1/28/20 1/29/20 1/30/20 1/31/20 2/1/20 2/2/20 2/3/20 2/4/20 2/5/20 2/6/20'"
      ]
     },
     "execution_count": 21,
     "metadata": {},
     "output_type": "execute_result"
    }
   ],
   "source": [
    "' '.join(df.columns.tolist()[:20])"
   ]
  },
  {
   "cell_type": "markdown",
   "metadata": {},
   "source": [
    "From the dates we see this is the latest data"
   ]
  },
  {
   "cell_type": "code",
   "execution_count": 22,
   "metadata": {},
   "outputs": [
    {
     "data": {
      "text/plain": [
       "'11/2/20 11/3/20 11/4/20 11/5/20 11/6/20 11/7/20 11/8/20 11/9/20 11/10/20 11/11/20'"
      ]
     },
     "execution_count": 22,
     "metadata": {},
     "output_type": "execute_result"
    }
   ],
   "source": [
    "' '.join(df.columns.tolist()[-10:])"
   ]
  },
  {
   "cell_type": "code",
   "execution_count": 6,
   "metadata": {},
   "outputs": [
    {
     "data": {
      "text/html": [
       "<div>\n",
       "<style scoped>\n",
       "    .dataframe tbody tr th:only-of-type {\n",
       "        vertical-align: middle;\n",
       "    }\n",
       "\n",
       "    .dataframe tbody tr th {\n",
       "        vertical-align: top;\n",
       "    }\n",
       "\n",
       "    .dataframe thead th {\n",
       "        text-align: right;\n",
       "    }\n",
       "</style>\n",
       "<table border=\"1\" class=\"dataframe\">\n",
       "  <thead>\n",
       "    <tr style=\"text-align: right;\">\n",
       "      <th></th>\n",
       "      <th>Province/State</th>\n",
       "      <th>Country/Region</th>\n",
       "      <th>Lat</th>\n",
       "      <th>Long</th>\n",
       "      <th>1/22/20</th>\n",
       "      <th>1/23/20</th>\n",
       "      <th>1/24/20</th>\n",
       "      <th>1/25/20</th>\n",
       "      <th>1/26/20</th>\n",
       "      <th>1/27/20</th>\n",
       "      <th>...</th>\n",
       "      <th>11/2/20</th>\n",
       "      <th>11/3/20</th>\n",
       "      <th>11/4/20</th>\n",
       "      <th>11/5/20</th>\n",
       "      <th>11/6/20</th>\n",
       "      <th>11/7/20</th>\n",
       "      <th>11/8/20</th>\n",
       "      <th>11/9/20</th>\n",
       "      <th>11/10/20</th>\n",
       "      <th>11/11/20</th>\n",
       "    </tr>\n",
       "  </thead>\n",
       "  <tbody>\n",
       "    <tr>\n",
       "      <th>0</th>\n",
       "      <td>NaN</td>\n",
       "      <td>Afghanistan</td>\n",
       "      <td>33.93911</td>\n",
       "      <td>67.709953</td>\n",
       "      <td>0</td>\n",
       "      <td>0</td>\n",
       "      <td>0</td>\n",
       "      <td>0</td>\n",
       "      <td>0</td>\n",
       "      <td>0</td>\n",
       "      <td>...</td>\n",
       "      <td>1541</td>\n",
       "      <td>1544</td>\n",
       "      <td>1548</td>\n",
       "      <td>1554</td>\n",
       "      <td>1554</td>\n",
       "      <td>1556</td>\n",
       "      <td>1558</td>\n",
       "      <td>1574</td>\n",
       "      <td>1577</td>\n",
       "      <td>1581</td>\n",
       "    </tr>\n",
       "    <tr>\n",
       "      <th>1</th>\n",
       "      <td>NaN</td>\n",
       "      <td>Albania</td>\n",
       "      <td>41.15330</td>\n",
       "      <td>20.168300</td>\n",
       "      <td>0</td>\n",
       "      <td>0</td>\n",
       "      <td>0</td>\n",
       "      <td>0</td>\n",
       "      <td>0</td>\n",
       "      <td>0</td>\n",
       "      <td>...</td>\n",
       "      <td>527</td>\n",
       "      <td>532</td>\n",
       "      <td>536</td>\n",
       "      <td>543</td>\n",
       "      <td>549</td>\n",
       "      <td>557</td>\n",
       "      <td>559</td>\n",
       "      <td>571</td>\n",
       "      <td>579</td>\n",
       "      <td>590</td>\n",
       "    </tr>\n",
       "    <tr>\n",
       "      <th>2</th>\n",
       "      <td>NaN</td>\n",
       "      <td>Algeria</td>\n",
       "      <td>28.03390</td>\n",
       "      <td>1.659600</td>\n",
       "      <td>0</td>\n",
       "      <td>0</td>\n",
       "      <td>0</td>\n",
       "      <td>0</td>\n",
       "      <td>0</td>\n",
       "      <td>0</td>\n",
       "      <td>...</td>\n",
       "      <td>1980</td>\n",
       "      <td>1980</td>\n",
       "      <td>1999</td>\n",
       "      <td>2011</td>\n",
       "      <td>2024</td>\n",
       "      <td>2036</td>\n",
       "      <td>2048</td>\n",
       "      <td>2062</td>\n",
       "      <td>2077</td>\n",
       "      <td>2093</td>\n",
       "    </tr>\n",
       "    <tr>\n",
       "      <th>3</th>\n",
       "      <td>NaN</td>\n",
       "      <td>Andorra</td>\n",
       "      <td>42.50630</td>\n",
       "      <td>1.521800</td>\n",
       "      <td>0</td>\n",
       "      <td>0</td>\n",
       "      <td>0</td>\n",
       "      <td>0</td>\n",
       "      <td>0</td>\n",
       "      <td>0</td>\n",
       "      <td>...</td>\n",
       "      <td>75</td>\n",
       "      <td>75</td>\n",
       "      <td>75</td>\n",
       "      <td>75</td>\n",
       "      <td>75</td>\n",
       "      <td>75</td>\n",
       "      <td>75</td>\n",
       "      <td>75</td>\n",
       "      <td>75</td>\n",
       "      <td>75</td>\n",
       "    </tr>\n",
       "    <tr>\n",
       "      <th>4</th>\n",
       "      <td>NaN</td>\n",
       "      <td>Angola</td>\n",
       "      <td>-11.20270</td>\n",
       "      <td>17.873900</td>\n",
       "      <td>0</td>\n",
       "      <td>0</td>\n",
       "      <td>0</td>\n",
       "      <td>0</td>\n",
       "      <td>0</td>\n",
       "      <td>0</td>\n",
       "      <td>...</td>\n",
       "      <td>289</td>\n",
       "      <td>291</td>\n",
       "      <td>296</td>\n",
       "      <td>299</td>\n",
       "      <td>300</td>\n",
       "      <td>303</td>\n",
       "      <td>307</td>\n",
       "      <td>308</td>\n",
       "      <td>308</td>\n",
       "      <td>312</td>\n",
       "    </tr>\n",
       "  </tbody>\n",
       "</table>\n",
       "<p>5 rows × 299 columns</p>\n",
       "</div>"
      ],
      "text/plain": [
       "  Province/State Country/Region       Lat       Long  1/22/20  1/23/20  \\\n",
       "0            NaN    Afghanistan  33.93911  67.709953        0        0   \n",
       "1            NaN        Albania  41.15330  20.168300        0        0   \n",
       "2            NaN        Algeria  28.03390   1.659600        0        0   \n",
       "3            NaN        Andorra  42.50630   1.521800        0        0   \n",
       "4            NaN         Angola -11.20270  17.873900        0        0   \n",
       "\n",
       "   1/24/20  1/25/20  1/26/20  1/27/20  ...  11/2/20  11/3/20  11/4/20  \\\n",
       "0        0        0        0        0  ...     1541     1544     1548   \n",
       "1        0        0        0        0  ...      527      532      536   \n",
       "2        0        0        0        0  ...     1980     1980     1999   \n",
       "3        0        0        0        0  ...       75       75       75   \n",
       "4        0        0        0        0  ...      289      291      296   \n",
       "\n",
       "   11/5/20  11/6/20  11/7/20  11/8/20  11/9/20  11/10/20  11/11/20  \n",
       "0     1554     1554     1556     1558     1574      1577      1581  \n",
       "1      543      549      557      559      571       579       590  \n",
       "2     2011     2024     2036     2048     2062      2077      2093  \n",
       "3       75       75       75       75       75        75        75  \n",
       "4      299      300      303      307      308       308       312  \n",
       "\n",
       "[5 rows x 299 columns]"
      ]
     },
     "execution_count": 6,
     "metadata": {},
     "output_type": "execute_result"
    }
   ],
   "source": [
    "df.head()"
   ]
  },
  {
   "cell_type": "markdown",
   "metadata": {},
   "source": [
    "## Looking for France\n",
    "\n",
    "France is in the rows 116 - 126\n",
    "\n",
    "'''df.loc[126]''' is what we want"
   ]
  },
  {
   "cell_type": "code",
   "execution_count": 24,
   "metadata": {},
   "outputs": [
    {
     "data": {
      "text/html": [
       "<div>\n",
       "<style scoped>\n",
       "    .dataframe tbody tr th:only-of-type {\n",
       "        vertical-align: middle;\n",
       "    }\n",
       "\n",
       "    .dataframe tbody tr th {\n",
       "        vertical-align: top;\n",
       "    }\n",
       "\n",
       "    .dataframe thead th {\n",
       "        text-align: right;\n",
       "    }\n",
       "</style>\n",
       "<table border=\"1\" class=\"dataframe\">\n",
       "  <thead>\n",
       "    <tr style=\"text-align: right;\">\n",
       "      <th></th>\n",
       "      <th>Province/State</th>\n",
       "      <th>Country/Region</th>\n",
       "      <th>Lat</th>\n",
       "      <th>Long</th>\n",
       "      <th>1/22/20</th>\n",
       "      <th>1/23/20</th>\n",
       "      <th>1/24/20</th>\n",
       "      <th>1/25/20</th>\n",
       "      <th>1/26/20</th>\n",
       "      <th>1/27/20</th>\n",
       "      <th>...</th>\n",
       "      <th>11/2/20</th>\n",
       "      <th>11/3/20</th>\n",
       "      <th>11/4/20</th>\n",
       "      <th>11/5/20</th>\n",
       "      <th>11/6/20</th>\n",
       "      <th>11/7/20</th>\n",
       "      <th>11/8/20</th>\n",
       "      <th>11/9/20</th>\n",
       "      <th>11/10/20</th>\n",
       "      <th>11/11/20</th>\n",
       "    </tr>\n",
       "  </thead>\n",
       "  <tbody>\n",
       "    <tr>\n",
       "      <th>116</th>\n",
       "      <td>French Guiana</td>\n",
       "      <td>France</td>\n",
       "      <td>3.933900</td>\n",
       "      <td>-53.125800</td>\n",
       "      <td>0</td>\n",
       "      <td>0</td>\n",
       "      <td>0</td>\n",
       "      <td>0</td>\n",
       "      <td>0</td>\n",
       "      <td>0</td>\n",
       "      <td>...</td>\n",
       "      <td>70</td>\n",
       "      <td>70</td>\n",
       "      <td>70</td>\n",
       "      <td>70</td>\n",
       "      <td>70</td>\n",
       "      <td>70</td>\n",
       "      <td>70</td>\n",
       "      <td>70</td>\n",
       "      <td>70</td>\n",
       "      <td>70</td>\n",
       "    </tr>\n",
       "    <tr>\n",
       "      <th>117</th>\n",
       "      <td>French Polynesia</td>\n",
       "      <td>France</td>\n",
       "      <td>-17.679700</td>\n",
       "      <td>149.406800</td>\n",
       "      <td>0</td>\n",
       "      <td>0</td>\n",
       "      <td>0</td>\n",
       "      <td>0</td>\n",
       "      <td>0</td>\n",
       "      <td>0</td>\n",
       "      <td>...</td>\n",
       "      <td>38</td>\n",
       "      <td>38</td>\n",
       "      <td>39</td>\n",
       "      <td>39</td>\n",
       "      <td>39</td>\n",
       "      <td>39</td>\n",
       "      <td>39</td>\n",
       "      <td>49</td>\n",
       "      <td>52</td>\n",
       "      <td>52</td>\n",
       "    </tr>\n",
       "    <tr>\n",
       "      <th>118</th>\n",
       "      <td>Guadeloupe</td>\n",
       "      <td>France</td>\n",
       "      <td>16.265000</td>\n",
       "      <td>-61.551000</td>\n",
       "      <td>0</td>\n",
       "      <td>0</td>\n",
       "      <td>0</td>\n",
       "      <td>0</td>\n",
       "      <td>0</td>\n",
       "      <td>0</td>\n",
       "      <td>...</td>\n",
       "      <td>126</td>\n",
       "      <td>133</td>\n",
       "      <td>133</td>\n",
       "      <td>133</td>\n",
       "      <td>133</td>\n",
       "      <td>133</td>\n",
       "      <td>133</td>\n",
       "      <td>133</td>\n",
       "      <td>139</td>\n",
       "      <td>139</td>\n",
       "    </tr>\n",
       "    <tr>\n",
       "      <th>119</th>\n",
       "      <td>Martinique</td>\n",
       "      <td>France</td>\n",
       "      <td>14.641500</td>\n",
       "      <td>-61.024200</td>\n",
       "      <td>0</td>\n",
       "      <td>0</td>\n",
       "      <td>0</td>\n",
       "      <td>0</td>\n",
       "      <td>0</td>\n",
       "      <td>0</td>\n",
       "      <td>...</td>\n",
       "      <td>30</td>\n",
       "      <td>30</td>\n",
       "      <td>33</td>\n",
       "      <td>33</td>\n",
       "      <td>33</td>\n",
       "      <td>33</td>\n",
       "      <td>33</td>\n",
       "      <td>33</td>\n",
       "      <td>37</td>\n",
       "      <td>37</td>\n",
       "    </tr>\n",
       "    <tr>\n",
       "      <th>120</th>\n",
       "      <td>Mayotte</td>\n",
       "      <td>France</td>\n",
       "      <td>-12.827500</td>\n",
       "      <td>45.166244</td>\n",
       "      <td>0</td>\n",
       "      <td>0</td>\n",
       "      <td>0</td>\n",
       "      <td>0</td>\n",
       "      <td>0</td>\n",
       "      <td>0</td>\n",
       "      <td>...</td>\n",
       "      <td>45</td>\n",
       "      <td>45</td>\n",
       "      <td>45</td>\n",
       "      <td>45</td>\n",
       "      <td>45</td>\n",
       "      <td>45</td>\n",
       "      <td>45</td>\n",
       "      <td>46</td>\n",
       "      <td>46</td>\n",
       "      <td>46</td>\n",
       "    </tr>\n",
       "    <tr>\n",
       "      <th>121</th>\n",
       "      <td>New Caledonia</td>\n",
       "      <td>France</td>\n",
       "      <td>-20.904305</td>\n",
       "      <td>165.618042</td>\n",
       "      <td>0</td>\n",
       "      <td>0</td>\n",
       "      <td>0</td>\n",
       "      <td>0</td>\n",
       "      <td>0</td>\n",
       "      <td>0</td>\n",
       "      <td>...</td>\n",
       "      <td>0</td>\n",
       "      <td>0</td>\n",
       "      <td>0</td>\n",
       "      <td>0</td>\n",
       "      <td>0</td>\n",
       "      <td>0</td>\n",
       "      <td>0</td>\n",
       "      <td>0</td>\n",
       "      <td>0</td>\n",
       "      <td>0</td>\n",
       "    </tr>\n",
       "    <tr>\n",
       "      <th>122</th>\n",
       "      <td>Reunion</td>\n",
       "      <td>France</td>\n",
       "      <td>-21.115100</td>\n",
       "      <td>55.536400</td>\n",
       "      <td>0</td>\n",
       "      <td>0</td>\n",
       "      <td>0</td>\n",
       "      <td>0</td>\n",
       "      <td>0</td>\n",
       "      <td>0</td>\n",
       "      <td>...</td>\n",
       "      <td>26</td>\n",
       "      <td>26</td>\n",
       "      <td>26</td>\n",
       "      <td>26</td>\n",
       "      <td>27</td>\n",
       "      <td>27</td>\n",
       "      <td>27</td>\n",
       "      <td>28</td>\n",
       "      <td>28</td>\n",
       "      <td>28</td>\n",
       "    </tr>\n",
       "    <tr>\n",
       "      <th>123</th>\n",
       "      <td>Saint Barthelemy</td>\n",
       "      <td>France</td>\n",
       "      <td>17.900000</td>\n",
       "      <td>-62.833300</td>\n",
       "      <td>0</td>\n",
       "      <td>0</td>\n",
       "      <td>0</td>\n",
       "      <td>0</td>\n",
       "      <td>0</td>\n",
       "      <td>0</td>\n",
       "      <td>...</td>\n",
       "      <td>0</td>\n",
       "      <td>0</td>\n",
       "      <td>0</td>\n",
       "      <td>0</td>\n",
       "      <td>0</td>\n",
       "      <td>0</td>\n",
       "      <td>0</td>\n",
       "      <td>0</td>\n",
       "      <td>0</td>\n",
       "      <td>0</td>\n",
       "    </tr>\n",
       "    <tr>\n",
       "      <th>124</th>\n",
       "      <td>Saint Pierre and Miquelon</td>\n",
       "      <td>France</td>\n",
       "      <td>46.885200</td>\n",
       "      <td>-56.315900</td>\n",
       "      <td>0</td>\n",
       "      <td>0</td>\n",
       "      <td>0</td>\n",
       "      <td>0</td>\n",
       "      <td>0</td>\n",
       "      <td>0</td>\n",
       "      <td>...</td>\n",
       "      <td>0</td>\n",
       "      <td>0</td>\n",
       "      <td>0</td>\n",
       "      <td>0</td>\n",
       "      <td>0</td>\n",
       "      <td>0</td>\n",
       "      <td>0</td>\n",
       "      <td>0</td>\n",
       "      <td>0</td>\n",
       "      <td>0</td>\n",
       "    </tr>\n",
       "    <tr>\n",
       "      <th>125</th>\n",
       "      <td>St Martin</td>\n",
       "      <td>France</td>\n",
       "      <td>18.070800</td>\n",
       "      <td>-63.050100</td>\n",
       "      <td>0</td>\n",
       "      <td>0</td>\n",
       "      <td>0</td>\n",
       "      <td>0</td>\n",
       "      <td>0</td>\n",
       "      <td>0</td>\n",
       "      <td>...</td>\n",
       "      <td>9</td>\n",
       "      <td>9</td>\n",
       "      <td>12</td>\n",
       "      <td>12</td>\n",
       "      <td>12</td>\n",
       "      <td>12</td>\n",
       "      <td>12</td>\n",
       "      <td>12</td>\n",
       "      <td>12</td>\n",
       "      <td>12</td>\n",
       "    </tr>\n",
       "    <tr>\n",
       "      <th>126</th>\n",
       "      <td>NaN</td>\n",
       "      <td>France</td>\n",
       "      <td>46.227600</td>\n",
       "      <td>2.213700</td>\n",
       "      <td>0</td>\n",
       "      <td>0</td>\n",
       "      <td>0</td>\n",
       "      <td>0</td>\n",
       "      <td>0</td>\n",
       "      <td>0</td>\n",
       "      <td>...</td>\n",
       "      <td>37141</td>\n",
       "      <td>37564</td>\n",
       "      <td>38370</td>\n",
       "      <td>38730</td>\n",
       "      <td>39557</td>\n",
       "      <td>39861</td>\n",
       "      <td>40131</td>\n",
       "      <td>40678</td>\n",
       "      <td>40678</td>\n",
       "      <td>42215</td>\n",
       "    </tr>\n",
       "  </tbody>\n",
       "</table>\n",
       "<p>11 rows × 299 columns</p>\n",
       "</div>"
      ],
      "text/plain": [
       "                Province/State Country/Region        Lat        Long  1/22/20  \\\n",
       "116              French Guiana         France   3.933900  -53.125800        0   \n",
       "117           French Polynesia         France -17.679700  149.406800        0   \n",
       "118                 Guadeloupe         France  16.265000  -61.551000        0   \n",
       "119                 Martinique         France  14.641500  -61.024200        0   \n",
       "120                    Mayotte         France -12.827500   45.166244        0   \n",
       "121              New Caledonia         France -20.904305  165.618042        0   \n",
       "122                    Reunion         France -21.115100   55.536400        0   \n",
       "123           Saint Barthelemy         France  17.900000  -62.833300        0   \n",
       "124  Saint Pierre and Miquelon         France  46.885200  -56.315900        0   \n",
       "125                  St Martin         France  18.070800  -63.050100        0   \n",
       "126                        NaN         France  46.227600    2.213700        0   \n",
       "\n",
       "     1/23/20  1/24/20  1/25/20  1/26/20  1/27/20  ...  11/2/20  11/3/20  \\\n",
       "116        0        0        0        0        0  ...       70       70   \n",
       "117        0        0        0        0        0  ...       38       38   \n",
       "118        0        0        0        0        0  ...      126      133   \n",
       "119        0        0        0        0        0  ...       30       30   \n",
       "120        0        0        0        0        0  ...       45       45   \n",
       "121        0        0        0        0        0  ...        0        0   \n",
       "122        0        0        0        0        0  ...       26       26   \n",
       "123        0        0        0        0        0  ...        0        0   \n",
       "124        0        0        0        0        0  ...        0        0   \n",
       "125        0        0        0        0        0  ...        9        9   \n",
       "126        0        0        0        0        0  ...    37141    37564   \n",
       "\n",
       "     11/4/20  11/5/20  11/6/20  11/7/20  11/8/20  11/9/20  11/10/20  11/11/20  \n",
       "116       70       70       70       70       70       70        70        70  \n",
       "117       39       39       39       39       39       49        52        52  \n",
       "118      133      133      133      133      133      133       139       139  \n",
       "119       33       33       33       33       33       33        37        37  \n",
       "120       45       45       45       45       45       46        46        46  \n",
       "121        0        0        0        0        0        0         0         0  \n",
       "122       26       26       27       27       27       28        28        28  \n",
       "123        0        0        0        0        0        0         0         0  \n",
       "124        0        0        0        0        0        0         0         0  \n",
       "125       12       12       12       12       12       12        12        12  \n",
       "126    38370    38730    39557    39861    40131    40678     40678     42215  \n",
       "\n",
       "[11 rows x 299 columns]"
      ]
     },
     "execution_count": 24,
     "metadata": {},
     "output_type": "execute_result"
    }
   ],
   "source": [
    "df.iloc[116:127]"
   ]
  },
  {
   "cell_type": "markdown",
   "metadata": {},
   "source": [
    "It's often easier to work with a numpy array of values"
   ]
  },
  {
   "cell_type": "code",
   "execution_count": 30,
   "metadata": {},
   "outputs": [],
   "source": [
    "deaths = df.iloc[126][4:].values"
   ]
  },
  {
   "cell_type": "markdown",
   "metadata": {},
   "source": [
    "# Cumulative deaths\n",
    "\n",
    "this looks pretty smooth"
   ]
  },
  {
   "cell_type": "code",
   "execution_count": 32,
   "metadata": {},
   "outputs": [
    {
     "data": {
      "text/plain": [
       "[<matplotlib.lines.Line2D at 0x7f41e5162520>]"
      ]
     },
     "execution_count": 32,
     "metadata": {},
     "output_type": "execute_result"
    },
    {
     "data": {
      "image/png": "[encoded data removed]",
      "text/plain": [
       "<Figure size 432x288 with 1 Axes>"
      ]
     },
     "metadata": {
      "needs_background": "light"
     },
     "output_type": "display_data"
    }
   ],
   "source": [
    "plt.plot(deaths)"
   ]
  },
  {
   "cell_type": "markdown",
   "metadata": {},
   "source": [
    "But daily figures are noisy"
   ]
  },
  {
   "cell_type": "code",
   "execution_count": 37,
   "metadata": {},
   "outputs": [
    {
     "data": {
      "image/png": "[encoded data removed]",
      "text/plain": [
       "<Figure size 432x288 with 1 Axes>"
      ]
     },
     "metadata": {
      "needs_background": "light"
     },
     "output_type": "display_data"
    }
   ],
   "source": [
    "daily = deaths[1:] - deaths[:-1]\n",
    "plt.plot(daily);"
   ]
  },
  {
   "cell_type": "code",
   "execution_count": 40,
   "metadata": {},
   "outputs": [
    {
     "data": {
      "image/png": "[encoded data removed]",
      "text/plain": [
       "<Figure size 432x288 with 1 Axes>"
      ]
     },
     "metadata": {
      "needs_background": "light"
     },
     "output_type": "display_data"
    }
   ],
   "source": [
    "plt.plot(daily[-49:]);"
   ]
  },
  {
   "cell_type": "markdown",
   "metadata": {},
   "source": [
    "---\n",
    "\n",
    "## Weekdays\n"
   ]
  },
  {
   "cell_type": "code",
   "execution_count": 59,
   "metadata": {},
   "outputs": [
    {
     "data": {
      "image/png": "[encoded data removed]",
      "text/plain": [
       "<Figure size 432x288 with 1 Axes>"
      ]
     },
     "metadata": {
      "needs_background": "light"
     },
     "output_type": "display_data"
    }
   ],
   "source": [
    "weeks = daily[-51:-2].reshape((-1,7))\n",
    "for row in weeks:\n",
    "    plt.plot(row)\n",
    "    \n",
    "plt.title('deaths per weekday');"
   ]
  },
  {
   "cell_type": "code",
   "execution_count": 51,
   "metadata": {},
   "outputs": [
    {
     "data": {
      "text/plain": [
       "['11/3/20', '11/4/20', '11/5/20', '11/6/20', '11/7/20', '11/8/20', '11/9/20']"
      ]
     },
     "execution_count": 51,
     "metadata": {},
     "output_type": "execute_result"
    }
   ],
   "source": [
    "df.columns.tolist()[-9:-2]"
   ]
  },
  {
   "cell_type": "code",
   "execution_count": 57,
   "metadata": {},
   "outputs": [
    {
     "data": {
      "image/png": "[encoded data removed]",
      "text/plain": [
       "<Figure size 432x288 with 1 Axes>"
      ]
     },
     "metadata": {
      "needs_background": "light"
     },
     "output_type": "display_data"
    }
   ],
   "source": [
    "plt.plot(np.sum(weeks, axis=0))\n",
    "plt.title('totals for weekdays');"
   ]
  },
  {
   "cell_type": "markdown",
   "metadata": {},
   "source": [
    "## Smoothing\n",
    "\n"
   ]
  },
  {
   "cell_type": "code",
   "execution_count": 82,
   "metadata": {},
   "outputs": [
    {
     "data": {
      "image/png": "[encoded data removed]",
      "text/plain": [
       "<Figure size 432x288 with 1 Axes>"
      ]
     },
     "metadata": {
      "needs_background": "light"
     },
     "output_type": "display_data"
    }
   ],
   "source": [
    "rolling_av = np.convolve(daily,np.ones(7)/7)[:-6]\n",
    "\n",
    "plt.plot( rolling_av)\n",
    "plt.title('rolling average');"
   ]
  },
  {
   "cell_type": "code",
   "execution_count": 83,
   "metadata": {},
   "outputs": [
    {
     "data": {
      "text/plain": [
       "(array([ 60,  61,  62,  63,  64,  65,  66,  67,  68,  69,  70,  71,  72,\n",
       "         73,  74,  75,  76,  77,  78,  79,  80,  81,  82,  83,  84,  85,\n",
       "         86,  87,  88,  89,  90,  91,  92,  93,  94,  95,  96,  97,  98,\n",
       "         99, 100, 101, 102, 103, 104, 105, 106, 107, 108, 109, 110, 111,\n",
       "        112, 113, 114, 115, 116, 117, 118, 119, 120, 121, 270, 271, 272,\n",
       "        273, 274, 275, 276, 277, 278, 279, 280, 281, 282, 283, 284, 285,\n",
       "        286, 287, 288, 289, 290, 291, 292, 293]),)"
      ]
     },
     "execution_count": 83,
     "metadata": {},
     "output_type": "execute_result"
    }
   ],
   "source": [
    "np.where(rolling_av > 100)"
   ]
  },
  {
   "cell_type": "code",
   "execution_count": 91,
   "metadata": {},
   "outputs": [
    {
     "data": {
      "text/plain": [
       "Text(0.5, 1.0, 'comparing first and second waves')"
      ]
     },
     "execution_count": 91,
     "metadata": {},
     "output_type": "execute_result"
    },
    {
     "data": {
      "image/png": "[encoded data removed]",
      "text/plain": [
       "<Figure size 432x288 with 1 Axes>"
      ]
     },
     "metadata": {
      "needs_background": "light"
     },
     "output_type": "display_data"
    }
   ],
   "source": [
    "plt.plot(rolling_av[-23:],'r')\n",
    "plt.plot(rolling_av[60:90],'b');\n",
    "plt.title('comparing first and second waves')"
   ]
  },
  {
   "cell_type": "markdown",
   "metadata": {},
   "source": [
    "# Not exponential linear growth in deaths"
   ]
  },
  {
   "cell_type": "code",
   "execution_count": 166,
   "metadata": {},
   "outputs": [
    {
     "data": {
      "image/png": "[encoded data removed]",
      "text/plain": [
       "<Figure size 432x288 with 1 Axes>"
      ]
     },
     "metadata": {
      "needs_background": "light"
     },
     "output_type": "display_data"
    }
   ],
   "source": [
    "from scipy import stats\n",
    "\n",
    "X, Y = np.arange(23), rolling_av[-23:].tolist()\n",
    "\n",
    "\n",
    "plt.plot(X,Y);\n",
    "coeffs = stats.linregress(X,Y)\n",
    "a,b = coeffs.slope, coeffs.intercept\n",
    "plt.plot( X[[0,-1]], a*X[[0,-1]] + b)\n",
    "plt.title('linear regression 2nd wave rvalue={:.2f}'.format(coeffs.rvalue))\n",
    "plt.ylabel('number deaths');\n",
    "    \n"
   ]
  },
  {
   "cell_type": "code",
   "execution_count": 170,
   "metadata": {},
   "outputs": [
    {
     "data": {
      "image/png": "[encoded data removed]",
      "text/plain": [
       "<Figure size 432x288 with 1 Axes>"
      ]
     },
     "metadata": {
      "needs_background": "light"
     },
     "output_type": "display_data"
    }
   ],
   "source": [
    "Y = np.log(Y)\n",
    "plt.plot(X,Y)\n",
    "coeffs = stats.linregress(X,Y)\n",
    "a,b = coeffs.slope, coeffs.intercept\n",
    "plt.plot( X[[0,-1]], a*X[[0,-1]] + b)\n",
    "plt.title('linear regression 2nd wave rvalue={:.2f}'.format(coeffs.rvalue))\n",
    "plt.ylabel('log number deaths');"
   ]
  },
  {
   "cell_type": "code",
   "execution_count": null,
   "metadata": {},
   "outputs": [],
   "source": []
  },
  {
   "cell_type": "markdown",
   "metadata": {},
   "source": [
    "Both seem equq\n",
    "\n",
    "The problem is that the exponential factor is tiny\n",
    "and the doubling time is large !"
   ]
  },
  {
   "cell_type": "code",
   "execution_count": 157,
   "metadata": {},
   "outputs": [
    {
     "data": {
      "text/plain": [
       "(1.0692519694483285, 10.351767070947615)"
      ]
     },
     "execution_count": 157,
     "metadata": {},
     "output_type": "execute_result"
    }
   ],
   "source": [
    "np.exp(stats.linregress(X,Y).slope), np.log(2)/ stats.linregress(X,Y).slope"
   ]
  },
  {
   "cell_type": "code",
   "execution_count": null,
   "metadata": {},
   "outputs": [],
   "source": []
  },
  {
   "cell_type": "markdown",
   "metadata": {},
   "source": [
    "--- \n",
    "\n",
    "# Exo\n",
    "\n",
    "I've studied only deaths for the second wave\n",
    "the file '''covid_confirmed.csv''' \n",
    "contains all the stats for the positive cases.\n",
    "\n",
    "1. Repeat the study above.\n",
    "Is the growth exponential ?\n",
    "\n",
    "1. What about the other countries ?\n",
    "\n",
    "1. What about in the first wave\n",
    "\n",
    "\n",
    "\n"
   ]
  },
  {
   "cell_type": "code",
   "execution_count": 158,
   "metadata": {},
   "outputs": [
    {
     "name": "stdout",
     "output_type": "stream",
     "text": [
      "[master d7adec8] web\n",
      " 1 file changed, 107 insertions(+), 10 deletions(-)\n",
      "Counting objects: 4, done.\n",
      "Delta compression using up to 12 threads.\n",
      "Compressing objects: 100% (4/4), done.\n",
      "Writing objects: 100% (4/4), 25.33 KiB | 4.22 MiB/s, done.\n",
      "Total 4 (delta 3), reused 0 (delta 0)\n",
      "remote: Resolving deltas: 100% (3/3), completed with 3 local objects.\u001b[K\n",
      "To https://github.com/macbuse/macbuse.github.io.git\n",
      "   67746f8..d7adec8  master -> master\n"
     ]
    }
   ],
   "source": [
    "! ../.g"
   ]
  },
  {
   "cell_type": "code",
   "execution_count": null,
   "metadata": {},
   "outputs": [],
   "source": []
  }
 ],
 "metadata": {
  "kernelspec": {
   "display_name": "Python 3",
   "language": "python",
   "name": "python3"
  },
  "language_info": {
   "codemirror_mode": {
    "name": "ipython",
    "version": 3
   },
   "file_extension": ".py",
   "mimetype": "text/x-python",
   "name": "python",
   "nbconvert_exporter": "python",
   "pygments_lexer": "ipython3",
   "version": "3.8.3"
  }
 },
 "nbformat": 4,
 "nbformat_minor": 4
}
