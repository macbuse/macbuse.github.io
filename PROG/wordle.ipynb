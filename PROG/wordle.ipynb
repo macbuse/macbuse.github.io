{
 "cells": [
  {
   "cell_type": "markdown",
   "metadata": {},
   "source": [
    "# Mastermind\n",
    "\n",
    "The game is played using:\n",
    "\n",
    "- a decoding board, with a shield at one end covering a row of four large holes, and twelve (or ten, or eight, or six) additional rows containing four large holes next to a set of four small holes;\n",
    "- code pegs of six different colors (or more; see Variations below), with round heads, which will be placed in the large holes on the board; and\n",
    "- key pegs, some colored black, some white, which are flat-headed and smaller than the code pegs; they will be placed in the small holes on the board.\n",
    "\n",
    "## Knuth\n",
    "\n",
    "- [stack discussion ](https://stackoverflow.com/questions/53826287/donald-knuth-algorithm-for-mastermind-can-we-do-better)[Knuth's paper](https://www.cs.uni.edu/~wallingf/teaching/cs3530/resources/knuth-mastermind.pdf)\n",
    "\n",
    "- [Knuth's paper](https://www.cs.uni.edu/~wallingf/teaching/cs3530/resources/knuth-mastermind.pdf) \n",
    "\n",
    "### Worst case: Five-guess algorithm\n",
    "\n",
    "In 1977, Donald Knuth demonstrated that the codebreaker can solve the pattern in five moves or fewer, using an algorithm that progressively reduces the number of possible patterns. The algorithm works as follows:\n",
    "\n",
    "1. Create the set S of 1296 possible codes (1111, 1112 ... 6665, 6666)\n",
    "2. Start with initial guess 1122 (Knuth gives examples showing that this algorithm using other first guesses such as 1123, 1234 does not win in five tries on every code)\n",
    "3. Play the guess to get a response of coloured and white pegs.\n",
    "4. If the response is four colored pegs, the game is won, the algorithm terminates.\n",
    "5. Otherwise, remove from S any code that would not give the same response if it (the guess) were the code.\n",
    "6. Apply minimax technique to find a next guess as follows: For each possible guess, that is, any unused code of the 1296 not just those in S, calculate how many possibilities in S would be eliminated for each possible colored/white peg score. The score of a guess is the minimum number of possibilities it might eliminate from S. A single pass through S for each unused code of the 1296 will provide a hit count for each coloured/white peg score found; the coloured/white peg score with the highest hit count will eliminate the fewest possibilities; calculate the score of a guess by using \"minimum eliminated\" = \"count of elements in S\" - (minus) \"highest hit count\". From the set of guesses with the maximum score, select one as the next guess, choosing a member of S whenever possible. (Knuth follows the convention of choosing the guess with the least numeric value e.g. 2345 is lower than 3456. Knuth also gives an example showing that in some cases no member of S will be among the highest scoring guesses and thus the guess cannot win on the next turn, yet will be necessary to assure a win in five.)\n",
    "7. Repeat from step 3.\n",
    "\n",
    "---\n",
    "\n",
    "### Comments \n",
    "\n",
    "- His original algorithm gave 5801 (average of 5801/1296 ≈ 4.47608), and the minor improvement gives 5800 (≈ 4.4753).\n",
    "\n",
    "- Robert W. Irving, “Towards an optimum Mastermind strategy,” Journal of Recreational Mathematics 11 (1978), 81-87 [while staying within the “at most 5” achieves 5664 ⇒ ≈4.37]\n",
    "\n",
    "- E. Neuwirth, “Some strategies for Mastermind,” Zeitschrift fur Operations Research 26 (1982), B257-B278 [achieves 5658 ⇒ ≈4.3657]\n",
    "\n",
    "- Kenji Koyama and Tony W. Lai, “An optimal Mastermind strategy,” Journal of Recreational Mathematics 25 (1993), 251-256 [achieves 5626 ⇒ ≈4.34104938]\n",
    "\n",
    "\n",
    "\n"
   ]
  },
  {
   "cell_type": "markdown",
   "metadata": {},
   "source": [
    "---\n",
    "\n",
    "\n",
    "## Knuth's algorithm\n",
    "\n",
    "- I'm going to program this but without the minimax step\n",
    "- I'll just pick the next guess at random from the allowable ones\n",
    "\n",
    "---\n",
    "\n",
    "\n",
    "## Structure of program\n",
    "\n",
    "There are 2 main  steps:\n",
    "\n",
    "1. Initialize a game\n",
    "2. Do a loop until the code is found\n"
   ]
  },
  {
   "cell_type": "code",
   "execution_count": 1,
   "metadata": {},
   "outputs": [
    {
     "data": {
      "text/plain": [
       "'abcdefghijklmnopqrstuvwxyz'"
      ]
     },
     "execution_count": 1,
     "metadata": {},
     "output_type": "execute_result"
    }
   ],
   "source": [
    "import string\n",
    "string.ascii_lowercase"
   ]
  },
  {
   "cell_type": "code",
   "execution_count": 20,
   "metadata": {},
   "outputs": [],
   "source": [
    "def score(g,t):\n",
    "    \n",
    "    xs = ['']*6\n",
    "    for i,c in enumerate(t):\n",
    "        if g[i] != c: continue\n",
    "        xs[i] = '_'\n",
    "        \n",
    "    for i,c in enumerate(g):\n",
    "        if xs[i] == '_': continue\n",
    "        if c in t:\n",
    "            xs[i] = '*'\n",
    "        else:\n",
    "            xs[i] = 'x'\n",
    "    return xs\n",
    "\n",
    "r = requests.get(url='https://www.powerlanguage.co.uk/wordle/main.c1506a22.js')"
   ]
  },
  {
   "cell_type": "code",
   "execution_count": 151,
   "metadata": {},
   "outputs": [
    {
     "name": "stdout",
     "output_type": "stream",
     "text": [
      "cigar, rebut, sissy, humph, awake, blush, focal, evade, naval, serve\n"
     ]
    }
   ],
   "source": [
    "import requests, re\n",
    "\n",
    "r = requests.get(url='https://www.nytimes.com/games/wordle/main.bfba912f.js')\n",
    "pp = re.compile('Ma=.*?\\[(.*?)\\]',re.DOTALL)\n",
    "words = pp.search(r.text).group(1)\n",
    "guesses = words.replace('\"','').split(',')\n",
    "print(', '.join(guesses[:10]))\n",
    "\n"
   ]
  },
  {
   "cell_type": "code",
   "execution_count": 253,
   "metadata": {},
   "outputs": [],
   "source": [
    "with open('ny_wordle.txt','w') as fp:\n",
    "    fp.write(', '.join(guesses[:10]) )"
   ]
  },
  {
   "cell_type": "code",
   "execution_count": 49,
   "metadata": {},
   "outputs": [],
   "source": [
    "r = requests.get(url='https://www.solitaire-play.com/lemot/lemot.min.js')\n",
    "pp = re.compile('=.*?\\[(.*?)\\]',re.DOTALL)\n",
    "words = pp.findall(r.text)\n",
    "words = [x for x in words if len(x) > 10000]\n",
    "guesses = words[0].lower().replace('\"','').split(',')\n"
   ]
  },
  {
   "cell_type": "code",
   "execution_count": 146,
   "metadata": {},
   "outputs": [],
   "source": [
    "r = requests.get(url = 'https://sweardle.glitch.me/swears.txt')"
   ]
  },
  {
   "cell_type": "code",
   "execution_count": 28,
   "metadata": {},
   "outputs": [],
   "source": [
    "guesses = r.text.lower().split('\\n')"
   ]
  },
  {
   "cell_type": "code",
   "execution_count": 33,
   "metadata": {},
   "outputs": [],
   "source": [
    "import string\n",
    "\n",
    "def m_score(w):  \n",
    "    return sum([freqs[c] for c in set(w)])\n",
    "\n",
    "txt = ' '.join(guesses).lower()\n",
    "\n",
    "uu = [(x,txt.count(x)) for x in string.ascii_lowercase]\n",
    "uu.sort(key=lambda x:x[1])\n",
    "\n",
    "freqs = {x:i for i,x in enumerate(list(zip(*uu))[0])}"
   ]
  },
  {
   "cell_type": "code",
   "execution_count": 110,
   "metadata": {},
   "outputs": [
    {
     "data": {
      "text/plain": [
       "'10099'"
      ]
     },
     "execution_count": 110,
     "metadata": {},
     "output_type": "execute_result"
    }
   ],
   "source": [
    "guesses[10]"
   ]
  },
  {
   "cell_type": "code",
   "execution_count": 109,
   "metadata": {},
   "outputs": [],
   "source": [
    "P = [ x for x in primes(10**5) if x > 10**4 ]\n",
    "guesses = [ str(x) for x in P]"
   ]
  },
  {
   "cell_type": "code",
   "execution_count": 157,
   "metadata": {},
   "outputs": [
    {
     "data": {
      "text/plain": [
       "[(-113, 'alert'),\n",
       " (-113, 'alter'),\n",
       " (-113, 'later'),\n",
       " (-112, 'arose'),\n",
       " (-112, 'irate'),\n",
       " (-111, 'stare'),\n",
       " (-109, 'arise'),\n",
       " (-109, 'atone'),\n",
       " (-109, 'cater'),\n",
       " (-109, 'crate')]"
      ]
     },
     "execution_count": 157,
     "metadata": {},
     "output_type": "execute_result"
    }
   ],
   "source": [
    "sorted([(-m_score(w),w) for w in guesses ])[:10]"
   ]
  },
  {
   "cell_type": "code",
   "execution_count": 158,
   "metadata": {},
   "outputs": [],
   "source": [
    "sub = ''\n",
    "nsub = ''\n",
    "forbidden = ['' for k in range(5)]\n"
   ]
  },
  {
   "cell_type": "code",
   "execution_count": 161,
   "metadata": {},
   "outputs": [],
   "source": [
    "tt = ' '.join(guesses)\n",
    "\n",
    "\n",
    "guess = '83269'\n",
    "\n",
    "guess = 'slane'\n",
    "mm = 'xxx*_'\n",
    "guess = 'unite'\n",
    "mm = 'x**x_'\n",
    "\n",
    "\n",
    "\n",
    "ss  = list(zip(guess, mm))\n",
    "sub += ''.join([x for x,y in ss if y == '*' and x not in sub])\n",
    "nsub += ''.join([x for x,y in ss if y == 'x' ])\n",
    "\n",
    "if nsub:\n",
    "    #fails if the guess is an anagram \n",
    "    tt = re.sub(r'[{}]'.format(nsub),'',tt)\n",
    "tt = [w for w in tt.split() if len(w) == len(guesses[0])]\n",
    "\n",
    "tt = [w for w in tt if all( x in w for x in sub )]\n",
    "\n",
    "chks1 = [i for i,y in enumerate(mm) if y == '_']\n",
    "for i in chks1:\n",
    "    tt = [w for w in tt if w[i] == guess[i]]\n",
    "    \n",
    "#I had to fix this to have memory\n",
    "#and not be stateless\n",
    "\n",
    "for i,y in enumerate(mm):\n",
    "    if y == '*':\n",
    "        forbidden[i] += guess[i]\n",
    "        \n",
    "for i,x in enumerate(forbidden):\n",
    "    if not forbidden[i]: continue\n",
    "    tt = [w for w in tt if w[i] not in forbidden[i]]\n"
   ]
  },
  {
   "cell_type": "code",
   "execution_count": null,
   "metadata": {},
   "outputs": [],
   "source": [
    "*2467"
   ]
  },
  {
   "cell_type": "code",
   "execution_count": 147,
   "metadata": {},
   "outputs": [
    {
     "data": {
      "text/plain": [
       "['38377', '38557', '58337', '58537', '78307']"
      ]
     },
     "execution_count": 147,
     "metadata": {},
     "output_type": "execute_result"
    }
   ],
   "source": [
    "tt"
   ]
  },
  {
   "cell_type": "code",
   "execution_count": 162,
   "metadata": {},
   "outputs": [
    {
     "data": {
      "text/plain": [
       "[(-89, 'niche'),\n",
       " (-87, 'mince'),\n",
       " (-82, 'hinge'),\n",
       " (-82, 'wince'),\n",
       " (-78, 'binge'),\n",
       " (-77, 'niece'),\n",
       " (-70, 'genie')]"
      ]
     },
     "execution_count": 162,
     "metadata": {},
     "output_type": "execute_result"
    }
   ],
   "source": [
    "sorted([(-m_score(w),w) for w in tt ])[:10]"
   ]
  },
  {
   "cell_type": "code",
   "execution_count": 42,
   "metadata": {},
   "outputs": [],
   "source": [
    "guesses.sort()"
   ]
  },
  {
   "cell_type": "code",
   "execution_count": 47,
   "metadata": {},
   "outputs": [],
   "source": [
    "prefix = set( x[:3] for x in guesses  )"
   ]
  },
  {
   "cell_type": "code",
   "execution_count": 49,
   "metadata": {},
   "outputs": [],
   "source": [
    "from collections import Counter"
   ]
  },
  {
   "cell_type": "code",
   "execution_count": 55,
   "metadata": {},
   "outputs": [],
   "source": [
    "pre_count  = Counter( [ x[:3] for x in guesses ] )\n",
    "post_count = Counter( [ x[-3:] for x in guesses ] )"
   ]
  },
  {
   "cell_type": "code",
   "execution_count": 58,
   "metadata": {},
   "outputs": [],
   "source": [
    "ww,nn  = list(zip(*  pre_count.most_common(10) ))"
   ]
  },
  {
   "cell_type": "code",
   "execution_count": 64,
   "metadata": {},
   "outputs": [
    {
     "name": "stdout",
     "output_type": "stream",
     "text": [
      "sta ['stack', 'staff', 'stage', 'staid', 'stain', 'stair', 'stake', 'stale', 'stalk', 'stall', 'stamp', 'stand', 'stank', 'stare', 'stark', 'start', 'stash', 'state', 'stave']\n",
      "sha ['shack', 'shade', 'shady', 'shaft', 'shake', 'shaky', 'shale', 'shall', 'shalt', 'shame', 'shank', 'shape', 'shard', 'share', 'shark', 'sharp', 'shave', 'shawl']\n",
      "sto ['stock', 'stoic', 'stoke', 'stole', 'stomp', 'stone', 'stony', 'stood', 'stool', 'stoop', 'store', 'stork', 'storm', 'story', 'stout', 'stove']\n",
      "gra ['grace', 'grade', 'graft', 'grail', 'grain', 'grand', 'grant', 'grape', 'graph', 'grasp', 'grass', 'grate', 'grave', 'gravy', 'graze']\n",
      "cha ['chafe', 'chaff', 'chain', 'chair', 'chalk', 'champ', 'chant', 'chaos', 'chard', 'charm', 'chart', 'chase', 'chasm']\n",
      "cra ['crack', 'craft', 'cramp', 'crane', 'crank', 'crash', 'crass', 'crate', 'crave', 'crawl', 'craze', 'crazy']\n",
      "sho ['shoal', 'shock', 'shone', 'shook', 'shoot', 'shore', 'shorn', 'short', 'shout', 'shove', 'shown', 'showy']\n",
      "spi ['spice', 'spicy', 'spied', 'spiel', 'spike', 'spiky', 'spill', 'spilt', 'spine', 'spiny', 'spire', 'spite']\n",
      "bra ['brace', 'braid', 'brain', 'brake', 'brand', 'brash', 'brass', 'brave', 'bravo', 'brawl', 'brawn']\n",
      "cre ['creak', 'cream', 'credo', 'creed', 'creek', 'creep', 'creme', 'crepe', 'crept', 'cress', 'crest']\n"
     ]
    }
   ],
   "source": [
    "for x in ww[:10]:\n",
    "    print(x, [ w for w in guesses if w[:3] == x ] )"
   ]
  },
  {
   "cell_type": "code",
   "execution_count": 57,
   "metadata": {},
   "outputs": [
    {
     "data": {
      "text/plain": [
       "[('ing', 23),\n",
       " ('lly', 22),\n",
       " ('tch', 18),\n",
       " ('ter', 16),\n",
       " ('ack', 15),\n",
       " ('tty', 14),\n",
       " ('ver', 14),\n",
       " ('ash', 13),\n",
       " ('rry', 13),\n",
       " ('unt', 13)]"
      ]
     },
     "execution_count": 57,
     "metadata": {},
     "output_type": "execute_result"
    }
   ],
   "source": [
    "post_count.most_common(10)"
   ]
  },
  {
   "cell_type": "code",
   "execution_count": null,
   "metadata": {},
   "outputs": [],
   "source": []
  },
  {
   "cell_type": "code",
   "execution_count": 44,
   "metadata": {},
   "outputs": [],
   "source": [
    "import numpy as np\n",
    "\n",
    "def primes(n):\n",
    "    \"\"\" Returns  array of primes, 2 <= p < n \"\"\"\n",
    "    sieve = np.ones(n, dtype= bool)\n",
    "    sieve[::2] = False\n",
    "    for i in range(3, int(np.sqrt(n))+1, 2):\n",
    "        if sieve[i]:\n",
    "            sieve[i*i::i] = False\n",
    "    return np.nonzero(sieve)[0][1:]\n",
    "\n",
    "P = [ x for x in primes(10**5) if x > 10**4 ]\n",
    "guesses = [ str(x) for x in P]"
   ]
  },
  {
   "cell_type": "code",
   "execution_count": 184,
   "metadata": {},
   "outputs": [],
   "source": [
    "P = [ x for x in primes(10**5) if x > 10**4 ]"
   ]
  },
  {
   "cell_type": "code",
   "execution_count": 185,
   "metadata": {},
   "outputs": [],
   "source": [
    "guesses = [ str(x) for x in P]\n",
    "xx = ''.join(guesses)\n",
    "pp = Counter([x for x in xx])"
   ]
  },
  {
   "cell_type": "code",
   "execution_count": 186,
   "metadata": {},
   "outputs": [
    {
     "data": {
      "text/plain": [
       "[('1', 5672),\n",
       " ('3', 5552),\n",
       " ('7', 5520),\n",
       " ('9', 5484),\n",
       " ('2', 3515),\n",
       " ('5', 3456),\n",
       " ('4', 3412),\n",
       " ('6', 3372),\n",
       " ('8', 3339),\n",
       " ('0', 2493)]"
      ]
     },
     "execution_count": 186,
     "metadata": {},
     "output_type": "execute_result"
    }
   ],
   "source": [
    "pp.most_common()"
   ]
  },
  {
   "cell_type": "code",
   "execution_count": 103,
   "metadata": {},
   "outputs": [],
   "source": []
  },
  {
   "cell_type": "code",
   "execution_count": null,
   "metadata": {},
   "outputs": [],
   "source": []
  },
  {
   "cell_type": "code",
   "execution_count": 201,
   "metadata": {},
   "outputs": [],
   "source": [
    "ss = [ (x, set(y for y in x )) for x in guesses ] \n"
   ]
  },
  {
   "cell_type": "code",
   "execution_count": 221,
   "metadata": {},
   "outputs": [],
   "source": [
    "from collections import defaultdict\n",
    "\n",
    "d = defaultdict(list)\n",
    "for k, v in zip(d1, guesses):\n",
    "    d[k].append(v)"
   ]
  },
  {
   "cell_type": "code",
   "execution_count": 243,
   "metadata": {},
   "outputs": [
    {
     "data": {
      "text/plain": [
       "'33679 33769 33967 36697 36739 36779 36793 36973 36979 36997 37369 37693 37699 37963 37967 39367 39667 39679 39769 63397 63697 63793 63799 63977 63997 66739 66973 67339 67369 67399 67933 67939 67993 69337 69379 69737 69739 69763 73369 73679 73693 73699 76369 76379 76963 77369 79367 79633 79693 93637 93763 93967 96337 96377 96737 96739 96763 96973 97367 97369 97673 99367'"
      ]
     },
     "execution_count": 243,
     "metadata": {},
     "output_type": "execute_result"
    }
   ],
   "source": [
    "' '.join(d['3679'])"
   ]
  },
  {
   "cell_type": "code",
   "execution_count": 220,
   "metadata": {},
   "outputs": [],
   "source": [
    "dd = [list(x[1]) for x in ss if len(x[1]) == 5]\n",
    "dd =  [list(x[1]) for x in ss]\n",
    "d1 = [ ''.join(sorted(x)) for x in dd]"
   ]
  },
  {
   "cell_type": "code",
   "execution_count": 241,
   "metadata": {},
   "outputs": [
    {
     "data": {
      "text/plain": [
       "[('3679', 62),\n",
       " ('1579', 55),\n",
       " ('1257', 54),\n",
       " ('2369', 54),\n",
       " ('139', 52),\n",
       " ('1479', 51),\n",
       " ('1357', 51),\n",
       " ('1347', 50),\n",
       " ('1378', 50),\n",
       " ('0139', 49)]"
      ]
     },
     "execution_count": 241,
     "metadata": {},
     "output_type": "execute_result"
    }
   ],
   "source": [
    "uu = Counter(d1)\n",
    "uu.most_common()[:10]"
   ]
  },
  {
   "cell_type": "code",
   "execution_count": 234,
   "metadata": {},
   "outputs": [
    {
     "data": {
      "text/plain": [
       "[('3679', 62),\n",
       " ('1579', 55),\n",
       " ('1257', 54),\n",
       " ('2369', 54),\n",
       " ('139', 52),\n",
       " ('1479', 51),\n",
       " ('1357', 51),\n",
       " ('1347', 50),\n",
       " ('1378', 50),\n",
       " ('0139', 49),\n",
       " ('1369', 49),\n",
       " ('1237', 47),\n",
       " ('1379', 47),\n",
       " ('3469', 45),\n",
       " ('379', 45),\n",
       " ('1789', 43),\n",
       " ('147', 41),\n",
       " ('0379', 41),\n",
       " ('3569', 41),\n",
       " ('1578', 40),\n",
       " ('1234', 39),\n",
       " ('1279', 39),\n",
       " ('13789', 39),\n",
       " ('3457', 38),\n",
       " ('3689', 38),\n",
       " ('13459', 37),\n",
       " ('1358', 37),\n",
       " ('2378', 37),\n",
       " ('1278', 36),\n",
       " ('1359', 36),\n",
       " ('12379', 36),\n",
       " ('1459', 35),\n",
       " ('1567', 35),\n",
       " ('0367', 35),\n",
       " ('3478', 35),\n",
       " ('389', 35),\n",
       " ('1467', 34),\n",
       " ('1345', 34),\n",
       " ('13579', 34),\n",
       " ('239', 34)]"
      ]
     },
     "execution_count": 234,
     "metadata": {},
     "output_type": "execute_result"
    }
   ],
   "source": [
    "vv.most_common(40)"
   ]
  },
  {
   "cell_type": "code",
   "execution_count": 1018,
   "metadata": {},
   "outputs": [],
   "source": [
    "data = []\n",
    "\n",
    "for k, target in enumerate(guesses):\n",
    "    guess = 'alter'\n",
    "    sub = ''\n",
    "    nsub = ''\n",
    "    #target = guesses[k]\n",
    "    for j in range(10):\n",
    "\n",
    "        tt = ' '.join(guesses)\n",
    "\n",
    "        mm = score(guess, target)[:len(target)]\n",
    "        ss  = list(zip(guess, mm))\n",
    "            \n",
    "        sub += ''.join([x for x,y in ss if y == '*' and x not in sub])\n",
    "        nsub += ''.join([x for x,y in ss if y == 'x' ])\n",
    "        if nsub :\n",
    "            #fails if the guess is an anagram \n",
    "            tt = re.sub(r'[{}]'.format(nsub),'',tt)\n",
    "\n",
    "        tt = [w for w in tt.split() if len(w) == len(guesses[0])]\n",
    "\n",
    "        tt = [w for w in tt if all( x in w for x in sub )]\n",
    "\n",
    "        chks1 = [i for i,y in enumerate(mm) if y == '_']\n",
    "        for i in chks1:\n",
    "            tt = [w for w in tt if w[i] == guess[i]]\n",
    "\n",
    "        chks2 = [i for i,y in enumerate(mm) if y == '*']\n",
    "        for i in chks2:\n",
    "            tt = [w for w in tt if w[i] != guess[i]]\n",
    "            \n",
    "        if guess == target: \n",
    "            data.append((guess,j))\n",
    "            break\n",
    "        if j == 0: \n",
    "            guess = 'noisy' \n",
    "            continue\n",
    "            \n",
    "        if len(tt) > 10:\n",
    "            guess = sorted([(-m_score(w),w) for w in tt])[0][1]\n",
    "        else:\n",
    "            guess = tt[0]\n",
    "            "
   ]
  },
  {
   "cell_type": "code",
   "execution_count": 1001,
   "metadata": {},
   "outputs": [],
   "source": [
    "ff_2guess = ff[:]"
   ]
  },
  {
   "cell_type": "code",
   "execution_count": 1021,
   "metadata": {},
   "outputs": [
    {
     "data": {
      "image/png": "[encoded data removed]",
      "text/plain": [
       "<Figure size 432x288 with 1 Axes>"
      ]
     },
     "metadata": {
      "needs_background": "light"
     },
     "output_type": "display_data"
    }
   ],
   "source": [
    "import numpy as np\n",
    "import matplotlib.pyplot as plt\n",
    "\n",
    "plt.hist(ff, bins = 10);\n",
    "\n",
    "plt.hist(ff_2guess, bins = 10,color='r');\n"
   ]
  },
  {
   "cell_type": "code",
   "execution_count": 1019,
   "metadata": {},
   "outputs": [],
   "source": [
    "ww, ff = list(zip(*data))"
   ]
  },
  {
   "cell_type": "code",
   "execution_count": 943,
   "metadata": {},
   "outputs": [],
   "source": [
    "from collections import Counter"
   ]
  },
  {
   "cell_type": "code",
   "execution_count": 1010,
   "metadata": {},
   "outputs": [
    {
     "data": {
      "text/plain": [
       "(Counter({3: 1034,\n",
       "          2: 582,\n",
       "          4: 511,\n",
       "          5: 129,\n",
       "          6: 39,\n",
       "          1: 1,\n",
       "          7: 11,\n",
       "          0: 1,\n",
       "          8: 3,\n",
       "          9: 1}),\n",
       " Counter({2: 620,\n",
       "          3: 1048,\n",
       "          5: 112,\n",
       "          4: 483,\n",
       "          1: 1,\n",
       "          6: 32,\n",
       "          7: 10,\n",
       "          0: 1,\n",
       "          8: 3,\n",
       "          9: 1}))"
      ]
     },
     "execution_count": 1010,
     "metadata": {},
     "output_type": "execute_result"
    }
   ],
   "source": [
    "Counter(ff), Counter(ff_2guess)"
   ]
  },
  {
   "cell_type": "code",
   "execution_count": 977,
   "metadata": {},
   "outputs": [],
   "source": [
    "ff_alter_a = ff[:]"
   ]
  },
  {
   "cell_type": "code",
   "execution_count": null,
   "metadata": {},
   "outputs": [],
   "source": []
  },
  {
   "cell_type": "code",
   "execution_count": 1022,
   "metadata": {},
   "outputs": [],
   "source": [
    "import requests\n",
    "r = requests.get(url='https://www.powerlanguage.co.uk/wordle/main.c1506a22.js')\n",
    "pp = re.compile('La=.*?\\[(.*?)\\]',re.DOTALL)\n",
    "words = pp.search(r.text).group(1)\n",
    "words = words.replace('\"','').split(',')"
   ]
  },
  {
   "cell_type": "code",
   "execution_count": null,
   "metadata": {},
   "outputs": [],
   "source": []
  },
  {
   "cell_type": "code",
   "execution_count": 170,
   "metadata": {},
   "outputs": [],
   "source": [
    "import json\n",
    "with open('word_list.json','w') as fp:\n",
    "    json.dump(words,fp)"
   ]
  },
  {
   "cell_type": "code",
   "execution_count": 152,
   "metadata": {},
   "outputs": [
    {
     "data": {
      "text/plain": [
       "['panic', 'pecan', 'peace']"
      ]
     },
     "execution_count": 152,
     "metadata": {},
     "output_type": "execute_result"
    }
   ],
   "source": [
    "tt = ' '.join(words)\n",
    "tt = re.sub(r'[oughtrzybls]','',tt)\n",
    "tt = [w for w in tt.split() if len(w) == 5]\n",
    "tt = [w for w in tt if all( x in w for x in 'cap' ) ]\n",
    "tt"
   ]
  },
  {
   "cell_type": "code",
   "execution_count": 93,
   "metadata": {},
   "outputs": [
    {
     "data": {
      "text/plain": [
       "['tangy']"
      ]
     },
     "execution_count": 93,
     "metadata": {},
     "output_type": "execute_result"
    }
   ],
   "source": [
    "with open('/usr/share/dict/american-english') as fp:\n",
    "    words = fp.read()\n",
    "    \n",
    "words = re.sub(r'[^\\w\\s]','', words)\n",
    "tt = [w for w in  words.lower().split('\\n') if len(w) == 5]\n",
    "\n",
    "tt = ' '.join(tt)\n",
    "tt = re.sub(r'[fkerbdsmo]','',tt)\n",
    "tt = [w for w in tt.split() if len(w) == 5]\n",
    "tt = [w for w in tt if w[1:4] == 'ang']\n",
    "tt"
   ]
  },
  {
   "cell_type": "code",
   "execution_count": 171,
   "metadata": {},
   "outputs": [],
   "source": [
    "r = requests.get(url='https://engaging-data.com/pages/scripts/wordle/words.js')"
   ]
  },
  {
   "cell_type": "code",
   "execution_count": 184,
   "metadata": {},
   "outputs": [],
   "source": [
    "px = re.compile('=.*?\\[(.*?)\\]',re.DOTALL)\n",
    "w_lists = px.findall(r.text)\n"
   ]
  },
  {
   "cell_type": "code",
   "execution_count": 1033,
   "metadata": {},
   "outputs": [],
   "source": [
    "guesses = w_lists[-1].replace(\"'\",\"\").split(\",\")"
   ]
  },
  {
   "cell_type": "code",
   "execution_count": 1034,
   "metadata": {},
   "outputs": [
    {
     "data": {
      "text/plain": [
       "'article'"
      ]
     },
     "execution_count": 1034,
     "metadata": {},
     "output_type": "execute_result"
    }
   ],
   "source": [
    "guesses[0]"
   ]
  },
  {
   "cell_type": "markdown",
   "metadata": {},
   "source": [
    "# Calculating letter frequency in the word list"
   ]
  },
  {
   "cell_type": "code",
   "execution_count": 8,
   "metadata": {},
   "outputs": [],
   "source": [
    "def m_score(w):  \n",
    "    return sum([freqs[c] for c in set(w)])\n",
    "    \n",
    "\n",
    "txt = ' '.join(guesses)\n",
    "\n",
    "uu = [(x,txt.count(x)) for x in string.ascii_lowercase]\n",
    "uu.sort(key=lambda x:x[1])\n",
    "\n",
    "freqs = {x:i for i,x in enumerate(list(zip(*uu))[0])}"
   ]
  },
  {
   "cell_type": "code",
   "execution_count": 1036,
   "metadata": {},
   "outputs": [],
   "source": [
    "tags = [(w,-m_score(w)) for w in guesses]\n",
    "tags.sort(key=lambda x:x[1])"
   ]
  },
  {
   "cell_type": "code",
   "execution_count": 1037,
   "metadata": {},
   "outputs": [
    {
     "data": {
      "text/plain": [
       "[('retains', -154),\n",
       " ('nastier', -154),\n",
       " ('retinas', -154),\n",
       " ('retsina', -154),\n",
       " ('retails', -152),\n",
       " ('realist', -152),\n",
       " ('saltire', -152),\n",
       " ('saltier', -152),\n",
       " ('slatier', -152),\n",
       " ('sardine', -151)]"
      ]
     },
     "execution_count": 1037,
     "metadata": {},
     "output_type": "execute_result"
    }
   ],
   "source": [
    "tags[:10]"
   ]
  },
  {
   "cell_type": "code",
   "execution_count": 982,
   "metadata": {},
   "outputs": [],
   "source": [
    "txt = ' '.join(guesses)\n",
    "\n",
    "uu = [(x,txt.count(x)) for x in string.ascii_lowercase]\n",
    "uu.sort(key=lambda x:x[1])\n",
    "freqs = {x:i for i,x in enumerate(list(zip(*uu))[0])}"
   ]
  },
  {
   "cell_type": "code",
   "execution_count": 991,
   "metadata": {},
   "outputs": [
    {
     "data": {
      "text/plain": [
       "set()"
      ]
     },
     "execution_count": 991,
     "metadata": {},
     "output_type": "execute_result"
    }
   ],
   "source": [
    "set('ab').intersection(set('yx'))"
   ]
  },
  {
   "cell_type": "code",
   "execution_count": 992,
   "metadata": {},
   "outputs": [],
   "source": [
    "qq = set('later').intersection\n",
    "pp = [w for w in guesses if qq(set(w)) == set() ]"
   ]
  },
  {
   "cell_type": "code",
   "execution_count": 994,
   "metadata": {},
   "outputs": [],
   "source": [
    "tags = [(w,-m_score(w)) for w in pp]\n",
    "tags.sort(key=lambda x:x[1])"
   ]
  },
  {
   "cell_type": "code",
   "execution_count": 995,
   "metadata": {},
   "outputs": [
    {
     "data": {
      "text/plain": [
       "[('sonic', -92),\n",
       " ('scion', -92),\n",
       " ('noisy', -90),\n",
       " ('disco', -88),\n",
       " ('sound', -85),\n",
       " ('synod', -84),\n",
       " ('bison', -84),\n",
       " ('doing', -80),\n",
       " ('dingo', -80),\n",
       " ('bonus', -80)]"
      ]
     },
     "execution_count": 995,
     "metadata": {},
     "output_type": "execute_result"
    }
   ],
   "source": [
    "tags[:10]"
   ]
  },
  {
   "cell_type": "code",
   "execution_count": 552,
   "metadata": {},
   "outputs": [],
   "source": [
    "def score(w):\n",
    "    #tp = set(c for c in w)    return sum([freqs[c] for c in w])\n",
    "\n",
    "    return -sum([freqs[c] for c in w[0]]), w[1]\n",
    "\n",
    "pp = [ (set(x for x in w), w) for w in guesses]\n",
    "pp = [ x for x in pp if len(x[0]) == len(guesses[0])]\n",
    "vv = sorted([  score(w) for w in pp ]) "
   ]
  },
  {
   "cell_type": "code",
   "execution_count": null,
   "metadata": {},
   "outputs": [],
   "source": []
  },
  {
   "cell_type": "code",
   "execution_count": null,
   "metadata": {},
   "outputs": [],
   "source": []
  },
  {
   "cell_type": "code",
   "execution_count": null,
   "metadata": {},
   "outputs": [],
   "source": []
  }
 ],
 "metadata": {
  "kernelspec": {
   "display_name": "Python 3 (ipykernel)",
   "language": "python",
   "name": "python3"
  },
  "language_info": {
   "codemirror_mode": {
    "name": "ipython",
    "version": 3
   },
   "file_extension": ".py",
   "mimetype": "text/x-python",
   "name": "python",
   "nbconvert_exporter": "python",
   "pygments_lexer": "ipython3",
   "version": "3.8.12"
  },
  "widgets": {
   "application/vnd.jupyter.widget-state+json": {
    "state": {},
    "version_major": 2,
    "version_minor": 0
   }
  }
 },
 "nbformat": 4,
 "nbformat_minor": 4
}
