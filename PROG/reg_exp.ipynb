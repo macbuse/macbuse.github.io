{
 "cells": [
  {
   "cell_type": "markdown",
   "metadata": {},
   "source": [
    "# Requests, regular expressions, html, Markdown, svg"
   ]
  },
  {
   "cell_type": "markdown",
   "metadata": {},
   "source": [
    "## HTTP\n",
    "\n",
    "HTTP est un protocole de la couche application. Il peut fonctionner sur n'importe quelle connexion fiable, dans les faits on utilise le protocole TCP comme couche de transport. Un serveur HTTP utilise alors par défaut le port 80 (443 pour HTTPS).\n",
    "\n",
    "Les clients HTTP les plus connus sont les navigateurs Web permettant à un utilisateur d'accéder à un serveur contenant les données. Il existe aussi des systèmes pour récupérer automatiquement le contenu d'un site tel que les aspirateurs de site Web ou les robots d'indexation.\n",
    "\n",
    "\n",
    "[source : wiki](https://fr.wikipedia.org/wiki/Hypertext_Transfer_Protocol)"
   ]
  },
  {
   "cell_type": "markdown",
   "metadata": {},
   "source": [
    "## URL\n",
    "\n",
    "Une URL (sigle de l’anglais : Uniform Resource Locator, littéralement « localisateur uniforme de ressource »), couramment appelée adresse web, est une chaîne de caractères uniforme qui permet d'identifier une ressource du World Wide Web par son emplacement et de préciser le protocole internet pour la récupérer (par exemple http ou https). Elle peut localiser divers formats de données : document HTML, image, son....\n",
    "\n",
    "Les URL constituent un sous-ensemble des identifiants uniformes de ressource (Uniform Resource Identifier, URI), identifiants uniques d'accès à une ressource. La syntaxe d'une URL est décrite dans la RFC 39863.\n",
    "\n",
    "\n",
    "Exemple d'URL dans un navigateur web.\n",
    "Une URL, outre les adresses web, concerne d'autres ressources, selon d'autres schémas, par exemple :\n",
    "\n",
    "forum Usenet : news:fr.comp.infosystemes.www.auteurs ;\n",
    "boîte aux lettres électronique : mailto:john.doe@mail.com ;\n",
    "FTP : ftp://ftp.mozilla.org/pub/mozilla.org/firefox/releases/ ;\n",
    "numéro de téléphone: tel:+33 1 234 567 890\n",
    "\n",
    "[wiki](https://fr.wikipedia.org/wiki/Uniform_Resource_Locator\n",
    "\n",
    "\n",
    "---\n",
    "\n",
    "\n",
    "We'll start with simple requests:"
   ]
  },
  {
   "cell_type": "code",
   "execution_count": 52,
   "metadata": {},
   "outputs": [],
   "source": [
    "import requests\n",
    "\n",
    "url = 'https://en.wikipedia.org/wiki/Hypertext_Transfer_Protocol'"
   ]
  },
  {
   "cell_type": "code",
   "execution_count": 53,
   "metadata": {},
   "outputs": [],
   "source": [
    "r = requests.get(url)"
   ]
  },
  {
   "cell_type": "code",
   "execution_count": 54,
   "metadata": {},
   "outputs": [
    {
     "data": {
      "text/plain": [
       "<Response [200]>"
      ]
     },
     "execution_count": 54,
     "metadata": {},
     "output_type": "execute_result"
    }
   ],
   "source": [
    "r"
   ]
  },
  {
   "cell_type": "markdown",
   "metadata": {},
   "source": [
    "## Status codes\n",
    "\n",
    "All HTTP response status codes are separated into five classes or categories. The first digit of the status code defines the class of response, while the last two digits do not have any classifying or categorization role. There are five classes defined by the standard:\n",
    "\n",
    "- 1xx informational response – the request was received, continuing process\n",
    "- 2xx successful – the request was successfully received, understood, and accepted\n",
    "- 3xx redirection – further action needs to be taken in order to complete the request\n",
    "- 4xx client error – the request contains bad syntax or cannot be fulfilled\n",
    "- 5xx server error – the server failed to fulfil an apparently valid request\n",
    "\n",
    "\n",
    "\n",
    "[source](https://en.wikipedia.org/wiki/List_of_HTTP_status_codes)"
   ]
  },
  {
   "cell_type": "code",
   "execution_count": 55,
   "metadata": {},
   "outputs": [
    {
     "data": {
      "text/plain": [
       "['apparent_encoding',\n",
       " 'close',\n",
       " 'connection',\n",
       " 'content',\n",
       " 'cookies',\n",
       " 'elapsed',\n",
       " 'encoding',\n",
       " 'headers',\n",
       " 'history',\n",
       " 'is_permanent_redirect',\n",
       " 'is_redirect',\n",
       " 'iter_content',\n",
       " 'iter_lines',\n",
       " 'json',\n",
       " 'links',\n",
       " 'next',\n",
       " 'ok',\n",
       " 'raise_for_status',\n",
       " 'raw',\n",
       " 'reason',\n",
       " 'request',\n",
       " 'status_code',\n",
       " 'text',\n",
       " 'url']"
      ]
     },
     "execution_count": 55,
     "metadata": {},
     "output_type": "execute_result"
    }
   ],
   "source": [
    "[ x for x in dir(r) if x[0] != \"_\"]"
   ]
  },
  {
   "cell_type": "code",
   "execution_count": 56,
   "metadata": {},
   "outputs": [
    {
     "data": {
      "text/plain": [
       "'<!DOCTYPE html>\\n<html class=\"client-nojs\" lang=\"en\" dir=\"ltr\">\\n<head>\\n<meta charset=\"UTF-8\"/>\\n<title'"
      ]
     },
     "execution_count": 56,
     "metadata": {},
     "output_type": "execute_result"
    }
   ],
   "source": [
    "r.text[:100]"
   ]
  },
  {
   "cell_type": "code",
   "execution_count": 57,
   "metadata": {},
   "outputs": [
    {
     "data": {
      "text/plain": [
       "{'Date': 'Thu, 26 Nov 2020 23:18:13 GMT', 'Server': 'mw1271.eqiad.wmnet', 'X-Content-Type-Options': 'nosniff', 'P3p': 'CP=\"See https://en.wikipedia.org/wiki/Special:CentralAutoLogin/P3P for more info.\"', 'Content-Language': 'en', 'Vary': 'Accept-Encoding,Cookie,Authorization', 'X-Request-Id': '061cc236-7ba3-4efb-b0c0-74ae8e3f12bd', 'Last-Modified': 'Thu, 26 Nov 2020 23:16:26 GMT', 'Content-Type': 'text/html; charset=UTF-8', 'Content-Encoding': 'gzip', 'Age': '47029', 'X-Cache': 'cp3054 hit, cp3054 hit/98', 'X-Cache-Status': 'hit-front', 'Server-Timing': 'cache;desc=\"hit-front\"', 'Strict-Transport-Security': 'max-age=106384710; includeSubDomains; preload', 'Report-To': '{ \"group\": \"wm_nel\", \"max_age\": 86400, \"endpoints\": [{ \"url\": \"https://intake-logging.wikimedia.org/v1/events?stream=w3c.reportingapi.network_error&schema_uri=/w3c/reportingapi/network_error/1.0.0\" }] }', 'NEL': '{ \"report_to\": \"wm_nel\", \"max_age\": 86400, \"failure_fraction\": 0.05, \"success_fraction\": 0.0}', 'Set-Cookie': 'WMF-Last-Access=27-Nov-2020;Path=/;HttpOnly;secure;Expires=Tue, 29 Dec 2020 12:00:00 GMT, WMF-Last-Access-Global=27-Nov-2020;Path=/;Domain=.wikipedia.org;HttpOnly;secure;Expires=Tue, 29 Dec 2020 12:00:00 GMT, GeoIP=FR:ARA:La_Tronche:45.20:5.74:v4; Path=/; secure; Domain=.wikipedia.org', 'X-Client-IP': '93.13.162.254', 'Cache-Control': 'private, s-maxage=0, max-age=0, must-revalidate', 'Accept-Ranges': 'bytes', 'Content-Length': '47908', 'Connection': 'keep-alive'}"
      ]
     },
     "execution_count": 57,
     "metadata": {},
     "output_type": "execute_result"
    }
   ],
   "source": [
    "r.headers"
   ]
  },
  {
   "cell_type": "code",
   "execution_count": 12,
   "metadata": {},
   "outputs": [],
   "source": [
    "data = r.text"
   ]
  },
  {
   "cell_type": "markdown",
   "metadata": {},
   "source": [
    "\n",
    "An html file usually consists of a **header** and a **body** \n",
    "though most navigators accept documents without these\n",
    "\n",
    "```\n",
    "The HTML <header> element represents introductory content, typically a group of introductory or navigational aids. It may contain some heading elements but also a logo, a search form, an author name, and other elements.\n",
    "   \n",
    "    \n",
    "But also text encoding\n",
    "\n",
    "```\n",
    "  \n",
    "```  \n",
    "The <body> tag defines the document's body.\n",
    "\n",
    "The <body> element contains all the contents of an HTML document, such as headings, paragraphs, images, hyperlinks, tables, lists, etc.\n",
    "\n",
    "Note: There can only be one <body> element in an HTML document.\n",
    "\n",
    "```\n",
    "\n",
    "---\n",
    "\n",
    "So the body contains marked up text \n",
    "\n",
    "- links to other html documents\n",
    "- links to media \n",
    "\n",
    "    \n",
    "We are interested in links and the ```<a>``` elements :\n",
    "\n",
    "- the ```<a>``` tag defines a hyperlink, which is used to link from one page to another.\n",
    "\n",
    "- the most important attribute of the ```<a>``` element is the href attribute, which indicates the link's destination.\n",
    "\n",
    "\n",
    "\n",
    "\n",
    "[tag reference](https://www.w3schools.com/TAGS/default.ASP)\n",
    "\n",
    "---\n",
    "\n",
    "\n",
    "## href\n",
    "\n",
    "The HTML ```<a>``` element (or anchor element), with its href attribute, creates a hyperlink to web pages, files, email addresses, locations in the same page, or anything else a URL can address. \n",
    "\n",
    "Content within each ```<a>``` should indicate the link's destination.xample\n",
    "\n",
    "\n",
    "### Example\n",
    "\n",
    "```\n",
    "<p>You can reach Michael at:</p>\n",
    "\n",
    "<ul>\n",
    "  <li><a href=\"https://example.com\">Website</a></li>\n",
    "  <li><a href=\"mailto:m.bluth@example.com\">Email</a></li>\n",
    "  <li><a href=\"tel:+123456789\">Phone</a></li>\n",
    "</ul>\n",
    "```\n",
    "\n",
    "[source](https://developer.mozilla.org/en-US/docs/Web/HTML/Element/a)"
   ]
  },
  {
   "cell_type": "markdown",
   "metadata": {},
   "source": [
    "## Find all the ```<a> </a>``` in data\n",
    "\n",
    "- method 1 : regular expressions\n",
    "    \n",
    "- method 2 : beautiful soup\n",
    "\n",
    "### expression régulière\n",
    "\n",
    "Une expression régulière est une chaîne de caractères, qui décrit, selon une syntaxe précise, un ensemble de chaînes de caractères possibles. Les expressions régulières sont également appelées regex (un mot-valise formé depuis l'anglais regular expression). Les expressions rationnelles sont issues des théories mathématiques des langages formels des années 1940. Leur capacité à décrire avec concision des ensembles réguliers explique qu’elles se retrouvent dans plusieurs domaines scientifiques dans les années d’après-guerre et justifie leur adoption en informatique. Les expressions régulières sont aujourd’hui utilisées pour programmer des logiciels avec des fonctionnalités de lecture, de contrôle, de modification, et d'analyse de textes ainsi que dans la manipulation des langues formelles que sont les langages informatiques.\n",
    "\n",
    "Ces expressions régulières ont la qualité de pouvoir être décrites par des formules ou motifs, (en anglais patterns) bien plus simples que les autres moyens2\n",
    "\n",
    "[source](https://fr.wikipedia.org/wiki/Expression_r%C3%A9guli%C3%A8re)\n",
    "\n",
    "---\n",
    "\n",
    "Exemple :\n",
    "\n",
    "\n",
    "\n",
    "```\\se[^\\s]*```\n",
    "\n",
    "is a **pattern** that ***matches*** (finds)  a word that begins with ```e```\n",
    "\n",
    "- \\s = space\n",
    "- e = e\n",
    "- [^\\s] is any character which is not space\n",
    "-  [^\\s]* is any sequence of characters which is not space\n",
    "\n",
    "\n",
    "to find ```<a>  </a>``` we use \n",
    "\n",
    "```<a>.*?</a>```\n",
    "\n",
    "- ```.``` = any character except ```\\n```\n",
    "- ```.*``` = any sequence of characters except ```\\n```\n",
    "- ```?</a>``` = stop when you find ```</a>```\n",
    "\n",
    "\n",
    "\n",
    "\n",
    "[look here](https://www.w3schools.com/python/python_regex.asp)\n",
    "\n",
    "\n",
    "---\n",
    "\n",
    "\n",
    "Python utilise des expressions régulières basées sur les expressions régulières POSIX, avec quelques extensions ou différences.\n",
    "\n",
    "Les éléments compatibles POSIX sont les suivants :\n",
    "\n",
    "- opérateurs [ ], ., *, ?, +, |, ( )\n",
    "- caractères \\t, \\n, \\v, \\f, \\r\n",
    "\n",
    "\n",
    "- ```[ ]``` = ensemble de caracteres\n",
    "- . = n'importe quoi\n",
    "- .* = sequence de n'importe quoi\n",
    "- .*? = sequence de n'importe quoi mais on doit s'arreter quand on trouve la suite...\n",
    "-  ```( )``` = groupe a capturer\n",
    "\n",
    "[source](https://fr.wikipedia.org/wiki/Expression_r%C3%A9guli%C3%A8re#Python)\n",
    "\n",
    "\n"
   ]
  },
  {
   "cell_type": "markdown",
   "metadata": {},
   "source": [
    "## Method 1\n"
   ]
  },
  {
   "cell_type": "code",
   "execution_count": 62,
   "metadata": {},
   "outputs": [
    {
     "data": {
      "text/plain": [
       "\u001b[0;31mType:\u001b[0m        module\n",
       "\u001b[0;31mString form:\u001b[0m <module 're' from '/home/macbuse/anaconda3/lib/python3.8/re.py'>\n",
       "\u001b[0;31mFile:\u001b[0m        ~/anaconda3/lib/python3.8/re.py\n",
       "\u001b[0;31mDocstring:\u001b[0m  \n",
       "Support for regular expressions (RE).\n",
       "\n",
       "This module provides regular expression matching operations similar to\n",
       "those found in Perl.  It supports both 8-bit and Unicode strings; both\n",
       "the pattern and the strings being processed can contain null bytes and\n",
       "characters outside the US ASCII range.\n",
       "\n",
       "Regular expressions can contain both special and ordinary characters.\n",
       "Most ordinary characters, like \"A\", \"a\", or \"0\", are the simplest\n",
       "regular expressions; they simply match themselves.  You can\n",
       "concatenate ordinary characters, so last matches the string 'last'.\n",
       "\n",
       "The special characters are:\n",
       "    \".\"      Matches any character except a newline.\n",
       "    \"^\"      Matches the start of the string.\n",
       "    \"$\"      Matches the end of the string or just before the newline at\n",
       "             the end of the string.\n",
       "    \"*\"      Matches 0 or more (greedy) repetitions of the preceding RE.\n",
       "             Greedy means that it will match as many repetitions as possible.\n",
       "    \"+\"      Matches 1 or more (greedy) repetitions of the preceding RE.\n",
       "    \"?\"      Matches 0 or 1 (greedy) of the preceding RE.\n",
       "    *?,+?,?? Non-greedy versions of the previous three special characters.\n",
       "    {m,n}    Matches from m to n repetitions of the preceding RE.\n",
       "    {m,n}?   Non-greedy version of the above.\n",
       "    \"\\\\\"     Either escapes special characters or signals a special sequence.\n",
       "    []       Indicates a set of characters.\n",
       "             A \"^\" as the first character indicates a complementing set.\n",
       "    \"|\"      A|B, creates an RE that will match either A or B.\n",
       "    (...)    Matches the RE inside the parentheses.\n",
       "             The contents can be retrieved or matched later in the string.\n",
       "    (?aiLmsux) The letters set the corresponding flags defined below.\n",
       "    (?:...)  Non-grouping version of regular parentheses.\n",
       "    (?P<name>...) The substring matched by the group is accessible by name.\n",
       "    (?P=name)     Matches the text matched earlier by the group named name.\n",
       "    (?#...)  A comment; ignored.\n",
       "    (?=...)  Matches if ... matches next, but doesn't consume the string.\n",
       "    (?!...)  Matches if ... doesn't match next.\n",
       "    (?<=...) Matches if preceded by ... (must be fixed length).\n",
       "    (?<!...) Matches if not preceded by ... (must be fixed length).\n",
       "    (?(id/name)yes|no) Matches yes pattern if the group with id/name matched,\n",
       "                       the (optional) no pattern otherwise.\n",
       "\n",
       "The special sequences consist of \"\\\\\" and a character from the list\n",
       "below.  If the ordinary character is not on the list, then the\n",
       "resulting RE will match the second character.\n",
       "    \\number  Matches the contents of the group of the same number.\n",
       "    \\A       Matches only at the start of the string.\n",
       "    \\Z       Matches only at the end of the string.\n",
       "    \\b       Matches the empty string, but only at the start or end of a word.\n",
       "    \\B       Matches the empty string, but not at the start or end of a word.\n",
       "    \\d       Matches any decimal digit; equivalent to the set [0-9] in\n",
       "             bytes patterns or string patterns with the ASCII flag.\n",
       "             In string patterns without the ASCII flag, it will match the whole\n",
       "             range of Unicode digits.\n",
       "    \\D       Matches any non-digit character; equivalent to [^\\d].\n",
       "    \\s       Matches any whitespace character; equivalent to [ \\t\\n\\r\\f\\v] in\n",
       "             bytes patterns or string patterns with the ASCII flag.\n",
       "             In string patterns without the ASCII flag, it will match the whole\n",
       "             range of Unicode whitespace characters.\n",
       "    \\S       Matches any non-whitespace character; equivalent to [^\\s].\n",
       "    \\w       Matches any alphanumeric character; equivalent to [a-zA-Z0-9_]\n",
       "             in bytes patterns or string patterns with the ASCII flag.\n",
       "             In string patterns without the ASCII flag, it will match the\n",
       "             range of Unicode alphanumeric characters (letters plus digits\n",
       "             plus underscore).\n",
       "             With LOCALE, it will match the set [0-9_] plus characters defined\n",
       "             as letters for the current locale.\n",
       "    \\W       Matches the complement of \\w.\n",
       "    \\\\       Matches a literal backslash.\n",
       "\n",
       "This module exports the following functions:\n",
       "    match     Match a regular expression pattern to the beginning of a string.\n",
       "    fullmatch Match a regular expression pattern to all of a string.\n",
       "    search    Search a string for the presence of a pattern.\n",
       "    sub       Substitute occurrences of a pattern found in a string.\n",
       "    subn      Same as sub, but also return the number of substitutions made.\n",
       "    split     Split a string by the occurrences of a pattern.\n",
       "    findall   Find all occurrences of a pattern in a string.\n",
       "    finditer  Return an iterator yielding a Match object for each match.\n",
       "    compile   Compile a pattern into a Pattern object.\n",
       "    purge     Clear the regular expression cache.\n",
       "    escape    Backslash all non-alphanumerics in a string.\n",
       "\n",
       "Each function other than purge and escape can take an optional 'flags' argument\n",
       "consisting of one or more of the following module constants, joined by \"|\".\n",
       "A, L, and U are mutually exclusive.\n",
       "    A  ASCII       For string patterns, make \\w, \\W, \\b, \\B, \\d, \\D\n",
       "                   match the corresponding ASCII character categories\n",
       "                   (rather than the whole Unicode categories, which is the\n",
       "                   default).\n",
       "                   For bytes patterns, this flag is the only available\n",
       "                   behaviour and needn't be specified.\n",
       "    I  IGNORECASE  Perform case-insensitive matching.\n",
       "    L  LOCALE      Make \\w, \\W, \\b, \\B, dependent on the current locale.\n",
       "    M  MULTILINE   \"^\" matches the beginning of lines (after a newline)\n",
       "                   as well as the string.\n",
       "                   \"$\" matches the end of lines (before a newline) as well\n",
       "                   as the end of the string.\n",
       "    S  DOTALL      \".\" matches any character at all, including the newline.\n",
       "    X  VERBOSE     Ignore whitespace and comments for nicer looking RE's.\n",
       "    U  UNICODE     For compatibility only. Ignored for string patterns (it\n",
       "                   is the default), and forbidden for bytes patterns.\n",
       "\n",
       "This module also defines an exception 'error'.\n"
      ]
     },
     "metadata": {},
     "output_type": "display_data"
    }
   ],
   "source": [
    "import re\n",
    "? re"
   ]
  },
  {
   "cell_type": "code",
   "execution_count": 24,
   "metadata": {},
   "outputs": [],
   "source": [
    "ss = '''Une expression régulière est une chaîne de caractères, qui décrit, selon une syntaxe précise, un ensemble de chaînes de caractères possibles. Les expressions régulières sont également appelées regex (un mot-valise formé depuis l'anglais regular expression). Les expressions rationnelles sont issues des théories mathématiques des langages formels des années 1940. Leur capacité à décrire avec concision des ensembles réguliers explique qu’elles se retrouvent dans plusieurs domaines scientifiques dans les années d’après-guerre et justifie leur adoption en informatique. Les expressions régulières sont aujourd’hui utilisées pour programmer des logiciels avec des fonctionnalités de lecture, de contrôle, de modification, et d'analyse de textes ainsi que dans la manipulation des langues formelles que sont les langages informatiques.\n",
    "\n",
    "Ces expressions régulières ont la qualité de pouvoir être décrites par des formules ou motifs, (en anglais patterns) bien plus simples que les autres moyens2'''"
   ]
  },
  {
   "cell_type": "code",
   "execution_count": 43,
   "metadata": {},
   "outputs": [
    {
     "data": {
      "text/plain": [
       "[' expression',\n",
       " ' est',\n",
       " ' ensemble',\n",
       " ' expressions',\n",
       " ' expression).',\n",
       " ' expressions',\n",
       " ' ensembles',\n",
       " ' explique',\n",
       " ' et',\n",
       " ' en',\n",
       " ' expressions',\n",
       " ' et',\n",
       " ' expressions']"
      ]
     },
     "execution_count": 43,
     "metadata": {},
     "output_type": "execute_result"
    }
   ],
   "source": [
    "pp = re.compile('\\se[^\\s]*')\n",
    "pp.findall(ss)"
   ]
  },
  {
   "cell_type": "markdown",
   "metadata": {},
   "source": [
    "## Attributes\n",
    "\n",
    "```<a.*?>``` finds all the ```<a>``` tags whatever their atttibutes"
   ]
  },
  {
   "cell_type": "code",
   "execution_count": 57,
   "metadata": {},
   "outputs": [
    {
     "data": {
      "text/plain": [
       "['<a id=\"top\">',\n",
       " '<a href=\"/wiki/Wikipedia:Protection_policy#pending\" title=\"All edits by unregistered and new users are subject to review prior to becoming visible to unregistered users\">',\n",
       " '<a href=\"/wiki/Wikipedia:Pending_changes\" title=\"Wikipedia:Pending changes\">',\n",
       " '<a class=\"external text\" href=\"https://en.wikipedia.org/w/index.php?title=Special:Log&amp;type=review&amp;page=Hypertext_Transfer_Protocol\">',\n",
       " '<a class=\"mw-jump-link\" href=\"#mw-head\">',\n",
       " '<a class=\"mw-jump-link\" href=\"#searchInput\">',\n",
       " '<a href=\"/wiki/Wikipedia:External_links\" title=\"Wikipedia:External links\">',\n",
       " '<a class=\"external text\" href=\"https://en.wikipedia.org/w/index.php?title=Hypertext_Transfer_Protocol&amp;action=edit\">',\n",
       " '<a href=\"/wiki/Wikipedia:What_Wikipedia_is_not#Wikipedia_is_not_a_mirror_or_a_repository_of_links,_images,_or_media_files\" title=\"Wikipedia:What Wikipedia is not\">',\n",
       " '<a href=\"/wiki/Wikipedia:External_links\" title=\"Wikipedia:External links\">']"
      ]
     },
     "execution_count": 57,
     "metadata": {},
     "output_type": "execute_result"
    }
   ],
   "source": [
    "pa = re.compile('<a.*?>', re.DOTALL)\n",
    "pa.findall(data)[:10]"
   ]
  },
  {
   "cell_type": "markdown",
   "metadata": {},
   "source": [
    "now we can filter them like this"
   ]
  },
  {
   "cell_type": "code",
   "execution_count": 58,
   "metadata": {},
   "outputs": [
    {
     "data": {
      "text/plain": [
       "['<a href=\"/wiki/Wikipedia:Protection_policy#pending\" title=\"All edits by unregistered and new users are subject to review prior to becoming visible to unregistered users\">',\n",
       " '<a href=\"/wiki/Wikipedia:Pending_changes\" title=\"Wikipedia:Pending changes\">',\n",
       " '<a class=\"external text\" href=\"https://en.wikipedia.org/w/index.php?title=Special:Log&amp;type=review&amp;page=Hypertext_Transfer_Protocol\">',\n",
       " '<a class=\"mw-jump-link\" href=\"#mw-head\">',\n",
       " '<a class=\"mw-jump-link\" href=\"#searchInput\">',\n",
       " '<a href=\"/wiki/Wikipedia:External_links\" title=\"Wikipedia:External links\">',\n",
       " '<a class=\"external text\" href=\"https://en.wikipedia.org/w/index.php?title=Hypertext_Transfer_Protocol&amp;action=edit\">',\n",
       " '<a href=\"/wiki/Wikipedia:What_Wikipedia_is_not#Wikipedia_is_not_a_mirror_or_a_repository_of_links,_images,_or_media_files\" title=\"Wikipedia:What Wikipedia is not\">',\n",
       " '<a href=\"/wiki/Wikipedia:External_links\" title=\"Wikipedia:External links\">']"
      ]
     },
     "execution_count": 58,
     "metadata": {},
     "output_type": "execute_result"
    }
   ],
   "source": [
    "[ x for x in pa.findall(data)[:10] if 'href' in x]"
   ]
  },
  {
   "cell_type": "markdown",
   "metadata": {},
   "source": [
    "or change the pattern"
   ]
  },
  {
   "cell_type": "code",
   "execution_count": 62,
   "metadata": {},
   "outputs": [
    {
     "data": {
      "text/plain": [
       "['<a href=\"/wiki/Wikipedia:Protection_policy#pending\" title=\"All edits by unregistered and new users are subject to review prior to becoming visible to unregistered users\">',\n",
       " '<a href=\"/wiki/Wikipedia:Pending_changes\" title=\"Wikipedia:Pending changes\">',\n",
       " '<a href=\"/wiki/Wikipedia:External_links\" title=\"Wikipedia:External links\">',\n",
       " '<a href=\"/wiki/Wikipedia:What_Wikipedia_is_not#Wikipedia_is_not_a_mirror_or_a_repository_of_links,_images,_or_media_files\" title=\"Wikipedia:What Wikipedia is not\">',\n",
       " '<a href=\"/wiki/Wikipedia:External_links\" title=\"Wikipedia:External links\">',\n",
       " '<a href=\"/wiki/Wikipedia:Citing_sources\" title=\"Wikipedia:Citing sources\">',\n",
       " '<a href=\"/wiki/Help:Maintenance_template_removal\" title=\"Help:Maintenance template removal\">',\n",
       " '<a href=\"/wiki/File:HTTP_logo.svg\" class=\"image\">',\n",
       " '<a href=\"/wiki/CERN\" title=\"CERN\">',\n",
       " '<a href=\"/wiki/IETF\" class=\"mw-redirect\" title=\"IETF\">']"
      ]
     },
     "execution_count": 62,
     "metadata": {},
     "output_type": "execute_result"
    }
   ],
   "source": [
    "pax = re.compile('<a href=\".*?\">', re.DOTALL)\n",
    "pax.findall(data)[:10]"
   ]
  },
  {
   "cell_type": "code",
   "execution_count": 64,
   "metadata": {},
   "outputs": [
    {
     "data": {
      "text/plain": [
       "['/wiki/Wikipedia:Protection_policy#pending\" title=\"All edits by unregistered and new users are subject to review prior to becoming visible to unregistered users',\n",
       " '/wiki/Wikipedia:Pending_changes\" title=\"Wikipedia:Pending changes',\n",
       " '/wiki/Wikipedia:External_links\" title=\"Wikipedia:External links',\n",
       " '/wiki/Wikipedia:What_Wikipedia_is_not#Wikipedia_is_not_a_mirror_or_a_repository_of_links,_images,_or_media_files\" title=\"Wikipedia:What Wikipedia is not',\n",
       " '/wiki/Wikipedia:External_links\" title=\"Wikipedia:External links',\n",
       " '/wiki/Wikipedia:Citing_sources\" title=\"Wikipedia:Citing sources',\n",
       " '/wiki/Help:Maintenance_template_removal\" title=\"Help:Maintenance template removal',\n",
       " '/wiki/File:HTTP_logo.svg\" class=\"image',\n",
       " '/wiki/CERN\" title=\"CERN',\n",
       " '/wiki/IETF\" class=\"mw-redirect\" title=\"IETF']"
      ]
     },
     "execution_count": 64,
     "metadata": {},
     "output_type": "execute_result"
    }
   ],
   "source": [
    "### Parenthesis capture a group\n",
    "\n",
    "##We don't need the ```<a`` part so \n",
    "\n",
    "pax = re.compile('<a href=\"(.*?)\">', re.DOTALL)\n",
    "pax.findall(data)[:10]"
   ]
  },
  {
   "cell_type": "markdown",
   "metadata": {},
   "source": [
    "## Method 2\n",
    "\n",
    "[Beautiful soup](https://www.crummy.com/software/BeautifulSoup/bs4/doc/)\n",
    "\n",
    "Beautiful Soup is a Python package for parsing HTML and XML documents (including having malformed markup, i.e. non-closed tags, so named after tag soup). It creates a parse tree for parsed pages that can be used to extract data from HTML which is useful for web scraping.\n",
    "\n",
    "\n",
    "Lots of people use Beautiful Soup but I find it very complicated."
   ]
  },
  {
   "cell_type": "code",
   "execution_count": 45,
   "metadata": {},
   "outputs": [
    {
     "data": {
      "text/plain": [
       "'<!DOCTYPE '"
      ]
     },
     "execution_count": 45,
     "metadata": {},
     "output_type": "execute_result"
    }
   ],
   "source": [
    "data[:10]"
   ]
  },
  {
   "cell_type": "code",
   "execution_count": 5,
   "metadata": {},
   "outputs": [],
   "source": [
    "import bs4\n",
    "from bs4 import BeautifulSoup"
   ]
  },
  {
   "cell_type": "code",
   "execution_count": 26,
   "metadata": {},
   "outputs": [],
   "source": [
    "soup = BeautifulSoup(data, 'lxml')"
   ]
  },
  {
   "cell_type": "code",
   "execution_count": 30,
   "metadata": {},
   "outputs": [
    {
     "data": {
      "text/plain": [
       "[<a href=\"/wiki/Wikipedia:Protection_policy#pending\" title=\"All edits by unregistered and new users are subject to review prior to becoming visible to unregistered users\"><img alt=\"Page protected with pending changes\" data-file-height=\"512\" data-file-width=\"512\" decoding=\"async\" height=\"20\" src=\"//upload.wikimedia.org/wikipedia/en/thumb/b/b7/Pending-protection-shackle.svg/20px-Pending-protection-shackle.svg.png\" srcset=\"//upload.wikimedia.org/wikipedia/en/thumb/b/b7/Pending-protection-shackle.svg/30px-Pending-protection-shackle.svg.png 1.5x, //upload.wikimedia.org/wikipedia/en/thumb/b/b7/Pending-protection-shackle.svg/40px-Pending-protection-shackle.svg.png 2x\" width=\"20\"/></a>,\n",
       " <a href=\"/wiki/Wikipedia:Pending_changes\" title=\"Wikipedia:Pending changes\">latest accepted revision</a>,\n",
       " <a class=\"external text\" href=\"https://en.wikipedia.org/w/index.php?title=Special:Log&amp;type=review&amp;page=Hypertext_Transfer_Protocol\">reviewed</a>,\n",
       " <a class=\"mw-jump-link\" href=\"#mw-head\">Jump to navigation</a>,\n",
       " <a class=\"mw-jump-link\" href=\"#searchInput\">Jump to search</a>,\n",
       " <a href=\"/wiki/Wikipedia:External_links\" title=\"Wikipedia:External links\">external links</a>,\n",
       " <a class=\"external text\" href=\"https://en.wikipedia.org/w/index.php?title=Hypertext_Transfer_Protocol&amp;action=edit\">improve this article</a>,\n",
       " <a href=\"/wiki/Wikipedia:What_Wikipedia_is_not#Wikipedia_is_not_a_mirror_or_a_repository_of_links,_images,_or_media_files\" title=\"Wikipedia:What Wikipedia is not\">excessive</a>,\n",
       " <a href=\"/wiki/Wikipedia:External_links\" title=\"Wikipedia:External links\">inappropriate</a>,\n",
       " <a href=\"/wiki/Wikipedia:Citing_sources\" title=\"Wikipedia:Citing sources\">footnote references</a>]"
      ]
     },
     "execution_count": 30,
     "metadata": {},
     "output_type": "execute_result"
    }
   ],
   "source": [
    "soup.find_all('a', href=True)[:10]"
   ]
  },
  {
   "cell_type": "code",
   "execution_count": 38,
   "metadata": {},
   "outputs": [
    {
     "data": {
      "text/plain": [
       "[<a class=\"external text\" href=\"https://en.wikipedia.org/w/index.php?title=Special:Log&amp;type=review&amp;page=Hypertext_Transfer_Protocol\">reviewed</a>,\n",
       " <a class=\"external text\" href=\"https://en.wikipedia.org/w/index.php?title=Hypertext_Transfer_Protocol&amp;action=edit\">improve this article</a>,\n",
       " <a class=\"external mw-magiclink-rfc\" href=\"https://tools.ietf.org/html/rfc1945\" rel=\"nofollow\">RFC 1945</a>,\n",
       " <a class=\"external mw-magiclink-rfc\" href=\"https://tools.ietf.org/html/rfc2616\" rel=\"nofollow\">RFC 2616</a>,\n",
       " <a class=\"external mw-magiclink-rfc\" href=\"https://tools.ietf.org/html/rfc7540\" rel=\"nofollow\">RFC 7540</a>,\n",
       " <a class=\"external mw-magiclink-rfc\" href=\"https://tools.ietf.org/html/rfc7541\" rel=\"nofollow\">RFC 7541</a>,\n",
       " <a class=\"external mw-magiclink-rfc\" href=\"https://tools.ietf.org/html/rfc7230\" rel=\"nofollow\">RFC 7230</a>,\n",
       " <a class=\"external mw-magiclink-rfc\" href=\"https://tools.ietf.org/html/rfc7231\" rel=\"nofollow\">RFC 7231</a>,\n",
       " <a class=\"external mw-magiclink-rfc\" href=\"https://tools.ietf.org/html/rfc7232\" rel=\"nofollow\">RFC 7232</a>,\n",
       " <a class=\"external mw-magiclink-rfc\" href=\"https://tools.ietf.org/html/rfc7233\" rel=\"nofollow\">RFC 7233</a>]"
      ]
     },
     "execution_count": 38,
     "metadata": {},
     "output_type": "execute_result"
    }
   ],
   "source": [
    "soup.findAll('a', attrs={'href': re.compile(\"https://\")})[:10]"
   ]
  },
  {
   "cell_type": "code",
   "execution_count": 43,
   "metadata": {},
   "outputs": [
    {
     "data": {
      "text/plain": [
       "'https://en.wikipedia.org/w/index.php?title=Special:Log&type=review&page=Hypertext_Transfer_Protocol'"
      ]
     },
     "execution_count": 43,
     "metadata": {},
     "output_type": "execute_result"
    }
   ],
   "source": [
    "L = soup.findAll('a', attrs={'href': re.compile(\"https://\")})\n",
    "L[0]['href']"
   ]
  },
  {
   "cell_type": "markdown",
   "metadata": {},
   "source": [
    "## Exo \n",
    "\n",
    "Verifier si [this](https://en.wikipedia.org/wiki/Wikipedia:Getting_to_Philosophy) est vrai ?\n",
    "\n",
    "Write a [crawler](https://en.wikipedia.org/wiki/Web_crawler)\n",
    "that follows the first link on the wiki page.\n",
    "\n",
    "---\n",
    "\n",
    "You should start by writing a crawler to find the adjacency matrix of\n",
    "this [website](https://macbuse.github.io/PROG/X_lnh.html)\n",
    "\n",
    "Two pages are adjacent if they have a link from one to the other.\n",
    "\n",
    "--- \n",
    "\n",
    "Write a program to generate a website from an adjacency matrix."
   ]
  },
  {
   "cell_type": "code",
   "execution_count": 1,
   "metadata": {},
   "outputs": [
    {
     "name": "stdout",
     "output_type": "stream",
     "text": [
      "[master 4a72287] web\n",
      " 1 file changed, 14 insertions(+), 9 deletions(-)\n",
      "Counting objects: 4, done.\n",
      "Delta compression using up to 12 threads.\n",
      "Compressing objects: 100% (4/4), done.\n",
      "Writing objects: 100% (4/4), 689 bytes | 689.00 KiB/s, done.\n",
      "Total 4 (delta 3), reused 0 (delta 0)\n",
      "remote: Resolving deltas: 100% (3/3), completed with 3 local objects.\u001b[K\n",
      "To https://github.com/macbuse/macbuse.github.io.git\n",
      "   1695a2c..4a72287  master -> master\n"
     ]
    }
   ],
   "source": [
    "! ../.g"
   ]
  },
  {
   "cell_type": "markdown",
   "metadata": {},
   "source": [
    "## MarkDown\n",
    "\n",
    "[guide](https://github.com/adam-p/markdown-here)\n",
    "\n",
    "```<a href=\"whatever.html\"> whatever </a>```\n",
    "\n",
    "is great but it is quite long MarkDown is much more succinct\n",
    "\n",
    "```[whatever](whatever.html)```\n",
    "\n",
    "---\n",
    "\n",
    "```\n",
    "<img src=\"whatever.png>\n",
    "```\n",
    "\n",
    "becomes\n",
    "\n",
    "```\n",
    "![alt](whatever.png)\n",
    "```\n",
    "\n",
    "and lists are much simpler\n",
    "\n",
    "\n",
    "```\n",
    "1. First ordered list item\n",
    "2. Another item\n",
    "⋅⋅* Unordered sub-list. \n",
    "1. Actual numbers don't matter, just that it's a number\n",
    "⋅⋅1. Ordered sub-list\n",
    "4. And another item.\n",
    "\n",
    "⋅⋅⋅You can have properly indented paragraphs within list items. Notice the blank line above, and the leading spaces (at least one, but we'll use three here to also align the raw Markdown).\n",
    "\n",
    "⋅⋅⋅To have a line break without a paragraph, you will need to use two trailing spaces.⋅⋅\n",
    "⋅⋅⋅Note that this line is separate, but within the same paragraph.⋅⋅\n",
    "⋅⋅⋅(This is contrary to the typical GFM line break behaviour, where trailing spaces are not required.)\n",
    "\n",
    "* Unordered list can use asterisks\n",
    "- Or minuses\n",
    "+ Or pluses\n",
    "```\n",
    "\n",
    "\n",
    "---\n",
    "\n",
    "Markdown est un langage de balisage léger créé en 2004 par John Gruber avec l'aide d'Aaron Swartz. Son but est d'offrir une syntaxe facile à lire et à écrire. Un document balisé par Markdown peut être lu en l'état sans donner l’impression d'avoir été balisé ou formaté par des instructions particulières.\n",
    "\n",
    "Un document balisé par Markdown peut être converti en HTML, en PDF ou en d'autres formats. Bien que la syntaxe Markdown ait été influencée par plusieurs filtres de conversion de texte existants vers HTML."
   ]
  },
  {
   "cell_type": "code",
   "execution_count": null,
   "metadata": {},
   "outputs": [],
   "source": []
  }
 ],
 "metadata": {
  "kernelspec": {
   "display_name": "Python 3",
   "language": "python",
   "name": "python3"
  },
  "language_info": {
   "codemirror_mode": {
    "name": "ipython",
    "version": 3
   },
   "file_extension": ".py",
   "mimetype": "text/x-python",
   "name": "python",
   "nbconvert_exporter": "python",
   "pygments_lexer": "ipython3",
   "version": "3.8.3"
  }
 },
 "nbformat": 4,
 "nbformat_minor": 4
}
