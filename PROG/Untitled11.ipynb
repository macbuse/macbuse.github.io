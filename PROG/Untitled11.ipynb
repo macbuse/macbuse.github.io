{
 "cells": [
  {
   "cell_type": "code",
   "execution_count": 1,
   "metadata": {},
   "outputs": [
    {
     "name": "stdout",
     "output_type": "stream",
     "text": [
      "Collecting hyperbolic\n",
      "  Downloading hyperbolic-1.3.2-py3-none-any.whl (32 kB)\n",
      "Requirement already satisfied: numpy in /home/macbuse/anaconda3/lib/python3.8/site-packages (from hyperbolic) (1.18.5)\n",
      "Installing collected packages: hyperbolic\n",
      "Successfully installed hyperbolic-1.3.2\n"
     ]
    }
   ],
   "source": [
    "! pip install hyperbolic"
   ]
  },
  {
   "cell_type": "code",
   "execution_count": 2,
   "metadata": {},
   "outputs": [
    {
     "name": "stdout",
     "output_type": "stream",
     "text": [
      "Collecting drawSvg\n",
      "  Downloading drawSvg-1.8.3-py3-none-any.whl (25 kB)\n",
      "Requirement already satisfied: imageio in /home/macbuse/anaconda3/lib/python3.8/site-packages (from drawSvg) (2.9.0)\n",
      "Collecting cairoSVG\n",
      "  Downloading CairoSVG-2.5.2-py3-none-any.whl (45 kB)\n",
      "\u001b[K     |████████████████████████████████| 45 kB 622 kB/s eta 0:00:01\n",
      "\u001b[?25hRequirement already satisfied: numpy in /home/macbuse/anaconda3/lib/python3.8/site-packages (from drawSvg) (1.18.5)\n",
      "Requirement already satisfied: pillow in /home/macbuse/anaconda3/lib/python3.8/site-packages (from imageio->drawSvg) (7.2.0)\n",
      "Requirement already satisfied: defusedxml in /home/macbuse/anaconda3/lib/python3.8/site-packages (from cairoSVG->drawSvg) (0.6.0)\n",
      "Collecting cairocffi\n",
      "  Downloading cairocffi-1.3.0.tar.gz (88 kB)\n",
      "\u001b[K     |████████████████████████████████| 88 kB 629 kB/s eta 0:00:01\n",
      "\u001b[?25hCollecting tinycss2\n",
      "  Downloading tinycss2-1.1.0-py3-none-any.whl (21 kB)\n",
      "Collecting cssselect2\n",
      "  Downloading cssselect2-0.4.1-py3-none-any.whl (13 kB)\n",
      "Requirement already satisfied: cffi>=1.1.0 in /home/macbuse/anaconda3/lib/python3.8/site-packages (from cairocffi->cairoSVG->drawSvg) (1.14.0)\n",
      "Requirement already satisfied: webencodings>=0.4 in /home/macbuse/anaconda3/lib/python3.8/site-packages (from tinycss2->cairoSVG->drawSvg) (0.5.1)\n",
      "Requirement already satisfied: pycparser in /home/macbuse/anaconda3/lib/python3.8/site-packages (from cffi>=1.1.0->cairocffi->cairoSVG->drawSvg) (2.20)\n",
      "Building wheels for collected packages: cairocffi\n",
      "  Building wheel for cairocffi (setup.py) ... \u001b[?25ldone\n",
      "\u001b[?25h  Created wheel for cairocffi: filename=cairocffi-1.3.0-py3-none-any.whl size=89650 sha256=4986d406e415a534665e903e37d2b1ce99ddcf59b95c4d4041e30900fb8ae8df\n",
      "  Stored in directory: /home/macbuse/.cache/pip/wheels/f3/97/83/8022b9237866102e18d1b7ac0a269769e6fccba0f63dceb9b7\n",
      "Successfully built cairocffi\n",
      "Installing collected packages: cairocffi, tinycss2, cssselect2, cairoSVG, drawSvg\n",
      "Successfully installed cairoSVG-2.5.2 cairocffi-1.3.0 cssselect2-0.4.1 drawSvg-1.8.3 tinycss2-1.1.0\n"
     ]
    }
   ],
   "source": [
    "! pip install drawSvg"
   ]
  },
  {
   "cell_type": "code",
   "execution_count": null,
   "metadata": {},
   "outputs": [],
   "source": []
  }
 ],
 "metadata": {
  "kernelspec": {
   "display_name": "Python 3 (ipykernel)",
   "language": "python",
   "name": "python3"
  },
  "language_info": {
   "codemirror_mode": {
    "name": "ipython",
    "version": 3
   },
   "file_extension": ".py",
   "mimetype": "text/x-python",
   "name": "python",
   "nbconvert_exporter": "python",
   "pygments_lexer": "ipython3",
   "version": "3.8.12"
  },
  "widgets": {
   "application/vnd.jupyter.widget-state+json": {
    "state": {},
    "version_major": 2,
    "version_minor": 0
   }
  }
 },
 "nbformat": 4,
 "nbformat_minor": 4
}
