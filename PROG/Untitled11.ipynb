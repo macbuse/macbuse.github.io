{
 "cells": [
  {
   "cell_type": "markdown",
   "metadata": {},
   "source": [
    "# Facebook bet\n",
    "\n",
    "Andy Turnbull\n",
    "I remember when that came out someone told me that track 4 was basically track 3 backwards, then overdubbed with new vocals.\n",
    "Using 80s technology I recorded it onto a tdk, then unscrewed the cassette, flipped the tape upside down so that it played backwards.\n",
    "Rumour confirmed."
   ]
  },
  {
   "cell_type": "code",
   "execution_count": 8,
   "metadata": {},
   "outputs": [],
   "source": [
    "import pydub \n",
    "import numpy as np\n",
    "\n",
    "def read(f, normalized=False):\n",
    "    \"\"\"MP3 to numpy array\"\"\"\n",
    "    #https://github.com/jiaaro/pydub/issues/173\n",
    "    a = pydub.AudioSegment.from_file(f, format=\"mp3\")\n",
    "    #a = pydub.AudioSegment.from_mp3(f)\n",
    "    y = np.array(a.get_array_of_samples())\n",
    "    if a.channels == 2:\n",
    "        y = y.reshape((-1, 2))\n",
    "    if normalized:\n",
    "        return a.frame_rate, np.float32(y) / 2**15\n",
    "    else:\n",
    "        return a.frame_rate, y\n",
    "\n",
    "def write(f, sr, x, normalized=False):\n",
    "    \"\"\"numpy array to MP3\"\"\"\n",
    "    channels = 2 if (x.ndim == 2 and x.shape[1] == 2) else 1\n",
    "    if normalized:  # normalized array - each item should be a float in [-1, 1)\n",
    "        y = np.int16(x * 2 ** 15)\n",
    "    else:\n",
    "        y = np.int16(x)\n",
    "    song = pydub.AudioSegment(y.tobytes(), frame_rate=sr, sample_width=2, channels=channels)\n",
    "    song.export(f, format=\"mp3\", bitrate=\"320k\")\n",
    "    \n"
   ]
  },
  {
   "cell_type": "code",
   "execution_count": 2,
   "metadata": {},
   "outputs": [
    {
     "name": "stdout",
     "output_type": "stream",
     "text": [
      "Collecting pydub\n",
      "  Downloading pydub-0.25.1-py2.py3-none-any.whl (32 kB)\n",
      "Installing collected packages: pydub\n",
      "Successfully installed pydub-0.25.1\n"
     ]
    }
   ],
   "source": [
    "! pip install pydub"
   ]
  },
  {
   "cell_type": "code",
   "execution_count": 9,
   "metadata": {},
   "outputs": [],
   "source": [
    "xx = read('/home/macbuse/Downloads/blue_monday.mp3')"
   ]
  },
  {
   "cell_type": "code",
   "execution_count": 6,
   "metadata": {},
   "outputs": [
    {
     "name": "stdout",
     "output_type": "stream",
     "text": [
      "\u001b[0m\u001b[00;36m/home/macbuse/Downloads/track4.mp3\u001b[0m\n"
     ]
    }
   ],
   "source": [
    "ls ~/Downloads/*mp3"
   ]
  },
  {
   "cell_type": "code",
   "execution_count": 14,
   "metadata": {},
   "outputs": [],
   "source": [
    "sr, dd = xx"
   ]
  },
  {
   "cell_type": "code",
   "execution_count": 12,
   "metadata": {},
   "outputs": [
    {
     "data": {
      "text/plain": [
       "19678208"
      ]
     },
     "execution_count": 12,
     "metadata": {},
     "output_type": "execute_result"
    }
   ],
   "source": [
    "dd.shape[0]"
   ]
  },
  {
   "cell_type": "code",
   "execution_count": 13,
   "metadata": {},
   "outputs": [
    {
     "data": {
      "text/plain": [
       "(50, 2)"
      ]
     },
     "execution_count": 13,
     "metadata": {},
     "output_type": "execute_result"
    }
   ],
   "source": [
    "mm = np.arange(100).reshape((-1,2))\n",
    "mm.shape"
   ]
  },
  {
   "cell_type": "code",
   "execution_count": 15,
   "metadata": {},
   "outputs": [
    {
     "data": {
      "text/plain": [
       "array([[99, 98],\n",
       "       [97, 96],\n",
       "       [95, 94],\n",
       "       [93, 92],\n",
       "       [91, 90]])"
      ]
     },
     "execution_count": 15,
     "metadata": {},
     "output_type": "execute_result"
    }
   ],
   "source": [
    "np.flip(mm)[:5]"
   ]
  },
  {
   "cell_type": "code",
   "execution_count": 16,
   "metadata": {},
   "outputs": [],
   "source": [
    "rr = np.flip(dd)"
   ]
  },
  {
   "cell_type": "code",
   "execution_count": null,
   "metadata": {},
   "outputs": [],
   "source": [
    "# Dump a third of it to a file"
   ]
  },
  {
   "cell_type": "code",
   "execution_count": 18,
   "metadata": {},
   "outputs": [],
   "source": [
    "write('reversed.mp3',sr,rr[-rr.shape[0]//3:])"
   ]
  },
  {
   "cell_type": "markdown",
   "metadata": {},
   "source": [
    "# Make a video \n",
    "\n",
    "because Facebook won't let me upload just an **mp3**"
   ]
  },
  {
   "cell_type": "code",
   "execution_count": 32,
   "metadata": {},
   "outputs": [
    {
     "name": "stdout",
     "output_type": "stream",
     "text": [
      "\u001b[0m\u001b[01;35m2DConvolved.jpg\u001b[0m  \u001b[01;35mdigits{}.jpg\u001b[0m      \u001b[01;35mgrad.jpg\u001b[0m     \u001b[01;35mstrip.jpg\u001b[0m\n",
      "\u001b[01;35mdigits.jpg\u001b[0m       \u001b[01;35mdouble_cover.jpg\u001b[0m  \u001b[01;35mmarilyn.jpg\u001b[0m  \u001b[01;35mtest_image.jpg\u001b[0m\n"
     ]
    }
   ],
   "source": [
    "ls *jpg"
   ]
  },
  {
   "cell_type": "code",
   "execution_count": 19,
   "metadata": {},
   "outputs": [
    {
     "name": "stdout",
     "output_type": "stream",
     "text": [
      "ffmpeg version 3.4.8-0ubuntu0.2 Copyright (c) 2000-2020 the FFmpeg developers\n",
      "  built with gcc 7 (Ubuntu 7.5.0-3ubuntu1~18.04)\n",
      "  configuration: --prefix=/usr --extra-version=0ubuntu0.2 --toolchain=hardened --libdir=/usr/lib/x86_64-linux-gnu --incdir=/usr/include/x86_64-linux-gnu --enable-gpl --disable-stripping --enable-avresample --enable-avisynth --enable-gnutls --enable-ladspa --enable-libass --enable-libbluray --enable-libbs2b --enable-libcaca --enable-libcdio --enable-libflite --enable-libfontconfig --enable-libfreetype --enable-libfribidi --enable-libgme --enable-libgsm --enable-libmp3lame --enable-libmysofa --enable-libopenjpeg --enable-libopenmpt --enable-libopus --enable-libpulse --enable-librubberband --enable-librsvg --enable-libshine --enable-libsnappy --enable-libsoxr --enable-libspeex --enable-libssh --enable-libtheora --enable-libtwolame --enable-libvorbis --enable-libvpx --enable-libwavpack --enable-libwebp --enable-libx265 --enable-libxml2 --enable-libxvid --enable-libzmq --enable-libzvbi --enable-omx --enable-openal --enable-opengl --enable-sdl2 --enable-libdc1394 --enable-libdrm --enable-libiec61883 --enable-chromaprint --enable-frei0r --enable-libopencv --enable-libx264 --enable-shared\n",
      "  libavutil      55. 78.100 / 55. 78.100\n",
      "  libavcodec     57.107.100 / 57.107.100\n",
      "  libavformat    57. 83.100 / 57. 83.100\n",
      "  libavdevice    57. 10.100 / 57. 10.100\n",
      "  libavfilter     6.107.100 /  6.107.100\n",
      "  libavresample   3.  7.  0 /  3.  7.  0\n",
      "  libswscale      4.  8.100 /  4.  8.100\n",
      "  libswresample   2.  9.100 /  2.  9.100\n",
      "  libpostproc    54.  7.100 / 54.  7.100\n",
      "Input #0, image2, from 'marilyn.jpg':\n",
      "  Duration: 00:00:00.04, start: 0.000000, bitrate: 42715 kb/s\n",
      "    Stream #0:0: Video: mjpeg, yuvj420p(pc, bt470bg/unknown/unknown), 1024x1024 [SAR 1:1 DAR 1:1], 25 fps, 25 tbr, 25 tbn, 25 tbc\n",
      "Input #1, mp3, from 'reversed.mp3':\n",
      "  Metadata:\n",
      "    encoder         : Lavf57.83.100\n",
      "  Duration: 00:02:28.77, start: 0.025057, bitrate: 320 kb/s\n",
      "    Stream #1:0: Audio: mp3, 44100 Hz, stereo, s16p, 320 kb/s\n",
      "    Metadata:\n",
      "      encoder         : Lavc57.10\n",
      "Stream mapping:\n",
      "  Stream #0:0 -> #0:0 (mjpeg (native) -> h264 (libx264))\n",
      "  Stream #1:0 -> #0:1 (mp3 (native) -> aac (native))\n",
      "Press [q] to stop, [?] for help\n",
      "\u001b[1;36m[libx264 @ 0x55b88e1c0dc0] \u001b[0musing SAR=1/1\n",
      "\u001b[1;36m[libx264 @ 0x55b88e1c0dc0] \u001b[0musing cpu capabilities: MMX2 SSE2Fast SSSE3 SSE4.2 AVX FMA3 BMI2 AVX2\n",
      "\u001b[1;36m[libx264 @ 0x55b88e1c0dc0] \u001b[0mprofile High, level 3.2\n",
      "\u001b[1;36m[libx264 @ 0x55b88e1c0dc0] \u001b[0m264 - core 152 r2854 e9a5903 - H.264/MPEG-4 AVC codec - Copyleft 2003-2017 - http://www.videolan.org/x264.html - options: cabac=1 ref=3 deblock=1:-3:-3 analyse=0x3:0x113 me=hex subme=7 psy=1 psy_rd=2.00:0.70 mixed_ref=1 me_range=16 chroma_me=1 trellis=1 8x8dct=1 cqm=0 deadzone=21,11 fast_pskip=1 chroma_qp_offset=-4 threads=18 lookahead_threads=3 sliced_threads=0 nr=0 decimate=1 interlaced=0 bluray_compat=0 constrained_intra=0 bframes=3 b_pyramid=2 b_adapt=1 b_bias=0 direct=1 weightb=1 open_gop=0 weightp=2 keyint=250 keyint_min=25 scenecut=40 intra_refresh=0 rc_lookahead=40 rc=crf mbtree=1 crf=23.0 qcomp=0.60 qpmin=0 qpmax=69 qpstep=4 ip_ratio=1.40 aq=1:1.20\n",
      "Output #0, mp4, to 'yadnom_eulb.mp4':\n",
      "  Metadata:\n",
      "    encoder         : Lavf57.83.100\n",
      "    Stream #0:0: Video: h264 (libx264) (avc1 / 0x31637661), yuvj420p(pc, progressive), 1024x1024 [SAR 1:1 DAR 1:1], q=-1--1, 25 fps, 12800 tbn, 25 tbc\n",
      "    Metadata:\n",
      "      encoder         : Lavc57.107.100 libx264\n",
      "    Side data:\n",
      "      cpb: bitrate max/min/avg: 0/0/0 buffer size: 0 vbv_delay: -1\n",
      "    Stream #0:1: Audio: aac (LC) (mp4a / 0x6134706D), 44100 Hz, stereo, fltp, 128 kb/s\n",
      "    Metadata:\n",
      "      encoder         : Lavc57.107.100 aac\n",
      "frame= 3782 fps= 89 q=-1.0 Lsize=    6494kB time=00:02:31.16 bitrate= 351.9kbits/s speed=3.56x    \n",
      "video:4022kB audio:2348kB subtitle:0kB other streams:0kB global headers:0kB muxing overhead: 1.944958%\n",
      "\u001b[1;36m[libx264 @ 0x55b88e1c0dc0] \u001b[0mframe I:16    Avg QP:15.52  size:228175\n",
      "\u001b[1;36m[libx264 @ 0x55b88e1c0dc0] \u001b[0mframe P:953   Avg QP:14.62  size:   324\n",
      "\u001b[1;36m[libx264 @ 0x55b88e1c0dc0] \u001b[0mframe B:2813  Avg QP:27.54  size:    56\n",
      "\u001b[1;36m[libx264 @ 0x55b88e1c0dc0] \u001b[0mconsecutive B-frames:  0.8%  0.0%  0.1% 99.1%\n",
      "\u001b[1;36m[libx264 @ 0x55b88e1c0dc0] \u001b[0mmb I  I16..4:  4.4% 88.5%  7.1%\n",
      "\u001b[1;36m[libx264 @ 0x55b88e1c0dc0] \u001b[0mmb P  I16..4:  0.0%  0.0%  0.0%  P16..4:  1.1%  0.0%  0.0%  0.0%  0.0%    skip:98.8%\n",
      "\u001b[1;36m[libx264 @ 0x55b88e1c0dc0] \u001b[0mmb B  I16..4:  0.0%  0.0%  0.0%  B16..8:  0.5%  0.0%  0.0%  direct: 0.0%  skip:99.5%  L0:37.8% L1:61.9% BI: 0.3%\n",
      "\u001b[1;36m[libx264 @ 0x55b88e1c0dc0] \u001b[0m8x8 transform intra:88.5% inter:79.6%\n",
      "\u001b[1;36m[libx264 @ 0x55b88e1c0dc0] \u001b[0mcoded y,uvDC,uvAC intra: 89.9% 90.1% 80.1% inter: 0.1% 0.1% 0.0%\n",
      "\u001b[1;36m[libx264 @ 0x55b88e1c0dc0] \u001b[0mi16 v,h,dc,p: 40% 25% 31%  4%\n",
      "\u001b[1;36m[libx264 @ 0x55b88e1c0dc0] \u001b[0mi8 v,h,dc,ddl,ddr,vr,hd,vl,hu: 19% 18% 25%  5%  6%  7%  6%  7%  7%\n",
      "\u001b[1;36m[libx264 @ 0x55b88e1c0dc0] \u001b[0mi4 v,h,dc,ddl,ddr,vr,hd,vl,hu: 25% 21% 14%  6%  8%  8%  7%  6%  5%\n",
      "\u001b[1;36m[libx264 @ 0x55b88e1c0dc0] \u001b[0mi8c dc,h,v,p: 38% 24% 27% 11%\n",
      "\u001b[1;36m[libx264 @ 0x55b88e1c0dc0] \u001b[0mWeighted P-Frames: Y:0.0% UV:0.0%\n",
      "\u001b[1;36m[libx264 @ 0x55b88e1c0dc0] \u001b[0mref P L0: 97.8%  0.0%  1.9%  0.3%\n",
      "\u001b[1;36m[libx264 @ 0x55b88e1c0dc0] \u001b[0mref B L0: 46.5% 53.0%  0.6%\n",
      "\u001b[1;36m[libx264 @ 0x55b88e1c0dc0] \u001b[0mref B L1: 92.7%  7.3%\n",
      "\u001b[1;36m[libx264 @ 0x55b88e1c0dc0] \u001b[0mkb/s:217.78\n",
      "\u001b[1;36m[aac @ 0x55b88e1c2260] \u001b[0mQavg: 659.986\n"
     ]
    }
   ],
   "source": [
    "! ffmpeg -loop 1 -i marilyn.jpg -i 'reversed.mp3' -c:v libx264 -tune stillimage -shortest 'yadnom_eulb.mp4'"
   ]
  },
  {
   "cell_type": "code",
   "execution_count": 34,
   "metadata": {},
   "outputs": [],
   "source": [
    "! mv reversed.mp3 reversed_full.mp3\n"
   ]
  },
  {
   "cell_type": "code",
   "execution_count": 35,
   "metadata": {},
   "outputs": [
    {
     "name": "stdout",
     "output_type": "stream",
     "text": [
      "\u001b[0m\u001b[00;36mhello_world.mp3\u001b[0m  \u001b[00;36mibm.mp3\u001b[0m  \u001b[00;36mimagination_is_more.mp3\u001b[0m  \u001b[00;36mreversed_full.mp3\u001b[0m\n"
     ]
    }
   ],
   "source": [
    "ls *mp3\n"
   ]
  },
  {
   "cell_type": "code",
   "execution_count": null,
   "metadata": {},
   "outputs": [],
   "source": []
  }
 ],
 "metadata": {
  "kernelspec": {
   "display_name": "Python 3",
   "language": "python",
   "name": "python3"
  },
  "language_info": {
   "codemirror_mode": {
    "name": "ipython",
    "version": 3
   },
   "file_extension": ".py",
   "mimetype": "text/x-python",
   "name": "python",
   "nbconvert_exporter": "python",
   "pygments_lexer": "ipython3",
   "version": "3.8.3"
  }
 },
 "nbformat": 4,
 "nbformat_minor": 4
}
