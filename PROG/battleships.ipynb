{
 "cells": [
  {
   "cell_type": "markdown",
   "id": "88168c12-034c-49f0-8467-c242dea0aa84",
   "metadata": {},
   "source": [
    "# Battleships\n",
    "\n",
    "so I lifted some code frome [here](https://codereview.stackexchange.com/questions/276997/python-battleship-game-code-to-place-random-ships-on-the-board)\n",
    "\n",
    "It's OK but it's not **modern** or even **moderately good**\n"
   ]
  },
  {
   "cell_type": "code",
   "execution_count": null,
   "id": "d5c28f36-5da5-47e0-a18a-457cc505f45a",
   "metadata": {},
   "outputs": [],
   "source": [
    "import random\n",
    "\n",
    "\n",
    "# this is dumb u should use integers :(\n",
    "EMPTY = '.'\n",
    "FULL = 'x'\n",
    "\n",
    "# as I explained you change direction by taking the transpose\n",
    "DIRECTIONS = (\n",
    "    (0, 1),  # Right\n",
    "    (0, -1), # Left\n",
    "    (1, 0),  # Up\n",
    "    (-1, 0), # Down\n",
    ")\n",
    "MIN_SIZE = 3\n",
    "MAX_SIZE = 5\n",
    "\n",
    "def print_board():\n",
    "    board, ships = generate_board(10, 4)\n",
    "    for row in board:\n",
    "        print(' '.join(row))\n",
    "\n",
    "def generate_board(board_size, n_ships):\n",
    "    # A board without ship information is ambiguous so return both.\n",
    "    board = [[EMPTY] * board_size for _ in range(board_size)]\n",
    "    ships = []\n",
    "    while len(ships) < n_ships:\n",
    "        row = random.randint(0, board_size - 1)\n",
    "        col = random.randint(0, board_size - 1)\n",
    "        direction = random.choice(DIRECTIONS)\n",
    "        ship_size = random.randint(MIN_SIZE, MAX_SIZE)\n",
    "        ship = generate_ship(board, row, col, ship_size, direction)\n",
    "        if ship:\n",
    "            ships.append(ship)\n",
    "            for r, c in ship:\n",
    "                board[r][c] = FULL\n",
    "    return (board, ships)\n",
    "\n",
    "\n",
    "#basically redundant if you know how to use numpy\n",
    "def generate_ship(board, row, col, ship_size, direction):\n",
    "    r = row\n",
    "    c = col\n",
    "    dr, dc = direction\n",
    "    cells = []\n",
    "    for _ in range(ship_size):\n",
    "        if is_empty(board, r, c):\n",
    "            cells.append((r, c))\n",
    "            r += dr\n",
    "            c += dc\n",
    "        else:\n",
    "            return None\n",
    "    return cells\n",
    "\n",
    "#totally redundant with numpy/matplotlib\n",
    "def is_empty(board, row, col):\n",
    "    try:\n",
    "        return min(row, col) >= 0 and board[row][col] == EMPTY\n",
    "    except IndexError:\n",
    "        pass\n",
    "    return False\n",
    "\n",
    "print_board()"
   ]
  },
  {
   "cell_type": "code",
   "execution_count": 39,
   "id": "8d5a10c9-efa7-44d3-84c2-873f2a50c738",
   "metadata": {},
   "outputs": [
    {
     "ename": "TypeError",
     "evalue": "cannot unpack non-iterable int object",
     "output_type": "error",
     "traceback": [
      "\u001b[0;31m---------------------------------------------------------------------------\u001b[0m",
      "\u001b[0;31mTypeError\u001b[0m                                 Traceback (most recent call last)",
      "Input \u001b[0;32mIn [39]\u001b[0m, in \u001b[0;36m<cell line: 1>\u001b[0;34m()\u001b[0m\n\u001b[0;32m----> 1\u001b[0m M \u001b[38;5;241m=\u001b[39m \u001b[43mgenerate_board\u001b[49m\u001b[43m(\u001b[49m\u001b[38;5;241;43m20\u001b[39;49m\u001b[43m,\u001b[49m\u001b[43m \u001b[49m\u001b[38;5;241;43m4\u001b[39;49m\u001b[43m)\u001b[49m\n",
      "Input \u001b[0;32mIn [29]\u001b[0m, in \u001b[0;36mgenerate_board\u001b[0;34m(board_size, ship_sizes, num_ships)\u001b[0m\n\u001b[1;32m      5\u001b[0m \u001b[38;5;28;01mdef\u001b[39;00m \u001b[38;5;21mgenerate_board\u001b[39m(board_size\u001b[38;5;241m=\u001b[39m\u001b[38;5;241m10\u001b[39m, \n\u001b[1;32m      6\u001b[0m                    ship_sizes\u001b[38;5;241m=\u001b[39m(\u001b[38;5;241m2\u001b[39m,\u001b[38;5;241m5\u001b[39m),\n\u001b[1;32m      7\u001b[0m                    num_ships\u001b[38;5;241m=\u001b[39m\u001b[38;5;241m7\u001b[39m)\u001b[38;5;241m-\u001b[39m\u001b[38;5;241m>\u001b[39mnp\u001b[38;5;241m.\u001b[39mndarray:\n\u001b[0;32m----> 9\u001b[0m     MIN_SIZE, MAX_SIZE \u001b[38;5;241m=\u001b[39m ship_sizes\n\u001b[1;32m     11\u001b[0m     board \u001b[38;5;241m=\u001b[39m np\u001b[38;5;241m.\u001b[39mzeros((board_size\u001b[38;5;241m+\u001b[39m\u001b[38;5;241m2\u001b[39m, board_size\u001b[38;5;241m+\u001b[39m\u001b[38;5;241m2\u001b[39m), dtype\u001b[38;5;241m=\u001b[39m\u001b[38;5;28mint\u001b[39m)\n\u001b[1;32m     13\u001b[0m     \u001b[38;5;28;01mfor\u001b[39;00m k \u001b[38;5;129;01min\u001b[39;00m \u001b[38;5;28mrange\u001b[39m(num_ships):\n",
      "\u001b[0;31mTypeError\u001b[0m: cannot unpack non-iterable int object"
     ]
    }
   ],
   "source": [
    "M = generate_board(20, 4)"
   ]
  },
  {
   "cell_type": "code",
   "execution_count": 131,
   "id": "40ba424d-9ada-4106-b286-c635e54876c0",
   "metadata": {},
   "outputs": [
    {
     "data": {
      "text/plain": [
       "[(3, 2), (4, 2), (5, 2), (6, 2), (7, 2)]"
      ]
     },
     "execution_count": 131,
     "metadata": {},
     "output_type": "execute_result"
    }
   ],
   "source": [
    "list(zip(*np.where(M == 5)))"
   ]
  },
  {
   "cell_type": "code",
   "execution_count": 40,
   "id": "8af42fe9-700a-41e4-8f13-4bf4325a8dd8",
   "metadata": {},
   "outputs": [],
   "source": [
    "import random\n",
    "import numpy as np\n",
    "import matplotlib.pyplot as plt\n",
    "\n",
    "def generate_board(board_size=10, \n",
    "                   ship_sizes=(2,5),\n",
    "                   num_ships=7)->np.ndarray:\n",
    "    \n",
    "    MIN_SIZE, MAX_SIZE = ship_sizes\n",
    "    \n",
    "    board = np.zeros((board_size+2, board_size+2), dtype=int)\n",
    "\n",
    "    for k in range(num_ships):\n",
    "        ship_size = random.randint(MIN_SIZE, MAX_SIZE)\n",
    "        \n",
    "        if random.random() > .5:\n",
    "            board = board.T\n",
    "        \n",
    "        #this is dumb and I'll fix it later\n",
    "        for _ in range(200):\n",
    "            row = random.randint(1, board_size - ship_size - 1)\n",
    "            col = random.randint(1, board_size )\n",
    "            if np.all(board[row:row + ship_size, col]== 0):\n",
    "                break #found a slot\n",
    "        else:\n",
    "            MAX_SIZE -=1\n",
    "            continue\n",
    "            \n",
    "        board[row-1:row+ship_size+1, col-1:col+2] = 1\n",
    "        board[row:row+ship_size, col] = k + 2\n",
    "        \n",
    "    return board"
   ]
  },
  {
   "cell_type": "code",
   "execution_count": 42,
   "id": "2b9afaa2-5d8e-4719-abe2-f210cefd9479",
   "metadata": {},
   "outputs": [
    {
     "data": {
      "image/png": "[encoded data removed]",
      "text/plain": [
       "<Figure size 432x288 with 1 Axes>"
      ]
     },
     "metadata": {
      "needs_background": "light"
     },
     "output_type": "display_data"
    }
   ],
   "source": [
    "B = generate_board()\n",
    "plt.imshow(B);"
   ]
  },
  {
   "cell_type": "code",
   "execution_count": 58,
   "id": "b64f0c94-2ff3-4a98-826f-dbc3ad13ae45",
   "metadata": {},
   "outputs": [
    {
     "data": {
      "text/plain": [
       "7"
      ]
     },
     "execution_count": 58,
     "metadata": {},
     "output_type": "execute_result"
    }
   ],
   "source": [
    "B[(1,1)]"
   ]
  },
  {
   "cell_type": "markdown",
   "id": "c564dd8d-72df-4bde-9583-e07cbae5d55c",
   "metadata": {},
   "source": [
    "---\n",
    "\n",
    "# this is a simple queue of tasks"
   ]
  },
  {
   "cell_type": "code",
   "execution_count": 585,
   "id": "32391299-19d4-400d-b87a-0f9deabf2de3",
   "metadata": {},
   "outputs": [],
   "source": [
    "class Todo():\n",
    "    def __init__(self):\n",
    "        self.queue = []\n",
    "    \n",
    "    def get(self): \n",
    "        xx = self.queue[-1].pop(0)\n",
    "        #housekeeping\n",
    "        if len(self.queue[-1]) == 0 :\n",
    "            self.queue.pop()\n",
    "        return xx\n",
    "    \n",
    "    def __add__(self,other):\n",
    "        self.queue.append(other)\n",
    "        \n",
    "    def kill_path(self):\n",
    "        # apparently it doesn't like pop here\n",
    "        self.queue = self.queue[:-1]\n",
    "        #print('>>>',len(self.queue))\n",
    "        \n",
    "    def empty(self):\n",
    "        return len(self.queue) == 0\n",
    "    \n",
    "\n",
    "        "
   ]
  },
  {
   "cell_type": "code",
   "execution_count": 600,
   "id": "4110d7ee-f8d5-4394-bff4-1ca961b820be",
   "metadata": {},
   "outputs": [
    {
     "data": {
      "image/png": "[encoded data removed]",
      "text/plain": [
       "<Figure size 432x288 with 1 Axes>"
      ]
     },
     "metadata": {
      "needs_background": "light"
     },
     "output_type": "display_data"
    }
   ],
   "source": [
    "sz = B.shape[0]\n",
    "G = np.zeros_like(B) # global\n",
    "to_do = Todo() # global\n",
    "\n",
    "def guess(sz):\n",
    "    def search():\n",
    "        while True:\n",
    "            gg = np.random.randint(1, high=sz-1, size=2)\n",
    "            if G[tuple(gg)] == 0 : break\n",
    "        return gg\n",
    "    \n",
    "    gg = to_do.get() if not to_do.empty() else search()\n",
    "    pt = tuple(gg)\n",
    "\n",
    "    if B[pt]  > 1:\n",
    "        #print('hit',pt)\n",
    "        G[pt] = 10\n",
    "        # ugly\n",
    "        if to_do.empty():\n",
    "            L = [gg + [-k,0] for k in range(1,5) if gg[0] - k > 0]\n",
    "            R = [gg + [k,0]  for k in range(1,5) if gg[0] + k < sz]\n",
    "            U = [gg + [0,-k] for k in range(1,5) if gg[1] - k > 0]\n",
    "            D = [gg + [0,k]  for k in range(1,5) if gg[1] + k < sz]\n",
    "           \n",
    "            for _ in L,R,U,D:\n",
    "                #dumb check but necessary\n",
    "                if _ :  to_do + _\n",
    "    else:\n",
    "        G[pt] = -1\n",
    "        to_do.kill_path() #abandon current path\n",
    "\n",
    " \n",
    "for _ in range(60):\n",
    "    guess(sz)\n",
    "\n",
    "G[G<0] = 0\n",
    "plt.imshow(G + B);\n"
   ]
  },
  {
   "cell_type": "code",
   "execution_count": 589,
   "id": "fe5010fb-1baa-4aa1-b45f-0f867fc0694a",
   "metadata": {},
   "outputs": [
    {
     "data": {
      "text/plain": [
       "[]"
      ]
     },
     "execution_count": 589,
     "metadata": {},
     "output_type": "execute_result"
    }
   ],
   "source": [
    "to_do.queue"
   ]
  },
  {
   "cell_type": "code",
   "execution_count": 601,
   "id": "68ae4af6-9272-4543-a7fb-e6dc6835b307",
   "metadata": {},
   "outputs": [
    {
     "data": {
      "image/png": "[encoded data removed]",
      "text/plain": [
       "<Figure size 432x288 with 1 Axes>"
      ]
     },
     "metadata": {
      "needs_background": "light"
     },
     "output_type": "display_data"
    }
   ],
   "source": [
    "plt.imshow(G);"
   ]
  },
  {
   "cell_type": "code",
   "execution_count": 4,
   "id": "d5111b1b-9afc-4d09-8e2b-00cd5f42df22",
   "metadata": {},
   "outputs": [
    {
     "data": {
      "image/png": "[encoded data removed]",
      "text/plain": [
       "<Figure size 432x288 with 1 Axes>"
      ]
     },
     "metadata": {
      "needs_background": "light"
     },
     "output_type": "display_data"
    }
   ],
   "source": [
    "X = np.zeros_like(generate_board())\n",
    "for k in range(10000):\n",
    "    bb = generate_board()\n",
    "    #if not bb: continue\n",
    "    bb[bb<3] = 0\n",
    "    bb[bb>0] = 1\n",
    "    X = X + bb\n",
    "\n",
    "#X[X< 20] = 0\n",
    "plt.imshow(X);"
   ]
  },
  {
   "cell_type": "code",
   "execution_count": 275,
   "id": "79e5a75c-2cad-4ea2-bc75-6632abeb8e6f",
   "metadata": {},
   "outputs": [],
   "source": [
    "X = [[1]*3,[2]*10]"
   ]
  },
  {
   "cell_type": "code",
   "execution_count": 340,
   "id": "7da516b5-38c3-4341-91c0-bcca6c3a59e5",
   "metadata": {},
   "outputs": [
    {
     "data": {
      "text/plain": [
       "['__abs__',\n",
       " '__add__',\n",
       " '__and__',\n",
       " '__bool__',\n",
       " '__ceil__',\n",
       " '__class__',\n",
       " '__delattr__',\n",
       " '__dir__',\n",
       " '__divmod__',\n",
       " '__doc__',\n",
       " '__eq__',\n",
       " '__float__',\n",
       " '__floor__',\n",
       " '__floordiv__',\n",
       " '__format__',\n",
       " '__ge__',\n",
       " '__getattribute__',\n",
       " '__getnewargs__',\n",
       " '__gt__',\n",
       " '__hash__',\n",
       " '__index__',\n",
       " '__init__',\n",
       " '__init_subclass__',\n",
       " '__int__',\n",
       " '__invert__',\n",
       " '__le__',\n",
       " '__lshift__',\n",
       " '__lt__',\n",
       " '__mod__',\n",
       " '__mul__',\n",
       " '__ne__',\n",
       " '__neg__',\n",
       " '__new__',\n",
       " '__or__',\n",
       " '__pos__',\n",
       " '__pow__',\n",
       " '__radd__',\n",
       " '__rand__',\n",
       " '__rdivmod__',\n",
       " '__reduce__',\n",
       " '__reduce_ex__',\n",
       " '__repr__',\n",
       " '__rfloordiv__',\n",
       " '__rlshift__',\n",
       " '__rmod__',\n",
       " '__rmul__',\n",
       " '__ror__',\n",
       " '__round__',\n",
       " '__rpow__',\n",
       " '__rrshift__',\n",
       " '__rshift__',\n",
       " '__rsub__',\n",
       " '__rtruediv__',\n",
       " '__rxor__',\n",
       " '__setattr__',\n",
       " '__sizeof__',\n",
       " '__str__',\n",
       " '__sub__',\n",
       " '__subclasshook__',\n",
       " '__truediv__',\n",
       " '__trunc__',\n",
       " '__xor__',\n",
       " 'as_integer_ratio',\n",
       " 'bit_length',\n",
       " 'conjugate',\n",
       " 'denominator',\n",
       " 'from_bytes',\n",
       " 'imag',\n",
       " 'numerator',\n",
       " 'real',\n",
       " 'to_bytes']"
      ]
     },
     "execution_count": 340,
     "metadata": {},
     "output_type": "execute_result"
    }
   ],
   "source": [
    "dir(1)"
   ]
  },
  {
   "cell_type": "code",
   "execution_count": null,
   "id": "2c12b9c3-e70f-4477-8192-1c7f7a410ae9",
   "metadata": {},
   "outputs": [],
   "source": []
  }
 ],
 "metadata": {
  "kernelspec": {
   "display_name": "Python 3 (ipykernel)",
   "language": "python",
   "name": "python3"
  },
  "language_info": {
   "codemirror_mode": {
    "name": "ipython",
    "version": 3
   },
   "file_extension": ".py",
   "mimetype": "text/x-python",
   "name": "python",
   "nbconvert_exporter": "python",
   "pygments_lexer": "ipython3",
   "version": "3.9.12"
  },
  "widgets": {
   "application/vnd.jupyter.widget-state+json": {
    "state": {},
    "version_major": 2,
    "version_minor": 0
   }
  }
 },
 "nbformat": 4,
 "nbformat_minor": 5
}
