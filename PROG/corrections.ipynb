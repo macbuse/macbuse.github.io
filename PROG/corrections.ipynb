{
 "cells": [
  {
   "cell_type": "markdown",
   "metadata": {},
   "source": [
    "## Exercises\n",
    "\n",
    "- create a list of 3x3 matrices with random integer coefficients\n",
    "- what is the probability that such a matrix is invertible if the coefficients are 0 and 1 ?\n",
    "- use ```np.linalg.eigvals``` to find the biggest eigenvalue for the matrices\n",
    "\n",
    "---\n",
    "\n",
    "- make a [van der monde matrix](https://en.wikipedia.org/wiki/Vandermonde_matrix)\n",
    "with first row a random list of 5 real numbers\n",
    "- calculate its determinant and verify the formula\n",
    "\n"
   ]
  },
  {
   "cell_type": "code",
   "execution_count": 4,
   "metadata": {},
   "outputs": [],
   "source": [
    "import numpy as np\n",
    "from numpy.random import randint"
   ]
  },
  {
   "cell_type": "markdown",
   "metadata": {},
   "source": [
    "#?randint\n",
    "\n",
    "```Docstring:\n",
    "randint(low, high=None, size=None, dtype=int)\n",
    "\n",
    "Return random integers from `low` (inclusive) to `high` (exclusive).\n",
    "\n",
    "Return random integers from the \"discrete uniform\" distribution of\n",
    "the specified dtype in the \"half-open\" interval [`low`, `high`). If\n",
    "`high` is None (the default), then results are from [0, `low`).\n",
    "```\n"
   ]
  },
  {
   "cell_type": "code",
   "execution_count": 7,
   "metadata": {},
   "outputs": [
    {
     "data": {
      "text/plain": [
       "array([1, 1, 1, 1, 0, 1, 1, 1, 0])"
      ]
     },
     "execution_count": 7,
     "metadata": {},
     "output_type": "execute_result"
    }
   ],
   "source": [
    "randint(0,2,9)"
   ]
  },
  {
   "cell_type": "code",
   "execution_count": 8,
   "metadata": {},
   "outputs": [
    {
     "data": {
      "text/plain": [
       "array([[0, 0, 1],\n",
       "       [1, 0, 0],\n",
       "       [1, 1, 1]])"
      ]
     },
     "execution_count": 8,
     "metadata": {},
     "output_type": "execute_result"
    }
   ],
   "source": [
    "randint(0,2,9).reshape(3,3)"
   ]
  },
  {
   "cell_type": "code",
   "execution_count": 9,
   "metadata": {},
   "outputs": [],
   "source": [
    "from numpy.linalg import det"
   ]
  },
  {
   "cell_type": "markdown",
   "metadata": {},
   "source": [
    "# Calculating the probability by simulation\n",
    "\n",
    "this is easiest as it's just one line of code\n",
    "\n",
    "we can calculate it exactly as there are only $2^9 = 512$\n",
    "matrices "
   ]
  },
  {
   "cell_type": "code",
   "execution_count": 12,
   "metadata": {},
   "outputs": [
    {
     "data": {
      "text/plain": [
       "[0.0, 0.0, 1.0, 1.0, 0.0, 0.0, 0.0, -1.0, -1.0, 0.0]"
      ]
     },
     "execution_count": 12,
     "metadata": {},
     "output_type": "execute_result"
    }
   ],
   "source": [
    "[det(randint(0,2,9).reshape(3,3)) for k in range(10)]"
   ]
  },
  {
   "cell_type": "markdown",
   "metadata": {},
   "source": [
    "# This works\n",
    "\n",
    "but you should **never** test for a value of a floating point number\n",
    "\n",
    "``` x == 0.0 ``` is **bad**\n",
    "\n",
    "you should test for being in an interval\n",
    "\n",
    "``` abs(x) < 0.1 ``` is **good**"
   ]
  },
  {
   "cell_type": "code",
   "execution_count": 13,
   "metadata": {},
   "outputs": [
    {
     "data": {
      "text/plain": [
       "6"
      ]
     },
     "execution_count": 13,
     "metadata": {},
     "output_type": "execute_result"
    }
   ],
   "source": [
    "[det(randint(0,2,9).reshape(3,3)) for k in range(10)].count(0.0)"
   ]
  },
  {
   "cell_type": "code",
   "execution_count": 143,
   "metadata": {},
   "outputs": [
    {
     "data": {
      "text/plain": [
       "0.66083"
      ]
     },
     "execution_count": 143,
     "metadata": {},
     "output_type": "execute_result"
    }
   ],
   "source": [
    "\n",
    "num_tries =  10**5\n",
    "X = [ 1 for k in range(num_tries) if abs(det(randint(0,2,9).reshape(3,3))) < 0.5 ]\n",
    "len(X)/num_tries"
   ]
  },
  {
   "cell_type": "code",
   "execution_count": 144,
   "metadata": {},
   "outputs": [
    {
     "name": "stdout",
     "output_type": "stream",
     "text": [
      "249 ms ± 26 ms per loop (mean ± std. dev. of 7 runs, 1 loop each)\n"
     ]
    }
   ],
   "source": [
    "%%timeit\n",
    "\n",
    "num_tries =  10**4\n",
    "X = [ 1 for k in range(num_tries) if abs(det(randint(0,2,9).reshape(3,3))) < 0.5 ]\n",
    "len(X)/num_tries"
   ]
  },
  {
   "cell_type": "markdown",
   "metadata": {},
   "source": [
    "# This....\n",
    "\n",
    "Might be faster (apparentl 4 times) but uses much more memory.\n",
    "The reason is probably because ```reshape``` is called \n",
    "- $10^4$ times in the first solution\n",
    "- once in the second\n",
    "\n",
    "There is an extra **lookup** cost because Python has to find the method ```reshape``` each time.\n",
    "\n",
    "---\n",
    "\n",
    "\n",
    "There are two types of program\n",
    "depending on what the limitations are\n",
    "\n",
    "- processor bound\n",
    "- I/O (memory bound) bound\n",
    "\n",
    "There are tricks to get round these:\n",
    "\n",
    "- When it's processor bound  like parellisation/concurrency.\n",
    "- When it's I/O bound there is caching/memory mapped files.\n",
    "\n",
    "Modern computers have a **lot** of memory and we hardly ever run out of it.\n"
   ]
  },
  {
   "cell_type": "code",
   "execution_count": 117,
   "metadata": {},
   "outputs": [],
   "source": [
    "MM = randint(0,2,9*num_tries).reshape(3,3,-1)"
   ]
  },
  {
   "cell_type": "code",
   "execution_count": 118,
   "metadata": {},
   "outputs": [
    {
     "data": {
      "text/plain": [
       "array([[1, 1, 1],\n",
       "       [1, 0, 0],\n",
       "       [1, 0, 1]])"
      ]
     },
     "execution_count": 118,
     "metadata": {},
     "output_type": "execute_result"
    }
   ],
   "source": [
    "MM[:,:,0]"
   ]
  },
  {
   "cell_type": "code",
   "execution_count": 145,
   "metadata": {},
   "outputs": [
    {
     "name": "stdout",
     "output_type": "stream",
     "text": [
      "65 ms ± 1.5 ms per loop (mean ± std. dev. of 7 runs, 10 loops each)\n"
     ]
    }
   ],
   "source": [
    "%%timeit\n",
    "\n",
    "num_tries =  10**4\n",
    "MM = randint(0,2,9*num_tries).reshape(3,3,-1)\n",
    "X = [ 1 for k in range(num_tries) if abs(det(MM[:,:,k])) < 0.5 ]"
   ]
  },
  {
   "cell_type": "code",
   "execution_count": 125,
   "metadata": {},
   "outputs": [
    {
     "data": {
      "text/plain": [
       "66203"
      ]
     },
     "execution_count": 125,
     "metadata": {},
     "output_type": "execute_result"
    }
   ],
   "source": [
    "len(X)"
   ]
  },
  {
   "cell_type": "code",
   "execution_count": 141,
   "metadata": {},
   "outputs": [
    {
     "data": {
      "text/plain": [
       "100000"
      ]
     },
     "execution_count": 141,
     "metadata": {},
     "output_type": "execute_result"
    }
   ],
   "source": [
    "num_tries"
   ]
  },
  {
   "cell_type": "markdown",
   "metadata": {},
   "source": [
    "---\n",
    "\n",
    "# Calculating the probability exactly\n",
    "\n",
    "we can do this by enumerating all the matrices\n",
    "\n",
    "- this can be done using [recursion](https://realpython.com/python-thinking-recursively/#:~:text=Recursive%20Functions%20in%20Python,-Now%20that%20we&text=A%20recursive%20function%20is%20a,met%20to%20return%20a%20result.)\n",
    "- but I'll do it using loops\n",
    "\n"
   ]
  },
  {
   "cell_type": "markdown",
   "metadata": {},
   "source": [
    "---\n",
    "\n",
    "This was my first attempt at making a list of all the possibilities.\n",
    "\n",
    "It doesn't work because ```L``` is a list of lists \n",
    "so when I try to copy the elements using ```L[:]```\n",
    "- I don't get a **real** copy of the lists \n",
    "- I just get a copy of **references** to the lists\n",
    "\n",
    "[shallow vs deep copy](https://betterprogramming.pub/shallow-copy-vs-deep-copy-in-python-357e5f502bf9?gi=a13c5af07d2a#:~:text=In%20Python%2C%20a%20shallow%20copy,copies%20of%20the%20child%20objects.)"
   ]
  },
  {
   "cell_type": "code",
   "execution_count": 32,
   "metadata": {},
   "outputs": [
    {
     "name": "stdout",
     "output_type": "stream",
     "text": [
      "> [[0], [1]]\n",
      "[[0, 0], [1, 0]]\n",
      "[[0, 0], [1, 0]]\n",
      "> [[0, 0], [1, 0]]\n",
      "[[0, 0, 1], [1, 0, 1]]\n",
      "[[0, 0, 1], [1, 0, 1], [0, 0, 1], [1, 0, 1]]\n"
     ]
    }
   ],
   "source": [
    "L = [[0],[1]]\n",
    "\n",
    "for k in range(1):\n",
    "    M = []\n",
    "    for dd in [0,1]:\n",
    "        tmp = L[:]\n",
    "        print('>',L)\n",
    "        for x in tmp:\n",
    "            x.append(dd)\n",
    "        print(tmp)\n",
    "        M.extend(tmp)\n",
    "        print(M)\n",
    "    L = M\n",
    "        \n",
    "    "
   ]
  },
  {
   "cell_type": "code",
   "execution_count": 33,
   "metadata": {},
   "outputs": [],
   "source": [
    "import copy"
   ]
  },
  {
   "cell_type": "code",
   "execution_count": 35,
   "metadata": {},
   "outputs": [
    {
     "name": "stdout",
     "output_type": "stream",
     "text": [
      "> [[0], [1]]\n",
      "[[0, 0], [1, 0]]\n",
      "[[0, 0], [1, 0]]\n",
      "> [[0], [1]]\n",
      "[[0, 1], [1, 1]]\n",
      "[[0, 0], [1, 0], [0, 1], [1, 1]]\n"
     ]
    }
   ],
   "source": [
    "L = [[0],[1]]\n",
    "\n",
    "for k in range(1):\n",
    "    M = []\n",
    "    for dd in [0,1]:\n",
    "        tmp = copy.deepcopy(L)\n",
    "        print('>',L)\n",
    "        for x in tmp:\n",
    "            x.append(dd)\n",
    "        print(tmp)\n",
    "        M.extend(tmp)\n",
    "        print(M)\n",
    "    L = M\n",
    "        "
   ]
  },
  {
   "cell_type": "code",
   "execution_count": 50,
   "metadata": {},
   "outputs": [],
   "source": [
    "L = [[0],[1]]\n",
    "\n",
    "for k in range(8):\n",
    "    # make a list to hold intermediate results\n",
    "    M = []\n",
    "    # add either 0 or 1 to the lists in L\n",
    "    for dd in [0,1]:\n",
    "        tmp = copy.deepcopy(L)\n",
    "        # tmp = [x[:] for x in L] should work too\n",
    "        for x in tmp:\n",
    "            x.append(dd)\n",
    "        M.extend(tmp)\n",
    "        \n",
    "    L = M\n",
    "        "
   ]
  },
  {
   "cell_type": "markdown",
   "metadata": {},
   "source": [
    "# Doing the same with ndarray\n",
    "\n",
    "It took me a long time to get it to work\n",
    "but it's a good exercise in **slicing**."
   ]
  },
  {
   "cell_type": "code",
   "execution_count": 209,
   "metadata": {},
   "outputs": [],
   "source": [
    "M = np.array([0,1])\n",
    "for k in range(2):\n",
    "    n = 2**(k+1)\n",
    "    tt = np.ones((k+2,2*n))\n",
    "    tt[:-1,n:] = tt[:-1,:n] = M\n",
    "    tt[-1,:n] = 0\n",
    "    M = tt\n",
    "    "
   ]
  },
  {
   "cell_type": "code",
   "execution_count": 254,
   "metadata": {},
   "outputs": [
    {
     "data": {
      "text/plain": [
       "array([[0., 1., 0., 1., 0., 1., 0., 1.],\n",
       "       [0., 0., 1., 1., 0., 0., 1., 1.],\n",
       "       [0., 0., 0., 0., 1., 1., 1., 1.]])"
      ]
     },
     "execution_count": 254,
     "metadata": {},
     "output_type": "execute_result"
    }
   ],
   "source": [
    "N = 3\n",
    "M = np.ones((N,2**N))\n",
    "M[0,0]= 0\n",
    "for k in range(1,N):\n",
    "    nn = 2**k\n",
    "    M[:k,nn:2*nn]  =  M[:k,:nn]\n",
    "    M[k,:nn] = 0\n",
    "    \n",
    "    \n",
    "    \n",
    "M\n"
   ]
  },
  {
   "cell_type": "markdown",
   "metadata": {},
   "source": [
    "\n",
    "---\n",
    "\n",
    "# So here is a trick\n",
    "\n",
    "\n",
    "```[0, 0, 1, 1, 1, 1, 1, 1, 1]```\n",
    "\n",
    "is the represenation of 127 in binary \n",
    "\n",
    "I'll use this to give another solution below"
   ]
  },
  {
   "cell_type": "code",
   "execution_count": 54,
   "metadata": {},
   "outputs": [
    {
     "data": {
      "text/plain": [
       "(512, [0, 0, 1, 1, 1, 1, 1, 1, 1])"
      ]
     },
     "execution_count": 54,
     "metadata": {},
     "output_type": "execute_result"
    }
   ],
   "source": [
    "len(L), [ x for x in reversed(L[127]) ]"
   ]
  },
  {
   "cell_type": "code",
   "execution_count": 56,
   "metadata": {},
   "outputs": [],
   "source": [
    "DD = [ det(np.array(x).reshape(3,3)) for x in L]"
   ]
  },
  {
   "cell_type": "code",
   "execution_count": 59,
   "metadata": {},
   "outputs": [
    {
     "data": {
      "text/plain": [
       "0.66015625"
      ]
     },
     "execution_count": 59,
     "metadata": {},
     "output_type": "execute_result"
    }
   ],
   "source": [
    "len([1 for x in DD if abs(x) < .2])/512"
   ]
  },
  {
   "cell_type": "markdown",
   "metadata": {},
   "source": [
    "---\n",
    "\n",
    "# Using binary expansions\n",
    "\n",
    "Technically this is a **trick**\n",
    "programmers nowdays don't like using tricks \n",
    "with binary expansions or do they\n",
    "\n",
    "Watch this sometime to see [Inverse square root Quake 3](https://youtu.be/p8u_k2LIZyo)\n",
    "\n",
    "\n",
    "There is an easy algorithm that you should know\n",
    "for writing a number $x$ in base $b$.\n",
    "\n",
    "## Exo \n",
    "\n",
    "Modify my function ```f``` to write $x$ in base $5$\n",
    "\n"
   ]
  },
  {
   "cell_type": "code",
   "execution_count": 64,
   "metadata": {},
   "outputs": [],
   "source": [
    "def f(x, N=3):\n",
    "    ```calculate the fixed width binary expansion of x```\n",
    "    L = []\n",
    "    for k in range(N):\n",
    "        L.append(x % 2)\n",
    "        x = x // 2\n",
    "    return L\n",
    "\n",
    "N = 9\n",
    "L = [ f(x,N=N) for x in range(2**N)]\n"
   ]
  },
  {
   "cell_type": "code",
   "execution_count": 65,
   "metadata": {},
   "outputs": [
    {
     "data": {
      "text/plain": [
       "0.66015625"
      ]
     },
     "execution_count": 65,
     "metadata": {},
     "output_type": "execute_result"
    }
   ],
   "source": [
    "DD = [ det(np.array(x).reshape(3,3)) for x in L]\n",
    "len([1 for x in DD if abs(x) < .2])/512"
   ]
  },
  {
   "cell_type": "markdown",
   "metadata": {},
   "source": [
    "# Matrices over  $F_2$\n",
    "\n",
    "\n",
    "We talked about this in class and I said it should be easier \n",
    "**you should be able to check this**.\n",
    "\n",
    "[read this](https://math.stackexchange.com/questions/2155710/number-of-non-singular-matrices-over-a-finite-field-of-order-2)\n",
    "\n",
    "---\n",
    "\n",
    "Here field of order 2 is F2 = Z2 = {0,1}. \n",
    "The result is actually the number of elements in the General Linear Group GL3(F2) or GL3(Z2).\n",
    "\n",
    "To count the number of non-singular matrices of order 3 with 0 and 1 as its elements only, we have to make sure that all the rows are linearly independent and non-zero.\n",
    "\n",
    "For the first row we have (23–1) choices.\n",
    "\n",
    "For the second row we have (23–1)–1 = (23–2) choices. Because we cannot count the vector already has been used in first row.\n",
    "\n",
    "For the third row we have (23–1)–2–1 = (23–22) choices. Because we have to omit 2 vectors from the count that already have been used in first and second row. And we have to omit one more vector that can be the linear combination of the first and second rows.\n"
   ]
  },
  {
   "cell_type": "code",
   "execution_count": 256,
   "metadata": {},
   "outputs": [
    {
     "name": "stdout",
     "output_type": "stream",
     "text": [
      "[master 5128655] web\n",
      " 1 file changed, 9 insertions(+), 5 deletions(-)\n",
      "Counting objects: 4, done.\n",
      "Delta compression using up to 12 threads.\n",
      "Compressing objects: 100% (4/4), done.\n",
      "Writing objects: 100% (4/4), 458 bytes | 458.00 KiB/s, done.\n",
      "Total 4 (delta 3), reused 0 (delta 0)\n",
      "remote: Resolving deltas: 100% (3/3), completed with 3 local objects.\u001b[K\n",
      "To https://github.com/macbuse/macbuse.github.io.git\n",
      "   608aa35..5128655  master -> master\n"
     ]
    }
   ],
   "source": [
    "! ../.g"
   ]
  },
  {
   "cell_type": "markdown",
   "metadata": {},
   "source": [
    "---\n",
    "\n",
    "# Vandermonde\n",
    "\n",
    "## I'm not doing it with random numbers \n",
    "\n",
    "- because I wanted to be sure the code worked\n",
    "- you can (very easily)  change the code to make it work for **random** numbers"
   ]
  },
  {
   "cell_type": "code",
   "execution_count": 129,
   "metadata": {},
   "outputs": [],
   "source": [
    "num_pts = 5\n",
    "\n",
    "#X = np.random.random(num_pts)\n",
    "X = np.arange(1,num_pts+1)\n",
    "V = np.ones((num_pts,num_pts))"
   ]
  },
  {
   "cell_type": "code",
   "execution_count": 79,
   "metadata": {},
   "outputs": [
    {
     "data": {
      "text/plain": [
       "array([[1., 1., 1., 1., 1.],\n",
       "       [1., 1., 1., 1., 1.],\n",
       "       [1., 1., 1., 1., 1.],\n",
       "       [1., 1., 1., 1., 1.],\n",
       "       [1., 1., 1., 1., 1.]])"
      ]
     },
     "execution_count": 79,
     "metadata": {},
     "output_type": "execute_result"
    }
   ],
   "source": [
    "V"
   ]
  },
  {
   "cell_type": "markdown",
   "metadata": {},
   "source": [
    "you can do it like this"
   ]
  },
  {
   "cell_type": "code",
   "execution_count": 84,
   "metadata": {},
   "outputs": [
    {
     "data": {
      "text/plain": [
       "array([[  1.,   1.,   1.,   1.,   1.],\n",
       "       [  1.,   2.,   3.,   4.,   5.],\n",
       "       [  1.,   4.,   9.,  16.,  25.],\n",
       "       [  1.,   8.,  27.,  64., 125.],\n",
       "       [  1.,  16.,  81., 256., 625.]])"
      ]
     },
     "execution_count": 84,
     "metadata": {},
     "output_type": "execute_result"
    }
   ],
   "source": [
    "for k in range(1,num_pts):\n",
    "    V[k] = X**k\n",
    "V"
   ]
  },
  {
   "cell_type": "markdown",
   "metadata": {},
   "source": [
    "or like this which might be slightly cheaper computationally"
   ]
  },
  {
   "cell_type": "code",
   "execution_count": 130,
   "metadata": {},
   "outputs": [
    {
     "data": {
      "text/plain": [
       "array([[  1.,   1.,   1.,   1.,   1.],\n",
       "       [  1.,   2.,   3.,   4.,   5.],\n",
       "       [  1.,   4.,   9.,  16.,  25.],\n",
       "       [  1.,   8.,  27.,  64., 125.],\n",
       "       [  1.,  16.,  81., 256., 625.]])"
      ]
     },
     "execution_count": 130,
     "metadata": {},
     "output_type": "execute_result"
    }
   ],
   "source": [
    "V[1] = X\n",
    "for k in range(2,5):\n",
    "    V[k] = V[k-1]*X\n",
    "V"
   ]
  },
  {
   "cell_type": "markdown",
   "metadata": {},
   "source": [
    "---\n",
    "\n",
    "# Verifying the formula\n",
    "\n",
    "$\\det(V) = \\prod (x_i - x_j)$\n",
    "\n",
    "- we need all the differences $x_i - x_j$\n",
    "\n",
    "- it's actually easier to make an anti symmetric matrix $a_{i,j}$ with\n",
    "$a_{ij} = x_i - x_j$"
   ]
  },
  {
   "cell_type": "code",
   "execution_count": 131,
   "metadata": {},
   "outputs": [],
   "source": [
    "D = np.ones((num_pts,num_pts))\n",
    "for k in range(num_pts):\n",
    "    # make a row\n",
    "    D[k] = X - X[k]"
   ]
  },
  {
   "cell_type": "code",
   "execution_count": 132,
   "metadata": {},
   "outputs": [
    {
     "data": {
      "text/plain": [
       "array([[ 0.,  1.,  2.,  3.,  4.],\n",
       "       [-1.,  0.,  1.,  2.,  3.],\n",
       "       [-2., -1.,  0.,  1.,  2.],\n",
       "       [-3., -2., -1.,  0.,  1.],\n",
       "       [-4., -3., -2., -1.,  0.]])"
      ]
     },
     "execution_count": 132,
     "metadata": {},
     "output_type": "execute_result"
    }
   ],
   "source": [
    "D"
   ]
  },
  {
   "cell_type": "code",
   "execution_count": 101,
   "metadata": {},
   "outputs": [
    {
     "data": {
      "text/plain": [
       "[array([1., 2., 3., 4.]), array([1., 2., 3.]), array([1., 2.]), array([1.])]"
      ]
     },
     "execution_count": 101,
     "metadata": {},
     "output_type": "execute_result"
    }
   ],
   "source": [
    "upper = [D[i,i+1:] for i in range(num_pts-1)]\n",
    "upper "
   ]
  },
  {
   "cell_type": "markdown",
   "metadata": {},
   "source": [
    "?numpy.prod\n",
    "\n",
    "Signature:\n",
    "numpy.prod(\n",
    "    a,\n",
    "    axis=None,\n",
    "    dtype=None,\n",
    "    out=None,\n",
    "    keepdims=<no value>,\n",
    "    initial=<no value>,\n",
    "    where=<no value>,\n",
    ")\n",
    "Docstring:\n",
    "Return the product of array elements over a given axis."
   ]
  },
  {
   "cell_type": "code",
   "execution_count": 102,
   "metadata": {},
   "outputs": [
    {
     "data": {
      "text/plain": [
       "[24.0, 6.0, 2.0, 1.0]"
      ]
     },
     "execution_count": 102,
     "metadata": {},
     "output_type": "execute_result"
    }
   ],
   "source": [
    "[ np.prod(x) for x in upper]"
   ]
  },
  {
   "cell_type": "code",
   "execution_count": 103,
   "metadata": {},
   "outputs": [
    {
     "data": {
      "text/plain": [
       "288.0"
      ]
     },
     "execution_count": 103,
     "metadata": {},
     "output_type": "execute_result"
    }
   ],
   "source": [
    "np.prod([ np.prod(x) for x in upper])"
   ]
  },
  {
   "cell_type": "code",
   "execution_count": 105,
   "metadata": {},
   "outputs": [
    {
     "data": {
      "text/plain": [
       "-287.9999999999967"
      ]
     },
     "execution_count": 105,
     "metadata": {},
     "output_type": "execute_result"
    }
   ],
   "source": [
    "np.linalg.det(V)"
   ]
  },
  {
   "cell_type": "markdown",
   "metadata": {},
   "source": [
    " you should be able to fix the sign "
   ]
  },
  {
   "cell_type": "markdown",
   "metadata": {},
   "source": [
    "---\n",
    "\n",
    "# That's all folks"
   ]
  },
  {
   "cell_type": "code",
   "execution_count": null,
   "metadata": {},
   "outputs": [],
   "source": []
  }
 ],
 "metadata": {
  "kernelspec": {
   "display_name": "Python 3",
   "language": "python",
   "name": "python3"
  },
  "language_info": {
   "codemirror_mode": {
    "name": "ipython",
    "version": 3
   },
   "file_extension": ".py",
   "mimetype": "text/x-python",
   "name": "python",
   "nbconvert_exporter": "python",
   "pygments_lexer": "ipython3",
   "version": "3.8.3"
  }
 },
 "nbformat": 4,
 "nbformat_minor": 4
}
