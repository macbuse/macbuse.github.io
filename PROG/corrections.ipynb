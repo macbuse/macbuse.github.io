{
 "cells": [
  {
   "cell_type": "markdown",
   "metadata": {},
   "source": [
    "## Exercises\n",
    "\n",
    "- create a list of 3x3 matrices with random integer coefficients\n",
    "- what is the probability that such a matrix is invertible if the coefficients are 0 and 1 ?\n",
    "- use ```np.linalg.eigvals``` to find the biggest eigenvalue for the matrices\n",
    "\n",
    "---\n",
    "\n",
    "- make a [van der monde matrix](https://en.wikipedia.org/wiki/Vandermonde_matrix)\n",
    "with first row a random list of 5 real numbers\n",
    "- calculate its determinant and verify the formula\n",
    "\n"
   ]
  },
  {
   "cell_type": "code",
   "execution_count": 4,
   "metadata": {},
   "outputs": [],
   "source": [
    "import numpy as np\n",
    "from numpy.random import randint"
   ]
  },
  {
   "cell_type": "markdown",
   "metadata": {},
   "source": [
    "#?randint\n",
    "\n",
    "```Docstring:\n",
    "randint(low, high=None, size=None, dtype=int)\n",
    "\n",
    "Return random integers from `low` (inclusive) to `high` (exclusive).\n",
    "\n",
    "Return random integers from the \"discrete uniform\" distribution of\n",
    "the specified dtype in the \"half-open\" interval [`low`, `high`). If\n",
    "`high` is None (the default), then results are from [0, `low`).\n",
    "```\n"
   ]
  },
  {
   "cell_type": "code",
   "execution_count": 7,
   "metadata": {},
   "outputs": [
    {
     "data": {
      "text/plain": [
       "array([1, 1, 1, 1, 0, 1, 1, 1, 0])"
      ]
     },
     "execution_count": 7,
     "metadata": {},
     "output_type": "execute_result"
    }
   ],
   "source": [
    "randint(0,2,9)"
   ]
  },
  {
   "cell_type": "code",
   "execution_count": 8,
   "metadata": {},
   "outputs": [
    {
     "data": {
      "text/plain": [
       "array([[0, 0, 1],\n",
       "       [1, 0, 0],\n",
       "       [1, 1, 1]])"
      ]
     },
     "execution_count": 8,
     "metadata": {},
     "output_type": "execute_result"
    }
   ],
   "source": [
    "randint(0,2,9).reshape(3,3)"
   ]
  },
  {
   "cell_type": "code",
   "execution_count": 9,
   "metadata": {},
   "outputs": [],
   "source": [
    "from numpy.linalg import det"
   ]
  },
  {
   "cell_type": "markdown",
   "metadata": {},
   "source": [
    "# Calculating the probability by simulation\n",
    "\n",
    "this is easiest as it's just one line of code\n",
    "\n",
    "we can calculate it exactly as there are only $2^9 = 512$\n",
    "matrices "
   ]
  },
  {
   "cell_type": "code",
   "execution_count": 12,
   "metadata": {},
   "outputs": [
    {
     "data": {
      "text/plain": [
       "[0.0, 0.0, 1.0, 1.0, 0.0, 0.0, 0.0, -1.0, -1.0, 0.0]"
      ]
     },
     "execution_count": 12,
     "metadata": {},
     "output_type": "execute_result"
    }
   ],
   "source": [
    "[det(randint(0,2,9).reshape(3,3)) for k in range(10)]"
   ]
  },
  {
   "cell_type": "markdown",
   "metadata": {},
   "source": [
    "# This works\n",
    "\n",
    "but you should **never** test for a value of a floating point number\n",
    "\n",
    "``` x == 0.0 ``` is **bad**\n",
    "\n",
    "you should test for being in an interval\n",
    "\n",
    "``` abs(x) < 0.1 ``` is **good**"
   ]
  },
  {
   "cell_type": "code",
   "execution_count": 13,
   "metadata": {},
   "outputs": [
    {
     "data": {
      "text/plain": [
       "6"
      ]
     },
     "execution_count": 13,
     "metadata": {},
     "output_type": "execute_result"
    }
   ],
   "source": [
    "[det(randint(0,2,9).reshape(3,3)) for k in range(10)].count(0.0)"
   ]
  },
  {
   "cell_type": "code",
   "execution_count": 18,
   "metadata": {},
   "outputs": [
    {
     "data": {
      "text/plain": [
       "0.65956"
      ]
     },
     "execution_count": 18,
     "metadata": {},
     "output_type": "execute_result"
    }
   ],
   "source": [
    "num_tries =  10**5\n",
    "X = [ 1 for k in range(num_tries) if abs(det(randint(0,2,9).reshape(3,3))) < 0.5 ]\n",
    "len(X)/num_tries"
   ]
  },
  {
   "cell_type": "markdown",
   "metadata": {},
   "source": [
    "# Calculating the probability exactly\n",
    "\n",
    "we can do this by enumerating all the matrices\n",
    "\n",
    "- this can be done using [recursion](https://realpython.com/python-thinking-recursively/#:~:text=Recursive%20Functions%20in%20Python,-Now%20that%20we&text=A%20recursive%20function%20is%20a,met%20to%20return%20a%20result.)\n",
    "- but I'll do it using loops\n",
    "\n"
   ]
  },
  {
   "cell_type": "markdown",
   "metadata": {},
   "source": [
    "---\n",
    "\n",
    "this was my first attempt at making a list of all the possibilities\n",
    "\n",
    "it doesn't work because ```L``` is a list of lists \n",
    "so when I try to copy the elements using ```L[:]```\n",
    "- I don't get a **real** copy of the lists \n",
    "- I just get a copy of **references** to the lists\n",
    "\n",
    "[shallow vs deep copy](https://betterprogramming.pub/shallow-copy-vs-deep-copy-in-python-357e5f502bf9?gi=a13c5af07d2a#:~:text=In%20Python%2C%20a%20shallow%20copy,copies%20of%20the%20child%20objects.)"
   ]
  },
  {
   "cell_type": "code",
   "execution_count": 32,
   "metadata": {},
   "outputs": [
    {
     "name": "stdout",
     "output_type": "stream",
     "text": [
      "> [[0], [1]]\n",
      "[[0, 0], [1, 0]]\n",
      "[[0, 0], [1, 0]]\n",
      "> [[0, 0], [1, 0]]\n",
      "[[0, 0, 1], [1, 0, 1]]\n",
      "[[0, 0, 1], [1, 0, 1], [0, 0, 1], [1, 0, 1]]\n"
     ]
    }
   ],
   "source": [
    "L = [[0],[1]]\n",
    "\n",
    "for k in range(1):\n",
    "    M = []\n",
    "    for dd in [0,1]:\n",
    "        tmp = L[:]\n",
    "        print('>',L)\n",
    "        for x in tmp:\n",
    "            x.append(dd)\n",
    "        print(tmp)\n",
    "        M.extend(tmp)\n",
    "        print(M)\n",
    "    L = M\n",
    "        \n",
    "    "
   ]
  },
  {
   "cell_type": "code",
   "execution_count": 33,
   "metadata": {},
   "outputs": [],
   "source": [
    "import copy"
   ]
  },
  {
   "cell_type": "code",
   "execution_count": 35,
   "metadata": {},
   "outputs": [
    {
     "name": "stdout",
     "output_type": "stream",
     "text": [
      "> [[0], [1]]\n",
      "[[0, 0], [1, 0]]\n",
      "[[0, 0], [1, 0]]\n",
      "> [[0], [1]]\n",
      "[[0, 1], [1, 1]]\n",
      "[[0, 0], [1, 0], [0, 1], [1, 1]]\n"
     ]
    }
   ],
   "source": [
    "L = [[0],[1]]\n",
    "\n",
    "for k in range(1):\n",
    "    M = []\n",
    "    for dd in [0,1]:\n",
    "        tmp = copy.deepcopy(L)\n",
    "        print('>',L)\n",
    "        for x in tmp:\n",
    "            x.append(dd)\n",
    "        print(tmp)\n",
    "        M.extend(tmp)\n",
    "        print(M)\n",
    "    L = M\n",
    "        "
   ]
  },
  {
   "cell_type": "code",
   "execution_count": 50,
   "metadata": {},
   "outputs": [],
   "source": [
    "L = [[0],[1]]\n",
    "\n",
    "for k in range(8):\n",
    "    M = []\n",
    "    # add either 0 or 1 to \n",
    "    for dd in [0,1]:\n",
    "        tmp = copy.deepcopy(L)\n",
    "        for x in tmp:\n",
    "            x.append(dd)\n",
    "        M.extend(tmp)\n",
    "        \n",
    "    L = M\n",
    "        "
   ]
  },
  {
   "cell_type": "markdown",
   "metadata": {},
   "source": [
    "```[0, 0, 1, 1, 1, 1, 1, 1, 1]```\n",
    "\n",
    "should be the represenation of 127 in binary \n",
    "\n",
    "I'll use this to give another solution below"
   ]
  },
  {
   "cell_type": "code",
   "execution_count": 54,
   "metadata": {},
   "outputs": [
    {
     "data": {
      "text/plain": [
       "(512, [0, 0, 1, 1, 1, 1, 1, 1, 1])"
      ]
     },
     "execution_count": 54,
     "metadata": {},
     "output_type": "execute_result"
    }
   ],
   "source": [
    "len(L), [ x for x in reversed(L[127]) ]"
   ]
  },
  {
   "cell_type": "code",
   "execution_count": 56,
   "metadata": {},
   "outputs": [],
   "source": [
    "DD = [ det(np.array(x).reshape(3,3)) for x in L]"
   ]
  },
  {
   "cell_type": "code",
   "execution_count": 59,
   "metadata": {},
   "outputs": [
    {
     "data": {
      "text/plain": [
       "0.66015625"
      ]
     },
     "execution_count": 59,
     "metadata": {},
     "output_type": "execute_result"
    }
   ],
   "source": [
    "len([1 for x in DD if abs(x) < .2])/512"
   ]
  },
  {
   "cell_type": "markdown",
   "metadata": {},
   "source": [
    "# Using binary expansions\n",
    "\n",
    "There is an easy algorithm that you should know\n",
    "for writing a number $x$ in base $b$\n",
    "\n",
    "## Exo \n",
    "\n",
    "Modify my function ```f``` to write $x$ in base $5$\n",
    "\n"
   ]
  },
  {
   "cell_type": "code",
   "execution_count": 64,
   "metadata": {},
   "outputs": [],
   "source": [
    "def f(x, N=3):\n",
    "    ```calculate the fixed width binary expansion of x```\n",
    "    L = []\n",
    "    for k in range(N):\n",
    "        L.append(x % 2)\n",
    "        x = x // 2\n",
    "    return L\n",
    "\n",
    "N = 9\n",
    "L = [ f(x,N=N) for x in range(2**N)]\n"
   ]
  },
  {
   "cell_type": "code",
   "execution_count": 65,
   "metadata": {},
   "outputs": [
    {
     "data": {
      "text/plain": [
       "0.66015625"
      ]
     },
     "execution_count": 65,
     "metadata": {},
     "output_type": "execute_result"
    }
   ],
   "source": [
    "DD = [ det(np.array(x).reshape(3,3)) for x in L]\n",
    "len([1 for x in DD if abs(x) < .2])/512"
   ]
  },
  {
   "cell_type": "code",
   "execution_count": null,
   "metadata": {},
   "outputs": [],
   "source": []
  }
 ],
 "metadata": {
  "kernelspec": {
   "display_name": "Python 3",
   "language": "python",
   "name": "python3"
  },
  "language_info": {
   "codemirror_mode": {
    "name": "ipython",
    "version": 3
   },
   "file_extension": ".py",
   "mimetype": "text/x-python",
   "name": "python",
   "nbconvert_exporter": "python",
   "pygments_lexer": "ipython3",
   "version": "3.8.3"
  }
 },
 "nbformat": 4,
 "nbformat_minor": 4
}
