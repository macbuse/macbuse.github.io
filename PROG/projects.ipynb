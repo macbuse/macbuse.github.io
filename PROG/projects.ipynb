{
 "cells": [
  {
   "cell_type": "code",
   "execution_count": null,
   "metadata": {},
   "outputs": [],
   "source": []
  },
  {
   "cell_type": "markdown",
   "metadata": {},
   "source": [
    "# Notes sur le choix des projets\n",
    "\n",
    "\n",
    "\n",
    "- Algorithmes de base sur les graphes (déterminer la connexité, trouver un plus court chemin entre deux points, trouver un arbre couvrant, déterminer la planarité, trouver des chemins eulériens, hamiltoniens)\n",
    "- Pavages du plan euclidien ou la sphère d'apres Escher.\n",
    "- Chemins dans un labyrinthe, Algorithme de Dijsktra\n",
    "- Google Page Rank (exemples simples, puis extraire données réelles)\n",
    "- Sudoku (résolution d’une grille, constructeur de grilles avec solution unique, estimer la difficulté d’une grille)\n",
    "- Game of Life\n",
    "- Statistiques\n",
    "- Chatbot/TTS\n",
    "\n",
    "---"
   ]
  },
  {
   "cell_type": "markdown",
   "metadata": {},
   "source": [
    "## Algorithmes de base sur les graphes \n",
    "\n",
    "- déterminer la connexité\n",
    "- trouver un plus court chemin entre deux points\n",
    "- trouver un arbre couvrant\n",
    "- déterminer la planarité\n",
    "- trouver des chemins eulériens, hamiltoniens\n",
    "\n",
    "Sans commentaire"
   ]
  },
  {
   "cell_type": "markdown",
   "metadata": {},
   "source": [
    "## Chemins dans un labyrinthe, Algorithme de Dijsktra\n",
    "\n",
    "This could be interesting especially if I am allowed to do a hand drawn maze.\n",
    "\n",
    "[example](https://py.checkio.org/en/mission/open-labyrinth/share/574bd1ded68c9705c5d6f07c6206be12/)\n",
    "\n"
   ]
  },
  {
   "cell_type": "markdown",
   "metadata": {},
   "source": [
    "## Google Page Rank (exemples simples, puis extraire données réelles)\n",
    "\n",
    "We already looked at this. \n",
    "- you can adapt the code and explain the algorithms.\n",
    "- explain [Google bombing](https://en.wikipedia.org/wiki/Google_bombing)\n",
    "\n"
   ]
  },
  {
   "cell_type": "markdown",
   "metadata": {},
   "source": [
    "## Sudoku (résolution d’une grille, constructeur de grilles avec solution unique, estimer la difficulté d’une grille)\n",
    "\n",
    "This is easy and you can find the code to do it on GitHub (I did).\n",
    "But what if it's in a jpg\n",
    "- automatically download it\n",
    "- recognise the digits\n",
    "- return the answer as a jpg with my handwriting\n",
    "\n",
    "![img](https://i.guim.co.uk/img/media/afb3cce92ed2a244bb8ff1774148d8c8fb002d0c/0_0_431_431/master/431.jpg?width=445&quality=45&auto=format&fit=max&dpr=2&s=0fdb5022b7c4944396143063fb3b43dd)\n"
   ]
  },
  {
   "cell_type": "markdown",
   "metadata": {},
   "source": [
    "## Game of life\n",
    "\n",
    "- add an interface using [PyGame](https://www.pygame.org/news)\n",
    "- estimate the probability that starting from a random configuration we get a glider"
   ]
  },
  {
   "cell_type": "markdown",
   "metadata": {},
   "source": [
    "## Face morphing\n",
    "\n",
    "This is a standard thing to do [they did](https://ccrma.stanford.edu/~jacobliu/368Report/index.html).\n",
    "There is a [module](https://pypi.org/project/facemorpher/) to do this\n",
    "which uses - domaines de Voronoi.\n",
    "\n",
    "\n",
    "- make an Andy Warhol painting morphing one face to another\n",
    "- make a program to make caricatures\n",
    "\n",
    "![img](https://ccrma.stanford.edu/~jacobliu/368Report/warped_ally.jpg)\n",
    "\n"
   ]
  },
  {
   "cell_type": "code",
   "execution_count": 6,
   "metadata": {},
   "outputs": [
    {
     "name": "stdout",
     "output_type": "stream",
     "text": [
      "[master c629fd4] web\n",
      " 2 files changed, 141 insertions(+), 9 deletions(-)\n",
      "Counting objects: 5, done.\n",
      "Delta compression using up to 12 threads.\n",
      "Compressing objects: 100% (5/5), done.\n",
      "Writing objects: 100% (5/5), 1.95 KiB | 1.95 MiB/s, done.\n",
      "Total 5 (delta 3), reused 0 (delta 0)\n",
      "remote: Resolving deltas: 100% (3/3), completed with 3 local objects.\u001b[K\n",
      "To https://github.com/macbuse/macbuse.github.io.git\n",
      "   cc8a9db..c629fd4  master -> master\n"
     ]
    }
   ],
   "source": [
    "! ../.g\n"
   ]
  },
  {
   "cell_type": "code",
   "execution_count": null,
   "metadata": {},
   "outputs": [],
   "source": []
  }
 ],
 "metadata": {
  "kernelspec": {
   "display_name": "NLP",
   "language": "python",
   "name": "nlp"
  },
  "language_info": {
   "codemirror_mode": {
    "name": "ipython",
    "version": 3
   },
   "file_extension": ".py",
   "mimetype": "text/x-python",
   "name": "python",
   "nbconvert_exporter": "python",
   "pygments_lexer": "ipython3",
   "version": "3.8.5"
  }
 },
 "nbformat": 4,
 "nbformat_minor": 4
}
