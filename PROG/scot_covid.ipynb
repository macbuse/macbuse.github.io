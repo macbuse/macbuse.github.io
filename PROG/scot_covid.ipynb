{
 "cells": [
  {
   "cell_type": "code",
   "execution_count": 1,
   "metadata": {},
   "outputs": [],
   "source": [
    "import requests\n",
    "import pandas as pd\n",
    "import numpy as np\n",
    "import matplotlib.pyplot as plt"
   ]
  },
  {
   "cell_type": "code",
   "execution_count": 3,
   "metadata": {},
   "outputs": [],
   "source": [
    "\n",
    "root = 'https://raw.githubusercontent.com/'\n",
    "repo =  'DataScienceScotland/COVID-19-Management-Information/master/'\n",
    "\n",
    "targets = ['COVID19%20-%20Daily%20Management%20Information%20-%20Scotland%20-%20Deaths.csv',\n",
    "           'COVID19%20-%20Daily%20Management%20Information%20-%20Scotland%20-%20Hospital%20care.csv',\n",
    "           'COVID19%20-%20Daily%20Management%20Information%20-%20Scotland%20-%20Testing.csv'\n",
    "          ]\n",
    "\n",
    "\n",
    "fns = [x.split('%20')[-1].lower() for x in targets]\n",
    "\n",
    "\n",
    "for tgt, fn in zip(targets, fns):\n",
    "    r = requests.get(root + repo + tgt, \n",
    "                     allow_redirects=True)\n",
    "\n",
    "    with open(fn, 'wb') as fp:\n",
    "        fp.write(r.content)\n"
   ]
  },
  {
   "cell_type": "code",
   "execution_count": 3,
   "metadata": {},
   "outputs": [
    {
     "name": "stdout",
     "output_type": "stream",
     "text": [
      "https://raw.githubusercontent.com//DataScienceScotland/COVID-19-Management-Information/master/\n"
     ]
    }
   ],
   "source": [
    "print(root + '/' + repo)"
   ]
  },
  {
   "cell_type": "code",
   "execution_count": 4,
   "metadata": {},
   "outputs": [
    {
     "name": "stdout",
     "output_type": "stream",
     "text": [
      "dict_keys(['deaths', 'care', 'testing'])\n"
     ]
    }
   ],
   "source": [
    "data = {fn[:-4] : pd.read_csv(fn) for fn in fns}\n",
    "print(data.keys())"
   ]
  },
  {
   "cell_type": "code",
   "execution_count": 5,
   "metadata": {},
   "outputs": [
    {
     "data": {
      "text/html": [
       "<div>\n",
       "<style scoped>\n",
       "    .dataframe tbody tr th:only-of-type {\n",
       "        vertical-align: middle;\n",
       "    }\n",
       "\n",
       "    .dataframe tbody tr th {\n",
       "        vertical-align: top;\n",
       "    }\n",
       "\n",
       "    .dataframe thead th {\n",
       "        text-align: right;\n",
       "    }\n",
       "</style>\n",
       "<table border=\"1\" class=\"dataframe\">\n",
       "  <thead>\n",
       "    <tr style=\"text-align: right;\">\n",
       "      <th></th>\n",
       "      <th>Date</th>\n",
       "      <th>Testing - Cumulative people tested for COVID-19 - Negative</th>\n",
       "      <th>Testing - Cumulative people tested for COVID-19 - Positive</th>\n",
       "      <th>Testing - Cumulative people tested for COVID-19 - Total</th>\n",
       "      <th>Testing - New cases reported</th>\n",
       "      <th>Testing - New cases as percentage of people newly tested</th>\n",
       "      <th>Testing - Total number of COVID-19 tests reported by NHS Labs - Daily</th>\n",
       "      <th>Testing - Total number of COVID-19 tests reported by NHS Labs - Cumulative</th>\n",
       "      <th>Testing - Total number of COVID-19 tests reported by UK Gov testing programme - Daily</th>\n",
       "      <th>Testing - Total number of COVID-19 tests reported by UK Gov testing programme - Cumulative</th>\n",
       "      <th>Testing - Total daily tests reported</th>\n",
       "      <th>Testing - Total daily number of positive tests reported</th>\n",
       "      <th>Testing - Test positivity (percent of tests that are positive)</th>\n",
       "      <th>Testing - People with first test results in last 7 days</th>\n",
       "      <th>Testing - Positive cases reported in last 7 days</th>\n",
       "      <th>Testing - Tests reported in last 7 days</th>\n",
       "      <th>Testing - Positive tests reported in last 7 days</th>\n",
       "      <th>Testing - Test positivity rate in last 7 days</th>\n",
       "      <th>Testing - Tests in last 7 days per 1000 population</th>\n",
       "    </tr>\n",
       "  </thead>\n",
       "  <tbody>\n",
       "    <tr>\n",
       "      <th>0</th>\n",
       "      <td>2020-03-02</td>\n",
       "      <td>814</td>\n",
       "      <td>1</td>\n",
       "      <td>815</td>\n",
       "      <td>1</td>\n",
       "      <td>NaN</td>\n",
       "      <td>NaN</td>\n",
       "      <td>NaN</td>\n",
       "      <td>NaN</td>\n",
       "      <td>NaN</td>\n",
       "      <td>NaN</td>\n",
       "      <td>NaN</td>\n",
       "      <td>NaN</td>\n",
       "      <td>NaN</td>\n",
       "      <td>NaN</td>\n",
       "      <td>NaN</td>\n",
       "      <td>NaN</td>\n",
       "      <td>NaN</td>\n",
       "      <td>NaN</td>\n",
       "    </tr>\n",
       "    <tr>\n",
       "      <th>1</th>\n",
       "      <td>2020-03-03</td>\n",
       "      <td>914</td>\n",
       "      <td>1</td>\n",
       "      <td>915</td>\n",
       "      <td>0</td>\n",
       "      <td>0.000000</td>\n",
       "      <td>NaN</td>\n",
       "      <td>NaN</td>\n",
       "      <td>NaN</td>\n",
       "      <td>NaN</td>\n",
       "      <td>NaN</td>\n",
       "      <td>NaN</td>\n",
       "      <td>NaN</td>\n",
       "      <td>NaN</td>\n",
       "      <td>NaN</td>\n",
       "      <td>NaN</td>\n",
       "      <td>NaN</td>\n",
       "      <td>NaN</td>\n",
       "      <td>NaN</td>\n",
       "    </tr>\n",
       "    <tr>\n",
       "      <th>2</th>\n",
       "      <td>2020-03-04</td>\n",
       "      <td>1043</td>\n",
       "      <td>3</td>\n",
       "      <td>1046</td>\n",
       "      <td>2</td>\n",
       "      <td>0.015267</td>\n",
       "      <td>NaN</td>\n",
       "      <td>NaN</td>\n",
       "      <td>NaN</td>\n",
       "      <td>NaN</td>\n",
       "      <td>NaN</td>\n",
       "      <td>NaN</td>\n",
       "      <td>NaN</td>\n",
       "      <td>NaN</td>\n",
       "      <td>NaN</td>\n",
       "      <td>NaN</td>\n",
       "      <td>NaN</td>\n",
       "      <td>NaN</td>\n",
       "      <td>NaN</td>\n",
       "    </tr>\n",
       "    <tr>\n",
       "      <th>3</th>\n",
       "      <td>2020-03-05</td>\n",
       "      <td>1250</td>\n",
       "      <td>6</td>\n",
       "      <td>1256</td>\n",
       "      <td>3</td>\n",
       "      <td>0.014286</td>\n",
       "      <td>NaN</td>\n",
       "      <td>NaN</td>\n",
       "      <td>NaN</td>\n",
       "      <td>NaN</td>\n",
       "      <td>NaN</td>\n",
       "      <td>NaN</td>\n",
       "      <td>NaN</td>\n",
       "      <td>NaN</td>\n",
       "      <td>NaN</td>\n",
       "      <td>NaN</td>\n",
       "      <td>NaN</td>\n",
       "      <td>NaN</td>\n",
       "      <td>NaN</td>\n",
       "    </tr>\n",
       "    <tr>\n",
       "      <th>4</th>\n",
       "      <td>2020-03-06</td>\n",
       "      <td>1514</td>\n",
       "      <td>11</td>\n",
       "      <td>1525</td>\n",
       "      <td>5</td>\n",
       "      <td>0.018587</td>\n",
       "      <td>NaN</td>\n",
       "      <td>NaN</td>\n",
       "      <td>NaN</td>\n",
       "      <td>NaN</td>\n",
       "      <td>NaN</td>\n",
       "      <td>NaN</td>\n",
       "      <td>NaN</td>\n",
       "      <td>NaN</td>\n",
       "      <td>NaN</td>\n",
       "      <td>NaN</td>\n",
       "      <td>NaN</td>\n",
       "      <td>NaN</td>\n",
       "      <td>NaN</td>\n",
       "    </tr>\n",
       "  </tbody>\n",
       "</table>\n",
       "</div>"
      ],
      "text/plain": [
       "         Date  Testing - Cumulative people tested for COVID-19 - Negative  \\\n",
       "0  2020-03-02                                                814            \n",
       "1  2020-03-03                                                914            \n",
       "2  2020-03-04                                               1043            \n",
       "3  2020-03-05                                               1250            \n",
       "4  2020-03-06                                               1514            \n",
       "\n",
       "   Testing - Cumulative people tested for COVID-19 - Positive  \\\n",
       "0                                                  1            \n",
       "1                                                  1            \n",
       "2                                                  3            \n",
       "3                                                  6            \n",
       "4                                                 11            \n",
       "\n",
       "   Testing - Cumulative people tested for COVID-19 - Total  \\\n",
       "0                                                815         \n",
       "1                                                915         \n",
       "2                                               1046         \n",
       "3                                               1256         \n",
       "4                                               1525         \n",
       "\n",
       "   Testing - New cases reported  \\\n",
       "0                             1   \n",
       "1                             0   \n",
       "2                             2   \n",
       "3                             3   \n",
       "4                             5   \n",
       "\n",
       "   Testing - New cases as percentage of people newly tested  \\\n",
       "0                                                NaN          \n",
       "1                                           0.000000          \n",
       "2                                           0.015267          \n",
       "3                                           0.014286          \n",
       "4                                           0.018587          \n",
       "\n",
       "   Testing - Total number of COVID-19 tests reported by NHS Labs - Daily  \\\n",
       "0                                                NaN                       \n",
       "1                                                NaN                       \n",
       "2                                                NaN                       \n",
       "3                                                NaN                       \n",
       "4                                                NaN                       \n",
       "\n",
       "   Testing - Total number of COVID-19 tests reported by NHS Labs - Cumulative  \\\n",
       "0                                                NaN                            \n",
       "1                                                NaN                            \n",
       "2                                                NaN                            \n",
       "3                                                NaN                            \n",
       "4                                                NaN                            \n",
       "\n",
       "   Testing - Total number of COVID-19 tests reported by UK Gov testing programme - Daily  \\\n",
       "0                                                NaN                                       \n",
       "1                                                NaN                                       \n",
       "2                                                NaN                                       \n",
       "3                                                NaN                                       \n",
       "4                                                NaN                                       \n",
       "\n",
       "   Testing - Total number of COVID-19 tests reported by UK Gov testing programme - Cumulative  \\\n",
       "0                                                NaN                                            \n",
       "1                                                NaN                                            \n",
       "2                                                NaN                                            \n",
       "3                                                NaN                                            \n",
       "4                                                NaN                                            \n",
       "\n",
       "   Testing - Total daily tests reported  \\\n",
       "0                                   NaN   \n",
       "1                                   NaN   \n",
       "2                                   NaN   \n",
       "3                                   NaN   \n",
       "4                                   NaN   \n",
       "\n",
       "   Testing - Total daily number of positive tests reported  \\\n",
       "0                                                NaN         \n",
       "1                                                NaN         \n",
       "2                                                NaN         \n",
       "3                                                NaN         \n",
       "4                                                NaN         \n",
       "\n",
       "   Testing - Test positivity (percent of tests that are positive)  \\\n",
       "0                                                NaN                \n",
       "1                                                NaN                \n",
       "2                                                NaN                \n",
       "3                                                NaN                \n",
       "4                                                NaN                \n",
       "\n",
       "   Testing - People with first test results in last 7 days  \\\n",
       "0                                                NaN         \n",
       "1                                                NaN         \n",
       "2                                                NaN         \n",
       "3                                                NaN         \n",
       "4                                                NaN         \n",
       "\n",
       "   Testing - Positive cases reported in last 7 days  \\\n",
       "0                                               NaN   \n",
       "1                                               NaN   \n",
       "2                                               NaN   \n",
       "3                                               NaN   \n",
       "4                                               NaN   \n",
       "\n",
       "   Testing - Tests reported in last 7 days  \\\n",
       "0                                      NaN   \n",
       "1                                      NaN   \n",
       "2                                      NaN   \n",
       "3                                      NaN   \n",
       "4                                      NaN   \n",
       "\n",
       "   Testing - Positive tests reported in last 7 days  \\\n",
       "0                                               NaN   \n",
       "1                                               NaN   \n",
       "2                                               NaN   \n",
       "3                                               NaN   \n",
       "4                                               NaN   \n",
       "\n",
       "   Testing - Test positivity rate in last 7 days  \\\n",
       "0                                            NaN   \n",
       "1                                            NaN   \n",
       "2                                            NaN   \n",
       "3                                            NaN   \n",
       "4                                            NaN   \n",
       "\n",
       "   Testing - Tests in last 7 days per 1000 population  \n",
       "0                                                NaN   \n",
       "1                                                NaN   \n",
       "2                                                NaN   \n",
       "3                                                NaN   \n",
       "4                                                NaN   "
      ]
     },
     "execution_count": 5,
     "metadata": {},
     "output_type": "execute_result"
    }
   ],
   "source": [
    "data['testing'].head()"
   ]
  },
  {
   "cell_type": "code",
   "execution_count": 26,
   "metadata": {},
   "outputs": [],
   "source": [
    "df = data['deaths']\n",
    "\n",
    "total = df.iloc[:,1].values\n",
    "daily = np.diff(total)\n",
    "average = np.convolve(daily, np.ones(7)/7)"
   ]
  },
  {
   "cell_type": "code",
   "execution_count": 35,
   "metadata": {},
   "outputs": [
    {
     "data": {
      "image/png": "[encoded data removed]",
      "text/plain": [
       "<Figure size 432x288 with 1 Axes>"
      ]
     },
     "metadata": {
      "needs_background": "light"
     },
     "output_type": "display_data"
    }
   ],
   "source": [
    "len(daily) % 7\n",
    "weeks = daily[:-6].reshape((-1,7))\n",
    "plt.bar(np.arange(7), weeks.sum(axis=0));"
   ]
  },
  {
   "cell_type": "code",
   "execution_count": 41,
   "metadata": {},
   "outputs": [
    {
     "data": {
      "image/png": "[encoded data removed]",
      "text/plain": [
       "<Figure size 432x288 with 1 Axes>"
      ]
     },
     "metadata": {
      "needs_background": "light"
     },
     "output_type": "display_data"
    }
   ],
   "source": [
    "plt.bar(np.arange(7), weeks[20:,:].sum(axis=0));"
   ]
  },
  {
   "cell_type": "code",
   "execution_count": 6,
   "metadata": {},
   "outputs": [
    {
     "data": {
      "image/png": "[encoded data removed]",
      "text/plain": [
       "<Figure size 432x288 with 1 Axes>"
      ]
     },
     "metadata": {
      "needs_background": "light"
     },
     "output_type": "display_data"
    }
   ],
   "source": [
    "plt.plot(daily)\n",
    "plt.plot(average[:-6]);"
   ]
  },
  {
   "cell_type": "code",
   "execution_count": 8,
   "metadata": {},
   "outputs": [
    {
     "data": {
      "image/png": "[encoded data removed]",
      "text/plain": [
       "<Figure size 432x288 with 1 Axes>"
      ]
     },
     "metadata": {
      "needs_background": "light"
     },
     "output_type": "display_data"
    }
   ],
   "source": [
    "start = -60\n",
    "plt.plot(daily[start :])\n",
    "plt.plot(average[start - 6:-6]);"
   ]
  },
  {
   "cell_type": "code",
   "execution_count": 25,
   "metadata": {},
   "outputs": [
    {
     "data": {
      "image/png": "[encoded data removed]",
      "text/plain": [
       "<Figure size 432x288 with 1 Axes>"
      ]
     },
     "metadata": {
      "needs_background": "light"
     },
     "output_type": "display_data"
    }
   ],
   "source": [
    "plt.plot(average[187:-6],'r')\n",
    "plt.plot(average[6:90], 'b')\n",
    "plt.title('first and second waves');"
   ]
  },
  {
   "cell_type": "code",
   "execution_count": 9,
   "metadata": {},
   "outputs": [
    {
     "data": {
      "text/plain": [
       "(array([  0,   1, 122, 130, 131, 132, 133, 134, 135, 136, 137, 138, 139,\n",
       "        140, 141, 142, 143, 144, 145, 146, 147, 148, 149, 150, 151, 152,\n",
       "        153, 154, 155, 156]),)"
      ]
     },
     "execution_count": 9,
     "metadata": {},
     "output_type": "execute_result"
    }
   ],
   "source": [
    "np.where(average ==0 )"
   ]
  },
  {
   "cell_type": "code",
   "execution_count": 11,
   "metadata": {},
   "outputs": [
    {
     "name": "stderr",
     "output_type": "stream",
     "text": [
      "<ipython-input-11-b7b6a36d7a3c>:4: RuntimeWarning: divide by zero encountered in log\n",
      "  YY = np.log(average.tolist())\n"
     ]
    }
   ],
   "source": [
    "from scipy import stats\n",
    "\n",
    "\n",
    "YY = np.log(average.tolist())\n",
    "\n",
    "sx, window = 157, 40\n",
    "sy = 240\n",
    "M  = np.zeros(( window, 250 - sy))\n",
    "\n",
    "for i, x in enumerate(range(sx, sx+window)):\n",
    "    for j, y in enumerate(range(sy, 250)):\n",
    "        Y = YY[x:y]\n",
    "        X = np.arange(y-x)\n",
    "        M[i,j] = stats.linregress(X,Y).rvalue"
   ]
  },
  {
   "cell_type": "code",
   "execution_count": 12,
   "metadata": {},
   "outputs": [
    {
     "data": {
      "text/plain": [
       "<matplotlib.collections.PolyCollection at 0x7f4b2a7c33d0>"
      ]
     },
     "execution_count": 12,
     "metadata": {},
     "output_type": "execute_result"
    },
    {
     "data": {
      "image/png": "[encoded data removed]",
      "text/plain": [
       "<Figure size 432x288 with 1 Axes>"
      ]
     },
     "metadata": {
      "needs_background": "light"
     },
     "output_type": "display_data"
    }
   ],
   "source": [
    "plt.pcolor(M.T)"
   ]
  },
  {
   "cell_type": "code",
   "execution_count": 15,
   "metadata": {},
   "outputs": [
    {
     "data": {
      "image/png": "[encoded data removed]",
      "text/plain": [
       "<Figure size 432x288 with 1 Axes>"
      ]
     },
     "metadata": {
      "needs_background": "light"
     },
     "output_type": "display_data"
    }
   ],
   "source": [
    "\n",
    "Y = np.log(average[157:-6])\n",
    "X = np.arange(len(Y))\n",
    "\n",
    "plt.plot(X,Y)\n",
    "\n",
    "coeffs = stats.linregress(X,Y)\n",
    "a,b = coeffs.slope, coeffs.intercept\n",
    "\n",
    "plt.plot( X[[0,-1]], a*X[[0,-1]] + b)\n",
    "plt.title('2nd wave : rvalue={:.3} doubling={:.1f} days'.format(coeffs.rvalue, np.log(2)/a) )\n",
    "\n",
    "plt.ylabel('log number cases');"
   ]
  },
  {
   "cell_type": "code",
   "execution_count": 43,
   "metadata": {},
   "outputs": [
    {
     "data": {
      "text/plain": [
       "'/home/macbuse/Documents'"
      ]
     },
     "execution_count": 43,
     "metadata": {},
     "output_type": "execute_result"
    }
   ],
   "source": [
    "pwd"
   ]
  },
  {
   "cell_type": "code",
   "execution_count": 18,
   "metadata": {},
   "outputs": [
    {
     "data": {
      "text/plain": [
       "753"
      ]
     },
     "execution_count": 18,
     "metadata": {},
     "output_type": "execute_result"
    }
   ],
   "source": [
    "total[-1] - total[156]"
   ]
  },
  {
   "cell_type": "code",
   "execution_count": 42,
   "metadata": {},
   "outputs": [
    {
     "name": "stdout",
     "output_type": "stream",
     "text": [
      "[master 4e09048] web\n",
      " 5 files changed, 1308 insertions(+), 15 deletions(-)\n",
      " create mode 100644 PROG/.ipynb_checkpoints/scot_covid-checkpoint.ipynb\n",
      " create mode 100644 PROG/care.csv\n",
      " create mode 100644 PROG/deaths.csv\n",
      " create mode 100644 PROG/testing.csv\n",
      "Counting objects: 8, done.\n",
      "Delta compression using up to 12 threads.\n",
      "Compressing objects: 100% (8/8), done.\n",
      "Writing objects: 100% (8/8), 38.00 KiB | 5.43 MiB/s, done.\n",
      "Total 8 (delta 4), reused 0 (delta 0)\n",
      "remote: Resolving deltas: 100% (4/4), completed with 4 local objects.\u001b[K\n",
      "To https://github.com/macbuse/macbuse.github.io.git\n",
      "   d26a903..4e09048  master -> master\n"
     ]
    }
   ],
   "source": [
    "! ../.g"
   ]
  },
  {
   "cell_type": "code",
   "execution_count": null,
   "metadata": {},
   "outputs": [],
   "source": []
  }
 ],
 "metadata": {
  "kernelspec": {
   "display_name": "Python 3",
   "language": "python",
   "name": "python3"
  },
  "language_info": {
   "codemirror_mode": {
    "name": "ipython",
    "version": 3
   },
   "file_extension": ".py",
   "mimetype": "text/x-python",
   "name": "python",
   "nbconvert_exporter": "python",
   "pygments_lexer": "ipython3",
   "version": "3.8.3"
  }
 },
 "nbformat": 4,
 "nbformat_minor": 4
}
