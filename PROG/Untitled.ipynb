{
 "cells": [
  {
   "cell_type": "code",
   "execution_count": null,
   "metadata": {},
   "outputs": [],
   "source": [
    "xx = 255*np.ones_like(mm)\n",
    "sy, sx, ll = xx.shape\n",
    "for k in range(0,sy,20):\n",
    "    xx[k:k+10,:sx//2,1] = 0\n",
    "plt.imshow(xx);\n",
    "plt.imsave('strip.jpg',xx)\n",
    "\n",
    "xx = np.ones((256,256))\n",
    "for k, v in enumerate(np.linspace(0,1,xx.shape[0])):\n",
    "    xx[k] *= v\n",
    "plt.imshow(xx);\n",
    "plt.imsave('grad.jpg',xx)"
   ]
  },
  {
   "cell_type": "code",
   "execution_count": 1,
   "metadata": {},
   "outputs": [],
   "source": [
    "import numpy as np\n"
   ]
  },
  {
   "cell_type": "code",
   "execution_count": 3,
   "metadata": {},
   "outputs": [],
   "source": [
    "dirs = [[1,0],[0,1]]\n",
    "dirs = [np.array(x) for x in dirs]\n",
    "dirs.extend([-x for x in dirs])"
   ]
  },
  {
   "cell_type": "code",
   "execution_count": null,
   "metadata": {},
   "outputs": [],
   "source": []
  }
 ],
 "metadata": {
  "kernelspec": {
   "display_name": "Python 3",
   "language": "python",
   "name": "python3"
  },
  "language_info": {
   "codemirror_mode": {
    "name": "ipython",
    "version": 3
   },
   "file_extension": ".py",
   "mimetype": "text/x-python",
   "name": "python",
   "nbconvert_exporter": "python",
   "pygments_lexer": "ipython3",
   "version": "3.6.5"
  }
 },
 "nbformat": 4,
 "nbformat_minor": 2
}
