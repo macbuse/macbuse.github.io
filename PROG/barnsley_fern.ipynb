{
 "cells": [
  {
   "cell_type": "code",
   "execution_count": 1,
   "metadata": {},
   "outputs": [],
   "source": [
    "import numpy as np\n",
    "import matplotlib.pyplot as plt"
   ]
  },
  {
   "cell_type": "code",
   "execution_count": null,
   "metadata": {},
   "outputs": [],
   "source": []
  },
  {
   "cell_type": "code",
   "execution_count": 30,
   "metadata": {},
   "outputs": [],
   "source": [
    "#%%timeit\n",
    "\n",
    "import random\n",
    "from PIL import Image\n",
    " \n",
    " \n",
    "class BarnsleyFern(object):\n",
    "    def __init__(self, img_width, img_height, paint_color=(0, 150, 0),\n",
    "                 bg_color=(255, 255, 255)):\n",
    "        self.img_width, self.img_height = img_width, img_height\n",
    "        self.paint_color = paint_color\n",
    "        self.x, self.y = 0, 0\n",
    "        self.age = 0\n",
    " \n",
    "        self.fern = Image.new('RGB', (img_width, img_height), bg_color)\n",
    "        self.pix = self.fern.load()\n",
    "        self.pix[self.scale(0, 0)] = paint_color\n",
    " \n",
    "    def scale(self, x, y):\n",
    "        h = (x + 2.182)*(self.img_width - 1)/4.8378\n",
    "        k = (9.9983 - y)*(self.img_height - 1)/9.9983\n",
    "        return h, k\n",
    " \n",
    "    def transform(self, x, y):\n",
    "        rand = random.uniform(0, 100)\n",
    "        if rand < 1:\n",
    "            return 0, 0.16*y\n",
    "        elif 1 <= rand < 86:\n",
    "            return 0.85*x + 0.04*y, -0.04*x + 0.85*y + 1.6\n",
    "        elif 86 <= rand < 93:\n",
    "            return 0.2*x - 0.26*y, 0.23*x + 0.22*y + 1.6\n",
    "        else:\n",
    "            return -0.15*x + 0.28*y, 0.26*x + 0.24*y + 0.44\n",
    " \n",
    "    def iterate(self, iterations):\n",
    "        for _ in range(iterations):\n",
    "            self.x, self.y = self.transform(self.x, self.y)\n",
    "            self.pix[self.scale(self.x, self.y)] = self.paint_color\n",
    "        self.age += iterations\n",
    " \n",
    "fern = BarnsleyFern(500, 500)\n",
    "fern.iterate(1000000)\n",
    "fern.fern.show()\n",
    " "
   ]
  },
  {
   "cell_type": "code",
   "execution_count": 3,
   "metadata": {},
   "outputs": [],
   "source": []
  },
  {
   "cell_type": "code",
   "execution_count": 7,
   "metadata": {},
   "outputs": [],
   "source": [
    "\n"
   ]
  },
  {
   "cell_type": "code",
   "execution_count": 5,
   "metadata": {},
   "outputs": [],
   "source": [
    "transforms = [m1,m2,m3,m4]"
   ]
  },
  {
   "cell_type": "code",
   "execution_count": 38,
   "metadata": {},
   "outputs": [],
   "source": [
    "#%%timeit\n",
    "import random\n",
    "import numpy\n",
    "from PIL import Image\n",
    "\n",
    "class BarnsleyFern(object):\n",
    "    \n",
    "    \n",
    "    def __init__(self, img_width, img_height, \n",
    "                 paint_colors=[(0, 150, 0), (150, 150, 0)],\n",
    "                 bg_color=(255, 255, 255)):\n",
    "        \n",
    "        self.img_width, self.img_height = img_width, img_height\n",
    "        self.paint_colors = paint_colors\n",
    "\n",
    "        self.x, self.y = 0, 0\n",
    " \n",
    "        self.fern = Image.new('RGB', (img_width, img_height), bg_color)\n",
    "        self.pix = self.fern.load()\n",
    "        self.pix[self.scale(self.x, self.y)] = paint_colors[0]\n",
    "        \n",
    "    def scale(self, x,y):\n",
    "        h = (x + 2.182)*(self.img_width - 1)/4.8378\n",
    "        k = (9.9983 - y)*(self.img_height - 1)/9.9983\n",
    "        return h, k\n",
    "        \n",
    "    # just to be tidy with namespace\n",
    "    def m1(self,x,y):\n",
    "        return 0, 0.16*y\n",
    "    \n",
    "    def m2(self,x,y):\n",
    "        return 0.85*x + 0.04*y, -0.04*x + 0.85*y + 1.6\n",
    "    \n",
    "    def m3(self,x,y):\n",
    "        return 0.2*x - 0.26*y, 0.23*x + 0.22*y + 1.6\n",
    "    \n",
    "    def m4(self, x,y):\n",
    "        return -0.15*x + 0.28*y, 0.26*x + 0.24*y + 0.44\n",
    "\n",
    "    def iterate(self, iterations):\n",
    "        \n",
    "        # cache everything to save lookups in the loop\n",
    "        # every . is a dictionnary lookup\n",
    "        x, y = self.x, self.y\n",
    "        img, scale, color  = self.pix, self.scale, self.paint_colors[0]\n",
    "        transforms = [self.m1, self.m2, self.m3, self.m4]\n",
    "        \n",
    "        #avoid using cascading ifs by using relative weights\n",
    "        for i, f in enumerate(random.choices(transforms, \n",
    "                                weights=[1,60,7,7], \n",
    "                                k=iterations)):\n",
    "            x, y  = f(x,y)\n",
    "            img[scale(x,y)] = color\n",
    "            \n",
    " \n",
    "fern = BarnsleyFern(500, 500)\n",
    "fern.iterate(1000000)\n",
    "fern.fern.show()"
   ]
  },
  {
   "cell_type": "markdown",
   "metadata": {},
   "source": [
    "this is about 25% quicker probably from caching"
   ]
  },
  {
   "cell_type": "code",
   "execution_count": null,
   "metadata": {},
   "outputs": [],
   "source": []
  },
  {
   "cell_type": "code",
   "execution_count": 62,
   "metadata": {},
   "outputs": [
    {
     "name": "stdout",
     "output_type": "stream",
     "text": [
      "2.21 s ± 33.3 ms per loop (mean ± std. dev. of 7 runs, 1 loop each)\n"
     ]
    }
   ],
   "source": [
    "%%timeit\n",
    "import random\n",
    "import numpy as np\n",
    "from PIL import Image\n",
    "\n",
    "class BarnsleyFern(object):\n",
    "    \n",
    "    \n",
    "    def __init__(self, img_width, img_height, paint_color=(0, 150, 0),\n",
    "                 bg_color=(255, 255, 255)):\n",
    "        \n",
    "        self.img_width, self.img_height = img_width, img_height\n",
    "        self.paint_color = paint_color\n",
    "        self.x, self.y = 0, 0\n",
    "        self.v = np.array([self.x, self.y,1])\n",
    " \n",
    "        self.fern = Image.new('RGB', (img_width, img_height), bg_color)\n",
    "        self.pix = self.fern.load()\n",
    "        \n",
    "        \n",
    "        #I got a sign wrong and it took an hour to find it!!!!\n",
    "        self.generators = [ [0,0,0,0, 1.6,0],\n",
    "              [ 0.85,  0.04, 0, -0.04,  0.85,  1.6],\n",
    "              [  0.2, -0.26, 0,  0.23,  0.22,  1.6 ],\n",
    "              [-0.15,  0.28, 0,  0.26,  0.24, 0.44 ]\n",
    "             ]\n",
    "        \n",
    "        # these values shouldn't be hard coded\n",
    "        mm = np.array([[1,0, 2.182], [0,-1,9.9983 ], [0,0,1]])\n",
    "        mm[0] = mm[0]*(self.img_width - 1)/5\n",
    "        mm[1] = mm[1]*(self.img_height - 1)/10\n",
    "        self.scale = mm\n",
    "        \n",
    "        x,y,z = np.dot(self.scale, self.v)\n",
    "        self.pix[x,y] = paint_color\n",
    "        \n",
    "    def scale_f(self, x,y):\n",
    "        h = (x + 2.182)*(self.img_width - 1)/4.8378\n",
    "        k = (9.9983 - y)*(self.img_height - 1)/9.9983\n",
    "        return h, k\n",
    "        \n",
    "    \n",
    "    def mk_transforms(self, shuffle=False):\n",
    "        def coeffs2matrix(m):\n",
    "             return np.vstack((np.array(m).reshape(2,3), \n",
    "                               np.array([0,0,1])))\n",
    "                     \n",
    "        matrices = [ coeffs2matrix(m)  for m in self.generators]\n",
    "        \n",
    "        if not shuffle: \n",
    "            return [ f.dot for f in matrices]\n",
    "                      \n",
    "        shuffles = [np.random.random((2,3))*0.01 for k in range(4)]\n",
    "        shuffles[0] = np.zeros((2,3))\n",
    "        \n",
    "        for a,b in zip(matrices, shuffles):\n",
    "            a[:2,:3] = a[:2,:3] + b\n",
    "            \n",
    "        return matrices\n",
    "\n",
    "\n",
    "    def iterate(self, iterations):\n",
    "        \n",
    "        # cache everything to save lookups in the loop\n",
    "        # remember every . is a dictionnary lookup\n",
    "        v = self.v\n",
    "        img, scale, color  = self.pix, self.scale.dot, self.paint_color\n",
    "        \n",
    "        transforms = self.mk_transforms()\n",
    "        #avoid using cascading ifs by using relative weights\n",
    "        for f in random.choices( transforms, \n",
    "                                weights=[0,80,10,10], \n",
    "                                k=iterations):\n",
    "            \n",
    "            #np.dot is matrix multiplication\n",
    "            v = f(v)\n",
    "            w = scale(v)\n",
    "            img[w[0],w[1]] = color\n",
    "            \n",
    " \n",
    "fern = BarnsleyFern(500, 500)\n",
    "fern.iterate(1000000)\n",
    "fern.fern.show()\n",
    "\n",
    "# this is slower I wonder what the overhead is "
   ]
  },
  {
   "cell_type": "code",
   "execution_count": 23,
   "metadata": {},
   "outputs": [
    {
     "data": {
      "text/plain": [
       "array([[0.33971811, 0.66154564, 0.27172619],\n",
       "       [0.52796106, 0.00872534, 0.12033717]])"
      ]
     },
     "execution_count": 23,
     "metadata": {},
     "output_type": "execute_result"
    }
   ],
   "source": [
    "np.random.random((2,3))"
   ]
  },
  {
   "cell_type": "markdown",
   "metadata": {},
   "source": [
    "The attractor of the iterated function system given by the set of \"fern functions\"\n",
    "\n",
    "$$m_2(x,y)\t=\t[0.85 0.04; -0.04 0.85][x; y]+[0.00; 1.60] \n",
    "(1)\\\\\n",
    "m_3(x,y)\t=\t[-0.15 0.28; 0.26 0.24][x; y]+[0.00; 0.44] \n",
    "(2)\\\\\n",
    "m_4(x,y)\t=\t[0.20 -0.26; 0.23 0.22][x; y]+[0.00; 1.60] \n",
    "(3)\\\\\n",
    "m_(x,y)1\t=\t[0.00 0.00; 0.00 0.16][x; y]\n",
    "(4)\n",
    "$$\n",
    "(Barnsley 1993, p. 86; Wagon 1991). \n",
    "\n",
    "These affine transformations are contractions. \n",
    "\n",
    "- the tip of the fern (which resembles the black spleenwort variety of fern) is the fixed point of f_1, \n",
    "- the tips of the lowest two branches are the images of the main tip under f_2 and f_3 (Wagon 1991).\n",
    "\n"
   ]
  },
  {
   "cell_type": "code",
   "execution_count": null,
   "metadata": {},
   "outputs": [],
   "source": [
    "#%%timeit\n",
    "\n",
    "\n",
    "def normalize(X, size=512):\n",
    "    M, m = max(X), min(X)\n",
    "    X = (size - 1)*(X - m )/(M - m)\n",
    "    return X.astype(int)\n",
    "\n",
    "    \n",
    "generators = [ #[0.00, 0.00, 0.00, 0.16, 0.00, 0.00 ],\n",
    "              [ 0.85,  0.04, 0, -0.04,  0.85,  1.6],\n",
    "              [  0.2, -0.26, 0,  0.23,  0.22,  1.6 ],\n",
    "              [-0.15,  0.28, 0,  0.26,  0.24, 0.44 ]\n",
    "             ]\n",
    "\n",
    "\n",
    "matrices = [ np.array(g).reshape(2,3) for g in generators ]\n",
    "transforms = [ np.vstack([f,np.array([0,0,1])]).dot for f in matrices]\n",
    "\n",
    "\n",
    "u = np.array([ [0,0, 1] ] ).reshape(-1,1)\n",
    "v = []\n",
    "for k  in range(4):\n",
    "    u = transforms[1](u)\n",
    "    v.append(u)\n",
    "    \n",
    "v = np.hstack(v)\n",
    "\n",
    "for k in range(12):  \n",
    "    v = np.hstack([f(v) for f in transforms ])\n",
    "    \n",
    "ss = 512\n",
    "\n",
    "img = np.ones((ss, ss))\n",
    "img[normalize( 1- v[1]) , normalize( v[0]) ] = 0.\n",
    "\n",
    "fig, ax = plt.subplots()\n",
    "fig.set_size_inches(8,8)\n",
    "ax.set_aspect('equal')\n",
    "\n",
    "ax.imshow(img);"
   ]
  },
  {
   "cell_type": "code",
   "execution_count": 13,
   "metadata": {},
   "outputs": [],
   "source": [
    "v = np.zeros((3,2))\n",
    "v[:,1] = u.reshape(-1,3)[0]\n",
    "v[:,0] = [0,.1,1]"
   ]
  },
  {
   "cell_type": "code",
   "execution_count": 33,
   "metadata": {},
   "outputs": [
    {
     "name": "stdout",
     "output_type": "stream",
     "text": [
      "[-2.65560166 -9.95850622]\n",
      "[ 0.60836502 -1.87189237]\n",
      "[-0.15376935 -0.63155267]\n"
     ]
    }
   ],
   "source": [
    "for M in matrices:\n",
    "    \n",
    "    a, b = M[:2, :2] - np.identity(2), M[:,2]\n",
    "    print(np.linalg.solve(a,b))"
   ]
  },
  {
   "cell_type": "code",
   "execution_count": null,
   "metadata": {},
   "outputs": [],
   "source": []
  },
  {
   "cell_type": "code",
   "execution_count": null,
   "metadata": {},
   "outputs": [],
   "source": [
    "(x + 2.182)*(self.img_width - 1)/4.8378\n",
    "(9.9983 - y)*(self.img_height - 1)/9.9983"
   ]
  },
  {
   "cell_type": "code",
   "execution_count": 53,
   "metadata": {},
   "outputs": [
    {
     "data": {
      "image/png": "[encoded data removed]",
      "text/plain": [
       "<Figure size 432x288 with 1 Axes>"
      ]
     },
     "metadata": {
      "needs_background": "light"
     },
     "output_type": "display_data"
    }
   ],
   "source": [
    "def mk_transforms(generators, \n",
    "                  depth=4, \n",
    "                  dim=2):\n",
    "    \n",
    "    elts = [np.identity(dim)]   \n",
    "    for k in range(depth):\n",
    "        elts.extend( [np.dot(M,G) \n",
    "                        for M in elts\n",
    "                        for G in generators])\n",
    "    return elts\n",
    "\n",
    "motif = np.array([[0,0,1],[1,1,1], [2,1,1]]).T\n",
    "\n",
    "#scaling\n",
    "L = np.array( [[1/3, 0 ,0], [ 0, 1/2 ,0], [0, 0, 1]])\n",
    "#scaling then translation by (2/3, 1/2)\n",
    "R = np.copy(L)\n",
    "R[:2,-1] = np.array([2/3, 1/2])\n",
    "\n",
    "n = 6\n",
    "transforms = mk_transforms([L,R], depth=n, dim=3)\n",
    "\n",
    "pts = np.hstack( [np.dot(f, motif) \n",
    "                  for f in transforms[-2**n::]])\n",
    "X,Y,Z = pts\n",
    "plt.plot(X,Y);"
   ]
  },
  {
   "cell_type": "code",
   "execution_count": 60,
   "metadata": {},
   "outputs": [
    {
     "data": {
      "image/png": "[encoded data removed]",
      "text/plain": [
       "<Figure size 432x288 with 1 Axes>"
      ]
     },
     "metadata": {
      "needs_background": "light"
     },
     "output_type": "display_data"
    }
   ],
   "source": [
    "def mk_transforms(generators, \n",
    "                  depth=4, \n",
    "                  dim=2):\n",
    "    \n",
    "    elts = [np.identity(dim)]   \n",
    "    for k in range(depth):\n",
    "        elts.extend( [np.dot(M,G) \n",
    "                        for M in elts\n",
    "                        for G in generators])\n",
    "    return elts\n",
    "\n",
    "motif = np.array([[0,0,1],[1,1,1], [2,1,1]]).T\n",
    "\n",
    "#scaling\n",
    "L = np.array( [[1/3, 0 ,0], [ 0, 1/2 ,0], [0, 0, 1]])\n",
    "#scaling then translation by (2/3, 1/2)\n",
    "R = np.copy(L)\n",
    "R[:2,-1] = np.array([2/3, 1/2])\n",
    "\n",
    "v = np.array([.5,.5,1])\n",
    "pts = []\n",
    "add = pts.append\n",
    "for f in random.choices( [L,R], \n",
    "                         weights=[1,1], \n",
    "                         k=20000):\n",
    "    add(v)\n",
    "    v = np.dot(f,v)\n",
    "    \n",
    "pts = np.vstack(pts)\n",
    "X,Y= pts[:,0], pts[:,1]\n",
    "plt.plot(X,Y,'r.');"
   ]
  },
  {
   "cell_type": "code",
   "execution_count": 56,
   "metadata": {},
   "outputs": [
    {
     "data": {
      "text/plain": [
       "(20000, 3)"
      ]
     },
     "execution_count": 56,
     "metadata": {},
     "output_type": "execute_result"
    }
   ],
   "source": [
    "pts.shape"
   ]
  },
  {
   "cell_type": "code",
   "execution_count": null,
   "metadata": {},
   "outputs": [],
   "source": []
  }
 ],
 "metadata": {
  "kernelspec": {
   "display_name": "Python 3",
   "language": "python",
   "name": "python3"
  },
  "language_info": {
   "codemirror_mode": {
    "name": "ipython",
    "version": 3
   },
   "file_extension": ".py",
   "mimetype": "text/x-python",
   "name": "python",
   "nbconvert_exporter": "python",
   "pygments_lexer": "ipython3",
   "version": "3.8.3"
  }
 },
 "nbformat": 4,
 "nbformat_minor": 4
}
