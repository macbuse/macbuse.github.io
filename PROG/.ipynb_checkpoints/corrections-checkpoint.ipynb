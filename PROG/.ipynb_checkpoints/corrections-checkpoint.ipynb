{
 "cells": [
  {
   "cell_type": "code",
   "execution_count": null,
   "metadata": {},
   "outputs": [],
   "source": [
    "## Exercises\n",
    "\n",
    "- create a list of 3x3 matrices with random integer coefficients\n",
    "- what is the probability that such a matrix is invertible if the coefficients are 0 and 1 ?\n",
    "- use ```np.linalg.eigvals``` to find the biggest eigenvalue for the matrices\n",
    "\n",
    "---\n",
    "\n",
    "- make a [van der monde matrix](https://en.wikipedia.org/wiki/Vandermonde_matrix)\n",
    "with first row a random list of 5 real numbers\n",
    "- calculate its determinant and verify the formula\n",
    "\n"
   ]
  }
 ],
 "metadata": {
  "kernelspec": {
   "display_name": "Python 3",
   "language": "python",
   "name": "python3"
  },
  "language_info": {
   "codemirror_mode": {
    "name": "ipython",
    "version": 3
   },
   "file_extension": ".py",
   "mimetype": "text/x-python",
   "name": "python",
   "nbconvert_exporter": "python",
   "pygments_lexer": "ipython3",
   "version": "3.8.3"
  }
 },
 "nbformat": 4,
 "nbformat_minor": 4
}
