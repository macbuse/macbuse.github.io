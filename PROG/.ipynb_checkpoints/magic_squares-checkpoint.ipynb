{
 "cells": [
  {
   "cell_type": "code",
   "execution_count": null,
   "id": "d7b72cb9-ccf8-4bbc-a8eb-b6305d75faf5",
   "metadata": {},
   "outputs": [],
   "source": []
  },
  {
   "cell_type": "markdown",
   "id": "db9356bc-59a6-45f3-a56a-0da3adaae63d",
   "metadata": {},
   "source": [
    "# So it was Halloween\n",
    "\n",
    "and I decided to do some [magic squares]() for an exam\n",
    "\n",
    "I trolled (sic) around the internet and found some **dumb** code :\n",
    "\n",
    "- https://www.codespeedy.com/magic-square-identification-in-python/\n",
    "- https://www.w3resource.com/python-exercises/math/python-math-exercise-20.php\n",
    "\n",
    "This is better but still **far** from optimal\n",
    "\n",
    "\n",
    "https://medium.com/swlh/python-code-to-find-total-number-of-magic-squares-of-order-3-and-4-11be1376e5cd"
   ]
  },
  {
   "cell_type": "code",
   "execution_count": 355,
   "id": "ef4c628a-4acd-4cd4-ad80-875116bbf78c",
   "metadata": {},
   "outputs": [
    {
     "name": "stdout",
     "output_type": "stream",
     "text": [
      "[[4 3 2 1 0]\n",
      " [2 1 0 4 3]\n",
      " [0 4 3 2 1]\n",
      " [3 2 1 0 4]\n",
      " [1 0 4 3 2]]\n"
     ]
    }
   ],
   "source": [
    "#Function\n",
    "# \n",
    "import numpy as np\n",
    "\n",
    "def generateSquare(n): \n",
    "    # 2-D array with all  \n",
    "    # slots set to 0 \n",
    "    magicSquare = np.zeros((n,n),dtype=np.int16)\n",
    "    # initialize position of 1 \n",
    "    i = n // 2\n",
    "    j = n - 1\n",
    "    # Fill the square by placing values \n",
    "    num = 1\n",
    "    while num <= (n * n): \n",
    "        if i == -1 and j == n: # 3rd condition \n",
    "            j = n - 2\n",
    "            i = 0\n",
    "        else:  \n",
    "            # next number goes out of \n",
    "            # right side of square  \n",
    "            if j == n: \n",
    "                j = 0    \n",
    "            # next number goes  \n",
    "            # out of upper side \n",
    "            if i < 0: \n",
    "                i = n - 1\n",
    "        if magicSquare[int(i),int(j)]: # 2nd condition \n",
    "            j = j - 2\n",
    "            i = i + 1\n",
    "            continue\n",
    "        else: \n",
    "            magicSquare[int(i),int(j)] = num \n",
    "            num = num + 1\n",
    "        j = j + 1\n",
    "        i = i - 1 # 1st condition \n",
    "\n",
    "    return magicSquare\n",
    "\n",
    "# Driver Code \n",
    "# Works only when n is odd \n",
    "n= 5\n",
    "print(generateSquare(n) % 5)"
   ]
  },
  {
   "cell_type": "code",
   "execution_count": 45,
   "id": "d7e066b6-c072-400f-9f3f-74bca76633b7",
   "metadata": {},
   "outputs": [
    {
     "name": "stdout",
     "output_type": "stream",
     "text": [
      "[[2 4 6 1 3 5 0]\n",
      " [3 5 0 2 4 6 1]\n",
      " [4 6 1 3 5 0 2]\n",
      " [5 0 2 4 6 1 3]\n",
      " [6 1 3 5 0 2 4]\n",
      " [0 2 4 6 1 3 5]\n",
      " [1 3 5 0 2 4 6]]\n"
     ]
    }
   ],
   "source": [
    "#https://scipython.com/book/chapter-6-numpy/examples/creating-a-magic-square/\n",
    "\n",
    "import numpy as np\n",
    "N  = 7\n",
    "magic_square = np.zeros((N,N), dtype=int)\n",
    "\n",
    "n = 1\n",
    "i, j = 0, N//2\n",
    "\n",
    "while n <= N**2:\n",
    "    magic_square[i, j] = n\n",
    "    n += 1\n",
    "    newi, newj = (i-1) % N, (j+1)% N\n",
    "    if magic_square[newi, newj]:\n",
    "        i += 1\n",
    "    else:\n",
    "        i, j = newi, newj\n",
    "\n",
    "print(magic_square % 7)"
   ]
  },
  {
   "cell_type": "code",
   "execution_count": 46,
   "id": "ff5b8f04-e5f3-45a5-8433-8dc8ef14038e",
   "metadata": {},
   "outputs": [
    {
     "data": {
      "text/plain": [
       "array([[30, 39, 48,  1, 10, 19, 28],\n",
       "       [38, 47,  7,  9, 18, 27, 29],\n",
       "       [46,  6,  8, 17, 26, 35, 37],\n",
       "       [ 5, 14, 16, 25, 34, 36, 45],\n",
       "       [13, 15, 24, 33, 42, 44,  4],\n",
       "       [21, 23, 32, 41, 43,  3, 12],\n",
       "       [22, 31, 40, 49,  2, 11, 20]])"
      ]
     },
     "execution_count": 46,
     "metadata": {},
     "output_type": "execute_result"
    }
   ],
   "source": [
    "magic_square "
   ]
  },
  {
   "cell_type": "code",
   "execution_count": 80,
   "id": "bf89f9ae-5073-4f74-8026-482a9363d1a6",
   "metadata": {},
   "outputs": [
    {
     "data": {
      "text/plain": [
       "9"
      ]
     },
     "execution_count": 80,
     "metadata": {},
     "output_type": "execute_result"
    }
   ],
   "source": [
    "58 % 49"
   ]
  },
  {
   "cell_type": "code",
   "execution_count": 79,
   "id": "f09af771-1270-4dd9-95a0-1063782781ce",
   "metadata": {},
   "outputs": [
    {
     "data": {
      "text/plain": [
       "array([[ 0,  0,  0,  1, 10, 19, 28],\n",
       "       [38, 47,  7,  0,  0,  0, 29],\n",
       "       [ 0,  0,  8, 17, 26, 35,  0],\n",
       "       [ 5, 14,  0,  0,  0, 36, 45],\n",
       "       [ 0, 15, 24, 33, 42,  0,  0],\n",
       "       [21,  0,  0,  0, 43,  3, 12],\n",
       "       [22, 31, 40,  0,  0,  0,  0]])"
      ]
     },
     "execution_count": 79,
     "metadata": {},
     "output_type": "execute_result"
    }
   ],
   "source": [
    "mm =  np.zeros((N,N), dtype=int)\n",
    "v = mm[0].copy()\n",
    "v[3:]  = np.arange(1,30,9)\n",
    "\n",
    "for k in range(7):\n",
    "    mm[k ] += v\n",
    "    v[v>0] = (v[v>0] + 28) % 49\n",
    "    v = np.roll(v, 3) \n",
    "    \n",
    "mm"
   ]
  },
  {
   "cell_type": "code",
   "execution_count": 241,
   "id": "94e9d0d0-deb9-48fd-97c4-0452ab401aac",
   "metadata": {},
   "outputs": [
    {
     "data": {
      "text/plain": [
       "array([[30, 39, 48,  1, 10, 19, 28],\n",
       "       [47,  7,  9, 18, 27, 29, 38],\n",
       "       [ 8, 17, 26, 35, 37, 46,  6],\n",
       "       [25, 34, 36, 45,  5, 14, 16],\n",
       "       [42, 44,  4, 13, 15, 24, 33],\n",
       "       [ 3, 12, 21, 23, 32, 41, 43],\n",
       "       [20, 22, 31, 40, 49,  2, 11]])"
      ]
     },
     "execution_count": 241,
     "metadata": {},
     "output_type": "execute_result"
    }
   ],
   "source": [
    "N = 7\n",
    "offset = 2\n",
    "mm =  np.zeros((N,N), dtype=int)\n",
    "\n",
    "v = mm[0].copy()\n",
    "v[:3] = np.arange(30, N**2,9)\n",
    "v[3:]  = np.arange(1,30,9)\n",
    "\n",
    "for k in range(7):\n",
    "    mm[k] = v\n",
    "    v = (v + 28) % 49\n",
    "    v = np.roll(v, offset) \n",
    "\n",
    "mm[-1, 6 * offset % 7 - 1] = 49\n",
    "    \n",
    "# out by 1 square    \n",
    "np.ones((N,N)) @ mm\n",
    "mm"
   ]
  },
  {
   "cell_type": "code",
   "execution_count": 242,
   "id": "2b855f6b-7fb0-4511-b64a-82bc03756c4f",
   "metadata": {},
   "outputs": [],
   "source": [
    "uu = mm.T.copy()\n",
    "vv = uu.copy()\n",
    "\n",
    "xx = sorted(vv.tolist() , key = lambda x: x[0] % 7)\n"
   ]
  },
  {
   "cell_type": "code",
   "execution_count": 243,
   "id": "12933d15-cae2-479e-a6fb-59eb5818ff03",
   "metadata": {},
   "outputs": [],
   "source": [
    "MM = np.array(xx).T\n"
   ]
  },
  {
   "cell_type": "code",
   "execution_count": 244,
   "id": "9cd47892-568b-4d58-8502-fb1c49b532c0",
   "metadata": {},
   "outputs": [],
   "source": [
    "yy = sorted(MM.tolist() , key = lambda x: x[0] % 7)\n",
    "PP = np.array(yy)"
   ]
  },
  {
   "cell_type": "code",
   "execution_count": 245,
   "id": "1a34123c-e318-4064-8898-7490883c1b70",
   "metadata": {},
   "outputs": [
    {
     "data": {
      "text/plain": [
       "array([[0, 1, 2, 3, 4, 5, 6],\n",
       "       [1, 2, 3, 4, 5, 6, 0],\n",
       "       [2, 3, 4, 5, 6, 0, 1],\n",
       "       [3, 4, 5, 6, 0, 1, 2],\n",
       "       [4, 5, 6, 0, 1, 2, 3],\n",
       "       [5, 6, 0, 1, 2, 3, 4],\n",
       "       [6, 0, 1, 2, 3, 4, 5]])"
      ]
     },
     "execution_count": 245,
     "metadata": {},
     "output_type": "execute_result"
    }
   ],
   "source": [
    "PP % 7"
   ]
  },
  {
   "cell_type": "code",
   "execution_count": 247,
   "id": "ec824373-6c1a-40b5-97a6-74f41d7253a2",
   "metadata": {},
   "outputs": [
    {
     "data": {
      "text/plain": [
       "array([[175., 175., 175., 175., 175., 175., 175.],\n",
       "       [175., 175., 175., 175., 175., 175., 175.],\n",
       "       [175., 175., 175., 175., 175., 175., 175.],\n",
       "       [175., 175., 175., 175., 175., 175., 175.],\n",
       "       [175., 175., 175., 175., 175., 175., 175.],\n",
       "       [175., 175., 175., 175., 175., 175., 175.],\n",
       "       [175., 175., 175., 175., 175., 175., 175.]])"
      ]
     },
     "execution_count": 247,
     "metadata": {},
     "output_type": "execute_result"
    }
   ],
   "source": [
    "PP  @ np.ones((7,7))"
   ]
  },
  {
   "cell_type": "code",
   "execution_count": 248,
   "id": "f4aefb1a-8b99-41cc-a2c1-31c5f1b9be60",
   "metadata": {},
   "outputs": [
    {
     "data": {
      "text/plain": [
       "array([[28,  1, 30, 10, 39, 19, 48],\n",
       "       [43, 23,  3, 32, 12, 41, 21],\n",
       "       [16, 45, 25,  5, 34, 14, 36],\n",
       "       [38, 18, 47, 27,  7, 29,  9],\n",
       "       [11, 40, 20, 49, 22,  2, 31],\n",
       "       [33, 13, 42, 15, 44, 24,  4],\n",
       "       [ 6, 35,  8, 37, 17, 46, 26]])"
      ]
     },
     "execution_count": 248,
     "metadata": {},
     "output_type": "execute_result"
    }
   ],
   "source": [
    "PP"
   ]
  },
  {
   "cell_type": "code",
   "execution_count": 301,
   "id": "5a4e70e0-0e1d-4114-8fe0-73bef0a76206",
   "metadata": {},
   "outputs": [],
   "source": [
    "ww = np.ones((7,7))"
   ]
  },
  {
   "cell_type": "code",
   "execution_count": 354,
   "id": "9a1e3083-792b-4c22-ba7c-e975afec1d85",
   "metadata": {},
   "outputs": [
    {
     "data": {
      "text/plain": [
       "(array([175, 175, 175, 175, 175, 175, 175]),\n",
       " array([175, 175, 175, 175, 175, 175, 175]))"
      ]
     },
     "execution_count": 354,
     "metadata": {},
     "output_type": "execute_result"
    }
   ],
   "source": [
    "# so 8 can be anything > 1 but = 1 mod 7\n",
    "seed = ( 15*np.arange(0,7) + 1) % 49\n",
    "offset = 3 # must be != 0\n",
    "\n",
    "magic_square =  np.zeros((N,N), dtype=int)\n",
    "magic_square[0] = np.roll(seed, 1)\n",
    "\n",
    "for k in range(1,7):\n",
    "    # and 7 can be anything divisible by 7 but not 49\n",
    "    magic_square[k] = (np.roll(magic_square[0], k*offset) + k * 7  ) % 49\n",
    "    \n",
    "magic_square[magic_square == 0] = 49\n",
    "\n",
    "# check\n",
    "np.sum(magic_square, axis=0), np.sum(magic_square, axis=1)\n"
   ]
  },
  {
   "cell_type": "code",
   "execution_count": 311,
   "id": "d9c3f0f0-84ce-46ff-ad47-8728d49797b9",
   "metadata": {},
   "outputs": [
    {
     "data": {
      "text/plain": [
       "array([[28,  1, 30, 10, 39, 19, 48],\n",
       "       [43, 23,  3, 32, 12, 41, 21],\n",
       "       [16, 45, 25,  5, 34, 14, 36],\n",
       "       [38, 18, 47, 27,  7, 29,  9],\n",
       "       [11, 40, 20, 49, 22,  2, 31],\n",
       "       [33, 13, 42, 15, 44, 24,  4],\n",
       "       [ 6, 35,  8, 37, 17, 46, 26]])"
      ]
     },
     "execution_count": 311,
     "metadata": {},
     "output_type": "execute_result"
    }
   ],
   "source": [
    "PP "
   ]
  },
  {
   "cell_type": "code",
   "execution_count": null,
   "id": "78bd071b-b231-48b4-9c2f-800968f5df75",
   "metadata": {},
   "outputs": [],
   "source": []
  }
 ],
 "metadata": {
  "kernelspec": {
   "display_name": "Python 3 (ipykernel)",
   "language": "python",
   "name": "python3"
  },
  "language_info": {
   "codemirror_mode": {
    "name": "ipython",
    "version": 3
   },
   "file_extension": ".py",
   "mimetype": "text/x-python",
   "name": "python",
   "nbconvert_exporter": "python",
   "pygments_lexer": "ipython3",
   "version": "3.9.12"
  },
  "widgets": {
   "application/vnd.jupyter.widget-state+json": {
    "state": {},
    "version_major": 2,
    "version_minor": 0
   }
  }
 },
 "nbformat": 4,
 "nbformat_minor": 5
}
