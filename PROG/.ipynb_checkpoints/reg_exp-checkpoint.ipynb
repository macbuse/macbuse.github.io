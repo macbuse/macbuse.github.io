{
 "cells": [
  {
   "cell_type": "markdown",
   "metadata": {},
   "source": [
    "# Requests, regular expressions html, Markdown, svg"
   ]
  },
  {
   "cell_type": "markdown",
   "metadata": {},
   "source": [
    "## HTTP\n",
    "\n",
    "HTTP est un protocole de la couche application. Il peut fonctionner sur n'importe quelle connexion fiable, dans les faits on utilise le protocole TCP comme couche de transport. Un serveur HTTP utilise alors par défaut le port 80 (443 pour HTTPS).\n",
    "\n",
    "Les clients HTTP les plus connus sont les navigateurs Web permettant à un utilisateur d'accéder à un serveur contenant les données. Il existe aussi des systèmes pour récupérer automatiquement le contenu d'un site tel que les aspirateurs de site Web ou les robots d'indexation.\n",
    "\n",
    "\n",
    "[source : wiki](https://fr.wikipedia.org/wiki/Hypertext_Transfer_Protocol)"
   ]
  },
  {
   "cell_type": "markdown",
   "metadata": {},
   "source": [
    "## URL\n",
    "\n",
    "Une URL (sigle de l’anglais : Uniform Resource Locator, littéralement « localisateur uniforme de ressource »), couramment appelée adresse web, est une chaîne de caractères uniforme qui permet d'identifier une ressource du World Wide Web par son emplacement et de préciser le protocole internet pour la récupérer (par exemple http ou https). Elle peut localiser divers formats de données : document HTML, image, son....\n",
    "\n",
    "Les URL constituent un sous-ensemble des identifiants uniformes de ressource (Uniform Resource Identifier, URI), identifiants uniques d'accès à une ressource. La syntaxe d'une URL est décrite dans la RFC 39863.\n",
    "\n",
    "\n",
    "Exemple d'URL dans un navigateur web.\n",
    "Une URL, outre les adresses web, concerne d'autres ressources, selon d'autres schémas, par exemple :\n",
    "\n",
    "forum Usenet : news:fr.comp.infosystemes.www.auteurs ;\n",
    "boîte aux lettres électronique : mailto:john.doe@mail.com ;\n",
    "FTP : ftp://ftp.mozilla.org/pub/mozilla.org/firefox/releases/ ;\n",
    "numéro de téléphone: tel:+33 1 234 567 890\n",
    "\n",
    "[wiki](https://fr.wikipedia.org/wiki/Uniform_Resource_Locator"
   ]
  },
  {
   "cell_type": "code",
   "execution_count": 8,
   "metadata": {},
   "outputs": [],
   "source": [
    "import requests\n",
    "\n",
    "url = 'https://en.wikipedia.org/wiki/Hypertext_Transfer_Protocol'"
   ]
  },
  {
   "cell_type": "code",
   "execution_count": 9,
   "metadata": {},
   "outputs": [],
   "source": [
    "r = requests.get(url)"
   ]
  },
  {
   "cell_type": "code",
   "execution_count": 10,
   "metadata": {},
   "outputs": [
    {
     "data": {
      "text/plain": [
       "<Response [200]>"
      ]
     },
     "execution_count": 10,
     "metadata": {},
     "output_type": "execute_result"
    }
   ],
   "source": [
    "r"
   ]
  },
  {
   "cell_type": "markdown",
   "metadata": {},
   "source": [
    "## Status codes\n",
    "\n",
    "All HTTP response status codes are separated into five classes or categories. The first digit of the status code defines the class of response, while the last two digits do not have any classifying or categorization role. There are five classes defined by the standard:\n",
    "\n",
    "- 1xx informational response – the request was received, continuing process\n",
    "- 2xx successful – the request was successfully received, understood, and accepted\n",
    "- 3xx redirection – further action needs to be taken in order to complete the request\n",
    "- 4xx client error – the request contains bad syntax or cannot be fulfilled\n",
    "- 5xx server error – the server failed to fulfil an apparently valid request\n",
    "\n",
    "\n",
    "\n",
    "[source](https://en.wikipedia.org/wiki/List_of_HTTP_status_codes)"
   ]
  },
  {
   "cell_type": "code",
   "execution_count": 9,
   "metadata": {},
   "outputs": [
    {
     "data": {
      "text/plain": [
       "['apparent_encoding',\n",
       " 'close',\n",
       " 'connection',\n",
       " 'content',\n",
       " 'cookies',\n",
       " 'elapsed',\n",
       " 'encoding',\n",
       " 'headers',\n",
       " 'history',\n",
       " 'is_permanent_redirect',\n",
       " 'is_redirect',\n",
       " 'iter_content',\n",
       " 'iter_lines',\n",
       " 'json',\n",
       " 'links',\n",
       " 'next',\n",
       " 'ok',\n",
       " 'raise_for_status',\n",
       " 'raw',\n",
       " 'reason',\n",
       " 'request',\n",
       " 'status_code',\n",
       " 'text',\n",
       " 'url']"
      ]
     },
     "execution_count": 9,
     "metadata": {},
     "output_type": "execute_result"
    }
   ],
   "source": [
    "[ x for x in dir(r) if x[0] != \"_\"]"
   ]
  },
  {
   "cell_type": "code",
   "execution_count": 12,
   "metadata": {},
   "outputs": [
    {
     "data": {
      "text/plain": [
       "'<!DOCTYPE html>\\n<html class=\"client-nojs\" lang=\"en\" dir=\"ltr\">\\n<head>\\n<meta charset=\"UTF-8\"/>\\n<title'"
      ]
     },
     "execution_count": 12,
     "metadata": {},
     "output_type": "execute_result"
    }
   ],
   "source": [
    "r.text[:100]"
   ]
  },
  {
   "cell_type": "code",
   "execution_count": 12,
   "metadata": {},
   "outputs": [],
   "source": [
    "data = r.text"
   ]
  },
  {
   "cell_type": "markdown",
   "metadata": {},
   "source": [
    "## href\n",
    "\n",
    "The HTML ```<a>``` element (or anchor element), with its href attribute, creates a hyperlink to web pages, files, email addresses, locations in the same page, or anything else a URL can address. \n",
    "\n",
    "Content within each ```<a>``` should indicate the link's destination.xample\n",
    "\n",
    "\n",
    "### Example\n",
    "\n",
    "```\n",
    "<p>You can reach Michael at:</p>\n",
    "\n",
    "<ul>\n",
    "  <li><a href=\"https://example.com\">Website</a></li>\n",
    "  <li><a href=\"mailto:m.bluth@example.com\">Email</a></li>\n",
    "  <li><a href=\"tel:+123456789\">Phone</a></li>\n",
    "</ul>\n",
    "```\n",
    "\n",
    "[source](https://developer.mozilla.org/en-US/docs/Web/HTML/Element/a)"
   ]
  },
  {
   "cell_type": "markdown",
   "metadata": {},
   "source": [
    "## Find all the ```<a> </a>``` in data\n",
    "\n",
    "- method 1 : regular expressions\n",
    "    \n",
    "- method 2 : beautiful soup\n",
    "\n",
    "### expression régulière\n",
    "\n",
    "Une expression régulière est une chaîne de caractères, qui décrit, selon une syntaxe précise, un ensemble de chaînes de caractères possibles. Les expressions régulières sont également appelées regex (un mot-valise formé depuis l'anglais regular expression). Les expressions rationnelles sont issues des théories mathématiques des langages formels des années 1940. Leur capacité à décrire avec concision des ensembles réguliers explique qu’elles se retrouvent dans plusieurs domaines scientifiques dans les années d’après-guerre et justifie leur adoption en informatique. Les expressions régulières sont aujourd’hui utilisées pour programmer des logiciels avec des fonctionnalités de lecture, de contrôle, de modification, et d'analyse de textes ainsi que dans la manipulation des langues formelles que sont les langages informatiques.\n",
    "\n",
    "Ces expressions régulières ont la qualité de pouvoir être décrites par des formules ou motifs, (en anglais patterns) bien plus simples que les autres moyens2\n",
    "\n",
    "[source](https://fr.wikipedia.org/wiki/Expression_r%C3%A9guli%C3%A8re)\n",
    "\n",
    "---\n",
    "\n",
    "Exemple :\n",
    "\n",
    "\n",
    "\n",
    "```\\se[^\\s]*```\n",
    "\n",
    "is a **pattern** that ***matches*** (finds)  a word that begins with ```e```\n",
    "\n",
    "- \\s = space\n",
    "- e = e\n",
    "- [^\\s] is any character which is not space\n",
    "-  [^\\s]* is any sequence of characters which is not space\n",
    "\n",
    "\n",
    "to find ```<a>  </a>``` we use \n",
    "\n",
    "```<a>.*?</a>```\n",
    "\n",
    "- ```.``` = any character except ```\\n```\n",
    "- ```.*``` = any sequence of characters except ```\\n```\n",
    "- ```?</a>``` = stop when you find ```</a>```\n",
    "\n",
    "\n",
    "\n",
    "\n",
    "[look here](https://www.w3schools.com/python/python_regex.asp)\n",
    "\n",
    "\n",
    "---\n",
    "\n",
    "\n",
    "Python utilise des expressions régulières basées sur les expressions régulières POSIX, avec quelques extensions ou différences.\n",
    "\n",
    "Les éléments compatibles POSIX sont les suivants :\n",
    "\n",
    "- opérateurs [ ], ., *, ?, +, |, ( )\n",
    "- caractères \\t, \\n, \\v, \\f, \\r\n",
    "\n",
    "\n",
    "- ```[ ]``` = ensemble de caracteres\n",
    "- . = n'importe quoi\n",
    "- .* = sequence de n'importe quoi\n",
    "- .*? = sequence de n'importe quoi mais on doit s'arreter quand on trouve la suite...\n",
    "-  ```( )``` = groupe a capturer\n",
    "\n",
    "[source](https://fr.wikipedia.org/wiki/Expression_r%C3%A9guli%C3%A8re#Python)\n",
    "\n",
    "\n"
   ]
  },
  {
   "cell_type": "code",
   "execution_count": 22,
   "metadata": {},
   "outputs": [],
   "source": [
    "import re"
   ]
  },
  {
   "cell_type": "code",
   "execution_count": 24,
   "metadata": {},
   "outputs": [],
   "source": [
    "ss = '''Une expression régulière est une chaîne de caractères, qui décrit, selon une syntaxe précise, un ensemble de chaînes de caractères possibles. Les expressions régulières sont également appelées regex (un mot-valise formé depuis l'anglais regular expression). Les expressions rationnelles sont issues des théories mathématiques des langages formels des années 1940. Leur capacité à décrire avec concision des ensembles réguliers explique qu’elles se retrouvent dans plusieurs domaines scientifiques dans les années d’après-guerre et justifie leur adoption en informatique. Les expressions régulières sont aujourd’hui utilisées pour programmer des logiciels avec des fonctionnalités de lecture, de contrôle, de modification, et d'analyse de textes ainsi que dans la manipulation des langues formelles que sont les langages informatiques.\n",
    "\n",
    "Ces expressions régulières ont la qualité de pouvoir être décrites par des formules ou motifs, (en anglais patterns) bien plus simples que les autres moyens2'''"
   ]
  },
  {
   "cell_type": "code",
   "execution_count": 43,
   "metadata": {},
   "outputs": [
    {
     "data": {
      "text/plain": [
       "[' expression',\n",
       " ' est',\n",
       " ' ensemble',\n",
       " ' expressions',\n",
       " ' expression).',\n",
       " ' expressions',\n",
       " ' ensembles',\n",
       " ' explique',\n",
       " ' et',\n",
       " ' en',\n",
       " ' expressions',\n",
       " ' et',\n",
       " ' expressions']"
      ]
     },
     "execution_count": 43,
     "metadata": {},
     "output_type": "execute_result"
    }
   ],
   "source": [
    "pp = re.compile('\\se[^\\s]*')\n",
    "pp.findall(ss)"
   ]
  },
  {
   "cell_type": "markdown",
   "metadata": {},
   "source": [
    "## Attributes\n",
    "\n",
    "```<a.*?>``` finds all the ```<a>``` tags whatever their atttibutes"
   ]
  },
  {
   "cell_type": "code",
   "execution_count": 57,
   "metadata": {},
   "outputs": [
    {
     "data": {
      "text/plain": [
       "['<a id=\"top\">',\n",
       " '<a href=\"/wiki/Wikipedia:Protection_policy#pending\" title=\"All edits by unregistered and new users are subject to review prior to becoming visible to unregistered users\">',\n",
       " '<a href=\"/wiki/Wikipedia:Pending_changes\" title=\"Wikipedia:Pending changes\">',\n",
       " '<a class=\"external text\" href=\"https://en.wikipedia.org/w/index.php?title=Special:Log&amp;type=review&amp;page=Hypertext_Transfer_Protocol\">',\n",
       " '<a class=\"mw-jump-link\" href=\"#mw-head\">',\n",
       " '<a class=\"mw-jump-link\" href=\"#searchInput\">',\n",
       " '<a href=\"/wiki/Wikipedia:External_links\" title=\"Wikipedia:External links\">',\n",
       " '<a class=\"external text\" href=\"https://en.wikipedia.org/w/index.php?title=Hypertext_Transfer_Protocol&amp;action=edit\">',\n",
       " '<a href=\"/wiki/Wikipedia:What_Wikipedia_is_not#Wikipedia_is_not_a_mirror_or_a_repository_of_links,_images,_or_media_files\" title=\"Wikipedia:What Wikipedia is not\">',\n",
       " '<a href=\"/wiki/Wikipedia:External_links\" title=\"Wikipedia:External links\">']"
      ]
     },
     "execution_count": 57,
     "metadata": {},
     "output_type": "execute_result"
    }
   ],
   "source": [
    "pa = re.compile('<a.*?>', re.DOTALL)\n",
    "pa.findall(data)[:10]"
   ]
  },
  {
   "cell_type": "markdown",
   "metadata": {},
   "source": [
    "now we can filter them like this"
   ]
  },
  {
   "cell_type": "code",
   "execution_count": 58,
   "metadata": {},
   "outputs": [
    {
     "data": {
      "text/plain": [
       "['<a href=\"/wiki/Wikipedia:Protection_policy#pending\" title=\"All edits by unregistered and new users are subject to review prior to becoming visible to unregistered users\">',\n",
       " '<a href=\"/wiki/Wikipedia:Pending_changes\" title=\"Wikipedia:Pending changes\">',\n",
       " '<a class=\"external text\" href=\"https://en.wikipedia.org/w/index.php?title=Special:Log&amp;type=review&amp;page=Hypertext_Transfer_Protocol\">',\n",
       " '<a class=\"mw-jump-link\" href=\"#mw-head\">',\n",
       " '<a class=\"mw-jump-link\" href=\"#searchInput\">',\n",
       " '<a href=\"/wiki/Wikipedia:External_links\" title=\"Wikipedia:External links\">',\n",
       " '<a class=\"external text\" href=\"https://en.wikipedia.org/w/index.php?title=Hypertext_Transfer_Protocol&amp;action=edit\">',\n",
       " '<a href=\"/wiki/Wikipedia:What_Wikipedia_is_not#Wikipedia_is_not_a_mirror_or_a_repository_of_links,_images,_or_media_files\" title=\"Wikipedia:What Wikipedia is not\">',\n",
       " '<a href=\"/wiki/Wikipedia:External_links\" title=\"Wikipedia:External links\">']"
      ]
     },
     "execution_count": 58,
     "metadata": {},
     "output_type": "execute_result"
    }
   ],
   "source": [
    "[ x for x in pa.findall(data)[:10] if 'href' in x]"
   ]
  },
  {
   "cell_type": "markdown",
   "metadata": {},
   "source": [
    "or change the pattern"
   ]
  },
  {
   "cell_type": "code",
   "execution_count": 62,
   "metadata": {},
   "outputs": [
    {
     "data": {
      "text/plain": [
       "['<a href=\"/wiki/Wikipedia:Protection_policy#pending\" title=\"All edits by unregistered and new users are subject to review prior to becoming visible to unregistered users\">',\n",
       " '<a href=\"/wiki/Wikipedia:Pending_changes\" title=\"Wikipedia:Pending changes\">',\n",
       " '<a href=\"/wiki/Wikipedia:External_links\" title=\"Wikipedia:External links\">',\n",
       " '<a href=\"/wiki/Wikipedia:What_Wikipedia_is_not#Wikipedia_is_not_a_mirror_or_a_repository_of_links,_images,_or_media_files\" title=\"Wikipedia:What Wikipedia is not\">',\n",
       " '<a href=\"/wiki/Wikipedia:External_links\" title=\"Wikipedia:External links\">',\n",
       " '<a href=\"/wiki/Wikipedia:Citing_sources\" title=\"Wikipedia:Citing sources\">',\n",
       " '<a href=\"/wiki/Help:Maintenance_template_removal\" title=\"Help:Maintenance template removal\">',\n",
       " '<a href=\"/wiki/File:HTTP_logo.svg\" class=\"image\">',\n",
       " '<a href=\"/wiki/CERN\" title=\"CERN\">',\n",
       " '<a href=\"/wiki/IETF\" class=\"mw-redirect\" title=\"IETF\">']"
      ]
     },
     "execution_count": 62,
     "metadata": {},
     "output_type": "execute_result"
    }
   ],
   "source": [
    "pax = re.compile('<a href=\".*?\">', re.DOTALL)\n",
    "pax.findall(data)[:10]"
   ]
  },
  {
   "cell_type": "code",
   "execution_count": 64,
   "metadata": {},
   "outputs": [
    {
     "data": {
      "text/plain": [
       "['/wiki/Wikipedia:Protection_policy#pending\" title=\"All edits by unregistered and new users are subject to review prior to becoming visible to unregistered users',\n",
       " '/wiki/Wikipedia:Pending_changes\" title=\"Wikipedia:Pending changes',\n",
       " '/wiki/Wikipedia:External_links\" title=\"Wikipedia:External links',\n",
       " '/wiki/Wikipedia:What_Wikipedia_is_not#Wikipedia_is_not_a_mirror_or_a_repository_of_links,_images,_or_media_files\" title=\"Wikipedia:What Wikipedia is not',\n",
       " '/wiki/Wikipedia:External_links\" title=\"Wikipedia:External links',\n",
       " '/wiki/Wikipedia:Citing_sources\" title=\"Wikipedia:Citing sources',\n",
       " '/wiki/Help:Maintenance_template_removal\" title=\"Help:Maintenance template removal',\n",
       " '/wiki/File:HTTP_logo.svg\" class=\"image',\n",
       " '/wiki/CERN\" title=\"CERN',\n",
       " '/wiki/IETF\" class=\"mw-redirect\" title=\"IETF']"
      ]
     },
     "execution_count": 64,
     "metadata": {},
     "output_type": "execute_result"
    }
   ],
   "source": [
    "### Parenthesis capture a group\n",
    "\n",
    "##We don't need the ```<a`` part so \n",
    "\n",
    "pax = re.compile('<a href=\"(.*?)\">', re.DOTALL)\n",
    "pax.findall(data)[:10]"
   ]
  },
  {
   "cell_type": "markdown",
   "metadata": {},
   "source": [
    "## Method 2\n",
    "\n",
    "[Beautiful soup](https://www.crummy.com/software/BeautifulSoup/bs4/doc/)\n",
    "\n",
    "Beautiful Soup is a Python package for parsing HTML and XML documents (including having malformed markup, i.e. non-closed tags, so named after tag soup). It creates a parse tree for parsed pages that can be used to extract data from HTML which is useful for web scraping."
   ]
  },
  {
   "cell_type": "code",
   "execution_count": 45,
   "metadata": {},
   "outputs": [
    {
     "data": {
      "text/plain": [
       "'<!DOCTYPE '"
      ]
     },
     "execution_count": 45,
     "metadata": {},
     "output_type": "execute_result"
    }
   ],
   "source": [
    "data[:10]"
   ]
  },
  {
   "cell_type": "code",
   "execution_count": 5,
   "metadata": {},
   "outputs": [],
   "source": [
    "import bs4\n",
    "from bs4 import BeautifulSoup\n"
   ]
  },
  {
   "cell_type": "code",
   "execution_count": 26,
   "metadata": {},
   "outputs": [],
   "source": [
    "soup = BeautifulSoup(data, 'lxml')"
   ]
  },
  {
   "cell_type": "code",
   "execution_count": 30,
   "metadata": {},
   "outputs": [
    {
     "data": {
      "text/plain": [
       "[<a href=\"/wiki/Wikipedia:Protection_policy#pending\" title=\"All edits by unregistered and new users are subject to review prior to becoming visible to unregistered users\"><img alt=\"Page protected with pending changes\" data-file-height=\"512\" data-file-width=\"512\" decoding=\"async\" height=\"20\" src=\"//upload.wikimedia.org/wikipedia/en/thumb/b/b7/Pending-protection-shackle.svg/20px-Pending-protection-shackle.svg.png\" srcset=\"//upload.wikimedia.org/wikipedia/en/thumb/b/b7/Pending-protection-shackle.svg/30px-Pending-protection-shackle.svg.png 1.5x, //upload.wikimedia.org/wikipedia/en/thumb/b/b7/Pending-protection-shackle.svg/40px-Pending-protection-shackle.svg.png 2x\" width=\"20\"/></a>,\n",
       " <a href=\"/wiki/Wikipedia:Pending_changes\" title=\"Wikipedia:Pending changes\">latest accepted revision</a>,\n",
       " <a class=\"external text\" href=\"https://en.wikipedia.org/w/index.php?title=Special:Log&amp;type=review&amp;page=Hypertext_Transfer_Protocol\">reviewed</a>,\n",
       " <a class=\"mw-jump-link\" href=\"#mw-head\">Jump to navigation</a>,\n",
       " <a class=\"mw-jump-link\" href=\"#searchInput\">Jump to search</a>,\n",
       " <a href=\"/wiki/Wikipedia:External_links\" title=\"Wikipedia:External links\">external links</a>,\n",
       " <a class=\"external text\" href=\"https://en.wikipedia.org/w/index.php?title=Hypertext_Transfer_Protocol&amp;action=edit\">improve this article</a>,\n",
       " <a href=\"/wiki/Wikipedia:What_Wikipedia_is_not#Wikipedia_is_not_a_mirror_or_a_repository_of_links,_images,_or_media_files\" title=\"Wikipedia:What Wikipedia is not\">excessive</a>,\n",
       " <a href=\"/wiki/Wikipedia:External_links\" title=\"Wikipedia:External links\">inappropriate</a>,\n",
       " <a href=\"/wiki/Wikipedia:Citing_sources\" title=\"Wikipedia:Citing sources\">footnote references</a>]"
      ]
     },
     "execution_count": 30,
     "metadata": {},
     "output_type": "execute_result"
    }
   ],
   "source": [
    "soup.find_all('a', href=True)[:10]"
   ]
  },
  {
   "cell_type": "code",
   "execution_count": 38,
   "metadata": {},
   "outputs": [
    {
     "data": {
      "text/plain": [
       "[<a class=\"external text\" href=\"https://en.wikipedia.org/w/index.php?title=Special:Log&amp;type=review&amp;page=Hypertext_Transfer_Protocol\">reviewed</a>,\n",
       " <a class=\"external text\" href=\"https://en.wikipedia.org/w/index.php?title=Hypertext_Transfer_Protocol&amp;action=edit\">improve this article</a>,\n",
       " <a class=\"external mw-magiclink-rfc\" href=\"https://tools.ietf.org/html/rfc1945\" rel=\"nofollow\">RFC 1945</a>,\n",
       " <a class=\"external mw-magiclink-rfc\" href=\"https://tools.ietf.org/html/rfc2616\" rel=\"nofollow\">RFC 2616</a>,\n",
       " <a class=\"external mw-magiclink-rfc\" href=\"https://tools.ietf.org/html/rfc7540\" rel=\"nofollow\">RFC 7540</a>,\n",
       " <a class=\"external mw-magiclink-rfc\" href=\"https://tools.ietf.org/html/rfc7541\" rel=\"nofollow\">RFC 7541</a>,\n",
       " <a class=\"external mw-magiclink-rfc\" href=\"https://tools.ietf.org/html/rfc7230\" rel=\"nofollow\">RFC 7230</a>,\n",
       " <a class=\"external mw-magiclink-rfc\" href=\"https://tools.ietf.org/html/rfc7231\" rel=\"nofollow\">RFC 7231</a>,\n",
       " <a class=\"external mw-magiclink-rfc\" href=\"https://tools.ietf.org/html/rfc7232\" rel=\"nofollow\">RFC 7232</a>,\n",
       " <a class=\"external mw-magiclink-rfc\" href=\"https://tools.ietf.org/html/rfc7233\" rel=\"nofollow\">RFC 7233</a>]"
      ]
     },
     "execution_count": 38,
     "metadata": {},
     "output_type": "execute_result"
    }
   ],
   "source": [
    "soup.findAll('a', attrs={'href': re.compile(\"https://\")})[:10]"
   ]
  },
  {
   "cell_type": "code",
   "execution_count": 43,
   "metadata": {},
   "outputs": [
    {
     "data": {
      "text/plain": [
       "'https://en.wikipedia.org/w/index.php?title=Special:Log&type=review&page=Hypertext_Transfer_Protocol'"
      ]
     },
     "execution_count": 43,
     "metadata": {},
     "output_type": "execute_result"
    }
   ],
   "source": [
    "L = soup.findAll('a', attrs={'href': re.compile(\"https://\")})\n",
    "L[0]['href']"
   ]
  },
  {
   "cell_type": "markdown",
   "metadata": {},
   "source": [
    "## Exo \n",
    "\n",
    "Verifier si [this](https://en.wikipedia.org/wiki/Wikipedia:Getting_to_Philosophy) est vrai ?\n",
    "\n",
    "Write a [crawler](https://en.wikipedia.org/wiki/Web_crawler)\n",
    "that follows the first link on the wiki page."
   ]
  },
  {
   "cell_type": "code",
   "execution_count": null,
   "metadata": {},
   "outputs": [],
   "source": []
  }
 ],
 "metadata": {
  "kernelspec": {
   "display_name": "Python 3",
   "language": "python",
   "name": "python3"
  },
  "language_info": {
   "codemirror_mode": {
    "name": "ipython",
    "version": 3
   },
   "file_extension": ".py",
   "mimetype": "text/x-python",
   "name": "python",
   "nbconvert_exporter": "python",
   "pygments_lexer": "ipython3",
   "version": "3.8.3"
  }
 },
 "nbformat": 4,
 "nbformat_minor": 4
}
