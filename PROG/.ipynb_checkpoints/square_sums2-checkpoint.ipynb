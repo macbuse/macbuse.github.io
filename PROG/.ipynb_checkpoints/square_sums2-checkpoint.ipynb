{
 "cells": [
  {
   "cell_type": "code",
   "execution_count": 1,
   "metadata": {},
   "outputs": [],
   "source": [
    "import matplotlib.pyplot as plt\n",
    "import numpy as np"
   ]
  },
  {
   "cell_type": "code",
   "execution_count": 31,
   "metadata": {},
   "outputs": [
    {
     "name": "stdout",
     "output_type": "stream",
     "text": [
      "1\n",
      "(1+4j)\n",
      "(17+4j)\n",
      "(17+72j)\n",
      "(305+72j)\n",
      "(305+1292j)\n",
      "(5473+1292j)\n",
      "(5473+23184j)\n",
      "(98209+23184j)\n",
      "(98209+416020j)\n"
     ]
    }
   ],
   "source": [
    "x,y,z = 1,2, 1\n",
    "\n",
    "for k in range(10):\n",
    "    x, z = (abs(x**2) + 1J*abs(y**2))*z/abs(z**2), x\n",
    "    print(z)\n",
    "    "
   ]
  },
  {
   "cell_type": "code",
   "execution_count": 4,
   "metadata": {},
   "outputs": [],
   "source": [
    "\n",
    "    "
   ]
  },
  {
   "cell_type": "code",
   "execution_count": 9,
   "metadata": {},
   "outputs": [],
   "source": [
    "tree((1,1,1),13)"
   ]
  },
  {
   "cell_type": "markdown",
   "metadata": {},
   "source": [
    "\n",
    " $$zz' = |x|^2 + i |y|^2$$\n",
    "\n",
    " \n",
    " $$z' = \\frac{z(|x|^2 + i |y|^2)}{|z|^2}$$"
   ]
  },
  {
   "cell_type": "code",
   "execution_count": 65,
   "metadata": {},
   "outputs": [
    {
     "data": {
      "text/plain": [
       "[<matplotlib.lines.Line2D at 0x7f2165cf6490>]"
      ]
     },
     "execution_count": 65,
     "metadata": {},
     "output_type": "execute_result"
    },
    {
     "data": {
      "image/png": "[encoded data removed]",
      "text/plain": [
       "<Figure size 432x432 with 1 Axes>"
      ]
     },
     "metadata": {
      "needs_background": "light"
     },
     "output_type": "display_data"
    }
   ],
   "source": [
    "L = []\n",
    "\n",
    "def tree_d(nn,dd):\n",
    "    x,y,z = nn\n",
    "    tt = (abs(x**2) + 1J*abs(y**2))*z/abs(z**2)\n",
    "    L.append(tt)\n",
    "    dd -= 1\n",
    "    if dd > 0:\n",
    "        tree_d((tt,y,x), dd)\n",
    "        tree_d((x,tt,y), dd)\n",
    "\n",
    "tree_d((1,1 + 1J,1),9)\n",
    "pts = np.array([ w/abs(w) for w in L])\n",
    "fig, ax = plt.subplots()\n",
    "fig.set_size_inches(6,6)\n",
    "ax.set_aspect('equal')\n",
    "#ax.plot(abs(pts.real),abs(pts.imag),'ro')\n",
    "ax.plot(pts.real, pts.imag,'ro')"
   ]
  },
  {
   "cell_type": "code",
   "execution_count": 50,
   "metadata": {},
   "outputs": [
    {
     "data": {
      "text/plain": [
       "array([  1.,   2.,   5.,  13.,  34., 194.,  29., 433., 169.,   5.,  29.,\n",
       "       169., 433.,  13., 194.,  34.,   2.,   5.,  13.,  34., 194.,  29.,\n",
       "       433., 169.,   5.,  29., 169., 433.,  13., 194.,  34.])"
      ]
     },
     "execution_count": 50,
     "metadata": {},
     "output_type": "execute_result"
    }
   ],
   "source": [
    "\n",
    "\n",
    "MM = np.array(L)\n",
    "abs(MM**2)\n",
    "    "
   ]
  },
  {
   "cell_type": "code",
   "execution_count": 63,
   "metadata": {},
   "outputs": [
    {
     "data": {
      "text/plain": [
       "[(1j, (1+0j)),\n",
       " ((1+1j), (1-1j)),\n",
       " ((-1+2j), (2-1j)),\n",
       " ((2+3j), (2-3j)),\n",
       " ((-3+5j), (5-3j)),\n",
       " ((5+8j), (5-8j)),\n",
       " ((-8+13j), (13-8j)),\n",
       " ((13+21j), (13-21j)),\n",
       " ((-21+34j), (34-21j)),\n",
       " ((233+610j), (233-610j)),\n",
       " ((89+233j), (89-233j)),\n",
       " ((3474+5605j), (3474-5605j)),\n",
       " ((-3474-2131j), (-2131-3474j)),\n",
       " ((34+89j), (34-89j)),\n",
       " ((-814+1327j), (1327-814j)),\n",
       " ((9077+23763j), (9077-23763j)),\n",
       " ((-217335+136969j), (-217335-136969j)),\n",
       " ((-814+513j), (-814-513j)),\n",
       " ((-83020+135341j), (135341-83020j)),\n",
       " ((-9077+3468j), (-9077-3468j)),\n",
       " ((13+34j), (13-34j)),\n",
       " ((196+311j), (196-311j)),\n",
       " ((1325+3468j), (1325-3468j)),\n",
       " ((19990+31719j), (19990-31719j)),\n",
       " ((-2038784-1196243j), (-1196243-2038784j)),\n",
       " ((-19990-11729j), (-11729-19990j)),\n",
       " ((5266875+13785299j), (5266875-13785299j)),\n",
       " ((-1236223+779103j), (-1236223-779103j)),\n",
       " ((-196-115j), (-115-196j)),\n",
       " ((7639+12121j), (7639-12121j)),\n",
       " ((-779097-457130j), (-457130-779097j)),\n",
       " ((-5266875+2015324j), (-5266875-2015324j)),\n",
       " ((-1325+507j), (-1325-507j)),\n",
       " ((297725+472408j), (297725-472408j)),\n",
       " ((4482-7639j), (-7639+4482j)),\n",
       " ((5+13j), (5-13j)),\n",
       " ((-44+75j), (75-44j)),\n",
       " ((194+507j), (194-507j)),\n",
       " ((-1715+2923j), (2923-1715j)),\n",
       " ((7561+19760j), (7561-19760j)),\n",
       " ((-2605084+1834951j), (-2605084-1834951j)),\n",
       " ((-66841+47081j), (-66841-47081j)),\n",
       " ((-38901343+66302410j), (66302410-38901343j)),\n",
       " ((-11500276+4400515j), (-11500276-4400515j)),\n",
       " ((-1715+1208j), (-1715-1208j)),\n",
       " ((112908+295073j), (112908-295073j)),\n",
       " ((-38901347+27401061j), (-38901347-27401061j)),\n",
       " ((-990135631-580820897j), (-580820897-990135631j)),\n",
       " ((-43651-25606j), (-25606-43651j)),\n",
       " ((65712262+171731979j), (65712262-171731979j)),\n",
       " ((-703054-998127j), (-703054+998127j)),\n",
       " ((-44+31j), (-44-31j)),\n",
       " ((-657+1120j), (1120-657j)),\n",
       " ((-25610+18039j), (-25610-18039j)),\n",
       " ((-382373+651838j), (651838-382373j)),\n",
       " ((-65712262+25403643j), (-65712262-25403643j)),\n",
       " ((-112908+43649j), (-112908-43649j)),\n",
       " ((-222576507+156776947j), (-222576507-156776947j)),\n",
       " ((-9733921-5709985j), (-5709985-9733921j)),\n",
       " ((-194+75j), (-194-75j)),\n",
       " ((-9811+16725j), (16725-9811j)),\n",
       " ((-1686059+651812j), (-1686059-651812j)),\n",
       " ((-4023930-5709989j), (-4023930+5709989j)),\n",
       " ((-463-657j), (-463+657j)),\n",
       " ((-146508+249755j), (249755-146508j)),\n",
       " ((-1120-2897j), (-1120+2897j)),\n",
       " ((2+5j), (2-5j)),\n",
       " ((12+17j), (12-17j)),\n",
       " ((29+75j), (29-75j)),\n",
       " ((179+254j), (179-254j)),\n",
       " ((433+1120j), (433-1120j)),\n",
       " ((2673+3793j), (2673-3793j)),\n",
       " ((-596067-249755j), (-249755-596067j)),\n",
       " ((-39916-16725j), (-16725-39916j)),\n",
       " ((8399339+21725758j), (8399339-21725758j)),\n",
       " ((-4927080+3472259j), (-4927080-3472259j)),\n",
       " ((-2673-1120j), (-1120-2673j)),\n",
       " ((232522+329945j), (232522-329945j)),\n",
       " ((-51850853-21725762j), (-21725762-51850853j)),\n",
       " ((-1889811349+730839046j), (-1889811349-730839046j)),\n",
       " ((-97423+37676j), (-97423-37676j)),\n",
       " ((302045899+428598301j), (302045899-428598301j)),\n",
       " ((1454879-3472225j), (-3472225+1454879j)),\n",
       " ((-179-75j), (-75-179j)),\n",
       " ((2523+6524j), (2523-6524j)),\n",
       " ((-232520-97427j), (-97427-232520j)),\n",
       " ((3277375+8474671j), (3277375-8474671j)),\n",
       " ((-2493975901+1763331701j), (-2493975901-1763331701j)),\n",
       " ((-1919921+1357454j), (-1919921-1357454j)),\n",
       " ((-26274294958-11009056145j), (-11009056145-26274294958j)),\n",
       " ((-737198950+285093959j), (-737198950-285093959j)),\n",
       " ((-1478+1045j), (-1478-1045j)),\n",
       " ((219472+567513j), (219472-567513j)),\n",
       " ((-167011056+118082893j), (-167011056-118082893j)),\n",
       " ((737198954-1759491857j), (-1759491857+737198954j)),\n",
       " ((6524-15571j), (-15571+6524j)),\n",
       " ((19091541+49367107j), (19091541-49367107j)),\n",
       " ((-90903-128569j), (-90903+128569j)),\n",
       " ((-12-5j), (-5-12j)),\n",
       " ((70+99j), (70-99j)),\n",
       " ((-1043-437j), (-437-1043j)),\n",
       " ((6089+8612j), (6089-8612j)),\n",
       " ((-90729-38014j), (-38014-90729j)),\n",
       " ((-19091541+7892380j), (-19091541-7892380j)),\n",
       " ((-219472+90729j), (-219472-90729j)),\n",
       " ((268543168+379815035j), (268543168-379815035j)),\n",
       " ((19272999-45999434j), (-45999434+19272999j)),\n",
       " ((-2523+1043j), (-2523-1043j)),\n",
       " ((-528799-221558j), (-221558-528799j)),\n",
       " ((-111271871+45999424j), (-111271871-45999424j)),\n",
       " ((-2213617775+1565259572j), (-2213617775-1565259572j)),\n",
       " ((-50192+35491j), (-50192-35491j)),\n",
       " ((-268100050-112329469j), (-112329469-268100050j)),\n",
       " ((-528799-1279156j), (-528799+1279156j)),\n",
       " ((-29+12j), (-29-12j)),\n",
       " ((408+577j), (408-577j)),\n",
       " ((-14705+6079j), (-14705-6079j)),\n",
       " ((206855+292538j), (206855-292538j)),\n",
       " ((7455406-17992853j), (-17992853+7455406j)),\n",
       " ((14705-35489j), (-35489+14705j)),\n",
       " ((-43453270+17963443j), (-43453270-17963443j)),\n",
       " ((-1705034+1205641j), (-1705034-1205641j)),\n",
       " ((29-70j), (-70+29j)),\n",
       " ((2378+3363j), (2378-3363j)),\n",
       " ((85707-206845j), (-206845+85707j)),\n",
       " ((-206845-499397j), (-206845+499397j)),\n",
       " ((-70-169j), (-70+169j)),\n",
       " ((13860+19601j), (13860-19601j)),\n",
       " ((408+169j), (169+408j)),\n",
       " ((1+2j), (1-2j)),\n",
       " ((-2+5j), (5-2j)),\n",
       " ((5+12j), (5-12j)),\n",
       " ((-12+29j), (29-12j)),\n",
       " ((29+70j), (29-70j)),\n",
       " ((-70+169j), (169-70j)),\n",
       " ((169+408j), (169-408j)),\n",
       " ((-13860+19601j), (-13860-19601j)),\n",
       " ((-2378+3363j), (-2378-3363j)),\n",
       " ((-206845+499397j), (499397-206845j)),\n",
       " ((-206845+85707j), (-206845-85707j)),\n",
       " ((-408+577j), (-408-577j)),\n",
       " ((14705+35489j), (14705-35489j)),\n",
       " ((-1205641+1705034j), (-1205641-1705034j)),\n",
       " ((-43453270-17963443j), (-17963443-43453270j)),\n",
       " ((-14705-6079j), (-6079-14705j)),\n",
       " ((7455406+17992853j), (7455406-17992853j)),\n",
       " ((-292538-206855j), (-292538+206855j)),\n",
       " ((-70+99j), (-70-99j)),\n",
       " ((-1043+2523j), (2523-1043j)),\n",
       " ((-35491+50192j), (-35491-50192j)),\n",
       " ((-528799+1279156j), (1279156-528799j)),\n",
       " ((-268100050+112329469j), (-268100050-112329469j)),\n",
       " ((-528799+221558j), (-528799-221558j)),\n",
       " ((-1565259572+2213617775j), (-1565259572-2213617775j)),\n",
       " ((-111271871-45999424j), (-45999424-111271871j)),\n",
       " ((-1043+437j), (-1043-437j)),\n",
       " ((-90729+219472j), (219472-90729j)),\n",
       " ((-45999434+19272999j), (-45999434-19272999j)),\n",
       " ((-379815035-268543168j), (-379815035+268543168j)),\n",
       " ((-8612-6089j), (-8612+6089j)),\n",
       " ((-7892380+19091541j), (19091541-7892380j)),\n",
       " ((-38014-90729j), (-38014+90729j)),\n",
       " ((-12+17j), (-12-17j)),\n",
       " ((75+179j), (75-179j)),\n",
       " ((-1045+1478j), (-1045-1478j)),\n",
       " ((6524+15571j), (6524-15571j)),\n",
       " ((-90903+128569j), (-90903-128569j)),\n",
       " ((-49367107-19091541j), (-19091541-49367107j)),\n",
       " ((-567513-219472j), (-219472-567513j)),\n",
       " ((737198954+1759491857j), (737198954-1759491857j)),\n",
       " ((-167011056-118082893j), (-167011056+118082893j)),\n",
       " ((-6524-2523j), (-2523-6524j)),\n",
       " ((-1357454+1919921j), (-1357454-1919921j)),\n",
       " ((-737198950-285093959j), (-285093959-737198950j)),\n",
       " ((-26274294958+11009056145j), (-26274294958-11009056145j)),\n",
       " ((-232520+97427j), (-232520-97427j)),\n",
       " ((-1763331701+2493975901j), (-1763331701-2493975901j)),\n",
       " ((3277375-8474671j), (-8474671+3277375j)),\n",
       " ((-75-29j), (-29-75j)),\n",
       " ((1120+2673j), (1120-2673j)),\n",
       " ((-97423-37676j), (-37676-97423j)),\n",
       " ((1454879+3472225j), (1454879-3472225j)),\n",
       " ((-428598301-302045899j), (-428598301+302045899j)),\n",
       " ((-329945-232522j), (-329945+232522j)),\n",
       " ((-1889811349-730839046j), (-730839046-1889811349j)),\n",
       " ((-51850853+21725762j), (-51850853-21725762j)),\n",
       " ((-254-179j), (-254+179j)),\n",
       " ((16725+39916j), (16725-39916j)),\n",
       " ((-4927080-3472259j), (-4927080+3472259j)),\n",
       " ((8399339-21725758j), (-21725758+8399339j)),\n",
       " ((433-1120j), (-1120+433j)),\n",
       " ((249755+596067j), (249755-596067j)),\n",
       " ((2673-3793j), (2673+3793j)),\n",
       " ((-2+3j), (-2-3j)),\n",
       " ((-5+13j), (13-5j)),\n",
       " ((-31+44j), (-31-44j)),\n",
       " ((-75+194j), (194-75j)),\n",
       " ((-463+657j), (-463-657j)),\n",
       " ((-1120+2897j), (2897-1120j)),\n",
       " ((-249755+146508j), (-249755-146508j)),\n",
       " ((-16725+9811j), (-16725-9811j)),\n",
       " ((-4023930+5709989j), (-4023930-5709989j)),\n",
       " ((-1686059-651812j), (-651812-1686059j)),\n",
       " ((-1120+657j), (-1120-657j)),\n",
       " ((-43649+112908j), (112908-43649j)),\n",
       " ((-9733921+5709985j), (-9733921-5709985j)),\n",
       " ((-222576507-156776947j), (-222576507+156776947j)),\n",
       " ((-25610-18039j), (-25610+18039j)),\n",
       " ((-25403643+65712262j), (65712262-25403643j)),\n",
       " ((-382373-651838j), (-382373+651838j)),\n",
       " ((-75+44j), (-75-44j)),\n",
       " ((-1208+1715j), (-1208-1715j)),\n",
       " ((-43651+25606j), (-43651-25606j)),\n",
       " ((-703054+998127j), (-703054-998127j)),\n",
       " ((-171731979-65712262j), (-65712262-171731979j)),\n",
       " ((-295073-112908j), (-112908-295073j)),\n",
       " ((-990135631+580820897j), (-990135631-580820897j)),\n",
       " ((-38901347-27401061j), (-38901347+27401061j)),\n",
       " ((-507-194j), (-194-507j)),\n",
       " ((-47081+66841j), (-47081-66841j)),\n",
       " ((-11500276-4400515j), (-4400515-11500276j)),\n",
       " ((-38901343-66302410j), (-38901343+66302410j)),\n",
       " ((-1715-2923j), (-1715+2923j)),\n",
       " ((-1834951+2605084j), (-1834951-2605084j)),\n",
       " ((7561-19760j), (-19760+7561j)),\n",
       " ((-5+3j), (-5-3j)),\n",
       " ((-13+34j), (34-13j)),\n",
       " ((-196+115j), (-196-115j)),\n",
       " ((-507+1325j), (1325-507j)),\n",
       " ((-7639+4482j), (-7639-4482j)),\n",
       " ((-472408-297725j), (-472408+297725j)),\n",
       " ((-12121-7639j), (-12121+7639j)),\n",
       " ((-2015324+5266875j), (5266875-2015324j)),\n",
       " ((-457130-779097j), (-457130+779097j)),\n",
       " ((-311-196j), (-311+196j)),\n",
       " ((-19990+11729j), (-19990-11729j)),\n",
       " ((-1236223-779103j), (-1236223+779103j)),\n",
       " ((-13785299-5266875j), (-5266875-13785299j)),\n",
       " ((-3468-1325j), (-1325-3468j)),\n",
       " ((-2038784+1196243j), (-2038784-1196243j)),\n",
       " ((19990-31719j), (19990+31719j)),\n",
       " ((-8-5j), (-8+5j)),\n",
       " ((-34+89j), (89-34j)),\n",
       " ((-814-513j), (-814+513j)),\n",
       " ((-3468+9077j), (9077-3468j)),\n",
       " ((-83020-135341j), (-83020+135341j)),\n",
       " ((-814-1327j), (-814+1327j)),\n",
       " ((-217335-136969j), (-217335+136969j)),\n",
       " ((-23763-9077j), (-9077-23763j)),\n",
       " ((-8-13j), (-8+13j)),\n",
       " ((-89+233j), (233-89j)),\n",
       " ((-2131-3474j), (-2131+3474j)),\n",
       " ((3474-5605j), (3474+5605j)),\n",
       " ((13-21j), (13+21j)),\n",
       " ((-233+610j), (610-233j)),\n",
       " ((34-21j), (34+21j)),\n",
       " ((1+1j), (1-1j)),\n",
       " ((2+1j), (2-1j)),\n",
       " ((2+3j), (2-3j)),\n",
       " ((5+3j), (5-3j)),\n",
       " ((5+8j), (5-8j)),\n",
       " ((13+8j), (13-8j)),\n",
       " ((13+21j), (13-21j)),\n",
       " ((34+21j), (34-21j)),\n",
       " ((-610+233j), (233-610j)),\n",
       " ((-233+89j), (89-233j)),\n",
       " ((3474+5605j), (3474-5605j)),\n",
       " ((-2131+3474j), (-2131-3474j)),\n",
       " ((-89+34j), (34-89j)),\n",
       " ((1327+814j), (1327-814j)),\n",
       " ((-23763+9077j), (9077-23763j)),\n",
       " ((-217335+136969j), (-217335-136969j)),\n",
       " ((-814+513j), (-814-513j)),\n",
       " ((135341+83020j), (135341-83020j)),\n",
       " ((-3468-9077j), (-9077-3468j)),\n",
       " ((-34+13j), (13-34j)),\n",
       " ((196+311j), (196-311j)),\n",
       " ((-3468+1325j), (1325-3468j)),\n",
       " ((19990+31719j), (19990-31719j)),\n",
       " ((-1196243+2038784j), (-1196243-2038784j)),\n",
       " ((-11729+19990j), (-11729-19990j)),\n",
       " ((-13785299+5266875j), (5266875-13785299j)),\n",
       " ((-1236223+779103j), (-1236223-779103j)),\n",
       " ((-115+196j), (-115-196j)),\n",
       " ((7639+12121j), (7639-12121j)),\n",
       " ((-457130+779097j), (-457130-779097j)),\n",
       " ((-2015324-5266875j), (-5266875-2015324j)),\n",
       " ((-507-1325j), (-1325-507j)),\n",
       " ((297725+472408j), (297725-472408j)),\n",
       " ((-7639-4482j), (-7639+4482j)),\n",
       " ((-13+5j), (5-13j)),\n",
       " ((75+44j), (75-44j)),\n",
       " ((-507+194j), (194-507j)),\n",
       " ((2923+1715j), (2923-1715j)),\n",
       " ((-19760+7561j), (7561-19760j)),\n",
       " ((-2605084+1834951j), (-2605084-1834951j)),\n",
       " ((-66841+47081j), (-66841-47081j)),\n",
       " ((66302410+38901343j), (66302410-38901343j)),\n",
       " ((-4400515-11500276j), (-11500276-4400515j)),\n",
       " ((-1715+1208j), (-1715-1208j)),\n",
       " ((-295073+112908j), (112908-295073j)),\n",
       " ((-38901347+27401061j), (-38901347-27401061j)),\n",
       " ((-580820897+990135631j), (-580820897-990135631j)),\n",
       " ((-25606+43651j), (-25606-43651j)),\n",
       " ((-171731979+65712262j), (65712262-171731979j)),\n",
       " ((-703054-998127j), (-703054+998127j)),\n",
       " ((-44+31j), (-44-31j)),\n",
       " ((1120+657j), (1120-657j)),\n",
       " ((-25610+18039j), (-25610-18039j)),\n",
       " ((651838+382373j), (651838-382373j)),\n",
       " ((-25403643-65712262j), (-65712262-25403643j)),\n",
       " ((-43649-112908j), (-112908-43649j)),\n",
       " ((-222576507+156776947j), (-222576507-156776947j)),\n",
       " ((-5709985+9733921j), (-5709985-9733921j)),\n",
       " ((-75-194j), (-194-75j)),\n",
       " ((16725+9811j), (16725-9811j)),\n",
       " ((-651812-1686059j), (-1686059-651812j)),\n",
       " ((-4023930-5709989j), (-4023930+5709989j)),\n",
       " ((-463-657j), (-463+657j)),\n",
       " ((249755+146508j), (249755-146508j)),\n",
       " ((2897-1120j), (-1120+2897j)),\n",
       " ((-5+2j), (2-5j)),\n",
       " ((12+17j), (12-17j)),\n",
       " ((-75+29j), (29-75j)),\n",
       " ((179+254j), (179-254j)),\n",
       " ((-1120+433j), (433-1120j)),\n",
       " ((2673+3793j), (2673-3793j)),\n",
       " ((-249755+596067j), (-249755-596067j)),\n",
       " ((-16725+39916j), (-16725-39916j)),\n",
       " ((-21725758+8399339j), (8399339-21725758j)),\n",
       " ((-4927080+3472259j), (-4927080-3472259j)),\n",
       " ((-1120+2673j), (-1120-2673j)),\n",
       " ((232522+329945j), (232522-329945j)),\n",
       " ((-21725762+51850853j), (-21725762-51850853j)),\n",
       " ((-730839046-1889811349j), (-1889811349-730839046j)),\n",
       " ((-37676-97423j), (-97423-37676j)),\n",
       " ((302045899+428598301j), (302045899-428598301j)),\n",
       " ((-3472225-1454879j), (-3472225+1454879j)),\n",
       " ((-75+179j), (-75-179j)),\n",
       " ((-6524+2523j), (2523-6524j)),\n",
       " ((-97427+232520j), (-97427-232520j)),\n",
       " ((-8474671+3277375j), (3277375-8474671j)),\n",
       " ((-2493975901+1763331701j), (-2493975901-1763331701j)),\n",
       " ((-1919921+1357454j), (-1919921-1357454j)),\n",
       " ((-11009056145+26274294958j), (-11009056145-26274294958j)),\n",
       " ((-285093959-737198950j), (-737198950-285093959j)),\n",
       " ((-1478+1045j), (-1478-1045j)),\n",
       " ((-567513+219472j), (219472-567513j)),\n",
       " ((-167011056+118082893j), (-167011056-118082893j)),\n",
       " ((-1759491857-737198954j), (-1759491857+737198954j)),\n",
       " ((-15571-6524j), (-15571+6524j)),\n",
       " ((-49367107+19091541j), (19091541-49367107j)),\n",
       " ((-90903-128569j), (-90903+128569j)),\n",
       " ((-5+12j), (-5-12j)),\n",
       " ((70+99j), (70-99j)),\n",
       " ((-437+1043j), (-437-1043j)),\n",
       " ((6089+8612j), (6089-8612j)),\n",
       " ((-38014+90729j), (-38014-90729j)),\n",
       " ((-7892380-19091541j), (-19091541-7892380j)),\n",
       " ((-90729-219472j), (-219472-90729j)),\n",
       " ((268543168+379815035j), (268543168-379815035j)),\n",
       " ((-45999434-19272999j), (-45999434+19272999j)),\n",
       " ((-1043-2523j), (-2523-1043j)),\n",
       " ((-221558+528799j), (-221558-528799j)),\n",
       " ((-45999424-111271871j), (-111271871-45999424j)),\n",
       " ((-2213617775+1565259572j), (-2213617775-1565259572j)),\n",
       " ((-50192+35491j), (-50192-35491j)),\n",
       " ((-112329469+268100050j), (-112329469-268100050j)),\n",
       " ((1279156-528799j), (-528799+1279156j)),\n",
       " ((-12-29j), (-29-12j)),\n",
       " ((408+577j), (408-577j)),\n",
       " ((-6079-14705j), (-14705-6079j)),\n",
       " ((206855+292538j), (206855-292538j)),\n",
       " ((-17992853-7455406j), (-17992853+7455406j)),\n",
       " ((-35489-14705j), (-35489+14705j)),\n",
       " ((-17963443-43453270j), (-43453270-17963443j)),\n",
       " ((-1705034+1205641j), (-1705034-1205641j)),\n",
       " ((-70-29j), (-70+29j)),\n",
       " ((2378+3363j), (2378-3363j)),\n",
       " ((-206845-85707j), (-206845+85707j)),\n",
       " ((499397-206845j), (-206845+499397j)),\n",
       " ((169-70j), (-70+169j)),\n",
       " ((13860+19601j), (13860-19601j)),\n",
       " ((169-408j), (169+408j)),\n",
       " ((-2+1j), (1-2j)),\n",
       " ((5+2j), (5-2j)),\n",
       " ((-12+5j), (5-12j)),\n",
       " ((29+12j), (29-12j)),\n",
       " ((-70+29j), (29-70j)),\n",
       " ((169+70j), (169-70j)),\n",
       " ((-408+169j), (169-408j)),\n",
       " ((-13860+19601j), (-13860-19601j)),\n",
       " ((-2378+3363j), (-2378-3363j)),\n",
       " ((499397+206845j), (499397-206845j)),\n",
       " ((-85707-206845j), (-206845-85707j)),\n",
       " ((-408+577j), (-408-577j)),\n",
       " ((-35489+14705j), (14705-35489j)),\n",
       " ((-1205641+1705034j), (-1205641-1705034j)),\n",
       " ((-17963443+43453270j), (-17963443-43453270j)),\n",
       " ((-6079+14705j), (-6079-14705j)),\n",
       " ((-17992853+7455406j), (7455406-17992853j)),\n",
       " ((-292538-206855j), (-292538+206855j)),\n",
       " ((-70+99j), (-70-99j)),\n",
       " ((2523+1043j), (2523-1043j)),\n",
       " ((-35491+50192j), (-35491-50192j)),\n",
       " ((1279156+528799j), (1279156-528799j)),\n",
       " ((-112329469-268100050j), (-268100050-112329469j)),\n",
       " ((-221558-528799j), (-528799-221558j)),\n",
       " ((-1565259572+2213617775j), (-1565259572-2213617775j)),\n",
       " ((-45999424+111271871j), (-45999424-111271871j)),\n",
       " ((-437-1043j), (-1043-437j)),\n",
       " ((219472+90729j), (219472-90729j)),\n",
       " ((-19272999-45999434j), (-45999434-19272999j)),\n",
       " ((-379815035-268543168j), (-379815035+268543168j)),\n",
       " ((-8612-6089j), (-8612+6089j)),\n",
       " ((19091541+7892380j), (19091541-7892380j)),\n",
       " ((90729-38014j), (-38014+90729j)),\n",
       " ((-12+17j), (-12-17j)),\n",
       " ((-179+75j), (75-179j)),\n",
       " ((-1045+1478j), (-1045-1478j)),\n",
       " ((-15571+6524j), (6524-15571j)),\n",
       " ((-90903+128569j), (-90903-128569j)),\n",
       " ((-19091541+49367107j), (-19091541-49367107j)),\n",
       " ((-219472+567513j), (-219472-567513j)),\n",
       " ((-1759491857+737198954j), (737198954-1759491857j)),\n",
       " ((-167011056-118082893j), (-167011056+118082893j)),\n",
       " ((-2523+6524j), (-2523-6524j)),\n",
       " ((-1357454+1919921j), (-1357454-1919921j)),\n",
       " ((-285093959+737198950j), (-285093959-737198950j)),\n",
       " ((-11009056145-26274294958j), (-26274294958-11009056145j)),\n",
       " ((-97427-232520j), (-232520-97427j)),\n",
       " ((-1763331701+2493975901j), (-1763331701-2493975901j)),\n",
       " ((-8474671-3277375j), (-8474671+3277375j)),\n",
       " ((-29+75j), (-29-75j)),\n",
       " ((-2673+1120j), (1120-2673j)),\n",
       " ((-37676+97423j), (-37676-97423j)),\n",
       " ((-3472225+1454879j), (1454879-3472225j)),\n",
       " ((-428598301-302045899j), (-428598301+302045899j)),\n",
       " ((-329945-232522j), (-329945+232522j)),\n",
       " ((-730839046+1889811349j), (-730839046-1889811349j)),\n",
       " ((-21725762-51850853j), (-51850853-21725762j)),\n",
       " ((-254-179j), (-254+179j)),\n",
       " ((-39916+16725j), (16725-39916j)),\n",
       " ((-4927080-3472259j), (-4927080+3472259j)),\n",
       " ((-21725758-8399339j), (-21725758+8399339j)),\n",
       " ((-1120-433j), (-1120+433j)),\n",
       " ((-596067+249755j), (249755-596067j)),\n",
       " ((2673-3793j), (2673+3793j)),\n",
       " ((-2+3j), (-2-3j)),\n",
       " ((13+5j), (13-5j)),\n",
       " ((-31+44j), (-31-44j)),\n",
       " ((194+75j), (194-75j)),\n",
       " ((-463+657j), (-463-657j)),\n",
       " ((2897+1120j), (2897-1120j)),\n",
       " ((-146508-249755j), (-249755-146508j)),\n",
       " ((-9811-16725j), (-16725-9811j)),\n",
       " ((-4023930+5709989j), (-4023930-5709989j)),\n",
       " ((-651812+1686059j), (-651812-1686059j)),\n",
       " ((-657-1120j), (-1120-657j)),\n",
       " ((112908+43649j), (112908-43649j)),\n",
       " ((-5709985-9733921j), (-9733921-5709985j)),\n",
       " ((-222576507-156776947j), (-222576507+156776947j)),\n",
       " ((-25610-18039j), (-25610+18039j)),\n",
       " ((65712262+25403643j), (65712262-25403643j)),\n",
       " ((651838-382373j), (-382373+651838j)),\n",
       " ((-44-75j), (-75-44j)),\n",
       " ((-1208+1715j), (-1208-1715j)),\n",
       " ((-25606-43651j), (-43651-25606j)),\n",
       " ((-703054+998127j), (-703054-998127j)),\n",
       " ((-65712262+171731979j), (-65712262-171731979j)),\n",
       " ((-112908+295073j), (-112908-295073j)),\n",
       " ((-580820897-990135631j), (-990135631-580820897j)),\n",
       " ((-38901347-27401061j), (-38901347+27401061j)),\n",
       " ((-194+507j), (-194-507j)),\n",
       " ((-47081+66841j), (-47081-66841j)),\n",
       " ((-4400515+11500276j), (-4400515-11500276j)),\n",
       " ((66302410-38901343j), (-38901343+66302410j)),\n",
       " ((2923-1715j), (-1715+2923j)),\n",
       " ((-1834951+2605084j), (-1834951-2605084j)),\n",
       " ((-19760-7561j), (-19760+7561j)),\n",
       " ((-3-5j), (-5-3j)),\n",
       " ((34+13j), (34-13j)),\n",
       " ((-115-196j), (-196-115j)),\n",
       " ((1325+507j), (1325-507j)),\n",
       " ((-4482-7639j), (-7639-4482j)),\n",
       " ((-472408-297725j), (-472408+297725j)),\n",
       " ((-12121-7639j), (-12121+7639j)),\n",
       " ((5266875+2015324j), (5266875-2015324j)),\n",
       " ((779097-457130j), (-457130+779097j)),\n",
       " ((-311-196j), (-311+196j)),\n",
       " ((-11729-19990j), (-19990-11729j)),\n",
       " ((-1236223-779103j), (-1236223+779103j)),\n",
       " ((-5266875+13785299j), (-5266875-13785299j)),\n",
       " ((-1325+3468j), (-1325-3468j)),\n",
       " ((-1196243-2038784j), (-2038784-1196243j)),\n",
       " ((19990-31719j), (19990+31719j)),\n",
       " ((-8-5j), (-8+5j)),\n",
       " ((89+34j), (89-34j)),\n",
       " ((-814-513j), (-814+513j)),\n",
       " ((9077+3468j), (9077-3468j)),\n",
       " ((135341-83020j), (-83020+135341j)),\n",
       " ((1327-814j), (-814+1327j)),\n",
       " ((-217335-136969j), (-217335+136969j)),\n",
       " ((-9077+23763j), (-9077-23763j)),\n",
       " ((13-8j), (-8+13j)),\n",
       " ((233+89j), (233-89j)),\n",
       " ((3474-2131j), (-2131+3474j)),\n",
       " ((3474-5605j), (3474+5605j)),\n",
       " ((13-21j), (13+21j)),\n",
       " ((610+233j), (610-233j)),\n",
       " ((21+34j), (34+21j))]"
      ]
     },
     "execution_count": 63,
     "metadata": {},
     "output_type": "execute_result"
    }
   ],
   "source": [
    "[(x,y) for x,y in zip(L,TT)]"
   ]
  },
  {
   "cell_type": "code",
   "execution_count": 60,
   "metadata": {},
   "outputs": [],
   "source": [
    "TT = L[:]"
   ]
  },
  {
   "cell_type": "code",
   "execution_count": 26,
   "metadata": {},
   "outputs": [
    {
     "data": {
      "image/png": "[encoded data removed]",
      "text/plain": [
       "<Figure size 432x432 with 1 Axes>"
      ]
     },
     "metadata": {
      "needs_background": "light"
     },
     "output_type": "display_data"
    }
   ],
   "source": [
    "L = []\n",
    "\n",
    "\n",
    "def tree(nn,dd):\n",
    "    x,y,z = nn\n",
    "    L.append((x,y,z))\n",
    "    tt = (abs(x**2) + 1J*abs(y**2))*z/abs(z**2)  \n",
    "    dd -= 1\n",
    "    if dd > 0:\n",
    "        tree((tt,y,x), dd)\n",
    "        tree((x,tt,y), dd)\n",
    "        \n",
    "        \n",
    "tree((1,1,1),4)\n",
    "fig, ax = plt.subplots()\n",
    "fig.set_size_inches(6,6)\n",
    "ax.set_aspect('equal')\n",
    "\n",
    "\n",
    "for xx in L:\n",
    "    pts = np.array([ w/abs(w) for w in xx])\n",
    "    ax.plot(pts.real,pts.imag)\n",
    "    "
   ]
  },
  {
   "cell_type": "code",
   "execution_count": 128,
   "metadata": {},
   "outputs": [],
   "source": [
    "FF = []\n",
    "\n",
    "for ee in [1,-1]:\n",
    "    z,x = 1 + 1J,1\n",
    "    for k in range(20):\n",
    "        x,z = (abs(x**2) + 5*1J*ee)*z/abs(z**2), x\n",
    "        FF.append(z)"
   ]
  },
  {
   "cell_type": "code",
   "execution_count": 129,
   "metadata": {},
   "outputs": [
    {
     "data": {
      "text/plain": [
       "[1, (-2+3j), (13+5j), (-31+44j), (194+75j), (-463+657j)]"
      ]
     },
     "execution_count": 129,
     "metadata": {},
     "output_type": "execute_result"
    }
   ],
   "source": [
    "FF[:6]"
   ]
  },
  {
   "cell_type": "code",
   "execution_count": 130,
   "metadata": {},
   "outputs": [
    {
     "data": {
      "text/plain": [
       "[1,\n",
       " 13.0,\n",
       " 194.0,\n",
       " 2897.0,\n",
       " 43261.0,\n",
       " 646018.0,\n",
       " 9647009.0,\n",
       " 144059117.0,\n",
       " 2151239746.0,\n",
       " 32124537073.0]"
      ]
     },
     "execution_count": 130,
     "metadata": {},
     "output_type": "execute_result"
    }
   ],
   "source": [
    "[ z.real**2 + z.imag**2 for z in FF[:10]]"
   ]
  },
  {
   "cell_type": "code",
   "execution_count": 132,
   "metadata": {},
   "outputs": [
    {
     "data": {
      "text/plain": [
       "[-0.6666666666666666,\n",
       " 2.6,\n",
       " -0.7045454545454546,\n",
       " 2.5866666666666664,\n",
       " -0.7047184170471842,\n",
       " 2.586607142857143,\n",
       " -0.7047191927428397,\n",
       " 2.58660687593423,\n",
       " -0.7047191962213668,\n",
       " 2.5866068747372424,\n",
       " -0.7047191962369659,\n",
       " 2.5866068747318742,\n",
       " -0.7047191962370357,\n",
       " 2.58660687473185,\n",
       " -0.7047191962370359,\n",
       " 2.58660687473185,\n",
       " -0.7047191962370358,\n",
       " 2.58660687473185,\n",
       " -0.7047191962370357]"
      ]
     },
     "execution_count": 132,
     "metadata": {},
     "output_type": "execute_result"
    }
   ],
   "source": [
    "[ z.real/z.imag for z in FF[1:20]]"
   ]
  },
  {
   "cell_type": "code",
   "execution_count": 126,
   "metadata": {},
   "outputs": [
    {
     "data": {
      "text/plain": [
       "0.2724492860207422"
      ]
     },
     "execution_count": 126,
     "metadata": {},
     "output_type": "execute_result"
    }
   ],
   "source": [
    "_[-1]*_[-2]"
   ]
  },
  {
   "cell_type": "code",
   "execution_count": 134,
   "metadata": {},
   "outputs": [
    {
     "data": {
      "text/plain": [
       "2.23606797749979"
      ]
     },
     "execution_count": 134,
     "metadata": {},
     "output_type": "execute_result"
    }
   ],
   "source": [
    "np.sqrt(5)"
   ]
  },
  {
   "cell_type": "code",
   "execution_count": 143,
   "metadata": {},
   "outputs": [],
   "source": [
    "def gcde(a, b): \n",
    "    # Base Case \n",
    "    if a == 0 :  \n",
    "        return b,0,1\n",
    "             \n",
    "    gcd,x1,y1 = gcde(b%a, a) \n",
    "     \n",
    "    x = y1 - (b//a) * x1 \n",
    "    y = x1 \n",
    "     \n",
    "    return gcd,x,y"
   ]
  },
  {
   "cell_type": "code",
   "execution_count": 144,
   "metadata": {},
   "outputs": [
    {
     "data": {
      "text/plain": [
       "(1, -17, 12)"
      ]
     },
     "execution_count": 144,
     "metadata": {},
     "output_type": "execute_result"
    }
   ],
   "source": [
    "gcde(31,44)"
   ]
  },
  {
   "cell_type": "code",
   "execution_count": 145,
   "metadata": {},
   "outputs": [
    {
     "data": {
      "text/plain": [
       "1"
      ]
     },
     "execution_count": 145,
     "metadata": {},
     "output_type": "execute_result"
    }
   ],
   "source": [
    "12*44 - 17*31"
   ]
  },
  {
   "cell_type": "code",
   "execution_count": null,
   "metadata": {},
   "outputs": [],
   "source": []
  }
 ],
 "metadata": {
  "kernelspec": {
   "display_name": "Python 3 (ipykernel)",
   "language": "python",
   "name": "python3"
  },
  "language_info": {
   "codemirror_mode": {
    "name": "ipython",
    "version": 3
   },
   "file_extension": ".py",
   "mimetype": "text/x-python",
   "name": "python",
   "nbconvert_exporter": "python",
   "pygments_lexer": "ipython3",
   "version": "3.8.12"
  },
  "widgets": {
   "application/vnd.jupyter.widget-state+json": {
    "state": {},
    "version_major": 2,
    "version_minor": 0
   }
  }
 },
 "nbformat": 4,
 "nbformat_minor": 4
}
