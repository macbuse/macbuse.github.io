{
 "cells": [
  {
   "cell_type": "markdown",
   "metadata": {},
   "source": [
    "- Algorithmes de base sur les graphes (déterminer la connexité, trouver un plus court chemin entre deux points, trouver un arbre couvrant, déterminer la planarité, trouver des chemins eulériens, hamiltoniens)\n",
    "- Pavages du plan euclidien ou la sphère\n",
    "- Domaines de Dirichlet/Voronoi \n",
    "- Puissance 4 / Master Mind (interface de jeu/intelligence artificielle)\n",
    "- Chemins dans un labyrinthe, Algorithme de Dijsktra\n",
    "- Google Page Rank (exemples simples, puis extraire données réelles) Autour du Rubik (versions simplifiées, etc)\n",
    "- Sudoku (résolution d’une grille, constructeur de grilles avec solution unique, estimer la difficulté d’une grille)\n",
    "- Triangulations de polygones\n"
   ]
  }
 ],
 "metadata": {
  "kernelspec": {
   "display_name": "NLP",
   "language": "python",
   "name": "nlp"
  },
  "language_info": {
   "codemirror_mode": {
    "name": "ipython",
    "version": 3
   },
   "file_extension": ".py",
   "mimetype": "text/x-python",
   "name": "python",
   "nbconvert_exporter": "python",
   "pygments_lexer": "ipython3",
   "version": "3.8.5"
  }
 },
 "nbformat": 4,
 "nbformat_minor": 4
}
