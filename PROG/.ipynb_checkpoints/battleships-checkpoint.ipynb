{
 "cells": [
  {
   "cell_type": "code",
   "execution_count": 20,
   "id": "c55a4b87-21e4-4391-b864-ea089f91364b",
   "metadata": {},
   "outputs": [
    {
     "data": {
      "text/plain": [
       "(array([[2, 2, 2, 2, 2, 2, 2, 2, 2, 2, 2, 2],\n",
       "        [2, 0, 0, 0, 0, 0, 0, 0, 0, 0, 0, 2],\n",
       "        [2, 0, 0, 0, 0, 0, 0, 0, 0, 0, 0, 2],\n",
       "        [2, 0, 0, 0, 0, 0, 0, 0, 0, 1, 0, 2],\n",
       "        [2, 0, 0, 0, 0, 0, 0, 0, 0, 1, 0, 2],\n",
       "        [2, 1, 0, 0, 1, 0, 0, 0, 0, 1, 0, 2],\n",
       "        [2, 1, 0, 0, 1, 0, 1, 0, 0, 0, 0, 2],\n",
       "        [2, 1, 0, 0, 1, 0, 1, 0, 0, 0, 0, 2],\n",
       "        [2, 1, 0, 0, 1, 0, 1, 0, 0, 0, 0, 2],\n",
       "        [2, 0, 0, 0, 1, 0, 1, 0, 0, 0, 0, 2],\n",
       "        [2, 0, 0, 0, 0, 0, 1, 0, 0, 0, 0, 2],\n",
       "        [2, 2, 2, 2, 2, 2, 2, 2, 2, 2, 2, 2]]),\n",
       " [[(9, 4), (8, 4), (7, 4), (6, 4), (5, 4)],\n",
       "  [(6, 6), (7, 6), (8, 6), (9, 6), (10, 6)],\n",
       "  [(8, 1), (7, 1), (6, 1), (5, 1)],\n",
       "  [(3, 9), (4, 9), (5, 9)]])"
      ]
     },
     "execution_count": 20,
     "metadata": {},
     "output_type": "execute_result"
    }
   ],
   "source": [
    "import random\n",
    "import numpy as np\n",
    "import matplotlib.pyplot as plt\n",
    "\n",
    "EMPTY = '.'\n",
    "FULL = 'x'\n",
    "DIRECTIONS = (\n",
    "    (0, 1),  # Right\n",
    "    (0, -1), # Left\n",
    "    (1, 0),  # Up\n",
    "    (-1, 0), # Down\n",
    ")\n",
    "MIN_SIZE = 3\n",
    "MAX_SIZE = 5\n",
    "\n",
    "def print_board():\n",
    "    board, ships = generate_board(10, 4)\n",
    "    for row in board:\n",
    "        print(' '.join(row))\n",
    "\n",
    "def generate_board(board_size, n_ships):\n",
    "    # A board without ship information is ambiguous so return both.\n",
    "    # board = [[EMPTY] * board_size for _ in range(board_size)]\n",
    "    board = 2*np.ones((board_size+2,board_size+2),dtype=int)\n",
    "    board[1:-1,1:-1] = 0\n",
    "    ships = []\n",
    "    while len(ships) < n_ships:\n",
    "        row = random.randint(1, board_size )\n",
    "        col = random.randint(1, board_size )\n",
    "        direction = random.choice(DIRECTIONS)\n",
    "        ship_size = random.randint(MIN_SIZE, MAX_SIZE)\n",
    "        ship = generate_ship(board, row, col,\n",
    "                             ship_size, direction)\n",
    "        if ship:\n",
    "            ships.append(ship)\n",
    "            for r, c in ship:\n",
    "                board[r,c] = 1\n",
    "    return (board, ships)\n",
    "\n",
    "def generate_ship(board, row, col, \n",
    "                  ship_size, direction):\n",
    "    r = row\n",
    "    c = col\n",
    "    dr, dc = direction\n",
    "    cells = []\n",
    "    for _ in range(ship_size):\n",
    "        if board[r, c] == 0 :\n",
    "            cells.append((r, c))\n",
    "            r += dr\n",
    "            c += dc\n",
    "        else:\n",
    "            return None\n",
    "    return cells\n",
    "\n",
    "def is_empty(board, row, col):\n",
    "    try:\n",
    "        return min(row, col) >= 0 and board[row,col] == 0\n",
    "    except IndexError:\n",
    "        pass\n",
    "    return False\n",
    "\n",
    "\n",
    "generate_board(10, 4)"
   ]
  },
  {
   "cell_type": "code",
   "execution_count": 7,
   "id": "8d5a10c9-efa7-44d3-84c2-873f2a50c738",
   "metadata": {},
   "outputs": [
    {
     "data": {
      "text/plain": [
       "(array([[1, 1, 0, 0, 0, 0, 0, 1, 1, 1],\n",
       "        [0, 0, 0, 0, 1, 1, 1, 1, 1, 0],\n",
       "        [0, 0, 0, 0, 0, 1, 0, 0, 0, 0],\n",
       "        [0, 0, 0, 0, 0, 1, 0, 0, 0, 0],\n",
       "        [0, 0, 0, 0, 0, 1, 0, 0, 0, 0],\n",
       "        [0, 0, 0, 0, 0, 1, 0, 0, 0, 0],\n",
       "        [0, 0, 0, 0, 0, 0, 0, 0, 0, 0],\n",
       "        [0, 0, 0, 0, 0, 0, 0, 0, 0, 0],\n",
       "        [1, 0, 0, 0, 0, 0, 1, 1, 1, 1],\n",
       "        [0, 0, 0, 0, 0, 0, 0, 0, 0, 0]]),\n",
       " [[(0, 1), (0, 0), (0, -1), (0, -2), (0, -3)],\n",
       "  [(2, 5), (3, 5), (4, 5), (5, 5)],\n",
       "  [(1, 4), (1, 5), (1, 6), (1, 7), (1, 8)],\n",
       "  [(8, 0), (8, -1), (8, -2), (8, -3), (8, -4)]])"
      ]
     },
     "execution_count": 7,
     "metadata": {},
     "output_type": "execute_result"
    }
   ],
   "source": [
    "x"
   ]
  },
  {
   "cell_type": "code",
   "execution_count": null,
   "id": "40ba424d-9ada-4106-b286-c635e54876c0",
   "metadata": {},
   "outputs": [],
   "source": []
  }
 ],
 "metadata": {
  "kernelspec": {
   "display_name": "Python 3 (ipykernel)",
   "language": "python",
   "name": "python3"
  },
  "language_info": {
   "codemirror_mode": {
    "name": "ipython",
    "version": 3
   },
   "file_extension": ".py",
   "mimetype": "text/x-python",
   "name": "python",
   "nbconvert_exporter": "python",
   "pygments_lexer": "ipython3",
   "version": "3.9.12"
  },
  "widgets": {
   "application/vnd.jupyter.widget-state+json": {
    "state": {},
    "version_major": 2,
    "version_minor": 0
   }
  }
 },
 "nbformat": 4,
 "nbformat_minor": 5
}
