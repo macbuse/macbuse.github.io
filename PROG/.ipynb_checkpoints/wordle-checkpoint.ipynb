{
 "cells": [
  {
   "cell_type": "markdown",
   "metadata": {},
   "source": [
    "[chess boards](https://reader.elsevier.com/reader/sd/pii/S0012365X07010394?token=4DD81599315BC7BF6F945BD96C06CF56A15816BD8C3C912761E944093CB24841C8FF17A14D5B94ABE801C47F3586C79E&originRegion=eu-west-1&originCreation=20211018125055)\n",
    "\n",
    "https://www.dcode.fr/mastermind-solver\n",
    "\n",
    "https://newbedev.com/how-to-solve-the-mastermind-guessing-game"
   ]
  },
  {
   "cell_type": "markdown",
   "metadata": {},
   "source": [
    "# Mastermind\n",
    "\n",
    "The game is played using:\n",
    "\n",
    "- a decoding board, with a shield at one end covering a row of four large holes, and twelve (or ten, or eight, or six) additional rows containing four large holes next to a set of four small holes;\n",
    "- code pegs of six different colors (or more; see Variations below), with round heads, which will be placed in the large holes on the board; and\n",
    "- key pegs, some colored black, some white, which are flat-headed and smaller than the code pegs; they will be placed in the small holes on the board.\n",
    "\n",
    "## Knuth\n",
    "\n",
    "- [stack discussion ](https://stackoverflow.com/questions/53826287/donald-knuth-algorithm-for-mastermind-can-we-do-better)[Knuth's paper](https://www.cs.uni.edu/~wallingf/teaching/cs3530/resources/knuth-mastermind.pdf)\n",
    "\n",
    "- [Knuth's paper](https://www.cs.uni.edu/~wallingf/teaching/cs3530/resources/knuth-mastermind.pdf) \n",
    "\n",
    "### Worst case: Five-guess algorithm\n",
    "\n",
    "In 1977, Donald Knuth demonstrated that the codebreaker can solve the pattern in five moves or fewer, using an algorithm that progressively reduces the number of possible patterns. The algorithm works as follows:\n",
    "\n",
    "1. Create the set S of 1296 possible codes (1111, 1112 ... 6665, 6666)\n",
    "2. Start with initial guess 1122 (Knuth gives examples showing that this algorithm using other first guesses such as 1123, 1234 does not win in five tries on every code)\n",
    "3. Play the guess to get a response of coloured and white pegs.\n",
    "4. If the response is four colored pegs, the game is won, the algorithm terminates.\n",
    "5. Otherwise, remove from S any code that would not give the same response if it (the guess) were the code.\n",
    "6. Apply minimax technique to find a next guess as follows: For each possible guess, that is, any unused code of the 1296 not just those in S, calculate how many possibilities in S would be eliminated for each possible colored/white peg score. The score of a guess is the minimum number of possibilities it might eliminate from S. A single pass through S for each unused code of the 1296 will provide a hit count for each coloured/white peg score found; the coloured/white peg score with the highest hit count will eliminate the fewest possibilities; calculate the score of a guess by using \"minimum eliminated\" = \"count of elements in S\" - (minus) \"highest hit count\". From the set of guesses with the maximum score, select one as the next guess, choosing a member of S whenever possible. (Knuth follows the convention of choosing the guess with the least numeric value e.g. 2345 is lower than 3456. Knuth also gives an example showing that in some cases no member of S will be among the highest scoring guesses and thus the guess cannot win on the next turn, yet will be necessary to assure a win in five.)\n",
    "7. Repeat from step 3.\n",
    "\n",
    "---\n",
    "\n",
    "### Comments \n",
    "\n",
    "- His original algorithm gave 5801 (average of 5801/1296 ≈ 4.47608), and the minor improvement gives 5800 (≈ 4.4753).\n",
    "\n",
    "- Robert W. Irving, “Towards an optimum Mastermind strategy,” Journal of Recreational Mathematics 11 (1978), 81-87 [while staying within the “at most 5” achieves 5664 ⇒ ≈4.37]\n",
    "\n",
    "- E. Neuwirth, “Some strategies for Mastermind,” Zeitschrift fur Operations Research 26 (1982), B257-B278 [achieves 5658 ⇒ ≈4.3657]\n",
    "\n",
    "- Kenji Koyama and Tony W. Lai, “An optimal Mastermind strategy,” Journal of Recreational Mathematics 25 (1993), 251-256 [achieves 5626 ⇒ ≈4.34104938]\n",
    "\n",
    "\n",
    "\n"
   ]
  },
  {
   "cell_type": "markdown",
   "metadata": {},
   "source": [
    "---\n",
    "\n",
    "\n",
    "## Knuth's algorithm\n",
    "\n",
    "- I'm going to program this but without the minimax step\n",
    "- I'll just pick the next guess at random from the allowable ones\n",
    "\n",
    "---\n",
    "\n",
    "\n",
    "## Structure of program\n",
    "\n",
    "There are 2 main  steps:\n",
    "\n",
    "1. Initialize a game\n",
    "2. Do a loop until the code is found\n"
   ]
  },
  {
   "cell_type": "code",
   "execution_count": 12,
   "metadata": {},
   "outputs": [],
   "source": [
    "import numpy as np\n",
    "import random"
   ]
  },
  {
   "cell_type": "code",
   "execution_count": 9,
   "metadata": {},
   "outputs": [
    {
     "data": {
      "text/plain": [
       "array([1, 1, 5, 4])"
      ]
     },
     "execution_count": 9,
     "metadata": {},
     "output_type": "execute_result"
    }
   ],
   "source": [
    "np.random.randint(0,high=6,size=4)"
   ]
  },
  {
   "cell_type": "code",
   "execution_count": 8,
   "metadata": {},
   "outputs": [],
   "source": [
    "tt = np.array([0,0,1,1])"
   ]
  },
  {
   "cell_type": "code",
   "execution_count": 591,
   "metadata": {},
   "outputs": [],
   "source": [
    "code = random.sample(list(range(4)),4)\n",
    "guess = [0,0,1,1]"
   ]
  },
  {
   "cell_type": "markdown",
   "metadata": {},
   "source": [
    "## Standard algorithm\n",
    "\n",
    "convert a number to base 6"
   ]
  },
  {
   "cell_type": "code",
   "execution_count": 611,
   "metadata": {},
   "outputs": [],
   "source": [
    "def f(x, N=4):  \n",
    "    L = []\n",
    "    for k in range(N):\n",
    "        L.append(x % 6)\n",
    "        x = x // 6\n",
    "    return L"
   ]
  },
  {
   "cell_type": "code",
   "execution_count": 612,
   "metadata": {},
   "outputs": [
    {
     "data": {
      "text/plain": [
       "[5, 5, 5, 5]"
      ]
     },
     "execution_count": 612,
     "metadata": {},
     "output_type": "execute_result"
    }
   ],
   "source": [
    "f(6**4-1)"
   ]
  },
  {
   "cell_type": "markdown",
   "metadata": {},
   "source": [
    "---\n",
    "\n",
    "## Evaluate the guess - feedback function\n",
    "\n",
    "The codebreaker tries to guess the pattern, in both order and color, within eight to twelve turns. \n",
    "\n",
    "- Each guess is made by placing a row of code pegs on the decoding board. \n",
    "- Once placed, the codemaker provides **feedback** by placing from zero to four key pegs in the small holes of the row with the guess. \n",
    "    - A colored or black key peg is placed for each code peg from the guess which is correct in both color and position. \n",
    "    - A white key peg indicates the existence of a correct color code peg placed in the wrong position.\n"
   ]
  },
  {
   "cell_type": "markdown",
   "metadata": {},
   "source": [
    "---\n",
    "\n",
    "## First attempt at the feedback function \n",
    "\n",
    "- in python\n",
    "- there's a mistake that I'll deal with later"
   ]
  },
  {
   "cell_type": "code",
   "execution_count": 594,
   "metadata": {},
   "outputs": [],
   "source": [
    "def score(code, guess):\n",
    "    # 4 is hardcoded should use len(code)\n",
    "    rest = [(x,y) for x,y in zip(code, guess) if x != y ]\n",
    "    if len(rest) == 0: return 4,0\n",
    "    X,Y = list(zip(* rest))\n",
    "    coloured = 4 - len(X)\n",
    "    # this isn't correct but we'll go with it\n",
    "    white = len(set(X).intersection(set(Y)))\n",
    "    return coloured, white"
   ]
  },
  {
   "cell_type": "code",
   "execution_count": 595,
   "metadata": {},
   "outputs": [
    {
     "data": {
      "text/plain": [
       "(2, 0)"
      ]
     },
     "execution_count": 595,
     "metadata": {},
     "output_type": "execute_result"
    }
   ],
   "source": [
    "my_score = score(code, guess)\n",
    "my_score"
   ]
  },
  {
   "cell_type": "code",
   "execution_count": 596,
   "metadata": {},
   "outputs": [
    {
     "data": {
      "text/plain": [
       "([2, 0, 1, 3], [0, 0, 1, 1])"
      ]
     },
     "execution_count": 596,
     "metadata": {},
     "output_type": "execute_result"
    }
   ],
   "source": [
    "code, guess"
   ]
  },
  {
   "cell_type": "markdown",
   "metadata": {},
   "source": [
    "## Baby version of game\n",
    "\n",
    "- only 4 colors\n",
    "\n",
    "---"
   ]
  },
  {
   "cell_type": "markdown",
   "metadata": {},
   "source": [
    "## Initialize game\n",
    "\n",
    "- choose code\n",
    "- make first guess\n",
    "- list of all possible guesses"
   ]
  },
  {
   "cell_type": "code",
   "execution_count": 254,
   "metadata": {},
   "outputs": [],
   "source": [
    "from itertools import permutations, combinations, chain\n",
    " \n",
    "\n",
    "# Initialize game\n",
    "code = random.sample(list(range(4)),4)\n",
    "guess = (0,0,1,1)\n",
    "# Get all permutations of pegs\n",
    "guesses  = permutations(list(range(4)))\n"
   ]
  },
  {
   "cell_type": "code",
   "execution_count": 260,
   "metadata": {},
   "outputs": [
    {
     "data": {
      "text/plain": [
       "[(2, 1, 3, 0)]"
      ]
     },
     "execution_count": 260,
     "metadata": {},
     "output_type": "execute_result"
    }
   ],
   "source": [
    "# Code to go in the loop\n",
    "my_score = score(tuple(code), guess)\n",
    "guesses = [ x  for x in guesses if score(tuple(x), guess) == my_score]\n",
    "guess = random.choice(guesses)\n",
    "guesses\n"
   ]
  },
  {
   "cell_type": "markdown",
   "metadata": {},
   "source": [
    "---\n",
    "\n",
    "\n",
    "# Conclusion\n",
    "\n",
    "there are only 24x15 possibilities so the game is very easy to solve\n",
    "\n",
    "- on average it takes less than 4 guesses\n",
    "- maybe I have misunderstood the rules :(\n",
    "\n",
    "---"
   ]
  },
  {
   "cell_type": "markdown",
   "metadata": {},
   "source": [
    "# Classic Mastermind \n",
    "\n",
    "This is a game without repeats in the code.\n",
    "\n",
    "## Initialize game\n",
    "\n",
    "- choose code\n",
    "- make first guess\n",
    "- list of all possible guesses\n",
    "\n",
    "Listing all the guesses is a bit more complicated"
   ]
  },
  {
   "cell_type": "code",
   "execution_count": 514,
   "metadata": {},
   "outputs": [],
   "source": [
    "pegs = list(range(6))\n",
    "\n",
    "code = random.sample(pegs,4)\n",
    "guess = [0,0,1,1]\n",
    "\n",
    "guesses = [list(permutations(x)) for x in combinations(pegs, 4)]\n",
    "guesses = list(chain(*guesses))"
   ]
  },
  {
   "cell_type": "code",
   "execution_count": 515,
   "metadata": {},
   "outputs": [
    {
     "data": {
      "text/plain": [
       "96"
      ]
     },
     "execution_count": 515,
     "metadata": {},
     "output_type": "execute_result"
    }
   ],
   "source": [
    "my_score = score(code, guess)\n",
    "guesses = [ x  for x in guesses if score(x, guess) == my_score]\n",
    "guess = random.choice(guesses)\n",
    "len(guesses)"
   ]
  },
  {
   "cell_type": "code",
   "execution_count": 13,
   "metadata": {},
   "outputs": [],
   "source": [
    "pegs = list(range(6))"
   ]
  },
  {
   "cell_type": "markdown",
   "metadata": {},
   "source": [
    "---\n",
    "\n",
    "##  Getting jit to work \n",
    "\n",
    "I wanted to make an **optimized feedback function**\n",
    "because it is called a lot and a **bad** one slows down performance **a lot**.\n",
    "\n",
    "- First I'll try [numba](https://numba.pydata.org/) \n",
    "which has had a lot of press but I've had problems getting it to run.\n",
    "- In general I  use [cython](https://cython.org/) to produce compiled **C**.\n",
    "\n",
    "---\n",
    "\n",
    "**numba** translates Python functions to optimized machine code at runtime using the industry-standard LLVM compiler library. \n",
    "Numba-compiled numerical algorithms in Python can approach the speeds of C or FORTRAN.\n",
    "\n",
    "You don't need to replace the Python interpreter, run a separate compilation step, or even have a C/C++ compiler installed.\n",
    "Just apply one of the Numba decorators to your Python function, and Numba does the rest.\n",
    "\n",
    "---\n",
    "\n",
    "## Writing the function \n",
    "\n",
    "It's important to give the **compiler** help\n",
    "this usually means \n",
    "\n",
    "- writing code as if it were **java/c**.\n",
    "- making loops **explicit**\n",
    "\n",
    "\n",
    "I lost made a **lot of mistakes**, gave in and copied the javascript \n",
    "from [here](https://www.webgamesonline.com/mastermind/mm1.js)\n",
    "to get the game logic right.\n",
    "\n"
   ]
  },
  {
   "cell_type": "markdown",
   "metadata": {},
   "source": [
    "```    num_bulls = 0;\n",
    "       num_cows = 0;\n",
    "\n",
    "       for (i=0; i<code_length; i++)\n",
    "       {\n",
    "         tmpSelectedNums[i] = selectedNums[i]\n",
    "       }\n",
    "\n",
    "       for (i=0; i<code_length; i++)\n",
    "       {\n",
    "         if ( currRowNums[i] == tmpSelectedNums[i] )\n",
    "         {\n",
    "           num_bulls++;\n",
    "           tmpSelectedNums[i] = 0;\n",
    "           currRowNums[i] = 0;\n",
    "         }\n",
    "       }\n",
    "\n",
    "\n",
    "\n",
    "//alert ('@ num bulls='+num_bulls+' num_cows='+num_cows);\n",
    "\n",
    "       for (i=0; i<code_length; i++)\n",
    "       {\n",
    "         if ( currRowNums[i] == 0 ) continue;\n",
    "\n",
    "         for (j=0; j<code_length; j++)\n",
    "         {\n",
    "           if ( currRowNums[i] == tmpSelectedNums[j] )\n",
    "           { \n",
    "              /*\n",
    "              var str ='A=';\n",
    "              str = str+currRowNums[i];\n",
    "              str = str+' B=';\n",
    "              str = str+tmpSelectedNums[i];\n",
    "              alert (str); \n",
    "              alert('111');\n",
    "              */\n",
    "\n",
    "              num_cows++;\n",
    "              tmpSelectedNums[j] = 0;\n",
    "              break;\n",
    "           }\n",
    "         }\n",
    "       }\n",
    "       \n",
    " ```\n",
    "\n"
   ]
  },
  {
   "cell_type": "markdown",
   "metadata": {},
   "source": [
    "---\n",
    "\n",
    "## First a python version"
   ]
  },
  {
   "cell_type": "code",
   "execution_count": 231,
   "metadata": {},
   "outputs": [],
   "source": [
    "def py_score(x, y): \n",
    "    '''this is a lift of the script  at\n",
    "    https://www.webgamesonline.com/mastermind/mm1.js'''\n",
    "      \n",
    "    color = white = 0\n",
    "    N = len(x)\n",
    "    code, guess = list(x), list(y)\n",
    "  \n",
    "    for i in range(N):\n",
    "        if x[i] == guess[i]:\n",
    "            color += 1\n",
    "            code[i] = guess[i] = -1\n",
    "    \n",
    "    for i in range(N):\n",
    "        if code[i] == -1 : continue\n",
    "        for j in range(N):\n",
    "            if x[i] == guess[j]:\n",
    "                white += 1\n",
    "                guess[j] = -1\n",
    "                break    \n",
    "                \n",
    "    return color, white"
   ]
  },
  {
   "cell_type": "markdown",
   "metadata": {},
   "source": [
    "---\n",
    "\n",
    "# Compiling on LLVM\n",
    "\n",
    "\n",
    "You can find out about this project [here](https://llvm.org/).\n",
    "\n",
    "---\n",
    "\n",
    "[llvm paper](https://llvm.org/pubs/2004-01-30-CGO-LLVM.html)\n",
    "\n",
    "This paper describes LLVM (Low Level Virtual Machine), a compiler framework designed to support transparent, lifelong program analysis and transformation for arbitrary programs, by providing high-level information to compiler transformations at compile-time, link-time, run-time, and in idle time between runs. \n",
    "\n",
    "\n",
    "LLVM defines a common, low-level code representation in Static Single Assignment (SSA) form, with several novel features: \n",
    "- a simple, language-independent type-system that exposes the primitives commonly used to implement high-level language features; an instruction for typed address arithmetic; \n",
    "- a simple mechanism that can be used to implement the exception handling features of high-level languages (and setjmp/longjmp in C) uniformly and efficiently. \n",
    "\n",
    "The LLVM compiler framework and code representation together provide a combination of key capabilities that are important for practical, lifelong analysis and transformation of programs. To our knowledge, no existing compilation approach provides all these capabilities.\n",
    "\n",
    "We describe the design of the LLVM representation and compiler framework, and evaluate the design in three ways:\n",
    "- (a) the size and effectiveness of the representation, including the type information it provides;\n",
    "- (b) compiler performance for several interprocedural problems; \n",
    "- (c) illustrative examples of the benefits LLVM provides for several challenging compiler problems.\n",
    "\n",
    "---\n",
    "\n",
    "## In practice\n",
    "\n",
    "We mark the function for compiling using a **decorator** \n",
    "the ```@jit``` in the next cell.\n",
    "\n",
    "## Warning\n",
    "\n",
    "This can fail because **numba** can't guess the type of some variable.\n",
    "- there will no error message now\n",
    "- but there will be on execution\n",
    "\n",
    "\n"
   ]
  },
  {
   "cell_type": "code",
   "execution_count": 249,
   "metadata": {},
   "outputs": [],
   "source": [
    "from numba import jit\n",
    "\n",
    "@jit\n",
    "\n",
    "def j_score(x, y): \n",
    "    \n",
    "    #initialize\n",
    "    color = white = 0\n",
    "    N = len(x)\n",
    "    code, guess = list(x), list(y)\n",
    "    \n",
    "    #check for correct color in correct position\n",
    "    for i in range(N):\n",
    "        if x[i] == guess[i]:\n",
    "            color += 1\n",
    "            # mark as done for the next loop\n",
    "            code[i] = guess[i] = -1\n",
    "    \n",
    "    for i in range(N):\n",
    "        #already done s skip\n",
    "        if code[i] == -1 : continue\n",
    "        for j in range(N):\n",
    "            if x[i] == guess[j]:\n",
    "                white += 1\n",
    "                guess[j] = -1\n",
    "                break    \n",
    "                \n",
    "    return color, white\n"
   ]
  },
  {
   "cell_type": "markdown",
   "metadata": {},
   "source": [
    "---\n",
    "\n",
    "# Doing the feedback function in Cython"
   ]
  },
  {
   "cell_type": "code",
   "execution_count": 347,
   "metadata": {},
   "outputs": [],
   "source": [
    "%load_ext Cython"
   ]
  },
  {
   "cell_type": "markdown",
   "metadata": {},
   "source": [
    "## Start by doing the color feedback pegs\n",
    "\n",
    "The ```score``` function was easy to cross compile to **C** \n",
    "by adding [type definitions](https://cython.readthedocs.io/en/latest/src/quickstart/cythonize.html)\n",
    "\n"
   ]
  },
  {
   "cell_type": "code",
   "execution_count": 230,
   "metadata": {},
   "outputs": [],
   "source": [
    "%%cython\n",
    "# cython: profile=True\n",
    "\n",
    "\n",
    "import cython\n",
    "@cython.boundscheck(False)\n",
    "\n",
    "def color(tuple x, tuple y): \n",
    "    cdef int N = len(x)\n",
    "    cdef int tot = 0\n",
    "    cdef int i\n",
    "    \n",
    "    for i in range(N):\n",
    "         if x[i] == y[i]:\n",
    "            tot += 1\n",
    "    return tot\n"
   ]
  },
  {
   "cell_type": "markdown",
   "metadata": {},
   "source": [
    "## The whole score function\n",
    "\n",
    "It's very easy to translate java to cython"
   ]
  },
  {
   "cell_type": "code",
   "execution_count": 226,
   "metadata": {},
   "outputs": [],
   "source": [
    "%%cython\n",
    "# cython: profile=True\n",
    "\n",
    "import cython\n",
    "@cython.boundscheck(False)\n",
    "\n",
    "def c_score(tuple x, tuple y): \n",
    "    '''this is a lift of the script  at\n",
    "    https://www.webgamesonline.com/mastermind/mm1.js'''\n",
    "      \n",
    "    cdef int color = 0, white = 0\n",
    "    cdef int N = len(x)\n",
    "    cdef list guess = list(y)\n",
    "    cdef list code = list(x)\n",
    "    cdef int i,j\n",
    "    \n",
    "    for i in range(N):\n",
    "        if x[i] == guess[i]:\n",
    "            color += 1\n",
    "            code[i] = guess[i] = -1\n",
    "    \n",
    "    for i in range(N):\n",
    "        if code[i] == -1 : continue\n",
    "        for j in range(N):\n",
    "            if x[i] == guess[j]:\n",
    "                white += 1\n",
    "                guess[j] = -1\n",
    "                break    \n",
    "                \n",
    "    return color, white\n"
   ]
  },
  {
   "cell_type": "code",
   "execution_count": 250,
   "metadata": {},
   "outputs": [
    {
     "name": "stdout",
     "output_type": "stream",
     "text": [
      "604 ns ± 0.772 ns per loop (mean ± std. dev. of 7 runs, 1000000 loops each)\n"
     ]
    }
   ],
   "source": [
    "%%timeit\n",
    "\n",
    "j_score((2,4,1,3), (0,0,1,1))"
   ]
  },
  {
   "cell_type": "markdown",
   "metadata": {},
   "source": [
    "---\n",
    "\n",
    "# Performance gain\n",
    "\n",
    "- cython 293 ns ± 0.751 ns per loop (mean ± std. dev. of 7 runs, 1000000 loops each)\n",
    "- numba 604 ns ± 0.772 ns per loop (mean ± std. dev. of 7 runs, 1000000 loops each)\n",
    "- python 1.89 µs ± 11 ns per loop (mean ± std. dev. of 7 runs, 100000 loops each)\n",
    "\n",
    "\n",
    "\n",
    "so  **cython** seems about  6 times faster on this test\n",
    "and **numba** is pretty good too.\n",
    "---"
   ]
  },
  {
   "cell_type": "code",
   "execution_count": 234,
   "metadata": {},
   "outputs": [],
   "source": [
    "import random\n",
    "\n",
    "pegs = list(range(6))\n",
    "\n",
    "def f(x, N=4):  \n",
    "    L = []\n",
    "    for k in range(N):\n",
    "        L.append(x % 6)\n",
    "        x = x // 6\n",
    "    return tuple(L)\n",
    "\n",
    "\n",
    "combs = [f(x) for x in range(0,6**4)]\n",
    "\n",
    "def do_all(score=score):\n",
    "    data = []\n",
    "\n",
    "    for x in combs[:]:\n",
    "        guess = (0,0,1,1)\n",
    "        guesses = [ t for t in combs]\n",
    "        for k in range(1,1000):\n",
    "            my_score = score(x, guess)\n",
    "            # I don't know if this speeds things up by using _\n",
    "            guesses = [ _  for _ in guesses if score(_, guess) == my_score]\n",
    "            guess = random.choice(guesses)\n",
    "            if len(guesses) < 2: \n",
    "                data.append((x,k))\n",
    "                break\n",
    "    return data"
   ]
  },
  {
   "cell_type": "code",
   "execution_count": 235,
   "metadata": {},
   "outputs": [
    {
     "data": {
      "text/plain": [
       "1296"
      ]
     },
     "execution_count": 235,
     "metadata": {},
     "output_type": "execute_result"
    }
   ],
   "source": [
    "data  = do_all()\n",
    "data.sort(key = lambda x : -x[1])\n",
    "len(data)"
   ]
  },
  {
   "cell_type": "markdown",
   "metadata": {},
   "source": [
    "---\n",
    "\n",
    "## Performance \n",
    "\n"
   ]
  },
  {
   "cell_type": "code",
   "execution_count": 251,
   "metadata": {},
   "outputs": [
    {
     "name": "stdout",
     "output_type": "stream",
     "text": [
      "1.3 s ± 1.2 ms per loop (mean ± std. dev. of 7 runs, 1 loop each)\n"
     ]
    }
   ],
   "source": [
    "%%timeit\n",
    "\n",
    "pp = do_all(score=j_score)"
   ]
  },
  {
   "cell_type": "markdown",
   "metadata": {},
   "source": [
    "- cython  704 ms ± 845 µs per loop (mean ± std. dev. of 7 runs, 1 loop each)\n",
    "- numba 1.3 s ± 1.2 ms per loop (mean ± std. dev. of 7 runs, 1 loop each)\n",
    "- python 4 s ± 16 ms per loop (mean ± std. dev. of 7 runs, 1 loop each)\n",
    "\n",
    "so **cython** about 5.7 times faster which is a good gain\n",
    "and will be useful when we do experiments.\n"
   ]
  },
  {
   "cell_type": "code",
   "execution_count": 641,
   "metadata": {},
   "outputs": [
    {
     "data": {
      "text/plain": [
       "5.714285714285714"
      ]
     },
     "execution_count": 641,
     "metadata": {},
     "output_type": "execute_result"
    }
   ],
   "source": [
    "4/.7"
   ]
  },
  {
   "cell_type": "markdown",
   "metadata": {},
   "source": [
    "---\n",
    "\n",
    "# Statistics"
   ]
  },
  {
   "cell_type": "code",
   "execution_count": 262,
   "metadata": {},
   "outputs": [
    {
     "data": {
      "image/png": "[encoded data removed]",
      "text/plain": [
       "<Figure size 432x288 with 1 Axes>"
      ]
     },
     "metadata": {
      "needs_background": "light"
     },
     "output_type": "display_data"
    }
   ],
   "source": [
    "import matplotlib.pyplot as plt\n",
    "\n",
    "x = data[-300][0]\n",
    "\n",
    "mm = []            \n",
    "\n",
    "for tt in range(5000):\n",
    "    guess = (0,0,1,1)\n",
    "    guesses = [ t for t in combs]\n",
    "    for k in range(1,100):\n",
    "        my_score = score(x, guess)\n",
    "        guesses = [ t  for t in guesses if score(t, guess) == my_score]\n",
    "        guess = random.choice(guesses)\n",
    "        #print(guess)\n",
    "        if len(guesses) < 2: \n",
    "            mm.append(k)\n",
    "            break\n",
    "plt.hist(mm,bins=max(mm)-1);"
   ]
  },
  {
   "cell_type": "markdown",
   "metadata": {},
   "source": [
    "\n",
    "## Playing the game online\n",
    "\n",
    "need some helper functions to translate from \n",
    "integers to colors etc."
   ]
  },
  {
   "cell_type": "code",
   "execution_count": 203,
   "metadata": {},
   "outputs": [
    {
     "data": {
      "text/plain": [
       "['W', 'W', 'K', 'K']"
      ]
     },
     "execution_count": 203,
     "metadata": {},
     "output_type": "execute_result"
    }
   ],
   "source": [
    "import random\n",
    "\n",
    "# init game\n",
    "pegs = list(range(8)) \n",
    "\n",
    "colors2code = dict(zip(pegs, ['W','K', 'O', 'Br','Y','B','G','R']))\n",
    "\n",
    "def f(x, N=4):  \n",
    "    L = []\n",
    "    for k in range(N):\n",
    "        L.append(x % len(pegs))\n",
    "        x = x // len(pegs)\n",
    "    return tuple(L)\n",
    "\n",
    "\n",
    "guesses = [f(x) for x in range(0, len(pegs)**4) ]\n",
    "guess = (0,0,1,1)\n",
    "[ colors2code[x] for x in guess]"
   ]
  },
  {
   "cell_type": "code",
   "execution_count": 216,
   "metadata": {},
   "outputs": [],
   "source": [
    "# enter score\n",
    "my_score = c_score(code,guess)"
   ]
  },
  {
   "cell_type": "code",
   "execution_count": 217,
   "metadata": {},
   "outputs": [
    {
     "data": {
      "text/plain": [
       "(['W', 'R', 'Y', 'G'], (0, 7, 4, 6))"
      ]
     },
     "execution_count": 217,
     "metadata": {},
     "output_type": "execute_result"
    }
   ],
   "source": [
    "     # I don't know if this speeds things up by using _\n",
    "guesses = [ _  for _ in guesses if c_score(_,guess) == my_score]\n",
    "guess = random.choice(guesses)\n",
    "[ colors2code[x] for x in guess], guess\n"
   ]
  },
  {
   "cell_type": "code",
   "execution_count": 174,
   "metadata": {},
   "outputs": [
    {
     "data": {
      "text/plain": [
       "(3, 0)"
      ]
     },
     "execution_count": 174,
     "metadata": {},
     "output_type": "execute_result"
    }
   ],
   "source": [
    "guess = (0,7,3,6)\n",
    "\n",
    "c_score(code, guess)"
   ]
  },
  {
   "cell_type": "code",
   "execution_count": 168,
   "metadata": {},
   "outputs": [
    {
     "data": {
      "text/plain": [
       "(['W', 'R', 'Y', 'G'], (0, 0, 1, 1))"
      ]
     },
     "execution_count": 168,
     "metadata": {},
     "output_type": "execute_result"
    }
   ],
   "source": [
    "code = (0,7,4,6)\n",
    "[ colors2code[x] for x in code], guess"
   ]
  },
  {
   "cell_type": "code",
   "execution_count": 49,
   "metadata": {},
   "outputs": [
    {
     "data": {
      "text/plain": [
       "{0: 'W', 1: 'K', 2: 'O', 3: 'Br', 4: 'Y', 5: 'B', 6: 'G', 7: 'R'}"
      ]
     },
     "execution_count": 49,
     "metadata": {},
     "output_type": "execute_result"
    }
   ],
   "source": [
    "colors2code"
   ]
  },
  {
   "cell_type": "markdown",
   "metadata": {},
   "source": [
    "---\n",
    "\n",
    "## The score function from another site\n",
    "\n",
    "This was where I started from, it turns out to be slower by a long way\n",
    "\n",
    "https://newbedev.com/how-to-solve-the-mastermind-guessing-game\n",
    "\n",
    "The guy should have done what I did above - \n",
    "steal the code from the javascript on the games site.\n"
   ]
  },
  {
   "cell_type": "code",
   "execution_count": 792,
   "metadata": {},
   "outputs": [],
   "source": [
    "from numba import jit\n",
    "\n",
    "@jit\n",
    "\n",
    "def j_score(x, y): \n",
    "    \n",
    "    todo = []\n",
    "    color = white = 0\n",
    "    N = len(x)\n",
    "    \n",
    "    for i in range(N):\n",
    "        if x[i] == y[i]:\n",
    "            color += 1\n",
    "        else:\n",
    "            todo.append(i)\n",
    "    \n",
    "    # this is complicated\n",
    "    A = sorted([x[i] for i in todo])\n",
    "    B = sorted([y[i] for i in todo])\n",
    "    \n",
    "\n",
    "    while len(A) and len(B) >0:\n",
    "        if A[-1] == B[-1]:\n",
    "            A.pop()\n",
    "            B.pop()\n",
    "            white += 1\n",
    "        elif A[-1] > B[-1]:\n",
    "            A.pop()\n",
    "        else:\n",
    "            B.pop()\n",
    "            \n",
    "    return color, white\n",
    "\n"
   ]
  },
  {
   "cell_type": "code",
   "execution_count": null,
   "metadata": {},
   "outputs": [],
   "source": []
  }
 ],
 "metadata": {
  "kernelspec": {
   "display_name": "Python 3",
   "language": "python",
   "name": "python3"
  },
  "language_info": {
   "codemirror_mode": {
    "name": "ipython",
    "version": 3
   },
   "file_extension": ".py",
   "mimetype": "text/x-python",
   "name": "python",
   "nbconvert_exporter": "python",
   "pygments_lexer": "ipython3",
   "version": "3.8.3"
  },
  "widgets": {
   "application/vnd.jupyter.widget-state+json": {
    "state": {},
    "version_major": 2,
    "version_minor": 0
   }
  }
 },
 "nbformat": 4,
 "nbformat_minor": 4
}
