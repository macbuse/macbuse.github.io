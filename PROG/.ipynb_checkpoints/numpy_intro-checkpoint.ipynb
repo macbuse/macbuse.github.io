{
 "cells": [
  {
   "cell_type": "markdown",
   "metadata": {},
   "source": [
    "# Numpy - arrays, matrices, linear algebra\n",
    "\n",
    "\n",
    "Last week we were working with containers:\n",
    "\n",
    "- lists\n",
    "- dicts  \n",
    "- zip\n",
    "- collections.Counter\n",
    "\n",
    "This week we will be working with [NumPy](https://numpy.org/).\n",
    "\n",
    "NumPy is a library for the Python, adding:  \n",
    "- support for large, multi-dimensional arrays and matrices\n",
    "- along with a large collection of high-level mathematical functions to operate on these arrays.\n",
    "\n",
    "Using NumPy in Python gives functionality comparable to MATLAB.\n",
    "They both allow the user to write fast programs as long as most operations work on arrays or matrices instead of scalars. \n",
    "\n",
    "Complementary Python packages are available: \n",
    "\n",
    "- [SciPy](https://www.scipy.org/) is a library that adds more MATLAB-like functionality\n",
    "- [Matplotlib](https://matplotlib.org/) is a plotting package that provides MATLAB-like plotting functionality.\n",
    "\n",
    "Internally, both MATLAB and NumPy rely on BLAS and LAPACK for efficient linear algebra computations.\n",
    "\n",
    "---\n",
    "\n",
    "In this notebook we \n",
    "\n",
    "- review the basic constructions below\n",
    "- download resources using requests.get()\n",
    "- use collections.Counter() to do\n",
    "some statistics on Shakespeare's play **Hamlet**"
   ]
  },
  {
   "cell_type": "code",
   "execution_count": null,
   "metadata": {},
   "outputs": [],
   "source": []
  }
 ],
 "metadata": {
  "kernelspec": {
   "display_name": "Python 3",
   "language": "python",
   "name": "python3"
  },
  "language_info": {
   "codemirror_mode": {
    "name": "ipython",
    "version": 3
   },
   "file_extension": ".py",
   "mimetype": "text/x-python",
   "name": "python",
   "nbconvert_exporter": "python",
   "pygments_lexer": "ipython3",
   "version": "3.6.5"
  }
 },
 "nbformat": 4,
 "nbformat_minor": 2
}
