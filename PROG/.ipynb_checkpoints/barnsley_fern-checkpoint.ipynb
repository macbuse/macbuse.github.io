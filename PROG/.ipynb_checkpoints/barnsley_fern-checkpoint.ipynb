{
 "cells": [
  {
   "cell_type": "code",
   "execution_count": 2,
   "metadata": {},
   "outputs": [],
   "source": [
    "import numpy as np\n",
    "import matplotlib.pyplot as plt"
   ]
  },
  {
   "cell_type": "code",
   "execution_count": null,
   "metadata": {},
   "outputs": [],
   "source": []
  },
  {
   "cell_type": "code",
   "execution_count": 1,
   "metadata": {},
   "outputs": [
    {
     "name": "stdout",
     "output_type": "stream",
     "text": [
      "1.04 s ± 13.7 ms per loop (mean ± std. dev. of 7 runs, 1 loop each)\n"
     ]
    }
   ],
   "source": [
    "%%timeit\n",
    "\n",
    "import random\n",
    "from PIL import Image\n",
    " \n",
    " \n",
    "class BarnsleyFern(object):\n",
    "    def __init__(self, img_width, img_height, paint_color=(0, 150, 0),\n",
    "                 bg_color=(255, 255, 255)):\n",
    "        self.img_width, self.img_height = img_width, img_height\n",
    "        self.paint_color = paint_color\n",
    "        self.x, self.y = 0, 0\n",
    "        self.age = 0\n",
    " \n",
    "        self.fern = Image.new('RGB', (img_width, img_height), bg_color)\n",
    "        self.pix = self.fern.load()\n",
    "        self.pix[self.scale(0, 0)] = paint_color\n",
    " \n",
    "    def scale(self, x, y):\n",
    "        h = (x + 2.182)*(self.img_width - 1)/4.8378\n",
    "        k = (9.9983 - y)*(self.img_height - 1)/9.9983\n",
    "        return h, k\n",
    " \n",
    "    def transform(self, x, y):\n",
    "        rand = random.uniform(0, 100)\n",
    "        if rand < 1:\n",
    "            return 0, 0.16*y\n",
    "        elif 1 <= rand < 86:\n",
    "            return 0.85*x + 0.04*y, -0.04*x + 0.85*y + 1.6\n",
    "        elif 86 <= rand < 93:\n",
    "            return 0.2*x - 0.26*y, 0.23*x + 0.22*y + 1.6\n",
    "        else:\n",
    "            return -0.15*x + 0.28*y, 0.26*x + 0.24*y + 0.44\n",
    " \n",
    "    def iterate(self, iterations):\n",
    "        for _ in range(iterations):\n",
    "            self.x, self.y = self.transform(self.x, self.y)\n",
    "            self.pix[self.scale(self.x, self.y)] = self.paint_color\n",
    "        self.age += iterations\n",
    " \n",
    "fern = BarnsleyFern(500, 500)\n",
    "fern.iterate(1000000)\n",
    "fern.fern.show()\n",
    " "
   ]
  },
  {
   "cell_type": "code",
   "execution_count": 3,
   "metadata": {},
   "outputs": [],
   "source": []
  },
  {
   "cell_type": "code",
   "execution_count": 7,
   "metadata": {},
   "outputs": [],
   "source": [
    "\n"
   ]
  },
  {
   "cell_type": "code",
   "execution_count": 5,
   "metadata": {},
   "outputs": [],
   "source": [
    "transforms = [m1,m2,m3,m4]"
   ]
  },
  {
   "cell_type": "code",
   "execution_count": 3,
   "metadata": {},
   "outputs": [
    {
     "name": "stdout",
     "output_type": "stream",
     "text": [
      "774 ms ± 12.3 ms per loop (mean ± std. dev. of 7 runs, 1 loop each)\n"
     ]
    }
   ],
   "source": [
    "%%timeit\n",
    "import random\n",
    "import numpy\n",
    "from PIL import Image\n",
    "\n",
    "class BarnsleyFern(object):\n",
    "    \n",
    "    \n",
    "    def __init__(self, img_width, img_height, \n",
    "                 paint_colors=[(0, 150, 0), (150, 150, 0)],\n",
    "                 bg_color=(255, 255, 255)):\n",
    "        \n",
    "        self.img_width, self.img_height = img_width, img_height\n",
    "        self.paint_colors = paint_colors\n",
    "\n",
    "        self.x, self.y = 0, 0\n",
    " \n",
    "        self.fern = Image.new('RGB', (img_width, img_height), bg_color)\n",
    "        self.pix = self.fern.load()\n",
    "        self.pix[self.scale(self.x, self.y)] = paint_color\n",
    "        \n",
    "    def scale(self, x,y):\n",
    "        h = (x + 2.182)*(self.img_width - 1)/4.8378\n",
    "        k = (9.9983 - y)*(self.img_height - 1)/9.9983\n",
    "        return h, k\n",
    "        \n",
    "    # just to be tidy with namespace\n",
    "    def m1(self,x,y):\n",
    "        return 0, 0.16*y\n",
    "    \n",
    "    def m2(self,x,y):\n",
    "        return 0.85*x + 0.04*y, -0.04*x + 0.85*y + 1.6\n",
    "    \n",
    "    def m3(self,x,y):\n",
    "        return 0.2*x - 0.26*y, 0.23*x + 0.22*y + 1.6\n",
    "    \n",
    "    def m4(self, x,y):\n",
    "        return -0.15*x + 0.28*y, 0.26*x + 0.24*y + 0.44\n",
    "\n",
    "    def iterate(self, iterations):\n",
    "        \n",
    "        # cache everything to save lookups in the loop\n",
    "        # every . is a dictionnary lookup\n",
    "        x, y = self.x, self.y\n",
    "        img, scale, color  = self.pix, self.scale, self.paint_color\n",
    "        transforms = [self.m1, self.m2, self.m3, self.m4]\n",
    "        \n",
    "        #avoid using cascading ifs by using relative weights\n",
    "        for f in random.choices(transforms, \n",
    "                                weights=[0,85,7,7], \n",
    "                                k=iterations):\n",
    "            x, y  = f(x,y)\n",
    "            img[scale(x,y)] = color\n",
    "            \n",
    " \n",
    "fern = BarnsleyFern(500, 500)\n",
    "fern.iterate(1000000)\n",
    "fern.fern.show()"
   ]
  },
  {
   "cell_type": "markdown",
   "metadata": {},
   "source": [
    "this is about 25% quicker probably from caching"
   ]
  },
  {
   "cell_type": "code",
   "execution_count": null,
   "metadata": {},
   "outputs": [],
   "source": []
  },
  {
   "cell_type": "code",
   "execution_count": 15,
   "metadata": {},
   "outputs": [
    {
     "name": "stdout",
     "output_type": "stream",
     "text": [
      "2.41 s ± 22 ms per loop (mean ± std. dev. of 7 runs, 1 loop each)\n"
     ]
    }
   ],
   "source": [
    "%%timeit\n",
    "import random\n",
    "import numpy as np\n",
    "from PIL import Image\n",
    "\n",
    "class BarnsleyFern(object):\n",
    "    \n",
    "    \n",
    "    def __init__(self, img_width, img_height, paint_color=(0, 150, 0),\n",
    "                 bg_color=(255, 255, 255)):\n",
    "        \n",
    "        self.img_width, self.img_height = img_width, img_height\n",
    "        self.paint_color = paint_color\n",
    "        self.x, self.y = 0, 0\n",
    "        self.v = np.array([self.x, self.y,1])\n",
    " \n",
    "        self.fern = Image.new('RGB', (img_width, img_height), bg_color)\n",
    "        self.pix = self.fern.load()\n",
    "        \n",
    "        \n",
    "        #I got a sign wrong and it took an hour to find it!!!!\n",
    "        self.generators = [ [0,0,0,0, 1.6,0],\n",
    "              [ 0.85,  0.04, 0, -0.04,  0.85,  1.6],\n",
    "              [  0.2, -0.26, 0,  0.23,  0.22,  1.6 ],\n",
    "              [-0.15,  0.28, 0,  0.26,  0.24, 0.44 ]\n",
    "             ]\n",
    "        \n",
    "        # these values shouldn't be hard coded\n",
    "        mm = np.array([[1,0, 2.182], [0,-1,9.9983 ], [0,0,1]])\n",
    "        mm[0] = mm[0]*(self.img_width - 1)/4.8378\n",
    "        mm[1] = mm[1]*(self.img_height - 1)/9.9983\n",
    "        self.scale = mm\n",
    "        \n",
    "        x,y,z = np.dot(self.scale, self.v)\n",
    "        self.pix[x,y] = paint_color\n",
    "        \n",
    "    def scale_f(self, x,y):\n",
    "        h = (x + 2.182)*(self.img_width - 1)/4.8378\n",
    "        k = (9.9983 - y)*(self.img_height - 1)/9.9983\n",
    "        return h, k\n",
    "        \n",
    "    \n",
    "    def mk_transforms(self):\n",
    "        def coeffs2matrix(m):\n",
    "             return np.vstack((np.array(m).reshape(2,3), \n",
    "                               np.array([0,0,1])))\n",
    "            \n",
    "        return [ coeffs2matrix(m)  for m in self.generators]\n",
    "\n",
    "\n",
    "    def iterate(self, iterations):\n",
    "        \n",
    "        # cache everything to save lookups in the loop\n",
    "        # remember every . is a dictionnary lookup\n",
    "        v = self.v\n",
    "        img, scale, color  = self.pix, self.scale, self.paint_color\n",
    "        \n",
    "        mult = np.dot\n",
    "        transforms = self.mk_transforms()\n",
    "        #avoid using cascading ifs by using relative weights\n",
    "        for f in random.choices( transforms, \n",
    "                                weights=[0,85,7,7], \n",
    "                                k=iterations):\n",
    "            \n",
    "            #np.dot is matrix multiplication\n",
    "            v = mult(f, v)\n",
    "            w = mult(scale, v)\n",
    "            img[w[0],w[1]] = color\n",
    "            \n",
    " \n",
    "fern = BarnsleyFern(500, 500)\n",
    "fern.iterate(1000000)\n",
    "fern.fern.show()\n",
    "\n",
    "# this is slower I wonder what the overhead is "
   ]
  },
  {
   "cell_type": "code",
   "execution_count": null,
   "metadata": {},
   "outputs": [],
   "source": []
  }
 ],
 "metadata": {
  "kernelspec": {
   "display_name": "Python 3",
   "language": "python",
   "name": "python3"
  },
  "language_info": {
   "codemirror_mode": {
    "name": "ipython",
    "version": 3
   },
   "file_extension": ".py",
   "mimetype": "text/x-python",
   "name": "python",
   "nbconvert_exporter": "python",
   "pygments_lexer": "ipython3",
   "version": "3.8.3"
  }
 },
 "nbformat": 4,
 "nbformat_minor": 4
}
