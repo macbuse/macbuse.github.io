{
 "cells": [
  {
   "cell_type": "markdown",
   "metadata": {},
   "source": [
    "# Matplotlib 2\n",
    "\n",
    "Last time we used ```matplotlib```\n",
    "to draw graphs of functions and smooth curves.\n",
    "\n",
    "This time we'll draw:\n",
    "\n",
    "- fractals\n",
    "- trees\n",
    "\n",
    "---\n",
    "## Boolean masks\n",
    "\n",
    "We'll also do:\n",
    "\n",
    "- some boolean masks\n",
    "\n",
    "and we'll start with some number theory.\n",
    "\n",
    "---\n",
    "\n",
    "##  Affine transformations\n",
    "\n",
    "$$\\vec{v} \\mapsto A.\\vec{v} + \\vec{b}$$\n",
    "\n",
    "read [this](https://fr.wikipedia.org/wiki/Application_affine) - it is more complete in [english](https://en.wikipedia.org/wiki/Affine_transformation)\n",
    "\n",
    "\n",
    "![img](./fern.png)\n",
    "\n",
    "---\n",
    "\n",
    "## Exo:\n",
    "\n",
    "rewrite  the functions below using recursion where \n",
    "there is a comment like\n",
    "\n",
    "```# exo : rewrite me using recursion```\n",
    "\n",
    "---\n",
    "## Un peu d'art\n",
    "\n",
    "http://fichiers.vanlindt.be/Les%20fractales%20dans%20la%20cr%C3%A9ation%20graphique.pdf\n"
   ]
  },
  {
   "cell_type": "code",
   "execution_count": 360,
   "metadata": {},
   "outputs": [
    {
     "name": "stdout",
     "output_type": "stream",
     "text": [
      "[master dbdf3e3] web\n",
      " 2 files changed, 52 insertions(+), 42 deletions(-)\n",
      "Enumerating objects: 9, done.\n",
      "Counting objects: 100% (9/9), done.\n",
      "Delta compression using up to 4 threads\n",
      "Compressing objects: 100% (5/5), done.\n",
      "Writing objects: 100% (5/5), 23.60 KiB | 1006.00 KiB/s, done.\n",
      "Total 5 (delta 4), reused 0 (delta 0)\n",
      "remote: Resolving deltas: 100% (4/4), completed with 4 local objects.\u001b[K\n",
      "To https://github.com/macbuse/macbuse.github.io\n",
      "   25ecb29..dbdf3e3  master -> master\n"
     ]
    }
   ],
   "source": [
    "! ../.g"
   ]
  },
  {
   "cell_type": "code",
   "execution_count": 1,
   "metadata": {},
   "outputs": [],
   "source": [
    "import numpy as np\n",
    "import matplotlib.pyplot as plt\n",
    "\n",
    "#using cplx numbers\n",
    "def plt_cplx(Z, \n",
    "             ax=plt, \n",
    "             sty='r'):\n",
    "    X = [z.real for z in Z]\n",
    "    Y = [z.imag for z in Z] \n",
    "    ax.plot(X,Y,sty)"
   ]
  },
  {
   "cell_type": "markdown",
   "metadata": {},
   "source": [
    "Before we start do you understand how this works ?\n",
    "\n",
    "---\n",
    "\n",
    "## Crible d'Ératosthène\n",
    "\n",
    "Le crible d'Ératosthène est un procédé qui permet de trouver tous les nombres premiers inférieurs à un certain entier naturel donné N. Le crible d'Atkin est plus rapide mais plus complexe.\n"
   ]
  },
  {
   "cell_type": "code",
   "execution_count": null,
   "metadata": {},
   "outputs": [],
   "source": [
    "\n",
    "#https://stackoverflow.com/questions/2068372/fastest-way-to-list-all-primes-below-n\n",
    "def primes(n):\n",
    "    \"\"\" Returns  array of primes, 2 <= p < n \"\"\"\n",
    "    sieve = np.ones(n, dtype=np.bool)\n",
    "    sieve[::2] = False\n",
    "    for i in range(3, int(np.sqrt(n))+1, 2):\n",
    "        if sieve[i]:\n",
    "            sieve[i*i::i] = False\n",
    "    return np.nonzero(sieve)[0][1:]"
   ]
  },
  {
   "cell_type": "markdown",
   "metadata": {},
   "source": [
    "- nbre premier > 2 => impaire, de la forme : \n",
    "    - soit 4k + 1\n",
    "    - soit 4k + 3\n",
    "---\n",
    "we'll use boolean masks to study these:\n",
    "\n",
    "```P[P % 4 == 1]```\n",
    "is just like<br>\n",
    "```[ x for x in P if x % 4 == 1]```<br>\n",
    "but \n",
    "```P % 4 == 1``` is a ```np.array```\n",
    "\n",
    "it's a [boolean masks](https://jakevdp.github.io/PythonDataScienceHandbook/02.06-boolean-arrays-and-masks.html).\n",
    "\n",
    "\n",
    "Watch the end of the  [video](https://machinelearnia.com/numpy/#indexing)\n",
    "to understand them."
   ]
  },
  {
   "cell_type": "code",
   "execution_count": 361,
   "metadata": {},
   "outputs": [
    {
     "data": {
      "text/plain": [
       "(array([False,  True, False, ...,  True, False, False]), (78497,))"
      ]
     },
     "execution_count": 361,
     "metadata": {},
     "output_type": "execute_result"
    }
   ],
   "source": [
    "P % 4 == 1, (P % 4 == 1).shape"
   ]
  },
  {
   "cell_type": "code",
   "execution_count": 255,
   "metadata": {},
   "outputs": [],
   "source": [
    "P = primes(1000000)\n",
    "X,Y = P[P % 4 == 1], P[P % 4 == 3]"
   ]
  },
  {
   "cell_type": "markdown",
   "metadata": {},
   "source": [
    "##  Biais de Tchebychev\n",
    "\n",
    "En mathématiques,\n",
    "et plus particulièrement en théorie des nombres, \n",
    "le biais de Tchebychev est la remarque selon laquelle, la plupart du temps, il y a plus de nombres premiers de la forme 4k + 3 que de la forme 4k + 1. Ce phénomène fut remarqué pour la première fois par Pafnouti Tchebychev en 18531, mais il n'en existe pas encore de démonstration rigoureuse.\n",
    "\n",
    "[source: wiki](https://fr.wikipedia.org/wiki/Biais_de_Tchebychev)"
   ]
  },
  {
   "cell_type": "code",
   "execution_count": 256,
   "metadata": {},
   "outputs": [
    {
     "data": {
      "text/plain": [
       "(39175, 39322)"
      ]
     },
     "execution_count": 256,
     "metadata": {},
     "output_type": "execute_result"
    }
   ],
   "source": [
    "len(X), len(Y)"
   ]
  },
  {
   "cell_type": "code",
   "execution_count": 115,
   "metadata": {},
   "outputs": [
    {
     "data": {
      "image/png": "[encoded data removed]",
      "text/plain": [
       "<Figure size 432x288 with 1 Axes>"
      ]
     },
     "metadata": {
      "needs_background": "light"
     },
     "output_type": "display_data"
    }
   ],
   "source": [
    "num = min(len(X),len(Y))\n",
    "X, Y= X[:num],Y[:num]\n",
    "plt.plot(X[:num],Y[:num]);"
   ]
  },
  {
   "cell_type": "code",
   "execution_count": 116,
   "metadata": {},
   "outputs": [
    {
     "data": {
      "text/plain": [
       "LinregressResult(slope=0.9975682879416617, intercept=-452.5357710691751, rvalue=0.9999978491984912, pvalue=0.0, stderr=1.0453580864150768e-05)"
      ]
     },
     "execution_count": 116,
     "metadata": {},
     "output_type": "execute_result"
    }
   ],
   "source": [
    "from scipy.stats import linregress\n",
    "linregress(X,Y)"
   ]
  },
  {
   "cell_type": "code",
   "execution_count": 117,
   "metadata": {},
   "outputs": [
    {
     "data": {
      "image/png": "[encoded data removed]",
      "text/plain": [
       "<Figure size 432x288 with 1 Axes>"
      ]
     },
     "metadata": {
      "needs_background": "light"
     },
     "output_type": "display_data"
    }
   ],
   "source": [
    "plt.plot(X - Y);"
   ]
  },
  {
   "cell_type": "markdown",
   "metadata": {},
   "source": [
    "## Exo : verifier\n",
    "\n",
    "26 861 est le plus petit nombre premier x pour lequel \n",
    "- π(x; 4, 1) > π(x; 4, 3) \n",
    "\n",
    "— ce qui fut observé par John Leech en 1957 — et le suivant est 616 841"
   ]
  },
  {
   "cell_type": "code",
   "execution_count": 318,
   "metadata": {},
   "outputs": [
    {
     "name": "stdout",
     "output_type": "stream",
     "text": [
      "[master 8185663] web\n",
      " 1 file changed, 74 insertions(+), 23 deletions(-)\n",
      "Enumerating objects: 7, done.\n",
      "Counting objects: 100% (7/7), done.\n",
      "Delta compression using up to 4 threads\n",
      "Compressing objects: 100% (4/4), done.\n",
      "Writing objects: 100% (4/4), 5.69 KiB | 388.00 KiB/s, done.\n",
      "Total 4 (delta 3), reused 0 (delta 0)\n",
      "remote: Resolving deltas: 100% (3/3), completed with 3 local objects.\u001b[K\n",
      "To https://github.com/macbuse/macbuse.github.io\n",
      "   dc0b03a..8185663  master -> master\n"
     ]
    }
   ],
   "source": [
    "! ../.g"
   ]
  },
  {
   "cell_type": "markdown",
   "metadata": {},
   "source": [
    "## Escalier de Cantor\n",
    "\n",
    "L'escalier de Cantor, ou l'escalier du diable, est le graphe d'une fonction f continue croissante sur $[0, 1]$, telle que f(0) = 0 et f(1) = 1, qui est dérivable presque partout, la dérivée étant presque partout nulle. \n",
    "\n",
    "Il s'agit cependant d'une fonction \n",
    "- continue\n",
    "- uniforment continue \n",
    "- mais pas absolument continue.\n",
    "\n",
    "https://fr.wikipedia.org/wiki/Escalier_de_Cantor\n",
    "\n",
    "https://www-fourier.ujf-grenoble.fr/~mcshane/programming.html"
   ]
  },
  {
   "cell_type": "code",
   "execution_count": null,
   "metadata": {},
   "outputs": [],
   "source": []
  },
  {
   "cell_type": "markdown",
   "metadata": {},
   "source": []
  },
  {
   "cell_type": "code",
   "execution_count": 174,
   "metadata": {},
   "outputs": [],
   "source": [
    "        \n",
    "def showGph(pts, \n",
    "            ax=plt):\n",
    "    xs,ys = zip(*pts) #this transposes the array\n",
    "    ax.plot(xs, ys)\n"
   ]
  },
  {
   "cell_type": "markdown",
   "metadata": {},
   "source": [
    "## Construction\n",
    "\n",
    "$f = \\lim f_n$ : \n",
    "\n",
    "- $f_n: [0,1] \\rightarrow [0,1]$\n",
    "- $f_n$ croissante\n",
    "- $f_n$ [affine par morceau](https://fr.wikipedia.org/wiki/Fonction_affine_par_morceaux)\n",
    "- [\"auto similaire\"](https://fr.wikipedia.org/wiki/Autosimilarit%C3%A9)\n",
    "\n",
    "On va tracer le graphe de $f_n$.\n",
    "Dans la suite l'array Z contient les points\n",
    "de discontinuité de $f_n$.\n",
    "\n",
    "---\n",
    "\n",
    "## MANDELBROT ET DÉFINITION\n",
    "\n",
    "Une fractale est un objet géométrique auto-similaire ou invariant par changement d'échelle : si on zoome sur une partie de la figure, on retrouve la figure entière.\n",
    "On attribue la découverte des fractales au français Benoît Mandelbrot (1899-1983).\n",
    "\n",
    "<img src=\"https://upload.wikimedia.org/wikipedia/commons/e/e3/Benoit_Mandelbrot%2C_TED_2010.jpg\" width=\"300\">\n",
    "\n",
    "---\n",
    "\n",
    "## Approximations\n",
    "\n",
    "Let $f,g : \\mathbb{R}^2 \\rightarrow \\mathbb{R}^2 $\n",
    "be affine transformations:\n",
    "\n",
    "- start with a set $S_0$\n",
    "- $S_{n+1} = f(S_n) \\cup g(S_{n+1})$\n",
    "- fractal = $\\lim_{n \\rightarrow \\infty} S_n$\n",
    "\n",
    "---\n",
    "### Example of this construction in 3D:\n",
    "\n",
    "*En mathématiques, et plus précisément en topologie, la sphère cornue d'Alexander est un célèbre exemple de surface pathologique ; elle fut découverte en 1923 par J. W. Alexander.*\n",
    "\n",
    "[Source: Wiki](https://fr.wikipedia.org/wiki/Sph%C3%A8re_cornue_d%27Alexander).\n",
    "\n",
    "\n",
    "\n",
    " <img src=\"./horned_sphere.png\" width=\"400\">\n",
    "\n",
    "[Horned Sphere in 3D viewer](https://github.com/macbuse/horned-sphere/blob/master/alexanderSphere2019.stl)\n",
    "\n",
    "\n",
    "\n",
    "\n"
   ]
  },
  {
   "cell_type": "code",
   "execution_count": 185,
   "metadata": {},
   "outputs": [],
   "source": [
    "#transformations affine\n",
    "\n",
    "def L(pts):\n",
    "    return [ (x/3.0, y/2.0) for x,y in pts]\n",
    "    \n",
    "def R(pts):\n",
    "    return [ (x/3.0 + 2./3, y/2.0 + .5) \n",
    "                for x,y in pts]\n",
    "\n",
    "# draw the graph\n",
    "def staircase(d):\n",
    "    # exo : rewrite me using recursion\n",
    "    S_n = [(0,0),(1,1)]\n",
    "    for i in range(d):\n",
    "        # f(S_n) U g(S_n)\n",
    "        S_n = L(S_n) + R(S_n)\n",
    "    return S_n"
   ]
  },
  {
   "cell_type": "code",
   "execution_count": 187,
   "metadata": {},
   "outputs": [
    {
     "data": {
      "image/png": "[encoded data removed]",
      "text/plain": [
       "<Figure size 576x576 with 1 Axes>"
      ]
     },
     "metadata": {
      "needs_background": "light"
     },
     "output_type": "display_data"
    }
   ],
   "source": [
    "fig, ax = plt.subplots()\n",
    "fig.set_size_inches(8,8)\n",
    "ax.set_aspect('equal')\n",
    "\n",
    "Z = staircase(5)\n",
    "showGph(Z,ax=ax)\n",
    "showGph(Z[-32:],ax=ax)\n",
    "showGph(Z[:32],ax=ax)"
   ]
  },
  {
   "cell_type": "markdown",
   "metadata": {},
   "source": [
    "## Derivative\n",
    "\n",
    "the function is piecewise linear and \n",
    "we can  easilcalculate the derivative y using ```numpy```\n"
   ]
  },
  {
   "cell_type": "code",
   "execution_count": 196,
   "metadata": {},
   "outputs": [
    {
     "data": {
      "text/plain": [
       "array([7.59375, 0.     , 7.59375, 0.     , 7.59375, 0.     , 7.59375,\n",
       "       0.     , 7.59375, 0.     , 7.59375, 0.     , 7.59375, 0.     ,\n",
       "       7.59375, 0.     , 7.59375, 0.     , 7.59375, 0.     , 7.59375,\n",
       "       0.     , 7.59375, 0.     , 7.59375, 0.     , 7.59375, 0.     ,\n",
       "       7.59375, 0.     , 7.59375, 0.     , 7.59375, 0.     , 7.59375,\n",
       "       0.     , 7.59375, 0.     , 7.59375, 0.     , 7.59375, 0.     ,\n",
       "       7.59375, 0.     , 7.59375, 0.     , 7.59375, 0.     , 7.59375,\n",
       "       0.     , 7.59375, 0.     , 7.59375, 0.     , 7.59375, 0.     ,\n",
       "       7.59375, 0.     , 7.59375, 0.     , 7.59375, 0.     , 7.59375])"
      ]
     },
     "execution_count": 196,
     "metadata": {},
     "output_type": "execute_result"
    }
   ],
   "source": [
    "Z = np.array(Z)\n",
    "diffs = Z[1:] - Z[:-1]\n",
    "x_delta, y_delta = diffs[:,0], diffs[:,1]\n",
    "y_delta/x_delta"
   ]
  },
  {
   "cell_type": "markdown",
   "metadata": {},
   "source": [
    "La fonction continue qui a pour graphe l'escalier du diable n'est pas absolument continue : l'image de l'ensemble de Cantor, qui est de mesure nulle, est $[0,1]$ tout entier.\n",
    "\n",
    "[à lire](https://fr.wikipedia.org/wiki/Absolue_continuit%C3%A9#Exemples_et_contre-exemples)\n",
    "\n"
   ]
  },
  {
   "cell_type": "code",
   "execution_count": 199,
   "metadata": {},
   "outputs": [
    {
     "name": "stdout",
     "output_type": "stream",
     "text": [
      "1.0\n",
      "1.5\n",
      "2.2500000000000013\n",
      "3.3750000000000053\n",
      "5.062500000000023\n",
      "7.59375000000024\n",
      "11.390625000000359\n",
      "17.085937500003304\n"
     ]
    }
   ],
   "source": [
    "slopes = []\n",
    "for k in range(8):\n",
    "    Z = staircase(k)\n",
    "    Z = np.array(Z)\n",
    "    diffs = Z[1:] - Z[:-1]\n",
    "    x_delta, y_delta = diffs[:,0], diffs[:,1]\n",
    "    max_slope = max(y_delta/x_delta)\n",
    "    print(max_slope)\n",
    "    slopes.append(max_slope)"
   ]
  },
  {
   "cell_type": "code",
   "execution_count": 219,
   "metadata": {},
   "outputs": [
    {
     "data": {
      "image/png": "[encoded data removed]",
      "text/plain": [
       "<Figure size 432x288 with 1 Axes>"
      ]
     },
     "metadata": {
      "needs_background": "light"
     },
     "output_type": "display_data"
    }
   ],
   "source": [
    "plt.plot(slopes);\n",
    "plt.title('Exponential growth?');"
   ]
  },
  {
   "cell_type": "code",
   "execution_count": 203,
   "metadata": {},
   "outputs": [
    {
     "data": {
      "image/png": "[encoded data removed]",
      "text/plain": [
       "<Figure size 432x288 with 1 Axes>"
      ]
     },
     "metadata": {
      "needs_background": "light"
     },
     "output_type": "display_data"
    }
   ],
   "source": [
    "plt.plot(np.log(slopes));"
   ]
  },
  {
   "cell_type": "code",
   "execution_count": 204,
   "metadata": {},
   "outputs": [
    {
     "data": {
      "text/plain": [
       "LinregressResult(slope=0.40546510810818354, intercept=-3.419486915845482e-14, rvalue=1.0, pvalue=2.5000000000000343e-60, stderr=0.0)"
      ]
     },
     "execution_count": 204,
     "metadata": {},
     "output_type": "execute_result"
    }
   ],
   "source": [
    "X = np.arange(8)\n",
    "linregress(np.arange(8), np.log(slopes) )"
   ]
  },
  {
   "cell_type": "markdown",
   "metadata": {},
   "source": [
    "## Exo : explain this "
   ]
  },
  {
   "cell_type": "code",
   "execution_count": 205,
   "metadata": {},
   "outputs": [
    {
     "data": {
      "text/plain": [
       "1.5000000000000286"
      ]
     },
     "execution_count": 205,
     "metadata": {},
     "output_type": "execute_result"
    }
   ],
   "source": [
    "np.exp(0.40546510810818354)"
   ]
  },
  {
   "cell_type": "markdown",
   "metadata": {},
   "source": [
    "---\n",
    "## Graph using numpy"
   ]
  },
  {
   "cell_type": "code",
   "execution_count": 223,
   "metadata": {},
   "outputs": [
    {
     "data": {
      "text/plain": [
       "array([[0.33333333, 0.        ],\n",
       "       [0.        , 0.5       ]])"
      ]
     },
     "execution_count": 223,
     "metadata": {},
     "output_type": "execute_result"
    }
   ],
   "source": [
    "M = np.diag([1/3,1/2])\n",
    "M"
   ]
  },
  {
   "cell_type": "code",
   "execution_count": 224,
   "metadata": {},
   "outputs": [
    {
     "data": {
      "text/plain": [
       "array([[0., 1.],\n",
       "       [0., 1.]])"
      ]
     },
     "execution_count": 224,
     "metadata": {},
     "output_type": "execute_result"
    }
   ],
   "source": [
    "Z = np.ones((2,2))\n",
    "Z[:,0] = 0\n",
    "Z"
   ]
  },
  {
   "cell_type": "code",
   "execution_count": 225,
   "metadata": {},
   "outputs": [],
   "source": [
    "# affine transformations\n",
    "\n",
    "L = np.dot(M,Z)\n",
    "R = np.dot(M,Z) + np.array([2/3,1/2]).reshape(-1,1)\n",
    "Z = np.hstack((L,R))"
   ]
  },
  {
   "cell_type": "code",
   "execution_count": 226,
   "metadata": {},
   "outputs": [
    {
     "data": {
      "text/plain": [
       "array([[0.66666667],\n",
       "       [0.5       ]])"
      ]
     },
     "execution_count": 226,
     "metadata": {},
     "output_type": "execute_result"
    }
   ],
   "source": [
    "# row vector -> col vector\n",
    "np.array([2/3,1/2]).reshape(-1,1)"
   ]
  },
  {
   "cell_type": "code",
   "execution_count": 234,
   "metadata": {},
   "outputs": [],
   "source": [
    "def staircase2(d):\n",
    "    fig, ax = plt.subplots()\n",
    "    fig.set_size_inches(8,8)\n",
    "    ax.set_aspect('equal')\n",
    "    \n",
    "    approx = {}\n",
    "      \n",
    "    M = np.diag([1/3,1/2])\n",
    "    #first approximation\n",
    "    Z = np.ones((2,2))\n",
    "    Z[:,0] = 0\n",
    "    \n",
    "    approx = [Z]\n",
    "    #make d approximations\n",
    "    for i in range(d):\n",
    "        #affine transforms\n",
    "        L = np.dot(M,Z)\n",
    "        R = np.dot(M,Z) + np.array([2/3,1/2]).reshape(-1,1)\n",
    "        #put the two together\n",
    "        Z = np.hstack((L,R))\n",
    "        approx.append(Z)\n",
    "        \n",
    "        ax.plot(Z[0],Z[1])\n",
    "        \n",
    "    return approx\n",
    "        "
   ]
  },
  {
   "cell_type": "code",
   "execution_count": 249,
   "metadata": {
    "scrolled": true
   },
   "outputs": [
    {
     "data": {
      "image/png": "[encoded data removed]",
      "text/plain": [
       "<Figure size 576x576 with 1 Axes>"
      ]
     },
     "metadata": {
      "needs_background": "light"
     },
     "output_type": "display_data"
    }
   ],
   "source": [
    "ff = staircase2(7)"
   ]
  },
  {
   "cell_type": "markdown",
   "metadata": {},
   "source": [
    "## Convergence\n",
    "\n",
    "we see that\n",
    "$\\sup |f_n - f_{n+1}|$ \n",
    "occurs at a pt where $f_n$ isn't differentiable"
   ]
  },
  {
   "cell_type": "code",
   "execution_count": 251,
   "metadata": {},
   "outputs": [
    {
     "name": "stdout",
     "output_type": "stream",
     "text": [
      "0.16666666666666663\n",
      "0.08333333333333331\n",
      "0.04166666666666674\n",
      "0.02083333333333348\n",
      "0.010416666666666713\n",
      "0.005208333333333592\n",
      "0.002604166666667518\n"
     ]
    }
   ],
   "source": [
    "diffs = []\n",
    "for k, f in enumerate(ff[:-1]):\n",
    "    X, Y = f\n",
    "    #f_n is piecewise linear \n",
    "    #so do an interpolation\n",
    "    #to get values \n",
    "    diff = max(np.interp(ff[k+1][0], X, Y) - ff[k+1][1])\n",
    "    diffs.append(diff)\n",
    "    print(diff)"
   ]
  },
  {
   "cell_type": "markdown",
   "metadata": {},
   "source": [
    "## what is the rate of convergence ?\n"
   ]
  },
  {
   "cell_type": "code",
   "execution_count": 253,
   "metadata": {},
   "outputs": [
    {
     "data": {
      "image/png": "[encoded data removed]",
      "text/plain": [
       "<Figure size 432x288 with 1 Axes>"
      ]
     },
     "metadata": {
      "needs_background": "light"
     },
     "output_type": "display_data"
    }
   ],
   "source": [
    "plt.plot(np.log(diffs));"
   ]
  },
  {
   "cell_type": "markdown",
   "metadata": {},
   "source": [
    "---\n",
    "\n",
    "## Flocon de Koch\n",
    "\n",
    "Le flocon de Koch est l'une des premières courbes fractales à avoir été décrites <br>\n",
    "(bien avant l'invention du terme « fractal(e) »).\n",
    "**LOL**\n",
    "\n",
    "Elle a été inventée en 1904 par le mathématicien suédois Helge von Koch.\n",
    "\n",
    "[wiki](https://fr.wikipedia.org/wiki/Flocon_de_Koch)\n",
    "\n",
    "[Pour savoir plus](https://fr.wikipedia.org/wiki/Flocon_de_Koch#Courbe_de_Koch)\n",
    "\n"
   ]
  },
  {
   "cell_type": "code",
   "execution_count": 131,
   "metadata": {},
   "outputs": [
    {
     "data": {
      "image/png": "[encoded data removed]",
      "text/plain": [
       "<Figure size 864x864 with 1 Axes>"
      ]
     },
     "metadata": {
      "needs_background": "light"
     },
     "output_type": "display_data"
    }
   ],
   "source": [
    "Z = [-1, 1J*np.sqrt(3) , 1]\n",
    "Z = [-1] + [z/3 for z in Z] + [1]\n",
    "\n",
    "RR = (Z[-2] - Z[2])/2\n",
    "CR = (Z[-2] + Z[2])/2\n",
    "\n",
    "def R(Z):\n",
    "    return [RR*z + CR for z in Z]\n",
    "    \n",
    "RL = (- Z[1] +  Z[2])/2\n",
    "CL = (Z[1] + Z[2])/2\n",
    "\n",
    "def L(Z):\n",
    "    return [RL*z + CL for z in Z]\n",
    "\n",
    "fig, ax = plt.subplots()\n",
    "fig.set_size_inches(12,12)\n",
    "ax.set_aspect('equal')\n",
    "#plt_cplx(Z)\n",
    "for i in range(5):\n",
    "    Z = [-1] + L(Z) + R(Z) + [1]\n",
    "plt_cplx(Z,ax=ax, sty='b')\n"
   ]
  },
  {
   "cell_type": "markdown",
   "metadata": {},
   "source": [
    "## Animated etc.\n",
    "\n",
    "https://github.com/macbuse/koch/blob/master/koch.ipynb"
   ]
  },
  {
   "cell_type": "markdown",
   "metadata": {},
   "source": [
    "---\n",
    "\n",
    "# Exo\n",
    "\n",
    "1. Fix this code so that it makes\n",
    "a [tapis de Sierpiński](https://fr.wikipedia.org/wiki/Tapis_de_Sierpi%C5%84ski)\n",
    "1. Rewrite it using recursion.\n",
    "1. Change it to make a [triangle de Sierpiński](https://fr.wikipedia.org/wiki/Triangle_de_Sierpi%C5%84ski).\n",
    "1. What about [this](https://images.math.cnrs.fr/Decouper-au-laser-son-tapis-de-Sierpinski.html?lang=fr)?\n",
    "1. Rewrite this using the trick at the end of this notebook.\n",
    "\n",
    "---\n",
    "\n",
    "Le tapis de Sierpiński (1916), du nom de Wacław Sierpiński, est une fractale obtenue à partir d'un carré. Le tapis se fabrique en découpant le carré en neuf carrés égaux avec une grille de trois par trois, et en supprimant la pièce centrale, et en appliquant \n",
    "cette procédure indéfiniment aux huit carrés restants.\n",
    "\n",
    "<img src=\"https://upload.wikimedia.org/wikipedia/commons/2/2d/Sierpinski_carpet_5.svg\" width=\"300\">"
   ]
  },
  {
   "cell_type": "code",
   "execution_count": 321,
   "metadata": {},
   "outputs": [
    {
     "data": {
      "image/png": "[encoded data removed]",
      "text/plain": [
       "<Figure size 864x864 with 1 Axes>"
      ]
     },
     "metadata": {
      "needs_background": "light"
     },
     "output_type": "display_data"
    }
   ],
   "source": [
    "fig, ax = plt.subplots()\n",
    "fig.set_size_inches(12,12)\n",
    "ax.set_aspect('equal')\n",
    "\n",
    "trans = [[0,2],[0,-2], [2,0], [-2,0]]\n",
    "trans = np.array(trans)\n",
    "\n",
    "X = [1,-1,-1, 1]\n",
    "Y = [1, 1, -1, -1]\n",
    "motif = np.array([X,Y])\n",
    "\n",
    "holes = [motif]\n",
    "for level in range(3):\n",
    "    # have to use a temporary list\n",
    "    # otherwise the for loop will not work\n",
    "    tmp =[]\n",
    "    for sq in holes:\n",
    "        # apply affine transformations\n",
    "        # what happens if I change 3 ?\n",
    "        tmp.extend([ v.reshape(-1,1) + sq/3\n",
    "                 for v in trans])\n",
    "    holes.extend(tmp)\n",
    "\n",
    "for sq in holes: \n",
    "    ax.fill( sq[0], sq[1],'k');"
   ]
  },
  {
   "cell_type": "markdown",
   "metadata": {},
   "source": [
    "# Un arbre\n",
    "\n",
    "En informatique, un [arbre binaire](https://fr.wikipedia.org/wiki/Arbre_binaire#:~:text=En%20informatique%2C%20un%20arbre%20binaire,n%C5%93ud%20initial%20%C3%A9tant%20appel%C3%A9%20racine.)\n",
    "est une structure de données qui peut se représenter sous la forme d'une hiérarchie dont chaque élément est appelé nœud, le nœud initial étant appelé racine. Dans un arbre binaire, chaque élément possède au plus deux éléments fils au niveau inférieur, habituellement appelés gauche et droit. Du point de vue de ces éléments fils, l'élément dont ils sont issus au niveau supérieur est appelé père.\n"
   ]
  },
  {
   "cell_type": "markdown",
   "metadata": {},
   "source": [
    "For to make things neater I'll use \n",
    "- ```map``` to [avoid loops](https://realpython.com/python-map-function/)\n",
    "- ```lambda``` to [create temporary functions](https://medium.com/better-programming/lambda-map-and-filter-in-python-4935f248593)\n"
   ]
  },
  {
   "cell_type": "code",
   "execution_count": 172,
   "metadata": {},
   "outputs": [
    {
     "data": {
      "image/png": "[encoded data removed]",
      "text/plain": [
       "<Figure size 432x288 with 1 Axes>"
      ]
     },
     "metadata": {
      "needs_background": "light"
     },
     "output_type": "display_data"
    }
   ],
   "source": [
    "tree = [np.array([-1+1J, -1, 1, 1+1J ])]\n",
    "\n",
    "for k in range(4):\n",
    "    \n",
    "    RB = list(map(lambda z: z/2 -1+1J, tree))\n",
    "    LB = list(map(lambda z: z/2 +1+1J, tree))\n",
    "    tree = tree + RB + LB\n",
    "    \n",
    "cols = 'rgb'\n",
    "for k, edge in enumerate(tree):\n",
    "    plt_cplx(edge, sty=cols[k%3])"
   ]
  },
  {
   "cell_type": "markdown",
   "metadata": {},
   "source": [
    "## Exo : explain the colors"
   ]
  },
  {
   "cell_type": "markdown",
   "metadata": {},
   "source": [
    "## Arbre de Stern-Brocot\n",
    "\n",
    "En mathématiques, [l'arbre de Stern-Brocot](https://fr.wikipedia.org/wiki/Arbre_de_Stern-Brocot) est une représentation de tous les rationnels strictement positifs, sous forme de fractions irréductibles.\n",
    "\n",
    "Il a été découvert presque simultanément par le mathématicien allemand Moritz Stern (1858) et par l'horloger français Achille Brocot (1861).\n",
    "\n",
    "## Énumération des rationnels\n",
    "\n",
    "La propriété fondamentale de l'arbre de Stern-Brocot est qu'il contient toutes les fractions irréductibles strictement positives une et une seule fois chacune. On en déduit un procédé pour numéroter tous les rationnels positifs, c'est-à-dire une bijection des rationnels positifs sur les entiers naturels positifs. En bref on associe à un rationnel l'entier dont la représentation en base 2 code le chemin de la racine de l'arbre au rationnel choisi.\n",
    "\n",
    "**Source : Wiki**\n"
   ]
  },
  {
   "cell_type": "markdown",
   "metadata": {},
   "source": [
    "## Suites de Farey\n",
    "\n",
    "En mathématiques, [la suite de Farey](https://fr.wikipedia.org/wiki/Suite_de_Farey)\n",
    "d'ordre n est la suite des fractions irréductibles comprises entre 0 et 1, ordonnées en croissant et dont le dénominateur est inférieur ou égal à n. Certains auteurs ne restreignent pas les suites de Farey à l'intervalle de 0 à 1.\n",
    "\n",
    "Chaque suite de Farey commence avec la valeur 0, décrite par la fraction {\\displaystyle 0/1,}0/1, et finit avec la valeur 1, décrite par la fraction {\\displaystyle 1/1}1/1 (bien que certains auteurs omettent ces termes). Une suite de Farey est quelquefois appelée série de Farey, ce qui n'est pas véritablement correct, les termes n'étant pas additionnés.\n",
    "\n",
    "---\n",
    "\n",
    "Écrire une fonction Python ```inseremedians``` qui prend comme argument une liste de couples d’entiers  et renvoit la liste de couples où, comme décrit ci-dessus, $m_i$ est le médian de $c_i$ et $c_{i+1}$. \n",
    "\n",
    "[Source : TP](https://www.normalesup.org/~glafon/eiffel16/TPnotecor.pdf)\n",
    "\n",
    "En déduire une fonction Farey(n) qui prend comme argument un entier n et renvoit la suite de\n",
    "Farey $F_n$.\n",
    "\n",
    "---\n",
    "\n",
    "[This is interesting](https://hal.archives-ouvertes.fr/hal-00765981/document)"
   ]
  },
  {
   "cell_type": "code",
   "execution_count": 211,
   "metadata": {},
   "outputs": [
    {
     "data": {
      "text/plain": [
       "array([[0, 1],\n",
       "       [1, 1]])"
      ]
     },
     "execution_count": 211,
     "metadata": {},
     "output_type": "execute_result"
    }
   ],
   "source": [
    "rats = np.array([[0,1], [1,1]])\n",
    "rats"
   ]
  },
  {
   "cell_type": "markdown",
   "metadata": {},
   "source": [
    "the median is"
   ]
  },
  {
   "cell_type": "code",
   "execution_count": 212,
   "metadata": {},
   "outputs": [
    {
     "data": {
      "text/plain": [
       "array([[1, 2]])"
      ]
     },
     "execution_count": 212,
     "metadata": {},
     "output_type": "execute_result"
    }
   ],
   "source": [
    "rats[:-1] + rats[1:]"
   ]
  },
  {
   "cell_type": "markdown",
   "metadata": {},
   "source": [
    "in numpy we can do the insertion using indices like this"
   ]
  },
  {
   "cell_type": "code",
   "execution_count": 213,
   "metadata": {},
   "outputs": [
    {
     "data": {
      "text/plain": [
       "array([[0., 1.],\n",
       "       [1., 2.],\n",
       "       [1., 1.]])"
      ]
     },
     "execution_count": 213,
     "metadata": {},
     "output_type": "execute_result"
    }
   ],
   "source": [
    "tmp = np.zeros((2*rats.shape[0]-1,2))\n",
    "tmp[::2,] = rats\n",
    "tmp[1::2,] = rats[:-1] + rats[1:]\n",
    "tmp"
   ]
  },
  {
   "cell_type": "markdown",
   "metadata": {},
   "source": [
    "## The function  using numpy\n",
    "\n",
    "Compare with [this](https://fr.wikipedia.org/wiki/Suite_de_Farey#Un_algorithme_simple)"
   ]
  },
  {
   "cell_type": "code",
   "execution_count": 217,
   "metadata": {},
   "outputs": [
    {
     "data": {
      "text/plain": [
       "array([[0., 1.],\n",
       "       [1., 3.],\n",
       "       [1., 2.],\n",
       "       [2., 3.],\n",
       "       [1., 1.]])"
      ]
     },
     "execution_count": 217,
     "metadata": {},
     "output_type": "execute_result"
    }
   ],
   "source": [
    "def Farey(n):\n",
    "    rats = np.array([[0,1], [1,1]])\n",
    "    for k in range(n-1):\n",
    "        tmp = np.zeros((2*rats.shape[0]-1,2))\n",
    "        tmp[::2,] = rats\n",
    "        tmp[1::2,] = rats[:-1] + rats[1:]\n",
    "        rats = tmp\n",
    "    return rats\n",
    "\n",
    "Farey(3)\n",
    "    "
   ]
  },
  {
   "cell_type": "code",
   "execution_count": 219,
   "metadata": {},
   "outputs": [
    {
     "data": {
      "text/plain": [
       "array([0., 1., 1., 2., 1., 3., 2., 3., 1.])"
      ]
     },
     "execution_count": 219,
     "metadata": {},
     "output_type": "execute_result"
    }
   ],
   "source": [
    "rats = Farey(4)\n",
    "nums, denoms = rats[:,0], rats[:,1]\n",
    "nums"
   ]
  },
  {
   "cell_type": "markdown",
   "metadata": {},
   "source": [
    "## Visualising the tree structure "
   ]
  },
  {
   "cell_type": "code",
   "execution_count": 3,
   "metadata": {},
   "outputs": [
    {
     "data": {
      "image/png": "[encoded data removed]",
      "text/plain": [
       "<Figure size 432x288 with 1 Axes>"
      ]
     },
     "metadata": {
      "needs_background": "light"
     },
     "output_type": "display_data"
    }
   ],
   "source": [
    "rats = np.array([[0,1], [1,1]])\n",
    "for k in range(6):\n",
    "    tmp = np.zeros((2*rats.shape[0]-1,2))\n",
    "    tmp[::2,] = rats\n",
    "    tmp[1::2,] = rats[:-1] + rats[1:]\n",
    "    #fracs = rats[:,0]/rats[:,1]\n",
    "    fracs = tmp[1::2,0]/tmp[1::2,1]\n",
    "    plt.plot(fracs, k*np.ones_like(fracs), 'rx')\n",
    "    rats = tmp"
   ]
  },
  {
   "cell_type": "code",
   "execution_count": 229,
   "metadata": {},
   "outputs": [
    {
     "data": {
      "text/plain": [
       "65"
      ]
     },
     "execution_count": 229,
     "metadata": {},
     "output_type": "execute_result"
    }
   ],
   "source": [
    "len(rats)"
   ]
  },
  {
   "cell_type": "code",
   "execution_count": 232,
   "metadata": {},
   "outputs": [
    {
     "data": {
      "text/plain": [
       "array([[ 0.,  1.],\n",
       "       [ 1.,  6.],\n",
       "       [ 1.,  5.],\n",
       "       [ 2.,  9.],\n",
       "       [ 1.,  4.],\n",
       "       [ 3., 11.],\n",
       "       [ 2.,  7.],\n",
       "       [ 3., 10.],\n",
       "       [ 1.,  3.],\n",
       "       [ 4., 11.]])"
      ]
     },
     "execution_count": 232,
     "metadata": {},
     "output_type": "execute_result"
    }
   ],
   "source": [
    "rats[::2][:10]"
   ]
  },
  {
   "cell_type": "code",
   "execution_count": 359,
   "metadata": {},
   "outputs": [
    {
     "data": {
      "image/png": "[encoded data removed]",
      "text/plain": [
       "<Figure size 432x288 with 1 Axes>"
      ]
     },
     "metadata": {
      "needs_background": "light"
     },
     "output_type": "display_data"
    }
   ],
   "source": [
    "tmp = np.copy(rats)\n",
    "k = 0\n",
    "while tmp.shape[0] > 2:\n",
    "    fracs = tmp[1::2,0]/tmp[1::2,1]\n",
    "    plt.plot(fracs, k*np.ones_like(fracs), 'rx')\n",
    "    tmp = tmp[::2]\n",
    "    k += 1\n",
    "    "
   ]
  },
  {
   "cell_type": "markdown",
   "metadata": {},
   "source": [
    "##  Recursion\n",
    "\n",
    "If one looks carefully one sees \n",
    "that the k-th element of $F_n$\n",
    "is just the 2k-th element of $F_{n+1}$\n",
    "\n",
    "\n",
    "$$(F_{n+1})_{2k} = (F_n)_k $$\n",
    "\n",
    "$$(F_{n+1})_{2k+1} = (F_n)_k  + (F_n)_{k+1}$$\n"
   ]
  },
  {
   "cell_type": "code",
   "execution_count": 209,
   "metadata": {},
   "outputs": [],
   "source": [
    "def F(n):\n",
    "    if n == 0:\n",
    "         return np.array([[0,1], [1,1]])\n",
    "    #F_n-1 is not a valid variable name\n",
    "    F_n_1 = F(n-1)\n",
    "    F_n = np.zeros((2*F_n_1.shape[0]-1,2))\n",
    "    F_n[::2,] = F_n_1\n",
    "    F_n[1::2,] = F_n_1[:-1] + F_n_1[1:]\n",
    "    return F_n"
   ]
  },
  {
   "cell_type": "code",
   "execution_count": 212,
   "metadata": {},
   "outputs": [
    {
     "data": {
      "text/plain": [
       "array([[0., 1.],\n",
       "       [1., 3.],\n",
       "       [1., 2.],\n",
       "       [2., 3.],\n",
       "       [1., 1.]])"
      ]
     },
     "execution_count": 212,
     "metadata": {},
     "output_type": "execute_result"
    }
   ],
   "source": [
    "F(2)"
   ]
  },
  {
   "cell_type": "markdown",
   "metadata": {},
   "source": [
    "## Conjecture \n",
    "\n",
    "[Tirée dans le TP](https://www.normalesup.org/~glafon/eiffel16/TPnote.pdf)\n",
    "\n",
    "*On fait la conjecture suivante : dans la suite de Farey $F_n$, <br>\n",
    "les valeurs prises par la fonction evalue\n",
    "sur chacun  <br>des couples de la suite sont strictement croissantes:*\n",
    "\n",
    "$(F_n)_k < (F_n)_{k+1}$$\n",
    "\n",
    "\n"
   ]
  },
  {
   "cell_type": "code",
   "execution_count": 25,
   "metadata": {},
   "outputs": [],
   "source": [
    "F_n = F(4)\n",
    "fracs = F_n[:,0]/F_n[:,1]"
   ]
  },
  {
   "cell_type": "code",
   "execution_count": 26,
   "metadata": {},
   "outputs": [
    {
     "data": {
      "text/plain": [
       "array([0.2       , 0.05      , 0.03571429, 0.04761905, 0.04166667,\n",
       "       0.025     , 0.02857143, 0.07142857, 0.07142857, 0.02857143,\n",
       "       0.025     , 0.04166667, 0.04761905, 0.03571429, 0.05      ,\n",
       "       0.2       ])"
      ]
     },
     "execution_count": 26,
     "metadata": {},
     "output_type": "execute_result"
    }
   ],
   "source": [
    "diffs = fracs[1:] - fracs[:-1] \n",
    "diffs"
   ]
  },
  {
   "cell_type": "markdown",
   "metadata": {},
   "source": [
    "## check no values < 0"
   ]
  },
  {
   "cell_type": "code",
   "execution_count": 27,
   "metadata": {},
   "outputs": [
    {
     "data": {
      "text/plain": [
       "array([], dtype=float64)"
      ]
     },
     "execution_count": 27,
     "metadata": {},
     "output_type": "execute_result"
    }
   ],
   "source": [
    "diffs[diffs < 0 ]"
   ]
  },
  {
   "cell_type": "code",
   "execution_count": 24,
   "metadata": {},
   "outputs": [
    {
     "data": {
      "text/plain": [
       "array([0.2       , 0.05      , 0.03571429, 0.04761905, 0.04166667,\n",
       "       0.025     , 0.02857143, 0.07142857, 0.07142857, 0.02857143,\n",
       "       0.025     , 0.04166667, 0.04761905, 0.03571429, 0.05      ,\n",
       "       0.2       ])"
      ]
     },
     "execution_count": 24,
     "metadata": {},
     "output_type": "execute_result"
    }
   ],
   "source": [
    "diffs[diffs > 0 ]"
   ]
  },
  {
   "cell_type": "markdown",
   "metadata": {},
   "source": [
    "\n",
    "- ```diffs < 0```\n",
    "- ```diffs > 0```\n",
    "\n",
    "are [boolean masks](https://jakevdp.github.io/PythonDataScienceHandbook/02.06-boolean-arrays-and-masks.html).\n",
    "\n",
    "[Regarder la video](https://machinelearnia.com/numpy/#indexing)\n",
    "\n"
   ]
  },
  {
   "cell_type": "markdown",
   "metadata": {},
   "source": [
    "#  Exo\n",
    "\n",
    "[Tirée dans le TP](https://www.normalesup.org/~glafon/eiffel16/TPnote.pdf)\n",
    "\n",
    "Écrire une fonction Python ```appartient_farey(x,n)``` \n",
    "qui détermine si le\n",
    "nombre flottant x correspond à la valeur evalue($c_i$) pour un des couples d’entiers $c_i$ de la\n",
    "suite de Farey $F_n$. \n",
    "\n",
    "La fonction renverra bien sûr True si c’est le cas, False sinon."
   ]
  },
  {
   "cell_type": "code",
   "execution_count": 64,
   "metadata": {},
   "outputs": [],
   "source": [
    "\n",
    "def interval(x, n):\n",
    "    if n == 0:\n",
    "        # returning 2 objects\n",
    "        return np.array([[0,1], [1,1]]), []\n",
    "    \n",
    "    tmp, medians = interval(x, n-1)\n",
    "    median = tmp[0] + tmp[1]\n",
    "    medians.append(median)\n",
    "    if median[0]/median[1] < x:\n",
    "        tmp[0] = median\n",
    "    else:\n",
    "        tmp[1] = median\n",
    "    return tmp, medians"
   ]
  },
  {
   "cell_type": "code",
   "execution_count": 57,
   "metadata": {},
   "outputs": [
    {
     "data": {
      "text/plain": [
       "array([0.61764706, 0.61818182])"
      ]
     },
     "execution_count": 57,
     "metadata": {},
     "output_type": "execute_result"
    }
   ],
   "source": [
    "uu, medians = interval((np.sqrt(5) - 1)/2, 8)\n",
    "uu[:,0]/uu[:,1]"
   ]
  },
  {
   "cell_type": "markdown",
   "metadata": {},
   "source": [
    "## Visualizing the solution"
   ]
  },
  {
   "cell_type": "code",
   "execution_count": 58,
   "metadata": {},
   "outputs": [
    {
     "data": {
      "text/plain": [
       "array([0.5       , 0.66666667, 0.6       , 0.625     , 0.61538462,\n",
       "       0.61904762, 0.61764706, 0.61818182])"
      ]
     },
     "execution_count": 58,
     "metadata": {},
     "output_type": "execute_result"
    }
   ],
   "source": [
    "medians = np.array(medians)\n",
    "mfracs = medians[:,0]/medians[:,1] \n",
    "mfracs"
   ]
  },
  {
   "cell_type": "code",
   "execution_count": 354,
   "metadata": {},
   "outputs": [
    {
     "data": {
      "image/png": "[encoded data removed]",
      "text/plain": [
       "<Figure size 864x864 with 1 Axes>"
      ]
     },
     "metadata": {
      "needs_background": "light"
     },
     "output_type": "display_data"
    }
   ],
   "source": [
    "\n",
    "fig, ax = plt.subplots()\n",
    "fig.set_size_inches(12,12)\n",
    "\n",
    "rats = np.array([[0,1], [1,1]])\n",
    "for k in range(8):\n",
    "    tmp = np.zeros((2*rats.shape[0]-1,2))\n",
    "    tmp[::2,] = rats\n",
    "    tmp[1::2,] = rats[:-1] + rats[1:]\n",
    "    #fracs = rats[:,0]/rats[:,1]\n",
    "    fracs = tmp[:,0]/tmp[:,1]\n",
    "    ax.plot(fracs, k*np.ones_like(fracs), 'ro')\n",
    "    rats = tmp\n",
    "    \n",
    "ax.plot(mfracs, np.arange(len(mfracs)) );"
   ]
  },
  {
   "cell_type": "code",
   "execution_count": 353,
   "metadata": {},
   "outputs": [
    {
     "data": {
      "image/png": "[encoded data removed]",
      "text/plain": [
       "<Figure size 432x288 with 1 Axes>"
      ]
     },
     "metadata": {
      "needs_background": "light"
     },
     "output_type": "display_data"
    }
   ],
   "source": [
    "C = np.array([-.5, .5J,.5])\n",
    "\n",
    "tt = F(3)\n",
    "fracs = tt[:,0]/tt[:,1]\n",
    "diams = fracs[1:] - fracs[:-1] \n",
    "centres = .5*(fracs[1:] + fracs[:-1])\n",
    "\n",
    "circles = [d*C + c for c,d in zip(centres,diams)]\n",
    "for cc in circles:\n",
    "    plt_cplx(cc)   \n"
   ]
  },
  {
   "cell_type": "code",
   "execution_count": 214,
   "metadata": {},
   "outputs": [
    {
     "data": {
      "image/png": "[encoded data removed]",
      "text/plain": [
       "<Figure size 432x288 with 1 Axes>"
      ]
     },
     "metadata": {
      "needs_background": "light"
     },
     "output_type": "display_data"
    }
   ],
   "source": [
    "C = np.array([-.5, -.2+.1J, .2+.1J, .5])\n",
    "\n",
    "F_n = F(8)\n",
    "#this should be a while loop\n",
    "#but I hate doing k += 1\n",
    "for k in range(2**10):\n",
    "    fracs = F_n[:,0]/F_n[:,1]\n",
    "    \n",
    "    diams = fracs[1:] - fracs[:-1] \n",
    "    centres = .5*(fracs[1:] + fracs[:-1])\n",
    "    circles = [d*C + c for c,d in zip(centres,diams)]\n",
    "    \n",
    "    for cc in circles:\n",
    "        plt_cplx(cc)\n",
    "        \n",
    "    F_n = F_n[::2]\n",
    "    if F_n.shape[0] < 2: break\n"
   ]
  },
  {
   "cell_type": "markdown",
   "metadata": {},
   "source": [
    "## Exo : \n",
    "\n",
    "- make the code cleaner using ```np.diff```\n",
    "\n",
    "- change the array ```C``` above and make something like this\n",
    "<img src=\"https://upload.wikimedia.org/wikipedia/commons/9/91/Farey_diagram_horizontal_arc_9.svg\"\n",
    "     width = \"600\">\n",
    " - draw the [cercles de Ford](https://fr.wikipedia.org/wiki/Suite_de_Farey#Cercles_de_Ford)"
   ]
  },
  {
   "cell_type": "markdown",
   "metadata": {},
   "source": [
    "--- \n",
    "\n",
    "## Finally a trick\n",
    "\n",
    "we can represent an affine map \n",
    "of $\\mathbb{R}^n$\n",
    "by an $(n+1) \\times (n+1)$ matrix <br>\n",
    "then function composition is matrix multiplication.\n",
    "\n",
    "In fact this is what happens:\n",
    "\n",
    "- in [PS files](https://scientificgems.wordpress.com/2014/11/28/mathematics-in-action-affine-transformations-and-postscript/)\n",
    "\n",
    "- in [game engines](https://docs.unity3d.com/ScriptReference/Matrix4x4.html)\n",
    "\n",
    "- on the GPU \n",
    "[etc](http://graphics.cs.cmu.edu/nsp/course/15-462/Spring04/slides/04-transform.pdf)\n",
    "\n"
   ]
  },
  {
   "cell_type": "code",
   "execution_count": 349,
   "metadata": {},
   "outputs": [
    {
     "data": {
      "image/png": "[encoded data removed]",
      "text/plain": [
       "<Figure size 432x288 with 1 Axes>"
      ]
     },
     "metadata": {
      "needs_background": "light"
     },
     "output_type": "display_data"
    }
   ],
   "source": [
    "tree = [np.array([-1+1J, -1, 1, 1+1J ])]\n",
    "\n",
    "for k in range(4):\n",
    "    \n",
    "    RB = list(map(lambda z: z/2 -1+1J, tree))\n",
    "    LB = list(map(lambda z: z/2 +1+1J, tree))\n",
    "    tree = tree + RB + LB\n",
    "    \n",
    "cols = 'rgb'\n",
    "for k, edge in enumerate(tree):\n",
    "    plt_cplx(edge, sty=cols[k%3])"
   ]
  },
  {
   "cell_type": "code",
   "execution_count": 340,
   "metadata": {},
   "outputs": [],
   "source": [
    "branch = np.array([-1+1J, -1, 1, 1+1J ])\n",
    "\n",
    "scale = .5\n",
    "L = np.array( [[scale, 0 ], [branch[0], 1]])\n",
    "R = np.array( [[scale, 0 ], [branch[-1], 1]])\n"
   ]
  },
  {
   "cell_type": "markdown",
   "metadata": {},
   "source": [
    "## Composition = matrix multiplication"
   ]
  },
  {
   "cell_type": "code",
   "execution_count": 331,
   "metadata": {},
   "outputs": [
    {
     "data": {
      "text/plain": [
       "array([[0.25+0.j , 0.  +0.j ],\n",
       "       [0.5 +1.5j, 1.  +0.j ]])"
      ]
     },
     "execution_count": 331,
     "metadata": {},
     "output_type": "execute_result"
    }
   ],
   "source": [
    "np.dot(L,R)"
   ]
  },
  {
   "cell_type": "code",
   "execution_count": null,
   "metadata": {},
   "outputs": [],
   "source": []
  },
  {
   "cell_type": "code",
   "execution_count": 342,
   "metadata": {},
   "outputs": [
    {
     "data": {
      "image/png": "[encoded data removed]",
      "text/plain": [
       "<Figure size 432x288 with 1 Axes>"
      ]
     },
     "metadata": {
      "needs_background": "light"
     },
     "output_type": "display_data"
    }
   ],
   "source": [
    "trans = [np.identity(2)]\n",
    "for k in range(4):\n",
    "    # store transformations not points\n",
    "    trans.extend( [np.dot(G,M) \n",
    "                        for M in trans\n",
    "                        for G in [L,R]])\n",
    "cols = 'rgb'\n",
    "shape = branch\n",
    "for k, f in enumerate(trans):\n",
    "    scale, cx = f[:,0]\n",
    "    plt_cplx(scale*shape + cx, sty=cols[k%3])"
   ]
  },
  {
   "cell_type": "code",
   "execution_count": 351,
   "metadata": {},
   "outputs": [
    {
     "data": {
      "image/png": "[encoded data removed]",
      "text/plain": [
       "<Figure size 432x288 with 1 Axes>"
      ]
     },
     "metadata": {
      "needs_background": "light"
     },
     "output_type": "display_data"
    }
   ],
   "source": [
    "motif = np.array([-1+1J, -.5+1J, 0, .5+1J, 1+1J ])\n",
    "cols = 'rgb'\n",
    "for k, f in enumerate(trans):\n",
    "    scale, cx = f[:,0]\n",
    "    plt_cplx(scale*motif + cx, sty=cols[k%3])\n"
   ]
  },
  {
   "cell_type": "code",
   "execution_count": 350,
   "metadata": {},
   "outputs": [
    {
     "name": "stdout",
     "output_type": "stream",
     "text": [
      "[master 25ecb29] web\n",
      " 2 files changed, 321 insertions(+), 84 deletions(-)\n",
      "Enumerating objects: 9, done.\n",
      "Counting objects: 100% (9/9), done.\n",
      "Delta compression using up to 4 threads\n",
      "Compressing objects: 100% (5/5), done.\n",
      "Writing objects: 100% (5/5), 32.91 KiB | 863.00 KiB/s, done.\n",
      "Total 5 (delta 4), reused 0 (delta 0)\n",
      "remote: Resolving deltas: 100% (4/4), completed with 4 local objects.\u001b[K\n",
      "To https://github.com/macbuse/macbuse.github.io\n",
      "   1b71fae..25ecb29  master -> master\n"
     ]
    }
   ],
   "source": [
    "! ../.g\n"
   ]
  },
  {
   "cell_type": "code",
   "execution_count": null,
   "metadata": {},
   "outputs": [],
   "source": []
  }
 ],
 "metadata": {
  "kernelspec": {
   "display_name": "Python 3",
   "language": "python",
   "name": "python3"
  },
  "language_info": {
   "codemirror_mode": {
    "name": "ipython",
    "version": 3
   },
   "file_extension": ".py",
   "mimetype": "text/x-python",
   "name": "python",
   "nbconvert_exporter": "python",
   "pygments_lexer": "ipython3",
   "version": "3.6.5"
  }
 },
 "nbformat": 4,
 "nbformat_minor": 2
}
