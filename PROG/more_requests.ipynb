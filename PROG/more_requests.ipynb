{
 "cells": [
  {
   "cell_type": "markdown",
   "metadata": {},
   "source": [
    "# More on ```requests```\n",
    "\n",
    "There are many services available on the web for free \n",
    "provided you know how to access them. Typically they \n",
    "are provided by major companies to show off the latest\n",
    "Deep Learning technologies. \n",
    "\n",
    "- Google translate [BERT](https://fr.wikipedia.org/wiki/BERT_(mod%C3%A8le_de_langage)#:~:text=En%20traitement%20automatique%20du%20langage,en%20traitement%20automatique%20des%20langues.)\n",
    "- Text to speech  [WaveNet](https://deepmind.com/blog/article/wavenet-generative-model-raw-audio)\n",
    "- Image tagging [InceptionNet](https://demos.algorithmia.com/image-tagger)\n",
    "\n",
    "In theory you can create DL models\n",
    "by yourself in Colab but often:\n",
    "\n",
    "- you don't have enough data\n",
    "- the code that you want to run won't because of incompatibilities between versions.\n",
    "\n",
    "So I often end up *hijacking* a service, there are \n",
    "- sometimes Python modules to access these ->like [gTTS](https://github.com/pndurette/gTTS)\n",
    "- sometimes you have to access them **directly** via Requests using [query strings](https://en.wikipedia.org/wiki/Query_string)\n",
    "\n",
    "Please read about query strings (chaînes de requête).\n",
    "\n",
    "---\n",
    "\n",
    "Below we will use :\n",
    "- ```gTTS``` to access Google translates Text To Speech (TTS)\n",
    "- ```requests``` to access IBM's TTS service at  https://text-to-speech-demo.ng.bluemix.net/\n",
    "\n",
    "1. Google only has one voice per language for **free** but it is easier to access\n",
    "1. IBM has many voices but I had to find what the request string was by using Developer Tools in Chrome\n",
    "\n",
    "You can use [Developer Tools](https://developers.google.com/web/tools/chrome-devtools/network) too \n",
    "and I will help you if you need but it is an **advanced topic** so I won't teach it.\n",
    "\n",
    "---\n",
    "\n",
    "## Exercises \n",
    "\n",
    "There are a few exercises in the text you should do\n"
   ]
  },
  {
   "cell_type": "markdown",
   "metadata": {},
   "source": [
    "# gTTS\n",
    "\n",
    "You can install gTTS like this"
   ]
  },
  {
   "cell_type": "code",
   "execution_count": 1,
   "metadata": {},
   "outputs": [
    {
     "name": "stdout",
     "output_type": "stream",
     "text": [
      "Requirement already satisfied: gTTS in /home/macbuse/anaconda3/lib/python3.8/site-packages (2.2.1)\n",
      "Requirement already satisfied: six in /home/macbuse/anaconda3/lib/python3.8/site-packages (from gTTS) (1.15.0)\n",
      "Requirement already satisfied: requests in /home/macbuse/anaconda3/lib/python3.8/site-packages (from gTTS) (2.24.0)\n",
      "Requirement already satisfied: click in /home/macbuse/anaconda3/lib/python3.8/site-packages (from gTTS) (7.1.2)\n",
      "Requirement already satisfied: chardet<4,>=3.0.2 in /home/macbuse/anaconda3/lib/python3.8/site-packages (from requests->gTTS) (3.0.4)\n",
      "Requirement already satisfied: idna<3,>=2.5 in /home/macbuse/anaconda3/lib/python3.8/site-packages (from requests->gTTS) (2.10)\n",
      "Requirement already satisfied: certifi>=2017.4.17 in /home/macbuse/anaconda3/lib/python3.8/site-packages (from requests->gTTS) (2020.6.20)\n",
      "Requirement already satisfied: urllib3!=1.25.0,!=1.25.1,<1.26,>=1.21.1 in /home/macbuse/anaconda3/lib/python3.8/site-packages (from requests->gTTS) (1.25.9)\n"
     ]
    }
   ],
   "source": [
    "! pip install gTTS"
   ]
  },
  {
   "cell_type": "markdown",
   "metadata": {},
   "source": [
    "# How to use it\n",
    "\n",
    "I save to an ```mp3``` then click to play."
   ]
  },
  {
   "cell_type": "code",
   "execution_count": 3,
   "metadata": {},
   "outputs": [],
   "source": [
    "from gtts import gTTS\n",
    "\n",
    "# (2) Create an instance - tts : text to speech\n",
    "\n",
    "input_text = 'Hello World'\n",
    "tts = gTTS(text=input_text, lang='en', slow=True)\n",
    "\n",
    "###### _Parameters:_  \n",
    "# * `text` - String - Text to be spoken.  \n",
    "# * `lang` - String - [ISO 639-1 language code](#lang_list) (supported by the Google _Text to Speech_ API) to speak in.  \n",
    "# * `slow` - Boolean - Speak slowly. Default `False` (Note: only two speeds are provided by the API).  \n",
    "\n",
    "# (3) Write to a file\n",
    "tts.save('hello_world.mp3')"
   ]
  },
  {
   "cell_type": "markdown",
   "metadata": {},
   "source": [
    "# IBM speech demo"
   ]
  },
  {
   "cell_type": "code",
   "execution_count": 7,
   "metadata": {},
   "outputs": [
    {
     "name": "stdout",
     "output_type": "stream",
     "text": [
      "hello_world.mp3  ibm.mp3  imagination_is_more.mp3  reversed.mp3\n"
     ]
    }
   ],
   "source": [
    "!ls *mp3"
   ]
  },
  {
   "cell_type": "code",
   "execution_count": 10,
   "metadata": {},
   "outputs": [],
   "source": [
    "# IBM\n",
    "\n",
    "import requests\n",
    "\n",
    "txt = 'il est quelle heure maintenant?'\n",
    "actor = 'en-GB_KateV3Voice'\n",
    "actor = 'fr-FR_ReneeV3Voice'\n",
    "\n",
    "url = 'https://text-to-speech-demo.ng.bluemix.net/api/v3/synthesize'\n",
    "params = {'text' : txt,\n",
    "                      'voice' : actor,\n",
    "                      'download' : 'true',\n",
    "                      'accept' : 'audio/mp3'\n",
    "            }\n",
    "         \n",
    "r = requests.get(url, params=params)\n",
    "\n",
    "with open('ibm.mp3','wb') as fp:\n",
    "    fp.write(r.content)"
   ]
  },
  {
   "cell_type": "code",
   "execution_count": 6,
   "metadata": {},
   "outputs": [
    {
     "data": {
      "text/plain": [
       "200"
      ]
     },
     "execution_count": 6,
     "metadata": {},
     "output_type": "execute_result"
    }
   ],
   "source": []
  },
  {
   "cell_type": "markdown",
   "metadata": {},
   "source": [
    "# Inspecting the request\n",
    "\n",
    "When we do ```requests.get``` we send\n",
    "- headers\n",
    "- a url with an encoded query string which contains the things from the dictionnary  ```params```\n",
    "\n",
    "There is an important entry in ```headers``` that you should set \n",
    "so that websites don't know you are a robot it's [user-agent](https://stackoverflow.com/questions/10606133/sending-user-agent-using-requests-library-in-python).\n",
    "Often I get this from the Developer Tools in Chrome.\n",
    "Here is what Chrome sends when I look at this page\n",
    "https://github.com/mrolarik/gTTS-google-text-to-speech/blob/master/gTTS%20-%20Thai%20language.ipynb\n",
    "\n",
    "```GET /mrolarik/gTTS-google-text-to-speech/blob/master/gTTS%20-%20Thai%20language.ipynb HTTP/1.1\n",
    "Host: github.com\n",
    "Connection: keep-alive\n",
    "Cache-Control: max-age=0\n",
    "DNT: 1\n",
    "Upgrade-Insecure-Requests: 1\n",
    "User-Agent: Mozilla/5.0 (X11; Linux x86_64) AppleWebKit/537.36 (KHTML, like Gecko) Chrome/87.0.4280.88 Safari/537.36\n",
    "....\n",
    "```"
   ]
  },
  {
   "cell_type": "code",
   "execution_count": 11,
   "metadata": {},
   "outputs": [
    {
     "data": {
      "text/plain": [
       "{'X-Backside-Transport': 'OK OK', 'Connection': 'Keep-Alive', 'Transfer-Encoding': 'chunked', 'Date': 'Fri, 11 Dec 2020 08:09:12 GMT', 'Strict-Transport-Security': 'max-age=15552000; includeSubDomains', 'X-Content-Type-Options': 'nosniff', 'X-Dns-Prefetch-Control': 'off', 'X-Download-Options': 'noopen', 'X-Frame-Options': 'SAMEORIGIN', 'X-Ratelimit-Limit': '4', 'X-Ratelimit-Remaining': '3', 'X-Ratelimit-Reset': '1607674183', 'X-Xss-Protection': '1; mode=block', 'X-Global-Transaction-ID': 'cb47d0745fd329288182c0ef'}"
      ]
     },
     "execution_count": 11,
     "metadata": {},
     "output_type": "execute_result"
    }
   ],
   "source": [
    "r.headers"
   ]
  },
  {
   "cell_type": "code",
   "execution_count": 12,
   "metadata": {},
   "outputs": [
    {
     "data": {
      "text/plain": [
       "'https://text-to-speech-demo.ng.bluemix.net/api/v3/synthesize?text=hello+how+are+you&voice=en-GB_KateV3Voice&download=true&accept=audio%2Fmp3'"
      ]
     },
     "execution_count": 12,
     "metadata": {},
     "output_type": "execute_result"
    }
   ],
   "source": [
    "r.url"
   ]
  },
  {
   "cell_type": "markdown",
   "metadata": {},
   "source": [
    "Everything after ```?``` comes from ```params```"
   ]
  },
  {
   "cell_type": "markdown",
   "metadata": {},
   "source": [
    "---\n",
    "# A class Voices()\n",
    "\n",
    "This is a kind of complicated interaction and it is expensive in time\n",
    "because we have to wait on the IBM server replying so I wrote a class to do this.\n",
    "\n",
    "you use the class like this \n"
   ]
  },
  {
   "cell_type": "code",
   "execution_count": 31,
   "metadata": {},
   "outputs": [
    {
     "name": "stdout",
     "output_type": "stream",
     "text": [
      "Kimagination_is_more.mp3\n",
      "skipping imagination_is_more.mp3\n",
      "DONE\n"
     ]
    }
   ],
   "source": [
    "speek = Voices() # create an instance\n",
    "speek.add([('K','Imagination is more important than knowledge.')] ) # choose a voice and a text\n"
   ]
  },
  {
   "cell_type": "code",
   "execution_count": 37,
   "metadata": {},
   "outputs": [
    {
     "name": "stdout",
     "output_type": "stream",
     "text": [
      "Kimagination_is_more.mp3\n",
      "skipping imagination_is_more.mp3\n",
      "DONE\n"
     ]
    }
   ],
   "source": [
    "speek.add([('K','Imagination is more important than knowing.')] )"
   ]
  },
  {
   "cell_type": "markdown",
   "metadata": {},
   "source": [
    "- it takes a list of pairs  ```(actor,txt)``` where actor is a letter see below\n",
    "- it checks to see if the mp3 already exist so that it saves time by not doing it again\n",
    "\n",
    "It saves what has been done as JSON and reads it the next time.\n",
    "\n",
    "## Exo \n",
    "I haven't been very careful about how I chose file names and keys. **Fix this**."
   ]
  },
  {
   "cell_type": "code",
   "execution_count": 34,
   "metadata": {},
   "outputs": [
    {
     "data": {
      "text/plain": [
       "{'Kimagination_is_more.mp3': 'Imagination is more important than knowing.'}"
      ]
     },
     "execution_count": 34,
     "metadata": {},
     "output_type": "execute_result"
    }
   ],
   "source": [
    "speek.inventory"
   ]
  },
  {
   "cell_type": "code",
   "execution_count": 36,
   "metadata": {},
   "outputs": [],
   "source": [
    "import os, re, time, sys\n",
    "import subprocess\n",
    "\n",
    "import json #serialise\n",
    "import requests\n",
    "from gtts import gTTS\n",
    "\n",
    "class Voices():\n",
    "    '''my class to read texts'''\n",
    "    voices = {'K' : 'en-GB_KateV3Voice',\n",
    "              'M' : 'en-US_MichaelV3Voice',\n",
    "              'KK' : 'en-US_KevinV3Voice',\n",
    "              'LI' : 'zh-CNLiNaVoice',\n",
    "              'O' : 'en-US_OliviaV3Voice',\n",
    "              'R' : 'fr-FR_ReneeV3Voice'\n",
    "             }\n",
    "    \n",
    "    def __init__(self):\n",
    "        if not os.path.isfile('script.json'):\n",
    "            self.inventory = {}\n",
    "        else:\n",
    "            self.inventory = json.load(open('script.json', 'r'))\n",
    "\n",
    "    def string2fn(self, xx):\n",
    "        #you should make a better choice than me !!!\n",
    "        '''hash function\n",
    "        strip punctuation\n",
    "        return first 3 words with sep=_'''\n",
    "        words = re.sub(r'[^\\w\\s]', '', xx).lower().split() #strip punctuation - > lowercase\n",
    "        #check and pad\n",
    "        if len(words) < 3:\n",
    "            words.extend(['blah']*3)\n",
    "        return '_'.join(words[:3]) + '.mp3'\n",
    "\n",
    "    def get_audio(self, to_say):\n",
    "\n",
    "        actor, txt = to_say\n",
    "        FN = self.string2fn(txt)\n",
    "        print('Doing', FN)\n",
    "        \n",
    "        if actor in self.voices:\n",
    "            url = 'https://text-to-speech-demo.ng.bluemix.net/api/v3/synthesize'\n",
    "            params = {'text' : txt,\n",
    "                      'voice' : self.voices[actor],\n",
    "                      'download' : 'true',\n",
    "                      'accept' : 'audio/mp3'\n",
    "            }\n",
    "         \n",
    "            r = requests.get(url, params=params)\n",
    "\n",
    "            with open('%s'%FN, 'wb') as FP:\n",
    "                FP.write(r.content)\n",
    "\n",
    "        else: #assume it's a language tag and ask google\n",
    "            tts = gTTS(txt, lang=actor.lower())\n",
    "            tts.save(FN)\n",
    "\n",
    "    def add(self, txts):\n",
    "\n",
    "        for tt in txts:\n",
    "            actor, lines = tt\n",
    "            FN = self.string2fn(lines)\n",
    "            key = actor + FN\n",
    "            print(key)\n",
    "            if key in self.inventory and self.inventory[key] == lines:\n",
    "                print('skipping', FN)\n",
    "                continue\n",
    "            self.inventory[key] = lines\n",
    "            self.get_audio(tt)\n",
    "            time.sleep(20)\n",
    "\n",
    "        with open('script.json', 'w') as FP:\n",
    "            json.dump({actor + self.string2fn(lines) : lines for  actor,lines  in txts}, FP)\n",
    "        print('DONE')\n",
    "        \n",
    "    def __repr__(self):\n",
    "        return str('\\n'.join(self.inventory.keys()))"
   ]
  },
  {
   "cell_type": "markdown",
   "metadata": {},
   "source": [
    "# Exo :\n",
    "\n",
    "this works.\n"
   ]
  },
  {
   "cell_type": "code",
   "execution_count": 55,
   "metadata": {},
   "outputs": [],
   "source": [
    "pp = re.compile('station_24\\.php\\?id=(\\d+)\"><b>(.*?),(.*?)m')\n",
    "user_agent = {'User-agent': 'Mozilla/5.0'}\n",
    "\n",
    "url = u'http://romma.fr/frame_station24.php'\n",
    "\n",
    "r = requests.get('http://romma.fr', \n",
    "                 headers=user_agent)\n",
    "\n",
    "stations = pp.findall(r.text)"
   ]
  },
  {
   "cell_type": "code",
   "execution_count": 48,
   "metadata": {},
   "outputs": [
    {
     "data": {
      "text/plain": [
       "[('65', '&nbsp;&nbsp;BREGNIER-CORDON', ' 225'),\n",
       " ('55', '&nbsp;&nbsp;VIRIAT', ' 231'),\n",
       " ('107', \"&nbsp;&nbsp;PONT-D'AIN\", ' 236'),\n",
       " ('17', '&nbsp;&nbsp;ST-&Eacute;TIENNE-DU-BOIS', ' 243'),\n",
       " ('182', '&nbsp;&nbsp;BOURG-EN-BRESSE', ' 248'),\n",
       " ('84', '&nbsp;&nbsp;AMB&Eacute;RIEU-EN-BUGEY', ' 255'),\n",
       " ('710', '&nbsp;&nbsp;SEYSSEL', ' 263'),\n",
       " ('15', '&nbsp;&nbsp;BRIORD', ' 281'),\n",
       " ('111', '&nbsp;&nbsp;LEAZ', ' 520'),\n",
       " ('172', '&nbsp;&nbsp;LHOPITAL', ' 510')]"
      ]
     },
     "execution_count": 48,
     "metadata": {},
     "output_type": "execute_result"
    }
   ],
   "source": [
    "stations[:10]"
   ]
  },
  {
   "cell_type": "markdown",
   "metadata": {},
   "source": [
    "but this doesn't - **fix it**\n",
    "\n",
    "Try first then look at the solution in my repository ROMMA."
   ]
  },
  {
   "cell_type": "code",
   "execution_count": null,
   "metadata": {},
   "outputs": [],
   "source": [
    "GET /carte.php HTTP/1.1\n",
    "Host: www.romma.fr\n",
    "Connection: keep-alive\n",
    "DNT: 1\n",
    "Upgrade-Insecure-Requests: 1\n",
    "User-Agent: Mozilla/5.0 (X11; Linux x86_64) AppleWebKit/537.36 (KHTML, like Gecko) Chrome/87.0.4280.88 Safari/537.36\n",
    "Accept: text/html,application/xhtml+xml,application/xml;q=0.9,image/avif,image/webp,image/apng,*/*;q=0.8,application/signed-exchange;v=b3;q=0.9\n",
    "Sec-Fetch-Site: none\n",
    "Sec-Fetch-Mode: navigate\n",
    "Sec-Fetch-User: ?1\n",
    "Sec-Fetch-Dest: document\n",
    "Accept-Encoding: gzip, deflate, br\n",
    "Accept-Language: en-IE,en;q=0.9,fr-FR;q=0.8,fr;q=0.7,zh-CN;q=0.6,zh;q=0.5,en-US;q=0.4,nl;q=0.3\n",
    "Cookie: rid=51Yg44; paramtab=0; ui-tabs-1=1\n"
   ]
  },
  {
   "cell_type": "code",
   "execution_count": 92,
   "metadata": {},
   "outputs": [],
   "source": [
    "\n",
    "url = 'https://www.romma.fr/carte.php'\n",
    "\n",
    "#https://stackoverflow.com/questions/38489386/python-requests-403-forbidden\n",
    "user_agent = {\n",
    "    'User-Agent': \"Mozilla/5.0 (X11; Linux x86_64) AppleWebKit/537.36 (KHTML, like Gecko) Chrome/87.0.4280.88 Safari/537.36\"}\n",
    "\n",
    "params = {'dept' : 0, \n",
    "          'param': 'temperature',\n",
    "          'mobile' : 0,\n",
    "          'carteinterne': 0}\n",
    "  \n",
    "r = requests.get(url, \n",
    "                headers=user_agent,\n",
    "                params=params)"
   ]
  },
  {
   "cell_type": "code",
   "execution_count": 97,
   "metadata": {},
   "outputs": [],
   "source": [
    "#r.content\n",
    "\n"
   ]
  },
  {
   "cell_type": "markdown",
   "metadata": {},
   "source": [
    "# Exo \n",
    "\n",
    "[Here](https://raw.githubusercontent.com/macbuse/macbuse.github.io/master/PROG/einstein.txt) are some quotations to start with.\n",
    "\n",
    "1. Use [this](https://github.com/ssut/py-googletrans) to translate quotations :\n",
    "\n",
    "- to french\n",
    "- back to english\n",
    "\n",
    "Is it the same?\n",
    "\n",
    "\n",
    "2. Use TTS to make mp3.\n",
    "\n"
   ]
  },
  {
   "cell_type": "markdown",
   "metadata": {},
   "source": [
    "---\n",
    "\n",
    "# Exo\n",
    "\n",
    "Can you get their code to work at [here](https://demos.algorithmia.com/image-tagger)."
   ]
  },
  {
   "cell_type": "code",
   "execution_count": 45,
   "metadata": {},
   "outputs": [
    {
     "name": "stdout",
     "output_type": "stream",
     "text": [
      "[master cfe47ac] web\n",
      " 1 file changed, 40 insertions(+), 7 deletions(-)\n",
      "Counting objects: 4, done.\n",
      "Delta compression using up to 12 threads.\n",
      "Compressing objects: 100% (4/4), done.\n",
      "Writing objects: 100% (4/4), 939 bytes | 469.00 KiB/s, done.\n",
      "Total 4 (delta 3), reused 0 (delta 0)\n",
      "remote: Resolving deltas: 100% (3/3), completed with 3 local objects.\u001b[K\n",
      "To https://github.com/macbuse/macbuse.github.io.git\n",
      "   3f43849..cfe47ac  master -> master\n"
     ]
    }
   ],
   "source": [
    "! ../.g\n"
   ]
  },
  {
   "cell_type": "code",
   "execution_count": 94,
   "metadata": {},
   "outputs": [],
   "source": [
    "r = requests.get('https://www.google.com/search?q=google+translate+python&oq=google+&aqs=chrome.0.69i59l3j69i60l2j69i65l3.4992j0j4&sourceid=chrome&ie=UTF-8')"
   ]
  },
  {
   "cell_type": "code",
   "execution_count": 99,
   "metadata": {},
   "outputs": [
    {
     "name": "stdout",
     "output_type": "stream",
     "text": [
      "Collecting translate\n",
      "  Downloading translate-3.5.0-py2.py3-none-any.whl (14 kB)\n",
      "Requirement already satisfied: click in /home/macbuse/anaconda3/lib/python3.8/site-packages (from translate) (7.1.2)\n",
      "Collecting pre-commit\n",
      "  Downloading pre_commit-2.9.3-py2.py3-none-any.whl (184 kB)\n",
      "\u001b[K     |████████████████████████████████| 184 kB 528 kB/s eta 0:00:01\n",
      "\u001b[?25hRequirement already satisfied: requests in /home/macbuse/anaconda3/lib/python3.8/site-packages (from translate) (2.24.0)\n",
      "Requirement already satisfied: lxml in /home/macbuse/anaconda3/lib/python3.8/site-packages (from translate) (4.5.2)\n",
      "Collecting tox\n",
      "  Downloading tox-3.20.1-py2.py3-none-any.whl (83 kB)\n",
      "\u001b[K     |████████████████████████████████| 83 kB 950 kB/s eta 0:00:01\n",
      "\u001b[?25hCollecting virtualenv>=20.0.8\n",
      "  Downloading virtualenv-20.2.2-py2.py3-none-any.whl (5.7 MB)\n",
      "\u001b[K     |████████████████████████████████| 5.7 MB 1.2 MB/s eta 0:00:01\n",
      "\u001b[?25hCollecting identify>=1.0.0\n",
      "  Downloading identify-1.5.10-py2.py3-none-any.whl (97 kB)\n",
      "\u001b[K     |████████████████████████████████| 97 kB 980 kB/s eta 0:00:01\n",
      "\u001b[?25hCollecting cfgv>=2.0.0\n",
      "  Downloading cfgv-3.2.0-py2.py3-none-any.whl (7.3 kB)\n",
      "Requirement already satisfied: pyyaml>=5.1 in /home/macbuse/anaconda3/lib/python3.8/site-packages (from pre-commit->translate) (5.3.1)\n",
      "Requirement already satisfied: toml in /home/macbuse/anaconda3/lib/python3.8/site-packages (from pre-commit->translate) (0.10.1)\n",
      "Collecting nodeenv>=0.11.1\n",
      "  Downloading nodeenv-1.5.0-py2.py3-none-any.whl (21 kB)\n",
      "Requirement already satisfied: certifi>=2017.4.17 in /home/macbuse/anaconda3/lib/python3.8/site-packages (from requests->translate) (2020.6.20)\n",
      "Requirement already satisfied: idna<3,>=2.5 in /home/macbuse/anaconda3/lib/python3.8/site-packages (from requests->translate) (2.10)\n",
      "Requirement already satisfied: chardet<4,>=3.0.2 in /home/macbuse/anaconda3/lib/python3.8/site-packages (from requests->translate) (3.0.4)\n",
      "Requirement already satisfied: urllib3!=1.25.0,!=1.25.1,<1.26,>=1.21.1 in /home/macbuse/anaconda3/lib/python3.8/site-packages (from requests->translate) (1.25.9)\n",
      "Requirement already satisfied: packaging>=14 in /home/macbuse/anaconda3/lib/python3.8/site-packages (from tox->translate) (20.4)\n",
      "Requirement already satisfied: six>=1.14.0 in /home/macbuse/anaconda3/lib/python3.8/site-packages (from tox->translate) (1.15.0)\n",
      "Requirement already satisfied: pluggy>=0.12.0 in /home/macbuse/anaconda3/lib/python3.8/site-packages (from tox->translate) (0.13.1)\n",
      "Requirement already satisfied: filelock>=3.0.0 in /home/macbuse/anaconda3/lib/python3.8/site-packages (from tox->translate) (3.0.12)\n",
      "Requirement already satisfied: py>=1.4.17 in /home/macbuse/anaconda3/lib/python3.8/site-packages (from tox->translate) (1.9.0)\n",
      "Collecting distlib<1,>=0.3.1\n",
      "  Downloading distlib-0.3.1-py2.py3-none-any.whl (335 kB)\n",
      "\u001b[K     |████████████████████████████████| 335 kB 226 kB/s eta 0:00:01\n",
      "\u001b[?25hCollecting appdirs<2,>=1.4.3\n",
      "  Downloading appdirs-1.4.4-py2.py3-none-any.whl (9.6 kB)\n",
      "Requirement already satisfied: pyparsing>=2.0.2 in /home/macbuse/anaconda3/lib/python3.8/site-packages (from packaging>=14->tox->translate) (2.4.7)\n",
      "Installing collected packages: distlib, appdirs, virtualenv, identify, cfgv, nodeenv, pre-commit, tox, translate\n",
      "Successfully installed appdirs-1.4.4 cfgv-3.2.0 distlib-0.3.1 identify-1.5.10 nodeenv-1.5.0 pre-commit-2.9.3 tox-3.20.1 translate-3.5.0 virtualenv-20.2.2\n"
     ]
    }
   ],
   "source": [
    "! pip install translate"
   ]
  },
  {
   "cell_type": "code",
   "execution_count": 100,
   "metadata": {},
   "outputs": [
    {
     "name": "stdout",
     "output_type": "stream",
     "text": [
      "Wie geht es Ihnen\n"
     ]
    }
   ],
   "source": [
    "from translate import Translator\n",
    "\n",
    "class clsTranslate():\n",
    "\n",
    "    def translateText(self, strString, strTolang):\n",
    "        self.strString = strString\n",
    "        self.strTolang = strTolang\n",
    "        translator = Translator(to_lang=self.strTolang)\n",
    "        translation = translator.translate(self.strString)\n",
    "        return (str(translation))\n",
    "\n",
    "# Create a Class object and call the Translate function\n",
    "\n",
    "objTrans=clsTranslate()\n",
    "strTranslatedText= objTrans.translateText('How are you', 'de')\n",
    "\n",
    "print(strTranslatedText)"
   ]
  },
  {
   "cell_type": "code",
   "execution_count": null,
   "metadata": {},
   "outputs": [],
   "source": []
  }
 ],
 "metadata": {
  "kernelspec": {
   "display_name": "Python 3",
   "language": "python",
   "name": "python3"
  },
  "language_info": {
   "codemirror_mode": {
    "name": "ipython",
    "version": 3
   },
   "file_extension": ".py",
   "mimetype": "text/x-python",
   "name": "python",
   "nbconvert_exporter": "python",
   "pygments_lexer": "ipython3",
   "version": "3.8.3"
  }
 },
 "nbformat": 4,
 "nbformat_minor": 4
}
