{
 "cells": [
  {
   "cell_type": "markdown",
   "metadata": {},
   "source": [
    "# More Basic Python - lists, dicts  etc\n",
    "\n",
    "in Python3. If you are not familiar \n",
    "with lists then watch this video:\n",
    "\n",
    "https://www.youtube.com/watch?v=CsVjisxAIPc\n",
    "\n",
    "In this notebook we review the basic constructions \n",
    "\n",
    "- data types\n",
    "- conditionals\n",
    "- function declarations\n",
    "- loops\n",
    "- loops, lists and slices\n",
    "\n",
    "\n",
    "\n",
    "\n",
    "\n",
    "---\n"
   ]
  },
  {
   "cell_type": "markdown",
   "metadata": {},
   "source": [
    "# Data types\n",
    "\n",
    "| | | |\n",
    "|---|---|---|\n",
    "|Text  Types | str|\n",
    "|Numeric Types: | int, float, complex |\n",
    "|Sequence Types:| list, tuple, range\n",
    "|Mapping Type: |dict\n",
    "|Set Types: | set, frozenset |\n",
    "|Boolean Type: |bool |\n",
    "|Binary Types: |bytes, bytearray, memoryview |\n",
    "\n",
    "---\n",
    "\n",
    "Technically everything in Python is an **object** that is a collection of\n",
    "\n",
    "- data\n",
    "- methods\n",
    "\n",
    "Even integers are objects.\n",
    "We use ```dir()``` to get a list of what is associated to an object.\n",
    "When we do this it is called **introspection**.\n",
    "\n",
    "## Example\n",
    "\n",
    "The integer 0\n"
   ]
  },
  {
   "cell_type": "code",
   "execution_count": 4,
   "metadata": {},
   "outputs": [
    {
     "name": "stdout",
     "output_type": "stream",
     "text": [
      "__abs__ __add__ __and__ __bool__ __ceil__ __class__ __delattr__ __dir__ __divmod__ __doc__ __eq__ __float__ __floor__ __floordiv__ __format__ __ge__ __getattribute__ __getnewargs__ __gt__ __hash__ __index__ __init__ __init_subclass__ __int__ __invert__ __le__ __lshift__ __lt__ __mod__ __mul__ __ne__ __neg__ __new__ __or__ __pos__ __pow__ __radd__ __rand__ __rdivmod__ __reduce__ __reduce_ex__ __repr__ __rfloordiv__ __rlshift__ __rmod__ __rmul__ __ror__ __round__ __rpow__ __rrshift__ __rshift__ __rsub__ __rtruediv__ __rxor__ __setattr__ __sizeof__ __str__ __sub__ __subclasshook__ __truediv__ __trunc__ __xor__ bit_length conjugate denominator from_bytes imag numerator real to_bytes\n"
     ]
    }
   ],
   "source": [
    "print(' '.join(dir(0)))"
   ]
  },
  {
   "cell_type": "markdown",
   "metadata": {},
   "source": [
    "## Numeric types\n",
    "\n",
    "- 0 is an integer\n",
    "- 0. is a float\n",
    "- 0J is a complex number\n",
    "\n",
    "We'll use a simple ```for``` loop to see this"
   ]
  },
  {
   "cell_type": "code",
   "execution_count": 8,
   "metadata": {},
   "outputs": [
    {
     "name": "stdout",
     "output_type": "stream",
     "text": [
      "<class 'int'> 0\n",
      "<class 'float'> 0.0\n",
      "<class 'complex'> 0j\n"
     ]
    }
   ],
   "source": [
    "for x in [0, 0., 0J]:\n",
    "    print(type(x), x)"
   ]
  },
  {
   "cell_type": "markdown",
   "metadata": {},
   "source": [
    "## Arithmetic \n",
    "\n",
    "These are the basic operations\n",
    "\n",
    "- +, - \n",
    "- *, / multiply, divide\n",
    "- ** power\n",
    "- //, % integer division and remainder modulo an integer\n",
    "\n",
    "More complicated operations can be obtained\n",
    "by importing from ```math``` \n",
    "- this is a module object that contains the usual functions\n",
    "- we can use introspection to see what it contains"
   ]
  },
  {
   "cell_type": "code",
   "execution_count": 13,
   "metadata": {},
   "outputs": [
    {
     "data": {
      "text/plain": [
       "((-1+0j), (1.0986841134678098+0.45508986056222733j))"
      ]
     },
     "execution_count": 13,
     "metadata": {},
     "output_type": "execute_result"
    }
   ],
   "source": [
    "1J**2, (1J + 1)**.5"
   ]
  },
  {
   "cell_type": "code",
   "execution_count": 16,
   "metadata": {},
   "outputs": [
    {
     "name": "stdout",
     "output_type": "stream",
     "text": [
      "__doc__ __file__ __loader__ __name__ __package__ __spec__ acos acosh asin asinh atan atan2 atanh ceil copysign cos cosh degrees e erf erfc exp expm1 fabs factorial floor fmod frexp fsum gamma gcd hypot inf isclose isfinite isinf isnan ldexp lgamma log log10 log1p log2 modf nan pi pow radians sin sinh sqrt tan tanh tau trunc\n"
     ]
    }
   ],
   "source": [
    "import math\n",
    "print(' '.join(dir(math)))"
   ]
  },
  {
   "cell_type": "code",
   "execution_count": 18,
   "metadata": {},
   "outputs": [
    {
     "name": "stdout",
     "output_type": "stream",
     "text": [
      "3.141592653589793 -1.0 1.2246467991473532e-16 23.140692632779267\n"
     ]
    }
   ],
   "source": [
    "from math import *\n",
    "print(pi, cos(pi), sin(pi), exp(pi))"
   ]
  },
  {
   "cell_type": "markdown",
   "metadata": {},
   "source": [
    "## Important\n",
    "\n",
    "I don't use ```math``` very much \n",
    "as I prefer ```numpy``` which has everything in ```math```\n",
    "but also has an ```array``` type which behaves like a vector\n",
    "or more generally a matrix."
   ]
  },
  {
   "cell_type": "markdown",
   "metadata": {},
   "source": [
    "---\n",
    "\n",
    "## Text type\n",
    "\n",
    "This is very useful as most data is stored in text files.\n",
    "\n",
    "- there are 3 ways of creating a text object\n",
    "- we can join 2 text objects with +\n"
   ]
  },
  {
   "cell_type": "code",
   "execution_count": 21,
   "metadata": {},
   "outputs": [
    {
     "data": {
      "text/plain": [
       "\"hello 'world' let me \\nexplain\""
      ]
     },
     "execution_count": 21,
     "metadata": {},
     "output_type": "execute_result"
    }
   ],
   "source": [
    "'hello' + \" 'world'\" + ''' let me \n",
    "explain'''"
   ]
  },
  {
   "cell_type": "code",
   "execution_count": 22,
   "metadata": {},
   "outputs": [
    {
     "name": "stdout",
     "output_type": "stream",
     "text": [
      "hello 'world' let me \n",
      "explain\n"
     ]
    }
   ],
   "source": [
    "print('hello' + \" 'world'\" + ''' let me \n",
    "explain''')"
   ]
  },
  {
   "cell_type": "markdown",
   "metadata": {},
   "source": [
    "## The 3 different ways\n",
    "\n",
    "so we can use \n",
    "- 'text'\n",
    "- \"text\"\n",
    "- ''' text '''\n",
    "\n",
    "The last one is useful for typing text with more than one line\n",
    "otherwise we have to use a **special character** ```\\n```."
   ]
  },
  {
   "cell_type": "code",
   "execution_count": 23,
   "metadata": {},
   "outputs": [
    {
     "name": "stdout",
     "output_type": "stream",
     "text": [
      "hello\n",
      "there\n",
      "how \n",
      "are u ?\n"
     ]
    }
   ],
   "source": [
    "ss = '''hello\n",
    "there\n",
    "how \n",
    "are u ?'''\n",
    "print(ss)"
   ]
  },
  {
   "cell_type": "markdown",
   "metadata": {},
   "source": [
    "---\n",
    "\n",
    "## Boolean types\n",
    "\n",
    "- True\n",
    "- False\n",
    "\n",
    "## Operators\n",
    "\n",
    "- == equality\n",
    "- != inequality\n",
    "- ```or, and, not```\n",
    "\n",
    "are the basic operators  but also \n",
    "\n",
    "- is\n",
    "- in\n",
    "\n",
    "and comparison operators which return boolean values\n",
    "\n",
    "- \\>, <\n",
    "- etc."
   ]
  },
  {
   "cell_type": "code",
   "execution_count": 25,
   "metadata": {},
   "outputs": [
    {
     "data": {
      "text/plain": [
       "(False, bool)"
      ]
     },
     "execution_count": 25,
     "metadata": {},
     "output_type": "execute_result"
    }
   ],
   "source": [
    "1 == 2, type(1 == 2)"
   ]
  },
  {
   "cell_type": "code",
   "execution_count": 29,
   "metadata": {},
   "outputs": [
    {
     "data": {
      "text/plain": [
       "(True, True, True)"
      ]
     },
     "execution_count": 29,
     "metadata": {},
     "output_type": "execute_result"
    }
   ],
   "source": [
    "1 < 2 and 2 < 3, 1 < 2  < 3, 1 < 2 or 2 < 1"
   ]
  },
  {
   "cell_type": "code",
   "execution_count": 28,
   "metadata": {},
   "outputs": [
    {
     "data": {
      "text/plain": [
       "False"
      ]
     },
     "execution_count": 28,
     "metadata": {},
     "output_type": "execute_result"
    }
   ],
   "source": [
    "1 in [2,3, 4]"
   ]
  },
  {
   "cell_type": "markdown",
   "metadata": {},
   "source": [
    "```is``` tests if two variables reference the same object.\n",
    "This is **quite** subtle and we won't use it often."
   ]
  },
  {
   "cell_type": "code",
   "execution_count": 37,
   "metadata": {},
   "outputs": [],
   "source": [
    "a = b = ['banana']\n",
    "c = ['banana']"
   ]
  },
  {
   "cell_type": "code",
   "execution_count": 38,
   "metadata": {},
   "outputs": [
    {
     "data": {
      "text/plain": [
       "(True, False)"
      ]
     },
     "execution_count": 38,
     "metadata": {},
     "output_type": "execute_result"
    }
   ],
   "source": [
    "a is b , a is c"
   ]
  },
  {
   "cell_type": "markdown",
   "metadata": {},
   "source": [
    "## Conditional statements\n",
    "\n",
    "We'll do loops next but this is useful to know first\n",
    "\n",
    "- ```if : elif: else:```\n",
    "            \n",
    "## Example\n",
    "\n",
    "change the value of x to see what happens."
   ]
  },
  {
   "cell_type": "code",
   "execution_count": 40,
   "metadata": {},
   "outputs": [
    {
     "name": "stdout",
     "output_type": "stream",
     "text": [
      "high\n"
     ]
    }
   ],
   "source": [
    "x = 7\n",
    "\n",
    "if 1 < x < 3:\n",
    "    print('low')\n",
    "elif 3 < x < 6:\n",
    "    print('mid')\n",
    "else:\n",
    "    print('high')\n",
    "    "
   ]
  },
  {
   "cell_type": "markdown",
   "metadata": {},
   "source": [
    "---\n",
    "\n",
    "## Functions\n",
    "\n",
    "In Python a function is declared like this\n",
    "\n",
    "``` \n",
    "def f(args): \n",
    "    code\n",
    "    return result\n",
    "```\n",
    "\n",
    "---\n",
    "\n",
    "There are 2 types of argument\n",
    "\n",
    "- positional\n",
    "- named\n",
    "\n",
    "``` \n",
    "def f(x,y r=5): \n",
    "    code\n",
    "    return result\n",
    "```\n",
    "\n",
    "- ```x,y``` are positional \n",
    "- ```r``` is named with a default value of 5\n",
    "\n",
    "If an argument has a default value I don't have to \n",
    "write it when I call the function (see examples)\n",
    "\n",
    "Try some [simple exercises](https://pynative.com/python-functions-exercise-with-solutions/)\n",
    "       \n",
    "### Example"
   ]
  },
  {
   "cell_type": "code",
   "execution_count": 60,
   "metadata": {},
   "outputs": [],
   "source": [
    "def bin_it(x):\n",
    "    if 1 < x < 3:\n",
    "        return 'low'\n",
    "    elif 3 < x < 6:\n",
    "        return 'mid'\n",
    "    else:\n",
    "        return 'high'\n",
    "    "
   ]
  },
  {
   "cell_type": "code",
   "execution_count": 62,
   "metadata": {},
   "outputs": [
    {
     "data": {
      "text/plain": [
       "('mid', 'low')"
      ]
     },
     "execution_count": 62,
     "metadata": {},
     "output_type": "execute_result"
    }
   ],
   "source": [
    "bin_it(5), bin_it(2)"
   ]
  },
  {
   "cell_type": "code",
   "execution_count": 79,
   "metadata": {},
   "outputs": [],
   "source": [
    "def f(x,y,r=5):\n",
    "    return (x+y)*r"
   ]
  },
  {
   "cell_type": "code",
   "execution_count": 81,
   "metadata": {},
   "outputs": [
    {
     "data": {
      "text/plain": [
       "(15, 9)"
      ]
     },
     "execution_count": 81,
     "metadata": {},
     "output_type": "execute_result"
    }
   ],
   "source": [
    "f(1,2), f(1,2,r=3)"
   ]
  },
  {
   "cell_type": "markdown",
   "metadata": {},
   "source": [
    "---\n",
    "\n",
    "## Loops\n",
    "\n",
    "- ```for x in :```\n",
    "- ```while x :```\n",
    "\n",
    "```for``` is used with ```continue, break```\n",
    "\n",
    "Try some [simple exercises](https://pynative.com/python-if-else-and-for-loop-exercise-with-solutions/)\n",
    "    \n",
    "### Examples"
   ]
  },
  {
   "cell_type": "code",
   "execution_count": 43,
   "metadata": {},
   "outputs": [
    {
     "name": "stdout",
     "output_type": "stream",
     "text": [
      "0\n",
      "1\n",
      "2\n",
      "3\n",
      "4\n"
     ]
    }
   ],
   "source": [
    "for x in range(5): \n",
    "    print(x)"
   ]
  },
  {
   "cell_type": "code",
   "execution_count": 45,
   "metadata": {},
   "outputs": [
    {
     "name": "stdout",
     "output_type": "stream",
     "text": [
      "1\n",
      "3\n",
      "5\n",
      "7\n",
      "9\n"
     ]
    }
   ],
   "source": [
    "for x in range(10):\n",
    "    if x % 2 == 0: # skip even numbers\n",
    "        continue \n",
    "    print(x)"
   ]
  },
  {
   "cell_type": "code",
   "execution_count": 46,
   "metadata": {},
   "outputs": [
    {
     "name": "stdout",
     "output_type": "stream",
     "text": [
      "0\n",
      "1\n",
      "2\n",
      "3\n",
      "4\n",
      "5\n"
     ]
    }
   ],
   "source": [
    "for x in range(10):\n",
    "    if x*x > 32: # abort loop\n",
    "        break\n",
    "    print(x)"
   ]
  },
  {
   "cell_type": "markdown",
   "metadata": {},
   "source": [
    "the same example but with a ```while```\n",
    "- I don't use ```while``` as it is easy to write infinite loops"
   ]
  },
  {
   "cell_type": "code",
   "execution_count": 47,
   "metadata": {},
   "outputs": [
    {
     "name": "stdout",
     "output_type": "stream",
     "text": [
      "0\n",
      "1\n",
      "2\n",
      "3\n",
      "4\n",
      "5\n"
     ]
    }
   ],
   "source": [
    "x = 0\n",
    "while  x*x < 32: # abort loop\n",
    "    print(x)\n",
    "    x += 1"
   ]
  },
  {
   "cell_type": "markdown",
   "metadata": {},
   "source": [
    "---\n",
    "\n",
    "## Lists and loops\n",
    "\n",
    "- creation ```[]```\n",
    "- ```append```\n",
    "- concatenation ```+``` or better ```extend```\n",
    "- accessing an element\n",
    "- looping over a ```list```\n",
    "- creation using [list comprehensions](https://www.programiz.com/python-programming/list-comprehension)\n",
    "\n",
    "\n",
    "Try some [simple exercises](https://pynative.com/python-list-exercise-with-solutions/)\n",
    "\n",
    "---\n"
   ]
  },
  {
   "cell_type": "markdown",
   "metadata": {},
   "source": [
    "In other languages (C, Java, Julia ) one would do loops like this\n",
    "but **as a rule** we don't do this in Python as it is **inefficient**.\n",
    "\n",
    "There are some exceptions to this e.g. when using \n",
    "some of the newer tools to accelerate numerical calculations\n",
    "\n",
    "- [numbas](http://numba.pydata.org/)\n",
    "- [cython](https://cython.org/)\n",
    "- [pythran](https://pypi.org/project/pythran/)\n",
    "\n",
    "\n",
    "I might show you how to use **numbas** later as it's pretty easy.\n"
   ]
  },
  {
   "cell_type": "code",
   "execution_count": 54,
   "metadata": {},
   "outputs": [
    {
     "data": {
      "text/plain": [
       "[0, 1, 4, 9, 16]"
      ]
     },
     "execution_count": 54,
     "metadata": {},
     "output_type": "execute_result"
    }
   ],
   "source": [
    "A = []\n",
    "for x in range(5):\n",
    "    A.append(x**2)\n",
    "A"
   ]
  },
  {
   "cell_type": "markdown",
   "metadata": {},
   "source": [
    "this next command doesn't modify A"
   ]
  },
  {
   "cell_type": "code",
   "execution_count": 55,
   "metadata": {},
   "outputs": [
    {
     "data": {
      "text/plain": [
       "[0, 1, 4, 9, 16, 0, 1, 4, 9, 16]"
      ]
     },
     "execution_count": 55,
     "metadata": {},
     "output_type": "execute_result"
    }
   ],
   "source": [
    "A + A"
   ]
  },
  {
   "cell_type": "markdown",
   "metadata": {},
   "source": [
    "but this appends a copy of A to A so **does** modify A"
   ]
  },
  {
   "cell_type": "code",
   "execution_count": 56,
   "metadata": {},
   "outputs": [
    {
     "data": {
      "text/plain": [
       "[0, 1, 4, 9, 16, 0, 1, 4, 9, 16]"
      ]
     },
     "execution_count": 56,
     "metadata": {},
     "output_type": "execute_result"
    }
   ],
   "source": [
    "A.extend(A)\n",
    "A"
   ]
  },
  {
   "cell_type": "markdown",
   "metadata": {},
   "source": [
    "## Accessing an element by index\n",
    "\n",
    "If $A$ is a list then \n",
    "\n",
    "- ```len(A)``` is the length of the list\n",
    "- each element of $A$ has an index \n",
    "- the first element is index 0\n",
    "- the last element is index ```len(A) - 1```\n",
    "- by convention the last element has index -1"
   ]
  },
  {
   "cell_type": "code",
   "execution_count": 66,
   "metadata": {},
   "outputs": [
    {
     "data": {
      "text/plain": [
       "10"
      ]
     },
     "execution_count": 66,
     "metadata": {},
     "output_type": "execute_result"
    }
   ],
   "source": [
    "len(A)"
   ]
  },
  {
   "cell_type": "code",
   "execution_count": 65,
   "metadata": {},
   "outputs": [
    {
     "data": {
      "text/plain": [
       "(0, 16, 16)"
      ]
     },
     "execution_count": 65,
     "metadata": {},
     "output_type": "execute_result"
    }
   ],
   "source": [
    "A[0], A[len(A)-1], A[-1]"
   ]
  },
  {
   "cell_type": "markdown",
   "metadata": {},
   "source": [
    "### Looping over a list\n",
    "\n",
    "We will do this quite often"
   ]
  },
  {
   "cell_type": "code",
   "execution_count": 58,
   "metadata": {},
   "outputs": [
    {
     "name": "stdout",
     "output_type": "stream",
     "text": [
      "1\n",
      "9\n",
      "1\n",
      "9\n"
     ]
    }
   ],
   "source": [
    "for x in A:\n",
    "    if x % 2 == 1:\n",
    "        print(x)\n",
    "    "
   ]
  },
  {
   "cell_type": "markdown",
   "metadata": {},
   "source": [
    "and we will also do this a lot:\n",
    "\n",
    "```enumerate``` gives a list of pairs (i,x) where\n",
    "- x is an element\n",
    "- i is its index"
   ]
  },
  {
   "cell_type": "code",
   "execution_count": 67,
   "metadata": {},
   "outputs": [
    {
     "name": "stdout",
     "output_type": "stream",
     "text": [
      "1 1\n",
      "3 9\n",
      "6 1\n",
      "8 9\n"
     ]
    }
   ],
   "source": [
    "for i, x in enumerate(A):\n",
    "    if x % 2 == 1:\n",
    "        print(i, x)\n",
    "    "
   ]
  },
  {
   "cell_type": "markdown",
   "metadata": {},
   "source": [
    "## List comprehensions\n",
    "\n",
    "This is more efficient than ```append```\n",
    "\n",
    "- ```[ f(x) for x in A if condition]```\n",
    "\n",
    "https://docs.python.org/3/tutorial/datastructures.html\n",
    "\n",
    "You should think of this as \n",
    "- taking the image by the function $f$ of \n",
    "- a  subset $B \\subset A$  defined by the condition\n",
    "\n",
    "\n",
    "### Examples"
   ]
  },
  {
   "cell_type": "code",
   "execution_count": 59,
   "metadata": {},
   "outputs": [
    {
     "data": {
      "text/plain": [
       "[0, 1, 4, 9, 16]"
      ]
     },
     "execution_count": 59,
     "metadata": {},
     "output_type": "execute_result"
    }
   ],
   "source": [
    "[x**2 for x in range(5)]"
   ]
  },
  {
   "cell_type": "code",
   "execution_count": 80,
   "metadata": {},
   "outputs": [
    {
     "data": {
      "text/plain": [
       "[1, 9]"
      ]
     },
     "execution_count": 80,
     "metadata": {},
     "output_type": "execute_result"
    }
   ],
   "source": [
    "[x**2 for x in L if x % 2 == 1]"
   ]
  },
  {
   "cell_type": "markdown",
   "metadata": {},
   "source": [
    "---\n",
    "\n",
    "## List slices\n",
    "\n",
    "This is a very important notation:<br> \n",
    "if you think of the list as a sequence\n",
    "then we can extract a subsequence\n",
    "\n",
    "https://stackoverflow.com/questions/509211/understanding-slice-notation\n",
    "\n",
    "\n",
    "### Examples"
   ]
  },
  {
   "cell_type": "code",
   "execution_count": 68,
   "metadata": {},
   "outputs": [
    {
     "data": {
      "text/plain": [
       "[0, 1, 2, 3, 4, 5]"
      ]
     },
     "execution_count": 68,
     "metadata": {},
     "output_type": "execute_result"
    }
   ],
   "source": [
    "L = list(range(6))\n",
    "L"
   ]
  },
  {
   "cell_type": "markdown",
   "metadata": {},
   "source": [
    "- everything except the first element\n",
    "- everything except the last element\n",
    "- everything except the first and the last element"
   ]
  },
  {
   "cell_type": "code",
   "execution_count": 106,
   "metadata": {},
   "outputs": [
    {
     "data": {
      "text/plain": [
       "([1, 2, 3, 4, 5], [0, 1, 2, 3, 4], [1, 2, 3, 4], [0, 2, 4])"
      ]
     },
     "execution_count": 106,
     "metadata": {},
     "output_type": "execute_result"
    }
   ],
   "source": [
    "L[1:], L[:-1], L[1:-1]"
   ]
  },
  {
   "cell_type": "markdown",
   "metadata": {},
   "source": [
    "- the elements with even index\n",
    "- the elements with odd index"
   ]
  },
  {
   "cell_type": "code",
   "execution_count": 69,
   "metadata": {},
   "outputs": [
    {
     "data": {
      "text/plain": [
       "([0, 2, 4], [1, 3, 5])"
      ]
     },
     "execution_count": 69,
     "metadata": {},
     "output_type": "execute_result"
    }
   ],
   "source": [
    "L[::2], L[1::2], "
   ]
  },
  {
   "cell_type": "code",
   "execution_count": 109,
   "metadata": {},
   "outputs": [
    {
     "data": {
      "text/plain": [
       "[(0, 1, 2, 3, 4), (1, 2, 3, 4, 5)]"
      ]
     },
     "execution_count": 109,
     "metadata": {},
     "output_type": "execute_result"
    }
   ],
   "source": [
    "list(zip(*_))"
   ]
  },
  {
   "cell_type": "markdown",
   "metadata": {},
   "source": [
    "# Dictionnaries\n",
    "\n",
    "Dictionaries are like lists where the index is **almost** anything you like, for example a string\n",
    "\n",
    "We often use them to store structured data that comes from tables."
   ]
  },
  {
   "cell_type": "code",
   "execution_count": 72,
   "metadata": {},
   "outputs": [
    {
     "data": {
      "text/plain": [
       "{'g': 3,\n",
       " 'r': 1,\n",
       " 'e': 11,\n",
       " ' ': 4,\n",
       " 'm': 5,\n",
       " 'c': 6,\n",
       " 's': 7,\n",
       " 'h': 8,\n",
       " 'a': 9,\n",
       " 'n': 10}"
      ]
     },
     "execution_count": 72,
     "metadata": {},
     "output_type": "execute_result"
    }
   ],
   "source": [
    "dd = {c : k for k,c in enumerate('greg mcshane')}\n",
    "\n",
    "dd"
   ]
  },
  {
   "cell_type": "code",
   "execution_count": 74,
   "metadata": {},
   "outputs": [
    {
     "data": {
      "text/plain": [
       "(3, 5)"
      ]
     },
     "execution_count": 74,
     "metadata": {},
     "output_type": "execute_result"
    }
   ],
   "source": [
    "dd['g'], dd['m']"
   ]
  },
  {
   "cell_type": "markdown",
   "metadata": {},
   "source": [
    "## Displaying structured data in a table.\n",
    "\n",
    "This is easy with [pandas](https://pandas.pydata.org/pandas-docs/stable/index.html).\n",
    "\n",
    "We'll make a table of $x$ and $x^2$."
   ]
  },
  {
   "cell_type": "code",
   "execution_count": 75,
   "metadata": {},
   "outputs": [],
   "source": [
    "L = [ x for x in range(10)]\n",
    "LL = [x**2 for x in range(10)]"
   ]
  },
  {
   "cell_type": "code",
   "execution_count": 76,
   "metadata": {},
   "outputs": [
    {
     "data": {
      "text/plain": [
       "{'x': [0, 1, 2, 3, 4, 5, 6, 7, 8, 9],\n",
       " 'x^2': [0, 1, 4, 9, 16, 25, 36, 49, 64, 81]}"
      ]
     },
     "execution_count": 76,
     "metadata": {},
     "output_type": "execute_result"
    }
   ],
   "source": [
    "table = {'x' : L, 'x^2' : LL}\n",
    "table"
   ]
  },
  {
   "cell_type": "code",
   "execution_count": 77,
   "metadata": {},
   "outputs": [],
   "source": [
    "import pandas as pd"
   ]
  },
  {
   "cell_type": "code",
   "execution_count": 78,
   "metadata": {},
   "outputs": [
    {
     "data": {
      "text/html": [
       "<div>\n",
       "<style scoped>\n",
       "    .dataframe tbody tr th:only-of-type {\n",
       "        vertical-align: middle;\n",
       "    }\n",
       "\n",
       "    .dataframe tbody tr th {\n",
       "        vertical-align: top;\n",
       "    }\n",
       "\n",
       "    .dataframe thead th {\n",
       "        text-align: right;\n",
       "    }\n",
       "</style>\n",
       "<table border=\"1\" class=\"dataframe\">\n",
       "  <thead>\n",
       "    <tr style=\"text-align: right;\">\n",
       "      <th></th>\n",
       "      <th>x</th>\n",
       "      <th>x^2</th>\n",
       "    </tr>\n",
       "  </thead>\n",
       "  <tbody>\n",
       "    <tr>\n",
       "      <th>0</th>\n",
       "      <td>0</td>\n",
       "      <td>0</td>\n",
       "    </tr>\n",
       "    <tr>\n",
       "      <th>1</th>\n",
       "      <td>1</td>\n",
       "      <td>1</td>\n",
       "    </tr>\n",
       "    <tr>\n",
       "      <th>2</th>\n",
       "      <td>2</td>\n",
       "      <td>4</td>\n",
       "    </tr>\n",
       "    <tr>\n",
       "      <th>3</th>\n",
       "      <td>3</td>\n",
       "      <td>9</td>\n",
       "    </tr>\n",
       "    <tr>\n",
       "      <th>4</th>\n",
       "      <td>4</td>\n",
       "      <td>16</td>\n",
       "    </tr>\n",
       "    <tr>\n",
       "      <th>5</th>\n",
       "      <td>5</td>\n",
       "      <td>25</td>\n",
       "    </tr>\n",
       "    <tr>\n",
       "      <th>6</th>\n",
       "      <td>6</td>\n",
       "      <td>36</td>\n",
       "    </tr>\n",
       "    <tr>\n",
       "      <th>7</th>\n",
       "      <td>7</td>\n",
       "      <td>49</td>\n",
       "    </tr>\n",
       "    <tr>\n",
       "      <th>8</th>\n",
       "      <td>8</td>\n",
       "      <td>64</td>\n",
       "    </tr>\n",
       "    <tr>\n",
       "      <th>9</th>\n",
       "      <td>9</td>\n",
       "      <td>81</td>\n",
       "    </tr>\n",
       "  </tbody>\n",
       "</table>\n",
       "</div>"
      ],
      "text/plain": [
       "   x  x^2\n",
       "0  0    0\n",
       "1  1    1\n",
       "2  2    4\n",
       "3  3    9\n",
       "4  4   16\n",
       "5  5   25\n",
       "6  6   36\n",
       "7  7   49\n",
       "8  8   64\n",
       "9  9   81"
      ]
     },
     "execution_count": 78,
     "metadata": {},
     "output_type": "execute_result"
    }
   ],
   "source": [
    "df = pd.DataFrame(table)\n",
    "df"
   ]
  },
  {
   "cell_type": "markdown",
   "metadata": {},
   "source": [
    "## If you manage to understand all this then you are ready for the other Notebook"
   ]
  },
  {
   "cell_type": "code",
   "execution_count": 2,
   "metadata": {},
   "outputs": [
    {
     "name": "stdout",
     "output_type": "stream",
     "text": [
      "[master b3cafc4] web\n",
      " 1 file changed, 18 insertions(+), 6 deletions(-)\n",
      "Counting objects: 4, done.\n",
      "Delta compression using up to 12 threads.\n",
      "Compressing objects: 100% (4/4), done.\n",
      "Writing objects: 100% (4/4), 719 bytes | 719.00 KiB/s, done.\n",
      "Total 4 (delta 3), reused 0 (delta 0)\n",
      "remote: Resolving deltas: 100% (3/3), completed with 3 local objects.\u001b[K\n",
      "To https://github.com/macbuse/macbuse.github.io.git\n",
      "   587443a..b3cafc4  master -> master\n"
     ]
    }
   ],
   "source": [
    "! ../.g"
   ]
  },
  {
   "cell_type": "code",
   "execution_count": null,
   "metadata": {},
   "outputs": [],
   "source": []
  }
 ],
 "metadata": {
  "kernelspec": {
   "display_name": "Python 3",
   "language": "python",
   "name": "python3"
  },
  "language_info": {
   "codemirror_mode": {
    "name": "ipython",
    "version": 3
   },
   "file_extension": ".py",
   "mimetype": "text/x-python",
   "name": "python",
   "nbconvert_exporter": "python",
   "pygments_lexer": "ipython3",
   "version": "3.8.3"
  }
 },
 "nbformat": 4,
 "nbformat_minor": 4
}
