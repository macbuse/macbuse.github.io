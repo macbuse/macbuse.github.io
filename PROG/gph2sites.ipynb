{
 "cells": [
  {
   "cell_type": "code",
   "execution_count": 3,
   "metadata": {},
   "outputs": [],
   "source": [
    "import string \n",
    "import random"
   ]
  },
  {
   "cell_type": "code",
   "execution_count": 2,
   "metadata": {},
   "outputs": [],
   "source": [
    "cc = string.ascii_lowercase"
   ]
  },
  {
   "cell_type": "code",
   "execution_count": 13,
   "metadata": {},
   "outputs": [],
   "source": [
    "def name():\n",
    "    return 'X_'+ ''.join(random.choices(cc,k=3)) + '.md'"
   ]
  },
  {
   "cell_type": "code",
   "execution_count": 16,
   "metadata": {},
   "outputs": [
    {
     "data": {
      "text/plain": [
       "'X_dis.md'"
      ]
     },
     "execution_count": 16,
     "metadata": {},
     "output_type": "execute_result"
    }
   ],
   "source": [
    "name()"
   ]
  },
  {
   "cell_type": "code",
   "execution_count": 50,
   "metadata": {},
   "outputs": [],
   "source": [
    "import numpy as np\n",
    "\n",
    "n = 7\n",
    "M = np.identity(n,dtype =np.int)\n",
    "# this slides everything over by 1\n",
    "M = np.roll(M,1, axis=1)\n",
    "\n",
    "M = M + np.random.randint(2,size=(n,n))\n",
    "M[M>1] = 1\n"
   ]
  },
  {
   "cell_type": "code",
   "execution_count": 51,
   "metadata": {},
   "outputs": [
    {
     "data": {
      "text/plain": [
       "array([[0, 1, 1, 1, 0, 1, 0],\n",
       "       [1, 1, 1, 1, 1, 0, 1],\n",
       "       [0, 0, 1, 1, 1, 1, 0],\n",
       "       [0, 0, 1, 0, 1, 0, 1],\n",
       "       [0, 1, 1, 1, 0, 1, 0],\n",
       "       [0, 1, 1, 1, 0, 0, 1],\n",
       "       [1, 0, 1, 1, 1, 0, 0]])"
      ]
     },
     "execution_count": 51,
     "metadata": {},
     "output_type": "execute_result"
    }
   ],
   "source": [
    "M"
   ]
  },
  {
   "cell_type": "code",
   "execution_count": 52,
   "metadata": {},
   "outputs": [],
   "source": [
    "    \n",
    "\n",
    "sites = [name() for k in range(n)]\n",
    "lks = dict(zip(sites,M))\n"
   ]
  },
  {
   "cell_type": "code",
   "execution_count": 53,
   "metadata": {},
   "outputs": [],
   "source": [
    "for x, ll in lks.items():\n",
    "    lks[x] = [ x for x,y in zip(sites,ll) if y >0]"
   ]
  },
  {
   "cell_type": "code",
   "execution_count": 54,
   "metadata": {},
   "outputs": [
    {
     "data": {
      "text/plain": [
       "{'X_ckk.md': ['X_hdu.md', 'X_srj.md', 'X_xcg.md', 'X_ynh.md'],\n",
       " 'X_hdu.md': ['X_ckk.md',\n",
       "  'X_hdu.md',\n",
       "  'X_srj.md',\n",
       "  'X_xcg.md',\n",
       "  'X_aks.md',\n",
       "  'X_lrl.md'],\n",
       " 'X_srj.md': ['X_srj.md', 'X_xcg.md', 'X_aks.md', 'X_ynh.md'],\n",
       " 'X_xcg.md': ['X_srj.md', 'X_aks.md', 'X_lrl.md'],\n",
       " 'X_aks.md': ['X_hdu.md', 'X_srj.md', 'X_xcg.md', 'X_ynh.md'],\n",
       " 'X_ynh.md': ['X_hdu.md', 'X_srj.md', 'X_xcg.md', 'X_lrl.md'],\n",
       " 'X_lrl.md': ['X_ckk.md', 'X_srj.md', 'X_xcg.md', 'X_aks.md']}"
      ]
     },
     "execution_count": 54,
     "metadata": {},
     "output_type": "execute_result"
    }
   ],
   "source": [
    "lks"
   ]
  },
  {
   "cell_type": "code",
   "execution_count": 56,
   "metadata": {},
   "outputs": [],
   "source": [
    "for x, ll in lks.items():\n",
    "    with open(x,'w') as fp:\n",
    "        \n",
    "        fp.write('# ' + x + '\\n '*3 )\n",
    "        body = ''.join(['- []' + y  + '\\n' for  y in ll])\n",
    "        fp.write(body)"
   ]
  },
  {
   "cell_type": "code",
   "execution_count": null,
   "metadata": {},
   "outputs": [],
   "source": []
  }
 ],
 "metadata": {
  "kernelspec": {
   "display_name": "Python 3",
   "language": "python",
   "name": "python3"
  },
  "language_info": {
   "codemirror_mode": {
    "name": "ipython",
    "version": 3
   },
   "file_extension": ".py",
   "mimetype": "text/x-python",
   "name": "python",
   "nbconvert_exporter": "python",
   "pygments_lexer": "ipython3",
   "version": "3.8.3"
  }
 },
 "nbformat": 4,
 "nbformat_minor": 4
}
