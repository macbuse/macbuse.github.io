{
 "cells": [
  {
   "cell_type": "code",
   "execution_count": 1,
   "metadata": {},
   "outputs": [],
   "source": [
    "import string \n",
    "import random"
   ]
  },
  {
   "cell_type": "markdown",
   "metadata": {},
   "source": [
    "# Making a random site to crawl\n",
    "\n",
    "## Make a random name for each page"
   ]
  },
  {
   "cell_type": "code",
   "execution_count": 2,
   "metadata": {},
   "outputs": [],
   "source": [
    "cc = string.ascii_lowercase\n",
    "\n",
    "def name():\n",
    "    return 'X_'+ ''.join(random.choices(cc,k=3)) + '.html'"
   ]
  },
  {
   "cell_type": "code",
   "execution_count": 3,
   "metadata": {},
   "outputs": [
    {
     "data": {
      "text/plain": [
       "'X_qat.html'"
      ]
     },
     "execution_count": 3,
     "metadata": {},
     "output_type": "execute_result"
    }
   ],
   "source": [
    "name()"
   ]
  },
  {
   "cell_type": "markdown",
   "metadata": {},
   "source": [
    "# Make a random adjacency matrix\n",
    "\n",
    "we want the graph to be connected so \n",
    "\n",
    "- we start  with a [cycle](https://en.wikipedia.org/wiki/Cycle_graph#:~:text=In%20graph%20theory%2C%20a%20cycle,vertices%20is%20called%20Cn.)\n",
    "- add a random matrix of 1,0\n",
    "- clamp the values to 1,0\n",
    "\n",
    "the matrix is not necessarily symmetric."
   ]
  },
  {
   "cell_type": "code",
   "execution_count": 40,
   "metadata": {},
   "outputs": [],
   "source": [
    "import numpy as np\n",
    "\n",
    "n = 7\n",
    "M = np.identity(n,dtype=int)\n",
    "# this slides everything over by 1\n",
    "M = np.roll(M,1, axis=1)\n",
    "\n",
    "M = M + np.random.randint(2,size=(n,n))\n",
    "M[M>1] = 1\n",
    "\n",
    "# don't allow self references\n",
    "for k, r in enumerate(M):\n",
    "    r[k] = 0\n"
   ]
  },
  {
   "cell_type": "code",
   "execution_count": 41,
   "metadata": {},
   "outputs": [
    {
     "data": {
      "text/plain": [
       "array([[0, 1, 1, 0, 1, 1, 1],\n",
       "       [0, 0, 1, 0, 0, 1, 1],\n",
       "       [0, 0, 0, 1, 1, 0, 1],\n",
       "       [1, 1, 0, 0, 1, 1, 1],\n",
       "       [0, 0, 1, 0, 0, 1, 1],\n",
       "       [0, 1, 0, 1, 1, 0, 1],\n",
       "       [1, 1, 0, 1, 1, 1, 0]])"
      ]
     },
     "execution_count": 41,
     "metadata": {},
     "output_type": "execute_result"
    }
   ],
   "source": [
    "M"
   ]
  },
  {
   "cell_type": "code",
   "execution_count": 7,
   "metadata": {},
   "outputs": [],
   "source": [
    "sites = [name() for k in range(n)]\n",
    "lks = dict(zip(sites,M))\n"
   ]
  },
  {
   "cell_type": "code",
   "execution_count": 8,
   "metadata": {},
   "outputs": [],
   "source": [
    "for x, ll in lks.items():\n",
    "    lks[x] = [ x for x,y in zip(sites,ll) if y >0]"
   ]
  },
  {
   "cell_type": "code",
   "execution_count": 9,
   "metadata": {},
   "outputs": [
    {
     "data": {
      "text/plain": [
       "{'X_feb.html': ['X_jmf.html', 'X_hbi.html', 'X_upi.html', 'X_eoh.html'],\n",
       " 'X_jmf.html': ['X_feb.html',\n",
       "  'X_hbi.html',\n",
       "  'X_upi.html',\n",
       "  'X_joe.html',\n",
       "  'X_ztj.html'],\n",
       " 'X_hbi.html': ['X_feb.html', 'X_upi.html'],\n",
       " 'X_upi.html': ['X_feb.html',\n",
       "  'X_jmf.html',\n",
       "  'X_hbi.html',\n",
       "  'X_joe.html',\n",
       "  'X_ztj.html'],\n",
       " 'X_joe.html': ['X_jmf.html', 'X_ztj.html'],\n",
       " 'X_ztj.html': ['X_hbi.html', 'X_joe.html', 'X_eoh.html'],\n",
       " 'X_eoh.html': ['X_feb.html', 'X_jmf.html']}"
      ]
     },
     "execution_count": 9,
     "metadata": {},
     "output_type": "execute_result"
    }
   ],
   "source": [
    "lks"
   ]
  },
  {
   "cell_type": "code",
   "execution_count": 71,
   "metadata": {},
   "outputs": [],
   "source": [
    "lks = {'X_lzx.html': ['X_ask.html', 'X_hvc.html', 'X_lnh.html', 'X_dbo.html'],\n",
    " 'X_ask.html': ['X_lzx.html',\n",
    "  'X_ask.html',\n",
    "  'X_hvc.html',\n",
    "  'X_lnh.html',\n",
    "  'X_cgg.html',\n",
    "  'X_ifl.html'],\n",
    " 'X_hvc.html': ['X_hvc.html', 'X_lnh.html', 'X_cgg.html', 'X_dbo.html'],\n",
    " 'X_lnh.html': ['X_hvc.html', 'X_cgg.html', 'X_ifl.html'],\n",
    " 'X_cgg.html': ['X_ask.html', 'X_hvc.html', 'X_lnh.html', 'X_dbo.html'],\n",
    " 'X_dbo.html': ['X_ask.html', 'X_hvc.html', 'X_lnh.html', 'X_ifl.html'],\n",
    " 'X_ifl.html': ['X_lzx.html', 'X_hvc.html', 'X_lnh.html', 'X_cgg.html']}"
   ]
  },
  {
   "cell_type": "code",
   "execution_count": 92,
   "metadata": {},
   "outputs": [],
   "source": [
    "for x, ll in lks.items():\n",
    "    with open(x,'w') as fp:\n",
    "        fp.write('# ' + x + '<br>\\n'*3 )\n",
    "        body = ''.join(['<a href=\"./{}\"> {}</a> <br>\\n'.format(y,y) for  y in ll])\n",
    "        fp.write(body)"
   ]
  },
  {
   "cell_type": "code",
   "execution_count": 1,
   "metadata": {},
   "outputs": [
    {
     "name": "stdout",
     "output_type": "stream",
     "text": [
      "[master 1695a2c] web\n",
      " 10 files changed, 1465 insertions(+), 40 deletions(-)\n",
      " create mode 100755 DEMO/.ipynb_checkpoints/mk_slides2-checkpoint.py\n",
      " create mode 100644 PROG/.ipynb_checkpoints/extract_quotes-checkpoint.ipynb\n",
      " create mode 100644 PROG/extract_quotes.ipynb\n",
      " create mode 100644 PROG/imagination_is_more.mp3\n",
      " create mode 100644 PROG/script.json\n",
      "Counting objects: 13, done.\n",
      "Delta compression using up to 12 threads.\n",
      "Compressing objects: 100% (13/13), done.\n",
      "Writing objects: 100% (13/13), 59.43 KiB | 2.20 MiB/s, done.\n",
      "Total 13 (delta 6), reused 0 (delta 0)\n",
      "remote: Resolving deltas: 100% (6/6), completed with 6 local objects.\u001b[K\n",
      "To https://github.com/macbuse/macbuse.github.io.git\n",
      "   ac525cf..1695a2c  master -> master\n"
     ]
    }
   ],
   "source": [
    "! ../.g"
   ]
  },
  {
   "cell_type": "markdown",
   "metadata": {},
   "source": [
    "## Crawler code\n",
    "\n",
    "My crawler is very simple. There are just 2 objects:\n",
    "- a queue of pages to be treated ```todo```\n",
    "- a dictionary of pages containing lists of lks for each page ```nodes```\n",
    "\n",
    "---\n",
    "\n",
    "- get the first element off ```todo```\n",
    "- skip if I've already treated it\n",
    "- otherwise download the page, get the lks and put them in ```nodes```\n",
    "\n"
   ]
  },
  {
   "cell_type": "code",
   "execution_count": 11,
   "metadata": {},
   "outputs": [
    {
     "name": "stdout",
     "output_type": "stream",
     "text": [
      "0\n",
      "1\n",
      "2\n",
      "3\n",
      "4\n",
      "5\n",
      "6\n",
      "7\n",
      "8\n",
      "9\n",
      "10\n",
      "11\n",
      "12\n",
      "13\n",
      "14\n",
      "15\n",
      "16\n",
      "17\n",
      "18\n",
      "19\n",
      "20\n"
     ]
    }
   ],
   "source": [
    "import requests\n",
    "import re\n",
    "\n",
    "pax = re.compile('<a href=\"(.*?)\">', re.DOTALL)\n",
    "\n",
    "base = 'https://macbuse.github.io/PROG/SCRAPE/'\n",
    "root = 'X_aoy.html'\n",
    "\n",
    "todo = [root]\n",
    "nodes = {}\n",
    "\n",
    "k = 0\n",
    "while todo:\n",
    "    #accounting\n",
    "    print(k)\n",
    "    k += 1\n",
    "    \n",
    "    parent = todo.pop()\n",
    "    if parent in nodes.keys(): continue\n",
    "    #process a new node\n",
    "    r = requests.get(base + parent)\n",
    "    children = [ x[2:] for x in pax.findall(r.text)]\n",
    "    nodes[parent] = children\n",
    "    # I'm not going to do anything clever to eliminate multiple copies\n",
    "    todo.extend(children)\n",
    "    \n"
   ]
  },
  {
   "cell_type": "code",
   "execution_count": 6,
   "metadata": {},
   "outputs": [
    {
     "ename": "SyntaxError",
     "evalue": "invalid syntax (1469584418.py, line 1)",
     "output_type": "error",
     "traceback": [
      "\u001b[0;36m  Input \u001b[0;32mIn [6]\u001b[0;36m\u001b[0m\n\u001b[0;31m    https://macbuse.github.io/PROG/SCRAPE/X_aoy.html\u001b[0m\n\u001b[0m          ^\u001b[0m\n\u001b[0;31mSyntaxError\u001b[0m\u001b[0;31m:\u001b[0m invalid syntax\n"
     ]
    }
   ],
   "source": [
    "https://macbuse.github.io/PROG/SCRAPE/X_aoy.html"
   ]
  },
  {
   "cell_type": "code",
   "execution_count": 12,
   "metadata": {},
   "outputs": [
    {
     "data": {
      "text/plain": [
       "{'X_aoy.html': ['X_bqe.html', 'X_lbv.html', 'X_suk.html', 'X_wwv.html'],\n",
       " 'X_wwv.html': ['X_fyp.html', 'X_lbv.html', 'X_mpn.html', 'X_aoy.html'],\n",
       " 'X_mpn.html': ['X_suk.html'],\n",
       " 'X_suk.html': ['X_bqe.html', 'X_aoy.html', 'X_wwv.html'],\n",
       " 'X_bqe.html': ['X_fyp.html',\n",
       "  'X_lbv.html',\n",
       "  'X_suk.html',\n",
       "  'X_aoy.html',\n",
       "  'X_wwv.html'],\n",
       " 'X_lbv.html': ['X_mpn.html'],\n",
       " 'X_fyp.html': ['X_bqe.html', 'X_suk.html']}"
      ]
     },
     "execution_count": 12,
     "metadata": {},
     "output_type": "execute_result"
    }
   ],
   "source": [
    "nodes"
   ]
  },
  {
   "cell_type": "code",
   "execution_count": 13,
   "metadata": {},
   "outputs": [],
   "source": [
    "import numpy as np"
   ]
  },
  {
   "cell_type": "code",
   "execution_count": 14,
   "metadata": {},
   "outputs": [],
   "source": [
    "pages = list(nodes.keys())\n",
    "\n",
    "n = len(pages)\n",
    "M = np.zeros((n,n))\n",
    "\n",
    "for k, p in enumerate(pages):\n",
    "    #this is a trick to fill out each line\n",
    "    M[k, [pages.index(x) for x in nodes[p] ] ]  = 1"
   ]
  },
  {
   "cell_type": "code",
   "execution_count": 22,
   "metadata": {},
   "outputs": [
    {
     "data": {
      "text/plain": [
       "['X_aoy.html',\n",
       " 'X_wwv.html',\n",
       " 'X_mpn.html',\n",
       " 'X_suk.html',\n",
       " 'X_bqe.html',\n",
       " 'X_lbv.html',\n",
       " 'X_fyp.html']"
      ]
     },
     "execution_count": 22,
     "metadata": {},
     "output_type": "execute_result"
    }
   ],
   "source": [
    "pages"
   ]
  },
  {
   "cell_type": "code",
   "execution_count": 38,
   "metadata": {},
   "outputs": [],
   "source": [
    "import networkx as nx\n",
    "\n",
    "def show_graph(adjacency_matrix, my_labels=None):\n",
    "    \n",
    "    #rows, cols = np.where(adjacency_matrix == 1)\n",
    "    #edges = zip(rows.tolist(), cols.tolist())\n",
    "    # I can't remember where I found this but it's cute\n",
    "    edges = np.vstack( np.nonzero(adjacency_matrix) ).T\n",
    "    gr = nx.DiGraph()\n",
    "    gr.add_edges_from(edges)\n",
    "    pos = nx.spring_layout(gr) \n",
    "    \n",
    "    if not my_labels:\n",
    "        my_labels = {k : k for k in range(adjacency_matrix.shape[0])} \n",
    "    nx.draw(gr, pos, node_size=1000,\n",
    "            connectionstyle='arc3, rad = 0.2',\n",
    "            labels=my_labels,\n",
    "            with_labels=True)\n",
    "    "
   ]
  },
  {
   "cell_type": "code",
   "execution_count": 39,
   "metadata": {},
   "outputs": [
    {
     "data": {
      "image/png": "[encoded data removed]",
      "text/plain": [
       "<Figure size 432x288 with 1 Axes>"
      ]
     },
     "metadata": {},
     "output_type": "display_data"
    }
   ],
   "source": [
    "show_graph(M, my_labels = dict(enumerate(pages)))"
   ]
  },
  {
   "cell_type": "code",
   "execution_count": 46,
   "metadata": {},
   "outputs": [
    {
     "name": "stdout",
     "output_type": "stream",
     "text": [
      "('/wiki/Rodent', 'rodents')\n",
      "('/wiki/Anomaluromorpha', 'Anomaluromorpha')\n",
      "('/wiki/Anomaluridae', 'Anomaluridae')\n",
      "('/wiki/Anomalurus', 'Anomalurus')\n",
      "('/wiki/Anomalurus_beecrofti', 'A. beecrofti')\n",
      "('/wiki/Rodent', 'rodent')\n",
      "We've arrived at an article we've already seen, aborting search!\n"
     ]
    }
   ],
   "source": [
    "import time, re\n",
    "import urllib\n",
    "\n",
    "#import bs4\n",
    "import requests\n",
    "\n",
    "start_url = \"https://en.wikipedia.org/wiki/Special:Random\"\n",
    "target_url = \"https://en.wikipedia.org/wiki/Philosophy\"\n",
    "\n",
    "# I changed so I don't use bs4\n",
    "# extract paragraphs\n",
    "pp = re.compile('<p>(.*?)</p>', re.DOTALL)\n",
    "pax = re.compile(r'<a href=\"(.*?)\".*?>(.*?)</a>', re.DOTALL)\n",
    "# this is a better pattern extract links outside of the page\n",
    "pax = re.compile(r'<a href=\"([^#]*?)\".*?>(.*?)</a>', re.DOTALL)\n",
    "\n",
    "def find_first(url):\n",
    "    # this function defines 2 functions\n",
    "    # in its **local** scope \n",
    "    \n",
    "    def bad_lk(x):\n",
    "        return ':' in x\n",
    "        return ('Help:' in x) or ('File:' in x)\n",
    "    \n",
    "    def remove_text_between_parens(text):\n",
    "        #https://stackoverflow.com/questions/37528373/\n",
    "        n = 1  \n",
    "        while n:\n",
    "            # remove non-nested/flat balanced parts\n",
    "            text, n = re.subn(r'\\([^()]*\\)', '', text) \n",
    "        return text\n",
    "    \n",
    "    response = requests.get(url)\n",
    "\n",
    "    html = remove_text_between_parens(response.text)\n",
    "    \n",
    "    # sometimes there are none like for Categories\n",
    "    paras = pp.findall(html)\n",
    "    if not paras: return\n",
    "    \n",
    "    # this is a primitive filter \n",
    "    # I added this  so that we never get to Categories\n",
    "    lks = [lk for lk in pax.findall(''.join(paras)) if not bad_lk(lk[0])]\n",
    "    if not lks: return\n",
    "    \n",
    "    article_link = lks[0]\n",
    "    print(article_link)\n",
    "    \n",
    "    #I wouldn't import urllib just to do this\n",
    "    return urllib.parse.urljoin('https://en.wikipedia.org/', article_link[0])\n",
    "\n",
    "def continue_crawl(search_history, target_url, max_steps=25):\n",
    "    if search_history[-1] == target_url:\n",
    "        print(\"We've found the target article!\")\n",
    "        return False\n",
    "    elif len(search_history) > max_steps:\n",
    "        print(\"The search has gone on suspiciously long, aborting search!\")\n",
    "        return False\n",
    "    elif search_history[-1] in search_history[:-1]:\n",
    "        print(\"We've arrived at an article we've already seen, aborting search!\")\n",
    "        return False\n",
    "    else:\n",
    "        return True\n",
    "\n",
    "article_chain = [start_url]\n",
    "\n",
    "while continue_crawl(article_chain, target_url): \n",
    "    \n",
    "    first_link = find_first(article_chain[-1])\n",
    "    if not first_link:\n",
    "        print(\"We've arrived at an article with no links, aborting search!\")\n",
    "        break\n",
    "\n",
    "    article_chain.append(first_link)\n",
    "    # slow down otherwise wiki server will block you\n",
    "    time.sleep(2) "
   ]
  },
  {
   "cell_type": "code",
   "execution_count": 38,
   "metadata": {},
   "outputs": [
    {
     "data": {
      "text/plain": [
       "['<b>Core concepts</b>\\n',\n",
       " '<b>Distinctions</b>\\n',\n",
       " '<b>Schools of thought</b>\\n',\n",
       " '<b>Topics and views</b>\\n',\n",
       " '<b>Specialized domains of inquiry</b>\\n',\n",
       " '<b>Notable epistemologists</b>\\n',\n",
       " '<b>Related fields</b>\\n',\n",
       " '<b>Traditions by region</b>\\n',\n",
       " '<b>Traditions by school</b>\\n',\n",
       " '<b>Traditions by religion</b>\\n',\n",
       " '<b>Epistemology</b> \">justification</a>, the <a href=\"/wiki/Reason\" title=\"Reason\">rationality</a> of <a href=\"/wiki/Belief\" title=\"Belief\">belief</a>, and various related issues. Epistemology is considered one of the four main branches of philosophy, along with <a href=\"/wiki/Ethics\" title=\"Ethics\">ethics</a>, <a href=\"/wiki/Logic\" title=\"Logic\">logic</a>, and <a href=\"/wiki/Metaphysics\" title=\"Metaphysics\">metaphysics</a>.<sup id=\"cite_ref-Britannica_1-0\" class=\"reference\"><a href=\"#cite_note-Britannica-1\">&#91;1&#93;</a></sup>\\n',\n",
       " 'Debates in epistemology are generally clustered around four core areas:<sup id=\"cite_ref-SEP_Epistemology_2014_2-0\" class=\"reference\"><a href=\"#cite_note-SEP_Epistemology_2014-2\">&#91;2&#93;</a></sup><sup id=\"cite_ref-IEP_3-0\" class=\"reference\"><a href=\"#cite_note-IEP-3\">&#91;3&#93;</a></sup><sup id=\"cite_ref-4\" class=\"reference\"><a href=\"#cite_note-4\">&#91;4&#93;</a></sup>\\n',\n",
       " 'In these debates and others, epistemology aims to answer questions such as \"What do we know?\", \"What does it mean to say that we know something?\", \"What makes justified beliefs justified?\", and \"How do we know that we know?\".<sup id=\"cite_ref-Britannica_1-1\" class=\"reference\"><a href=\"#cite_note-Britannica-1\">&#91;1&#93;</a></sup><sup id=\"cite_ref-SEP_Epistemology_2014_2-1\" class=\"reference\"><a href=\"#cite_note-SEP_Epistemology_2014-2\">&#91;2&#93;</a></sup><sup id=\"cite_ref-5\" class=\"reference\"><a href=\"#cite_note-5\">&#91;5&#93;</a></sup><sup id=\"cite_ref-SEP_Epistemology_Current_6-0\" class=\"reference\"><a href=\"#cite_note-SEP_Epistemology_Current-6\">&#91;6&#93;</a></sup><sup id=\"cite_ref-7\" class=\"reference\"><a href=\"#cite_note-7\">&#91;7&#93;</a></sup>\\n',\n",
       " 'The word <i>epistemology</i> is derived from the ancient Greek <a href=\"/wiki/Episteme\" title=\"Episteme\"><i>epistēmē</i></a>, meaning \"knowledge\", and the suffix <i>-logia</i>, meaning \"logical <a href=\"/wiki/Discourse\" title=\"Discourse\">discourse</a>\" , which was introduced by philosophers <a href=\"/wiki/Johann_Fichte\" class=\"mw-redirect\" title=\"Johann Fichte\">Johann Fichte</a> and <a href=\"/wiki/Bernard_Bolzano\" title=\"Bernard Bolzano\">Bernard Bolzano</a> in the late 18th century. The word \"epistemology\" first appeared in 1847, in a review in New York\\'s <i>Eclectic Magazine</i>. It was first used as a translation of the word <i>Wissenschaftslehre</i> as it appears in a philosophical novel by German author <a href=\"/wiki/Jean_Paul\" title=\"Jean Paul\">Jean Paul</a>:\\n',\n",
       " 'The title of one of the principal works of Fichte is ′Wissenschaftslehre,′ which, after the analogy of <i>technology</i> ... we render <i>epistemology</i>.<sup id=\"cite_ref-9\" class=\"reference\"><a href=\"#cite_note-9\">&#91;9&#93;</a></sup>',\n",
       " 'The word \"epistemology\" was properly introduced into Anglophone philosophical literature by Scottish philosopher <a href=\"/wiki/James_Frederick_Ferrier\" title=\"James Frederick Ferrier\">James Frederick Ferrier</a> in 1854, who used it in his <i>Institutes of Metaphysics</i>:\\n',\n",
       " 'This section of the science is properly termed the Epistemology—the doctrine or theory of knowing, just as ontology is the science of being... It answers the general question, ‘What is knowing and the known?’—or more shortly, ‘What is knowledge?’<sup id=\"cite_ref-10\" class=\"reference\"><a href=\"#cite_note-10\">&#91;10&#93;</a></sup>',\n",
       " 'It is important to note that the French term <i>épistémologie</i> is used with a different and far narrower meaning than the English term \"epistemology\", being used by French philosophers to refer solely to <a href=\"/wiki/Philosophy_of_science\" title=\"Philosophy of science\">philosophy of science</a>. For instance, <a href=\"/wiki/%C3%89mile_Meyerson\" title=\"Émile Meyerson\">Émile Meyerson</a> opened his <i>Identity and Reality</i>, written in 1908, with the remark that the word \\'is becoming current\\' as equivalent to \\'the philosophy of the sciences.\\'<sup id=\"cite_ref-11\" class=\"reference\"><a href=\"#cite_note-11\">&#91;11&#93;</a></sup>\\n',\n",
       " 'The concept of \"epistemology\" as a distinct field of inquiry predates the introduction of the term into the lexicon of philosophy. <a href=\"/wiki/John_Locke\" title=\"John Locke\">John Locke</a>, for instance, described his efforts in <i><a href=\"/wiki/An_Essay_Concerning_Human_Understanding\" title=\"An Essay Concerning Human Understanding\">Essay Concerning Human Understanding</a></i>  \"was meant to be a personification of [what would later come to be] known as \\'epistemology\\': the investigation into the differences of a justified belief versus its opinion.\"<sup id=\"cite_ref-auto_13-0\" class=\"reference\"><a href=\"#cite_note-auto-13\">&#91;13&#93;</a></sup>\\n',\n",
       " 'While it was not until the <a href=\"/wiki/Modern_philosophy\" title=\"Modern philosophy\">modern era</a> that epistemology was first recognized as a distinct philosophical discipline which addresses a well-defined set of questions, almost every major historical philosopher has considered questions about what we know and how we know it.<sup id=\"cite_ref-Britannica_1-2\" class=\"reference\"><a href=\"#cite_note-Britannica-1\">&#91;1&#93;</a></sup> Among the <a href=\"/wiki/Ancient_Greek_philosophy\" title=\"Ancient Greek philosophy\">Ancient Greek philosophers</a>, <a href=\"/wiki/Plato\" title=\"Plato\">Plato</a> distinguished between inquiry regarding what we know and inquiry regarding what exists, particularly in the <i><a href=\"/wiki/Republic_\">Theaetetus</a></i>, and the <i><a href=\"/wiki/Meno\" title=\"Meno\">Meno</a></i>.<sup id=\"cite_ref-Britannica_1-3\" class=\"reference\"><a href=\"#cite_note-Britannica-1\">&#91;1&#93;</a></sup> A number of important epistemological concerns also appeared in the works of <a href=\"/wiki/Aristotle\" title=\"Aristotle\">Aristotle</a>.<sup id=\"cite_ref-Britannica_1-4\" class=\"reference\"><a href=\"#cite_note-Britannica-1\">&#91;1&#93;</a></sup>\\n',\n",
       " 'During the subsequent <a href=\"/wiki/Hellenistic_philosophy\" title=\"Hellenistic philosophy\">Hellenistic period</a>, philosophical schools began to appear which had a greater focus on epistemological questions, often in the form of <a href=\"/wiki/Philosophical_skepticism\" title=\"Philosophical skepticism\">philosophical skepticism</a>.<sup id=\"cite_ref-Britannica_1-5\" class=\"reference\"><a href=\"#cite_note-Britannica-1\">&#91;1&#93;</a></sup> For instance, the <a href=\"/wiki/Pyrrhonism\" title=\"Pyrrhonism\">Pyrrhonian skepticism</a> of <a href=\"/wiki/Pyrrho\" title=\"Pyrrho\">Pyrrho</a> and <a href=\"/wiki/Sextus_Empiricus\" title=\"Sextus Empiricus\">Sextus Empiricus</a> held that <a href=\"/wiki/Eudaimonia\" title=\"Eudaimonia\">eudaimonia</a>  regarding all non-evident matters. Pyrrhonism was particularly concerned with undermining the epistemological <a href=\"/wiki/Dogma\" title=\"Dogma\">dogmas</a> of <a href=\"/wiki/Stoicism\" title=\"Stoicism\">Stoicism</a> and <a href=\"/wiki/Epicureanism\" title=\"Epicureanism\">Epicureanism</a>.<sup id=\"cite_ref-Britannica_1-6\" class=\"reference\"><a href=\"#cite_note-Britannica-1\">&#91;1&#93;</a></sup> The other major school of Hellenistic skepticism was <a href=\"/wiki/Academic_skepticism\" title=\"Academic skepticism\">Academic skepticism</a>, most notably defended by <a href=\"/wiki/Carneades\" title=\"Carneades\">Carneades</a> and <a href=\"/wiki/Arcesilaus\" title=\"Arcesilaus\">Arcesilaus</a>, which predominated in the <a href=\"/wiki/Platonic_Academy\" title=\"Platonic Academy\">Platonic Academy</a> for almost two centuries.<sup id=\"cite_ref-Britannica_1-7\" class=\"reference\"><a href=\"#cite_note-Britannica-1\">&#91;1&#93;</a></sup>\\n',\n",
       " 'In ancient India the <a href=\"/wiki/Aj%C3%B1ana\" title=\"Ajñana\">Ajñana</a> school of <a href=\"/wiki/Hindu_philosophy\" title=\"Hindu philosophy\">ancient Indian philosophy</a> promoted skepticism. Ajñana was a <a href=\"/wiki/%C5%9Arama%E1%B9%87a\" title=\"Śramaṇa\">Śramaṇa movement</a> and a major rival of <a href=\"/wiki/Pre-sectarian_Buddhism\" title=\"Pre-sectarian Buddhism\">early Buddhism</a>, <a href=\"/wiki/Jainism\" title=\"Jainism\">Jainism</a> and the <a href=\"/wiki/%C4%80j%C4%ABvika\" title=\"Ājīvika\">Ājīvika</a> school. They held that it was impossible to obtain knowledge of metaphysical nature or ascertain the truth value of philosophical propositions; and even if knowledge was possible, it was useless and disadvantageous for final salvation. They were specialized in refutation without propagating any positive doctrine of their own.\\n',\n",
       " 'After the ancient philosophical era but before the modern philosophical era, a number of <a href=\"/wiki/Medieval_philosophy\" title=\"Medieval philosophy\">Medieval philosophers</a> also engaged with epistemological questions at length. Most notable among the Medievals for their contributions to epistemology were <a href=\"/wiki/Thomas_Aquinas\" title=\"Thomas Aquinas\">Thomas Aquinas</a>, <a href=\"/wiki/John_Duns_Scotus\" class=\"mw-redirect\" title=\"John Duns Scotus\">John Duns Scotus</a>, and <a href=\"/wiki/William_of_Ockham\" title=\"William of Ockham\">William of Ockham</a>.<sup id=\"cite_ref-Britannica_1-8\" class=\"reference\"><a href=\"#cite_note-Britannica-1\">&#91;1&#93;</a></sup>\\n',\n",
       " 'Epistemology largely came to the fore in philosophy during the <a href=\"/wiki/Modern_philosophy\" title=\"Modern philosophy\">early modern period</a>, which historians of philosophy traditionally divide up into a dispute between <a href=\"/wiki/Empiricism\" title=\"Empiricism\">empiricists</a> . According to some scholars, this dispute was resolved in the late 18th century by <a href=\"/wiki/Immanuel_Kant\" title=\"Immanuel Kant\">Immanuel Kant</a>, whose <a href=\"/wiki/Transcendental_idealism\" title=\"Transcendental idealism\">transcendental idealism</a> famously made room for the view that \"though all our knowledge begins with experience, it by no means follows that all [knowledge] arises out of experience\".<sup id=\"cite_ref-14\" class=\"reference\"><a href=\"#cite_note-14\">&#91;14&#93;</a></sup> While the 19th century saw a decline in interest in epistemological issues, it came back to the forefront with the <a href=\"/wiki/Vienna_Circle\" title=\"Vienna Circle\">Vienna Circle</a> and the development of <a href=\"/wiki/Analytic_philosophy\" title=\"Analytic philosophy\">analytic philosophy</a>.\\n',\n",
       " 'There are a number of different methods that scholars use when trying to understand the relationship between historical epistemology and contemporary epistemology. One of the most contentious questions is this: \"Should we assume that the problems of epistemology are perennial, and that trying to reconstruct and evaluate Plato’s or Hume’s or Kant’s arguments is meaningful for current debates, too?\"<sup id=\"cite_ref-Sturm_15-0\" class=\"reference\"><a href=\"#cite_note-Sturm-15\">&#91;15&#93;</a></sup> Similarly, there is also a question of whether contemporary philosophers should aim to <i>rationally reconstruct and evaluate</i> historical views in epistemology, or to <i>merely describe</i> them.<sup id=\"cite_ref-Sturm_15-1\" class=\"reference\"><a href=\"#cite_note-Sturm-15\">&#91;15&#93;</a></sup> <a href=\"/wiki/Barry_Stroud\" title=\"Barry Stroud\">Barry Stroud</a> claims that doing epistemology competently requires the historical study of past attempts to find philosophical understanding of the nature and scope of human knowledge.<sup id=\"cite_ref-History_of_Epistemology_16-0\" class=\"reference\"><a href=\"#cite_note-History_of_Epistemology-16\">&#91;16&#93;</a></sup> He argues that since inquiry may progress over time, we may not realize how different the questions that contemporary epistemologists ask are from questions asked at various different points in the history of philosophy.<sup id=\"cite_ref-History_of_Epistemology_16-1\" class=\"reference\"><a href=\"#cite_note-History_of_Epistemology-16\">&#91;16&#93;</a></sup>\\n',\n",
       " 'Nearly all debates in epistemology are in some way related to <a href=\"/wiki/Knowledge\" title=\"Knowledge\">knowledge</a>. Most generally, \"knowledge\" is a familiarity, awareness, or understanding of someone or something, which might include facts .<sup id=\"cite_ref-20\" class=\"reference\"><a href=\"#cite_note-20\">&#91;note 1&#93;</a></sup> The theoretical interpretation and significance of these linguistic issues remains controversial.\\n',\n",
       " 'In his paper <i>On Denoting</i> and his later book <i>Problems of Philosophy</i>, <a href=\"/wiki/Bertrand_Russell\" title=\"Bertrand Russell\">Bertrand Russell</a> brought a great deal of attention to the distinction between \"<a href=\"/wiki/Descriptive_knowledge\" title=\"Descriptive knowledge\">knowledge by description</a>\" and \"<a href=\"/wiki/Knowledge_by_acquaintance#Bertrand_Russell\" title=\"Knowledge by acquaintance\">knowledge by acquaintance</a>\". <a href=\"/wiki/Gilbert_Ryle\" title=\"Gilbert Ryle\">Gilbert Ryle</a> is similarly credited with bringing more attention to the distinction between knowing how and knowing that in <i><a href=\"/wiki/The_Concept_of_Mind\" title=\"The Concept of Mind\">The Concept of Mind</a>.</i> In <i>Personal Knowledge,</i> <a href=\"/wiki/Michael_Polanyi\" title=\"Michael Polanyi\">Michael Polanyi</a> argues for the epistemological relevance of knowledge how and knowledge that; using the example of the act of balance involved in riding a bicycle, he suggests that the theoretical knowledge of the physics involved in maintaining a state of balance cannot substitute for the practical knowledge of how to ride, and that it is important to understand how both are established and grounded. This position is essentially Ryle\\'s, who argued that a failure to acknowledge the distinction between \"knowledge that\" and \"knowledge how\" leads to <a href=\"/wiki/Infinite_regress\" title=\"Infinite regress\">infinite regress</a>.\\n',\n",
       " 'One of the most important distinctions in epistemology is between what can be known <i>a priori</i> . The terms may be roughly defined as follows:<sup id=\"cite_ref-SEP_A_Priori_21-0\" class=\"reference\"><a href=\"#cite_note-SEP_A_Priori-21\">&#91;20&#93;</a></sup>\\n',\n",
       " 'Views that emphasize the importance of <i>a priori</i> knowledge are generally classified as <a href=\"/wiki/Rationalist\" class=\"mw-redirect\" title=\"Rationalist\">rationalist</a>. Views that emphasize the importance of <i>a posteriori</i> knowledge are generally classified as <a href=\"/wiki/Empiricist\" class=\"mw-redirect\" title=\"Empiricist\">empiricist</a>.\\n',\n",
       " 'One of the core concepts in epistemology is <i>belief</i>. A belief is an attitude that a person holds regarding anything that they take to be true.<sup id=\"cite_ref-SEP_Belief_22-0\" class=\"reference\"><a href=\"#cite_note-SEP_Belief-22\">&#91;21&#93;</a></sup> For instance, to believe that snow is white is comparable to accepting the truth of the <a href=\"/wiki/Proposition\" title=\"Proposition\">proposition</a> \"snow is white\". Beliefs can be <i>occurrent</i> .<sup id=\"cite_ref-SEP_Belief_22-3\" class=\"reference\"><a href=\"#cite_note-SEP_Belief-22\">&#91;21&#93;</a></sup><sup id=\"cite_ref-SEP_Formal_Belief_23-0\" class=\"reference\"><a href=\"#cite_note-SEP_Formal_Belief-23\">&#91;22&#93;</a></sup>\\n',\n",
       " 'While belief plays a significant role in epistemological debates surrounding knowledge and justification, it also has many other philosophical debates in its own right. Notable debates include: \"What is the rational way to revise one\\'s beliefs when presented with various sorts of evidence?\"; \"Is the content of our beliefs entirely determined by our mental states, or do the relevant facts have any bearing on our beliefs ?\"; \"How fine-grained or coarse-grained are our beliefs?\"; and \"Must it be possible for a belief to be expressible in language, or are there non-linguistic beliefs?\".<sup id=\"cite_ref-SEP_Belief_22-4\" class=\"reference\"><a href=\"#cite_note-SEP_Belief-22\">&#91;21&#93;</a></sup>\\n',\n",
       " '<a href=\"/wiki/Truth\" title=\"Truth\">Truth</a> is the property of being in accord with facts or reality.<sup id=\"cite_ref-SEP_Truth_24-0\" class=\"reference\"><a href=\"#cite_note-SEP_Truth-24\">&#91;23&#93;</a></sup> On most views, truth is the correspondence of language or thought to a mind-independent world. This is called the <a href=\"/wiki/Correspondence_theory_of_truth\" title=\"Correspondence theory of truth\">correspondence theory of truth</a>. Among philosophers who think that it is possible to analyze the conditions necessary for knowledge, virtually all of them accept that truth is such a condition. There is much less agreement about the extent to which a knower must know <i>why</i> something is true in order to know. On such views, something being known implies that it is true. However, this should not be confused for the more contentious view that one must know that one knows in order to know .<sup id=\"cite_ref-SEP_Epistemology_2014_2-2\" class=\"reference\"><a href=\"#cite_note-SEP_Epistemology_2014-2\">&#91;2&#93;</a></sup>\\n',\n",
       " 'Epistemologists disagree about whether belief is the only <a href=\"/wiki/Truth-bearer\" title=\"Truth-bearer\">truth-bearer</a>. Other common suggestions for things that can bear the property of being true include <a href=\"/wiki/Propositions\" class=\"mw-redirect\" title=\"Propositions\">propositions</a>, <a href=\"/wiki/Sentence_\">clarification needed</span></a></i>&#93;</sup>\\n',\n",
       " 'Many of the debates regarding truth are at the crossroads of epistemology and <a href=\"/wiki/Logic\" title=\"Logic\">logic</a>.<sup id=\"cite_ref-SEP_Truth_24-1\" class=\"reference\"><a href=\"#cite_note-SEP_Truth-24\">&#91;23&#93;</a></sup> Some contemporary debates regarding truth include: How do we define truth? Is it even possible to give an informative definition of truth? What things are truth-bearers and are therefore capable of being true or false? Are truth and falsity <a href=\"/wiki/Principle_of_bivalence\" title=\"Principle of bivalence\">bivalent</a>, or are there other truth values? What are the <a href=\"/wiki/Criteria_of_truth\" title=\"Criteria of truth\">criteria of truth</a> that allow us to identify it and to distinguish it from falsity? What role does truth play in constituting <a href=\"/wiki/Knowledge\" title=\"Knowledge\">knowledge</a>? And is truth <a href=\"/wiki/Absolute_\">absolute</a>, or is it merely <a href=\"/wiki/Knowledge_relativity\" class=\"mw-redirect\" title=\"Knowledge relativity\">relative</a> to one\\'s perspective?<sup id=\"cite_ref-SEP_Truth_24-2\" class=\"reference\"><a href=\"#cite_note-SEP_Truth-24\">&#91;23&#93;</a></sup>\\n',\n",
       " 'As the term \"justification\" is used in epistemology, a belief is justified if one has good reason for holding it. Loosely speaking, justification is the <i>reason</i> that someone holds a rationally admissible belief, on the assumption that it is a <i>good reason</i> for holding it. Sources of justification might include <a href=\"/wiki/Perception\" title=\"Perception\">perceptual experience</a> , <a href=\"/wiki/Reason\" title=\"Reason\">reason</a>, and authoritative <a href=\"/wiki/Testimony\" title=\"Testimony\">testimony</a>, among others. Importantly however, a belief being justified does <i>not</i> guarantee that the belief is true, since a person could be justified in forming beliefs based on very convincing evidence that was nonetheless deceiving.\\n',\n",
       " 'In <a href=\"/wiki/Plato\" title=\"Plato\">Plato</a>\\'s <i><a href=\"/wiki/Theaetetus_\">Theaetetus</a></i>, <a href=\"/wiki/Socrates\" title=\"Socrates\">Socrates</a> considers a number of theories as to what knowledge is, first excluding merely true belief as an adequate account. For example, an ill person with no medical training, but with a generally optimistic attitude, might believe that he will recover from his illness quickly. Nevertheless, even if this belief turned out to be true, the patient would not have <i>known</i> that he would get well since his belief lacked justification. The last account that Plato considers is that knowledge is true belief \"with an account\" that explains or defines it in some way. According to <a href=\"/wiki/Edmund_Gettier\" title=\"Edmund Gettier\">Edmund Gettier</a>, the view that Plato is describing here is that knowledge is <i>justified true belief</i>. The truth of this view would entail that in order to know that a given proposition is true, one must not only believe the relevant true proposition, but must also have a good reason for doing so.<sup id=\"cite_ref-26\" class=\"reference\"><a href=\"#cite_note-26\">&#91;25&#93;</a></sup> One implication of this would be that no one would gain knowledge just by believing something that happened to be true.<sup id=\"cite_ref-27\" class=\"reference\"><a href=\"#cite_note-27\">&#91;26&#93;</a></sup>\\n',\n",
       " '<a href=\"/wiki/Edmund_Gettier\" title=\"Edmund Gettier\">Edmund Gettier</a>\\'s famous 1963 paper, \"Is Justified True Belief Knowledge?\", popularized the claim that the definition of knowledge as justified true belief had been widely accepted throughout the history of philosophy.<sup id=\"cite_ref-Gettier_28-0\" class=\"reference\"><a href=\"#cite_note-Gettier-28\">&#91;27&#93;</a></sup> The extent to which this is true is highly contentious, since Plato himself disavowed the \"justified true belief\" view at the end of the <i>Theaetetus</i>.<sup id=\"cite_ref-AoK_29-0\" class=\"reference\"><a href=\"#cite_note-AoK-29\">&#91;28&#93;</a></sup><sup id=\"cite_ref-Britannica_1-10\" class=\"reference\"><a href=\"#cite_note-Britannica-1\">&#91;1&#93;</a></sup> Regardless of the accuracy of the claim, Gettier\\'s paper produced major widespread discussion which completely reoriented epistemology in the second half of the 20th century, with a newfound focus on trying to provide an airtight definition of knowledge by adjusting or replacing the \"justified true belief\" view.<sup id=\"cite_ref-30\" class=\"reference\"><a href=\"#cite_note-30\">&#91;note 2&#93;</a></sup> Today there is still little consensus about whether any set of conditions succeeds in providing a set of necessary and sufficient conditions for knowledge, and many contemporary epistemologists have come to the conclusion that no such exception-free definition is possible.<sup id=\"cite_ref-AoK_29-1\" class=\"reference\"><a href=\"#cite_note-AoK-29\">&#91;28&#93;</a></sup> However, even if justification fails as a condition for knowledge as some philosophers claim, the question of whether or not a person has good reasons for holding a particular belief in a particular set of circumstances remains a topic of interest to contemporary epistemology, and is unavoidably linked to questions about <a href=\"/wiki/Rationality\" title=\"Rationality\">rationality</a>.<sup id=\"cite_ref-AoK_29-2\" class=\"reference\"><a href=\"#cite_note-AoK-29\">&#91;28&#93;</a></sup>\\n',\n",
       " 'A central debate about the nature of justification is a debate between epistemological externalists on the one hand, and epistemological internalists on the other. While epistemic externalism first arose in attempts to overcome the Gettier problem, it has flourished in the time since as an alternative way of conceiving of epistemic justification. The initial development of epistemic externalism is often attributed to <a href=\"/wiki/Alvin_Goldman\" title=\"Alvin Goldman\">Alvin Goldman</a>, although numerous other philosophers have worked on the topic in the time since.<sup id=\"cite_ref-AoK_29-3\" class=\"reference\"><a href=\"#cite_note-AoK-29\">&#91;28&#93;</a></sup>\\n',\n",
       " 'Externalists hold that factors deemed \"external\", meaning outside of the psychological states of those who gain knowledge, can be conditions of justification. For example, an externalist response to the Gettier problem is to say that for a justified true belief to count as knowledge, there must be a link or dependency between the belief and the state of the external world. Usually this is understood to be a causal link. Such causation, to the extent that it is \"outside\" the mind, would count as an external, knowledge-yielding condition. Internalists, on the other hand, assert that all knowledge-yielding conditions are within the psychological states of those who gain knowledge.\\n',\n",
       " 'Though unfamiliar with the internalist/externalist debate himself, many point to <a href=\"/wiki/Ren%C3%A9_Descartes\" title=\"René Descartes\">René Descartes</a> as an early example of the internalist path to justification. He wrote that, because the only method by which we perceive the external world is through our senses, and that, because the senses are not infallible, we should not consider our concept of knowledge infallible. The only way to find anything that could be described as \"indubitably true\", he advocates, would be to see things \"clearly and distinctly\".<sup id=\"cite_ref-Regulae_31-0\" class=\"reference\"><a href=\"#cite_note-Regulae-31\">&#91;29&#93;</a></sup> He argued that if there is an omnipotent, good being who made the world, then it\\'s reasonable to believe that people are made with the ability to know. However, this does not mean that man\\'s ability to know is perfect. God gave man the ability to know but not with omniscience. Descartes said that man must use his capacities for knowledge correctly and carefully through methodological doubt.<sup id=\"cite_ref-Meditations_on_First_Philosophy_32-0\" class=\"reference\"><a href=\"#cite_note-Meditations_on_First_Philosophy-32\">&#91;30&#93;</a></sup>\\n',\n",
       " 'The dictum \"Cogito ergo sum\"  is also commonly associated with Descartes\\' theory. In his own methodological doubt—doubting everything he previously knew so he could start from a blank slate—the first thing that he could not logically bring himself to doubt was his own existence: \"I do not exist\" would be a contradiction in terms. The act of saying that one does not exist assumes that someone must be making the statement in the first place. Descartes could doubt his senses, his body, and the world around him—but he could not deny his own existence, because he was able to doubt and must exist to manifest that doubt. Even if some \"evil genius\" were deceiving him, he would have to exist to be deceived. This one sure point provided him with what he called his Archimedean point, in order to further develop his foundation for knowledge. Simply put, Descartes\\' epistemological justification depended on his indubitable belief in his own existence and his clear and distinct knowledge of God.<sup id=\"cite_ref-Refutations_33-0\" class=\"reference\"><a href=\"#cite_note-Refutations-33\">&#91;31&#93;</a></sup>\\n',\n",
       " '<a href=\"/wiki/Edmund_Gettier\" title=\"Edmund Gettier\">Edmund Gettier</a> is best known for his 1963 paper entitled \"Is Justified True Belief Knowledge?\", which called into question the common conception of knowledge as justified true belief.<sup id=\"cite_ref-gettier_34-0\" class=\"reference\"><a href=\"#cite_note-gettier-34\">&#91;32&#93;</a></sup> In just two and a half pages, Gettier argued that there are situations in which one\\'s belief may be justified and true, yet fail to count as knowledge. That is, Gettier contended that while justified belief in a true proposition is necessary for that proposition to be known, it is not sufficient.\\n',\n",
       " 'According to Gettier, there are certain circumstances in which one does not have knowledge, even when all of the above conditions are met. Gettier proposed two <a href=\"/wiki/Thought_experiment\" title=\"Thought experiment\">thought experiments</a>, which have become known as <i>Gettier cases</i>, as <a href=\"/wiki/Counterexample\" title=\"Counterexample\">counterexamples</a> to the classical account of knowledge.<sup id=\"cite_ref-AoK_29-4\" class=\"reference\"><a href=\"#cite_note-AoK-29\">&#91;28&#93;</a></sup> One of the cases involves two men, Smith and Jones, who are awaiting the results of their applications for the same job. Each man has ten coins in his pocket. Smith has excellent reasons to believe that Jones will get the job  for the wrong reasons. Gettier then goes on to offer a second similar case, providing the means by which the specifics of his examples can be generalized into a broader problem for defining knowledge in terms of justified true belief.\\n',\n",
       " 'There have been various notable responses to the Gettier problem. Typically, they have involved substantial attempts to provide a new definition of knowledge that is not susceptible to Gettier-style objections, either by providing an additional fourth condition that justified true beliefs must meet to constitute knowledge, or proposing a completely new set of <a href=\"/wiki/Necessity_and_sufficiency#Simultaneous_necessity_and_sufficiency\" title=\"Necessity and sufficiency\">necessary and sufficient conditions</a> for knowledge. While there have been far too many published responses for all of them to be mentioned, some of the most notable responses are discussed below.\\n',\n",
       " 'One of the earliest suggested replies to Gettier, and perhaps the most intuitive ways to respond to the Gettier problem, is the \"no false premises\" response, sometimes also called the \"no false lemmas\" response. Most notably, this reply was defended by <a href=\"/wiki/David_Malet_Armstrong\" title=\"David Malet Armstrong\">David Malet Armstrong</a> in his 1973 book, <i>Belief, Truth, and Knowledge</i>.<sup id=\"cite_ref-35\" class=\"reference\"><a href=\"#cite_note-35\">&#91;33&#93;</a></sup> The basic form of the response is to assert that the person who holds the justified true belief . Proponents of this response therefore propose that we add a fourth necessary and sufficient condition for knowledge, namely, \"the justified true belief must not have been inferred from a false belief\".\\n',\n",
       " 'This reply to the Gettier problem is simple, direct, and appears to isolate what goes wrong in forming the relevant beliefs in Gettier cases. However, the general consensus is that it fails.<sup id=\"cite_ref-AoK_29-5\" class=\"reference\"><a href=\"#cite_note-AoK-29\">&#91;28&#93;</a></sup> This is because while the original formulation by Gettier includes a person who infers a true belief from a false belief, there are many alternate formulations in which this is not the case. Take, for instance, a case where an observer sees what appears to be a dog walking through a park and forms the belief \"There is a dog in the park\". In fact, it turns out that the observer is not looking at a dog at all, but rather a very lifelike robotic facsimile of a dog. However, unbeknownst to the observer, there <i>is</i> in fact a dog in the park, albeit one standing behind the robotic facsimile of a dog. Since the belief \"There is a dog in the park\" does not involve a faulty inference, but is instead formed as the result of misleading perceptual information, there is no inference made from a false premise. It therefore seems that while the observer does in fact have a true belief that her perceptual experience provides justification for holding, she does not actually <i>know</i> that there is a dog in the park. Instead, she just seems to have formed a \"lucky\" justified true belief.<sup id=\"cite_ref-AoK_29-6\" class=\"reference\"><a href=\"#cite_note-AoK-29\">&#91;28&#93;</a></sup>\\n',\n",
       " 'Reliabilism has been a significant line of response to the Gettier problem among philosophers, originating with work by <a href=\"/wiki/Alvin_Goldman\" title=\"Alvin Goldman\">Alvin Goldman</a> in the 1960s. According to reliabilism, a belief is justified  only if it is produced by processes that typically yield a sufficiently high ratio of true to false beliefs. In other words, this theory states that a true belief counts as knowledge only if it is produced by a reliable belief-forming process. Examples of reliable processes include standard perceptual processes, remembering, good reasoning, and introspection.<sup id=\"cite_ref-36\" class=\"reference\"><a href=\"#cite_note-36\">&#91;34&#93;</a></sup>\\n',\n",
       " '<span class=\"anchor\" id=\"Henry_and_the_barn_façades\"></span>One commonly discussed challenge for reliabilism is the case of Henry and the barn façades.<sup id=\"cite_ref-AoK_29-7\" class=\"reference\"><a href=\"#cite_note-AoK-29\">&#91;28&#93;</a></sup> In this thought experiment, a man, Henry, is driving along and sees a number of buildings that resemble barns. Based on his perception of one of these, he concludes that he is looking at a barn. While he is indeed looking at a barn, it turns out that all of the other barn-like buildings he saw were façades. According to the challenge, Henry does not <i>know</i> that he has seen a barn, despite his belief being true, and despite his belief having been formed on the basis of a reliable process , since he only acquired his reliably formed true belief by accident.<sup id=\"cite_ref-37\" class=\"reference\"><a href=\"#cite_note-37\">&#91;35&#93;</a></sup> In other words, since he could have just as easily been looking at a barn façade and formed a false belief, the reliability of perception in general does not mean that his belief wasn\\'t merely formed luckily, and this luck seems to preclude him from knowledge.<sup id=\"cite_ref-AoK_29-8\" class=\"reference\"><a href=\"#cite_note-AoK-29\">&#91;28&#93;</a></sup>\\n',\n",
       " 'One less common response to the Gettier problem is defended by <a href=\"/wiki/Richard_Kirkham\" title=\"Richard Kirkham\">Richard Kirkham</a>, who has argued that the only definition of knowledge that could ever be immune to all counterexamples is the <a href=\"/wiki/Infallibilism\" title=\"Infallibilism\">infallibilist</a> definition.<sup id=\"cite_ref-38\" class=\"reference\"><a href=\"#cite_note-38\">&#91;36&#93;</a></sup> To qualify as an item of knowledge, goes the theory, a belief must not only be true and justified, the justification of the belief must <i>necessitate</i> its truth. In other words, the justification for the belief must be infallible.\\n',\n",
       " 'While infallibilism is indeed an internally coherent response to the Gettier problem, it is incompatible with our everyday knowledge ascriptions. For instance, as the <a href=\"/wiki/Cartesian_skepticism\" class=\"mw-redirect\" title=\"Cartesian skepticism\">Cartesian skeptic</a> will point out, all of my perceptual experiences are compatible with a skeptical scenario in which I am completely deceived about the existence of the external world, in which case most  instances in which we claim to have knowledge in everyday situations.<sup id=\"cite_ref-SEP_Certainty_40-0\" class=\"reference\"><a href=\"#cite_note-SEP_Certainty-40\">&#91;38&#93;</a></sup> While it is indeed possible to bite the bullet and accept this conclusion, most philosophers find it implausible to suggest that we know nothing or almost nothing, and therefore reject the infallibilist response as collapsing into <a href=\"/wiki/Philosophical_skepticism\" title=\"Philosophical skepticism\">radical skepticism</a>.<sup id=\"cite_ref-SEP_Contextualism_39-1\" class=\"reference\"><a href=\"#cite_note-SEP_Contextualism-39\">&#91;37&#93;</a></sup>\\n',\n",
       " 'Another possible candidate for the fourth condition of knowledge is <i>indefeasibility.</i> <a href=\"/wiki/Defeasibility\" title=\"Defeasibility\">Defeasibility</a> theory maintains that there should be no overriding or defeating truths for the reasons that justify one\\'s belief. For example, suppose that person <i>S</i> believes he saw Tom Grabit steal a book from the library and uses this to justify the claim that Tom Grabit stole a book from the library. A possible defeater or overriding proposition for such a claim could be a true proposition like, \"Tom Grabit\\'s identical twin Sam is currently in the same town as Tom.\" When no defeaters of one\\'s justification exist, a subject would be epistemologically justified.\\n',\n",
       " 'In a similar vein, the Indian philosopher <a href=\"/wiki/Bimal_Krishna_Matilal\" title=\"Bimal Krishna Matilal\">B.K. Matilal</a> drew on the <a href=\"/wiki/Navya-Ny%C4%81ya\" title=\"Navya-Nyāya\">Navya-Nyāya</a> <a href=\"/wiki/Fallibilist\" class=\"mw-redirect\" title=\"Fallibilist\">fallibilist</a> tradition to respond to the Gettier problem. Nyaya theory distinguishes between <i>know p</i> and <i>know that one knows p</i>—these are different events, with different causal conditions. The second level is a sort of implicit inference that usually follows immediately the episode of knowing p , who takes any true belief to be knowledge; thus a true belief acquired through a wrong route may just be regarded as knowledge simpliciter on this view. The question of justification arises only at the second level, when one considers the knowledge-hood of the acquired belief. Initially, there is lack of uncertainty, so it becomes a true belief. But at the very next moment, when the hearer is about to embark upon the venture of <i>knowing whether he knows p</i>, doubts may arise. \"If, in\\nsome Gettier-like cases, I am wrong in my inference about the knowledge-hood of the given occurrent belief , then I am mistaken about the truth of my belief—and this is in accordance with Nyaya fallibilism: not all knowledge-claims can be sustained.\"<sup id=\"cite_ref-Matilal_41-0\" class=\"reference\"><a href=\"#cite_note-Matilal-41\">&#91;39&#93;</a></sup>\\n',\n",
       " '<a href=\"/wiki/Robert_Nozick\" title=\"Robert Nozick\">Robert Nozick</a> has offered a definition of knowledge according to which <i>S</i> knows that <i>P</i> if and only if:\\n',\n",
       " 'Nozick argues that the third of these conditions serves to address cases of the sort described by Gettier. Nozick further claims this condition addresses a case of the sort described by <a href=\"/wiki/D.M._Armstrong\" class=\"mw-redirect\" title=\"D.M. Armstrong\">D.M. Armstrong</a>:<sup id=\"cite_ref-Armstrong_43-0\" class=\"reference\"><a href=\"#cite_note-Armstrong-43\">&#91;41&#93;</a></sup> A father believes his daughter is innocent of committing a particular crime, both because of faith in his baby girl and  because he has seen presented in the courtroom a conclusive demonstration of his daughter\\'s innocence. His belief via the method of the courtroom satisfies the four subjunctive conditions, but his faith-based belief does not. If his daughter were guilty, he would still believe her innocence, on the basis of faith in his daughter; this would violate the third condition.\\n',\n",
       " 'The British philosopher <a href=\"/wiki/Simon_Blackburn\" title=\"Simon Blackburn\">Simon Blackburn</a> has criticized this formulation by suggesting that we do not want to accept as knowledge beliefs which, while they \"track the truth\" , are not held for appropriate reasons. He says that \"we do not want to award the title of knowing something to someone who is only meeting the conditions through a defect, flaw, or failure, compared with someone else who is not meeting the conditions.\"<sup id=\"cite_ref-Think:_A_compelling_introduction_to_philosophy_44-0\" class=\"reference\"><a href=\"#cite_note-Think:_A_compelling_introduction_to_philosophy-44\">&#91;42&#93;</a></sup> In addition to this, externalist accounts of knowledge, such as Nozick\\'s, are often forced to reject closure in cases where it is intuitively valid.\\n',\n",
       " 'An account similar to Nozick\\'s has also been offered by <a href=\"/wiki/Fred_Dretske\" title=\"Fred Dretske\">Fred Dretske</a>, although his view focuses more on relevant alternatives that might have obtained if things had turned out differently. Views of both the Nozick variety and the Dretske variety have faced serious problems suggested by <a href=\"/wiki/Saul_Kripke\" title=\"Saul Kripke\">Saul Kripke</a>.<sup id=\"cite_ref-AoK_29-9\" class=\"reference\"><a href=\"#cite_note-AoK-29\">&#91;28&#93;</a></sup>\\n',\n",
       " '<a href=\"/wiki/Timothy_Williamson\" title=\"Timothy Williamson\">Timothy Williamson</a> has advanced a theory of knowledge according to which knowledge is not justified true belief plus some extra condition is a mental state. As such, Williamson\\'s claim has been seen to be highly counterintuitive.<sup id=\"cite_ref-46\" class=\"reference\"><a href=\"#cite_note-46\">&#91;44&#93;</a></sup>\\n',\n",
       " 'In an earlier paper that predates his development of reliabilism, <a href=\"/wiki/Alvin_Goldman\" title=\"Alvin Goldman\">Alvin Goldman</a> writes in his \"<a href=\"/wiki/Causal_Theory_of_Knowledge\" class=\"mw-redirect\" title=\"Causal Theory of Knowledge\">Causal Theory of Knowing</a>\" that knowledge requires a <a href=\"/wiki/Causal_chain\" title=\"Causal chain\">causal link</a> between the truth of a proposition and the belief in that proposition. A similar view has also been defended by <a href=\"/wiki/Hilary_Kornblith\" title=\"Hilary Kornblith\">Hilary Kornblith</a> in <i>Knowledge and its Place in Nature</i>, although his view is meant to capture an empirical scientific conception of knowledge, not an analysis of the everyday concept \"knowledge\".<sup id=\"cite_ref-Kornblith_47-0\" class=\"reference\"><a href=\"#cite_note-Kornblith-47\">&#91;45&#93;</a></sup> Kornblith, in turn, takes himself to be elaborating on the <a href=\"/wiki/Naturalized_epistemology\" title=\"Naturalized epistemology\">naturalized epistemology</a> framework first suggested by <a href=\"/wiki/W.V.O._Quine\" class=\"mw-redirect\" title=\"W.V.O. Quine\">W.V.O. Quine</a>.\\n',\n",
       " 'We generally assume that knowledge is more valuable than mere true belief. If so, what is the explanation? A formulation of the value problem in epistemology first occurs in <a href=\"/wiki/Plato\" title=\"Plato\">Plato</a>\\'s Meno. Socrates points out to Meno that a man who knew the way to Larissa could lead others there correctly. But so, too, could a man who had true beliefs about how to get there, even if he had not gone there or had any knowledge of Larissa. Socrates says that it seems that both knowledge and true opinion can guide action. Meno then wonders why knowledge is valued more than true belief and why knowledge and true belief are different. Socrates responds that knowledge is more valuable than mere true belief because it is tethered or justified. Justification, or working out the reason for a true belief, locks down true belief.<sup id=\"cite_ref-48\" class=\"reference\"><a href=\"#cite_note-48\">&#91;46&#93;</a></sup>\\n',\n",
       " 'The problem is to identify what .<sup id=\"cite_ref-SEPValue_49-0\" class=\"reference\"><a href=\"#cite_note-SEPValue-49\">&#91;47&#93;</a></sup> The value problem re-emerged in the philosophical literature on epistemology in the twenty-first century following the rise of <a href=\"/wiki/Virtue_epistemology\" title=\"Virtue epistemology\">virtue epistemology</a> in the 1980s, partly because of the obvious link to the concept of value in ethics.<sup id=\"cite_ref-Pritchard-APQ_50-0\" class=\"reference\"><a href=\"#cite_note-Pritchard-APQ-50\">&#91;48&#93;</a></sup>\\n',\n",
       " 'In contemporary philosophy, epistemologists including <a href=\"/wiki/Ernest_Sosa\" title=\"Ernest Sosa\">Ernest Sosa</a>, <a href=\"/wiki/John_Greco_, rather than merely the properties of propositions and propositional mental attitudes.\\n',\n",
       " 'The value problem has been presented as an argument against epistemic <a href=\"/wiki/Reliabilism\" title=\"Reliabilism\">reliabilism</a> by <a href=\"/wiki/Linda_Zagzebski\" title=\"Linda Zagzebski\">Linda Zagzebski</a>, Wayne Riggs, and <a href=\"/wiki/Richard_Swinburne\" title=\"Richard Swinburne\">Richard Swinburne</a>, among others. Zagzebski analogizes the value of knowledge to the value of espresso produced by an espresso maker: \"The liquid in this cup is not improved by the fact that it comes from a reliable espresso maker. If the espresso tastes good, it makes no difference if it comes from an unreliable machine.\"<sup id=\"cite_ref-52\" class=\"reference\"><a href=\"#cite_note-52\">&#91;50&#93;</a></sup> For Zagzebski, the value of knowledge deflates to the value of mere true belief. She assumes that reliability in itself has no value or disvalue, but Goldman and Olsson disagree. They point out that Zagzebski\\'s conclusion rests on the assumption of veritism: all that matters is the acquisition of true belief.<sup id=\"cite_ref-53\" class=\"reference\"><a href=\"#cite_note-53\">&#91;51&#93;</a></sup> To the contrary, they argue that a reliable process for acquiring a true belief adds value to the mere true belief by making it more likely that future beliefs of a similar kind will be true. By analogy, having a reliable espresso maker that produced a good cup of espresso would be more valuable than having an unreliable one that luckily produced a good cup because the reliable one would more likely produce good future cups compared to the unreliable one.\\n',\n",
       " 'The value problem is important to assessing the adequacy of theories of knowledge that conceive of knowledge as consisting of true belief and other components. According to <a href=\"/wiki/Jonathan_Kvanvig\" title=\"Jonathan Kvanvig\">Kvanvig</a>, an adequate account of knowledge should resist counterexamples and allow an explanation of the value of knowledge over mere true belief. Should a theory of knowledge fail to do so, it would prove inadequate.<sup id=\"cite_ref-54\" class=\"reference\"><a href=\"#cite_note-54\">&#91;52&#93;</a></sup>\\n',\n",
       " 'One of the more influential responses to the problem is that knowledge is not particularly valuable and is not what ought to be the main focus of epistemology. Instead, epistemologists ought to focus on other mental states, such as understanding.<sup id=\"cite_ref-55\" class=\"reference\"><a href=\"#cite_note-55\">&#91;53&#93;</a></sup> Advocates of virtue epistemology have argued that the value of knowledge comes from an internal relationship between the knower and the mental state of believing.<sup id=\"cite_ref-SEPValue_49-1\" class=\"reference\"><a href=\"#cite_note-SEPValue-49\">&#91;47&#93;</a></sup>\\n',\n",
       " 'There are many proposed sources of knowledge and justified belief which we take to be actual sources of knowledge in our everyday lives. Some of the most commonly discussed include <a href=\"/wiki/Perception\" title=\"Perception\">perception</a>, <a href=\"/wiki/Reason\" title=\"Reason\">reason</a>, <a href=\"/wiki/Memory\" title=\"Memory\">memory</a>, and <a href=\"/wiki/Testimony#Philosophy\" title=\"Testimony\">testimony</a>.<sup id=\"cite_ref-IEP_3-1\" class=\"reference\"><a href=\"#cite_note-IEP-3\">&#91;3&#93;</a></sup><sup id=\"cite_ref-SEP_Epistemology_Current_6-1\" class=\"reference\"><a href=\"#cite_note-SEP_Epistemology_Current-6\">&#91;6&#93;</a></sup>\\n',\n",
       " 'As mentioned above, epistemologists draw a distinction between what can be known <i><a href=\"/wiki/A_priori_and_a_posteriori\" title=\"A priori and a posteriori\">a priori</a></i> . Much of what we call <i>a priori</i> knowledge is thought to be attained through reason alone, as featured prominently in <a href=\"/wiki/Rationalism\" title=\"Rationalism\">rationalism</a>. This might also include a non-rational faculty of <a href=\"/wiki/Intuition\" title=\"Intuition\">intuition</a>, as defended by proponents of <a href=\"/wiki/Innatism\" title=\"Innatism\">innatism</a>. In contrast, <i>a posteriori</i> knowledge is derived entirely through experience or as a result of experience, as emphasized in <a href=\"/wiki/Empiricism\" title=\"Empiricism\">empiricism</a>. This also includes cases where knowledge can be traced back to an earlier experience, as in memory or testimony.<sup id=\"cite_ref-SEP_A_Priori_21-1\" class=\"reference\"><a href=\"#cite_note-SEP_A_Priori-21\">&#91;20&#93;</a></sup>\\n',\n",
       " 'A way to look at the difference between the two is through an example. Bruce Russell gives two propositions in which the reader decides which one he believes more.<sup class=\"noprint Inline-Template\" style=\"margin-left:0.1em; white-space:nowrap;\">&#91;<i><a href=\"/wiki/Wikipedia:Please_clarify\" title=\"Wikipedia:Please clarify\"><span title=\"The text near this tag may need clarification or removal of jargon. \">clarification needed</span></a></i>&#93;</sup> Option A: All crows are birds.  Option B: All crows are black.  If you believe option A, then you are a priori justified in believing it because you don\\'t have to see a crow to know it\\'s a bird.  If you believe in option B, then you are posteriori justified to believe it because you have seen many crows therefore knowing they are black.  He goes on to say that it doesn\\'t matter if the statement is true or not, only that if you believe in one or the other that matters.<sup id=\"cite_ref-SEP_A_Priori_21-2\" class=\"reference\"><a href=\"#cite_note-SEP_A_Priori-21\">&#91;20&#93;</a></sup>\\n',\n",
       " 'The idea of <i>a priori</i> knowledge is that it is based on intuition or rational insights.  Laurence BonJour says in his article \"The Structure of Empirical Knowledge\",<sup id=\"cite_ref-56\" class=\"reference\"><a href=\"#cite_note-56\">&#91;54&#93;</a></sup> that a \"rational insight is an immediate, non-inferential grasp, apprehension or \\'seeing\\' that some proposition is necessarily true.\"  Going back to the crow example, by Laurence BonJour\\'s definition the reason you would believe in option A is because you have an immediate knowledge that a crow is a bird, without ever experiencing one.\\n',\n",
       " '<a href=\"/wiki/Evolutionary_psychology\" title=\"Evolutionary psychology\">Evolutionary psychology</a> takes a novel approach to the problem. It says that there is an innate predisposition for certain types of learning. \"Only small parts of the brain resemble a <a href=\"/wiki/Tabula_rasa\" title=\"Tabula rasa\">tabula rasa</a>; this is true even for human beings. The remainder is more like an exposed negative waiting to be dipped into a developer fluid\".<sup id=\"cite_ref-57\" class=\"reference\"><a href=\"#cite_note-57\">&#91;55&#93;</a></sup>\\n',\n",
       " '<a href=\"/wiki/Immanuel_Kant\" title=\"Immanuel Kant\">Immanuel Kant</a>, in his <i><a href=\"/wiki/Critique_of_Pure_Reason\" title=\"Critique of Pure Reason\">Critique of Pure Reason</a></i>, drew a distinction between \"analytic\" and \"synthetic\" propositions. He contended that some propositions are such that we can know they are true just by understanding their meaning. For example, consider, \"My father\\'s brother is my uncle.\" We can know it is true solely by virtue of our understanding in what its terms mean. Philosophers call such propositions <i>analytic\"</i>. Synthetic propositions, on the other hand, have distinct subjects and predicates. An example would be, \"My father\\'s brother has black hair.\" Kant stated that all mathematical and scientific statements are analytic priori propositions because they are <a href=\"/wiki/Logical_truth\" title=\"Logical truth\">necessarily true</a> but our knowledge about the attributes of the mathematical or physical subjects we can only get by logical inference.\\n',\n",
       " 'While this distinction is first and foremost about <a href=\"/wiki/Meaning_, then there can only be two kinds of successful inquiry: Logico-mathematical inquiry, which investigates what is true by definition, and empirical inquiry, which investigates what is true in the world. Most notably, this would exclude the possibility that branches of philosophy like <a href=\"/wiki/Metaphysics\" title=\"Metaphysics\">metaphysics</a> could ever provide informative accounts of what actually exists.<sup id=\"cite_ref-SEP_A_Priori_21-3\" class=\"reference\"><a href=\"#cite_note-SEP_A_Priori-21\">&#91;20&#93;</a></sup><sup id=\"cite_ref-SEP_Analytic_Synthetic_58-1\" class=\"reference\"><a href=\"#cite_note-SEP_Analytic_Synthetic-58\">&#91;56&#93;</a></sup>\\n',\n",
       " 'The American philosopher <a href=\"/wiki/Willard_Van_Orman_Quine\" title=\"Willard Van Orman Quine\">Willard Van Orman Quine</a>, in his paper \"<a href=\"/wiki/Two_Dogmas_of_Empiricism\" title=\"Two Dogmas of Empiricism\">Two Dogmas of Empiricism</a>\", famously challenged the analytic-synthetic distinction, arguing that the boundary  between the two is too blurry to provide a clear division between propositions that are true by definition and propositions that are not. While some contemporary philosophers take themselves to have offered more sustainable accounts of the distinction that are not vulnerable to Quine\\'s objections, there is no consensus about whether or not these succeed.<sup id=\"cite_ref-59\" class=\"reference\"><a href=\"#cite_note-59\">&#91;57&#93;</a></sup>\\n',\n",
       " 'Science is often considered to be a refined, formalized, systematic, institutionalized form of the pursuit and acquisition of empirical knowledge. As such, the <a href=\"/wiki/Philosophy_of_science\" title=\"Philosophy of science\">philosophy of science</a> may be viewed variously as an application of the principles of epistemology or as a foundation for epistemological inquiry.\\n',\n",
       " 'The <a href=\"/wiki/Regress_argument\" title=\"Regress argument\">regress problem</a>  that do not require further justification but can still be considered rational and justified? As John Pollock stated:\\n',\n",
       " '... to justify a belief one must appeal to a further justified belief. This means that one of two things can be the case. Either there are some beliefs that we can be justified for holding, without being able to justify them on the basis of any other belief, or else for each justified belief there is an infinite regress of  justification [the nebula theory]. On this theory there is no rock bottom of justification. Justification just meanders in and out through our network of beliefs, stopping nowhere.<sup id=\"cite_ref-Pollock_60-0\" class=\"reference\"><a href=\"#cite_note-Pollock-60\">&#91;58&#93;</a></sup>',\n",
       " 'The apparent impossibility of completing an infinite chain of reasoning is thought by some to support <a href=\"/wiki/Skepticism\" title=\"Skepticism\">skepticism</a>. It is also the impetus for Descartes\\' famous dictum: <i><a href=\"/wiki/I_think,_therefore_I_am\" class=\"mw-redirect\" title=\"I think, therefore I am\">I think, therefore I am</a></i>. Descartes was looking for some logical statement that could be true without appeal to other statements.\\n',\n",
       " 'Many epistemologists studying justification have attempted to argue for various types of chains of reasoning that can escape the regress problem.\\n',\n",
       " '<a href=\"/wiki/Foundationalism\" title=\"Foundationalism\">Foundationalists</a> respond to the regress problem by asserting that certain \"foundations\" or \"basic beliefs\" support other beliefs but do not themselves require justification from other beliefs. These beliefs might be justified because they are self-evident, infallible, or derive from reliable cognitive mechanisms. Perception, memory, and a priori intuition are often considered possible examples of basic beliefs.\\n',\n",
       " 'The chief criticism of foundationalism is that if a belief is not supported by other beliefs, accepting it may be arbitrary or unjustified.<sup id=\"cite_ref-61\" class=\"reference\"><a href=\"#cite_note-61\">&#91;59&#93;</a></sup>\\n',\n",
       " 'Another response to the regress problem is <a href=\"/wiki/Coherentism\" title=\"Coherentism\">coherentism</a>, which is the rejection of the assumption that the regress proceeds according to a pattern of linear justification. To avoid the charge of circularity, <a href=\"/wiki/Coherentism\" title=\"Coherentism\">coherentists</a> hold that an individual belief is justified circularly by the way it fits together  with the rest of the belief system of which it is a part. This theory has the advantage of avoiding the infinite regress without claiming special, possibly arbitrary status for some particular class of beliefs. Yet, since a system can be coherent while also being wrong, coherentists face the difficulty of ensuring that the whole system <a href=\"/wiki/Correspondence_theory_of_truth\" title=\"Correspondence theory of truth\">corresponds</a> to reality. Additionally, most logicians agree that any argument that is circular is, at best, only trivially valid. That is, to be illuminating, arguments must operate with information from multiple premises, not simply conclude by reiterating a premise.\\n',\n",
       " 'Nigel Warburton writes in <i>Thinking from A to Z</i> that \"[c]ircular arguments are not invalid; in other words, from a logical point of view there is nothing intrinsically wrong with them. However, they are, when viciously circular, spectacularly uninformative.\"<sup id=\"cite_ref-62\" class=\"reference\"><a href=\"#cite_note-62\">&#91;60&#93;</a></sup>\\n',\n",
       " 'An alternative resolution to the regress problem is known as \"<a href=\"/wiki/Infinitism\" title=\"Infinitism\">infinitism</a>\". Infinitists take the infinite series to be merely potential, in the sense that an individual may have indefinitely many reasons available to them, without having consciously thought through all of these reasons when the need arises. This position is motivated in part by the desire to avoid what is seen as the arbitrariness and circularity of its chief competitors, foundationalism and coherentism. The most prominent defense of infinitism has been given by <a href=\"/wiki/Peter_D._Klein\" title=\"Peter D. Klein\">Peter Klein</a>.<sup id=\"cite_ref-63\" class=\"reference\"><a href=\"#cite_note-63\">&#91;61&#93;</a></sup>\\n',\n",
       " 'An intermediate position, known as \"<a href=\"/wiki/Foundherentism\" title=\"Foundherentism\">foundherentism</a>\", is advanced by <a href=\"/wiki/Susan_Haack\" title=\"Susan Haack\">Susan Haack</a>. Foundherentism is meant to unify foundationalism and coherentism. Haack explains the view by using a crossword puzzle as an analogy. Whereas, for example, infinitists regard the regress of reasons as taking the form of a single line that continues indefinitely, Haack has argued that chains of properly justified beliefs look more like a crossword puzzle, with various different lines mutually supporting each other.<sup id=\"cite_ref-64\" class=\"reference\"><a href=\"#cite_note-64\">&#91;62&#93;</a></sup> Thus, Haack\\'s view leaves room for both chains of beliefs that are \"vertical\" .\\n',\n",
       " '<a href=\"/wiki/Philosophical_skepticism\" title=\"Philosophical skepticism\">Epistemic skepticism</a> questions whether knowledge is possible at all. Generally speaking, skeptics argue that knowledge requires <a href=\"/wiki/Certainty\" title=\"Certainty\">certainty</a>, and that most or all of our beliefs are <a href=\"/wiki/Fallibilism\" title=\"Fallibilism\">fallible</a> , which would together entail that knowledge is always or almost always <a href=\"/wiki/Acatalepsy\" title=\"Acatalepsy\">impossible</a> for us.<sup id=\"cite_ref-SKEPTICISM_65-0\" class=\"reference\"><a href=\"#cite_note-SKEPTICISM-65\">&#91;63&#93;</a></sup> Characterizing knowledge as strong or weak is dependent on a person\\'s viewpoint and their characterization of knowledge.<sup id=\"cite_ref-SKEPTICISM_65-1\" class=\"reference\"><a href=\"#cite_note-SKEPTICISM-65\">&#91;63&#93;</a></sup> Much of modern epistemology is derived from attempts to better understand and address philosophical skepticism.<sup id=\"cite_ref-Klein_2015_66-0\" class=\"reference\"><a href=\"#cite_note-Klein_2015-66\">&#91;64&#93;</a></sup>\\n',\n",
       " 'One of the oldest forms of epistemic skepticism can be found in <a href=\"/wiki/Agrippa%27s_trilemma\" class=\"mw-redirect\" title=\"Agrippa&#39;s trilemma\">Agrippa\\'s trilemma</a>  which demonstrates that certainty can not be achieved with regard to beliefs.<sup id=\"cite_ref-AncientSkepticism_67-0\" class=\"reference\"><a href=\"#cite_note-AncientSkepticism-67\">&#91;65&#93;</a></sup> Pyrrhonism dates back to <a href=\"/wiki/Pyrrho_of_Elis\" class=\"mw-redirect\" title=\"Pyrrho of Elis\">Pyrrho of Elis</a> from the 4th century BCE, although most of what we know about Pyrrhonism today is from the surviving works of <a href=\"/wiki/Sextus_Empiricus\" title=\"Sextus Empiricus\">Sextus Empiricus</a>.<sup id=\"cite_ref-AncientSkepticism_67-1\" class=\"reference\"><a href=\"#cite_note-AncientSkepticism-67\">&#91;65&#93;</a></sup> Pyrrhonists claim that for any argument for a non-evident proposition, an equally convincing argument for a contradictory proposition can be produced. Pyrrhonists do not dogmatically deny the possibility of knowledge, but instead point out that beliefs about non-evident matters cannot be substantiated.\\n',\n",
       " 'The <a href=\"/wiki/Evil_demon\" title=\"Evil demon\">Cartesian evil demon problem</a>, first raised by <a href=\"/wiki/Ren%C3%A9_Descartes\" title=\"René Descartes\">René Descartes</a>,<sup id=\"cite_ref-68\" class=\"reference\"><a href=\"#cite_note-68\">&#91;note 3&#93;</a></sup> supposes that our sensory impressions may be controlled by some external power rather than the result of ordinary veridical perception.<sup id=\"cite_ref-Descartes1_69-0\" class=\"reference\"><a href=\"#cite_note-Descartes1-69\">&#91;66&#93;</a></sup> In such a scenario, nothing we sense would actually exist, but would instead be mere illusion. As a result, we would never be able to know anything about the world, since we would be systematically deceived about everything. The conclusion often drawn from evil demon skepticism is that even if we are not completely deceived, all of the information provided by our senses is still <i>compatible</i> with skeptical scenarios in which we are completely deceived, and that we must therefore either be able to exclude the possibility of deception or else must deny the possibility of <i>infallible</i> knowledge  beyond our immediate sensory impressions.<sup id=\"cite_ref-Descartes2_70-0\" class=\"reference\"><a href=\"#cite_note-Descartes2-70\">&#91;67&#93;</a></sup> While the view that no beliefs are beyond doubt other than our immediate sensory impressions is often ascribed to Descartes, he in fact thought that we <i>can</i> exclude the possibility that we are systematically deceived, although his reasons for thinking this are based on a highly contentious <a href=\"/wiki/Ontological_argument\" title=\"Ontological argument\">ontological argument</a> for the existence of a benevolent God who would not allow such deception to occur.<sup id=\"cite_ref-Descartes1_69-1\" class=\"reference\"><a href=\"#cite_note-Descartes1-69\">&#91;66&#93;</a></sup>\\n',\n",
       " 'Epistemological skepticism can be classified as either \"mitigated\" or \"unmitigated\" skepticism. Mitigated skepticism rejects \"strong\" or \"strict\" knowledge claims but does approve weaker ones, which can be considered \"virtual knowledge\", but only with regard to justified beliefs.  Unmitigated skepticism rejects claims of both virtual and strong knowledge.<sup id=\"cite_ref-SKEPTICISM_65-2\" class=\"reference\"><a href=\"#cite_note-SKEPTICISM-65\">&#91;63&#93;</a></sup> Characterizing knowledge as strong, weak, virtual or genuine can be determined differently depending on a person\\'s viewpoint as well as their characterization of knowledge.<sup id=\"cite_ref-SKEPTICISM_65-3\" class=\"reference\"><a href=\"#cite_note-SKEPTICISM-65\">&#91;63&#93;</a></sup> Some of the most notable attempts to respond to unmitigated skepticism include <a href=\"/wiki/Direct_realism\" class=\"mw-redirect\" title=\"Direct realism\">direct realism</a>, <a href=\"/wiki/Disjunctivism\" title=\"Disjunctivism\">disjunctivism</a>, <a href=\"/wiki/Scottish_common_sense_realism\" title=\"Scottish common sense realism\">common sense philosophy</a>, <a href=\"/wiki/Pragmatism\" title=\"Pragmatism\">pragmatism</a>, <a href=\"/wiki/Fideism\" title=\"Fideism\">fideism</a>, and <a href=\"/wiki/Fictionalism\" title=\"Fictionalism\">fictionalism</a>.<sup id=\"cite_ref-71\" class=\"reference\"><a href=\"#cite_note-71\">&#91;68&#93;</a></sup>\\n',\n",
       " '<a href=\"/wiki/Empiricism\" title=\"Empiricism\">Empiricism</a> is a view in the theory of knowledge which focuses on the role of experience, especially experience based on <a href=\"/wiki/Perception\" title=\"Perception\">perceptual observations</a> by the <a href=\"/wiki/Sense\" title=\"Sense\">senses</a>, in the generation of knowledge.<sup id=\"cite_ref-72\" class=\"reference\"><a href=\"#cite_note-72\">&#91;69&#93;</a></sup> Certain forms exempt disciplines such as <a href=\"/wiki/Mathematics\" title=\"Mathematics\">mathematics</a> and <a href=\"/wiki/Logic\" title=\"Logic\">logic</a> from these requirements.<sup id=\"cite_ref-Uebel2015_73-0\" class=\"reference\"><a href=\"#cite_note-Uebel2015-73\">&#91;70&#93;</a></sup>\\n',\n",
       " 'There are many variants of empiricism, including <a href=\"/wiki/British_empiricism\" class=\"mw-redirect\" title=\"British empiricism\">British empiricism</a>, <a href=\"/wiki/Empiricism#Logical_empiricism\" title=\"Empiricism\">logical empiricism</a>, <a href=\"/wiki/Phenomenalism\" title=\"Phenomenalism\">phenomenalism</a>, and some versions of <a href=\"/wiki/Scottish_common_sense_realism\" title=\"Scottish common sense realism\">common sense philosophy</a>. Most forms of empiricism give epistemologically privileged status to sensory impressions or <a href=\"/wiki/Sense_data\" title=\"Sense data\">sense data</a>, although this plays out very differently in different cases. Some of the most famous historical empiricists include <a href=\"/wiki/John_Locke\" title=\"John Locke\">John Locke</a>, <a href=\"/wiki/David_Hume\" title=\"David Hume\">David Hume</a>, <a href=\"/wiki/George_Berkeley\" title=\"George Berkeley\">George Berkeley</a>, <a href=\"/wiki/Francis_Bacon\" title=\"Francis Bacon\">Francis Bacon</a>, <a href=\"/wiki/John_Stuart_Mill\" title=\"John Stuart Mill\">John Stuart Mill</a>, <a href=\"/wiki/Rudolf_Carnap\" title=\"Rudolf Carnap\">Rudolf Carnap</a>, and <a href=\"/wiki/Bertrand_Russell\" title=\"Bertrand Russell\">Bertrand Russell</a>.\\n',\n",
       " 'Rationalism is the epistemological view that reason is the chief source of knowledge and the main determinant of what constitutes knowledge. More broadly, it can also refer to any view which appeals to reason as a source of knowledge or justification. Rationalism is one of the two classical views in epistemology, the other being empiricism. Rationalists claim that the mind, through the use of reason, can directly grasp certain truths in various domains, including <a href=\"/wiki/Logic\" title=\"Logic\">logic</a>, <a href=\"/wiki/Mathematics\" title=\"Mathematics\">mathematics</a>, <a href=\"/wiki/Ethics\" title=\"Ethics\">ethics</a>, and <a href=\"/wiki/Metaphysics\" title=\"Metaphysics\">metaphysics</a>. Rationalist views can range from modest views in mathematics and logic .\\n',\n",
       " 'Some of the most famous rationalists include <a href=\"/wiki/Plato\" title=\"Plato\">Plato</a>, <a href=\"/wiki/Ren%C3%A9_Descartes\" title=\"René Descartes\">René Descartes</a>, <a href=\"/wiki/Baruch_Spinoza\" title=\"Baruch Spinoza\">Baruch Spinoza</a>, and <a href=\"/wiki/Gottfried_Leibniz\" class=\"mw-redirect\" title=\"Gottfried Leibniz\">Gottfried Leibniz</a>.\\n',\n",
       " 'Skepticism is a position that questions the possibility of human knowledge, either in particular domains or on a general level.<sup id=\"cite_ref-Klein_2015_66-1\" class=\"reference\"><a href=\"#cite_note-Klein_2015-66\">&#91;64&#93;</a></sup> Skepticism does not refer to any one specific school of philosophy, but is rather a thread that runs through many epistemological debates. <a href=\"/wiki/Philosophical_skepticism#Ancient_Greek_skepticism\" title=\"Philosophical skepticism\">Ancient Greek skepticism</a> began during the <a href=\"/wiki/Hellenistic_philosophy\" title=\"Hellenistic philosophy\">Hellenistic period in philosophy</a>, which featured both <a href=\"/wiki/Pyrrhonism\" title=\"Pyrrhonism\">Pyrrhonism</a> . Among ancient Indian philosophers, skepticism was notably defended by the <a href=\"/wiki/Aj%C3%B1ana\" title=\"Ajñana\">Ajñana</a> school and in the Buddhist <a href=\"/wiki/Madhyamika\" class=\"mw-redirect\" title=\"Madhyamika\">Madhyamika</a> tradition. In modern philosophy, <a href=\"/wiki/Ren%C3%A9_Descartes\" title=\"René Descartes\">René Descartes</a>\\' famous inquiry into mind and body began as an exercise in skepticism, in which he started by trying to doubt all purported cases of knowledge in order to search for something that was known with absolute <a href=\"/wiki/Certainty\" title=\"Certainty\">certainty</a>.<sup id=\"cite_ref-74\" class=\"reference\"><a href=\"#cite_note-74\">&#91;71&#93;</a></sup>\\n',\n",
       " '<a href=\"/wiki/Pragmatism\" title=\"Pragmatism\">Pragmatism</a> is an empiricist epistemology formulated by <a href=\"/wiki/Charles_Sanders_Peirce\" title=\"Charles Sanders Peirce\">Charles Sanders Peirce</a>, <a href=\"/wiki/William_James\" title=\"William James\">William James</a>, and <a href=\"/wiki/John_Dewey\" title=\"John Dewey\">John Dewey</a>, which understands truth as that which is practically applicable in the world. Pragmatists often treat \"truth\" as the final outcome of ideal scientific inquiry, meaning that something cannot be true unless it is potentially observable.<sup id=\"cite_ref-75\" class=\"reference\"><a href=\"#cite_note-75\">&#91;note 4&#93;</a></sup> Peirce formulates the maxim: \\'Consider what effects, that might conceivably have practical bearings, we conceive the object of our conception to have. Then, our conception of these effects is the whole of our conception of the object.\\'<sup id=\"cite_ref-76\" class=\"reference\"><a href=\"#cite_note-76\">&#91;72&#93;</a></sup> This suggests that we are to analyse ideas and objects in the world for their practical value.<sup class=\"noprint Inline-Template\" style=\"margin-left:0.1em; white-space:nowrap;\">&#91;<i><a href=\"/wiki/Wikipedia:Please_clarify\" title=\"Wikipedia:Please clarify\"><span title=\"The text near this tag may need clarification or removal of jargon. \">clarification needed</span></a></i>&#93;</sup> This is in contrast to any <a href=\"/wiki/Correspondence_theory_of_truth\" title=\"Correspondence theory of truth\">correspondence theory of truth</a> that holds that what is true is what corresponds to an external reality. William James suggests that through a pragmatist epistemology, theories \"become instruments, not answers to enigmas in which we can rest.\"<sup id=\"cite_ref-77\" class=\"reference\"><a href=\"#cite_note-77\">&#91;73&#93;</a></sup>\\n',\n",
       " '<a href=\"/wiki/Methodological_pragmatism\" class=\"mw-redirect\" title=\"Methodological pragmatism\">Contemporary versions of pragmatism</a> have been most notably developed by <a href=\"/wiki/Richard_Rorty\" title=\"Richard Rorty\">Richard Rorty</a> and <a href=\"/wiki/Hilary_Putnam\" title=\"Hilary Putnam\">Hilary Putnam</a>. Rorty proposed that values were historically contingent and dependent upon their utility within a given historical period,<sup id=\"cite_ref-78\" class=\"reference\"><a href=\"#cite_note-78\">&#91;74&#93;</a></sup> Contemporary philosophers working in pragmatism are called <a href=\"/wiki/Neopragmatism\" title=\"Neopragmatism\">neopragmatists</a>, and also include <a href=\"/wiki/Nicholas_Rescher\" title=\"Nicholas Rescher\">Nicholas Rescher</a>, <a href=\"/wiki/Robert_Brandom\" title=\"Robert Brandom\">Robert Brandom</a>, <a href=\"/wiki/Susan_Haack\" title=\"Susan Haack\">Susan Haack</a>, and <a href=\"/wiki/Cornel_West\" title=\"Cornel West\">Cornel West</a>.\\n',\n",
       " 'In certain respects an intellectual descendant of pragmatism, <a href=\"/wiki/Naturalized_epistemology\" title=\"Naturalized epistemology\">naturalized epistemology</a> considers the evolutionary role of knowledge for agents living and evolving in the world.<sup id=\"cite_ref-Epistemology_Naturalized_79-0\" class=\"reference\"><a href=\"#cite_note-Epistemology_Naturalized-79\">&#91;75&#93;</a></sup> It de-emphasizes the questions around justification and truth, and instead asks, empirically, how reliable beliefs are formed and the role that evolution played in the development of such processes. It suggests a more empirical approach to the subject as a whole, leaving behind philosophical definitions and consistency arguments, and instead using psychological methods to study and understand how \"knowledge\" is actually formed and is used in the natural world. As such, it does not attempt to answer the analytic questions of traditional epistemology, but rather replace them with new empirical ones.<sup id=\"cite_ref-Kim_80-0\" class=\"reference\"><a href=\"#cite_note-Kim-80\">&#91;76&#93;</a></sup>\\n',\n",
       " 'Naturalized epistemology was first proposed in \"Epistemology Naturalized\", a seminal paper by <a href=\"/wiki/W.V.O._Quine\" class=\"mw-redirect\" title=\"W.V.O. Quine\">W.V.O. Quine</a>.<sup id=\"cite_ref-Epistemology_Naturalized_79-1\" class=\"reference\"><a href=\"#cite_note-Epistemology_Naturalized-79\">&#91;75&#93;</a></sup> A less radical view has been defended by <a href=\"/wiki/Hilary_Kornblith\" title=\"Hilary Kornblith\">Hilary Kornblith</a> in <i>Knowledge and its Place in Nature</i>, in which he seeks to turn epistemology towards empirical investigation without completely abandoning traditional epistemic concepts.<sup id=\"cite_ref-Kornblith_47-1\" class=\"reference\"><a href=\"#cite_note-Kornblith-47\">&#91;45&#93;</a></sup>\\n',\n",
       " '<a href=\"/wiki/Feminist_epistemology\" title=\"Feminist epistemology\">Feminist epistemology</a> is a subfield of epistemology which applies <a href=\"/wiki/Feminist_theory\" title=\"Feminist theory\">feminist theory</a> to epistemological questions. It began to emerge as a distinct subfield in the 20th century. Prominent feminist epistemologists include <a href=\"/wiki/Miranda_Fricker\" title=\"Miranda Fricker\">Miranda Fricker</a> , <a href=\"/wiki/Sandra_Harding\" title=\"Sandra Harding\">Sandra Harding</a>, and <a href=\"/wiki/Elizabeth_S._Anderson\" title=\"Elizabeth S. Anderson\">Elizabeth Anderson</a>.<sup id=\"cite_ref-SEP_Feminist_Epistemology_81-0\" class=\"reference\"><a href=\"#cite_note-SEP_Feminist_Epistemology-81\">&#91;77&#93;</a></sup> Harding proposes that feminist epistemology can be broken into three distinct categories: Feminist empiricism, standpoint epistemology, and postmodern epistemology.\\n',\n",
       " 'Feminist epistemology has also played a significant role in the development of many debates in <a href=\"/wiki/Social_epistemology\" title=\"Social epistemology\">social epistemology</a>.<sup id=\"cite_ref-SEP_Feminist_Social_82-0\" class=\"reference\"><a href=\"#cite_note-SEP_Feminist_Social-82\">&#91;78&#93;</a></sup>\\n',\n",
       " 'Epistemic relativism is the view that what is true, rational, or justified for one person need not be true, rational, or justified for another person. Epistemic relativists therefore assert that while there are <i>relative</i> facts about truth, rationality, justification, and so on, there is no <i>perspective-independent</i> fact of the matter.<sup id=\"cite_ref-Boghossian_83-0\" class=\"reference\"><a href=\"#cite_note-Boghossian-83\">&#91;79&#93;</a></sup> Note that this is distinct from epistemic <a href=\"/wiki/Contextualism\" title=\"Contextualism\">contextualism</a>, which holds that the <i>meaning</i> of epistemic terms vary across contexts . In contrast, epistemic relativism holds that the relevant <i>facts</i> vary, not just linguistic meaning. Relativism about truth may also be a form of <a href=\"/wiki/Ontological\" class=\"mw-redirect\" title=\"Ontological\">ontological</a> relativism, insofar as relativists about truth hold that facts about what <i>exists</i> vary based on perspective.<sup id=\"cite_ref-Boghossian_83-1\" class=\"reference\"><a href=\"#cite_note-Boghossian-83\">&#91;79&#93;</a></sup>\\n',\n",
       " '<a href=\"/wiki/Social_constructivism\" title=\"Social constructivism\">Constructivism</a> is a view in philosophy according to which all \"knowledge is a compilation of human-made constructions\",<sup id=\"cite_ref-84\" class=\"reference\"><a href=\"#cite_note-84\">&#91;80&#93;</a></sup> \"not the neutral discovery of an objective truth\".<sup id=\"cite_ref-85\" class=\"reference\"><a href=\"#cite_note-85\">&#91;81&#93;</a></sup> Whereas objectivism is concerned with the \"object of our knowledge\", constructivism emphasizes \"how we construct knowledge\".<sup id=\"cite_ref-86\" class=\"reference\"><a href=\"#cite_note-86\">&#91;82&#93;</a></sup> Constructivism proposes new definitions for <a href=\"/wiki/Knowledge\" title=\"Knowledge\">knowledge</a> and <a href=\"/wiki/Truth\" title=\"Truth\">truth</a>, which emphasize intersubjectivity rather than objectivity, and viability rather than truth. The constructivist point of view is in many ways comparable to certain forms of pragmatism.<sup id=\"cite_ref-87\" class=\"reference\"><a href=\"#cite_note-87\">&#91;83&#93;</a></sup>\\n',\n",
       " '<a href=\"/wiki/Idealism\" title=\"Idealism\">Idealism</a> is a broad term referring to both an <a href=\"/wiki/Ontological\" class=\"mw-redirect\" title=\"Ontological\">ontological</a> view about the world being in some sense mind-dependent and a corresponding epistemological view that everything we know can be reduced to mental phenomena. First and foremost, \"idealism\" is a <a href=\"/wiki/Metaphysical\" class=\"mw-redirect\" title=\"Metaphysical\">metaphysical</a> doctrine. As an epistemological doctrine, idealism shares a great deal with both empiricism and rationalism. Some of the most famous empiricists have been classified as idealists .\\n',\n",
       " 'Some of the most famous forms of idealism include <a href=\"/wiki/Transcendental_idealism\" title=\"Transcendental idealism\">transcendental idealism</a> .\\n',\n",
       " '<a href=\"/wiki/Indian_philosophy\" title=\"Indian philosophy\">Indian schools of philosophy</a>, such as the <a href=\"/wiki/Hindu_philosophy\" title=\"Hindu philosophy\">Hindu</a> <a href=\"/wiki/Nyaya\" title=\"Nyaya\">Nyaya</a> and <a href=\"/wiki/Carvaka\" class=\"mw-redirect\" title=\"Carvaka\">Carvaka</a> schools, and the <a href=\"/wiki/Jain_philosophy\" title=\"Jain philosophy\">Jain</a> and <a href=\"/wiki/Buddhist_philosophy\" title=\"Buddhist philosophy\">Buddhist</a> philosophical schools, developed an epistemological tradition independently of the Western philosophical tradition called \"pramana\". Pramana can be translated as \"instrument of knowledge\" and refers to various means or sources of knowledge that Indian philosophers held to be reliable. Each school of Indian philosophy had their own theories about which pramanas were valid means to knowledge and which were unreliable .<sup id=\"cite_ref-90\" class=\"reference\"><a href=\"#cite_note-90\">&#91;86&#93;</a></sup><sup id=\"cite_ref-91\" class=\"reference\"><a href=\"#cite_note-91\">&#91;87&#93;</a></sup>\\n',\n",
       " 'In the Indian traditions, the most widely discussed pramanas are: <i>Pratyakṣa</i>  generally accepted only perception and inference. The <a href=\"/wiki/Carvaka\" class=\"mw-redirect\" title=\"Carvaka\">Carvaka</a> school of <a href=\"/wiki/Materialists\" class=\"mw-redirect\" title=\"Materialists\">materialists</a> only accepted the pramana of perception, and hence were among the first <a href=\"/wiki/Empiricists\" class=\"mw-redirect\" title=\"Empiricists\">empiricists</a> in the Indian traditions.<sup id=\"cite_ref-94\" class=\"reference\"><a href=\"#cite_note-94\">&#91;90&#93;</a></sup> Another school, the <a href=\"/wiki/Aj%C3%B1ana\" title=\"Ajñana\">Ajñana</a>, included notable proponents of <a href=\"/wiki/Philosophical_skepticism\" title=\"Philosophical skepticism\">philosophical skepticism</a>.\\n',\n",
       " 'The <a href=\"/wiki/Buddhist_philosophy#Epistemology\" title=\"Buddhist philosophy\">theory of knowledge of the Buddha</a> in the early Buddhist texts has been interpreted as a form of pragmatism as well as a form of correspondence theory.<sup id=\"cite_ref-95\" class=\"reference\"><a href=\"#cite_note-95\">&#91;91&#93;</a></sup>  Likewise, the Buddhist philosopher <a href=\"/wiki/Dharmakirti\" title=\"Dharmakirti\">Dharmakirti</a> has been interpreted both as holding a form of pragmatism or correspondence theory for his view that what is true is what has effective power  meanwhile has been interpreted as a form of <a href=\"/wiki/Philosophical_skepticism\" title=\"Philosophical skepticism\">philosophical skepticism</a>.<sup id=\"cite_ref-98\" class=\"reference\"><a href=\"#cite_note-98\">&#91;94&#93;</a></sup>\\n',\n",
       " 'The main contribution to epistemology by the Jains has been their theory of \"many sided-ness\" or \"multi-perspectivism\" .<sup id=\"cite_ref-99\" class=\"reference\"><a href=\"#cite_note-99\">&#91;95&#93;</a></sup> This has been interpreted as a kind of pluralism or <a href=\"/wiki/Perspectivism\" title=\"Perspectivism\">perspectivism</a>.<sup id=\"cite_ref-100\" class=\"reference\"><a href=\"#cite_note-100\">&#91;96&#93;</a></sup><sup id=\"cite_ref-101\" class=\"reference\"><a href=\"#cite_note-101\">&#91;97&#93;</a></sup> According to <a href=\"/wiki/Jain_epistemology\" title=\"Jain epistemology\">Jain epistemology</a>, none of the pramanas gives absolute or perfect knowledge since they are each limited points of view.\\n',\n",
       " 'Social epistemology deals with questions about knowledge in contexts where our knowledge attributions cannot be explained by simply examining individuals in isolation from one another, meaning that the scope of our knowledge attributions must be widened to include broader social contexts.<sup id=\"cite_ref-SEP_social_102-0\" class=\"reference\"><a href=\"#cite_note-SEP_social-102\">&#91;98&#93;</a></sup> It also explores the ways in which interpersonal beliefs can be justified in social contexts.<sup id=\"cite_ref-SEP_social_102-1\" class=\"reference\"><a href=\"#cite_note-SEP_social-102\">&#91;98&#93;</a></sup> The most common topics discussed in contemporary social epistemology are <a href=\"/wiki/Testimony\" title=\"Testimony\">testimony</a>, which deals with the conditions under which a belief \"x is true\" which resulted from being told \"x is true\" constitutes knowledge; peer disagreement, which deals with when and how I should revise my beliefs in light of other people holding beliefs that contradict mine; and group epistemology, which deals with what it means to attribute knowledge to groups rather than individuals, and when group knowledge attributions are appropriate.\\n',\n",
       " 'Formal epistemology uses formal tools and methods from <a href=\"/wiki/Decision_theory\" title=\"Decision theory\">decision theory</a>, <a href=\"/wiki/Logic\" title=\"Logic\">logic</a>, <a href=\"/wiki/Probability_theory\" title=\"Probability theory\">probability theory</a> and <a href=\"/wiki/Computability_theory\" title=\"Computability theory\">computability theory</a> to model and reason about issues of epistemological interest.<sup id=\"cite_ref-SEP_Formal_103-0\" class=\"reference\"><a href=\"#cite_note-SEP_Formal-103\">&#91;99&#93;</a></sup> Work in this area spans several academic fields, including <a href=\"/wiki/Philosophy\" title=\"Philosophy\">philosophy</a>, <a href=\"/wiki/Computer_science\" title=\"Computer science\">computer science</a>, <a href=\"/wiki/Economics\" title=\"Economics\">economics</a>, and <a href=\"/wiki/Statistics\" title=\"Statistics\">statistics</a>. The focus of formal epistemology has tended to differ somewhat from that of traditional epistemology, with topics like uncertainty, induction, and belief revision garnering more attention than the analysis of knowledge, skepticism, and issues with justification.\\n',\n",
       " 'Metaepistemology is the <a href=\"/wiki/Metaphilosophical\" class=\"mw-redirect\" title=\"Metaphilosophical\">metaphilosophical</a> study of the <a href=\"/wiki/Philosophical_method\" class=\"mw-redirect\" title=\"Philosophical method\">methods</a>, aims, and subject matter of epistemology.<sup id=\"cite_ref-IEP_Meta_104-0\" class=\"reference\"><a href=\"#cite_note-IEP_Meta-104\">&#91;100&#93;</a></sup> In general, metaepistemology aims to better understand our first-order epistemological inquiry. Some goals of metaepistemology are identifying inaccurate assumptions made in epistemological debates and determining whether the questions asked in mainline epistemology are the <i>right</i> epistemological questions to be asking.\\n']"
      ]
     },
     "execution_count": 38,
     "metadata": {},
     "output_type": "execute_result"
    }
   ],
   "source": [
    "url = \"https://en.wikipedia.org/wiki/Epistemology\"\n",
    "\n",
    "pax = re.compile(r'<a href=\"([^#]*?)\".*?>(.*?)</a>', re.DOTALL)\n",
    "\n",
    "response = requests.get(url)\n",
    "html = response.text\n",
    "\n",
    "html = re. sub('\\(.*\\)', '', response.text)\n",
    "\n",
    "pp.findall(html)\n"
   ]
  },
  {
   "cell_type": "code",
   "execution_count": 51,
   "metadata": {},
   "outputs": [
    {
     "data": {
      "text/plain": [
       "['/wiki/Vine',\n",
       " '/wiki/Apocynaceae',\n",
       " '/wiki/Indomalaya',\n",
       " '/wiki/Australasia',\n",
       " '/wiki/Melanesia',\n",
       " '#cite_note-u-1',\n",
       " '/wiki/Leaf',\n",
       " '#cite_note-NSW-2',\n",
       " '/wiki/Latex',\n",
       " '#cite_note-NSW-2',\n",
       " '#cite_note-NSW-2',\n",
       " '/wiki/Robert_Brown_(botanist,_born_1773)',\n",
       " '/wiki/Wernerian_Natural_History_Society',\n",
       " '#cite_note-APNI-3',\n",
       " '/wiki/James_Parsons_(physician)',\n",
       " '/wiki/Royal_Society',\n",
       " '#cite_note-4',\n",
       " '/wiki/Conserved_name',\n",
       " '/wiki/Homonym',\n",
       " '/wiki/Patrick_Browne',\n",
       " '/wiki/Lythraceae',\n",
       " '/wiki/Cuphea',\n",
       " '#cite_note-GRIN-5',\n",
       " '/wiki/Artia_(plant)',\n",
       " '/wiki/Prestonia_(plant)',\n",
       " '#cite_note-6',\n",
       " '#cite_note-7',\n",
       " '#cite_note-u-1',\n",
       " '#cite_note-18',\n",
       " '#cite_note-FONZ-11']"
      ]
     },
     "execution_count": 51,
     "metadata": {},
     "output_type": "execute_result"
    }
   ],
   "source": [
    "txt = ''.join(pp.findall(html))\n",
    "pax.findall(txt)"
   ]
  },
  {
   "cell_type": "code",
   "execution_count": 108,
   "metadata": {},
   "outputs": [
    {
     "name": "stdout",
     "output_type": "stream",
     "text": [
      "[master 9cbf06d] web\n",
      " 1 file changed, 84 insertions(+), 182 deletions(-)\n",
      "Counting objects: 4, done.\n",
      "Delta compression using up to 12 threads.\n",
      "Compressing objects: 100% (4/4), done.\n",
      "Writing objects: 100% (4/4), 1.64 KiB | 838.00 KiB/s, done.\n",
      "Total 4 (delta 3), reused 0 (delta 0)\n",
      "remote: Resolving deltas: 100% (3/3), completed with 3 local objects.\u001b[K\n",
      "To https://github.com/macbuse/macbuse.github.io.git\n",
      "   3057a2c..9cbf06d  master -> master\n"
     ]
    }
   ],
   "source": [
    "! ../.g"
   ]
  },
  {
   "cell_type": "code",
   "execution_count": null,
   "metadata": {},
   "outputs": [],
   "source": []
  }
 ],
 "metadata": {
  "kernelspec": {
   "display_name": "Python 3 (ipykernel)",
   "language": "python",
   "name": "python3"
  },
  "language_info": {
   "codemirror_mode": {
    "name": "ipython",
    "version": 3
   },
   "file_extension": ".py",
   "mimetype": "text/x-python",
   "name": "python",
   "nbconvert_exporter": "python",
   "pygments_lexer": "ipython3",
   "version": "3.9.12"
  },
  "widgets": {
   "application/vnd.jupyter.widget-state+json": {
    "state": {},
    "version_major": 2,
    "version_minor": 0
   }
  }
 },
 "nbformat": 4,
 "nbformat_minor": 4
}
