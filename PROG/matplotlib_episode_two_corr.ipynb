{
 "cells": [
  {
   "cell_type": "markdown",
   "metadata": {},
   "source": [
    "# Matplotlib 2 : notes and corrections\n",
    "\n",
    "Last time we used ```matplotlib```\n",
    "to draw graphs of functions and smooth curves.\n",
    "\n",
    "This time we'll draw:\n",
    "\n",
    "- fractals\n",
    "- trees\n",
    "\n",
    "---\n",
    "## Boolean masks\n",
    "\n",
    "We'll also do:\n",
    "\n",
    "- some boolean masks\n",
    "\n",
    "and we'll start with some number theory.\n",
    "\n",
    "---\n",
    "\n",
    "##  Affine transformations\n",
    "\n",
    "$$\\vec{v} \\mapsto A.\\vec{v} + \\vec{b}$$\n",
    "\n",
    "read [this](https://fr.wikipedia.org/wiki/Application_affine) - it is more complete in [english](https://en.wikipedia.org/wiki/Affine_transformation)\n",
    "\n",
    "\n",
    "![img](./fern.png)\n",
    "\n",
    "---\n",
    "\n",
    "## Exo:\n",
    "\n",
    "rewrite  the functions below using recursion where \n",
    "there is a comment like\n",
    "\n",
    "```# exo : rewrite me using recursion```\n",
    "\n",
    "---\n",
    "## Un peu d'art\n",
    "\n",
    "http://fichiers.vanlindt.be/Les%20fractales%20dans%20la%20cr%C3%A9ation%20graphique.pdf\n"
   ]
  },
  {
   "cell_type": "code",
   "execution_count": 12,
   "metadata": {},
   "outputs": [
    {
     "name": "stdout",
     "output_type": "stream",
     "text": [
      "[master fee4cb6] web\n",
      " 2 files changed, 88 insertions(+), 45 deletions(-)\n",
      "Enumerating objects: 9, done.\n",
      "Counting objects: 100% (9/9), done.\n",
      "Delta compression using up to 4 threads\n",
      "Compressing objects: 100% (5/5), done.\n",
      "Writing objects: 100% (5/5), 1.42 KiB | 69.00 KiB/s, done.\n",
      "Total 5 (delta 4), reused 0 (delta 0)\n",
      "remote: Resolving deltas: 100% (4/4), completed with 4 local objects.\u001b[K\n",
      "To https://github.com/macbuse/macbuse.github.io.git\n",
      "   e386b2b..fee4cb6  master -> master\n"
     ]
    }
   ],
   "source": [
    "! ../.g"
   ]
  },
  {
   "cell_type": "code",
   "execution_count": 3,
   "metadata": {},
   "outputs": [],
   "source": [
    "import numpy as np\n",
    "import matplotlib.pyplot as plt\n",
    "\n",
    "#using cplx numbers\n",
    "def plt_cplx(Z, \n",
    "             ax=plt, \n",
    "             sty='r'):\n",
    "    X = [z.real for z in Z]\n",
    "    Y = [z.imag for z in Z] \n",
    "    ax.plot(X,Y,sty)"
   ]
  },
  {
   "cell_type": "markdown",
   "metadata": {},
   "source": [
    "# Boolean masks\n",
    "\n",
    "Before we start do you understand how this works ?\n",
    "\n",
    "---\n",
    "\n",
    "## Crible d'Ératosthène\n",
    "\n",
    "Le crible d'Ératosthène est un procédé qui permet de trouver tous les nombres premiers inférieurs à un certain entier naturel donné N. Le crible d'Atkin est plus rapide mais plus complexe.\n"
   ]
  },
  {
   "cell_type": "code",
   "execution_count": 5,
   "metadata": {},
   "outputs": [],
   "source": [
    "#https://stackoverflow.com/questions/2068372/fastest-way-to-list-all-primes-below-n\n",
    "def primes(n):\n",
    "    \"\"\" Returns  array of primes, 2 <= p < n \"\"\"\n",
    "    sieve = np.ones(n, dtype=np.bool)\n",
    "    sieve[::2] = False\n",
    "    for i in range(3, int(np.sqrt(n))+1, 2):\n",
    "        if sieve[i]:\n",
    "            sieve[i*i::i] = False\n",
    "    return np.nonzero(sieve)[0][1:]"
   ]
  },
  {
   "cell_type": "markdown",
   "metadata": {},
   "source": [
    "- nbre premier > 2 => impaire, de la forme : \n",
    "    - soit 4k + 1\n",
    "    - soit 4k + 3\n",
    "---\n",
    "we'll use boolean masks to study these:\n",
    "\n",
    "```P[P % 4 == 1]```\n",
    "is just like<br>\n",
    "```[ x for x in P if x % 4 == 1]```<br>\n",
    "but \n",
    "```P % 4 == 1``` is a ```np.array```\n",
    "\n",
    "it's a [boolean mask](https://jakevdp.github.io/PythonDataScienceHandbook/02.06-boolean-arrays-and-masks.html).\n",
    "\n",
    "\n",
    "Watch the end of the  [video](https://machinelearnia.com/numpy/#indexing)\n",
    "to understand them."
   ]
  },
  {
   "cell_type": "code",
   "execution_count": 6,
   "metadata": {},
   "outputs": [],
   "source": [
    "P = primes(1000000)\n",
    "X,Y = P[P % 4 == 1], P[P % 4 == 3]"
   ]
  },
  {
   "cell_type": "code",
   "execution_count": 7,
   "metadata": {},
   "outputs": [
    {
     "data": {
      "text/plain": [
       "(array([False,  True, False, ...,  True, False, False]), (78497,))"
      ]
     },
     "execution_count": 7,
     "metadata": {},
     "output_type": "execute_result"
    }
   ],
   "source": [
    "P % 4 == 1, (P % 4 == 1).shape"
   ]
  },
  {
   "cell_type": "markdown",
   "metadata": {},
   "source": [
    "##  Biais de Tchebychev\n",
    "\n",
    "En mathématiques,\n",
    "et plus particulièrement en théorie des nombres, \n",
    "**le biais de Tchebychev** est la remarque selon laquelle, la plupart du temps, il y a plus de nombres premiers de la forme 4k + 3 que de la forme 4k + 1. Ce phénomène fut remarqué pour la première fois par Pafnouti Tchebychev en 18531, mais il n'en existe pas encore de démonstration rigoureuse.\n",
    "\n",
    "[source: wiki](https://fr.wikipedia.org/wiki/Biais_de_Tchebychev)"
   ]
  },
  {
   "cell_type": "code",
   "execution_count": 21,
   "metadata": {},
   "outputs": [
    {
     "data": {
      "text/plain": [
       "(39175, 39322)"
      ]
     },
     "execution_count": 21,
     "metadata": {},
     "output_type": "execute_result"
    }
   ],
   "source": [
    "len(X), len(Y)"
   ]
  },
  {
   "cell_type": "code",
   "execution_count": 8,
   "metadata": {},
   "outputs": [
    {
     "data": {
      "image/png": "[encoded data removed]",
      "text/plain": [
       "<Figure size 432x288 with 1 Axes>"
      ]
     },
     "metadata": {
      "needs_background": "light"
     },
     "output_type": "display_data"
    }
   ],
   "source": [
    "num = min(len(X),len(Y))\n",
    "X, Y= X[:num],Y[:num]\n",
    "plt.plot(X[:num],Y[:num]);"
   ]
  },
  {
   "cell_type": "code",
   "execution_count": 116,
   "metadata": {},
   "outputs": [
    {
     "data": {
      "text/plain": [
       "LinregressResult(slope=0.9975682879416617, intercept=-452.5357710691751, rvalue=0.9999978491984912, pvalue=0.0, stderr=1.0453580864150768e-05)"
      ]
     },
     "execution_count": 116,
     "metadata": {},
     "output_type": "execute_result"
    }
   ],
   "source": [
    "from scipy.stats import linregress\n",
    "linregress(X,Y)"
   ]
  },
  {
   "cell_type": "code",
   "execution_count": 92,
   "metadata": {},
   "outputs": [
    {
     "data": {
      "image/png": "[encoded data removed]",
      "text/plain": [
       "<Figure size 432x288 with 1 Axes>"
      ]
     },
     "metadata": {
      "needs_background": "light"
     },
     "output_type": "display_data"
    }
   ],
   "source": [
    "plt.plot(X - Y);"
   ]
  },
  {
   "cell_type": "markdown",
   "metadata": {},
   "source": [
    "## Exo : verifier\n",
    "\n",
    "26 861 est le plus petit nombre premier x pour lequel \n",
    "- π(x; 4, 1) > π(x; 4, 3) \n",
    "\n",
    "— ce qui fut observé par John Leech en 1957 — et le suivant est 616 841"
   ]
  },
  {
   "cell_type": "markdown",
   "metadata": {},
   "source": [
    "---\n",
    "\n",
    "## Solution\n",
    "\n",
    "- Here is the solution we discussed in class.\n",
    "- There is a better, faster solution below.\n"
   ]
  },
  {
   "cell_type": "code",
   "execution_count": 13,
   "metadata": {},
   "outputs": [
    {
     "data": {
      "text/plain": [
       "(array([26862, 26863]),)"
      ]
     },
     "execution_count": 13,
     "metadata": {},
     "output_type": "execute_result"
    }
   ],
   "source": [
    "arr = [ len(X[X < n]) > len(Y[Y < n]) for n in range(30000)]\n",
    "arr = np.array(arr)\n",
    "np.nonzero(arr)"
   ]
  },
  {
   "cell_type": "markdown",
   "metadata": {},
   "source": [
    "## Visualize this\n",
    "\n",
    "here is a better solution.\n",
    "\n",
    "- start by drawing the graph with $y = 0$\n",
    "- then find the value where the graph with $y = 0$ crosses the line"
   ]
  },
  {
   "cell_type": "code",
   "execution_count": 9,
   "metadata": {},
   "outputs": [
    {
     "data": {
      "image/png": "[encoded data removed]",
      "text/plain": [
       "<Figure size 432x288 with 1 Axes>"
      ]
     },
     "metadata": {
      "needs_background": "light"
     },
     "output_type": "display_data"
    }
   ],
   "source": [
    "plt.plot(X - Y)\n",
    "plt.plot([0,40000],[0,0],'r');\n",
    "plt.title('where does the graph cross y=0?');"
   ]
  },
  {
   "cell_type": "code",
   "execution_count": 32,
   "metadata": {},
   "outputs": [
    {
     "data": {
      "text/plain": [
       "26861"
      ]
     },
     "execution_count": 32,
     "metadata": {},
     "output_type": "execute_result"
    }
   ],
   "source": [
    "diffs = X - Y\n",
    "X[diffs < 0][0]"
   ]
  },
  {
   "cell_type": "markdown",
   "metadata": {},
   "source": [
    "---\n",
    "\n",
    "\n",
    "# Fractals, recursion, etc.\n",
    "\n",
    "\n",
    "## Escalier de Cantor\n",
    "\n",
    "L'escalier de Cantor, ou l'escalier du diable, <br>\n",
    "est le graphe d'une fonction f continue croissante sur $[0, 1]$, <br>\n",
    "telle que \n",
    "1. f(0) = 0 et f(1) = 1,\n",
    "1. qui est dérivable presque partout\n",
    "1. la dérivée étant presque partout nulle. \n",
    "\n",
    "Il s'agit cependant d'une fonction \n",
    "- continue\n",
    "- uniforment continue \n",
    "- mais pas absolument continue.\n",
    "\n",
    "[Source : Wiki](https://fr.wikipedia.org/wiki/Escalier_de_Cantor)\n",
    "\n",
    "---\n",
    "\n",
    "- On va programmer sa [construction](https://fr.wikipedia.org/wiki/Escalier_de_Cantor#Construction) \n",
    "- [voir aussi](https://www-fourier.ujf-grenoble.fr/~mcshane/programming.html).\n",
    "\n",
    "## Construction\n",
    "\n",
    "$f = \\lim f_n$ : \n",
    "\n",
    "- $f_n: [0,1] \\rightarrow [0,1]$\n",
    "- $f_n$ croissante\n",
    "- $f_n$ [affine par morceau](https://fr.wikipedia.org/wiki/Fonction_affine_par_morceaux)\n",
    "- [\"auto similaire\"](https://fr.wikipedia.org/wiki/Autosimilarit%C3%A9)\n",
    "\n",
    "On va tracer le graphe de $f_n$.\n",
    "Dans la suite l'array Z contient les points\n",
    "de discontinuité de $f_n$.\n",
    "\n",
    "---"
   ]
  },
  {
   "cell_type": "markdown",
   "metadata": {},
   "source": [
    "## MANDELBROT ET DÉFINITION\n",
    "\n",
    "### Def : auto-similaire\n",
    "Une fractale est un objet géométrique **auto-similaire** ou invariant par changement d'échelle : si on zoome sur une partie de la figure, on retrouve la figure entière.\n",
    "On attribue la découverte des fractales au français Benoît Mandelbrot (1899-1983).\n",
    "\n",
    "---\n",
    "\n",
    "En mathématiques, l'ensemble de Mandelbrot est une fractale définie comme l'ensemble des points c du plan complexe pour lesquels la suite de nombres complexes définie par récurrence par :\n",
    "\n",
    "$$\n",
    "\\begin{cases}\n",
    "z_0=0\\\\\n",
    "z_{n+1}=z_n^2+c\n",
    "\\end{cases}$$\n",
    "est bornée.\n",
    "\n",
    "[Discussion mandelbrot set and python](https://github.com/macbuse/just-math/blob/master/mandelbrot.ipynb)\n",
    "\n",
    "<img src=\"https://upload.wikimedia.org/wikipedia/commons/e/e3/Benoit_Mandelbrot%2C_TED_2010.jpg\" width=\"300\">\n",
    "\n",
    "---\n",
    "\n",
    "## Approximations, self similar sets\n",
    "\n",
    "Let $\\phi,\\psi : \\mathbb{R}^n \\rightarrow \\mathbb{R}^n $\n",
    "be affine transformations:\n",
    "\n",
    "- start with a set $S_0$\n",
    "- $S_{n+1} = \\phi(S_n) \\cup \\psi(S_{n+1})$\n",
    "- fractal is the *limit* $S_\\infty := \\lim_{n \\rightarrow \\infty} S_n$\n",
    "\n",
    "On a $$\\phi(S_\\infty) = S_\\infty =  \\psi(S_\\infty)$$.\n",
    "\n",
    "---\n",
    "### Example of this construction in 3D:\n",
    "\n",
    "*En mathématiques, et plus précisément en topologie, la sphère cornue d'Alexander est un célèbre exemple de surface pathologique ; elle fut découverte en 1923 par J. W. Alexander.*\n",
    "\n",
    "[Source: Wiki](https://fr.wikipedia.org/wiki/Sph%C3%A8re_cornue_d%27Alexander).\n",
    "\n",
    "\n",
    "\n",
    " <img src=\"./horned_sphere.png\" width=\"400\">\n",
    "\n",
    "[Horned Sphere in 3D viewer](https://github.com/macbuse/horned-sphere/blob/master/alexanderSphere2019.stl)\n",
    "\n",
    "\n",
    "\n",
    "\n"
   ]
  },
  {
   "cell_type": "code",
   "execution_count": 36,
   "metadata": {},
   "outputs": [],
   "source": [
    "def showGph(pts, \n",
    "            ax=plt):\n",
    "    xs,ys = zip(*pts) #this transposes the array\n",
    "    ax.plot(xs, ys)\n",
    "\n",
    "#transformations affine\n",
    "def L(pts):\n",
    "    return [ (x/3.0, y/2.0) for x,y in pts]\n",
    "    \n",
    "def R(pts):\n",
    "    return [ (x/3.0 + 2./3, y/2.0 + .5) \n",
    "                for x,y in pts]\n",
    "\n",
    "# draw the graph\n",
    "def staircase(d):\n",
    "    # exo : rewrite me using recursion\n",
    "    S_n = [(0,0),(1,1)]\n",
    "    for i in range(d):\n",
    "        # \\phi(S_n) U \\psi(S_n)\n",
    "        S_n = L(S_n) + R(S_n)\n",
    "    return S_n"
   ]
  },
  {
   "cell_type": "markdown",
   "metadata": {},
   "source": [
    "---\n",
    "\n",
    "## Solution : recursive version"
   ]
  },
  {
   "cell_type": "code",
   "execution_count": 17,
   "metadata": {},
   "outputs": [],
   "source": [
    "def staircase(n):\n",
    "    if n == 0:\n",
    "        return [(0,0),(1,1)]\n",
    "    S_n_1 = staircase(n-1)\n",
    "    return L(S_n_1) + R(S_n_1)\n",
    "    "
   ]
  },
  {
   "cell_type": "markdown",
   "metadata": {},
   "source": [
    "---"
   ]
  },
  {
   "cell_type": "code",
   "execution_count": 43,
   "metadata": {},
   "outputs": [
    {
     "data": {
      "image/png": "[encoded data removed]",
      "text/plain": [
       "<Figure size 576x576 with 1 Axes>"
      ]
     },
     "metadata": {
      "needs_background": "light"
     },
     "output_type": "display_data"
    }
   ],
   "source": [
    "fig, ax = plt.subplots()\n",
    "fig.set_size_inches(8,8)\n",
    "ax.set_aspect('equal')\n",
    "\n",
    "Z = staircase(5)\n",
    "showGph(Z,ax=ax)\n",
    "showGph(Z[-32:],ax=ax)\n",
    "showGph(Z[:32], ax=ax)"
   ]
  },
  {
   "cell_type": "markdown",
   "metadata": {},
   "source": [
    "## Derivative\n",
    "\n",
    "the function is piecewise linear and \n",
    "we can  easilcalculate the derivative y using ```numpy```\n"
   ]
  },
  {
   "cell_type": "code",
   "execution_count": 44,
   "metadata": {},
   "outputs": [
    {
     "data": {
      "text/plain": [
       "array([7.59375, 0.     , 7.59375, 0.     , 7.59375, 0.     , 7.59375,\n",
       "       0.     , 7.59375, 0.     , 7.59375, 0.     , 7.59375, 0.     ,\n",
       "       7.59375, 0.     , 7.59375, 0.     , 7.59375, 0.     , 7.59375,\n",
       "       0.     , 7.59375, 0.     , 7.59375, 0.     , 7.59375, 0.     ,\n",
       "       7.59375, 0.     , 7.59375, 0.     , 7.59375, 0.     , 7.59375,\n",
       "       0.     , 7.59375, 0.     , 7.59375, 0.     , 7.59375, 0.     ,\n",
       "       7.59375, 0.     , 7.59375, 0.     , 7.59375, 0.     , 7.59375,\n",
       "       0.     , 7.59375, 0.     , 7.59375, 0.     , 7.59375, 0.     ,\n",
       "       7.59375, 0.     , 7.59375, 0.     , 7.59375, 0.     , 7.59375])"
      ]
     },
     "execution_count": 44,
     "metadata": {},
     "output_type": "execute_result"
    }
   ],
   "source": [
    "Z = np.array(Z)\n",
    "diffs = Z[1:] - Z[:-1]\n",
    "x_delta, y_delta = diffs[:,0], diffs[:,1]\n",
    "y_delta/x_delta"
   ]
  },
  {
   "cell_type": "markdown",
   "metadata": {},
   "source": [
    "La fonction continue qui a pour graphe l'escalier du diable n'est pas absolument continue : l'image de l'ensemble de Cantor, qui est de **mesure nulle**, est $[0,1]$ tout entier.\n",
    "\n",
    "[à lire](https://fr.wikipedia.org/wiki/Absolue_continuit%C3%A9#Exemples_et_contre-exemples)\n",
    "\n"
   ]
  },
  {
   "cell_type": "code",
   "execution_count": 37,
   "metadata": {},
   "outputs": [
    {
     "name": "stdout",
     "output_type": "stream",
     "text": [
      "1.0\n",
      "1.5\n",
      "2.2500000000000013\n",
      "3.3750000000000053\n",
      "5.062500000000023\n",
      "7.59375000000024\n",
      "11.390625000000359\n",
      "17.085937500003304\n"
     ]
    }
   ],
   "source": [
    "slopes = []\n",
    "for k in range(8):\n",
    "    Z = staircase(k)\n",
    "    Z = np.array(Z)\n",
    "    diffs = Z[1:] - Z[:-1]\n",
    "    x_delta, y_delta = diffs[:,0], diffs[:,1]\n",
    "    max_slope = max(y_delta/x_delta)\n",
    "    print(max_slope)\n",
    "    slopes.append(max_slope)"
   ]
  },
  {
   "cell_type": "code",
   "execution_count": 38,
   "metadata": {},
   "outputs": [
    {
     "data": {
      "image/png": "[encoded data removed]",
      "text/plain": [
       "<Figure size 432x288 with 1 Axes>"
      ]
     },
     "metadata": {
      "needs_background": "light"
     },
     "output_type": "display_data"
    }
   ],
   "source": [
    "plt.plot(slopes);\n",
    "plt.title('Exponential growth?');"
   ]
  },
  {
   "cell_type": "code",
   "execution_count": 39,
   "metadata": {},
   "outputs": [
    {
     "data": {
      "image/png": "[encoded data removed]",
      "text/plain": [
       "<Figure size 432x288 with 1 Axes>"
      ]
     },
     "metadata": {
      "needs_background": "light"
     },
     "output_type": "display_data"
    }
   ],
   "source": [
    "plt.plot(np.log(slopes));\n",
    "plt.title('Exponential growth of max derivative');"
   ]
  },
  {
   "cell_type": "code",
   "execution_count": 41,
   "metadata": {},
   "outputs": [
    {
     "data": {
      "text/plain": [
       "LinregressResult(slope=0.40546510810818354, intercept=-3.419486915845482e-14, rvalue=1.0, pvalue=2.5000000000000343e-60, stderr=0.0)"
      ]
     },
     "execution_count": 41,
     "metadata": {},
     "output_type": "execute_result"
    }
   ],
   "source": [
    "from scipy.stats import linregress\n",
    "\n",
    "result = linregress(np.arange(len(slopes)), np.log(slopes) )\n",
    "result"
   ]
  },
  {
   "cell_type": "markdown",
   "metadata": {},
   "source": [
    "## Exo : expliquer ce calcul. "
   ]
  },
  {
   "cell_type": "code",
   "execution_count": 42,
   "metadata": {},
   "outputs": [
    {
     "data": {
      "text/plain": [
       "1.5000000000000286"
      ]
     },
     "execution_count": 42,
     "metadata": {},
     "output_type": "execute_result"
    }
   ],
   "source": [
    "np.exp( result.slope)"
   ]
  },
  {
   "cell_type": "markdown",
   "metadata": {},
   "source": [
    "## Exo : \n",
    "Calculer la longueur totale des intervales ou la derivée de l'approximation $f_n' > 0$.\n",
    "\n",
    "\n",
    "---\n",
    "\n",
    "## Solution :\n",
    "\n",
    "\n",
    "\n",
    "$L_n :=$ la longueur totale\n",
    "\n",
    "$L_0 = 1,\\\\ L_{n+1} = \\frac23 L_n$\n"
   ]
  },
  {
   "cell_type": "code",
   "execution_count": 54,
   "metadata": {},
   "outputs": [
    {
     "name": "stdout",
     "output_type": "stream",
     "text": [
      "1\n",
      "0.6666666666666667\n",
      "0.4444444444444444\n",
      "0.2962962962962963\n",
      "0.19753086419753088\n",
      "0.13168724279835384\n",
      "0.08779149519890239\n"
     ]
    }
   ],
   "source": [
    "for n in range(7):\n",
    "    Z = np.array(staircase(n))\n",
    "    diffs = Z[1:] - Z[:-1]\n",
    "    x_delta, y_delta = diffs[:,0], diffs[:,1]\n",
    "    # x_delta > 0 so f' > = <=> y_delta > 0\n",
    "    print(sum(x_delta[y_delta  > 0]))"
   ]
  },
  {
   "cell_type": "markdown",
   "metadata": {},
   "source": [
    "---\n",
    "## Graph using numpy"
   ]
  },
  {
   "cell_type": "code",
   "execution_count": 223,
   "metadata": {},
   "outputs": [
    {
     "data": {
      "text/plain": [
       "array([[0.33333333, 0.        ],\n",
       "       [0.        , 0.5       ]])"
      ]
     },
     "execution_count": 223,
     "metadata": {},
     "output_type": "execute_result"
    }
   ],
   "source": [
    "M = np.diag([1/3,1/2])\n",
    "M"
   ]
  },
  {
   "cell_type": "code",
   "execution_count": 224,
   "metadata": {},
   "outputs": [
    {
     "data": {
      "text/plain": [
       "array([[0., 1.],\n",
       "       [0., 1.]])"
      ]
     },
     "execution_count": 224,
     "metadata": {},
     "output_type": "execute_result"
    }
   ],
   "source": [
    "Z = np.ones((2,2))\n",
    "Z[:,0] = 0\n",
    "Z"
   ]
  },
  {
   "cell_type": "code",
   "execution_count": 225,
   "metadata": {},
   "outputs": [],
   "source": [
    "# affine transformations\n",
    "L = np.dot(M,Z)\n",
    "R = np.dot(M,Z) + np.array([2/3,1/2]).reshape(-1,1)\n",
    "Z = np.hstack((L,R))"
   ]
  },
  {
   "cell_type": "code",
   "execution_count": 226,
   "metadata": {},
   "outputs": [
    {
     "data": {
      "text/plain": [
       "array([[0.66666667],\n",
       "       [0.5       ]])"
      ]
     },
     "execution_count": 226,
     "metadata": {},
     "output_type": "execute_result"
    }
   ],
   "source": [
    "# row vector -> col vector\n",
    "np.array([2/3,1/2]).reshape(-1,1)"
   ]
  },
  {
   "cell_type": "code",
   "execution_count": 24,
   "metadata": {},
   "outputs": [],
   "source": [
    "def staircase2(d):\n",
    "    fig, ax = plt.subplots()\n",
    "    fig.set_size_inches(4,4)\n",
    "    ax.set_aspect('equal')\n",
    "\n",
    "    M = np.diag([1/3,1/2])\n",
    "    #first approximation\n",
    "    Z = np.ones((2,2))\n",
    "    Z[:,0] = 0\n",
    "    \n",
    "    approx = [Z]\n",
    "    #make d approximations\n",
    "    for i in range(d):\n",
    "        #affine transforms\n",
    "        L = np.dot(M,Z)\n",
    "        R = np.dot(M,Z) + np.array([2/3,1/2]).reshape(-1,1)\n",
    "        #put the two together\n",
    "        Z = np.hstack((L,R))\n",
    "        approx.append(Z)\n",
    "        \n",
    "        ax.plot(Z[0],Z[1])\n",
    "        \n",
    "    return approx\n",
    "        "
   ]
  },
  {
   "cell_type": "code",
   "execution_count": 25,
   "metadata": {
    "scrolled": true
   },
   "outputs": [
    {
     "data": {
      "image/png": "[encoded data removed]",
      "text/plain": [
       "<Figure size 288x288 with 1 Axes>"
      ]
     },
     "metadata": {
      "needs_background": "light"
     },
     "output_type": "display_data"
    }
   ],
   "source": [
    "ff = staircase2(7)"
   ]
  },
  {
   "cell_type": "markdown",
   "metadata": {},
   "source": [
    "## Convergence\n",
    "\n",
    "Easy to see that, since $f_k$ is piecewise affine\n",
    "\n",
    "- $\\sup |f_n - f_{n+1}|$\n",
    "\n",
    "occurs at a pt where $f_{n+1}$ isn't differentiable"
   ]
  },
  {
   "cell_type": "code",
   "execution_count": 251,
   "metadata": {},
   "outputs": [
    {
     "name": "stdout",
     "output_type": "stream",
     "text": [
      "0.16666666666666663\n",
      "0.08333333333333331\n",
      "0.04166666666666674\n",
      "0.02083333333333348\n",
      "0.010416666666666713\n",
      "0.005208333333333592\n",
      "0.002604166666667518\n"
     ]
    }
   ],
   "source": [
    "diffs = []\n",
    "for k, f in enumerate(ff[:-1]):\n",
    "    X, Y = f\n",
    "    #f_n is piecewise linear \n",
    "    #so do an interpolation\n",
    "    #to get values \n",
    "    diff = max(np.interp(ff[k+1][0], X, Y) - ff[k+1][1])\n",
    "    diffs.append(diff)\n",
    "    print(diff)"
   ]
  },
  {
   "cell_type": "markdown",
   "metadata": {},
   "source": [
    "## what is the rate of convergence ?\n"
   ]
  },
  {
   "cell_type": "code",
   "execution_count": 253,
   "metadata": {},
   "outputs": [
    {
     "data": {
      "image/png": "[encoded data removed]",
      "text/plain": [
       "<Figure size 432x288 with 1 Axes>"
      ]
     },
     "metadata": {
      "needs_background": "light"
     },
     "output_type": "display_data"
    }
   ],
   "source": [
    "plt.plot(np.log(diffs));"
   ]
  },
  {
   "cell_type": "markdown",
   "metadata": {},
   "source": [
    "---\n",
    "\n",
    "## Flocon de Koch\n",
    "\n",
    "Le flocon de Koch est l'une des premières courbes fractales à avoir été décrites <br>\n",
    "(bien avant l'invention du terme « fractal(e) »).\n",
    "**LOL**\n",
    "\n",
    "Elle a été inventée en 1904 par le mathématicien suédois Helge von Koch.\n",
    "\n",
    "[wiki](https://fr.wikipedia.org/wiki/Flocon_de_Koch)\n",
    "\n",
    "[Pour savoir plus](https://fr.wikipedia.org/wiki/Flocon_de_Koch#Courbe_de_Koch)\n",
    "\n"
   ]
  },
  {
   "cell_type": "code",
   "execution_count": 22,
   "metadata": {},
   "outputs": [
    {
     "data": {
      "image/png": "[encoded data removed]",
      "text/plain": [
       "<Figure size 864x864 with 1 Axes>"
      ]
     },
     "metadata": {
      "needs_background": "light"
     },
     "output_type": "display_data"
    }
   ],
   "source": [
    "Z = [-1, 1J*np.sqrt(3) , 1]\n",
    "Z = [-1] + [z/3 for z in Z] + [1]\n",
    "\n",
    "RR = (Z[-2] - Z[2])/2\n",
    "CR = (Z[-2] + Z[2])/2\n",
    "\n",
    "def R(Z):\n",
    "    return [RR*z + CR for z in Z]\n",
    "    \n",
    "RL = (- Z[1] +  Z[2])/2\n",
    "CL = (Z[1] + Z[2])/2\n",
    "\n",
    "def L(Z):\n",
    "    return [RL*z + CL for z in Z]\n",
    "\n",
    "fig, ax = plt.subplots()\n",
    "fig.set_size_inches(12,12)\n",
    "ax.set_aspect('equal')\n",
    "\n",
    "for i in range(5):\n",
    "    Z = [-1] + L(Z) + R(Z) + [1]\n",
    "plt_cplx(Z,ax=ax, sty='b')\n"
   ]
  },
  {
   "cell_type": "markdown",
   "metadata": {},
   "source": [
    "## Exo : \n",
    "1. Calculer la longueur totale de chaque approximation.\n",
    "1. Decrire le comportement de la suite des longueurs.\n"
   ]
  },
  {
   "cell_type": "markdown",
   "metadata": {},
   "source": [
    "## Animated etc.\n",
    "\n",
    "https://github.com/macbuse/koch/blob/master/koch.ipynb"
   ]
  },
  {
   "cell_type": "markdown",
   "metadata": {},
   "source": [
    "---\n",
    "\n",
    "# Exo\n",
    "\n",
    "The code in the next cell makes some of the holes in \n",
    "[tapis de Sierpiński](https://fr.wikipedia.org/wiki/Tapis_de_Sierpi%C5%84ski)\n",
    "\n",
    "1. Fix the code so that it makes the tapis. **solution** add the line '''trans.extend([[2,2],[2,-2], [-2,2], [-2,-2]])'''\n",
    "1. Rewrite it using recursion.\n",
    "1. Change it to make a [triangle de Sierpiński](https://fr.wikipedia.org/wiki/Triangle_de_Sierpi%C5%84ski).\n",
    "1. What about [this](https://images.math.cnrs.fr/Decouper-au-laser-son-tapis-de-Sierpinski.html?lang=fr)?\n",
    "1. Rewrite this using the trick at the end of this notebook.\n",
    "\n",
    "---\n",
    "\n",
    "Le tapis de Sierpiński (1916), du nom de Wacław Sierpiński, est une fractale obtenue à partir d'un carré. Le tapis se fabrique en découpant le carré en neuf carrés égaux avec une grille de trois par trois, et en supprimant la pièce centrale, et en appliquant \n",
    "cette procédure indéfiniment aux huit carrés restants.\n",
    "\n",
    "<img src=\"https://upload.wikimedia.org/wikipedia/commons/2/2d/Sierpinski_carpet_5.svg\" width=\"300\">"
   ]
  },
  {
   "cell_type": "code",
   "execution_count": 1,
   "metadata": {},
   "outputs": [],
   "source": [
    "import numpy as np\n",
    "import matplotlib.pyplot as plt\n"
   ]
  },
  {
   "cell_type": "code",
   "execution_count": 95,
   "metadata": {},
   "outputs": [
    {
     "data": {
      "image/png": "[encoded data removed]",
      "text/plain": [
       "<Figure size 864x864 with 1 Axes>"
      ]
     },
     "metadata": {
      "needs_background": "light"
     },
     "output_type": "display_data"
    }
   ],
   "source": [
    "fig, ax = plt.subplots()\n",
    "fig.set_size_inches(12,12)\n",
    "ax.set_aspect('equal')\n",
    "\n",
    "trans = [[0,2],[0,-2], [2,0], [-2,0]]\n",
    "#I didn't put in the corners, here they are\n",
    "trans.extend([[2,2],[2,-2], [-2,2], [-2,-2]])\n",
    "trans = np.array(trans)\n",
    "\n",
    "#corners of a square\n",
    "X = [1,-1,-1, 1]\n",
    "Y = [1, 1, -1, -1]\n",
    "motif = np.array([X,Y])\n",
    "\n",
    "holes = [motif]\n",
    "for level in range(3):\n",
    "    # have to use a temporary list\n",
    "    # otherwise the for loop will not work\n",
    "    tmp =[]\n",
    "    for sq in holes:\n",
    "        # apply affine transformations\n",
    "        # what happens if I change 3 ?\n",
    "        tmp.extend([ v.reshape(-1,1) + sq/3\n",
    "                 for v in trans])\n",
    "    holes.extend(tmp)\n",
    "    \n",
    "\n",
    "for sq in holes: \n",
    "    ax.fill( sq[0], sq[1],'k');"
   ]
  },
  {
   "cell_type": "markdown",
   "metadata": {},
   "source": [
    "## Recursion \n",
    "\n",
    "- '''motif''' and '''trans''' are ***global***\n",
    "\n",
    "this is **bad**."
   ]
  },
  {
   "cell_type": "code",
   "execution_count": 96,
   "metadata": {},
   "outputs": [
    {
     "data": {
      "image/png": "[encoded data removed]",
      "text/plain": [
       "<Figure size 432x432 with 1 Axes>"
      ]
     },
     "metadata": {
      "needs_background": "light"
     },
     "output_type": "display_data"
    }
   ],
   "source": [
    "def tapis(n):\n",
    "    if n == 0:\n",
    "        return [motif]\n",
    "    \n",
    "    holes, tmp = tapis(n-1), []\n",
    "    for sq in holes:\n",
    "        tmp.extend([ v.reshape(-1,1) + sq/3\n",
    "                 for v in trans])\n",
    "    \n",
    "    tmp.extend(holes)\n",
    "    return tmp\n",
    "\n",
    "fig, ax = plt.subplots()\n",
    "fig.set_size_inches(6,6)\n",
    "ax.set_aspect('equal')\n",
    "\n",
    "for sq in tapis(3): \n",
    "    plt.fill( sq[0], sq[1],'k');"
   ]
  },
  {
   "cell_type": "code",
   "execution_count": null,
   "metadata": {},
   "outputs": [],
   "source": []
  },
  {
   "cell_type": "markdown",
   "metadata": {},
   "source": [
    "---\n",
    "\n",
    "# Un arbre\n",
    "\n",
    "En informatique, un [arbre binaire](https://fr.wikipedia.org/wiki/Arbre_binaire#:~:text=En%20informatique%2C%20un%20arbre%20binaire,n%C5%93ud%20initial%20%C3%A9tant%20appel%C3%A9%20racine.)\n",
    "est une structure de données qui peut se représenter sous la forme d'une hiérarchie dont chaque élément est appelé nœud, le nœud initial étant appelé racine. Dans un arbre binaire, chaque élément possède au plus deux éléments fils au niveau inférieur, habituellement appelés gauche et droit. Du point de vue de ces éléments fils, l'élément dont ils sont issus au niveau supérieur est appelé père.\n"
   ]
  },
  {
   "cell_type": "markdown",
   "metadata": {},
   "source": [
    "For to make things neater I'll use \n",
    "- ```map``` to [avoid loops](https://realpython.com/python-map-function/)\n",
    "- ```lambda``` to [create temporary functions](https://medium.com/better-programming/lambda-map-and-filter-in-python-4935f248593)\n"
   ]
  },
  {
   "cell_type": "code",
   "execution_count": 172,
   "metadata": {},
   "outputs": [
    {
     "data": {
      "image/png": "[encoded data removed]",
      "text/plain": [
       "<Figure size 432x288 with 1 Axes>"
      ]
     },
     "metadata": {
      "needs_background": "light"
     },
     "output_type": "display_data"
    }
   ],
   "source": [
    "tree = [np.array([-1+1J, -1, 1, 1+1J ])]\n",
    "\n",
    "for k in range(4):\n",
    "    \n",
    "    RB = list(map(lambda z: z/2 -1+1J, tree))\n",
    "    LB = list(map(lambda z: z/2 +1+1J, tree))\n",
    "    tree = tree + RB + LB\n",
    "    \n",
    "cols = 'rgb'\n",
    "for k, edge in enumerate(tree):\n",
    "    plt_cplx(edge, sty=cols[k%3])"
   ]
  },
  {
   "cell_type": "markdown",
   "metadata": {},
   "source": [
    "## Exo : explain the colors"
   ]
  },
  {
   "cell_type": "markdown",
   "metadata": {},
   "source": [
    "---\n",
    "\n",
    "# Exemples d'arbres  1\n",
    "\n",
    "## Arbre de Stern-Brocot\n",
    "\n",
    "En mathématiques, [l'arbre de Stern-Brocot](https://fr.wikipedia.org/wiki/Arbre_de_Stern-Brocot) est une représentation de tous les rationnels strictement positifs, sous forme de fractions irréductibles.\n",
    "\n",
    "Il a été découvert presque simultanément par le mathématicien allemand Moritz Stern (1858) et par l'horloger français Achille Brocot (1861).\n",
    "\n",
    "## Énumération des rationnels\n",
    "\n",
    "La propriété fondamentale de l'arbre de Stern-Brocot est qu'il contient toutes les fractions irréductibles strictement positives une et une seule fois chacune. On en déduit un procédé pour numéroter tous les rationnels positifs, c'est-à-dire une bijection des rationnels positifs sur les entiers naturels positifs. En bref on associe à un rationnel l'entier dont la représentation en base 2 code le chemin de la racine de l'arbre au rationnel choisi.\n",
    "\n",
    "**Source : Wiki**\n"
   ]
  },
  {
   "cell_type": "markdown",
   "metadata": {},
   "source": [
    "---\n",
    "\n",
    "# Exemples d'arbres  2\n",
    "\n",
    "##  Suites de Farey\n",
    "\n",
    "En mathématiques, [la suite de Farey](https://fr.wikipedia.org/wiki/Suite_de_Farey)\n",
    "d'ordre n est la suite des fractions irréductibles comprises entre 0 et 1, ordonnées en croissant et dont le dénominateur est inférieur ou égal à n. Certains auteurs ne restreignent pas les suites de Farey à l'intervalle de 0 à 1.\n",
    "\n",
    "Chaque suite de Farey commence avec la valeur 0, décrite par la fraction 0/1, et finit avec la valeur 1, décrite par la fraction 1/1 (bien que certains auteurs omettent ces termes). Une suite de Farey est quelquefois appelée série de Farey, ce qui n'est pas véritablement correct, les termes n'étant pas additionnés.\n",
    "\n",
    "---\n",
    "\n",
    "Écrire une fonction Python ```inseremedians``` qui prend comme argument une liste de couples d’entiers  et renvoit la liste de couples où, comme décrit ci-dessus, $m_i$ est le médian de $c_i$ et $c_{i+1}$. \n",
    "\n",
    "[Source : TP](https://www.normalesup.org/~glafon/eiffel16/TPnotecor.pdf)\n",
    "\n",
    "En déduire une fonction Farey(n) qui prend comme argument un entier n et renvoit la suite de\n",
    "Farey $F_n$.\n",
    "\n",
    "---\n",
    "\n",
    "## Solution ?\n",
    "\n",
    "We are going to study the problem below and give a solution.\n",
    "\n",
    "I'm interested in **seeing** the solution so at every stage \n",
    "we'll try and draw something to represent the answer.\n",
    "\n",
    "This is called [Data Visualisation](https://en.wikipedia.org/wiki/Data_visualization).\n",
    "\n",
    "---\n",
    "\n",
    "[This is interesting](https://hal.archives-ouvertes.fr/hal-00765981/document) but has nothing to do with the class."
   ]
  },
  {
   "cell_type": "code",
   "execution_count": 97,
   "metadata": {},
   "outputs": [
    {
     "data": {
      "text/plain": [
       "array([[0, 1],\n",
       "       [1, 1]])"
      ]
     },
     "execution_count": 97,
     "metadata": {},
     "output_type": "execute_result"
    }
   ],
   "source": [
    "F_n = np.array([[0,1], [1,1]])\n",
    "F_n"
   ]
  },
  {
   "cell_type": "markdown",
   "metadata": {},
   "source": [
    "the median is"
   ]
  },
  {
   "cell_type": "code",
   "execution_count": 98,
   "metadata": {},
   "outputs": [
    {
     "data": {
      "text/plain": [
       "array([[1, 2]])"
      ]
     },
     "execution_count": 98,
     "metadata": {},
     "output_type": "execute_result"
    }
   ],
   "source": [
    "F_n[:-1] + F_n[1:]"
   ]
  },
  {
   "cell_type": "markdown",
   "metadata": {},
   "source": [
    "in numpy we can do the insertion using indices like this"
   ]
  },
  {
   "cell_type": "code",
   "execution_count": 99,
   "metadata": {},
   "outputs": [
    {
     "data": {
      "text/plain": [
       "array([[0., 1.],\n",
       "       [1., 2.],\n",
       "       [1., 1.]])"
      ]
     },
     "execution_count": 99,
     "metadata": {},
     "output_type": "execute_result"
    }
   ],
   "source": [
    "tmp = np.zeros((2*F_n.shape[0]-1,2))\n",
    "tmp[::2,] = F_n\n",
    "tmp[1::2,] = F_n[:-1] + F_n[1:]\n",
    "tmp"
   ]
  },
  {
   "cell_type": "markdown",
   "metadata": {},
   "source": [
    "## The function  using numpy\n",
    "\n",
    "Compare with [this](https://fr.wikipedia.org/wiki/Suite_de_Farey#Un_algorithme_simple)"
   ]
  },
  {
   "cell_type": "code",
   "execution_count": 107,
   "metadata": {},
   "outputs": [
    {
     "data": {
      "text/plain": [
       "array([[0, 1],\n",
       "       [1, 1]])"
      ]
     },
     "execution_count": 107,
     "metadata": {},
     "output_type": "execute_result"
    }
   ],
   "source": [
    "def Farey(n):\n",
    "    F_n = np.array([[0,1], [1,1]])\n",
    "    for k in range(n):\n",
    "        tmp = np.zeros((2*F_n.shape[0]-1,2))\n",
    "        # copy F_n in \n",
    "        tmp[::2,] = F_n\n",
    "        # add medians in\n",
    "        tmp[1::2,] = F_n[:-1] + F_n[1:]\n",
    "        F_n = tmp\n",
    "    return F_n\n",
    "\n",
    "Farey(0)"
   ]
  },
  {
   "cell_type": "code",
   "execution_count": 105,
   "metadata": {},
   "outputs": [
    {
     "data": {
      "text/plain": [
       "array([0., 1., 1., 2., 1., 3., 2., 3., 1., 4., 3., 5., 2., 5., 3., 4., 1.])"
      ]
     },
     "execution_count": 105,
     "metadata": {},
     "output_type": "execute_result"
    }
   ],
   "source": [
    "rats = Farey(4)\n",
    "nums, denoms = rats[:,0], rats[:,1]\n",
    "nums"
   ]
  },
  {
   "cell_type": "markdown",
   "metadata": {},
   "source": [
    "## Visualising the tree structure "
   ]
  },
  {
   "cell_type": "code",
   "execution_count": 61,
   "metadata": {},
   "outputs": [
    {
     "data": {
      "image/png": "[encoded data removed]",
      "text/plain": [
       "<Figure size 432x288 with 1 Axes>"
      ]
     },
     "metadata": {
      "needs_background": "light"
     },
     "output_type": "display_data"
    }
   ],
   "source": [
    "rats = np.array([[0,1], [1,1]])\n",
    "for k in range(6):\n",
    "    tmp = np.zeros((2*rats.shape[0]-1,2))\n",
    "    tmp[::2,] = rats\n",
    "    tmp[1::2,] = rats[:-1] + rats[1:]\n",
    "    #fracs = rats[:,0]/rats[:,1]\n",
    "    fracs = tmp[1::2,0]/tmp[1::2,1]\n",
    "    plt.plot(fracs, k*np.ones_like(fracs), 'rx')\n",
    "    rats = tmp"
   ]
  },
  {
   "cell_type": "code",
   "execution_count": 229,
   "metadata": {},
   "outputs": [
    {
     "data": {
      "text/plain": [
       "65"
      ]
     },
     "execution_count": 229,
     "metadata": {},
     "output_type": "execute_result"
    }
   ],
   "source": [
    "len(rats)"
   ]
  },
  {
   "cell_type": "code",
   "execution_count": 232,
   "metadata": {},
   "outputs": [
    {
     "data": {
      "text/plain": [
       "array([[ 0.,  1.],\n",
       "       [ 1.,  6.],\n",
       "       [ 1.,  5.],\n",
       "       [ 2.,  9.],\n",
       "       [ 1.,  4.],\n",
       "       [ 3., 11.],\n",
       "       [ 2.,  7.],\n",
       "       [ 3., 10.],\n",
       "       [ 1.,  3.],\n",
       "       [ 4., 11.]])"
      ]
     },
     "execution_count": 232,
     "metadata": {},
     "output_type": "execute_result"
    }
   ],
   "source": [
    "rats[::2][:10]"
   ]
  },
  {
   "cell_type": "code",
   "execution_count": 75,
   "metadata": {},
   "outputs": [
    {
     "data": {
      "image/png": "[encoded data removed]",
      "text/plain": [
       "<Figure size 432x288 with 1 Axes>"
      ]
     },
     "metadata": {
      "needs_background": "light"
     },
     "output_type": "display_data"
    }
   ],
   "source": [
    "tmp = np.copy(rats)\n",
    "k = 0\n",
    "while tmp.shape[0] > 2:\n",
    "    fracs = tmp[1::2,0]/tmp[1::2,1]\n",
    "    plt.plot(fracs, k*np.ones_like(fracs), 'ro')\n",
    "    tmp = tmp[::2]\n",
    "    k += 1\n",
    "    "
   ]
  },
  {
   "cell_type": "markdown",
   "metadata": {},
   "source": [
    "##  Recursion\n",
    "\n",
    "If one looks carefully one sees \n",
    "that the k-th element of $F_n$\n",
    "is just the 2k-th element of $F_{n+1}$\n",
    "\n",
    "\n",
    "$$(F_{n+1})_{2k} = (F_n)_k $$\n",
    "\n",
    "$$(F_{n+1})_{2k+1} = (F_n)_k  + (F_n)_{k+1}$$\n"
   ]
  },
  {
   "cell_type": "code",
   "execution_count": 30,
   "metadata": {},
   "outputs": [],
   "source": [
    "def F(n):\n",
    "    if n == 0:\n",
    "         return np.array([[0,1], [1,1]]).astype(np.int)\n",
    "    #F_n-1 is not a valid variable name\n",
    "    F_n_1 = F(n-1)\n",
    "    F_n = np.zeros((2*F_n_1.shape[0]-1,2), dtype=np.int)\n",
    "    F_n[::2,] = F_n_1\n",
    "    F_n[1::2,] = F_n_1[:-1] + F_n_1[1:]\n",
    "    return F_n"
   ]
  },
  {
   "cell_type": "code",
   "execution_count": 34,
   "metadata": {},
   "outputs": [
    {
     "data": {
      "text/plain": [
       "17"
      ]
     },
     "execution_count": 34,
     "metadata": {},
     "output_type": "execute_result"
    }
   ],
   "source": []
  },
  {
   "cell_type": "markdown",
   "metadata": {},
   "source": [
    "---\n",
    "\n",
    "## Conjecture \n",
    "\n",
    "[Tirée dans le TP](https://www.normalesup.org/~glafon/eiffel16/TPnote.pdf)\n",
    "\n",
    "*On fait la conjecture suivante : dans la suite de Farey $F_n$, <br>\n",
    "les valeurs prises par la fonction evalue\n",
    "sur chacun  <br>des couples de la suite sont strictement croissantes:*\n",
    "\n",
    "$$(F_n)_k < (F_n)_{k+1}$$\n",
    "\n",
    "\n"
   ]
  },
  {
   "cell_type": "code",
   "execution_count": 80,
   "metadata": {},
   "outputs": [],
   "source": [
    "F_n = F(8)\n",
    "fracs = F_n[:,0]/F_n[:,1]"
   ]
  },
  {
   "cell_type": "code",
   "execution_count": 108,
   "metadata": {},
   "outputs": [],
   "source": [
    "diffs = fracs[1:] - fracs[:-1] "
   ]
  },
  {
   "cell_type": "markdown",
   "metadata": {},
   "source": [
    "## Check no values < 0\n",
    "\n",
    "The conjecture is true because the result of ```diffs[diffs < 0 ]``` is an empty array.\n",
    "\n",
    "## Boolean masks again\n",
    "\n",
    "\n",
    "- ```diffs < 0```\n",
    "- ```diffs > 0```\n",
    "\n",
    "are [boolean masks](https://jakevdp.github.io/PythonDataScienceHandbook/02.06-boolean-arrays-and-masks.html).\n",
    "\n",
    "[Regarder la video](https://machinelearnia.com/numpy/#indexing)\n",
    "\n",
    "\n",
    "---\n",
    "\n"
   ]
  },
  {
   "cell_type": "code",
   "execution_count": 83,
   "metadata": {},
   "outputs": [
    {
     "data": {
      "text/plain": [
       "array([], dtype=float64)"
      ]
     },
     "execution_count": 83,
     "metadata": {},
     "output_type": "execute_result"
    }
   ],
   "source": [
    "diffs[diffs < 0 ]"
   ]
  },
  {
   "cell_type": "code",
   "execution_count": 24,
   "metadata": {},
   "outputs": [
    {
     "data": {
      "text/plain": [
       "array([0.2       , 0.05      , 0.03571429, 0.04761905, 0.04166667,\n",
       "       0.025     , 0.02857143, 0.07142857, 0.07142857, 0.02857143,\n",
       "       0.025     , 0.04166667, 0.04761905, 0.03571429, 0.05      ,\n",
       "       0.2       ])"
      ]
     },
     "execution_count": 24,
     "metadata": {},
     "output_type": "execute_result"
    }
   ],
   "source": [
    "diffs[diffs > 0 ]"
   ]
  },
  {
   "cell_type": "markdown",
   "metadata": {},
   "source": [
    "## Graph of ```diffs```\n",
    "\n",
    "[lire si vous avez le temps](https://fr.wikipedia.org/wiki/Approximation_diophantienne#Position_du_probl%C3%A8me_sur_la_droite_r%C3%A9elle)"
   ]
  },
  {
   "cell_type": "code",
   "execution_count": 87,
   "metadata": {},
   "outputs": [
    {
     "data": {
      "text/plain": [
       "Text(0.5, 1.0, 'Rational numbers are badly approximated.')"
      ]
     },
     "execution_count": 87,
     "metadata": {},
     "output_type": "execute_result"
    },
    {
     "data": {
      "image/png": "[encoded data removed]",
      "text/plain": [
       "<Figure size 432x288 with 1 Axes>"
      ]
     },
     "metadata": {
      "needs_background": "light"
     },
     "output_type": "display_data"
    }
   ],
   "source": [
    "plt.plot(diffs);\n",
    "plt.title('Rational numbers are badly approximated.')"
   ]
  },
  {
   "cell_type": "markdown",
   "metadata": {},
   "source": [
    "#  Exo\n",
    "\n",
    "[Tirée dans le TP](https://www.normalesup.org/~glafon/eiffel16/TPnote.pdf)\n",
    "\n",
    "Écrire une fonction Python ```appartient_farey(x,n)``` \n",
    "qui détermine si le\n",
    "nombre flottant x correspond à la valeur evalue($c_i$) pour un des couples d’entiers $c_i$ de la\n",
    "suite de Farey $F_n$. \n",
    "\n",
    "La fonction renverra bien sûr True si c’est le cas, False sinon.\n",
    "\n",
    "---\n",
    "\n",
    "## Solution:\n",
    "\n",
    "- stage 0 : $0 < x < 1$ = > return 0 and  (arbitrary choice)\n",
    "- stage n+1 : $a < x < b$  and $c:=$ median of $a,b$\n",
    "    - => return $a,c$ if $a < x < c$ \n",
    "    - => return $c,b$ if $c < x < b$ "
   ]
  },
  {
   "cell_type": "code",
   "execution_count": 10,
   "metadata": {},
   "outputs": [],
   "source": [
    "def interval(x, n):\n",
    "    if n == 0:\n",
    "        # returning 2 objects\n",
    "        return np.array([[0,1], [1,1]]), []\n",
    "    \n",
    "    tmp, medians = interval(x, n-1)\n",
    "    median = tmp[0] + tmp[1]\n",
    "    medians.append(median)\n",
    "    if median[0]/median[1] < x:\n",
    "        tmp[0] = median\n",
    "    else:\n",
    "        tmp[1] = median\n",
    "    return tmp, medians"
   ]
  },
  {
   "cell_type": "code",
   "execution_count": 11,
   "metadata": {},
   "outputs": [
    {
     "data": {
      "text/plain": [
       "array([0.61764706, 0.61818182])"
      ]
     },
     "execution_count": 11,
     "metadata": {},
     "output_type": "execute_result"
    }
   ],
   "source": [
    "uu, medians = interval((np.sqrt(5) - 1)/2, 8)\n",
    "uu[:,0]/uu[:,1]"
   ]
  },
  {
   "cell_type": "markdown",
   "metadata": {},
   "source": [
    "## Visualizing the solution\n",
    "\n",
    "Trace the path of medians in the tree.\n",
    "\n",
    "- do you recognise the numbers ```medians[:,0]``` ?\n",
    "\n",
    "- 1,  2,  3,  5,  8, 13, 21, 34,..."
   ]
  },
  {
   "cell_type": "code",
   "execution_count": 13,
   "metadata": {},
   "outputs": [
    {
     "data": {
      "text/plain": [
       "array([0.5       , 0.66666667, 0.6       , 0.625     , 0.61538462,\n",
       "       0.61904762, 0.61764706, 0.61818182])"
      ]
     },
     "execution_count": 13,
     "metadata": {},
     "output_type": "execute_result"
    }
   ],
   "source": [
    "medians = np.array(medians)\n",
    "mfracs = medians[:,0]/medians[:,1] \n",
    "mfracs"
   ]
  },
  {
   "cell_type": "code",
   "execution_count": 25,
   "metadata": {},
   "outputs": [
    {
     "data": {
      "text/plain": [
       "array([ 1,  2,  3,  5,  8, 13, 21, 34])"
      ]
     },
     "execution_count": 25,
     "metadata": {},
     "output_type": "execute_result"
    }
   ],
   "source": [
    "medians[:,0]"
   ]
  },
  {
   "cell_type": "code",
   "execution_count": 24,
   "metadata": {},
   "outputs": [
    {
     "data": {
      "image/png": "[encoded data removed]",
      "text/plain": [
       "<Figure size 864x864 with 1 Axes>"
      ]
     },
     "metadata": {
      "needs_background": "light"
     },
     "output_type": "display_data"
    }
   ],
   "source": [
    "\n",
    "fig, ax = plt.subplots()\n",
    "fig.set_size_inches(12,12)\n",
    "\n",
    "# \"bo\" is bighger than \"r.\"\n",
    "ax.plot(mfracs, np.arange(len(mfracs)) );\n",
    "ax.plot(mfracs, np.arange(len(mfracs)), \"bo\" );\n",
    "\n",
    "rats = np.array([[0,1], [1,1]])\n",
    "for k in range(8):\n",
    "    tmp = np.zeros((2*rats.shape[0]-1,2))\n",
    "    tmp[::2,] = rats\n",
    "    tmp[1::2,] = rats[:-1] + rats[1:]\n",
    "    #fracs = rats[:,0]/rats[:,1]\n",
    "    fracs = tmp[1::2,0]/tmp[1::2,1]\n",
    "    ax.plot(fracs, k*np.ones_like(fracs), 'r.')\n",
    "    rats = tmp\n",
    "    \n",
    "for h, pt in enumerate(medians): \n",
    "    x,y = pt  \n",
    "    label = \"{}/{}\".format(x,y)\n",
    "\n",
    "    ax.annotate(label, # this is the text\n",
    "                 (x/y, h), # this is the point to label\n",
    "                 textcoords=\"offset points\", # how to position the text\n",
    "                 xytext=(5,-12), # distance from text to points (x,y) : not same units\n",
    "                 ha='left') # horizontal alignment can be left, right or center\n",
    "\n"
   ]
  },
  {
   "cell_type": "markdown",
   "metadata": {},
   "source": [
    "## Visualising adjacent numbers"
   ]
  },
  {
   "cell_type": "code",
   "execution_count": 15,
   "metadata": {},
   "outputs": [
    {
     "data": {
      "image/png": "[encoded data removed]",
      "text/plain": [
       "<Figure size 432x288 with 1 Axes>"
      ]
     },
     "metadata": {
      "needs_background": "light"
     },
     "output_type": "display_data"
    }
   ],
   "source": [
    "motif = np.array([-.5, .5J,.5])\n",
    "\n",
    "tt = F(3)\n",
    "fracs = tt[:,0]/tt[:,1]\n",
    "diams = fracs[1:] - fracs[:-1] \n",
    "centres = .5*(fracs[1:] + fracs[:-1])\n",
    "\n",
    "circles = [d*motif + c for c,d in zip(centres,diams)]\n",
    "for cc in circles:\n",
    "    plt_cplx(cc)   \n"
   ]
  },
  {
   "cell_type": "markdown",
   "metadata": {},
   "source": [
    "## Exo : \n",
    "\n",
    "- make the code cleaner using ```np.diff```\n",
    "\n",
    "- change the array ```C``` above and make something like this\n",
    "<img src=\"https://upload.wikimedia.org/wikipedia/commons/9/91/Farey_diagram_horizontal_arc_9.svg\"\n",
    "     width = \"600\">\n",
    " - draw the [cercles de Ford](https://fr.wikipedia.org/wiki/Suite_de_Farey#Cercles_de_Ford)\n",
    " \n",
    " ---\n",
    "\n",
    "## Solution :\n",
    "\n",
    "- To draw a semicircle add the code\n",
    "\n",
    "``` \n",
    "T = np.linspace(np.pi, 0, 20)\n",
    "motif = np.exp(1J*T)/2\n",
    "```\n",
    "\n",
    "- I've added labels too\n"
   ]
  },
  {
   "cell_type": "code",
   "execution_count": 305,
   "metadata": {},
   "outputs": [
    {
     "data": {
      "image/png": "[encoded data removed]",
      "text/plain": [
       "<Figure size 1152x576 with 1 Axes>"
      ]
     },
     "metadata": {
      "needs_background": "light"
     },
     "output_type": "display_data"
    }
   ],
   "source": [
    "fig, ax = plt.subplots()\n",
    "fig.set_size_inches(16,8)\n",
    "ax.axis('off')\n",
    "\n",
    "#motif = np.array([-.5, -.2+.1J, .2+.1J, .5])\n",
    "\n",
    "T = np.linspace(np.pi, 0, 20)\n",
    "motif = np.exp(1J*T)/2\n",
    "#choose a color scheme\n",
    "cols = 'ryb'\n",
    "\n",
    "\n",
    "depth = 4\n",
    "pts = F(depth)\n",
    "F_n =np.copy(pts)\n",
    "\n",
    "for k in range(depth+1):\n",
    "    fracs = F_n[:,0]/F_n[:,1]\n",
    "    \n",
    "    diams = fracs[1:] - fracs[:-1] \n",
    "    centres = .5*(fracs[1:] + fracs[:-1])\n",
    "    circles = [d*motif + c for c,d in zip(centres, diams)]\n",
    "    \n",
    "    color = cols[k % len(cols)]\n",
    "    for cc in circles:\n",
    "        plt_cplx(cc,sty=color,ax=ax)\n",
    "        \n",
    "    F_n = F_n[::2]\n",
    "    \n",
    "        \n",
    "for pt in pts: \n",
    "    x,y = pt  \n",
    "    label = \"{}\\n{}\".format(x,y)\n",
    "\n",
    "    ax.annotate(label, # this is the text\n",
    "                 (x/y, 0), # this is the point to label\n",
    "                 textcoords=\"offset points\", # how to position the text\n",
    "                 xytext=(0,-25), # distance from text to points (x,y) : not same units\n",
    "                 ha='center') # horizontal alignment can be left, right or center\n",
    "\n"
   ]
  },
  {
   "cell_type": "code",
   "execution_count": 126,
   "metadata": {},
   "outputs": [
    {
     "data": {
      "text/plain": [
       "(1.0, 1.0)"
      ]
     },
     "execution_count": 126,
     "metadata": {},
     "output_type": "execute_result"
    }
   ],
   "source": [
    "x,y = pt\n",
    "x,y"
   ]
  },
  {
   "cell_type": "markdown",
   "metadata": {},
   "source": []
  }
 ],
 "metadata": {
  "kernelspec": {
   "display_name": "Python 3",
   "language": "python",
   "name": "python3"
  },
  "language_info": {
   "codemirror_mode": {
    "name": "ipython",
    "version": 3
   },
   "file_extension": ".py",
   "mimetype": "text/x-python",
   "name": "python",
   "nbconvert_exporter": "python",
   "pygments_lexer": "ipython3",
   "version": "3.8.3"
  }
 },
 "nbformat": 4,
 "nbformat_minor": 4
}
