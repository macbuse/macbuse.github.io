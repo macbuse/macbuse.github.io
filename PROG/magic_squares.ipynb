{
 "cells": [
  {
   "cell_type": "markdown",
   "id": "2fa30c39-6d6f-403b-b128-fefbddf122a0",
   "metadata": {},
   "source": [
    "# Magic squares\n",
    "---"
   ]
  },
  {
   "cell_type": "markdown",
   "id": "db9356bc-59a6-45f3-a56a-0da3adaae63d",
   "metadata": {},
   "source": [
    "## So it was Halloween\n",
    "\n",
    "and I decided to do some [magic squares]() for an exam\n",
    "\n",
    "I trolled (sic) around the internet and found some **dumb** code :\n",
    "\n",
    "- https://www.codespeedy.com/magic-square-identification-in-python/\n",
    "- https://www.w3resource.com/python-exercises/math/python-math-exercise-20.php\n",
    "\n",
    "This is better but still **far** from optimal\n",
    "\n",
    "- https://scipython.com/book/chapter-6-numpy/examples/creating-a-magic-square/\n",
    "\n",
    "And this is a good idea but the execution **sucks**\n",
    "\n",
    "https://medium.com/swlh/python-code-to-find-total-number-of-magic-squares-of-order-3-and-4-11be1376e5cd\n",
    "\n",
    "---\n",
    "\n",
    "my version below doesn't produce a **truly magic** square for every parameter value of\n",
    "\n",
    "- ```seed```  (not true, I screwed up here)\n",
    "- ```offset```\n",
    "as the diagonals don't add up right every time but it's very cute.\n",
    "\n",
    "```\n",
    "seed = 8\n",
    "seed_row = ( seed*np.arange(0,7) + 1) % 49\n",
    "offset = 3 # must be != 0\n",
    "```\n",
    "\n",
    "and I think it get's them all up to the action of the permutation group."
   ]
  },
  {
   "cell_type": "code",
   "execution_count": 356,
   "id": "ef4c628a-4acd-4cd4-ad80-875116bbf78c",
   "metadata": {},
   "outputs": [
    {
     "name": "stdout",
     "output_type": "stream",
     "text": [
      "[[4 3 2 1 0]\n",
      " [2 1 0 4 3]\n",
      " [0 4 3 2 1]\n",
      " [3 2 1 0 4]\n",
      " [1 0 4 3 2]]\n"
     ]
    }
   ],
   "source": [
    "#Function\n",
    "# https://www.codespeedy.com/magic-square-identification-in-python/\n",
    "\n",
    "import numpy as np\n",
    "\n",
    "def generateSquare(n): \n",
    "    # 2-D array with all  \n",
    "    # slots set to 0 \n",
    "    magicSquare = np.zeros((n,n),dtype=np.int16)\n",
    "    # initialize position of 1 \n",
    "    i = n // 2\n",
    "    j = n - 1\n",
    "    # Fill the square by placing values \n",
    "    num = 1\n",
    "    while num <= (n * n): \n",
    "        if i == -1 and j == n: # 3rd condition \n",
    "            j = n - 2\n",
    "            i = 0\n",
    "        else:  \n",
    "            # next number goes out of \n",
    "            # right side of square  \n",
    "            if j == n: \n",
    "                j = 0    \n",
    "            # next number goes  \n",
    "            # out of upper side \n",
    "            if i < 0: \n",
    "                i = n - 1\n",
    "        if magicSquare[int(i),int(j)]: # 2nd condition \n",
    "            j = j - 2\n",
    "            i = i + 1\n",
    "            continue\n",
    "        else: \n",
    "            magicSquare[int(i),int(j)] = num \n",
    "            num = num + 1\n",
    "        j = j + 1\n",
    "        i = i - 1 # 1st condition \n",
    "\n",
    "    return magicSquare\n",
    "\n",
    "# Driver Code \n",
    "# Works only when n is odd \n",
    "n= 5\n",
    "print(generateSquare(n) % 5)"
   ]
  },
  {
   "cell_type": "code",
   "execution_count": 751,
   "id": "d7e066b6-c072-400f-9f3f-74bca76633b7",
   "metadata": {},
   "outputs": [
    {
     "name": "stdout",
     "output_type": "stream",
     "text": [
      "[[2 4 6 1 3 5 0]\n",
      " [3 5 0 2 4 6 1]\n",
      " [4 6 1 3 5 0 2]\n",
      " [5 0 2 4 6 1 3]\n",
      " [6 1 3 5 0 2 4]\n",
      " [0 2 4 6 1 3 5]\n",
      " [1 3 5 0 2 4 6]]\n"
     ]
    }
   ],
   "source": [
    "#https://scipython.com/book/chapter-6-numpy/examples/creating-a-magic-square/\n",
    "\n",
    "import numpy as np\n",
    "N  = 7\n",
    "magic_square = np.zeros((N,N), dtype=int)\n",
    "\n",
    "n = 1\n",
    "i, j = 0, N//2\n",
    "\n",
    "while n <= N**2:\n",
    "    magic_square[i, j] = n\n",
    "    n += 1\n",
    "    newi, newj = (i-1) % N, (j+1)% N\n",
    "    if magic_square[newi, newj]:\n",
    "        i += 1\n",
    "    else:\n",
    "        i, j = newi, newj\n",
    "\n",
    "print(magic_square % 7)"
   ]
  },
  {
   "cell_type": "code",
   "execution_count": 46,
   "id": "ff5b8f04-e5f3-45a5-8433-8dc8ef14038e",
   "metadata": {},
   "outputs": [
    {
     "data": {
      "text/plain": [
       "array([[30, 39, 48,  1, 10, 19, 28],\n",
       "       [38, 47,  7,  9, 18, 27, 29],\n",
       "       [46,  6,  8, 17, 26, 35, 37],\n",
       "       [ 5, 14, 16, 25, 34, 36, 45],\n",
       "       [13, 15, 24, 33, 42, 44,  4],\n",
       "       [21, 23, 32, 41, 43,  3, 12],\n",
       "       [22, 31, 40, 49,  2, 11, 20]])"
      ]
     },
     "execution_count": 46,
     "metadata": {},
     "output_type": "execute_result"
    }
   ],
   "source": [
    "magic_square "
   ]
  },
  {
   "cell_type": "code",
   "execution_count": 750,
   "id": "f09af771-1270-4dd9-95a0-1063782781ce",
   "metadata": {},
   "outputs": [
    {
     "data": {
      "text/plain": [
       "array([[ 0,  0,  0,  1, 10, 19, 28],\n",
       "       [38, 47,  7,  0,  0,  0, 29],\n",
       "       [ 0,  0,  8, 17, 26, 35,  0],\n",
       "       [ 5, 14,  0,  0,  0, 36, 45],\n",
       "       [ 0, 15, 24, 33, 42,  0,  0],\n",
       "       [21,  0,  0,  0, 43,  3, 12],\n",
       "       [22, 31, 40,  0,  0,  0,  0]])"
      ]
     },
     "execution_count": 750,
     "metadata": {},
     "output_type": "execute_result"
    }
   ],
   "source": [
    "mm =  np.zeros((N,N), dtype=int)\n",
    "v = mm[0].copy()\n",
    "v[3:]  = np.arange(1,30,9)\n",
    "\n",
    "for k in range(7):\n",
    "    mm[k ] += v\n",
    "    v[v>0] = (v[v>0] + 28) % 49\n",
    "    v = np.roll(v, 3) \n",
    "    \n",
    "mm"
   ]
  },
  {
   "cell_type": "code",
   "execution_count": 757,
   "id": "94e9d0d0-deb9-48fd-97c4-0452ab401aac",
   "metadata": {},
   "outputs": [
    {
     "data": {
      "text/plain": [
       "(array([175, 175, 175, 175, 175, 175, 175]),\n",
       " array([175, 175, 175, 175, 175, 175, 175]))"
      ]
     },
     "execution_count": 757,
     "metadata": {},
     "output_type": "execute_result"
    }
   ],
   "source": [
    "N = 7\n",
    "offset = 2\n",
    "mm =  np.zeros((N,N), dtype=int)\n",
    "\n",
    "v = mm[0].copy()\n",
    "v[:3] = np.arange(30, N**2,9)\n",
    "v[3:]  = np.arange(1,30,9)\n",
    "\n",
    "for k in range(7):\n",
    "    mm[k] = v\n",
    "    v = (v + 28) % 49\n",
    "    v = np.roll(v, offset) \n",
    "\n",
    "mm[-1, 6 * offset % 7 - 1] = 49\n",
    "\n",
    "\n",
    "np.sum(mm,axis =0), np.sum(mm,axis = 1)"
   ]
  },
  {
   "cell_type": "code",
   "execution_count": 758,
   "id": "2b855f6b-7fb0-4511-b64a-82bc03756c4f",
   "metadata": {},
   "outputs": [],
   "source": [
    "uu = mm.T.copy()\n",
    "vv = uu.copy()\n",
    "\n",
    "xx = sorted(vv.tolist() , key = lambda x: x[0] % 7)"
   ]
  },
  {
   "cell_type": "code",
   "execution_count": 753,
   "id": "12933d15-cae2-479e-a6fb-59eb5818ff03",
   "metadata": {},
   "outputs": [],
   "source": []
  },
  {
   "cell_type": "code",
   "execution_count": 759,
   "id": "9cd47892-568b-4d58-8502-fb1c49b532c0",
   "metadata": {},
   "outputs": [
    {
     "data": {
      "text/plain": [
       "array([[28,  1, 30, 10, 39, 19, 48],\n",
       "       [43, 23,  3, 32, 12, 41, 21],\n",
       "       [16, 45, 25,  5, 34, 14, 36],\n",
       "       [38, 18, 47, 27,  7, 29,  9],\n",
       "       [11, 40, 20, 49, 22,  2, 31],\n",
       "       [33, 13, 42, 15, 44, 24,  4],\n",
       "       [ 6, 35,  8, 37, 17, 46, 26]])"
      ]
     },
     "execution_count": 759,
     "metadata": {},
     "output_type": "execute_result"
    }
   ],
   "source": [
    "MM = np.array(xx).T\n",
    "yy = sorted(MM.tolist() , key = lambda x: x[0] % 7)\n",
    "PP = np.array(yy)\n"
   ]
  },
  {
   "cell_type": "markdown",
   "id": "f78f6ae5-04b5-48e3-91b9-0738d66a551d",
   "metadata": {},
   "source": [
    "---\n",
    "\n",
    "# So here is my version\n",
    "\n"
   ]
  },
  {
   "cell_type": "code",
   "execution_count": 915,
   "id": "9a1e3083-792b-4c22-ba7c-e975afec1d85",
   "metadata": {},
   "outputs": [
    {
     "data": {
      "text/plain": [
       "(array([671, 671, 671, 671, 671, 671, 671, 671, 671, 671, 671]),\n",
       " array([671, 671, 671, 671, 671, 671, 671, 671, 671, 671, 671]),\n",
       " 671)"
      ]
     },
     "execution_count": 915,
     "metadata": {},
     "output_type": "execute_result"
    }
   ],
   "source": [
    "N = 11\n",
    "# I thought seed could take more values but :(\n",
    "# and offset :( N= 7, offset = 6 \n",
    "seed = N + 1\n",
    "seed_row = (seed*np.arange(0, N) + 1) % N**2\n",
    "seed_row = np.roll(seed_row, N //2)\n",
    "offset = 2\n",
    "\n",
    "magic_square =  np.zeros((N,N), dtype=int)\n",
    "for k in range(0,N):\n",
    "    magic_square[k] = (np.roll(seed_row, k*offset) - k * N  ) \n",
    "\n",
    "magic_square = magic_square % N**2\n",
    "magic_square[magic_square == 0] = N**2\n",
    "\n",
    "# check\n",
    "np.sum(magic_square, 0), np.sum(magic_square, 1), magic_square.trace()\n",
    "#magic_square"
   ]
  },
  {
   "cell_type": "code",
   "execution_count": 939,
   "id": "7ef9902d-4c72-4527-9a5b-f3dd261e483e",
   "metadata": {},
   "outputs": [
    {
     "data": {
      "text/plain": [
       "array([[ 26,  50,  62,  74,  86,  98, 110, 111,   2,  14,  38],\n",
       "       [ 61,  85,  97, 109, 121,   1,  13,  25,  37,  49,  73],\n",
       "       [112,  15,  27,  39,  51,  63,  75,  87,  99, 100,   3],\n",
       "       [ 88, 101, 113,   4,  16,  28,  40,  52,  64,  76,  89],\n",
       "       [ 53,  77,  78,  90, 102, 114,   5,  17,  29,  41,  65],\n",
       "       [ 18,  42,  54,  66,  67,  79,  91, 103, 115,   6,  30],\n",
       "       [104,   7,  19,  31,  43,  55,  56,  68,  80,  92, 116],\n",
       "       [ 69,  93, 105, 117,   8,  20,  32,  44,  45,  57,  81],\n",
       "       [ 34,  58,  70,  82,  94, 106, 118,   9,  21,  33,  46],\n",
       "       [ 10,  23,  35,  47,  59,  71,  83,  95, 107, 119,  22],\n",
       "       [ 96, 120,  11,  12,  24,  36,  48,  60,  72,  84, 108]])"
      ]
     },
     "execution_count": 939,
     "metadata": {},
     "output_type": "execute_result"
    }
   ],
   "source": [
    "mm = magic_square.copy()\n",
    "dob = 26,5, 66\n",
    "for k, dd in enumerate(dob):\n",
    "    if k > 0: break\n",
    "    a,b = np.array(np.where(mm == dd)).T[0]\n",
    "    mm[0], mm[a] = mm[a].copy(), mm[0].copy()\n",
    "    mm[:,k], mm[:,b] = mm[:,b].copy(), mm[:,k].copy()\n",
    "    \n",
    "mm"
   ]
  },
  {
   "cell_type": "code",
   "execution_count": 932,
   "id": "2d3fcd0a-92ab-489c-8ce0-3db2b7e2a18b",
   "metadata": {},
   "outputs": [
    {
     "data": {
      "text/plain": [
       "array([ 0, 10])"
      ]
     },
     "execution_count": 932,
     "metadata": {},
     "output_type": "execute_result"
    }
   ],
   "source": [
    "\n"
   ]
  },
  {
   "cell_type": "code",
   "execution_count": 909,
   "id": "5ce5c87a-75fe-4a0d-9d2a-090b3eb0b454",
   "metadata": {},
   "outputs": [
    {
     "data": {
      "text/plain": [
       "(array([65, 65, 65, 65, 65]),\n",
       " array([65, 65, 65, 65, 65]),\n",
       " array([[25,  1,  7, 13, 19],\n",
       "        [ 6, 12, 18, 24,  5],\n",
       "        [17, 23,  4, 10, 11],\n",
       "        [ 3,  9, 15, 16, 22],\n",
       "        [14, 20, 21,  2,  8]]))"
      ]
     },
     "execution_count": 909,
     "metadata": {},
     "output_type": "execute_result"
    }
   ],
   "source": [
    "N = 5\n",
    "seed_row = ( (N+1)*np.arange(0, N) + 1) % N**2\n",
    "seed_row = np.roll(seed_row, 1)\n",
    "\n",
    "magic_square =  np.zeros((N,N), dtype=int)\n",
    "for k in range(0,N):\n",
    "    magic_square[k] = (np.roll(seed_row, -k) + k * N  ) \n",
    "#exception\n",
    "magic_square = magic_square % N**2\n",
    "magic_square[magic_square == 0] = N**2\n",
    "\n",
    "# check\n",
    "np.sum(magic_square, axis=0), np.sum(magic_square, axis=1),  magic_square "
   ]
  },
  {
   "cell_type": "code",
   "execution_count": 853,
   "id": "994bdfcc-e333-43cc-abcc-862d6ebb31b0",
   "metadata": {},
   "outputs": [
    {
     "data": {
      "text/plain": [
       "array([60, 60, 60, 60, 60])"
      ]
     },
     "execution_count": 853,
     "metadata": {},
     "output_type": "execute_result"
    }
   ],
   "source": [
    "np.sum((25 - magic_square), 1)"
   ]
  },
  {
   "cell_type": "code",
   "execution_count": 868,
   "id": "e0b1d22d-1e9c-4dd8-9fa6-570078ce82cc",
   "metadata": {},
   "outputs": [
    {
     "data": {
      "text/plain": [
       "array([[33, 41, 49,  1,  9, 17, 25],\n",
       "       [10, 18, 26, 34, 42, 43,  2],\n",
       "       [36, 44,  3, 11, 19, 27, 35],\n",
       "       [20, 28, 29, 37, 45,  4, 12],\n",
       "       [46,  5, 13, 21, 22, 30, 38],\n",
       "       [23, 31, 39, 47,  6, 14, 15],\n",
       "       [ 7,  8, 16, 24, 32, 40, 48]])"
      ]
     },
     "execution_count": 868,
     "metadata": {},
     "output_type": "execute_result"
    }
   ],
   "source": [
    "magic_square"
   ]
  },
  {
   "cell_type": "markdown",
   "id": "abe10b84-7214-44ca-9640-381bd8deca3f",
   "metadata": {},
   "source": []
  },
  {
   "cell_type": "markdown",
   "id": "639aec3f-c2fd-4306-bbf0-adc34035fc87",
   "metadata": {},
   "source": [
    "---\n",
    "## and this is a Dehn twist\n",
    "\n",
    "I suppose the point is that permutations are in $PGL(2,\\mathbb{F}_p)$\n",
    "and they generate it so the Dehn twist must too "
   ]
  },
  {
   "cell_type": "code",
   "execution_count": 857,
   "id": "343532ae-d26d-4621-94fc-f721d007154a",
   "metadata": {},
   "outputs": [
    {
     "data": {
      "text/plain": [
       "array([[ 8, 16, 24, 32, 40, 48,  7],\n",
       "       [49,  1,  9, 17, 25, 33, 41],\n",
       "       [34, 42, 43,  2, 10, 18, 26],\n",
       "       [19, 27, 35, 36, 44,  3, 11],\n",
       "       [ 4, 12, 20, 28, 29, 37, 45],\n",
       "       [38, 46,  5, 13, 21, 22, 30],\n",
       "       [23, 31, 39, 47,  6, 14, 15]])"
      ]
     },
     "execution_count": 857,
     "metadata": {},
     "output_type": "execute_result"
    }
   ],
   "source": [
    "mm = magic_square\n",
    "for k in range(N):\n",
    "    mm = np.roll(mm, 5*k)\n",
    "mm\n"
   ]
  },
  {
   "cell_type": "markdown",
   "id": "987bee36-d3f6-4a05-939c-238e5e6db0c7",
   "metadata": {},
   "source": [
    "---\n",
    "\n",
    "## Apply a random permutation \n",
    "\n"
   ]
  },
  {
   "cell_type": "code",
   "execution_count": 893,
   "id": "f53bddb4-5991-449f-addf-8f687a660d26",
   "metadata": {},
   "outputs": [
    {
     "data": {
      "text/plain": [
       "array([[0, 0, 1, 0, 0, 0, 0],\n",
       "       [0, 0, 0, 0, 0, 1, 0],\n",
       "       [0, 0, 0, 0, 0, 0, 1],\n",
       "       [0, 1, 0, 0, 0, 0, 0],\n",
       "       [0, 0, 0, 0, 1, 0, 0],\n",
       "       [0, 0, 0, 1, 0, 0, 0],\n",
       "       [1, 0, 0, 0, 0, 0, 0]])"
      ]
     },
     "execution_count": 893,
     "metadata": {},
     "output_type": "execute_result"
    }
   ],
   "source": [
    "import random\n",
    "\n",
    "V = np.identity(N,dtype=int)\n",
    "np.random.shuffle(V)\n"
   ]
  },
  {
   "cell_type": "code",
   "execution_count": 907,
   "id": "d9c3f0f0-84ce-46ff-ad47-8728d49797b9",
   "metadata": {},
   "outputs": [
    {
     "data": {
      "image/png": "[encoded data removed]",
      "text/plain": [
       "<Figure size 432x288 with 1 Axes>"
      ]
     },
     "metadata": {
      "needs_background": "light"
     },
     "output_type": "display_data"
    }
   ],
   "source": [
    "import matplotlib.pyplot as plt\n",
    "\n",
    "V = np.identity(N,dtype=int)\n",
    "np.random.shuffle(V)\n",
    "mm = V @ magic_square\n",
    "\n",
    "cc = { x : (i // N, i % N)for i,x in enumerate(mm.ravel())}\n",
    "uu = [cc[x] for x in range(1, N**2) ]\n",
    "uu = np.array(uu)\n",
    "\n",
    "fig, ax = plt.subplots()\n",
    "ax.set_aspect('equal')\n",
    "ax.axes.xaxis.set_visible(False)\n",
    "ax.axes.yaxis.set_visible(False)\n",
    "ax.set(frame_on=False)\n",
    "\n",
    "ax.plot(uu.T[0],uu.T[1],'k')\n",
    "for x in uu.reshape(-1,N+1,2):\n",
    "    vv = x.T\n",
    "    ax.plot(vv[0],vv[1]);\n",
    "    ax.plot(vv[0,0],vv[1,0],'ko');\n",
    "\n"
   ]
  },
  {
   "cell_type": "code",
   "execution_count": 895,
   "id": "d2fc7d55-5eda-4f25-b819-de3de9eb0154",
   "metadata": {},
   "outputs": [
    {
     "data": {
      "text/plain": [
       "array([[36, 44,  3, 11, 19, 27, 35],\n",
       "       [23, 31, 39, 47,  6, 14, 15],\n",
       "       [ 7,  8, 16, 24, 32, 40, 48],\n",
       "       [10, 18, 26, 34, 42, 43,  2],\n",
       "       [46,  5, 13, 21, 22, 30, 38],\n",
       "       [20, 28, 29, 37, 45,  4, 12],\n",
       "       [33, 41, 49,  1,  9, 17, 25]])"
      ]
     },
     "execution_count": 895,
     "metadata": {},
     "output_type": "execute_result"
    }
   ],
   "source": [
    "np.sum(mm, axis=0), np.sum(mm, axis=1), mm.trace()\n",
    "mm"
   ]
  },
  {
   "cell_type": "code",
   "execution_count": 752,
   "id": "c7625681-13bf-49e9-9c90-62ac9fa5dc87",
   "metadata": {},
   "outputs": [
    {
     "name": "stdout",
     "output_type": "stream",
     "text": [
      "[master 7548226] web\n",
      " 4 files changed, 1184 insertions(+), 2 deletions(-)\n",
      " create mode 100644 PROG/.ipynb_checkpoints/magic_squares-checkpoint.ipynb\n",
      " create mode 100644 PROG/magic_squares.ipynb\n",
      "Counting objects: 9, done.\n",
      "Delta compression using up to 12 threads.\n",
      "Compressing objects: 100% (9/9), done.\n",
      "Writing objects: 100% (9/9), 25.12 KiB | 12.56 MiB/s, done.\n",
      "Total 9 (delta 6), reused 0 (delta 0)\n",
      "remote: Resolving deltas: 100% (6/6), completed with 6 local objects.\u001b[K\n",
      "To https://github.com/macbuse/macbuse.github.io.git\n",
      "   999ee76..7548226  master -> master\n"
     ]
    }
   ],
   "source": [
    "! ../.g"
   ]
  },
  {
   "cell_type": "code",
   "execution_count": 437,
   "id": "85653c58-f5b7-4eea-826d-b9a8914bbcc7",
   "metadata": {},
   "outputs": [
    {
     "data": {
      "text/plain": [
       "array([[121,   1,  13,  25,  37,  49,  61,  73,  85,  97, 109],\n",
       "       [ 84,  96, 108, 120,  11,  12,  24,  36,  48,  60,  72],\n",
       "       [ 47,  59,  71,  83,  95, 107, 119,  10,  22,  23,  35],\n",
       "       [ 21,  33,  34,  46,  58,  70,  82,  94, 106, 118,   9],\n",
       "       [105, 117,   8,  20,  32,  44,  45,  57,  69,  81,  93],\n",
       "       [ 68,  80,  92, 104, 116,   7,  19,  31,  43,  55,  56],\n",
       "       [ 42,  54,  66,  67,  79,  91, 103, 115,   6,  18,  30],\n",
       "       [  5,  17,  29,  41,  53,  65,  77,  78,  90, 102, 114],\n",
       "       [ 89, 101, 113,   4,  16,  28,  40,  52,  64,  76,  88],\n",
       "       [ 63,  75,  87,  99, 100, 112,   3,  15,  27,  39,  51],\n",
       "       [ 26,  38,  50,  62,  74,  86,  98, 110, 111,   2,  14]])"
      ]
     },
     "execution_count": 437,
     "metadata": {},
     "output_type": "execute_result"
    }
   ],
   "source": [
    "mm"
   ]
  },
  {
   "cell_type": "markdown",
   "id": "00396624-77e9-48c4-b336-6909ff46c620",
   "metadata": {},
   "source": [
    "---\n",
    "\n",
    "# won't work there are repeat digits"
   ]
  },
  {
   "cell_type": "code",
   "execution_count": 536,
   "id": "78bd071b-b231-48b4-9c2f-800968f5df75",
   "metadata": {},
   "outputs": [
    {
     "name": "stdout",
     "output_type": "stream",
     "text": [
      "1 1\n",
      "8 8\n"
     ]
    },
    {
     "data": {
      "text/plain": [
       "array([[117,   8, 105,  20,  32,  44,  45,  57,  69,  81,  93],\n",
       "       [ 96, 108,  84, 120,  11,  12,  24,  36,  48,  60,  72],\n",
       "       [ 59,  71,  47,  83,  95, 107, 119,  10,  22,  23,  35],\n",
       "       [ 33,  34,  21,  46,  58,  70,  82,  94, 106, 118,   9],\n",
       "       [  1,  13, 121,  25,  37,  49,  61,  73,  85,  97, 109],\n",
       "       [ 80,  92,  68, 104, 116,   7,  19,  31,  43,  55,  56],\n",
       "       [ 54,  66,  42,  67,  79,  91, 103, 115,   6,  18,  30],\n",
       "       [ 17,  29,   5,  41,  53,  65,  77,  78,  90, 102, 114],\n",
       "       [101, 113,  89,   4,  16,  28,  40,  52,  64,  76,  88],\n",
       "       [ 75,  87,  63,  99, 100, 112,   3,  15,  27,  39,  51],\n",
       "       [ 38,  50,  26,  62,  74,  86,  98, 110, 111,   2,  14]])"
      ]
     },
     "execution_count": 536,
     "metadata": {},
     "output_type": "execute_result"
    }
   ],
   "source": [
    "dob = [1,8, 68]\n",
    "mm = magic_square.copy()\n",
    "tt = [ np.where(magic_square == _) for _ in dob ]\n",
    "\n",
    "for k in range(2):\n",
    "    #if k > 0 : break\n",
    "    uu = dob.pop(0)\n",
    "    x,y = np.where(mm == uu)\n",
    "    x,y = x[0], y[0]\n",
    "    print(uu, mm[x,y])\n",
    "    a,b  = mm[0].copy(), mm[x].copy()\n",
    "    mm[0], mm[x] = b,a\n",
    "    # fck me stupid \n",
    "    a, b  = mm[:,k].copy(), mm[:,y].copy()\n",
    "    mm[:,k], mm[:,y] = b,a\n",
    "    \n",
    "\n",
    "np.where(mm == 8)\n",
    "mm"
   ]
  },
  {
   "cell_type": "code",
   "execution_count": 532,
   "id": "2e690bef-3c89-4ac2-a6a0-f04e32b75e2a",
   "metadata": {},
   "outputs": [
    {
     "name": "stdout",
     "output_type": "stream",
     "text": [
      "(array([4]), array([0]))\n",
      "(array([5]), array([1]))\n",
      "(array([0]), array([2]))\n"
     ]
    }
   ],
   "source": [
    "dob = [1,8, 68]\n",
    "for x in dob:\n",
    "    print(np.where(mm == x))"
   ]
  },
  {
   "cell_type": "code",
   "execution_count": 525,
   "id": "7fc2ed0d-19b9-450e-b691-98b2731b8d8a",
   "metadata": {},
   "outputs": [
    {
     "data": {
      "text/plain": [
       "array([  1,  13, 121,  25,  37,  49,  61,  73,  85,  97, 109])"
      ]
     },
     "execution_count": 525,
     "metadata": {},
     "output_type": "execute_result"
    }
   ],
   "source": [
    "mm[0,:]"
   ]
  },
  {
   "cell_type": "code",
   "execution_count": 461,
   "id": "562af451-11ab-4625-910d-a8e141ca9718",
   "metadata": {},
   "outputs": [
    {
     "data": {
      "text/plain": [
       "array([[121,   1,  13,  25,  37,  49,  61,  73,  85,  97, 109],\n",
       "       [ 84,  96, 108, 120,  11,  12,  24,  36,  48,  60,  72],\n",
       "       [ 47,  59,  71,  83,  95, 107, 119,  10,  22,  23,  35],\n",
       "       [ 21,  33,  34,  46,  58,  70,  82,  94, 106, 118,   9],\n",
       "       [105, 117,   8,  20,  32,  44,  45,  57,  69,  81,  93],\n",
       "       [ 68,  80,  92, 104, 116,   7,  19,  31,  43,  55,  56],\n",
       "       [ 42,  54,  66,  67,  79,  91, 103, 115,   6,  18,  30],\n",
       "       [  5,  17,  29,  41,  53,  65,  77,  78,  90, 102, 114],\n",
       "       [ 89, 101, 113,   4,  16,  28,  40,  52,  64,  76,  88],\n",
       "       [ 63,  75,  87,  99, 100, 112,   3,  15,  27,  39,  51],\n",
       "       [ 26,  38,  50,  62,  74,  86,  98, 110, 111,   2,  14]])"
      ]
     },
     "execution_count": 461,
     "metadata": {},
     "output_type": "execute_result"
    }
   ],
   "source": [
    "magic_square"
   ]
  },
  {
   "cell_type": "code",
   "execution_count": null,
   "id": "f6fc9044-093a-44fb-8151-00ee4ca63f1c",
   "metadata": {},
   "outputs": [],
   "source": []
  }
 ],
 "metadata": {
  "kernelspec": {
   "display_name": "Python 3 (ipykernel)",
   "language": "python",
   "name": "python3"
  },
  "language_info": {
   "codemirror_mode": {
    "name": "ipython",
    "version": 3
   },
   "file_extension": ".py",
   "mimetype": "text/x-python",
   "name": "python",
   "nbconvert_exporter": "python",
   "pygments_lexer": "ipython3",
   "version": "3.9.12"
  },
  "widgets": {
   "application/vnd.jupyter.widget-state+json": {
    "state": {},
    "version_major": 2,
    "version_minor": 0
   }
  }
 },
 "nbformat": 4,
 "nbformat_minor": 5
}
