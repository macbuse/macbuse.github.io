{
 "cells": [
  {
   "cell_type": "markdown",
   "id": "2fa30c39-6d6f-403b-b128-fefbddf122a0",
   "metadata": {},
   "source": [
    "# Magic squares\n",
    "---"
   ]
  },
  {
   "cell_type": "markdown",
   "id": "db9356bc-59a6-45f3-a56a-0da3adaae63d",
   "metadata": {},
   "source": [
    "## So it was Halloween\n",
    "\n",
    "and I decided to do some [magic squares]() for an exam\n",
    "\n",
    "I trolled (sic) around the internet and found some **dumb** code :\n",
    "\n",
    "- https://www.codespeedy.com/magic-square-identification-in-python/\n",
    "- https://www.w3resource.com/python-exercises/math/python-math-exercise-20.php\n",
    "\n",
    "This is better but still **far** from optimal\n",
    "\n",
    "- https://scipython.com/book/chapter-6-numpy/examples/creating-a-magic-square/\n",
    "\n",
    "And this is a good idea but the execution **sucks**\n",
    "\n",
    "https://medium.com/swlh/python-code-to-find-total-number-of-magic-squares-of-order-3-and-4-11be1376e5cd\n",
    "\n",
    "---\n",
    "\n",
    "my version below doesn't produce a **truly magic** square for every parameter value of\n",
    "\n",
    "- ```seed```  (not true, I screwed up here)\n",
    "- ```offset```\n",
    "as the diagonals don't add up right every time but it's very cute.\n",
    "\n",
    "```\n",
    "seed = 8\n",
    "seed_row = ( seed*np.arange(0,7) + 1) % 49\n",
    "offset = 3 # must be != 0\n",
    "```\n",
    "\n",
    "and I think it get's them all up to the action of the permutation group."
   ]
  },
  {
   "cell_type": "code",
   "execution_count": 356,
   "id": "ef4c628a-4acd-4cd4-ad80-875116bbf78c",
   "metadata": {},
   "outputs": [
    {
     "name": "stdout",
     "output_type": "stream",
     "text": [
      "[[4 3 2 1 0]\n",
      " [2 1 0 4 3]\n",
      " [0 4 3 2 1]\n",
      " [3 2 1 0 4]\n",
      " [1 0 4 3 2]]\n"
     ]
    }
   ],
   "source": [
    "#Function\n",
    "# https://www.codespeedy.com/magic-square-identification-in-python/\n",
    "\n",
    "import numpy as np\n",
    "\n",
    "def generateSquare(n): \n",
    "    # 2-D array with all  \n",
    "    # slots set to 0 \n",
    "    magicSquare = np.zeros((n,n),dtype=np.int16)\n",
    "    # initialize position of 1 \n",
    "    i = n // 2\n",
    "    j = n - 1\n",
    "    # Fill the square by placing values \n",
    "    num = 1\n",
    "    while num <= (n * n): \n",
    "        if i == -1 and j == n: # 3rd condition \n",
    "            j = n - 2\n",
    "            i = 0\n",
    "        else:  \n",
    "            # next number goes out of \n",
    "            # right side of square  \n",
    "            if j == n: \n",
    "                j = 0    \n",
    "            # next number goes  \n",
    "            # out of upper side \n",
    "            if i < 0: \n",
    "                i = n - 1\n",
    "        if magicSquare[int(i),int(j)]: # 2nd condition \n",
    "            j = j - 2\n",
    "            i = i + 1\n",
    "            continue\n",
    "        else: \n",
    "            magicSquare[int(i),int(j)] = num \n",
    "            num = num + 1\n",
    "        j = j + 1\n",
    "        i = i - 1 # 1st condition \n",
    "\n",
    "    return magicSquare\n",
    "\n",
    "# Driver Code \n",
    "# Works only when n is odd \n",
    "n= 5\n",
    "print(generateSquare(n) % 5)"
   ]
  },
  {
   "cell_type": "code",
   "execution_count": 751,
   "id": "d7e066b6-c072-400f-9f3f-74bca76633b7",
   "metadata": {},
   "outputs": [
    {
     "name": "stdout",
     "output_type": "stream",
     "text": [
      "[[2 4 6 1 3 5 0]\n",
      " [3 5 0 2 4 6 1]\n",
      " [4 6 1 3 5 0 2]\n",
      " [5 0 2 4 6 1 3]\n",
      " [6 1 3 5 0 2 4]\n",
      " [0 2 4 6 1 3 5]\n",
      " [1 3 5 0 2 4 6]]\n"
     ]
    }
   ],
   "source": [
    "#https://scipython.com/book/chapter-6-numpy/examples/creating-a-magic-square/\n",
    "\n",
    "import numpy as np\n",
    "N  = 7\n",
    "magic_square = np.zeros((N,N), dtype=int)\n",
    "\n",
    "n = 1\n",
    "i, j = 0, N//2\n",
    "\n",
    "while n <= N**2:\n",
    "    magic_square[i, j] = n\n",
    "    n += 1\n",
    "    newi, newj = (i-1) % N, (j+1)% N\n",
    "    if magic_square[newi, newj]:\n",
    "        i += 1\n",
    "    else:\n",
    "        i, j = newi, newj\n",
    "\n",
    "print(magic_square % 7)"
   ]
  },
  {
   "cell_type": "code",
   "execution_count": 46,
   "id": "ff5b8f04-e5f3-45a5-8433-8dc8ef14038e",
   "metadata": {},
   "outputs": [
    {
     "data": {
      "text/plain": [
       "array([[30, 39, 48,  1, 10, 19, 28],\n",
       "       [38, 47,  7,  9, 18, 27, 29],\n",
       "       [46,  6,  8, 17, 26, 35, 37],\n",
       "       [ 5, 14, 16, 25, 34, 36, 45],\n",
       "       [13, 15, 24, 33, 42, 44,  4],\n",
       "       [21, 23, 32, 41, 43,  3, 12],\n",
       "       [22, 31, 40, 49,  2, 11, 20]])"
      ]
     },
     "execution_count": 46,
     "metadata": {},
     "output_type": "execute_result"
    }
   ],
   "source": [
    "magic_square "
   ]
  },
  {
   "cell_type": "code",
   "execution_count": 750,
   "id": "f09af771-1270-4dd9-95a0-1063782781ce",
   "metadata": {},
   "outputs": [
    {
     "data": {
      "text/plain": [
       "array([[ 0,  0,  0,  1, 10, 19, 28],\n",
       "       [38, 47,  7,  0,  0,  0, 29],\n",
       "       [ 0,  0,  8, 17, 26, 35,  0],\n",
       "       [ 5, 14,  0,  0,  0, 36, 45],\n",
       "       [ 0, 15, 24, 33, 42,  0,  0],\n",
       "       [21,  0,  0,  0, 43,  3, 12],\n",
       "       [22, 31, 40,  0,  0,  0,  0]])"
      ]
     },
     "execution_count": 750,
     "metadata": {},
     "output_type": "execute_result"
    }
   ],
   "source": [
    "mm =  np.zeros((N,N), dtype=int)\n",
    "v = mm[0].copy()\n",
    "v[3:]  = np.arange(1,30,9)\n",
    "\n",
    "for k in range(7):\n",
    "    mm[k ] += v\n",
    "    v[v>0] = (v[v>0] + 28) % 49\n",
    "    v = np.roll(v, 3) \n",
    "    \n",
    "mm"
   ]
  },
  {
   "cell_type": "code",
   "execution_count": 749,
   "id": "94e9d0d0-deb9-48fd-97c4-0452ab401aac",
   "metadata": {},
   "outputs": [
    {
     "data": {
      "text/plain": [
       "(array([175, 175, 175, 175, 175, 175, 175]),\n",
       " array([175, 175, 175, 175, 175, 175, 175]))"
      ]
     },
     "execution_count": 749,
     "metadata": {},
     "output_type": "execute_result"
    }
   ],
   "source": [
    "N = 7\n",
    "offset = 2\n",
    "mm =  np.zeros((N,N), dtype=int)\n",
    "\n",
    "v = mm[0].copy()\n",
    "v[:3] = np.arange(30, N**2,9)\n",
    "v[3:]  = np.arange(1,30,9)\n",
    "\n",
    "for k in range(7):\n",
    "    mm[k] = v\n",
    "    v = (v + 28) % 49\n",
    "    v = np.roll(v, offset) \n",
    "\n",
    "mm[-1, 6 * offset % 7 - 1] = 49\n",
    "\n",
    "\n",
    "np.sum(mm,axis =0), np.sum(mm,axis = 1)"
   ]
  },
  {
   "cell_type": "code",
   "execution_count": 242,
   "id": "2b855f6b-7fb0-4511-b64a-82bc03756c4f",
   "metadata": {},
   "outputs": [],
   "source": [
    "uu = mm.T.copy()\n",
    "vv = uu.copy()\n",
    "\n",
    "xx = sorted(vv.tolist() , key = lambda x: x[0] % 7)\n"
   ]
  },
  {
   "cell_type": "code",
   "execution_count": 243,
   "id": "12933d15-cae2-479e-a6fb-59eb5818ff03",
   "metadata": {},
   "outputs": [],
   "source": [
    "MM = np.array(xx).T\n"
   ]
  },
  {
   "cell_type": "code",
   "execution_count": 746,
   "id": "9cd47892-568b-4d58-8502-fb1c49b532c0",
   "metadata": {},
   "outputs": [
    {
     "data": {
      "text/plain": [
       "array([[28,  1, 30, 10, 39, 19, 48],\n",
       "       [43, 23,  3, 32, 12, 41, 21],\n",
       "       [16, 45, 25,  5, 34, 14, 36],\n",
       "       [38, 18, 47, 27,  7, 29,  9],\n",
       "       [11, 40, 20, 49, 22,  2, 31],\n",
       "       [33, 13, 42, 15, 44, 24,  4],\n",
       "       [ 6, 35,  8, 37, 17, 46, 26]])"
      ]
     },
     "execution_count": 746,
     "metadata": {},
     "output_type": "execute_result"
    }
   ],
   "source": [
    "yy = sorted(MM.tolist() , key = lambda x: x[0] % 7)\n",
    "PP = np.array(yy)\n",
    "PP"
   ]
  },
  {
   "cell_type": "markdown",
   "id": "f78f6ae5-04b5-48e3-91b9-0738d66a551d",
   "metadata": {},
   "source": [
    "---\n",
    "\n",
    "# So here is my version\n",
    "\n"
   ]
  },
  {
   "cell_type": "code",
   "execution_count": 735,
   "id": "9a1e3083-792b-4c22-ba7c-e975afec1d85",
   "metadata": {},
   "outputs": [
    {
     "data": {
      "text/plain": [
       "(array([175, 175, 175, 175, 175, 175, 175]),\n",
       " array([175, 175, 175, 175, 175, 175, 175]))"
      ]
     },
     "execution_count": 735,
     "metadata": {},
     "output_type": "execute_result"
    }
   ],
   "source": [
    "N = 7\n",
    "# I thought seed could take more values but :(\n",
    "seed = N + 1\n",
    "seed_row = ( seed*np.arange(0,N) + 1) % N**2\n",
    "offset = 3 # must be != 0\n",
    "\n",
    "magic_square =  np.zeros((N,N), dtype=int)\n",
    "magic_square[0] = np.roll(seed_row, 1)\n",
    "\n",
    "for k in range(1,N):\n",
    "    magic_square[k] = (np.roll(magic_square[0], k*offset) - k * N  ) % N**2\n",
    "    \n",
    "magic_square[magic_square == 0] = N**2\n",
    "\n",
    "# check\n",
    "np.sum(magic_square, axis=0), np.sum(magic_square, axis=1)\n",
    "#magic_square  \n"
   ]
  },
  {
   "cell_type": "markdown",
   "id": "639aec3f-c2fd-4306-bbf0-adc34035fc87",
   "metadata": {},
   "source": [
    "---\n",
    "## and this is a Dehn twist"
   ]
  },
  {
   "cell_type": "code",
   "execution_count": 744,
   "id": "343532ae-d26d-4621-94fc-f721d007154a",
   "metadata": {},
   "outputs": [],
   "source": [
    "mm = magic_square\n",
    "for k in range(N):\n",
    "    mm = np.roll(mm, 5*k)\n"
   ]
  },
  {
   "cell_type": "code",
   "execution_count": 743,
   "id": "d9c3f0f0-84ce-46ff-ad47-8728d49797b9",
   "metadata": {},
   "outputs": [
    {
     "data": {
      "image/png": "[encoded data removed]",
      "text/plain": [
       "<Figure size 432x288 with 1 Axes>"
      ]
     },
     "metadata": {
      "needs_background": "light"
     },
     "output_type": "display_data"
    }
   ],
   "source": [
    "import matplotlib.pyplot as plt\n",
    "\n",
    "cc = { x : (i // N, i % N)for i,x in enumerate(mm.ravel())}\n",
    "uu = [cc[x] for x in range(1, N**2) ]\n",
    "uu = np.array(uu)\n",
    "\n",
    "fig, ax = plt.subplots()\n",
    "ax.set_aspect('equal')\n",
    "ax.axes.xaxis.set_visible(False)\n",
    "ax.axes.yaxis.set_visible(False)\n",
    "ax.set(frame_on=False)\n",
    "\n",
    "ax.plot(uu.T[0],uu.T[1],'k')\n",
    "for x in uu.reshape(-1,N+1,2):\n",
    "    vv = x.T\n",
    "    ax.plot(vv[0],vv[1]);\n",
    "    ax.plot(vv[0,0],vv[1,0],'ko');\n",
    "\n"
   ]
  },
  {
   "cell_type": "code",
   "execution_count": 677,
   "id": "d2fc7d55-5eda-4f25-b819-de3de9eb0154",
   "metadata": {},
   "outputs": [
    {
     "data": {
      "text/plain": [
       "(array([1105, 1105, 1105, 1105, 1105, 1105, 1105, 1105, 1105, 1105, 1105,\n",
       "        1105, 1105]),\n",
       " array([1105, 1105, 1105, 1105, 1105, 1105, 1105, 1105, 1105, 1105, 1105,\n",
       "        1105, 1105]))"
      ]
     },
     "execution_count": 677,
     "metadata": {},
     "output_type": "execute_result"
    }
   ],
   "source": [
    "np.sum(mm, axis=0), np.sum(mm, axis=1)\n"
   ]
  },
  {
   "cell_type": "code",
   "execution_count": 665,
   "id": "c7625681-13bf-49e9-9c90-62ac9fa5dc87",
   "metadata": {},
   "outputs": [
    {
     "data": {
      "text/plain": [
       "array([[ 1,  0, 12, 11, 10,  9,  8,  7,  6,  5,  4,  3,  2],\n",
       "       [ 2,  1,  0, 12, 11, 10,  9,  8,  7,  6,  5,  4,  3],\n",
       "       [ 3,  2,  1,  0, 12, 11, 10,  9,  8,  7,  6,  5,  4],\n",
       "       [ 4,  3,  2,  1,  0, 12, 11, 10,  9,  8,  7,  6,  5],\n",
       "       [ 5,  4,  3,  2,  1,  0, 12, 11, 10,  9,  8,  7,  6],\n",
       "       [ 6,  5,  4,  3,  2,  1,  0, 12, 11, 10,  9,  8,  7],\n",
       "       [ 7,  6,  5,  4,  3,  2,  1,  0, 12, 11, 10,  9,  8],\n",
       "       [ 8,  7,  6,  5,  4,  3,  2,  1,  0, 12, 11, 10,  9],\n",
       "       [ 9,  8,  7,  6,  5,  4,  3,  2,  1,  0, 12, 11, 10],\n",
       "       [10,  9,  8,  7,  6,  5,  4,  3,  2,  1,  0, 12, 11],\n",
       "       [11, 10,  9,  8,  7,  6,  5,  4,  3,  2,  1,  0, 12],\n",
       "       [12, 11, 10,  9,  8,  7,  6,  5,  4,  3,  2,  1,  0],\n",
       "       [ 0, 12, 11, 10,  9,  8,  7,  6,  5,  4,  3,  2,  1]])"
      ]
     },
     "execution_count": 665,
     "metadata": {},
     "output_type": "execute_result"
    }
   ],
   "source": [
    "mm % N"
   ]
  },
  {
   "cell_type": "code",
   "execution_count": 437,
   "id": "85653c58-f5b7-4eea-826d-b9a8914bbcc7",
   "metadata": {},
   "outputs": [
    {
     "data": {
      "text/plain": [
       "array([[121,   1,  13,  25,  37,  49,  61,  73,  85,  97, 109],\n",
       "       [ 84,  96, 108, 120,  11,  12,  24,  36,  48,  60,  72],\n",
       "       [ 47,  59,  71,  83,  95, 107, 119,  10,  22,  23,  35],\n",
       "       [ 21,  33,  34,  46,  58,  70,  82,  94, 106, 118,   9],\n",
       "       [105, 117,   8,  20,  32,  44,  45,  57,  69,  81,  93],\n",
       "       [ 68,  80,  92, 104, 116,   7,  19,  31,  43,  55,  56],\n",
       "       [ 42,  54,  66,  67,  79,  91, 103, 115,   6,  18,  30],\n",
       "       [  5,  17,  29,  41,  53,  65,  77,  78,  90, 102, 114],\n",
       "       [ 89, 101, 113,   4,  16,  28,  40,  52,  64,  76,  88],\n",
       "       [ 63,  75,  87,  99, 100, 112,   3,  15,  27,  39,  51],\n",
       "       [ 26,  38,  50,  62,  74,  86,  98, 110, 111,   2,  14]])"
      ]
     },
     "execution_count": 437,
     "metadata": {},
     "output_type": "execute_result"
    }
   ],
   "source": [
    "mm"
   ]
  },
  {
   "cell_type": "markdown",
   "id": "00396624-77e9-48c4-b336-6909ff46c620",
   "metadata": {},
   "source": [
    "---\n",
    "\n",
    "# won't work there are repeat digits"
   ]
  },
  {
   "cell_type": "code",
   "execution_count": 536,
   "id": "78bd071b-b231-48b4-9c2f-800968f5df75",
   "metadata": {},
   "outputs": [
    {
     "name": "stdout",
     "output_type": "stream",
     "text": [
      "1 1\n",
      "8 8\n"
     ]
    },
    {
     "data": {
      "text/plain": [
       "array([[117,   8, 105,  20,  32,  44,  45,  57,  69,  81,  93],\n",
       "       [ 96, 108,  84, 120,  11,  12,  24,  36,  48,  60,  72],\n",
       "       [ 59,  71,  47,  83,  95, 107, 119,  10,  22,  23,  35],\n",
       "       [ 33,  34,  21,  46,  58,  70,  82,  94, 106, 118,   9],\n",
       "       [  1,  13, 121,  25,  37,  49,  61,  73,  85,  97, 109],\n",
       "       [ 80,  92,  68, 104, 116,   7,  19,  31,  43,  55,  56],\n",
       "       [ 54,  66,  42,  67,  79,  91, 103, 115,   6,  18,  30],\n",
       "       [ 17,  29,   5,  41,  53,  65,  77,  78,  90, 102, 114],\n",
       "       [101, 113,  89,   4,  16,  28,  40,  52,  64,  76,  88],\n",
       "       [ 75,  87,  63,  99, 100, 112,   3,  15,  27,  39,  51],\n",
       "       [ 38,  50,  26,  62,  74,  86,  98, 110, 111,   2,  14]])"
      ]
     },
     "execution_count": 536,
     "metadata": {},
     "output_type": "execute_result"
    }
   ],
   "source": [
    "dob = [1,8, 68]\n",
    "mm = magic_square.copy()\n",
    "tt = [ np.where(magic_square == _) for _ in dob ]\n",
    "\n",
    "for k in range(2):\n",
    "    #if k > 0 : break\n",
    "    uu = dob.pop(0)\n",
    "    x,y = np.where(mm == uu)\n",
    "    x,y = x[0], y[0]\n",
    "    print(uu, mm[x,y])\n",
    "    a,b  = mm[0].copy(), mm[x].copy()\n",
    "    mm[0], mm[x] = b,a\n",
    "    # fck me stupid \n",
    "    a, b  = mm[:,k].copy(), mm[:,y].copy()\n",
    "    mm[:,k], mm[:,y] = b,a\n",
    "    \n",
    "\n",
    "np.where(mm == 8)\n",
    "mm"
   ]
  },
  {
   "cell_type": "code",
   "execution_count": 532,
   "id": "2e690bef-3c89-4ac2-a6a0-f04e32b75e2a",
   "metadata": {},
   "outputs": [
    {
     "name": "stdout",
     "output_type": "stream",
     "text": [
      "(array([4]), array([0]))\n",
      "(array([5]), array([1]))\n",
      "(array([0]), array([2]))\n"
     ]
    }
   ],
   "source": [
    "dob = [1,8, 68]\n",
    "for x in dob:\n",
    "    print(np.where(mm == x))"
   ]
  },
  {
   "cell_type": "code",
   "execution_count": 525,
   "id": "7fc2ed0d-19b9-450e-b691-98b2731b8d8a",
   "metadata": {},
   "outputs": [
    {
     "data": {
      "text/plain": [
       "array([  1,  13, 121,  25,  37,  49,  61,  73,  85,  97, 109])"
      ]
     },
     "execution_count": 525,
     "metadata": {},
     "output_type": "execute_result"
    }
   ],
   "source": [
    "mm[0,:]"
   ]
  },
  {
   "cell_type": "code",
   "execution_count": 461,
   "id": "562af451-11ab-4625-910d-a8e141ca9718",
   "metadata": {},
   "outputs": [
    {
     "data": {
      "text/plain": [
       "array([[121,   1,  13,  25,  37,  49,  61,  73,  85,  97, 109],\n",
       "       [ 84,  96, 108, 120,  11,  12,  24,  36,  48,  60,  72],\n",
       "       [ 47,  59,  71,  83,  95, 107, 119,  10,  22,  23,  35],\n",
       "       [ 21,  33,  34,  46,  58,  70,  82,  94, 106, 118,   9],\n",
       "       [105, 117,   8,  20,  32,  44,  45,  57,  69,  81,  93],\n",
       "       [ 68,  80,  92, 104, 116,   7,  19,  31,  43,  55,  56],\n",
       "       [ 42,  54,  66,  67,  79,  91, 103, 115,   6,  18,  30],\n",
       "       [  5,  17,  29,  41,  53,  65,  77,  78,  90, 102, 114],\n",
       "       [ 89, 101, 113,   4,  16,  28,  40,  52,  64,  76,  88],\n",
       "       [ 63,  75,  87,  99, 100, 112,   3,  15,  27,  39,  51],\n",
       "       [ 26,  38,  50,  62,  74,  86,  98, 110, 111,   2,  14]])"
      ]
     },
     "execution_count": 461,
     "metadata": {},
     "output_type": "execute_result"
    }
   ],
   "source": [
    "magic_square"
   ]
  },
  {
   "cell_type": "code",
   "execution_count": null,
   "id": "f6fc9044-093a-44fb-8151-00ee4ca63f1c",
   "metadata": {},
   "outputs": [],
   "source": []
  }
 ],
 "metadata": {
  "kernelspec": {
   "display_name": "Python 3 (ipykernel)",
   "language": "python",
   "name": "python3"
  },
  "language_info": {
   "codemirror_mode": {
    "name": "ipython",
    "version": 3
   },
   "file_extension": ".py",
   "mimetype": "text/x-python",
   "name": "python",
   "nbconvert_exporter": "python",
   "pygments_lexer": "ipython3",
   "version": "3.9.12"
  },
  "widgets": {
   "application/vnd.jupyter.widget-state+json": {
    "state": {},
    "version_major": 2,
    "version_minor": 0
   }
  }
 },
 "nbformat": 4,
 "nbformat_minor": 5
}
