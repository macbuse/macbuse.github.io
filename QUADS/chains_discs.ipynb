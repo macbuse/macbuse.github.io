{
 "cells": [
  {
   "cell_type": "code",
   "execution_count": 2,
   "id": "f61945c0-a13f-463e-98f9-99e688072a8c",
   "metadata": {},
   "outputs": [],
   "source": [
    "import matplotlib.pyplot as plt\n",
    "import numpy as np "
   ]
  },
  {
   "cell_type": "markdown",
   "id": "0ce6fa6d-1be8-40ad-85c7-b9fdc4554805",
   "metadata": {},
   "source": [
    "So you got to figure this out\n",
    "c = lower left coeff is always divisible by 3 <br>\n",
    "= > the lambda length of the geodesic from \\infty to a/c is a multiple of 3\n",
    "\n",
    "BUT\n",
    "\n",
    "the image of $i$ under the map is at a completely different height <br>\n",
    "$c^2 + d^2$ and this isn't necessarily divisible by $3$"
   ]
  },
  {
   "cell_type": "code",
   "execution_count": 20,
   "id": "fbcaf454-016e-466c-847d-b1e8b3fb4858",
   "metadata": {},
   "outputs": [
    {
     "data": {
      "text/plain": [
       "array([[ 1.,  3.],\n",
       "       [ 6., 19.]])"
      ]
     },
     "execution_count": 20,
     "metadata": {},
     "output_type": "execute_result"
    }
   ],
   "source": [
    "A = np.ones((2,2))\n",
    "A[1,0] = 0\n",
    "A = A @ A @ A\n",
    "B = A.T\n",
    "\n",
    "B @ B @ A"
   ]
  },
  {
   "cell_type": "code",
   "execution_count": 21,
   "id": "6ec8cace-f39d-4475-a410-546f0c08060e",
   "metadata": {},
   "outputs": [
    {
     "data": {
      "text/plain": [
       "397"
      ]
     },
     "execution_count": 21,
     "metadata": {},
     "output_type": "execute_result"
    }
   ],
   "source": [
    "(6**2 + 19**2) "
   ]
  },
  {
   "cell_type": "code",
   "execution_count": 22,
   "id": "38604bf6-2f39-44ef-bc09-f68b4447864d",
   "metadata": {},
   "outputs": [
    {
     "data": {
      "text/plain": [
       "array([[ 1.,  3.],\n",
       "       [-3., -8.]])"
      ]
     },
     "execution_count": 22,
     "metadata": {},
     "output_type": "execute_result"
    }
   ],
   "source": [
    "np.linalg.inv(B) @ A "
   ]
  },
  {
   "cell_type": "markdown",
   "id": "3587deab-f5a9-45c9-baa6-a2569745f2ed",
   "metadata": {},
   "source": [
    "$7 = 3^2 - 2$\n",
    "\n",
    "so this is correct it's twice the length of the simple geodesic."
   ]
  },
  {
   "cell_type": "markdown",
   "id": "a0995808-c2f4-4579-885d-45e6e55f3ccd",
   "metadata": {},
   "source": [
    "https://en.wikipedia.org/wiki/Bunyakovsky_conjecture\n",
    "\n",
    "https://en.wikipedia.org/wiki/Schinzel%27s_hypothesis_H"
   ]
  },
  {
   "cell_type": "markdown",
   "id": "14b1ba3d-2a3e-4d7a-beb6-ff65841fb1d9",
   "metadata": {},
   "source": [
    "---\n",
    "\n",
    "Rademacher conjecture\n",
    "\n",
    "\n",
    "https://www.sciencedirect.com/science/article/pii/S0021869304001395?ref=cra_js_challenge&fr=RR-1\n",
    "\n",
    "\n",
    "A general version of Rademacher’s Conjecture was proved by \n",
    "- J. G. Thompson \n",
    "- independently P. Zograf\n",
    "\n",
    "Suppose Γ < PSL(2, R) is commensurable with PSL(2, Z). Define Γ\n",
    "to be a congruence subgroup if Γ contains some Γ(n).\n",
    "\n",
    "---\n",
    "\n",
    "\n",
    "**Theorem 1** (Thompson, Zograf)\n",
    "\n",
    "There are only finitely many congruence Fuchsian groups\n",
    "commensurable with PSL(2, Z) of genus 0 (resp. of fixed genus).\n",
    "\n",
    "\n",
    "J.G. Thompson *A finiteness theorem for subgroups of PSL(2, R) commensurable with PSL(2, Z)*\n",
    "Proc. Sympos. Pure Math., 37 (1980), pp. 533-555\n",
    "\n",
    "\n",
    "P. Zograf *A spectral proof of Rademacher's conjecture for congruence subgroups of the modular group*\n",
    "J. Reine Angew. Math., 414 (1991), pp. 113-116\n",
    "\n",
    "\n",
    "---\n",
    "\n",
    "https://pi.math.cornell.edu/~thurston/slides/reid.pdf\n",
    "\n",
    "A lot of the material for the talk seems to come from this paper\n",
    "\n",
    "https://math.rice.edu/~ar99/genus0_final.pdf\n",
    "\n",
    "\n",
    "\n",
    "\n",
    "\n",
    "\n"
   ]
  },
  {
   "cell_type": "code",
   "execution_count": 7,
   "id": "5c3372ea-f6a1-4fa7-bb82-9ee990907e9a",
   "metadata": {},
   "outputs": [],
   "source": [
    "T = np.linspace(0,2*np.pi,41)\n",
    "\n",
    "pts = np.zeros((2,T.shape[0]))\n",
    "pts[0] = np.cos(T)\n",
    "pts[1] = np.sin(T) + 1\n",
    "\n",
    "X = np.cos(T)\n",
    "Y = np.sin(T) + 1"
   ]
  },
  {
   "cell_type": "code",
   "execution_count": 8,
   "id": "8fc0fe8b-5829-4bac-9c58-ac0fdd5a27b8",
   "metadata": {},
   "outputs": [
    {
     "data": {
      "image/png": "[encoded data removed]",
      "text/plain": [
       "<Figure size 640x480 with 1 Axes>"
      ]
     },
     "metadata": {},
     "output_type": "display_data"
    }
   ],
   "source": [
    "plt.plot(.5*X, .5*Y)\n",
    "plt.plot(.125*X + .5,.125*Y);"
   ]
  },
  {
   "cell_type": "code",
   "execution_count": 4,
   "id": "f4531d23-1a3f-4431-8138-c68f06ad09ef",
   "metadata": {},
   "outputs": [
    {
     "data": {
      "text/plain": [
       "array([[0.1019314 , 0.56613423],\n",
       "       [0.71850953, 0.54824171],\n",
       "       [0.48720462, 0.27959117],\n",
       "       [0.95888955, 0.52756712],\n",
       "       [0.81265768, 0.2979386 ]])"
      ]
     },
     "execution_count": 4,
     "metadata": {},
     "output_type": "execute_result"
    }
   ],
   "source": [
    "a = np.random.rand(10).reshape((2,5))\n",
    "det = np.linalg.det\n",
    "b = list(zip(*a))\n",
    "b.sort(key= lambda x: x[0]/x[1])\n",
    "c = np.array(b)\n",
    "c"
   ]
  },
  {
   "cell_type": "code",
   "execution_count": 161,
   "id": "5ae73ca4-57c3-4d3c-aeae-0558e7f1e9b0",
   "metadata": {},
   "outputs": [],
   "source": []
  },
  {
   "cell_type": "code",
   "execution_count": 5,
   "id": "16b68959-8352-4e7e-9d8a-9b7b48cfc109",
   "metadata": {},
   "outputs": [
    {
     "data": {
      "text/plain": [
       "array([[0. , 1.1],\n",
       "       [1. , 2. ],\n",
       "       [2. , 3. ],\n",
       "       [3. , 4. ],\n",
       "       [1. , 1. ]])"
      ]
     },
     "execution_count": 5,
     "metadata": {},
     "output_type": "execute_result"
    }
   ],
   "source": [
    "c = [0,1,2,3,1],[1.1,2,3,4,1]\n",
    "c = np.array(c)\n",
    "c = c.T\n",
    "c"
   ]
  },
  {
   "cell_type": "code",
   "execution_count": 9,
   "id": "6cf91b16-47a1-4546-9d86-4393a262f62a",
   "metadata": {},
   "outputs": [
    {
     "data": {
      "text/plain": [
       "array([[0.        , 1.41421356],\n",
       "       [0.70710678, 2.12132034],\n",
       "       [1.41421356, 2.82842712],\n",
       "       [1.41421356, 2.12132034],\n",
       "       [1.41421356, 1.41421356]])"
      ]
     },
     "execution_count": 9,
     "metadata": {},
     "output_type": "execute_result"
    }
   ],
   "source": [
    "det = np.linalg.det\n",
    "\n",
    "c = [0,1,1,3],[1.42,3,2,4]\n",
    "c = [0,1,1,2,1],[1,3,2,3,1]\n",
    "c = [0,1,1,2,1],[np.sqrt(2),3,2,3,1]\n",
    "c = np.array(c).astype(float)\n",
    "c = c.T\n",
    "for i in range(c.shape[0]-1):\n",
    "    #continue\n",
    "    c[i+1] = - c[i+1]/det(c[i:i+2])\n",
    "c"
   ]
  },
  {
   "cell_type": "code",
   "execution_count": 7,
   "id": "0dd07c61-1470-44e2-88c8-3730a8cce913",
   "metadata": {},
   "outputs": [
    {
     "data": {
      "text/plain": [
       "[1.0, 0.9999999999999998, 1.0000000000000002, 0.9999999999999998]"
      ]
     },
     "execution_count": 7,
     "metadata": {},
     "output_type": "execute_result"
    }
   ],
   "source": [
    "[ -det(c[i:i+2]) for i in range(c.shape[0]-1)]"
   ]
  },
  {
   "cell_type": "code",
   "execution_count": 337,
   "id": "fc8b0926-2742-4a2a-a25a-2d2e51d7547f",
   "metadata": {},
   "outputs": [
    {
     "data": {
      "text/plain": [
       "2.1213203435596424"
      ]
     },
     "execution_count": 337,
     "metadata": {},
     "output_type": "execute_result"
    }
   ],
   "source": [
    "3/np.sqrt(2)"
   ]
  },
  {
   "cell_type": "code",
   "execution_count": 361,
   "id": "16184d61-db6f-4a73-92ac-ef6ce201af9f",
   "metadata": {},
   "outputs": [
    {
     "data": {
      "text/plain": [
       "array([[0. , 1. ],\n",
       "       [0.5, 1.5],\n",
       "       [1. , 2. ],\n",
       "       [1. , 1.5],\n",
       "       [1. , 1. ]])"
      ]
     },
     "execution_count": 361,
     "metadata": {},
     "output_type": "execute_result"
    }
   ],
   "source": [
    "c/np.sqrt(2)"
   ]
  },
  {
   "cell_type": "code",
   "execution_count": 10,
   "id": "5e48133d-72d8-48ec-9e32-cf1105247171",
   "metadata": {},
   "outputs": [
    {
     "data": {
      "image/png": "[encoded data removed]",
      "text/plain": [
       "<Figure size 1600x800 with 1 Axes>"
      ]
     },
     "metadata": {},
     "output_type": "display_data"
    }
   ],
   "source": [
    "fig, ax = plt.subplots()\n",
    "fig.set_size_inches(16,8)\n",
    "ax.axis('equal')\n",
    "ax.axis('off')\n",
    "\n",
    "for t, r in zip(c[:,0], c[:,1]):\n",
    "    ax.plot(X/r**2/2 + t/r, Y/r**2/2,'k');\n"
   ]
  },
  {
   "cell_type": "code",
   "execution_count": 312,
   "id": "0eb32828-17e3-4da0-9d51-861c4d55ef4a",
   "metadata": {},
   "outputs": [
    {
     "data": {
      "text/plain": [
       "[1.0, 0.9999999999999998, 1.0000000000000002, 0.9999999999999998]"
      ]
     },
     "execution_count": 312,
     "metadata": {},
     "output_type": "execute_result"
    }
   ],
   "source": [
    "[ -det(c[i:i+2]) for i in range(c.shape[0]-1)]"
   ]
  },
  {
   "cell_type": "code",
   "execution_count": 9,
   "id": "0660b3c0-1fa0-4689-9ec7-57b2398e43e7",
   "metadata": {},
   "outputs": [
    {
     "data": {
      "text/plain": [
       "2.0"
      ]
     },
     "execution_count": 9,
     "metadata": {},
     "output_type": "execute_result"
    }
   ],
   "source": [
    "-det(c[[2,4]])"
   ]
  },
  {
   "cell_type": "code",
   "execution_count": 356,
   "id": "c9f8e35f-b4e7-4287-8c34-c7e44acba7da",
   "metadata": {},
   "outputs": [
    {
     "data": {
      "text/plain": [
       "array([[0.        , 1.41421356],\n",
       "       [0.70710678, 2.12132034],\n",
       "       [1.41421356, 2.82842712],\n",
       "       [1.41421356, 2.12132034],\n",
       "       [1.41421356, 1.41421356]])"
      ]
     },
     "execution_count": 356,
     "metadata": {},
     "output_type": "execute_result"
    }
   ],
   "source": []
  },
  {
   "cell_type": "code",
   "execution_count": 130,
   "id": "2cfb4d83-7422-4cbf-9d91-5098cf3ff316",
   "metadata": {},
   "outputs": [
    {
     "data": {
      "image/png": "[encoded data removed]",
      "text/plain": [
       "<Figure size 432x288 with 1 Axes>"
      ]
     },
     "metadata": {
      "needs_background": "light"
     },
     "output_type": "display_data"
    }
   ],
   "source": [
    "c = [0,1,1],[2**.25,2,1]\n",
    "\n",
    "c = np.array(c).astype(float)\n",
    "c = c.T\n",
    "for i in range(c.shape[0]-1):\n",
    "    #continue\n",
    "    c[i+1] = - c[i+1]/det(c[i:i+2])\n",
    "for t, r in zip(c[:,0], c[:,1]):\n",
    "    \n",
    "    plt.plot(X/r**2/2 + t/r, Y/r**2/2,'k');\n",
    "    \n",
    "c[1,1]/c[0,1] - 2**.5\n",
    "\n",
    "plt.plot(.5*X[:21] + .5, .5*(Y[:21] - 1),'r');\n",
    "\n",
    "Z = np.array([1+1J, 1J, .5*(1+ 1J)])\n",
    "plt.plot(Z.real, Z.imag, 'bo');"
   ]
  },
  {
   "cell_type": "markdown",
   "id": "07d5be4e-1846-4d3d-9666-1c18a4d0cbdb",
   "metadata": {},
   "source": [
    "https://web.ma.utexas.edu/users/areid/pseudo.pdf"
   ]
  },
  {
   "cell_type": "markdown",
   "id": "6cd3ab1c-7c96-40e2-8d3c-311c5ed14c38",
   "metadata": {},
   "source": [
    "0   -> $\\infty$\n",
    "1/2 ->  1"
   ]
  },
  {
   "cell_type": "code",
   "execution_count": 139,
   "id": "68d26136-7767-431b-b02a-a3e0811900fd",
   "metadata": {},
   "outputs": [
    {
     "data": {
      "text/plain": [
       "2.0"
      ]
     },
     "execution_count": 139,
     "metadata": {},
     "output_type": "execute_result"
    }
   ],
   "source": [
    "c[1,1]/c[1,0]"
   ]
  },
  {
   "cell_type": "code",
   "execution_count": 137,
   "id": "fdeade77-8b14-45ef-8912-856db512e614",
   "metadata": {},
   "outputs": [
    {
     "data": {
      "text/plain": [
       "(-1.0,\n",
       " array([[0.        , 1.18920712],\n",
       "        [0.84089642, 1.68179283],\n",
       "        [1.18920712, 1.18920712]]))"
      ]
     },
     "execution_count": 137,
     "metadata": {},
     "output_type": "execute_result"
    }
   ],
   "source": [
    "np.linalg.det(c[-2:]),c"
   ]
  },
  {
   "cell_type": "code",
   "execution_count": 428,
   "id": "3152c545-1ede-4038-8e9f-87b251906a8a",
   "metadata": {},
   "outputs": [],
   "source": [
    "A = np.array([[3,2],[4,3]])"
   ]
  },
  {
   "cell_type": "code",
   "execution_count": 156,
   "id": "a8773dc6-8dcb-453c-b511-1a6f5c767ff4",
   "metadata": {},
   "outputs": [
    {
     "data": {
      "text/plain": [
       "1.0"
      ]
     },
     "execution_count": 156,
     "metadata": {},
     "output_type": "execute_result"
    }
   ],
   "source": [
    "dd = np.zeros((4,2))\n",
    "dd[1:] = c[:]\n",
    "dd[0,0] = 1/2**.25\n",
    "np.linalg.det(dd[:2])"
   ]
  },
  {
   "cell_type": "code",
   "execution_count": 184,
   "id": "7d9992d7-6ee6-4e7e-8bf8-02f6146ce7d0",
   "metadata": {},
   "outputs": [
    {
     "data": {
      "text/plain": [
       "(array([[ 1.18920712, -1.18920712],\n",
       "        [ 0.        ,  0.84089642]]),\n",
       " array([[0.        , 0.84089642],\n",
       "        [1.18920712, 1.68179283]]))"
      ]
     },
     "execution_count": 184,
     "metadata": {},
     "output_type": "execute_result"
    }
   ],
   "source": [
    "np.linalg.inv(dd[[0,-1]].T), dd[[1,2]].T"
   ]
  },
  {
   "cell_type": "code",
   "execution_count": 163,
   "id": "56543e73-4235-434f-a705-8f1716a47422",
   "metadata": {},
   "outputs": [
    {
     "data": {
      "text/plain": [
       "array([[1.41421356, 0.70710678],\n",
       "       [1.41421356, 1.41421356]])"
      ]
     },
     "execution_count": 163,
     "metadata": {},
     "output_type": "execute_result"
    }
   ],
   "source": [
    "dd[[3,2]].T @ np.linalg.inv(dd[:2])"
   ]
  },
  {
   "cell_type": "code",
   "execution_count": 182,
   "id": "892efda3-e4d3-4196-88a8-0ea514e9bbfc",
   "metadata": {},
   "outputs": [
    {
     "data": {
      "text/plain": [
       "array([[ 1., -1.],\n",
       "       [ 2., -1.]])"
      ]
     },
     "execution_count": 182,
     "metadata": {},
     "output_type": "execute_result"
    }
   ],
   "source": [
    "dd[[2,1]].T@np.linalg.inv(dd[[0,-1]].T)"
   ]
  },
  {
   "cell_type": "markdown",
   "id": "584dfdca-8b64-4794-9954-1ef8da64edad",
   "metadata": {},
   "source": [
    "---"
   ]
  },
  {
   "cell_type": "code",
   "execution_count": 219,
   "id": "3def426d-5872-44f4-969f-396f24d15fed",
   "metadata": {},
   "outputs": [
    {
     "data": {
      "text/plain": [
       "(array([[1. , 0.5],\n",
       "        [1. , 1. ]]),\n",
       " array([[ 0. ,  0.5],\n",
       "        [-1. ,  2. ]]))"
      ]
     },
     "execution_count": 219,
     "metadata": {},
     "output_type": "execute_result"
    }
   ],
   "source": [
    "aa = np.array([1,.5,1,1]).reshape(2,2)\n",
    "bb = np.array([0,.5,-1,2]).reshape(2,2)\n",
    "aa, bb"
   ]
  },
  {
   "cell_type": "code",
   "execution_count": 212,
   "id": "03f1a063-ad99-4272-9a59-e9605291ca52",
   "metadata": {},
   "outputs": [],
   "source": [
    "aa = np.sqrt(2) * aa\n",
    "bb = np.sqrt(2) * bb"
   ]
  },
  {
   "cell_type": "code",
   "execution_count": 213,
   "id": "8d618af2-8559-4e0d-9e7b-2092f5d36ba1",
   "metadata": {},
   "outputs": [
    {
     "data": {
      "text/plain": [
       "(1.0000000000000002, 1.0000000000000002)"
      ]
     },
     "execution_count": 213,
     "metadata": {},
     "output_type": "execute_result"
    }
   ],
   "source": [
    "np.linalg.det(aa),np.linalg.det(bb),"
   ]
  },
  {
   "cell_type": "code",
   "execution_count": 214,
   "id": "5222d5be-b6b0-4c94-8594-002987a60fd7",
   "metadata": {},
   "outputs": [
    {
     "data": {
      "text/plain": [
       "array([[-1.,  3.],\n",
       "       [-2.,  5.]])"
      ]
     },
     "execution_count": 214,
     "metadata": {},
     "output_type": "execute_result"
    }
   ],
   "source": [
    "aa @  bb"
   ]
  },
  {
   "cell_type": "code",
   "execution_count": 189,
   "id": "17057092-657d-4a2a-803a-31c3d6a8a8e1",
   "metadata": {},
   "outputs": [
    {
     "data": {
      "text/plain": [
       "array([[-1.,  3.],\n",
       "       [-2.,  5.]])"
      ]
     },
     "execution_count": 189,
     "metadata": {},
     "output_type": "execute_result"
    }
   ],
   "source": [
    "2  * aa @ bb"
   ]
  },
  {
   "cell_type": "code",
   "execution_count": 190,
   "id": "ce6ac6f8-85ce-4208-b2ac-5a9286b0b0c9",
   "metadata": {},
   "outputs": [
    {
     "data": {
      "text/plain": [
       "array([[1., 1.],\n",
       "       [2., 3.]])"
      ]
     },
     "execution_count": 190,
     "metadata": {},
     "output_type": "execute_result"
    }
   ],
   "source": [
    "2 * bb @ aa"
   ]
  },
  {
   "cell_type": "code",
   "execution_count": 215,
   "id": "a84bc239-2512-4802-bfb4-8c7842298e41",
   "metadata": {},
   "outputs": [
    {
     "data": {
      "text/plain": [
       "array([[ 5., -1.],\n",
       "       [ 6., -1.]])"
      ]
     },
     "execution_count": 215,
     "metadata": {},
     "output_type": "execute_result"
    }
   ],
   "source": [
    "aa @ np.linalg.inv(bb)"
   ]
  },
  {
   "cell_type": "code",
   "execution_count": 194,
   "id": "d5cd06e9-07b5-4b84-b286-2bae811f9db0",
   "metadata": {},
   "outputs": [
    {
     "data": {
      "text/plain": [
       "(array([[3., 2.],\n",
       "        [4., 3.]]),\n",
       " array([[-1.,  2.],\n",
       "        [-4.,  7.]]))"
      ]
     },
     "execution_count": 194,
     "metadata": {},
     "output_type": "execute_result"
    }
   ],
   "source": [
    "2 * aa @ aa, 2 * bb @ bb"
   ]
  },
  {
   "cell_type": "code",
   "execution_count": 205,
   "id": "9f355e0b-76ab-4aa1-80af-355dacb4f151",
   "metadata": {},
   "outputs": [
    {
     "data": {
      "text/plain": [
       "'/home/macbuse/Documents/SQUARES'"
      ]
     },
     "execution_count": 205,
     "metadata": {},
     "output_type": "execute_result"
    }
   ],
   "source": []
  },
  {
   "cell_type": "markdown",
   "id": "bdfac130-ac06-4e59-b8f5-c01263118f3c",
   "metadata": {},
   "source": [
    "---\n",
    "\n",
    "# this is funny\n",
    "\n",
    " the commutators aren't conjugate over SL(2,Z)\n",
    " "
   ]
  },
  {
   "cell_type": "code",
   "execution_count": 216,
   "id": "67d5f2f7-3a7b-4625-8848-fa2be21ed00b",
   "metadata": {},
   "outputs": [
    {
     "data": {
      "text/plain": [
       "array([[-1.,  0.],\n",
       "       [-8., -1.]])"
      ]
     },
     "execution_count": 216,
     "metadata": {},
     "output_type": "execute_result"
    }
   ],
   "source": [
    "bb @  np.linalg.inv(aa) @ np.linalg.inv(bb) @ aa"
   ]
  },
  {
   "cell_type": "code",
   "execution_count": 217,
   "id": "2e5439eb-9d59-4d85-b469-6b1f3b8e7d93",
   "metadata": {},
   "outputs": [
    {
     "data": {
      "text/plain": [
       "array([[-1.,  4.],\n",
       "       [ 0., -1.]])"
      ]
     },
     "execution_count": 217,
     "metadata": {},
     "output_type": "execute_result"
    }
   ],
   "source": [
    "np.linalg.inv(bb @ aa) @ aa @ bb"
   ]
  },
  {
   "cell_type": "code",
   "execution_count": 218,
   "id": "5e4ab837-2850-4bfa-b5b6-11c45354cda2",
   "metadata": {},
   "outputs": [
    {
     "data": {
      "text/plain": [
       "array([[-1., -4.],\n",
       "       [ 0., -1.]])"
      ]
     },
     "execution_count": 218,
     "metadata": {},
     "output_type": "execute_result"
    }
   ],
   "source": [
    "np.linalg.inv(aa @ bb) @ bb @ aa"
   ]
  },
  {
   "cell_type": "markdown",
   "id": "d806cda8-05a3-401b-ad19-1ddbd4f74cb1",
   "metadata": {},
   "source": [
    "---"
   ]
  },
  {
   "cell_type": "code",
   "execution_count": 240,
   "id": "51c71916-051f-4bbd-8cd8-4835c404af45",
   "metadata": {},
   "outputs": [
    {
     "data": {
      "text/plain": [
       "array([[ 9., -4.],\n",
       "       [16., -7.]])"
      ]
     },
     "execution_count": 240,
     "metadata": {},
     "output_type": "execute_result"
    }
   ],
   "source": [
    "X = (aa @ bb @  np.linalg.inv(aa) @ np.linalg.inv(bb))\n",
    "-X"
   ]
  },
  {
   "cell_type": "code",
   "execution_count": null,
   "id": "f0a91923-2da9-45ae-9cd7-49e779493390",
   "metadata": {},
   "outputs": [],
   "source": [
    "16 x^2 - 16x  + 4 = 0\n",
    "4 x^2 - 4x  + 1 =  (2x + 1)^2 = 0"
   ]
  },
  {
   "cell_type": "code",
   "execution_count": 242,
   "id": "7d262e3f-cd4c-4752-b752-02f7fb2b43ca",
   "metadata": {},
   "outputs": [
    {
     "data": {
      "text/plain": [
       "array([[-9.,  8.],\n",
       "       [-8.,  7.]])"
      ]
     },
     "execution_count": 242,
     "metadata": {},
     "output_type": "execute_result"
    }
   ],
   "source": [
    "X =  np.linalg.inv(bb) @ aa @ bb @ np.linalg.inv(aa)\n",
    "X"
   ]
  },
  {
   "cell_type": "code",
   "execution_count": null,
   "id": "a12e51ab-c15e-45f5-a0ee-ef3d495fc1f4",
   "metadata": {},
   "outputs": [],
   "source": []
  },
  {
   "cell_type": "markdown",
   "id": "34a41cac-e76c-4d80-9725-099ba04f6e03",
   "metadata": {},
   "source": [
    "this is easier to check \n",
    "- it fixes 1 \n",
    "---\n",
    "\n",
    "so 0, 1/2 have stabilisers congruent to\n",
    "\n",
    "$\\begin{pmatrix} \n",
    "1 & 4 \\\\ 0 & 1\n",
    "\\end{pmatrix} \n",
    "$\n",
    "\n",
    "1, 0 have stabilisers congruent to\n",
    "\n",
    "$\\begin{pmatrix} \n",
    "1 & 8 \\\\ 0 & 1\n",
    "\\end{pmatrix} \n",
    "$"
   ]
  },
  {
   "cell_type": "code",
   "execution_count": null,
   "id": "047f4e35-fd4b-4cfc-8f7d-fdf8b5b77baa",
   "metadata": {},
   "outputs": [],
   "source": []
  },
  {
   "cell_type": "code",
   "execution_count": 249,
   "id": "39bb4c50-2b78-4fb9-8461-ad765238acee",
   "metadata": {},
   "outputs": [
    {
     "data": {
      "text/plain": [
       "array([[ 1.,  0.],\n",
       "       [-4.,  1.]])"
      ]
     },
     "execution_count": 249,
     "metadata": {},
     "output_type": "execute_result"
    }
   ],
   "source": [
    "xx = np.array([1,1,0,1]).reshape(2,2)\n",
    "tt = np.array([0,-1/2,2,0]).reshape(2,2)\n",
    "tt @ xx @ -tt"
   ]
  },
  {
   "cell_type": "code",
   "execution_count": null,
   "id": "d77ab2f7-450a-4603-b6c2-b575fddfaeec",
   "metadata": {},
   "outputs": [],
   "source": []
  },
  {
   "cell_type": "markdown",
   "id": "d1a5a8ed-7e92-4487-8b97-9d6bc73a904a",
   "metadata": {},
   "source": [
    "---\n",
    "\n",
    "# so what ?\n",
    "\n",
    "well there is a subgp of $\\Gamma(2)$ contained in the group \n",
    "generated by squares of generators...."
   ]
  },
  {
   "cell_type": "code",
   "execution_count": 446,
   "id": "cd6a03ca-9216-4479-b0ee-5bbd5ce3b5dc",
   "metadata": {},
   "outputs": [],
   "source": [
    "# reflection in $\\infty$, 1/2\n",
    "\n",
    "B = np.array([[-1,1],[0,1]])"
   ]
  },
  {
   "cell_type": "code",
   "execution_count": 449,
   "id": "d770961f-18e1-4576-8dcd-f3129009ddfc",
   "metadata": {},
   "outputs": [
    {
     "data": {
      "text/plain": [
       "(array([[-1.,  2.],\n",
       "        [-4.,  7.]]),\n",
       " array([[-1.,  2.],\n",
       "        [-4.,  7.]]))"
      ]
     },
     "execution_count": 449,
     "metadata": {},
     "output_type": "execute_result"
    }
   ],
   "source": [
    "np.linalg.inv(B)@A@B, B@A@np.linalg.inv(B)"
   ]
  },
  {
   "cell_type": "code",
   "execution_count": null,
   "id": "08020697-1613-4620-987a-18ba3b4683c2",
   "metadata": {},
   "outputs": [],
   "source": [
    "$\\infty$ -> 1/4\n",
    "1 -> 1/3"
   ]
  },
  {
   "cell_type": "code",
   "execution_count": 437,
   "id": "87107543-5e91-4934-bc5c-f417b075eda5",
   "metadata": {},
   "outputs": [
    {
     "data": {
      "text/plain": [
       "array([[-1.,  2.],\n",
       "       [ 0.,  1.],\n",
       "       [ 1.,  2.]])"
      ]
     },
     "execution_count": 437,
     "metadata": {},
     "output_type": "execute_result"
    }
   ],
   "source": [
    "c = [-1,0,1],[2,1,2]\n",
    "\n",
    "c = np.array(c).astype(float)\n",
    "c = c.T\n",
    "for i in range(c.shape[0]-1):\n",
    "    #continue\n",
    "    c[i+1] = - c[i+1]/det(c[i:i+2])\n",
    "c"
   ]
  },
  {
   "cell_type": "code",
   "execution_count": 438,
   "id": "0d1efb02-0b05-42c2-ad04-2a76874d13b1",
   "metadata": {},
   "outputs": [
    {
     "data": {
      "text/plain": [
       "array([[-1.,  2.],\n",
       "       [ 0.,  1.],\n",
       "       [ 1.,  2.]])"
      ]
     },
     "execution_count": 438,
     "metadata": {},
     "output_type": "execute_result"
    }
   ],
   "source": [
    "c"
   ]
  },
  {
   "cell_type": "markdown",
   "id": "f4fde30e-e796-4c03-8643-dc37e8fb02d7",
   "metadata": {},
   "source": [
    "----\n",
    "\n",
    "$PSL(2, \\mathbb{Z}/4\\mathbb{Z})$\n",
    "\n",
    "so the Farey graph for this is the regular octahedron\n",
    "\n",
    "- 6 vertices \n",
    "- 12 edges\n",
    "- 8 faces\n",
    "\n",
    "\n"
   ]
  },
  {
   "cell_type": "code",
   "execution_count": 117,
   "id": "d8a28d48-2cb5-47a7-9145-5bef314e685f",
   "metadata": {},
   "outputs": [],
   "source": [
    "import numpy as np"
   ]
  },
  {
   "cell_type": "code",
   "execution_count": 118,
   "id": "316e2397-3fd7-45c9-a03a-d44ee2d979e9",
   "metadata": {},
   "outputs": [
    {
     "data": {
      "text/plain": [
       "array([[1., 1., 1., 1.],\n",
       "       [1., 1., 1., 1.],\n",
       "       [1., 1., 1., 1.],\n",
       "       [1., 1., 1., 1.]])"
      ]
     },
     "execution_count": 118,
     "metadata": {},
     "output_type": "execute_result"
    }
   ],
   "source": [
    "X = np.ones((4,4))\n",
    "X"
   ]
  },
  {
   "cell_type": "code",
   "execution_count": 121,
   "id": "9f0aa95a-f045-4c5f-8eb6-885ceb255e3e",
   "metadata": {},
   "outputs": [
    {
     "data": {
      "text/plain": [
       "array([[0., 1., 0., 1.],\n",
       "       [1., 1., 1., 1.],\n",
       "       [0., 1., 0., 1.],\n",
       "       [1., 1., 1., 1.]])"
      ]
     },
     "execution_count": 121,
     "metadata": {},
     "output_type": "execute_result"
    }
   ],
   "source": [
    "X[::2,::2] = 0        \n",
    "X"
   ]
  },
  {
   "cell_type": "code",
   "execution_count": 122,
   "id": "be95e7f0-1bed-4c63-adb4-3553c95c03e4",
   "metadata": {},
   "outputs": [],
   "source": [
    "a,b = np.where(X==1)"
   ]
  },
  {
   "cell_type": "code",
   "execution_count": 123,
   "id": "1aeca0ca-0d0e-4853-96f8-9c205a85c5de",
   "metadata": {},
   "outputs": [
    {
     "data": {
      "text/plain": [
       "12"
      ]
     },
     "execution_count": 123,
     "metadata": {},
     "output_type": "execute_result"
    }
   ],
   "source": [
    "pts = list(zip(a,b))\n",
    "len(pts)"
   ]
  },
  {
   "cell_type": "markdown",
   "id": "4bd0203a-2825-4672-b2ef-5e500011481d",
   "metadata": {},
   "source": [
    "\n",
    "$2 \\times 2 = 4 \\sim 0$\n",
    "\n",
    "so that $(1,2) \\sim (-1,2)$\n",
    "\n",
    "and there are lots of duplicates in the list"
   ]
  },
  {
   "cell_type": "code",
   "execution_count": 124,
   "id": "53624ffd-6792-4891-957e-f276855c6c92",
   "metadata": {},
   "outputs": [
    {
     "data": {
      "text/plain": [
       "[(0, 1),\n",
       " (0, 3),\n",
       " (1, 0),\n",
       " (1, 1),\n",
       " (1, 2),\n",
       " (1, 3),\n",
       " (2, 1),\n",
       " (2, 3),\n",
       " (3, 0),\n",
       " (3, 1),\n",
       " (3, 2),\n",
       " (3, 3)]"
      ]
     },
     "execution_count": 124,
     "metadata": {},
     "output_type": "execute_result"
    }
   ],
   "source": [
    "pts"
   ]
  },
  {
   "cell_type": "code",
   "execution_count": 116,
   "id": "604ab9b1-789e-4eb0-8e12-b8b647b91baa",
   "metadata": {},
   "outputs": [
    {
     "data": {
      "text/plain": [
       "[]"
      ]
     },
     "execution_count": 116,
     "metadata": {},
     "output_type": "execute_result"
    }
   ],
   "source": [
    "[x for x in pts if x[1] <3 ]"
   ]
  },
  {
   "cell_type": "markdown",
   "id": "c3a9f108-10fe-410c-b1b8-c2c8d8668066",
   "metadata": {},
   "source": [
    "----\n",
    "\n",
    "$PSL(2, \\mathbb{Z}/6\\mathbb{Z})$\n",
    "\n",
    "so the Farey graph for this is a torus \n",
    "\n",
    "- 12 vertices = $(6^2 - 3^2 - 2^2 + 1) / 2$ \n",
    "- 36 edges\n",
    "- 24 faces\n",
    "\n",
    "\n"
   ]
  },
  {
   "cell_type": "code",
   "execution_count": 17,
   "id": "1025bc88-3a2e-44a4-b9c4-57d6ca0d1de7",
   "metadata": {},
   "outputs": [],
   "source": [
    "M = np.ones((6,6))\n",
    "M[::2,::2] = 0\n",
    "M[::3,::3] = 0"
   ]
  },
  {
   "cell_type": "code",
   "execution_count": 18,
   "id": "ee6334dd-e18e-4589-9641-c5813551b6e9",
   "metadata": {},
   "outputs": [],
   "source": [
    "a,b = np.where(M >0)\n",
    "V = list(zip(a,b))"
   ]
  },
  {
   "cell_type": "code",
   "execution_count": 19,
   "id": "6d572d0f-14d7-4ad3-883f-df524f8b5481",
   "metadata": {},
   "outputs": [
    {
     "data": {
      "text/plain": [
       "24"
      ]
     },
     "execution_count": 19,
     "metadata": {},
     "output_type": "execute_result"
    }
   ],
   "source": [
    "len(V)"
   ]
  },
  {
   "cell_type": "code",
   "execution_count": 110,
   "id": "ae420881-2408-4b58-af1f-d905059283bd",
   "metadata": {},
   "outputs": [],
   "source": [
    "a = [(4,5),(1,5)]\n",
    "b = [(3,4),(4,3)]\n",
    "c = [(2,1),(1,1)]\n",
    "d = [(1,0),(0,1)]\n",
    "e = [(4,1),(5,1)]\n",
    "f = [(3,2),(4,3)]\n",
    "\n",
    "tt = []\n",
    "for xx in [a,b,c,d,e,f]:\n",
    "    xx = [np.array(x) for x in xx]\n",
    "    for _ in range(6):\n",
    "        xx.append((3*xx[-1] + xx[-2] ) % 6)\n",
    "    tt.append(np.array(xx).T)"
   ]
  },
  {
   "cell_type": "markdown",
   "id": "48b892ff-9e09-4fdd-860a-35b86fa8ba91",
   "metadata": {},
   "source": [
    "$\\begin{array}{cccccccccccc}\n",
    "4/5& &1/5& &1/2& &4/5& &1/5& &1/2& &4/5& &1/5& &\\\\\n",
    "&3/4& &4/3& &3/1& &1/0& &0/1& &1/3& &3/4& &4/3& \\\\\n",
    "2/1& &1/1& &5/4& &4/1& &5/1& &1/4& &2/1& &1/1& &\\\\\n",
    "&1/0& &0/1& &1/3& &3/4& &4/3& &3/1& &1/0& &0/1& \\\\\n",
    "4/1& &5/1& &1/4& &2/1& &1/1& &5/4& &4/1& &5/1& &\\\\\n",
    "&3/2& &4/3& &3/5& &1/0& &0/5& &1/3& &3/2& &4/3& \n",
    "\\end{array}$"
   ]
  },
  {
   "cell_type": "code",
   "execution_count": 115,
   "id": "ab210739-cdc0-4dd6-b5c2-e7cf16f7691d",
   "metadata": {},
   "outputs": [
    {
     "name": "stdout",
     "output_type": "stream",
     "text": [
      "$\\begin{array}{ccccccccccccccccc}\n",
      "4/5& &1/5& &1/2& &4/5& &1/5& &1/2& &4/5& &1/5& &\\\\\n",
      "&3/4& &4/3& &3/1& &1/0& &0/1& &1/3& &3/4& &4/3& \\\\\n",
      "2/1& &1/1& &5/4& &4/1& &5/1& &1/4& &2/1& &1/1& &\\\\\n",
      "&1/0& &0/1& &1/3& &3/4& &4/3& &3/1& &1/0& &0/1& \\\\\n",
      "4/1& &5/1& &1/4& &2/1& &1/1& &5/4& &4/1& &5/1& &\\\\\n",
      "&3/2& &4/3& &3/5& &1/0& &0/5& &1/3& &3/2& &4/3& \n",
      "\\end{array}$\n"
     ]
    }
   ],
   "source": [
    "table = ['$\\\\begin{array}{ccccccccccccccccc}\\n']\n",
    "ff = [\"{}/{}& &\", \"&{}/{}& \"]\n",
    "for i, row in enumerate(tt):\n",
    "    table.append(''.join([ff[i%2].format(v[0],v[1])for v in row.T ]) )\n",
    "    table.append('\\\\\\\\\\n')\n",
    "table[-1] = '\\n\\end{array}$'\n",
    "print(''.join(table))"
   ]
  },
  {
   "cell_type": "code",
   "execution_count": 114,
   "id": "a420bbde-ea43-40fe-a764-c209749f1708",
   "metadata": {},
   "outputs": [
    {
     "data": {
      "text/plain": [
       "'ccccccccccccccccc'"
      ]
     },
     "execution_count": 114,
     "metadata": {},
     "output_type": "execute_result"
    }
   ],
   "source": [
    "\"4/5& &1/5& &1/2& &4/5& &1/5& &1/2& &4/5& &1/5& &\\\\\".count('&')\n",
    "\n",
    "\"&3/4& &4/3& &3/1& &1/0& &0/1& &1/3& &3/4& &4/3&\".count('&')\n",
    "'c'*17"
   ]
  },
  {
   "cell_type": "code",
   "execution_count": 85,
   "id": "16492651-e6ce-41e5-b762-04005153afc8",
   "metadata": {},
   "outputs": [
    {
     "data": {
      "text/plain": [
       "[<matplotlib.lines.Line2D at 0x7f32a19b40d0>]"
      ]
     },
     "execution_count": 85,
     "metadata": {},
     "output_type": "execute_result"
    },
    {
     "data": {
      "image/png": "[encoded data removed]",
      "text/plain": [
       "<Figure size 1152x576 with 1 Axes>"
      ]
     },
     "metadata": {
      "needs_background": "light"
     },
     "output_type": "display_data"
    }
   ],
   "source": [
    "import numpy as np\n",
    "import matplotlib.pyplot as plt\n",
    "\n",
    "#using cplx numbers\n",
    "def plt_cplx(Z, \n",
    "             ax=plt, \n",
    "             sty='r'):\n",
    "    X = [z.real for z in Z]\n",
    "    Y = [z.imag for z in Z] \n",
    "    ax.plot(X,Y,sty)\n",
    "\n",
    "fig, ax = plt.subplots()\n",
    "fig.set_size_inches(16,8)\n",
    "ax.axis('off')\n",
    "\n",
    "#motif = np.array([-.5, -.2+.1J, .2+.1J, .5])\n",
    "\n",
    "T = np.linspace(np.pi, 0, 20)\n",
    "motif = np.exp(1J*T)/2\n",
    "#choose a color scheme\n",
    "cols = 'ryb'\n",
    "\n",
    "\n",
    "pts = np.array([np.arange(5), 5*np.ones(5, dtype=int)]).T\n",
    "\n",
    "        \n",
    "for pt in tt[0].T: \n",
    "    x,y = pt  \n",
    "    #print(x,y)\n",
    "    #continue\n",
    "    label = \"{}/\\n{}\".format(x,y)\n",
    "\n",
    "    ax.annotate(label, # this is the text\n",
    "                 (x/y, 0), # this is the point to label\n",
    "                 textcoords=\"offset points\", # how to position the text\n",
    "                 xytext=(0,-25), # distance from text to points (x,y) : not same units\n",
    "                 ha='center') # horizontal alignment can be left, right or center\n",
    "\n",
    "plt.plot(tt[0][0],tt[0][1],'bo')"
   ]
  },
  {
   "cell_type": "code",
   "execution_count": null,
   "id": "49b80f9f-21a9-4097-9b31-68f10b3556b8",
   "metadata": {},
   "outputs": [],
   "source": []
  },
  {
   "cell_type": "code",
   "execution_count": 254,
   "id": "969cd172-45a8-4a37-aee7-c0f37f2a3d3f",
   "metadata": {},
   "outputs": [
    {
     "data": {
      "text/plain": [
       "array([[ 4, -3],\n",
       "       [-2,  1]])"
      ]
     },
     "execution_count": 254,
     "metadata": {},
     "output_type": "execute_result"
    }
   ],
   "source": [
    "A = np.array([1,2,3,4]).reshape(2,2)\n",
    "B = np.array([0,-1,1,0]).reshape(2,2)\n",
    "B.T @ A @ B"
   ]
  },
  {
   "cell_type": "code",
   "execution_count": 256,
   "id": "2b4a653d-a0b7-41b0-baf1-90e1bfd72ddf",
   "metadata": {},
   "outputs": [
    {
     "data": {
      "text/plain": [
       "array([[16.  , -3.  ],\n",
       "       [-2.  ,  0.25]])"
      ]
     },
     "execution_count": 256,
     "metadata": {},
     "output_type": "execute_result"
    }
   ],
   "source": [
    "A = np.array([1,2,3,4]).reshape(2,2)\n",
    "B = np.array([0,-1/2,2,0]).reshape(2,2)\n",
    "B.T @ A @ B"
   ]
  },
  {
   "cell_type": "code",
   "execution_count": 46,
   "id": "0bd27afa-23a0-4fdf-9517-a8cfb0dba916",
   "metadata": {},
   "outputs": [],
   "source": [
    "def ggcd(a,b):\n",
    "    tt = [(a,b) ]\n",
    "    while b > 0:\n",
    "        a -= b\n",
    "        if a < b:\n",
    "            a, b  = b, a\n",
    "        tt.append((a,b))\n",
    "        \n",
    "    return tt\n",
    "        \n",
    "    "
   ]
  },
  {
   "cell_type": "code",
   "execution_count": 30,
   "id": "f923dad2-f48e-4567-ad59-91a7804c2b1d",
   "metadata": {},
   "outputs": [
    {
     "data": {
      "text/plain": [
       "[(8, 3), (5, 3), (3, 2), (2, 1), (1, 1), (1, 0)]"
      ]
     },
     "execution_count": 30,
     "metadata": {},
     "output_type": "execute_result"
    }
   ],
   "source": [
    "ggcd(11,3)"
   ]
  },
  {
   "cell_type": "code",
   "execution_count": 47,
   "id": "03cb736f-ca60-4e3a-b7d1-23d0af35e192",
   "metadata": {},
   "outputs": [],
   "source": [
    "bb = [ ggcd(11,k) for k in range(1,11)]\n"
   ]
  },
  {
   "cell_type": "code",
   "execution_count": 22,
   "id": "11e5b5fb-b907-4086-8c68-6f8c9c9dec2f",
   "metadata": {},
   "outputs": [
    {
     "data": {
      "text/plain": [
       "[[(10, 1),\n",
       "  (9, 1),\n",
       "  (8, 1),\n",
       "  (7, 1),\n",
       "  (6, 1),\n",
       "  (5, 1),\n",
       "  (4, 1),\n",
       "  (3, 1),\n",
       "  (2, 1),\n",
       "  (1, 1),\n",
       "  (0, 1)],\n",
       " [(9, 2), (7, 2), (5, 2), (3, 2), (1, 2), (1, 1), (0, 1)],\n",
       " [(8, 3), (5, 3), (2, 3), (1, 2), (1, 1), (0, 1)],\n",
       " [(7, 4), (3, 4), (1, 3), (2, 1), (1, 1), (0, 1)],\n",
       " [(6, 5), (1, 5), (4, 1), (3, 1), (2, 1), (1, 1), (0, 1)],\n",
       " [(5, 6), (1, 5), (4, 1), (3, 1), (2, 1), (1, 1), (0, 1)],\n",
       " [(4, 7), (3, 4), (1, 3), (2, 1), (1, 1), (0, 1)],\n",
       " [(3, 8), (5, 3), (2, 3), (1, 2), (1, 1), (0, 1)],\n",
       " [(2, 9), (7, 2), (5, 2), (3, 2), (1, 2), (1, 1), (0, 1)],\n",
       " [(1, 10),\n",
       "  (9, 1),\n",
       "  (8, 1),\n",
       "  (7, 1),\n",
       "  (6, 1),\n",
       "  (5, 1),\n",
       "  (4, 1),\n",
       "  (3, 1),\n",
       "  (2, 1),\n",
       "  (1, 1),\n",
       "  (0, 1)]]"
      ]
     },
     "execution_count": 22,
     "metadata": {},
     "output_type": "execute_result"
    }
   ],
   "source": [
    "bb"
   ]
  },
  {
   "cell_type": "code",
   "execution_count": 7,
   "id": "d5ad3ef1-ce7f-4c48-9eec-abffa28326c7",
   "metadata": {},
   "outputs": [],
   "source": [
    "from itertools import chain"
   ]
  },
  {
   "cell_type": "code",
   "execution_count": 48,
   "id": "b79b7781-0318-476f-ae68-7cc34ded5082",
   "metadata": {},
   "outputs": [],
   "source": [
    "res = set(chain(*bb))"
   ]
  },
  {
   "cell_type": "code",
   "execution_count": 49,
   "id": "f6d5578b-9d8c-4ca4-bf5f-5bfa9cbf94cc",
   "metadata": {},
   "outputs": [
    {
     "data": {
      "text/plain": [
       "{(1, 0),\n",
       " (1, 1),\n",
       " (2, 1),\n",
       " (3, 1),\n",
       " (3, 2),\n",
       " (4, 1),\n",
       " (4, 3),\n",
       " (5, 1),\n",
       " (5, 2),\n",
       " (5, 3),\n",
       " (6, 1),\n",
       " (6, 5),\n",
       " (7, 1),\n",
       " (7, 2),\n",
       " (7, 4),\n",
       " (8, 1),\n",
       " (8, 3),\n",
       " (9, 1),\n",
       " (9, 2),\n",
       " (10, 1),\n",
       " (11, 1),\n",
       " (11, 2),\n",
       " (11, 3),\n",
       " (11, 4),\n",
       " (11, 5),\n",
       " (11, 6),\n",
       " (11, 7),\n",
       " (11, 8),\n",
       " (11, 9),\n",
       " (11, 10)}"
      ]
     },
     "execution_count": 49,
     "metadata": {},
     "output_type": "execute_result"
    }
   ],
   "source": [
    "res"
   ]
  },
  {
   "cell_type": "code",
   "execution_count": 55,
   "id": "8a77b04f-a84c-4d20-8aac-912a73f2a3aa",
   "metadata": {},
   "outputs": [],
   "source": [
    "T = np.linspace(0, 2*np.pi, 30)\n",
    "X = np.cos(T)\n",
    "Y = np.sin(T) + 1"
   ]
  },
  {
   "cell_type": "code",
   "execution_count": 56,
   "id": "e06c095f-76c0-41ee-85ee-1ea7389fc4ef",
   "metadata": {},
   "outputs": [
    {
     "data": {
      "image/png": "[encoded data removed]",
      "text/plain": [
       "<Figure size 432x288 with 1 Axes>"
      ]
     },
     "metadata": {
      "needs_background": "light"
     },
     "output_type": "display_data"
    }
   ],
   "source": [
    "#plt.plot(X/r**2/2 + t/r, Y/r**2/2,'k');\n",
    "ff = 2**.25\n",
    "for a,b in res:\n",
    "    #if a == 1 :continue\n",
    "    if a == 0 : continue\n",
    "    r = a/ff if a % 2 == 0 else a*ff\n",
    "    sty = \"k\" if a % 2 == 0 else \"r\"\n",
    "    plt.plot(X/r**2/2 + b/a, Y/r**2/2, sty)"
   ]
  },
  {
   "cell_type": "code",
   "execution_count": 57,
   "id": "e5d5c54e-815e-4b27-bef8-0b4b551ce888",
   "metadata": {},
   "outputs": [
    {
     "data": {
      "text/plain": [
       "array([ 0,  1,  4,  9, 16,  8,  2, 15, 13, 13, 15,  2,  8, 16,  9,  4,  1])"
      ]
     },
     "execution_count": 57,
     "metadata": {},
     "output_type": "execute_result"
    }
   ],
   "source": [
    "np.arange(17)**2 % 17"
   ]
  },
  {
   "cell_type": "code",
   "execution_count": 54,
   "id": "32a1fac5-331b-489d-8071-97b6b0867a47",
   "metadata": {},
   "outputs": [
    {
     "data": {
      "text/plain": [
       "2"
      ]
     },
     "execution_count": 54,
     "metadata": {},
     "output_type": "execute_result"
    }
   ],
   "source": [
    "6 **2  % 17"
   ]
  },
  {
   "cell_type": "code",
   "execution_count": 65,
   "id": "6c113e44-9b4a-447a-bf92-96b94939e20e",
   "metadata": {},
   "outputs": [
    {
     "data": {
      "text/plain": [
       "[17,\n",
       " 68,\n",
       " 153,\n",
       " 272,\n",
       " 425,\n",
       " 612,\n",
       " 833,\n",
       " 1088,\n",
       " 1377,\n",
       " 1700,\n",
       " 2057,\n",
       " 2448,\n",
       " 2873,\n",
       " 3332,\n",
       " 3825]"
      ]
     },
     "execution_count": 65,
     "metadata": {},
     "output_type": "execute_result"
    }
   ],
   "source": [
    "[ (2*(3*a)**2)  - a**2 for a in range(1,16) ]\n",
    "    "
   ]
  },
  {
   "cell_type": "code",
   "execution_count": 62,
   "id": "be244883-658b-4db8-af88-131f273c1fbe",
   "metadata": {},
   "outputs": [
    {
     "data": {
      "text/plain": [
       "0"
      ]
     },
     "execution_count": 62,
     "metadata": {},
     "output_type": "execute_result"
    }
   ],
   "source": [
    "9 - 2*81 % 17"
   ]
  },
  {
   "cell_type": "code",
   "execution_count": 89,
   "id": "229f2eb6-3798-4784-a102-bebf006784df",
   "metadata": {},
   "outputs": [
    {
     "data": {
      "text/plain": [
       "array([[9., 8.],\n",
       "       [8., 9.]])"
      ]
     },
     "execution_count": 89,
     "metadata": {},
     "output_type": "execute_result"
    }
   ],
   "source": [
    "x = np.sqrt(2)\n",
    "x = 1\n",
    "A = np.array([18,1,2,3]).reshape(2,2)\n",
    "A = np.array([9,8,8,9]).reshape(2,2)\n",
    "#A = np.array([0,1,1,0]).reshape(2,2)\n",
    "B = np.array([0,1/x,x,0]).reshape(2,2)\n",
    "B @ A @ np.linalg.inv(B)"
   ]
  },
  {
   "cell_type": "code",
   "execution_count": 88,
   "id": "dbdc2cb3-73b1-4e1e-be29-80e1f37cff72",
   "metadata": {},
   "outputs": [
    {
     "data": {
      "text/plain": [
       "17.00000000000001"
      ]
     },
     "execution_count": 88,
     "metadata": {},
     "output_type": "execute_result"
    }
   ],
   "source": [
    "np.linalg.det(A)"
   ]
  },
  {
   "cell_type": "code",
   "execution_count": 95,
   "id": "98f64935-7a19-4178-b5fe-32271ae76109",
   "metadata": {},
   "outputs": [
    {
     "data": {
      "text/plain": [
       "1.4142857142857144"
      ]
     },
     "execution_count": 95,
     "metadata": {},
     "output_type": "execute_result"
    }
   ],
   "source": [
    "L = [1,2,2,2,2,2]\n",
    "s = L[-1]\n",
    "for x in reversed(L[:-1]):\n",
    "    s = 1/s + x\n",
    "s"
   ]
  },
  {
   "cell_type": "code",
   "execution_count": null,
   "id": "f52c6705-dd5c-4b56-aa5c-0ca42dfa40d1",
   "metadata": {},
   "outputs": [],
   "source": []
  }
 ],
 "metadata": {
  "kernelspec": {
   "display_name": "Python 3 (ipykernel)",
   "language": "python",
   "name": "python3"
  },
  "language_info": {
   "codemirror_mode": {
    "name": "ipython",
    "version": 3
   },
   "file_extension": ".py",
   "mimetype": "text/x-python",
   "name": "python",
   "nbconvert_exporter": "python",
   "pygments_lexer": "ipython3",
   "version": "3.11.11"
  },
  "widgets": {
   "application/vnd.jupyter.widget-state+json": {
    "state": {},
    "version_major": 2,
    "version_minor": 0
   }
  }
 },
 "nbformat": 4,
 "nbformat_minor": 5
}
