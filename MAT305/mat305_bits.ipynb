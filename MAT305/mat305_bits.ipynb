{
 "cells": [
  {
   "cell_type": "code",
   "execution_count": 13,
   "metadata": {},
   "outputs": [],
   "source": [
    "import numpy as np\n",
    "import matplotlib.pyplot as plt\n",
    "\n",
    "def m2t(X):\n",
    "    def l2t(R):\n",
    "        return  ' & '.join([str(_) for _ in R])\n",
    "    body = ' \\\\\\\\ \\n'.join([l2t(_) for _ in X ])\n",
    "    \n",
    "    return f\"\\\\begin{{pmatrix}}\\n{body}\\n\\\\end{{pmatrix}}\"\n"
   ]
  },
  {
   "cell_type": "code",
   "execution_count": 78,
   "metadata": {},
   "outputs": [
    {
     "data": {
      "text/plain": [
       "array([[    0,     5,    55,   610,  6765],\n",
       "       [    1,     8,    89,   987, 10946],\n",
       "       [    1,    13,   144,  1597, 17711],\n",
       "       [    2,    21,   233,  2584, 28657],\n",
       "       [    3,    34,   377,  4181, 46368]])"
      ]
     },
     "execution_count": 78,
     "metadata": {},
     "output_type": "execute_result"
    }
   ],
   "source": [
    "N = 5\n",
    "\n",
    "F = [0,1]\n",
    "for _ in range(30):\n",
    "    F.append(F[-1] + F[-2])\n",
    "\n",
    "len(F[:9])\n",
    "\n",
    "M = np.array(F[:N*N]).reshape(N,N)\n",
    "np.linalg.det(M)\n",
    "#np.cross(M[2],M[1])\n",
    "#M[2] = M[2] -11*M[1]\n",
    "X = M.copy().T\n",
    "X"
   ]
  },
  {
   "cell_type": "code",
   "execution_count": 80,
   "metadata": {},
   "outputs": [
    {
     "data": {
      "text/plain": [
       "array([[    0,     5,    55,   610,  6765],\n",
       "       [    1,     8,    89,   987, 10946],\n",
       "       [    0,     0,     0,     0,     0],\n",
       "       [    0,     0,     0,     0,     0],\n",
       "       [    0,     0,     0,     0,     0]])"
      ]
     },
     "execution_count": 80,
     "metadata": {},
     "output_type": "execute_result"
    }
   ],
   "source": [
    "for a in range(1,4):\n",
    "    X[-a] = X[-a] - X[-a-1] - X[-a-2]\n",
    "X"
   ]
  },
  {
   "cell_type": "code",
   "execution_count": 90,
   "metadata": {},
   "outputs": [
    {
     "data": {
      "text/plain": [
       "array([  1,   0,   1,  11, 122])"
      ]
     },
     "execution_count": 90,
     "metadata": {},
     "output_type": "execute_result"
    }
   ],
   "source": [
    "M.T[1] - 8*(M.T[0]//5)"
   ]
  },
  {
   "cell_type": "code",
   "execution_count": 41,
   "metadata": {},
   "outputs": [
    {
     "data": {
      "text/plain": [
       "array([[0, 0, 0],\n",
       "       [0, 0, 1],\n",
       "       [0, 0, 1]])"
      ]
     },
     "execution_count": 41,
     "metadata": {},
     "output_type": "execute_result"
    }
   ],
   "source": [
    "C  = np.zeros((3,3), dtype=int)\n",
    "C[1,[0,2]] = 1\n",
    "C[2,2] = 1\n",
    "C\n",
    "C@C@C"
   ]
  },
  {
   "cell_type": "code",
   "execution_count": 32,
   "metadata": {},
   "outputs": [
    {
     "data": {
      "text/plain": [
       "array([[ 1, -1,  0],\n",
       "       [ 1, -1,  0],\n",
       "       [ 1, -1,  0]])"
      ]
     },
     "execution_count": 32,
     "metadata": {},
     "output_type": "execute_result"
    }
   ],
   "source": [
    "ss = '3 0 -1 1 2 -1 0 1 1'\n",
    "A = np.array([int(_) for _ in ss.split() ],\n",
    "            dtype=int).reshape(3,3)\n",
    "B = A - 2*np.identity(3,dtype=int)\n",
    "B@B"
   ]
  },
  {
   "cell_type": "code",
   "execution_count": 5,
   "metadata": {},
   "outputs": [
    {
     "name": "stdout",
     "output_type": "stream",
     "text": [
      "\\begin{pmatrix}\n",
      "9 & -1 & -4 \\\\ \n",
      "5 & 3 & -4 \\\\ \n",
      "1 & 3 & 0\n",
      "\\end{pmatrix}\n"
     ]
    }
   ],
   "source": [
    "m2t(A@A)"
   ]
  },
  {
   "cell_type": "markdown",
   "metadata": {},
   "source": [
    "$A^2 = \\begin{pmatrix}\n",
    "9 & -1 & -4 \\\\ \n",
    "5 & 3 & -4 \\\\ \n",
    "1 & 3 & 0\n",
    "\\end{pmatrix},\n",
    "A^3 = \\begin{pmatrix}\n",
    "26 & -6 & -12 \\\\ \n",
    "18 & 2 & -12 \\\\ \n",
    "6 & 6 & -4\n",
    "\\end{pmatrix}\n",
    "$\n",
    "\n",
    "---\n",
    "$\n",
    "2^3 I_3 + 2^2\\cdot 3 B + 2 \\cdot 3 B^2 = \n",
    "\\begin{pmatrix}\n",
    "8 & 0 & 0 \\\\ \n",
    "0 & 8 & 0 \\\\ \n",
    "0 & 0 & 8\n",
    "\\end{pmatrix} + \\begin{pmatrix}\n",
    "12 & 0 & -12 \\\\ \n",
    "12 & 0 & -12 \\\\ \n",
    "0 & 12 & -12\n",
    "\\end{pmatrix} + \\begin{pmatrix}\n",
    "6 & -6 & 0 \\\\ \n",
    "6 & -6 & 0 \\\\ \n",
    "6 & -6 & 0\n",
    "\\end{pmatrix}\n",
    "$"
   ]
  },
  {
   "cell_type": "code",
   "execution_count": 15,
   "metadata": {},
   "outputs": [
    {
     "name": "stdout",
     "output_type": "stream",
     "text": [
      "\\begin{pmatrix}\n",
      "2 & 0 & 0 \\\\ \n",
      "0 & 2 & 0 \\\\ \n",
      "0 & 0 & 2\n",
      "\\end{pmatrix}+\\begin{pmatrix}\n",
      "1 & 0 & -1 \\\\ \n",
      "1 & 0 & -1 \\\\ \n",
      "0 & 1 & -1\n",
      "\\end{pmatrix}\n"
     ]
    }
   ],
   "source": [
    "print(m2t(2*np.identity(3).astype(int)) + '+' + m2t(B) )"
   ]
  },
  {
   "cell_type": "code",
   "execution_count": 17,
   "metadata": {},
   "outputs": [
    {
     "data": {
      "text/plain": [
       "array([[ 9, -1, -4],\n",
       "       [ 5,  3, -4],\n",
       "       [ 1,  3,  0]])"
      ]
     },
     "execution_count": 17,
     "metadata": {},
     "output_type": "execute_result"
    }
   ],
   "source": [
    "4*np.identity(3).astype(int) + 4*B + B@B"
   ]
  },
  {
   "cell_type": "markdown",
   "metadata": {},
   "source": [
    "$\\begin{pmatrix}\n",
    "2 & 0 & 0 \\\\ \n",
    "0 & 2 & 0 \\\\ \n",
    "0 & 0 & 2\n",
    "\\end{pmatrix}+\\begin{pmatrix}\n",
    "1 & 0 & -1 \\\\ \n",
    "1 & 0 & -1 \\\\ \n",
    "0 & 1 & -1\n",
    "\\end{pmatrix}$"
   ]
  },
  {
   "cell_type": "code",
   "execution_count": 16,
   "metadata": {},
   "outputs": [
    {
     "data": {
      "text/plain": [
       "array([[ 9., -1., -4.],\n",
       "       [ 5.,  3., -4.],\n",
       "       [ 1.,  3.,  0.]])"
      ]
     },
     "execution_count": 16,
     "metadata": {},
     "output_type": "execute_result"
    }
   ],
   "source": [
    "4*np.identity(3)  + B@B + 4*B"
   ]
  },
  {
   "cell_type": "code",
   "execution_count": 31,
   "metadata": {},
   "outputs": [
    {
     "data": {
      "text/plain": [
       "array([[0, 0, 0],\n",
       "       [0, 0, 0],\n",
       "       [0, 0, 0]])"
      ]
     },
     "execution_count": 31,
     "metadata": {},
     "output_type": "execute_result"
    }
   ],
   "source": [
    "sum([8*np.identity(3).astype(int), 12*B, 6*B@B]) "
   ]
  },
  {
   "cell_type": "code",
   "execution_count": 26,
   "metadata": {},
   "outputs": [
    {
     "name": "stdout",
     "output_type": "stream",
     "text": [
      "\\begin{pmatrix}\n",
      "8 & 0 & 0 \\\\ \n",
      "0 & 8 & 0 \\\\ \n",
      "0 & 0 & 8\n",
      "\\end{pmatrix} + \\begin{pmatrix}\n",
      "12 & 0 & -12 \\\\ \n",
      "12 & 0 & -12 \\\\ \n",
      "0 & 12 & -12\n",
      "\\end{pmatrix} + \\begin{pmatrix}\n",
      "6 & -6 & 0 \\\\ \n",
      "6 & -6 & 0 \\\\ \n",
      "6 & -6 & 0\n",
      "\\end{pmatrix}\n"
     ]
    }
   ],
   "source": [
    "print(' + '.join([m2t(8*np.identity(3).astype(int)), m2t(12*B),m2t(6*B@B)]))"
   ]
  },
  {
   "cell_type": "markdown",
   "metadata": {},
   "source": [
    "$\\begin{pmatrix}\n",
    "8 & 0 & 0 \\\\ \n",
    "0 & 8 & 0 \\\\ \n",
    "0 & 0 & 8\n",
    "\\end{pmatrix} + \\begin{pmatrix}\n",
    "12 & 0 & -12 \\\\ \n",
    "12 & 0 & -12 \\\\ \n",
    "0 & 12 & -12\n",
    "\\end{pmatrix} + \\begin{pmatrix}\n",
    "6 & -6 & 0 \\\\ \n",
    "6 & -6 & 0 \\\\ \n",
    "6 & -6 & 0\n",
    "\\end{pmatrix}\n",
    "$"
   ]
  },
  {
   "cell_type": "code",
   "execution_count": 6,
   "metadata": {},
   "outputs": [
    {
     "data": {
      "text/plain": [
       "array([ 2.,  0., -1.])"
      ]
     },
     "execution_count": 6,
     "metadata": {},
     "output_type": "execute_result"
    }
   ],
   "source": [
    "A = [1,1,1,1,2,2,0,1,4]\n",
    "A = np.array(A).reshape(3,3)\n",
    "np.linalg.inv(A) @ [1,0,-4]"
   ]
  },
  {
   "cell_type": "code",
   "execution_count": 7,
   "metadata": {},
   "outputs": [
    {
     "data": {
      "text/plain": [
       "array([10., -6., -2.])"
      ]
     },
     "execution_count": 7,
     "metadata": {},
     "output_type": "execute_result"
    }
   ],
   "source": [
    "A = [1,1,1,1,1,2,1,2,-1]\n",
    "A = np.array(A).reshape(3,3)\n",
    "np.linalg.inv(A) @ [2,0,0]"
   ]
  },
  {
   "cell_type": "code",
   "execution_count": 9,
   "metadata": {},
   "outputs": [
    {
     "data": {
      "text/plain": [
       "-1.0"
      ]
     },
     "execution_count": 9,
     "metadata": {},
     "output_type": "execute_result"
    }
   ],
   "source": [
    "np.linalg.det(A)"
   ]
  },
  {
   "cell_type": "code",
   "execution_count": 10,
   "metadata": {},
   "outputs": [
    {
     "data": {
      "text/plain": [
       "array([ 1., -3., -2.])"
      ]
     },
     "execution_count": 10,
     "metadata": {},
     "output_type": "execute_result"
    }
   ],
   "source": [
    "A = [2,1,-3,3,-2,2,5,-3,-1]\n",
    "A = np.array(A).reshape(3,3)\n",
    "np.linalg.inv(A) @ [5,5,16]"
   ]
  },
  {
   "cell_type": "code",
   "execution_count": 41,
   "metadata": {},
   "outputs": [
    {
     "data": {
      "text/plain": [
       "array([ 9., -5., -1., -1.])"
      ]
     },
     "execution_count": 41,
     "metadata": {},
     "output_type": "execute_result"
    }
   ],
   "source": [
    "A = [1,1,1,1,1,1,2,2,1,2,-1,-1, 0, 0, 1, -1]\n",
    "A = np.array(A).reshape(4,4)\n",
    "np.linalg.inv(A) @ [2,0,1,0]"
   ]
  },
  {
   "cell_type": "code",
   "execution_count": 38,
   "metadata": {},
   "outputs": [
    {
     "data": {
      "text/plain": [
       "array([[ 1,  1,  1,  1],\n",
       "       [ 1,  2, -1, -1],\n",
       "       [ 1,  1,  2,  2],\n",
       "       [ 0,  0,  1, -1]])"
      ]
     },
     "execution_count": 38,
     "metadata": {},
     "output_type": "execute_result"
    }
   ],
   "source": [
    "B = np.copy(A)\n",
    "B[[1,2]] = A[[2,1]]\n",
    "B"
   ]
  },
  {
   "cell_type": "code",
   "execution_count": 39,
   "metadata": {},
   "outputs": [
    {
     "data": {
      "text/plain": [
       "array([[ 1,  1,  1,  1],\n",
       "       [ 0,  1, -2, -2],\n",
       "       [ 0,  0,  1,  1],\n",
       "       [ 0,  0,  1, -1]])"
      ]
     },
     "execution_count": 39,
     "metadata": {},
     "output_type": "execute_result"
    }
   ],
   "source": [
    "B[1] -= B[0]\n",
    "B[2] -= B[0]\n",
    "B"
   ]
  },
  {
   "cell_type": "code",
   "execution_count": 13,
   "metadata": {},
   "outputs": [],
   "source": [
    "import scipy.linalg"
   ]
  },
  {
   "cell_type": "code",
   "execution_count": 20,
   "metadata": {},
   "outputs": [
    {
     "data": {
      "text/plain": [
       "(array([[1., 0., 0., 0.],\n",
       "        [0., 1., 0., 0.],\n",
       "        [0., 0., 1., 0.],\n",
       "        [0., 0., 0., 1.]]),\n",
       " array([[1., 0., 0., 0.],\n",
       "        [1., 1., 0., 0.],\n",
       "        [1., 0., 1., 0.],\n",
       "        [0., 0., 1., 1.]]),\n",
       " array([[ 1.,  1.,  1.,  1.],\n",
       "        [ 0.,  1., -2., -2.],\n",
       "        [ 0.,  0.,  1.,  1.],\n",
       "        [ 0.,  0.,  0., -2.]]))"
      ]
     },
     "execution_count": 20,
     "metadata": {},
     "output_type": "execute_result"
    }
   ],
   "source": [
    "scipy.linalg.lu(B)"
   ]
  },
  {
   "cell_type": "code",
   "execution_count": 27,
   "metadata": {},
   "outputs": [
    {
     "data": {
      "text/plain": [
       "array([1., 2., 1., 1.])"
      ]
     },
     "execution_count": 27,
     "metadata": {},
     "output_type": "execute_result"
    }
   ],
   "source": [
    "A = [1,1,1,1,\n",
    "     2,3,-2,-2,\n",
    "     1,3,-6,3, \n",
    "     1,-1,1,-1]\n",
    "A = np.array(A).reshape(4,4)\n",
    "np.linalg.inv(A) @ [5,4,4,-1]"
   ]
  },
  {
   "cell_type": "code",
   "execution_count": 36,
   "metadata": {},
   "outputs": [
    {
     "data": {
      "text/plain": [
       "(array([[0., 1., 0., 0.],\n",
       "        [0., 0., 0., 1.],\n",
       "        [0., 0., 1., 0.],\n",
       "        [1., 0., 0., 0.]]),\n",
       " array([[ 1.        ,  0.        ,  0.        ,  0.        ],\n",
       "        [ 0.5       ,  1.        ,  0.        ,  0.        ],\n",
       "        [ 0.5       , -0.6       ,  1.        ,  0.        ],\n",
       "        [ 0.5       ,  0.2       , -0.42105263,  1.        ]]),\n",
       " array([[ 2.        ,  3.        , -2.        , -2.        ],\n",
       "        [ 0.        , -2.5       ,  2.        ,  0.        ],\n",
       "        [ 0.        ,  0.        , -3.8       ,  4.        ],\n",
       "        [ 0.        ,  0.        ,  0.        ,  3.68421053]]))"
      ]
     },
     "execution_count": 36,
     "metadata": {},
     "output_type": "execute_result"
    }
   ],
   "source": [
    "B = np.copy(A)\n",
    "B= A[[3,0,2,1]]\n",
    "\n",
    "scipy.linalg.lu(B)"
   ]
  },
  {
   "cell_type": "code",
   "execution_count": 35,
   "metadata": {},
   "outputs": [
    {
     "data": {
      "text/plain": [
       "array([[ 1, -1,  1, -1],\n",
       "       [ 1,  1,  1,  1],\n",
       "       [ 1,  3, -6,  3],\n",
       "       [ 2,  3, -2, -2]])"
      ]
     },
     "execution_count": 35,
     "metadata": {},
     "output_type": "execute_result"
    }
   ],
   "source": [
    "B"
   ]
  },
  {
   "cell_type": "code",
   "execution_count": 222,
   "metadata": {},
   "outputs": [],
   "source": [
    "with open('../MAT102/PARTIEL.txt','r') as fp:\n",
    "    ss = fp.read()"
   ]
  },
  {
   "cell_type": "code",
   "execution_count": 233,
   "metadata": {},
   "outputs": [
    {
     "data": {
      "text/plain": [
       "8.071428571428571"
      ]
     },
     "execution_count": 233,
     "metadata": {},
     "output_type": "execute_result"
    }
   ],
   "source": [
    "tt= []\n",
    "for x in ss.split('\\n'):\n",
    "    row = x.split()\n",
    "    if len(row) < 4:continue\n",
    "    tt.append(float(row[0]))\n",
    "sum(tt)/len(tt)"
   ]
  },
  {
   "cell_type": "code",
   "execution_count": 207,
   "metadata": {},
   "outputs": [
    {
     "data": {
      "text/plain": [
       "array([[ 8.00000000e+00, -2.00000000e+00, -2.60000000e+01],\n",
       "       [-3.00000000e+00, -6.66133815e-17,  1.20000000e+01],\n",
       "       [-5.00000000e+00,  2.00000000e+00,  2.00000000e+01]])"
      ]
     },
     "execution_count": 207,
     "metadata": {},
     "output_type": "execute_result"
    }
   ],
   "source": [
    "ss = '''2 0 1 -1 1 -2 -1 3 1'''\n",
    "ss = '''2 3 6 4 -1 1 6 2 7'''\n",
    "ss = '4 3 6 4 -1 1 6 2 1'\n",
    "ss = '4 2 4 0 -5 3 1 1 1'\n",
    "A = np.array([int(x) for x in ss.split()]).reshape(3,3).astype(int)\n",
    "#scipy.linalg.null_space(A)/0.32624975*9\n",
    "np.linalg.inv(A)*6"
   ]
  },
  {
   "cell_type": "code",
   "execution_count": 209,
   "metadata": {},
   "outputs": [
    {
     "data": {
      "text/plain": [
       "array([-1, 11, -7])"
      ]
     },
     "execution_count": 209,
     "metadata": {},
     "output_type": "execute_result"
    }
   ],
   "source": [
    "uu = np.sqrt(2)\n",
    "u = np.array([1,0,1])\n",
    "v = np.array([1+ uu, -uu, 1- uu])\n",
    "u @ v/ np.linalg.norm(u)/ np.linalg.norm(v)\n",
    "np.arccos(.5)/np.pi\n",
    "\n",
    "np.cross(np.array([1,2,3]), np.array([3,-1,-2]))"
   ]
  },
  {
   "cell_type": "code",
   "execution_count": 50,
   "metadata": {},
   "outputs": [],
   "source": [
    "uu = []\n",
    "A = np.random.randint(0,high=6,size=90).reshape(-1,9)\n"
   ]
  },
  {
   "cell_type": "code",
   "execution_count": 3,
   "metadata": {},
   "outputs": [
    {
     "name": "stdout",
     "output_type": "stream",
     "text": [
      "\\begin{pmatrix}\n",
      "3 & 2 & 1 \\\\ \n",
      "1 & 0 & 1 \\\\ \n",
      "5 & 2 & 3\n",
      "\\end{pmatrix}\n"
     ]
    }
   ],
   "source": [
    "def ut(x,y,z, D=[1,1,1]):\n",
    "    \n",
    "    A  = np.diag(D).astype(int)\n",
    "    A[0,1:] = x,y\n",
    "    A[1,-1] = z\n",
    "    return A\n",
    "\n",
    "A = ut(1,2,3).T @ ut(1,2,1)\n",
    "#m2t(V)\n",
    "\n",
    "C = ut(2,1,-1).T @ ut(1,2,4, D=[1,0,1])\n",
    "C = np.array([3,2,1,1,0,1,0,0,0]).reshape(3,-1)\n",
    "C[2] = 2*C[1] + C[0]\n",
    "m2t(C)"
   ]
  },
  {
   "cell_type": "code",
   "execution_count": 256,
   "metadata": {},
   "outputs": [
    {
     "data": {
      "text/plain": [
       "array([[ 0.57735027],\n",
       "       [-0.57735027],\n",
       "       [-0.57735027]])"
      ]
     },
     "execution_count": 256,
     "metadata": {},
     "output_type": "execute_result"
    }
   ],
   "source": [
    "scipy.linalg.null_space(C)"
   ]
  },
  {
   "cell_type": "code",
   "execution_count": 247,
   "metadata": {},
   "outputs": [
    {
     "name": "stdout",
     "output_type": "stream",
     "text": [
      "\\begin{pmatrix}\n",
      "1 & 1 & 2 \\\\ \n",
      "1 & 2 & 3 \\\\ \n",
      "2 & 5 & 8\n",
      "\\end{pmatrix}\n",
      "\\begin{pmatrix}\n",
      "1 & 1 & 2 \\\\ \n",
      "2 & 2 & 8 \\\\ \n",
      "1 & 1 & -1\n",
      "\\end{pmatrix}\n"
     ]
    },
    {
     "data": {
      "text/plain": [
       "(None, None)"
      ]
     },
     "execution_count": 247,
     "metadata": {},
     "output_type": "execute_result"
    }
   ],
   "source": [
    "m2t(A), m2t(B)"
   ]
  },
  {
   "cell_type": "code",
   "execution_count": 215,
   "metadata": {},
   "outputs": [
    {
     "data": {
      "text/plain": [
       "array([[ 3.,  0., -1.],\n",
       "       [-4.,  2., -1.],\n",
       "       [ 1., -1.,  1.]])"
      ]
     },
     "execution_count": 215,
     "metadata": {},
     "output_type": "execute_result"
    }
   ],
   "source": [
    "A = np.array([ 1 , 1 , 2 ,\n",
    "3 , 4 , 7 ,\n",
    "2 , 3 , 6 ]).reshape(3,-1)\n",
    "np.linalg.inv(A)"
   ]
  },
  {
   "cell_type": "code",
   "execution_count": 146,
   "metadata": {},
   "outputs": [
    {
     "name": "stdout",
     "output_type": "stream",
     "text": [
      "\\begin{pmatrix}\n",
      "0 & 0 & 2 \\\\ \n",
      "8 & -2 & -4 \\\\ \n",
      "-3 & 1 & 1\n",
      "\\end{pmatrix}\n",
      "\\begin{pmatrix}\n",
      "3 & 0 & -1 \\\\ \n",
      "-4 & 2 & -1 \\\\ \n",
      "1 & -1 & 1\n",
      "\\end{pmatrix}\n"
     ]
    }
   ],
   "source": [
    "m2t(np.array([0,0,2,8,-2,-4,-3,1,1]).reshape(3,3) )\n",
    "m2t( np.linalg.inv(A).astype(int) )"
   ]
  },
  {
   "cell_type": "code",
   "execution_count": 117,
   "metadata": {},
   "outputs": [
    {
     "name": "stdout",
     "output_type": "stream",
     "text": [
      "\\begin{pmatrix}\n",
      "1 & 1 & 2 \\\\ \n",
      "2 & 3 & 8 \\\\ \n",
      "1 & 0 & 0\n",
      "\\end{pmatrix}\n"
     ]
    }
   ],
   "source": [
    "m2t(V)"
   ]
  },
  {
   "cell_type": "code",
   "execution_count": 148,
   "metadata": {},
   "outputs": [
    {
     "name": "stdout",
     "output_type": "stream",
     "text": [
      "\\begin{pmatrix}\n",
      "1 & 3 & 1 \\\\ \n",
      "2 & -1 & 9 \\\\ \n",
      "3 & -2 & 14\n",
      "\\end{pmatrix}\n"
     ]
    }
   ],
   "source": [
    "B = np.identity(3).astype(int)\n",
    "B[:2] = np.array([1,2,3,3,-1,-2]).reshape(2,-1)\n",
    "B[2] = 4*B[0] - B[1]\n",
    "m2t(B.T)"
   ]
  },
  {
   "cell_type": "code",
   "execution_count": 155,
   "metadata": {},
   "outputs": [
    {
     "data": {
      "text/plain": [
       "array([ 4., -1., -1.])"
      ]
     },
     "execution_count": 155,
     "metadata": {},
     "output_type": "execute_result"
    }
   ],
   "source": [
    "np.cross(B[:,0],B[:,1])/7"
   ]
  },
  {
   "cell_type": "code",
   "execution_count": 177,
   "metadata": {},
   "outputs": [
    {
     "data": {
      "text/plain": [
       "array([-1, 11, -7])"
      ]
     },
     "execution_count": 177,
     "metadata": {},
     "output_type": "execute_result"
    }
   ],
   "source": [
    "np.cross(B[0],B[1])"
   ]
  },
  {
   "cell_type": "code",
   "execution_count": 166,
   "metadata": {},
   "outputs": [],
   "source": [
    "import scipy\n",
    "from scipy import linalg"
   ]
  },
  {
   "cell_type": "code",
   "execution_count": 176,
   "metadata": {},
   "outputs": [
    {
     "data": {
      "text/plain": [
       "array([[ 4.00000001],\n",
       "       [-1.        ],\n",
       "       [-1.        ]])"
      ]
     },
     "execution_count": 176,
     "metadata": {},
     "output_type": "execute_result"
    }
   ],
   "source": [
    "scipy.linalg.null_space(B.T)/0.23570226"
   ]
  },
  {
   "cell_type": "code",
   "execution_count": 162,
   "metadata": {},
   "outputs": [
    {
     "data": {
      "text/plain": [
       "(array([-1, 11, -7]),\n",
       " array([[ 1,  3,  1],\n",
       "        [ 2, -1,  9],\n",
       "        [ 3, -2, 14]]))"
      ]
     },
     "execution_count": 162,
     "metadata": {},
     "output_type": "execute_result"
    }
   ],
   "source": [
    "np.cross(B.T[:,0],B.T[:,1]), B.T"
   ]
  },
  {
   "cell_type": "code",
   "execution_count": 1,
   "metadata": {},
   "outputs": [
    {
     "ename": "NameError",
     "evalue": "name 'np' is not defined",
     "output_type": "error",
     "traceback": [
      "\u001b[0;31m---------------------------------------------------------------------------\u001b[0m",
      "\u001b[0;31mNameError\u001b[0m                                 Traceback (most recent call last)",
      "\u001b[0;32m/tmp/ipykernel_492177/4245864236.py\u001b[0m in \u001b[0;36m<module>\u001b[0;34m\u001b[0m\n\u001b[0;32m----> 1\u001b[0;31m \u001b[0mA\u001b[0m \u001b[0;34m=\u001b[0m \u001b[0mnp\u001b[0m\u001b[0;34m.\u001b[0m\u001b[0mrandom\u001b[0m\u001b[0;34m.\u001b[0m\u001b[0mrandint\u001b[0m\u001b[0;34m(\u001b[0m\u001b[0;36m0\u001b[0m\u001b[0;34m,\u001b[0m\u001b[0mhigh\u001b[0m\u001b[0;34m=\u001b[0m\u001b[0;36m6\u001b[0m\u001b[0;34m,\u001b[0m\u001b[0msize\u001b[0m\u001b[0;34m=\u001b[0m\u001b[0;36m90\u001b[0m\u001b[0;34m)\u001b[0m\u001b[0;34m.\u001b[0m\u001b[0mreshape\u001b[0m\u001b[0;34m(\u001b[0m\u001b[0;34m-\u001b[0m\u001b[0;36m1\u001b[0m\u001b[0;34m,\u001b[0m\u001b[0;36m9\u001b[0m\u001b[0;34m)\u001b[0m\u001b[0;34m\u001b[0m\u001b[0;34m\u001b[0m\u001b[0m\n\u001b[0m\u001b[1;32m      2\u001b[0m \u001b[0;32mimport\u001b[0m \u001b[0mrandom\u001b[0m\u001b[0;34m\u001b[0m\u001b[0;34m\u001b[0m\u001b[0m\n\u001b[1;32m      3\u001b[0m \u001b[0mR\u001b[0m \u001b[0;34m=\u001b[0m \u001b[0;34m[\u001b[0m\u001b[0;36m1\u001b[0m\u001b[0;34m,\u001b[0m\u001b[0;36m2\u001b[0m\u001b[0;34m,\u001b[0m\u001b[0;36m3\u001b[0m\u001b[0;34m]\u001b[0m\u001b[0;34m\u001b[0m\u001b[0;34m\u001b[0m\u001b[0m\n\u001b[1;32m      4\u001b[0m \u001b[0;32mfor\u001b[0m \u001b[0mk\u001b[0m \u001b[0;32min\u001b[0m \u001b[0mrange\u001b[0m\u001b[0;34m(\u001b[0m\u001b[0;36m9\u001b[0m\u001b[0;34m)\u001b[0m\u001b[0;34m:\u001b[0m\u001b[0;34m\u001b[0m\u001b[0;34m\u001b[0m\u001b[0m\n\u001b[1;32m      5\u001b[0m     \u001b[0mM\u001b[0m \u001b[0;34m=\u001b[0m \u001b[0mA\u001b[0m\u001b[0;34m[\u001b[0m\u001b[0mk\u001b[0m\u001b[0;34m]\u001b[0m\u001b[0;34m.\u001b[0m\u001b[0mreshape\u001b[0m\u001b[0;34m(\u001b[0m\u001b[0;36m3\u001b[0m\u001b[0;34m,\u001b[0m\u001b[0;34m-\u001b[0m\u001b[0;36m1\u001b[0m\u001b[0;34m)\u001b[0m\u001b[0;34m\u001b[0m\u001b[0;34m\u001b[0m\u001b[0m\n",
      "\u001b[0;31mNameError\u001b[0m: name 'np' is not defined"
     ]
    }
   ],
   "source": [
    "A = np.random.randint(0,high=6,size=90).reshape(-1,9)\n",
    "import random\n",
    "R = [1,2,3]\n",
    "for k in range(9):\n",
    "    M = A[k].reshape(3,-1)\n",
    "    random.shuffle(R)\n",
    "    \n",
    "    M[0] = R\n",
    "    dd = np.linalg.det(M)\n",
    "    if abs(dd) > 30 :continue\n",
    "    print(dd)\n",
    "    print(M)"
   ]
  },
  {
   "cell_type": "code",
   "execution_count": null,
   "metadata": {},
   "outputs": [],
   "source": []
  },
  {
   "cell_type": "code",
   "execution_count": 3,
   "metadata": {},
   "outputs": [
    {
     "data": {
      "text/plain": [
       "[<matplotlib.lines.Line2D at 0x7f50881508b0>]"
      ]
     },
     "execution_count": 3,
     "metadata": {},
     "output_type": "execute_result"
    },
    {
     "data": {
      "image/png": "[encoded data removed]",
      "text/plain": [
       "<Figure size 432x288 with 1 Axes>"
      ]
     },
     "metadata": {
      "needs_background": "light"
     },
     "output_type": "display_data"
    }
   ],
   "source": [
    "import numpy as np\n",
    "import matplotlib.pyplot as plt\n",
    "\n",
    "fig, ax = plt.subplots()\n",
    "\n",
    "ax.axes.xaxis.set_visible(False)\n",
    "ax.axes.yaxis.set_visible(False)\n",
    "ax.set_aspect('equal')\n",
    "\n",
    "T = np.linspace(0,np.pi * 2,100)\n",
    "ax.plot( np.sin(T) + .5*np.sin(2*T), \n",
    "        -np.cos(T) -.5*np.cos(2*T))\n",
    "\n",
    "\n",
    "ax.plot([-1.5,1.5],[0,0])\n",
    "T = np.array([0,.3333,.5,1])*np.pi\n",
    "ax.plot( np.sin(T) + .5*np.sin(2*T), -np.cos(T) -.5*np.cos(2*T),'ro')\n",
    "#ax.plot( np.sin(T) + r*np.sin(ff*T), -np.cos(T) -r*np.cos(ff*T),'ro')\n",
    "\n",
    "#fig.savefig('apple.png')"
   ]
  },
  {
   "cell_type": "code",
   "execution_count": null,
   "metadata": {},
   "outputs": [],
   "source": []
  },
  {
   "cell_type": "code",
   "execution_count": 95,
   "metadata": {},
   "outputs": [
    {
     "data": {
      "text/plain": [
       "0.3807183253753336"
      ]
     },
     "execution_count": 95,
     "metadata": {},
     "output_type": "execute_result"
    }
   ],
   "source": [
    "t = np.pi/2\n",
    "np.cos(t) + np.cos(t)**2 - .5\n",
    "\n",
    "x = .5*(np.sqrt(3) - 1)\n",
    "x**2 + x -.5\n",
    "np.arccos(x)/np.pi"
   ]
  },
  {
   "cell_type": "code",
   "execution_count": 81,
   "metadata": {},
   "outputs": [],
   "source": [
    "\n",
    "np.random.randint(0,10,10)\n",
    "A = np.arange(6).reshape(2,3)\n",
    "C = A @ A.T\n",
    "ee, vv = np.linalg.eig(A@A.T)\n",
    "U = C - 54*np.identity(2)\n",
    "C @ [2,7] /54\n",
    "U = C - np.identity(2)\n",
    "U @ [7, -2]\n",
    "\n",
    "def m2t(X):\n",
    "    def l2t(R):\n",
    "        return  ' & '.join([str(_) for _ in R])\n",
    "    body = ' \\\\\\\\ \\n'.join([l2t(_) for _ in X ])\n",
    "    \n",
    "    print(f\"\\\\begin{{pmatrix}}\\n{body}\\n\\\\end{{pmatrix}}\")\n",
    "\n"
   ]
  },
  {
   "cell_type": "code",
   "execution_count": 92,
   "metadata": {},
   "outputs": [
    {
     "data": {
      "text/plain": [
       "array([[0, 1, 2],\n",
       "       [3, 4, 5]])"
      ]
     },
     "execution_count": 92,
     "metadata": {},
     "output_type": "execute_result"
    }
   ],
   "source": [
    "C = A.T @ A\n",
    "ee, vv = np.linalg.eig(C)\n",
    "U = C - np.identity(3)\n",
    "A"
   ]
  },
  {
   "cell_type": "code",
   "execution_count": 3,
   "metadata": {},
   "outputs": [],
   "source": [
    "P = np.identity(3).ravel()\n",
    "P[[1,2,5]] = [2,3,4]\n",
    "P = P.reshape(3,3)"
   ]
  },
  {
   "cell_type": "code",
   "execution_count": 6,
   "metadata": {},
   "outputs": [
    {
     "name": "stdout",
     "output_type": "stream",
     "text": [
      "\\begin{pmatrix}\n",
      "1 & 0 & 0 \\\\ \n",
      "2 & 1 & 0 \\\\ \n",
      "3 & 4 & 1\n",
      "\\end{pmatrix}\n"
     ]
    }
   ],
   "source": [
    "uu = np.linalg.inv(P).astype(int)\n",
    "m2t(P.T.astype(int))"
   ]
  },
  {
   "cell_type": "code",
   "execution_count": 142,
   "metadata": {},
   "outputs": [
    {
     "name": "stdout",
     "output_type": "stream",
     "text": [
      "\\begin{pmatrix}\n",
      "1.0 & 2.0 & 3.0 \\\\ \n",
      "0.0 & 1.0 & 4.0 \\\\ \n",
      "0.0 & 0.0 & 1.0\n",
      "\\end{pmatrix\\}\n",
      "\\begin{pmatrix}\n",
      "None\n",
      "\\end{pmatrix}\n"
     ]
    }
   ],
   "source": [
    "print(f\"\\\\begin{{pmatrix}}\\n{m2t(P)}\\n\\\\end{{pmatrix}}\")"
   ]
  },
  {
   "cell_type": "code",
   "execution_count": 7,
   "metadata": {},
   "outputs": [],
   "source": [
    "def t2m(ss):\n",
    "    rows = [x for x in ss.split('\\\\')]\n",
    "    rows = [ x.split('&')for x in rows]\n",
    "    #print(rows)\n",
    "    cells = [[int(x) for x in row] for row in rows]\n",
    "    return np.array(cells)"
   ]
  },
  {
   "cell_type": "code",
   "execution_count": 8,
   "metadata": {},
   "outputs": [],
   "source": [
    "A = t2m('''\t8 & 3 & 4 \\\\\n",
    "1 & 5 & 9 \\\\ \n",
    "\t6 & 7 & 2''')\n",
    "B = t2m('''1 &  0 & -1 \\\\ \n",
    "\t1 & -1 & 0 ''')\n",
    "C = t2m('''\t0 & 1 \\\\\n",
    "\t0 & 0 \\\\\n",
    "\t1 & 0 ''')"
   ]
  },
  {
   "cell_type": "code",
   "execution_count": 10,
   "metadata": {},
   "outputs": [
    {
     "name": "stdout",
     "output_type": "stream",
     "text": [
      "\\begin{pmatrix}\n",
      "7 & -2 & -5 \\\\ \n",
      "0 & 0 & 0 \\\\ \n",
      "2 & -4 & 2\n",
      "\\end{pmatrix}\n"
     ]
    }
   ],
   "source": [
    "def m2t(X):\n",
    "    def l2t(R):\n",
    "        return  ' & '.join([str(_) for _ in R])\n",
    "    \n",
    "    body = ' \\\\\\\\ \\n'.join([l2t(_) for _ in X ])\n",
    "    \n",
    "    print(f\"\\\\begin{{pmatrix}}\\n{body}\\n\\\\end{{pmatrix}}\")\n",
    "\n",
    "m2t(C @ B @ A )\n"
   ]
  },
  {
   "cell_type": "code",
   "execution_count": 13,
   "metadata": {},
   "outputs": [
    {
     "data": {
      "text/plain": [
       "array([[ 2, -4,  2],\n",
       "       [ 7, -2, -5]])"
      ]
     },
     "execution_count": 13,
     "metadata": {},
     "output_type": "execute_result"
    }
   ],
   "source": [
    "B @ A"
   ]
  },
  {
   "cell_type": "code",
   "execution_count": 11,
   "metadata": {},
   "outputs": [
    {
     "data": {
      "text/plain": [
       "array([[ 2,  2],\n",
       "       [-5,  7]])"
      ]
     },
     "execution_count": 11,
     "metadata": {},
     "output_type": "execute_result"
    }
   ],
   "source": [
    "B @ A @ C"
   ]
  },
  {
   "cell_type": "code",
   "execution_count": 33,
   "metadata": {},
   "outputs": [
    {
     "data": {
      "text/plain": [
       "array([[ 7, -2, -5],\n",
       "       [ 0,  0,  0],\n",
       "       [ 2, -4,  2]])"
      ]
     },
     "execution_count": 33,
     "metadata": {},
     "output_type": "execute_result"
    }
   ],
   "source": [
    "C @ B @ A"
   ]
  },
  {
   "cell_type": "code",
   "execution_count": 28,
   "metadata": {},
   "outputs": [
    {
     "ename": "SyntaxError",
     "evalue": "unexpected character after line continuation character (2886812893.py, line 1)",
     "output_type": "error",
     "traceback": [
      "\u001b[0;36m  Input \u001b[0;32mIn [28]\u001b[0;36m\u001b[0m\n\u001b[0;31m    A = \\begin{pmatrix}\u001b[0m\n\u001b[0m         ^\u001b[0m\n\u001b[0;31mSyntaxError\u001b[0m\u001b[0;31m:\u001b[0m unexpected character after line continuation character\n"
     ]
    }
   ],
   "source": [
    "A = \\begin{pmatrix}\n",
    "\t8 & 3 & 4 \\\\ \n",
    "\t1 & 5 & 9 \\\\ \n",
    "\t6 & 7 & 2\n",
    "\\end{pmatrix},\n",
    "\\,\n",
    "B = \\begin{pmatrix}\n",
    "\t1 &  0 & -1 \\\\ \n",
    "\t1 & -1 & 0 \\\\ \n",
    "\\end{pmatrix},\n",
    "\\,\n",
    "C = \\begin{pmatrix}\n",
    "\t0 & 1 \\\\\n",
    "\t0 & 0 \\\\\n",
    "\t1 & 0 \n",
    "  "
   ]
  },
  {
   "cell_type": "code",
   "execution_count": 81,
   "metadata": {},
   "outputs": [
    {
     "data": {
      "text/plain": [
       "3.000000000000001"
      ]
     },
     "execution_count": 81,
     "metadata": {},
     "output_type": "execute_result"
    }
   ],
   "source": [
    "uu = [-1, 5, 4, 0, 0, 1, 1, 2,\n",
    "1, -4 , -3, -1, 0, 2, 2, 1]\n",
    "uu = [-1, 5, 4, 0, 0, 1, 1, 2,\n",
    "1, -4 , -3, -1, 1,1,1,1]\n",
    "uu = np.array(uu).reshape(4,4)\n",
    "np.linalg.det(uu)"
   ]
  },
  {
   "cell_type": "code",
   "execution_count": 71,
   "metadata": {},
   "outputs": [
    {
     "data": {
      "text/plain": [
       "matrix([[1., 1.]])"
      ]
     },
     "execution_count": 71,
     "metadata": {},
     "output_type": "execute_result"
    }
   ],
   "source": [
    "mm = np.matrix([2 - uu, uu, uu, - uu]).reshape(2,2)\n",
    "mm @ [1,-1]"
   ]
  },
  {
   "cell_type": "code",
   "execution_count": 99,
   "metadata": {},
   "outputs": [
    {
     "data": {
      "text/plain": [
       "(array([6., 5., 1.]),\n",
       " array([1., 3., 8.]),\n",
       " array([[1., 2., 3.],\n",
       "        [0., 1., 4.],\n",
       "        [0., 0., 1.]]))"
      ]
     },
     "execution_count": 99,
     "metadata": {},
     "output_type": "execute_result"
    }
   ],
   "source": [
    "P @ [1,1,1],P.T @ [1,1,1], P"
   ]
  },
  {
   "cell_type": "code",
   "execution_count": 152,
   "metadata": {},
   "outputs": [
    {
     "name": "stdout",
     "output_type": "stream",
     "text": [
      "\\begin{pmatrix}\n",
      "1 & 1 & 1 \\\\ \n",
      "1 & 1 & 1 \\\\ \n",
      "1 & 1 & 1\n",
      "\\end{pmatrix}\n"
     ]
    }
   ],
   "source": [
    "MS = np.array([[8,3,4],[1,5,9],[6,7,2]])\n",
    "MS @ np.ones((3,3))\n",
    "\n",
    "UU = [[1,-1],[-1,1]]\n",
    "E1 = np.zeros((3,3))\n",
    "E1[:2,:2] = UU\n",
    "\n",
    "m2t(np.ones((3,3)).astype(int))"
   ]
  },
  {
   "cell_type": "code",
   "execution_count": 158,
   "metadata": {},
   "outputs": [
    {
     "data": {
      "text/plain": [
       "array([[  0, -37, -68],\n",
       "       [  1,   5,   9],\n",
       "       [  0, -23, -52]])"
      ]
     },
     "execution_count": 158,
     "metadata": {},
     "output_type": "execute_result"
    }
   ],
   "source": [
    "UU = MS.copy()\n",
    "UU[0] -= 8*UU[1]\n",
    "UU[2] -= 6*UU[1]\n",
    "UU\n"
   ]
  },
  {
   "cell_type": "markdown",
   "metadata": {},
   "source": [
    "---\n",
    "# there is an \n",
    "\n",
    "easy argument to show that these are all linearly independant\n",
    "\n",
    "- the matrix on the upper left can't have it's upper left coefficient killed by any linear combination of the others\n",
    "- so its coefficient must be zero\n",
    "\n",
    "then it goes by induction"
   ]
  },
  {
   "cell_type": "code",
   "execution_count": 218,
   "metadata": {},
   "outputs": [
    {
     "data": {
      "text/plain": [
       "[array([[ 1., -1.,  0.],\n",
       "        [-1.,  1.,  0.],\n",
       "        [ 0.,  0.,  0.]]),\n",
       " array([[ 0.,  1., -1.],\n",
       "        [ 0., -1.,  1.],\n",
       "        [ 0.,  0.,  0.]]),\n",
       " array([[ 0.,  0.,  0.],\n",
       "        [ 1., -1.,  0.],\n",
       "        [-1.,  1.,  0.]]),\n",
       " array([[ 0.,  0.,  0.],\n",
       "        [ 0.,  1., -1.],\n",
       "        [ 0., -1.,  1.]])]"
      ]
     },
     "execution_count": 218,
     "metadata": {},
     "output_type": "execute_result"
    }
   ],
   "source": [
    "E = np.array([1,-1,-1,1]).reshape(2,2)\n",
    "G = []\n",
    "FF = np.zeros((2,2))\n",
    "X, Y = np.where(FF==0)\n",
    "\n",
    "for i,j in list(zip(X, Y)):\n",
    "    Z = np.zeros((3,3))\n",
    "    Z[i:i+2,j:j+2]  = E\n",
    "    G.append(Z)\n",
    "    \n",
    "G"
   ]
  },
  {
   "cell_type": "code",
   "execution_count": 210,
   "metadata": {},
   "outputs": [],
   "source": [
    "ee = G[1] - (G[1] @ G[0])* G[0]/4"
   ]
  },
  {
   "cell_type": "code",
   "execution_count": 220,
   "metadata": {},
   "outputs": [
    {
     "data": {
      "text/plain": [
       "array([[2., 0., 1.],\n",
       "       [0., 1., 2.],\n",
       "       [1., 2., 0.]])"
      ]
     },
     "execution_count": 220,
     "metadata": {},
     "output_type": "execute_result"
    }
   ],
   "source": [
    "np.ones((3,3)) + G[0] - G[3]"
   ]
  },
  {
   "cell_type": "code",
   "execution_count": 233,
   "metadata": {},
   "outputs": [
    {
     "data": {
      "text/plain": [
       "array([[5., 5., 5.],\n",
       "       [5., 5., 5.],\n",
       "       [5., 5., 5.]])"
      ]
     },
     "execution_count": 233,
     "metadata": {},
     "output_type": "execute_result"
    }
   ],
   "source": [
    "MS  - 3*G[0] + 3*G[3] + G[2] - G[1]"
   ]
  },
  {
   "cell_type": "code",
   "execution_count": null,
   "metadata": {},
   "outputs": [],
   "source": []
  },
  {
   "cell_type": "markdown",
   "metadata": {},
   "source": [
    "Si une fonction admet une inverse alors elle est forcement **injective**\n",
    "\n",
    "Une application **injective** est une application telle que tout y ∈ F a au plus un\n",
    "antécédent par f.\n",
    "\n",
    "```Proposition 1.1.``` Une application f est inversible si et seulement si elle est **bijective.**\n",
    "\n",
    "---\n",
    "\n",
    "# Test de ligne horizontale\n",
    "\n",
    "Une ligne horizontale est une ligne droite et plate qui va de gauche à droite. \n",
    "\n",
    "Étant donné une fonction (c'est-à-dire des nombres réels aux nombres réels), nous pouvons décider si elle est injective en regardant les lignes horizontales qui coupent le graphe de la fonction .\n",
    "\n",
    "- Si une ligne horizontale coupe le graphique en plusieurs points, la fonction n'est pas injective. "
   ]
  },
  {
   "cell_type": "code",
   "execution_count": 14,
   "metadata": {},
   "outputs": [],
   "source": [
    "ss = \"\"\"Axel.Barberet@etu.univ-grenoble-alpes.fr;AXEL;BARBERET;\n",
    "Jean.Camberlin@etu.univ-grenoble-alpes.fr;JEAN;CAMBERLIN;\n",
    "Serine.Chabane@etu.univ-grenoble-alpes.fr;SERINE;CHABANE;\n",
    "Szymon.Ciolek@etu.univ-grenoble-alpes.fr;SZYMON;CIOLEK;\n",
    "Arthur.Deneuche@etu.univ-grenoble-alpes.fr;ARTHUR;DENEUCHE;\n",
    "Alpha-Oumar.Diallo1@etu.univ-grenoble-alpes.fr;ALPHA OUMAR;DIALLO;\n",
    "Asya.Erdemir@etu.univ-grenoble-alpes.fr;ASYA;ERDEMIR;\n",
    "Valentine.Fayolle@etu.univ-grenoble-alpes.fr;VALENTINE;FAYOLLE;\n",
    "Lara.Fernandes-Ferreira@etu.univ-grenoble-alpes.fr;LARA;FERNANDES FERREIRA;\n",
    "Mounira.Goulamabasse@etu.univ-grenoble-alpes.fr;MOUNIRA;GOULAMABASSE;\n",
    "Nael.Haddad@etu.univ-grenoble-alpes.fr;NAEL;HADDAD;\n",
    "Molka.Hammadi@etu.univ-grenoble-alpes.fr;MOLKA;HAMMADI;\n",
    "Melina.Hernandez@etu.univ-grenoble-alpes.fr;MELINA;HERNANDEZ;\n",
    "Alex.Latapie@etu.univ-grenoble-alpes.fr;ALEX;LATAPIE;\n",
    "Janice.Louis@etu.univ-grenoble-alpes.fr;JANICE;LOUIS;\n",
    "Marwane.Mahiout@etu.univ-grenoble-alpes.fr;MARWANE;MAHIOUT;\n",
    "Elsa.Maizi@etu.univ-grenoble-alpes.fr;ELSA;MAIZI;\n",
    "Yasmine.Mhijy@etu.univ-grenoble-alpes.fr;YASMINE;MHIJY;\n",
    "Mohammadparsa.Moradi@etu.univ-grenoble-alpes.fr;MOHAMMADPARSA;MORADI;\n",
    "Lynna.Nacer@etu.univ-grenoble-alpes.fr;LYNNA;NACER;\n",
    "Charline.Peculier@etu.univ-grenoble-alpes.fr;CHARLINE;PECULIER;\n",
    "Sofiia.Plakhota@etu.univ-grenoble-alpes.fr;SOFIIA;PLAKHOTA;\n",
    "Camilia.Rahmouni@etu.univ-grenoble-alpes.fr;CAMILIA;RAHMOUNI;\n",
    "Floriane.Rattin@etu.univ-grenoble-alpes.fr;FLORIANE;RATTIN;\n",
    "Aneas.Rotoloni@etu.univ-grenoble-alpes.fr;ANEAS;ROTOLONI;\n",
    "Maeva.Roussel@etu.univ-grenoble-alpes.fr;MAEVA;ROUSSEL;\n",
    "Nael.Said-Abdallah@etu.univ-grenoble-alpes.fr;NAEL;SAID ABDALLAH;\n",
    "Rebecca.Salloum@etu.univ-grenoble-alpes.fr;REBECCA;SALLOUM;\n",
    "Leona.Seban@etu.univ-grenoble-alpes.fr;LEONA;SEBAN;\n",
    "Thomas.Soulier@etu.univ-grenoble-alpes.fr;THOMAS;SOULIER;\n",
    "Alyssa.Tuise@etu.univ-grenoble-alpes.fr;ALYSSA;TUISE;\n",
    "Magdi.Vitteau@etu.univ-grenoble-alpes.fr;MAGDI;VITTEAU;\n",
    "\"\"\"\n",
    "\n"
   ]
  },
  {
   "cell_type": "code",
   "execution_count": 28,
   "metadata": {},
   "outputs": [
    {
     "data": {
      "text/plain": [
       "4.0"
      ]
     },
     "execution_count": 28,
     "metadata": {},
     "output_type": "execute_result"
    }
   ],
   "source": [
    "import numpy as np\n",
    "\n",
    "A = [2,-1,3,-1,1,3,-2,1,1]\n",
    "A = np.array(A).reshape(3,3)\n",
    "np.linalg.det(A)"
   ]
  },
  {
   "cell_type": "code",
   "execution_count": 29,
   "metadata": {},
   "outputs": [
    {
     "data": {
      "text/plain": [
       "array([ 1, -1,  1])"
      ]
     },
     "execution_count": 29,
     "metadata": {},
     "output_type": "execute_result"
    }
   ],
   "source": [
    "u, v = [2,3,1], [1,2,1]\n",
    "np.cross(u,v)"
   ]
  },
  {
   "cell_type": "code",
   "execution_count": 30,
   "metadata": {},
   "outputs": [
    {
     "data": {
      "text/plain": [
       "array([-1, -4,  5])"
      ]
     },
     "execution_count": 30,
     "metadata": {},
     "output_type": "execute_result"
    }
   ],
   "source": [
    "u, v = [1,1,1], [-3,2,1]\n",
    "np.cross(u,v)"
   ]
  },
  {
   "cell_type": "code",
   "execution_count": 40,
   "metadata": {},
   "outputs": [
    {
     "data": {
      "text/plain": [
       "array([  7, -10,  -1])"
      ]
     },
     "execution_count": 40,
     "metadata": {},
     "output_type": "execute_result"
    }
   ],
   "source": [
    "u, v = [3,2,1], [2,1,4]\n",
    "np.cross(u,v)"
   ]
  },
  {
   "cell_type": "code",
   "execution_count": 27,
   "metadata": {},
   "outputs": [],
   "source": [
    "uu = [ x.strip() for x in ss.split(';')]\n",
    "uu = sorted([a + ' ' + b for a, b in zip(uu[2::3], uu[1::3]) ])\n",
    "\n",
    "with open('CC1.txt','w') as fp:\n",
    "    fp.write('\\n'.join(uu))"
   ]
  },
  {
   "cell_type": "code",
   "execution_count": 12,
   "metadata": {},
   "outputs": [
    {
     "data": {
      "text/plain": [
       "9.000000000000002"
      ]
     },
     "execution_count": 12,
     "metadata": {},
     "output_type": "execute_result"
    }
   ],
   "source": [
    "A = [1,2,3,-1,3,4,1,0,2]\n",
    "A = np.array(A).reshape(3,3)\n",
    "np.linalg.det(A)"
   ]
  },
  {
   "cell_type": "code",
   "execution_count": 13,
   "metadata": {},
   "outputs": [
    {
     "data": {
      "text/plain": [
       "0.0"
      ]
     },
     "execution_count": 13,
     "metadata": {},
     "output_type": "execute_result"
    }
   ],
   "source": [
    "A = [1,-1,1,2,2,1,0,-4,1]\n",
    "A = np.array(A).reshape(3,3)\n",
    "np.linalg.det(A)"
   ]
  },
  {
   "cell_type": "code",
   "execution_count": 11,
   "metadata": {},
   "outputs": [
    {
     "data": {
      "text/plain": [
       "array([10,  0, -5])"
      ]
     },
     "execution_count": 11,
     "metadata": {},
     "output_type": "execute_result"
    }
   ],
   "source": [
    "A = np.array([1,3,2])\n",
    "B = np.array([2,1,4])\n",
    "np.cross(A,B)\n"
   ]
  },
  {
   "cell_type": "code",
   "execution_count": 10,
   "metadata": {},
   "outputs": [
    {
     "data": {
      "text/plain": [
       "array([-2, -3,  2])"
      ]
     },
     "execution_count": 10,
     "metadata": {},
     "output_type": "execute_result"
    }
   ],
   "source": [
    "A = np.array([1,0,1])\n",
    "B = np.array([0,2,3])\n",
    "np.cross(A,B)"
   ]
  },
  {
   "cell_type": "code",
   "execution_count": 35,
   "metadata": {},
   "outputs": [
    {
     "data": {
      "text/plain": [
       "'Axel.Barberet@etu.univ-grenoble-alpes.fr Jean.Camberlin@etu.univ-grenoble-alpes.fr Serine.Chabane@etu.univ-grenoble-alpes.fr Szymon.Ciolek@etu.univ-grenoble-alpes.fr Arthur.Deneuche@etu.univ-grenoble-alpes.fr Alpha-Oumar.Diallo1@etu.univ-grenoble-alpes.fr Asya.Erdemir@etu.univ-grenoble-alpes.fr Valentine.Fayolle@etu.univ-grenoble-alpes.fr Lara.Fernandes-Ferreira@etu.univ-grenoble-alpes.fr Mounira.Goulamabasse@etu.univ-grenoble-alpes.fr Nael.Haddad@etu.univ-grenoble-alpes.fr Molka.Hammadi@etu.univ-grenoble-alpes.fr Melina.Hernandez@etu.univ-grenoble-alpes.fr Alex.Latapie@etu.univ-grenoble-alpes.fr Janice.Louis@etu.univ-grenoble-alpes.fr Marwane.Mahiout@etu.univ-grenoble-alpes.fr Elsa.Maizi@etu.univ-grenoble-alpes.fr Yasmine.Mhijy@etu.univ-grenoble-alpes.fr Mohammadparsa.Moradi@etu.univ-grenoble-alpes.fr Lynna.Nacer@etu.univ-grenoble-alpes.fr Charline.Peculier@etu.univ-grenoble-alpes.fr Sofiia.Plakhota@etu.univ-grenoble-alpes.fr Camilia.Rahmouni@etu.univ-grenoble-alpes.fr Floriane.Rattin@etu.univ-grenoble-alpes.fr Aneas.Rotoloni@etu.univ-grenoble-alpes.fr Maeva.Roussel@etu.univ-grenoble-alpes.fr Nael.Said-Abdallah@etu.univ-grenoble-alpes.fr Rebecca.Salloum@etu.univ-grenoble-alpes.fr Leona.Seban@etu.univ-grenoble-alpes.fr Thomas.Soulier@etu.univ-grenoble-alpes.fr Alyssa.Tuise@etu.univ-grenoble-alpes.fr Magdi.Vitteau@etu.univ-grenoble-alpes.fr '"
      ]
     },
     "execution_count": 35,
     "metadata": {},
     "output_type": "execute_result"
    }
   ],
   "source": [
    "' '.join( [x.strip() for x in ss.split(\";\")[::3]])"
   ]
  },
  {
   "cell_type": "code",
   "execution_count": 18,
   "metadata": {},
   "outputs": [
    {
     "data": {
      "image/png": "[encoded data removed]",
      "text/plain": [
       "<Figure size 432x288 with 1 Axes>"
      ]
     },
     "metadata": {
      "needs_background": "light"
     },
     "output_type": "display_data"
    }
   ],
   "source": [
    "X = np.linspace(-10,-1,5)\n",
    "plt.plot(X,2*X + 3,'b')\n",
    "X = np.linspace(-1,10,5)\n",
    "plt.plot(X, - X + 5,'b')\n",
    "X = np.linspace(-10,10,5)\n",
    "plt.plot(X, 0*X -1,'r');"
   ]
  },
  {
   "cell_type": "code",
   "execution_count": 17,
   "metadata": {},
   "outputs": [
    {
     "data": {
      "image/png": "[encoded data removed]",
      "text/plain": [
       "<Figure size 432x288 with 1 Axes>"
      ]
     },
     "metadata": {
      "needs_background": "light"
     },
     "output_type": "display_data"
    }
   ],
   "source": [
    "X = np.linspace(-3,-1,5)\n",
    "plt.plot(X,2*X + 3,'b')\n",
    "X = np.linspace(-1,3,5)\n",
    "plt.plot(X, X + 2,'b');"
   ]
  },
  {
   "cell_type": "code",
   "execution_count": 208,
   "metadata": {},
   "outputs": [
    {
     "data": {
      "text/plain": [
       "'/home/macbuse/Documents/macbuse.github.io/MAT305'"
      ]
     },
     "execution_count": 208,
     "metadata": {},
     "output_type": "execute_result"
    }
   ],
   "source": [
    "pwd\n"
   ]
  },
  {
   "cell_type": "code",
   "execution_count": 37,
   "metadata": {},
   "outputs": [
    {
     "data": {
      "image/png": "[encoded data removed]",
      "text/plain": [
       "<Figure size 432x288 with 1 Axes>"
      ]
     },
     "metadata": {
      "needs_background": "light"
     },
     "output_type": "display_data"
    }
   ],
   "source": [
    "X = np.linspace(-5,-1,5)\n",
    "plt.plot(X,2*X + 3,'b')\n",
    "X = np.linspace(-1,3,5)\n",
    "plt.plot(X, X + 2,'b');\n",
    "X = np.linspace(-7,1,5)\n",
    "plt.plot(X, (X - 3)/2,'g')\n",
    "X = np.linspace(1,5,5)\n",
    "plt.plot(X, X - 2,'g');\n",
    "X = np.linspace(-7,5,50)\n",
    "plt.plot(X,X,'r.');"
   ]
  },
  {
   "cell_type": "markdown",
   "metadata": {},
   "source": [
    "---\n",
    "\n",
    "# fonctions élémentaires.\n",
    "\n",
    "- constantes,\n",
    "- exponentielles, logarithmes, \n",
    "- puissances, polynomes, inverses\n",
    "- racines n-ièmes \n",
    "- fonctions trigonométriques et leur inverses \n",
    "\n",
    "sont élémentaires."
   ]
  },
  {
   "cell_type": "code",
   "execution_count": 43,
   "metadata": {},
   "outputs": [],
   "source": [
    "A = np.array([1, 2, 2, 0]).reshape(2,2)"
   ]
  },
  {
   "cell_type": "code",
   "execution_count": 44,
   "metadata": {},
   "outputs": [],
   "source": [
    "B = np.array([2, 1, 0,\n",
    "3,  -1, 3]).reshape(2,3)"
   ]
  },
  {
   "cell_type": "code",
   "execution_count": 45,
   "metadata": {},
   "outputs": [
    {
     "data": {
      "text/plain": [
       "array([[ 8, -1,  6],\n",
       "       [ 4,  2,  0]])"
      ]
     },
     "execution_count": 45,
     "metadata": {},
     "output_type": "execute_result"
    }
   ],
   "source": [
    "A.dot(B)"
   ]
  },
  {
   "cell_type": "code",
   "execution_count": 86,
   "metadata": {},
   "outputs": [],
   "source": [
    "A = np.array([1, 2, 0,\n",
    "-6, 3, 8,\n",
    "5, 8, 1]).reshape(3,3)\n",
    "\n",
    "B = np.array([1, 1,\n",
    "1, 0,\n",
    "0, 1]).reshape(3,-1)"
   ]
  },
  {
   "cell_type": "code",
   "execution_count": 87,
   "metadata": {},
   "outputs": [
    {
     "data": {
      "text/plain": [
       "array([[ 3,  1],\n",
       "       [-3,  2],\n",
       "       [13,  6]])"
      ]
     },
     "execution_count": 87,
     "metadata": {},
     "output_type": "execute_result"
    }
   ],
   "source": [
    "A.dot(B)"
   ]
  },
  {
   "cell_type": "code",
   "execution_count": 84,
   "metadata": {},
   "outputs": [],
   "source": [
    "A = np.array([4, 2, 2, 0,\n",
    "12, 1, 7, 1,\n",
    "3, -1, 0, 0,\n",
    "0, 2, 2, 2,\n",
    "0, 0, 0, 0]).reshape(-1,4)\n",
    "\n",
    "B = np.array([2, 0,\n",
    "1, 1,\n",
    "2, 2,\n",
    "1, 0]).reshape(4,-1)"
   ]
  },
  {
   "cell_type": "code",
   "execution_count": 85,
   "metadata": {},
   "outputs": [
    {
     "name": "stdout",
     "output_type": "stream",
     "text": [
      "[[14  6]\n",
      " [40 15]\n",
      " [ 5 -1]\n",
      " [ 8  6]\n",
      " [ 0  0]]\n"
     ]
    }
   ],
   "source": [
    "print(np.around( A.dot(B) ))"
   ]
  },
  {
   "cell_type": "code",
   "execution_count": 67,
   "metadata": {},
   "outputs": [],
   "source": [
    "A, B = np.array([1, 2,2,0]).reshape(2,2), np.array([2, 1,\n",
    "3, -1]).reshape(2,2)"
   ]
  },
  {
   "cell_type": "code",
   "execution_count": 83,
   "metadata": {},
   "outputs": [
    {
     "name": "stdout",
     "output_type": "stream",
     "text": [
      "[[ 8 -1]\n",
      " [ 4  2]]\n",
      "[[4 4]\n",
      " [1 6]]\n"
     ]
    }
   ],
   "source": [
    "print(np.around(A.dot(B)))\n",
    "\n",
    "print(np.around(B.dot(A)) )"
   ]
  },
  {
   "cell_type": "code",
   "execution_count": 33,
   "metadata": {},
   "outputs": [
    {
     "data": {
      "text/plain": [
       "array([[ 0., -1.,  0.],\n",
       "       [-1.,  0.,  0.],\n",
       "       [ 0.,  0., -1.]])"
      ]
     },
     "execution_count": 33,
     "metadata": {},
     "output_type": "execute_result"
    }
   ],
   "source": [
    "import numpy as np\n",
    "\n",
    "A = np.identity(3)\n",
    "A[1:] *= -1\n",
    "B = np.zeros((3,3))\n",
    "B[0,1] = -1\n",
    "B[1,0] = B[2,2] = 1\n",
    "B\n",
    "\n",
    "np.linalg.eig(A.dot(B))\n",
    "\n",
    "A.dot(B)"
   ]
  },
  {
   "cell_type": "code",
   "execution_count": 36,
   "metadata": {},
   "outputs": [
    {
     "data": {
      "text/plain": [
       "(array([ 1., -1., -1.]),\n",
       " array([[ 0.70710678, -0.70710678,  0.        ],\n",
       "        [ 0.70710678,  0.70710678,  0.        ],\n",
       "        [ 0.        ,  0.        ,  1.        ]]))"
      ]
     },
     "execution_count": 36,
     "metadata": {},
     "output_type": "execute_result"
    }
   ],
   "source": [
    "np.linalg.eig(B.dot(A))"
   ]
  },
  {
   "cell_type": "code",
   "execution_count": 38,
   "metadata": {},
   "outputs": [
    {
     "data": {
      "text/plain": [
       "(array([[ 0.,  1.,  0.],\n",
       "        [ 1.,  0.,  0.],\n",
       "        [ 0.,  0., -1.]]),\n",
       " array([[ 0., -1.,  0.],\n",
       "        [-1.,  0.,  0.],\n",
       "        [ 0.,  0., -1.]]))"
      ]
     },
     "execution_count": 38,
     "metadata": {},
     "output_type": "execute_result"
    }
   ],
   "source": [
    "B.dot(A), A.dot(B)"
   ]
  },
  {
   "cell_type": "markdown",
   "metadata": {},
   "source": [
    " une réflexion ou symétrie axiale du plan euclidien est une symétrie orthogonale par rapport à une droite (droite vectorielle s'il s'agit d'un plan vectoriel euclidien). Elle constitue alors une symétrie axiale orthogonale.\n",
    "\n",
    "Plus généralement, dans un espace euclidien quelconque, une réflexion est une symétrie orthogonale par rapport à un hyperplan, c'est-à-dire à un sous-espace de codimension 1. En dimension 3, il s'agit donc d'une symétrie orthogonale par rapport à un plan. L'origine du terme se conçoit bien en liaison avec les miroirs qui réfléchissent une image."
   ]
  },
  {
   "cell_type": "code",
   "execution_count": 53,
   "metadata": {},
   "outputs": [
    {
     "data": {
      "application/vnd.jupyter.widget-view+json": {
       "model_id": "f2ae732d50e44e42a0ec08cf5e8d497a",
       "version_major": 2,
       "version_minor": 0
      },
      "text/plain": [
       "interactive(children=(FloatSlider(value=2.5, description='freq', max=5.0, min=1.0, step=0.5), Output()), _dom_…"
      ]
     },
     "metadata": {},
     "output_type": "display_data"
    }
   ],
   "source": [
    "from ipywidgets import interact, interactive, fixed, interact_manual\n",
    "import ipywidgets as widgets\n",
    "import matplotlib.pyplot as plt\n",
    "%matplotlib inline\n",
    "\n",
    "import numpy as np\n",
    "\n",
    "def plot_func(freq):\n",
    "    x = np.linspace(0, 2*np.pi,1000)\n",
    "    y = np.sin(x * freq)\n",
    "    plt.plot(x, y)\n",
    "\n",
    "interact(plot_func, freq = widgets.FloatSlider(value=2.5, min=1, \n",
    "max=5.0,step=0.5));"
   ]
  },
  {
   "cell_type": "code",
   "execution_count": 1,
   "metadata": {},
   "outputs": [
    {
     "data": {
      "text/plain": [
       "'/home/macbuse/Documents/macbuse.github.io/MAT305'"
      ]
     },
     "execution_count": 1,
     "metadata": {},
     "output_type": "execute_result"
    }
   ],
   "source": [
    "pwd"
   ]
  },
  {
   "cell_type": "code",
   "execution_count": 4,
   "metadata": {},
   "outputs": [],
   "source": [
    "def f(z):\n",
    "    return (z + 2J)/(z - 1)"
   ]
  },
  {
   "cell_type": "code",
   "execution_count": 5,
   "metadata": {},
   "outputs": [],
   "source": [
    "def g(z):\n",
    "    return (-z -2J)/(-z + 1)"
   ]
  },
  {
   "cell_type": "code",
   "execution_count": 23,
   "metadata": {},
   "outputs": [
    {
     "data": {
      "text/plain": [
       "[<matplotlib.lines.Line2D at 0x7f5f0a0f38b0>]"
      ]
     },
     "execution_count": 23,
     "metadata": {},
     "output_type": "execute_result"
    },
    {
     "data": {
      "image/png": "[encoded data removed]",
      "text/plain": [
       "<Figure size 432x288 with 1 Axes>"
      ]
     },
     "metadata": {
      "needs_background": "light"
     },
     "output_type": "display_data"
    }
   ],
   "source": [
    "T = np.linspace(0,40,1000)\n",
    "Z = f(T*1J)\n",
    "plt.plot( Z.real,Z.imag)"
   ]
  },
  {
   "cell_type": "code",
   "execution_count": 9,
   "metadata": {},
   "outputs": [
    {
     "data": {
      "text/plain": [
       "array([-0.         -2.j        , -1.25       -4.5j       ,\n",
       "       10.        +18.j        ,  2.5        +3.j        ,\n",
       "        1.81818182 +1.63636364j,  1.5625     +1.125j     ,\n",
       "        1.42857143 +0.85714286j,  1.34615385 +0.69230769j,\n",
       "        1.29032258 +0.58064516j,  1.25       +0.5j       ])"
      ]
     },
     "execution_count": 9,
     "metadata": {},
     "output_type": "execute_result"
    }
   ],
   "source": [
    "Z"
   ]
  },
  {
   "cell_type": "code",
   "execution_count": 25,
   "metadata": {},
   "outputs": [
    {
     "ename": "NameError",
     "evalue": "name 'go' is not defined",
     "output_type": "error",
     "traceback": [
      "\u001b[0;31m---------------------------------------------------------------------------\u001b[0m",
      "\u001b[0;31mNameError\u001b[0m                                 Traceback (most recent call last)",
      "Input \u001b[0;32mIn [25]\u001b[0m, in \u001b[0;36m<cell line: 10>\u001b[0;34m()\u001b[0m\n\u001b[1;32m      7\u001b[0m y \u001b[38;5;241m=\u001b[39m r \u001b[38;5;241m*\u001b[39m np\u001b[38;5;241m.\u001b[39msin(sGrid) \u001b[38;5;241m*\u001b[39m np\u001b[38;5;241m.\u001b[39msin(tGrid)  \u001b[38;5;66;03m# y = r*sin(s)*sin(t)\u001b[39;00m\n\u001b[1;32m      8\u001b[0m z \u001b[38;5;241m=\u001b[39m r \u001b[38;5;241m*\u001b[39m np\u001b[38;5;241m.\u001b[39mcos(tGrid)                  \u001b[38;5;66;03m# z = r*cos(t)\u001b[39;00m\n\u001b[0;32m---> 10\u001b[0m surface \u001b[38;5;241m=\u001b[39m \u001b[43mgo\u001b[49m\u001b[38;5;241m.\u001b[39mSurface(x\u001b[38;5;241m=\u001b[39mx, y\u001b[38;5;241m=\u001b[39my, z\u001b[38;5;241m=\u001b[39mz)\n\u001b[1;32m     11\u001b[0m data \u001b[38;5;241m=\u001b[39m [surface]\n\u001b[1;32m     13\u001b[0m layout \u001b[38;5;241m=\u001b[39m go\u001b[38;5;241m.\u001b[39mLayout(\n\u001b[1;32m     14\u001b[0m     title\u001b[38;5;241m=\u001b[39m\u001b[38;5;124m'\u001b[39m\u001b[38;5;124mParametric Plot\u001b[39m\u001b[38;5;124m'\u001b[39m,\n\u001b[1;32m     15\u001b[0m     scene\u001b[38;5;241m=\u001b[39m\u001b[38;5;28mdict\u001b[39m(\n\u001b[0;32m   (...)\u001b[0m\n\u001b[1;32m     35\u001b[0m     )\n\u001b[1;32m     36\u001b[0m )\n",
      "\u001b[0;31mNameError\u001b[0m: name 'go' is not defined"
     ]
    }
   ],
   "source": [
    "\n",
    "s = np.linspace(0, 2 * np.pi, 240)\n",
    "t = np.linspace(0, np.pi, 240)\n",
    "tGrid, sGrid = np.meshgrid(s, t)\n",
    "\n",
    "r = 2 + np.sin(7 * sGrid + 5 * tGrid)  # r = 2 + sin(7s+5t)\n",
    "x = r * np.cos(sGrid) * np.sin(tGrid)  # x = r*cos(s)*sin(t)\n",
    "y = r * np.sin(sGrid) * np.sin(tGrid)  # y = r*sin(s)*sin(t)\n",
    "z = r * np.cos(tGrid)                  # z = r*cos(t)\n",
    "\n",
    "surface = go.Surface(x=x, y=y, z=z)\n",
    "data = [surface]\n",
    "\n",
    "layout = go.Layout(\n",
    "    title='Parametric Plot',\n",
    "    scene=dict(\n",
    "        xaxis=dict(\n",
    "            gridcolor='rgb(255, 255, 255)',\n",
    "            zerolinecolor='rgb(255, 255, 255)',\n",
    "            showbackground=True,\n",
    "            backgroundcolor='rgb(230, 230,230)'\n",
    "        ),\n",
    "        yaxis=dict(\n",
    "            gridcolor='rgb(255, 255, 255)',\n",
    "            zerolinecolor='rgb(255, 255, 255)',\n",
    "            showbackground=True,\n",
    "            backgroundcolor='rgb(230, 230,230)'\n",
    "        ),\n",
    "        zaxis=dict(\n",
    "            gridcolor='rgb(255, 255, 255)',\n",
    "            zerolinecolor='rgb(255, 255, 255)',\n",
    "            showbackground=True,\n",
    "            backgroundcolor='rgb(230, 230,230)'\n",
    "        )\n",
    "        \n",
    "    )\n",
    ")\n",
    "\n",
    "fig = go.Figure(data=data, layout=layout)\n",
    "py.iplot(fig, filename='Parametric_plot')"
   ]
  },
  {
   "cell_type": "code",
   "execution_count": 60,
   "metadata": {},
   "outputs": [],
   "source": [
    "ss= '''12316056 ACHOUR HILANA 2 18,50\n",
    "12201334 AIT HAMMADI AMINE 2 17,00\n",
    "12301193 BELLO ALBANE 2 17,00\n",
    "12212584 BOUSLOUGHA SEMI 2 16,00\n",
    "12101555 CERDAN AMANDA 2 1,50\n",
    "12302023 EL HAJJ NAZIHA 2 12,00\n",
    "12303667 GALES SOLENE 2 20,00\n",
    "12303159 GASPARI ANOUCHKA 2 12,00\n",
    "12310563 GERGES ANDREW 2 19,00\n",
    "12315430 HIJAZI LYNN 2 19,50\n",
    "12317077 JALIDY IHSANE 2 18,50\n",
    "12317219 KHALIFE YASMA 2 10,00\n",
    "12300323 LAGUET MARIE 2 16,00\n",
    "12300792 LAUDE MAXIME 2 17,00\n",
    "12311707 LECOMTE NIL 2 20,00\n",
    "12204766 MEBARKI BADIS 2 12,50\n",
    "12305109 MEURANT JULIE 2 13,00\n",
    "12205747 MOSCHIETTO-FRANSA ILONA 2 16,50\n",
    "12115433 MOUHOUBI MOUNIR 2 X\n",
    "12211583 PAYART PIERRE 2 7,50\n",
    "12311537 PRADIER TOM 2 12,50\n",
    "12302823 SAHEL NISSRINE 2 9,50\n",
    "12216946 SALAMI MARWA 2 X\n",
    "12315937 SLEIMAN WALID 2 19,00\n",
    "12300022 TARROUCHE YACINE 2 15,50\n",
    "12302610 TEBBANI MOHAMED 2 16,00\n",
    "12303156 UWENHON--ADEX KALVINE 2 6,50\n",
    "'''\n",
    "tt = '''12205215 ABID LINA 1 9,00\n",
    "12315495 BELKADI MAISSA MELINA 1 20,00\n",
    "12222551 BENAISSA MEHDI 1 X\n",
    "12315409 BENGHEDFA MERIEM 1 17,50\n",
    "12307861 BESSAHA ABDELHAK 1 11,50\n",
    "12300954 BURGUN ELOISE 1 19,00\n",
    "12113916 CHABAUD THEO 1 15,00\n",
    "12110282 COSTA ENZO 1 6,50\n",
    "12203530 CUGAT PIMPRENELLE 1 20,00\n",
    "12208897 DENEUCHE ARTHUR 1 13,00\n",
    "12103314 DRIEUX BERENICE 1 X\n",
    "12309195 DUCHAMP JULIE 1 19,50\n",
    "12208316 FAURE CECILIE 1 6,50\n",
    "12201317 FORST VALENTIN 1 12,00\n",
    "12313046 GHARIB ADRIEN 1 17,50\n",
    "12110003 GUERZIZ DALYA 1 9,50\n",
    "12211794 HADJ DOUDOU MOHAMED-RYAD 1 10,00\n",
    "12305972 HALLER REMI 1 12,00\n",
    "12213506 HAMMADI MOLKA 1 8,50\n",
    "12213585 JEAN SIMON GUATHINA 1 12,00\n",
    "12215898 MUGNIER FLORE 1 15,50\n",
    "12313898 OLIVIER VALENTIN 1 9,00\n",
    "12217455 OUEDRAOGO IBRAHIM 1 12,50\n",
    "12301153 SAWKI CHARLOTTE 1 15,50\n",
    "12116887 SOW AMADOU IDRISSA 1 20,00\n",
    "12300520 TONDEUR LEA 1 19,00\n",
    "12311693 TRESS SEBASTIAN 1 12,50\n",
    "'''"
   ]
  },
  {
   "cell_type": "code",
   "execution_count": 94,
   "metadata": {},
   "outputs": [],
   "source": [
    "X=[]\n",
    "\n",
    "for cc in [ss,tt]:\n",
    "    N = [ _.split()[-1] for _ in cc.split('\\n')[:-1]]\n",
    "    N = [ _ for _ in N if len(_) >1]\n",
    "    N = ' '.join(N).replace(',','.').split()\n",
    "    X.append([float(_) for _ in N])"
   ]
  },
  {
   "cell_type": "code",
   "execution_count": 96,
   "metadata": {},
   "outputs": [
    {
     "data": {
      "text/plain": [
       "[18.5,\n",
       " 17.0,\n",
       " 17.0,\n",
       " 16.0,\n",
       " 1.5,\n",
       " 12.0,\n",
       " 20.0,\n",
       " 12.0,\n",
       " 19.0,\n",
       " 19.5,\n",
       " 18.5,\n",
       " 10.0,\n",
       " 16.0,\n",
       " 17.0,\n",
       " 20.0,\n",
       " 12.5,\n",
       " 13.0,\n",
       " 16.5,\n",
       " 7.5,\n",
       " 12.5,\n",
       " 9.5,\n",
       " 19.0,\n",
       " 15.5,\n",
       " 16.0,\n",
       " 6.5]"
      ]
     },
     "execution_count": 96,
     "metadata": {},
     "output_type": "execute_result"
    }
   ],
   "source": [
    "X[0]"
   ]
  },
  {
   "cell_type": "code",
   "execution_count": 99,
   "metadata": {},
   "outputs": [
    {
     "data": {
      "text/plain": [
       "(array([2., 3., 2., 1., 6., 0., 3., 0., 2., 6.]),\n",
       " array([ 6.5 ,  7.85,  9.2 , 10.55, 11.9 , 13.25, 14.6 , 15.95, 17.3 ,\n",
       "        18.65, 20.  ]),\n",
       " <BarContainer object of 10 artists>)"
      ]
     },
     "execution_count": 99,
     "metadata": {},
     "output_type": "execute_result"
    },
    {
     "data": {
      "image/png": "[encoded data removed]",
      "text/plain": [
       "<Figure size 640x480 with 1 Axes>"
      ]
     },
     "metadata": {},
     "output_type": "display_data"
    }
   ],
   "source": [
    "bb = 10\n",
    "plt.hist(X[0], bins=bb)\n",
    "plt.hist(X[1], bins=bb)"
   ]
  },
  {
   "cell_type": "code",
   "execution_count": 63,
   "metadata": {},
   "outputs": [
    {
     "data": {
      "text/plain": [
       "11"
      ]
     },
     "execution_count": 63,
     "metadata": {},
     "output_type": "execute_result"
    }
   ],
   "source": [
    "len([_ for _ in N if _ > 14])"
   ]
  },
  {
   "cell_type": "code",
   "execution_count": 62,
   "metadata": {},
   "outputs": [
    {
     "data": {
      "text/plain": [
       "(array([2., 4., 2., 6., 0., 3., 2., 6.]),\n",
       " array([ 6.5   ,  8.1875,  9.875 , 11.5625, 13.25  , 14.9375, 16.625 ,\n",
       "        18.3125, 20.    ]),\n",
       " <BarContainer object of 8 artists>)"
      ]
     },
     "execution_count": 62,
     "metadata": {},
     "output_type": "execute_result"
    },
    {
     "data": {
      "image/png": "[encoded data removed]",
      "text/plain": [
       "<Figure size 640x480 with 1 Axes>"
      ]
     },
     "metadata": {},
     "output_type": "display_data"
    }
   ],
   "source": [
    "plt.hist(N, bins=8)"
   ]
  },
  {
   "cell_type": "code",
   "execution_count": 72,
   "metadata": {},
   "outputs": [
    {
     "data": {
      "text/plain": [
       "15.041666666666666"
      ]
     },
     "execution_count": 72,
     "metadata": {},
     "output_type": "execute_result"
    }
   ],
   "source": [
    "N.sort()\n",
    "Y = N[1:]\n",
    "sum(Y)/len(Y)"
   ]
  },
  {
   "cell_type": "code",
   "execution_count": 70,
   "metadata": {},
   "outputs": [
    {
     "data": {
      "text/plain": [
       "[1.5,\n",
       " 6.5,\n",
       " 7.5,\n",
       " 9.5,\n",
       " 10.0,\n",
       " 12.0,\n",
       " 12.0,\n",
       " 12.5,\n",
       " 12.5,\n",
       " 13.0,\n",
       " 15.5,\n",
       " 16.0,\n",
       " 16.0,\n",
       " 16.0,\n",
       " 16.5,\n",
       " 17.0,\n",
       " 17.0,\n",
       " 17.0,\n",
       " 18.5,\n",
       " 18.5,\n",
       " 19.0,\n",
       " 19.0,\n",
       " 19.5,\n",
       " 20.0,\n",
       " 20.0]"
      ]
     },
     "execution_count": 70,
     "metadata": {},
     "output_type": "execute_result"
    }
   ],
   "source": [
    "N"
   ]
  },
  {
   "cell_type": "code",
   "execution_count": null,
   "metadata": {},
   "outputs": [],
   "source": []
  }
 ],
 "metadata": {
  "kernelspec": {
   "display_name": "Python 3 (ipykernel)",
   "language": "python",
   "name": "python3"
  },
  "language_info": {
   "codemirror_mode": {
    "name": "ipython",
    "version": 3
   },
   "file_extension": ".py",
   "mimetype": "text/x-python",
   "name": "python",
   "nbconvert_exporter": "python",
   "pygments_lexer": "ipython3",
   "version": "3.11.5"
  },
  "widgets": {
   "application/vnd.jupyter.widget-state+json": {
    "state": {},
    "version_major": 2,
    "version_minor": 0
   }
  }
 },
 "nbformat": 4,
 "nbformat_minor": 4
}
