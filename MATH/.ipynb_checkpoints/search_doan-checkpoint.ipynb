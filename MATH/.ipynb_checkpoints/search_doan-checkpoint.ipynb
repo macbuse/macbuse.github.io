{
 "cells": [
  {
   "cell_type": "markdown",
   "id": "929bd190-308f-4a2c-ba44-a3089186e31c",
   "metadata": {},
   "source": [
    "# bits and pieces of code \n",
    "\n",
    "\n",
    "But is this all just \"point pushing\"\n",
    "so that the group you get should be\n",
    "just the uniformizing group(oid) of the surface\n",
    "\n",
    "\n",
    "### References\n",
    "\n",
    "- thesis : https://orbilu.uni.lu/bitstream/10993/50710/1/thesis-merged.pdf\n",
    "- orthotrees : https://arxiv.org/abs/2112.10694\n",
    "\n"
   ]
  },
  {
   "cell_type": "markdown",
   "id": "d79f2644-f779-47c7-82d1-0c4b2dac31eb",
   "metadata": {},
   "source": [
    "![xx](./doan_qforms.png)"
   ]
  },
  {
   "cell_type": "markdown",
   "id": "ebcdba63-3cd8-4fff-b6e4-ffe78f0bf0f5",
   "metadata": {},
   "source": [
    "1. $X^+ + X^- = \\frac{3}{2}(Y + Z)$\n",
    "1. $X^+ + X^- = 19(Y + Z)$"
   ]
  },
  {
   "cell_type": "markdown",
   "id": "170f7d37-fa6b-4b5c-a8e5-3898d841a13a",
   "metadata": {},
   "source": [
    "[doan's figure](./doan_fig.png)"
   ]
  },
  {
   "cell_type": "markdown",
   "id": "5034daf2-3e53-4c8c-85f0-a202304bea9b",
   "metadata": {},
   "source": [
    "# Objective\n",
    "\n",
    "calculate the hyperbolic distance between the fixed points $a,b$\n",
    "of the involutions that generate Doan's group.\n",
    "\n",
    "one can do this using the inner product $B$ associated to the quadatic form :\n",
    "\n",
    "$\\cosh( d(u,v)) = B(u,v)$\n",
    "\n",
    "$d(u,v) = 1/2 \\ell_\\gamma$ where $\\gamma$ \n",
    "is the loxodromic obtained as a composition of the \n",
    "inversions in $a$ and $b$.\n",
    "\n",
    "\n",
    "The length of the *companion* orthogeodesic $\\gamma^*$ satisfies\n",
    "\n",
    "$\\cosh(1/2\\ell_\\gamma) = \\sinh(1/4 \\ell_\\delta) \\sinh(1/2 \\ell_{\\gamma^*})$"
   ]
  },
  {
   "cell_type": "code",
   "execution_count": null,
   "id": "f9d63980-2720-4230-a89e-3740141c1857",
   "metadata": {},
   "outputs": [],
   "source": []
  },
  {
   "cell_type": "markdown",
   "id": "ed806327-31d7-42d9-b2ab-d804af92f6b6",
   "metadata": {},
   "source": [
    "![ff](./doan_fixed.png)"
   ]
  },
  {
   "cell_type": "code",
   "execution_count": 1,
   "id": "646bdeb6-2e2e-4e8f-9b56-523e26b6f799",
   "metadata": {},
   "outputs": [],
   "source": [
    "import numpy as np"
   ]
  },
  {
   "cell_type": "code",
   "execution_count": 160,
   "id": "6e2dc7e7-7b43-4ca7-b9d9-1878c2a0becd",
   "metadata": {},
   "outputs": [],
   "source": [
    "def Q(v):\n",
    "    x,y,z =v\n",
    "    return x**2 + 36*y**2 + 55*z**2 - 18*x*y - 20*x*z - 90*y*z\n",
    "\n",
    "def ip(u,v):\n",
    "    # stanadard way to get the inner product from a q-form\n",
    "    uu = np.array(u)\n",
    "    vv = np.array(v)\n",
    "\n",
    "    return .25*(Q(uu+vv)-Q(uu-vv))\n",
    "\n",
    "def DD(v):\n",
    "    # auxilliary function in Doan\n",
    "    x,y,z =v\n",
    "    return x**2 + y**2 + z**2 + 2*x*y*z -1"
   ]
  },
  {
   "cell_type": "markdown",
   "id": "083912e8-5508-4bae-901b-5d12cd09d3a5",
   "metadata": {},
   "source": [
    "---\n",
    "\n",
    "## Define the quadratic form or rather the associated matrix"
   ]
  },
  {
   "cell_type": "code",
   "execution_count": 3,
   "id": "79e9b236-3210-4c3c-a9e1-6515190a2c9e",
   "metadata": {},
   "outputs": [
    {
     "data": {
      "text/plain": [
       "array([[  1,  -9, -10],\n",
       "       [ -9,  36, -45],\n",
       "       [-10, -45,  55]])"
      ]
     },
     "execution_count": 3,
     "metadata": {},
     "output_type": "execute_result"
    }
   ],
   "source": [
    "MM = [1,-9,-10,-9,36,-45,-10,-45,55]\n",
    "QM = np.array(MM).reshape(3,3)\n",
    "QM"
   ]
  },
  {
   "cell_type": "code",
   "execution_count": 4,
   "id": "97454a0c-0e94-4725-bcbd-24b2933606a7",
   "metadata": {},
   "outputs": [],
   "source": [
    "values,vectors = np.linalg.eig(QM)"
   ]
  },
  {
   "cell_type": "code",
   "execution_count": 5,
   "id": "84ffbfa9-d75d-472b-a25a-10b2dc25ce01",
   "metadata": {},
   "outputs": [
    {
     "data": {
      "text/plain": [
       "array([[-0.68751521, -0.72578408, -0.02367096],\n",
       "       [-0.55523217,  0.54640603, -0.62702288],\n",
       "       [-0.46801718,  0.41794489,  0.77864112]])"
      ]
     },
     "execution_count": 5,
     "metadata": {},
     "output_type": "execute_result"
    }
   ],
   "source": [
    "vectors"
   ]
  },
  {
   "cell_type": "code",
   "execution_count": 6,
   "id": "9a87894c-697a-402f-9bec-34c1b391b153",
   "metadata": {},
   "outputs": [],
   "source": [
    "P = np.array([ v/x for  x,v in zip(np.sqrt(abs(values)), vectors.T) ])"
   ]
  },
  {
   "cell_type": "code",
   "execution_count": 7,
   "id": "dcdd6746-04bd-499f-8e94-ef36f08a772f",
   "metadata": {},
   "outputs": [
    {
     "data": {
      "text/plain": [
       "array([[-1.00000000e+00,  8.32667268e-17,  2.77555756e-17],\n",
       "       [ 2.77555756e-17,  1.00000000e+00,  2.77555756e-17],\n",
       "       [-1.11022302e-16,  0.00000000e+00,  1.00000000e+00]])"
      ]
     },
     "execution_count": 7,
     "metadata": {},
     "output_type": "execute_result"
    }
   ],
   "source": [
    "P@QM@P.T"
   ]
  },
  {
   "cell_type": "code",
   "execution_count": 308,
   "id": "bec5ddb3-4462-46e2-86b0-2c3a5b212d09",
   "metadata": {},
   "outputs": [
    {
     "data": {
      "text/plain": [
       "array([[-0.19012961, -0.15354726, -0.1294283 ],\n",
       "       [-0.19728387,  0.14852502,  0.11360649],\n",
       "       [-0.00247404, -0.06553515,  0.08138198]])"
      ]
     },
     "execution_count": 308,
     "metadata": {},
     "output_type": "execute_result"
    }
   ],
   "source": [
    "P"
   ]
  },
  {
   "cell_type": "markdown",
   "id": "bb52af72-1c4a-452b-a2ed-6a8725fdeb5e",
   "metadata": {},
   "source": [
    "---\n",
    "## Playing with Doan's generators"
   ]
  },
  {
   "cell_type": "code",
   "execution_count": 8,
   "id": "2f227901-3848-4fa2-a96a-0b28294d9415",
   "metadata": {},
   "outputs": [
    {
     "data": {
      "text/plain": [
       "(360, 360.0)"
      ]
     },
     "execution_count": 8,
     "metadata": {},
     "output_type": "execute_result"
    }
   ],
   "source": [
    "Q([17,3,-1]), DD([3,17,21])/8"
   ]
  },
  {
   "cell_type": "code",
   "execution_count": 9,
   "id": "2474b579-c02b-45a2-a5cc-5bfe1a1b2407",
   "metadata": {},
   "outputs": [],
   "source": [
    "A = [-1,19,19,0,0,1,0,1,0]\n",
    "gx = np.array(A).reshape(3,3)\n",
    "B = [0,1,0,1,0,0,1,1,-1]\n",
    "gz = np.array(B).reshape(3,3)\n",
    "C = [0,0,1,3/2,-1,3/2,1,0,0]\n",
    "gy = np.array(C).reshape(3,3)"
   ]
  },
  {
   "cell_type": "code",
   "execution_count": 208,
   "id": "73f34116-f9be-4b76-ab25-efebe1d6481c",
   "metadata": {},
   "outputs": [
    {
     "data": {
      "text/plain": [
       "(array([[-1, 19, 19],\n",
       "        [ 0,  0,  1],\n",
       "        [ 0,  1,  0]]),\n",
       " array([[ 0. ,  0. ,  1. ],\n",
       "        [ 1.5, -1. ,  1.5],\n",
       "        [ 1. ,  0. ,  0. ]]),\n",
       " array([[ 0,  1,  0],\n",
       "        [ 1,  0,  0],\n",
       "        [ 1,  1, -1]]))"
      ]
     },
     "execution_count": 208,
     "metadata": {},
     "output_type": "execute_result"
    }
   ],
   "source": [
    "gx, gy, gz"
   ]
  },
  {
   "cell_type": "code",
   "execution_count": 10,
   "id": "ab2a969d-0a20-4df9-9799-475b265d2c6c",
   "metadata": {},
   "outputs": [
    {
     "data": {
      "text/plain": [
       "(array([17,  3, -1]), array([21, -1,  3]), 360)"
      ]
     },
     "execution_count": 10,
     "metadata": {},
     "output_type": "execute_result"
    }
   ],
   "source": [
    "v = np.array([17,3,-1])\n",
    "v, gx@v, Q(gx@v)"
   ]
  },
  {
   "cell_type": "code",
   "execution_count": 11,
   "id": "ab091d6d-608d-4753-82ba-39d30d2cfb51",
   "metadata": {},
   "outputs": [
    {
     "data": {
      "text/plain": [
       "(array([[0, 0, 0],\n",
       "        [0, 0, 0],\n",
       "        [0, 0, 0]]),\n",
       " array([[0., 0., 0.],\n",
       "        [0., 0., 0.],\n",
       "        [0., 0., 0.]]),\n",
       " array([[0, 0, 0],\n",
       "        [0, 0, 0],\n",
       "        [0, 0, 0]]))"
      ]
     },
     "execution_count": 11,
     "metadata": {},
     "output_type": "execute_result"
    }
   ],
   "source": [
    "gx.T@QM@gx - QM, gy.T@QM@gy - QM, gz.T@QM@gz - QM"
   ]
  },
  {
   "cell_type": "markdown",
   "id": "1534cf5d-8e4f-4745-9c88-f07cdd767b3a",
   "metadata": {},
   "source": [
    "---\n",
    "## looking for elliptics\n",
    "\n",
    "- gx,gy,gz are diagonalisable\n",
    "- 1 is an eigenvalue eigenvector v satisfies Q(v) < 0 \n",
    "- -1 is an eigenvalue of multiplicity 2 eigenvectors v satisfy Q(v) > 0\n",
    "\n",
    "\n",
    "This is the **holed torus case**\n",
    "it would be interesting to know \n",
    "\n",
    "- if in the 3 holed sphere case the corresponding involutions were reflections\n",
    "- if the group we get from these elliptics is a holed torus group too\n",
    "\n",
    "$$(u,v)_Q = \\frac12(Q(u+v) - Q(u-v))$$\n",
    "\n",
    "is an inner product if $Q$ is a quadratic form\n",
    "one should be able to compute the lengths \n",
    "of the boundary geodesics from this.\n",
    "\n"
   ]
  },
  {
   "cell_type": "code",
   "execution_count": 12,
   "id": "d2a7c154-ae16-4bb2-9769-7cb22e4f9a94",
   "metadata": {},
   "outputs": [
    {
     "data": {
      "text/plain": [
       "array([-1.,  1., -1.])"
      ]
     },
     "execution_count": 12,
     "metadata": {},
     "output_type": "execute_result"
    }
   ],
   "source": [
    "eigenvalues, vectors = np.linalg.eig(gx)\n",
    "eigenvalues"
   ]
  },
  {
   "cell_type": "code",
   "execution_count": 13,
   "id": "e6ea721e-e079-41b7-9d8b-461856569865",
   "metadata": {},
   "outputs": [
    {
     "data": {
      "text/plain": [
       "array([[ 1.        ,  0.99724137,  0.        ],\n",
       "       [ 0.        ,  0.05248639, -0.70710678],\n",
       "       [ 0.        ,  0.05248639,  0.70710678]])"
      ]
     },
     "execution_count": 13,
     "metadata": {},
     "output_type": "execute_result"
    }
   ],
   "source": [
    "vectors"
   ]
  },
  {
   "cell_type": "code",
   "execution_count": 14,
   "id": "28df7cd6-b1cc-443e-9415-7ed2370ecb2b",
   "metadata": {},
   "outputs": [
    {
     "data": {
      "text/plain": [
       "(array([19.,  1.,  1.]), -360.0)"
      ]
     },
     "execution_count": 14,
     "metadata": {},
     "output_type": "execute_result"
    }
   ],
   "source": [
    "gx_fp = vectors.T[1]\n",
    "gx_fp = gx_fp/gx_fp[1]\n",
    "gx_fp, Q(gx_fp)"
   ]
  },
  {
   "cell_type": "code",
   "execution_count": 15,
   "id": "1846e4e9-5205-485a-a6bf-bf42f2e206ec",
   "metadata": {},
   "outputs": [
    {
     "data": {
      "text/plain": [
       "[1.0, -0.9917355371900829, 90.49999999999997]"
      ]
     },
     "execution_count": 15,
     "metadata": {},
     "output_type": "execute_result"
    }
   ],
   "source": [
    "[Q(v) for v in vectors.T]"
   ]
  },
  {
   "cell_type": "code",
   "execution_count": 22,
   "id": "3f86a842-df88-416c-85e8-9ab77b5d5c71",
   "metadata": {},
   "outputs": [
    {
     "data": {
      "text/plain": [
       "array([1. , 1.5, 1. ])"
      ]
     },
     "execution_count": 22,
     "metadata": {},
     "output_type": "execute_result"
    }
   ],
   "source": [
    "eigenvalues, vectors = np.linalg.eig(gy)\n",
    "eigenvalues\n",
    "gy_fp = vectors.T[1]/vectors[0,1]\n",
    "gy_fp"
   ]
  },
  {
   "cell_type": "code",
   "execution_count": 34,
   "id": "9473624d-90f8-4638-adfb-7cfb9555f70c",
   "metadata": {},
   "outputs": [
    {
     "data": {
      "text/plain": [
       "-36.0"
      ]
     },
     "execution_count": 34,
     "metadata": {},
     "output_type": "execute_result"
    }
   ],
   "source": [
    "eigenvalues, vectors = np.linalg.eig(gz)\n",
    "eigenvalues\n",
    "[Q(v) for v in vectors.T]\n",
    "gz_fp = vectors.T[1]/vectors[0,1]\n",
    "Q(gz_fp)"
   ]
  },
  {
   "cell_type": "code",
   "execution_count": 274,
   "id": "4ae81aaa-dfc5-4645-9fee-da282f50a2b0",
   "metadata": {},
   "outputs": [
    {
     "data": {
      "text/plain": [
       "array([4.79791576e+01, 2.08423834e-02, 1.00000000e+00])"
      ]
     },
     "execution_count": 274,
     "metadata": {},
     "output_type": "execute_result"
    }
   ],
   "source": [
    "eigenvalues, ev_gxgy = np.linalg.eig(gx@gy)\n",
    "eigenvalues"
   ]
  },
  {
   "cell_type": "code",
   "execution_count": 275,
   "id": "de5c5061-7745-4c56-8fe9-58dd7fe76fc6",
   "metadata": {},
   "outputs": [
    {
     "data": {
      "text/plain": [
       "[-1.6653345369377348e-16, -7.105427357601002e-15, 61.333333333333314]"
      ]
     },
     "execution_count": 275,
     "metadata": {},
     "output_type": "execute_result"
    }
   ],
   "source": [
    "[Q(v) for v in ev_gxgy.T]"
   ]
  },
  {
   "cell_type": "code",
   "execution_count": 271,
   "id": "aa785a91-6f45-4da7-ae4d-76030207550a",
   "metadata": {},
   "outputs": [
    {
     "data": {
      "text/plain": [
       "(61.333333333333314, array([ 1.,  1., -1.]))"
      ]
     },
     "execution_count": 271,
     "metadata": {},
     "output_type": "execute_result"
    }
   ],
   "source": [
    "Q(ev_gxgy[:,2]),ev_gxgy[:,2]/ev_gxgy[0,2]"
   ]
  },
  {
   "cell_type": "markdown",
   "id": "4b1f5057-7d7a-46d8-a484-c68c2df998ec",
   "metadata": {},
   "source": [
    "---\n",
    "\n",
    "# boundary geodesic on the quotient orbifold\n",
    "\n",
    "- this element is a loop round the boundary gx@gy@gz\n",
    "\n",
    "and we should be able to calculate it's trace using the inner product\n",
    "\n",
    "like this\n",
    "\n",
    "```ip(a,comm1@a)/np.sqrt(Q(a)*Q(comm1@a))```\n",
    "\n",
    "= -3.5"
   ]
  },
  {
   "cell_type": "code",
   "execution_count": 86,
   "id": "176ff595-3ca2-4067-b80b-f62ec57b5c21",
   "metadata": {},
   "outputs": [
    {
     "data": {
      "text/plain": [
       "array([-0.98313538, -0.17349448,  0.05783149])"
      ]
     },
     "execution_count": 86,
     "metadata": {},
     "output_type": "execute_result"
    }
   ],
   "source": [
    "comm = gx@gz@gy\n",
    "ev_comm = np.linalg.eig(comm)\n",
    "\n",
    "[Q(v) for v in ev_comm[1].T]\n",
    "ev_comm[1].T[2]"
   ]
  },
  {
   "cell_type": "code",
   "execution_count": 85,
   "id": "7140febe-e2ce-4c58-a7c2-5c19b9291402",
   "metadata": {},
   "outputs": [
    {
     "data": {
      "text/plain": [
       "array([[ 0.99797978,  0.91654766, -0.98313538],\n",
       "       [ 0.06353239,  0.39992549, -0.17349448],\n",
       "       [ 0.        ,  0.        ,  0.05783149]])"
      ]
     },
     "execution_count": 85,
     "metadata": {},
     "output_type": "execute_result"
    }
   ],
   "source": [
    "ev_comm[1]"
   ]
  },
  {
   "cell_type": "code",
   "execution_count": 146,
   "id": "05745fd4-548b-4b84-b4fd-70bdfe039d1a",
   "metadata": {},
   "outputs": [
    {
     "name": "stdout",
     "output_type": "stream",
     "text": [
      "[6.85410197 0.14589803 1.        ]\n",
      "[0.14589803 6.85410197 1.        ]\n"
     ]
    }
   ],
   "source": [
    "comm1 = gx@gy@gz\n",
    "comm2 = gy@gx@gz\n",
    "\n",
    "for _ in [comm1,comm2]:\n",
    "    print(np.linalg.eig(_)[0])"
   ]
  },
  {
   "cell_type": "code",
   "execution_count": 140,
   "id": "76360dd8-b813-4532-8dfd-906c6f1d39fc",
   "metadata": {},
   "outputs": [
    {
     "data": {
      "text/plain": [
       "array([[  1. ,   0. ,   0. ],\n",
       "       [ 57.5,  26. , -27.5],\n",
       "       [ 38. ,  18. , -19. ]])"
      ]
     },
     "execution_count": 140,
     "metadata": {},
     "output_type": "execute_result"
    }
   ],
   "source": [
    "comm1"
   ]
  },
  {
   "cell_type": "markdown",
   "id": "91b93865-973d-496c-9fca-86dddb52f1ea",
   "metadata": {},
   "source": [
    "## These are the fixed points on the light cone"
   ]
  },
  {
   "cell_type": "code",
   "execution_count": 149,
   "id": "6d7dbac7-e455-4966-b28c-016e0a56ef94",
   "metadata": {},
   "outputs": [],
   "source": [
    "fp_s,fp_u = np.linalg.eig(comm1)[1].T[:2]"
   ]
  },
  {
   "cell_type": "markdown",
   "id": "2bbbaf4b-7f76-4537-9d9e-410e989a1f65",
   "metadata": {},
   "source": [
    "## calculate \n",
    "1. a point $a$ on the geodesic (plane they span)\n",
    "2. the normal vector to the plane (geodesic) they span"
   ]
  },
  {
   "cell_type": "code",
   "execution_count": 158,
   "id": "eab9bf87-7f9a-49d4-9d9f-9fed2ee0b189",
   "metadata": {},
   "outputs": [
    {
     "data": {
      "text/plain": [
       "(-3.125829202412346, 3.1258292024123473)"
      ]
     },
     "execution_count": 158,
     "metadata": {},
     "output_type": "execute_result"
    }
   ],
   "source": [
    "a,b = fp_s + fp_u, fp_s - fp_u\n",
    "normal = np.cross(a,b) # should be a multiple of (0,1,0)\n",
    "Q(a), Q(b)"
   ]
  },
  {
   "cell_type": "markdown",
   "id": "595ace0f-756d-49e3-a129-32f33aa619a8",
   "metadata": {},
   "source": [
    "### check both a and it's translate are on the geodesic"
   ]
  },
  {
   "cell_type": "code",
   "execution_count": 156,
   "id": "706f0ae8-92b3-41a5-9d8b-2815b7e8142c",
   "metadata": {},
   "outputs": [
    {
     "data": {
      "text/plain": [
       "(0.0, 0.0)"
      ]
     },
     "execution_count": 156,
     "metadata": {},
     "output_type": "execute_result"
    }
   ],
   "source": [
    "normal@a, normal@(comm1@a)"
   ]
  },
  {
   "cell_type": "code",
   "execution_count": null,
   "id": "4b9c9730-33ae-4385-8c25-ca0a9e2efa53",
   "metadata": {},
   "outputs": [],
   "source": [
    "## and this is the product"
   ]
  },
  {
   "cell_type": "code",
   "execution_count": 153,
   "id": "de00cdf8-ada5-45fb-9bdc-3ccca2723857",
   "metadata": {},
   "outputs": [
    {
     "data": {
      "text/plain": [
       "-3.4999999999999982"
      ]
     },
     "execution_count": 153,
     "metadata": {},
     "output_type": "execute_result"
    }
   ],
   "source": [
    "ip(a,comm1@a)/np.sqrt(Q(a)*Q(comm1@a))"
   ]
  },
  {
   "cell_type": "markdown",
   "id": "238721b4-3353-40dd-a3b8-45f9970b9ed8",
   "metadata": {},
   "source": [
    "---\n",
    "## check that gx_fp is on the axis of gx@gy\n",
    "\n",
    "- ev_gxgy[:,0] ev_gxgy[:,1] are on the light cone Q = 0\n",
    "- they span a plane whose intersection with the Q  = k < 0 is a geodesic\n",
    "- take their  cross product and  check that gx_fp and gy_fp are orthogonal to it"
   ]
  },
  {
   "cell_type": "code",
   "execution_count": 282,
   "id": "f2bd54c7-cedc-46fa-9cbb-f2460ddd57e4",
   "metadata": {},
   "outputs": [
    {
     "data": {
      "text/plain": [
       "[-1.6653345369377348e-16, -7.105427357601002e-15]"
      ]
     },
     "execution_count": 282,
     "metadata": {},
     "output_type": "execute_result"
    }
   ],
   "source": [
    "[Q(v) for v in ev_gxgy.T[:2] ]"
   ]
  },
  {
   "cell_type": "code",
   "execution_count": 278,
   "id": "4d79422e-72d8-4333-a5db-766c02ffa259",
   "metadata": {},
   "outputs": [
    {
     "data": {
      "text/plain": [
       "0.0"
      ]
     },
     "execution_count": 278,
     "metadata": {},
     "output_type": "execute_result"
    }
   ],
   "source": [
    "gx_fp @ np.cross(ev_gxgy[:,1],ev_gxgy[:,0])"
   ]
  },
  {
   "cell_type": "code",
   "execution_count": 283,
   "id": "d589f5fd-88f3-4239-bc2f-7ae8ab00d218",
   "metadata": {},
   "outputs": [
    {
     "data": {
      "text/plain": [
       "-1.1102230246251565e-16"
      ]
     },
     "execution_count": 283,
     "metadata": {},
     "output_type": "execute_result"
    }
   ],
   "source": [
    "gy_fp @ np.cross(ev_gxgy[:,1],ev_gxgy[:,0])"
   ]
  },
  {
   "cell_type": "code",
   "execution_count": 285,
   "id": "182de7aa-11ae-4961-89cc-0cba30cdb1c4",
   "metadata": {},
   "outputs": [
    {
     "data": {
      "text/plain": [
       "(-45.0, -360.0)"
      ]
     },
     "execution_count": 285,
     "metadata": {},
     "output_type": "execute_result"
    }
   ],
   "source": [
    "Q(gy_fp),Q(gx_fp)"
   ]
  },
  {
   "cell_type": "markdown",
   "id": "efcc4cb0-300f-40a7-8eff-2f062f7ba6b8",
   "metadata": {},
   "source": [
    "---"
   ]
  },
  {
   "cell_type": "code",
   "execution_count": 162,
   "id": "8d058725-418f-4521-8dfd-46b5d51b3cbb",
   "metadata": {},
   "outputs": [
    {
     "data": {
      "text/plain": [
       "array([3.7973666e+01, 2.6334039e-02, 1.0000000e+00])"
      ]
     },
     "execution_count": 162,
     "metadata": {},
     "output_type": "execute_result"
    }
   ],
   "source": [
    "eigenvalues, vectors = np.linalg.eig(gx@gz)\n",
    "eigenvalues"
   ]
  },
  {
   "cell_type": "code",
   "execution_count": 163,
   "id": "e2e3e1ac-d811-4b46-bf42-1dec21e8da8b",
   "metadata": {},
   "outputs": [
    {
     "data": {
      "text/plain": [
       "(60.000000000000014, array([ 1., -1.,  1.]))"
      ]
     },
     "execution_count": 163,
     "metadata": {},
     "output_type": "execute_result"
    }
   ],
   "source": [
    "Q(vectors[:,2]),vectors[:,2]/vectors[0,2]"
   ]
  },
  {
   "cell_type": "code",
   "execution_count": 279,
   "id": "98987450-9467-499b-a19f-2ab7814c6794",
   "metadata": {},
   "outputs": [
    {
     "data": {
      "text/plain": [
       "array([2.61803399, 1.        , 0.38196601])"
      ]
     },
     "execution_count": 279,
     "metadata": {},
     "output_type": "execute_result"
    }
   ],
   "source": [
    "eigenvalues, vectors = np.linalg.eig(gy@gz)\n",
    "eigenvalues"
   ]
  },
  {
   "cell_type": "code",
   "execution_count": 280,
   "id": "487a46b5-3a44-4b1c-914e-d1368bcaf266",
   "metadata": {},
   "outputs": [
    {
     "data": {
      "text/plain": [
       "(13.333333333333336, array([ 1., -1., -1.]))"
      ]
     },
     "execution_count": 280,
     "metadata": {},
     "output_type": "execute_result"
    }
   ],
   "source": [
    "Q(vectors[:,1]),vectors[:,1]/vectors[0,1]"
   ]
  },
  {
   "cell_type": "code",
   "execution_count": 281,
   "id": "87703bfe-9bed-4261-b709-d1ebe01e5e33",
   "metadata": {},
   "outputs": [
    {
     "data": {
      "text/plain": [
       "40.0"
      ]
     },
     "execution_count": 281,
     "metadata": {},
     "output_type": "execute_result"
    }
   ],
   "source": [
    "Q([ 1., -1., -1.])"
   ]
  },
  {
   "cell_type": "code",
   "execution_count": null,
   "id": "45d19673-a6ee-45c2-98ce-6a931a1c2766",
   "metadata": {},
   "outputs": [],
   "source": []
  },
  {
   "cell_type": "code",
   "execution_count": 28,
   "id": "b5a0597d-50c7-4a54-8954-d5df2a21fed9",
   "metadata": {},
   "outputs": [
    {
     "data": {
      "text/plain": [
       "(0.0, -450.0, -449.9999999999999)"
      ]
     },
     "execution_count": 28,
     "metadata": {},
     "output_type": "execute_result"
    }
   ],
   "source": [
    "ip([1,-1,1],[1,-1,-1]), ip(gx_fp,gy_fp), gx_fp@QM@gy_fp"
   ]
  },
  {
   "cell_type": "code",
   "execution_count": 28,
   "id": "c99434f4",
   "metadata": {},
   "outputs": [
    {
     "data": {
      "text/plain": [
       "(0.0, -450.0, -449.9999999999999)"
      ]
     },
     "execution_count": 28,
     "metadata": {},
     "output_type": "execute_result"
    }
   ],
   "source": [
    "ip([1,-1,1],[1,-1,-1]), ip(gx_fp,gy_fp), gx_fp@QM@gy_fp"
   ]
  },
  {
   "cell_type": "code",
   "execution_count": 37,
   "id": "8676c7e2-1851-4769-b252-f89c07dbf5e8",
   "metadata": {},
   "outputs": [],
   "source": [
    "aa = ip(gx_fp,gy_fp)/np.sqrt(Q(gx_fp)*Q(gy_fp))"
   ]
  },
  {
   "cell_type": "code",
   "execution_count": 38,
   "id": "8389e8d7-e3de-4028-8325-70c6b0f26fa8",
   "metadata": {},
   "outputs": [],
   "source": [
    "bb = ip(gx_fp,gz_fp)/np.sqrt(Q(gx_fp)*Q(gz_fp))"
   ]
  },
  {
   "cell_type": "code",
   "execution_count": 39,
   "id": "30b5b851-00e1-41ca-b060-02935ae472e7",
   "metadata": {},
   "outputs": [],
   "source": [
    "cc = ip(gy_fp,gz_fp)/np.sqrt(Q(gy_fp)*Q(gz_fp))"
   ]
  },
  {
   "cell_type": "code",
   "execution_count": 167,
   "id": "59d49da5-b606-460e-92ec-6e4dd9116e8a",
   "metadata": {},
   "outputs": [
    {
     "data": {
      "text/plain": [
       "[-1.6653345369377348e-16, -7.105427357601002e-15, 61.333333333333314]"
      ]
     },
     "execution_count": 167,
     "metadata": {},
     "output_type": "execute_result"
    }
   ],
   "source": [
    "[Q(_) for _ in np.linalg.eig(gx@gy)[1].T ]"
   ]
  },
  {
   "cell_type": "code",
   "execution_count": null,
   "id": "8cc15f57-d0d7-472c-ab2a-99076bd0f66a",
   "metadata": {},
   "outputs": [],
   "source": []
  },
  {
   "cell_type": "markdown",
   "id": "0593c1b0-2c25-473e-8628-bfe5d8e18f30",
   "metadata": {},
   "source": [
    "## redoing the calculation with the loxodromic\n",
    "\n",
    "This is the same calculation that we did for the boundary holonomy"
   ]
  },
  {
   "cell_type": "code",
   "execution_count": 221,
   "id": "5c665faf-2fdb-4fa4-a0ca-b3e87fc6938a",
   "metadata": {},
   "outputs": [
    {
     "data": {
      "text/plain": [
       "-23.999999999999947"
      ]
     },
     "execution_count": 221,
     "metadata": {},
     "output_type": "execute_result"
    }
   ],
   "source": [
    "loxo = gx@gy\n",
    "fs,fu  = [_ for _ in np.linalg.eig(loxo)[1].T if abs(Q(_)) < .00001]\n",
    "a, b = fs + fu, fs - fu\n",
    "nn = np.cross(fs,fu)\n",
    "pt = [_ for _ in [a,b] if Q(_) < 0][0]\n",
    "ip(loxo@pt,pt)/np.sqrt(Q(pt) * Q(loxo@pt) )"
   ]
  },
  {
   "cell_type": "code",
   "execution_count": 214,
   "id": "2fc64e12-cd3f-456d-934d-4342ef6d3ed3",
   "metadata": {},
   "outputs": [
    {
     "data": {
      "text/plain": [
       "-1.5000000000000016"
      ]
     },
     "execution_count": 214,
     "metadata": {},
     "output_type": "execute_result"
    }
   ],
   "source": []
  },
  {
   "cell_type": "code",
   "execution_count": 215,
   "id": "5e47f839-1d02-4b47-aada-aeba95fbd8af",
   "metadata": {},
   "outputs": [
    {
     "data": {
      "text/plain": [
       "(24, 19, 1.5)"
      ]
     },
     "execution_count": 215,
     "metadata": {},
     "output_type": "execute_result"
    }
   ],
   "source": [
    "24,19, 1.5"
   ]
  },
  {
   "cell_type": "code",
   "execution_count": 216,
   "id": "b40a3a4d-93ec-4312-a442-fb70c0bbb036",
   "metadata": {},
   "outputs": [
    {
     "data": {
      "text/plain": [
       "-12659"
      ]
     },
     "execution_count": 216,
     "metadata": {},
     "output_type": "execute_result"
    }
   ],
   "source": [
    "48**2 + 38**2 + 3**2 - 3*48*38*3"
   ]
  },
  {
   "cell_type": "markdown",
   "id": "47f31931-dbe8-42e1-9553-a4359b462ed4",
   "metadata": {},
   "source": [
    "---\n",
    "## eigenvectors\n",
    "\n",
    "- two eigenvectors on the light cone \n",
    "- one on the hyperboloid"
   ]
  },
  {
   "cell_type": "code",
   "execution_count": 229,
   "id": "e78ea563-47ef-4037-88cf-65e6f07917da",
   "metadata": {},
   "outputs": [
    {
     "data": {
      "text/plain": [
       "[-1.6653345369377348e-16, -7.105427357601002e-15, 61.333333333333314]"
      ]
     },
     "execution_count": 229,
     "metadata": {},
     "output_type": "execute_result"
    }
   ],
   "source": [
    "[Q(v) for v in vectors.T]"
   ]
  },
  {
   "cell_type": "code",
   "execution_count": 194,
   "id": "7631f06e-7025-49e0-a34c-7000de1a48ad",
   "metadata": {},
   "outputs": [
    {
     "data": {
      "text/plain": [
       "360"
      ]
     },
     "execution_count": 194,
     "metadata": {},
     "output_type": "execute_result"
    }
   ],
   "source": []
  },
  {
   "cell_type": "markdown",
   "id": "2e7e6fef-7138-4681-aa08-6dbe4e0c2c07",
   "metadata": {},
   "source": [
    "---\n",
    "\n",
    "# searching for integer forms"
   ]
  },
  {
   "cell_type": "code",
   "execution_count": 26,
   "id": "09752634-cfa4-4314-99f1-952d8c70d387",
   "metadata": {},
   "outputs": [],
   "source": [
    "@jit\n",
    "def search(N=10):\n",
    "\n",
    "    L = []\n",
    "    for x in range(N):\n",
    "        for y in range(x,N):\n",
    "            tt = x**2 + y**2 - 3*x*y \n",
    "            for z in range(y,N):\n",
    "                bb = tt + z**2 - 3*z*( y + x) - 10\n",
    "                if bb == 0: \n",
    "                    L.append((x,y,z))\n",
    "                    #print(L[-1])\n",
    "                \n",
    "    return L"
   ]
  },
  {
   "cell_type": "code",
   "execution_count": 6,
   "id": "c909f33b-6e89-441f-ad9b-7d5084b399e3",
   "metadata": {},
   "outputs": [],
   "source": [
    "#kk = search(N=4000)"
   ]
  },
  {
   "cell_type": "code",
   "execution_count": 56,
   "id": "8928168c-a327-438a-8ca7-3f70f36f700a",
   "metadata": {},
   "outputs": [],
   "source": [
    "def nn(a,b,c):\n",
    "    return 3*(a + b) - c\n",
    "\n",
    "vf = []\n",
    "zz = []\n",
    "\n",
    "for _ in kk:\n",
    "    a,b,c = _\n",
    "    vf.extend([nn(a,b,c), nn(b,c,a), nn(c,a,b)])\n",
    "    zz.append(c)\n",
    "    "
   ]
  },
  {
   "cell_type": "code",
   "execution_count": 50,
   "id": "e09a1740-5e92-4e8f-acdb-1760ed00443a",
   "metadata": {},
   "outputs": [],
   "source": [
    "z2triple = { _[-1]: _ for _ in kk}"
   ]
  },
  {
   "cell_type": "code",
   "execution_count": 57,
   "id": "eeea0d90-1589-4c41-a666-e1f6e707d3ad",
   "metadata": {},
   "outputs": [],
   "source": [
    "maxz = max(zz)\n",
    "vs = list(set([_ for _ in vf if  _ < maxz]))\n"
   ]
  },
  {
   "cell_type": "code",
   "execution_count": 43,
   "id": "5b84b1f0-2302-4770-93cc-f1d6f89ae12f",
   "metadata": {},
   "outputs": [],
   "source": [
    "vs.sort()"
   ]
  },
  {
   "cell_type": "code",
   "execution_count": 58,
   "id": "73b8b1cf-2fae-44a2-9050-38f86f2f39a5",
   "metadata": {},
   "outputs": [],
   "source": [
    "pp = [_ for _ in zz if _ not  in vs]"
   ]
  },
  {
   "cell_type": "code",
   "execution_count": 7,
   "id": "bd8b193d-a848-49e3-8712-4e48ce9b33f8",
   "metadata": {},
   "outputs": [],
   "source": [
    "#[ z2triple[_] for _ in pp]"
   ]
  },
  {
   "cell_type": "code",
   "execution_count": 62,
   "id": "584265e6-fa94-421b-9fdd-289b8f1ed844",
   "metadata": {},
   "outputs": [
    {
     "data": {
      "text/plain": [
       "(99, 123, 683)"
      ]
     },
     "execution_count": 62,
     "metadata": {},
     "output_type": "execute_result"
    }
   ],
   "source": [
    "z2triple[683]"
   ]
  },
  {
   "cell_type": "markdown",
   "id": "87ef23f2-4ea2-466d-9da6-2eed22cdb710",
   "metadata": {},
   "source": [
    "---\n",
    "\n",
    "# refactoring\n",
    "\n",
    "I pulled some expressions out of the ```for c in loop```\n",
    "as they didn't needed to be evaluated every time"
   ]
  },
  {
   "cell_type": "code",
   "execution_count": 6,
   "id": "3f8b0e1b-de83-4892-8622-cb602cafc374",
   "metadata": {},
   "outputs": [
    {
     "name": "stdout",
     "output_type": "stream",
     "text": [
      "Collecting numba\n",
      "  Downloading numba-0.60.0-cp311-cp311-manylinux2014_x86_64.manylinux_2_17_x86_64.whl.metadata (2.7 kB)\n",
      "Collecting llvmlite<0.44,>=0.43.0dev0 (from numba)\n",
      "  Downloading llvmlite-0.43.0-cp311-cp311-manylinux_2_17_x86_64.manylinux2014_x86_64.whl.metadata (4.8 kB)\n",
      "Requirement already satisfied: numpy<2.1,>=1.22 in /home/macbuse/miniconda3/lib/python3.11/site-packages (from numba) (1.26.2)\n",
      "Downloading numba-0.60.0-cp311-cp311-manylinux2014_x86_64.manylinux_2_17_x86_64.whl (3.7 MB)\n",
      "\u001b[2K   \u001b[38;2;114;156;31m━━━━━━━━━━━━━━━━━━━━━━━━━━━━━━━━━━━━━━━━\u001b[0m \u001b[32m3.7/3.7 MB\u001b[0m \u001b[31m5.0 MB/s\u001b[0m eta \u001b[36m0:00:00\u001b[0mm eta \u001b[36m0:00:01\u001b[0m0:01\u001b[0m:01\u001b[0m\n",
      "\u001b[?25hDownloading llvmlite-0.43.0-cp311-cp311-manylinux_2_17_x86_64.manylinux2014_x86_64.whl (43.9 MB)\n",
      "\u001b[2K   \u001b[38;2;114;156;31m━━━━━━━━━━━━━━━━━━━━━━━━━━━━━━━━━━━━━━━━\u001b[0m \u001b[32m43.9/43.9 MB\u001b[0m \u001b[31m1.5 MB/s\u001b[0m eta \u001b[36m0:00:00\u001b[0mm eta \u001b[36m0:00:01\u001b[0m[36m0:00:01\u001b[0m\n",
      "\u001b[?25hInstalling collected packages: llvmlite, numba\n",
      "Successfully installed llvmlite-0.43.0 numba-0.60.0\n",
      "Note: you may need to restart the kernel to use updated packages.\n"
     ]
    }
   ],
   "source": [
    "pip install numba\n"
   ]
  },
  {
   "cell_type": "code",
   "execution_count": 1,
   "id": "0920615a-2acf-4d32-bc5f-74e8bc356f30",
   "metadata": {},
   "outputs": [],
   "source": [
    "import numba as nb\n",
    "from numba import jit\n",
    "\n",
    "@jit(cache=True)\n",
    "def pants(num=2000):\n",
    "    dd = []\n",
    "    for a in range(2,num):     \n",
    "        sa = a**2 - 1\n",
    "        \n",
    "        for b in range(a,num):\n",
    "            sb = b**2 - 1 \n",
    "    \n",
    "            for c in range(b,num):\n",
    "                sc = c**2-1 \n",
    "                \n",
    "                ta = 2*(a*b + c)\n",
    "                tta = 2*(a*c + b)\n",
    "\n",
    "                if sc > ta and sc > tta:\n",
    "                      break \n",
    "                \n",
    "                tb = 2*(b*c + a)\n",
    "                \n",
    "                ttb = ta  #2*(b*a + c)\n",
    "                tc =  tb  #2*(c*b+a)\n",
    "                ttc = tta #2*(c*a+b)\n",
    "\n",
    "                if (ta%sa == 0 and tta%sa == 0 \n",
    "                and tb%sb == 0 and ttb%sb == 0 \n",
    "                and tc%sc == 0 and ttc%sc == 0):\n",
    "                    \n",
    "                    print(a,b,c)\n",
    "                    dd.append((a,b,c))\n",
    "                    \n",
    "    print(\"done\")\n",
    "    return dd\n",
    "                                "
   ]
  },
  {
   "cell_type": "code",
   "execution_count": 2,
   "id": "5cd90704-9d8e-4b0a-9540-93a2e1bb91bb",
   "metadata": {},
   "outputs": [
    {
     "name": "stdout",
     "output_type": "stream",
     "text": [
      "2 2 2\n",
      "2 2 5\n",
      "3 3 3\n",
      "3 3 7\n",
      "5 5 11\n",
      "done\n"
     ]
    },
    {
     "data": {
      "text/plain": [
       "[(2, 2, 2), (2, 2, 5), (3, 3, 3), (3, 3, 7), (5, 5, 11)]"
      ]
     },
     "execution_count": 2,
     "metadata": {},
     "output_type": "execute_result"
    }
   ],
   "source": [
    "pants()"
   ]
  },
  {
   "cell_type": "code",
   "execution_count": 3,
   "id": "a5395b0f-a2dc-45fa-86c9-2926ccd86a45",
   "metadata": {},
   "outputs": [],
   "source": [
    "@jit\n",
    "def torus(num=1000, ff=2):\n",
    "    triples = []\n",
    "    for a in range(2,num):\n",
    "        sa = a - 1\n",
    "        \n",
    "        for b in range(a,num):\n",
    "            sb = b - 1\n",
    "            tc = ff*(b + a)\n",
    "            \n",
    "            for c in range(b,num):\n",
    "                sc = c - 1 \n",
    "                ta = ff*(b + c)\n",
    "                tb = ff*(a + c)\n",
    "                \n",
    "                if ta%sa == 0 and tb%sb == 0 and tc%sc == 0:\n",
    "                    triples.append((a,b,c))\n",
    "                    print(a,b,c)\n",
    "    return triples\n",
    "\n"
   ]
  },
  {
   "cell_type": "code",
   "execution_count": null,
   "id": "ccaae1aa-405f-4c48-a2d7-db2ea13f94f6",
   "metadata": {},
   "outputs": [
    {
     "name": "stdout",
     "output_type": "stream",
     "text": [
      "2 2 2\n",
      "2 2 3\n",
      "2 2 5\n",
      "2 3 6\n",
      "2 4 4\n",
      "2 4 7\n",
      "2 7 10\n",
      "3 3 3\n",
      "3 3 7\n",
      "3 5 5\n",
      "3 5 9\n",
      "3 9 13\n",
      "4 4 5\n",
      "4 6 6\n",
      "4 11 16\n",
      "5 5 11\n",
      "5 7 13\n",
      "5 13 19\n",
      "7 9 9\n",
      "7 17 25\n"
     ]
    }
   ],
   "source": [
    "uu = torus(num=4000,ff=1)"
   ]
  },
  {
   "cell_type": "code",
   "execution_count": 6,
   "id": "df03e1ca-0bb8-4466-a7e9-6c1314e6f908",
   "metadata": {},
   "outputs": [
    {
     "data": {
      "text/plain": [
       "22"
      ]
     },
     "execution_count": 6,
     "metadata": {},
     "output_type": "execute_result"
    }
   ],
   "source": [
    "len(uu)"
   ]
  },
  {
   "cell_type": "markdown",
   "id": "5b024a85-e1d1-4f31-a5c8-f52a21939415",
   "metadata": {},
   "source": [
    "---\n",
    "\n",
    "# performance\n",
    "\n",
    "this is code to see how fast the function is \n",
    "\n",
    "- on average it does the ```num=2000``` \n",
    "in about 2.5 secs on my machine."
   ]
  },
  {
   "cell_type": "code",
   "execution_count": 50,
   "id": "babce9e2-20ce-4be5-8e15-cf11fb0247da",
   "metadata": {},
   "outputs": [
    {
     "name": "stdout",
     "output_type": "stream",
     "text": [
      "2 2 2\n",
      "2 2 5\n",
      "3 3 3\n",
      "3 3 7\n",
      "5 5 11\n",
      "done\n",
      "2 2 2\n",
      "2 2 5\n",
      "3 3 3\n",
      "3 3 7\n",
      "5 5 11\n",
      "done\n",
      "2 2 2\n",
      "2 2 5\n",
      "3 3 3\n",
      "3 3 7\n",
      "5 5 11\n",
      "done\n",
      "2 2 2\n",
      "2 2 5\n",
      "3 3 3\n",
      "3 3 7\n",
      "5 5 11\n",
      "done\n",
      "2 2 2\n",
      "2 2 5\n",
      "3 3 3\n",
      "3 3 7\n",
      "5 5 11\n",
      "done\n",
      "2 2 2\n",
      "2 2 5\n",
      "3 3 3\n",
      "3 3 7\n",
      "5 5 11\n",
      "done\n",
      "2 2 2\n",
      "2 2 5\n",
      "3 3 3\n",
      "3 3 7\n",
      "5 5 11\n",
      "done\n",
      "2 2 2\n",
      "2 2 5\n",
      "3 3 3\n",
      "3 3 7\n",
      "5 5 11\n",
      "done\n",
      "The slowest run took 8.34 times longer than the fastest. This could mean that an intermediate result is being cached.\n",
      "11.4 s ± 8.57 s per loop (mean ± std. dev. of 7 runs, 1 loop each)\n"
     ]
    }
   ],
   "source": [
    "%%timeit\n",
    "px = pants()"
   ]
  },
  {
   "cell_type": "markdown",
   "id": "f8e8c29d-0154-45a8-bb0b-0ab940de3991",
   "metadata": {},
   "source": [
    "---\n",
    "\n",
    "# common factors\n",
    "\n",
    "- this is my code to calculate the gcd of the coefficients\n",
    "- I normalise by dividing each of the coefficients by the gcd\n",
    "- this is the polynomial\n",
    "\n",
    "\n",
    "```\n",
    "(a**2-1)*X**2+(b**2-1)*Y**2+(c**2-1)*Z**2\n",
    "-2*((a*b+c)*X*Y + (b*c+a)*Y*Z + (a*c+b)*X*Z)\n",
    "-(a**2+b**2+c**2+2*a*b*c-1)\n",
    "```\n",
    "\n",
    "$(a^2-1)X^2+(b^2-1)Y^2+(c^2-1)Z^2 \\\\\n",
    "-2((ab+c)XY + (bc+a)YZ + (ac+b)XZ) \\\\\n",
    "-(a^2+b^2+c^2+2abc-1)$"
   ]
  },
  {
   "cell_type": "code",
   "execution_count": 7,
   "id": "3386122e-8b94-46eb-aaed-8123e7dc58d7",
   "metadata": {},
   "outputs": [],
   "source": [
    "from math import gcd\n",
    "import numpy as np\n",
    "\n",
    "@jit\n",
    "def coeffs(pp):\n",
    "    a,b,c = pp\n",
    "    poly = [a**2-1, b**2-1, c**2-1,\n",
    "            -2*(a*b+c),-2*(b*c+a),-2*(a*c+b),\n",
    "            -(a**2+b**2+c**2+2*a*b*c-1)]\n",
    "    \n",
    "    L = np.array(poly)\n",
    "    x = L[0]\n",
    "    for y in L[1:]:\n",
    "        x = gcd(x,y)\n",
    "        if x == 1 : \n",
    "            return L\n",
    "        \n",
    "    return L//x\n"
   ]
  },
  {
   "cell_type": "code",
   "execution_count": null,
   "id": "a8301813-a94e-4f88-a912-de766fb17c9e",
   "metadata": {},
   "outputs": [],
   "source": []
  },
  {
   "cell_type": "code",
   "execution_count": 8,
   "id": "07033223-e8ec-46fc-ba9c-c23436fe51fd",
   "metadata": {},
   "outputs": [],
   "source": [
    "torus_poly = [coeffs(_) for _ in uu]\n",
    "  "
   ]
  },
  {
   "cell_type": "code",
   "execution_count": 9,
   "id": "a676da24-607d-40a0-b02f-3af1ceb60f93",
   "metadata": {},
   "outputs": [
    {
     "name": "stdout",
     "output_type": "stream",
     "text": [
      "(2, 2, 2) [ 1  1  1 -4 -4 -4 -9]\n",
      "(2, 2, 3) [  3   3   8 -14 -16 -16 -40]\n",
      "(2, 2, 5) [  1   1   8  -6  -8  -8 -24]\n",
      "(2, 3, 6) [   3    8   35  -24  -40  -30 -120]\n",
      "(2, 4, 4) [  1   5   5  -8 -12  -8 -33]\n",
      "(2, 4, 7) [  1   5  16 -10 -20 -12 -60]\n",
      "(2, 7, 10) [   1   16   33  -16  -48  -18 -144]\n",
      "(3, 3, 3) [  1   1   1  -3  -3  -3 -10]\n",
      "(3, 3, 7) [  1   1   6  -4  -6  -6 -24]\n",
      "(3, 5, 5) [  1   3   3  -5  -7  -5 -26]\n",
      "(3, 5, 9) [  1   3  10  -6 -12  -8 -48]\n",
      "(3, 9, 13) [   1   10   21  -10  -30  -12 -120]\n",
      "(4, 4, 5) [  5   5   8 -14 -16 -16 -72]\n",
      "(4, 6, 6) [  3   7   7 -12 -16 -12 -75]\n",
      "(4, 11, 16) [   1    8   17   -8  -24  -10 -120]\n",
      "(5, 5, 11) [  1   1   5  -3  -5  -5 -30]\n",
      "(5, 7, 13) [  1   2   7  -4  -8  -6 -48]\n",
      "(5, 13, 19) [   1    7   15   -7  -21   -9 -126]\n",
      "(7, 9, 9) [  3   5   5  -9 -11  -9 -84]\n",
      "(7, 17, 25) [   1    6   13   -6  -18   -8 -144]\n",
      "(9, 11, 21) [   2    3   11   -6  -12  -10 -120]\n",
      "(13, 29, 43) [   1    5   11   -5  -15   -7 -210]\n"
     ]
    }
   ],
   "source": [
    "for a,b in zip(uu,torus_poly):\n",
    "    print(a,b)"
   ]
  },
  {
   "cell_type": "code",
   "execution_count": 10,
   "id": "b254bd27-5fff-4ff3-812c-0489a1cc3c56",
   "metadata": {},
   "outputs": [],
   "source": [
    "tpx = [list(_) for _ in torus_poly]"
   ]
  },
  {
   "cell_type": "code",
   "execution_count": 11,
   "id": "3fea846a-f2b7-47fd-89b2-640ee0f05414",
   "metadata": {},
   "outputs": [
    {
     "data": {
      "text/plain": [
       "[[1, 1, 1, -4, -4, -4, -9],\n",
       " [1, 1, 1, -3, -3, -3, -10],\n",
       " [1, 1, 5, -3, -5, -5, -30],\n",
       " [1, 1, 6, -4, -6, -6, -24],\n",
       " [1, 1, 8, -6, -8, -8, -24],\n",
       " [1, 2, 7, -4, -8, -6, -48],\n",
       " [1, 3, 3, -5, -7, -5, -26],\n",
       " [1, 3, 10, -6, -12, -8, -48],\n",
       " [1, 5, 5, -8, -12, -8, -33],\n",
       " [1, 5, 11, -5, -15, -7, -210],\n",
       " [1, 5, 16, -10, -20, -12, -60],\n",
       " [1, 6, 13, -6, -18, -8, -144],\n",
       " [1, 7, 15, -7, -21, -9, -126],\n",
       " [1, 8, 17, -8, -24, -10, -120],\n",
       " [1, 10, 21, -10, -30, -12, -120],\n",
       " [1, 16, 33, -16, -48, -18, -144],\n",
       " [2, 3, 11, -6, -12, -10, -120],\n",
       " [3, 3, 8, -14, -16, -16, -40],\n",
       " [3, 5, 5, -9, -11, -9, -84],\n",
       " [3, 7, 7, -12, -16, -12, -75],\n",
       " [3, 8, 35, -24, -40, -30, -120],\n",
       " [5, 5, 8, -14, -16, -16, -72]]"
      ]
     },
     "execution_count": 11,
     "metadata": {},
     "output_type": "execute_result"
    }
   ],
   "source": [
    "tpx.sort()\n",
    "tpx"
   ]
  },
  {
   "cell_type": "code",
   "execution_count": null,
   "id": "445defc4-be3e-4b90-a8cd-e33eea1877ca",
   "metadata": {},
   "outputs": [],
   "source": [
    "eq = (a**2-1)*X**2+(b**2-1)*Y**2+(c**2-1)*Z**2-2*((a*b+c)*X*Y + (b*c+a)*Y*Z + (a*c+b)*X*Z)-(a**2+b**2+c**2+2*a*b*c-1)"
   ]
  },
  {
   "cell_type": "code",
   "execution_count": 47,
   "id": "00a862d8-4b66-4501-979f-5356578cbcb2",
   "metadata": {},
   "outputs": [
    {
     "data": {
      "image/png": "[encoded data removed]",
      "text/latex": [
       "$\\displaystyle X^{2} + Y^{2} + Z^{2}$"
      ],
      "text/plain": [
       " 2    2    2\n",
       "X  + Y  + Z "
      ]
     },
     "metadata": {},
     "output_type": "display_data"
    },
    {
     "data": {
      "image/png": "[encoded data removed]",
      "text/latex": [
       "$\\displaystyle - 4 X Y - 4 X Z - 4 Y Z - 9$"
      ],
      "text/plain": [
       "-4⋅X⋅Y - 4⋅X⋅Z - 4⋅Y⋅Z - 9"
      ]
     },
     "metadata": {},
     "output_type": "display_data"
    },
    {
     "name": "stdout",
     "output_type": "stream",
     "text": [
      "[ 1  1  1 -4 -4 -4 -9]\n"
     ]
    },
    {
     "data": {
      "image/png": "[encoded data removed]",
      "text/latex": [
       "$\\displaystyle X^{2} + Y^{2} + 8 Z^{2}$"
      ],
      "text/plain": [
       " 2    2      2\n",
       "X  + Y  + 8⋅Z "
      ]
     },
     "metadata": {},
     "output_type": "display_data"
    },
    {
     "data": {
      "image/png": "[encoded data removed]",
      "text/latex": [
       "$\\displaystyle - 6 X Y - 8 X Z - 8 Y Z - 24$"
      ],
      "text/plain": [
       "-6⋅X⋅Y - 8⋅X⋅Z - 8⋅Y⋅Z - 24"
      ]
     },
     "metadata": {},
     "output_type": "display_data"
    },
    {
     "name": "stdout",
     "output_type": "stream",
     "text": [
      "[  1   1   8  -6  -8  -8 -24]\n"
     ]
    },
    {
     "data": {
      "image/png": "[encoded data removed]",
      "text/latex": [
       "$\\displaystyle X^{2} + Y^{2} + Z^{2}$"
      ],
      "text/plain": [
       " 2    2    2\n",
       "X  + Y  + Z "
      ]
     },
     "metadata": {},
     "output_type": "display_data"
    },
    {
     "data": {
      "image/png": "[encoded data removed]",
      "text/latex": [
       "$\\displaystyle - 3 X Y - 3 X Z - 3 Y Z - 10$"
      ],
      "text/plain": [
       "-3⋅X⋅Y - 3⋅X⋅Z - 3⋅Y⋅Z - 10"
      ]
     },
     "metadata": {},
     "output_type": "display_data"
    },
    {
     "name": "stdout",
     "output_type": "stream",
     "text": [
      "[  1   1   1  -3  -3  -3 -10]\n"
     ]
    },
    {
     "data": {
      "image/png": "[encoded data removed]",
      "text/latex": [
       "$\\displaystyle X^{2} + Y^{2} + 6 Z^{2}$"
      ],
      "text/plain": [
       " 2    2      2\n",
       "X  + Y  + 6⋅Z "
      ]
     },
     "metadata": {},
     "output_type": "display_data"
    },
    {
     "data": {
      "image/png": "[encoded data removed]",
      "text/latex": [
       "$\\displaystyle - 4 X Y - 6 X Z - 6 Y Z - 24$"
      ],
      "text/plain": [
       "-4⋅X⋅Y - 6⋅X⋅Z - 6⋅Y⋅Z - 24"
      ]
     },
     "metadata": {},
     "output_type": "display_data"
    },
    {
     "name": "stdout",
     "output_type": "stream",
     "text": [
      "[  1   1   6  -4  -6  -6 -24]\n"
     ]
    },
    {
     "data": {
      "image/png": "[encoded data removed]",
      "text/latex": [
       "$\\displaystyle X^{2} + Y^{2} + 5 Z^{2}$"
      ],
      "text/plain": [
       " 2    2      2\n",
       "X  + Y  + 5⋅Z "
      ]
     },
     "metadata": {},
     "output_type": "display_data"
    },
    {
     "data": {
      "image/png": "[encoded data removed]",
      "text/latex": [
       "$\\displaystyle - 3 X Y - 5 X Z - 5 Y Z - 30$"
      ],
      "text/plain": [
       "-3⋅X⋅Y - 5⋅X⋅Z - 5⋅Y⋅Z - 30"
      ]
     },
     "metadata": {},
     "output_type": "display_data"
    },
    {
     "name": "stdout",
     "output_type": "stream",
     "text": [
      "[  1   1   5  -3  -5  -5 -30]\n"
     ]
    }
   ],
   "source": [
    "import sympy\n",
    "\n",
    "X = sympy.Symbol('X')\n",
    "Y = sympy.Symbol('Y')\n",
    "Z = sympy.Symbol('Z')\n",
    "sympy.init_printing()\n",
    "\n",
    "monos = [X**2,Y**2,Z**2,X*Y,Y*Z,Z*X,1]\n",
    "\n",
    "for _ in px[:10]:\n",
    "    f = sum(a*b for a,b in zip(monos[:3],coeffs(_)))\n",
    "    display(f)\n",
    "    f = sum(a*b for a,b in zip(monos[3:],coeffs(_)[3:]))\n",
    "    display(f)\n",
    "    print(coeffs(_))\n"
   ]
  },
  {
   "cell_type": "markdown",
   "id": "1e20ec31-0e66-408c-88f0-e1733b380d58",
   "metadata": {},
   "source": [
    "---\n",
    "\n",
    "# boundary lengths\n",
    "\n",
    "\n",
    "* (2 2 2)  7\n",
    "* (2 2 5)   17\n",
    "* (3 3 3)  7.5 or 11.5\n",
    "* (3 3 7)  7\n",
    "* (5 5 11) 3.5\n"
   ]
  },
  {
   "cell_type": "code",
   "execution_count": 134,
   "id": "495e529b-7cf5-4074-9106-241c09aa6765",
   "metadata": {},
   "outputs": [
    {
     "name": "stdout",
     "output_type": "stream",
     "text": [
      "2 2 2\n",
      "2 2 5\n",
      "3 3 3\n",
      "3 3 7\n",
      "5 5 11\n",
      "done\n"
     ]
    },
    {
     "data": {
      "image/png": "[encoded data removed]",
      "text/latex": [
       "$\\displaystyle \\left[ \\left( 2, \\  2, \\  2\\right), \\  \\left( 2, \\  2, \\  5\\right), \\  \\left( 3, \\  3, \\  3\\right), \\  \\left( 3, \\  3, \\  7\\right), \\  \\left( 5, \\  5, \\  11\\right)\\right]$"
      ],
      "text/plain": [
       "[(2, 2, 2), (2, 2, 5), (3, 3, 3), (3, 3, 7), (5, 5, 11)]"
      ]
     },
     "execution_count": 134,
     "metadata": {},
     "output_type": "execute_result"
    }
   ],
   "source": [
    "pants()"
   ]
  },
  {
   "cell_type": "markdown",
   "id": "5ec62dd3-8c9e-4fbf-895b-8e6239d79633",
   "metadata": {},
   "source": [
    "---\n",
    "\n",
    "# References \n",
    "\n",
    "thesis : https://orbilu.uni.lu/bitstream/10993/50710/1/thesis-merged.pdf\n",
    "\n",
    "orthotrees : https://arxiv.org/abs/2112.10694\n",
    "\n",
    "https://arxiv.org/pdf/2201.07743.pdf\n",
    "\n",
    "https://math.dartmouth.edu/~doyle/docs/heron/heron.txt\n",
    "\n",
    "http://myslu.stlawu.edu/~svanderv/sumsquares.pdf\n",
    "\n",
    "https://community.ams.org/journals/ecgd/2005-09-03/S1088-4173-05-00106-2/S1088-4173-05-00106-2.pdf\n",
    "\n",
    "counting https://arxiv.org/abs/0811.2236\n",
    "and also https://www.ams.org/journals/jams/2011-24-03/S0894-0347-2011-00691-7/S0894-0347-2011-00691-7.pdf\n",
    "\n",
    "video https://www.cantorsparadise.com/circle-and-sphere-packings-from-geometry-to-number-theory-with-alex-kontorovich-cffa785e7ceb\n",
    "\n",
    "\n",
    "more circle packings https://www.math.ucdavis.edu/~efuchs/LGCmain.pdf\n",
    "\n",
    "soddy descartes https://services.math.duke.edu/~elj31/talks/ApollonianCircleIntegersPackings_20220322.pdf\n",
    "\n",
    "soddy local -> global https://www.aimsciences.org/article/doi/10.3934/jmd.2019019\n",
    "\n",
    "\n",
    "strange : https://people.math.carleton.ca/~williams/papers/pdf/352.pdf\n",
    "\n",
    "\n",
    "\n",
    "\n",
    "\n",
    "\n",
    "\n",
    "---\n",
    "\n",
    "# this is your code below"
   ]
  },
  {
   "cell_type": "code",
   "execution_count": 1,
   "id": "62d6ff70",
   "metadata": {},
   "outputs": [
    {
     "name": "stdout",
     "output_type": "stream",
     "text": [
      "2 2 2\n"
     ]
    },
    {
     "data": {
      "image/png": "[encoded data removed]",
      "text/latex": [
       "$\\displaystyle 3 \\left(X^{2} - 4 X Y - 4 X Z + Y^{2} - 4 Y Z + Z^{2} - 9\\right)$"
      ],
      "text/plain": [
       "  ⎛ 2                    2            2    ⎞\n",
       "3⋅⎝X  - 4⋅X⋅Y - 4⋅X⋅Z + Y  - 4⋅Y⋅Z + Z  - 9⎠"
      ]
     },
     "metadata": {},
     "output_type": "display_data"
    },
    {
     "name": "stdout",
     "output_type": "stream",
     "text": [
      "2 2 5\n"
     ]
    },
    {
     "data": {
      "image/png": "[encoded data removed]",
      "text/latex": [
       "$\\displaystyle 3 \\left(X^{2} - 6 X Y - 8 X Z + Y^{2} - 8 Y Z + 8 Z^{2} - 24\\right)$"
      ],
      "text/plain": [
       "  ⎛ 2                    2              2     ⎞\n",
       "3⋅⎝X  - 6⋅X⋅Y - 8⋅X⋅Z + Y  - 8⋅Y⋅Z + 8⋅Z  - 24⎠"
      ]
     },
     "metadata": {},
     "output_type": "display_data"
    },
    {
     "name": "stdout",
     "output_type": "stream",
     "text": [
      "3 3 3\n"
     ]
    },
    {
     "data": {
      "image/png": "[encoded data removed]",
      "text/latex": [
       "$\\displaystyle 8 \\left(X^{2} - 3 X Y - 3 X Z + Y^{2} - 3 Y Z + Z^{2} - 10\\right)$"
      ],
      "text/plain": [
       "  ⎛ 2                    2            2     ⎞\n",
       "8⋅⎝X  - 3⋅X⋅Y - 3⋅X⋅Z + Y  - 3⋅Y⋅Z + Z  - 10⎠"
      ]
     },
     "metadata": {},
     "output_type": "display_data"
    },
    {
     "name": "stdout",
     "output_type": "stream",
     "text": [
      "3 3 7\n"
     ]
    },
    {
     "data": {
      "image/png": "[encoded data removed]",
      "text/latex": [
       "$\\displaystyle 8 \\left(X^{2} - 4 X Y - 6 X Z + Y^{2} - 6 Y Z + 6 Z^{2} - 24\\right)$"
      ],
      "text/plain": [
       "  ⎛ 2                    2              2     ⎞\n",
       "8⋅⎝X  - 4⋅X⋅Y - 6⋅X⋅Z + Y  - 6⋅Y⋅Z + 6⋅Z  - 24⎠"
      ]
     },
     "metadata": {},
     "output_type": "display_data"
    },
    {
     "name": "stdout",
     "output_type": "stream",
     "text": [
      "5 5 11\n"
     ]
    },
    {
     "data": {
      "image/png": "[encoded data removed]",
      "text/latex": [
       "$\\displaystyle 24 \\left(X^{2} - 3 X Y - 5 X Z + Y^{2} - 5 Y Z + 5 Z^{2} - 30\\right)$"
      ],
      "text/plain": [
       "   ⎛ 2                    2              2     ⎞\n",
       "24⋅⎝X  - 3⋅X⋅Y - 5⋅X⋅Z + Y  - 5⋅Y⋅Z + 5⋅Z  - 30⎠"
      ]
     },
     "metadata": {},
     "output_type": "display_data"
    },
    {
     "name": "stdout",
     "output_type": "stream",
     "text": [
      "100\n",
      "200\n",
      "300\n",
      "400\n",
      "500\n",
      "600\n",
      "700\n",
      "800\n",
      "900\n",
      "1000\n"
     ]
    },
    {
     "ename": "KeyboardInterrupt",
     "evalue": "",
     "output_type": "error",
     "traceback": [
      "\u001b[0;31m---------------------------------------------------------------------------\u001b[0m",
      "\u001b[0;31mKeyboardInterrupt\u001b[0m                         Traceback (most recent call last)",
      "\u001b[0;32m/tmp/ipykernel_23719/2946315103.py\u001b[0m in \u001b[0;36m<module>\u001b[0;34m\u001b[0m\n\u001b[1;32m     10\u001b[0m         \u001b[0mprint\u001b[0m\u001b[0;34m(\u001b[0m\u001b[0ma\u001b[0m\u001b[0;34m)\u001b[0m\u001b[0;34m\u001b[0m\u001b[0;34m\u001b[0m\u001b[0m\n\u001b[1;32m     11\u001b[0m     \u001b[0;32mfor\u001b[0m \u001b[0mb\u001b[0m \u001b[0;32min\u001b[0m \u001b[0mrange\u001b[0m\u001b[0;34m(\u001b[0m\u001b[0ma\u001b[0m\u001b[0;34m,\u001b[0m\u001b[0mnum\u001b[0m\u001b[0;34m)\u001b[0m\u001b[0;34m:\u001b[0m\u001b[0;34m\u001b[0m\u001b[0;34m\u001b[0m\u001b[0m\n\u001b[0;32m---> 12\u001b[0;31m         \u001b[0;32mfor\u001b[0m \u001b[0mc\u001b[0m \u001b[0;32min\u001b[0m \u001b[0mrange\u001b[0m\u001b[0;34m(\u001b[0m\u001b[0mb\u001b[0m\u001b[0;34m,\u001b[0m\u001b[0mnum\u001b[0m\u001b[0;34m)\u001b[0m\u001b[0;34m:\u001b[0m\u001b[0;34m\u001b[0m\u001b[0;34m\u001b[0m\u001b[0m\n\u001b[0m\u001b[1;32m     13\u001b[0m             \u001b[0;32mif\u001b[0m \u001b[0mc\u001b[0m\u001b[0;34m**\u001b[0m\u001b[0;36m2\u001b[0m\u001b[0;34m-\u001b[0m\u001b[0;36m1\u001b[0m\u001b[0;34m>\u001b[0m\u001b[0;36m2\u001b[0m\u001b[0;34m*\u001b[0m\u001b[0;34m(\u001b[0m\u001b[0ma\u001b[0m\u001b[0;34m*\u001b[0m\u001b[0mb\u001b[0m\u001b[0;34m+\u001b[0m\u001b[0mc\u001b[0m\u001b[0;34m)\u001b[0m \u001b[0;32mand\u001b[0m \u001b[0mc\u001b[0m\u001b[0;34m**\u001b[0m\u001b[0;36m2\u001b[0m\u001b[0;34m-\u001b[0m\u001b[0;36m1\u001b[0m\u001b[0;34m>\u001b[0m \u001b[0;36m2\u001b[0m\u001b[0;34m*\u001b[0m\u001b[0;34m(\u001b[0m\u001b[0ma\u001b[0m\u001b[0;34m*\u001b[0m\u001b[0mc\u001b[0m\u001b[0;34m+\u001b[0m\u001b[0mb\u001b[0m\u001b[0;34m)\u001b[0m\u001b[0;34m:\u001b[0m\u001b[0;34m\u001b[0m\u001b[0;34m\u001b[0m\u001b[0m\n\u001b[1;32m     14\u001b[0m                 \u001b[0;32mbreak\u001b[0m\u001b[0;34m\u001b[0m\u001b[0;34m\u001b[0m\u001b[0m\n",
      "\u001b[0;31mKeyboardInterrupt\u001b[0m: "
     ]
    }
   ],
   "source": [
    "import sympy\n",
    "num = 2000\n",
    "X = sympy.Symbol('X')\n",
    "Y = sympy.Symbol('Y')\n",
    "Z = sympy.Symbol('Z')\n",
    "sympy.init_printing()\n",
    "count = 0\n",
    "for a in range(2,num):\n",
    "    if a%100==0:\n",
    "        print(a)\n",
    "    for b in range(a,num):\n",
    "        for c in range(b,num):\n",
    "            if c**2-1 > 2*(a*b+c) and c**2-1 > 2*(a*c+b):\n",
    "                break\n",
    "            ta = 2*(a*b+c)\n",
    "            tta = 2*(a*c+b)\n",
    "            sa = a**2-1 \n",
    "\n",
    "            tb = 2*(b*c+a)\n",
    "            ttb = 2*(b*a+c)\n",
    "            sb = b**2-1 \n",
    "\n",
    "            tc = 2*(c*b+a)\n",
    "            ttc = 2*(c*a+b)\n",
    "            sc = c**2-1 \n",
    "            \n",
    "            if ta%sa==0 and tta%sa==0 and tb%sb==0 and ttb%sb==0 and tc%sc==0 and ttc%sc==0:\n",
    "                count += 1\n",
    "                print(a,b,c)\n",
    "                eq = (a**2-1)*X**2+(b**2-1)*Y**2+(c**2-1)*Z**2-2*((a*b+c)*X*Y + (b*c+a)*Y*Z + (a*c+b)*X*Z)-(a**2+b**2+c**2+2*a*b*c-1)\n",
    "                eq = sympy.factor(eq)\n",
    "                #print(eq)\n",
    "                display(eq)\n",
    "print(\"number:\",count)"
   ]
  },
  {
   "cell_type": "code",
   "execution_count": 52,
   "id": "94bd735a",
   "metadata": {},
   "outputs": [
    {
     "name": "stdout",
     "output_type": "stream",
     "text": [
      "2 2 2\n"
     ]
    },
    {
     "data": {
      "image/png": "[encoded data removed]",
      "text/latex": [
       "$\\displaystyle 3 \\left(X^{2} - 4 X Y - 4 X Z + Y^{2} - 4 Y Z + Z^{2} - 9\\right)$"
      ],
      "text/plain": [
       "  ⎛ 2                    2            2    ⎞\n",
       "3⋅⎝X  - 4⋅X⋅Y - 4⋅X⋅Z + Y  - 4⋅Y⋅Z + Z  - 9⎠"
      ]
     },
     "metadata": {},
     "output_type": "display_data"
    },
    {
     "name": "stdout",
     "output_type": "stream",
     "text": [
      "2 2 3\n"
     ]
    },
    {
     "data": {
      "image/png": "[encoded data removed]",
      "text/latex": [
       "$\\displaystyle 3 X^{2} - 14 X Y - 16 X Z + 3 Y^{2} - 16 Y Z + 8 Z^{2} - 40$"
      ],
      "text/plain": [
       "   2                        2               2     \n",
       "3⋅X  - 14⋅X⋅Y - 16⋅X⋅Z + 3⋅Y  - 16⋅Y⋅Z + 8⋅Z  - 40"
      ]
     },
     "metadata": {},
     "output_type": "display_data"
    },
    {
     "name": "stdout",
     "output_type": "stream",
     "text": [
      "2 2 5\n"
     ]
    },
    {
     "data": {
      "image/png": "[encoded data removed]",
      "text/latex": [
       "$\\displaystyle 3 \\left(X^{2} - 6 X Y - 8 X Z + Y^{2} - 8 Y Z + 8 Z^{2} - 24\\right)$"
      ],
      "text/plain": [
       "  ⎛ 2                    2              2     ⎞\n",
       "3⋅⎝X  - 6⋅X⋅Y - 8⋅X⋅Z + Y  - 8⋅Y⋅Z + 8⋅Z  - 24⎠"
      ]
     },
     "metadata": {},
     "output_type": "display_data"
    },
    {
     "name": "stdout",
     "output_type": "stream",
     "text": [
      "2 2 9\n"
     ]
    },
    {
     "data": {
      "image/png": "[encoded data removed]",
      "text/latex": [
       "$\\displaystyle 3 X^{2} - 26 X Y - 40 X Z + 3 Y^{2} - 40 Y Z + 80 Z^{2} - 160$"
      ],
      "text/plain": [
       "   2                        2                2      \n",
       "3⋅X  - 26⋅X⋅Y - 40⋅X⋅Z + 3⋅Y  - 40⋅Y⋅Z + 80⋅Z  - 160"
      ]
     },
     "metadata": {},
     "output_type": "display_data"
    },
    {
     "name": "stdout",
     "output_type": "stream",
     "text": [
      "2 3 3\n"
     ]
    },
    {
     "data": {
      "image/png": "[encoded data removed]",
      "text/latex": [
       "$\\displaystyle 3 X^{2} - 18 X Y - 18 X Z + 8 Y^{2} - 22 Y Z + 8 Z^{2} - 57$"
      ],
      "text/plain": [
       "   2                        2               2     \n",
       "3⋅X  - 18⋅X⋅Y - 18⋅X⋅Z + 8⋅Y  - 22⋅Y⋅Z + 8⋅Z  - 57"
      ]
     },
     "metadata": {},
     "output_type": "display_data"
    },
    {
     "name": "stdout",
     "output_type": "stream",
     "text": [
      "2 3 6\n"
     ]
    },
    {
     "data": {
      "image/png": "[encoded data removed]",
      "text/latex": [
       "$\\displaystyle 3 X^{2} - 24 X Y - 30 X Z + 8 Y^{2} - 40 Y Z + 35 Z^{2} - 120$"
      ],
      "text/plain": [
       "   2                        2                2      \n",
       "3⋅X  - 24⋅X⋅Y - 30⋅X⋅Z + 8⋅Y  - 40⋅Y⋅Z + 35⋅Z  - 120"
      ]
     },
     "metadata": {},
     "output_type": "display_data"
    },
    {
     "name": "stdout",
     "output_type": "stream",
     "text": [
      "2 3 11\n"
     ]
    },
    {
     "data": {
      "image/png": "[encoded data removed]",
      "text/latex": [
       "$\\displaystyle 3 X^{2} - 34 X Y - 50 X Z + 8 Y^{2} - 70 Y Z + 120 Z^{2} - 265$"
      ],
      "text/plain": [
       "   2                        2                 2      \n",
       "3⋅X  - 34⋅X⋅Y - 50⋅X⋅Z + 8⋅Y  - 70⋅Y⋅Z + 120⋅Z  - 265"
      ]
     },
     "metadata": {},
     "output_type": "display_data"
    },
    {
     "name": "stdout",
     "output_type": "stream",
     "text": [
      "2 4 4\n"
     ]
    },
    {
     "data": {
      "image/png": "[encoded data removed]",
      "text/latex": [
       "$\\displaystyle 3 \\left(X^{2} - 8 X Y - 8 X Z + 5 Y^{2} - 12 Y Z + 5 Z^{2} - 33\\right)$"
      ],
      "text/plain": [
       "  ⎛ 2                      2               2     ⎞\n",
       "3⋅⎝X  - 8⋅X⋅Y - 8⋅X⋅Z + 5⋅Y  - 12⋅Y⋅Z + 5⋅Z  - 33⎠"
      ]
     },
     "metadata": {},
     "output_type": "display_data"
    },
    {
     "name": "stdout",
     "output_type": "stream",
     "text": [
      "2 4 7\n"
     ]
    },
    {
     "data": {
      "image/png": "[encoded data removed]",
      "text/latex": [
       "$\\displaystyle 3 \\left(X^{2} - 10 X Y - 12 X Z + 5 Y^{2} - 20 Y Z + 16 Z^{2} - 60\\right)$"
      ],
      "text/plain": [
       "  ⎛ 2                        2                2     ⎞\n",
       "3⋅⎝X  - 10⋅X⋅Y - 12⋅X⋅Z + 5⋅Y  - 20⋅Y⋅Z + 16⋅Z  - 60⎠"
      ]
     },
     "metadata": {},
     "output_type": "display_data"
    },
    {
     "name": "stdout",
     "output_type": "stream",
     "text": [
      "2 4 13\n"
     ]
    },
    {
     "data": {
      "image/png": "[encoded data removed]",
      "text/latex": [
       "$\\displaystyle 3 \\left(X^{2} - 14 X Y - 20 X Z + 5 Y^{2} - 36 Y Z + 56 Z^{2} - 132\\right)$"
      ],
      "text/plain": [
       "  ⎛ 2                        2                2      ⎞\n",
       "3⋅⎝X  - 14⋅X⋅Y - 20⋅X⋅Z + 5⋅Y  - 36⋅Y⋅Z + 56⋅Z  - 132⎠"
      ]
     },
     "metadata": {},
     "output_type": "display_data"
    },
    {
     "name": "stdout",
     "output_type": "stream",
     "text": [
      "2 5 8\n"
     ]
    },
    {
     "data": {
      "image/png": "[encoded data removed]",
      "text/latex": [
       "$\\displaystyle 3 \\left(X^{2} - 12 X Y - 14 X Z + 8 Y^{2} - 28 Y Z + 21 Z^{2} - 84\\right)$"
      ],
      "text/plain": [
       "  ⎛ 2                        2                2     ⎞\n",
       "3⋅⎝X  - 12⋅X⋅Y - 14⋅X⋅Z + 8⋅Y  - 28⋅Y⋅Z + 21⋅Z  - 84⎠"
      ]
     },
     "metadata": {},
     "output_type": "display_data"
    },
    {
     "name": "stdout",
     "output_type": "stream",
     "text": [
      "2 7 7\n"
     ]
    },
    {
     "data": {
      "image/png": "[encoded data removed]",
      "text/latex": [
       "$\\displaystyle 3 \\left(X^{2} - 14 X Y - 14 X Z + 16 Y^{2} - 34 Y Z + 16 Z^{2} - 99\\right)$"
      ],
      "text/plain": [
       "  ⎛ 2                         2                2     ⎞\n",
       "3⋅⎝X  - 14⋅X⋅Y - 14⋅X⋅Z + 16⋅Y  - 34⋅Y⋅Z + 16⋅Z  - 99⎠"
      ]
     },
     "metadata": {},
     "output_type": "display_data"
    },
    {
     "name": "stdout",
     "output_type": "stream",
     "text": [
      "2 7 10\n"
     ]
    },
    {
     "data": {
      "image/png": "[encoded data removed]",
      "text/latex": [
       "$\\displaystyle 3 \\left(X^{2} - 16 X Y - 18 X Z + 16 Y^{2} - 48 Y Z + 33 Z^{2} - 144\\right)$"
      ],
      "text/plain": [
       "  ⎛ 2                         2                2      ⎞\n",
       "3⋅⎝X  - 16⋅X⋅Y - 18⋅X⋅Z + 16⋅Y  - 48⋅Y⋅Z + 33⋅Z  - 144⎠"
      ]
     },
     "metadata": {},
     "output_type": "display_data"
    },
    {
     "name": "stdout",
     "output_type": "stream",
     "text": [
      "2 7 19\n"
     ]
    },
    {
     "data": {
      "image/png": "[encoded data removed]",
      "text/latex": [
       "$\\displaystyle 3 \\left(X^{2} - 22 X Y - 30 X Z + 16 Y^{2} - 90 Y Z + 120 Z^{2} - 315\\right)$"
      ],
      "text/plain": [
       "  ⎛ 2                         2                 2      ⎞\n",
       "3⋅⎝X  - 22⋅X⋅Y - 30⋅X⋅Z + 16⋅Y  - 90⋅Y⋅Z + 120⋅Z  - 315⎠"
      ]
     },
     "metadata": {},
     "output_type": "display_data"
    },
    {
     "name": "stdout",
     "output_type": "stream",
     "text": [
      "2 10 25\n"
     ]
    },
    {
     "data": {
      "image/png": "[encoded data removed]",
      "text/latex": [
       "$\\displaystyle 3 \\left(X^{2} - 30 X Y - 40 X Z + 33 Y^{2} - 168 Y Z + 208 Z^{2} - 576\\right)$"
      ],
      "text/plain": [
       "  ⎛ 2                         2                  2      ⎞\n",
       "3⋅⎝X  - 30⋅X⋅Y - 40⋅X⋅Z + 33⋅Y  - 168⋅Y⋅Z + 208⋅Z  - 576⎠"
      ]
     },
     "metadata": {},
     "output_type": "display_data"
    },
    {
     "name": "stdout",
     "output_type": "stream",
     "text": [
      "2 13 16\n"
     ]
    },
    {
     "data": {
      "image/png": "[encoded data removed]",
      "text/latex": [
       "$\\displaystyle 3 \\left(X^{2} - 28 X Y - 30 X Z + 56 Y^{2} - 140 Y Z + 85 Z^{2} - 420\\right)$"
      ],
      "text/plain": [
       "  ⎛ 2                         2                 2      ⎞\n",
       "3⋅⎝X  - 28⋅X⋅Y - 30⋅X⋅Z + 56⋅Y  - 140⋅Y⋅Z + 85⋅Z  - 420⎠"
      ]
     },
     "metadata": {},
     "output_type": "display_data"
    },
    {
     "name": "stdout",
     "output_type": "stream",
     "text": [
      "2 19 43\n"
     ]
    },
    {
     "data": {
      "image/png": "[encoded data removed]",
      "text/latex": [
       "$\\displaystyle 3 \\left(X^{2} - 54 X Y - 70 X Z + 120 Y^{2} - 546 Y Z + 616 Z^{2} - 1827\\right)$"
      ],
      "text/plain": [
       "  ⎛ 2                          2                  2       ⎞\n",
       "3⋅⎝X  - 54⋅X⋅Y - 70⋅X⋅Z + 120⋅Y  - 546⋅Y⋅Z + 616⋅Z  - 1827⎠"
      ]
     },
     "metadata": {},
     "output_type": "display_data"
    },
    {
     "name": "stdout",
     "output_type": "stream",
     "text": [
      "3 3 3\n"
     ]
    },
    {
     "data": {
      "image/png": "[encoded data removed]",
      "text/latex": [
       "$\\displaystyle 8 \\left(X^{2} - 3 X Y - 3 X Z + Y^{2} - 3 Y Z + Z^{2} - 10\\right)$"
      ],
      "text/plain": [
       "  ⎛ 2                    2            2     ⎞\n",
       "8⋅⎝X  - 3⋅X⋅Y - 3⋅X⋅Z + Y  - 3⋅Y⋅Z + Z  - 10⎠"
      ]
     },
     "metadata": {},
     "output_type": "display_data"
    },
    {
     "name": "stdout",
     "output_type": "stream",
     "text": [
      "3 3 4\n"
     ]
    },
    {
     "data": {
      "image/png": "[encoded data removed]",
      "text/latex": [
       "$\\displaystyle 8 X^{2} - 26 X Y - 30 X Z + 8 Y^{2} - 30 Y Z + 15 Z^{2} - 105$"
      ],
      "text/plain": [
       "   2                        2                2      \n",
       "8⋅X  - 26⋅X⋅Y - 30⋅X⋅Z + 8⋅Y  - 30⋅Y⋅Z + 15⋅Z  - 105"
      ]
     },
     "metadata": {},
     "output_type": "display_data"
    },
    {
     "name": "stdout",
     "output_type": "stream",
     "text": [
      "3 3 5\n"
     ]
    },
    {
     "data": {
      "image/png": "[encoded data removed]",
      "text/latex": [
       "$\\displaystyle 4 \\cdot \\left(2 X^{2} - 7 X Y - 9 X Z + 2 Y^{2} - 9 Y Z + 6 Z^{2} - 33\\right)$"
      ],
      "text/plain": [
       "  ⎛   2                      2              2     ⎞\n",
       "4⋅⎝2⋅X  - 7⋅X⋅Y - 9⋅X⋅Z + 2⋅Y  - 9⋅Y⋅Z + 6⋅Z  - 33⎠"
      ]
     },
     "metadata": {},
     "output_type": "display_data"
    },
    {
     "name": "stdout",
     "output_type": "stream",
     "text": [
      "3 3 7\n"
     ]
    },
    {
     "data": {
      "image/png": "[encoded data removed]",
      "text/latex": [
       "$\\displaystyle 8 \\left(X^{2} - 4 X Y - 6 X Z + Y^{2} - 6 Y Z + 6 Z^{2} - 24\\right)$"
      ],
      "text/plain": [
       "  ⎛ 2                    2              2     ⎞\n",
       "8⋅⎝X  - 4⋅X⋅Y - 6⋅X⋅Z + Y  - 6⋅Y⋅Z + 6⋅Z  - 24⎠"
      ]
     },
     "metadata": {},
     "output_type": "display_data"
    },
    {
     "name": "stdout",
     "output_type": "stream",
     "text": [
      "3 3 13\n"
     ]
    },
    {
     "data": {
      "image/png": "[encoded data removed]",
      "text/latex": [
       "$\\displaystyle 4 \\cdot \\left(2 X^{2} - 11 X Y - 21 X Z + 2 Y^{2} - 21 Y Z + 42 Z^{2} - 105\\right)$"
      ],
      "text/plain": [
       "  ⎛   2                        2                2      ⎞\n",
       "4⋅⎝2⋅X  - 11⋅X⋅Y - 21⋅X⋅Z + 2⋅Y  - 21⋅Y⋅Z + 42⋅Z  - 105⎠"
      ]
     },
     "metadata": {},
     "output_type": "display_data"
    },
    {
     "name": "stdout",
     "output_type": "stream",
     "text": [
      "3 4 15\n"
     ]
    },
    {
     "data": {
      "image/png": "[encoded data removed]",
      "text/latex": [
       "$\\displaystyle 8 X^{2} - 54 X Y - 98 X Z + 15 Y^{2} - 126 Y Z + 224 Z^{2} - 609$"
      ],
      "text/plain": [
       "   2                         2                  2      \n",
       "8⋅X  - 54⋅X⋅Y - 98⋅X⋅Z + 15⋅Y  - 126⋅Y⋅Z + 224⋅Z  - 609"
      ]
     },
     "metadata": {},
     "output_type": "display_data"
    },
    {
     "name": "stdout",
     "output_type": "stream",
     "text": [
      "3 5 5\n"
     ]
    },
    {
     "data": {
      "image/png": "[encoded data removed]",
      "text/latex": [
       "$\\displaystyle 8 \\left(X^{2} - 5 X Y - 5 X Z + 3 Y^{2} - 7 Y Z + 3 Z^{2} - 26\\right)$"
      ],
      "text/plain": [
       "  ⎛ 2                      2              2     ⎞\n",
       "8⋅⎝X  - 5⋅X⋅Y - 5⋅X⋅Z + 3⋅Y  - 7⋅Y⋅Z + 3⋅Z  - 26⎠"
      ]
     },
     "metadata": {},
     "output_type": "display_data"
    },
    {
     "name": "stdout",
     "output_type": "stream",
     "text": [
      "3 5 9\n"
     ]
    },
    {
     "data": {
      "image/png": "[encoded data removed]",
      "text/latex": [
       "$\\displaystyle 8 \\left(X^{2} - 6 X Y - 8 X Z + 3 Y^{2} - 12 Y Z + 10 Z^{2} - 48\\right)$"
      ],
      "text/plain": [
       "  ⎛ 2                      2                2     ⎞\n",
       "8⋅⎝X  - 6⋅X⋅Y - 8⋅X⋅Z + 3⋅Y  - 12⋅Y⋅Z + 10⋅Z  - 48⎠"
      ]
     },
     "metadata": {},
     "output_type": "display_data"
    },
    {
     "name": "stdout",
     "output_type": "stream",
     "text": [
      "3 5 17\n"
     ]
    },
    {
     "data": {
      "image/png": "[encoded data removed]",
      "text/latex": [
       "$\\displaystyle 8 \\left(X^{2} - 8 X Y - 14 X Z + 3 Y^{2} - 22 Y Z + 36 Z^{2} - 104\\right)$"
      ],
      "text/plain": [
       "  ⎛ 2                       2                2      ⎞\n",
       "8⋅⎝X  - 8⋅X⋅Y - 14⋅X⋅Z + 3⋅Y  - 22⋅Y⋅Z + 36⋅Z  - 104⎠"
      ]
     },
     "metadata": {},
     "output_type": "display_data"
    },
    {
     "name": "stdout",
     "output_type": "stream",
     "text": [
      "3 6 7\n"
     ]
    },
    {
     "data": {
      "image/png": "[encoded data removed]",
      "text/latex": [
       "$\\displaystyle 8 X^{2} - 50 X Y - 54 X Z + 35 Y^{2} - 90 Y Z + 48 Z^{2} - 345$"
      ],
      "text/plain": [
       "   2                         2                2      \n",
       "8⋅X  - 50⋅X⋅Y - 54⋅X⋅Z + 35⋅Y  - 90⋅Y⋅Z + 48⋅Z  - 345"
      ]
     },
     "metadata": {},
     "output_type": "display_data"
    },
    {
     "name": "stdout",
     "output_type": "stream",
     "text": [
      "3 7 21\n"
     ]
    },
    {
     "data": {
      "image/png": "[encoded data removed]",
      "text/latex": [
       "$\\displaystyle 4 \\cdot \\left(2 X^{2} - 21 X Y - 35 X Z + 12 Y^{2} - 75 Y Z + 110 Z^{2} - 345\\right)$"
      ],
      "text/plain": [
       "  ⎛   2                         2                 2      ⎞\n",
       "4⋅⎝2⋅X  - 21⋅X⋅Y - 35⋅X⋅Z + 12⋅Y  - 75⋅Y⋅Z + 110⋅Z  - 345⎠"
      ]
     },
     "metadata": {},
     "output_type": "display_data"
    },
    {
     "name": "stdout",
     "output_type": "stream",
     "text": [
      "3 9 9\n"
     ]
    },
    {
     "data": {
      "image/png": "[encoded data removed]",
      "text/latex": [
       "$\\displaystyle 8 \\left(X^{2} - 9 X Y - 9 X Z + 10 Y^{2} - 21 Y Z + 10 Z^{2} - 82\\right)$"
      ],
      "text/plain": [
       "  ⎛ 2                       2                2     ⎞\n",
       "8⋅⎝X  - 9⋅X⋅Y - 9⋅X⋅Z + 10⋅Y  - 21⋅Y⋅Z + 10⋅Z  - 82⎠"
      ]
     },
     "metadata": {},
     "output_type": "display_data"
    },
    {
     "name": "stdout",
     "output_type": "stream",
     "text": [
      "3 9 13\n"
     ]
    },
    {
     "data": {
      "image/png": "[encoded data removed]",
      "text/latex": [
       "$\\displaystyle 8 \\left(X^{2} - 10 X Y - 12 X Z + 10 Y^{2} - 30 Y Z + 21 Z^{2} - 120\\right)$"
      ],
      "text/plain": [
       "  ⎛ 2                         2                2      ⎞\n",
       "8⋅⎝X  - 10⋅X⋅Y - 12⋅X⋅Z + 10⋅Y  - 30⋅Y⋅Z + 21⋅Z  - 120⎠"
      ]
     },
     "metadata": {},
     "output_type": "display_data"
    },
    {
     "name": "stdout",
     "output_type": "stream",
     "text": [
      "3 9 25\n"
     ]
    },
    {
     "data": {
      "image/png": "[encoded data removed]",
      "text/latex": [
       "$\\displaystyle 8 \\left(X^{2} - 13 X Y - 21 X Z + 10 Y^{2} - 57 Y Z + 78 Z^{2} - 258\\right)$"
      ],
      "text/plain": [
       "  ⎛ 2                         2                2      ⎞\n",
       "8⋅⎝X  - 13⋅X⋅Y - 21⋅X⋅Z + 10⋅Y  - 57⋅Y⋅Z + 78⋅Z  - 258⎠"
      ]
     },
     "metadata": {},
     "output_type": "display_data"
    },
    {
     "name": "stdout",
     "output_type": "stream",
     "text": [
      "3 13 33\n"
     ]
    },
    {
     "data": {
      "image/png": "[encoded data removed]",
      "text/latex": [
       "$\\displaystyle 8 \\left(X^{2} - 18 X Y - 28 X Z + 21 Y^{2} - 108 Y Z + 136 Z^{2} - 480\\right)$"
      ],
      "text/plain": [
       "  ⎛ 2                         2                  2      ⎞\n",
       "8⋅⎝X  - 18⋅X⋅Y - 28⋅X⋅Z + 21⋅Y  - 108⋅Y⋅Z + 136⋅Z  - 480⎠"
      ]
     },
     "metadata": {},
     "output_type": "display_data"
    },
    {
     "name": "stdout",
     "output_type": "stream",
     "text": [
      "3 17 21\n"
     ]
    },
    {
     "data": {
      "image/png": "[encoded data removed]",
      "text/latex": [
       "$\\displaystyle 8 \\left(X^{2} - 18 X Y - 20 X Z + 36 Y^{2} - 90 Y Z + 55 Z^{2} - 360\\right)$"
      ],
      "text/plain": [
       "  ⎛ 2                         2                2      ⎞\n",
       "8⋅⎝X  - 18⋅X⋅Y - 20⋅X⋅Z + 36⋅Y  - 90⋅Y⋅Z + 55⋅Z  - 360⎠"
      ]
     },
     "metadata": {},
     "output_type": "display_data"
    },
    {
     "name": "stdout",
     "output_type": "stream",
     "text": [
      "3 25 57\n"
     ]
    },
    {
     "data": {
      "image/png": "[encoded data removed]",
      "text/latex": [
       "$\\displaystyle 8 \\left(X^{2} - 33 X Y - 49 X Z + 78 Y^{2} - 357 Y Z + 406 Z^{2} - 1554\\right)$"
      ],
      "text/plain": [
       "  ⎛ 2                         2                  2       ⎞\n",
       "8⋅⎝X  - 33⋅X⋅Y - 49⋅X⋅Z + 78⋅Y  - 357⋅Y⋅Z + 406⋅Z  - 1554⎠"
      ]
     },
     "metadata": {},
     "output_type": "display_data"
    },
    {
     "name": "stdout",
     "output_type": "stream",
     "text": [
      "4 4 5\n"
     ]
    },
    {
     "data": {
      "image/png": "[encoded data removed]",
      "text/latex": [
       "$\\displaystyle 3 \\cdot \\left(5 X^{2} - 14 X Y - 16 X Z + 5 Y^{2} - 16 Y Z + 8 Z^{2} - 72\\right)$"
      ],
      "text/plain": [
       "  ⎛   2                        2               2     ⎞\n",
       "3⋅⎝5⋅X  - 14⋅X⋅Y - 16⋅X⋅Z + 5⋅Y  - 16⋅Y⋅Z + 8⋅Z  - 72⎠"
      ]
     },
     "metadata": {},
     "output_type": "display_data"
    },
    {
     "name": "stdout",
     "output_type": "stream",
     "text": [
      "4 4 17\n"
     ]
    },
    {
     "data": {
      "image/png": "[encoded data removed]",
      "text/latex": [
       "$\\displaystyle 3 \\cdot \\left(5 X^{2} - 22 X Y - 48 X Z + 5 Y^{2} - 48 Y Z + 96 Z^{2} - 288\\right)$"
      ],
      "text/plain": [
       "  ⎛   2                        2                2      ⎞\n",
       "3⋅⎝5⋅X  - 22⋅X⋅Y - 48⋅X⋅Z + 5⋅Y  - 48⋅Y⋅Z + 96⋅Z  - 288⎠"
      ]
     },
     "metadata": {},
     "output_type": "display_data"
    },
    {
     "name": "stdout",
     "output_type": "stream",
     "text": [
      "4 5 10\n"
     ]
    },
    {
     "data": {
      "image/png": "[encoded data removed]",
      "text/latex": [
       "$\\displaystyle 3 \\cdot \\left(5 X^{2} - 20 X Y - 30 X Z + 8 Y^{2} - 36 Y Z + 33 Z^{2} - 180\\right)$"
      ],
      "text/plain": [
       "  ⎛   2                        2                2      ⎞\n",
       "3⋅⎝5⋅X  - 20⋅X⋅Y - 30⋅X⋅Z + 8⋅Y  - 36⋅Y⋅Z + 33⋅Z  - 180⎠"
      ]
     },
     "metadata": {},
     "output_type": "display_data"
    },
    {
     "name": "stdout",
     "output_type": "stream",
     "text": [
      "4 6 6\n"
     ]
    },
    {
     "data": {
      "image/png": "[encoded data removed]",
      "text/latex": [
       "$\\displaystyle 5 \\cdot \\left(3 X^{2} - 12 X Y - 12 X Z + 7 Y^{2} - 16 Y Z + 7 Z^{2} - 75\\right)$"
      ],
      "text/plain": [
       "  ⎛   2                        2               2     ⎞\n",
       "5⋅⎝3⋅X  - 12⋅X⋅Y - 12⋅X⋅Z + 7⋅Y  - 16⋅Y⋅Z + 7⋅Z  - 75⎠"
      ]
     },
     "metadata": {},
     "output_type": "display_data"
    },
    {
     "name": "stdout",
     "output_type": "stream",
     "text": [
      "4 6 21\n"
     ]
    },
    {
     "data": {
      "image/png": "[encoded data removed]",
      "text/latex": [
       "$\\displaystyle 5 \\cdot \\left(3 X^{2} - 18 X Y - 36 X Z + 7 Y^{2} - 52 Y Z + 88 Z^{2} - 300\\right)$"
      ],
      "text/plain": [
       "  ⎛   2                        2                2      ⎞\n",
       "5⋅⎝3⋅X  - 18⋅X⋅Y - 36⋅X⋅Z + 7⋅Y  - 52⋅Y⋅Z + 88⋅Z  - 300⎠"
      ]
     },
     "metadata": {},
     "output_type": "display_data"
    },
    {
     "name": "stdout",
     "output_type": "stream",
     "text": [
      "4 7 23\n"
     ]
    },
    {
     "data": {
      "image/png": "[encoded data removed]",
      "text/latex": [
       "$\\displaystyle 3 \\cdot \\left(5 X^{2} - 34 X Y - 66 X Z + 16 Y^{2} - 110 Y Z + 176 Z^{2} - 627\\right)$"
      ],
      "text/plain": [
       "  ⎛   2                         2                  2      ⎞\n",
       "3⋅⎝5⋅X  - 34⋅X⋅Y - 66⋅X⋅Z + 16⋅Y  - 110⋅Y⋅Z + 176⋅Z  - 627⎠"
      ]
     },
     "metadata": {},
     "output_type": "display_data"
    },
    {
     "name": "stdout",
     "output_type": "stream",
     "text": [
      "4 11 16\n"
     ]
    },
    {
     "data": {
      "image/png": "[encoded data removed]",
      "text/latex": [
       "$\\displaystyle 15 \\left(X^{2} - 8 X Y - 10 X Z + 8 Y^{2} - 24 Y Z + 17 Z^{2} - 120\\right)$"
      ],
      "text/plain": [
       "   ⎛ 2                       2                2      ⎞\n",
       "15⋅⎝X  - 8⋅X⋅Y - 10⋅X⋅Z + 8⋅Y  - 24⋅Y⋅Z + 17⋅Z  - 120⎠"
      ]
     },
     "metadata": {},
     "output_type": "display_data"
    },
    {
     "name": "stdout",
     "output_type": "stream",
     "text": [
      "4 11 31\n"
     ]
    },
    {
     "data": {
      "image/png": "[encoded data removed]",
      "text/latex": [
       "$\\displaystyle 15 \\left(X^{2} - 10 X Y - 18 X Z + 8 Y^{2} - 46 Y Z + 64 Z^{2} - 255\\right)$"
      ],
      "text/plain": [
       "   ⎛ 2                        2                2      ⎞\n",
       "15⋅⎝X  - 10⋅X⋅Y - 18⋅X⋅Z + 8⋅Y  - 46⋅Y⋅Z + 64⋅Z  - 255⎠"
      ]
     },
     "metadata": {},
     "output_type": "display_data"
    },
    {
     "name": "stdout",
     "output_type": "stream",
     "text": [
      "4 16 41\n"
     ]
    },
    {
     "data": {
      "image/png": "[encoded data removed]",
      "text/latex": [
       "$\\displaystyle 15 \\left(X^{2} - 14 X Y - 24 X Z + 17 Y^{2} - 88 Y Z + 112 Z^{2} - 480\\right)$"
      ],
      "text/plain": [
       "   ⎛ 2                         2                 2      ⎞\n",
       "15⋅⎝X  - 14⋅X⋅Y - 24⋅X⋅Z + 17⋅Y  - 88⋅Y⋅Z + 112⋅Z  - 480⎠"
      ]
     },
     "metadata": {},
     "output_type": "display_data"
    },
    {
     "name": "stdout",
     "output_type": "stream",
     "text": [
      "4 31 71\n"
     ]
    },
    {
     "data": {
      "image/png": "[encoded data removed]",
      "text/latex": [
       "$\\displaystyle 15 \\left(X^{2} - 26 X Y - 42 X Z + 64 Y^{2} - 294 Y Z + 336 Z^{2} - 1575\\right)$"
      ],
      "text/plain": [
       "   ⎛ 2                         2                  2       ⎞\n",
       "15⋅⎝X  - 26⋅X⋅Y - 42⋅X⋅Z + 64⋅Y  - 294⋅Y⋅Z + 336⋅Z  - 1575⎠"
      ]
     },
     "metadata": {},
     "output_type": "display_data"
    },
    {
     "name": "stdout",
     "output_type": "stream",
     "text": [
      "5 5 5\n"
     ]
    },
    {
     "data": {
      "image/png": "[encoded data removed]",
      "text/latex": [
       "$\\displaystyle 12 \\cdot \\left(2 X^{2} - 5 X Y - 5 X Z + 2 Y^{2} - 5 Y Z + 2 Z^{2} - 27\\right)$"
      ],
      "text/plain": [
       "   ⎛   2                      2              2     ⎞\n",
       "12⋅⎝2⋅X  - 5⋅X⋅Y - 5⋅X⋅Z + 2⋅Y  - 5⋅Y⋅Z + 2⋅Z  - 27⎠"
      ]
     },
     "metadata": {},
     "output_type": "display_data"
    },
    {
     "name": "stdout",
     "output_type": "stream",
     "text": [
      "5 5 11\n"
     ]
    },
    {
     "data": {
      "image/png": "[encoded data removed]",
      "text/latex": [
       "$\\displaystyle 24 \\left(X^{2} - 3 X Y - 5 X Z + Y^{2} - 5 Y Z + 5 Z^{2} - 30\\right)$"
      ],
      "text/plain": [
       "   ⎛ 2                    2              2     ⎞\n",
       "24⋅⎝X  - 3⋅X⋅Y - 5⋅X⋅Z + Y  - 5⋅Y⋅Z + 5⋅Z  - 30⎠"
      ]
     },
     "metadata": {},
     "output_type": "display_data"
    },
    {
     "name": "stdout",
     "output_type": "stream",
     "text": [
      "5 5 21\n"
     ]
    },
    {
     "data": {
      "image/png": "[encoded data removed]",
      "text/latex": [
       "$\\displaystyle 4 \\cdot \\left(6 X^{2} - 23 X Y - 55 X Z + 6 Y^{2} - 55 Y Z + 110 Z^{2} - 385\\right)$"
      ],
      "text/plain": [
       "  ⎛   2                        2                 2      ⎞\n",
       "4⋅⎝6⋅X  - 23⋅X⋅Y - 55⋅X⋅Z + 6⋅Y  - 55⋅Y⋅Z + 110⋅Z  - 385⎠"
      ]
     },
     "metadata": {},
     "output_type": "display_data"
    },
    {
     "name": "stdout",
     "output_type": "stream",
     "text": [
      "5 7 7\n"
     ]
    },
    {
     "data": {
      "image/png": "[encoded data removed]",
      "text/latex": [
       "$\\displaystyle 12 \\cdot \\left(2 X^{2} - 7 X Y - 7 X Z + 4 Y^{2} - 9 Y Z + 4 Z^{2} - 51\\right)$"
      ],
      "text/plain": [
       "   ⎛   2                      2              2     ⎞\n",
       "12⋅⎝2⋅X  - 7⋅X⋅Y - 7⋅X⋅Z + 4⋅Y  - 9⋅Y⋅Z + 4⋅Z  - 51⎠"
      ]
     },
     "metadata": {},
     "output_type": "display_data"
    },
    {
     "name": "stdout",
     "output_type": "stream",
     "text": [
      "5 7 13\n"
     ]
    },
    {
     "data": {
      "image/png": "[encoded data removed]",
      "text/latex": [
       "$\\displaystyle 24 \\left(X^{2} - 4 X Y - 6 X Z + 2 Y^{2} - 8 Y Z + 7 Z^{2} - 48\\right)$"
      ],
      "text/plain": [
       "   ⎛ 2                      2              2     ⎞\n",
       "24⋅⎝X  - 4⋅X⋅Y - 6⋅X⋅Z + 2⋅Y  - 8⋅Y⋅Z + 7⋅Z  - 48⎠"
      ]
     },
     "metadata": {},
     "output_type": "display_data"
    },
    {
     "name": "stdout",
     "output_type": "stream",
     "text": [
      "5 7 25\n"
     ]
    },
    {
     "data": {
      "image/png": "[encoded data removed]",
      "text/latex": [
       "$\\displaystyle 24 \\left(X^{2} - 5 X Y - 11 X Z + 2 Y^{2} - 15 Y Z + 26 Z^{2} - 102\\right)$"
      ],
      "text/plain": [
       "   ⎛ 2                       2                2      ⎞\n",
       "24⋅⎝X  - 5⋅X⋅Y - 11⋅X⋅Z + 2⋅Y  - 15⋅Y⋅Z + 26⋅Z  - 102⎠"
      ]
     },
     "metadata": {},
     "output_type": "display_data"
    },
    {
     "name": "stdout",
     "output_type": "stream",
     "text": [
      "5 9 15\n"
     ]
    },
    {
     "data": {
      "image/png": "[encoded data removed]",
      "text/latex": [
       "$\\displaystyle 8 \\cdot \\left(3 X^{2} - 15 X Y - 21 X Z + 10 Y^{2} - 35 Y Z + 28 Z^{2} - 210\\right)$"
      ],
      "text/plain": [
       "  ⎛   2                         2                2      ⎞\n",
       "8⋅⎝3⋅X  - 15⋅X⋅Y - 21⋅X⋅Z + 10⋅Y  - 35⋅Y⋅Z + 28⋅Z  - 210⎠"
      ]
     },
     "metadata": {},
     "output_type": "display_data"
    },
    {
     "name": "stdout",
     "output_type": "stream",
     "text": [
      "5 13 13\n"
     ]
    },
    {
     "data": {
      "image/png": "[encoded data removed]",
      "text/latex": [
       "$\\displaystyle 12 \\cdot \\left(2 X^{2} - 13 X Y - 13 X Z + 14 Y^{2} - 29 Y Z + 14 Z^{2} - 171\\right)$"
      ],
      "text/plain": [
       "   ⎛   2                         2                2      ⎞\n",
       "12⋅⎝2⋅X  - 13⋅X⋅Y - 13⋅X⋅Z + 14⋅Y  - 29⋅Y⋅Z + 14⋅Z  - 171⎠"
      ]
     },
     "metadata": {},
     "output_type": "display_data"
    },
    {
     "name": "stdout",
     "output_type": "stream",
     "text": [
      "5 13 19\n"
     ]
    },
    {
     "data": {
      "image/png": "[encoded data removed]",
      "text/latex": [
       "$\\displaystyle 24 \\left(X^{2} - 7 X Y - 9 X Z + 7 Y^{2} - 21 Y Z + 15 Z^{2} - 126\\right)$"
      ],
      "text/plain": [
       "   ⎛ 2                      2                2      ⎞\n",
       "24⋅⎝X  - 7⋅X⋅Y - 9⋅X⋅Z + 7⋅Y  - 21⋅Y⋅Z + 15⋅Z  - 126⎠"
      ]
     },
     "metadata": {},
     "output_type": "display_data"
    },
    {
     "name": "stdout",
     "output_type": "stream",
     "text": [
      "5 13 37\n"
     ]
    },
    {
     "data": {
      "image/png": "[encoded data removed]",
      "text/latex": [
       "$\\displaystyle 12 \\cdot \\left(2 X^{2} - 17 X Y - 33 X Z + 14 Y^{2} - 81 Y Z + 114 Z^{2} - 531\\right)$"
      ],
      "text/plain": [
       "   ⎛   2                         2                 2      ⎞\n",
       "12⋅⎝2⋅X  - 17⋅X⋅Y - 33⋅X⋅Z + 14⋅Y  - 81⋅Y⋅Z + 114⋅Z  - 531⎠"
      ]
     },
     "metadata": {},
     "output_type": "display_data"
    },
    {
     "name": "stdout",
     "output_type": "stream",
     "text": [
      "5 19 49\n"
     ]
    },
    {
     "data": {
      "image/png": "[encoded data removed]",
      "text/latex": [
       "$\\displaystyle 24 \\left(X^{2} - 12 X Y - 22 X Z + 15 Y^{2} - 78 Y Z + 100 Z^{2} - 504\\right)$"
      ],
      "text/plain": [
       "   ⎛ 2                         2                 2      ⎞\n",
       "24⋅⎝X  - 12⋅X⋅Y - 22⋅X⋅Z + 15⋅Y  - 78⋅Y⋅Z + 100⋅Z  - 504⎠"
      ]
     },
     "metadata": {},
     "output_type": "display_data"
    },
    {
     "name": "stdout",
     "output_type": "stream",
     "text": [
      "5 25 31\n"
     ]
    },
    {
     "data": {
      "image/png": "[encoded data removed]",
      "text/latex": [
       "$\\displaystyle 24 \\left(X^{2} - 13 X Y - 15 X Z + 26 Y^{2} - 65 Y Z + 40 Z^{2} - 390\\right)$"
      ],
      "text/plain": [
       "   ⎛ 2                         2                2      ⎞\n",
       "24⋅⎝X  - 13⋅X⋅Y - 15⋅X⋅Z + 26⋅Y  - 65⋅Y⋅Z + 40⋅Z  - 390⎠"
      ]
     },
     "metadata": {},
     "output_type": "display_data"
    },
    {
     "name": "stdout",
     "output_type": "stream",
     "text": [
      "5 37 85\n"
     ]
    },
    {
     "data": {
      "image/png": "[encoded data removed]",
      "text/latex": [
       "$\\displaystyle 12 \\cdot \\left(2 X^{2} - 45 X Y - 77 X Z + 114 Y^{2} - 525 Y Z + 602 Z^{2} - 3339\\right)$"
      ],
      "text/plain": [
       "   ⎛   2                          2                  2       ⎞\n",
       "12⋅⎝2⋅X  - 45⋅X⋅Y - 77⋅X⋅Z + 114⋅Y  - 525⋅Y⋅Z + 602⋅Z  - 3339⎠"
      ]
     },
     "metadata": {},
     "output_type": "display_data"
    },
    {
     "name": "stdout",
     "output_type": "stream",
     "text": [
      "6 6 9\n"
     ]
    },
    {
     "data": {
      "image/png": "[encoded data removed]",
      "text/latex": [
       "$\\displaystyle 5 \\cdot \\left(7 X^{2} - 18 X Y - 24 X Z + 7 Y^{2} - 24 Y Z + 16 Z^{2} - 160\\right)$"
      ],
      "text/plain": [
       "  ⎛   2                        2                2      ⎞\n",
       "5⋅⎝7⋅X  - 18⋅X⋅Y - 24⋅X⋅Z + 7⋅Y  - 24⋅Y⋅Z + 16⋅Z  - 160⎠"
      ]
     },
     "metadata": {},
     "output_type": "display_data"
    },
    {
     "name": "stdout",
     "output_type": "stream",
     "text": [
      "6 15 15\n"
     ]
    },
    {
     "data": {
      "image/png": "[encoded data removed]",
      "text/latex": [
       "$\\displaystyle 7 \\cdot \\left(5 X^{2} - 30 X Y - 30 X Z + 32 Y^{2} - 66 Y Z + 32 Z^{2} - 455\\right)$"
      ],
      "text/plain": [
       "  ⎛   2                         2                2      ⎞\n",
       "7⋅⎝5⋅X  - 30⋅X⋅Y - 30⋅X⋅Z + 32⋅Y  - 66⋅Y⋅Z + 32⋅Z  - 455⎠"
      ]
     },
     "metadata": {},
     "output_type": "display_data"
    },
    {
     "name": "stdout",
     "output_type": "stream",
     "text": [
      "6 29 36\n"
     ]
    },
    {
     "data": {
      "image/png": "[encoded data removed]",
      "text/latex": [
       "$\\displaystyle 35 \\left(X^{2} - 12 X Y - 14 X Z + 24 Y^{2} - 60 Y Z + 37 Z^{2} - 420\\right)$"
      ],
      "text/plain": [
       "   ⎛ 2                         2                2      ⎞\n",
       "35⋅⎝X  - 12⋅X⋅Y - 14⋅X⋅Z + 24⋅Y  - 60⋅Y⋅Z + 37⋅Z  - 420⎠"
      ]
     },
     "metadata": {},
     "output_type": "display_data"
    },
    {
     "name": "stdout",
     "output_type": "stream",
     "text": [
      "7 7 8\n"
     ]
    },
    {
     "data": {
      "image/png": "[encoded data removed]",
      "text/latex": [
       "$\\displaystyle 3 \\cdot \\left(16 X^{2} - 38 X Y - 42 X Z + 16 Y^{2} - 42 Y Z + 21 Z^{2} - 315\\right)$"
      ],
      "text/plain": [
       "  ⎛    2                         2                2      ⎞\n",
       "3⋅⎝16⋅X  - 38⋅X⋅Y - 42⋅X⋅Z + 16⋅Y  - 42⋅Y⋅Z + 21⋅Z  - 315⎠"
      ]
     },
     "metadata": {},
     "output_type": "display_data"
    },
    {
     "name": "stdout",
     "output_type": "stream",
     "text": [
      "7 7 29\n"
     ]
    },
    {
     "data": {
      "image/png": "[encoded data removed]",
      "text/latex": [
       "$\\displaystyle 12 \\cdot \\left(4 X^{2} - 13 X Y - 35 X Z + 4 Y^{2} - 35 Y Z + 70 Z^{2} - 315\\right)$"
      ],
      "text/plain": [
       "   ⎛   2                        2                2      ⎞\n",
       "12⋅⎝4⋅X  - 13⋅X⋅Y - 35⋅X⋅Z + 4⋅Y  - 35⋅Y⋅Z + 70⋅Z  - 315⎠"
      ]
     },
     "metadata": {},
     "output_type": "display_data"
    },
    {
     "name": "stdout",
     "output_type": "stream",
     "text": [
      "7 9 9\n"
     ]
    },
    {
     "data": {
      "image/png": "[encoded data removed]",
      "text/latex": [
       "$\\displaystyle 16 \\cdot \\left(3 X^{2} - 9 X Y - 9 X Z + 5 Y^{2} - 11 Y Z + 5 Z^{2} - 84\\right)$"
      ],
      "text/plain": [
       "   ⎛   2                      2               2     ⎞\n",
       "16⋅⎝3⋅X  - 9⋅X⋅Y - 9⋅X⋅Z + 5⋅Y  - 11⋅Y⋅Z + 5⋅Z  - 84⎠"
      ]
     },
     "metadata": {},
     "output_type": "display_data"
    },
    {
     "name": "stdout",
     "output_type": "stream",
     "text": [
      "7 9 33\n"
     ]
    },
    {
     "data": {
      "image/png": "[encoded data removed]",
      "text/latex": [
       "$\\displaystyle 16 \\cdot \\left(3 X^{2} - 12 X Y - 30 X Z + 5 Y^{2} - 38 Y Z + 68 Z^{2} - 336\\right)$"
      ],
      "text/plain": [
       "   ⎛   2                        2                2      ⎞\n",
       "16⋅⎝3⋅X  - 12⋅X⋅Y - 30⋅X⋅Z + 5⋅Y  - 38⋅Y⋅Z + 68⋅Z  - 336⎠"
      ]
     },
     "metadata": {},
     "output_type": "display_data"
    },
    {
     "name": "stdout",
     "output_type": "stream",
     "text": [
      "7 11 13\n"
     ]
    },
    {
     "data": {
      "image/png": "[encoded data removed]",
      "text/latex": [
       "$\\displaystyle 12 \\cdot \\left(4 X^{2} - 15 X Y - 17 X Z + 10 Y^{2} - 25 Y Z + 14 Z^{2} - 195\\right)$"
      ],
      "text/plain": [
       "   ⎛   2                         2                2      ⎞\n",
       "12⋅⎝4⋅X  - 15⋅X⋅Y - 17⋅X⋅Z + 10⋅Y  - 25⋅Y⋅Z + 14⋅Z  - 195⎠"
      ]
     },
     "metadata": {},
     "output_type": "display_data"
    },
    {
     "name": "stdout",
     "output_type": "stream",
     "text": [
      "7 13 41\n"
     ]
    },
    {
     "data": {
      "image/png": "[encoded data removed]",
      "text/latex": [
       "$\\displaystyle 24 \\cdot \\left(2 X^{2} - 11 X Y - 25 X Z + 7 Y^{2} - 45 Y Z + 70 Z^{2} - 390\\right)$"
      ],
      "text/plain": [
       "   ⎛   2                        2                2      ⎞\n",
       "24⋅⎝2⋅X  - 11⋅X⋅Y - 25⋅X⋅Z + 7⋅Y  - 45⋅Y⋅Z + 70⋅Z  - 390⎠"
      ]
     },
     "metadata": {},
     "output_type": "display_data"
    },
    {
     "name": "stdout",
     "output_type": "stream",
     "text": [
      "7 17 25\n"
     ]
    },
    {
     "data": {
      "image/png": "[encoded data removed]",
      "text/latex": [
       "$\\displaystyle 48 \\left(X^{2} - 6 X Y - 8 X Z + 6 Y^{2} - 18 Y Z + 13 Z^{2} - 144\\right)$"
      ],
      "text/plain": [
       "   ⎛ 2                      2                2      ⎞\n",
       "48⋅⎝X  - 6⋅X⋅Y - 8⋅X⋅Z + 6⋅Y  - 18⋅Y⋅Z + 13⋅Z  - 144⎠"
      ]
     },
     "metadata": {},
     "output_type": "display_data"
    },
    {
     "name": "stdout",
     "output_type": "stream",
     "text": [
      "7 17 49\n"
     ]
    },
    {
     "data": {
      "image/png": "[encoded data removed]",
      "text/latex": [
       "$\\displaystyle 48 \\left(X^{2} - 7 X Y - 15 X Z + 6 Y^{2} - 35 Y Z + 50 Z^{2} - 300\\right)$"
      ],
      "text/plain": [
       "   ⎛ 2                       2                2      ⎞\n",
       "48⋅⎝X  - 7⋅X⋅Y - 15⋅X⋅Z + 6⋅Y  - 35⋅Y⋅Z + 50⋅Z  - 300⎠"
      ]
     },
     "metadata": {},
     "output_type": "display_data"
    },
    {
     "name": "stdout",
     "output_type": "stream",
     "text": [
      "7 25 65\n"
     ]
    },
    {
     "data": {
      "image/png": "[encoded data removed]",
      "text/latex": [
       "$\\displaystyle 48 \\left(X^{2} - 10 X Y - 20 X Z + 13 Y^{2} - 68 Y Z + 88 Z^{2} - 576\\right)$"
      ],
      "text/plain": [
       "   ⎛ 2                         2                2      ⎞\n",
       "48⋅⎝X  - 10⋅X⋅Y - 20⋅X⋅Z + 13⋅Y  - 68⋅Y⋅Z + 88⋅Z  - 576⎠"
      ]
     },
     "metadata": {},
     "output_type": "display_data"
    },
    {
     "name": "stdout",
     "output_type": "stream",
     "text": [
      "7 49 113\n"
     ]
    },
    {
     "data": {
      "image/png": "[encoded data removed]",
      "text/latex": [
       "$\\displaystyle 48 \\left(X^{2} - 19 X Y - 35 X Z + 50 Y^{2} - 231 Y Z + 266 Z^{2} - 1932\\right)$"
      ],
      "text/plain": [
       "   ⎛ 2                         2                  2       ⎞\n",
       "48⋅⎝X  - 19⋅X⋅Y - 35⋅X⋅Z + 50⋅Y  - 231⋅Y⋅Z + 266⋅Z  - 1932⎠"
      ]
     },
     "metadata": {},
     "output_type": "display_data"
    },
    {
     "name": "stdout",
     "output_type": "stream",
     "text": [
      "8 13 22\n"
     ]
    },
    {
     "data": {
      "image/png": "[encoded data removed]",
      "text/latex": [
       "$\\displaystyle 21 \\cdot \\left(3 X^{2} - 12 X Y - 18 X Z + 8 Y^{2} - 28 Y Z + 23 Z^{2} - 252\\right)$"
      ],
      "text/plain": [
       "   ⎛   2                        2                2      ⎞\n",
       "21⋅⎝3⋅X  - 12⋅X⋅Y - 18⋅X⋅Z + 8⋅Y  - 28⋅Y⋅Z + 23⋅Z  - 252⎠"
      ]
     },
     "metadata": {},
     "output_type": "display_data"
    },
    {
     "name": "stdout",
     "output_type": "stream",
     "text": [
      "8 55 127\n"
     ]
    },
    {
     "data": {
      "image/png": "[encoded data removed]",
      "text/latex": [
       "$\\displaystyle 63 \\left(X^{2} - 18 X Y - 34 X Z + 48 Y^{2} - 222 Y Z + 256 Z^{2} - 2079\\right)$"
      ],
      "text/plain": [
       "   ⎛ 2                         2                  2       ⎞\n",
       "63⋅⎝X  - 18⋅X⋅Y - 34⋅X⋅Z + 48⋅Y  - 222⋅Y⋅Z + 256⋅Z  - 2079⎠"
      ]
     },
     "metadata": {},
     "output_type": "display_data"
    },
    {
     "name": "stdout",
     "output_type": "stream",
     "text": [
      "9 9 19\n"
     ]
    },
    {
     "data": {
      "image/png": "[encoded data removed]",
      "text/latex": [
       "$\\displaystyle 40 \\cdot \\left(2 X^{2} - 5 X Y - 9 X Z + 2 Y^{2} - 9 Y Z + 9 Z^{2} - 90\\right)$"
      ],
      "text/plain": [
       "   ⎛   2                      2              2     ⎞\n",
       "40⋅⎝2⋅X  - 5⋅X⋅Y - 9⋅X⋅Z + 2⋅Y  - 9⋅Y⋅Z + 9⋅Z  - 90⎠"
      ]
     },
     "metadata": {},
     "output_type": "display_data"
    },
    {
     "name": "stdout",
     "output_type": "stream",
     "text": [
      "9 11 21\n"
     ]
    },
    {
     "data": {
      "image/png": "[encoded data removed]",
      "text/latex": [
       "$\\displaystyle 40 \\cdot \\left(2 X^{2} - 6 X Y - 10 X Z + 3 Y^{2} - 12 Y Z + 11 Z^{2} - 120\\right)$"
      ],
      "text/plain": [
       "   ⎛   2                       2                2      ⎞\n",
       "40⋅⎝2⋅X  - 6⋅X⋅Y - 10⋅X⋅Z + 3⋅Y  - 12⋅Y⋅Z + 11⋅Z  - 120⎠"
      ]
     },
     "metadata": {},
     "output_type": "display_data"
    },
    {
     "name": "stdout",
     "output_type": "stream",
     "text": [
      "9 11 41\n"
     ]
    },
    {
     "data": {
      "image/png": "[encoded data removed]",
      "text/latex": [
       "$\\displaystyle 40 \\cdot \\left(2 X^{2} - 7 X Y - 19 X Z + 3 Y^{2} - 23 Y Z + 42 Z^{2} - 250\\right)$"
      ],
      "text/plain": [
       "   ⎛   2                       2                2      ⎞\n",
       "40⋅⎝2⋅X  - 7⋅X⋅Y - 19⋅X⋅Z + 3⋅Y  - 23⋅Y⋅Z + 42⋅Z  - 250⎠"
      ]
     },
     "metadata": {},
     "output_type": "display_data"
    },
    {
     "name": "stdout",
     "output_type": "stream",
     "text": [
      "9 21 31\n"
     ]
    },
    {
     "data": {
      "image/png": "[encoded data removed]",
      "text/latex": [
       "$\\displaystyle 40 \\cdot \\left(2 X^{2} - 11 X Y - 15 X Z + 11 Y^{2} - 33 Y Z + 24 Z^{2} - 330\\right)$"
      ],
      "text/plain": [
       "   ⎛   2                         2                2      ⎞\n",
       "40⋅⎝2⋅X  - 11⋅X⋅Y - 15⋅X⋅Z + 11⋅Y  - 33⋅Y⋅Z + 24⋅Z  - 330⎠"
      ]
     },
     "metadata": {},
     "output_type": "display_data"
    },
    {
     "name": "stdout",
     "output_type": "stream",
     "text": [
      "9 31 81\n"
     ]
    },
    {
     "data": {
      "image/png": "[encoded data removed]",
      "text/latex": [
       "$\\displaystyle 80 \\left(X^{2} - 9 X Y - 19 X Z + 12 Y^{2} - 63 Y Z + 82 Z^{2} - 660\\right)$"
      ],
      "text/plain": [
       "   ⎛ 2                        2                2      ⎞\n",
       "80⋅⎝X  - 9⋅X⋅Y - 19⋅X⋅Z + 12⋅Y  - 63⋅Y⋅Z + 82⋅Z  - 660⎠"
      ]
     },
     "metadata": {},
     "output_type": "display_data"
    },
    {
     "name": "stdout",
     "output_type": "stream",
     "text": [
      "9 41 51\n"
     ]
    },
    {
     "data": {
      "image/png": "[encoded data removed]",
      "text/latex": [
       "$\\displaystyle 40 \\cdot \\left(2 X^{2} - 21 X Y - 25 X Z + 42 Y^{2} - 105 Y Z + 65 Z^{2} - 1050\\right)$"
      ],
      "text/plain": [
       "   ⎛   2                         2                 2       ⎞\n",
       "40⋅⎝2⋅X  - 21⋅X⋅Y - 25⋅X⋅Z + 42⋅Y  - 105⋅Y⋅Z + 65⋅Z  - 1050⎠"
      ]
     },
     "metadata": {},
     "output_type": "display_data"
    },
    {
     "name": "stdout",
     "output_type": "stream",
     "text": [
      "10 23 67\n"
     ]
    },
    {
     "data": {
      "image/png": "[encoded data removed]",
      "text/latex": [
       "$\\displaystyle 33 \\cdot \\left(3 X^{2} - 18 X Y - 42 X Z + 16 Y^{2} - 94 Y Z + 136 Z^{2} - 1089\\right)$"
      ],
      "text/plain": [
       "   ⎛   2                         2                 2       ⎞\n",
       "33⋅⎝3⋅X  - 18⋅X⋅Y - 42⋅X⋅Z + 16⋅Y  - 94⋅Y⋅Z + 136⋅Z  - 1089⎠"
      ]
     },
     "metadata": {},
     "output_type": "display_data"
    },
    {
     "name": "stdout",
     "output_type": "stream",
     "text": [
      "11 16 19\n"
     ]
    },
    {
     "data": {
      "image/png": "[encoded data removed]",
      "text/latex": [
       "$\\displaystyle 15 \\cdot \\left(8 X^{2} - 26 X Y - 30 X Z + 17 Y^{2} - 42 Y Z + 24 Z^{2} - 495\\right)$"
      ],
      "text/plain": [
       "   ⎛   2                         2                2      ⎞\n",
       "15⋅⎝8⋅X  - 26⋅X⋅Y - 30⋅X⋅Z + 17⋅Y  - 42⋅Y⋅Z + 24⋅Z  - 495⎠"
      ]
     },
     "metadata": {},
     "output_type": "display_data"
    },
    {
     "name": "stdout",
     "output_type": "stream",
     "text": [
      "11 19 61\n"
     ]
    },
    {
     "data": {
      "image/png": "[encoded data removed]",
      "text/latex": [
       "$\\displaystyle 60 \\cdot \\left(2 X^{2} - 9 X Y - 23 X Z + 6 Y^{2} - 39 Y Z + 62 Z^{2} - 495\\right)$"
      ],
      "text/plain": [
       "   ⎛   2                       2                2      ⎞\n",
       "60⋅⎝2⋅X  - 9⋅X⋅Y - 23⋅X⋅Z + 6⋅Y  - 39⋅Y⋅Z + 62⋅Z  - 495⎠"
      ]
     },
     "metadata": {},
     "output_type": "display_data"
    },
    {
     "name": "stdout",
     "output_type": "stream",
     "text": [
      "11 25 25\n"
     ]
    },
    {
     "data": {
      "image/png": "[encoded data removed]",
      "text/latex": [
       "$\\displaystyle 24 \\cdot \\left(5 X^{2} - 25 X Y - 25 X Z + 26 Y^{2} - 53 Y Z + 26 Z^{2} - 630\\right)$"
      ],
      "text/plain": [
       "   ⎛   2                         2                2      ⎞\n",
       "24⋅⎝5⋅X  - 25⋅X⋅Y - 25⋅X⋅Z + 26⋅Y  - 53⋅Y⋅Z + 26⋅Z  - 630⎠"
      ]
     },
     "metadata": {},
     "output_type": "display_data"
    },
    {
     "name": "stdout",
     "output_type": "stream",
     "text": [
      "11 49 61\n"
     ]
    },
    {
     "data": {
      "image/png": "[encoded data removed]",
      "text/latex": [
       "$\\displaystyle 120 \\left(X^{2} - 10 X Y - 12 X Z + 20 Y^{2} - 50 Y Z + 31 Z^{2} - 600\\right)$"
      ],
      "text/plain": [
       "    ⎛ 2                         2                2      ⎞\n",
       "120⋅⎝X  - 10⋅X⋅Y - 12⋅X⋅Z + 20⋅Y  - 50⋅Y⋅Z + 31⋅Z  - 600⎠"
      ]
     },
     "metadata": {},
     "output_type": "display_data"
    },
    {
     "name": "stdout",
     "output_type": "stream",
     "text": [
      "13 13 53\n"
     ]
    },
    {
     "data": {
      "image/png": "[encoded data removed]",
      "text/latex": [
       "$\\displaystyle 12 \\cdot \\left(14 X^{2} - 37 X Y - 117 X Z + 14 Y^{2} - 117 Y Z + 234 Z^{2} - 1755\\right)$"
      ],
      "text/plain": [
       "   ⎛    2                          2                  2       ⎞\n",
       "12⋅⎝14⋅X  - 37⋅X⋅Y - 117⋅X⋅Z + 14⋅Y  - 117⋅Y⋅Z + 234⋅Z  - 1755⎠"
      ]
     },
     "metadata": {},
     "output_type": "display_data"
    },
    {
     "name": "stdout",
     "output_type": "stream",
     "text": [
      "13 15 15\n"
     ]
    },
    {
     "data": {
      "image/png": "[encoded data removed]",
      "text/latex": [
       "$\\displaystyle 28 \\cdot \\left(6 X^{2} - 15 X Y - 15 X Z + 8 Y^{2} - 17 Y Z + 8 Z^{2} - 231\\right)$"
      ],
      "text/plain": [
       "   ⎛   2                        2               2      ⎞\n",
       "28⋅⎝6⋅X  - 15⋅X⋅Y - 15⋅X⋅Z + 8⋅Y  - 17⋅Y⋅Z + 8⋅Z  - 231⎠"
      ]
     },
     "metadata": {},
     "output_type": "display_data"
    },
    {
     "name": "stdout",
     "output_type": "stream",
     "text": [
      "13 15 57\n"
     ]
    },
    {
     "data": {
      "image/png": "[encoded data removed]",
      "text/latex": [
       "$\\displaystyle 56 \\cdot \\left(3 X^{2} - 9 X Y - 27 X Z + 4 Y^{2} - 31 Y Z + 58 Z^{2} - 462\\right)$"
      ],
      "text/plain": [
       "   ⎛   2                       2                2      ⎞\n",
       "56⋅⎝3⋅X  - 9⋅X⋅Y - 27⋅X⋅Z + 4⋅Y  - 31⋅Y⋅Z + 58⋅Z  - 462⎠"
      ]
     },
     "metadata": {},
     "output_type": "display_data"
    },
    {
     "name": "stdout",
     "output_type": "stream",
     "text": [
      "13 29 43\n"
     ]
    },
    {
     "data": {
      "image/png": "[encoded data removed]",
      "text/latex": [
       "$\\displaystyle 168 \\left(X^{2} - 5 X Y - 7 X Z + 5 Y^{2} - 15 Y Z + 11 Z^{2} - 210\\right)$"
      ],
      "text/plain": [
       "    ⎛ 2                      2                2      ⎞\n",
       "168⋅⎝X  - 5⋅X⋅Y - 7⋅X⋅Z + 5⋅Y  - 15⋅Y⋅Z + 11⋅Z  - 210⎠"
      ]
     },
     "metadata": {},
     "output_type": "display_data"
    },
    {
     "name": "stdout",
     "output_type": "stream",
     "text": [
      "13 29 85\n"
     ]
    },
    {
     "data": {
      "image/png": "[encoded data removed]",
      "text/latex": [
       "$\\displaystyle 84 \\cdot \\left(2 X^{2} - 11 X Y - 27 X Z + 10 Y^{2} - 59 Y Z + 86 Z^{2} - 861\\right)$"
      ],
      "text/plain": [
       "   ⎛   2                         2                2      ⎞\n",
       "84⋅⎝2⋅X  - 11⋅X⋅Y - 27⋅X⋅Z + 10⋅Y  - 59⋅Y⋅Z + 86⋅Z  - 861⎠"
      ]
     },
     "metadata": {},
     "output_type": "display_data"
    },
    {
     "name": "stdout",
     "output_type": "stream",
     "text": [
      "13 43 113\n"
     ]
    },
    {
     "data": {
      "image/png": "[encoded data removed]",
      "text/latex": [
       "$\\displaystyle 168 \\left(X^{2} - 8 X Y - 18 X Z + 11 Y^{2} - 58 Y Z + 76 Z^{2} - 840\\right)$"
      ],
      "text/plain": [
       "    ⎛ 2                        2                2      ⎞\n",
       "168⋅⎝X  - 8⋅X⋅Y - 18⋅X⋅Z + 11⋅Y  - 58⋅Y⋅Z + 76⋅Z  - 840⎠"
      ]
     },
     "metadata": {},
     "output_type": "display_data"
    },
    {
     "name": "stdout",
     "output_type": "stream",
     "text": [
      "13 85 197\n"
     ]
    },
    {
     "data": {
      "image/png": "[encoded data removed]",
      "text/latex": [
       "$\\displaystyle 84 \\cdot \\left(2 X^{2} - 31 X Y - 63 X Z + 86 Y^{2} - 399 Y Z + 462 Z^{2} - 5733\\right)$"
      ],
      "text/plain": [
       "   ⎛   2                         2                  2       ⎞\n",
       "84⋅⎝2⋅X  - 31⋅X⋅Y - 63⋅X⋅Z + 86⋅Y  - 399⋅Y⋅Z + 462⋅Z  - 5733⎠"
      ]
     },
     "metadata": {},
     "output_type": "display_data"
    },
    {
     "name": "stdout",
     "output_type": "stream",
     "text": [
      "15 97 225\n"
     ]
    },
    {
     "data": {
      "image/png": "[encoded data removed]",
      "text/latex": [
       "$\\displaystyle 224 \\left(X^{2} - 15 X Y - 31 X Z + 42 Y^{2} - 195 Y Z + 226 Z^{2} - 3192\\right)$"
      ],
      "text/plain": [
       "    ⎛ 2                         2                  2       ⎞\n",
       "224⋅⎝X  - 15⋅X⋅Y - 31⋅X⋅Z + 42⋅Y  - 195⋅Y⋅Z + 226⋅Z  - 3192⎠"
      ]
     },
     "metadata": {},
     "output_type": "display_data"
    },
    {
     "name": "stdout",
     "output_type": "stream",
     "text": [
      "17 19 37\n"
     ]
    },
    {
     "data": {
      "image/png": "[encoded data removed]",
      "text/latex": [
       "$\\displaystyle 72 \\cdot \\left(4 X^{2} - 10 X Y - 18 X Z + 5 Y^{2} - 20 Y Z + 19 Z^{2} - 360\\right)$"
      ],
      "text/plain": [
       "   ⎛   2                        2                2      ⎞\n",
       "72⋅⎝4⋅X  - 10⋅X⋅Y - 18⋅X⋅Z + 5⋅Y  - 20⋅Y⋅Z + 19⋅Z  - 360⎠"
      ]
     },
     "metadata": {},
     "output_type": "display_data"
    },
    {
     "name": "stdout",
     "output_type": "stream",
     "text": [
      "17 55 145\n"
     ]
    },
    {
     "data": {
      "image/png": "[encoded data removed]",
      "text/latex": [
       "$\\displaystyle 144 \\cdot \\left(2 X^{2} - 15 X Y - 35 X Z + 21 Y^{2} - 111 Y Z + 146 Z^{2} - 2052\\right)$"
      ],
      "text/plain": [
       "    ⎛   2                         2                  2       ⎞\n",
       "144⋅⎝2⋅X  - 15⋅X⋅Y - 35⋅X⋅Z + 21⋅Y  - 111⋅Y⋅Z + 146⋅Z  - 2052⎠"
      ]
     },
     "metadata": {},
     "output_type": "display_data"
    },
    {
     "name": "stdout",
     "output_type": "stream",
     "text": [
      "19 41 121\n"
     ]
    },
    {
     "data": {
      "image/png": "[encoded data removed]",
      "text/latex": [
       "$\\displaystyle 120 \\cdot \\left(3 X^{2} - 15 X Y - 39 X Z + 14 Y^{2} - 83 Y Z + 122 Z^{2} - 1710\\right)$"
      ],
      "text/plain": [
       "    ⎛   2                         2                 2       ⎞\n",
       "120⋅⎝3⋅X  - 15⋅X⋅Y - 39⋅X⋅Z + 14⋅Y  - 83⋅Y⋅Z + 122⋅Z  - 1710⎠"
      ]
     },
     "metadata": {},
     "output_type": "display_data"
    },
    {
     "name": "stdout",
     "output_type": "stream",
     "text": [
      "21 21 29\n"
     ]
    },
    {
     "data": {
      "image/png": "[encoded data removed]",
      "text/latex": [
       "$\\displaystyle 20 \\cdot \\left(22 X^{2} - 47 X Y - 63 X Z + 22 Y^{2} - 63 Y Z + 42 Z^{2} - 1365\\right)$"
      ],
      "text/plain": [
       "   ⎛    2                         2                2       ⎞\n",
       "20⋅⎝22⋅X  - 47⋅X⋅Y - 63⋅X⋅Z + 22⋅Y  - 63⋅Y⋅Z + 42⋅Z  - 1365⎠"
      ]
     },
     "metadata": {},
     "output_type": "display_data"
    },
    {
     "name": "stdout",
     "output_type": "stream",
     "text": [
      "21 45 45\n"
     ]
    },
    {
     "data": {
      "image/png": "[encoded data removed]",
      "text/latex": [
       "$\\displaystyle 44 \\cdot \\left(10 X^{2} - 45 X Y - 45 X Z + 46 Y^{2} - 93 Y Z + 46 Z^{2} - 2035\\right)$"
      ],
      "text/plain": [
       "   ⎛    2                         2                2       ⎞\n",
       "44⋅⎝10⋅X  - 45⋅X⋅Y - 45⋅X⋅Z + 46⋅Y  - 93⋅Y⋅Z + 46⋅Z  - 2035⎠"
      ]
     },
     "metadata": {},
     "output_type": "display_data"
    },
    {
     "name": "stdout",
     "output_type": "stream",
     "text": [
      "21 89 111\n"
     ]
    },
    {
     "data": {
      "image/png": "[encoded data removed]",
      "text/latex": [
       "$\\displaystyle 440 \\left(X^{2} - 9 X Y - 11 X Z + 18 Y^{2} - 45 Y Z + 28 Z^{2} - 990\\right)$"
      ],
      "text/plain": [
       "    ⎛ 2                        2                2      ⎞\n",
       "440⋅⎝X  - 9⋅X⋅Y - 11⋅X⋅Z + 18⋅Y  - 45⋅Y⋅Z + 28⋅Z  - 990⎠"
      ]
     },
     "metadata": {},
     "output_type": "display_data"
    },
    {
     "name": "stdout",
     "output_type": "stream",
     "text": [
      "22 139 323\n"
     ]
    },
    {
     "data": {
      "image/png": "[encoded data removed]",
      "text/latex": [
       "$\\displaystyle 483 \\left(X^{2} - 14 X Y - 30 X Z + 40 Y^{2} - 186 Y Z + 216 Z^{2} - 4347\\right)$"
      ],
      "text/plain": [
       "    ⎛ 2                         2                  2       ⎞\n",
       "483⋅⎝X  - 14⋅X⋅Y - 30⋅X⋅Z + 40⋅Y  - 186⋅Y⋅Z + 216⋅Z  - 4347⎠"
      ]
     },
     "metadata": {},
     "output_type": "display_data"
    },
    {
     "name": "stdout",
     "output_type": "stream",
     "text": [
      "25 27 105\n"
     ]
    },
    {
     "data": {
      "image/png": "[encoded data removed]",
      "text/latex": [
       "$\\displaystyle 104 \\cdot \\left(6 X^{2} - 15 X Y - 51 X Z + 7 Y^{2} - 55 Y Z + 106 Z^{2} - 1482\\right)$"
      ],
      "text/plain": [
       "    ⎛   2                        2                 2       ⎞\n",
       "104⋅⎝6⋅X  - 15⋅X⋅Y - 51⋅X⋅Z + 7⋅Y  - 55⋅Y⋅Z + 106⋅Z  - 1482⎠"
      ]
     },
     "metadata": {},
     "output_type": "display_data"
    },
    {
     "name": "stdout",
     "output_type": "stream",
     "text": [
      "25 53 79\n"
     ]
    },
    {
     "data": {
      "image/png": "[encoded data removed]",
      "text/latex": [
       "$\\displaystyle 312 \\cdot \\left(2 X^{2} - 9 X Y - 13 X Z + 9 Y^{2} - 27 Y Z + 20 Z^{2} - 702\\right)$"
      ],
      "text/plain": [
       "    ⎛   2                       2                2      ⎞\n",
       "312⋅⎝2⋅X  - 9⋅X⋅Y - 13⋅X⋅Z + 9⋅Y  - 27⋅Y⋅Z + 20⋅Z  - 702⎠"
      ]
     },
     "metadata": {},
     "output_type": "display_data"
    },
    {
     "name": "stdout",
     "output_type": "stream",
     "text": [
      "25 79 209\n"
     ]
    },
    {
     "data": {
      "image/png": "[encoded data removed]",
      "text/latex": [
       "$\\displaystyle 624 \\left(X^{2} - 7 X Y - 17 X Z + 10 Y^{2} - 53 Y Z + 70 Z^{2} - 1404\\right)$"
      ],
      "text/plain": [
       "    ⎛ 2                        2                2       ⎞\n",
       "624⋅⎝X  - 7⋅X⋅Y - 17⋅X⋅Z + 10⋅Y  - 53⋅Y⋅Z + 70⋅Z  - 1404⎠"
      ]
     },
     "metadata": {},
     "output_type": "display_data"
    },
    {
     "name": "stdout",
     "output_type": "stream",
     "text": [
      "29 41 71\n"
     ]
    },
    {
     "data": {
      "image/png": "[encoded data removed]",
      "text/latex": [
       "$\\displaystyle 840 \\left(X^{2} - 3 X Y - 5 X Z + 2 Y^{2} - 7 Y Z + 6 Z^{2} - 210\\right)$"
      ],
      "text/plain": [
       "    ⎛ 2                      2              2      ⎞\n",
       "840⋅⎝X  - 3⋅X⋅Y - 5⋅X⋅Z + 2⋅Y  - 7⋅Y⋅Z + 6⋅Z  - 210⎠"
      ]
     },
     "metadata": {},
     "output_type": "display_data"
    },
    {
     "name": "stdout",
     "output_type": "stream",
     "text": [
      "29 181 421\n"
     ]
    },
    {
     "data": {
      "image/png": "[encoded data removed]",
      "text/latex": [
       "$\\displaystyle 420 \\cdot \\left(2 X^{2} - 27 X Y - 59 X Z + 78 Y^{2} - 363 Y Z + 422 Z^{2} - 11025\\right)$"
      ],
      "text/plain": [
       "    ⎛   2                         2                  2        ⎞\n",
       "420⋅⎝2⋅X  - 27⋅X⋅Y - 59⋅X⋅Z + 78⋅Y  - 363⋅Y⋅Z + 422⋅Z  - 11025⎠"
      ]
     },
     "metadata": {},
     "output_type": "display_data"
    },
    {
     "name": "stdout",
     "output_type": "stream",
     "text": [
      "31 41 49\n"
     ]
    },
    {
     "data": {
      "image/png": "[encoded data removed]",
      "text/latex": [
       "$\\displaystyle 240 \\cdot \\left(4 X^{2} - 11 X Y - 13 X Z + 7 Y^{2} - 17 Y Z + 10 Z^{2} - 540\\right)$"
      ],
      "text/plain": [
       "    ⎛   2                        2                2      ⎞\n",
       "240⋅⎝4⋅X  - 11⋅X⋅Y - 13⋅X⋅Z + 7⋅Y  - 17⋅Y⋅Z + 10⋅Z  - 540⎠"
      ]
     },
     "metadata": {},
     "output_type": "display_data"
    },
    {
     "name": "stdout",
     "output_type": "stream",
     "text": [
      "31 49 161\n"
     ]
    },
    {
     "data": {
      "image/png": "[encoded data removed]",
      "text/latex": [
       "$\\displaystyle 480 \\cdot \\left(2 X^{2} - 7 X Y - 21 X Z + 5 Y^{2} - 33 Y Z + 54 Z^{2} - 1080\\right)$"
      ],
      "text/plain": [
       "    ⎛   2                       2                2       ⎞\n",
       "480⋅⎝2⋅X  - 7⋅X⋅Y - 21⋅X⋅Z + 5⋅Y  - 33⋅Y⋅Z + 54⋅Z  - 1080⎠"
      ]
     },
     "metadata": {},
     "output_type": "display_data"
    },
    {
     "name": "stdout",
     "output_type": "stream",
     "text": [
      "34 43 155\n"
     ]
    },
    {
     "data": {
      "image/png": "[encoded data removed]",
      "text/latex": [
       "$\\displaystyle 231 \\cdot \\left(5 X^{2} - 14 X Y - 46 X Z + 8 Y^{2} - 58 Y Z + 104 Z^{2} - 2079\\right)$"
      ],
      "text/plain": [
       "    ⎛   2                        2                 2       ⎞\n",
       "231⋅⎝5⋅X  - 14⋅X⋅Y - 46⋅X⋅Z + 8⋅Y  - 58⋅Y⋅Z + 104⋅Z  - 2079⎠"
      ]
     },
     "metadata": {},
     "output_type": "display_data"
    },
    {
     "name": "stdout",
     "output_type": "stream",
     "text": [
      "37 77 229\n"
     ]
    },
    {
     "data": {
      "image/png": "[encoded data removed]",
      "text/latex": [
       "$\\displaystyle 228 \\cdot \\left(6 X^{2} - 27 X Y - 75 X Z + 26 Y^{2} - 155 Y Z + 230 Z^{2} - 5985\\right)$"
      ],
      "text/plain": [
       "    ⎛   2                         2                  2       ⎞\n",
       "228⋅⎝6⋅X  - 27⋅X⋅Y - 75⋅X⋅Z + 26⋅Y  - 155⋅Y⋅Z + 230⋅Z  - 5985⎠"
      ]
     },
     "metadata": {},
     "output_type": "display_data"
    },
    {
     "name": "stdout",
     "output_type": "stream",
     "text": [
      "41 169 211\n"
     ]
    },
    {
     "data": {
      "image/png": "[encoded data removed]",
      "text/latex": [
       "$\\displaystyle 840 \\cdot \\left(2 X^{2} - 17 X Y - 21 X Z + 34 Y^{2} - 85 Y Z + 53 Z^{2} - 3570\\right)$"
      ],
      "text/plain": [
       "    ⎛   2                         2                2       ⎞\n",
       "840⋅⎝2⋅X  - 17⋅X⋅Y - 21⋅X⋅Z + 34⋅Y  - 85⋅Y⋅Z + 53⋅Z  - 3570⎠"
      ]
     },
     "metadata": {},
     "output_type": "display_data"
    },
    {
     "name": "stdout",
     "output_type": "stream",
     "text": [
      "43 265 617\n"
     ]
    },
    {
     "data": {
      "image/png": "[encoded data removed]",
      "text/latex": [
       "$\\displaystyle 1848 \\left(X^{2} - 13 X Y - 29 X Z + 38 Y^{2} - 177 Y Z + 206 Z^{2} - 7854\\right)$"
      ],
      "text/plain": [
       "     ⎛ 2                         2                  2       ⎞\n",
       "1848⋅⎝X  - 13⋅X⋅Y - 29⋅X⋅Z + 38⋅Y  - 177⋅Y⋅Z + 206⋅Z  - 7854⎠"
      ]
     },
     "metadata": {},
     "output_type": "display_data"
    },
    {
     "name": "stdout",
     "output_type": "stream",
     "text": [
      "49 151 401\n"
     ]
    },
    {
     "data": {
      "image/png": "[encoded data removed]",
      "text/latex": [
       "$\\displaystyle 1200 \\cdot \\left(2 X^{2} - 13 X Y - 33 X Z + 19 Y^{2} - 101 Y Z + 134 Z^{2} - 5100\\right)$"
      ],
      "text/plain": [
       "     ⎛   2                         2                  2       ⎞\n",
       "1200⋅⎝2⋅X  - 13⋅X⋅Y - 33⋅X⋅Z + 19⋅Y  - 101⋅Y⋅Z + 134⋅Z  - 5100⎠"
      ]
     },
     "metadata": {},
     "output_type": "display_data"
    },
    {
     "name": "stdout",
     "output_type": "stream",
     "text": [
      "number : 110\n"
     ]
    }
   ],
   "source": [
    "import sympy\n",
    "num = 1000\n",
    "X = sympy.Symbol('X')\n",
    "Y = sympy.Symbol('Y')\n",
    "Z = sympy.Symbol('Z')\n",
    "sympy.init_printing()\n",
    "count = 0\n",
    "for a in range(2,num):\n",
    "    for b in range(a,num):\n",
    "        for c in range(b,num):\n",
    "            ta = 2*(b+c)\n",
    "            sa = a-1\n",
    "\n",
    "            tb = 2*(a+c)\n",
    "            sb = b-1\n",
    "\n",
    "            tc = 2*(b+a)\n",
    "            sc = c-1 \n",
    "            \n",
    "            if ta%sa==0 and tb%sb==0 and tc%sc==0:\n",
    "                count+=1\n",
    "                print(a,b,c)\n",
    "                eq = (a**2-1)*X**2+(b**2-1)*Y**2+(c**2-1)*Z**2-2*((a*b+c)*X*Y + (b*c+a)*Y*Z + (a*c+b)*X*Z)-(a**2+b**2+c**2+2*a*b*c-1)\n",
    "                eq = sympy.factor(eq)\n",
    "                #print(eq)\n",
    "                display(eq)\n",
    "                \n",
    "print(\"number :\", count)"
   ]
  },
  {
   "cell_type": "code",
   "execution_count": 17,
   "id": "775fa1a7",
   "metadata": {},
   "outputs": [
    {
     "data": {
      "text/latex": [
       "$\\displaystyle X^{2} + Y^{2}$"
      ],
      "text/plain": [
       "X**2 + Y**2"
      ]
     },
     "execution_count": 17,
     "metadata": {},
     "output_type": "execute_result"
    }
   ],
   "source": [
    "def xyz2X(uu):\n",
    "    x,y,z = uu\n",
    "    dd = x**2 + y**2 + z**2 + 2*x*y*z -1\n",
    "    return ((x*y + z)*y + (x*z + y)*z + dd)/ (x**2 - 1) \n",
    "\n",
    "def xyz2XYZ(tt):\n",
    "    x,y,z = tt\n",
    "    return xyz2X(tt),xyz2X((y,z,x)),xyz2X((z,x,y))\n",
    "\n",
    "xyz2X((3,3,3))\n",
    "\n",
    "a,b,c = 3, 17, 21\n",
    "def ff(X,Y,Z):\n",
    "    eq = (a**2-1)*X**2+(b**2-1)*Y**2+(c**2-1)*Z**2 \\\n",
    "    - 2*((a*b+c)*X*Y + (b*c+a)*Y*Z + (a*c+b)*X*Z) \\\n",
    "    - (a**2 + b**2 + c**2 + 2*a*b*c - 1)\n",
    "    return eq\n",
    "\n",
    "def bb(x,y,z):\n",
    "    return x**2 + y**2 + z**2 - 3*(x*y + y*z + x*z) -10\n",
    "    "
   ]
  }
 ],
 "metadata": {
  "kernelspec": {
   "display_name": "Python 3 (ipykernel)",
   "language": "python",
   "name": "python3"
  },
  "language_info": {
   "codemirror_mode": {
    "name": "ipython",
    "version": 3
   },
   "file_extension": ".py",
   "mimetype": "text/x-python",
   "name": "python",
   "nbconvert_exporter": "python",
   "pygments_lexer": "ipython3",
   "version": "3.11.5"
  }
 },
 "nbformat": 4,
 "nbformat_minor": 5
}
