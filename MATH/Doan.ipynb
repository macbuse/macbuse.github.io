{
 "cells": [
  {
   "cell_type": "markdown",
   "id": "929bd190-308f-4a2c-ba44-a3089186e31c",
   "metadata": {},
   "source": [
    "# bits and pieces of code \n",
    "\n",
    "\n",
    "But is this all just \"point pushing\"\n",
    "so that the group you get should be\n",
    "just the uniformizing group(oid) of the surface\n",
    "\n",
    "\n",
    "$$Q = -9(x+y)^2 + 45(y-x)^2 + 10(x-z)^2$$\n",
    "\n",
    "\n",
    "### References\n",
    "\n",
    "- thesis : https://orbilu.uni.lu/bitstream/10993/50710/1/thesis-merged.pdf\n",
    "- orthotrees : https://arxiv.org/abs/2112.10694\n",
    "\n"
   ]
  },
  {
   "cell_type": "markdown",
   "id": "d79f2644-f779-47c7-82d1-0c4b2dac31eb",
   "metadata": {},
   "source": [
    "![xx](./doan_qforms.png)"
   ]
  },
  {
   "cell_type": "markdown",
   "id": "ebcdba63-3cd8-4fff-b6e4-ffe78f0bf0f5",
   "metadata": {},
   "source": [
    "---\n",
    "\n",
    "### The flip\n",
    "\n",
    "$X^+ + X^- = \\frac{y + z}{x - 1}(Y + Z)$ \n",
    "\n",
    "---\n",
    "\n",
    "### Coeffs in flips\n",
    "\n",
    "$(x,y,z) = ( 3,17, 21)$\n",
    "\n",
    "1. 38/2 = 19\n",
    "2. 24/16 = 3/2\n",
    "3. 20/20 = 1\n",
    "\n",
    "---\n",
    "\n",
    "\n",
    "1. $X^+ + X^- = 19(Y + Z)$\n",
    "1. $X^+ + X^- = \\frac{3}{2}(Y + Z)$\n",
    "1. $X^+ + X^- = (Y + Z)$\n",
    "\n",
    "---"
   ]
  },
  {
   "cell_type": "markdown",
   "id": "170f7d37-fa6b-4b5c-a8e5-3898d841a13a",
   "metadata": {},
   "source": [
    "![doan's figure](./doan_fig.png)"
   ]
  },
  {
   "cell_type": "markdown",
   "id": "5034daf2-3e53-4c8c-85f0-a202304bea9b",
   "metadata": {},
   "source": [
    "# Objective\n",
    "\n",
    "Calculate the hyperbolic distance between the fixed points \n",
    "\n",
    "```\n",
    "fp_x = [19,1,1]\n",
    "fp_y = [1,1.5,1]\n",
    "fp_z = [1,1,1]\n",
    "```\n",
    "\n",
    "of the involutions ```gx,gy,gz``` that generate Doan's group:\n",
    "\n",
    "\n",
    "one can do this using the inner product $B$ associated to the quadatic form :\n",
    "\n",
    "$\\cosh( d(u,v)) = B(u,v)$\n",
    "\n",
    "$d(u,v) = 1/2 \\ell_\\gamma$ where $\\gamma$ \n",
    "is the loxodromic obtained as a composition of the \n",
    "inversions in $a$ and $b$.\n",
    "\n",
    "\n",
    "The length of the *companion* orthogeodesic $\\gamma^*$ satisfies\n",
    "\n",
    "$\\cosh(1/2\\ell_\\gamma) = \\sinh(1/4 \\ell_\\delta) \\sinh(1/2 \\ell_{\\gamma^*})$"
   ]
  },
  {
   "cell_type": "code",
   "execution_count": 384,
   "id": "16d37424-a2c6-43be-a651-f4848dfc1c5a",
   "metadata": {},
   "outputs": [
    {
     "data": {
      "text/plain": [
       "array([17,  3, -1])"
      ]
     },
     "execution_count": 384,
     "metadata": {},
     "output_type": "execute_result"
    }
   ],
   "source": [
    "v\n"
   ]
  },
  {
   "cell_type": "markdown",
   "id": "1da2b633-3f71-4e40-acd2-516be991c7a4",
   "metadata": {},
   "source": [
    "[tt](./doan_fig.png)"
   ]
  },
  {
   "cell_type": "markdown",
   "id": "ed806327-31d7-42d9-b2ab-d804af92f6b6",
   "metadata": {},
   "source": [
    "![ff](./doan_fixed.png)"
   ]
  },
  {
   "cell_type": "code",
   "execution_count": 1,
   "id": "646bdeb6-2e2e-4e8f-9b56-523e26b6f799",
   "metadata": {},
   "outputs": [],
   "source": [
    "import numpy as np"
   ]
  },
  {
   "cell_type": "code",
   "execution_count": 385,
   "id": "6e2dc7e7-7b43-4ca7-b9d9-1878c2a0becd",
   "metadata": {},
   "outputs": [],
   "source": [
    "def Q(v):\n",
    "    x,y,z =v\n",
    "    return x**2 + 36*y**2 + 55*z**2 - 18*x*y - 20*x*z - 90*y*z\n",
    "\n",
    "def ip(u,v):\n",
    "    # standard way to get the inner product from a q-form\n",
    "    uu = np.array(u)\n",
    "    vv = np.array(v)\n",
    "\n",
    "    return .25*(Q(uu+vv)-Q(uu-vv))\n",
    "\n",
    "def DD(v):\n",
    "    # auxilliary function in Doan\n",
    "    x,y,z =v\n",
    "    return x**2 + y**2 + z**2 + 2*x*y*z -1"
   ]
  },
  {
   "cell_type": "markdown",
   "id": "083912e8-5508-4bae-901b-5d12cd09d3a5",
   "metadata": {},
   "source": [
    "---\n",
    "\n",
    "## Define the quadratic form or rather the associated matrix"
   ]
  },
  {
   "cell_type": "code",
   "execution_count": 3,
   "id": "79e9b236-3210-4c3c-a9e1-6515190a2c9e",
   "metadata": {},
   "outputs": [
    {
     "data": {
      "text/plain": [
       "array([[  1,  -9, -10],\n",
       "       [ -9,  36, -45],\n",
       "       [-10, -45,  55]])"
      ]
     },
     "execution_count": 3,
     "metadata": {},
     "output_type": "execute_result"
    }
   ],
   "source": [
    "MM = [1,-9,-10,-9,36,-45,-10,-45,55]\n",
    "QM = np.array(MM).reshape(3,3)\n",
    "QM"
   ]
  },
  {
   "cell_type": "code",
   "execution_count": 317,
   "id": "9645300f-6a53-43cb-a6ae-6913c32c8829",
   "metadata": {},
   "outputs": [
    {
     "data": {
      "text/plain": [
       "(360, 360.0, 360)"
      ]
     },
     "execution_count": 317,
     "metadata": {},
     "output_type": "execute_result"
    }
   ],
   "source": [
    "Q([17,3,-1]), DD([3,17,21])/8, [17,3,-1] @ QM @ [17,3,-1]"
   ]
  },
  {
   "cell_type": "markdown",
   "id": "bb52af72-1c4a-452b-a2ed-6a8725fdeb5e",
   "metadata": {},
   "source": [
    "## Playing with Doan's generators"
   ]
  },
  {
   "cell_type": "code",
   "execution_count": 9,
   "id": "2474b579-c02b-45a2-a5cc-5bfe1a1b2407",
   "metadata": {},
   "outputs": [],
   "source": [
    "A = [-1,19,19,0,0,1,0,1,0]\n",
    "gx = np.array(A).reshape(3,3)\n",
    "B = [0,1,0,1,0,0,1,1,-1]\n",
    "gz = np.array(B).reshape(3,3)\n",
    "C = [0,0,1,3/2,-1,3/2,1,0,0]\n",
    "gy = np.array(C).reshape(3,3)"
   ]
  },
  {
   "cell_type": "code",
   "execution_count": 208,
   "id": "73f34116-f9be-4b76-ab25-efebe1d6481c",
   "metadata": {},
   "outputs": [
    {
     "data": {
      "text/plain": [
       "(array([[-1, 19, 19],\n",
       "        [ 0,  0,  1],\n",
       "        [ 0,  1,  0]]),\n",
       " array([[ 0. ,  0. ,  1. ],\n",
       "        [ 1.5, -1. ,  1.5],\n",
       "        [ 1. ,  0. ,  0. ]]),\n",
       " array([[ 0,  1,  0],\n",
       "        [ 1,  0,  0],\n",
       "        [ 1,  1, -1]]))"
      ]
     },
     "execution_count": 208,
     "metadata": {},
     "output_type": "execute_result"
    }
   ],
   "source": [
    "gx, gy, gz"
   ]
  },
  {
   "cell_type": "code",
   "execution_count": null,
   "id": "8c8707e1-9787-4821-99c2-c33c9b4b656d",
   "metadata": {},
   "outputs": [],
   "source": []
  },
  {
   "cell_type": "code",
   "execution_count": 387,
   "id": "ab2a969d-0a20-4df9-9799-475b265d2c6c",
   "metadata": {},
   "outputs": [
    {
     "data": {
      "text/plain": [
       "(array([17,  3, -1]), array([21, -1,  3]), array([-1., 21., 17.]))"
      ]
     },
     "execution_count": 387,
     "metadata": {},
     "output_type": "execute_result"
    }
   ],
   "source": [
    "v = np.array([17,3,-1])\n",
    "v, gx@v, gy@v"
   ]
  },
  {
   "cell_type": "code",
   "execution_count": null,
   "id": "c1dcf166-443e-4a3c-8810-a27da68e888e",
   "metadata": {},
   "outputs": [],
   "source": []
  },
  {
   "cell_type": "markdown",
   "id": "a42a4660-2636-4c68-a3a5-2971fe5c6d98",
   "metadata": {},
   "source": [
    "---\n",
    "\n",
    "## Important\n",
    "\n",
    "so this says you get the original group back"
   ]
  },
  {
   "cell_type": "code",
   "execution_count": 392,
   "id": "d50032ca-8ee8-4088-a8a7-effa149b04c0",
   "metadata": {},
   "outputs": [
    {
     "name": "stdout",
     "output_type": "stream",
     "text": [
      "[17  3 -1] [21 -1  3]\n",
      "-3.0\n",
      "[21 -1  3] [-1. 21. 17.]\n",
      "-21.0\n",
      "[-1. 21. 17.] [17  3 -1]\n",
      "-17.0\n"
     ]
    }
   ],
   "source": [
    "L = v, gx@v, gy@v, v\n",
    "for x,y in zip(L,L[1:]):\n",
    "    print(x,y)\n",
    "    cosh = ip(x,y)/np.sqrt(Q(x) * Q(y) )\n",
    "    print(cosh)"
   ]
  },
  {
   "cell_type": "markdown",
   "id": "13817303-53bb-4839-89c3-3cf4b2e10f5f",
   "metadata": {},
   "source": [
    "# so this is important!\n",
    "\n",
    "the root vector is invariant under the \"commutator\"\n",
    "it's actually represented as a cycle in Doan's figure above"
   ]
  },
  {
   "cell_type": "code",
   "execution_count": 359,
   "id": "05904df8-ad54-44ca-b944-8396bd8b3de6",
   "metadata": {},
   "outputs": [
    {
     "data": {
      "text/plain": [
       "array([17.,  3., -1.])"
      ]
     },
     "execution_count": 359,
     "metadata": {},
     "output_type": "execute_result"
    }
   ],
   "source": [
    "gy@gz@gx@v"
   ]
  },
  {
   "cell_type": "code",
   "execution_count": 373,
   "id": "22931c7c-7834-4a30-836a-ab3daa12e4a6",
   "metadata": {},
   "outputs": [
    {
     "data": {
      "text/plain": [
       "-3.5000000000000147"
      ]
     },
     "execution_count": 373,
     "metadata": {},
     "output_type": "execute_result"
    }
   ],
   "source": [
    "loxo = gy@gz@gx\n",
    "# find the eigenvectors on the light cone\n",
    "fs,fu  = [_ for _ in np.linalg.eig(loxo)[1].T if abs(Q(_)) < .00001]\n",
    "# randomly pick points in the plane\n",
    "a, b = fs + fu, fs - fu\n",
    "nn = np.cross(fs,fu)\n",
    "# find which one is on the axis of loxo in the plane\n",
    "pt = [_ for _ in [a,b] if Q(_) < 0][0]\n",
    "# calculate the translation length\n",
    "ip(loxo@pt,pt)/np.sqrt(Q(pt) * Q(loxo@pt) )"
   ]
  },
  {
   "cell_type": "code",
   "execution_count": 11,
   "id": "ab091d6d-608d-4753-82ba-39d30d2cfb51",
   "metadata": {},
   "outputs": [
    {
     "data": {
      "text/plain": [
       "(array([[0, 0, 0],\n",
       "        [0, 0, 0],\n",
       "        [0, 0, 0]]),\n",
       " array([[0., 0., 0.],\n",
       "        [0., 0., 0.],\n",
       "        [0., 0., 0.]]),\n",
       " array([[0, 0, 0],\n",
       "        [0, 0, 0],\n",
       "        [0, 0, 0]]))"
      ]
     },
     "execution_count": 11,
     "metadata": {},
     "output_type": "execute_result"
    }
   ],
   "source": [
    "gx.T@QM@gx - QM, gy.T@QM@gy - QM, gz.T@QM@gz - QM"
   ]
  },
  {
   "cell_type": "markdown",
   "id": "9ab996d5-a1f1-4b92-8cde-ec3e6df42abc",
   "metadata": {},
   "source": [
    "## fixed points of the elliptics\n",
    "\n",
    "- gx,gy,gz are diagonalisable\n",
    "- 1 is an eigenvalue, the  eigenvector v satisfies Q(v) < 0 \n",
    "- -1 is an eigenvalue of multiplicity 2 eigenvectors v satisfy Q(v) > 0\n"
   ]
  },
  {
   "cell_type": "code",
   "execution_count": 321,
   "id": "f4b5ee25-7811-4894-8657-1a249323d0a4",
   "metadata": {},
   "outputs": [],
   "source": [
    "fp_x = [19,1,1]\n",
    "fp_y = [1,1.5,1]\n",
    "fp_z = [1,1,1]"
   ]
  },
  {
   "cell_type": "markdown",
   "id": "bf708b8c-f867-4a97-b96f-786216605d5c",
   "metadata": {},
   "source": [
    "## calculate \n",
    "\n",
    "the distances between the fixed points"
   ]
  },
  {
   "cell_type": "code",
   "execution_count": 322,
   "id": "c3be171d-90aa-47b2-8794-326614ed08d7",
   "metadata": {},
   "outputs": [
    {
     "name": "stdout",
     "output_type": "stream",
     "text": [
      "[19, 1, 1] [1, 1.5, 1]\n",
      "23.999999999999996\n",
      "[1, 1.5, 1] [1, 1, 1]\n",
      "1.5000000000000004\n",
      "[1, 1, 1] [19, 1, 1]\n",
      "18.999999999999996\n"
     ]
    }
   ],
   "source": [
    "L = [fp_x, fp_y, fp_z, fp_x]\n",
    "\n",
    "traces = [ 2*ip(x,y)/np.sqrt(Q(x) * Q(y) ) for x,y in zip(L,L[1:]) ]\n",
    "for x,y in zip(L,L[1:]):\n",
    "    print(x,y)\n",
    "    cosh = ip(x,y)/np.sqrt(Q(x) * Q(y) )\n",
    "    print( 2*cosh**2 - 1 )"
   ]
  },
  {
   "cell_type": "markdown",
   "id": "74fca7f3-8640-4f6d-99ba-7a581a7241e1",
   "metadata": {},
   "source": [
    "### consistent with the commutator calculation below"
   ]
  },
  {
   "cell_type": "code",
   "execution_count": 386,
   "id": "ee7460ba-ce6f-4d89-8f4d-6ad73c440970",
   "metadata": {},
   "outputs": [
    {
     "data": {
      "text/plain": [
       "[47.99999999999999, 3.000000000000001, 37.99999999999999]"
      ]
     },
     "execution_count": 386,
     "metadata": {},
     "output_type": "execute_result"
    }
   ],
   "source": [
    "x, y, z = traces\n",
    "[_**2 - 2 for _ in traces]"
   ]
  },
  {
   "cell_type": "code",
   "execution_count": null,
   "id": "a23904f8-ff33-4316-8b08-5a9487ca25f0",
   "metadata": {},
   "outputs": [],
   "source": []
  },
  {
   "cell_type": "markdown",
   "id": "13147e28-40fc-460b-bf6f-e3fcec47f618",
   "metadata": {},
   "source": [
    "**there is a problem with the signs**\n",
    "so it's $+xyz$ and not $-xyz$"
   ]
  },
  {
   "cell_type": "code",
   "execution_count": 345,
   "id": "b5df3a9e-54bb-40c3-acfe-21f9930b83c2",
   "metadata": {},
   "outputs": [
    {
     "data": {
      "text/plain": [
       "-5.0"
      ]
     },
     "execution_count": 345,
     "metadata": {},
     "output_type": "execute_result"
    }
   ],
   "source": [
    "x**2 + y**2 + z**2 +  x*y*z"
   ]
  },
  {
   "cell_type": "markdown",
   "id": "891899d2-44a3-4b11-9c52-06e3ebe91e5c",
   "metadata": {},
   "source": [
    "## this is all we really need \n",
    "\n",
    "to calculate to determine what the group is SO(2,1) = SL(2,R)\n"
   ]
  },
  {
   "cell_type": "code",
   "execution_count": 348,
   "id": "d6bd3deb-7533-42fb-bca7-cb9845650dd5",
   "metadata": {},
   "outputs": [
    {
     "data": {
      "text/plain": [
       "[-24.0, -19.0, -1.5]"
      ]
     },
     "execution_count": 348,
     "metadata": {},
     "output_type": "execute_result"
    }
   ],
   "source": [
    "loxos = [gx@gy, gx@gz, gy@gz]\n",
    "pts = [fp_y,fp_z,fp_z]\n",
    "\n",
    "\n",
    "[ip(pt,(loxo)@pt)/np.sqrt(Q(pt) * Q((loxo)@pt))\n",
    "for loxo, pt in zip(loxos,pts)]\n",
    "    \n",
    "\n",
    "#5**2 - 1\n"
   ]
  },
  {
   "cell_type": "markdown",
   "id": "1534cf5d-8e4f-4745-9c88-f07cdd767b3a",
   "metadata": {},
   "source": [
    "---\n",
    "## looking for elliptics\n",
    "\n",
    "- gx,gy,gz are diagonalisable\n",
    "- 1 is an eigenvalue eigenvector v satisfies Q(v) < 0 \n",
    "- -1 is an eigenvalue of multiplicity 2 eigenvectors v satisfy Q(v) > 0\n",
    "\n",
    "\n",
    "This is the **holed torus case**\n",
    "it would be interesting to know \n",
    "\n",
    "- if in the 3 holed sphere case the corresponding involutions were reflections\n",
    "- if the group we get from these elliptics is a holed torus group too\n",
    "\n",
    "$$(u,v)_Q = \\frac12(Q(u+v) - Q(u-v))$$\n",
    "\n",
    "is an inner product if $Q$ is a quadratic form\n",
    "one should be able to compute the lengths \n",
    "of the boundary geodesics from this.\n",
    "\n"
   ]
  },
  {
   "cell_type": "code",
   "execution_count": 12,
   "id": "d2a7c154-ae16-4bb2-9769-7cb22e4f9a94",
   "metadata": {},
   "outputs": [
    {
     "data": {
      "text/plain": [
       "array([-1.,  1., -1.])"
      ]
     },
     "execution_count": 12,
     "metadata": {},
     "output_type": "execute_result"
    }
   ],
   "source": [
    "eigenvalues, vectors = np.linalg.eig(gx)\n",
    "eigenvalues"
   ]
  },
  {
   "cell_type": "code",
   "execution_count": 13,
   "id": "e6ea721e-e079-41b7-9d8b-461856569865",
   "metadata": {},
   "outputs": [
    {
     "data": {
      "text/plain": [
       "array([[ 1.        ,  0.99724137,  0.        ],\n",
       "       [ 0.        ,  0.05248639, -0.70710678],\n",
       "       [ 0.        ,  0.05248639,  0.70710678]])"
      ]
     },
     "execution_count": 13,
     "metadata": {},
     "output_type": "execute_result"
    }
   ],
   "source": [
    "vectors"
   ]
  },
  {
   "cell_type": "code",
   "execution_count": 14,
   "id": "28df7cd6-b1cc-443e-9415-7ed2370ecb2b",
   "metadata": {},
   "outputs": [
    {
     "data": {
      "text/plain": [
       "(array([19.,  1.,  1.]), -360.0)"
      ]
     },
     "execution_count": 14,
     "metadata": {},
     "output_type": "execute_result"
    }
   ],
   "source": [
    "gx_fp = vectors.T[1]\n",
    "gx_fp = gx_fp/gx_fp[1]\n",
    "gx_fp, Q(gx_fp)"
   ]
  },
  {
   "cell_type": "code",
   "execution_count": 15,
   "id": "1846e4e9-5205-485a-a6bf-bf42f2e206ec",
   "metadata": {},
   "outputs": [
    {
     "data": {
      "text/plain": [
       "[1.0, -0.9917355371900829, 90.49999999999997]"
      ]
     },
     "execution_count": 15,
     "metadata": {},
     "output_type": "execute_result"
    }
   ],
   "source": [
    "[Q(v) for v in vectors.T]"
   ]
  },
  {
   "cell_type": "code",
   "execution_count": 22,
   "id": "3f86a842-df88-416c-85e8-9ab77b5d5c71",
   "metadata": {},
   "outputs": [
    {
     "data": {
      "text/plain": [
       "array([1. , 1.5, 1. ])"
      ]
     },
     "execution_count": 22,
     "metadata": {},
     "output_type": "execute_result"
    }
   ],
   "source": [
    "eigenvalues, vectors = np.linalg.eig(gy)\n",
    "eigenvalues\n",
    "gy_fp = vectors.T[1]/vectors[0,1]\n",
    "gy_fp"
   ]
  },
  {
   "cell_type": "code",
   "execution_count": 34,
   "id": "9473624d-90f8-4638-adfb-7cfb9555f70c",
   "metadata": {},
   "outputs": [
    {
     "data": {
      "text/plain": [
       "-36.0"
      ]
     },
     "execution_count": 34,
     "metadata": {},
     "output_type": "execute_result"
    }
   ],
   "source": [
    "eigenvalues, vectors = np.linalg.eig(gz)\n",
    "eigenvalues\n",
    "[Q(v) for v in vectors.T]\n",
    "gz_fp = vectors.T[1]/vectors[0,1]\n",
    "Q(gz_fp)"
   ]
  },
  {
   "cell_type": "code",
   "execution_count": 274,
   "id": "4ae81aaa-dfc5-4645-9fee-da282f50a2b0",
   "metadata": {},
   "outputs": [
    {
     "data": {
      "text/plain": [
       "array([4.79791576e+01, 2.08423834e-02, 1.00000000e+00])"
      ]
     },
     "execution_count": 274,
     "metadata": {},
     "output_type": "execute_result"
    }
   ],
   "source": [
    "eigenvalues, ev_gxgy = np.linalg.eig(gx@gy)\n",
    "eigenvalues"
   ]
  },
  {
   "cell_type": "code",
   "execution_count": 275,
   "id": "de5c5061-7745-4c56-8fe9-58dd7fe76fc6",
   "metadata": {},
   "outputs": [
    {
     "data": {
      "text/plain": [
       "[-1.6653345369377348e-16, -7.105427357601002e-15, 61.333333333333314]"
      ]
     },
     "execution_count": 275,
     "metadata": {},
     "output_type": "execute_result"
    }
   ],
   "source": [
    "[Q(v) for v in ev_gxgy.T]"
   ]
  },
  {
   "cell_type": "code",
   "execution_count": 271,
   "id": "aa785a91-6f45-4da7-ae4d-76030207550a",
   "metadata": {},
   "outputs": [
    {
     "data": {
      "text/plain": [
       "(61.333333333333314, array([ 1.,  1., -1.]))"
      ]
     },
     "execution_count": 271,
     "metadata": {},
     "output_type": "execute_result"
    }
   ],
   "source": [
    "Q(ev_gxgy[:,2]),ev_gxgy[:,2]/ev_gxgy[0,2]"
   ]
  },
  {
   "cell_type": "markdown",
   "id": "4b1f5057-7d7a-46d8-a484-c68c2df998ec",
   "metadata": {},
   "source": [
    "---\n",
    "\n",
    "# boundary geodesic on the quotient orbifold\n",
    "\n",
    "- this element is a loop round the boundary gx@gy@gz\n",
    "\n",
    "and we should be able to calculate it's trace using the inner product\n",
    "\n",
    "like this\n",
    "\n",
    "```ip(a,comm1@a)/np.sqrt(Q(a)*Q(comm1@a))```\n",
    "\n",
    "= -3.5"
   ]
  },
  {
   "cell_type": "code",
   "execution_count": 86,
   "id": "176ff595-3ca2-4067-b80b-f62ec57b5c21",
   "metadata": {},
   "outputs": [
    {
     "data": {
      "text/plain": [
       "array([-0.98313538, -0.17349448,  0.05783149])"
      ]
     },
     "execution_count": 86,
     "metadata": {},
     "output_type": "execute_result"
    }
   ],
   "source": [
    "comm = gx@gz@gy\n",
    "ev_comm = np.linalg.eig(comm)\n",
    "\n",
    "[Q(v) for v in ev_comm[1].T]\n",
    "ev_comm[1].T[2]"
   ]
  },
  {
   "cell_type": "code",
   "execution_count": 85,
   "id": "7140febe-e2ce-4c58-a7c2-5c19b9291402",
   "metadata": {},
   "outputs": [
    {
     "data": {
      "text/plain": [
       "array([[ 0.99797978,  0.91654766, -0.98313538],\n",
       "       [ 0.06353239,  0.39992549, -0.17349448],\n",
       "       [ 0.        ,  0.        ,  0.05783149]])"
      ]
     },
     "execution_count": 85,
     "metadata": {},
     "output_type": "execute_result"
    }
   ],
   "source": [
    "ev_comm[1]"
   ]
  },
  {
   "cell_type": "code",
   "execution_count": 146,
   "id": "05745fd4-548b-4b84-b4fd-70bdfe039d1a",
   "metadata": {},
   "outputs": [
    {
     "name": "stdout",
     "output_type": "stream",
     "text": [
      "[6.85410197 0.14589803 1.        ]\n",
      "[0.14589803 6.85410197 1.        ]\n"
     ]
    }
   ],
   "source": [
    "comm1 = gx@gy@gz\n",
    "comm2 = gy@gx@gz\n",
    "\n",
    "for _ in [comm1,comm2]:\n",
    "    print(np.linalg.eig(_)[0])"
   ]
  },
  {
   "cell_type": "code",
   "execution_count": 367,
   "id": "76360dd8-b813-4532-8dfd-906c6f1d39fc",
   "metadata": {},
   "outputs": [
    {
     "data": {
      "text/plain": [
       "array([[  8.5,  75. , -27.5],\n",
       "       [  0. ,   1. ,   0. ],\n",
       "       [  0.5,   3. ,  -1.5]])"
      ]
     },
     "execution_count": 367,
     "metadata": {},
     "output_type": "execute_result"
    }
   ],
   "source": [
    "comm1"
   ]
  },
  {
   "cell_type": "markdown",
   "id": "91b93865-973d-496c-9fca-86dddb52f1ea",
   "metadata": {},
   "source": [
    "## These are the fixed points on the light cone"
   ]
  },
  {
   "cell_type": "code",
   "execution_count": 368,
   "id": "6d7dbac7-e455-4966-b28c-016e0a56ef94",
   "metadata": {},
   "outputs": [],
   "source": [
    "fp_s,fp_u = np.linalg.eig(comm1)[1].T[:2]"
   ]
  },
  {
   "cell_type": "markdown",
   "id": "2bbbaf4b-7f76-4537-9d9e-410e989a1f65",
   "metadata": {},
   "source": [
    "## calculate \n",
    "1. a point $a$ on the geodesic (plane they span)\n",
    "2. the normal vector to the plane (geodesic) they span"
   ]
  },
  {
   "cell_type": "code",
   "execution_count": 369,
   "id": "eab9bf87-7f9a-49d4-9d9f-9fed2ee0b189",
   "metadata": {},
   "outputs": [
    {
     "data": {
      "text/plain": [
       "(-3.125829202412346, 3.1258292024123473)"
      ]
     },
     "execution_count": 369,
     "metadata": {},
     "output_type": "execute_result"
    }
   ],
   "source": [
    "a,b = fp_s + fp_u, fp_s - fp_u\n",
    "normal = np.cross(a,b) # should be a multiple of (0,1,0)\n",
    "Q(a), Q(b)"
   ]
  },
  {
   "cell_type": "markdown",
   "id": "595ace0f-756d-49e3-a129-32f33aa619a8",
   "metadata": {},
   "source": [
    "### check both a and it's translate are on the geodesic"
   ]
  },
  {
   "cell_type": "code",
   "execution_count": 370,
   "id": "706f0ae8-92b3-41a5-9d8b-2815b7e8142c",
   "metadata": {},
   "outputs": [
    {
     "data": {
      "text/plain": [
       "(0.0, 0.0)"
      ]
     },
     "execution_count": 370,
     "metadata": {},
     "output_type": "execute_result"
    }
   ],
   "source": [
    "normal@a, normal@(comm1@a)"
   ]
  },
  {
   "cell_type": "code",
   "execution_count": null,
   "id": "4b9c9730-33ae-4385-8c25-ca0a9e2efa53",
   "metadata": {},
   "outputs": [],
   "source": [
    "## and this is the product"
   ]
  },
  {
   "cell_type": "code",
   "execution_count": 371,
   "id": "de00cdf8-ada5-45fb-9bdc-3ccca2723857",
   "metadata": {},
   "outputs": [
    {
     "data": {
      "text/plain": [
       "-3.4999999999999982"
      ]
     },
     "execution_count": 371,
     "metadata": {},
     "output_type": "execute_result"
    }
   ],
   "source": [
    "ip(a,comm1@a)/np.sqrt(Q(a)*Q(comm1@a))"
   ]
  },
  {
   "cell_type": "code",
   "execution_count": 303,
   "id": "c353857e-9046-4813-b5f7-25b9b0bd03e3",
   "metadata": {},
   "outputs": [
    {
     "data": {
      "text/plain": [
       "7.0"
      ]
     },
     "execution_count": 303,
     "metadata": {},
     "output_type": "execute_result"
    }
   ],
   "source": [
    "(2*3.5)"
   ]
  },
  {
   "cell_type": "markdown",
   "id": "238721b4-3353-40dd-a3b8-45f9970b9ed8",
   "metadata": {},
   "source": [
    "---\n",
    "## check that gx_fp is on the axis of gx@gy\n",
    "\n",
    "- ev_gxgy[:,0] ev_gxgy[:,1] are on the light cone Q = 0\n",
    "- they span a plane whose intersection with the Q  = k < 0 is a geodesic\n",
    "- take their  cross product and  check that gx_fp and gy_fp are orthogonal to it"
   ]
  },
  {
   "cell_type": "code",
   "execution_count": 282,
   "id": "f2bd54c7-cedc-46fa-9cbb-f2460ddd57e4",
   "metadata": {},
   "outputs": [
    {
     "data": {
      "text/plain": [
       "[-1.6653345369377348e-16, -7.105427357601002e-15]"
      ]
     },
     "execution_count": 282,
     "metadata": {},
     "output_type": "execute_result"
    }
   ],
   "source": [
    "[Q(v) for v in ev_gxgy.T[:2] ]"
   ]
  },
  {
   "cell_type": "code",
   "execution_count": 278,
   "id": "4d79422e-72d8-4333-a5db-766c02ffa259",
   "metadata": {},
   "outputs": [
    {
     "data": {
      "text/plain": [
       "0.0"
      ]
     },
     "execution_count": 278,
     "metadata": {},
     "output_type": "execute_result"
    }
   ],
   "source": [
    "gx_fp @ np.cross(ev_gxgy[:,1],ev_gxgy[:,0])"
   ]
  },
  {
   "cell_type": "code",
   "execution_count": 283,
   "id": "d589f5fd-88f3-4239-bc2f-7ae8ab00d218",
   "metadata": {},
   "outputs": [
    {
     "data": {
      "text/plain": [
       "-1.1102230246251565e-16"
      ]
     },
     "execution_count": 283,
     "metadata": {},
     "output_type": "execute_result"
    }
   ],
   "source": [
    "gy_fp @ np.cross(ev_gxgy[:,1],ev_gxgy[:,0])"
   ]
  },
  {
   "cell_type": "code",
   "execution_count": 285,
   "id": "182de7aa-11ae-4961-89cc-0cba30cdb1c4",
   "metadata": {},
   "outputs": [
    {
     "data": {
      "text/plain": [
       "(-45.0, -360.0)"
      ]
     },
     "execution_count": 285,
     "metadata": {},
     "output_type": "execute_result"
    }
   ],
   "source": [
    "Q(gy_fp),Q(gx_fp)"
   ]
  },
  {
   "cell_type": "markdown",
   "id": "efcc4cb0-300f-40a7-8eff-2f062f7ba6b8",
   "metadata": {},
   "source": [
    "---"
   ]
  },
  {
   "cell_type": "markdown",
   "id": "0593c1b0-2c25-473e-8628-bfe5d8e18f30",
   "metadata": {},
   "source": [
    "##  calculation with the loxodromics\n",
    "\n",
    "gx@gy\n",
    "\n",
    "This is the same calculation that we did for the boundary holonomy"
   ]
  },
  {
   "cell_type": "code",
   "execution_count": 250,
   "id": "5c665faf-2fdb-4fa4-a0ca-b3e87fc6938a",
   "metadata": {},
   "outputs": [
    {
     "data": {
      "text/plain": [
       "-24.0"
      ]
     },
     "execution_count": 250,
     "metadata": {},
     "output_type": "execute_result"
    }
   ],
   "source": [
    "loxo = gx@gy\n",
    "# find the eigenvectors on the light cone\n",
    "fs,fu  = [_ for _ in np.linalg.eig(loxo)[1].T if abs(Q(_)) < .00001]\n",
    "# randomly pick points in the plane\n",
    "a, b = fs + fu, fs - fu\n",
    "nn = np.cross(fs,fu)\n",
    "# find which one is on the axis of loxo in the plane\n",
    "pt = [_ for _ in [a,b] if Q(_) < 0][0]\n",
    "pt = gy_fp #we could have done this\n",
    "# calculate the translation length\n",
    "ip(loxo@pt,pt)/np.sqrt(Q(pt) * Q(loxo@pt) )"
   ]
  },
  {
   "cell_type": "code",
   "execution_count": 261,
   "id": "5e47f839-1d02-4b47-aada-aeba95fbd8af",
   "metadata": {},
   "outputs": [
    {
     "data": {
      "text/plain": [
       "array([18.99999932,  0.99999996,  0.99999996])"
      ]
     },
     "execution_count": 261,
     "metadata": {},
     "output_type": "execute_result"
    }
   ],
   "source": [
    "np.linalg.eig(gx)[1].T[1]/0.05248639 "
   ]
  },
  {
   "cell_type": "code",
   "execution_count": 264,
   "id": "b40a3a4d-93ec-4312-a442-fb70c0bbb036",
   "metadata": {},
   "outputs": [
    {
     "data": {
      "text/plain": [
       "array([0, 0, 0])"
      ]
     },
     "execution_count": 264,
     "metadata": {},
     "output_type": "execute_result"
    }
   ],
   "source": [
    "gx@fp_x + fp_x"
   ]
  },
  {
   "cell_type": "markdown",
   "id": "47f31931-dbe8-42e1-9553-a4359b462ed4",
   "metadata": {},
   "source": [
    "---\n",
    "## eigenvectors\n",
    "\n",
    "- two eigenvectors on the light cone \n",
    "- one on the hyperboloid"
   ]
  },
  {
   "cell_type": "code",
   "execution_count": 335,
   "id": "7631f06e-7025-49e0-a34c-7000de1a48ad",
   "metadata": {},
   "outputs": [
    {
     "data": {
      "text/plain": [
       "1.000000000000004"
      ]
     },
     "execution_count": 335,
     "metadata": {},
     "output_type": "execute_result"
    }
   ],
   "source": [
    "A = np.array([2,1,1,1]).reshape(2,2)\n",
    "B = np.array([17,11,3,2]).reshape(2,2)\n",
    "\n"
   ]
  },
  {
   "cell_type": "code",
   "execution_count": 332,
   "id": "f139b1ce-4dfb-438c-8bb0-31e8328bd5a2",
   "metadata": {},
   "outputs": [
    {
     "data": {
      "text/plain": [
       "[(1, 17),\n",
       " (2, 33),\n",
       " (3, 47),\n",
       " (4, 59),\n",
       " (5, 69),\n",
       " (6, 77),\n",
       " (7, 83),\n",
       " (8, 87),\n",
       " (9, 89)]"
      ]
     },
     "execution_count": 332,
     "metadata": {},
     "output_type": "execute_result"
    }
   ],
   "source": [
    "[(t, t*(19-t)- 1 )for t in range(1,10)]"
   ]
  },
  {
   "cell_type": "markdown",
   "id": "5ec62dd3-8c9e-4fbf-895b-8e6239d79633",
   "metadata": {},
   "source": [
    "---\n",
    "\n",
    "# References \n",
    "\n",
    "thesis : https://orbilu.uni.lu/bitstream/10993/50710/1/thesis-merged.pdf\n",
    "\n",
    "orthotrees : https://arxiv.org/abs/2112.10694\n",
    "\n",
    "https://arxiv.org/pdf/2201.07743.pdf\n",
    "\n",
    "https://math.dartmouth.edu/~doyle/docs/heron/heron.txt\n",
    "\n",
    "http://myslu.stlawu.edu/~svanderv/sumsquares.pdf\n",
    "\n",
    "https://community.ams.org/journals/ecgd/2005-09-03/S1088-4173-05-00106-2/S1088-4173-05-00106-2.pdf\n",
    "\n",
    "counting https://arxiv.org/abs/0811.2236\n",
    "and also https://www.ams.org/journals/jams/2011-24-03/S0894-0347-2011-00691-7/S0894-0347-2011-00691-7.pdf\n",
    "\n",
    "video https://www.cantorsparadise.com/circle-and-sphere-packings-from-geometry-to-number-theory-with-alex-kontorovich-cffa785e7ceb\n",
    "\n",
    "\n",
    "more circle packings https://www.math.ucdavis.edu/~efuchs/LGCmain.pdf\n",
    "\n",
    "soddy descartes https://services.math.duke.edu/~elj31/talks/ApollonianCircleIntegersPackings_20220322.pdf\n",
    "\n",
    "soddy local -> global https://www.aimsciences.org/article/doi/10.3934/jmd.2019019\n",
    "\n",
    "\n",
    "strange : https://people.math.carleton.ca/~williams/papers/pdf/352.pdf\n",
    "\n",
    "\n",
    "\n"
   ]
  },
  {
   "cell_type": "code",
   "execution_count": null,
   "id": "c011a1ff-6274-44b1-b030-ce5b3f591e47",
   "metadata": {},
   "outputs": [],
   "source": []
  }
 ],
 "metadata": {
  "kernelspec": {
   "display_name": "Python 3 (ipykernel)",
   "language": "python",
   "name": "python3"
  },
  "language_info": {
   "codemirror_mode": {
    "name": "ipython",
    "version": 3
   },
   "file_extension": ".py",
   "mimetype": "text/x-python",
   "name": "python",
   "nbconvert_exporter": "python",
   "pygments_lexer": "ipython3",
   "version": "3.11.5"
  }
 },
 "nbformat": 4,
 "nbformat_minor": 5
}
